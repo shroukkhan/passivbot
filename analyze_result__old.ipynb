{
 "cells": [
  {
   "cell_type": "code",
   "execution_count": null,
   "metadata": {
    "pycharm": {
     "name": "#%%\n",
     "is_executing": true
    }
   },
   "outputs": [],
   "source": [
    "import glob\n",
    "import json\n",
    "\n",
    "import pandas as pd"
   ]
  },
  {
   "cell_type": "markdown",
   "metadata": {},
   "source": [
    "Now filter the dataframe"
   ]
  },
  {
   "cell_type": "code",
   "execution_count": null,
   "metadata": {
    "pycharm": {
     "name": "#%%\n"
    }
   },
   "outputs": [],
   "source": [
    "# allowed_symbols = [\"ETHUSDT\", \"XRPUSDT\", \"1000SHIBUSDT\", \"DOGEUSDT\", \"ADAUSDT\",\n",
    "#                    \"BNBUSDT\", \"MATICUSDT\", \"DOTUSDT\", \"SANDUSDT\", \"FTMUSDT\",\n",
    "#                    \"LTCUSDT\", \"LINKUSDT\", \"MANAUSDT\", \"ETCUSDT\", \"EOSUSDT\",\n",
    "#                    \"ATOMUSDT\", \"FILUSDT\", \"ICPUSDT\", \"ALICEUSDT\", \"LRCUSDT\",\n",
    "#                    \"BCHUSDT\", \"SUSHIUSDT\", \"XTZUSDT\", \"THETAUSDT\", \"CRVUSDT\",\n",
    "#                    \"ALGOUSDT\", \"CHZUSDT\", \"TRXUSDT\", \"VETUSDT\", \"CHRUSDT\",\n",
    "#                    \"ONEUSDT\", \"OMGUSDT\", \"XLMUSDT\", \"RUNEUSDT\", \"ENJUSDT\",\n",
    "#                    \"CELRUSDT\", \"SXPUSDT\", \"1INCHUSDT\", \"SRMUSDT\", \"COTIUSDT\",\n",
    "#                    \"ZECUSDT\", \"QTUMUSDT\", \"GRTUSDT\", \"DENTUSDT\", \"SFPUSDT\",\n",
    "#                    \"STORJUSDT\", \"IOTAUSDT\", \"HOTUSDT\", \"NEOUSDT\", \"COMPUSDT\",\n",
    "#                    \"LINAUSDT\", \"KAVAUSDT\", \"BATUSDT\", \"WAVESUSDT\", \"IOSTUSDT\",\n",
    "#                    \"ALPHAUSDT\", \"RLCUSDT\", \"HBARUSDT\", \"DODOUSDT\", \"XMRUSDT\",\n",
    "#                    \"SNXUSDT\", \"ANKRUSDT\", \"DASHUSDT\", \"REEFUSDT\", \"ZENUSDT\",\n",
    "#                    \"CVCUSDT\", \"RENUSDT\", \"ICXUSDT\", \"RSRUSDT\", \"SKLUSDT\",\n",
    "#                    \"NKNUSDT\", \"BELUSDT\", \"ONTUSDT\", \"OGNUSDT\", \"BLZUSDT\",\n",
    "#                    \"MTLUSDT\", \"CTKUSDT\", \"RVNUSDT\", \"LITUSDT\", \"MKRUSDT\",\n",
    "#                    \"OCEANUSDT\", \"ZILUSDT\", \"UNFIUSDT\", \"BANDUSDT\", \"YFIIUSDT\",\n",
    "#                    \"TOMOUSDT\", \"TRBUSDT\", \"KNCUSDT\", \"STMXUSDT\", \"ZRXUSDT\",\n",
    "#                    \"SCUSDT\", \"AKROUSDT\", \"XEMUSDT\", \"FLMUSDT\", \"BALUSDT\",\n",
    "#                    \"BTSUSDT\", \"DGBUSDT\", \"DEFIUSDT\"]\n",
    "\n",
    "allowed_symbols = [\n",
    "    #\"OMG\",\"DUSK\",\"GTC\"\n",
    "    # \"LRC\",\n",
    "    # \"--------------------------\",\n",
    "    # \"SNX\", \"RSR\",\n",
    "    # \"--------------------------\",\n",
    "    # \"CELO\", \"ROSE\", \"OCEAN\",\"SXP\",\"DENT\"\n",
    "    # \"SFP\",\"ENS\",\"DODO\",\"AKRO\",\"REEF\",\"NEO\",\n",
    "    # \"----------------------------------------\",\n",
    "    # \"1000XEC\",\"AKRO\",\"ALPHA\",\"ANKR\",\"BAKE\",\"BAND\",\"BEL\",\"BTS\",\"C98\",\"COMP\",\n",
    "    \"-----------------------------------\",\n",
    "    # \"DGB\",\"DOGO\",\"FLM\",\"FLOW\",\"HBAR\",\n",
    "    # \"-----------------------------------\",\n",
    "    # \"HOT\",\"ICX\",\"IOST\",\"IOTA\",\"KAVA\",\"KLAY\",\"LINA\",\"LIT\",\"MKR\",\"MTL\",\"NEO\",\"NKN\",\"OGN\",\"ONT\"\n",
    "    #\"QTUM\",\"REEF\",\"RLC\",\"RVN\",\"SC\",\"SFP\",\"STMX\",\"TOMO\",\"TRB\",\"UNFI\",\"WAVES\", \"ZIL\", \"ZRX\"\n",
    "    #\"COTI\"\n",
    "    #\"RUNE\",\"UNI\"\n",
    "    #\"BAT\", \"BAL\", \"SRM\", \"RUNE\",\n",
    "    #\"BAT\", \"BAL\", \"SRM\", \"RUNE\" , 'STORJ','UNI','FTM','FIL','LRC','CVC',\"CTK\",\"SKL\",\"SAND\",\"XEM\"\n",
    "   \"XRP\", \"ADA\", \"SOL\", \"TRX\", \"AXS\", \"LUNA\", \"SAND\", \"AVAX\", \"FTM\", \"ALGO\", \"NEAR\", \"GALA\", \"ENS\", \"WAVES\", \"KNC\", \"APE\", \"GMT\", \"DAR\",\n",
    "]\n",
    "allowed_symbols = [s + \"USDT\" for s in allowed_symbols]\n",
    "big_data['adgt_%'] = big_data['adgl_%'] + big_data['adgs_%']\n",
    "df = big_data[(big_data.s.isin(allowed_symbols))\n",
    "    #& (big_data['long'] == True)\n",
    "    #& (big_data['adgl_%'] > 0.04)\n",
    "    #& (big_data['short'] == True)\n",
    "    #& (big_data['adgt_%'] > 0.1)\n",
    "    #& (big_data['bnkrl_%'] > 95.0)\n",
    "    #& (big_data['bnkrs_%'] > 95.0)\n",
    "    #& (big_data['ebrs'] > .85)\n",
    "    #& (big_data['ebrl'] > .8)\n",
    "    #& (big_data['v'] == '5.5')\n",
    "\n",
    "    # & (big_data['tg_%'] > 10)\n",
    "    # & (big_data['ebr'] > .85)\n",
    "]\n",
    "#df['total_adg'] = big_data['adgl_%'] + big_data['adgs_%']\n",
    "df"
   ]
  },
  {
   "cell_type": "code",
   "execution_count": null,
   "metadata": {
    "pycharm": {
     "name": "#%%\n"
    }
   },
   "outputs": [],
   "source": [
    "df.drop_duplicates(\n",
    "    subset=['s', 'prod', 'tgl_%', 'tgs_%', 'adgl_%', 'adgs_%', 'adgt_%', 'bnkrl_%', 'bnkrs_%', 'ebrl', 'ebrs', 'long',\n",
    "            'short'], keep='first',\n",
    "    inplace=True)\n",
    "dx = df[['file', 'prod', 's', 'adgt_%', 'adgl_%', 'adgs_%', 'bnkrl_%', 'bnkrs_%', 'ebrl', 'ebrs', 'maxsl', 'pamaxl','pastdl',\n",
    "         'maxss', 'pamaxs','pastds' ]]\n",
    "dx"
   ]
  },
  {
   "cell_type": "code",
   "execution_count": null,
   "metadata": {
    "pycharm": {
     "name": "#%%\n"
    }
   },
   "outputs": [],
   "source": [
    "dl_proposed = dx[\n",
    "    #(dx['lm'] == 'n') &\n",
    "    (dx['bnkrl_%'] == 100) &\n",
    "    (dx['ebrl'] > 0.7) &\n",
    "     (dx['adgl_%'] > 0.04) &\n",
    "    #(dx['pastdl'] < 0.1) &\n",
    "    (dx['maxsl'] < 20)\n",
    "    ]\n",
    "dl_proposed = dl_proposed[['file','s','adgl_%', 'bnkrl_%', 'ebrl',  'maxsl', 'pamaxl','pastdl' ]]\n",
    "dl_proposed"
   ]
  },
  {
   "cell_type": "code",
   "execution_count": null,
   "outputs": [],
   "source": [
    "ds_proposed = dx[\n",
    "    #(dx['lm'] == 'n') &\n",
    "    (dx['bnkrs_%'] == 100) &\n",
    "    (dx['ebrs'] > 0.7) &\n",
    "     (dx['adgs_%'] > 0.04) &\n",
    "    #(dx['pastdl'] < 0.1) &\n",
    "    (dx['maxss'] < 20)\n",
    "    ]\n",
    "ds_proposed = ds_proposed[['file','s','adgs_%', 'bnkrs_%', 'ebrs',  'maxss', 'pamaxs','pastds' ]]\n",
    "ds_proposed"
   ],
   "metadata": {
    "collapsed": false,
    "pycharm": {
     "name": "#%%\n"
    }
   }
  },
  {
   "cell_type": "code",
   "execution_count": null,
   "outputs": [],
   "source": [],
   "metadata": {
    "collapsed": false,
    "pycharm": {
     "name": "#%%\n"
    }
   }
  }
 ],
 "metadata": {
  "kernelspec": {
   "display_name": "PyCharm (passivbot)",
   "language": "python",
   "name": "pycharm-997905a8"
  },
  "language_info": {
   "codemirror_mode": {
    "name": "ipython",
    "version": 3
   },
   "file_extension": ".py",
   "mimetype": "text/x-python",
   "name": "python",
   "nbconvert_exporter": "python",
   "pygments_lexer": "ipython3",
   "version": "3.8.12"
  }
 },
 "nbformat": 4,
 "nbformat_minor": 1
}
