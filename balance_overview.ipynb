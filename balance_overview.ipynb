{
 "cells": [
  {
   "cell_type": "code",
   "execution_count": 2,
   "outputs": [],
   "source": [
    "%load_ext autoreload\n",
    "%autoreload 2"
   ],
   "metadata": {
    "collapsed": false,
    "pycharm": {
     "name": "#%%\n"
    }
   }
  },
  {
   "cell_type": "code",
   "execution_count": 3,
   "metadata": {},
   "outputs": [
    {
     "name": "stdout",
     "output_type": "stream",
     "text": [
      "using numba\n"
     ]
    }
   ],
   "source": [
    "from time import time\n",
    "\n",
    "import matplotlib.pyplot as plt\n",
    "import pandas as pd\n",
    "\n",
    "from njit_funcs import round_dynamic\n",
    "from procedures import create_binance_bot, create_binance_bot_spot, create_bybit_bot, load_exchange_key_secret\n",
    "from pure_funcs import get_template_live_config, get_daily_from_income"
   ]
  },
  {
   "cell_type": "code",
   "execution_count": 6,
   "metadata": {},
   "outputs": [],
   "source": [
    "plt.rcParams['figure.figsize'] = [21, 13]\n",
    "pd.set_option('precision', 10)"
   ]
  },
  {
   "cell_type": "code",
   "execution_count": 7,
   "metadata": {},
   "outputs": [
    {
     "ename": "CancelledError",
     "evalue": "",
     "output_type": "error",
     "traceback": [
      "\u001B[1;31m---------------------------------------------------------------------------\u001B[0m",
      "\u001B[1;31mCancelledError\u001B[0m                            Traceback (most recent call last)",
      "\u001B[1;32m~\\AppData\\Local\\Temp/ipykernel_281880/2818150312.py\u001B[0m in \u001B[0;36m<module>\u001B[1;34m\u001B[0m\n\u001B[0;32m     23\u001B[0m             \u001B[0mbot\u001B[0m \u001B[1;33m=\u001B[0m \u001B[1;32mawait\u001B[0m \u001B[0mcreate_binance_bot_spot\u001B[0m\u001B[1;33m(\u001B[0m\u001B[0mconfig\u001B[0m\u001B[1;33m)\u001B[0m\u001B[1;33m\u001B[0m\u001B[1;33m\u001B[0m\u001B[0m\n\u001B[0;32m     24\u001B[0m         \u001B[1;32melse\u001B[0m\u001B[1;33m:\u001B[0m\u001B[1;33m\u001B[0m\u001B[1;33m\u001B[0m\u001B[0m\n\u001B[1;32m---> 25\u001B[1;33m             \u001B[0mbot\u001B[0m \u001B[1;33m=\u001B[0m \u001B[1;32mawait\u001B[0m \u001B[0mcreate_binance_bot\u001B[0m\u001B[1;33m(\u001B[0m\u001B[0mconfig\u001B[0m\u001B[1;33m)\u001B[0m\u001B[1;33m\u001B[0m\u001B[1;33m\u001B[0m\u001B[0m\n\u001B[0m\u001B[0;32m     26\u001B[0m     \u001B[1;32melif\u001B[0m \u001B[0mconfig\u001B[0m\u001B[1;33m[\u001B[0m\u001B[1;34m'exchange'\u001B[0m\u001B[1;33m]\u001B[0m \u001B[1;33m==\u001B[0m \u001B[1;34m'bybit'\u001B[0m\u001B[1;33m:\u001B[0m\u001B[1;33m\u001B[0m\u001B[1;33m\u001B[0m\u001B[0m\n\u001B[0;32m     27\u001B[0m         \u001B[0mbot\u001B[0m \u001B[1;33m=\u001B[0m \u001B[1;32mawait\u001B[0m \u001B[0mcreate_bybit_bot\u001B[0m\u001B[1;33m(\u001B[0m\u001B[0mconfig\u001B[0m\u001B[1;33m)\u001B[0m\u001B[1;33m\u001B[0m\u001B[1;33m\u001B[0m\u001B[0m\n",
      "\u001B[1;32mC:\\AgodaGit\\passivbot\\procedures.py\u001B[0m in \u001B[0;36mcreate_binance_bot\u001B[1;34m(config)\u001B[0m\n\u001B[0;32m    188\u001B[0m     \u001B[1;32mfrom\u001B[0m \u001B[0mbinance\u001B[0m \u001B[1;32mimport\u001B[0m \u001B[0mBinanceBot\u001B[0m\u001B[1;33m\u001B[0m\u001B[1;33m\u001B[0m\u001B[0m\n\u001B[0;32m    189\u001B[0m     \u001B[0mbot\u001B[0m \u001B[1;33m=\u001B[0m \u001B[0mBinanceBot\u001B[0m\u001B[1;33m(\u001B[0m\u001B[0mconfig\u001B[0m\u001B[1;33m)\u001B[0m\u001B[1;33m\u001B[0m\u001B[1;33m\u001B[0m\u001B[0m\n\u001B[1;32m--> 190\u001B[1;33m     \u001B[1;32mawait\u001B[0m \u001B[0mbot\u001B[0m\u001B[1;33m.\u001B[0m\u001B[0m_init\u001B[0m\u001B[1;33m(\u001B[0m\u001B[1;33m)\u001B[0m\u001B[1;33m\u001B[0m\u001B[1;33m\u001B[0m\u001B[0m\n\u001B[0m\u001B[0;32m    191\u001B[0m     \u001B[1;32mreturn\u001B[0m \u001B[0mbot\u001B[0m\u001B[1;33m\u001B[0m\u001B[1;33m\u001B[0m\u001B[0m\n\u001B[0;32m    192\u001B[0m \u001B[1;33m\u001B[0m\u001B[0m\n",
      "\u001B[1;32mC:\\AgodaGit\\passivbot\\binance.py\u001B[0m in \u001B[0;36m_init\u001B[1;34m(self)\u001B[0m\n\u001B[0;32m    135\u001B[0m \u001B[1;33m\u001B[0m\u001B[0m\n\u001B[0;32m    136\u001B[0m     \u001B[1;32masync\u001B[0m \u001B[1;32mdef\u001B[0m \u001B[0m_init\u001B[0m\u001B[1;33m(\u001B[0m\u001B[0mself\u001B[0m\u001B[1;33m)\u001B[0m\u001B[1;33m:\u001B[0m\u001B[1;33m\u001B[0m\u001B[1;33m\u001B[0m\u001B[0m\n\u001B[1;32m--> 137\u001B[1;33m         \u001B[1;32mawait\u001B[0m \u001B[0mself\u001B[0m\u001B[1;33m.\u001B[0m\u001B[0minit_market_type\u001B[0m\u001B[1;33m(\u001B[0m\u001B[1;33m)\u001B[0m\u001B[1;33m\u001B[0m\u001B[1;33m\u001B[0m\u001B[0m\n\u001B[0m\u001B[0;32m    138\u001B[0m         \u001B[1;32mfor\u001B[0m \u001B[0me\u001B[0m \u001B[1;32min\u001B[0m \u001B[0mself\u001B[0m\u001B[1;33m.\u001B[0m\u001B[0mexchange_info\u001B[0m\u001B[1;33m[\u001B[0m\u001B[1;34m'symbols'\u001B[0m\u001B[1;33m]\u001B[0m\u001B[1;33m:\u001B[0m\u001B[1;33m\u001B[0m\u001B[1;33m\u001B[0m\u001B[0m\n\u001B[0;32m    139\u001B[0m             \u001B[1;32mif\u001B[0m \u001B[0me\u001B[0m\u001B[1;33m[\u001B[0m\u001B[1;34m'symbol'\u001B[0m\u001B[1;33m]\u001B[0m \u001B[1;33m==\u001B[0m \u001B[0mself\u001B[0m\u001B[1;33m.\u001B[0m\u001B[0msymbol\u001B[0m\u001B[1;33m:\u001B[0m\u001B[1;33m\u001B[0m\u001B[1;33m\u001B[0m\u001B[0m\n",
      "\u001B[1;32mC:\\AgodaGit\\passivbot\\binance.py\u001B[0m in \u001B[0;36minit_market_type\u001B[1;34m(self)\u001B[0m\n\u001B[0;32m     71\u001B[0m         \u001B[0mfapi_endpoint\u001B[0m \u001B[1;33m=\u001B[0m \u001B[1;34m'https://fapi.binance.com'\u001B[0m\u001B[1;33m\u001B[0m\u001B[1;33m\u001B[0m\u001B[0m\n\u001B[0;32m     72\u001B[0m         \u001B[0mdapi_endpoint\u001B[0m \u001B[1;33m=\u001B[0m \u001B[1;34m'https://dapi.binance.com'\u001B[0m\u001B[1;33m\u001B[0m\u001B[1;33m\u001B[0m\u001B[0m\n\u001B[1;32m---> 73\u001B[1;33m         \u001B[0mself\u001B[0m\u001B[1;33m.\u001B[0m\u001B[0mexchange_info\u001B[0m \u001B[1;33m=\u001B[0m \u001B[1;32mawait\u001B[0m \u001B[0mself\u001B[0m\u001B[1;33m.\u001B[0m\u001B[0mpublic_get\u001B[0m\u001B[1;33m(\u001B[0m\u001B[1;34m'/fapi/v1/exchangeInfo'\u001B[0m\u001B[1;33m,\u001B[0m \u001B[0mbase_endpoint\u001B[0m\u001B[1;33m=\u001B[0m\u001B[0mfapi_endpoint\u001B[0m\u001B[1;33m)\u001B[0m\u001B[1;33m\u001B[0m\u001B[1;33m\u001B[0m\u001B[0m\n\u001B[0m\u001B[0;32m     74\u001B[0m         \u001B[1;32mif\u001B[0m \u001B[0mself\u001B[0m\u001B[1;33m.\u001B[0m\u001B[0msymbol\u001B[0m \u001B[1;32min\u001B[0m \u001B[1;33m{\u001B[0m\u001B[0me\u001B[0m\u001B[1;33m[\u001B[0m\u001B[1;34m'symbol'\u001B[0m\u001B[1;33m]\u001B[0m \u001B[1;32mfor\u001B[0m \u001B[0me\u001B[0m \u001B[1;32min\u001B[0m \u001B[0mself\u001B[0m\u001B[1;33m.\u001B[0m\u001B[0mexchange_info\u001B[0m\u001B[1;33m[\u001B[0m\u001B[1;34m'symbols'\u001B[0m\u001B[1;33m]\u001B[0m\u001B[1;33m}\u001B[0m\u001B[1;33m:\u001B[0m\u001B[1;33m\u001B[0m\u001B[1;33m\u001B[0m\u001B[0m\n\u001B[0;32m     75\u001B[0m             \u001B[0mprint\u001B[0m\u001B[1;33m(\u001B[0m\u001B[1;34m'linear perpetual'\u001B[0m\u001B[1;33m)\u001B[0m\u001B[1;33m\u001B[0m\u001B[1;33m\u001B[0m\u001B[0m\n",
      "\u001B[1;32mC:\\AgodaGit\\passivbot\\binance.py\u001B[0m in \u001B[0;36mpublic_get\u001B[1;34m(self, url, params, base_endpoint)\u001B[0m\n\u001B[0;32m     26\u001B[0m     \u001B[1;32masync\u001B[0m \u001B[1;32mdef\u001B[0m \u001B[0mpublic_get\u001B[0m\u001B[1;33m(\u001B[0m\u001B[0mself\u001B[0m\u001B[1;33m,\u001B[0m \u001B[0murl\u001B[0m\u001B[1;33m:\u001B[0m \u001B[0mstr\u001B[0m\u001B[1;33m,\u001B[0m \u001B[0mparams\u001B[0m\u001B[1;33m:\u001B[0m \u001B[0mdict\u001B[0m \u001B[1;33m=\u001B[0m \u001B[1;33m{\u001B[0m\u001B[1;33m}\u001B[0m\u001B[1;33m,\u001B[0m \u001B[0mbase_endpoint\u001B[0m\u001B[1;33m=\u001B[0m\u001B[1;32mNone\u001B[0m\u001B[1;33m)\u001B[0m \u001B[1;33m->\u001B[0m \u001B[0mdict\u001B[0m\u001B[1;33m:\u001B[0m\u001B[1;33m\u001B[0m\u001B[1;33m\u001B[0m\u001B[0m\n\u001B[0;32m     27\u001B[0m         \u001B[1;32mtry\u001B[0m\u001B[1;33m:\u001B[0m\u001B[1;33m\u001B[0m\u001B[1;33m\u001B[0m\u001B[0m\n\u001B[1;32m---> 28\u001B[1;33m             \u001B[1;32masync\u001B[0m \u001B[1;32mwith\u001B[0m \u001B[0mself\u001B[0m\u001B[1;33m.\u001B[0m\u001B[0msession\u001B[0m\u001B[1;33m.\u001B[0m\u001B[0mget\u001B[0m\u001B[1;33m(\u001B[0m\u001B[1;33m(\u001B[0m\u001B[0mself\u001B[0m\u001B[1;33m.\u001B[0m\u001B[0mbase_endpoint\u001B[0m \u001B[1;32mif\u001B[0m \u001B[0mbase_endpoint\u001B[0m \u001B[1;32mis\u001B[0m \u001B[1;32mNone\u001B[0m \u001B[1;32melse\u001B[0m \u001B[0mbase_endpoint\u001B[0m\u001B[1;33m)\u001B[0m \u001B[1;33m+\u001B[0m \u001B[0murl\u001B[0m\u001B[1;33m,\u001B[0m \u001B[0mparams\u001B[0m\u001B[1;33m=\u001B[0m\u001B[0mparams\u001B[0m\u001B[1;33m)\u001B[0m \u001B[1;32mas\u001B[0m \u001B[0mresponse\u001B[0m\u001B[1;33m:\u001B[0m\u001B[1;33m\u001B[0m\u001B[1;33m\u001B[0m\u001B[0m\n\u001B[0m\u001B[0;32m     29\u001B[0m                 \u001B[0mresult\u001B[0m \u001B[1;33m=\u001B[0m \u001B[1;32mawait\u001B[0m \u001B[0mresponse\u001B[0m\u001B[1;33m.\u001B[0m\u001B[0mtext\u001B[0m\u001B[1;33m(\u001B[0m\u001B[1;33m)\u001B[0m\u001B[1;33m\u001B[0m\u001B[1;33m\u001B[0m\u001B[0m\n\u001B[0;32m     30\u001B[0m             \u001B[1;32mreturn\u001B[0m \u001B[0mjson\u001B[0m\u001B[1;33m.\u001B[0m\u001B[0mloads\u001B[0m\u001B[1;33m(\u001B[0m\u001B[0mresult\u001B[0m\u001B[1;33m)\u001B[0m\u001B[1;33m\u001B[0m\u001B[1;33m\u001B[0m\u001B[0m\n",
      "\u001B[1;32m~\\anaconda3\\envs\\passivbot\\lib\\site-packages\\aiohttp\\client.py\u001B[0m in \u001B[0;36m__aenter__\u001B[1;34m(self)\u001B[0m\n\u001B[0;32m   1115\u001B[0m \u001B[1;33m\u001B[0m\u001B[0m\n\u001B[0;32m   1116\u001B[0m     \u001B[1;32masync\u001B[0m \u001B[1;32mdef\u001B[0m \u001B[0m__aenter__\u001B[0m\u001B[1;33m(\u001B[0m\u001B[0mself\u001B[0m\u001B[1;33m)\u001B[0m \u001B[1;33m->\u001B[0m \u001B[0m_RetType\u001B[0m\u001B[1;33m:\u001B[0m\u001B[1;33m\u001B[0m\u001B[1;33m\u001B[0m\u001B[0m\n\u001B[1;32m-> 1117\u001B[1;33m         \u001B[0mself\u001B[0m\u001B[1;33m.\u001B[0m\u001B[0m_resp\u001B[0m \u001B[1;33m=\u001B[0m \u001B[1;32mawait\u001B[0m \u001B[0mself\u001B[0m\u001B[1;33m.\u001B[0m\u001B[0m_coro\u001B[0m\u001B[1;33m\u001B[0m\u001B[1;33m\u001B[0m\u001B[0m\n\u001B[0m\u001B[0;32m   1118\u001B[0m         \u001B[1;32mreturn\u001B[0m \u001B[0mself\u001B[0m\u001B[1;33m.\u001B[0m\u001B[0m_resp\u001B[0m\u001B[1;33m\u001B[0m\u001B[1;33m\u001B[0m\u001B[0m\n\u001B[0;32m   1119\u001B[0m \u001B[1;33m\u001B[0m\u001B[0m\n",
      "\u001B[1;32m~\\anaconda3\\envs\\passivbot\\lib\\site-packages\\aiohttp\\client.py\u001B[0m in \u001B[0;36m_request\u001B[1;34m(self, method, str_or_url, params, data, json, cookies, headers, skip_auto_headers, auth, allow_redirects, max_redirects, compress, chunked, expect100, raise_for_status, read_until_eof, proxy, proxy_auth, timeout, verify_ssl, fingerprint, ssl_context, ssl, proxy_headers, trace_request_ctx, read_bufsize)\u001B[0m\n\u001B[0;32m    518\u001B[0m                         \u001B[1;32mwith\u001B[0m \u001B[0mCeilTimeout\u001B[0m\u001B[1;33m(\u001B[0m\u001B[0mreal_timeout\u001B[0m\u001B[1;33m.\u001B[0m\u001B[0mconnect\u001B[0m\u001B[1;33m,\u001B[0m \u001B[0mloop\u001B[0m\u001B[1;33m=\u001B[0m\u001B[0mself\u001B[0m\u001B[1;33m.\u001B[0m\u001B[0m_loop\u001B[0m\u001B[1;33m)\u001B[0m\u001B[1;33m:\u001B[0m\u001B[1;33m\u001B[0m\u001B[1;33m\u001B[0m\u001B[0m\n\u001B[0;32m    519\u001B[0m                             \u001B[1;32massert\u001B[0m \u001B[0mself\u001B[0m\u001B[1;33m.\u001B[0m\u001B[0m_connector\u001B[0m \u001B[1;32mis\u001B[0m \u001B[1;32mnot\u001B[0m \u001B[1;32mNone\u001B[0m\u001B[1;33m\u001B[0m\u001B[1;33m\u001B[0m\u001B[0m\n\u001B[1;32m--> 520\u001B[1;33m                             conn = await self._connector.connect(\n\u001B[0m\u001B[0;32m    521\u001B[0m                                 \u001B[0mreq\u001B[0m\u001B[1;33m,\u001B[0m \u001B[0mtraces\u001B[0m\u001B[1;33m=\u001B[0m\u001B[0mtraces\u001B[0m\u001B[1;33m,\u001B[0m \u001B[0mtimeout\u001B[0m\u001B[1;33m=\u001B[0m\u001B[0mreal_timeout\u001B[0m\u001B[1;33m\u001B[0m\u001B[1;33m\u001B[0m\u001B[0m\n\u001B[0;32m    522\u001B[0m                             )\n",
      "\u001B[1;32m~\\anaconda3\\envs\\passivbot\\lib\\site-packages\\aiohttp\\connector.py\u001B[0m in \u001B[0;36mconnect\u001B[1;34m(self, req, traces, timeout)\u001B[0m\n\u001B[0;32m    533\u001B[0m \u001B[1;33m\u001B[0m\u001B[0m\n\u001B[0;32m    534\u001B[0m             \u001B[1;32mtry\u001B[0m\u001B[1;33m:\u001B[0m\u001B[1;33m\u001B[0m\u001B[1;33m\u001B[0m\u001B[0m\n\u001B[1;32m--> 535\u001B[1;33m                 \u001B[0mproto\u001B[0m \u001B[1;33m=\u001B[0m \u001B[1;32mawait\u001B[0m \u001B[0mself\u001B[0m\u001B[1;33m.\u001B[0m\u001B[0m_create_connection\u001B[0m\u001B[1;33m(\u001B[0m\u001B[0mreq\u001B[0m\u001B[1;33m,\u001B[0m \u001B[0mtraces\u001B[0m\u001B[1;33m,\u001B[0m \u001B[0mtimeout\u001B[0m\u001B[1;33m)\u001B[0m\u001B[1;33m\u001B[0m\u001B[1;33m\u001B[0m\u001B[0m\n\u001B[0m\u001B[0;32m    536\u001B[0m                 \u001B[1;32mif\u001B[0m \u001B[0mself\u001B[0m\u001B[1;33m.\u001B[0m\u001B[0m_closed\u001B[0m\u001B[1;33m:\u001B[0m\u001B[1;33m\u001B[0m\u001B[1;33m\u001B[0m\u001B[0m\n\u001B[0;32m    537\u001B[0m                     \u001B[0mproto\u001B[0m\u001B[1;33m.\u001B[0m\u001B[0mclose\u001B[0m\u001B[1;33m(\u001B[0m\u001B[1;33m)\u001B[0m\u001B[1;33m\u001B[0m\u001B[1;33m\u001B[0m\u001B[0m\n",
      "\u001B[1;32m~\\anaconda3\\envs\\passivbot\\lib\\site-packages\\aiohttp\\connector.py\u001B[0m in \u001B[0;36m_create_connection\u001B[1;34m(self, req, traces, timeout)\u001B[0m\n\u001B[0;32m    890\u001B[0m             \u001B[0m_\u001B[0m\u001B[1;33m,\u001B[0m \u001B[0mproto\u001B[0m \u001B[1;33m=\u001B[0m \u001B[1;32mawait\u001B[0m \u001B[0mself\u001B[0m\u001B[1;33m.\u001B[0m\u001B[0m_create_proxy_connection\u001B[0m\u001B[1;33m(\u001B[0m\u001B[0mreq\u001B[0m\u001B[1;33m,\u001B[0m \u001B[0mtraces\u001B[0m\u001B[1;33m,\u001B[0m \u001B[0mtimeout\u001B[0m\u001B[1;33m)\u001B[0m\u001B[1;33m\u001B[0m\u001B[1;33m\u001B[0m\u001B[0m\n\u001B[0;32m    891\u001B[0m         \u001B[1;32melse\u001B[0m\u001B[1;33m:\u001B[0m\u001B[1;33m\u001B[0m\u001B[1;33m\u001B[0m\u001B[0m\n\u001B[1;32m--> 892\u001B[1;33m             \u001B[0m_\u001B[0m\u001B[1;33m,\u001B[0m \u001B[0mproto\u001B[0m \u001B[1;33m=\u001B[0m \u001B[1;32mawait\u001B[0m \u001B[0mself\u001B[0m\u001B[1;33m.\u001B[0m\u001B[0m_create_direct_connection\u001B[0m\u001B[1;33m(\u001B[0m\u001B[0mreq\u001B[0m\u001B[1;33m,\u001B[0m \u001B[0mtraces\u001B[0m\u001B[1;33m,\u001B[0m \u001B[0mtimeout\u001B[0m\u001B[1;33m)\u001B[0m\u001B[1;33m\u001B[0m\u001B[1;33m\u001B[0m\u001B[0m\n\u001B[0m\u001B[0;32m    893\u001B[0m \u001B[1;33m\u001B[0m\u001B[0m\n\u001B[0;32m    894\u001B[0m         \u001B[1;32mreturn\u001B[0m \u001B[0mproto\u001B[0m\u001B[1;33m\u001B[0m\u001B[1;33m\u001B[0m\u001B[0m\n",
      "\u001B[1;32m~\\anaconda3\\envs\\passivbot\\lib\\site-packages\\aiohttp\\connector.py\u001B[0m in \u001B[0;36m_create_direct_connection\u001B[1;34m(self, req, traces, timeout, client_error)\u001B[0m\n\u001B[0;32m    997\u001B[0m             \u001B[1;31m#  or else the cancel event will get broadcast to all the waiters\u001B[0m\u001B[1;33m\u001B[0m\u001B[1;33m\u001B[0m\u001B[1;33m\u001B[0m\u001B[0m\n\u001B[0;32m    998\u001B[0m             \u001B[1;31m#  across all connections.\u001B[0m\u001B[1;33m\u001B[0m\u001B[1;33m\u001B[0m\u001B[1;33m\u001B[0m\u001B[0m\n\u001B[1;32m--> 999\u001B[1;33m             \u001B[0mhosts\u001B[0m \u001B[1;33m=\u001B[0m \u001B[1;32mawait\u001B[0m \u001B[0masyncio\u001B[0m\u001B[1;33m.\u001B[0m\u001B[0mshield\u001B[0m\u001B[1;33m(\u001B[0m\u001B[0mhost_resolved\u001B[0m\u001B[1;33m)\u001B[0m\u001B[1;33m\u001B[0m\u001B[1;33m\u001B[0m\u001B[0m\n\u001B[0m\u001B[0;32m   1000\u001B[0m         \u001B[1;32mexcept\u001B[0m \u001B[0masyncio\u001B[0m\u001B[1;33m.\u001B[0m\u001B[0mCancelledError\u001B[0m\u001B[1;33m:\u001B[0m\u001B[1;33m\u001B[0m\u001B[1;33m\u001B[0m\u001B[0m\n\u001B[0;32m   1001\u001B[0m \u001B[1;33m\u001B[0m\u001B[0m\n",
      "\u001B[1;31mCancelledError\u001B[0m: "
     ]
    }
   ],
   "source": [
    "config = get_template_live_config()\n",
    "config['market_type'] = 'futures'\n",
    "config['user'] = 'binance_01'\n",
    "config['exchange'], _, _ = load_exchange_key_secret(config['user'])\n",
    "\n",
    "n_days = 30\n",
    "start_time = (time() - 60 * 60 * 24 * n_days) * 1000\n",
    "end_time = time() * 1000\n",
    "\n",
    "symbols = ['XTZUSDT', 'ATOMUSDT', 'XLMUSDT', 'OMGUSDT', 'MANAUSDT', 'NEARUSDT', 'FTMUSDT', 'DOGEUSDT', 'LINKUSDT',\n",
    "           'LUNAUSDT', 'MATICUSDT']\n",
    "\n",
    "incomes = []\n",
    "# binance fetches income for all symbols; bybit only one symbol at a time\n",
    "for symbol in (symbols if config['exchange'] == 'bybit' else symbols[:1]):\n",
    "    config['symbol'] = symbol\n",
    "    try:\n",
    "        await bot.session.close()\n",
    "    except:\n",
    "        pass\n",
    "    if config['exchange'] == 'binance':\n",
    "        if config['market_type'] == 'spot':\n",
    "            bot = await create_binance_bot_spot(config)\n",
    "        else:\n",
    "            bot = await create_binance_bot(config)\n",
    "    elif config['exchange'] == 'bybit':\n",
    "        bot = await create_bybit_bot(config)\n",
    "\n",
    "    await bot.update_position()\n",
    "    balance = bot.position['wallet_balance']\n",
    "\n",
    "    income = await bot.get_all_income(start_time=start_time)\n",
    "    incomes += income\n",
    "idf, bdf = get_daily_from_income(sorted(incomes, key=lambda x: x['timestamp']), bot.position['wallet_balance'],\n",
    "                                 start_time=start_time, end_time=end_time)\n"
   ]
  },
  {
   "cell_type": "code",
   "execution_count": null,
   "metadata": {},
   "outputs": [],
   "source": [
    "print(f'current balance {round_dynamic(balance, 5)}')\n",
    "print(f'abs sum {round_dynamic(idf.income.sum(), 4)} {idf.iloc[-1][\"token\"]}')\n",
    "print(f'abs adg {round_dynamic(idf.income.sum() / n_days, 4)} {idf.iloc[-1][\"token\"]}')\n",
    "print(f'pct sum {((balance + idf.income.sum()) / balance) - 1:.5f}')\n",
    "print(f'pct adg {((balance + idf.income.sum()) / balance) ** (1 / n_days) - 1:.5f}')\n",
    "\n",
    "idf.income.cumsum().plot()"
   ]
  },
  {
   "cell_type": "code",
   "execution_count": null,
   "metadata": {},
   "outputs": [],
   "source": [
    "idf.tail(20)"
   ]
  },
  {
   "cell_type": "code",
   "execution_count": null,
   "metadata": {},
   "outputs": [],
   "source": [
    "bdf"
   ]
  },
  {
   "cell_type": "code",
   "execution_count": null,
   "metadata": {},
   "outputs": [],
   "source": [
    "bdf.gain.plot()"
   ]
  },
  {
   "cell_type": "code",
   "execution_count": null,
   "metadata": {},
   "outputs": [],
   "source": [
    "# check income last x days\n",
    "x = 3\n",
    "since = (time() - 60 * 60 * 24 * x) * 1000\n",
    "idf[idf.timestamp > since].groupby('symbol').income.sum().sort_values()"
   ]
  },
  {
   "cell_type": "code",
   "execution_count": null,
   "metadata": {},
   "outputs": [],
   "source": []
  },
  {
   "cell_type": "code",
   "execution_count": null,
   "metadata": {},
   "outputs": [],
   "source": []
  },
  {
   "cell_type": "code",
   "execution_count": null,
   "metadata": {},
   "outputs": [],
   "source": []
  },
  {
   "cell_type": "code",
   "execution_count": null,
   "metadata": {},
   "outputs": [],
   "source": []
  }
 ],
 "metadata": {
  "kernelspec": {
   "name": "pycharm-997905a8",
   "language": "python",
   "display_name": "PyCharm (passivbot)"
  },
  "language_info": {
   "codemirror_mode": {
    "name": "ipython",
    "version": 3
   },
   "file_extension": ".py",
   "mimetype": "text/x-python",
   "name": "python",
   "nbconvert_exporter": "python",
   "pygments_lexer": "ipython3",
   "version": "3.8.3"
  }
 },
 "nbformat": 4,
 "nbformat_minor": 4
}