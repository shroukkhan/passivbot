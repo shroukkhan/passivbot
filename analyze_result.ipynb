{
 "cells": [
  {
   "cell_type": "code",
   "execution_count": 24,
   "metadata": {},
   "outputs": [
    {
     "name": "stdout",
     "output_type": "stream",
     "text": [
      "The autoreload extension is already loaded. To reload it, use:\n",
      "  %reload_ext autoreload\n"
     ]
    }
   ],
   "source": [
    "import json\n",
    "%load_ext autoreload\n",
    "%autoreload 2"
   ]
  },
  {
   "cell_type": "code",
   "execution_count": 25,
   "metadata": {
    "pycharm": {
     "name": "#%%\n"
    }
   },
   "outputs": [],
   "source": [
    "import glob\n",
    "import json\n",
    "import pandas as pd"
   ]
  },
  {
   "cell_type": "code",
   "execution_count": 26,
   "metadata": {
    "pycharm": {
     "name": "#%%\n"
    }
   },
   "outputs": [
    {
     "name": "stderr",
     "output_type": "stream",
     "text": [
      "C:\\Users\\skhan\\AppData\\Local\\Temp/ipykernel_414864/2290462972.py:54: FutureWarning: The frame.append method is deprecated and will be removed from pandas in a future version. Use pandas.concat instead.\n",
      "  big_data = big_data.append(d, ignore_index=True)\n",
      "C:\\Users\\skhan\\AppData\\Local\\Temp/ipykernel_414864/2290462972.py:54: FutureWarning: The frame.append method is deprecated and will be removed from pandas in a future version. Use pandas.concat instead.\n",
      "  big_data = big_data.append(d, ignore_index=True)\n",
      "C:\\Users\\skhan\\AppData\\Local\\Temp/ipykernel_414864/2290462972.py:54: FutureWarning: The frame.append method is deprecated and will be removed from pandas in a future version. Use pandas.concat instead.\n",
      "  big_data = big_data.append(d, ignore_index=True)\n",
      "C:\\Users\\skhan\\AppData\\Local\\Temp/ipykernel_414864/2290462972.py:54: FutureWarning: The frame.append method is deprecated and will be removed from pandas in a future version. Use pandas.concat instead.\n",
      "  big_data = big_data.append(d, ignore_index=True)\n",
      "C:\\Users\\skhan\\AppData\\Local\\Temp/ipykernel_414864/2290462972.py:54: FutureWarning: The frame.append method is deprecated and will be removed from pandas in a future version. Use pandas.concat instead.\n",
      "  big_data = big_data.append(d, ignore_index=True)\n",
      "C:\\Users\\skhan\\AppData\\Local\\Temp/ipykernel_414864/2290462972.py:54: FutureWarning: The frame.append method is deprecated and will be removed from pandas in a future version. Use pandas.concat instead.\n",
      "  big_data = big_data.append(d, ignore_index=True)\n",
      "C:\\Users\\skhan\\AppData\\Local\\Temp/ipykernel_414864/2290462972.py:54: FutureWarning: The frame.append method is deprecated and will be removed from pandas in a future version. Use pandas.concat instead.\n",
      "  big_data = big_data.append(d, ignore_index=True)\n",
      "C:\\Users\\skhan\\AppData\\Local\\Temp/ipykernel_414864/2290462972.py:54: FutureWarning: The frame.append method is deprecated and will be removed from pandas in a future version. Use pandas.concat instead.\n",
      "  big_data = big_data.append(d, ignore_index=True)\n",
      "C:\\Users\\skhan\\AppData\\Local\\Temp/ipykernel_414864/2290462972.py:54: FutureWarning: The frame.append method is deprecated and will be removed from pandas in a future version. Use pandas.concat instead.\n",
      "  big_data = big_data.append(d, ignore_index=True)\n",
      "C:\\Users\\skhan\\AppData\\Local\\Temp/ipykernel_414864/2290462972.py:54: FutureWarning: The frame.append method is deprecated and will be removed from pandas in a future version. Use pandas.concat instead.\n",
      "  big_data = big_data.append(d, ignore_index=True)\n",
      "C:\\Users\\skhan\\AppData\\Local\\Temp/ipykernel_414864/2290462972.py:54: FutureWarning: The frame.append method is deprecated and will be removed from pandas in a future version. Use pandas.concat instead.\n",
      "  big_data = big_data.append(d, ignore_index=True)\n",
      "C:\\Users\\skhan\\AppData\\Local\\Temp/ipykernel_414864/2290462972.py:54: FutureWarning: The frame.append method is deprecated and will be removed from pandas in a future version. Use pandas.concat instead.\n",
      "  big_data = big_data.append(d, ignore_index=True)\n",
      "C:\\Users\\skhan\\AppData\\Local\\Temp/ipykernel_414864/2290462972.py:54: FutureWarning: The frame.append method is deprecated and will be removed from pandas in a future version. Use pandas.concat instead.\n",
      "  big_data = big_data.append(d, ignore_index=True)\n",
      "C:\\Users\\skhan\\AppData\\Local\\Temp/ipykernel_414864/2290462972.py:54: FutureWarning: The frame.append method is deprecated and will be removed from pandas in a future version. Use pandas.concat instead.\n",
      "  big_data = big_data.append(d, ignore_index=True)\n",
      "C:\\Users\\skhan\\AppData\\Local\\Temp/ipykernel_414864/2290462972.py:54: FutureWarning: The frame.append method is deprecated and will be removed from pandas in a future version. Use pandas.concat instead.\n",
      "  big_data = big_data.append(d, ignore_index=True)\n",
      "C:\\Users\\skhan\\AppData\\Local\\Temp/ipykernel_414864/2290462972.py:54: FutureWarning: The frame.append method is deprecated and will be removed from pandas in a future version. Use pandas.concat instead.\n",
      "  big_data = big_data.append(d, ignore_index=True)\n"
     ]
    },
    {
     "data": {
      "text/plain": "                                                 file    v          s  long  \\\n0   \\ADAUSDT\\plots\\2022-03-24T141758\\backtest_resu...  5.5    ADAUSDT  True   \n1   \\BCHUSDT\\plots\\2022-03-19T132719\\backtest_resu...  5.5    BCHUSDT  True   \n2   \\BCHUSDT\\plots\\2022-03-23T185443\\backtest_resu...  5.5    BCHUSDT  True   \n3   \\DOGEUSDT\\plots\\2022-03-24T143935\\backtest_res...  5.5   DOGEUSDT  True   \n4   \\EOSUSDT\\plots\\2022-03-19T120225\\backtest_resu...  5.5    EOSUSDT  True   \n5   \\EOSUSDT\\plots\\2022-03-23T184116\\backtest_resu...  5.5    EOSUSDT  True   \n6   \\LINKUSDT\\plots\\2022-03-24T135450\\backtest_res...  5.5   LINKUSDT  True   \n7   \\LINKUSDT\\plots\\2022-03-24T135700\\backtest_res...  5.5   LINKUSDT  True   \n8   \\LTCUSDT\\plots\\2022-03-21T080736\\backtest_resu...  5.5    LTCUSDT  True   \n9   \\LTCUSDT\\plots\\2022-03-21T090630\\backtest_resu...  5.5    LTCUSDT  True   \n10  \\MATICUSDT\\plots\\2022-03-24T152614\\backtest_re...  5.5  MATICUSDT  True   \n11  \\XRPUSDT\\plots\\2022-03-19T120649\\backtest_resu...  5.5    XRPUSDT  True   \n12  \\XRPUSDT\\plots\\2022-03-19T124422\\backtest_resu...  5.5    XRPUSDT  True   \n13  \\XRPUSDT\\plots\\2022-03-19T142454\\backtest_resu...  5.5    XRPUSDT  True   \n14  \\XRPUSDT\\plots\\2022-03-23T184659\\backtest_resu...  5.5    XRPUSDT  True   \n15  \\XTZUSDT\\plots\\2022-03-21T092843\\backtest_resu...  5.5    XTZUSDT  True   \n\n        tgl_%  adgl_%  bnkrl_%    ebrl  short     tgs_%  adgs_%  bnkrs_%  \\\n0     10.6500  0.0434    100.0  0.9784   True    13.410  0.0525    100.0   \n1  -2870.0000  1.4900    100.0  0.9597   True -4800.000  1.5900    100.0   \n2      0.3397  0.0018    100.0  0.9417   True    12.660  0.0434    100.0   \n3      5.1370  0.0213    100.0  0.9668   True    12.840  0.0519    100.0   \n4      8.0590  0.0354    100.0  0.9837   True    20.560  0.0887    100.0   \n5      6.1970  0.0258    100.0  0.9735   True    10.860  0.0389    100.0   \n6      7.0400  0.0298    100.0  0.9429   True    15.000  0.0578    100.0   \n7      8.6990  0.0359    100.0  0.9675   True    14.810  0.0576    100.0   \n8  -3618.0000  1.5300    100.0  0.9624   True -7269.000  1.6800    100.0   \n9  -3618.0000  1.5300    100.0  0.9624   True -7269.000  1.6800    100.0   \n10    13.8400  0.0560    100.0  0.9644   True    11.370  0.0464    100.0   \n11  -649.1000  0.7240    100.0  0.9594   True  -354.300  0.4620    100.0   \n12  -773.5000  0.7670    100.0  0.9611   True  -422.200  0.4330    100.0   \n13  -476.4000  0.5920    100.0  0.9605   True  -279.100  0.3890    100.0   \n14     9.6350  0.0393    100.0  0.9663   True     7.716  0.0311    100.0   \n15    11.9300  0.0524    100.0  0.9699   True    22.510  0.0951    100.0   \n\n      ebrs  \n0   0.9582  \n1   0.9580  \n2   0.9654  \n3   0.9670  \n4   0.9563  \n5   0.9757  \n6   0.9564  \n7   0.9561  \n8   0.9458  \n9   0.9458  \n10  0.9302  \n11  0.8957  \n12  0.9439  \n13  0.9501  \n14  0.9759  \n15  0.9584  ",
      "text/html": "<div>\n<style scoped>\n    .dataframe tbody tr th:only-of-type {\n        vertical-align: middle;\n    }\n\n    .dataframe tbody tr th {\n        vertical-align: top;\n    }\n\n    .dataframe thead th {\n        text-align: right;\n    }\n</style>\n<table border=\"1\" class=\"dataframe\">\n  <thead>\n    <tr style=\"text-align: right;\">\n      <th></th>\n      <th>file</th>\n      <th>v</th>\n      <th>s</th>\n      <th>long</th>\n      <th>tgl_%</th>\n      <th>adgl_%</th>\n      <th>bnkrl_%</th>\n      <th>ebrl</th>\n      <th>short</th>\n      <th>tgs_%</th>\n      <th>adgs_%</th>\n      <th>bnkrs_%</th>\n      <th>ebrs</th>\n    </tr>\n  </thead>\n  <tbody>\n    <tr>\n      <th>0</th>\n      <td>\\ADAUSDT\\plots\\2022-03-24T141758\\backtest_resu...</td>\n      <td>5.5</td>\n      <td>ADAUSDT</td>\n      <td>True</td>\n      <td>10.6500</td>\n      <td>0.0434</td>\n      <td>100.0</td>\n      <td>0.9784</td>\n      <td>True</td>\n      <td>13.410</td>\n      <td>0.0525</td>\n      <td>100.0</td>\n      <td>0.9582</td>\n    </tr>\n    <tr>\n      <th>1</th>\n      <td>\\BCHUSDT\\plots\\2022-03-19T132719\\backtest_resu...</td>\n      <td>5.5</td>\n      <td>BCHUSDT</td>\n      <td>True</td>\n      <td>-2870.0000</td>\n      <td>1.4900</td>\n      <td>100.0</td>\n      <td>0.9597</td>\n      <td>True</td>\n      <td>-4800.000</td>\n      <td>1.5900</td>\n      <td>100.0</td>\n      <td>0.9580</td>\n    </tr>\n    <tr>\n      <th>2</th>\n      <td>\\BCHUSDT\\plots\\2022-03-23T185443\\backtest_resu...</td>\n      <td>5.5</td>\n      <td>BCHUSDT</td>\n      <td>True</td>\n      <td>0.3397</td>\n      <td>0.0018</td>\n      <td>100.0</td>\n      <td>0.9417</td>\n      <td>True</td>\n      <td>12.660</td>\n      <td>0.0434</td>\n      <td>100.0</td>\n      <td>0.9654</td>\n    </tr>\n    <tr>\n      <th>3</th>\n      <td>\\DOGEUSDT\\plots\\2022-03-24T143935\\backtest_res...</td>\n      <td>5.5</td>\n      <td>DOGEUSDT</td>\n      <td>True</td>\n      <td>5.1370</td>\n      <td>0.0213</td>\n      <td>100.0</td>\n      <td>0.9668</td>\n      <td>True</td>\n      <td>12.840</td>\n      <td>0.0519</td>\n      <td>100.0</td>\n      <td>0.9670</td>\n    </tr>\n    <tr>\n      <th>4</th>\n      <td>\\EOSUSDT\\plots\\2022-03-19T120225\\backtest_resu...</td>\n      <td>5.5</td>\n      <td>EOSUSDT</td>\n      <td>True</td>\n      <td>8.0590</td>\n      <td>0.0354</td>\n      <td>100.0</td>\n      <td>0.9837</td>\n      <td>True</td>\n      <td>20.560</td>\n      <td>0.0887</td>\n      <td>100.0</td>\n      <td>0.9563</td>\n    </tr>\n    <tr>\n      <th>5</th>\n      <td>\\EOSUSDT\\plots\\2022-03-23T184116\\backtest_resu...</td>\n      <td>5.5</td>\n      <td>EOSUSDT</td>\n      <td>True</td>\n      <td>6.1970</td>\n      <td>0.0258</td>\n      <td>100.0</td>\n      <td>0.9735</td>\n      <td>True</td>\n      <td>10.860</td>\n      <td>0.0389</td>\n      <td>100.0</td>\n      <td>0.9757</td>\n    </tr>\n    <tr>\n      <th>6</th>\n      <td>\\LINKUSDT\\plots\\2022-03-24T135450\\backtest_res...</td>\n      <td>5.5</td>\n      <td>LINKUSDT</td>\n      <td>True</td>\n      <td>7.0400</td>\n      <td>0.0298</td>\n      <td>100.0</td>\n      <td>0.9429</td>\n      <td>True</td>\n      <td>15.000</td>\n      <td>0.0578</td>\n      <td>100.0</td>\n      <td>0.9564</td>\n    </tr>\n    <tr>\n      <th>7</th>\n      <td>\\LINKUSDT\\plots\\2022-03-24T135700\\backtest_res...</td>\n      <td>5.5</td>\n      <td>LINKUSDT</td>\n      <td>True</td>\n      <td>8.6990</td>\n      <td>0.0359</td>\n      <td>100.0</td>\n      <td>0.9675</td>\n      <td>True</td>\n      <td>14.810</td>\n      <td>0.0576</td>\n      <td>100.0</td>\n      <td>0.9561</td>\n    </tr>\n    <tr>\n      <th>8</th>\n      <td>\\LTCUSDT\\plots\\2022-03-21T080736\\backtest_resu...</td>\n      <td>5.5</td>\n      <td>LTCUSDT</td>\n      <td>True</td>\n      <td>-3618.0000</td>\n      <td>1.5300</td>\n      <td>100.0</td>\n      <td>0.9624</td>\n      <td>True</td>\n      <td>-7269.000</td>\n      <td>1.6800</td>\n      <td>100.0</td>\n      <td>0.9458</td>\n    </tr>\n    <tr>\n      <th>9</th>\n      <td>\\LTCUSDT\\plots\\2022-03-21T090630\\backtest_resu...</td>\n      <td>5.5</td>\n      <td>LTCUSDT</td>\n      <td>True</td>\n      <td>-3618.0000</td>\n      <td>1.5300</td>\n      <td>100.0</td>\n      <td>0.9624</td>\n      <td>True</td>\n      <td>-7269.000</td>\n      <td>1.6800</td>\n      <td>100.0</td>\n      <td>0.9458</td>\n    </tr>\n    <tr>\n      <th>10</th>\n      <td>\\MATICUSDT\\plots\\2022-03-24T152614\\backtest_re...</td>\n      <td>5.5</td>\n      <td>MATICUSDT</td>\n      <td>True</td>\n      <td>13.8400</td>\n      <td>0.0560</td>\n      <td>100.0</td>\n      <td>0.9644</td>\n      <td>True</td>\n      <td>11.370</td>\n      <td>0.0464</td>\n      <td>100.0</td>\n      <td>0.9302</td>\n    </tr>\n    <tr>\n      <th>11</th>\n      <td>\\XRPUSDT\\plots\\2022-03-19T120649\\backtest_resu...</td>\n      <td>5.5</td>\n      <td>XRPUSDT</td>\n      <td>True</td>\n      <td>-649.1000</td>\n      <td>0.7240</td>\n      <td>100.0</td>\n      <td>0.9594</td>\n      <td>True</td>\n      <td>-354.300</td>\n      <td>0.4620</td>\n      <td>100.0</td>\n      <td>0.8957</td>\n    </tr>\n    <tr>\n      <th>12</th>\n      <td>\\XRPUSDT\\plots\\2022-03-19T124422\\backtest_resu...</td>\n      <td>5.5</td>\n      <td>XRPUSDT</td>\n      <td>True</td>\n      <td>-773.5000</td>\n      <td>0.7670</td>\n      <td>100.0</td>\n      <td>0.9611</td>\n      <td>True</td>\n      <td>-422.200</td>\n      <td>0.4330</td>\n      <td>100.0</td>\n      <td>0.9439</td>\n    </tr>\n    <tr>\n      <th>13</th>\n      <td>\\XRPUSDT\\plots\\2022-03-19T142454\\backtest_resu...</td>\n      <td>5.5</td>\n      <td>XRPUSDT</td>\n      <td>True</td>\n      <td>-476.4000</td>\n      <td>0.5920</td>\n      <td>100.0</td>\n      <td>0.9605</td>\n      <td>True</td>\n      <td>-279.100</td>\n      <td>0.3890</td>\n      <td>100.0</td>\n      <td>0.9501</td>\n    </tr>\n    <tr>\n      <th>14</th>\n      <td>\\XRPUSDT\\plots\\2022-03-23T184659\\backtest_resu...</td>\n      <td>5.5</td>\n      <td>XRPUSDT</td>\n      <td>True</td>\n      <td>9.6350</td>\n      <td>0.0393</td>\n      <td>100.0</td>\n      <td>0.9663</td>\n      <td>True</td>\n      <td>7.716</td>\n      <td>0.0311</td>\n      <td>100.0</td>\n      <td>0.9759</td>\n    </tr>\n    <tr>\n      <th>15</th>\n      <td>\\XTZUSDT\\plots\\2022-03-21T092843\\backtest_resu...</td>\n      <td>5.5</td>\n      <td>XTZUSDT</td>\n      <td>True</td>\n      <td>11.9300</td>\n      <td>0.0524</td>\n      <td>100.0</td>\n      <td>0.9699</td>\n      <td>True</td>\n      <td>22.510</td>\n      <td>0.0951</td>\n      <td>100.0</td>\n      <td>0.9584</td>\n    </tr>\n  </tbody>\n</table>\n</div>"
     },
     "execution_count": 26,
     "metadata": {},
     "output_type": "execute_result"
    }
   ],
   "source": [
    "big_data = pd.DataFrame()\n",
    "files = glob.iglob('backtests/bybit/' + '**/backtest_result.txt', recursive=True)\n",
    "i = 0\n",
    "for filename in files:\n",
    "    #print(f'parsing : {filename}')\n",
    "    json_file = filename.replace('backtest_result.txt','live_config.json')\n",
    "    with open(json_file) as f:\n",
    "        live_config = json.load(f)\n",
    "        config_type = live_config['config_name']\n",
    "        if 'static_grid' not in config_type:\n",
    "            continue\n",
    "\n",
    "    with open(filename, 'r') as file:\n",
    "        data = file.read().split('\\n')\n",
    "        d = {'file': filename.replace('backtests/bybit','')}\n",
    "        current_state = 'long'\n",
    "        for l in data:\n",
    "            l = l.split('|')\n",
    "            if len(l) == 4:\n",
    "                key = l[1].strip()\n",
    "                value = l[2].strip()\n",
    "\n",
    "                if key == 'Passivbot Version':\n",
    "                    d['v'] = value\n",
    "                if key == 'Symbol':\n",
    "                    d['s'] = value\n",
    "\n",
    "                if key == 'Long':\n",
    "                    current_state = 'long'\n",
    "                    d['long'] = bool(value) or False\n",
    "                if key == 'Short':\n",
    "                    current_state = 'short'\n",
    "                    d['short'] = bool(value) or False\n",
    "\n",
    "                if key == 'Total gain' and current_state == 'long':\n",
    "                    d['tgl_%'] = float(value.replace('%', '').strip())\n",
    "                if key == 'Average daily gain' and current_state == 'long':\n",
    "                    d['adgl_%'] = float(value.replace('%', '').strip())\n",
    "                if key == 'Closest bankruptcy' and current_state == 'long':\n",
    "                    d['bnkrl_%'] = float(value.replace('%', '').strip())\n",
    "                if key == 'Lowest equity/balance ratio' and current_state == 'long':\n",
    "                    d['ebrl'] = float(value.replace('%', '').strip())\n",
    "\n",
    "                if key == 'Total gain' and current_state == 'short':\n",
    "                    d['tgs_%'] = float(value.replace('%', '').strip())\n",
    "                if key == 'Average daily gain' and current_state == 'short':\n",
    "                    d['adgs_%'] = float(value.replace('%', '').strip())\n",
    "                if key == 'Closest bankruptcy' and current_state == 'short':\n",
    "                    d['bnkrs_%'] = float(value.replace('%', '').strip())\n",
    "                if key == 'Lowest equity/balance ratio' and current_state == 'short':\n",
    "                    d['ebrs'] = float(value.replace('%', '').strip())\n",
    "\n",
    "        #d['adgt_%'] = d['adgl_%']+d['adgs_%']\n",
    "        big_data = big_data.append(d, ignore_index=True)\n",
    "\n",
    "big_data"
   ]
  },
  {
   "cell_type": "markdown",
   "metadata": {},
   "source": [
    "Now filter the dataframe"
   ]
  },
  {
   "cell_type": "code",
   "execution_count": 30,
   "metadata": {
    "pycharm": {
     "name": "#%%\n"
    }
   },
   "outputs": [
    {
     "data": {
      "text/plain": "                                                 file    v          s  long  \\\n1   \\BCHUSDT\\plots\\2022-03-19T132719\\backtest_resu...  5.5    BCHUSDT  True   \n4   \\EOSUSDT\\plots\\2022-03-19T120225\\backtest_resu...  5.5    EOSUSDT  True   \n10  \\MATICUSDT\\plots\\2022-03-24T152614\\backtest_re...  5.5  MATICUSDT  True   \n11  \\XRPUSDT\\plots\\2022-03-19T120649\\backtest_resu...  5.5    XRPUSDT  True   \n12  \\XRPUSDT\\plots\\2022-03-19T124422\\backtest_resu...  5.5    XRPUSDT  True   \n13  \\XRPUSDT\\plots\\2022-03-19T142454\\backtest_resu...  5.5    XRPUSDT  True   \n\n       tgl_%  adgl_%  bnkrl_%    ebrl  short    tgs_%  adgs_%  bnkrs_%  \\\n1  -2870.000  1.4900    100.0  0.9597   True -4800.00  1.5900    100.0   \n4      8.059  0.0354    100.0  0.9837   True    20.56  0.0887    100.0   \n10    13.840  0.0560    100.0  0.9644   True    11.37  0.0464    100.0   \n11  -649.100  0.7240    100.0  0.9594   True  -354.30  0.4620    100.0   \n12  -773.500  0.7670    100.0  0.9611   True  -422.20  0.4330    100.0   \n13  -476.400  0.5920    100.0  0.9605   True  -279.10  0.3890    100.0   \n\n      ebrs  adgt_%  \n1   0.9580  3.0800  \n4   0.9563  0.1241  \n10  0.9302  0.1024  \n11  0.8957  1.1860  \n12  0.9439  1.2000  \n13  0.9501  0.9810  ",
      "text/html": "<div>\n<style scoped>\n    .dataframe tbody tr th:only-of-type {\n        vertical-align: middle;\n    }\n\n    .dataframe tbody tr th {\n        vertical-align: top;\n    }\n\n    .dataframe thead th {\n        text-align: right;\n    }\n</style>\n<table border=\"1\" class=\"dataframe\">\n  <thead>\n    <tr style=\"text-align: right;\">\n      <th></th>\n      <th>file</th>\n      <th>v</th>\n      <th>s</th>\n      <th>long</th>\n      <th>tgl_%</th>\n      <th>adgl_%</th>\n      <th>bnkrl_%</th>\n      <th>ebrl</th>\n      <th>short</th>\n      <th>tgs_%</th>\n      <th>adgs_%</th>\n      <th>bnkrs_%</th>\n      <th>ebrs</th>\n      <th>adgt_%</th>\n    </tr>\n  </thead>\n  <tbody>\n    <tr>\n      <th>1</th>\n      <td>\\BCHUSDT\\plots\\2022-03-19T132719\\backtest_resu...</td>\n      <td>5.5</td>\n      <td>BCHUSDT</td>\n      <td>True</td>\n      <td>-2870.000</td>\n      <td>1.4900</td>\n      <td>100.0</td>\n      <td>0.9597</td>\n      <td>True</td>\n      <td>-4800.00</td>\n      <td>1.5900</td>\n      <td>100.0</td>\n      <td>0.9580</td>\n      <td>3.0800</td>\n    </tr>\n    <tr>\n      <th>4</th>\n      <td>\\EOSUSDT\\plots\\2022-03-19T120225\\backtest_resu...</td>\n      <td>5.5</td>\n      <td>EOSUSDT</td>\n      <td>True</td>\n      <td>8.059</td>\n      <td>0.0354</td>\n      <td>100.0</td>\n      <td>0.9837</td>\n      <td>True</td>\n      <td>20.56</td>\n      <td>0.0887</td>\n      <td>100.0</td>\n      <td>0.9563</td>\n      <td>0.1241</td>\n    </tr>\n    <tr>\n      <th>10</th>\n      <td>\\MATICUSDT\\plots\\2022-03-24T152614\\backtest_re...</td>\n      <td>5.5</td>\n      <td>MATICUSDT</td>\n      <td>True</td>\n      <td>13.840</td>\n      <td>0.0560</td>\n      <td>100.0</td>\n      <td>0.9644</td>\n      <td>True</td>\n      <td>11.37</td>\n      <td>0.0464</td>\n      <td>100.0</td>\n      <td>0.9302</td>\n      <td>0.1024</td>\n    </tr>\n    <tr>\n      <th>11</th>\n      <td>\\XRPUSDT\\plots\\2022-03-19T120649\\backtest_resu...</td>\n      <td>5.5</td>\n      <td>XRPUSDT</td>\n      <td>True</td>\n      <td>-649.100</td>\n      <td>0.7240</td>\n      <td>100.0</td>\n      <td>0.9594</td>\n      <td>True</td>\n      <td>-354.30</td>\n      <td>0.4620</td>\n      <td>100.0</td>\n      <td>0.8957</td>\n      <td>1.1860</td>\n    </tr>\n    <tr>\n      <th>12</th>\n      <td>\\XRPUSDT\\plots\\2022-03-19T124422\\backtest_resu...</td>\n      <td>5.5</td>\n      <td>XRPUSDT</td>\n      <td>True</td>\n      <td>-773.500</td>\n      <td>0.7670</td>\n      <td>100.0</td>\n      <td>0.9611</td>\n      <td>True</td>\n      <td>-422.20</td>\n      <td>0.4330</td>\n      <td>100.0</td>\n      <td>0.9439</td>\n      <td>1.2000</td>\n    </tr>\n    <tr>\n      <th>13</th>\n      <td>\\XRPUSDT\\plots\\2022-03-19T142454\\backtest_resu...</td>\n      <td>5.5</td>\n      <td>XRPUSDT</td>\n      <td>True</td>\n      <td>-476.400</td>\n      <td>0.5920</td>\n      <td>100.0</td>\n      <td>0.9605</td>\n      <td>True</td>\n      <td>-279.10</td>\n      <td>0.3890</td>\n      <td>100.0</td>\n      <td>0.9501</td>\n      <td>0.9810</td>\n    </tr>\n  </tbody>\n</table>\n</div>"
     },
     "execution_count": 30,
     "metadata": {},
     "output_type": "execute_result"
    }
   ],
   "source": [
    "allowed_symbols = [\"ETHUSDT\", \"XRPUSDT\", \"1000SHIBUSDT\", \"DOGEUSDT\", \"ADAUSDT\",\n",
    "                   \"BNBUSDT\", \"MATICUSDT\", \"DOTUSDT\", \"SANDUSDT\", \"FTMUSDT\",\n",
    "                   \"LTCUSDT\", \"LINKUSDT\", \"MANAUSDT\", \"ETCUSDT\", \"EOSUSDT\",\n",
    "                   \"ATOMUSDT\", \"FILUSDT\", \"ICPUSDT\", \"ALICEUSDT\", \"LRCUSDT\",\n",
    "                   \"BCHUSDT\", \"SUSHIUSDT\", \"XTZUSDT\", \"THETAUSDT\", \"CRVUSDT\",\n",
    "                   \"ALGOUSDT\", \"CHZUSDT\", \"TRXUSDT\", \"VETUSDT\", \"CHRUSDT\",\n",
    "                   \"ONEUSDT\", \"OMGUSDT\", \"XLMUSDT\", \"RUNEUSDT\", \"ENJUSDT\",\n",
    "                   \"CELRUSDT\", \"SXPUSDT\", \"1INCHUSDT\", \"SRMUSDT\", \"COTIUSDT\",\n",
    "                   \"ZECUSDT\", \"QTUMUSDT\", \"GRTUSDT\", \"DENTUSDT\", \"SFPUSDT\",\n",
    "                   \"STORJUSDT\", \"IOTAUSDT\", \"HOTUSDT\", \"NEOUSDT\", \"COMPUSDT\",\n",
    "                   \"LINAUSDT\", \"KAVAUSDT\", \"BATUSDT\", \"WAVESUSDT\", \"IOSTUSDT\",\n",
    "                   \"ALPHAUSDT\", \"RLCUSDT\", \"HBARUSDT\", \"DODOUSDT\", \"XMRUSDT\",\n",
    "                   \"SNXUSDT\", \"ANKRUSDT\", \"DASHUSDT\", \"REEFUSDT\", \"ZENUSDT\",\n",
    "                   \"CVCUSDT\", \"RENUSDT\", \"ICXUSDT\", \"RSRUSDT\", \"SKLUSDT\",\n",
    "                   \"NKNUSDT\", \"BELUSDT\", \"ONTUSDT\", \"OGNUSDT\", \"BLZUSDT\",\n",
    "                   \"MTLUSDT\", \"CTKUSDT\", \"RVNUSDT\", \"LITUSDT\", \"MKRUSDT\",\n",
    "                   \"OCEANUSDT\", \"ZILUSDT\", \"UNFIUSDT\", \"BANDUSDT\", \"YFIIUSDT\",\n",
    "                   \"TOMOUSDT\", \"TRBUSDT\", \"KNCUSDT\", \"STMXUSDT\", \"ZRXUSDT\",\n",
    "                   \"SCUSDT\", \"AKROUSDT\", \"XEMUSDT\", \"FLMUSDT\", \"BALUSDT\",\n",
    "                   \"BTSUSDT\", \"DGBUSDT\", \"DEFIUSDT\"]\n",
    "\n",
    "\n",
    "allowed_symbols = [\"EOS\",\"XRP\",\"BCH\",\"LINK\",\"ADA\",\"DOT\",\"DOGE\",\"MATIC\"]\n",
    "allowed_symbols = [s + \"USDT\" for s in allowed_symbols]\n",
    "big_data['adgt_%'] = big_data['adgl_%'] + big_data['adgs_%']\n",
    "df = big_data[(big_data.s.isin(allowed_symbols))\n",
    "              & (big_data['long'] == True)\n",
    "              & (big_data['short'] == True)\n",
    "              & (big_data['adgt_%'] > 0.1)\n",
    "              & (big_data['bnkrl_%'] > 95.0)\n",
    "              & (big_data['bnkrs_%'] > 95.0)\n",
    "              & (big_data['ebrs'] > .85)\n",
    "              & (big_data['ebrl'] > .85)\n",
    "              & (big_data['v'] == '5.5')\n",
    "\n",
    "    # & (big_data['tg_%'] > 10)\n",
    "    # & (big_data['ebr'] > .85)\n",
    "              ]\n",
    "#df['total_adg'] = big_data['adgl_%'] + big_data['adgs_%']\n",
    "df"
   ]
  },
  {
   "cell_type": "code",
   "execution_count": 31,
   "metadata": {
    "pycharm": {
     "name": "#%%\n"
    }
   },
   "outputs": [
    {
     "name": "stderr",
     "output_type": "stream",
     "text": [
      "C:\\Users\\skhan\\AppData\\Local\\Temp/ipykernel_414864/2043545472.py:1: SettingWithCopyWarning: \n",
      "A value is trying to be set on a copy of a slice from a DataFrame\n",
      "\n",
      "See the caveats in the documentation: https://pandas.pydata.org/pandas-docs/stable/user_guide/indexing.html#returning-a-view-versus-a-copy\n",
      "  df.drop_duplicates(subset=['s', 'tgl_%','tgs_%','adgl_%','adgs_%','adgt_%', 'bnkrl_%', 'bnkrs_%', 'ebrl', 'ebrs', 'long', 'short'], keep='first',\n"
     ]
    },
    {
     "data": {
      "text/plain": "                                                 file          s  adgt_%  \\\n1   \\BCHUSDT\\plots\\2022-03-19T132719\\backtest_resu...    BCHUSDT  3.0800   \n4   \\EOSUSDT\\plots\\2022-03-19T120225\\backtest_resu...    EOSUSDT  0.1241   \n10  \\MATICUSDT\\plots\\2022-03-24T152614\\backtest_re...  MATICUSDT  0.1024   \n11  \\XRPUSDT\\plots\\2022-03-19T120649\\backtest_resu...    XRPUSDT  1.1860   \n12  \\XRPUSDT\\plots\\2022-03-19T124422\\backtest_resu...    XRPUSDT  1.2000   \n13  \\XRPUSDT\\plots\\2022-03-19T142454\\backtest_resu...    XRPUSDT  0.9810   \n\n    adgl_%  adgs_%  bnkrl_%  bnkrs_%    ebrl    ebrs  \n1   1.4900  1.5900    100.0    100.0  0.9597  0.9580  \n4   0.0354  0.0887    100.0    100.0  0.9837  0.9563  \n10  0.0560  0.0464    100.0    100.0  0.9644  0.9302  \n11  0.7240  0.4620    100.0    100.0  0.9594  0.8957  \n12  0.7670  0.4330    100.0    100.0  0.9611  0.9439  \n13  0.5920  0.3890    100.0    100.0  0.9605  0.9501  ",
      "text/html": "<div>\n<style scoped>\n    .dataframe tbody tr th:only-of-type {\n        vertical-align: middle;\n    }\n\n    .dataframe tbody tr th {\n        vertical-align: top;\n    }\n\n    .dataframe thead th {\n        text-align: right;\n    }\n</style>\n<table border=\"1\" class=\"dataframe\">\n  <thead>\n    <tr style=\"text-align: right;\">\n      <th></th>\n      <th>file</th>\n      <th>s</th>\n      <th>adgt_%</th>\n      <th>adgl_%</th>\n      <th>adgs_%</th>\n      <th>bnkrl_%</th>\n      <th>bnkrs_%</th>\n      <th>ebrl</th>\n      <th>ebrs</th>\n    </tr>\n  </thead>\n  <tbody>\n    <tr>\n      <th>1</th>\n      <td>\\BCHUSDT\\plots\\2022-03-19T132719\\backtest_resu...</td>\n      <td>BCHUSDT</td>\n      <td>3.0800</td>\n      <td>1.4900</td>\n      <td>1.5900</td>\n      <td>100.0</td>\n      <td>100.0</td>\n      <td>0.9597</td>\n      <td>0.9580</td>\n    </tr>\n    <tr>\n      <th>4</th>\n      <td>\\EOSUSDT\\plots\\2022-03-19T120225\\backtest_resu...</td>\n      <td>EOSUSDT</td>\n      <td>0.1241</td>\n      <td>0.0354</td>\n      <td>0.0887</td>\n      <td>100.0</td>\n      <td>100.0</td>\n      <td>0.9837</td>\n      <td>0.9563</td>\n    </tr>\n    <tr>\n      <th>10</th>\n      <td>\\MATICUSDT\\plots\\2022-03-24T152614\\backtest_re...</td>\n      <td>MATICUSDT</td>\n      <td>0.1024</td>\n      <td>0.0560</td>\n      <td>0.0464</td>\n      <td>100.0</td>\n      <td>100.0</td>\n      <td>0.9644</td>\n      <td>0.9302</td>\n    </tr>\n    <tr>\n      <th>11</th>\n      <td>\\XRPUSDT\\plots\\2022-03-19T120649\\backtest_resu...</td>\n      <td>XRPUSDT</td>\n      <td>1.1860</td>\n      <td>0.7240</td>\n      <td>0.4620</td>\n      <td>100.0</td>\n      <td>100.0</td>\n      <td>0.9594</td>\n      <td>0.8957</td>\n    </tr>\n    <tr>\n      <th>12</th>\n      <td>\\XRPUSDT\\plots\\2022-03-19T124422\\backtest_resu...</td>\n      <td>XRPUSDT</td>\n      <td>1.2000</td>\n      <td>0.7670</td>\n      <td>0.4330</td>\n      <td>100.0</td>\n      <td>100.0</td>\n      <td>0.9611</td>\n      <td>0.9439</td>\n    </tr>\n    <tr>\n      <th>13</th>\n      <td>\\XRPUSDT\\plots\\2022-03-19T142454\\backtest_resu...</td>\n      <td>XRPUSDT</td>\n      <td>0.9810</td>\n      <td>0.5920</td>\n      <td>0.3890</td>\n      <td>100.0</td>\n      <td>100.0</td>\n      <td>0.9605</td>\n      <td>0.9501</td>\n    </tr>\n  </tbody>\n</table>\n</div>"
     },
     "execution_count": 31,
     "metadata": {},
     "output_type": "execute_result"
    }
   ],
   "source": [
    "df.drop_duplicates(subset=['s', 'tgl_%','tgs_%','adgl_%','adgs_%','adgt_%', 'bnkrl_%', 'bnkrs_%', 'ebrl', 'ebrs', 'long', 'short'], keep='first',\n",
    "                   inplace=True)\n",
    "dx = df[['file','s','adgt_%','adgl_%','adgs_%','bnkrl_%', 'bnkrs_%','ebrl', 'ebrs']]\n",
    "dx"
   ]
  },
  {
   "cell_type": "code",
   "execution_count": 28,
   "metadata": {
    "pycharm": {
     "name": "#%%\n"
    }
   },
   "outputs": [],
   "source": []
  }
 ],
 "metadata": {
  "kernelspec": {
   "display_name": "PyCharm (passivbot)",
   "language": "python",
   "name": "pycharm-997905a8"
  },
  "language_info": {
   "codemirror_mode": {
    "name": "ipython",
    "version": 3
   },
   "file_extension": ".py",
   "mimetype": "text/x-python",
   "name": "python",
   "nbconvert_exporter": "python",
   "pygments_lexer": "ipython3",
   "version": "3.8.12"
  }
 },
 "nbformat": 4,
 "nbformat_minor": 1
}