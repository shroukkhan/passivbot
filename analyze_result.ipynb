{
 "cells": [
  {
   "cell_type": "code",
   "execution_count": 1,
   "metadata": {
    "collapsed": true,
    "pycharm": {
     "name": "#%%\n"
    }
   },
   "outputs": [],
   "source": [
    "%load_ext autoreload\n",
    "%autoreload 2"
   ]
  },
  {
   "cell_type": "code",
   "execution_count": 2,
   "outputs": [],
   "source": [
    "import glob\n",
    "import json\n",
    "\n",
    "import pandas as pd"
   ],
   "metadata": {
    "collapsed": false,
    "pycharm": {
     "name": "#%%\n"
    }
   }
  },
  {
   "cell_type": "code",
   "execution_count": 14,
   "outputs": [
    {
     "name": "stdout",
     "output_type": "stream",
     "text": [
      "['downloaded_configs\\\\passivbot_v5.9.x\\\\configs\\\\v5.9.0\\\\harmony\\\\recursive\\\\longshort\\\\harmony_recurv_auenabled_longshort_0.25_0.12WE_bwtp_off\\\\ATOMUSDT_20221222000537_d44da\\\\ATOMUSDT\\\\result.txt', 'downloaded_configs\\\\passivbot_v5.9.x\\\\configs\\\\v5.9.0\\\\harmony\\\\recursive\\\\longshort\\\\harmony_recurv_auenabled_longshort_0.25_0.12WE_bwtp_off\\\\CHZUSDT_20221222000537_d44da\\\\CHZUSDT\\\\result.txt', 'downloaded_configs\\\\passivbot_v5.9.x\\\\configs\\\\v5.9.0\\\\harmony\\\\recursive\\\\longshort\\\\harmony_recurv_auenabled_longshort_0.25_0.12WE_bwtp_off\\\\DOGEUSDT_20221222000537_d44da\\\\DOGEUSDT\\\\result.txt', 'downloaded_configs\\\\passivbot_v5.9.x\\\\configs\\\\v5.9.0\\\\harmony\\\\recursive\\\\longshort\\\\harmony_recurv_auenabled_longshort_0.25_0.12WE_bwtp_off\\\\DOTUSDT_20221222000537_d44da\\\\DOTUSDT\\\\result.txt', 'downloaded_configs\\\\passivbot_v5.9.x\\\\configs\\\\v5.9.0\\\\harmony\\\\recursive\\\\longshort\\\\harmony_recurv_auenabled_longshort_0.25_0.12WE_bwtp_off\\\\DYDXUSDT_20221222000537_d44da\\\\DYDXUSDT\\\\result.txt', 'downloaded_configs\\\\passivbot_v5.9.x\\\\configs\\\\v5.9.0\\\\harmony\\\\recursive\\\\longshort\\\\harmony_recurv_auenabled_longshort_0.25_0.12WE_bwtp_off\\\\EOSUSDT_20221222000537_d44da\\\\EOSUSDT\\\\result.txt', 'downloaded_configs\\\\passivbot_v5.9.x\\\\configs\\\\v5.9.0\\\\harmony\\\\recursive\\\\longshort\\\\harmony_recurv_auenabled_longshort_0.25_0.12WE_bwtp_off\\\\HBARUSDT_20221222000537_d44da\\\\HBARUSDT\\\\result.txt', 'downloaded_configs\\\\passivbot_v5.9.x\\\\configs\\\\v5.9.0\\\\harmony\\\\recursive\\\\longshort\\\\harmony_recurv_auenabled_longshort_0.25_0.12WE_bwtp_off\\\\LINKUSDT_20221222000537_d44da\\\\LINKUSDT\\\\result.txt', 'downloaded_configs\\\\passivbot_v5.9.x\\\\configs\\\\v5.9.0\\\\harmony\\\\recursive\\\\longshort\\\\harmony_recurv_auenabled_longshort_0.25_0.12WE_bwtp_off\\\\MANAUSDT_20221222000537_d44da\\\\MANAUSDT\\\\result.txt', 'downloaded_configs\\\\passivbot_v5.9.x\\\\configs\\\\v5.9.0\\\\harmony\\\\recursive\\\\longshort\\\\harmony_recurv_auenabled_longshort_0.25_0.12WE_bwtp_off\\\\MATICUSDT_20221222000537_d44da\\\\MATICUSDT\\\\result.txt', 'downloaded_configs\\\\passivbot_v5.9.x\\\\configs\\\\v5.9.0\\\\harmony\\\\recursive\\\\longshort\\\\harmony_recurv_auenabled_longshort_0.25_0.12WE_bwtp_off\\\\OPUSDT_20221222000537_d44da\\\\OPUSDT\\\\result.txt', 'downloaded_configs\\\\passivbot_v5.9.x\\\\configs\\\\v5.9.0\\\\harmony\\\\recursive\\\\longshort\\\\harmony_recurv_auenabled_longshort_0.25_0.12WE_bwtp_off\\\\SANDUSDT_20221222000537_d44da\\\\SANDUSDT\\\\result.txt', 'downloaded_configs\\\\passivbot_v5.9.x\\\\configs\\\\v5.9.0\\\\harmony\\\\recursive\\\\longshort\\\\harmony_recurv_auenabled_longshort_0.25_0.12WE_bwtp_off\\\\SUSHIUSDT_20221222000537_d44da\\\\SUSHIUSDT\\\\result.txt', 'downloaded_configs\\\\passivbot_v5.9.x\\\\configs\\\\v5.9.0\\\\harmony\\\\recursive\\\\longshort\\\\harmony_recurv_auenabled_longshort_0.25_0.12WE_bwtp_off\\\\XRPUSDT_20221222000537_d44da\\\\XRPUSDT\\\\result.txt', 'downloaded_configs\\\\passivbot_v5.9.x\\\\configs\\\\v5.9.0\\\\harmony\\\\recursive\\\\longshort\\\\harmony_recurv_auenabled_longshort_0.25_0.12WE_bwtp_off\\\\XTZUSDT_20221222000537_d44da\\\\XTZUSDT\\\\result.txt']\n"
     ]
    },
    {
     "name": "stderr",
     "output_type": "stream",
     "text": [
      "C:\\Users\\skhan\\AppData\\Local\\Temp\\ipykernel_14456\\126579774.py:74: FutureWarning: The frame.append method is deprecated and will be removed from pandas in a future version. Use pandas.concat instead.\n",
      "  big_data = big_data.append(d, ignore_index=True)\n",
      "C:\\Users\\skhan\\AppData\\Local\\Temp\\ipykernel_14456\\126579774.py:74: FutureWarning: The frame.append method is deprecated and will be removed from pandas in a future version. Use pandas.concat instead.\n",
      "  big_data = big_data.append(d, ignore_index=True)\n",
      "C:\\Users\\skhan\\AppData\\Local\\Temp\\ipykernel_14456\\126579774.py:74: FutureWarning: The frame.append method is deprecated and will be removed from pandas in a future version. Use pandas.concat instead.\n",
      "  big_data = big_data.append(d, ignore_index=True)\n",
      "C:\\Users\\skhan\\AppData\\Local\\Temp\\ipykernel_14456\\126579774.py:74: FutureWarning: The frame.append method is deprecated and will be removed from pandas in a future version. Use pandas.concat instead.\n",
      "  big_data = big_data.append(d, ignore_index=True)\n",
      "C:\\Users\\skhan\\AppData\\Local\\Temp\\ipykernel_14456\\126579774.py:74: FutureWarning: The frame.append method is deprecated and will be removed from pandas in a future version. Use pandas.concat instead.\n",
      "  big_data = big_data.append(d, ignore_index=True)\n",
      "C:\\Users\\skhan\\AppData\\Local\\Temp\\ipykernel_14456\\126579774.py:74: FutureWarning: The frame.append method is deprecated and will be removed from pandas in a future version. Use pandas.concat instead.\n",
      "  big_data = big_data.append(d, ignore_index=True)\n",
      "C:\\Users\\skhan\\AppData\\Local\\Temp\\ipykernel_14456\\126579774.py:74: FutureWarning: The frame.append method is deprecated and will be removed from pandas in a future version. Use pandas.concat instead.\n",
      "  big_data = big_data.append(d, ignore_index=True)\n",
      "C:\\Users\\skhan\\AppData\\Local\\Temp\\ipykernel_14456\\126579774.py:74: FutureWarning: The frame.append method is deprecated and will be removed from pandas in a future version. Use pandas.concat instead.\n",
      "  big_data = big_data.append(d, ignore_index=True)\n",
      "C:\\Users\\skhan\\AppData\\Local\\Temp\\ipykernel_14456\\126579774.py:74: FutureWarning: The frame.append method is deprecated and will be removed from pandas in a future version. Use pandas.concat instead.\n",
      "  big_data = big_data.append(d, ignore_index=True)\n",
      "C:\\Users\\skhan\\AppData\\Local\\Temp\\ipykernel_14456\\126579774.py:74: FutureWarning: The frame.append method is deprecated and will be removed from pandas in a future version. Use pandas.concat instead.\n",
      "  big_data = big_data.append(d, ignore_index=True)\n",
      "C:\\Users\\skhan\\AppData\\Local\\Temp\\ipykernel_14456\\126579774.py:74: FutureWarning: The frame.append method is deprecated and will be removed from pandas in a future version. Use pandas.concat instead.\n",
      "  big_data = big_data.append(d, ignore_index=True)\n",
      "C:\\Users\\skhan\\AppData\\Local\\Temp\\ipykernel_14456\\126579774.py:74: FutureWarning: The frame.append method is deprecated and will be removed from pandas in a future version. Use pandas.concat instead.\n",
      "  big_data = big_data.append(d, ignore_index=True)\n",
      "C:\\Users\\skhan\\AppData\\Local\\Temp\\ipykernel_14456\\126579774.py:74: FutureWarning: The frame.append method is deprecated and will be removed from pandas in a future version. Use pandas.concat instead.\n",
      "  big_data = big_data.append(d, ignore_index=True)\n",
      "C:\\Users\\skhan\\AppData\\Local\\Temp\\ipykernel_14456\\126579774.py:74: FutureWarning: The frame.append method is deprecated and will be removed from pandas in a future version. Use pandas.concat instead.\n",
      "  big_data = big_data.append(d, ignore_index=True)\n",
      "C:\\Users\\skhan\\AppData\\Local\\Temp\\ipykernel_14456\\126579774.py:74: FutureWarning: The frame.append method is deprecated and will be removed from pandas in a future version. Use pandas.concat instead.\n",
      "  big_data = big_data.append(d, ignore_index=True)\n"
     ]
    },
    {
     "data": {
      "text/plain": "                                                 file          s  long  \\\n0   downloaded_configs\\passivbot_v5.9.x\\configs\\v5...   ATOMUSDT  True   \n1   downloaded_configs\\passivbot_v5.9.x\\configs\\v5...    CHZUSDT  True   \n2   downloaded_configs\\passivbot_v5.9.x\\configs\\v5...   DOGEUSDT  True   \n3   downloaded_configs\\passivbot_v5.9.x\\configs\\v5...    DOTUSDT  True   \n4   downloaded_configs\\passivbot_v5.9.x\\configs\\v5...   DYDXUSDT  True   \n5   downloaded_configs\\passivbot_v5.9.x\\configs\\v5...    EOSUSDT  True   \n6   downloaded_configs\\passivbot_v5.9.x\\configs\\v5...   HBARUSDT  True   \n7   downloaded_configs\\passivbot_v5.9.x\\configs\\v5...   LINKUSDT  True   \n8   downloaded_configs\\passivbot_v5.9.x\\configs\\v5...   MANAUSDT  True   \n9   downloaded_configs\\passivbot_v5.9.x\\configs\\v5...  MATICUSDT  True   \n10  downloaded_configs\\passivbot_v5.9.x\\configs\\v5...     OPUSDT  True   \n11  downloaded_configs\\passivbot_v5.9.x\\configs\\v5...   SANDUSDT  True   \n12  downloaded_configs\\passivbot_v5.9.x\\configs\\v5...  SUSHIUSDT  True   \n13  downloaded_configs\\passivbot_v5.9.x\\configs\\v5...    XRPUSDT  True   \n14  downloaded_configs\\passivbot_v5.9.x\\configs\\v5...    XTZUSDT  True   \n\n      tgl_%  adgl_%    pastdl    pamaxl  bnkrl_%    ebrl     maxsl short  \\\n0   101.800  0.0688  0.018619  1.060040    100.0  0.8712  3.352779  True   \n1    96.650  0.0982  0.017995  1.279900    100.0  0.8595  3.104862  True   \n2   144.300  0.1030  0.013416  0.755366    100.0  0.8923  4.440958  True   \n3    99.130  0.0834  0.012744  0.859077    100.0  0.8838  3.695137  True   \n4    26.210  0.0531  0.020629  0.285243    100.0  0.9444  5.735417  True   \n5    32.040  0.0274  0.027116  1.309660    100.0  0.8581  3.595833  True   \n6    66.160  0.0818  0.009254  0.666551    100.0  0.8999  3.573612  True   \n7    71.170  0.0518  0.017020  0.365803    100.0  0.9329  6.122917  True   \n8   100.200  0.1090  0.017288  1.447380    100.0  0.8520  2.286804  True   \n9   150.100  0.1200  0.019128  0.618375    100.0  0.9043  3.083333  True   \n10    7.501  0.0564  0.009283  0.129090    100.0  0.9886  3.386804   NaN   \n11   56.410  0.0667  0.013576  0.629215    100.0  0.9033  4.159721  True   \n12   86.140  0.0765  0.019618  1.037720    100.0  0.8725  1.398612  True   \n13   66.830  0.0490  0.015894  0.705134    100.0  0.8965  8.127792  True   \n14   76.870  0.0548  0.013739  1.258540    100.0  0.8605  2.078471  True   \n\n      tgs_%  adgs_%    pastds    pamaxs   bnkrs_%      ebrs       maxss  \n0    27.510  0.0233  0.016841  0.280098  100.0000    0.9529    5.578458  \n1    28.440  0.0370  0.015488  0.349507  100.0000    0.9355    3.149304  \n2  -111.300 -0.5310  1.730750  6.649780    0.2748 -241.0000  581.450000  \n3    15.340  0.0168  0.009927  0.119440  100.0000    0.9835    4.614583  \n4    27.870  0.0540  0.016606  0.245021  100.0000    0.9610    3.342363  \n5     3.326  0.0045  0.069210  0.572953  100.0000    0.8382    4.189583  \n6    25.690  0.0360  0.009242  0.275973  100.0000    0.9542    3.349304  \n7    18.510  0.0158  0.014173  0.164406  100.0000    0.9762    6.031958  \n8    19.320  0.0285  0.026497  0.336111  100.0000    0.9391    4.251375  \n9    18.800  0.0226  0.015581  0.276874  100.0000    0.9536    5.791667  \n10      NaN     NaN       NaN       NaN       NaN       NaN         NaN  \n11   14.840  0.0225  0.108080  0.655966  100.0000    0.7670   12.613875  \n12   34.050  0.0359  0.017543  0.359026  100.0000    0.9327    3.212500  \n13   26.880  0.0222  0.018618  0.255275  100.0000    0.9588    4.408333  \n14   24.100  0.0210  0.012905  0.293882  100.0000    0.9500    5.323625  ",
      "text/html": "<div>\n<style scoped>\n    .dataframe tbody tr th:only-of-type {\n        vertical-align: middle;\n    }\n\n    .dataframe tbody tr th {\n        vertical-align: top;\n    }\n\n    .dataframe thead th {\n        text-align: right;\n    }\n</style>\n<table border=\"1\" class=\"dataframe\">\n  <thead>\n    <tr style=\"text-align: right;\">\n      <th></th>\n      <th>file</th>\n      <th>s</th>\n      <th>long</th>\n      <th>tgl_%</th>\n      <th>adgl_%</th>\n      <th>pastdl</th>\n      <th>pamaxl</th>\n      <th>bnkrl_%</th>\n      <th>ebrl</th>\n      <th>maxsl</th>\n      <th>short</th>\n      <th>tgs_%</th>\n      <th>adgs_%</th>\n      <th>pastds</th>\n      <th>pamaxs</th>\n      <th>bnkrs_%</th>\n      <th>ebrs</th>\n      <th>maxss</th>\n    </tr>\n  </thead>\n  <tbody>\n    <tr>\n      <th>0</th>\n      <td>downloaded_configs\\passivbot_v5.9.x\\configs\\v5...</td>\n      <td>ATOMUSDT</td>\n      <td>True</td>\n      <td>101.800</td>\n      <td>0.0688</td>\n      <td>0.018619</td>\n      <td>1.060040</td>\n      <td>100.0</td>\n      <td>0.8712</td>\n      <td>3.352779</td>\n      <td>True</td>\n      <td>27.510</td>\n      <td>0.0233</td>\n      <td>0.016841</td>\n      <td>0.280098</td>\n      <td>100.0000</td>\n      <td>0.9529</td>\n      <td>5.578458</td>\n    </tr>\n    <tr>\n      <th>1</th>\n      <td>downloaded_configs\\passivbot_v5.9.x\\configs\\v5...</td>\n      <td>CHZUSDT</td>\n      <td>True</td>\n      <td>96.650</td>\n      <td>0.0982</td>\n      <td>0.017995</td>\n      <td>1.279900</td>\n      <td>100.0</td>\n      <td>0.8595</td>\n      <td>3.104862</td>\n      <td>True</td>\n      <td>28.440</td>\n      <td>0.0370</td>\n      <td>0.015488</td>\n      <td>0.349507</td>\n      <td>100.0000</td>\n      <td>0.9355</td>\n      <td>3.149304</td>\n    </tr>\n    <tr>\n      <th>2</th>\n      <td>downloaded_configs\\passivbot_v5.9.x\\configs\\v5...</td>\n      <td>DOGEUSDT</td>\n      <td>True</td>\n      <td>144.300</td>\n      <td>0.1030</td>\n      <td>0.013416</td>\n      <td>0.755366</td>\n      <td>100.0</td>\n      <td>0.8923</td>\n      <td>4.440958</td>\n      <td>True</td>\n      <td>-111.300</td>\n      <td>-0.5310</td>\n      <td>1.730750</td>\n      <td>6.649780</td>\n      <td>0.2748</td>\n      <td>-241.0000</td>\n      <td>581.450000</td>\n    </tr>\n    <tr>\n      <th>3</th>\n      <td>downloaded_configs\\passivbot_v5.9.x\\configs\\v5...</td>\n      <td>DOTUSDT</td>\n      <td>True</td>\n      <td>99.130</td>\n      <td>0.0834</td>\n      <td>0.012744</td>\n      <td>0.859077</td>\n      <td>100.0</td>\n      <td>0.8838</td>\n      <td>3.695137</td>\n      <td>True</td>\n      <td>15.340</td>\n      <td>0.0168</td>\n      <td>0.009927</td>\n      <td>0.119440</td>\n      <td>100.0000</td>\n      <td>0.9835</td>\n      <td>4.614583</td>\n    </tr>\n    <tr>\n      <th>4</th>\n      <td>downloaded_configs\\passivbot_v5.9.x\\configs\\v5...</td>\n      <td>DYDXUSDT</td>\n      <td>True</td>\n      <td>26.210</td>\n      <td>0.0531</td>\n      <td>0.020629</td>\n      <td>0.285243</td>\n      <td>100.0</td>\n      <td>0.9444</td>\n      <td>5.735417</td>\n      <td>True</td>\n      <td>27.870</td>\n      <td>0.0540</td>\n      <td>0.016606</td>\n      <td>0.245021</td>\n      <td>100.0000</td>\n      <td>0.9610</td>\n      <td>3.342363</td>\n    </tr>\n    <tr>\n      <th>5</th>\n      <td>downloaded_configs\\passivbot_v5.9.x\\configs\\v5...</td>\n      <td>EOSUSDT</td>\n      <td>True</td>\n      <td>32.040</td>\n      <td>0.0274</td>\n      <td>0.027116</td>\n      <td>1.309660</td>\n      <td>100.0</td>\n      <td>0.8581</td>\n      <td>3.595833</td>\n      <td>True</td>\n      <td>3.326</td>\n      <td>0.0045</td>\n      <td>0.069210</td>\n      <td>0.572953</td>\n      <td>100.0000</td>\n      <td>0.8382</td>\n      <td>4.189583</td>\n    </tr>\n    <tr>\n      <th>6</th>\n      <td>downloaded_configs\\passivbot_v5.9.x\\configs\\v5...</td>\n      <td>HBARUSDT</td>\n      <td>True</td>\n      <td>66.160</td>\n      <td>0.0818</td>\n      <td>0.009254</td>\n      <td>0.666551</td>\n      <td>100.0</td>\n      <td>0.8999</td>\n      <td>3.573612</td>\n      <td>True</td>\n      <td>25.690</td>\n      <td>0.0360</td>\n      <td>0.009242</td>\n      <td>0.275973</td>\n      <td>100.0000</td>\n      <td>0.9542</td>\n      <td>3.349304</td>\n    </tr>\n    <tr>\n      <th>7</th>\n      <td>downloaded_configs\\passivbot_v5.9.x\\configs\\v5...</td>\n      <td>LINKUSDT</td>\n      <td>True</td>\n      <td>71.170</td>\n      <td>0.0518</td>\n      <td>0.017020</td>\n      <td>0.365803</td>\n      <td>100.0</td>\n      <td>0.9329</td>\n      <td>6.122917</td>\n      <td>True</td>\n      <td>18.510</td>\n      <td>0.0158</td>\n      <td>0.014173</td>\n      <td>0.164406</td>\n      <td>100.0000</td>\n      <td>0.9762</td>\n      <td>6.031958</td>\n    </tr>\n    <tr>\n      <th>8</th>\n      <td>downloaded_configs\\passivbot_v5.9.x\\configs\\v5...</td>\n      <td>MANAUSDT</td>\n      <td>True</td>\n      <td>100.200</td>\n      <td>0.1090</td>\n      <td>0.017288</td>\n      <td>1.447380</td>\n      <td>100.0</td>\n      <td>0.8520</td>\n      <td>2.286804</td>\n      <td>True</td>\n      <td>19.320</td>\n      <td>0.0285</td>\n      <td>0.026497</td>\n      <td>0.336111</td>\n      <td>100.0000</td>\n      <td>0.9391</td>\n      <td>4.251375</td>\n    </tr>\n    <tr>\n      <th>9</th>\n      <td>downloaded_configs\\passivbot_v5.9.x\\configs\\v5...</td>\n      <td>MATICUSDT</td>\n      <td>True</td>\n      <td>150.100</td>\n      <td>0.1200</td>\n      <td>0.019128</td>\n      <td>0.618375</td>\n      <td>100.0</td>\n      <td>0.9043</td>\n      <td>3.083333</td>\n      <td>True</td>\n      <td>18.800</td>\n      <td>0.0226</td>\n      <td>0.015581</td>\n      <td>0.276874</td>\n      <td>100.0000</td>\n      <td>0.9536</td>\n      <td>5.791667</td>\n    </tr>\n    <tr>\n      <th>10</th>\n      <td>downloaded_configs\\passivbot_v5.9.x\\configs\\v5...</td>\n      <td>OPUSDT</td>\n      <td>True</td>\n      <td>7.501</td>\n      <td>0.0564</td>\n      <td>0.009283</td>\n      <td>0.129090</td>\n      <td>100.0</td>\n      <td>0.9886</td>\n      <td>3.386804</td>\n      <td>NaN</td>\n      <td>NaN</td>\n      <td>NaN</td>\n      <td>NaN</td>\n      <td>NaN</td>\n      <td>NaN</td>\n      <td>NaN</td>\n      <td>NaN</td>\n    </tr>\n    <tr>\n      <th>11</th>\n      <td>downloaded_configs\\passivbot_v5.9.x\\configs\\v5...</td>\n      <td>SANDUSDT</td>\n      <td>True</td>\n      <td>56.410</td>\n      <td>0.0667</td>\n      <td>0.013576</td>\n      <td>0.629215</td>\n      <td>100.0</td>\n      <td>0.9033</td>\n      <td>4.159721</td>\n      <td>True</td>\n      <td>14.840</td>\n      <td>0.0225</td>\n      <td>0.108080</td>\n      <td>0.655966</td>\n      <td>100.0000</td>\n      <td>0.7670</td>\n      <td>12.613875</td>\n    </tr>\n    <tr>\n      <th>12</th>\n      <td>downloaded_configs\\passivbot_v5.9.x\\configs\\v5...</td>\n      <td>SUSHIUSDT</td>\n      <td>True</td>\n      <td>86.140</td>\n      <td>0.0765</td>\n      <td>0.019618</td>\n      <td>1.037720</td>\n      <td>100.0</td>\n      <td>0.8725</td>\n      <td>1.398612</td>\n      <td>True</td>\n      <td>34.050</td>\n      <td>0.0359</td>\n      <td>0.017543</td>\n      <td>0.359026</td>\n      <td>100.0000</td>\n      <td>0.9327</td>\n      <td>3.212500</td>\n    </tr>\n    <tr>\n      <th>13</th>\n      <td>downloaded_configs\\passivbot_v5.9.x\\configs\\v5...</td>\n      <td>XRPUSDT</td>\n      <td>True</td>\n      <td>66.830</td>\n      <td>0.0490</td>\n      <td>0.015894</td>\n      <td>0.705134</td>\n      <td>100.0</td>\n      <td>0.8965</td>\n      <td>8.127792</td>\n      <td>True</td>\n      <td>26.880</td>\n      <td>0.0222</td>\n      <td>0.018618</td>\n      <td>0.255275</td>\n      <td>100.0000</td>\n      <td>0.9588</td>\n      <td>4.408333</td>\n    </tr>\n    <tr>\n      <th>14</th>\n      <td>downloaded_configs\\passivbot_v5.9.x\\configs\\v5...</td>\n      <td>XTZUSDT</td>\n      <td>True</td>\n      <td>76.870</td>\n      <td>0.0548</td>\n      <td>0.013739</td>\n      <td>1.258540</td>\n      <td>100.0</td>\n      <td>0.8605</td>\n      <td>2.078471</td>\n      <td>True</td>\n      <td>24.100</td>\n      <td>0.0210</td>\n      <td>0.012905</td>\n      <td>0.293882</td>\n      <td>100.0000</td>\n      <td>0.9500</td>\n      <td>5.323625</td>\n    </tr>\n  </tbody>\n</table>\n</div>"
     },
     "execution_count": 14,
     "metadata": {},
     "output_type": "execute_result"
    }
   ],
   "source": [
    "import os\n",
    "\n",
    "big_data = pd.DataFrame()\n",
    "## find current folder root\n",
    "root = os.getcwd()\n",
    "\n",
    "all_files = glob.iglob(r'downloaded_configs\\passivbot_v5.9.x\\configs\\v5.9.0\\harmony\\recursive\\longshort\\harmony_recurv_auenabled_longshort_0.25_0.12WE_bwtp_off' + '/**/result.txt', recursive=True)\n",
    "\n",
    "files = []\n",
    "for file in all_files:\n",
    "    if '\\\\old\\\\' not in file:\n",
    "        files.append(file)\n",
    "\n",
    "print(files)\n",
    "\n",
    "i = 0\n",
    "for filename in files:\n",
    "    #print(f'parsing : {filename}')\n",
    "    json_file = os.path.abspath(filename.replace('result.txt', '../config.json'))\n",
    "    with open(json_file) as f:\n",
    "        live_config = json.load(f)\n",
    "        config_type = live_config['config_name']\n",
    "\n",
    "    with open(filename, 'r') as file:\n",
    "        data = file.read().split('\\n')\n",
    "        d = {'file': filename}\n",
    "        current_state = 'long'\n",
    "        for l in data:\n",
    "            l = l.split('|')\n",
    "            if len(l) == 4:\n",
    "                key = l[1].strip()\n",
    "                value = l[2].strip()\n",
    "\n",
    "                if key == 'Symbol':\n",
    "                    d['s'] = value\n",
    "\n",
    "                if key == 'Long':\n",
    "                    current_state = 'long'\n",
    "                    d['long'] = bool(value) or False\n",
    "                if key == 'Short':\n",
    "                    current_state = 'short'\n",
    "                    d['short'] = bool(value) or False\n",
    "\n",
    "                if key == 'Total gain' and current_state == 'long':\n",
    "                    d['tgl_%'] = float(value.replace('%', '').strip())\n",
    "                if key == 'Average daily gain' and current_state == 'long':\n",
    "                    d['adgl_%'] = float(value.replace('%', '').strip())\n",
    "                if key == 'Closest bankruptcy' and current_state == 'long':\n",
    "                    d['bnkrl_%'] = float(value.replace('%', '').strip())\n",
    "                if key == 'Lowest equity/balance ratio' and current_state == 'long':\n",
    "                    d['ebrl'] = float(value.replace('%', '').strip())\n",
    "                if key == 'Max hours stuck' and current_state == 'long':\n",
    "                    d['maxsl'] = float(value.replace('%', '').strip()) / 24\n",
    "                if key == 'Price action distance max' and current_state == 'long':\n",
    "                    d['pamaxl'] = float(value.replace('%', '').strip())\n",
    "                if key == 'Price action distance std' and current_state == 'long':\n",
    "                    d['pastdl'] = float(value.strip())\n",
    "\n",
    "                if key == 'Total gain' and current_state == 'short':\n",
    "                    d['tgs_%'] = float(value.replace('%', '').strip())\n",
    "                if key == 'Average daily gain' and current_state == 'short':\n",
    "                    d['adgs_%'] = float(value.replace('%', '').strip())\n",
    "                if key == 'Closest bankruptcy' and current_state == 'short':\n",
    "                    d['bnkrs_%'] = float(value.replace('%', '').strip())\n",
    "                if key == 'Lowest equity/balance ratio' and current_state == 'short':\n",
    "                    d['ebrs'] = float(value.replace('%', '').strip())\n",
    "                if key == 'Max hours stuck' and current_state == 'short':\n",
    "                    d['maxss'] = float(value.replace('%', '').strip()) / 24\n",
    "                if key == 'Price action distance max' and current_state == 'short':\n",
    "                    d['pamaxs'] = float(value.replace('%', '').strip())\n",
    "                if key == 'Price action distance std' and current_state == 'short':\n",
    "                    d['pastds'] = float(value.strip())\n",
    "\n",
    "        big_data = big_data.append(d, ignore_index=True)\n",
    "big_data"
   ],
   "metadata": {
    "collapsed": false,
    "pycharm": {
     "name": "#%%\n"
    }
   }
  },
  {
   "cell_type": "code",
   "execution_count": 15,
   "outputs": [
    {
     "data": {
      "text/plain": "                                                 file          s  long  \\\n0   downloaded_configs\\passivbot_v5.9.x\\configs\\v5...   ATOMUSDT  True   \n1   downloaded_configs\\passivbot_v5.9.x\\configs\\v5...    CHZUSDT  True   \n2   downloaded_configs\\passivbot_v5.9.x\\configs\\v5...   DOGEUSDT  True   \n3   downloaded_configs\\passivbot_v5.9.x\\configs\\v5...    DOTUSDT  True   \n5   downloaded_configs\\passivbot_v5.9.x\\configs\\v5...    EOSUSDT  True   \n6   downloaded_configs\\passivbot_v5.9.x\\configs\\v5...   HBARUSDT  True   \n7   downloaded_configs\\passivbot_v5.9.x\\configs\\v5...   LINKUSDT  True   \n8   downloaded_configs\\passivbot_v5.9.x\\configs\\v5...   MANAUSDT  True   \n9   downloaded_configs\\passivbot_v5.9.x\\configs\\v5...  MATICUSDT  True   \n11  downloaded_configs\\passivbot_v5.9.x\\configs\\v5...   SANDUSDT  True   \n12  downloaded_configs\\passivbot_v5.9.x\\configs\\v5...  SUSHIUSDT  True   \n13  downloaded_configs\\passivbot_v5.9.x\\configs\\v5...    XRPUSDT  True   \n14  downloaded_configs\\passivbot_v5.9.x\\configs\\v5...    XTZUSDT  True   \n\n     tgl_%  adgl_%    pastdl    pamaxl  bnkrl_%    ebrl     maxsl short  \\\n0   101.80  0.0688  0.018619  1.060040    100.0  0.8712  3.352779  True   \n1    96.65  0.0982  0.017995  1.279900    100.0  0.8595  3.104862  True   \n2   144.30  0.1030  0.013416  0.755366    100.0  0.8923  4.440958  True   \n3    99.13  0.0834  0.012744  0.859077    100.0  0.8838  3.695137  True   \n5    32.04  0.0274  0.027116  1.309660    100.0  0.8581  3.595833  True   \n6    66.16  0.0818  0.009254  0.666551    100.0  0.8999  3.573612  True   \n7    71.17  0.0518  0.017020  0.365803    100.0  0.9329  6.122917  True   \n8   100.20  0.1090  0.017288  1.447380    100.0  0.8520  2.286804  True   \n9   150.10  0.1200  0.019128  0.618375    100.0  0.9043  3.083333  True   \n11   56.41  0.0667  0.013576  0.629215    100.0  0.9033  4.159721  True   \n12   86.14  0.0765  0.019618  1.037720    100.0  0.8725  1.398612  True   \n13   66.83  0.0490  0.015894  0.705134    100.0  0.8965  8.127792  True   \n14   76.87  0.0548  0.013739  1.258540    100.0  0.8605  2.078471  True   \n\n      tgs_%  adgs_%    pastds    pamaxs   bnkrs_%      ebrs       maxss  \\\n0    27.510  0.0233  0.016841  0.280098  100.0000    0.9529    5.578458   \n1    28.440  0.0370  0.015488  0.349507  100.0000    0.9355    3.149304   \n2  -111.300 -0.5310  1.730750  6.649780    0.2748 -241.0000  581.450000   \n3    15.340  0.0168  0.009927  0.119440  100.0000    0.9835    4.614583   \n5     3.326  0.0045  0.069210  0.572953  100.0000    0.8382    4.189583   \n6    25.690  0.0360  0.009242  0.275973  100.0000    0.9542    3.349304   \n7    18.510  0.0158  0.014173  0.164406  100.0000    0.9762    6.031958   \n8    19.320  0.0285  0.026497  0.336111  100.0000    0.9391    4.251375   \n9    18.800  0.0226  0.015581  0.276874  100.0000    0.9536    5.791667   \n11   14.840  0.0225  0.108080  0.655966  100.0000    0.7670   12.613875   \n12   34.050  0.0359  0.017543  0.359026  100.0000    0.9327    3.212500   \n13   26.880  0.0222  0.018618  0.255275  100.0000    0.9588    4.408333   \n14   24.100  0.0210  0.012905  0.293882  100.0000    0.9500    5.323625   \n\n    adgt_%  \n0   0.0921  \n1   0.1352  \n2  -0.4280  \n3   0.1002  \n5   0.0319  \n6   0.1178  \n7   0.0676  \n8   0.1375  \n9   0.1426  \n11  0.0892  \n12  0.1124  \n13  0.0712  \n14  0.0758  ",
      "text/html": "<div>\n<style scoped>\n    .dataframe tbody tr th:only-of-type {\n        vertical-align: middle;\n    }\n\n    .dataframe tbody tr th {\n        vertical-align: top;\n    }\n\n    .dataframe thead th {\n        text-align: right;\n    }\n</style>\n<table border=\"1\" class=\"dataframe\">\n  <thead>\n    <tr style=\"text-align: right;\">\n      <th></th>\n      <th>file</th>\n      <th>s</th>\n      <th>long</th>\n      <th>tgl_%</th>\n      <th>adgl_%</th>\n      <th>pastdl</th>\n      <th>pamaxl</th>\n      <th>bnkrl_%</th>\n      <th>ebrl</th>\n      <th>maxsl</th>\n      <th>short</th>\n      <th>tgs_%</th>\n      <th>adgs_%</th>\n      <th>pastds</th>\n      <th>pamaxs</th>\n      <th>bnkrs_%</th>\n      <th>ebrs</th>\n      <th>maxss</th>\n      <th>adgt_%</th>\n    </tr>\n  </thead>\n  <tbody>\n    <tr>\n      <th>0</th>\n      <td>downloaded_configs\\passivbot_v5.9.x\\configs\\v5...</td>\n      <td>ATOMUSDT</td>\n      <td>True</td>\n      <td>101.80</td>\n      <td>0.0688</td>\n      <td>0.018619</td>\n      <td>1.060040</td>\n      <td>100.0</td>\n      <td>0.8712</td>\n      <td>3.352779</td>\n      <td>True</td>\n      <td>27.510</td>\n      <td>0.0233</td>\n      <td>0.016841</td>\n      <td>0.280098</td>\n      <td>100.0000</td>\n      <td>0.9529</td>\n      <td>5.578458</td>\n      <td>0.0921</td>\n    </tr>\n    <tr>\n      <th>1</th>\n      <td>downloaded_configs\\passivbot_v5.9.x\\configs\\v5...</td>\n      <td>CHZUSDT</td>\n      <td>True</td>\n      <td>96.65</td>\n      <td>0.0982</td>\n      <td>0.017995</td>\n      <td>1.279900</td>\n      <td>100.0</td>\n      <td>0.8595</td>\n      <td>3.104862</td>\n      <td>True</td>\n      <td>28.440</td>\n      <td>0.0370</td>\n      <td>0.015488</td>\n      <td>0.349507</td>\n      <td>100.0000</td>\n      <td>0.9355</td>\n      <td>3.149304</td>\n      <td>0.1352</td>\n    </tr>\n    <tr>\n      <th>2</th>\n      <td>downloaded_configs\\passivbot_v5.9.x\\configs\\v5...</td>\n      <td>DOGEUSDT</td>\n      <td>True</td>\n      <td>144.30</td>\n      <td>0.1030</td>\n      <td>0.013416</td>\n      <td>0.755366</td>\n      <td>100.0</td>\n      <td>0.8923</td>\n      <td>4.440958</td>\n      <td>True</td>\n      <td>-111.300</td>\n      <td>-0.5310</td>\n      <td>1.730750</td>\n      <td>6.649780</td>\n      <td>0.2748</td>\n      <td>-241.0000</td>\n      <td>581.450000</td>\n      <td>-0.4280</td>\n    </tr>\n    <tr>\n      <th>3</th>\n      <td>downloaded_configs\\passivbot_v5.9.x\\configs\\v5...</td>\n      <td>DOTUSDT</td>\n      <td>True</td>\n      <td>99.13</td>\n      <td>0.0834</td>\n      <td>0.012744</td>\n      <td>0.859077</td>\n      <td>100.0</td>\n      <td>0.8838</td>\n      <td>3.695137</td>\n      <td>True</td>\n      <td>15.340</td>\n      <td>0.0168</td>\n      <td>0.009927</td>\n      <td>0.119440</td>\n      <td>100.0000</td>\n      <td>0.9835</td>\n      <td>4.614583</td>\n      <td>0.1002</td>\n    </tr>\n    <tr>\n      <th>5</th>\n      <td>downloaded_configs\\passivbot_v5.9.x\\configs\\v5...</td>\n      <td>EOSUSDT</td>\n      <td>True</td>\n      <td>32.04</td>\n      <td>0.0274</td>\n      <td>0.027116</td>\n      <td>1.309660</td>\n      <td>100.0</td>\n      <td>0.8581</td>\n      <td>3.595833</td>\n      <td>True</td>\n      <td>3.326</td>\n      <td>0.0045</td>\n      <td>0.069210</td>\n      <td>0.572953</td>\n      <td>100.0000</td>\n      <td>0.8382</td>\n      <td>4.189583</td>\n      <td>0.0319</td>\n    </tr>\n    <tr>\n      <th>6</th>\n      <td>downloaded_configs\\passivbot_v5.9.x\\configs\\v5...</td>\n      <td>HBARUSDT</td>\n      <td>True</td>\n      <td>66.16</td>\n      <td>0.0818</td>\n      <td>0.009254</td>\n      <td>0.666551</td>\n      <td>100.0</td>\n      <td>0.8999</td>\n      <td>3.573612</td>\n      <td>True</td>\n      <td>25.690</td>\n      <td>0.0360</td>\n      <td>0.009242</td>\n      <td>0.275973</td>\n      <td>100.0000</td>\n      <td>0.9542</td>\n      <td>3.349304</td>\n      <td>0.1178</td>\n    </tr>\n    <tr>\n      <th>7</th>\n      <td>downloaded_configs\\passivbot_v5.9.x\\configs\\v5...</td>\n      <td>LINKUSDT</td>\n      <td>True</td>\n      <td>71.17</td>\n      <td>0.0518</td>\n      <td>0.017020</td>\n      <td>0.365803</td>\n      <td>100.0</td>\n      <td>0.9329</td>\n      <td>6.122917</td>\n      <td>True</td>\n      <td>18.510</td>\n      <td>0.0158</td>\n      <td>0.014173</td>\n      <td>0.164406</td>\n      <td>100.0000</td>\n      <td>0.9762</td>\n      <td>6.031958</td>\n      <td>0.0676</td>\n    </tr>\n    <tr>\n      <th>8</th>\n      <td>downloaded_configs\\passivbot_v5.9.x\\configs\\v5...</td>\n      <td>MANAUSDT</td>\n      <td>True</td>\n      <td>100.20</td>\n      <td>0.1090</td>\n      <td>0.017288</td>\n      <td>1.447380</td>\n      <td>100.0</td>\n      <td>0.8520</td>\n      <td>2.286804</td>\n      <td>True</td>\n      <td>19.320</td>\n      <td>0.0285</td>\n      <td>0.026497</td>\n      <td>0.336111</td>\n      <td>100.0000</td>\n      <td>0.9391</td>\n      <td>4.251375</td>\n      <td>0.1375</td>\n    </tr>\n    <tr>\n      <th>9</th>\n      <td>downloaded_configs\\passivbot_v5.9.x\\configs\\v5...</td>\n      <td>MATICUSDT</td>\n      <td>True</td>\n      <td>150.10</td>\n      <td>0.1200</td>\n      <td>0.019128</td>\n      <td>0.618375</td>\n      <td>100.0</td>\n      <td>0.9043</td>\n      <td>3.083333</td>\n      <td>True</td>\n      <td>18.800</td>\n      <td>0.0226</td>\n      <td>0.015581</td>\n      <td>0.276874</td>\n      <td>100.0000</td>\n      <td>0.9536</td>\n      <td>5.791667</td>\n      <td>0.1426</td>\n    </tr>\n    <tr>\n      <th>11</th>\n      <td>downloaded_configs\\passivbot_v5.9.x\\configs\\v5...</td>\n      <td>SANDUSDT</td>\n      <td>True</td>\n      <td>56.41</td>\n      <td>0.0667</td>\n      <td>0.013576</td>\n      <td>0.629215</td>\n      <td>100.0</td>\n      <td>0.9033</td>\n      <td>4.159721</td>\n      <td>True</td>\n      <td>14.840</td>\n      <td>0.0225</td>\n      <td>0.108080</td>\n      <td>0.655966</td>\n      <td>100.0000</td>\n      <td>0.7670</td>\n      <td>12.613875</td>\n      <td>0.0892</td>\n    </tr>\n    <tr>\n      <th>12</th>\n      <td>downloaded_configs\\passivbot_v5.9.x\\configs\\v5...</td>\n      <td>SUSHIUSDT</td>\n      <td>True</td>\n      <td>86.14</td>\n      <td>0.0765</td>\n      <td>0.019618</td>\n      <td>1.037720</td>\n      <td>100.0</td>\n      <td>0.8725</td>\n      <td>1.398612</td>\n      <td>True</td>\n      <td>34.050</td>\n      <td>0.0359</td>\n      <td>0.017543</td>\n      <td>0.359026</td>\n      <td>100.0000</td>\n      <td>0.9327</td>\n      <td>3.212500</td>\n      <td>0.1124</td>\n    </tr>\n    <tr>\n      <th>13</th>\n      <td>downloaded_configs\\passivbot_v5.9.x\\configs\\v5...</td>\n      <td>XRPUSDT</td>\n      <td>True</td>\n      <td>66.83</td>\n      <td>0.0490</td>\n      <td>0.015894</td>\n      <td>0.705134</td>\n      <td>100.0</td>\n      <td>0.8965</td>\n      <td>8.127792</td>\n      <td>True</td>\n      <td>26.880</td>\n      <td>0.0222</td>\n      <td>0.018618</td>\n      <td>0.255275</td>\n      <td>100.0000</td>\n      <td>0.9588</td>\n      <td>4.408333</td>\n      <td>0.0712</td>\n    </tr>\n    <tr>\n      <th>14</th>\n      <td>downloaded_configs\\passivbot_v5.9.x\\configs\\v5...</td>\n      <td>XTZUSDT</td>\n      <td>True</td>\n      <td>76.87</td>\n      <td>0.0548</td>\n      <td>0.013739</td>\n      <td>1.258540</td>\n      <td>100.0</td>\n      <td>0.8605</td>\n      <td>2.078471</td>\n      <td>True</td>\n      <td>24.100</td>\n      <td>0.0210</td>\n      <td>0.012905</td>\n      <td>0.293882</td>\n      <td>100.0000</td>\n      <td>0.9500</td>\n      <td>5.323625</td>\n      <td>0.0758</td>\n    </tr>\n  </tbody>\n</table>\n</div>"
     },
     "execution_count": 15,
     "metadata": {},
     "output_type": "execute_result"
    }
   ],
   "source": [
    "allowed_symbols = [\n",
    "    \"ETHUSDT\", \"BCHUSDT\", \"XRPUSDT\", \"EOSUSDT\", \"LTCUSDT\", \"TRXUSDT\", \"ETCUSDT\", \"LINKUSDT\", \"XLMUSDT\", \"ADAUSDT\",\n",
    "    \"XMRUSDT\", \"DASHUSDT\", \"ZECUSDT\", \"XTZUSDT\", \"BNBUSDT\", \"ATOMUSDT\", \"NEOUSDT\", \"IOSTUSDT\", \"THETAUSDT\", \"ALGOUSDT\",\n",
    "    \"ZILUSDT\", \"KNCUSDT\", \"COMPUSDT\", \"OMGUSDT\", \"DOGEUSDT\", \"KAVAUSDT\", \"BANDUSDT\", \"RLCUSDT\", \"WAVESUSDT\", \"SNXUSDT\",\n",
    "    \"DOTUSDT\", \"CRVUSDT\", \"TRBUSDT\", \"RUNEUSDT\", \"SUSHIUSDT\", \"SRMUSDT\", \"EGLDUSDT\", \"FTMUSDT\", \"HNTUSDT\", \"RENUSDT\",\n",
    "    \"KSMUSDT\", \"NEARUSDT\", \"FILUSDT\", \"RSRUSDT\", \"MATICUSDT\", \"OCEANUSDT\", \"CVCUSDT\", \"GRTUSDT\", \"1INCHUSDT\", \"CHZUSDT\",\n",
    "    \"SANDUSDT\", \"BTSUSDT\", \"LITUSDT\", \"UNFIUSDT\", \"REEFUSDT\", \"MANAUSDT\", \"HBARUSDT\", \"ONEUSDT\", \"LINAUSDT\", \"STMXUSDT\",\n",
    "    \"DENTUSDT\", \"HOTUSDT\", \"MTLUSDT\", \"SCUSDT\", \"1000SHIBUSDT\"\n",
    "]\n",
    "#allowed_symbols = [s + \"USDT\" for s in allowed_symbols]\n",
    "big_data['adgt_%'] = big_data['adgl_%'] + big_data['adgs_%']\n",
    "df = big_data[(big_data.s.isin(allowed_symbols))\n",
    "    #& (big_data['long'] == True)\n",
    "    #& (big_data['adgl_%'] > 0.04)\n",
    "    #& (big_data['short'] == True)\n",
    "    #& (big_data['adgt_%'] > 0.1)\n",
    "    #& (big_data['bnkrl_%'] > 95.0)\n",
    "    #& (big_data['bnkrs_%'] > 95.0)\n",
    "    #& (big_data['ebrs'] > .85)\n",
    "    #& (big_data['ebrl'] > .8)\n",
    "    #& (big_data['v'] == '5.5')\n",
    "\n",
    "    # & (big_data['tg_%'] > 10)\n",
    "    # & (big_data['ebr'] > .85)\n",
    "]\n",
    "#df['total_adg'] = big_data['adgl_%'] + big_data['adgs_%']\n",
    "df.to_csv('5.9.0.csv')\n",
    "df"
   ],
   "metadata": {
    "collapsed": false,
    "pycharm": {
     "name": "#%%\n"
    }
   }
  },
  {
   "cell_type": "code",
   "execution_count": 16,
   "outputs": [
    {
     "name": "stderr",
     "output_type": "stream",
     "text": [
      "C:\\Users\\skhan\\AppData\\Local\\Temp\\ipykernel_14456\\994885060.py:1: SettingWithCopyWarning: \n",
      "A value is trying to be set on a copy of a slice from a DataFrame\n",
      "\n",
      "See the caveats in the documentation: https://pandas.pydata.org/pandas-docs/stable/user_guide/indexing.html#returning-a-view-versus-a-copy\n",
      "  df.drop_duplicates(\n"
     ]
    },
    {
     "data": {
      "text/plain": "                                                 file          s  adgt_%  \\\n0   downloaded_configs\\passivbot_v5.9.x\\configs\\v5...   ATOMUSDT  0.0921   \n1   downloaded_configs\\passivbot_v5.9.x\\configs\\v5...    CHZUSDT  0.1352   \n2   downloaded_configs\\passivbot_v5.9.x\\configs\\v5...   DOGEUSDT -0.4280   \n3   downloaded_configs\\passivbot_v5.9.x\\configs\\v5...    DOTUSDT  0.1002   \n5   downloaded_configs\\passivbot_v5.9.x\\configs\\v5...    EOSUSDT  0.0319   \n6   downloaded_configs\\passivbot_v5.9.x\\configs\\v5...   HBARUSDT  0.1178   \n7   downloaded_configs\\passivbot_v5.9.x\\configs\\v5...   LINKUSDT  0.0676   \n8   downloaded_configs\\passivbot_v5.9.x\\configs\\v5...   MANAUSDT  0.1375   \n9   downloaded_configs\\passivbot_v5.9.x\\configs\\v5...  MATICUSDT  0.1426   \n11  downloaded_configs\\passivbot_v5.9.x\\configs\\v5...   SANDUSDT  0.0892   \n12  downloaded_configs\\passivbot_v5.9.x\\configs\\v5...  SUSHIUSDT  0.1124   \n13  downloaded_configs\\passivbot_v5.9.x\\configs\\v5...    XRPUSDT  0.0712   \n14  downloaded_configs\\passivbot_v5.9.x\\configs\\v5...    XTZUSDT  0.0758   \n\n    adgl_%  adgs_%  bnkrl_%   bnkrs_%    ebrl      ebrs     maxsl    pamaxl  \\\n0   0.0688  0.0233    100.0  100.0000  0.8712    0.9529  3.352779  1.060040   \n1   0.0982  0.0370    100.0  100.0000  0.8595    0.9355  3.104862  1.279900   \n2   0.1030 -0.5310    100.0    0.2748  0.8923 -241.0000  4.440958  0.755366   \n3   0.0834  0.0168    100.0  100.0000  0.8838    0.9835  3.695137  0.859077   \n5   0.0274  0.0045    100.0  100.0000  0.8581    0.8382  3.595833  1.309660   \n6   0.0818  0.0360    100.0  100.0000  0.8999    0.9542  3.573612  0.666551   \n7   0.0518  0.0158    100.0  100.0000  0.9329    0.9762  6.122917  0.365803   \n8   0.1090  0.0285    100.0  100.0000  0.8520    0.9391  2.286804  1.447380   \n9   0.1200  0.0226    100.0  100.0000  0.9043    0.9536  3.083333  0.618375   \n11  0.0667  0.0225    100.0  100.0000  0.9033    0.7670  4.159721  0.629215   \n12  0.0765  0.0359    100.0  100.0000  0.8725    0.9327  1.398612  1.037720   \n13  0.0490  0.0222    100.0  100.0000  0.8965    0.9588  8.127792  0.705134   \n14  0.0548  0.0210    100.0  100.0000  0.8605    0.9500  2.078471  1.258540   \n\n      pastdl       maxss    pamaxs    pastds  \n0   0.018619    5.578458  0.280098  0.016841  \n1   0.017995    3.149304  0.349507  0.015488  \n2   0.013416  581.450000  6.649780  1.730750  \n3   0.012744    4.614583  0.119440  0.009927  \n5   0.027116    4.189583  0.572953  0.069210  \n6   0.009254    3.349304  0.275973  0.009242  \n7   0.017020    6.031958  0.164406  0.014173  \n8   0.017288    4.251375  0.336111  0.026497  \n9   0.019128    5.791667  0.276874  0.015581  \n11  0.013576   12.613875  0.655966  0.108080  \n12  0.019618    3.212500  0.359026  0.017543  \n13  0.015894    4.408333  0.255275  0.018618  \n14  0.013739    5.323625  0.293882  0.012905  ",
      "text/html": "<div>\n<style scoped>\n    .dataframe tbody tr th:only-of-type {\n        vertical-align: middle;\n    }\n\n    .dataframe tbody tr th {\n        vertical-align: top;\n    }\n\n    .dataframe thead th {\n        text-align: right;\n    }\n</style>\n<table border=\"1\" class=\"dataframe\">\n  <thead>\n    <tr style=\"text-align: right;\">\n      <th></th>\n      <th>file</th>\n      <th>s</th>\n      <th>adgt_%</th>\n      <th>adgl_%</th>\n      <th>adgs_%</th>\n      <th>bnkrl_%</th>\n      <th>bnkrs_%</th>\n      <th>ebrl</th>\n      <th>ebrs</th>\n      <th>maxsl</th>\n      <th>pamaxl</th>\n      <th>pastdl</th>\n      <th>maxss</th>\n      <th>pamaxs</th>\n      <th>pastds</th>\n    </tr>\n  </thead>\n  <tbody>\n    <tr>\n      <th>0</th>\n      <td>downloaded_configs\\passivbot_v5.9.x\\configs\\v5...</td>\n      <td>ATOMUSDT</td>\n      <td>0.0921</td>\n      <td>0.0688</td>\n      <td>0.0233</td>\n      <td>100.0</td>\n      <td>100.0000</td>\n      <td>0.8712</td>\n      <td>0.9529</td>\n      <td>3.352779</td>\n      <td>1.060040</td>\n      <td>0.018619</td>\n      <td>5.578458</td>\n      <td>0.280098</td>\n      <td>0.016841</td>\n    </tr>\n    <tr>\n      <th>1</th>\n      <td>downloaded_configs\\passivbot_v5.9.x\\configs\\v5...</td>\n      <td>CHZUSDT</td>\n      <td>0.1352</td>\n      <td>0.0982</td>\n      <td>0.0370</td>\n      <td>100.0</td>\n      <td>100.0000</td>\n      <td>0.8595</td>\n      <td>0.9355</td>\n      <td>3.104862</td>\n      <td>1.279900</td>\n      <td>0.017995</td>\n      <td>3.149304</td>\n      <td>0.349507</td>\n      <td>0.015488</td>\n    </tr>\n    <tr>\n      <th>2</th>\n      <td>downloaded_configs\\passivbot_v5.9.x\\configs\\v5...</td>\n      <td>DOGEUSDT</td>\n      <td>-0.4280</td>\n      <td>0.1030</td>\n      <td>-0.5310</td>\n      <td>100.0</td>\n      <td>0.2748</td>\n      <td>0.8923</td>\n      <td>-241.0000</td>\n      <td>4.440958</td>\n      <td>0.755366</td>\n      <td>0.013416</td>\n      <td>581.450000</td>\n      <td>6.649780</td>\n      <td>1.730750</td>\n    </tr>\n    <tr>\n      <th>3</th>\n      <td>downloaded_configs\\passivbot_v5.9.x\\configs\\v5...</td>\n      <td>DOTUSDT</td>\n      <td>0.1002</td>\n      <td>0.0834</td>\n      <td>0.0168</td>\n      <td>100.0</td>\n      <td>100.0000</td>\n      <td>0.8838</td>\n      <td>0.9835</td>\n      <td>3.695137</td>\n      <td>0.859077</td>\n      <td>0.012744</td>\n      <td>4.614583</td>\n      <td>0.119440</td>\n      <td>0.009927</td>\n    </tr>\n    <tr>\n      <th>5</th>\n      <td>downloaded_configs\\passivbot_v5.9.x\\configs\\v5...</td>\n      <td>EOSUSDT</td>\n      <td>0.0319</td>\n      <td>0.0274</td>\n      <td>0.0045</td>\n      <td>100.0</td>\n      <td>100.0000</td>\n      <td>0.8581</td>\n      <td>0.8382</td>\n      <td>3.595833</td>\n      <td>1.309660</td>\n      <td>0.027116</td>\n      <td>4.189583</td>\n      <td>0.572953</td>\n      <td>0.069210</td>\n    </tr>\n    <tr>\n      <th>6</th>\n      <td>downloaded_configs\\passivbot_v5.9.x\\configs\\v5...</td>\n      <td>HBARUSDT</td>\n      <td>0.1178</td>\n      <td>0.0818</td>\n      <td>0.0360</td>\n      <td>100.0</td>\n      <td>100.0000</td>\n      <td>0.8999</td>\n      <td>0.9542</td>\n      <td>3.573612</td>\n      <td>0.666551</td>\n      <td>0.009254</td>\n      <td>3.349304</td>\n      <td>0.275973</td>\n      <td>0.009242</td>\n    </tr>\n    <tr>\n      <th>7</th>\n      <td>downloaded_configs\\passivbot_v5.9.x\\configs\\v5...</td>\n      <td>LINKUSDT</td>\n      <td>0.0676</td>\n      <td>0.0518</td>\n      <td>0.0158</td>\n      <td>100.0</td>\n      <td>100.0000</td>\n      <td>0.9329</td>\n      <td>0.9762</td>\n      <td>6.122917</td>\n      <td>0.365803</td>\n      <td>0.017020</td>\n      <td>6.031958</td>\n      <td>0.164406</td>\n      <td>0.014173</td>\n    </tr>\n    <tr>\n      <th>8</th>\n      <td>downloaded_configs\\passivbot_v5.9.x\\configs\\v5...</td>\n      <td>MANAUSDT</td>\n      <td>0.1375</td>\n      <td>0.1090</td>\n      <td>0.0285</td>\n      <td>100.0</td>\n      <td>100.0000</td>\n      <td>0.8520</td>\n      <td>0.9391</td>\n      <td>2.286804</td>\n      <td>1.447380</td>\n      <td>0.017288</td>\n      <td>4.251375</td>\n      <td>0.336111</td>\n      <td>0.026497</td>\n    </tr>\n    <tr>\n      <th>9</th>\n      <td>downloaded_configs\\passivbot_v5.9.x\\configs\\v5...</td>\n      <td>MATICUSDT</td>\n      <td>0.1426</td>\n      <td>0.1200</td>\n      <td>0.0226</td>\n      <td>100.0</td>\n      <td>100.0000</td>\n      <td>0.9043</td>\n      <td>0.9536</td>\n      <td>3.083333</td>\n      <td>0.618375</td>\n      <td>0.019128</td>\n      <td>5.791667</td>\n      <td>0.276874</td>\n      <td>0.015581</td>\n    </tr>\n    <tr>\n      <th>11</th>\n      <td>downloaded_configs\\passivbot_v5.9.x\\configs\\v5...</td>\n      <td>SANDUSDT</td>\n      <td>0.0892</td>\n      <td>0.0667</td>\n      <td>0.0225</td>\n      <td>100.0</td>\n      <td>100.0000</td>\n      <td>0.9033</td>\n      <td>0.7670</td>\n      <td>4.159721</td>\n      <td>0.629215</td>\n      <td>0.013576</td>\n      <td>12.613875</td>\n      <td>0.655966</td>\n      <td>0.108080</td>\n    </tr>\n    <tr>\n      <th>12</th>\n      <td>downloaded_configs\\passivbot_v5.9.x\\configs\\v5...</td>\n      <td>SUSHIUSDT</td>\n      <td>0.1124</td>\n      <td>0.0765</td>\n      <td>0.0359</td>\n      <td>100.0</td>\n      <td>100.0000</td>\n      <td>0.8725</td>\n      <td>0.9327</td>\n      <td>1.398612</td>\n      <td>1.037720</td>\n      <td>0.019618</td>\n      <td>3.212500</td>\n      <td>0.359026</td>\n      <td>0.017543</td>\n    </tr>\n    <tr>\n      <th>13</th>\n      <td>downloaded_configs\\passivbot_v5.9.x\\configs\\v5...</td>\n      <td>XRPUSDT</td>\n      <td>0.0712</td>\n      <td>0.0490</td>\n      <td>0.0222</td>\n      <td>100.0</td>\n      <td>100.0000</td>\n      <td>0.8965</td>\n      <td>0.9588</td>\n      <td>8.127792</td>\n      <td>0.705134</td>\n      <td>0.015894</td>\n      <td>4.408333</td>\n      <td>0.255275</td>\n      <td>0.018618</td>\n    </tr>\n    <tr>\n      <th>14</th>\n      <td>downloaded_configs\\passivbot_v5.9.x\\configs\\v5...</td>\n      <td>XTZUSDT</td>\n      <td>0.0758</td>\n      <td>0.0548</td>\n      <td>0.0210</td>\n      <td>100.0</td>\n      <td>100.0000</td>\n      <td>0.8605</td>\n      <td>0.9500</td>\n      <td>2.078471</td>\n      <td>1.258540</td>\n      <td>0.013739</td>\n      <td>5.323625</td>\n      <td>0.293882</td>\n      <td>0.012905</td>\n    </tr>\n  </tbody>\n</table>\n</div>"
     },
     "execution_count": 16,
     "metadata": {},
     "output_type": "execute_result"
    }
   ],
   "source": [
    "df.drop_duplicates(\n",
    "    subset=['s',  'tgl_%', 'tgs_%', 'adgl_%', 'adgs_%', 'adgt_%', 'bnkrl_%', 'bnkrs_%', 'ebrl', 'ebrs', 'long',\n",
    "            'short'], keep='first',\n",
    "    inplace=True)\n",
    "dx = df[['file',  's', 'adgt_%', 'adgl_%', 'adgs_%', 'bnkrl_%', 'bnkrs_%', 'ebrl', 'ebrs', 'maxsl', 'pamaxl','pastdl',\n",
    "         'maxss', 'pamaxs','pastds' ]]\n",
    "dx"
   ],
   "metadata": {
    "collapsed": false,
    "pycharm": {
     "name": "#%%\n"
    }
   }
  },
  {
   "cell_type": "code",
   "execution_count": 17,
   "outputs": [
    {
     "data": {
      "text/plain": "                                                 file          s  adgt_%  \\\n0   downloaded_configs\\passivbot_v5.9.x\\configs\\v5...   ATOMUSDT  0.0921   \n1   downloaded_configs\\passivbot_v5.9.x\\configs\\v5...    CHZUSDT  0.1352   \n3   downloaded_configs\\passivbot_v5.9.x\\configs\\v5...    DOTUSDT  0.1002   \n5   downloaded_configs\\passivbot_v5.9.x\\configs\\v5...    EOSUSDT  0.0319   \n6   downloaded_configs\\passivbot_v5.9.x\\configs\\v5...   HBARUSDT  0.1178   \n7   downloaded_configs\\passivbot_v5.9.x\\configs\\v5...   LINKUSDT  0.0676   \n8   downloaded_configs\\passivbot_v5.9.x\\configs\\v5...   MANAUSDT  0.1375   \n9   downloaded_configs\\passivbot_v5.9.x\\configs\\v5...  MATICUSDT  0.1426   \n11  downloaded_configs\\passivbot_v5.9.x\\configs\\v5...   SANDUSDT  0.0892   \n12  downloaded_configs\\passivbot_v5.9.x\\configs\\v5...  SUSHIUSDT  0.1124   \n13  downloaded_configs\\passivbot_v5.9.x\\configs\\v5...    XRPUSDT  0.0712   \n14  downloaded_configs\\passivbot_v5.9.x\\configs\\v5...    XTZUSDT  0.0758   \n\n    adgl_%  adgs_%  bnkrl_%  bnkrs_%    ebrl    ebrs     maxsl    pamaxl  \\\n0   0.0688  0.0233    100.0    100.0  0.8712  0.9529  3.352779  1.060040   \n1   0.0982  0.0370    100.0    100.0  0.8595  0.9355  3.104862  1.279900   \n3   0.0834  0.0168    100.0    100.0  0.8838  0.9835  3.695137  0.859077   \n5   0.0274  0.0045    100.0    100.0  0.8581  0.8382  3.595833  1.309660   \n6   0.0818  0.0360    100.0    100.0  0.8999  0.9542  3.573612  0.666551   \n7   0.0518  0.0158    100.0    100.0  0.9329  0.9762  6.122917  0.365803   \n8   0.1090  0.0285    100.0    100.0  0.8520  0.9391  2.286804  1.447380   \n9   0.1200  0.0226    100.0    100.0  0.9043  0.9536  3.083333  0.618375   \n11  0.0667  0.0225    100.0    100.0  0.9033  0.7670  4.159721  0.629215   \n12  0.0765  0.0359    100.0    100.0  0.8725  0.9327  1.398612  1.037720   \n13  0.0490  0.0222    100.0    100.0  0.8965  0.9588  8.127792  0.705134   \n14  0.0548  0.0210    100.0    100.0  0.8605  0.9500  2.078471  1.258540   \n\n      pastdl      maxss    pamaxs    pastds  \n0   0.018619   5.578458  0.280098  0.016841  \n1   0.017995   3.149304  0.349507  0.015488  \n3   0.012744   4.614583  0.119440  0.009927  \n5   0.027116   4.189583  0.572953  0.069210  \n6   0.009254   3.349304  0.275973  0.009242  \n7   0.017020   6.031958  0.164406  0.014173  \n8   0.017288   4.251375  0.336111  0.026497  \n9   0.019128   5.791667  0.276874  0.015581  \n11  0.013576  12.613875  0.655966  0.108080  \n12  0.019618   3.212500  0.359026  0.017543  \n13  0.015894   4.408333  0.255275  0.018618  \n14  0.013739   5.323625  0.293882  0.012905  ",
      "text/html": "<div>\n<style scoped>\n    .dataframe tbody tr th:only-of-type {\n        vertical-align: middle;\n    }\n\n    .dataframe tbody tr th {\n        vertical-align: top;\n    }\n\n    .dataframe thead th {\n        text-align: right;\n    }\n</style>\n<table border=\"1\" class=\"dataframe\">\n  <thead>\n    <tr style=\"text-align: right;\">\n      <th></th>\n      <th>file</th>\n      <th>s</th>\n      <th>adgt_%</th>\n      <th>adgl_%</th>\n      <th>adgs_%</th>\n      <th>bnkrl_%</th>\n      <th>bnkrs_%</th>\n      <th>ebrl</th>\n      <th>ebrs</th>\n      <th>maxsl</th>\n      <th>pamaxl</th>\n      <th>pastdl</th>\n      <th>maxss</th>\n      <th>pamaxs</th>\n      <th>pastds</th>\n    </tr>\n  </thead>\n  <tbody>\n    <tr>\n      <th>0</th>\n      <td>downloaded_configs\\passivbot_v5.9.x\\configs\\v5...</td>\n      <td>ATOMUSDT</td>\n      <td>0.0921</td>\n      <td>0.0688</td>\n      <td>0.0233</td>\n      <td>100.0</td>\n      <td>100.0</td>\n      <td>0.8712</td>\n      <td>0.9529</td>\n      <td>3.352779</td>\n      <td>1.060040</td>\n      <td>0.018619</td>\n      <td>5.578458</td>\n      <td>0.280098</td>\n      <td>0.016841</td>\n    </tr>\n    <tr>\n      <th>1</th>\n      <td>downloaded_configs\\passivbot_v5.9.x\\configs\\v5...</td>\n      <td>CHZUSDT</td>\n      <td>0.1352</td>\n      <td>0.0982</td>\n      <td>0.0370</td>\n      <td>100.0</td>\n      <td>100.0</td>\n      <td>0.8595</td>\n      <td>0.9355</td>\n      <td>3.104862</td>\n      <td>1.279900</td>\n      <td>0.017995</td>\n      <td>3.149304</td>\n      <td>0.349507</td>\n      <td>0.015488</td>\n    </tr>\n    <tr>\n      <th>3</th>\n      <td>downloaded_configs\\passivbot_v5.9.x\\configs\\v5...</td>\n      <td>DOTUSDT</td>\n      <td>0.1002</td>\n      <td>0.0834</td>\n      <td>0.0168</td>\n      <td>100.0</td>\n      <td>100.0</td>\n      <td>0.8838</td>\n      <td>0.9835</td>\n      <td>3.695137</td>\n      <td>0.859077</td>\n      <td>0.012744</td>\n      <td>4.614583</td>\n      <td>0.119440</td>\n      <td>0.009927</td>\n    </tr>\n    <tr>\n      <th>5</th>\n      <td>downloaded_configs\\passivbot_v5.9.x\\configs\\v5...</td>\n      <td>EOSUSDT</td>\n      <td>0.0319</td>\n      <td>0.0274</td>\n      <td>0.0045</td>\n      <td>100.0</td>\n      <td>100.0</td>\n      <td>0.8581</td>\n      <td>0.8382</td>\n      <td>3.595833</td>\n      <td>1.309660</td>\n      <td>0.027116</td>\n      <td>4.189583</td>\n      <td>0.572953</td>\n      <td>0.069210</td>\n    </tr>\n    <tr>\n      <th>6</th>\n      <td>downloaded_configs\\passivbot_v5.9.x\\configs\\v5...</td>\n      <td>HBARUSDT</td>\n      <td>0.1178</td>\n      <td>0.0818</td>\n      <td>0.0360</td>\n      <td>100.0</td>\n      <td>100.0</td>\n      <td>0.8999</td>\n      <td>0.9542</td>\n      <td>3.573612</td>\n      <td>0.666551</td>\n      <td>0.009254</td>\n      <td>3.349304</td>\n      <td>0.275973</td>\n      <td>0.009242</td>\n    </tr>\n    <tr>\n      <th>7</th>\n      <td>downloaded_configs\\passivbot_v5.9.x\\configs\\v5...</td>\n      <td>LINKUSDT</td>\n      <td>0.0676</td>\n      <td>0.0518</td>\n      <td>0.0158</td>\n      <td>100.0</td>\n      <td>100.0</td>\n      <td>0.9329</td>\n      <td>0.9762</td>\n      <td>6.122917</td>\n      <td>0.365803</td>\n      <td>0.017020</td>\n      <td>6.031958</td>\n      <td>0.164406</td>\n      <td>0.014173</td>\n    </tr>\n    <tr>\n      <th>8</th>\n      <td>downloaded_configs\\passivbot_v5.9.x\\configs\\v5...</td>\n      <td>MANAUSDT</td>\n      <td>0.1375</td>\n      <td>0.1090</td>\n      <td>0.0285</td>\n      <td>100.0</td>\n      <td>100.0</td>\n      <td>0.8520</td>\n      <td>0.9391</td>\n      <td>2.286804</td>\n      <td>1.447380</td>\n      <td>0.017288</td>\n      <td>4.251375</td>\n      <td>0.336111</td>\n      <td>0.026497</td>\n    </tr>\n    <tr>\n      <th>9</th>\n      <td>downloaded_configs\\passivbot_v5.9.x\\configs\\v5...</td>\n      <td>MATICUSDT</td>\n      <td>0.1426</td>\n      <td>0.1200</td>\n      <td>0.0226</td>\n      <td>100.0</td>\n      <td>100.0</td>\n      <td>0.9043</td>\n      <td>0.9536</td>\n      <td>3.083333</td>\n      <td>0.618375</td>\n      <td>0.019128</td>\n      <td>5.791667</td>\n      <td>0.276874</td>\n      <td>0.015581</td>\n    </tr>\n    <tr>\n      <th>11</th>\n      <td>downloaded_configs\\passivbot_v5.9.x\\configs\\v5...</td>\n      <td>SANDUSDT</td>\n      <td>0.0892</td>\n      <td>0.0667</td>\n      <td>0.0225</td>\n      <td>100.0</td>\n      <td>100.0</td>\n      <td>0.9033</td>\n      <td>0.7670</td>\n      <td>4.159721</td>\n      <td>0.629215</td>\n      <td>0.013576</td>\n      <td>12.613875</td>\n      <td>0.655966</td>\n      <td>0.108080</td>\n    </tr>\n    <tr>\n      <th>12</th>\n      <td>downloaded_configs\\passivbot_v5.9.x\\configs\\v5...</td>\n      <td>SUSHIUSDT</td>\n      <td>0.1124</td>\n      <td>0.0765</td>\n      <td>0.0359</td>\n      <td>100.0</td>\n      <td>100.0</td>\n      <td>0.8725</td>\n      <td>0.9327</td>\n      <td>1.398612</td>\n      <td>1.037720</td>\n      <td>0.019618</td>\n      <td>3.212500</td>\n      <td>0.359026</td>\n      <td>0.017543</td>\n    </tr>\n    <tr>\n      <th>13</th>\n      <td>downloaded_configs\\passivbot_v5.9.x\\configs\\v5...</td>\n      <td>XRPUSDT</td>\n      <td>0.0712</td>\n      <td>0.0490</td>\n      <td>0.0222</td>\n      <td>100.0</td>\n      <td>100.0</td>\n      <td>0.8965</td>\n      <td>0.9588</td>\n      <td>8.127792</td>\n      <td>0.705134</td>\n      <td>0.015894</td>\n      <td>4.408333</td>\n      <td>0.255275</td>\n      <td>0.018618</td>\n    </tr>\n    <tr>\n      <th>14</th>\n      <td>downloaded_configs\\passivbot_v5.9.x\\configs\\v5...</td>\n      <td>XTZUSDT</td>\n      <td>0.0758</td>\n      <td>0.0548</td>\n      <td>0.0210</td>\n      <td>100.0</td>\n      <td>100.0</td>\n      <td>0.8605</td>\n      <td>0.9500</td>\n      <td>2.078471</td>\n      <td>1.258540</td>\n      <td>0.013739</td>\n      <td>5.323625</td>\n      <td>0.293882</td>\n      <td>0.012905</td>\n    </tr>\n  </tbody>\n</table>\n</div>"
     },
     "execution_count": 17,
     "metadata": {},
     "output_type": "execute_result"
    }
   ],
   "source": [
    "dl_proposed = dx[\n",
    "    #(dx['lm'] == 'n') &\n",
    "    (dx['bnkrl_%'] == 100) &\n",
    "    (dx['bnkrs_%'] == 100) &\n",
    "    # (dx['ebrl'] > 0.9) &  #&\n",
    "    # (dx['ebrs'] > 0.9) &  #&\n",
    "    # (dx['adgl_%'] > 0.04) \n",
    "    # (dx['pastdl'] < 0.03) &\n",
    "    # (dx['pastds'] < 0.03) &  #\n",
    "    # (dx['maxsl'] < 10) &\n",
    "    # (dx['maxss'] < 10) &\n",
    "    (dx['adgt_%'].notnull()) &\n",
    "    (dx['adgt_%'] > 0)\n",
    "    ]\n",
    "#dl_proposed = dl_proposed[['file','s','adgl_%', 'bnkrl_%', 'ebrl',  'maxsl', 'pamaxl','pastdl' ]]\n",
    "dl_proposed"
   ],
   "metadata": {
    "collapsed": false,
    "pycharm": {
     "name": "#%%\n"
    }
   }
  }
 ],
 "metadata": {
  "kernelspec": {
   "display_name": "Python 3",
   "language": "python",
   "name": "python3"
  },
  "language_info": {
   "codemirror_mode": {
    "name": "ipython",
    "version": 2
   },
   "file_extension": ".py",
   "mimetype": "text/x-python",
   "name": "python",
   "nbconvert_exporter": "python",
   "pygments_lexer": "ipython2",
   "version": "2.7.6"
  }
 },
 "nbformat": 4,
 "nbformat_minor": 0
}