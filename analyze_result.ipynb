{
 "cells": [
  {
   "cell_type": "code",
   "execution_count": 1,
   "metadata": {},
   "outputs": [],
   "source": [
    "%load_ext autoreload\n",
    "%autoreload 2"
   ]
  },
  {
   "cell_type": "code",
   "execution_count": 2,
   "metadata": {
    "pycharm": {
     "name": "#%%\n"
    }
   },
   "outputs": [],
   "source": [
    "import glob\n",
    "\n",
    "import pandas as pd"
   ]
  },
  {
   "cell_type": "code",
   "execution_count": 3,
   "metadata": {
    "pycharm": {
     "name": "#%%\n"
    }
   },
   "outputs": [
    {
     "name": "stderr",
     "output_type": "stream",
     "text": [
      "C:\\Users\\skhan\\AppData\\Local\\Temp/ipykernel_1534792/2803701148.py:47: FutureWarning: The frame.append method is deprecated and will be removed from pandas in a future version. Use pandas.concat instead.\n",
      "  big_data = big_data.append(d, ignore_index=True)\n",
      "C:\\Users\\skhan\\AppData\\Local\\Temp/ipykernel_1534792/2803701148.py:47: FutureWarning: The frame.append method is deprecated and will be removed from pandas in a future version. Use pandas.concat instead.\n",
      "  big_data = big_data.append(d, ignore_index=True)\n",
      "C:\\Users\\skhan\\AppData\\Local\\Temp/ipykernel_1534792/2803701148.py:47: FutureWarning: The frame.append method is deprecated and will be removed from pandas in a future version. Use pandas.concat instead.\n",
      "  big_data = big_data.append(d, ignore_index=True)\n",
      "C:\\Users\\skhan\\AppData\\Local\\Temp/ipykernel_1534792/2803701148.py:47: FutureWarning: The frame.append method is deprecated and will be removed from pandas in a future version. Use pandas.concat instead.\n",
      "  big_data = big_data.append(d, ignore_index=True)\n",
      "C:\\Users\\skhan\\AppData\\Local\\Temp/ipykernel_1534792/2803701148.py:47: FutureWarning: The frame.append method is deprecated and will be removed from pandas in a future version. Use pandas.concat instead.\n",
      "  big_data = big_data.append(d, ignore_index=True)\n",
      "C:\\Users\\skhan\\AppData\\Local\\Temp/ipykernel_1534792/2803701148.py:47: FutureWarning: The frame.append method is deprecated and will be removed from pandas in a future version. Use pandas.concat instead.\n",
      "  big_data = big_data.append(d, ignore_index=True)\n",
      "C:\\Users\\skhan\\AppData\\Local\\Temp/ipykernel_1534792/2803701148.py:47: FutureWarning: The frame.append method is deprecated and will be removed from pandas in a future version. Use pandas.concat instead.\n",
      "  big_data = big_data.append(d, ignore_index=True)\n",
      "C:\\Users\\skhan\\AppData\\Local\\Temp/ipykernel_1534792/2803701148.py:47: FutureWarning: The frame.append method is deprecated and will be removed from pandas in a future version. Use pandas.concat instead.\n",
      "  big_data = big_data.append(d, ignore_index=True)\n",
      "C:\\Users\\skhan\\AppData\\Local\\Temp/ipykernel_1534792/2803701148.py:47: FutureWarning: The frame.append method is deprecated and will be removed from pandas in a future version. Use pandas.concat instead.\n",
      "  big_data = big_data.append(d, ignore_index=True)\n",
      "C:\\Users\\skhan\\AppData\\Local\\Temp/ipykernel_1534792/2803701148.py:47: FutureWarning: The frame.append method is deprecated and will be removed from pandas in a future version. Use pandas.concat instead.\n",
      "  big_data = big_data.append(d, ignore_index=True)\n",
      "C:\\Users\\skhan\\AppData\\Local\\Temp/ipykernel_1534792/2803701148.py:47: FutureWarning: The frame.append method is deprecated and will be removed from pandas in a future version. Use pandas.concat instead.\n",
      "  big_data = big_data.append(d, ignore_index=True)\n",
      "C:\\Users\\skhan\\AppData\\Local\\Temp/ipykernel_1534792/2803701148.py:47: FutureWarning: The frame.append method is deprecated and will be removed from pandas in a future version. Use pandas.concat instead.\n",
      "  big_data = big_data.append(d, ignore_index=True)\n",
      "C:\\Users\\skhan\\AppData\\Local\\Temp/ipykernel_1534792/2803701148.py:47: FutureWarning: The frame.append method is deprecated and will be removed from pandas in a future version. Use pandas.concat instead.\n",
      "  big_data = big_data.append(d, ignore_index=True)\n",
      "C:\\Users\\skhan\\AppData\\Local\\Temp/ipykernel_1534792/2803701148.py:47: FutureWarning: The frame.append method is deprecated and will be removed from pandas in a future version. Use pandas.concat instead.\n",
      "  big_data = big_data.append(d, ignore_index=True)\n",
      "C:\\Users\\skhan\\AppData\\Local\\Temp/ipykernel_1534792/2803701148.py:47: FutureWarning: The frame.append method is deprecated and will be removed from pandas in a future version. Use pandas.concat instead.\n",
      "  big_data = big_data.append(d, ignore_index=True)\n",
      "C:\\Users\\skhan\\AppData\\Local\\Temp/ipykernel_1534792/2803701148.py:47: FutureWarning: The frame.append method is deprecated and will be removed from pandas in a future version. Use pandas.concat instead.\n",
      "  big_data = big_data.append(d, ignore_index=True)\n",
      "C:\\Users\\skhan\\AppData\\Local\\Temp/ipykernel_1534792/2803701148.py:47: FutureWarning: The frame.append method is deprecated and will be removed from pandas in a future version. Use pandas.concat instead.\n",
      "  big_data = big_data.append(d, ignore_index=True)\n"
     ]
    },
    {
     "data": {
      "text/plain": "                                                 file    v         s  long  \\\n0   \\AAVEUSDT\\plots\\2022-03-14T073611\\backtest_res...  5.5  AAVEUSDT  True   \n1   \\AKROUSDT\\plots\\2022-03-07T074200\\backtest_res...  5.5  AKROUSDT  True   \n2   \\DGBUSDT\\plots\\2022-03-07T185158\\backtest_resu...  5.5   DGBUSDT  True   \n3   \\DGBUSDT\\plots\\2022-03-07T211718\\backtest_resu...  5.5   DGBUSDT  True   \n4   \\EGLDUSDT\\plots\\2022-03-14T075052\\backtest_res...  5.5  EGLDUSDT  True   \n5   \\FLMUSDT\\plots\\2022-03-07T075107\\backtest_resu...  5.5   FLMUSDT  True   \n6   \\FLMUSDT\\plots\\2022-03-07T211033\\backtest_resu...  5.5   FLMUSDT  True   \n7   \\GRTUSDT\\plots\\2022-02-23T153035\\backtest_resu...  5.4   GRTUSDT  True   \n8   \\GRTUSDT\\plots\\2022-02-25T222300\\backtest_resu...  5.5   GRTUSDT  True   \n9   \\GRTUSDT\\plots\\2022-02-25T232504\\backtest_resu...  5.5   GRTUSDT  True   \n10  \\GRTUSDT\\plots\\2022-02-26T230933\\backtest_resu...  5.5   GRTUSDT  True   \n11  \\GRTUSDT\\plots\\2022-02-26T231251\\backtest_resu...  5.5   GRTUSDT  True   \n12  \\GTCUSDT\\plots\\2022-03-14T111329\\backtest_resu...  5.5   GTCUSDT  True   \n13  \\NEARUSDT\\plots\\2022-03-14T072707\\backtest_res...  5.5  NEARUSDT  True   \n14  \\TLMUSDT\\plots\\2022-03-14T075740\\backtest_resu...  5.5   TLMUSDT  True   \n15  \\TLMUSDT\\plots\\2022-03-14T080522\\backtest_resu...  5.5   TLMUSDT  True   \n16  \\UNIUSDT\\plots\\2022-03-14T074033\\backtest_resu...  5.5   UNIUSDT  True   \n\n     tgl_%   adgl_%  bnkrl_%    ebrl  short   tgs_%  adgs_%  bnkrs_%     ebrs  \n0  -11.590 -0.05940    100.0  0.7649   True  54.850  0.2140  100.000  0.78480  \n1   17.780  0.07660    100.0  0.9507   True  19.350  0.0738  100.000  0.96330  \n2   11.750  0.05180    100.0  0.9583   True  22.520  0.0890  100.000  0.93090  \n3   11.750  0.05180    100.0  0.9583   True  22.520  0.0890  100.000  0.93090  \n4    3.172 -0.11800    100.0  0.6778   True  28.030  0.1640   44.440  0.49380  \n5    7.212  0.03330    100.0  0.9352   True  22.120  0.0928  100.000  0.95390  \n6   11.910  0.04670    100.0  0.9362   True  22.120  0.0928  100.000  0.95390  \n7   14.060  0.06540    100.0  0.9689   True   9.442  0.0456  100.000  0.98470  \n8   15.000  0.06960    100.0  0.9691   True   9.567  0.0462  100.000  0.98470  \n9   15.000  0.06960    100.0  0.9691   True   9.567  0.0462  100.000  0.98470  \n10  15.010  0.06390    100.0  0.9163   True  21.340  0.0984  100.000  0.91890  \n11  16.920  0.06610    100.0  0.8871   True  27.040  0.1240  100.000  0.86810  \n12   9.872  0.03940    100.0  0.9232   True  21.280  0.1140  100.000  0.65960  \n13  32.010  0.11900    100.0  0.9178   True  -3.161  0.5740    6.085  0.07026  \n14  19.560  0.06080    100.0  0.9491   True  19.500  0.0885  100.000  0.81770  \n15  19.530  0.07870    100.0  0.9340   True  31.810  0.1320  100.000  0.85040  \n16   2.247  0.00699    100.0  0.8719   True  48.970  0.1930  100.000  0.89480  ",
      "text/html": "<div>\n<style scoped>\n    .dataframe tbody tr th:only-of-type {\n        vertical-align: middle;\n    }\n\n    .dataframe tbody tr th {\n        vertical-align: top;\n    }\n\n    .dataframe thead th {\n        text-align: right;\n    }\n</style>\n<table border=\"1\" class=\"dataframe\">\n  <thead>\n    <tr style=\"text-align: right;\">\n      <th></th>\n      <th>file</th>\n      <th>v</th>\n      <th>s</th>\n      <th>long</th>\n      <th>tgl_%</th>\n      <th>adgl_%</th>\n      <th>bnkrl_%</th>\n      <th>ebrl</th>\n      <th>short</th>\n      <th>tgs_%</th>\n      <th>adgs_%</th>\n      <th>bnkrs_%</th>\n      <th>ebrs</th>\n    </tr>\n  </thead>\n  <tbody>\n    <tr>\n      <th>0</th>\n      <td>\\AAVEUSDT\\plots\\2022-03-14T073611\\backtest_res...</td>\n      <td>5.5</td>\n      <td>AAVEUSDT</td>\n      <td>True</td>\n      <td>-11.590</td>\n      <td>-0.05940</td>\n      <td>100.0</td>\n      <td>0.7649</td>\n      <td>True</td>\n      <td>54.850</td>\n      <td>0.2140</td>\n      <td>100.000</td>\n      <td>0.78480</td>\n    </tr>\n    <tr>\n      <th>1</th>\n      <td>\\AKROUSDT\\plots\\2022-03-07T074200\\backtest_res...</td>\n      <td>5.5</td>\n      <td>AKROUSDT</td>\n      <td>True</td>\n      <td>17.780</td>\n      <td>0.07660</td>\n      <td>100.0</td>\n      <td>0.9507</td>\n      <td>True</td>\n      <td>19.350</td>\n      <td>0.0738</td>\n      <td>100.000</td>\n      <td>0.96330</td>\n    </tr>\n    <tr>\n      <th>2</th>\n      <td>\\DGBUSDT\\plots\\2022-03-07T185158\\backtest_resu...</td>\n      <td>5.5</td>\n      <td>DGBUSDT</td>\n      <td>True</td>\n      <td>11.750</td>\n      <td>0.05180</td>\n      <td>100.0</td>\n      <td>0.9583</td>\n      <td>True</td>\n      <td>22.520</td>\n      <td>0.0890</td>\n      <td>100.000</td>\n      <td>0.93090</td>\n    </tr>\n    <tr>\n      <th>3</th>\n      <td>\\DGBUSDT\\plots\\2022-03-07T211718\\backtest_resu...</td>\n      <td>5.5</td>\n      <td>DGBUSDT</td>\n      <td>True</td>\n      <td>11.750</td>\n      <td>0.05180</td>\n      <td>100.0</td>\n      <td>0.9583</td>\n      <td>True</td>\n      <td>22.520</td>\n      <td>0.0890</td>\n      <td>100.000</td>\n      <td>0.93090</td>\n    </tr>\n    <tr>\n      <th>4</th>\n      <td>\\EGLDUSDT\\plots\\2022-03-14T075052\\backtest_res...</td>\n      <td>5.5</td>\n      <td>EGLDUSDT</td>\n      <td>True</td>\n      <td>3.172</td>\n      <td>-0.11800</td>\n      <td>100.0</td>\n      <td>0.6778</td>\n      <td>True</td>\n      <td>28.030</td>\n      <td>0.1640</td>\n      <td>44.440</td>\n      <td>0.49380</td>\n    </tr>\n    <tr>\n      <th>5</th>\n      <td>\\FLMUSDT\\plots\\2022-03-07T075107\\backtest_resu...</td>\n      <td>5.5</td>\n      <td>FLMUSDT</td>\n      <td>True</td>\n      <td>7.212</td>\n      <td>0.03330</td>\n      <td>100.0</td>\n      <td>0.9352</td>\n      <td>True</td>\n      <td>22.120</td>\n      <td>0.0928</td>\n      <td>100.000</td>\n      <td>0.95390</td>\n    </tr>\n    <tr>\n      <th>6</th>\n      <td>\\FLMUSDT\\plots\\2022-03-07T211033\\backtest_resu...</td>\n      <td>5.5</td>\n      <td>FLMUSDT</td>\n      <td>True</td>\n      <td>11.910</td>\n      <td>0.04670</td>\n      <td>100.0</td>\n      <td>0.9362</td>\n      <td>True</td>\n      <td>22.120</td>\n      <td>0.0928</td>\n      <td>100.000</td>\n      <td>0.95390</td>\n    </tr>\n    <tr>\n      <th>7</th>\n      <td>\\GRTUSDT\\plots\\2022-02-23T153035\\backtest_resu...</td>\n      <td>5.4</td>\n      <td>GRTUSDT</td>\n      <td>True</td>\n      <td>14.060</td>\n      <td>0.06540</td>\n      <td>100.0</td>\n      <td>0.9689</td>\n      <td>True</td>\n      <td>9.442</td>\n      <td>0.0456</td>\n      <td>100.000</td>\n      <td>0.98470</td>\n    </tr>\n    <tr>\n      <th>8</th>\n      <td>\\GRTUSDT\\plots\\2022-02-25T222300\\backtest_resu...</td>\n      <td>5.5</td>\n      <td>GRTUSDT</td>\n      <td>True</td>\n      <td>15.000</td>\n      <td>0.06960</td>\n      <td>100.0</td>\n      <td>0.9691</td>\n      <td>True</td>\n      <td>9.567</td>\n      <td>0.0462</td>\n      <td>100.000</td>\n      <td>0.98470</td>\n    </tr>\n    <tr>\n      <th>9</th>\n      <td>\\GRTUSDT\\plots\\2022-02-25T232504\\backtest_resu...</td>\n      <td>5.5</td>\n      <td>GRTUSDT</td>\n      <td>True</td>\n      <td>15.000</td>\n      <td>0.06960</td>\n      <td>100.0</td>\n      <td>0.9691</td>\n      <td>True</td>\n      <td>9.567</td>\n      <td>0.0462</td>\n      <td>100.000</td>\n      <td>0.98470</td>\n    </tr>\n    <tr>\n      <th>10</th>\n      <td>\\GRTUSDT\\plots\\2022-02-26T230933\\backtest_resu...</td>\n      <td>5.5</td>\n      <td>GRTUSDT</td>\n      <td>True</td>\n      <td>15.010</td>\n      <td>0.06390</td>\n      <td>100.0</td>\n      <td>0.9163</td>\n      <td>True</td>\n      <td>21.340</td>\n      <td>0.0984</td>\n      <td>100.000</td>\n      <td>0.91890</td>\n    </tr>\n    <tr>\n      <th>11</th>\n      <td>\\GRTUSDT\\plots\\2022-02-26T231251\\backtest_resu...</td>\n      <td>5.5</td>\n      <td>GRTUSDT</td>\n      <td>True</td>\n      <td>16.920</td>\n      <td>0.06610</td>\n      <td>100.0</td>\n      <td>0.8871</td>\n      <td>True</td>\n      <td>27.040</td>\n      <td>0.1240</td>\n      <td>100.000</td>\n      <td>0.86810</td>\n    </tr>\n    <tr>\n      <th>12</th>\n      <td>\\GTCUSDT\\plots\\2022-03-14T111329\\backtest_resu...</td>\n      <td>5.5</td>\n      <td>GTCUSDT</td>\n      <td>True</td>\n      <td>9.872</td>\n      <td>0.03940</td>\n      <td>100.0</td>\n      <td>0.9232</td>\n      <td>True</td>\n      <td>21.280</td>\n      <td>0.1140</td>\n      <td>100.000</td>\n      <td>0.65960</td>\n    </tr>\n    <tr>\n      <th>13</th>\n      <td>\\NEARUSDT\\plots\\2022-03-14T072707\\backtest_res...</td>\n      <td>5.5</td>\n      <td>NEARUSDT</td>\n      <td>True</td>\n      <td>32.010</td>\n      <td>0.11900</td>\n      <td>100.0</td>\n      <td>0.9178</td>\n      <td>True</td>\n      <td>-3.161</td>\n      <td>0.5740</td>\n      <td>6.085</td>\n      <td>0.07026</td>\n    </tr>\n    <tr>\n      <th>14</th>\n      <td>\\TLMUSDT\\plots\\2022-03-14T075740\\backtest_resu...</td>\n      <td>5.5</td>\n      <td>TLMUSDT</td>\n      <td>True</td>\n      <td>19.560</td>\n      <td>0.06080</td>\n      <td>100.0</td>\n      <td>0.9491</td>\n      <td>True</td>\n      <td>19.500</td>\n      <td>0.0885</td>\n      <td>100.000</td>\n      <td>0.81770</td>\n    </tr>\n    <tr>\n      <th>15</th>\n      <td>\\TLMUSDT\\plots\\2022-03-14T080522\\backtest_resu...</td>\n      <td>5.5</td>\n      <td>TLMUSDT</td>\n      <td>True</td>\n      <td>19.530</td>\n      <td>0.07870</td>\n      <td>100.0</td>\n      <td>0.9340</td>\n      <td>True</td>\n      <td>31.810</td>\n      <td>0.1320</td>\n      <td>100.000</td>\n      <td>0.85040</td>\n    </tr>\n    <tr>\n      <th>16</th>\n      <td>\\UNIUSDT\\plots\\2022-03-14T074033\\backtest_resu...</td>\n      <td>5.5</td>\n      <td>UNIUSDT</td>\n      <td>True</td>\n      <td>2.247</td>\n      <td>0.00699</td>\n      <td>100.0</td>\n      <td>0.8719</td>\n      <td>True</td>\n      <td>48.970</td>\n      <td>0.1930</td>\n      <td>100.000</td>\n      <td>0.89480</td>\n    </tr>\n  </tbody>\n</table>\n</div>"
     },
     "execution_count": 3,
     "metadata": {},
     "output_type": "execute_result"
    }
   ],
   "source": [
    "big_data = pd.DataFrame()\n",
    "files = glob.iglob('backtests/binance/' + '**/backtest_result.txt', recursive=True)\n",
    "i = 0\n",
    "for filename in files:\n",
    "    #print(f'parsing : {filename}')\n",
    "    with open(filename, 'r') as file:\n",
    "        data = file.read().split('\\n')\n",
    "        d = {'file': filename.replace('backtests/binance','')}\n",
    "        current_state = 'long'\n",
    "        for l in data:\n",
    "            l = l.split('|')\n",
    "            if len(l) == 4:\n",
    "                key = l[1].strip()\n",
    "                value = l[2].strip()\n",
    "\n",
    "                if key == 'Passivbot Version':\n",
    "                    d['v'] = value\n",
    "                if key == 'Symbol':\n",
    "                    d['s'] = value\n",
    "\n",
    "                if key == 'Long':\n",
    "                    current_state = 'long'\n",
    "                    d['long'] = bool(value) or False\n",
    "                if key == 'Short':\n",
    "                    current_state = 'short'\n",
    "                    d['short'] = bool(value) or False\n",
    "\n",
    "                if key == 'Total gain' and current_state == 'long':\n",
    "                    d['tgl_%'] = float(value.replace('%', '').strip())\n",
    "                if key == 'Average daily gain' and current_state == 'long':\n",
    "                    d['adgl_%'] = float(value.replace('%', '').strip())\n",
    "                if key == 'Closest bankruptcy' and current_state == 'long':\n",
    "                    d['bnkrl_%'] = float(value.replace('%', '').strip())\n",
    "                if key == 'Lowest equity/balance ratio' and current_state == 'long':\n",
    "                    d['ebrl'] = float(value.replace('%', '').strip())\n",
    "\n",
    "                if key == 'Total gain' and current_state == 'short':\n",
    "                    d['tgs_%'] = float(value.replace('%', '').strip())\n",
    "                if key == 'Average daily gain' and current_state == 'short':\n",
    "                    d['adgs_%'] = float(value.replace('%', '').strip())\n",
    "                if key == 'Closest bankruptcy' and current_state == 'short':\n",
    "                    d['bnkrs_%'] = float(value.replace('%', '').strip())\n",
    "                if key == 'Lowest equity/balance ratio' and current_state == 'short':\n",
    "                    d['ebrs'] = float(value.replace('%', '').strip())\n",
    "\n",
    "        #d['adgt_%'] = d['adgl_%']+d['adgs_%']\n",
    "        big_data = big_data.append(d, ignore_index=True)\n",
    "\n",
    "big_data"
   ]
  },
  {
   "cell_type": "markdown",
   "metadata": {},
   "source": [
    "Now filter the dataframe"
   ]
  },
  {
   "cell_type": "code",
   "execution_count": 7,
   "metadata": {
    "pycharm": {
     "name": "#%%\n"
    }
   },
   "outputs": [
    {
     "data": {
      "text/plain": "                                                 file    v        s  long  \\\n12  \\GTCUSDT\\plots\\2022-03-14T111329\\backtest_resu...  5.5  GTCUSDT  True   \n\n    tgl_%  adgl_%  bnkrl_%    ebrl  short  tgs_%  adgs_%  bnkrs_%    ebrs  \\\n12  9.872  0.0394    100.0  0.9232   True  21.28   0.114    100.0  0.6596   \n\n    adgt_%  \n12  0.1534  ",
      "text/html": "<div>\n<style scoped>\n    .dataframe tbody tr th:only-of-type {\n        vertical-align: middle;\n    }\n\n    .dataframe tbody tr th {\n        vertical-align: top;\n    }\n\n    .dataframe thead th {\n        text-align: right;\n    }\n</style>\n<table border=\"1\" class=\"dataframe\">\n  <thead>\n    <tr style=\"text-align: right;\">\n      <th></th>\n      <th>file</th>\n      <th>v</th>\n      <th>s</th>\n      <th>long</th>\n      <th>tgl_%</th>\n      <th>adgl_%</th>\n      <th>bnkrl_%</th>\n      <th>ebrl</th>\n      <th>short</th>\n      <th>tgs_%</th>\n      <th>adgs_%</th>\n      <th>bnkrs_%</th>\n      <th>ebrs</th>\n      <th>adgt_%</th>\n    </tr>\n  </thead>\n  <tbody>\n    <tr>\n      <th>12</th>\n      <td>\\GTCUSDT\\plots\\2022-03-14T111329\\backtest_resu...</td>\n      <td>5.5</td>\n      <td>GTCUSDT</td>\n      <td>True</td>\n      <td>9.872</td>\n      <td>0.0394</td>\n      <td>100.0</td>\n      <td>0.9232</td>\n      <td>True</td>\n      <td>21.28</td>\n      <td>0.114</td>\n      <td>100.0</td>\n      <td>0.6596</td>\n      <td>0.1534</td>\n    </tr>\n  </tbody>\n</table>\n</div>"
     },
     "execution_count": 7,
     "metadata": {},
     "output_type": "execute_result"
    }
   ],
   "source": [
    "allowed_symbols = [\"ETHUSDT\", \"XRPUSDT\", \"1000SHIBUSDT\", \"DOGEUSDT\", \"ADAUSDT\",\n",
    "                   \"BNBUSDT\", \"MATICUSDT\", \"DOTUSDT\", \"SANDUSDT\", \"FTMUSDT\",\n",
    "                   \"LTCUSDT\", \"LINKUSDT\", \"MANAUSDT\", \"ETCUSDT\", \"EOSUSDT\",\n",
    "                   \"ATOMUSDT\", \"FILUSDT\", \"ICPUSDT\", \"ALICEUSDT\", \"LRCUSDT\",\n",
    "                   \"BCHUSDT\", \"SUSHIUSDT\", \"XTZUSDT\", \"THETAUSDT\", \"CRVUSDT\",\n",
    "                   \"ALGOUSDT\", \"CHZUSDT\", \"TRXUSDT\", \"VETUSDT\", \"CHRUSDT\",\n",
    "                   \"ONEUSDT\", \"OMGUSDT\", \"XLMUSDT\", \"RUNEUSDT\", \"ENJUSDT\",\n",
    "                   \"CELRUSDT\", \"SXPUSDT\", \"1INCHUSDT\", \"SRMUSDT\", \"COTIUSDT\",\n",
    "                   \"ZECUSDT\", \"QTUMUSDT\", \"GRTUSDT\", \"DENTUSDT\", \"SFPUSDT\",\n",
    "                   \"STORJUSDT\", \"IOTAUSDT\", \"HOTUSDT\", \"NEOUSDT\", \"COMPUSDT\",\n",
    "                   \"LINAUSDT\", \"KAVAUSDT\", \"BATUSDT\", \"WAVESUSDT\", \"IOSTUSDT\",\n",
    "                   \"ALPHAUSDT\", \"RLCUSDT\", \"HBARUSDT\", \"DODOUSDT\", \"XMRUSDT\",\n",
    "                   \"SNXUSDT\", \"ANKRUSDT\", \"DASHUSDT\", \"REEFUSDT\", \"ZENUSDT\",\n",
    "                   \"CVCUSDT\", \"RENUSDT\", \"ICXUSDT\", \"RSRUSDT\", \"SKLUSDT\",\n",
    "                   \"NKNUSDT\", \"BELUSDT\", \"ONTUSDT\", \"OGNUSDT\", \"BLZUSDT\",\n",
    "                   \"MTLUSDT\", \"CTKUSDT\", \"RVNUSDT\", \"LITUSDT\", \"MKRUSDT\",\n",
    "                   \"OCEANUSDT\", \"ZILUSDT\", \"UNFIUSDT\", \"BANDUSDT\", \"YFIIUSDT\",\n",
    "                   \"TOMOUSDT\", \"TRBUSDT\", \"KNCUSDT\", \"STMXUSDT\", \"ZRXUSDT\",\n",
    "                   \"SCUSDT\", \"AKROUSDT\", \"XEMUSDT\", \"FLMUSDT\", \"BALUSDT\",\n",
    "                   \"BTSUSDT\", \"DGBUSDT\", \"DEFIUSDT\"]\n",
    "\n",
    "\n",
    "allowed_symbols = [\"GTC\"]\n",
    "allowed_symbols = [s + \"USDT\" for s in allowed_symbols]\n",
    "big_data['adgt_%'] = big_data['adgl_%'] + big_data['adgs_%']\n",
    "df = big_data[(big_data.s.isin(allowed_symbols))\n",
    "              & (big_data['long'] == True)\n",
    "              & (big_data['short'] == True)\n",
    "              # & (big_data['adgt_%'] > 0.1)\n",
    "              # & (big_data['bnkrl_%'] > 95.0)\n",
    "              # & (big_data['bnkrs_%'] > 95.0)\n",
    "              # & (big_data['ebrs'] > .85)\n",
    "              # & (big_data['ebrl'] > .85)\n",
    "              & (big_data['v'] == '5.5')\n",
    "\n",
    "    # & (big_data['tg_%'] > 10)\n",
    "    # & (big_data['ebr'] > .85)\n",
    "              ]\n",
    "#df['total_adg'] = big_data['adgl_%'] + big_data['adgs_%']\n",
    "df"
   ]
  },
  {
   "cell_type": "code",
   "execution_count": 8,
   "metadata": {
    "pycharm": {
     "name": "#%%\n"
    }
   },
   "outputs": [
    {
     "name": "stderr",
     "output_type": "stream",
     "text": [
      "C:\\Users\\skhan\\AppData\\Local\\Temp/ipykernel_1534792/2043545472.py:1: SettingWithCopyWarning: \n",
      "A value is trying to be set on a copy of a slice from a DataFrame\n",
      "\n",
      "See the caveats in the documentation: https://pandas.pydata.org/pandas-docs/stable/user_guide/indexing.html#returning-a-view-versus-a-copy\n",
      "  df.drop_duplicates(subset=['s', 'tgl_%','tgs_%','adgl_%','adgs_%','adgt_%', 'bnkrl_%', 'bnkrs_%', 'ebrl', 'ebrs', 'long', 'short'], keep='first',\n"
     ]
    },
    {
     "data": {
      "text/plain": "                                                 file        s  adgt_%  \\\n12  \\GTCUSDT\\plots\\2022-03-14T111329\\backtest_resu...  GTCUSDT  0.1534   \n\n    adgl_%  adgs_%  bnkrl_%  bnkrs_%    ebrl    ebrs  \n12  0.0394   0.114    100.0    100.0  0.9232  0.6596  ",
      "text/html": "<div>\n<style scoped>\n    .dataframe tbody tr th:only-of-type {\n        vertical-align: middle;\n    }\n\n    .dataframe tbody tr th {\n        vertical-align: top;\n    }\n\n    .dataframe thead th {\n        text-align: right;\n    }\n</style>\n<table border=\"1\" class=\"dataframe\">\n  <thead>\n    <tr style=\"text-align: right;\">\n      <th></th>\n      <th>file</th>\n      <th>s</th>\n      <th>adgt_%</th>\n      <th>adgl_%</th>\n      <th>adgs_%</th>\n      <th>bnkrl_%</th>\n      <th>bnkrs_%</th>\n      <th>ebrl</th>\n      <th>ebrs</th>\n    </tr>\n  </thead>\n  <tbody>\n    <tr>\n      <th>12</th>\n      <td>\\GTCUSDT\\plots\\2022-03-14T111329\\backtest_resu...</td>\n      <td>GTCUSDT</td>\n      <td>0.1534</td>\n      <td>0.0394</td>\n      <td>0.114</td>\n      <td>100.0</td>\n      <td>100.0</td>\n      <td>0.9232</td>\n      <td>0.6596</td>\n    </tr>\n  </tbody>\n</table>\n</div>"
     },
     "execution_count": 8,
     "metadata": {},
     "output_type": "execute_result"
    }
   ],
   "source": [
    "df.drop_duplicates(subset=['s', 'tgl_%','tgs_%','adgl_%','adgs_%','adgt_%', 'bnkrl_%', 'bnkrs_%', 'ebrl', 'ebrs', 'long', 'short'], keep='first',\n",
    "                   inplace=True)\n",
    "dx = df[['file','s','adgt_%','adgl_%','adgs_%','bnkrl_%', 'bnkrs_%','ebrl', 'ebrs']]\n",
    "dx"
   ]
  },
  {
   "cell_type": "code",
   "execution_count": 5,
   "metadata": {
    "pycharm": {
     "name": "#%%\n"
    }
   },
   "outputs": [],
   "source": []
  }
 ],
 "metadata": {
  "kernelspec": {
   "display_name": "PyCharm (passivbot)",
   "language": "python",
   "name": "pycharm-997905a8"
  },
  "language_info": {
   "codemirror_mode": {
    "name": "ipython",
    "version": 3
   },
   "file_extension": ".py",
   "mimetype": "text/x-python",
   "name": "python",
   "nbconvert_exporter": "python",
   "pygments_lexer": "ipython3",
   "version": "3.8.12"
  }
 },
 "nbformat": 4,
 "nbformat_minor": 1
}