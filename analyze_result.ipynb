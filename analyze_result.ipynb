{
 "cells": [
  {
   "cell_type": "code",
   "execution_count": 1,
   "metadata": {},
   "outputs": [],
   "source": [
    "%load_ext autoreload\n",
    "%autoreload 2"
   ]
  },
  {
   "cell_type": "code",
   "execution_count": 2,
   "metadata": {
    "pycharm": {
     "name": "#%%\n"
    }
   },
   "outputs": [],
   "source": [
    "import glob\n",
    "\n",
    "import pandas as pd"
   ]
  },
  {
   "cell_type": "code",
   "execution_count": 3,
   "metadata": {
    "pycharm": {
     "name": "#%%\n"
    }
   },
   "outputs": [
    {
     "name": "stderr",
     "output_type": "stream",
     "text": [
      "C:\\Users\\skhan\\AppData\\Local\\Temp/ipykernel_1324320/3399278970.py:47: FutureWarning: The frame.append method is deprecated and will be removed from pandas in a future version. Use pandas.concat instead.\n",
      "  big_data = big_data.append(d, ignore_index=True)\n",
      "C:\\Users\\skhan\\AppData\\Local\\Temp/ipykernel_1324320/3399278970.py:47: FutureWarning: The frame.append method is deprecated and will be removed from pandas in a future version. Use pandas.concat instead.\n",
      "  big_data = big_data.append(d, ignore_index=True)\n",
      "C:\\Users\\skhan\\AppData\\Local\\Temp/ipykernel_1324320/3399278970.py:47: FutureWarning: The frame.append method is deprecated and will be removed from pandas in a future version. Use pandas.concat instead.\n",
      "  big_data = big_data.append(d, ignore_index=True)\n",
      "C:\\Users\\skhan\\AppData\\Local\\Temp/ipykernel_1324320/3399278970.py:47: FutureWarning: The frame.append method is deprecated and will be removed from pandas in a future version. Use pandas.concat instead.\n",
      "  big_data = big_data.append(d, ignore_index=True)\n",
      "C:\\Users\\skhan\\AppData\\Local\\Temp/ipykernel_1324320/3399278970.py:47: FutureWarning: The frame.append method is deprecated and will be removed from pandas in a future version. Use pandas.concat instead.\n",
      "  big_data = big_data.append(d, ignore_index=True)\n",
      "C:\\Users\\skhan\\AppData\\Local\\Temp/ipykernel_1324320/3399278970.py:47: FutureWarning: The frame.append method is deprecated and will be removed from pandas in a future version. Use pandas.concat instead.\n",
      "  big_data = big_data.append(d, ignore_index=True)\n",
      "C:\\Users\\skhan\\AppData\\Local\\Temp/ipykernel_1324320/3399278970.py:47: FutureWarning: The frame.append method is deprecated and will be removed from pandas in a future version. Use pandas.concat instead.\n",
      "  big_data = big_data.append(d, ignore_index=True)\n",
      "C:\\Users\\skhan\\AppData\\Local\\Temp/ipykernel_1324320/3399278970.py:47: FutureWarning: The frame.append method is deprecated and will be removed from pandas in a future version. Use pandas.concat instead.\n",
      "  big_data = big_data.append(d, ignore_index=True)\n",
      "C:\\Users\\skhan\\AppData\\Local\\Temp/ipykernel_1324320/3399278970.py:47: FutureWarning: The frame.append method is deprecated and will be removed from pandas in a future version. Use pandas.concat instead.\n",
      "  big_data = big_data.append(d, ignore_index=True)\n",
      "C:\\Users\\skhan\\AppData\\Local\\Temp/ipykernel_1324320/3399278970.py:47: FutureWarning: The frame.append method is deprecated and will be removed from pandas in a future version. Use pandas.concat instead.\n",
      "  big_data = big_data.append(d, ignore_index=True)\n",
      "C:\\Users\\skhan\\AppData\\Local\\Temp/ipykernel_1324320/3399278970.py:47: FutureWarning: The frame.append method is deprecated and will be removed from pandas in a future version. Use pandas.concat instead.\n",
      "  big_data = big_data.append(d, ignore_index=True)\n",
      "C:\\Users\\skhan\\AppData\\Local\\Temp/ipykernel_1324320/3399278970.py:47: FutureWarning: The frame.append method is deprecated and will be removed from pandas in a future version. Use pandas.concat instead.\n",
      "  big_data = big_data.append(d, ignore_index=True)\n",
      "C:\\Users\\skhan\\AppData\\Local\\Temp/ipykernel_1324320/3399278970.py:47: FutureWarning: The frame.append method is deprecated and will be removed from pandas in a future version. Use pandas.concat instead.\n",
      "  big_data = big_data.append(d, ignore_index=True)\n",
      "C:\\Users\\skhan\\AppData\\Local\\Temp/ipykernel_1324320/3399278970.py:47: FutureWarning: The frame.append method is deprecated and will be removed from pandas in a future version. Use pandas.concat instead.\n",
      "  big_data = big_data.append(d, ignore_index=True)\n",
      "C:\\Users\\skhan\\AppData\\Local\\Temp/ipykernel_1324320/3399278970.py:47: FutureWarning: The frame.append method is deprecated and will be removed from pandas in a future version. Use pandas.concat instead.\n",
      "  big_data = big_data.append(d, ignore_index=True)\n",
      "C:\\Users\\skhan\\AppData\\Local\\Temp/ipykernel_1324320/3399278970.py:47: FutureWarning: The frame.append method is deprecated and will be removed from pandas in a future version. Use pandas.concat instead.\n",
      "  big_data = big_data.append(d, ignore_index=True)\n",
      "C:\\Users\\skhan\\AppData\\Local\\Temp/ipykernel_1324320/3399278970.py:47: FutureWarning: The frame.append method is deprecated and will be removed from pandas in a future version. Use pandas.concat instead.\n",
      "  big_data = big_data.append(d, ignore_index=True)\n",
      "C:\\Users\\skhan\\AppData\\Local\\Temp/ipykernel_1324320/3399278970.py:47: FutureWarning: The frame.append method is deprecated and will be removed from pandas in a future version. Use pandas.concat instead.\n",
      "  big_data = big_data.append(d, ignore_index=True)\n",
      "C:\\Users\\skhan\\AppData\\Local\\Temp/ipykernel_1324320/3399278970.py:47: FutureWarning: The frame.append method is deprecated and will be removed from pandas in a future version. Use pandas.concat instead.\n",
      "  big_data = big_data.append(d, ignore_index=True)\n",
      "C:\\Users\\skhan\\AppData\\Local\\Temp/ipykernel_1324320/3399278970.py:47: FutureWarning: The frame.append method is deprecated and will be removed from pandas in a future version. Use pandas.concat instead.\n",
      "  big_data = big_data.append(d, ignore_index=True)\n",
      "C:\\Users\\skhan\\AppData\\Local\\Temp/ipykernel_1324320/3399278970.py:47: FutureWarning: The frame.append method is deprecated and will be removed from pandas in a future version. Use pandas.concat instead.\n",
      "  big_data = big_data.append(d, ignore_index=True)\n",
      "C:\\Users\\skhan\\AppData\\Local\\Temp/ipykernel_1324320/3399278970.py:47: FutureWarning: The frame.append method is deprecated and will be removed from pandas in a future version. Use pandas.concat instead.\n",
      "  big_data = big_data.append(d, ignore_index=True)\n",
      "C:\\Users\\skhan\\AppData\\Local\\Temp/ipykernel_1324320/3399278970.py:47: FutureWarning: The frame.append method is deprecated and will be removed from pandas in a future version. Use pandas.concat instead.\n",
      "  big_data = big_data.append(d, ignore_index=True)\n",
      "C:\\Users\\skhan\\AppData\\Local\\Temp/ipykernel_1324320/3399278970.py:47: FutureWarning: The frame.append method is deprecated and will be removed from pandas in a future version. Use pandas.concat instead.\n",
      "  big_data = big_data.append(d, ignore_index=True)\n",
      "C:\\Users\\skhan\\AppData\\Local\\Temp/ipykernel_1324320/3399278970.py:47: FutureWarning: The frame.append method is deprecated and will be removed from pandas in a future version. Use pandas.concat instead.\n",
      "  big_data = big_data.append(d, ignore_index=True)\n",
      "C:\\Users\\skhan\\AppData\\Local\\Temp/ipykernel_1324320/3399278970.py:47: FutureWarning: The frame.append method is deprecated and will be removed from pandas in a future version. Use pandas.concat instead.\n",
      "  big_data = big_data.append(d, ignore_index=True)\n",
      "C:\\Users\\skhan\\AppData\\Local\\Temp/ipykernel_1324320/3399278970.py:47: FutureWarning: The frame.append method is deprecated and will be removed from pandas in a future version. Use pandas.concat instead.\n",
      "  big_data = big_data.append(d, ignore_index=True)\n",
      "C:\\Users\\skhan\\AppData\\Local\\Temp/ipykernel_1324320/3399278970.py:47: FutureWarning: The frame.append method is deprecated and will be removed from pandas in a future version. Use pandas.concat instead.\n",
      "  big_data = big_data.append(d, ignore_index=True)\n",
      "C:\\Users\\skhan\\AppData\\Local\\Temp/ipykernel_1324320/3399278970.py:47: FutureWarning: The frame.append method is deprecated and will be removed from pandas in a future version. Use pandas.concat instead.\n",
      "  big_data = big_data.append(d, ignore_index=True)\n",
      "C:\\Users\\skhan\\AppData\\Local\\Temp/ipykernel_1324320/3399278970.py:47: FutureWarning: The frame.append method is deprecated and will be removed from pandas in a future version. Use pandas.concat instead.\n",
      "  big_data = big_data.append(d, ignore_index=True)\n",
      "C:\\Users\\skhan\\AppData\\Local\\Temp/ipykernel_1324320/3399278970.py:47: FutureWarning: The frame.append method is deprecated and will be removed from pandas in a future version. Use pandas.concat instead.\n",
      "  big_data = big_data.append(d, ignore_index=True)\n",
      "C:\\Users\\skhan\\AppData\\Local\\Temp/ipykernel_1324320/3399278970.py:47: FutureWarning: The frame.append method is deprecated and will be removed from pandas in a future version. Use pandas.concat instead.\n",
      "  big_data = big_data.append(d, ignore_index=True)\n",
      "C:\\Users\\skhan\\AppData\\Local\\Temp/ipykernel_1324320/3399278970.py:47: FutureWarning: The frame.append method is deprecated and will be removed from pandas in a future version. Use pandas.concat instead.\n",
      "  big_data = big_data.append(d, ignore_index=True)\n",
      "C:\\Users\\skhan\\AppData\\Local\\Temp/ipykernel_1324320/3399278970.py:47: FutureWarning: The frame.append method is deprecated and will be removed from pandas in a future version. Use pandas.concat instead.\n",
      "  big_data = big_data.append(d, ignore_index=True)\n"
     ]
    },
    {
     "data": {
      "text/plain": "                                                 file    v           s  long  \\\n0   \\AAVEUSDT\\plots\\2022-03-12T073455\\backtest_res...  5.5    AAVEUSDT  True   \n1   \\AAVEUSDT\\plots\\2022-03-12T080239\\backtest_res...  5.5    AAVEUSDT  True   \n2   \\ADAUSDT\\plots\\2022-03-10T124500\\backtest_resu...  5.5     ADAUSDT  True   \n3   \\ATOMUSDT\\plots\\2022-03-08T230945\\backtest_res...  5.5    ATOMUSDT  True   \n4   \\AXSUSDT\\plots\\2022-03-08T135416\\backtest_resu...  5.5     AXSUSDT  True   \n5   \\BNBUSDT\\plots\\2022-03-08T181744\\backtest_resu...  5.5     BNBUSDT  True   \n6   \\CHZUSDT\\plots\\2022-03-11T085709\\backtest_resu...  5.5     CHZUSDT  True   \n7   \\DOGEUSDT\\plots\\2022-03-11T134907\\backtest_res...  5.5    DOGEUSDT  True   \n8   \\DOTUSDT\\plots\\2022-03-09T153345\\backtest_resu...  5.5     DOTUSDT  True   \n9   \\EOSUSDT\\plots\\2022-03-12T232401\\backtest_resu...  5.5     EOSUSDT  True   \n10  \\EOSUSDT\\plots\\2022-03-12T232528\\backtest_resu...  5.5     EOSUSDT  True   \n11  \\EOSUSDT\\plots\\2022-03-12T232629\\backtest_resu...  5.5     EOSUSDT  True   \n12  \\FTMUSDT\\plots\\2022-03-09T224354\\backtest_resu...  5.5     FTMUSDT  True   \n13  \\GALAUSDT\\plots\\2022-03-10T221934\\backtest_res...  5.5    GALAUSDT  True   \n14  \\ICPUSDT\\plots\\2022-03-11T135340\\backtest_resu...  5.5     ICPUSDT  True   \n15  \\ICPUSDT\\plots\\2022-03-11T164233\\backtest_resu...  5.5     ICPUSDT  True   \n16  \\IMXUSDT\\plots\\2022-03-11T083909\\backtest_resu...  5.5     IMXUSDT  True   \n17  \\KNCUSDT\\plots\\2022-03-10T171105\\backtest_resu...  5.5     KNCUSDT  True   \n18  \\KNCUSDT\\plots\\2022-03-10T194120\\backtest_resu...  5.5     KNCUSDT  True   \n19  \\LINKUSDT\\plots\\2022-03-10T063226\\backtest_res...  5.5    LINKUSDT  True   \n20  \\MATICUSDT\\plots\\2022-03-09T154507\\backtest_re...  5.5   MATICUSDT  True   \n21  \\MATICUSDT\\plots\\2022-03-09T155533\\backtest_re...  5.5   MATICUSDT  True   \n22  \\NEARUSDT\\plots\\2022-03-10T082547\\backtest_res...  5.5    NEARUSDT  True   \n23  \\ONEUSDT\\plots\\2022-03-12T070324\\backtest_resu...  5.5     ONEUSDT  True   \n24  \\PEOPLEUSDT\\plots\\2022-03-12T071250\\backtest_r...  5.5  PEOPLEUSDT  True   \n25  \\RUNEUSDT\\plots\\2022-03-11T084209\\backtest_res...  5.5    RUNEUSDT  True   \n26  \\SANDUSDT\\plots\\2022-03-09T072942\\backtest_res...  5.5    SANDUSDT  True   \n27  \\THETAUSDT\\plots\\2022-03-11T084546\\backtest_re...  5.5   THETAUSDT  True   \n28  \\UNIUSDT\\plots\\2022-03-11T212858\\backtest_resu...  5.5     UNIUSDT  True   \n29  \\WAVESUSDT\\plots\\2022-03-09T074256\\backtest_re...  5.5   WAVESUSDT  True   \n30  \\XRPUSDT\\plots\\2022-03-10T125505\\backtest_resu...  5.5     XRPUSDT  True   \n31  \\XRPUSDT\\plots\\2022-03-10T170256\\backtest_resu...  5.5     XRPUSDT  True   \n32  \\XRPUSDT\\plots\\2022-03-10T193842\\backtest_resu...  5.5     XRPUSDT  True   \n33  \\YFIUSDT\\plots\\2022-03-12T072213\\backtest_resu...  5.5     YFIUSDT  True   \n\n       tgl_%    adgl_%  bnkrl_%    ebrl  short       tgs_%   adgs_%  bnkrs_%  \\\n0   -350.600   0.41900  100.000  0.9641   True  -693.70000   0.4730  100.000   \n1   -359.600   0.39900  100.000  0.9622   True  -693.70000   0.4730  100.000   \n2   -394.300   0.63000  100.000  0.9645   True  -660.70000   0.7830  100.000   \n3  -1475.000   0.60900  100.000  0.9639   True -1085.00000   0.5520  100.000   \n4  -3640.000   0.85600  100.000  0.9581   True -3513.00000   1.0700   91.250   \n5   -828.200   1.15000  100.000  0.9671   True  -621.70000   0.8840  100.000   \n6      3.882   0.01810  100.000  0.9561   True    21.68000   0.0953  100.000   \n7   -395.600   0.57300  100.000  0.9607   True    13.27000   0.0590  100.000   \n8   -746.300   0.67400  100.000  0.9590   True  -970.50000   0.7950  100.000   \n9     12.900   0.05650  100.000  0.9333   True    28.53000   0.1220  100.000   \n10     3.534   0.01610  100.000  0.9685   True     9.07200   0.0410  100.000   \n11     2.334   0.00575  100.000  0.9659   True    15.46000   0.0686  100.000   \n12 -1208.000   0.55000  100.000  0.9487   True     0.05677   0.4190   11.910   \n13     1.674   0.02720  100.000  0.9570   True   -93.43000  -2.6700    5.972   \n14  -727.000 -14.40000    5.938  0.6909   True  -614.80000 -14.4000    5.975   \n15  -727.600  -7.93000    5.965  0.7664   True  -955.10000  -7.9300    5.990   \n16     3.164   0.06770  100.000  0.9844   True     4.64600   0.1940  100.000   \n17    10.830   0.04750  100.000  0.9702   True    10.86000   0.0492  100.000   \n18    12.030   0.05310  100.000  0.9687   True     5.52400   0.0255  100.000   \n19  -281.500   0.40000  100.000  0.9597   True  -819.50000   0.6340  100.000   \n20  -571.400   0.44300  100.000  0.9622   True -1299.00000   0.6750  100.000   \n21  -571.400   0.44300  100.000  0.9622   True -1299.00000   0.6750  100.000   \n22  -731.400   0.31300  100.000  0.9591   True   -93.82000  -2.0900    5.849   \n23    13.120   0.05090  100.000  0.9579   True    14.72000   0.0675  100.000   \n24     5.524   0.07130  100.000  0.9870   True     2.58900   0.0437  100.000   \n25    11.960   0.05350  100.000  0.9671   True    12.01000   0.0563  100.000   \n26 -1901.000   0.86100  100.000  0.8925   True -1454.00000   0.7640  100.000   \n27     9.245   0.04060  100.000  0.9774   True    14.63000   0.0676  100.000   \n28  -226.700   0.27400  100.000  0.9623   True  -620.10000   0.5260  100.000   \n29  -667.200   0.38800  100.000  0.9561   True  -785.40000   0.4310  100.000   \n30  -265.800   0.47200  100.000  0.9649   True  -256.20000   0.3700  100.000   \n31  -476.400   0.59200  100.000  0.9605   True  -279.10000   0.3890  100.000   \n32  -476.400   0.59200  100.000  0.9605   True  -279.10000   0.3890  100.000   \n33  -378.200   0.32700  100.000  0.9578   True  -837.60000   0.3850  100.000   \n\n       ebrs  \n0   0.94590  \n1   0.94590  \n2   0.95250  \n3   0.92420  \n4   0.82850  \n5   0.96260  \n6   0.86070  \n7   0.95680  \n8   0.95470  \n9   0.94080  \n10  0.97580  \n11  0.95320  \n12  0.11880  \n13  0.08680  \n14  0.82360  \n15  0.85430  \n16  0.98630  \n17  0.95440  \n18  0.93790  \n19  0.95550  \n20  0.94910  \n21  0.94910  \n22  0.07212  \n23  0.92620  \n24  0.90290  \n25  0.91200  \n26  0.86520  \n27  0.95210  \n28  0.94560  \n29  0.89460  \n30  0.95270  \n31  0.95010  \n32  0.95010  \n33  0.96460  ",
      "text/html": "<div>\n<style scoped>\n    .dataframe tbody tr th:only-of-type {\n        vertical-align: middle;\n    }\n\n    .dataframe tbody tr th {\n        vertical-align: top;\n    }\n\n    .dataframe thead th {\n        text-align: right;\n    }\n</style>\n<table border=\"1\" class=\"dataframe\">\n  <thead>\n    <tr style=\"text-align: right;\">\n      <th></th>\n      <th>file</th>\n      <th>v</th>\n      <th>s</th>\n      <th>long</th>\n      <th>tgl_%</th>\n      <th>adgl_%</th>\n      <th>bnkrl_%</th>\n      <th>ebrl</th>\n      <th>short</th>\n      <th>tgs_%</th>\n      <th>adgs_%</th>\n      <th>bnkrs_%</th>\n      <th>ebrs</th>\n    </tr>\n  </thead>\n  <tbody>\n    <tr>\n      <th>0</th>\n      <td>\\AAVEUSDT\\plots\\2022-03-12T073455\\backtest_res...</td>\n      <td>5.5</td>\n      <td>AAVEUSDT</td>\n      <td>True</td>\n      <td>-350.600</td>\n      <td>0.41900</td>\n      <td>100.000</td>\n      <td>0.9641</td>\n      <td>True</td>\n      <td>-693.70000</td>\n      <td>0.4730</td>\n      <td>100.000</td>\n      <td>0.94590</td>\n    </tr>\n    <tr>\n      <th>1</th>\n      <td>\\AAVEUSDT\\plots\\2022-03-12T080239\\backtest_res...</td>\n      <td>5.5</td>\n      <td>AAVEUSDT</td>\n      <td>True</td>\n      <td>-359.600</td>\n      <td>0.39900</td>\n      <td>100.000</td>\n      <td>0.9622</td>\n      <td>True</td>\n      <td>-693.70000</td>\n      <td>0.4730</td>\n      <td>100.000</td>\n      <td>0.94590</td>\n    </tr>\n    <tr>\n      <th>2</th>\n      <td>\\ADAUSDT\\plots\\2022-03-10T124500\\backtest_resu...</td>\n      <td>5.5</td>\n      <td>ADAUSDT</td>\n      <td>True</td>\n      <td>-394.300</td>\n      <td>0.63000</td>\n      <td>100.000</td>\n      <td>0.9645</td>\n      <td>True</td>\n      <td>-660.70000</td>\n      <td>0.7830</td>\n      <td>100.000</td>\n      <td>0.95250</td>\n    </tr>\n    <tr>\n      <th>3</th>\n      <td>\\ATOMUSDT\\plots\\2022-03-08T230945\\backtest_res...</td>\n      <td>5.5</td>\n      <td>ATOMUSDT</td>\n      <td>True</td>\n      <td>-1475.000</td>\n      <td>0.60900</td>\n      <td>100.000</td>\n      <td>0.9639</td>\n      <td>True</td>\n      <td>-1085.00000</td>\n      <td>0.5520</td>\n      <td>100.000</td>\n      <td>0.92420</td>\n    </tr>\n    <tr>\n      <th>4</th>\n      <td>\\AXSUSDT\\plots\\2022-03-08T135416\\backtest_resu...</td>\n      <td>5.5</td>\n      <td>AXSUSDT</td>\n      <td>True</td>\n      <td>-3640.000</td>\n      <td>0.85600</td>\n      <td>100.000</td>\n      <td>0.9581</td>\n      <td>True</td>\n      <td>-3513.00000</td>\n      <td>1.0700</td>\n      <td>91.250</td>\n      <td>0.82850</td>\n    </tr>\n    <tr>\n      <th>5</th>\n      <td>\\BNBUSDT\\plots\\2022-03-08T181744\\backtest_resu...</td>\n      <td>5.5</td>\n      <td>BNBUSDT</td>\n      <td>True</td>\n      <td>-828.200</td>\n      <td>1.15000</td>\n      <td>100.000</td>\n      <td>0.9671</td>\n      <td>True</td>\n      <td>-621.70000</td>\n      <td>0.8840</td>\n      <td>100.000</td>\n      <td>0.96260</td>\n    </tr>\n    <tr>\n      <th>6</th>\n      <td>\\CHZUSDT\\plots\\2022-03-11T085709\\backtest_resu...</td>\n      <td>5.5</td>\n      <td>CHZUSDT</td>\n      <td>True</td>\n      <td>3.882</td>\n      <td>0.01810</td>\n      <td>100.000</td>\n      <td>0.9561</td>\n      <td>True</td>\n      <td>21.68000</td>\n      <td>0.0953</td>\n      <td>100.000</td>\n      <td>0.86070</td>\n    </tr>\n    <tr>\n      <th>7</th>\n      <td>\\DOGEUSDT\\plots\\2022-03-11T134907\\backtest_res...</td>\n      <td>5.5</td>\n      <td>DOGEUSDT</td>\n      <td>True</td>\n      <td>-395.600</td>\n      <td>0.57300</td>\n      <td>100.000</td>\n      <td>0.9607</td>\n      <td>True</td>\n      <td>13.27000</td>\n      <td>0.0590</td>\n      <td>100.000</td>\n      <td>0.95680</td>\n    </tr>\n    <tr>\n      <th>8</th>\n      <td>\\DOTUSDT\\plots\\2022-03-09T153345\\backtest_resu...</td>\n      <td>5.5</td>\n      <td>DOTUSDT</td>\n      <td>True</td>\n      <td>-746.300</td>\n      <td>0.67400</td>\n      <td>100.000</td>\n      <td>0.9590</td>\n      <td>True</td>\n      <td>-970.50000</td>\n      <td>0.7950</td>\n      <td>100.000</td>\n      <td>0.95470</td>\n    </tr>\n    <tr>\n      <th>9</th>\n      <td>\\EOSUSDT\\plots\\2022-03-12T232401\\backtest_resu...</td>\n      <td>5.5</td>\n      <td>EOSUSDT</td>\n      <td>True</td>\n      <td>12.900</td>\n      <td>0.05650</td>\n      <td>100.000</td>\n      <td>0.9333</td>\n      <td>True</td>\n      <td>28.53000</td>\n      <td>0.1220</td>\n      <td>100.000</td>\n      <td>0.94080</td>\n    </tr>\n    <tr>\n      <th>10</th>\n      <td>\\EOSUSDT\\plots\\2022-03-12T232528\\backtest_resu...</td>\n      <td>5.5</td>\n      <td>EOSUSDT</td>\n      <td>True</td>\n      <td>3.534</td>\n      <td>0.01610</td>\n      <td>100.000</td>\n      <td>0.9685</td>\n      <td>True</td>\n      <td>9.07200</td>\n      <td>0.0410</td>\n      <td>100.000</td>\n      <td>0.97580</td>\n    </tr>\n    <tr>\n      <th>11</th>\n      <td>\\EOSUSDT\\plots\\2022-03-12T232629\\backtest_resu...</td>\n      <td>5.5</td>\n      <td>EOSUSDT</td>\n      <td>True</td>\n      <td>2.334</td>\n      <td>0.00575</td>\n      <td>100.000</td>\n      <td>0.9659</td>\n      <td>True</td>\n      <td>15.46000</td>\n      <td>0.0686</td>\n      <td>100.000</td>\n      <td>0.95320</td>\n    </tr>\n    <tr>\n      <th>12</th>\n      <td>\\FTMUSDT\\plots\\2022-03-09T224354\\backtest_resu...</td>\n      <td>5.5</td>\n      <td>FTMUSDT</td>\n      <td>True</td>\n      <td>-1208.000</td>\n      <td>0.55000</td>\n      <td>100.000</td>\n      <td>0.9487</td>\n      <td>True</td>\n      <td>0.05677</td>\n      <td>0.4190</td>\n      <td>11.910</td>\n      <td>0.11880</td>\n    </tr>\n    <tr>\n      <th>13</th>\n      <td>\\GALAUSDT\\plots\\2022-03-10T221934\\backtest_res...</td>\n      <td>5.5</td>\n      <td>GALAUSDT</td>\n      <td>True</td>\n      <td>1.674</td>\n      <td>0.02720</td>\n      <td>100.000</td>\n      <td>0.9570</td>\n      <td>True</td>\n      <td>-93.43000</td>\n      <td>-2.6700</td>\n      <td>5.972</td>\n      <td>0.08680</td>\n    </tr>\n    <tr>\n      <th>14</th>\n      <td>\\ICPUSDT\\plots\\2022-03-11T135340\\backtest_resu...</td>\n      <td>5.5</td>\n      <td>ICPUSDT</td>\n      <td>True</td>\n      <td>-727.000</td>\n      <td>-14.40000</td>\n      <td>5.938</td>\n      <td>0.6909</td>\n      <td>True</td>\n      <td>-614.80000</td>\n      <td>-14.4000</td>\n      <td>5.975</td>\n      <td>0.82360</td>\n    </tr>\n    <tr>\n      <th>15</th>\n      <td>\\ICPUSDT\\plots\\2022-03-11T164233\\backtest_resu...</td>\n      <td>5.5</td>\n      <td>ICPUSDT</td>\n      <td>True</td>\n      <td>-727.600</td>\n      <td>-7.93000</td>\n      <td>5.965</td>\n      <td>0.7664</td>\n      <td>True</td>\n      <td>-955.10000</td>\n      <td>-7.9300</td>\n      <td>5.990</td>\n      <td>0.85430</td>\n    </tr>\n    <tr>\n      <th>16</th>\n      <td>\\IMXUSDT\\plots\\2022-03-11T083909\\backtest_resu...</td>\n      <td>5.5</td>\n      <td>IMXUSDT</td>\n      <td>True</td>\n      <td>3.164</td>\n      <td>0.06770</td>\n      <td>100.000</td>\n      <td>0.9844</td>\n      <td>True</td>\n      <td>4.64600</td>\n      <td>0.1940</td>\n      <td>100.000</td>\n      <td>0.98630</td>\n    </tr>\n    <tr>\n      <th>17</th>\n      <td>\\KNCUSDT\\plots\\2022-03-10T171105\\backtest_resu...</td>\n      <td>5.5</td>\n      <td>KNCUSDT</td>\n      <td>True</td>\n      <td>10.830</td>\n      <td>0.04750</td>\n      <td>100.000</td>\n      <td>0.9702</td>\n      <td>True</td>\n      <td>10.86000</td>\n      <td>0.0492</td>\n      <td>100.000</td>\n      <td>0.95440</td>\n    </tr>\n    <tr>\n      <th>18</th>\n      <td>\\KNCUSDT\\plots\\2022-03-10T194120\\backtest_resu...</td>\n      <td>5.5</td>\n      <td>KNCUSDT</td>\n      <td>True</td>\n      <td>12.030</td>\n      <td>0.05310</td>\n      <td>100.000</td>\n      <td>0.9687</td>\n      <td>True</td>\n      <td>5.52400</td>\n      <td>0.0255</td>\n      <td>100.000</td>\n      <td>0.93790</td>\n    </tr>\n    <tr>\n      <th>19</th>\n      <td>\\LINKUSDT\\plots\\2022-03-10T063226\\backtest_res...</td>\n      <td>5.5</td>\n      <td>LINKUSDT</td>\n      <td>True</td>\n      <td>-281.500</td>\n      <td>0.40000</td>\n      <td>100.000</td>\n      <td>0.9597</td>\n      <td>True</td>\n      <td>-819.50000</td>\n      <td>0.6340</td>\n      <td>100.000</td>\n      <td>0.95550</td>\n    </tr>\n    <tr>\n      <th>20</th>\n      <td>\\MATICUSDT\\plots\\2022-03-09T154507\\backtest_re...</td>\n      <td>5.5</td>\n      <td>MATICUSDT</td>\n      <td>True</td>\n      <td>-571.400</td>\n      <td>0.44300</td>\n      <td>100.000</td>\n      <td>0.9622</td>\n      <td>True</td>\n      <td>-1299.00000</td>\n      <td>0.6750</td>\n      <td>100.000</td>\n      <td>0.94910</td>\n    </tr>\n    <tr>\n      <th>21</th>\n      <td>\\MATICUSDT\\plots\\2022-03-09T155533\\backtest_re...</td>\n      <td>5.5</td>\n      <td>MATICUSDT</td>\n      <td>True</td>\n      <td>-571.400</td>\n      <td>0.44300</td>\n      <td>100.000</td>\n      <td>0.9622</td>\n      <td>True</td>\n      <td>-1299.00000</td>\n      <td>0.6750</td>\n      <td>100.000</td>\n      <td>0.94910</td>\n    </tr>\n    <tr>\n      <th>22</th>\n      <td>\\NEARUSDT\\plots\\2022-03-10T082547\\backtest_res...</td>\n      <td>5.5</td>\n      <td>NEARUSDT</td>\n      <td>True</td>\n      <td>-731.400</td>\n      <td>0.31300</td>\n      <td>100.000</td>\n      <td>0.9591</td>\n      <td>True</td>\n      <td>-93.82000</td>\n      <td>-2.0900</td>\n      <td>5.849</td>\n      <td>0.07212</td>\n    </tr>\n    <tr>\n      <th>23</th>\n      <td>\\ONEUSDT\\plots\\2022-03-12T070324\\backtest_resu...</td>\n      <td>5.5</td>\n      <td>ONEUSDT</td>\n      <td>True</td>\n      <td>13.120</td>\n      <td>0.05090</td>\n      <td>100.000</td>\n      <td>0.9579</td>\n      <td>True</td>\n      <td>14.72000</td>\n      <td>0.0675</td>\n      <td>100.000</td>\n      <td>0.92620</td>\n    </tr>\n    <tr>\n      <th>24</th>\n      <td>\\PEOPLEUSDT\\plots\\2022-03-12T071250\\backtest_r...</td>\n      <td>5.5</td>\n      <td>PEOPLEUSDT</td>\n      <td>True</td>\n      <td>5.524</td>\n      <td>0.07130</td>\n      <td>100.000</td>\n      <td>0.9870</td>\n      <td>True</td>\n      <td>2.58900</td>\n      <td>0.0437</td>\n      <td>100.000</td>\n      <td>0.90290</td>\n    </tr>\n    <tr>\n      <th>25</th>\n      <td>\\RUNEUSDT\\plots\\2022-03-11T084209\\backtest_res...</td>\n      <td>5.5</td>\n      <td>RUNEUSDT</td>\n      <td>True</td>\n      <td>11.960</td>\n      <td>0.05350</td>\n      <td>100.000</td>\n      <td>0.9671</td>\n      <td>True</td>\n      <td>12.01000</td>\n      <td>0.0563</td>\n      <td>100.000</td>\n      <td>0.91200</td>\n    </tr>\n    <tr>\n      <th>26</th>\n      <td>\\SANDUSDT\\plots\\2022-03-09T072942\\backtest_res...</td>\n      <td>5.5</td>\n      <td>SANDUSDT</td>\n      <td>True</td>\n      <td>-1901.000</td>\n      <td>0.86100</td>\n      <td>100.000</td>\n      <td>0.8925</td>\n      <td>True</td>\n      <td>-1454.00000</td>\n      <td>0.7640</td>\n      <td>100.000</td>\n      <td>0.86520</td>\n    </tr>\n    <tr>\n      <th>27</th>\n      <td>\\THETAUSDT\\plots\\2022-03-11T084546\\backtest_re...</td>\n      <td>5.5</td>\n      <td>THETAUSDT</td>\n      <td>True</td>\n      <td>9.245</td>\n      <td>0.04060</td>\n      <td>100.000</td>\n      <td>0.9774</td>\n      <td>True</td>\n      <td>14.63000</td>\n      <td>0.0676</td>\n      <td>100.000</td>\n      <td>0.95210</td>\n    </tr>\n    <tr>\n      <th>28</th>\n      <td>\\UNIUSDT\\plots\\2022-03-11T212858\\backtest_resu...</td>\n      <td>5.5</td>\n      <td>UNIUSDT</td>\n      <td>True</td>\n      <td>-226.700</td>\n      <td>0.27400</td>\n      <td>100.000</td>\n      <td>0.9623</td>\n      <td>True</td>\n      <td>-620.10000</td>\n      <td>0.5260</td>\n      <td>100.000</td>\n      <td>0.94560</td>\n    </tr>\n    <tr>\n      <th>29</th>\n      <td>\\WAVESUSDT\\plots\\2022-03-09T074256\\backtest_re...</td>\n      <td>5.5</td>\n      <td>WAVESUSDT</td>\n      <td>True</td>\n      <td>-667.200</td>\n      <td>0.38800</td>\n      <td>100.000</td>\n      <td>0.9561</td>\n      <td>True</td>\n      <td>-785.40000</td>\n      <td>0.4310</td>\n      <td>100.000</td>\n      <td>0.89460</td>\n    </tr>\n    <tr>\n      <th>30</th>\n      <td>\\XRPUSDT\\plots\\2022-03-10T125505\\backtest_resu...</td>\n      <td>5.5</td>\n      <td>XRPUSDT</td>\n      <td>True</td>\n      <td>-265.800</td>\n      <td>0.47200</td>\n      <td>100.000</td>\n      <td>0.9649</td>\n      <td>True</td>\n      <td>-256.20000</td>\n      <td>0.3700</td>\n      <td>100.000</td>\n      <td>0.95270</td>\n    </tr>\n    <tr>\n      <th>31</th>\n      <td>\\XRPUSDT\\plots\\2022-03-10T170256\\backtest_resu...</td>\n      <td>5.5</td>\n      <td>XRPUSDT</td>\n      <td>True</td>\n      <td>-476.400</td>\n      <td>0.59200</td>\n      <td>100.000</td>\n      <td>0.9605</td>\n      <td>True</td>\n      <td>-279.10000</td>\n      <td>0.3890</td>\n      <td>100.000</td>\n      <td>0.95010</td>\n    </tr>\n    <tr>\n      <th>32</th>\n      <td>\\XRPUSDT\\plots\\2022-03-10T193842\\backtest_resu...</td>\n      <td>5.5</td>\n      <td>XRPUSDT</td>\n      <td>True</td>\n      <td>-476.400</td>\n      <td>0.59200</td>\n      <td>100.000</td>\n      <td>0.9605</td>\n      <td>True</td>\n      <td>-279.10000</td>\n      <td>0.3890</td>\n      <td>100.000</td>\n      <td>0.95010</td>\n    </tr>\n    <tr>\n      <th>33</th>\n      <td>\\YFIUSDT\\plots\\2022-03-12T072213\\backtest_resu...</td>\n      <td>5.5</td>\n      <td>YFIUSDT</td>\n      <td>True</td>\n      <td>-378.200</td>\n      <td>0.32700</td>\n      <td>100.000</td>\n      <td>0.9578</td>\n      <td>True</td>\n      <td>-837.60000</td>\n      <td>0.3850</td>\n      <td>100.000</td>\n      <td>0.96460</td>\n    </tr>\n  </tbody>\n</table>\n</div>"
     },
     "execution_count": 3,
     "metadata": {},
     "output_type": "execute_result"
    }
   ],
   "source": [
    "big_data = pd.DataFrame()\n",
    "files = glob.iglob('backtests/bybit/' + '**/backtest_result.txt', recursive=True)\n",
    "i = 0\n",
    "for filename in files:\n",
    "    #print(f'parsing : {filename}')\n",
    "    with open(filename, 'r') as file:\n",
    "        data = file.read().split('\\n')\n",
    "        d = {'file': filename.replace('backtests/bybit','')}\n",
    "        current_state = 'long'\n",
    "        for l in data:\n",
    "            l = l.split('|')\n",
    "            if len(l) == 4:\n",
    "                key = l[1].strip()\n",
    "                value = l[2].strip()\n",
    "\n",
    "                if key == 'Passivbot Version':\n",
    "                    d['v'] = value\n",
    "                if key == 'Symbol':\n",
    "                    d['s'] = value\n",
    "\n",
    "                if key == 'Long':\n",
    "                    current_state = 'long'\n",
    "                    d['long'] = bool(value) or False\n",
    "                if key == 'Short':\n",
    "                    current_state = 'short'\n",
    "                    d['short'] = bool(value) or False\n",
    "\n",
    "                if key == 'Total gain' and current_state == 'long':\n",
    "                    d['tgl_%'] = float(value.replace('%', '').strip())\n",
    "                if key == 'Average daily gain' and current_state == 'long':\n",
    "                    d['adgl_%'] = float(value.replace('%', '').strip())\n",
    "                if key == 'Closest bankruptcy' and current_state == 'long':\n",
    "                    d['bnkrl_%'] = float(value.replace('%', '').strip())\n",
    "                if key == 'Lowest equity/balance ratio' and current_state == 'long':\n",
    "                    d['ebrl'] = float(value.replace('%', '').strip())\n",
    "\n",
    "                if key == 'Total gain' and current_state == 'short':\n",
    "                    d['tgs_%'] = float(value.replace('%', '').strip())\n",
    "                if key == 'Average daily gain' and current_state == 'short':\n",
    "                    d['adgs_%'] = float(value.replace('%', '').strip())\n",
    "                if key == 'Closest bankruptcy' and current_state == 'short':\n",
    "                    d['bnkrs_%'] = float(value.replace('%', '').strip())\n",
    "                if key == 'Lowest equity/balance ratio' and current_state == 'short':\n",
    "                    d['ebrs'] = float(value.replace('%', '').strip())\n",
    "\n",
    "        #d['adgt_%'] = d['adgl_%']+d['adgs_%']\n",
    "        big_data = big_data.append(d, ignore_index=True)\n",
    "\n",
    "big_data"
   ]
  },
  {
   "cell_type": "markdown",
   "metadata": {},
   "source": [
    "Now filter the dataframe"
   ]
  },
  {
   "cell_type": "code",
   "execution_count": 7,
   "metadata": {
    "pycharm": {
     "name": "#%%\n"
    }
   },
   "outputs": [
    {
     "data": {
      "text/plain": "                                                file    v        s  long  \\\n9  \\EOSUSDT\\plots\\2022-03-12T232401\\backtest_resu...  5.5  EOSUSDT  True   \n\n   tgl_%  adgl_%  bnkrl_%    ebrl  short  tgs_%  adgs_%  bnkrs_%    ebrs  \\\n9   12.9  0.0565    100.0  0.9333   True  28.53   0.122    100.0  0.9408   \n\n   adgt_%  \n9  0.1785  ",
      "text/html": "<div>\n<style scoped>\n    .dataframe tbody tr th:only-of-type {\n        vertical-align: middle;\n    }\n\n    .dataframe tbody tr th {\n        vertical-align: top;\n    }\n\n    .dataframe thead th {\n        text-align: right;\n    }\n</style>\n<table border=\"1\" class=\"dataframe\">\n  <thead>\n    <tr style=\"text-align: right;\">\n      <th></th>\n      <th>file</th>\n      <th>v</th>\n      <th>s</th>\n      <th>long</th>\n      <th>tgl_%</th>\n      <th>adgl_%</th>\n      <th>bnkrl_%</th>\n      <th>ebrl</th>\n      <th>short</th>\n      <th>tgs_%</th>\n      <th>adgs_%</th>\n      <th>bnkrs_%</th>\n      <th>ebrs</th>\n      <th>adgt_%</th>\n    </tr>\n  </thead>\n  <tbody>\n    <tr>\n      <th>9</th>\n      <td>\\EOSUSDT\\plots\\2022-03-12T232401\\backtest_resu...</td>\n      <td>5.5</td>\n      <td>EOSUSDT</td>\n      <td>True</td>\n      <td>12.9</td>\n      <td>0.0565</td>\n      <td>100.0</td>\n      <td>0.9333</td>\n      <td>True</td>\n      <td>28.53</td>\n      <td>0.122</td>\n      <td>100.0</td>\n      <td>0.9408</td>\n      <td>0.1785</td>\n    </tr>\n  </tbody>\n</table>\n</div>"
     },
     "execution_count": 7,
     "metadata": {},
     "output_type": "execute_result"
    }
   ],
   "source": [
    "allowed_symbols = [\"ETHUSDT\", \"XRPUSDT\", \"1000SHIBUSDT\", \"DOGEUSDT\", \"ADAUSDT\",\n",
    "                   \"BNBUSDT\", \"MATICUSDT\", \"DOTUSDT\", \"SANDUSDT\", \"FTMUSDT\",\n",
    "                   \"LTCUSDT\", \"LINKUSDT\", \"MANAUSDT\", \"ETCUSDT\", \"EOSUSDT\",\n",
    "                   \"ATOMUSDT\", \"FILUSDT\", \"ICPUSDT\", \"ALICEUSDT\", \"LRCUSDT\",\n",
    "                   \"BCHUSDT\", \"SUSHIUSDT\", \"XTZUSDT\", \"THETAUSDT\", \"CRVUSDT\",\n",
    "                   \"ALGOUSDT\", \"CHZUSDT\", \"TRXUSDT\", \"VETUSDT\", \"CHRUSDT\",\n",
    "                   \"ONEUSDT\", \"OMGUSDT\", \"XLMUSDT\", \"RUNEUSDT\", \"ENJUSDT\",\n",
    "                   \"CELRUSDT\", \"SXPUSDT\", \"1INCHUSDT\", \"SRMUSDT\", \"COTIUSDT\",\n",
    "                   \"ZECUSDT\", \"QTUMUSDT\", \"GRTUSDT\", \"DENTUSDT\", \"SFPUSDT\",\n",
    "                   \"STORJUSDT\", \"IOTAUSDT\", \"HOTUSDT\", \"NEOUSDT\", \"COMPUSDT\",\n",
    "                   \"LINAUSDT\", \"KAVAUSDT\", \"BATUSDT\", \"WAVESUSDT\", \"IOSTUSDT\",\n",
    "                   \"ALPHAUSDT\", \"RLCUSDT\", \"HBARUSDT\", \"DODOUSDT\", \"XMRUSDT\",\n",
    "                   \"SNXUSDT\", \"ANKRUSDT\", \"DASHUSDT\", \"REEFUSDT\", \"ZENUSDT\",\n",
    "                   \"CVCUSDT\", \"RENUSDT\", \"ICXUSDT\", \"RSRUSDT\", \"SKLUSDT\",\n",
    "                   \"NKNUSDT\", \"BELUSDT\", \"ONTUSDT\", \"OGNUSDT\", \"BLZUSDT\",\n",
    "                   \"MTLUSDT\", \"CTKUSDT\", \"RVNUSDT\", \"LITUSDT\", \"MKRUSDT\",\n",
    "                   \"OCEANUSDT\", \"ZILUSDT\", \"UNFIUSDT\", \"BANDUSDT\", \"YFIIUSDT\",\n",
    "                   \"TOMOUSDT\", \"TRBUSDT\", \"KNCUSDT\", \"STMXUSDT\", \"ZRXUSDT\",\n",
    "                   \"SCUSDT\", \"AKROUSDT\", \"XEMUSDT\", \"FLMUSDT\", \"BALUSDT\",\n",
    "                   \"BTSUSDT\", \"DGBUSDT\", \"DEFIUSDT\"]\n",
    "\n",
    "\n",
    "allowed_symbols = [\"EOS\"]\n",
    "allowed_symbols = [s + \"USDT\" for s in allowed_symbols]\n",
    "big_data['adgt_%'] = big_data['adgl_%'] + big_data['adgs_%']\n",
    "df = big_data[(big_data.s.isin(allowed_symbols))\n",
    "              & (big_data['long'] == True)\n",
    "              & (big_data['short'] == True)\n",
    "              & (big_data['adgt_%'] > 0.1)\n",
    "              & (big_data['bnkrl_%'] > 95.0)\n",
    "              & (big_data['bnkrs_%'] > 95.0)\n",
    "              & (big_data['ebrs'] > .85)\n",
    "              & (big_data['ebrl'] > .85)\n",
    "              & (big_data['v'] == '5.5')\n",
    "\n",
    "    # & (big_data['tg_%'] > 10)\n",
    "    # & (big_data['ebr'] > .85)\n",
    "              ]\n",
    "#df['total_adg'] = big_data['adgl_%'] + big_data['adgs_%']\n",
    "df"
   ]
  },
  {
   "cell_type": "code",
   "execution_count": 5,
   "metadata": {
    "pycharm": {
     "name": "#%%\n"
    }
   },
   "outputs": [
    {
     "name": "stderr",
     "output_type": "stream",
     "text": [
      "C:\\Users\\skhan\\AppData\\Local\\Temp/ipykernel_1324320/2043545472.py:1: SettingWithCopyWarning: \n",
      "A value is trying to be set on a copy of a slice from a DataFrame\n",
      "\n",
      "See the caveats in the documentation: https://pandas.pydata.org/pandas-docs/stable/user_guide/indexing.html#returning-a-view-versus-a-copy\n",
      "  df.drop_duplicates(subset=['s', 'tgl_%','tgs_%','adgl_%','adgs_%','adgt_%', 'bnkrl_%', 'bnkrs_%', 'ebrl', 'ebrs', 'long', 'short'], keep='first',\n"
     ]
    },
    {
     "data": {
      "text/plain": "                                                file        s  adgt_%  adgl_%  \\\n9  \\EOSUSDT\\plots\\2022-03-12T232401\\backtest_resu...  EOSUSDT  0.1785  0.0565   \n\n   adgs_%  bnkrl_%  bnkrs_%    ebrl    ebrs  \n9   0.122    100.0    100.0  0.9333  0.9408  ",
      "text/html": "<div>\n<style scoped>\n    .dataframe tbody tr th:only-of-type {\n        vertical-align: middle;\n    }\n\n    .dataframe tbody tr th {\n        vertical-align: top;\n    }\n\n    .dataframe thead th {\n        text-align: right;\n    }\n</style>\n<table border=\"1\" class=\"dataframe\">\n  <thead>\n    <tr style=\"text-align: right;\">\n      <th></th>\n      <th>file</th>\n      <th>s</th>\n      <th>adgt_%</th>\n      <th>adgl_%</th>\n      <th>adgs_%</th>\n      <th>bnkrl_%</th>\n      <th>bnkrs_%</th>\n      <th>ebrl</th>\n      <th>ebrs</th>\n    </tr>\n  </thead>\n  <tbody>\n    <tr>\n      <th>9</th>\n      <td>\\EOSUSDT\\plots\\2022-03-12T232401\\backtest_resu...</td>\n      <td>EOSUSDT</td>\n      <td>0.1785</td>\n      <td>0.0565</td>\n      <td>0.122</td>\n      <td>100.0</td>\n      <td>100.0</td>\n      <td>0.9333</td>\n      <td>0.9408</td>\n    </tr>\n  </tbody>\n</table>\n</div>"
     },
     "execution_count": 5,
     "metadata": {},
     "output_type": "execute_result"
    }
   ],
   "source": [
    "df.drop_duplicates(subset=['s', 'tgl_%','tgs_%','adgl_%','adgs_%','adgt_%', 'bnkrl_%', 'bnkrs_%', 'ebrl', 'ebrs', 'long', 'short'], keep='first',\n",
    "                   inplace=True)\n",
    "dx = df[['file','s','adgt_%','adgl_%','adgs_%','bnkrl_%', 'bnkrs_%','ebrl', 'ebrs']]\n",
    "dx"
   ]
  },
  {
   "cell_type": "code",
   "execution_count": 5,
   "metadata": {
    "pycharm": {
     "name": "#%%\n"
    }
   },
   "outputs": [],
   "source": []
  }
 ],
 "metadata": {
  "kernelspec": {
   "display_name": "PyCharm (passivbot)",
   "language": "python",
   "name": "pycharm-997905a8"
  },
  "language_info": {
   "codemirror_mode": {
    "name": "ipython",
    "version": 3
   },
   "file_extension": ".py",
   "mimetype": "text/x-python",
   "name": "python",
   "nbconvert_exporter": "python",
   "pygments_lexer": "ipython3",
   "version": "3.8.12"
  }
 },
 "nbformat": 4,
 "nbformat_minor": 1
}