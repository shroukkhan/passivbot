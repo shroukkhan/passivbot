{
 "cells": [
  {
   "cell_type": "code",
   "execution_count": 1,
   "metadata": {
    "collapsed": true,
    "pycharm": {
     "name": "#%%\n"
    }
   },
   "outputs": [],
   "source": [
    "%load_ext autoreload\n",
    "%autoreload 2"
   ]
  },
  {
   "cell_type": "code",
   "execution_count": 2,
   "outputs": [],
   "source": [
    "import glob\n",
    "import json\n",
    "\n",
    "import pandas as pd"
   ],
   "metadata": {
    "collapsed": false,
    "pycharm": {
     "name": "#%%\n"
    }
   }
  },
  {
   "cell_type": "code",
   "execution_count": null,
   "outputs": [],
   "source": [
    "import os\n",
    "\n",
    "big_data = pd.DataFrame()\n",
    "## find current folder root\n",
    "root = os.getcwd()\n",
    "\n",
    "all_files = glob.iglob('downloaded_configs/passivbot_v5.8.0/configs' + '/**/result.txt', recursive=True)\n",
    "\n",
    "\n",
    "files = []\n",
    "for file in all_files:\n",
    "    if '\\\\old\\\\' not in file:\n",
    "        files.append(file)\n",
    "\n",
    "i = 0\n",
    "for filename in files:\n",
    "    #print(f'parsing : {filename}')\n",
    "    json_file = os.path.abspath(filename.replace('result.txt', '../config.json'))\n",
    "    with open(json_file) as f:\n",
    "        live_config = json.load(f)\n",
    "        config_type = live_config['config_name']\n",
    "\n",
    "    with open(filename, 'r') as file:\n",
    "        data = file.read().split('\\n')\n",
    "        d = {'file': filename}\n",
    "        current_state = 'long'\n",
    "        for l in data:\n",
    "            l = l.split('|')\n",
    "            if len(l) == 4:\n",
    "                key = l[1].strip()\n",
    "                value = l[2].strip()\n",
    "\n",
    "                if key == 'Symbol':\n",
    "                    d['s'] = value\n",
    "\n",
    "                if key == 'Long':\n",
    "                    current_state = 'long'\n",
    "                    d['long'] = bool(value) or False\n",
    "                if key == 'Short':\n",
    "                    current_state = 'short'\n",
    "                    d['short'] = bool(value) or False\n",
    "\n",
    "                if key == 'Total gain' and current_state == 'long':\n",
    "                    d['tgl_%'] = float(value.replace('%', '').strip())\n",
    "                if key == 'Average daily gain' and current_state == 'long':\n",
    "                    d['adgl_%'] = float(value.replace('%', '').strip())\n",
    "                if key == 'Closest bankruptcy' and current_state == 'long':\n",
    "                    d['bnkrl_%'] = float(value.replace('%', '').strip())\n",
    "                if key == 'Lowest equity/balance ratio' and current_state == 'long':\n",
    "                    d['ebrl'] = float(value.replace('%', '').strip())\n",
    "                if key == 'Max hours stuck' and current_state == 'long':\n",
    "                    d['maxsl'] = float(value.replace('%', '').strip()) / 24\n",
    "                if key == 'Price action distance max' and current_state == 'long':\n",
    "                    d['pamaxl'] = float(value.replace('%', '').strip())\n",
    "                if key == 'Price action distance std' and current_state == 'long':\n",
    "                    d['pastdl'] = float(value.strip())\n",
    "\n",
    "                if key == 'Total gain' and current_state == 'short':\n",
    "                    d['tgs_%'] = float(value.replace('%', '').strip())\n",
    "                if key == 'Average daily gain' and current_state == 'short':\n",
    "                    d['adgs_%'] = float(value.replace('%', '').strip())\n",
    "                if key == 'Closest bankruptcy' and current_state == 'short':\n",
    "                    d['bnkrs_%'] = float(value.replace('%', '').strip())\n",
    "                if key == 'Lowest equity/balance ratio' and current_state == 'short':\n",
    "                    d['ebrs'] = float(value.replace('%', '').strip())\n",
    "                if key == 'Max hours stuck' and current_state == 'short':\n",
    "                    d['maxss'] = float(value.replace('%', '').strip()) / 24\n",
    "                if key == 'Price action distance max' and current_state == 'short':\n",
    "                    d['pamaxs'] = float(value.replace('%', '').strip())\n",
    "                if key == 'Price action distance std' and current_state == 'short':\n",
    "                    d['pastds'] = float(value.strip())\n",
    "\n",
    "        big_data = big_data.append(d, ignore_index=True)\n",
    "big_data"
   ],
   "metadata": {
    "collapsed": false,
    "pycharm": {
     "name": "#%%\n"
    }
   }
  },
  {
   "cell_type": "code",
   "execution_count": null,
   "outputs": [],
   "source": [
    "allowed_symbols = [\n",
    "    \"ETHUSDT\", \"BCHUSDT\", \"XRPUSDT\", \"EOSUSDT\", \"LTCUSDT\", \"TRXUSDT\", \"ETCUSDT\", \"LINKUSDT\", \"XLMUSDT\", \"ADAUSDT\",\n",
    "    \"XMRUSDT\", \"DASHUSDT\", \"ZECUSDT\", \"XTZUSDT\", \"BNBUSDT\", \"ATOMUSDT\", \"NEOUSDT\", \"IOSTUSDT\", \"THETAUSDT\", \"ALGOUSDT\",\n",
    "    \"ZILUSDT\", \"KNCUSDT\", \"COMPUSDT\", \"OMGUSDT\", \"DOGEUSDT\", \"KAVAUSDT\", \"BANDUSDT\", \"RLCUSDT\", \"WAVESUSDT\", \"SNXUSDT\",\n",
    "    \"DOTUSDT\", \"CRVUSDT\", \"TRBUSDT\", \"RUNEUSDT\", \"SUSHIUSDT\", \"SRMUSDT\", \"EGLDUSDT\", \"FTMUSDT\", \"HNTUSDT\", \"RENUSDT\",\n",
    "    \"KSMUSDT\", \"NEARUSDT\", \"FILUSDT\", \"RSRUSDT\", \"MATICUSDT\", \"OCEANUSDT\", \"CVCUSDT\", \"GRTUSDT\", \"1INCHUSDT\", \"CHZUSDT\",\n",
    "    \"SANDUSDT\", \"BTSUSDT\", \"LITUSDT\", \"UNFIUSDT\", \"REEFUSDT\", \"MANAUSDT\", \"HBARUSDT\", \"ONEUSDT\", \"LINAUSDT\", \"STMXUSDT\",\n",
    "    \"DENTUSDT\", \"HOTUSDT\", \"MTLUSDT\", \"SCUSDT\", \"1000SHIBUSDT\"\n",
    "]\n",
    "#allowed_symbols = [s + \"USDT\" for s in allowed_symbols]\n",
    "big_data['adgt_%'] = big_data['adgl_%'] + big_data['adgs_%']\n",
    "df = big_data[(big_data.s.isin(allowed_symbols))\n",
    "    #& (big_data['long'] == True)\n",
    "    #& (big_data['adgl_%'] > 0.04)\n",
    "    #& (big_data['short'] == True)\n",
    "    #& (big_data['adgt_%'] > 0.1)\n",
    "    #& (big_data['bnkrl_%'] > 95.0)\n",
    "    #& (big_data['bnkrs_%'] > 95.0)\n",
    "    #& (big_data['ebrs'] > .85)\n",
    "    #& (big_data['ebrl'] > .8)\n",
    "    #& (big_data['v'] == '5.5')\n",
    "\n",
    "    # & (big_data['tg_%'] > 10)\n",
    "    # & (big_data['ebr'] > .85)\n",
    "]\n",
    "#df['total_adg'] = big_data['adgl_%'] + big_data['adgs_%']\n",
    "df.to_csv('5.8.csv')\n",
    "df"
   ],
   "metadata": {
    "collapsed": false,
    "pycharm": {
     "name": "#%%\n"
    }
   }
  },
  {
   "cell_type": "code",
   "execution_count": null,
   "outputs": [],
   "source": [
    "df.drop_duplicates(\n",
    "    subset=['s',  'tgl_%', 'tgs_%', 'adgl_%', 'adgs_%', 'adgt_%', 'bnkrl_%', 'bnkrs_%', 'ebrl', 'ebrs', 'long',\n",
    "            'short'], keep='first',\n",
    "    inplace=True)\n",
    "dx = df[['file',  's', 'adgt_%', 'adgl_%', 'adgs_%', 'bnkrl_%', 'bnkrs_%', 'ebrl', 'ebrs', 'maxsl', 'pamaxl','pastdl',\n",
    "         'maxss', 'pamaxs','pastds' ]]\n",
    "dx"
   ],
   "metadata": {
    "collapsed": false,
    "pycharm": {
     "name": "#%%\n"
    }
   }
  },
  {
   "cell_type": "code",
   "execution_count": null,
   "outputs": [],
   "source": [
    "dl_proposed = dx[\n",
    "    #(dx['lm'] == 'n') &\n",
    "    (dx['bnkrl_%'] == 100) &\n",
    "    (dx['bnkrs_%'] == 100) &\n",
    "    (dx['ebrl'] > 0.9) &  #&\n",
    "    (dx['ebrs'] > 0.9) &  #&\n",
    "    # (dx['adgl_%'] > 0.04) \n",
    "    (dx['pastdl'] < 0.03) &\n",
    "    (dx['pastds'] < 0.03) &  #\n",
    "    (dx['maxsl'] < 10) &\n",
    "    (dx['maxss'] < 10) &\n",
    "    (dx['adgt_%'].notnull())\n",
    "    ]\n",
    "#dl_proposed = dl_proposed[['file','s','adgl_%', 'bnkrl_%', 'ebrl',  'maxsl', 'pamaxl','pastdl' ]]\n",
    "dl_proposed"
   ],
   "metadata": {
    "collapsed": false,
    "pycharm": {
     "name": "#%%\n"
    }
   }
  }
 ],
 "metadata": {
  "kernelspec": {
   "display_name": "Python 3",
   "language": "python",
   "name": "python3"
  },
  "language_info": {
   "codemirror_mode": {
    "name": "ipython",
    "version": 2
   },
   "file_extension": ".py",
   "mimetype": "text/x-python",
   "name": "python",
   "nbconvert_exporter": "python",
   "pygments_lexer": "ipython2",
   "version": "2.7.6"
  }
 },
 "nbformat": 4,
 "nbformat_minor": 0
}