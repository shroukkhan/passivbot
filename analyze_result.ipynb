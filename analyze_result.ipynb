{
 "cells": [
  {
   "cell_type": "code",
   "execution_count": 6,
   "metadata": {},
   "outputs": [
    {
     "name": "stdout",
     "output_type": "stream",
     "text": [
      "The autoreload extension is already loaded. To reload it, use:\n",
      "  %reload_ext autoreload\n"
     ]
    }
   ],
   "source": [
    "import json\n",
    "%load_ext autoreload\n",
    "%autoreload 2"
   ]
  },
  {
   "cell_type": "code",
   "execution_count": 7,
   "metadata": {
    "pycharm": {
     "name": "#%%\n"
    }
   },
   "outputs": [],
   "source": [
    "import glob\n",
    "import json\n",
    "import pandas as pd"
   ]
  },
  {
   "cell_type": "code",
   "execution_count": 8,
   "metadata": {
    "pycharm": {
     "name": "#%%\n"
    }
   },
   "outputs": [
    {
     "name": "stderr",
     "output_type": "stream",
     "text": [
      "C:\\Users\\skhan\\AppData\\Local\\Temp/ipykernel_706988/2290462972.py:54: FutureWarning: The frame.append method is deprecated and will be removed from pandas in a future version. Use pandas.concat instead.\n",
      "  big_data = big_data.append(d, ignore_index=True)\n",
      "C:\\Users\\skhan\\AppData\\Local\\Temp/ipykernel_706988/2290462972.py:54: FutureWarning: The frame.append method is deprecated and will be removed from pandas in a future version. Use pandas.concat instead.\n",
      "  big_data = big_data.append(d, ignore_index=True)\n",
      "C:\\Users\\skhan\\AppData\\Local\\Temp/ipykernel_706988/2290462972.py:54: FutureWarning: The frame.append method is deprecated and will be removed from pandas in a future version. Use pandas.concat instead.\n",
      "  big_data = big_data.append(d, ignore_index=True)\n",
      "C:\\Users\\skhan\\AppData\\Local\\Temp/ipykernel_706988/2290462972.py:54: FutureWarning: The frame.append method is deprecated and will be removed from pandas in a future version. Use pandas.concat instead.\n",
      "  big_data = big_data.append(d, ignore_index=True)\n",
      "C:\\Users\\skhan\\AppData\\Local\\Temp/ipykernel_706988/2290462972.py:54: FutureWarning: The frame.append method is deprecated and will be removed from pandas in a future version. Use pandas.concat instead.\n",
      "  big_data = big_data.append(d, ignore_index=True)\n",
      "C:\\Users\\skhan\\AppData\\Local\\Temp/ipykernel_706988/2290462972.py:54: FutureWarning: The frame.append method is deprecated and will be removed from pandas in a future version. Use pandas.concat instead.\n",
      "  big_data = big_data.append(d, ignore_index=True)\n",
      "C:\\Users\\skhan\\AppData\\Local\\Temp/ipykernel_706988/2290462972.py:54: FutureWarning: The frame.append method is deprecated and will be removed from pandas in a future version. Use pandas.concat instead.\n",
      "  big_data = big_data.append(d, ignore_index=True)\n",
      "C:\\Users\\skhan\\AppData\\Local\\Temp/ipykernel_706988/2290462972.py:54: FutureWarning: The frame.append method is deprecated and will be removed from pandas in a future version. Use pandas.concat instead.\n",
      "  big_data = big_data.append(d, ignore_index=True)\n",
      "C:\\Users\\skhan\\AppData\\Local\\Temp/ipykernel_706988/2290462972.py:54: FutureWarning: The frame.append method is deprecated and will be removed from pandas in a future version. Use pandas.concat instead.\n",
      "  big_data = big_data.append(d, ignore_index=True)\n",
      "C:\\Users\\skhan\\AppData\\Local\\Temp/ipykernel_706988/2290462972.py:54: FutureWarning: The frame.append method is deprecated and will be removed from pandas in a future version. Use pandas.concat instead.\n",
      "  big_data = big_data.append(d, ignore_index=True)\n",
      "C:\\Users\\skhan\\AppData\\Local\\Temp/ipykernel_706988/2290462972.py:54: FutureWarning: The frame.append method is deprecated and will be removed from pandas in a future version. Use pandas.concat instead.\n",
      "  big_data = big_data.append(d, ignore_index=True)\n",
      "C:\\Users\\skhan\\AppData\\Local\\Temp/ipykernel_706988/2290462972.py:54: FutureWarning: The frame.append method is deprecated and will be removed from pandas in a future version. Use pandas.concat instead.\n",
      "  big_data = big_data.append(d, ignore_index=True)\n",
      "C:\\Users\\skhan\\AppData\\Local\\Temp/ipykernel_706988/2290462972.py:54: FutureWarning: The frame.append method is deprecated and will be removed from pandas in a future version. Use pandas.concat instead.\n",
      "  big_data = big_data.append(d, ignore_index=True)\n",
      "C:\\Users\\skhan\\AppData\\Local\\Temp/ipykernel_706988/2290462972.py:54: FutureWarning: The frame.append method is deprecated and will be removed from pandas in a future version. Use pandas.concat instead.\n",
      "  big_data = big_data.append(d, ignore_index=True)\n",
      "C:\\Users\\skhan\\AppData\\Local\\Temp/ipykernel_706988/2290462972.py:54: FutureWarning: The frame.append method is deprecated and will be removed from pandas in a future version. Use pandas.concat instead.\n",
      "  big_data = big_data.append(d, ignore_index=True)\n",
      "C:\\Users\\skhan\\AppData\\Local\\Temp/ipykernel_706988/2290462972.py:54: FutureWarning: The frame.append method is deprecated and will be removed from pandas in a future version. Use pandas.concat instead.\n",
      "  big_data = big_data.append(d, ignore_index=True)\n",
      "C:\\Users\\skhan\\AppData\\Local\\Temp/ipykernel_706988/2290462972.py:54: FutureWarning: The frame.append method is deprecated and will be removed from pandas in a future version. Use pandas.concat instead.\n",
      "  big_data = big_data.append(d, ignore_index=True)\n",
      "C:\\Users\\skhan\\AppData\\Local\\Temp/ipykernel_706988/2290462972.py:54: FutureWarning: The frame.append method is deprecated and will be removed from pandas in a future version. Use pandas.concat instead.\n",
      "  big_data = big_data.append(d, ignore_index=True)\n",
      "C:\\Users\\skhan\\AppData\\Local\\Temp/ipykernel_706988/2290462972.py:54: FutureWarning: The frame.append method is deprecated and will be removed from pandas in a future version. Use pandas.concat instead.\n",
      "  big_data = big_data.append(d, ignore_index=True)\n",
      "C:\\Users\\skhan\\AppData\\Local\\Temp/ipykernel_706988/2290462972.py:54: FutureWarning: The frame.append method is deprecated and will be removed from pandas in a future version. Use pandas.concat instead.\n",
      "  big_data = big_data.append(d, ignore_index=True)\n",
      "C:\\Users\\skhan\\AppData\\Local\\Temp/ipykernel_706988/2290462972.py:54: FutureWarning: The frame.append method is deprecated and will be removed from pandas in a future version. Use pandas.concat instead.\n",
      "  big_data = big_data.append(d, ignore_index=True)\n",
      "C:\\Users\\skhan\\AppData\\Local\\Temp/ipykernel_706988/2290462972.py:54: FutureWarning: The frame.append method is deprecated and will be removed from pandas in a future version. Use pandas.concat instead.\n",
      "  big_data = big_data.append(d, ignore_index=True)\n",
      "C:\\Users\\skhan\\AppData\\Local\\Temp/ipykernel_706988/2290462972.py:54: FutureWarning: The frame.append method is deprecated and will be removed from pandas in a future version. Use pandas.concat instead.\n",
      "  big_data = big_data.append(d, ignore_index=True)\n",
      "C:\\Users\\skhan\\AppData\\Local\\Temp/ipykernel_706988/2290462972.py:54: FutureWarning: The frame.append method is deprecated and will be removed from pandas in a future version. Use pandas.concat instead.\n",
      "  big_data = big_data.append(d, ignore_index=True)\n",
      "C:\\Users\\skhan\\AppData\\Local\\Temp/ipykernel_706988/2290462972.py:54: FutureWarning: The frame.append method is deprecated and will be removed from pandas in a future version. Use pandas.concat instead.\n",
      "  big_data = big_data.append(d, ignore_index=True)\n",
      "C:\\Users\\skhan\\AppData\\Local\\Temp/ipykernel_706988/2290462972.py:54: FutureWarning: The frame.append method is deprecated and will be removed from pandas in a future version. Use pandas.concat instead.\n",
      "  big_data = big_data.append(d, ignore_index=True)\n",
      "C:\\Users\\skhan\\AppData\\Local\\Temp/ipykernel_706988/2290462972.py:54: FutureWarning: The frame.append method is deprecated and will be removed from pandas in a future version. Use pandas.concat instead.\n",
      "  big_data = big_data.append(d, ignore_index=True)\n",
      "C:\\Users\\skhan\\AppData\\Local\\Temp/ipykernel_706988/2290462972.py:54: FutureWarning: The frame.append method is deprecated and will be removed from pandas in a future version. Use pandas.concat instead.\n",
      "  big_data = big_data.append(d, ignore_index=True)\n",
      "C:\\Users\\skhan\\AppData\\Local\\Temp/ipykernel_706988/2290462972.py:54: FutureWarning: The frame.append method is deprecated and will be removed from pandas in a future version. Use pandas.concat instead.\n",
      "  big_data = big_data.append(d, ignore_index=True)\n",
      "C:\\Users\\skhan\\AppData\\Local\\Temp/ipykernel_706988/2290462972.py:54: FutureWarning: The frame.append method is deprecated and will be removed from pandas in a future version. Use pandas.concat instead.\n",
      "  big_data = big_data.append(d, ignore_index=True)\n",
      "C:\\Users\\skhan\\AppData\\Local\\Temp/ipykernel_706988/2290462972.py:54: FutureWarning: The frame.append method is deprecated and will be removed from pandas in a future version. Use pandas.concat instead.\n",
      "  big_data = big_data.append(d, ignore_index=True)\n",
      "C:\\Users\\skhan\\AppData\\Local\\Temp/ipykernel_706988/2290462972.py:54: FutureWarning: The frame.append method is deprecated and will be removed from pandas in a future version. Use pandas.concat instead.\n",
      "  big_data = big_data.append(d, ignore_index=True)\n",
      "C:\\Users\\skhan\\AppData\\Local\\Temp/ipykernel_706988/2290462972.py:54: FutureWarning: The frame.append method is deprecated and will be removed from pandas in a future version. Use pandas.concat instead.\n",
      "  big_data = big_data.append(d, ignore_index=True)\n",
      "C:\\Users\\skhan\\AppData\\Local\\Temp/ipykernel_706988/2290462972.py:54: FutureWarning: The frame.append method is deprecated and will be removed from pandas in a future version. Use pandas.concat instead.\n",
      "  big_data = big_data.append(d, ignore_index=True)\n",
      "C:\\Users\\skhan\\AppData\\Local\\Temp/ipykernel_706988/2290462972.py:54: FutureWarning: The frame.append method is deprecated and will be removed from pandas in a future version. Use pandas.concat instead.\n",
      "  big_data = big_data.append(d, ignore_index=True)\n",
      "C:\\Users\\skhan\\AppData\\Local\\Temp/ipykernel_706988/2290462972.py:54: FutureWarning: The frame.append method is deprecated and will be removed from pandas in a future version. Use pandas.concat instead.\n",
      "  big_data = big_data.append(d, ignore_index=True)\n",
      "C:\\Users\\skhan\\AppData\\Local\\Temp/ipykernel_706988/2290462972.py:54: FutureWarning: The frame.append method is deprecated and will be removed from pandas in a future version. Use pandas.concat instead.\n",
      "  big_data = big_data.append(d, ignore_index=True)\n",
      "C:\\Users\\skhan\\AppData\\Local\\Temp/ipykernel_706988/2290462972.py:54: FutureWarning: The frame.append method is deprecated and will be removed from pandas in a future version. Use pandas.concat instead.\n",
      "  big_data = big_data.append(d, ignore_index=True)\n",
      "C:\\Users\\skhan\\AppData\\Local\\Temp/ipykernel_706988/2290462972.py:54: FutureWarning: The frame.append method is deprecated and will be removed from pandas in a future version. Use pandas.concat instead.\n",
      "  big_data = big_data.append(d, ignore_index=True)\n",
      "C:\\Users\\skhan\\AppData\\Local\\Temp/ipykernel_706988/2290462972.py:54: FutureWarning: The frame.append method is deprecated and will be removed from pandas in a future version. Use pandas.concat instead.\n",
      "  big_data = big_data.append(d, ignore_index=True)\n",
      "C:\\Users\\skhan\\AppData\\Local\\Temp/ipykernel_706988/2290462972.py:54: FutureWarning: The frame.append method is deprecated and will be removed from pandas in a future version. Use pandas.concat instead.\n",
      "  big_data = big_data.append(d, ignore_index=True)\n"
     ]
    },
    {
     "data": {
      "text/plain": "                                                 file    v          s  long  \\\n0   \\ADAUSDT\\plots\\2022-03-24T141758\\backtest_resu...  5.5    ADAUSDT  True   \n1   \\ADAUSDT\\plots\\2022-03-25T183319\\backtest_resu...  5.5    ADAUSDT  True   \n2   \\ATOMUSDT\\plots\\2022-03-25T142413\\backtest_res...  5.5   ATOMUSDT  True   \n3   \\ATOMUSDT\\plots\\2022-03-25T190936\\backtest_res...  5.5   ATOMUSDT  True   \n4   \\AXSUSDT\\plots\\2022-03-25T094038\\backtest_resu...  5.5    AXSUSDT  True   \n5   \\AXSUSDT\\plots\\2022-03-25T190311\\backtest_resu...  5.5    AXSUSDT  True   \n6   \\BCHUSDT\\plots\\2022-03-19T132719\\backtest_resu...  5.5    BCHUSDT  True   \n7   \\BCHUSDT\\plots\\2022-03-23T185443\\backtest_resu...  5.5    BCHUSDT  True   \n8   \\BCHUSDT\\plots\\2022-03-25T182846\\backtest_resu...  5.5    BCHUSDT  True   \n9   \\BNBUSDT\\plots\\2022-03-25T091844\\backtest_resu...  5.5    BNBUSDT  True   \n10  \\BNBUSDT\\plots\\2022-03-25T185756\\backtest_resu...  5.5    BNBUSDT  True   \n11  \\DOGEUSDT\\plots\\2022-03-24T143935\\backtest_res...  5.5   DOGEUSDT  True   \n12  \\DOGEUSDT\\plots\\2022-03-25T185119\\backtest_res...  5.5   DOGEUSDT  True   \n13  \\DOTUSDT\\plots\\2022-03-25T184807\\backtest_resu...  5.5    DOTUSDT  True   \n14  \\EOSUSDT\\plots\\2022-03-19T120225\\backtest_resu...  5.5    EOSUSDT  True   \n15  \\EOSUSDT\\plots\\2022-03-23T184116\\backtest_resu...  5.5    EOSUSDT  True   \n16  \\EOSUSDT\\plots\\2022-03-25T181648\\backtest_resu...  5.5    EOSUSDT  True   \n17  \\EOSUSDT\\plots\\2022-03-25T182206\\backtest_resu...  5.5    EOSUSDT  True   \n18  \\LINKUSDT\\plots\\2022-03-24T135450\\backtest_res...  5.5   LINKUSDT  True   \n19  \\LINKUSDT\\plots\\2022-03-24T135700\\backtest_res...  5.5   LINKUSDT  True   \n20  \\LINKUSDT\\plots\\2022-03-25T183029\\backtest_res...  5.5   LINKUSDT  True   \n21  \\LTCUSDT\\plots\\2022-03-21T080736\\backtest_resu...  5.5    LTCUSDT  True   \n22  \\LTCUSDT\\plots\\2022-03-21T090630\\backtest_resu...  5.5    LTCUSDT  True   \n23  \\LUNAUSDT\\plots\\2022-03-25T103120\\backtest_res...  5.5   LUNAUSDT  True   \n24  \\LUNAUSDT\\plots\\2022-03-25T190413\\backtest_res...  5.5   LUNAUSDT  True   \n25  \\MATICUSDT\\plots\\2022-03-24T152614\\backtest_re...  5.5  MATICUSDT  True   \n26  \\MATICUSDT\\plots\\2022-03-25T185433\\backtest_re...  5.5  MATICUSDT  True   \n27  \\RUNEUSDT\\plots\\2022-03-25T152238\\backtest_res...  5.5   RUNEUSDT  True   \n28  \\RUNEUSDT\\plots\\2022-03-25T191207\\backtest_res...  5.5   RUNEUSDT  True   \n29  \\SANDUSDT\\plots\\2022-03-25T115948\\backtest_res...  5.5   SANDUSDT  True   \n30  \\SANDUSDT\\plots\\2022-03-25T190626\\backtest_res...  5.5   SANDUSDT  True   \n31  \\THETAUSDT\\plots\\2022-03-25T092703\\backtest_re...  5.5  THETAUSDT  True   \n32  \\THETAUSDT\\plots\\2022-03-25T190009\\backtest_re...  5.5  THETAUSDT  True   \n33  \\WAVESUSDT\\plots\\2022-03-25T182205\\backtest_re...  5.5  WAVESUSDT  True   \n34  \\WAVESUSDT\\plots\\2022-03-25T191622\\backtest_re...  5.5  WAVESUSDT  True   \n35  \\XRPUSDT\\plots\\2022-03-19T120649\\backtest_resu...  5.5    XRPUSDT  True   \n36  \\XRPUSDT\\plots\\2022-03-19T124422\\backtest_resu...  5.5    XRPUSDT  True   \n37  \\XRPUSDT\\plots\\2022-03-19T142454\\backtest_resu...  5.5    XRPUSDT  True   \n38  \\XRPUSDT\\plots\\2022-03-23T184659\\backtest_resu...  5.5    XRPUSDT  True   \n39  \\XRPUSDT\\plots\\2022-03-25T182534\\backtest_resu...  5.5    XRPUSDT  True   \n40  \\XTZUSDT\\plots\\2022-03-21T092843\\backtest_resu...  5.5    XTZUSDT  True   \n\n        tgl_%   adgl_%  bnkrl_%    ebrl  short     tgs_%   adgs_%  bnkrs_%  \\\n0     10.6500  0.04340  100.000  0.9784   True    13.410  0.05250  100.000   \n1    -66.1700 -2.54000    6.000  0.0000   True   -71.440 -2.54000    5.962   \n2     22.9600  0.08870  100.000  0.9664   True    20.820  0.08110  100.000   \n3    -73.7200 -9.01000    5.970  0.0000   True   -74.540 -9.01000    5.994   \n4      7.6130  0.03240  100.000  0.9368   True     7.707  0.03340  100.000   \n5    -77.5700 -8.31000    5.986  0.0000   True   -76.160 -8.31000    5.993   \n6  -2870.0000  1.49000  100.000  0.9597   True -4800.000  1.59000  100.000   \n7      0.3397  0.00180  100.000  0.9417   True    12.660  0.04340  100.000   \n8    -63.7600 -1.95000    5.930  0.0000   True   -64.470 -1.95000    6.000   \n9      3.8440  0.01730  100.000  0.9219   True     5.845  0.02190  100.000   \n10   -43.2700 -0.52600  100.000  0.9299   True   -65.910 -1.95000    5.982   \n11     5.1370  0.02130  100.000  0.9668   True    12.840  0.05190  100.000   \n12     0.1183  0.00058  100.000  0.9836   True   -15.970 -0.11400  100.000   \n13   -67.4600 -7.18000    5.971  0.0000   True   -71.640 -7.18000    5.998   \n14     8.0590  0.03540  100.000  0.9837   True    20.560  0.08870  100.000   \n15     6.1970  0.02580  100.000  0.9735   True    10.860  0.03890  100.000   \n16    -0.6985 -0.00300  100.000  0.9804   True   -48.010 -0.43400  100.000   \n17    -0.6985 -0.00300  100.000  0.9804   True   -48.010 -0.43400  100.000   \n18     7.0400  0.02980  100.000  0.9429   True    15.000  0.05780  100.000   \n19     8.6990  0.03590  100.000  0.9675   True    14.810  0.05760  100.000   \n20   -64.3800 -2.89000    5.980  0.0000   True   -69.130 -2.89000    5.869   \n21 -3618.0000  1.53000  100.000  0.9624   True -7269.000  1.68000  100.000   \n22 -3618.0000  1.53000  100.000  0.9624   True -7269.000  1.68000  100.000   \n23    25.0700  0.09230  100.000  0.9449   True     6.458 -0.00595  100.000   \n24   -72.5400 -8.37000    5.996  0.0000   True   -71.700 -8.37000    5.977   \n25    13.8400  0.05600  100.000  0.9644   True    11.370  0.04640  100.000   \n26   -69.0000 -3.50000    5.934  0.0000   True   -72.390 -3.50000    5.958   \n27     9.8820  0.03950  100.000  0.9640   True    12.830  0.03900  100.000   \n28   -75.1700 -2.02000    5.954  0.0000   True   -77.230 -2.02000    5.984   \n29    10.4900  0.04310  100.000  0.9328   True   -94.060 -1.95000    5.965   \n30   -76.7200 -3.77000    5.927  0.0000   True   -74.290 -3.77000    5.950   \n31     8.5050  0.03510  100.000  0.9732   True     8.178  0.03340  100.000   \n32    -0.4692 -0.00214  100.000  0.9783   True   -75.970 -1.95000    5.963   \n33    15.0100  0.05950  100.000  0.9467   True    12.580  0.00931  100.000   \n34   -73.6700 -3.33000    5.989  0.0000   True   -73.860 -3.33000    5.993   \n35  -649.1000  0.72400  100.000  0.9594   True  -354.300  0.46200  100.000   \n36  -773.5000  0.76700  100.000  0.9611   True  -422.200  0.43300  100.000   \n37  -476.4000  0.59200  100.000  0.9605   True  -279.100  0.38900  100.000   \n38     9.6350  0.03930  100.000  0.9663   True     7.716  0.03110  100.000   \n39   -20.9400 -0.14700  100.000  0.9713   True   -71.330 -1.95000    5.980   \n40    11.9300  0.05240  100.000  0.9699   True    22.510  0.09510  100.000   \n\n      ebrs  \n0   0.9582  \n1   0.9276  \n2   0.9520  \n3   0.9105  \n4   0.8438  \n5   0.8499  \n6   0.9580  \n7   0.9654  \n8   0.9332  \n9   0.9538  \n10  0.9352  \n11  0.9670  \n12  0.9801  \n13  0.7504  \n14  0.9563  \n15  0.9757  \n16  0.9844  \n17  0.9844  \n18  0.9564  \n19  0.9561  \n20  0.5693  \n21  0.9458  \n22  0.9458  \n23  0.9014  \n24  0.9133  \n25  0.9302  \n26  0.3082  \n27  0.9549  \n28  0.9301  \n29  0.0714  \n30  0.8548  \n31  0.9544  \n32  0.8417  \n33  0.8947  \n34  0.9629  \n35  0.8957  \n36  0.9439  \n37  0.9501  \n38  0.9759  \n39  0.8617  \n40  0.9584  ",
      "text/html": "<div>\n<style scoped>\n    .dataframe tbody tr th:only-of-type {\n        vertical-align: middle;\n    }\n\n    .dataframe tbody tr th {\n        vertical-align: top;\n    }\n\n    .dataframe thead th {\n        text-align: right;\n    }\n</style>\n<table border=\"1\" class=\"dataframe\">\n  <thead>\n    <tr style=\"text-align: right;\">\n      <th></th>\n      <th>file</th>\n      <th>v</th>\n      <th>s</th>\n      <th>long</th>\n      <th>tgl_%</th>\n      <th>adgl_%</th>\n      <th>bnkrl_%</th>\n      <th>ebrl</th>\n      <th>short</th>\n      <th>tgs_%</th>\n      <th>adgs_%</th>\n      <th>bnkrs_%</th>\n      <th>ebrs</th>\n    </tr>\n  </thead>\n  <tbody>\n    <tr>\n      <th>0</th>\n      <td>\\ADAUSDT\\plots\\2022-03-24T141758\\backtest_resu...</td>\n      <td>5.5</td>\n      <td>ADAUSDT</td>\n      <td>True</td>\n      <td>10.6500</td>\n      <td>0.04340</td>\n      <td>100.000</td>\n      <td>0.9784</td>\n      <td>True</td>\n      <td>13.410</td>\n      <td>0.05250</td>\n      <td>100.000</td>\n      <td>0.9582</td>\n    </tr>\n    <tr>\n      <th>1</th>\n      <td>\\ADAUSDT\\plots\\2022-03-25T183319\\backtest_resu...</td>\n      <td>5.5</td>\n      <td>ADAUSDT</td>\n      <td>True</td>\n      <td>-66.1700</td>\n      <td>-2.54000</td>\n      <td>6.000</td>\n      <td>0.0000</td>\n      <td>True</td>\n      <td>-71.440</td>\n      <td>-2.54000</td>\n      <td>5.962</td>\n      <td>0.9276</td>\n    </tr>\n    <tr>\n      <th>2</th>\n      <td>\\ATOMUSDT\\plots\\2022-03-25T142413\\backtest_res...</td>\n      <td>5.5</td>\n      <td>ATOMUSDT</td>\n      <td>True</td>\n      <td>22.9600</td>\n      <td>0.08870</td>\n      <td>100.000</td>\n      <td>0.9664</td>\n      <td>True</td>\n      <td>20.820</td>\n      <td>0.08110</td>\n      <td>100.000</td>\n      <td>0.9520</td>\n    </tr>\n    <tr>\n      <th>3</th>\n      <td>\\ATOMUSDT\\plots\\2022-03-25T190936\\backtest_res...</td>\n      <td>5.5</td>\n      <td>ATOMUSDT</td>\n      <td>True</td>\n      <td>-73.7200</td>\n      <td>-9.01000</td>\n      <td>5.970</td>\n      <td>0.0000</td>\n      <td>True</td>\n      <td>-74.540</td>\n      <td>-9.01000</td>\n      <td>5.994</td>\n      <td>0.9105</td>\n    </tr>\n    <tr>\n      <th>4</th>\n      <td>\\AXSUSDT\\plots\\2022-03-25T094038\\backtest_resu...</td>\n      <td>5.5</td>\n      <td>AXSUSDT</td>\n      <td>True</td>\n      <td>7.6130</td>\n      <td>0.03240</td>\n      <td>100.000</td>\n      <td>0.9368</td>\n      <td>True</td>\n      <td>7.707</td>\n      <td>0.03340</td>\n      <td>100.000</td>\n      <td>0.8438</td>\n    </tr>\n    <tr>\n      <th>5</th>\n      <td>\\AXSUSDT\\plots\\2022-03-25T190311\\backtest_resu...</td>\n      <td>5.5</td>\n      <td>AXSUSDT</td>\n      <td>True</td>\n      <td>-77.5700</td>\n      <td>-8.31000</td>\n      <td>5.986</td>\n      <td>0.0000</td>\n      <td>True</td>\n      <td>-76.160</td>\n      <td>-8.31000</td>\n      <td>5.993</td>\n      <td>0.8499</td>\n    </tr>\n    <tr>\n      <th>6</th>\n      <td>\\BCHUSDT\\plots\\2022-03-19T132719\\backtest_resu...</td>\n      <td>5.5</td>\n      <td>BCHUSDT</td>\n      <td>True</td>\n      <td>-2870.0000</td>\n      <td>1.49000</td>\n      <td>100.000</td>\n      <td>0.9597</td>\n      <td>True</td>\n      <td>-4800.000</td>\n      <td>1.59000</td>\n      <td>100.000</td>\n      <td>0.9580</td>\n    </tr>\n    <tr>\n      <th>7</th>\n      <td>\\BCHUSDT\\plots\\2022-03-23T185443\\backtest_resu...</td>\n      <td>5.5</td>\n      <td>BCHUSDT</td>\n      <td>True</td>\n      <td>0.3397</td>\n      <td>0.00180</td>\n      <td>100.000</td>\n      <td>0.9417</td>\n      <td>True</td>\n      <td>12.660</td>\n      <td>0.04340</td>\n      <td>100.000</td>\n      <td>0.9654</td>\n    </tr>\n    <tr>\n      <th>8</th>\n      <td>\\BCHUSDT\\plots\\2022-03-25T182846\\backtest_resu...</td>\n      <td>5.5</td>\n      <td>BCHUSDT</td>\n      <td>True</td>\n      <td>-63.7600</td>\n      <td>-1.95000</td>\n      <td>5.930</td>\n      <td>0.0000</td>\n      <td>True</td>\n      <td>-64.470</td>\n      <td>-1.95000</td>\n      <td>6.000</td>\n      <td>0.9332</td>\n    </tr>\n    <tr>\n      <th>9</th>\n      <td>\\BNBUSDT\\plots\\2022-03-25T091844\\backtest_resu...</td>\n      <td>5.5</td>\n      <td>BNBUSDT</td>\n      <td>True</td>\n      <td>3.8440</td>\n      <td>0.01730</td>\n      <td>100.000</td>\n      <td>0.9219</td>\n      <td>True</td>\n      <td>5.845</td>\n      <td>0.02190</td>\n      <td>100.000</td>\n      <td>0.9538</td>\n    </tr>\n    <tr>\n      <th>10</th>\n      <td>\\BNBUSDT\\plots\\2022-03-25T185756\\backtest_resu...</td>\n      <td>5.5</td>\n      <td>BNBUSDT</td>\n      <td>True</td>\n      <td>-43.2700</td>\n      <td>-0.52600</td>\n      <td>100.000</td>\n      <td>0.9299</td>\n      <td>True</td>\n      <td>-65.910</td>\n      <td>-1.95000</td>\n      <td>5.982</td>\n      <td>0.9352</td>\n    </tr>\n    <tr>\n      <th>11</th>\n      <td>\\DOGEUSDT\\plots\\2022-03-24T143935\\backtest_res...</td>\n      <td>5.5</td>\n      <td>DOGEUSDT</td>\n      <td>True</td>\n      <td>5.1370</td>\n      <td>0.02130</td>\n      <td>100.000</td>\n      <td>0.9668</td>\n      <td>True</td>\n      <td>12.840</td>\n      <td>0.05190</td>\n      <td>100.000</td>\n      <td>0.9670</td>\n    </tr>\n    <tr>\n      <th>12</th>\n      <td>\\DOGEUSDT\\plots\\2022-03-25T185119\\backtest_res...</td>\n      <td>5.5</td>\n      <td>DOGEUSDT</td>\n      <td>True</td>\n      <td>0.1183</td>\n      <td>0.00058</td>\n      <td>100.000</td>\n      <td>0.9836</td>\n      <td>True</td>\n      <td>-15.970</td>\n      <td>-0.11400</td>\n      <td>100.000</td>\n      <td>0.9801</td>\n    </tr>\n    <tr>\n      <th>13</th>\n      <td>\\DOTUSDT\\plots\\2022-03-25T184807\\backtest_resu...</td>\n      <td>5.5</td>\n      <td>DOTUSDT</td>\n      <td>True</td>\n      <td>-67.4600</td>\n      <td>-7.18000</td>\n      <td>5.971</td>\n      <td>0.0000</td>\n      <td>True</td>\n      <td>-71.640</td>\n      <td>-7.18000</td>\n      <td>5.998</td>\n      <td>0.7504</td>\n    </tr>\n    <tr>\n      <th>14</th>\n      <td>\\EOSUSDT\\plots\\2022-03-19T120225\\backtest_resu...</td>\n      <td>5.5</td>\n      <td>EOSUSDT</td>\n      <td>True</td>\n      <td>8.0590</td>\n      <td>0.03540</td>\n      <td>100.000</td>\n      <td>0.9837</td>\n      <td>True</td>\n      <td>20.560</td>\n      <td>0.08870</td>\n      <td>100.000</td>\n      <td>0.9563</td>\n    </tr>\n    <tr>\n      <th>15</th>\n      <td>\\EOSUSDT\\plots\\2022-03-23T184116\\backtest_resu...</td>\n      <td>5.5</td>\n      <td>EOSUSDT</td>\n      <td>True</td>\n      <td>6.1970</td>\n      <td>0.02580</td>\n      <td>100.000</td>\n      <td>0.9735</td>\n      <td>True</td>\n      <td>10.860</td>\n      <td>0.03890</td>\n      <td>100.000</td>\n      <td>0.9757</td>\n    </tr>\n    <tr>\n      <th>16</th>\n      <td>\\EOSUSDT\\plots\\2022-03-25T181648\\backtest_resu...</td>\n      <td>5.5</td>\n      <td>EOSUSDT</td>\n      <td>True</td>\n      <td>-0.6985</td>\n      <td>-0.00300</td>\n      <td>100.000</td>\n      <td>0.9804</td>\n      <td>True</td>\n      <td>-48.010</td>\n      <td>-0.43400</td>\n      <td>100.000</td>\n      <td>0.9844</td>\n    </tr>\n    <tr>\n      <th>17</th>\n      <td>\\EOSUSDT\\plots\\2022-03-25T182206\\backtest_resu...</td>\n      <td>5.5</td>\n      <td>EOSUSDT</td>\n      <td>True</td>\n      <td>-0.6985</td>\n      <td>-0.00300</td>\n      <td>100.000</td>\n      <td>0.9804</td>\n      <td>True</td>\n      <td>-48.010</td>\n      <td>-0.43400</td>\n      <td>100.000</td>\n      <td>0.9844</td>\n    </tr>\n    <tr>\n      <th>18</th>\n      <td>\\LINKUSDT\\plots\\2022-03-24T135450\\backtest_res...</td>\n      <td>5.5</td>\n      <td>LINKUSDT</td>\n      <td>True</td>\n      <td>7.0400</td>\n      <td>0.02980</td>\n      <td>100.000</td>\n      <td>0.9429</td>\n      <td>True</td>\n      <td>15.000</td>\n      <td>0.05780</td>\n      <td>100.000</td>\n      <td>0.9564</td>\n    </tr>\n    <tr>\n      <th>19</th>\n      <td>\\LINKUSDT\\plots\\2022-03-24T135700\\backtest_res...</td>\n      <td>5.5</td>\n      <td>LINKUSDT</td>\n      <td>True</td>\n      <td>8.6990</td>\n      <td>0.03590</td>\n      <td>100.000</td>\n      <td>0.9675</td>\n      <td>True</td>\n      <td>14.810</td>\n      <td>0.05760</td>\n      <td>100.000</td>\n      <td>0.9561</td>\n    </tr>\n    <tr>\n      <th>20</th>\n      <td>\\LINKUSDT\\plots\\2022-03-25T183029\\backtest_res...</td>\n      <td>5.5</td>\n      <td>LINKUSDT</td>\n      <td>True</td>\n      <td>-64.3800</td>\n      <td>-2.89000</td>\n      <td>5.980</td>\n      <td>0.0000</td>\n      <td>True</td>\n      <td>-69.130</td>\n      <td>-2.89000</td>\n      <td>5.869</td>\n      <td>0.5693</td>\n    </tr>\n    <tr>\n      <th>21</th>\n      <td>\\LTCUSDT\\plots\\2022-03-21T080736\\backtest_resu...</td>\n      <td>5.5</td>\n      <td>LTCUSDT</td>\n      <td>True</td>\n      <td>-3618.0000</td>\n      <td>1.53000</td>\n      <td>100.000</td>\n      <td>0.9624</td>\n      <td>True</td>\n      <td>-7269.000</td>\n      <td>1.68000</td>\n      <td>100.000</td>\n      <td>0.9458</td>\n    </tr>\n    <tr>\n      <th>22</th>\n      <td>\\LTCUSDT\\plots\\2022-03-21T090630\\backtest_resu...</td>\n      <td>5.5</td>\n      <td>LTCUSDT</td>\n      <td>True</td>\n      <td>-3618.0000</td>\n      <td>1.53000</td>\n      <td>100.000</td>\n      <td>0.9624</td>\n      <td>True</td>\n      <td>-7269.000</td>\n      <td>1.68000</td>\n      <td>100.000</td>\n      <td>0.9458</td>\n    </tr>\n    <tr>\n      <th>23</th>\n      <td>\\LUNAUSDT\\plots\\2022-03-25T103120\\backtest_res...</td>\n      <td>5.5</td>\n      <td>LUNAUSDT</td>\n      <td>True</td>\n      <td>25.0700</td>\n      <td>0.09230</td>\n      <td>100.000</td>\n      <td>0.9449</td>\n      <td>True</td>\n      <td>6.458</td>\n      <td>-0.00595</td>\n      <td>100.000</td>\n      <td>0.9014</td>\n    </tr>\n    <tr>\n      <th>24</th>\n      <td>\\LUNAUSDT\\plots\\2022-03-25T190413\\backtest_res...</td>\n      <td>5.5</td>\n      <td>LUNAUSDT</td>\n      <td>True</td>\n      <td>-72.5400</td>\n      <td>-8.37000</td>\n      <td>5.996</td>\n      <td>0.0000</td>\n      <td>True</td>\n      <td>-71.700</td>\n      <td>-8.37000</td>\n      <td>5.977</td>\n      <td>0.9133</td>\n    </tr>\n    <tr>\n      <th>25</th>\n      <td>\\MATICUSDT\\plots\\2022-03-24T152614\\backtest_re...</td>\n      <td>5.5</td>\n      <td>MATICUSDT</td>\n      <td>True</td>\n      <td>13.8400</td>\n      <td>0.05600</td>\n      <td>100.000</td>\n      <td>0.9644</td>\n      <td>True</td>\n      <td>11.370</td>\n      <td>0.04640</td>\n      <td>100.000</td>\n      <td>0.9302</td>\n    </tr>\n    <tr>\n      <th>26</th>\n      <td>\\MATICUSDT\\plots\\2022-03-25T185433\\backtest_re...</td>\n      <td>5.5</td>\n      <td>MATICUSDT</td>\n      <td>True</td>\n      <td>-69.0000</td>\n      <td>-3.50000</td>\n      <td>5.934</td>\n      <td>0.0000</td>\n      <td>True</td>\n      <td>-72.390</td>\n      <td>-3.50000</td>\n      <td>5.958</td>\n      <td>0.3082</td>\n    </tr>\n    <tr>\n      <th>27</th>\n      <td>\\RUNEUSDT\\plots\\2022-03-25T152238\\backtest_res...</td>\n      <td>5.5</td>\n      <td>RUNEUSDT</td>\n      <td>True</td>\n      <td>9.8820</td>\n      <td>0.03950</td>\n      <td>100.000</td>\n      <td>0.9640</td>\n      <td>True</td>\n      <td>12.830</td>\n      <td>0.03900</td>\n      <td>100.000</td>\n      <td>0.9549</td>\n    </tr>\n    <tr>\n      <th>28</th>\n      <td>\\RUNEUSDT\\plots\\2022-03-25T191207\\backtest_res...</td>\n      <td>5.5</td>\n      <td>RUNEUSDT</td>\n      <td>True</td>\n      <td>-75.1700</td>\n      <td>-2.02000</td>\n      <td>5.954</td>\n      <td>0.0000</td>\n      <td>True</td>\n      <td>-77.230</td>\n      <td>-2.02000</td>\n      <td>5.984</td>\n      <td>0.9301</td>\n    </tr>\n    <tr>\n      <th>29</th>\n      <td>\\SANDUSDT\\plots\\2022-03-25T115948\\backtest_res...</td>\n      <td>5.5</td>\n      <td>SANDUSDT</td>\n      <td>True</td>\n      <td>10.4900</td>\n      <td>0.04310</td>\n      <td>100.000</td>\n      <td>0.9328</td>\n      <td>True</td>\n      <td>-94.060</td>\n      <td>-1.95000</td>\n      <td>5.965</td>\n      <td>0.0714</td>\n    </tr>\n    <tr>\n      <th>30</th>\n      <td>\\SANDUSDT\\plots\\2022-03-25T190626\\backtest_res...</td>\n      <td>5.5</td>\n      <td>SANDUSDT</td>\n      <td>True</td>\n      <td>-76.7200</td>\n      <td>-3.77000</td>\n      <td>5.927</td>\n      <td>0.0000</td>\n      <td>True</td>\n      <td>-74.290</td>\n      <td>-3.77000</td>\n      <td>5.950</td>\n      <td>0.8548</td>\n    </tr>\n    <tr>\n      <th>31</th>\n      <td>\\THETAUSDT\\plots\\2022-03-25T092703\\backtest_re...</td>\n      <td>5.5</td>\n      <td>THETAUSDT</td>\n      <td>True</td>\n      <td>8.5050</td>\n      <td>0.03510</td>\n      <td>100.000</td>\n      <td>0.9732</td>\n      <td>True</td>\n      <td>8.178</td>\n      <td>0.03340</td>\n      <td>100.000</td>\n      <td>0.9544</td>\n    </tr>\n    <tr>\n      <th>32</th>\n      <td>\\THETAUSDT\\plots\\2022-03-25T190009\\backtest_re...</td>\n      <td>5.5</td>\n      <td>THETAUSDT</td>\n      <td>True</td>\n      <td>-0.4692</td>\n      <td>-0.00214</td>\n      <td>100.000</td>\n      <td>0.9783</td>\n      <td>True</td>\n      <td>-75.970</td>\n      <td>-1.95000</td>\n      <td>5.963</td>\n      <td>0.8417</td>\n    </tr>\n    <tr>\n      <th>33</th>\n      <td>\\WAVESUSDT\\plots\\2022-03-25T182205\\backtest_re...</td>\n      <td>5.5</td>\n      <td>WAVESUSDT</td>\n      <td>True</td>\n      <td>15.0100</td>\n      <td>0.05950</td>\n      <td>100.000</td>\n      <td>0.9467</td>\n      <td>True</td>\n      <td>12.580</td>\n      <td>0.00931</td>\n      <td>100.000</td>\n      <td>0.8947</td>\n    </tr>\n    <tr>\n      <th>34</th>\n      <td>\\WAVESUSDT\\plots\\2022-03-25T191622\\backtest_re...</td>\n      <td>5.5</td>\n      <td>WAVESUSDT</td>\n      <td>True</td>\n      <td>-73.6700</td>\n      <td>-3.33000</td>\n      <td>5.989</td>\n      <td>0.0000</td>\n      <td>True</td>\n      <td>-73.860</td>\n      <td>-3.33000</td>\n      <td>5.993</td>\n      <td>0.9629</td>\n    </tr>\n    <tr>\n      <th>35</th>\n      <td>\\XRPUSDT\\plots\\2022-03-19T120649\\backtest_resu...</td>\n      <td>5.5</td>\n      <td>XRPUSDT</td>\n      <td>True</td>\n      <td>-649.1000</td>\n      <td>0.72400</td>\n      <td>100.000</td>\n      <td>0.9594</td>\n      <td>True</td>\n      <td>-354.300</td>\n      <td>0.46200</td>\n      <td>100.000</td>\n      <td>0.8957</td>\n    </tr>\n    <tr>\n      <th>36</th>\n      <td>\\XRPUSDT\\plots\\2022-03-19T124422\\backtest_resu...</td>\n      <td>5.5</td>\n      <td>XRPUSDT</td>\n      <td>True</td>\n      <td>-773.5000</td>\n      <td>0.76700</td>\n      <td>100.000</td>\n      <td>0.9611</td>\n      <td>True</td>\n      <td>-422.200</td>\n      <td>0.43300</td>\n      <td>100.000</td>\n      <td>0.9439</td>\n    </tr>\n    <tr>\n      <th>37</th>\n      <td>\\XRPUSDT\\plots\\2022-03-19T142454\\backtest_resu...</td>\n      <td>5.5</td>\n      <td>XRPUSDT</td>\n      <td>True</td>\n      <td>-476.4000</td>\n      <td>0.59200</td>\n      <td>100.000</td>\n      <td>0.9605</td>\n      <td>True</td>\n      <td>-279.100</td>\n      <td>0.38900</td>\n      <td>100.000</td>\n      <td>0.9501</td>\n    </tr>\n    <tr>\n      <th>38</th>\n      <td>\\XRPUSDT\\plots\\2022-03-23T184659\\backtest_resu...</td>\n      <td>5.5</td>\n      <td>XRPUSDT</td>\n      <td>True</td>\n      <td>9.6350</td>\n      <td>0.03930</td>\n      <td>100.000</td>\n      <td>0.9663</td>\n      <td>True</td>\n      <td>7.716</td>\n      <td>0.03110</td>\n      <td>100.000</td>\n      <td>0.9759</td>\n    </tr>\n    <tr>\n      <th>39</th>\n      <td>\\XRPUSDT\\plots\\2022-03-25T182534\\backtest_resu...</td>\n      <td>5.5</td>\n      <td>XRPUSDT</td>\n      <td>True</td>\n      <td>-20.9400</td>\n      <td>-0.14700</td>\n      <td>100.000</td>\n      <td>0.9713</td>\n      <td>True</td>\n      <td>-71.330</td>\n      <td>-1.95000</td>\n      <td>5.980</td>\n      <td>0.8617</td>\n    </tr>\n    <tr>\n      <th>40</th>\n      <td>\\XTZUSDT\\plots\\2022-03-21T092843\\backtest_resu...</td>\n      <td>5.5</td>\n      <td>XTZUSDT</td>\n      <td>True</td>\n      <td>11.9300</td>\n      <td>0.05240</td>\n      <td>100.000</td>\n      <td>0.9699</td>\n      <td>True</td>\n      <td>22.510</td>\n      <td>0.09510</td>\n      <td>100.000</td>\n      <td>0.9584</td>\n    </tr>\n  </tbody>\n</table>\n</div>"
     },
     "execution_count": 8,
     "metadata": {},
     "output_type": "execute_result"
    }
   ],
   "source": [
    "big_data = pd.DataFrame()\n",
    "files = glob.iglob('backtests/bybit/' + '**/backtest_result.txt', recursive=True)\n",
    "i = 0\n",
    "for filename in files:\n",
    "    #print(f'parsing : {filename}')\n",
    "    json_file = filename.replace('backtest_result.txt','live_config.json')\n",
    "    with open(json_file) as f:\n",
    "        live_config = json.load(f)\n",
    "        config_type = live_config['config_name']\n",
    "        if 'static_grid' not in config_type:\n",
    "            continue\n",
    "\n",
    "    with open(filename, 'r') as file:\n",
    "        data = file.read().split('\\n')\n",
    "        d = {'file': filename.replace('backtests/bybit','')}\n",
    "        current_state = 'long'\n",
    "        for l in data:\n",
    "            l = l.split('|')\n",
    "            if len(l) == 4:\n",
    "                key = l[1].strip()\n",
    "                value = l[2].strip()\n",
    "\n",
    "                if key == 'Passivbot Version':\n",
    "                    d['v'] = value\n",
    "                if key == 'Symbol':\n",
    "                    d['s'] = value\n",
    "\n",
    "                if key == 'Long':\n",
    "                    current_state = 'long'\n",
    "                    d['long'] = bool(value) or False\n",
    "                if key == 'Short':\n",
    "                    current_state = 'short'\n",
    "                    d['short'] = bool(value) or False\n",
    "\n",
    "                if key == 'Total gain' and current_state == 'long':\n",
    "                    d['tgl_%'] = float(value.replace('%', '').strip())\n",
    "                if key == 'Average daily gain' and current_state == 'long':\n",
    "                    d['adgl_%'] = float(value.replace('%', '').strip())\n",
    "                if key == 'Closest bankruptcy' and current_state == 'long':\n",
    "                    d['bnkrl_%'] = float(value.replace('%', '').strip())\n",
    "                if key == 'Lowest equity/balance ratio' and current_state == 'long':\n",
    "                    d['ebrl'] = float(value.replace('%', '').strip())\n",
    "\n",
    "                if key == 'Total gain' and current_state == 'short':\n",
    "                    d['tgs_%'] = float(value.replace('%', '').strip())\n",
    "                if key == 'Average daily gain' and current_state == 'short':\n",
    "                    d['adgs_%'] = float(value.replace('%', '').strip())\n",
    "                if key == 'Closest bankruptcy' and current_state == 'short':\n",
    "                    d['bnkrs_%'] = float(value.replace('%', '').strip())\n",
    "                if key == 'Lowest equity/balance ratio' and current_state == 'short':\n",
    "                    d['ebrs'] = float(value.replace('%', '').strip())\n",
    "\n",
    "        #d['adgt_%'] = d['adgl_%']+d['adgs_%']\n",
    "        big_data = big_data.append(d, ignore_index=True)\n",
    "\n",
    "big_data"
   ]
  },
  {
   "cell_type": "markdown",
   "metadata": {},
   "source": [
    "Now filter the dataframe"
   ]
  },
  {
   "cell_type": "code",
   "execution_count": 11,
   "metadata": {
    "pycharm": {
     "name": "#%%\n"
    }
   },
   "outputs": [
    {
     "data": {
      "text/plain": "                                                 file    v          s  long  \\\n0   \\ADAUSDT\\plots\\2022-03-24T141758\\backtest_resu...  5.5    ADAUSDT  True   \n2   \\ATOMUSDT\\plots\\2022-03-25T142413\\backtest_res...  5.5   ATOMUSDT  True   \n6   \\BCHUSDT\\plots\\2022-03-19T132719\\backtest_resu...  5.5    BCHUSDT  True   \n23  \\LUNAUSDT\\plots\\2022-03-25T103120\\backtest_res...  5.5   LUNAUSDT  True   \n25  \\MATICUSDT\\plots\\2022-03-24T152614\\backtest_re...  5.5  MATICUSDT  True   \n29  \\SANDUSDT\\plots\\2022-03-25T115948\\backtest_res...  5.5   SANDUSDT  True   \n33  \\WAVESUSDT\\plots\\2022-03-25T182205\\backtest_re...  5.5  WAVESUSDT  True   \n35  \\XRPUSDT\\plots\\2022-03-19T120649\\backtest_resu...  5.5    XRPUSDT  True   \n36  \\XRPUSDT\\plots\\2022-03-19T124422\\backtest_resu...  5.5    XRPUSDT  True   \n37  \\XRPUSDT\\plots\\2022-03-19T142454\\backtest_resu...  5.5    XRPUSDT  True   \n\n      tgl_%  adgl_%  bnkrl_%    ebrl  short     tgs_%   adgs_%  bnkrs_%  \\\n0     10.65  0.0434    100.0  0.9784   True    13.410  0.05250  100.000   \n2     22.96  0.0887    100.0  0.9664   True    20.820  0.08110  100.000   \n6  -2870.00  1.4900    100.0  0.9597   True -4800.000  1.59000  100.000   \n23    25.07  0.0923    100.0  0.9449   True     6.458 -0.00595  100.000   \n25    13.84  0.0560    100.0  0.9644   True    11.370  0.04640  100.000   \n29    10.49  0.0431    100.0  0.9328   True   -94.060 -1.95000    5.965   \n33    15.01  0.0595    100.0  0.9467   True    12.580  0.00931  100.000   \n35  -649.10  0.7240    100.0  0.9594   True  -354.300  0.46200  100.000   \n36  -773.50  0.7670    100.0  0.9611   True  -422.200  0.43300  100.000   \n37  -476.40  0.5920    100.0  0.9605   True  -279.100  0.38900  100.000   \n\n      ebrs   adgt_%  \n0   0.9582  0.09590  \n2   0.9520  0.16980  \n6   0.9580  3.08000  \n23  0.9014  0.08635  \n25  0.9302  0.10240  \n29  0.0714 -1.90690  \n33  0.8947  0.06881  \n35  0.8957  1.18600  \n36  0.9439  1.20000  \n37  0.9501  0.98100  ",
      "text/html": "<div>\n<style scoped>\n    .dataframe tbody tr th:only-of-type {\n        vertical-align: middle;\n    }\n\n    .dataframe tbody tr th {\n        vertical-align: top;\n    }\n\n    .dataframe thead th {\n        text-align: right;\n    }\n</style>\n<table border=\"1\" class=\"dataframe\">\n  <thead>\n    <tr style=\"text-align: right;\">\n      <th></th>\n      <th>file</th>\n      <th>v</th>\n      <th>s</th>\n      <th>long</th>\n      <th>tgl_%</th>\n      <th>adgl_%</th>\n      <th>bnkrl_%</th>\n      <th>ebrl</th>\n      <th>short</th>\n      <th>tgs_%</th>\n      <th>adgs_%</th>\n      <th>bnkrs_%</th>\n      <th>ebrs</th>\n      <th>adgt_%</th>\n    </tr>\n  </thead>\n  <tbody>\n    <tr>\n      <th>0</th>\n      <td>\\ADAUSDT\\plots\\2022-03-24T141758\\backtest_resu...</td>\n      <td>5.5</td>\n      <td>ADAUSDT</td>\n      <td>True</td>\n      <td>10.65</td>\n      <td>0.0434</td>\n      <td>100.0</td>\n      <td>0.9784</td>\n      <td>True</td>\n      <td>13.410</td>\n      <td>0.05250</td>\n      <td>100.000</td>\n      <td>0.9582</td>\n      <td>0.09590</td>\n    </tr>\n    <tr>\n      <th>2</th>\n      <td>\\ATOMUSDT\\plots\\2022-03-25T142413\\backtest_res...</td>\n      <td>5.5</td>\n      <td>ATOMUSDT</td>\n      <td>True</td>\n      <td>22.96</td>\n      <td>0.0887</td>\n      <td>100.0</td>\n      <td>0.9664</td>\n      <td>True</td>\n      <td>20.820</td>\n      <td>0.08110</td>\n      <td>100.000</td>\n      <td>0.9520</td>\n      <td>0.16980</td>\n    </tr>\n    <tr>\n      <th>6</th>\n      <td>\\BCHUSDT\\plots\\2022-03-19T132719\\backtest_resu...</td>\n      <td>5.5</td>\n      <td>BCHUSDT</td>\n      <td>True</td>\n      <td>-2870.00</td>\n      <td>1.4900</td>\n      <td>100.0</td>\n      <td>0.9597</td>\n      <td>True</td>\n      <td>-4800.000</td>\n      <td>1.59000</td>\n      <td>100.000</td>\n      <td>0.9580</td>\n      <td>3.08000</td>\n    </tr>\n    <tr>\n      <th>23</th>\n      <td>\\LUNAUSDT\\plots\\2022-03-25T103120\\backtest_res...</td>\n      <td>5.5</td>\n      <td>LUNAUSDT</td>\n      <td>True</td>\n      <td>25.07</td>\n      <td>0.0923</td>\n      <td>100.0</td>\n      <td>0.9449</td>\n      <td>True</td>\n      <td>6.458</td>\n      <td>-0.00595</td>\n      <td>100.000</td>\n      <td>0.9014</td>\n      <td>0.08635</td>\n    </tr>\n    <tr>\n      <th>25</th>\n      <td>\\MATICUSDT\\plots\\2022-03-24T152614\\backtest_re...</td>\n      <td>5.5</td>\n      <td>MATICUSDT</td>\n      <td>True</td>\n      <td>13.84</td>\n      <td>0.0560</td>\n      <td>100.0</td>\n      <td>0.9644</td>\n      <td>True</td>\n      <td>11.370</td>\n      <td>0.04640</td>\n      <td>100.000</td>\n      <td>0.9302</td>\n      <td>0.10240</td>\n    </tr>\n    <tr>\n      <th>29</th>\n      <td>\\SANDUSDT\\plots\\2022-03-25T115948\\backtest_res...</td>\n      <td>5.5</td>\n      <td>SANDUSDT</td>\n      <td>True</td>\n      <td>10.49</td>\n      <td>0.0431</td>\n      <td>100.0</td>\n      <td>0.9328</td>\n      <td>True</td>\n      <td>-94.060</td>\n      <td>-1.95000</td>\n      <td>5.965</td>\n      <td>0.0714</td>\n      <td>-1.90690</td>\n    </tr>\n    <tr>\n      <th>33</th>\n      <td>\\WAVESUSDT\\plots\\2022-03-25T182205\\backtest_re...</td>\n      <td>5.5</td>\n      <td>WAVESUSDT</td>\n      <td>True</td>\n      <td>15.01</td>\n      <td>0.0595</td>\n      <td>100.0</td>\n      <td>0.9467</td>\n      <td>True</td>\n      <td>12.580</td>\n      <td>0.00931</td>\n      <td>100.000</td>\n      <td>0.8947</td>\n      <td>0.06881</td>\n    </tr>\n    <tr>\n      <th>35</th>\n      <td>\\XRPUSDT\\plots\\2022-03-19T120649\\backtest_resu...</td>\n      <td>5.5</td>\n      <td>XRPUSDT</td>\n      <td>True</td>\n      <td>-649.10</td>\n      <td>0.7240</td>\n      <td>100.0</td>\n      <td>0.9594</td>\n      <td>True</td>\n      <td>-354.300</td>\n      <td>0.46200</td>\n      <td>100.000</td>\n      <td>0.8957</td>\n      <td>1.18600</td>\n    </tr>\n    <tr>\n      <th>36</th>\n      <td>\\XRPUSDT\\plots\\2022-03-19T124422\\backtest_resu...</td>\n      <td>5.5</td>\n      <td>XRPUSDT</td>\n      <td>True</td>\n      <td>-773.50</td>\n      <td>0.7670</td>\n      <td>100.0</td>\n      <td>0.9611</td>\n      <td>True</td>\n      <td>-422.200</td>\n      <td>0.43300</td>\n      <td>100.000</td>\n      <td>0.9439</td>\n      <td>1.20000</td>\n    </tr>\n    <tr>\n      <th>37</th>\n      <td>\\XRPUSDT\\plots\\2022-03-19T142454\\backtest_resu...</td>\n      <td>5.5</td>\n      <td>XRPUSDT</td>\n      <td>True</td>\n      <td>-476.40</td>\n      <td>0.5920</td>\n      <td>100.0</td>\n      <td>0.9605</td>\n      <td>True</td>\n      <td>-279.100</td>\n      <td>0.38900</td>\n      <td>100.000</td>\n      <td>0.9501</td>\n      <td>0.98100</td>\n    </tr>\n  </tbody>\n</table>\n</div>"
     },
     "execution_count": 11,
     "metadata": {},
     "output_type": "execute_result"
    }
   ],
   "source": [
    "allowed_symbols = [\"ETHUSDT\", \"XRPUSDT\", \"1000SHIBUSDT\", \"DOGEUSDT\", \"ADAUSDT\",\n",
    "                   \"BNBUSDT\", \"MATICUSDT\", \"DOTUSDT\", \"SANDUSDT\", \"FTMUSDT\",\n",
    "                   \"LTCUSDT\", \"LINKUSDT\", \"MANAUSDT\", \"ETCUSDT\", \"EOSUSDT\",\n",
    "                   \"ATOMUSDT\", \"FILUSDT\", \"ICPUSDT\", \"ALICEUSDT\", \"LRCUSDT\",\n",
    "                   \"BCHUSDT\", \"SUSHIUSDT\", \"XTZUSDT\", \"THETAUSDT\", \"CRVUSDT\",\n",
    "                   \"ALGOUSDT\", \"CHZUSDT\", \"TRXUSDT\", \"VETUSDT\", \"CHRUSDT\",\n",
    "                   \"ONEUSDT\", \"OMGUSDT\", \"XLMUSDT\", \"RUNEUSDT\", \"ENJUSDT\",\n",
    "                   \"CELRUSDT\", \"SXPUSDT\", \"1INCHUSDT\", \"SRMUSDT\", \"COTIUSDT\",\n",
    "                   \"ZECUSDT\", \"QTUMUSDT\", \"GRTUSDT\", \"DENTUSDT\", \"SFPUSDT\",\n",
    "                   \"STORJUSDT\", \"IOTAUSDT\", \"HOTUSDT\", \"NEOUSDT\", \"COMPUSDT\",\n",
    "                   \"LINAUSDT\", \"KAVAUSDT\", \"BATUSDT\", \"WAVESUSDT\", \"IOSTUSDT\",\n",
    "                   \"ALPHAUSDT\", \"RLCUSDT\", \"HBARUSDT\", \"DODOUSDT\", \"XMRUSDT\",\n",
    "                   \"SNXUSDT\", \"ANKRUSDT\", \"DASHUSDT\", \"REEFUSDT\", \"ZENUSDT\",\n",
    "                   \"CVCUSDT\", \"RENUSDT\", \"ICXUSDT\", \"RSRUSDT\", \"SKLUSDT\",\n",
    "                   \"NKNUSDT\", \"BELUSDT\", \"ONTUSDT\", \"OGNUSDT\", \"BLZUSDT\",\n",
    "                   \"MTLUSDT\", \"CTKUSDT\", \"RVNUSDT\", \"LITUSDT\", \"MKRUSDT\",\n",
    "                   \"OCEANUSDT\", \"ZILUSDT\", \"UNFIUSDT\", \"BANDUSDT\", \"YFIIUSDT\",\n",
    "                   \"TOMOUSDT\", \"TRBUSDT\", \"KNCUSDT\", \"STMXUSDT\", \"ZRXUSDT\",\n",
    "                   \"SCUSDT\", \"AKROUSDT\", \"XEMUSDT\", \"FLMUSDT\", \"BALUSDT\",\n",
    "                   \"BTSUSDT\", \"DGBUSDT\", \"DEFIUSDT\"]\n",
    "\n",
    "\n",
    "allowed_symbols = [\"EOS\",\n",
    "                       \"XRP\",\n",
    "                       \"BCH\",\n",
    "                       \"LINK\",\n",
    "                       \"ADA\",\n",
    "                       \"DOT\",\n",
    "                       \"DOGE\",\n",
    "                       \"MATIC\",\n",
    "                       \"BNB\",\n",
    "                       \"THETA\",\n",
    "                       \"AXS\",\n",
    "                       \"LUNA\",\n",
    "                       \"SAND\",\n",
    "                       \"ATOM\",\n",
    "                       \"RUNE\",\n",
    "                       \"WAVES\",]\n",
    "allowed_symbols = [s + \"USDT\" for s in allowed_symbols]\n",
    "big_data['adgt_%'] = big_data['adgl_%'] + big_data['adgs_%']\n",
    "df = big_data[(big_data.s.isin(allowed_symbols))\n",
    "              & (big_data['long'] == True)\n",
    "              & (big_data['adgl_%'] > 0.04)\n",
    "              #& (big_data['short'] == True)\n",
    "              #& (big_data['adgt_%'] > 0.1)\n",
    "              & (big_data['bnkrl_%'] > 95.0)\n",
    "              #& (big_data['bnkrs_%'] > 95.0)\n",
    "              #& (big_data['ebrs'] > .85)\n",
    "              & (big_data['ebrl'] > .85)\n",
    "              & (big_data['v'] == '5.5')\n",
    "\n",
    "    # & (big_data['tg_%'] > 10)\n",
    "    # & (big_data['ebr'] > .85)\n",
    "              ]\n",
    "#df['total_adg'] = big_data['adgl_%'] + big_data['adgs_%']\n",
    "df"
   ]
  },
  {
   "cell_type": "code",
   "execution_count": 10,
   "metadata": {
    "pycharm": {
     "name": "#%%\n"
    }
   },
   "outputs": [
    {
     "name": "stderr",
     "output_type": "stream",
     "text": [
      "C:\\Users\\skhan\\AppData\\Local\\Temp/ipykernel_706988/2043545472.py:1: SettingWithCopyWarning: \n",
      "A value is trying to be set on a copy of a slice from a DataFrame\n",
      "\n",
      "See the caveats in the documentation: https://pandas.pydata.org/pandas-docs/stable/user_guide/indexing.html#returning-a-view-versus-a-copy\n",
      "  df.drop_duplicates(subset=['s', 'tgl_%','tgs_%','adgl_%','adgs_%','adgt_%', 'bnkrl_%', 'bnkrs_%', 'ebrl', 'ebrs', 'long', 'short'], keep='first',\n"
     ]
    },
    {
     "data": {
      "text/plain": "                                                 file          s   adgt_%  \\\n2   \\ATOMUSDT\\plots\\2022-03-25T142413\\backtest_res...   ATOMUSDT  0.16980   \n6   \\BCHUSDT\\plots\\2022-03-19T132719\\backtest_resu...    BCHUSDT  3.08000   \n23  \\LUNAUSDT\\plots\\2022-03-25T103120\\backtest_res...   LUNAUSDT  0.08635   \n25  \\MATICUSDT\\plots\\2022-03-24T152614\\backtest_re...  MATICUSDT  0.10240   \n33  \\WAVESUSDT\\plots\\2022-03-25T182205\\backtest_re...  WAVESUSDT  0.06881   \n35  \\XRPUSDT\\plots\\2022-03-19T120649\\backtest_resu...    XRPUSDT  1.18600   \n36  \\XRPUSDT\\plots\\2022-03-19T124422\\backtest_resu...    XRPUSDT  1.20000   \n37  \\XRPUSDT\\plots\\2022-03-19T142454\\backtest_resu...    XRPUSDT  0.98100   \n\n    adgl_%   adgs_%  bnkrl_%  bnkrs_%    ebrl    ebrs  \n2   0.0887  0.08110    100.0    100.0  0.9664  0.9520  \n6   1.4900  1.59000    100.0    100.0  0.9597  0.9580  \n23  0.0923 -0.00595    100.0    100.0  0.9449  0.9014  \n25  0.0560  0.04640    100.0    100.0  0.9644  0.9302  \n33  0.0595  0.00931    100.0    100.0  0.9467  0.8947  \n35  0.7240  0.46200    100.0    100.0  0.9594  0.8957  \n36  0.7670  0.43300    100.0    100.0  0.9611  0.9439  \n37  0.5920  0.38900    100.0    100.0  0.9605  0.9501  ",
      "text/html": "<div>\n<style scoped>\n    .dataframe tbody tr th:only-of-type {\n        vertical-align: middle;\n    }\n\n    .dataframe tbody tr th {\n        vertical-align: top;\n    }\n\n    .dataframe thead th {\n        text-align: right;\n    }\n</style>\n<table border=\"1\" class=\"dataframe\">\n  <thead>\n    <tr style=\"text-align: right;\">\n      <th></th>\n      <th>file</th>\n      <th>s</th>\n      <th>adgt_%</th>\n      <th>adgl_%</th>\n      <th>adgs_%</th>\n      <th>bnkrl_%</th>\n      <th>bnkrs_%</th>\n      <th>ebrl</th>\n      <th>ebrs</th>\n    </tr>\n  </thead>\n  <tbody>\n    <tr>\n      <th>2</th>\n      <td>\\ATOMUSDT\\plots\\2022-03-25T142413\\backtest_res...</td>\n      <td>ATOMUSDT</td>\n      <td>0.16980</td>\n      <td>0.0887</td>\n      <td>0.08110</td>\n      <td>100.0</td>\n      <td>100.0</td>\n      <td>0.9664</td>\n      <td>0.9520</td>\n    </tr>\n    <tr>\n      <th>6</th>\n      <td>\\BCHUSDT\\plots\\2022-03-19T132719\\backtest_resu...</td>\n      <td>BCHUSDT</td>\n      <td>3.08000</td>\n      <td>1.4900</td>\n      <td>1.59000</td>\n      <td>100.0</td>\n      <td>100.0</td>\n      <td>0.9597</td>\n      <td>0.9580</td>\n    </tr>\n    <tr>\n      <th>23</th>\n      <td>\\LUNAUSDT\\plots\\2022-03-25T103120\\backtest_res...</td>\n      <td>LUNAUSDT</td>\n      <td>0.08635</td>\n      <td>0.0923</td>\n      <td>-0.00595</td>\n      <td>100.0</td>\n      <td>100.0</td>\n      <td>0.9449</td>\n      <td>0.9014</td>\n    </tr>\n    <tr>\n      <th>25</th>\n      <td>\\MATICUSDT\\plots\\2022-03-24T152614\\backtest_re...</td>\n      <td>MATICUSDT</td>\n      <td>0.10240</td>\n      <td>0.0560</td>\n      <td>0.04640</td>\n      <td>100.0</td>\n      <td>100.0</td>\n      <td>0.9644</td>\n      <td>0.9302</td>\n    </tr>\n    <tr>\n      <th>33</th>\n      <td>\\WAVESUSDT\\plots\\2022-03-25T182205\\backtest_re...</td>\n      <td>WAVESUSDT</td>\n      <td>0.06881</td>\n      <td>0.0595</td>\n      <td>0.00931</td>\n      <td>100.0</td>\n      <td>100.0</td>\n      <td>0.9467</td>\n      <td>0.8947</td>\n    </tr>\n    <tr>\n      <th>35</th>\n      <td>\\XRPUSDT\\plots\\2022-03-19T120649\\backtest_resu...</td>\n      <td>XRPUSDT</td>\n      <td>1.18600</td>\n      <td>0.7240</td>\n      <td>0.46200</td>\n      <td>100.0</td>\n      <td>100.0</td>\n      <td>0.9594</td>\n      <td>0.8957</td>\n    </tr>\n    <tr>\n      <th>36</th>\n      <td>\\XRPUSDT\\plots\\2022-03-19T124422\\backtest_resu...</td>\n      <td>XRPUSDT</td>\n      <td>1.20000</td>\n      <td>0.7670</td>\n      <td>0.43300</td>\n      <td>100.0</td>\n      <td>100.0</td>\n      <td>0.9611</td>\n      <td>0.9439</td>\n    </tr>\n    <tr>\n      <th>37</th>\n      <td>\\XRPUSDT\\plots\\2022-03-19T142454\\backtest_resu...</td>\n      <td>XRPUSDT</td>\n      <td>0.98100</td>\n      <td>0.5920</td>\n      <td>0.38900</td>\n      <td>100.0</td>\n      <td>100.0</td>\n      <td>0.9605</td>\n      <td>0.9501</td>\n    </tr>\n  </tbody>\n</table>\n</div>"
     },
     "execution_count": 10,
     "metadata": {},
     "output_type": "execute_result"
    }
   ],
   "source": [
    "df.drop_duplicates(subset=['s', 'tgl_%','tgs_%','adgl_%','adgs_%','adgt_%', 'bnkrl_%', 'bnkrs_%', 'ebrl', 'ebrs', 'long', 'short'], keep='first',\n",
    "                   inplace=True)\n",
    "dx = df[['file','s','adgt_%','adgl_%','adgs_%','bnkrl_%', 'bnkrs_%','ebrl', 'ebrs']]\n",
    "dx"
   ]
  },
  {
   "cell_type": "code",
   "execution_count": 10,
   "metadata": {
    "pycharm": {
     "name": "#%%\n"
    }
   },
   "outputs": [],
   "source": []
  }
 ],
 "metadata": {
  "kernelspec": {
   "display_name": "PyCharm (passivbot)",
   "language": "python",
   "name": "pycharm-997905a8"
  },
  "language_info": {
   "codemirror_mode": {
    "name": "ipython",
    "version": 3
   },
   "file_extension": ".py",
   "mimetype": "text/x-python",
   "name": "python",
   "nbconvert_exporter": "python",
   "pygments_lexer": "ipython3",
   "version": "3.8.12"
  }
 },
 "nbformat": 4,
 "nbformat_minor": 1
}