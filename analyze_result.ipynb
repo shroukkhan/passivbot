{
 "cells": [
  {
   "cell_type": "code",
   "execution_count": null,
   "metadata": {
    "collapsed": true
   },
   "outputs": [],
   "source": [
    "%load_ext autoreload\n",
    "%autoreload 2"
   ]
  },
  {
   "cell_type": "code",
   "execution_count": 33,
   "outputs": [],
   "source": [
    "import glob\n",
    "\n",
    "import pandas as pd"
   ],
   "metadata": {
    "collapsed": false,
    "pycharm": {
     "name": "#%%\n"
    }
   }
  },
  {
   "cell_type": "code",
   "execution_count": 25,
   "outputs": [
    {
     "name": "stderr",
     "output_type": "stream",
     "text": [
      "C:\\Users\\skhan\\AppData\\Local\\Temp/ipykernel_141784/2995730637.py:28: FutureWarning: The frame.append method is deprecated and will be removed from pandas in a future version. Use pandas.concat instead.\n",
      "  big_data = big_data.append(d,ignore_index=True)\n",
      "C:\\Users\\skhan\\AppData\\Local\\Temp/ipykernel_141784/2995730637.py:28: FutureWarning: The frame.append method is deprecated and will be removed from pandas in a future version. Use pandas.concat instead.\n",
      "  big_data = big_data.append(d,ignore_index=True)\n",
      "C:\\Users\\skhan\\AppData\\Local\\Temp/ipykernel_141784/2995730637.py:28: FutureWarning: The frame.append method is deprecated and will be removed from pandas in a future version. Use pandas.concat instead.\n",
      "  big_data = big_data.append(d,ignore_index=True)\n",
      "C:\\Users\\skhan\\AppData\\Local\\Temp/ipykernel_141784/2995730637.py:28: FutureWarning: The frame.append method is deprecated and will be removed from pandas in a future version. Use pandas.concat instead.\n",
      "  big_data = big_data.append(d,ignore_index=True)\n",
      "C:\\Users\\skhan\\AppData\\Local\\Temp/ipykernel_141784/2995730637.py:28: FutureWarning: The frame.append method is deprecated and will be removed from pandas in a future version. Use pandas.concat instead.\n",
      "  big_data = big_data.append(d,ignore_index=True)\n",
      "C:\\Users\\skhan\\AppData\\Local\\Temp/ipykernel_141784/2995730637.py:28: FutureWarning: The frame.append method is deprecated and will be removed from pandas in a future version. Use pandas.concat instead.\n",
      "  big_data = big_data.append(d,ignore_index=True)\n",
      "C:\\Users\\skhan\\AppData\\Local\\Temp/ipykernel_141784/2995730637.py:28: FutureWarning: The frame.append method is deprecated and will be removed from pandas in a future version. Use pandas.concat instead.\n",
      "  big_data = big_data.append(d,ignore_index=True)\n",
      "C:\\Users\\skhan\\AppData\\Local\\Temp/ipykernel_141784/2995730637.py:28: FutureWarning: The frame.append method is deprecated and will be removed from pandas in a future version. Use pandas.concat instead.\n",
      "  big_data = big_data.append(d,ignore_index=True)\n",
      "C:\\Users\\skhan\\AppData\\Local\\Temp/ipykernel_141784/2995730637.py:28: FutureWarning: The frame.append method is deprecated and will be removed from pandas in a future version. Use pandas.concat instead.\n",
      "  big_data = big_data.append(d,ignore_index=True)\n",
      "C:\\Users\\skhan\\AppData\\Local\\Temp/ipykernel_141784/2995730637.py:28: FutureWarning: The frame.append method is deprecated and will be removed from pandas in a future version. Use pandas.concat instead.\n",
      "  big_data = big_data.append(d,ignore_index=True)\n",
      "C:\\Users\\skhan\\AppData\\Local\\Temp/ipykernel_141784/2995730637.py:28: FutureWarning: The frame.append method is deprecated and will be removed from pandas in a future version. Use pandas.concat instead.\n",
      "  big_data = big_data.append(d,ignore_index=True)\n",
      "C:\\Users\\skhan\\AppData\\Local\\Temp/ipykernel_141784/2995730637.py:28: FutureWarning: The frame.append method is deprecated and will be removed from pandas in a future version. Use pandas.concat instead.\n",
      "  big_data = big_data.append(d,ignore_index=True)\n",
      "C:\\Users\\skhan\\AppData\\Local\\Temp/ipykernel_141784/2995730637.py:28: FutureWarning: The frame.append method is deprecated and will be removed from pandas in a future version. Use pandas.concat instead.\n",
      "  big_data = big_data.append(d,ignore_index=True)\n",
      "C:\\Users\\skhan\\AppData\\Local\\Temp/ipykernel_141784/2995730637.py:28: FutureWarning: The frame.append method is deprecated and will be removed from pandas in a future version. Use pandas.concat instead.\n",
      "  big_data = big_data.append(d,ignore_index=True)\n",
      "C:\\Users\\skhan\\AppData\\Local\\Temp/ipykernel_141784/2995730637.py:28: FutureWarning: The frame.append method is deprecated and will be removed from pandas in a future version. Use pandas.concat instead.\n",
      "  big_data = big_data.append(d,ignore_index=True)\n",
      "C:\\Users\\skhan\\AppData\\Local\\Temp/ipykernel_141784/2995730637.py:28: FutureWarning: The frame.append method is deprecated and will be removed from pandas in a future version. Use pandas.concat instead.\n",
      "  big_data = big_data.append(d,ignore_index=True)\n",
      "C:\\Users\\skhan\\AppData\\Local\\Temp/ipykernel_141784/2995730637.py:28: FutureWarning: The frame.append method is deprecated and will be removed from pandas in a future version. Use pandas.concat instead.\n",
      "  big_data = big_data.append(d,ignore_index=True)\n",
      "C:\\Users\\skhan\\AppData\\Local\\Temp/ipykernel_141784/2995730637.py:28: FutureWarning: The frame.append method is deprecated and will be removed from pandas in a future version. Use pandas.concat instead.\n",
      "  big_data = big_data.append(d,ignore_index=True)\n",
      "C:\\Users\\skhan\\AppData\\Local\\Temp/ipykernel_141784/2995730637.py:28: FutureWarning: The frame.append method is deprecated and will be removed from pandas in a future version. Use pandas.concat instead.\n",
      "  big_data = big_data.append(d,ignore_index=True)\n",
      "C:\\Users\\skhan\\AppData\\Local\\Temp/ipykernel_141784/2995730637.py:28: FutureWarning: The frame.append method is deprecated and will be removed from pandas in a future version. Use pandas.concat instead.\n",
      "  big_data = big_data.append(d,ignore_index=True)\n",
      "C:\\Users\\skhan\\AppData\\Local\\Temp/ipykernel_141784/2995730637.py:28: FutureWarning: The frame.append method is deprecated and will be removed from pandas in a future version. Use pandas.concat instead.\n",
      "  big_data = big_data.append(d,ignore_index=True)\n",
      "C:\\Users\\skhan\\AppData\\Local\\Temp/ipykernel_141784/2995730637.py:28: FutureWarning: The frame.append method is deprecated and will be removed from pandas in a future version. Use pandas.concat instead.\n",
      "  big_data = big_data.append(d,ignore_index=True)\n",
      "C:\\Users\\skhan\\AppData\\Local\\Temp/ipykernel_141784/2995730637.py:28: FutureWarning: The frame.append method is deprecated and will be removed from pandas in a future version. Use pandas.concat instead.\n",
      "  big_data = big_data.append(d,ignore_index=True)\n",
      "C:\\Users\\skhan\\AppData\\Local\\Temp/ipykernel_141784/2995730637.py:28: FutureWarning: The frame.append method is deprecated and will be removed from pandas in a future version. Use pandas.concat instead.\n",
      "  big_data = big_data.append(d,ignore_index=True)\n",
      "C:\\Users\\skhan\\AppData\\Local\\Temp/ipykernel_141784/2995730637.py:28: FutureWarning: The frame.append method is deprecated and will be removed from pandas in a future version. Use pandas.concat instead.\n",
      "  big_data = big_data.append(d,ignore_index=True)\n",
      "C:\\Users\\skhan\\AppData\\Local\\Temp/ipykernel_141784/2995730637.py:28: FutureWarning: The frame.append method is deprecated and will be removed from pandas in a future version. Use pandas.concat instead.\n",
      "  big_data = big_data.append(d,ignore_index=True)\n",
      "C:\\Users\\skhan\\AppData\\Local\\Temp/ipykernel_141784/2995730637.py:28: FutureWarning: The frame.append method is deprecated and will be removed from pandas in a future version. Use pandas.concat instead.\n",
      "  big_data = big_data.append(d,ignore_index=True)\n",
      "C:\\Users\\skhan\\AppData\\Local\\Temp/ipykernel_141784/2995730637.py:28: FutureWarning: The frame.append method is deprecated and will be removed from pandas in a future version. Use pandas.concat instead.\n",
      "  big_data = big_data.append(d,ignore_index=True)\n",
      "C:\\Users\\skhan\\AppData\\Local\\Temp/ipykernel_141784/2995730637.py:28: FutureWarning: The frame.append method is deprecated and will be removed from pandas in a future version. Use pandas.concat instead.\n",
      "  big_data = big_data.append(d,ignore_index=True)\n",
      "C:\\Users\\skhan\\AppData\\Local\\Temp/ipykernel_141784/2995730637.py:28: FutureWarning: The frame.append method is deprecated and will be removed from pandas in a future version. Use pandas.concat instead.\n",
      "  big_data = big_data.append(d,ignore_index=True)\n",
      "C:\\Users\\skhan\\AppData\\Local\\Temp/ipykernel_141784/2995730637.py:28: FutureWarning: The frame.append method is deprecated and will be removed from pandas in a future version. Use pandas.concat instead.\n",
      "  big_data = big_data.append(d,ignore_index=True)\n",
      "C:\\Users\\skhan\\AppData\\Local\\Temp/ipykernel_141784/2995730637.py:28: FutureWarning: The frame.append method is deprecated and will be removed from pandas in a future version. Use pandas.concat instead.\n",
      "  big_data = big_data.append(d,ignore_index=True)\n",
      "C:\\Users\\skhan\\AppData\\Local\\Temp/ipykernel_141784/2995730637.py:28: FutureWarning: The frame.append method is deprecated and will be removed from pandas in a future version. Use pandas.concat instead.\n",
      "  big_data = big_data.append(d,ignore_index=True)\n",
      "C:\\Users\\skhan\\AppData\\Local\\Temp/ipykernel_141784/2995730637.py:28: FutureWarning: The frame.append method is deprecated and will be removed from pandas in a future version. Use pandas.concat instead.\n",
      "  big_data = big_data.append(d,ignore_index=True)\n",
      "C:\\Users\\skhan\\AppData\\Local\\Temp/ipykernel_141784/2995730637.py:28: FutureWarning: The frame.append method is deprecated and will be removed from pandas in a future version. Use pandas.concat instead.\n",
      "  big_data = big_data.append(d,ignore_index=True)\n",
      "C:\\Users\\skhan\\AppData\\Local\\Temp/ipykernel_141784/2995730637.py:28: FutureWarning: The frame.append method is deprecated and will be removed from pandas in a future version. Use pandas.concat instead.\n",
      "  big_data = big_data.append(d,ignore_index=True)\n",
      "C:\\Users\\skhan\\AppData\\Local\\Temp/ipykernel_141784/2995730637.py:28: FutureWarning: The frame.append method is deprecated and will be removed from pandas in a future version. Use pandas.concat instead.\n",
      "  big_data = big_data.append(d,ignore_index=True)\n",
      "C:\\Users\\skhan\\AppData\\Local\\Temp/ipykernel_141784/2995730637.py:28: FutureWarning: The frame.append method is deprecated and will be removed from pandas in a future version. Use pandas.concat instead.\n",
      "  big_data = big_data.append(d,ignore_index=True)\n",
      "C:\\Users\\skhan\\AppData\\Local\\Temp/ipykernel_141784/2995730637.py:28: FutureWarning: The frame.append method is deprecated and will be removed from pandas in a future version. Use pandas.concat instead.\n",
      "  big_data = big_data.append(d,ignore_index=True)\n",
      "C:\\Users\\skhan\\AppData\\Local\\Temp/ipykernel_141784/2995730637.py:28: FutureWarning: The frame.append method is deprecated and will be removed from pandas in a future version. Use pandas.concat instead.\n",
      "  big_data = big_data.append(d,ignore_index=True)\n",
      "C:\\Users\\skhan\\AppData\\Local\\Temp/ipykernel_141784/2995730637.py:28: FutureWarning: The frame.append method is deprecated and will be removed from pandas in a future version. Use pandas.concat instead.\n",
      "  big_data = big_data.append(d,ignore_index=True)\n",
      "C:\\Users\\skhan\\AppData\\Local\\Temp/ipykernel_141784/2995730637.py:28: FutureWarning: The frame.append method is deprecated and will be removed from pandas in a future version. Use pandas.concat instead.\n",
      "  big_data = big_data.append(d,ignore_index=True)\n",
      "C:\\Users\\skhan\\AppData\\Local\\Temp/ipykernel_141784/2995730637.py:28: FutureWarning: The frame.append method is deprecated and will be removed from pandas in a future version. Use pandas.concat instead.\n",
      "  big_data = big_data.append(d,ignore_index=True)\n",
      "C:\\Users\\skhan\\AppData\\Local\\Temp/ipykernel_141784/2995730637.py:28: FutureWarning: The frame.append method is deprecated and will be removed from pandas in a future version. Use pandas.concat instead.\n",
      "  big_data = big_data.append(d,ignore_index=True)\n",
      "C:\\Users\\skhan\\AppData\\Local\\Temp/ipykernel_141784/2995730637.py:28: FutureWarning: The frame.append method is deprecated and will be removed from pandas in a future version. Use pandas.concat instead.\n",
      "  big_data = big_data.append(d,ignore_index=True)\n",
      "C:\\Users\\skhan\\AppData\\Local\\Temp/ipykernel_141784/2995730637.py:28: FutureWarning: The frame.append method is deprecated and will be removed from pandas in a future version. Use pandas.concat instead.\n",
      "  big_data = big_data.append(d,ignore_index=True)\n",
      "C:\\Users\\skhan\\AppData\\Local\\Temp/ipykernel_141784/2995730637.py:28: FutureWarning: The frame.append method is deprecated and will be removed from pandas in a future version. Use pandas.concat instead.\n",
      "  big_data = big_data.append(d,ignore_index=True)\n",
      "C:\\Users\\skhan\\AppData\\Local\\Temp/ipykernel_141784/2995730637.py:28: FutureWarning: The frame.append method is deprecated and will be removed from pandas in a future version. Use pandas.concat instead.\n",
      "  big_data = big_data.append(d,ignore_index=True)\n",
      "C:\\Users\\skhan\\AppData\\Local\\Temp/ipykernel_141784/2995730637.py:28: FutureWarning: The frame.append method is deprecated and will be removed from pandas in a future version. Use pandas.concat instead.\n",
      "  big_data = big_data.append(d,ignore_index=True)\n",
      "C:\\Users\\skhan\\AppData\\Local\\Temp/ipykernel_141784/2995730637.py:28: FutureWarning: The frame.append method is deprecated and will be removed from pandas in a future version. Use pandas.concat instead.\n",
      "  big_data = big_data.append(d,ignore_index=True)\n",
      "C:\\Users\\skhan\\AppData\\Local\\Temp/ipykernel_141784/2995730637.py:28: FutureWarning: The frame.append method is deprecated and will be removed from pandas in a future version. Use pandas.concat instead.\n",
      "  big_data = big_data.append(d,ignore_index=True)\n",
      "C:\\Users\\skhan\\AppData\\Local\\Temp/ipykernel_141784/2995730637.py:28: FutureWarning: The frame.append method is deprecated and will be removed from pandas in a future version. Use pandas.concat instead.\n",
      "  big_data = big_data.append(d,ignore_index=True)\n",
      "C:\\Users\\skhan\\AppData\\Local\\Temp/ipykernel_141784/2995730637.py:28: FutureWarning: The frame.append method is deprecated and will be removed from pandas in a future version. Use pandas.concat instead.\n",
      "  big_data = big_data.append(d,ignore_index=True)\n",
      "C:\\Users\\skhan\\AppData\\Local\\Temp/ipykernel_141784/2995730637.py:28: FutureWarning: The frame.append method is deprecated and will be removed from pandas in a future version. Use pandas.concat instead.\n",
      "  big_data = big_data.append(d,ignore_index=True)\n",
      "C:\\Users\\skhan\\AppData\\Local\\Temp/ipykernel_141784/2995730637.py:28: FutureWarning: The frame.append method is deprecated and will be removed from pandas in a future version. Use pandas.concat instead.\n",
      "  big_data = big_data.append(d,ignore_index=True)\n",
      "C:\\Users\\skhan\\AppData\\Local\\Temp/ipykernel_141784/2995730637.py:28: FutureWarning: The frame.append method is deprecated and will be removed from pandas in a future version. Use pandas.concat instead.\n",
      "  big_data = big_data.append(d,ignore_index=True)\n",
      "C:\\Users\\skhan\\AppData\\Local\\Temp/ipykernel_141784/2995730637.py:28: FutureWarning: The frame.append method is deprecated and will be removed from pandas in a future version. Use pandas.concat instead.\n",
      "  big_data = big_data.append(d,ignore_index=True)\n",
      "C:\\Users\\skhan\\AppData\\Local\\Temp/ipykernel_141784/2995730637.py:28: FutureWarning: The frame.append method is deprecated and will be removed from pandas in a future version. Use pandas.concat instead.\n",
      "  big_data = big_data.append(d,ignore_index=True)\n",
      "C:\\Users\\skhan\\AppData\\Local\\Temp/ipykernel_141784/2995730637.py:28: FutureWarning: The frame.append method is deprecated and will be removed from pandas in a future version. Use pandas.concat instead.\n",
      "  big_data = big_data.append(d,ignore_index=True)\n",
      "C:\\Users\\skhan\\AppData\\Local\\Temp/ipykernel_141784/2995730637.py:28: FutureWarning: The frame.append method is deprecated and will be removed from pandas in a future version. Use pandas.concat instead.\n",
      "  big_data = big_data.append(d,ignore_index=True)\n",
      "C:\\Users\\skhan\\AppData\\Local\\Temp/ipykernel_141784/2995730637.py:28: FutureWarning: The frame.append method is deprecated and will be removed from pandas in a future version. Use pandas.concat instead.\n",
      "  big_data = big_data.append(d,ignore_index=True)\n",
      "C:\\Users\\skhan\\AppData\\Local\\Temp/ipykernel_141784/2995730637.py:28: FutureWarning: The frame.append method is deprecated and will be removed from pandas in a future version. Use pandas.concat instead.\n",
      "  big_data = big_data.append(d,ignore_index=True)\n",
      "C:\\Users\\skhan\\AppData\\Local\\Temp/ipykernel_141784/2995730637.py:28: FutureWarning: The frame.append method is deprecated and will be removed from pandas in a future version. Use pandas.concat instead.\n",
      "  big_data = big_data.append(d,ignore_index=True)\n",
      "C:\\Users\\skhan\\AppData\\Local\\Temp/ipykernel_141784/2995730637.py:28: FutureWarning: The frame.append method is deprecated and will be removed from pandas in a future version. Use pandas.concat instead.\n",
      "  big_data = big_data.append(d,ignore_index=True)\n",
      "C:\\Users\\skhan\\AppData\\Local\\Temp/ipykernel_141784/2995730637.py:28: FutureWarning: The frame.append method is deprecated and will be removed from pandas in a future version. Use pandas.concat instead.\n",
      "  big_data = big_data.append(d,ignore_index=True)\n",
      "C:\\Users\\skhan\\AppData\\Local\\Temp/ipykernel_141784/2995730637.py:28: FutureWarning: The frame.append method is deprecated and will be removed from pandas in a future version. Use pandas.concat instead.\n",
      "  big_data = big_data.append(d,ignore_index=True)\n",
      "C:\\Users\\skhan\\AppData\\Local\\Temp/ipykernel_141784/2995730637.py:28: FutureWarning: The frame.append method is deprecated and will be removed from pandas in a future version. Use pandas.concat instead.\n",
      "  big_data = big_data.append(d,ignore_index=True)\n",
      "C:\\Users\\skhan\\AppData\\Local\\Temp/ipykernel_141784/2995730637.py:28: FutureWarning: The frame.append method is deprecated and will be removed from pandas in a future version. Use pandas.concat instead.\n",
      "  big_data = big_data.append(d,ignore_index=True)\n",
      "C:\\Users\\skhan\\AppData\\Local\\Temp/ipykernel_141784/2995730637.py:28: FutureWarning: The frame.append method is deprecated and will be removed from pandas in a future version. Use pandas.concat instead.\n",
      "  big_data = big_data.append(d,ignore_index=True)\n",
      "C:\\Users\\skhan\\AppData\\Local\\Temp/ipykernel_141784/2995730637.py:28: FutureWarning: The frame.append method is deprecated and will be removed from pandas in a future version. Use pandas.concat instead.\n",
      "  big_data = big_data.append(d,ignore_index=True)\n",
      "C:\\Users\\skhan\\AppData\\Local\\Temp/ipykernel_141784/2995730637.py:28: FutureWarning: The frame.append method is deprecated and will be removed from pandas in a future version. Use pandas.concat instead.\n",
      "  big_data = big_data.append(d,ignore_index=True)\n",
      "C:\\Users\\skhan\\AppData\\Local\\Temp/ipykernel_141784/2995730637.py:28: FutureWarning: The frame.append method is deprecated and will be removed from pandas in a future version. Use pandas.concat instead.\n",
      "  big_data = big_data.append(d,ignore_index=True)\n"
     ]
    },
    {
     "data": {
      "text/plain": "                                                 file             s      tg_%  \\\n0   backtests/binance\\1000SHIBUSDT\\plots\\2022-01-2...  1000SHIBUSDT    9.1690   \n1   backtests/binance\\1000SHIBUSDT\\plots\\2022-01-2...  1000SHIBUSDT    0.7628   \n2   backtests/binance\\1000SHIBUSDT\\plots\\2022-01-2...  1000SHIBUSDT   -8.4750   \n3   backtests/binance\\1000SHIBUSDT\\plots\\2022-01-2...  1000SHIBUSDT    8.1440   \n4   backtests/binance\\AAVEUSDT\\plots\\2022-01-16T12...      AAVEUSDT    0.1517   \n..                                                ...           ...       ...   \n67  backtests/binance\\XTZUSDT\\plots\\2022-01-14T192...       XTZUSDT -100.0000   \n68  backtests/binance\\XTZUSDT\\plots\\2022-01-14T224...       XTZUSDT   13.0200   \n69  backtests/binance\\XTZUSDT\\plots\\2022-01-16T115...       XTZUSDT    7.2710   \n70  backtests/binance\\XTZUSDT\\plots\\2022-01-16T120...       XTZUSDT   17.6200   \n71  backtests/binance\\XTZUSDT\\plots\\2022-01-16T133...       XTZUSDT    6.9860   \n\n      adg_%   bnkr_%  long short  \n0   0.17700   72.240  True  True  \n1   0.05430  100.000  True  True  \n2  -0.06360  100.000  True  True  \n3   0.15600   19.140  True  True  \n4   0.00248  100.000  True   NaN  \n..      ...      ...   ...   ...  \n67  0.00000    5.943  True   NaN  \n68  0.03840    3.141  True   NaN  \n69  0.22700   92.380  True   NaN  \n70  0.26600   88.250  True   NaN  \n71  0.03410  100.000  True   NaN  \n\n[72 rows x 7 columns]",
      "text/html": "<div>\n<style scoped>\n    .dataframe tbody tr th:only-of-type {\n        vertical-align: middle;\n    }\n\n    .dataframe tbody tr th {\n        vertical-align: top;\n    }\n\n    .dataframe thead th {\n        text-align: right;\n    }\n</style>\n<table border=\"1\" class=\"dataframe\">\n  <thead>\n    <tr style=\"text-align: right;\">\n      <th></th>\n      <th>file</th>\n      <th>s</th>\n      <th>tg_%</th>\n      <th>adg_%</th>\n      <th>bnkr_%</th>\n      <th>long</th>\n      <th>short</th>\n    </tr>\n  </thead>\n  <tbody>\n    <tr>\n      <th>0</th>\n      <td>backtests/binance\\1000SHIBUSDT\\plots\\2022-01-2...</td>\n      <td>1000SHIBUSDT</td>\n      <td>9.1690</td>\n      <td>0.17700</td>\n      <td>72.240</td>\n      <td>True</td>\n      <td>True</td>\n    </tr>\n    <tr>\n      <th>1</th>\n      <td>backtests/binance\\1000SHIBUSDT\\plots\\2022-01-2...</td>\n      <td>1000SHIBUSDT</td>\n      <td>0.7628</td>\n      <td>0.05430</td>\n      <td>100.000</td>\n      <td>True</td>\n      <td>True</td>\n    </tr>\n    <tr>\n      <th>2</th>\n      <td>backtests/binance\\1000SHIBUSDT\\plots\\2022-01-2...</td>\n      <td>1000SHIBUSDT</td>\n      <td>-8.4750</td>\n      <td>-0.06360</td>\n      <td>100.000</td>\n      <td>True</td>\n      <td>True</td>\n    </tr>\n    <tr>\n      <th>3</th>\n      <td>backtests/binance\\1000SHIBUSDT\\plots\\2022-01-2...</td>\n      <td>1000SHIBUSDT</td>\n      <td>8.1440</td>\n      <td>0.15600</td>\n      <td>19.140</td>\n      <td>True</td>\n      <td>True</td>\n    </tr>\n    <tr>\n      <th>4</th>\n      <td>backtests/binance\\AAVEUSDT\\plots\\2022-01-16T12...</td>\n      <td>AAVEUSDT</td>\n      <td>0.1517</td>\n      <td>0.00248</td>\n      <td>100.000</td>\n      <td>True</td>\n      <td>NaN</td>\n    </tr>\n    <tr>\n      <th>...</th>\n      <td>...</td>\n      <td>...</td>\n      <td>...</td>\n      <td>...</td>\n      <td>...</td>\n      <td>...</td>\n      <td>...</td>\n    </tr>\n    <tr>\n      <th>67</th>\n      <td>backtests/binance\\XTZUSDT\\plots\\2022-01-14T192...</td>\n      <td>XTZUSDT</td>\n      <td>-100.0000</td>\n      <td>0.00000</td>\n      <td>5.943</td>\n      <td>True</td>\n      <td>NaN</td>\n    </tr>\n    <tr>\n      <th>68</th>\n      <td>backtests/binance\\XTZUSDT\\plots\\2022-01-14T224...</td>\n      <td>XTZUSDT</td>\n      <td>13.0200</td>\n      <td>0.03840</td>\n      <td>3.141</td>\n      <td>True</td>\n      <td>NaN</td>\n    </tr>\n    <tr>\n      <th>69</th>\n      <td>backtests/binance\\XTZUSDT\\plots\\2022-01-16T115...</td>\n      <td>XTZUSDT</td>\n      <td>7.2710</td>\n      <td>0.22700</td>\n      <td>92.380</td>\n      <td>True</td>\n      <td>NaN</td>\n    </tr>\n    <tr>\n      <th>70</th>\n      <td>backtests/binance\\XTZUSDT\\plots\\2022-01-16T120...</td>\n      <td>XTZUSDT</td>\n      <td>17.6200</td>\n      <td>0.26600</td>\n      <td>88.250</td>\n      <td>True</td>\n      <td>NaN</td>\n    </tr>\n    <tr>\n      <th>71</th>\n      <td>backtests/binance\\XTZUSDT\\plots\\2022-01-16T133...</td>\n      <td>XTZUSDT</td>\n      <td>6.9860</td>\n      <td>0.03410</td>\n      <td>100.000</td>\n      <td>True</td>\n      <td>NaN</td>\n    </tr>\n  </tbody>\n</table>\n<p>72 rows × 7 columns</p>\n</div>"
     },
     "execution_count": 25,
     "metadata": {},
     "output_type": "execute_result"
    }
   ],
   "source": [
    "big_data = pd.DataFrame()\n",
    "files = glob.iglob('backtests/binance/' + '**/backtest_result.txt', recursive=True)\n",
    "i = 0\n",
    "for filename in files:\n",
    "    #print(f'parsing : {filename}')\n",
    "    with open(filename, 'r') as file:\n",
    "        data = file.read().split('\\n')\n",
    "        d = {'file': filename}\n",
    "        for l in data:\n",
    "            l = l.split('|')\n",
    "            if len(l) == 4:\n",
    "                key = l[1].strip()\n",
    "                value = l[2].strip()\n",
    "\n",
    "                if key == 'Passivbot Version ':\n",
    "                    d['v'] = value\n",
    "                if key == 'Symbol':\n",
    "                    d['s'] = value\n",
    "                if key == 'Total gain percentage':\n",
    "                    d['tg_%'] = float(value.replace('%', '').strip())\n",
    "                if key == 'Average daily gain percentage':\n",
    "                    d['adg_%'] = float(value.replace('%', '').strip())\n",
    "                if key == 'Closest bankruptcy percentage':\n",
    "                    d['bnkr_%'] = float(value.replace('%', '').strip())\n",
    "                if key == 'Long':\n",
    "                    d['long'] = bool(value)\n",
    "                if key == 'Short':\n",
    "                    d['short'] = bool(value)\n",
    "\n",
    "        big_data = big_data.append(d, ignore_index=True)\n",
    "\n",
    "big_data"
   ],
   "metadata": {
    "collapsed": false,
    "pycharm": {
     "name": "#%%\n"
    }
   }
  },
  {
   "cell_type": "markdown",
   "source": [
    "Now filter the dataframe"
   ],
   "metadata": {
    "collapsed": false
   }
  },
  {
   "cell_type": "code",
   "execution_count": 27,
   "outputs": [
    {
     "data": {
      "text/plain": "                                                 file             s     tg_%  \\\n1   backtests/binance\\1000SHIBUSDT\\plots\\2022-01-2...  1000SHIBUSDT   0.7628   \n7   backtests/binance\\ADAUSDT\\plots\\2022-01-17T122...       ADAUSDT   8.0020   \n8   backtests/binance\\ADAUSDT\\plots\\2022-01-25T212...       ADAUSDT   2.1560   \n9   backtests/binance\\ADAUSDT\\plots\\2022-01-25T212...       ADAUSDT   2.1560   \n10  backtests/binance\\ADAUSDT\\plots\\2022-01-25T214...       ADAUSDT   4.1720   \n11  backtests/binance\\ADAUSDT\\plots\\2022-01-25T215...       ADAUSDT   0.5483   \n12  backtests/binance\\ADAUSDT\\plots\\2022-01-25T220...       ADAUSDT   2.5030   \n13  backtests/binance\\ADAUSDT\\plots\\2022-01-25T222...       ADAUSDT   0.5401   \n15  backtests/binance\\ATOMUSDT\\plots\\2022-01-16T13...      ATOMUSDT  18.8800   \n17  backtests/binance\\ATOMUSDT\\plots\\2022-01-18T21...      ATOMUSDT   0.9077   \n19  backtests/binance\\DASHUSDT\\plots\\2022-01-16T12...      DASHUSDT   5.8710   \n21  backtests/binance\\DASHUSDT\\plots\\2022-01-17T13...      DASHUSDT   4.7650   \n22  backtests/binance\\DASHUSDT\\plots\\2022-01-18T20...      DASHUSDT   3.4420   \n23  backtests/binance\\DOGEUSDT\\plots\\2022-01-17T11...      DOGEUSDT   5.6820   \n27  backtests/binance\\ETCUSDT\\plots\\2022-01-28T223...       ETCUSDT  14.1700   \n28  backtests/binance\\ETHUSDT\\plots\\2022-01-27T181...       ETHUSDT  12.7400   \n29  backtests/binance\\FTMUSDT\\plots\\2022-01-12T214...       FTMUSDT  22.9000   \n30  backtests/binance\\FTMUSDT\\plots\\2022-01-28T174...       FTMUSDT  11.9200   \n31  backtests/binance\\LINKUSDT\\plots\\2022-01-12T23...      LINKUSDT   7.0570   \n32  backtests/binance\\LINKUSDT\\plots\\2022-01-16T13...      LINKUSDT   9.0120   \n33  backtests/binance\\LTCUSDT\\plots\\2022-01-28T174...       LTCUSDT  18.5100   \n35  backtests/binance\\MANAUSDT\\plots\\2022-01-12T20...      MANAUSDT  22.0800   \n36  backtests/binance\\MANAUSDT\\plots\\2022-01-13T01...      MANAUSDT  22.0800   \n37  backtests/binance\\MANAUSDT\\plots\\2022-01-16T14...      MANAUSDT  22.0900   \n38  backtests/binance\\MATICUSDT\\plots\\2022-01-13T0...     MATICUSDT  12.1100   \n39  backtests/binance\\MATICUSDT\\plots\\2022-01-16T1...     MATICUSDT  21.3800   \n41  backtests/binance\\OMGUSDT\\plots\\2022-01-11T205...       OMGUSDT   9.6550   \n42  backtests/binance\\OMGUSDT\\plots\\2022-01-12T200...       OMGUSDT  14.8300   \n43  backtests/binance\\OMGUSDT\\plots\\2022-01-13T013...       OMGUSDT  14.8300   \n44  backtests/binance\\OMGUSDT\\plots\\2022-01-17T113...       OMGUSDT  17.0900   \n46  backtests/binance\\XLMUSDT\\plots\\2022-01-11T203...       XLMUSDT   5.7340   \n47  backtests/binance\\XLMUSDT\\plots\\2022-01-11T213...       XLMUSDT   2.0000   \n48  backtests/binance\\XLMUSDT\\plots\\2022-01-11T213...       XLMUSDT   1.2760   \n49  backtests/binance\\XLMUSDT\\plots\\2022-01-11T214...       XLMUSDT   1.5250   \n50  backtests/binance\\XLMUSDT\\plots\\2022-01-12T194...       XLMUSDT   6.6830   \n51  backtests/binance\\XLMUSDT\\plots\\2022-01-13T011...       XLMUSDT   6.6830   \n54  backtests/binance\\XLMUSDT\\plots\\2022-01-15T115...       XLMUSDT   8.1460   \n57  backtests/binance\\XLMUSDT\\plots\\2022-01-16T080...       XLMUSDT   2.8360   \n58  backtests/binance\\XRPUSDT\\plots\\2022-01-24T220...       XRPUSDT   1.3060   \n59  backtests/binance\\XRPUSDT\\plots\\2022-01-27T164...       XRPUSDT  10.2100   \n60  backtests/binance\\XRPUSDT\\plots\\2022-01-27T170...       XRPUSDT  11.8400   \n63  backtests/binance\\XTZUSDT\\plots\\2022-01-11T194...       XTZUSDT   7.4880   \n64  backtests/binance\\XTZUSDT\\plots\\2022-01-12T190...       XTZUSDT  11.3100   \n65  backtests/binance\\XTZUSDT\\plots\\2022-01-13T004...       XTZUSDT  15.9100   \n66  backtests/binance\\XTZUSDT\\plots\\2022-01-13T190...       XTZUSDT  17.2400   \n71  backtests/binance\\XTZUSDT\\plots\\2022-01-16T133...       XTZUSDT   6.9860   \n\n     adg_%  bnkr_%  long short  \n1   0.0543   100.0  True  True  \n7   0.0389   100.0  True   NaN  \n8   0.7110   100.0  True  True  \n9   0.7110   100.0  True  True  \n10  0.2270   100.0  True  True  \n11  0.0252   100.0  True   NaN  \n12  0.1370   100.0  True  True  \n13  0.0299   100.0  True  True  \n15  0.0874   100.0  True   NaN  \n17  0.4530   100.0  True   NaN  \n19  0.0288   100.0  True   NaN  \n21  0.0235   100.0  True   NaN  \n22  0.0131   100.0  True   NaN  \n23  0.0279   100.0  True   NaN  \n27  0.0928   100.0  True  True  \n28  0.0843   100.0  True  True  \n29  0.0659   100.0  True   NaN  \n30  0.0804   100.0  True  True  \n31  0.0218   100.0  True   NaN  \n32  0.0436   100.0  True   NaN  \n33  0.1210   100.0  True  True  \n35  0.0668   100.0  True   NaN  \n36  0.0668   100.0  True   NaN  \n37  0.1010   100.0  True   NaN  \n38  0.0365   100.0  True   NaN  \n39  0.0749   100.0  True   NaN  \n41  0.0327   100.0  True   NaN  \n42  0.0442   100.0  True   NaN  \n43  0.0442   100.0  True   NaN  \n44  0.0797   100.0  True   NaN  \n46  0.0198   100.0  True   NaN  \n47  0.1980   100.0  True   NaN  \n48  0.0309   100.0  True   NaN  \n49  0.0369   100.0  True   NaN  \n50  0.0207   100.0  True   NaN  \n51  0.0207   100.0  True   NaN  \n54  0.0246   100.0  True   NaN  \n57  0.0902   100.0  True   NaN  \n58  0.0793   100.0  True  True  \n59  0.0698   100.0  True  True  \n60  0.0809   100.0  True  True  \n63  0.0256   100.0  True   NaN  \n64  0.0342   100.0  True   NaN  \n65  0.0472   100.0  True   NaN  \n66  0.1030   100.0  True   NaN  \n71  0.0341   100.0  True   NaN  ",
      "text/html": "<div>\n<style scoped>\n    .dataframe tbody tr th:only-of-type {\n        vertical-align: middle;\n    }\n\n    .dataframe tbody tr th {\n        vertical-align: top;\n    }\n\n    .dataframe thead th {\n        text-align: right;\n    }\n</style>\n<table border=\"1\" class=\"dataframe\">\n  <thead>\n    <tr style=\"text-align: right;\">\n      <th></th>\n      <th>file</th>\n      <th>s</th>\n      <th>tg_%</th>\n      <th>adg_%</th>\n      <th>bnkr_%</th>\n      <th>long</th>\n      <th>short</th>\n    </tr>\n  </thead>\n  <tbody>\n    <tr>\n      <th>1</th>\n      <td>backtests/binance\\1000SHIBUSDT\\plots\\2022-01-2...</td>\n      <td>1000SHIBUSDT</td>\n      <td>0.7628</td>\n      <td>0.0543</td>\n      <td>100.0</td>\n      <td>True</td>\n      <td>True</td>\n    </tr>\n    <tr>\n      <th>7</th>\n      <td>backtests/binance\\ADAUSDT\\plots\\2022-01-17T122...</td>\n      <td>ADAUSDT</td>\n      <td>8.0020</td>\n      <td>0.0389</td>\n      <td>100.0</td>\n      <td>True</td>\n      <td>NaN</td>\n    </tr>\n    <tr>\n      <th>8</th>\n      <td>backtests/binance\\ADAUSDT\\plots\\2022-01-25T212...</td>\n      <td>ADAUSDT</td>\n      <td>2.1560</td>\n      <td>0.7110</td>\n      <td>100.0</td>\n      <td>True</td>\n      <td>True</td>\n    </tr>\n    <tr>\n      <th>9</th>\n      <td>backtests/binance\\ADAUSDT\\plots\\2022-01-25T212...</td>\n      <td>ADAUSDT</td>\n      <td>2.1560</td>\n      <td>0.7110</td>\n      <td>100.0</td>\n      <td>True</td>\n      <td>True</td>\n    </tr>\n    <tr>\n      <th>10</th>\n      <td>backtests/binance\\ADAUSDT\\plots\\2022-01-25T214...</td>\n      <td>ADAUSDT</td>\n      <td>4.1720</td>\n      <td>0.2270</td>\n      <td>100.0</td>\n      <td>True</td>\n      <td>True</td>\n    </tr>\n    <tr>\n      <th>11</th>\n      <td>backtests/binance\\ADAUSDT\\plots\\2022-01-25T215...</td>\n      <td>ADAUSDT</td>\n      <td>0.5483</td>\n      <td>0.0252</td>\n      <td>100.0</td>\n      <td>True</td>\n      <td>NaN</td>\n    </tr>\n    <tr>\n      <th>12</th>\n      <td>backtests/binance\\ADAUSDT\\plots\\2022-01-25T220...</td>\n      <td>ADAUSDT</td>\n      <td>2.5030</td>\n      <td>0.1370</td>\n      <td>100.0</td>\n      <td>True</td>\n      <td>True</td>\n    </tr>\n    <tr>\n      <th>13</th>\n      <td>backtests/binance\\ADAUSDT\\plots\\2022-01-25T222...</td>\n      <td>ADAUSDT</td>\n      <td>0.5401</td>\n      <td>0.0299</td>\n      <td>100.0</td>\n      <td>True</td>\n      <td>True</td>\n    </tr>\n    <tr>\n      <th>15</th>\n      <td>backtests/binance\\ATOMUSDT\\plots\\2022-01-16T13...</td>\n      <td>ATOMUSDT</td>\n      <td>18.8800</td>\n      <td>0.0874</td>\n      <td>100.0</td>\n      <td>True</td>\n      <td>NaN</td>\n    </tr>\n    <tr>\n      <th>17</th>\n      <td>backtests/binance\\ATOMUSDT\\plots\\2022-01-18T21...</td>\n      <td>ATOMUSDT</td>\n      <td>0.9077</td>\n      <td>0.4530</td>\n      <td>100.0</td>\n      <td>True</td>\n      <td>NaN</td>\n    </tr>\n    <tr>\n      <th>19</th>\n      <td>backtests/binance\\DASHUSDT\\plots\\2022-01-16T12...</td>\n      <td>DASHUSDT</td>\n      <td>5.8710</td>\n      <td>0.0288</td>\n      <td>100.0</td>\n      <td>True</td>\n      <td>NaN</td>\n    </tr>\n    <tr>\n      <th>21</th>\n      <td>backtests/binance\\DASHUSDT\\plots\\2022-01-17T13...</td>\n      <td>DASHUSDT</td>\n      <td>4.7650</td>\n      <td>0.0235</td>\n      <td>100.0</td>\n      <td>True</td>\n      <td>NaN</td>\n    </tr>\n    <tr>\n      <th>22</th>\n      <td>backtests/binance\\DASHUSDT\\plots\\2022-01-18T20...</td>\n      <td>DASHUSDT</td>\n      <td>3.4420</td>\n      <td>0.0131</td>\n      <td>100.0</td>\n      <td>True</td>\n      <td>NaN</td>\n    </tr>\n    <tr>\n      <th>23</th>\n      <td>backtests/binance\\DOGEUSDT\\plots\\2022-01-17T11...</td>\n      <td>DOGEUSDT</td>\n      <td>5.6820</td>\n      <td>0.0279</td>\n      <td>100.0</td>\n      <td>True</td>\n      <td>NaN</td>\n    </tr>\n    <tr>\n      <th>27</th>\n      <td>backtests/binance\\ETCUSDT\\plots\\2022-01-28T223...</td>\n      <td>ETCUSDT</td>\n      <td>14.1700</td>\n      <td>0.0928</td>\n      <td>100.0</td>\n      <td>True</td>\n      <td>True</td>\n    </tr>\n    <tr>\n      <th>28</th>\n      <td>backtests/binance\\ETHUSDT\\plots\\2022-01-27T181...</td>\n      <td>ETHUSDT</td>\n      <td>12.7400</td>\n      <td>0.0843</td>\n      <td>100.0</td>\n      <td>True</td>\n      <td>True</td>\n    </tr>\n    <tr>\n      <th>29</th>\n      <td>backtests/binance\\FTMUSDT\\plots\\2022-01-12T214...</td>\n      <td>FTMUSDT</td>\n      <td>22.9000</td>\n      <td>0.0659</td>\n      <td>100.0</td>\n      <td>True</td>\n      <td>NaN</td>\n    </tr>\n    <tr>\n      <th>30</th>\n      <td>backtests/binance\\FTMUSDT\\plots\\2022-01-28T174...</td>\n      <td>FTMUSDT</td>\n      <td>11.9200</td>\n      <td>0.0804</td>\n      <td>100.0</td>\n      <td>True</td>\n      <td>True</td>\n    </tr>\n    <tr>\n      <th>31</th>\n      <td>backtests/binance\\LINKUSDT\\plots\\2022-01-12T23...</td>\n      <td>LINKUSDT</td>\n      <td>7.0570</td>\n      <td>0.0218</td>\n      <td>100.0</td>\n      <td>True</td>\n      <td>NaN</td>\n    </tr>\n    <tr>\n      <th>32</th>\n      <td>backtests/binance\\LINKUSDT\\plots\\2022-01-16T13...</td>\n      <td>LINKUSDT</td>\n      <td>9.0120</td>\n      <td>0.0436</td>\n      <td>100.0</td>\n      <td>True</td>\n      <td>NaN</td>\n    </tr>\n    <tr>\n      <th>33</th>\n      <td>backtests/binance\\LTCUSDT\\plots\\2022-01-28T174...</td>\n      <td>LTCUSDT</td>\n      <td>18.5100</td>\n      <td>0.1210</td>\n      <td>100.0</td>\n      <td>True</td>\n      <td>True</td>\n    </tr>\n    <tr>\n      <th>35</th>\n      <td>backtests/binance\\MANAUSDT\\plots\\2022-01-12T20...</td>\n      <td>MANAUSDT</td>\n      <td>22.0800</td>\n      <td>0.0668</td>\n      <td>100.0</td>\n      <td>True</td>\n      <td>NaN</td>\n    </tr>\n    <tr>\n      <th>36</th>\n      <td>backtests/binance\\MANAUSDT\\plots\\2022-01-13T01...</td>\n      <td>MANAUSDT</td>\n      <td>22.0800</td>\n      <td>0.0668</td>\n      <td>100.0</td>\n      <td>True</td>\n      <td>NaN</td>\n    </tr>\n    <tr>\n      <th>37</th>\n      <td>backtests/binance\\MANAUSDT\\plots\\2022-01-16T14...</td>\n      <td>MANAUSDT</td>\n      <td>22.0900</td>\n      <td>0.1010</td>\n      <td>100.0</td>\n      <td>True</td>\n      <td>NaN</td>\n    </tr>\n    <tr>\n      <th>38</th>\n      <td>backtests/binance\\MATICUSDT\\plots\\2022-01-13T0...</td>\n      <td>MATICUSDT</td>\n      <td>12.1100</td>\n      <td>0.0365</td>\n      <td>100.0</td>\n      <td>True</td>\n      <td>NaN</td>\n    </tr>\n    <tr>\n      <th>39</th>\n      <td>backtests/binance\\MATICUSDT\\plots\\2022-01-16T1...</td>\n      <td>MATICUSDT</td>\n      <td>21.3800</td>\n      <td>0.0749</td>\n      <td>100.0</td>\n      <td>True</td>\n      <td>NaN</td>\n    </tr>\n    <tr>\n      <th>41</th>\n      <td>backtests/binance\\OMGUSDT\\plots\\2022-01-11T205...</td>\n      <td>OMGUSDT</td>\n      <td>9.6550</td>\n      <td>0.0327</td>\n      <td>100.0</td>\n      <td>True</td>\n      <td>NaN</td>\n    </tr>\n    <tr>\n      <th>42</th>\n      <td>backtests/binance\\OMGUSDT\\plots\\2022-01-12T200...</td>\n      <td>OMGUSDT</td>\n      <td>14.8300</td>\n      <td>0.0442</td>\n      <td>100.0</td>\n      <td>True</td>\n      <td>NaN</td>\n    </tr>\n    <tr>\n      <th>43</th>\n      <td>backtests/binance\\OMGUSDT\\plots\\2022-01-13T013...</td>\n      <td>OMGUSDT</td>\n      <td>14.8300</td>\n      <td>0.0442</td>\n      <td>100.0</td>\n      <td>True</td>\n      <td>NaN</td>\n    </tr>\n    <tr>\n      <th>44</th>\n      <td>backtests/binance\\OMGUSDT\\plots\\2022-01-17T113...</td>\n      <td>OMGUSDT</td>\n      <td>17.0900</td>\n      <td>0.0797</td>\n      <td>100.0</td>\n      <td>True</td>\n      <td>NaN</td>\n    </tr>\n    <tr>\n      <th>46</th>\n      <td>backtests/binance\\XLMUSDT\\plots\\2022-01-11T203...</td>\n      <td>XLMUSDT</td>\n      <td>5.7340</td>\n      <td>0.0198</td>\n      <td>100.0</td>\n      <td>True</td>\n      <td>NaN</td>\n    </tr>\n    <tr>\n      <th>47</th>\n      <td>backtests/binance\\XLMUSDT\\plots\\2022-01-11T213...</td>\n      <td>XLMUSDT</td>\n      <td>2.0000</td>\n      <td>0.1980</td>\n      <td>100.0</td>\n      <td>True</td>\n      <td>NaN</td>\n    </tr>\n    <tr>\n      <th>48</th>\n      <td>backtests/binance\\XLMUSDT\\plots\\2022-01-11T213...</td>\n      <td>XLMUSDT</td>\n      <td>1.2760</td>\n      <td>0.0309</td>\n      <td>100.0</td>\n      <td>True</td>\n      <td>NaN</td>\n    </tr>\n    <tr>\n      <th>49</th>\n      <td>backtests/binance\\XLMUSDT\\plots\\2022-01-11T214...</td>\n      <td>XLMUSDT</td>\n      <td>1.5250</td>\n      <td>0.0369</td>\n      <td>100.0</td>\n      <td>True</td>\n      <td>NaN</td>\n    </tr>\n    <tr>\n      <th>50</th>\n      <td>backtests/binance\\XLMUSDT\\plots\\2022-01-12T194...</td>\n      <td>XLMUSDT</td>\n      <td>6.6830</td>\n      <td>0.0207</td>\n      <td>100.0</td>\n      <td>True</td>\n      <td>NaN</td>\n    </tr>\n    <tr>\n      <th>51</th>\n      <td>backtests/binance\\XLMUSDT\\plots\\2022-01-13T011...</td>\n      <td>XLMUSDT</td>\n      <td>6.6830</td>\n      <td>0.0207</td>\n      <td>100.0</td>\n      <td>True</td>\n      <td>NaN</td>\n    </tr>\n    <tr>\n      <th>54</th>\n      <td>backtests/binance\\XLMUSDT\\plots\\2022-01-15T115...</td>\n      <td>XLMUSDT</td>\n      <td>8.1460</td>\n      <td>0.0246</td>\n      <td>100.0</td>\n      <td>True</td>\n      <td>NaN</td>\n    </tr>\n    <tr>\n      <th>57</th>\n      <td>backtests/binance\\XLMUSDT\\plots\\2022-01-16T080...</td>\n      <td>XLMUSDT</td>\n      <td>2.8360</td>\n      <td>0.0902</td>\n      <td>100.0</td>\n      <td>True</td>\n      <td>NaN</td>\n    </tr>\n    <tr>\n      <th>58</th>\n      <td>backtests/binance\\XRPUSDT\\plots\\2022-01-24T220...</td>\n      <td>XRPUSDT</td>\n      <td>1.3060</td>\n      <td>0.0793</td>\n      <td>100.0</td>\n      <td>True</td>\n      <td>True</td>\n    </tr>\n    <tr>\n      <th>59</th>\n      <td>backtests/binance\\XRPUSDT\\plots\\2022-01-27T164...</td>\n      <td>XRPUSDT</td>\n      <td>10.2100</td>\n      <td>0.0698</td>\n      <td>100.0</td>\n      <td>True</td>\n      <td>True</td>\n    </tr>\n    <tr>\n      <th>60</th>\n      <td>backtests/binance\\XRPUSDT\\plots\\2022-01-27T170...</td>\n      <td>XRPUSDT</td>\n      <td>11.8400</td>\n      <td>0.0809</td>\n      <td>100.0</td>\n      <td>True</td>\n      <td>True</td>\n    </tr>\n    <tr>\n      <th>63</th>\n      <td>backtests/binance\\XTZUSDT\\plots\\2022-01-11T194...</td>\n      <td>XTZUSDT</td>\n      <td>7.4880</td>\n      <td>0.0256</td>\n      <td>100.0</td>\n      <td>True</td>\n      <td>NaN</td>\n    </tr>\n    <tr>\n      <th>64</th>\n      <td>backtests/binance\\XTZUSDT\\plots\\2022-01-12T190...</td>\n      <td>XTZUSDT</td>\n      <td>11.3100</td>\n      <td>0.0342</td>\n      <td>100.0</td>\n      <td>True</td>\n      <td>NaN</td>\n    </tr>\n    <tr>\n      <th>65</th>\n      <td>backtests/binance\\XTZUSDT\\plots\\2022-01-13T004...</td>\n      <td>XTZUSDT</td>\n      <td>15.9100</td>\n      <td>0.0472</td>\n      <td>100.0</td>\n      <td>True</td>\n      <td>NaN</td>\n    </tr>\n    <tr>\n      <th>66</th>\n      <td>backtests/binance\\XTZUSDT\\plots\\2022-01-13T190...</td>\n      <td>XTZUSDT</td>\n      <td>17.2400</td>\n      <td>0.1030</td>\n      <td>100.0</td>\n      <td>True</td>\n      <td>NaN</td>\n    </tr>\n    <tr>\n      <th>71</th>\n      <td>backtests/binance\\XTZUSDT\\plots\\2022-01-16T133...</td>\n      <td>XTZUSDT</td>\n      <td>6.9860</td>\n      <td>0.0341</td>\n      <td>100.0</td>\n      <td>True</td>\n      <td>NaN</td>\n    </tr>\n  </tbody>\n</table>\n</div>"
     },
     "execution_count": 27,
     "metadata": {},
     "output_type": "execute_result"
    }
   ],
   "source": [
    "allowed_symbols = [\"ETHUSDT\", \"XRPUSDT\", \"1000SHIBUSDT\", \"DOGEUSDT\", \"ADAUSDT\",\n",
    "            \"BNBUSDT\", \"MATICUSDT\", \"DOTUSDT\", \"SANDUSDT\", \"FTMUSDT\",\n",
    "            \"LTCUSDT\", \"LINKUSDT\", \"MANAUSDT\", \"ETCUSDT\", \"EOSUSDT\",\n",
    "            \"ATOMUSDT\", \"FILUSDT\", \"ICPUSDT\", \"ALICEUSDT\", \"LRCUSDT\",\n",
    "            \"BCHUSDT\", \"SUSHIUSDT\", \"XTZUSDT\", \"THETAUSDT\", \"CRVUSDT\",\n",
    "            \"ALGOUSDT\", \"CHZUSDT\", \"TRXUSDT\", \"VETUSDT\", \"CHRUSDT\",\n",
    "            \"ONEUSDT\", \"OMGUSDT\", \"XLMUSDT\", \"RUNEUSDT\", \"ENJUSDT\",\n",
    "            \"CELRUSDT\", \"SXPUSDT\", \"1INCHUSDT\", \"SRMUSDT\", \"COTIUSDT\",\n",
    "            \"ZECUSDT\", \"QTUMUSDT\", \"GRTUSDT\", \"DENTUSDT\", \"SFPUSDT\",\n",
    "            \"STORJUSDT\", \"IOTAUSDT\", \"HOTUSDT\", \"NEOUSDT\", \"COMPUSDT\",\n",
    "            \"LINAUSDT\", \"KAVAUSDT\", \"BATUSDT\", \"WAVESUSDT\", \"IOSTUSDT\",\n",
    "            \"ALPHAUSDT\", \"RLCUSDT\", \"HBARUSDT\", \"DODOUSDT\", \"XMRUSDT\",\n",
    "            \"SNXUSDT\", \"ANKRUSDT\", \"DASHUSDT\", \"REEFUSDT\", \"ZENUSDT\",\n",
    "            \"CVCUSDT\", \"RENUSDT\", \"ICXUSDT\", \"RSRUSDT\", \"SKLUSDT\",\n",
    "            \"NKNUSDT\", \"BELUSDT\", \"ONTUSDT\", \"OGNUSDT\", \"BLZUSDT\",\n",
    "            \"MTLUSDT\", \"CTKUSDT\", \"RVNUSDT\", \"LITUSDT\", \"MKRUSDT\",\n",
    "            \"OCEANUSDT\", \"ZILUSDT\", \"UNFIUSDT\", \"BANDUSDT\", \"YFIIUSDT\",\n",
    "            \"TOMOUSDT\", \"TRBUSDT\", \"KNCUSDT\", \"STMXUSDT\", \"ZRXUSDT\",\n",
    "            \"SCUSDT\", \"AKROUSDT\", \"XEMUSDT\", \"FLMUSDT\", \"BALUSDT\",\n",
    "            \"BTSUSDT\", \"DGBUSDT\", \"DEFIUSDT\"]\n",
    "\n",
    "df = big_data[(big_data.s.isin(allowed_symbols)) &\n",
    "              (big_data['bnkr_%'] > 95.0) &\n",
    "              (big_data['tg_%'] > 0) &\n",
    "              (big_data['v'] == '5.3')]\n",
    "df"
   ],
   "metadata": {
    "collapsed": false,
    "pycharm": {
     "name": "#%%\n"
    }
   }
  },
  {
   "cell_type": "code",
   "execution_count": 57,
   "outputs": [
    {
     "name": "stdout",
     "output_type": "stream",
     "text": [
      "000063_result_long.json\n",
      "001554_result_long.json\n",
      "003945_result_short.json\n",
      "000006_result_short.json\n",
      "000004_result_long.json\n",
      "000018_result_short.json\n",
      "000367_result_long.json\n",
      "001244_result_long.json\n",
      "000001_result_short.json\n",
      "010024_result_long.json\n",
      "001959_result_short.json\n",
      "000014_result_long.json\n",
      "002625_result_long.json\n",
      "004004_result_long.json\n",
      "002273_result_long.json\n",
      "000161_result_long.json\n",
      "001996_result_long.json\n",
      "003527_result_long.json\n",
      "004021_result_long.json\n",
      "000008_result_short.json\n",
      "004026_result_short.json\n",
      "004026_result_short.json\n",
      "003999_result_short.json\n",
      "003591_result_short.json\n",
      "003992_result_long.json\n",
      "003979_result_long.json\n",
      "000063_result_long.json\n",
      "003893_result_short.json\n",
      "000331_result_short.json\n"
     ]
    }
   ],
   "source": [
    "import os\n",
    "import re\n",
    "\n",
    "dirs = glob.glob('results_harmony_search/*/', recursive=True)\n",
    "for dir in dirs:\n",
    "    files = [f for f in os.listdir(dir) if re.match(r'[0-9]+_result_.*', f)]\n",
    "    if len(files) > 0:\n",
    "        files.sort(reverse=True)\n",
    "        print(files[0])\n"
   ],
   "metadata": {
    "collapsed": false,
    "pycharm": {
     "name": "#%%\n"
    }
   }
  },
  {
   "cell_type": "code",
   "execution_count": 43,
   "outputs": [],
   "source": [],
   "metadata": {
    "collapsed": false,
    "pycharm": {
     "name": "#%%\n"
    }
   }
  },
  {
   "cell_type": "code",
   "execution_count": null,
   "outputs": [],
   "source": [],
   "metadata": {
    "collapsed": false,
    "pycharm": {
     "name": "#%%\n"
    }
   }
  }
 ],
 "metadata": {
  "kernelspec": {
   "display_name": "PyCharm (passivbot)",
   "language": "python",
   "name": "pycharm-997905a8"
  },
  "language_info": {
   "codemirror_mode": {
    "name": "ipython",
    "version": 2
   },
   "file_extension": ".py",
   "mimetype": "text/x-python",
   "name": "python",
   "nbconvert_exporter": "python",
   "pygments_lexer": "ipython2",
   "version": "2.7.6"
  }
 },
 "nbformat": 4,
 "nbformat_minor": 0
}