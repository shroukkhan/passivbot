{
 "cells": [
  {
   "cell_type": "code",
   "execution_count": 36,
   "metadata": {},
   "outputs": [
    {
     "name": "stdout",
     "output_type": "stream",
     "text": [
      "The autoreload extension is already loaded. To reload it, use:\n",
      "  %reload_ext autoreload\n"
     ]
    }
   ],
   "source": [
    "\n",
    "%load_ext autoreload\n",
    "%autoreload 2"
   ]
  },
  {
   "cell_type": "code",
   "execution_count": 37,
   "metadata": {
    "pycharm": {
     "name": "#%%\n"
    }
   },
   "outputs": [],
   "source": [
    "import glob\n",
    "import json\n",
    "\n",
    "import pandas as pd"
   ]
  },
  {
   "cell_type": "code",
   "execution_count": 38,
   "metadata": {
    "pycharm": {
     "name": "#%%\n"
    }
   },
   "outputs": [
    {
     "name": "stderr",
     "output_type": "stream",
     "text": [
      "C:\\Users\\skhan\\AppData\\Local\\Temp/ipykernel_10468/573714298.py:66: FutureWarning: The frame.append method is deprecated and will be removed from pandas in a future version. Use pandas.concat instead.\n",
      "  big_data = big_data.append(d, ignore_index=True)\n",
      "C:\\Users\\skhan\\AppData\\Local\\Temp/ipykernel_10468/573714298.py:66: FutureWarning: The frame.append method is deprecated and will be removed from pandas in a future version. Use pandas.concat instead.\n",
      "  big_data = big_data.append(d, ignore_index=True)\n",
      "C:\\Users\\skhan\\AppData\\Local\\Temp/ipykernel_10468/573714298.py:66: FutureWarning: The frame.append method is deprecated and will be removed from pandas in a future version. Use pandas.concat instead.\n",
      "  big_data = big_data.append(d, ignore_index=True)\n",
      "C:\\Users\\skhan\\AppData\\Local\\Temp/ipykernel_10468/573714298.py:66: FutureWarning: The frame.append method is deprecated and will be removed from pandas in a future version. Use pandas.concat instead.\n",
      "  big_data = big_data.append(d, ignore_index=True)\n",
      "C:\\Users\\skhan\\AppData\\Local\\Temp/ipykernel_10468/573714298.py:66: FutureWarning: The frame.append method is deprecated and will be removed from pandas in a future version. Use pandas.concat instead.\n",
      "  big_data = big_data.append(d, ignore_index=True)\n",
      "C:\\Users\\skhan\\AppData\\Local\\Temp/ipykernel_10468/573714298.py:66: FutureWarning: The frame.append method is deprecated and will be removed from pandas in a future version. Use pandas.concat instead.\n",
      "  big_data = big_data.append(d, ignore_index=True)\n",
      "C:\\Users\\skhan\\AppData\\Local\\Temp/ipykernel_10468/573714298.py:66: FutureWarning: The frame.append method is deprecated and will be removed from pandas in a future version. Use pandas.concat instead.\n",
      "  big_data = big_data.append(d, ignore_index=True)\n",
      "C:\\Users\\skhan\\AppData\\Local\\Temp/ipykernel_10468/573714298.py:66: FutureWarning: The frame.append method is deprecated and will be removed from pandas in a future version. Use pandas.concat instead.\n",
      "  big_data = big_data.append(d, ignore_index=True)\n",
      "C:\\Users\\skhan\\AppData\\Local\\Temp/ipykernel_10468/573714298.py:66: FutureWarning: The frame.append method is deprecated and will be removed from pandas in a future version. Use pandas.concat instead.\n",
      "  big_data = big_data.append(d, ignore_index=True)\n",
      "C:\\Users\\skhan\\AppData\\Local\\Temp/ipykernel_10468/573714298.py:66: FutureWarning: The frame.append method is deprecated and will be removed from pandas in a future version. Use pandas.concat instead.\n",
      "  big_data = big_data.append(d, ignore_index=True)\n",
      "C:\\Users\\skhan\\AppData\\Local\\Temp/ipykernel_10468/573714298.py:66: FutureWarning: The frame.append method is deprecated and will be removed from pandas in a future version. Use pandas.concat instead.\n",
      "  big_data = big_data.append(d, ignore_index=True)\n",
      "C:\\Users\\skhan\\AppData\\Local\\Temp/ipykernel_10468/573714298.py:66: FutureWarning: The frame.append method is deprecated and will be removed from pandas in a future version. Use pandas.concat instead.\n",
      "  big_data = big_data.append(d, ignore_index=True)\n",
      "C:\\Users\\skhan\\AppData\\Local\\Temp/ipykernel_10468/573714298.py:66: FutureWarning: The frame.append method is deprecated and will be removed from pandas in a future version. Use pandas.concat instead.\n",
      "  big_data = big_data.append(d, ignore_index=True)\n",
      "C:\\Users\\skhan\\AppData\\Local\\Temp/ipykernel_10468/573714298.py:66: FutureWarning: The frame.append method is deprecated and will be removed from pandas in a future version. Use pandas.concat instead.\n",
      "  big_data = big_data.append(d, ignore_index=True)\n",
      "C:\\Users\\skhan\\AppData\\Local\\Temp/ipykernel_10468/573714298.py:66: FutureWarning: The frame.append method is deprecated and will be removed from pandas in a future version. Use pandas.concat instead.\n",
      "  big_data = big_data.append(d, ignore_index=True)\n",
      "C:\\Users\\skhan\\AppData\\Local\\Temp/ipykernel_10468/573714298.py:66: FutureWarning: The frame.append method is deprecated and will be removed from pandas in a future version. Use pandas.concat instead.\n",
      "  big_data = big_data.append(d, ignore_index=True)\n",
      "C:\\Users\\skhan\\AppData\\Local\\Temp/ipykernel_10468/573714298.py:66: FutureWarning: The frame.append method is deprecated and will be removed from pandas in a future version. Use pandas.concat instead.\n",
      "  big_data = big_data.append(d, ignore_index=True)\n",
      "C:\\Users\\skhan\\AppData\\Local\\Temp/ipykernel_10468/573714298.py:66: FutureWarning: The frame.append method is deprecated and will be removed from pandas in a future version. Use pandas.concat instead.\n",
      "  big_data = big_data.append(d, ignore_index=True)\n",
      "C:\\Users\\skhan\\AppData\\Local\\Temp/ipykernel_10468/573714298.py:66: FutureWarning: The frame.append method is deprecated and will be removed from pandas in a future version. Use pandas.concat instead.\n",
      "  big_data = big_data.append(d, ignore_index=True)\n",
      "C:\\Users\\skhan\\AppData\\Local\\Temp/ipykernel_10468/573714298.py:66: FutureWarning: The frame.append method is deprecated and will be removed from pandas in a future version. Use pandas.concat instead.\n",
      "  big_data = big_data.append(d, ignore_index=True)\n",
      "C:\\Users\\skhan\\AppData\\Local\\Temp/ipykernel_10468/573714298.py:66: FutureWarning: The frame.append method is deprecated and will be removed from pandas in a future version. Use pandas.concat instead.\n",
      "  big_data = big_data.append(d, ignore_index=True)\n",
      "C:\\Users\\skhan\\AppData\\Local\\Temp/ipykernel_10468/573714298.py:66: FutureWarning: The frame.append method is deprecated and will be removed from pandas in a future version. Use pandas.concat instead.\n",
      "  big_data = big_data.append(d, ignore_index=True)\n",
      "C:\\Users\\skhan\\AppData\\Local\\Temp/ipykernel_10468/573714298.py:66: FutureWarning: The frame.append method is deprecated and will be removed from pandas in a future version. Use pandas.concat instead.\n",
      "  big_data = big_data.append(d, ignore_index=True)\n",
      "C:\\Users\\skhan\\AppData\\Local\\Temp/ipykernel_10468/573714298.py:66: FutureWarning: The frame.append method is deprecated and will be removed from pandas in a future version. Use pandas.concat instead.\n",
      "  big_data = big_data.append(d, ignore_index=True)\n",
      "C:\\Users\\skhan\\AppData\\Local\\Temp/ipykernel_10468/573714298.py:66: FutureWarning: The frame.append method is deprecated and will be removed from pandas in a future version. Use pandas.concat instead.\n",
      "  big_data = big_data.append(d, ignore_index=True)\n",
      "C:\\Users\\skhan\\AppData\\Local\\Temp/ipykernel_10468/573714298.py:66: FutureWarning: The frame.append method is deprecated and will be removed from pandas in a future version. Use pandas.concat instead.\n",
      "  big_data = big_data.append(d, ignore_index=True)\n",
      "C:\\Users\\skhan\\AppData\\Local\\Temp/ipykernel_10468/573714298.py:66: FutureWarning: The frame.append method is deprecated and will be removed from pandas in a future version. Use pandas.concat instead.\n",
      "  big_data = big_data.append(d, ignore_index=True)\n",
      "C:\\Users\\skhan\\AppData\\Local\\Temp/ipykernel_10468/573714298.py:66: FutureWarning: The frame.append method is deprecated and will be removed from pandas in a future version. Use pandas.concat instead.\n",
      "  big_data = big_data.append(d, ignore_index=True)\n",
      "C:\\Users\\skhan\\AppData\\Local\\Temp/ipykernel_10468/573714298.py:66: FutureWarning: The frame.append method is deprecated and will be removed from pandas in a future version. Use pandas.concat instead.\n",
      "  big_data = big_data.append(d, ignore_index=True)\n",
      "C:\\Users\\skhan\\AppData\\Local\\Temp/ipykernel_10468/573714298.py:66: FutureWarning: The frame.append method is deprecated and will be removed from pandas in a future version. Use pandas.concat instead.\n",
      "  big_data = big_data.append(d, ignore_index=True)\n",
      "C:\\Users\\skhan\\AppData\\Local\\Temp/ipykernel_10468/573714298.py:66: FutureWarning: The frame.append method is deprecated and will be removed from pandas in a future version. Use pandas.concat instead.\n",
      "  big_data = big_data.append(d, ignore_index=True)\n",
      "C:\\Users\\skhan\\AppData\\Local\\Temp/ipykernel_10468/573714298.py:66: FutureWarning: The frame.append method is deprecated and will be removed from pandas in a future version. Use pandas.concat instead.\n",
      "  big_data = big_data.append(d, ignore_index=True)\n",
      "C:\\Users\\skhan\\AppData\\Local\\Temp/ipykernel_10468/573714298.py:66: FutureWarning: The frame.append method is deprecated and will be removed from pandas in a future version. Use pandas.concat instead.\n",
      "  big_data = big_data.append(d, ignore_index=True)\n",
      "C:\\Users\\skhan\\AppData\\Local\\Temp/ipykernel_10468/573714298.py:66: FutureWarning: The frame.append method is deprecated and will be removed from pandas in a future version. Use pandas.concat instead.\n",
      "  big_data = big_data.append(d, ignore_index=True)\n",
      "C:\\Users\\skhan\\AppData\\Local\\Temp/ipykernel_10468/573714298.py:66: FutureWarning: The frame.append method is deprecated and will be removed from pandas in a future version. Use pandas.concat instead.\n",
      "  big_data = big_data.append(d, ignore_index=True)\n",
      "C:\\Users\\skhan\\AppData\\Local\\Temp/ipykernel_10468/573714298.py:66: FutureWarning: The frame.append method is deprecated and will be removed from pandas in a future version. Use pandas.concat instead.\n",
      "  big_data = big_data.append(d, ignore_index=True)\n",
      "C:\\Users\\skhan\\AppData\\Local\\Temp/ipykernel_10468/573714298.py:66: FutureWarning: The frame.append method is deprecated and will be removed from pandas in a future version. Use pandas.concat instead.\n",
      "  big_data = big_data.append(d, ignore_index=True)\n",
      "C:\\Users\\skhan\\AppData\\Local\\Temp/ipykernel_10468/573714298.py:66: FutureWarning: The frame.append method is deprecated and will be removed from pandas in a future version. Use pandas.concat instead.\n",
      "  big_data = big_data.append(d, ignore_index=True)\n",
      "C:\\Users\\skhan\\AppData\\Local\\Temp/ipykernel_10468/573714298.py:66: FutureWarning: The frame.append method is deprecated and will be removed from pandas in a future version. Use pandas.concat instead.\n",
      "  big_data = big_data.append(d, ignore_index=True)\n",
      "C:\\Users\\skhan\\AppData\\Local\\Temp/ipykernel_10468/573714298.py:66: FutureWarning: The frame.append method is deprecated and will be removed from pandas in a future version. Use pandas.concat instead.\n",
      "  big_data = big_data.append(d, ignore_index=True)\n",
      "C:\\Users\\skhan\\AppData\\Local\\Temp/ipykernel_10468/573714298.py:66: FutureWarning: The frame.append method is deprecated and will be removed from pandas in a future version. Use pandas.concat instead.\n",
      "  big_data = big_data.append(d, ignore_index=True)\n",
      "C:\\Users\\skhan\\AppData\\Local\\Temp/ipykernel_10468/573714298.py:66: FutureWarning: The frame.append method is deprecated and will be removed from pandas in a future version. Use pandas.concat instead.\n",
      "  big_data = big_data.append(d, ignore_index=True)\n",
      "C:\\Users\\skhan\\AppData\\Local\\Temp/ipykernel_10468/573714298.py:66: FutureWarning: The frame.append method is deprecated and will be removed from pandas in a future version. Use pandas.concat instead.\n",
      "  big_data = big_data.append(d, ignore_index=True)\n",
      "C:\\Users\\skhan\\AppData\\Local\\Temp/ipykernel_10468/573714298.py:66: FutureWarning: The frame.append method is deprecated and will be removed from pandas in a future version. Use pandas.concat instead.\n",
      "  big_data = big_data.append(d, ignore_index=True)\n",
      "C:\\Users\\skhan\\AppData\\Local\\Temp/ipykernel_10468/573714298.py:66: FutureWarning: The frame.append method is deprecated and will be removed from pandas in a future version. Use pandas.concat instead.\n",
      "  big_data = big_data.append(d, ignore_index=True)\n",
      "C:\\Users\\skhan\\AppData\\Local\\Temp/ipykernel_10468/573714298.py:66: FutureWarning: The frame.append method is deprecated and will be removed from pandas in a future version. Use pandas.concat instead.\n",
      "  big_data = big_data.append(d, ignore_index=True)\n",
      "C:\\Users\\skhan\\AppData\\Local\\Temp/ipykernel_10468/573714298.py:66: FutureWarning: The frame.append method is deprecated and will be removed from pandas in a future version. Use pandas.concat instead.\n",
      "  big_data = big_data.append(d, ignore_index=True)\n",
      "C:\\Users\\skhan\\AppData\\Local\\Temp/ipykernel_10468/573714298.py:66: FutureWarning: The frame.append method is deprecated and will be removed from pandas in a future version. Use pandas.concat instead.\n",
      "  big_data = big_data.append(d, ignore_index=True)\n",
      "C:\\Users\\skhan\\AppData\\Local\\Temp/ipykernel_10468/573714298.py:66: FutureWarning: The frame.append method is deprecated and will be removed from pandas in a future version. Use pandas.concat instead.\n",
      "  big_data = big_data.append(d, ignore_index=True)\n",
      "C:\\Users\\skhan\\AppData\\Local\\Temp/ipykernel_10468/573714298.py:66: FutureWarning: The frame.append method is deprecated and will be removed from pandas in a future version. Use pandas.concat instead.\n",
      "  big_data = big_data.append(d, ignore_index=True)\n",
      "C:\\Users\\skhan\\AppData\\Local\\Temp/ipykernel_10468/573714298.py:66: FutureWarning: The frame.append method is deprecated and will be removed from pandas in a future version. Use pandas.concat instead.\n",
      "  big_data = big_data.append(d, ignore_index=True)\n",
      "C:\\Users\\skhan\\AppData\\Local\\Temp/ipykernel_10468/573714298.py:66: FutureWarning: The frame.append method is deprecated and will be removed from pandas in a future version. Use pandas.concat instead.\n",
      "  big_data = big_data.append(d, ignore_index=True)\n",
      "C:\\Users\\skhan\\AppData\\Local\\Temp/ipykernel_10468/573714298.py:66: FutureWarning: The frame.append method is deprecated and will be removed from pandas in a future version. Use pandas.concat instead.\n",
      "  big_data = big_data.append(d, ignore_index=True)\n",
      "C:\\Users\\skhan\\AppData\\Local\\Temp/ipykernel_10468/573714298.py:66: FutureWarning: The frame.append method is deprecated and will be removed from pandas in a future version. Use pandas.concat instead.\n",
      "  big_data = big_data.append(d, ignore_index=True)\n",
      "C:\\Users\\skhan\\AppData\\Local\\Temp/ipykernel_10468/573714298.py:66: FutureWarning: The frame.append method is deprecated and will be removed from pandas in a future version. Use pandas.concat instead.\n",
      "  big_data = big_data.append(d, ignore_index=True)\n",
      "C:\\Users\\skhan\\AppData\\Local\\Temp/ipykernel_10468/573714298.py:66: FutureWarning: The frame.append method is deprecated and will be removed from pandas in a future version. Use pandas.concat instead.\n",
      "  big_data = big_data.append(d, ignore_index=True)\n",
      "C:\\Users\\skhan\\AppData\\Local\\Temp/ipykernel_10468/573714298.py:66: FutureWarning: The frame.append method is deprecated and will be removed from pandas in a future version. Use pandas.concat instead.\n",
      "  big_data = big_data.append(d, ignore_index=True)\n",
      "C:\\Users\\skhan\\AppData\\Local\\Temp/ipykernel_10468/573714298.py:66: FutureWarning: The frame.append method is deprecated and will be removed from pandas in a future version. Use pandas.concat instead.\n",
      "  big_data = big_data.append(d, ignore_index=True)\n",
      "C:\\Users\\skhan\\AppData\\Local\\Temp/ipykernel_10468/573714298.py:66: FutureWarning: The frame.append method is deprecated and will be removed from pandas in a future version. Use pandas.concat instead.\n",
      "  big_data = big_data.append(d, ignore_index=True)\n",
      "C:\\Users\\skhan\\AppData\\Local\\Temp/ipykernel_10468/573714298.py:66: FutureWarning: The frame.append method is deprecated and will be removed from pandas in a future version. Use pandas.concat instead.\n",
      "  big_data = big_data.append(d, ignore_index=True)\n",
      "C:\\Users\\skhan\\AppData\\Local\\Temp/ipykernel_10468/573714298.py:66: FutureWarning: The frame.append method is deprecated and will be removed from pandas in a future version. Use pandas.concat instead.\n",
      "  big_data = big_data.append(d, ignore_index=True)\n",
      "C:\\Users\\skhan\\AppData\\Local\\Temp/ipykernel_10468/573714298.py:66: FutureWarning: The frame.append method is deprecated and will be removed from pandas in a future version. Use pandas.concat instead.\n",
      "  big_data = big_data.append(d, ignore_index=True)\n",
      "C:\\Users\\skhan\\AppData\\Local\\Temp/ipykernel_10468/573714298.py:66: FutureWarning: The frame.append method is deprecated and will be removed from pandas in a future version. Use pandas.concat instead.\n",
      "  big_data = big_data.append(d, ignore_index=True)\n",
      "C:\\Users\\skhan\\AppData\\Local\\Temp/ipykernel_10468/573714298.py:66: FutureWarning: The frame.append method is deprecated and will be removed from pandas in a future version. Use pandas.concat instead.\n",
      "  big_data = big_data.append(d, ignore_index=True)\n",
      "C:\\Users\\skhan\\AppData\\Local\\Temp/ipykernel_10468/573714298.py:66: FutureWarning: The frame.append method is deprecated and will be removed from pandas in a future version. Use pandas.concat instead.\n",
      "  big_data = big_data.append(d, ignore_index=True)\n",
      "C:\\Users\\skhan\\AppData\\Local\\Temp/ipykernel_10468/573714298.py:66: FutureWarning: The frame.append method is deprecated and will be removed from pandas in a future version. Use pandas.concat instead.\n",
      "  big_data = big_data.append(d, ignore_index=True)\n",
      "C:\\Users\\skhan\\AppData\\Local\\Temp/ipykernel_10468/573714298.py:66: FutureWarning: The frame.append method is deprecated and will be removed from pandas in a future version. Use pandas.concat instead.\n",
      "  big_data = big_data.append(d, ignore_index=True)\n",
      "C:\\Users\\skhan\\AppData\\Local\\Temp/ipykernel_10468/573714298.py:66: FutureWarning: The frame.append method is deprecated and will be removed from pandas in a future version. Use pandas.concat instead.\n",
      "  big_data = big_data.append(d, ignore_index=True)\n",
      "C:\\Users\\skhan\\AppData\\Local\\Temp/ipykernel_10468/573714298.py:66: FutureWarning: The frame.append method is deprecated and will be removed from pandas in a future version. Use pandas.concat instead.\n",
      "  big_data = big_data.append(d, ignore_index=True)\n",
      "C:\\Users\\skhan\\AppData\\Local\\Temp/ipykernel_10468/573714298.py:66: FutureWarning: The frame.append method is deprecated and will be removed from pandas in a future version. Use pandas.concat instead.\n",
      "  big_data = big_data.append(d, ignore_index=True)\n",
      "C:\\Users\\skhan\\AppData\\Local\\Temp/ipykernel_10468/573714298.py:66: FutureWarning: The frame.append method is deprecated and will be removed from pandas in a future version. Use pandas.concat instead.\n",
      "  big_data = big_data.append(d, ignore_index=True)\n"
     ]
    },
    {
     "data": {
      "text/plain": "                                                 file    v   prod        s  \\\n0   \\ADAUSDT\\plots\\2022-05-07T105930\\backtest_resu...  5.5  False  ADAUSDT   \n1   \\ADAUSDT\\plots\\2022-05-07T152824\\backtest_resu...  5.5  False  ADAUSDT   \n2   \\ADAUSDT\\plots\\2022-05-07T183907\\backtest_resu...  5.5  False  ADAUSDT   \n3   \\ADAUSDT\\plots\\2022-05-07T191008\\backtest_resu...  5.5  False  ADAUSDT   \n4   \\ADAUSDT\\plots\\2022-05-07T213637\\backtest_resu...  5.5  False  ADAUSDT   \n..                                                ...  ...    ...      ...   \n66  \\XRPUSDT\\plots\\2022-05-07T183703\\backtest_resu...  5.5  False  XRPUSDT   \n67  \\XRPUSDT\\plots\\2022-05-07T190631\\backtest_resu...  5.5  False  XRPUSDT   \n68  \\XRPUSDT\\plots\\2022-05-07T190833\\backtest_resu...  5.5  False  XRPUSDT   \n69  \\XRPUSDT\\plots\\2022-05-07T213341\\backtest_resu...  5.5  False  XRPUSDT   \n70  \\XRPUSDT\\plots\\2022-05-07T213459\\backtest_resu...  5.5  False  XRPUSDT   \n\n    long   tgl_%   adgl_%    pastdl    pamaxl  bnkrl_%    ebrl      maxsl  \\\n0   True  -3.789 -0.00998  0.126457  0.753290    100.0  0.8859  63.053333   \n1   True -25.890 -0.13600  0.131576  0.747571    100.0  0.9222  56.120833   \n2   True -25.890 -0.13600  0.131576  0.747571    100.0  0.9222  56.120833   \n3   True -25.890 -0.13600  0.131576  0.747571    100.0  0.9222  56.120833   \n4   True  -3.789 -0.00998  0.126457  0.753290    100.0  0.8859  63.053333   \n..   ...     ...      ...       ...       ...      ...     ...        ...   \n66  True   7.317  0.01380  0.167794  0.857247    100.0  0.9413  73.737500   \n67  True   3.379  0.00536  0.102911  0.596623    100.0  0.9546  85.002917   \n68  True   7.317  0.01380  0.167794  0.857247    100.0  0.9413  73.737500   \n69  True  10.340  0.03170  0.058584  0.377257    100.0  0.9418  29.554875   \n70  True  -6.984 -0.03280  0.047929  0.483478    100.0  0.9172  25.038875   \n\n    short   tgs_%   adgs_%    pastds    pamaxs  bnkrs_%    ebrs      maxss  \n0    True  29.160  0.08990  0.081063  0.481465    100.0  0.7875  27.359708  \n1    True   9.241  0.02830  0.046295  0.261115    100.0  0.9611   6.562500  \n2    True   9.241  0.02830  0.046295  0.261115    100.0  0.9611   6.562500  \n3    True   9.241  0.02830  0.046295  0.261115    100.0  0.9611   6.562500  \n4    True  29.160  0.08990  0.081063  0.481465    100.0  0.7875  27.359708  \n..    ...     ...      ...       ...       ...      ...     ...        ...  \n66   True   5.205  0.01710  0.103187  0.586979    100.0  0.9478  34.750000  \n67   True   3.343  0.00977  0.111373  0.582678    100.0  0.9479  27.393750  \n68   True   5.205  0.01710  0.103187  0.586979    100.0  0.9478  34.750000  \n69   True  -3.943 -0.00655  0.113785  0.477048    100.0  0.7767  61.601250  \n70   True   1.483  0.01070  0.070264  0.490509    100.0  0.7805  33.511125  \n\n[71 rows x 20 columns]",
      "text/html": "<div>\n<style scoped>\n    .dataframe tbody tr th:only-of-type {\n        vertical-align: middle;\n    }\n\n    .dataframe tbody tr th {\n        vertical-align: top;\n    }\n\n    .dataframe thead th {\n        text-align: right;\n    }\n</style>\n<table border=\"1\" class=\"dataframe\">\n  <thead>\n    <tr style=\"text-align: right;\">\n      <th></th>\n      <th>file</th>\n      <th>v</th>\n      <th>prod</th>\n      <th>s</th>\n      <th>long</th>\n      <th>tgl_%</th>\n      <th>adgl_%</th>\n      <th>pastdl</th>\n      <th>pamaxl</th>\n      <th>bnkrl_%</th>\n      <th>ebrl</th>\n      <th>maxsl</th>\n      <th>short</th>\n      <th>tgs_%</th>\n      <th>adgs_%</th>\n      <th>pastds</th>\n      <th>pamaxs</th>\n      <th>bnkrs_%</th>\n      <th>ebrs</th>\n      <th>maxss</th>\n    </tr>\n  </thead>\n  <tbody>\n    <tr>\n      <th>0</th>\n      <td>\\ADAUSDT\\plots\\2022-05-07T105930\\backtest_resu...</td>\n      <td>5.5</td>\n      <td>False</td>\n      <td>ADAUSDT</td>\n      <td>True</td>\n      <td>-3.789</td>\n      <td>-0.00998</td>\n      <td>0.126457</td>\n      <td>0.753290</td>\n      <td>100.0</td>\n      <td>0.8859</td>\n      <td>63.053333</td>\n      <td>True</td>\n      <td>29.160</td>\n      <td>0.08990</td>\n      <td>0.081063</td>\n      <td>0.481465</td>\n      <td>100.0</td>\n      <td>0.7875</td>\n      <td>27.359708</td>\n    </tr>\n    <tr>\n      <th>1</th>\n      <td>\\ADAUSDT\\plots\\2022-05-07T152824\\backtest_resu...</td>\n      <td>5.5</td>\n      <td>False</td>\n      <td>ADAUSDT</td>\n      <td>True</td>\n      <td>-25.890</td>\n      <td>-0.13600</td>\n      <td>0.131576</td>\n      <td>0.747571</td>\n      <td>100.0</td>\n      <td>0.9222</td>\n      <td>56.120833</td>\n      <td>True</td>\n      <td>9.241</td>\n      <td>0.02830</td>\n      <td>0.046295</td>\n      <td>0.261115</td>\n      <td>100.0</td>\n      <td>0.9611</td>\n      <td>6.562500</td>\n    </tr>\n    <tr>\n      <th>2</th>\n      <td>\\ADAUSDT\\plots\\2022-05-07T183907\\backtest_resu...</td>\n      <td>5.5</td>\n      <td>False</td>\n      <td>ADAUSDT</td>\n      <td>True</td>\n      <td>-25.890</td>\n      <td>-0.13600</td>\n      <td>0.131576</td>\n      <td>0.747571</td>\n      <td>100.0</td>\n      <td>0.9222</td>\n      <td>56.120833</td>\n      <td>True</td>\n      <td>9.241</td>\n      <td>0.02830</td>\n      <td>0.046295</td>\n      <td>0.261115</td>\n      <td>100.0</td>\n      <td>0.9611</td>\n      <td>6.562500</td>\n    </tr>\n    <tr>\n      <th>3</th>\n      <td>\\ADAUSDT\\plots\\2022-05-07T191008\\backtest_resu...</td>\n      <td>5.5</td>\n      <td>False</td>\n      <td>ADAUSDT</td>\n      <td>True</td>\n      <td>-25.890</td>\n      <td>-0.13600</td>\n      <td>0.131576</td>\n      <td>0.747571</td>\n      <td>100.0</td>\n      <td>0.9222</td>\n      <td>56.120833</td>\n      <td>True</td>\n      <td>9.241</td>\n      <td>0.02830</td>\n      <td>0.046295</td>\n      <td>0.261115</td>\n      <td>100.0</td>\n      <td>0.9611</td>\n      <td>6.562500</td>\n    </tr>\n    <tr>\n      <th>4</th>\n      <td>\\ADAUSDT\\plots\\2022-05-07T213637\\backtest_resu...</td>\n      <td>5.5</td>\n      <td>False</td>\n      <td>ADAUSDT</td>\n      <td>True</td>\n      <td>-3.789</td>\n      <td>-0.00998</td>\n      <td>0.126457</td>\n      <td>0.753290</td>\n      <td>100.0</td>\n      <td>0.8859</td>\n      <td>63.053333</td>\n      <td>True</td>\n      <td>29.160</td>\n      <td>0.08990</td>\n      <td>0.081063</td>\n      <td>0.481465</td>\n      <td>100.0</td>\n      <td>0.7875</td>\n      <td>27.359708</td>\n    </tr>\n    <tr>\n      <th>...</th>\n      <td>...</td>\n      <td>...</td>\n      <td>...</td>\n      <td>...</td>\n      <td>...</td>\n      <td>...</td>\n      <td>...</td>\n      <td>...</td>\n      <td>...</td>\n      <td>...</td>\n      <td>...</td>\n      <td>...</td>\n      <td>...</td>\n      <td>...</td>\n      <td>...</td>\n      <td>...</td>\n      <td>...</td>\n      <td>...</td>\n      <td>...</td>\n      <td>...</td>\n    </tr>\n    <tr>\n      <th>66</th>\n      <td>\\XRPUSDT\\plots\\2022-05-07T183703\\backtest_resu...</td>\n      <td>5.5</td>\n      <td>False</td>\n      <td>XRPUSDT</td>\n      <td>True</td>\n      <td>7.317</td>\n      <td>0.01380</td>\n      <td>0.167794</td>\n      <td>0.857247</td>\n      <td>100.0</td>\n      <td>0.9413</td>\n      <td>73.737500</td>\n      <td>True</td>\n      <td>5.205</td>\n      <td>0.01710</td>\n      <td>0.103187</td>\n      <td>0.586979</td>\n      <td>100.0</td>\n      <td>0.9478</td>\n      <td>34.750000</td>\n    </tr>\n    <tr>\n      <th>67</th>\n      <td>\\XRPUSDT\\plots\\2022-05-07T190631\\backtest_resu...</td>\n      <td>5.5</td>\n      <td>False</td>\n      <td>XRPUSDT</td>\n      <td>True</td>\n      <td>3.379</td>\n      <td>0.00536</td>\n      <td>0.102911</td>\n      <td>0.596623</td>\n      <td>100.0</td>\n      <td>0.9546</td>\n      <td>85.002917</td>\n      <td>True</td>\n      <td>3.343</td>\n      <td>0.00977</td>\n      <td>0.111373</td>\n      <td>0.582678</td>\n      <td>100.0</td>\n      <td>0.9479</td>\n      <td>27.393750</td>\n    </tr>\n    <tr>\n      <th>68</th>\n      <td>\\XRPUSDT\\plots\\2022-05-07T190833\\backtest_resu...</td>\n      <td>5.5</td>\n      <td>False</td>\n      <td>XRPUSDT</td>\n      <td>True</td>\n      <td>7.317</td>\n      <td>0.01380</td>\n      <td>0.167794</td>\n      <td>0.857247</td>\n      <td>100.0</td>\n      <td>0.9413</td>\n      <td>73.737500</td>\n      <td>True</td>\n      <td>5.205</td>\n      <td>0.01710</td>\n      <td>0.103187</td>\n      <td>0.586979</td>\n      <td>100.0</td>\n      <td>0.9478</td>\n      <td>34.750000</td>\n    </tr>\n    <tr>\n      <th>69</th>\n      <td>\\XRPUSDT\\plots\\2022-05-07T213341\\backtest_resu...</td>\n      <td>5.5</td>\n      <td>False</td>\n      <td>XRPUSDT</td>\n      <td>True</td>\n      <td>10.340</td>\n      <td>0.03170</td>\n      <td>0.058584</td>\n      <td>0.377257</td>\n      <td>100.0</td>\n      <td>0.9418</td>\n      <td>29.554875</td>\n      <td>True</td>\n      <td>-3.943</td>\n      <td>-0.00655</td>\n      <td>0.113785</td>\n      <td>0.477048</td>\n      <td>100.0</td>\n      <td>0.7767</td>\n      <td>61.601250</td>\n    </tr>\n    <tr>\n      <th>70</th>\n      <td>\\XRPUSDT\\plots\\2022-05-07T213459\\backtest_resu...</td>\n      <td>5.5</td>\n      <td>False</td>\n      <td>XRPUSDT</td>\n      <td>True</td>\n      <td>-6.984</td>\n      <td>-0.03280</td>\n      <td>0.047929</td>\n      <td>0.483478</td>\n      <td>100.0</td>\n      <td>0.9172</td>\n      <td>25.038875</td>\n      <td>True</td>\n      <td>1.483</td>\n      <td>0.01070</td>\n      <td>0.070264</td>\n      <td>0.490509</td>\n      <td>100.0</td>\n      <td>0.7805</td>\n      <td>33.511125</td>\n    </tr>\n  </tbody>\n</table>\n<p>71 rows × 20 columns</p>\n</div>"
     },
     "execution_count": 38,
     "metadata": {},
     "output_type": "execute_result"
    }
   ],
   "source": [
    "big_data = pd.DataFrame()\n",
    "files = glob.iglob('backtests/bybit/' + '**/backtest_result.txt', recursive=True)\n",
    "i = 0\n",
    "for filename in files:\n",
    "    #print(f'parsing : {filename}')\n",
    "    json_file = filename.replace('backtest_result.txt','live_config.json')\n",
    "    with open(json_file) as f:\n",
    "        live_config = json.load(f)\n",
    "        config_type = live_config['config_name']\n",
    "\n",
    "    with open(filename, 'r') as file:\n",
    "        data = file.read().split('\\n')\n",
    "        d = {'file': filename.replace('backtests/bybit','')}\n",
    "        current_state = 'long'\n",
    "        for l in data:\n",
    "            l = l.split('|')\n",
    "            if len(l) == 4:\n",
    "                key = l[1].strip()\n",
    "                value = l[2].strip()\n",
    "\n",
    "                if key == 'Passivbot Version':\n",
    "                    d['v'] = value\n",
    "                if key == 'Symbol':\n",
    "                    d['s'] = value\n",
    "                if key == 'Production Config':\n",
    "                    d['prod'] = True if value == 'True' else False\n",
    "\n",
    "                if key == 'Long':\n",
    "                    current_state = 'long'\n",
    "                    d['long'] = bool(value) or False\n",
    "                if key == 'Short':\n",
    "                    current_state = 'short'\n",
    "                    d['short'] = bool(value) or False\n",
    "\n",
    "                if key == 'Total gain' and current_state == 'long':\n",
    "                    d['tgl_%'] = float(value.replace('%', '').strip())\n",
    "                if key == 'Average daily gain' and current_state == 'long':\n",
    "                    d['adgl_%'] = float(value.replace('%', '').strip())\n",
    "                if key == 'Closest bankruptcy' and current_state == 'long':\n",
    "                    d['bnkrl_%'] = float(value.replace('%', '').strip())\n",
    "                if key == 'Lowest equity/balance ratio' and current_state == 'long':\n",
    "                    d['ebrl'] = float(value.replace('%', '').strip())\n",
    "                if key == 'Max hours stuck' and current_state == 'long':\n",
    "                    d['maxsl'] = float(value.replace('%', '').strip())/24\n",
    "                if key == 'Price action distance max' and current_state == 'long':\n",
    "                    d['pamaxl'] = float(value.replace('%', '').strip())\n",
    "                if key == 'Price action distance std' and current_state == 'long':\n",
    "                    d['pastdl'] = float(value.strip())\n",
    "\n",
    "                if key == 'Total gain' and current_state == 'short':\n",
    "                    d['tgs_%'] = float(value.replace('%', '').strip())\n",
    "                if key == 'Average daily gain' and current_state == 'short':\n",
    "                    d['adgs_%'] = float(value.replace('%', '').strip())\n",
    "                if key == 'Closest bankruptcy' and current_state == 'short':\n",
    "                    d['bnkrs_%'] = float(value.replace('%', '').strip())\n",
    "                if key == 'Lowest equity/balance ratio' and current_state == 'short':\n",
    "                    d['ebrs'] = float(value.replace('%', '').strip())\n",
    "                if key == 'Max hours stuck' and current_state == 'short':\n",
    "                    d['maxss'] = float(value.replace('%', '').strip())/24\n",
    "                if key == 'Price action distance max' and current_state == 'short':\n",
    "                    d['pamaxs'] = float(value.replace('%', '').strip())\n",
    "                if key == 'Price action distance std' and current_state == 'short':\n",
    "                    d['pastds'] = float(value.strip())\n",
    "\n",
    "\n",
    "        big_data = big_data.append(d, ignore_index=True)\n",
    "\n",
    "# files = glob.iglob('backtests/bybit_production/' + '**/backtest_result.txt', recursive=True)\n",
    "# i = 0\n",
    "# for filename in files:\n",
    "#     #print(f'parsing : {filename}')\n",
    "#     json_file = filename.replace('backtest_result.txt','live_config.json')\n",
    "#     with open(json_file) as f:\n",
    "#         live_config = json.load(f)\n",
    "#         config_type = live_config['config_name']\n",
    "#\n",
    "#     with open(filename, 'r') as file:\n",
    "#         data = file.read().split('\\n')\n",
    "#         d = {'file': filename.replace('backtests/bybit_production','')}\n",
    "#         current_state = 'long'\n",
    "#         for l in data:\n",
    "#             l = l.split('|')\n",
    "#             if len(l) == 4:\n",
    "#                 key = l[1].strip()\n",
    "#                 value = l[2].strip()\n",
    "#\n",
    "#                 if key == 'Passivbot Version':\n",
    "#                     d['v'] = value\n",
    "#                 if key == 'Symbol':\n",
    "#                     d['s'] = value\n",
    "#\n",
    "#                 if key == 'Long':\n",
    "#                     current_state = 'long'\n",
    "#                     d['long'] = bool(value) or False\n",
    "#                 if key == 'Short':\n",
    "#                     current_state = 'short'\n",
    "#                     d['short'] = bool(value) or False\n",
    "#\n",
    "#                 if key == 'Total gain' and current_state == 'long':\n",
    "#                     d['tgl_%'] = float(value.replace('%', '').strip())\n",
    "#                 if key == 'Average daily gain' and current_state == 'long':\n",
    "#                     d['adgl_%'] = float(value.replace('%', '').strip())\n",
    "#                 if key == 'Closest bankruptcy' and current_state == 'long':\n",
    "#                     d['bnkrl_%'] = float(value.replace('%', '').strip())\n",
    "#                 if key == 'Lowest equity/balance ratio' and current_state == 'long':\n",
    "#                     d['ebrl'] = float(value.replace('%', '').strip())\n",
    "#                 if key == 'Max hours stuck' and current_state == 'long':\n",
    "#                     d['maxsl'] = float(value.replace('%', '').strip())/24\n",
    "#                 if key == 'Price action distance max' and current_state == 'long':\n",
    "#                     d['pamaxl'] = float(value.replace('%', '').strip())\n",
    "#                 if key == 'Price action distance std' and current_state == 'long':\n",
    "#                     d['pastdl'] = float(value.strip())\n",
    "#\n",
    "#\n",
    "#                 if key == 'Total gain' and current_state == 'short':\n",
    "#                     d['tgs_%'] = float(value.replace('%', '').strip())\n",
    "#                 if key == 'Average daily gain' and current_state == 'short':\n",
    "#                     d['adgs_%'] = float(value.replace('%', '').strip())\n",
    "#                 if key == 'Closest bankruptcy' and current_state == 'short':\n",
    "#                     d['bnkrs_%'] = float(value.replace('%', '').strip())\n",
    "#                 if key == 'Lowest equity/balance ratio' and current_state == 'short':\n",
    "#                     d['ebrs'] = float(value.replace('%', '').strip())\n",
    "#                 if key == 'Max hours stuck' and current_state == 'short':\n",
    "#                     d['maxss'] = float(value.replace('%', '').strip())/24\n",
    "#                 if key == 'Price action distance max' and current_state == 'short':\n",
    "#                     d['pamaxs'] = float(value.replace('%', '').strip())\n",
    "#                 if key == 'Price action distance std' and current_state == 'short':\n",
    "#                     d['pastds'] = float(value.strip())\n",
    "#\n",
    "#         d['prod'] = True\n",
    "#         big_data = big_data.append(d, ignore_index=True)\n",
    "\n",
    "big_data"
   ]
  },
  {
   "cell_type": "markdown",
   "metadata": {},
   "source": [
    "Now filter the dataframe"
   ]
  },
  {
   "cell_type": "code",
   "execution_count": 39,
   "metadata": {
    "pycharm": {
     "name": "#%%\n"
    }
   },
   "outputs": [
    {
     "data": {
      "text/plain": "                                                 file    v   prod        s  \\\n0   \\ADAUSDT\\plots\\2022-05-07T105930\\backtest_resu...  5.5  False  ADAUSDT   \n1   \\ADAUSDT\\plots\\2022-05-07T152824\\backtest_resu...  5.5  False  ADAUSDT   \n2   \\ADAUSDT\\plots\\2022-05-07T183907\\backtest_resu...  5.5  False  ADAUSDT   \n3   \\ADAUSDT\\plots\\2022-05-07T191008\\backtest_resu...  5.5  False  ADAUSDT   \n4   \\ADAUSDT\\plots\\2022-05-07T213637\\backtest_resu...  5.5  False  ADAUSDT   \n..                                                ...  ...    ...      ...   \n66  \\XRPUSDT\\plots\\2022-05-07T183703\\backtest_resu...  5.5  False  XRPUSDT   \n67  \\XRPUSDT\\plots\\2022-05-07T190631\\backtest_resu...  5.5  False  XRPUSDT   \n68  \\XRPUSDT\\plots\\2022-05-07T190833\\backtest_resu...  5.5  False  XRPUSDT   \n69  \\XRPUSDT\\plots\\2022-05-07T213341\\backtest_resu...  5.5  False  XRPUSDT   \n70  \\XRPUSDT\\plots\\2022-05-07T213459\\backtest_resu...  5.5  False  XRPUSDT   \n\n    long   tgl_%   adgl_%    pastdl    pamaxl  bnkrl_%  ...      maxsl  short  \\\n0   True  -3.789 -0.00998  0.126457  0.753290    100.0  ...  63.053333   True   \n1   True -25.890 -0.13600  0.131576  0.747571    100.0  ...  56.120833   True   \n2   True -25.890 -0.13600  0.131576  0.747571    100.0  ...  56.120833   True   \n3   True -25.890 -0.13600  0.131576  0.747571    100.0  ...  56.120833   True   \n4   True  -3.789 -0.00998  0.126457  0.753290    100.0  ...  63.053333   True   \n..   ...     ...      ...       ...       ...      ...  ...        ...    ...   \n66  True   7.317  0.01380  0.167794  0.857247    100.0  ...  73.737500   True   \n67  True   3.379  0.00536  0.102911  0.596623    100.0  ...  85.002917   True   \n68  True   7.317  0.01380  0.167794  0.857247    100.0  ...  73.737500   True   \n69  True  10.340  0.03170  0.058584  0.377257    100.0  ...  29.554875   True   \n70  True  -6.984 -0.03280  0.047929  0.483478    100.0  ...  25.038875   True   \n\n     tgs_%   adgs_%    pastds    pamaxs  bnkrs_%    ebrs      maxss   adgt_%  \n0   29.160  0.08990  0.081063  0.481465    100.0  0.7875  27.359708  0.07992  \n1    9.241  0.02830  0.046295  0.261115    100.0  0.9611   6.562500 -0.10770  \n2    9.241  0.02830  0.046295  0.261115    100.0  0.9611   6.562500 -0.10770  \n3    9.241  0.02830  0.046295  0.261115    100.0  0.9611   6.562500 -0.10770  \n4   29.160  0.08990  0.081063  0.481465    100.0  0.7875  27.359708  0.07992  \n..     ...      ...       ...       ...      ...     ...        ...      ...  \n66   5.205  0.01710  0.103187  0.586979    100.0  0.9478  34.750000  0.03090  \n67   3.343  0.00977  0.111373  0.582678    100.0  0.9479  27.393750  0.01513  \n68   5.205  0.01710  0.103187  0.586979    100.0  0.9478  34.750000  0.03090  \n69  -3.943 -0.00655  0.113785  0.477048    100.0  0.7767  61.601250  0.02515  \n70   1.483  0.01070  0.070264  0.490509    100.0  0.7805  33.511125 -0.02210  \n\n[71 rows x 21 columns]",
      "text/html": "<div>\n<style scoped>\n    .dataframe tbody tr th:only-of-type {\n        vertical-align: middle;\n    }\n\n    .dataframe tbody tr th {\n        vertical-align: top;\n    }\n\n    .dataframe thead th {\n        text-align: right;\n    }\n</style>\n<table border=\"1\" class=\"dataframe\">\n  <thead>\n    <tr style=\"text-align: right;\">\n      <th></th>\n      <th>file</th>\n      <th>v</th>\n      <th>prod</th>\n      <th>s</th>\n      <th>long</th>\n      <th>tgl_%</th>\n      <th>adgl_%</th>\n      <th>pastdl</th>\n      <th>pamaxl</th>\n      <th>bnkrl_%</th>\n      <th>...</th>\n      <th>maxsl</th>\n      <th>short</th>\n      <th>tgs_%</th>\n      <th>adgs_%</th>\n      <th>pastds</th>\n      <th>pamaxs</th>\n      <th>bnkrs_%</th>\n      <th>ebrs</th>\n      <th>maxss</th>\n      <th>adgt_%</th>\n    </tr>\n  </thead>\n  <tbody>\n    <tr>\n      <th>0</th>\n      <td>\\ADAUSDT\\plots\\2022-05-07T105930\\backtest_resu...</td>\n      <td>5.5</td>\n      <td>False</td>\n      <td>ADAUSDT</td>\n      <td>True</td>\n      <td>-3.789</td>\n      <td>-0.00998</td>\n      <td>0.126457</td>\n      <td>0.753290</td>\n      <td>100.0</td>\n      <td>...</td>\n      <td>63.053333</td>\n      <td>True</td>\n      <td>29.160</td>\n      <td>0.08990</td>\n      <td>0.081063</td>\n      <td>0.481465</td>\n      <td>100.0</td>\n      <td>0.7875</td>\n      <td>27.359708</td>\n      <td>0.07992</td>\n    </tr>\n    <tr>\n      <th>1</th>\n      <td>\\ADAUSDT\\plots\\2022-05-07T152824\\backtest_resu...</td>\n      <td>5.5</td>\n      <td>False</td>\n      <td>ADAUSDT</td>\n      <td>True</td>\n      <td>-25.890</td>\n      <td>-0.13600</td>\n      <td>0.131576</td>\n      <td>0.747571</td>\n      <td>100.0</td>\n      <td>...</td>\n      <td>56.120833</td>\n      <td>True</td>\n      <td>9.241</td>\n      <td>0.02830</td>\n      <td>0.046295</td>\n      <td>0.261115</td>\n      <td>100.0</td>\n      <td>0.9611</td>\n      <td>6.562500</td>\n      <td>-0.10770</td>\n    </tr>\n    <tr>\n      <th>2</th>\n      <td>\\ADAUSDT\\plots\\2022-05-07T183907\\backtest_resu...</td>\n      <td>5.5</td>\n      <td>False</td>\n      <td>ADAUSDT</td>\n      <td>True</td>\n      <td>-25.890</td>\n      <td>-0.13600</td>\n      <td>0.131576</td>\n      <td>0.747571</td>\n      <td>100.0</td>\n      <td>...</td>\n      <td>56.120833</td>\n      <td>True</td>\n      <td>9.241</td>\n      <td>0.02830</td>\n      <td>0.046295</td>\n      <td>0.261115</td>\n      <td>100.0</td>\n      <td>0.9611</td>\n      <td>6.562500</td>\n      <td>-0.10770</td>\n    </tr>\n    <tr>\n      <th>3</th>\n      <td>\\ADAUSDT\\plots\\2022-05-07T191008\\backtest_resu...</td>\n      <td>5.5</td>\n      <td>False</td>\n      <td>ADAUSDT</td>\n      <td>True</td>\n      <td>-25.890</td>\n      <td>-0.13600</td>\n      <td>0.131576</td>\n      <td>0.747571</td>\n      <td>100.0</td>\n      <td>...</td>\n      <td>56.120833</td>\n      <td>True</td>\n      <td>9.241</td>\n      <td>0.02830</td>\n      <td>0.046295</td>\n      <td>0.261115</td>\n      <td>100.0</td>\n      <td>0.9611</td>\n      <td>6.562500</td>\n      <td>-0.10770</td>\n    </tr>\n    <tr>\n      <th>4</th>\n      <td>\\ADAUSDT\\plots\\2022-05-07T213637\\backtest_resu...</td>\n      <td>5.5</td>\n      <td>False</td>\n      <td>ADAUSDT</td>\n      <td>True</td>\n      <td>-3.789</td>\n      <td>-0.00998</td>\n      <td>0.126457</td>\n      <td>0.753290</td>\n      <td>100.0</td>\n      <td>...</td>\n      <td>63.053333</td>\n      <td>True</td>\n      <td>29.160</td>\n      <td>0.08990</td>\n      <td>0.081063</td>\n      <td>0.481465</td>\n      <td>100.0</td>\n      <td>0.7875</td>\n      <td>27.359708</td>\n      <td>0.07992</td>\n    </tr>\n    <tr>\n      <th>...</th>\n      <td>...</td>\n      <td>...</td>\n      <td>...</td>\n      <td>...</td>\n      <td>...</td>\n      <td>...</td>\n      <td>...</td>\n      <td>...</td>\n      <td>...</td>\n      <td>...</td>\n      <td>...</td>\n      <td>...</td>\n      <td>...</td>\n      <td>...</td>\n      <td>...</td>\n      <td>...</td>\n      <td>...</td>\n      <td>...</td>\n      <td>...</td>\n      <td>...</td>\n      <td>...</td>\n    </tr>\n    <tr>\n      <th>66</th>\n      <td>\\XRPUSDT\\plots\\2022-05-07T183703\\backtest_resu...</td>\n      <td>5.5</td>\n      <td>False</td>\n      <td>XRPUSDT</td>\n      <td>True</td>\n      <td>7.317</td>\n      <td>0.01380</td>\n      <td>0.167794</td>\n      <td>0.857247</td>\n      <td>100.0</td>\n      <td>...</td>\n      <td>73.737500</td>\n      <td>True</td>\n      <td>5.205</td>\n      <td>0.01710</td>\n      <td>0.103187</td>\n      <td>0.586979</td>\n      <td>100.0</td>\n      <td>0.9478</td>\n      <td>34.750000</td>\n      <td>0.03090</td>\n    </tr>\n    <tr>\n      <th>67</th>\n      <td>\\XRPUSDT\\plots\\2022-05-07T190631\\backtest_resu...</td>\n      <td>5.5</td>\n      <td>False</td>\n      <td>XRPUSDT</td>\n      <td>True</td>\n      <td>3.379</td>\n      <td>0.00536</td>\n      <td>0.102911</td>\n      <td>0.596623</td>\n      <td>100.0</td>\n      <td>...</td>\n      <td>85.002917</td>\n      <td>True</td>\n      <td>3.343</td>\n      <td>0.00977</td>\n      <td>0.111373</td>\n      <td>0.582678</td>\n      <td>100.0</td>\n      <td>0.9479</td>\n      <td>27.393750</td>\n      <td>0.01513</td>\n    </tr>\n    <tr>\n      <th>68</th>\n      <td>\\XRPUSDT\\plots\\2022-05-07T190833\\backtest_resu...</td>\n      <td>5.5</td>\n      <td>False</td>\n      <td>XRPUSDT</td>\n      <td>True</td>\n      <td>7.317</td>\n      <td>0.01380</td>\n      <td>0.167794</td>\n      <td>0.857247</td>\n      <td>100.0</td>\n      <td>...</td>\n      <td>73.737500</td>\n      <td>True</td>\n      <td>5.205</td>\n      <td>0.01710</td>\n      <td>0.103187</td>\n      <td>0.586979</td>\n      <td>100.0</td>\n      <td>0.9478</td>\n      <td>34.750000</td>\n      <td>0.03090</td>\n    </tr>\n    <tr>\n      <th>69</th>\n      <td>\\XRPUSDT\\plots\\2022-05-07T213341\\backtest_resu...</td>\n      <td>5.5</td>\n      <td>False</td>\n      <td>XRPUSDT</td>\n      <td>True</td>\n      <td>10.340</td>\n      <td>0.03170</td>\n      <td>0.058584</td>\n      <td>0.377257</td>\n      <td>100.0</td>\n      <td>...</td>\n      <td>29.554875</td>\n      <td>True</td>\n      <td>-3.943</td>\n      <td>-0.00655</td>\n      <td>0.113785</td>\n      <td>0.477048</td>\n      <td>100.0</td>\n      <td>0.7767</td>\n      <td>61.601250</td>\n      <td>0.02515</td>\n    </tr>\n    <tr>\n      <th>70</th>\n      <td>\\XRPUSDT\\plots\\2022-05-07T213459\\backtest_resu...</td>\n      <td>5.5</td>\n      <td>False</td>\n      <td>XRPUSDT</td>\n      <td>True</td>\n      <td>-6.984</td>\n      <td>-0.03280</td>\n      <td>0.047929</td>\n      <td>0.483478</td>\n      <td>100.0</td>\n      <td>...</td>\n      <td>25.038875</td>\n      <td>True</td>\n      <td>1.483</td>\n      <td>0.01070</td>\n      <td>0.070264</td>\n      <td>0.490509</td>\n      <td>100.0</td>\n      <td>0.7805</td>\n      <td>33.511125</td>\n      <td>-0.02210</td>\n    </tr>\n  </tbody>\n</table>\n<p>71 rows × 21 columns</p>\n</div>"
     },
     "execution_count": 39,
     "metadata": {},
     "output_type": "execute_result"
    }
   ],
   "source": [
    "# allowed_symbols = [\"ETHUSDT\", \"XRPUSDT\", \"1000SHIBUSDT\", \"DOGEUSDT\", \"ADAUSDT\",\n",
    "#                    \"BNBUSDT\", \"MATICUSDT\", \"DOTUSDT\", \"SANDUSDT\", \"FTMUSDT\",\n",
    "#                    \"LTCUSDT\", \"LINKUSDT\", \"MANAUSDT\", \"ETCUSDT\", \"EOSUSDT\",\n",
    "#                    \"ATOMUSDT\", \"FILUSDT\", \"ICPUSDT\", \"ALICEUSDT\", \"LRCUSDT\",\n",
    "#                    \"BCHUSDT\", \"SUSHIUSDT\", \"XTZUSDT\", \"THETAUSDT\", \"CRVUSDT\",\n",
    "#                    \"ALGOUSDT\", \"CHZUSDT\", \"TRXUSDT\", \"VETUSDT\", \"CHRUSDT\",\n",
    "#                    \"ONEUSDT\", \"OMGUSDT\", \"XLMUSDT\", \"RUNEUSDT\", \"ENJUSDT\",\n",
    "#                    \"CELRUSDT\", \"SXPUSDT\", \"1INCHUSDT\", \"SRMUSDT\", \"COTIUSDT\",\n",
    "#                    \"ZECUSDT\", \"QTUMUSDT\", \"GRTUSDT\", \"DENTUSDT\", \"SFPUSDT\",\n",
    "#                    \"STORJUSDT\", \"IOTAUSDT\", \"HOTUSDT\", \"NEOUSDT\", \"COMPUSDT\",\n",
    "#                    \"LINAUSDT\", \"KAVAUSDT\", \"BATUSDT\", \"WAVESUSDT\", \"IOSTUSDT\",\n",
    "#                    \"ALPHAUSDT\", \"RLCUSDT\", \"HBARUSDT\", \"DODOUSDT\", \"XMRUSDT\",\n",
    "#                    \"SNXUSDT\", \"ANKRUSDT\", \"DASHUSDT\", \"REEFUSDT\", \"ZENUSDT\",\n",
    "#                    \"CVCUSDT\", \"RENUSDT\", \"ICXUSDT\", \"RSRUSDT\", \"SKLUSDT\",\n",
    "#                    \"NKNUSDT\", \"BELUSDT\", \"ONTUSDT\", \"OGNUSDT\", \"BLZUSDT\",\n",
    "#                    \"MTLUSDT\", \"CTKUSDT\", \"RVNUSDT\", \"LITUSDT\", \"MKRUSDT\",\n",
    "#                    \"OCEANUSDT\", \"ZILUSDT\", \"UNFIUSDT\", \"BANDUSDT\", \"YFIIUSDT\",\n",
    "#                    \"TOMOUSDT\", \"TRBUSDT\", \"KNCUSDT\", \"STMXUSDT\", \"ZRXUSDT\",\n",
    "#                    \"SCUSDT\", \"AKROUSDT\", \"XEMUSDT\", \"FLMUSDT\", \"BALUSDT\",\n",
    "#                    \"BTSUSDT\", \"DGBUSDT\", \"DEFIUSDT\"]\n",
    "\n",
    "allowed_symbols = [\n",
    "    #\"OMG\",\"DUSK\",\"GTC\"\n",
    "    # \"LRC\",\n",
    "    # \"--------------------------\",\n",
    "    # \"SNX\", \"RSR\",\n",
    "    # \"--------------------------\",\n",
    "    # \"CELO\", \"ROSE\", \"OCEAN\",\"SXP\",\"DENT\"\n",
    "    # \"SFP\",\"ENS\",\"DODO\",\"AKRO\",\"REEF\",\"NEO\",\n",
    "    # \"----------------------------------------\",\n",
    "    # \"1000XEC\",\"AKRO\",\"ALPHA\",\"ANKR\",\"BAKE\",\"BAND\",\"BEL\",\"BTS\",\"C98\",\"COMP\",\n",
    "    \"-----------------------------------\",\n",
    "    # \"DGB\",\"DOGO\",\"FLM\",\"FLOW\",\"HBAR\",\n",
    "    # \"-----------------------------------\",\n",
    "    # \"HOT\",\"ICX\",\"IOST\",\"IOTA\",\"KAVA\",\"KLAY\",\"LINA\",\"LIT\",\"MKR\",\"MTL\",\"NEO\",\"NKN\",\"OGN\",\"ONT\"\n",
    "    #\"QTUM\",\"REEF\",\"RLC\",\"RVN\",\"SC\",\"SFP\",\"STMX\",\"TOMO\",\"TRB\",\"UNFI\",\"WAVES\", \"ZIL\", \"ZRX\"\n",
    "    #\"COTI\"\n",
    "    #\"RUNE\",\"UNI\"\n",
    "    #\"BAT\", \"BAL\", \"SRM\", \"RUNE\",\n",
    "    #\"BAT\", \"BAL\", \"SRM\", \"RUNE\" , 'STORJ','UNI','FTM','FIL','LRC','CVC',\"CTK\",\"SKL\",\"SAND\",\"XEM\"\n",
    "   \"XRP\", \"ADA\", \"SOL\", \"TRX\", \"AXS\", \"LUNA\", \"SAND\", \"AVAX\", \"FTM\", \"ALGO\", \"NEAR\", \"GALA\", \"ENS\", \"WAVES\", \"KNC\", \"APE\", \"GMT\", \"DAR\",\n",
    "]\n",
    "allowed_symbols = [s + \"USDT\" for s in allowed_symbols]\n",
    "big_data['adgt_%'] = big_data['adgl_%'] + big_data['adgs_%']\n",
    "df = big_data[(big_data.s.isin(allowed_symbols))\n",
    "    #& (big_data['long'] == True)\n",
    "    #& (big_data['adgl_%'] > 0.04)\n",
    "    #& (big_data['short'] == True)\n",
    "    #& (big_data['adgt_%'] > 0.1)\n",
    "    #& (big_data['bnkrl_%'] > 95.0)\n",
    "    #& (big_data['bnkrs_%'] > 95.0)\n",
    "    #& (big_data['ebrs'] > .85)\n",
    "    #& (big_data['ebrl'] > .8)\n",
    "    #& (big_data['v'] == '5.5')\n",
    "\n",
    "    # & (big_data['tg_%'] > 10)\n",
    "    # & (big_data['ebr'] > .85)\n",
    "]\n",
    "#df['total_adg'] = big_data['adgl_%'] + big_data['adgs_%']\n",
    "df"
   ]
  },
  {
   "cell_type": "code",
   "execution_count": 40,
   "metadata": {
    "pycharm": {
     "name": "#%%\n"
    }
   },
   "outputs": [
    {
     "data": {
      "text/plain": "                                                 file   prod          s  \\\n0   \\ADAUSDT\\plots\\2022-05-07T105930\\backtest_resu...  False    ADAUSDT   \n1   \\ADAUSDT\\plots\\2022-05-07T152824\\backtest_resu...  False    ADAUSDT   \n5   \\ALGOUSDT\\plots\\2022-05-07T193148\\backtest_res...  False   ALGOUSDT   \n6   \\ALGOUSDT\\plots\\2022-05-07T214805\\backtest_res...  False   ALGOUSDT   \n7   \\APEUSDT\\plots\\2022-05-07T210059\\backtest_resu...  False    APEUSDT   \n8   \\APEUSDT\\plots\\2022-05-07T215554\\backtest_resu...  False    APEUSDT   \n9   \\AVAXUSDT\\plots\\2022-05-07T173943\\backtest_res...  False   AVAXUSDT   \n12  \\AVAXUSDT\\plots\\2022-05-07T214502\\backtest_res...  False   AVAXUSDT   \n13  \\AXSUSDT\\plots\\2022-05-07T160614\\backtest_resu...  False    AXSUSDT   \n16  \\AXSUSDT\\plots\\2022-05-07T214040\\backtest_resu...  False    AXSUSDT   \n17  \\DARUSDT\\plots\\2022-05-07T214905\\backtest_resu...  False    DARUSDT   \n18  \\DARUSDT\\plots\\2022-05-07T215643\\backtest_resu...  False    DARUSDT   \n19  \\ENSUSDT\\plots\\2022-05-07T152121\\backtest_resu...  False    ENSUSDT   \n22  \\ENSUSDT\\plots\\2022-05-07T203414\\backtest_resu...  False    ENSUSDT   \n23  \\ENSUSDT\\plots\\2022-05-07T215214\\backtest_resu...  False    ENSUSDT   \n24  \\FTMUSDT\\plots\\2022-05-07T094414\\backtest_resu...  False    FTMUSDT   \n25  \\FTMUSDT\\plots\\2022-05-07T174221\\backtest_resu...  False    FTMUSDT   \n29  \\FTMUSDT\\plots\\2022-05-07T214628\\backtest_resu...  False    FTMUSDT   \n30  \\GALAUSDT\\plots\\2022-05-07T203228\\backtest_res...  False   GALAUSDT   \n31  \\GALAUSDT\\plots\\2022-05-07T203326\\backtest_res...  False   GALAUSDT   \n32  \\GALAUSDT\\plots\\2022-05-07T215045\\backtest_res...  False   GALAUSDT   \n33  \\GMTUSDT\\plots\\2022-05-07T214754\\backtest_resu...  False    GMTUSDT   \n34  \\GMTUSDT\\plots\\2022-05-07T215620\\backtest_resu...  False    GMTUSDT   \n35  \\KNCUSDT\\plots\\2022-05-07T205020\\backtest_resu...  False    KNCUSDT   \n36  \\KNCUSDT\\plots\\2022-05-07T215456\\backtest_resu...  False    KNCUSDT   \n37  \\LUNAUSDT\\plots\\2022-05-07T165944\\backtest_res...  False   LUNAUSDT   \n40  \\LUNAUSDT\\plots\\2022-05-07T214203\\backtest_res...  False   LUNAUSDT   \n41  \\NEARUSDT\\plots\\2022-05-07T200043\\backtest_res...  False   NEARUSDT   \n42  \\NEARUSDT\\plots\\2022-05-07T214941\\backtest_res...  False   NEARUSDT   \n43  \\SANDUSDT\\plots\\2022-05-07T101741\\backtest_res...  False   SANDUSDT   \n44  \\SANDUSDT\\plots\\2022-05-07T170200\\backtest_res...  False   SANDUSDT   \n48  \\SANDUSDT\\plots\\2022-05-07T214327\\backtest_res...  False   SANDUSDT   \n49  \\SOLUSDT\\plots\\2022-05-07T115510\\backtest_resu...  False    SOLUSDT   \n50  \\SOLUSDT\\plots\\2022-05-07T153037\\backtest_resu...  False    SOLUSDT   \n54  \\TRXUSDT\\plots\\2022-05-07T120526\\backtest_resu...  False    TRXUSDT   \n55  \\TRXUSDT\\plots\\2022-05-07T153316\\backtest_resu...  False    TRXUSDT   \n59  \\WAVESUSDT\\plots\\2022-05-07T204439\\backtest_re...  False  WAVESUSDT   \n60  \\WAVESUSDT\\plots\\2022-05-07T215331\\backtest_re...  False  WAVESUSDT   \n61  \\XRPUSDT\\plots\\2022-05-07T102305\\backtest_resu...  False    XRPUSDT   \n62  \\XRPUSDT\\plots\\2022-05-07T102516\\backtest_resu...  False    XRPUSDT   \n63  \\XRPUSDT\\plots\\2022-05-07T152334\\backtest_resu...  False    XRPUSDT   \n64  \\XRPUSDT\\plots\\2022-05-07T152616\\backtest_resu...  False    XRPUSDT   \n\n     adgt_%   adgl_%   adgs_%  bnkrl_%  bnkrs_%         ebrl     ebrs  \\\n0   0.07992 -0.00998  0.08990  100.000  100.000       0.8859  0.78750   \n1  -0.10770 -0.13600  0.02830  100.000  100.000       0.9222  0.96110   \n5  -0.31652 -0.32300  0.00648  100.000  100.000       0.9658  0.97620   \n6   0.10060  0.06010  0.04050  100.000  100.000       0.9316  0.76890   \n7   0.02880 -0.01910  0.04790  100.000  100.000       0.9453  0.89430   \n8  -0.33400  0.11400 -0.44800  100.000  100.000       0.9158  0.81710   \n9   0.34200  0.17700  0.16500  100.000   43.960       0.8251  0.54090   \n12  0.40300  0.21900  0.18400  100.000   42.080       0.8428  0.53070   \n13  0.25500  0.10400  0.15100  100.000   39.750       0.8538  0.56380   \n16  0.23740  0.08540  0.15200  100.000   11.540       0.8360  0.27910   \n17  0.30800  0.21900  0.08900  100.000  100.000       0.9903  0.99300   \n18  1.22900  0.35800  0.87100  100.000  100.000       0.9740  0.92620   \n19  0.13880  0.00880  0.13000  100.000  100.000       0.9000  0.94020   \n22  0.24210  0.03010  0.21200  100.000  100.000       0.9046  0.94040   \n23 -2.64300 -2.89000  0.24700    5.943  100.000       0.9193  0.87140   \n24 -0.13422 -0.00822 -0.12600  100.000   35.490       0.8597  0.31720   \n25  0.07570  0.04120  0.03450  100.000  100.000       0.9215  0.91560   \n29  0.05060  0.12700 -0.07640  100.000   95.110       0.8869  0.58240   \n30  0.00300  0.00154  0.00146  100.000  100.000       0.9569  0.85530   \n31  0.00004 -0.00157  0.00161  100.000  100.000       0.9508  0.85550   \n32 -2.38200 -0.40200 -1.98000  100.000    5.966       0.8893  0.07971   \n33  0.20260  0.17900  0.02360  100.000  100.000       0.9395  0.84100   \n34  0.17800  0.38000 -0.20200  100.000  100.000       0.9382  0.62670   \n35 -1.47797 -1.48000  0.00203    5.954  100.000       0.8944  0.97840   \n36  0.13200  0.08010  0.05190  100.000  100.000       0.9144  0.93500   \n37  0.14497  0.14000  0.00497  100.000   70.220       0.8400  0.63960   \n40 -3.62000 -1.81000 -1.81000    6.585    5.995       0.4415  0.07593   \n41  0.06559  0.05930  0.00629  100.000  100.000       0.9466  0.94060   \n42  0.16311  0.15500  0.00811  100.000  100.000       0.9189  0.82390   \n43  0.09690  0.08620  0.01070  100.000   38.730       0.8860  0.36240   \n44 -0.00232  0.00958 -0.01190  100.000   79.390       0.8749  0.45270   \n48 -1.43840 -1.48000  0.04160    5.951   33.620 -366400.0000  0.31320   \n49 -1.28900  0.19100 -1.48000  100.000    5.939       0.7460  0.31310   \n50 -1.30400  0.17600 -1.48000  100.000    5.940       0.7471  0.50370   \n54  0.03423  0.02690  0.00733  100.000  100.000       0.9716  0.88850   \n55  0.01407  0.00973  0.00434  100.000  100.000       0.9844  0.98660   \n59  0.01876  0.01350  0.00526  100.000  100.000       0.7819  0.81540   \n60  0.14751  0.00251  0.14500  100.000   14.230       0.8732  0.16340   \n61  0.02515  0.03170 -0.00655  100.000  100.000       0.9418  0.77670   \n62 -0.02210 -0.03280  0.01070  100.000  100.000       0.9172  0.78050   \n63  0.01513  0.00536  0.00977  100.000  100.000       0.9546  0.94790   \n64  0.03090  0.01380  0.01710  100.000  100.000       0.9413  0.94780   \n\n         maxsl    pamaxl    pastdl       maxss    pamaxs    pastds  \n0    63.053333  0.753290  0.126457   27.359708  0.481465  0.081063  \n1    56.120833  0.747571  0.131576    6.562500  0.261115  0.046295  \n5    23.634042  0.577051  0.075273   21.278458  0.467667  0.070771  \n6    16.115292  0.514621  0.035039   47.290417  0.534201  0.075699  \n7    11.193042  0.615224  0.132037   39.729167  0.600538  0.146091  \n8    10.126375  0.511342  0.106202   11.463875  0.454196  0.091128  \n9    34.609708  0.782233  0.139497   36.545125  0.823917  0.162490  \n12   34.614583  0.781051  0.148449   29.895125  0.713345  0.138027  \n13    8.571542  0.578457  0.095039    7.022917  0.686182  0.101202  \n16   15.695833  0.787773  0.151305    3.970137  0.638419  0.095033  \n17    2.056946  0.150389  0.033358    2.211113  0.214257  0.055038  \n18    1.818750  0.145421  0.030666    2.147221  0.263774  0.077600  \n19   14.884042  0.903903  0.181886    4.196542  0.305193  0.055238  \n22   12.019458  0.664006  0.141741   24.206958  0.395489  0.083187  \n23  130.310417  0.245095  0.059855   17.924292  0.344357  0.065024  \n24   26.263875  1.089540  0.147665   29.609708  0.772699  0.202592  \n25   49.697917  1.344360  0.204583   22.834708  0.512726  0.089732  \n29    6.284708  0.778049  0.051267   25.894458  0.764870  0.185353  \n30  120.058333  2.776500  0.566289  170.997083  0.865062  0.241457  \n31   14.219458  0.833204  0.070274  170.927917  0.863681  0.245510  \n32   28.025708  0.995943  0.148257  160.957083  0.816891  0.197131  \n33    7.352083  0.407919  0.046019    8.466667  0.769900  0.205532  \n34    6.593750  0.460715  0.056203   15.027083  0.613520  0.186689  \n35   15.202083  0.547181  0.049908   55.938750  0.571460  0.127670  \n36   15.750000  0.663173  0.069606   14.991667  0.238605  0.038745  \n37   23.239583  0.868705  0.125353   37.730542  0.631213  0.149923  \n40   19.047208  0.644501  0.101905  105.088333  0.758047  0.181230  \n41   14.337500  1.019750  0.119662   29.392375  0.683073  0.130101  \n42    4.941667  0.633562  0.044253   13.115292  0.464745  0.101066  \n43   14.779875  0.702720  0.056318   40.350000  0.726073  0.169311  \n44    6.877792  0.729291  0.063198  307.350833  0.972587  0.165576  \n48  162.127917  2.972280  0.651628   95.350000  0.743396  0.158335  \n49   18.984708  0.908642  0.133734  254.313750  0.617166  0.130658  \n50   19.850000  0.905556  0.141433  252.687500  0.458711  0.082296  \n54   47.191667  0.240741  0.046572   32.125000  0.354219  0.061786  \n55   40.434042  0.275790  0.044398   35.996542  0.346961  0.053466  \n59   39.465958  3.630230  0.614739   10.395833  0.470393  0.078651  \n60   13.802083  0.872696  0.087081   77.715833  0.786886  0.181223  \n61   29.554875  0.377257  0.058584   61.601250  0.477048  0.113785  \n62   25.038875  0.483478  0.047929   33.511125  0.490509  0.070264  \n63   85.002917  0.596623  0.102911   27.393750  0.582678  0.111373  \n64   73.737500  0.857247  0.167794   34.750000  0.586979  0.103187  ",
      "text/html": "<div>\n<style scoped>\n    .dataframe tbody tr th:only-of-type {\n        vertical-align: middle;\n    }\n\n    .dataframe tbody tr th {\n        vertical-align: top;\n    }\n\n    .dataframe thead th {\n        text-align: right;\n    }\n</style>\n<table border=\"1\" class=\"dataframe\">\n  <thead>\n    <tr style=\"text-align: right;\">\n      <th></th>\n      <th>file</th>\n      <th>prod</th>\n      <th>s</th>\n      <th>adgt_%</th>\n      <th>adgl_%</th>\n      <th>adgs_%</th>\n      <th>bnkrl_%</th>\n      <th>bnkrs_%</th>\n      <th>ebrl</th>\n      <th>ebrs</th>\n      <th>maxsl</th>\n      <th>pamaxl</th>\n      <th>pastdl</th>\n      <th>maxss</th>\n      <th>pamaxs</th>\n      <th>pastds</th>\n    </tr>\n  </thead>\n  <tbody>\n    <tr>\n      <th>0</th>\n      <td>\\ADAUSDT\\plots\\2022-05-07T105930\\backtest_resu...</td>\n      <td>False</td>\n      <td>ADAUSDT</td>\n      <td>0.07992</td>\n      <td>-0.00998</td>\n      <td>0.08990</td>\n      <td>100.000</td>\n      <td>100.000</td>\n      <td>0.8859</td>\n      <td>0.78750</td>\n      <td>63.053333</td>\n      <td>0.753290</td>\n      <td>0.126457</td>\n      <td>27.359708</td>\n      <td>0.481465</td>\n      <td>0.081063</td>\n    </tr>\n    <tr>\n      <th>1</th>\n      <td>\\ADAUSDT\\plots\\2022-05-07T152824\\backtest_resu...</td>\n      <td>False</td>\n      <td>ADAUSDT</td>\n      <td>-0.10770</td>\n      <td>-0.13600</td>\n      <td>0.02830</td>\n      <td>100.000</td>\n      <td>100.000</td>\n      <td>0.9222</td>\n      <td>0.96110</td>\n      <td>56.120833</td>\n      <td>0.747571</td>\n      <td>0.131576</td>\n      <td>6.562500</td>\n      <td>0.261115</td>\n      <td>0.046295</td>\n    </tr>\n    <tr>\n      <th>5</th>\n      <td>\\ALGOUSDT\\plots\\2022-05-07T193148\\backtest_res...</td>\n      <td>False</td>\n      <td>ALGOUSDT</td>\n      <td>-0.31652</td>\n      <td>-0.32300</td>\n      <td>0.00648</td>\n      <td>100.000</td>\n      <td>100.000</td>\n      <td>0.9658</td>\n      <td>0.97620</td>\n      <td>23.634042</td>\n      <td>0.577051</td>\n      <td>0.075273</td>\n      <td>21.278458</td>\n      <td>0.467667</td>\n      <td>0.070771</td>\n    </tr>\n    <tr>\n      <th>6</th>\n      <td>\\ALGOUSDT\\plots\\2022-05-07T214805\\backtest_res...</td>\n      <td>False</td>\n      <td>ALGOUSDT</td>\n      <td>0.10060</td>\n      <td>0.06010</td>\n      <td>0.04050</td>\n      <td>100.000</td>\n      <td>100.000</td>\n      <td>0.9316</td>\n      <td>0.76890</td>\n      <td>16.115292</td>\n      <td>0.514621</td>\n      <td>0.035039</td>\n      <td>47.290417</td>\n      <td>0.534201</td>\n      <td>0.075699</td>\n    </tr>\n    <tr>\n      <th>7</th>\n      <td>\\APEUSDT\\plots\\2022-05-07T210059\\backtest_resu...</td>\n      <td>False</td>\n      <td>APEUSDT</td>\n      <td>0.02880</td>\n      <td>-0.01910</td>\n      <td>0.04790</td>\n      <td>100.000</td>\n      <td>100.000</td>\n      <td>0.9453</td>\n      <td>0.89430</td>\n      <td>11.193042</td>\n      <td>0.615224</td>\n      <td>0.132037</td>\n      <td>39.729167</td>\n      <td>0.600538</td>\n      <td>0.146091</td>\n    </tr>\n    <tr>\n      <th>8</th>\n      <td>\\APEUSDT\\plots\\2022-05-07T215554\\backtest_resu...</td>\n      <td>False</td>\n      <td>APEUSDT</td>\n      <td>-0.33400</td>\n      <td>0.11400</td>\n      <td>-0.44800</td>\n      <td>100.000</td>\n      <td>100.000</td>\n      <td>0.9158</td>\n      <td>0.81710</td>\n      <td>10.126375</td>\n      <td>0.511342</td>\n      <td>0.106202</td>\n      <td>11.463875</td>\n      <td>0.454196</td>\n      <td>0.091128</td>\n    </tr>\n    <tr>\n      <th>9</th>\n      <td>\\AVAXUSDT\\plots\\2022-05-07T173943\\backtest_res...</td>\n      <td>False</td>\n      <td>AVAXUSDT</td>\n      <td>0.34200</td>\n      <td>0.17700</td>\n      <td>0.16500</td>\n      <td>100.000</td>\n      <td>43.960</td>\n      <td>0.8251</td>\n      <td>0.54090</td>\n      <td>34.609708</td>\n      <td>0.782233</td>\n      <td>0.139497</td>\n      <td>36.545125</td>\n      <td>0.823917</td>\n      <td>0.162490</td>\n    </tr>\n    <tr>\n      <th>12</th>\n      <td>\\AVAXUSDT\\plots\\2022-05-07T214502\\backtest_res...</td>\n      <td>False</td>\n      <td>AVAXUSDT</td>\n      <td>0.40300</td>\n      <td>0.21900</td>\n      <td>0.18400</td>\n      <td>100.000</td>\n      <td>42.080</td>\n      <td>0.8428</td>\n      <td>0.53070</td>\n      <td>34.614583</td>\n      <td>0.781051</td>\n      <td>0.148449</td>\n      <td>29.895125</td>\n      <td>0.713345</td>\n      <td>0.138027</td>\n    </tr>\n    <tr>\n      <th>13</th>\n      <td>\\AXSUSDT\\plots\\2022-05-07T160614\\backtest_resu...</td>\n      <td>False</td>\n      <td>AXSUSDT</td>\n      <td>0.25500</td>\n      <td>0.10400</td>\n      <td>0.15100</td>\n      <td>100.000</td>\n      <td>39.750</td>\n      <td>0.8538</td>\n      <td>0.56380</td>\n      <td>8.571542</td>\n      <td>0.578457</td>\n      <td>0.095039</td>\n      <td>7.022917</td>\n      <td>0.686182</td>\n      <td>0.101202</td>\n    </tr>\n    <tr>\n      <th>16</th>\n      <td>\\AXSUSDT\\plots\\2022-05-07T214040\\backtest_resu...</td>\n      <td>False</td>\n      <td>AXSUSDT</td>\n      <td>0.23740</td>\n      <td>0.08540</td>\n      <td>0.15200</td>\n      <td>100.000</td>\n      <td>11.540</td>\n      <td>0.8360</td>\n      <td>0.27910</td>\n      <td>15.695833</td>\n      <td>0.787773</td>\n      <td>0.151305</td>\n      <td>3.970137</td>\n      <td>0.638419</td>\n      <td>0.095033</td>\n    </tr>\n    <tr>\n      <th>17</th>\n      <td>\\DARUSDT\\plots\\2022-05-07T214905\\backtest_resu...</td>\n      <td>False</td>\n      <td>DARUSDT</td>\n      <td>0.30800</td>\n      <td>0.21900</td>\n      <td>0.08900</td>\n      <td>100.000</td>\n      <td>100.000</td>\n      <td>0.9903</td>\n      <td>0.99300</td>\n      <td>2.056946</td>\n      <td>0.150389</td>\n      <td>0.033358</td>\n      <td>2.211113</td>\n      <td>0.214257</td>\n      <td>0.055038</td>\n    </tr>\n    <tr>\n      <th>18</th>\n      <td>\\DARUSDT\\plots\\2022-05-07T215643\\backtest_resu...</td>\n      <td>False</td>\n      <td>DARUSDT</td>\n      <td>1.22900</td>\n      <td>0.35800</td>\n      <td>0.87100</td>\n      <td>100.000</td>\n      <td>100.000</td>\n      <td>0.9740</td>\n      <td>0.92620</td>\n      <td>1.818750</td>\n      <td>0.145421</td>\n      <td>0.030666</td>\n      <td>2.147221</td>\n      <td>0.263774</td>\n      <td>0.077600</td>\n    </tr>\n    <tr>\n      <th>19</th>\n      <td>\\ENSUSDT\\plots\\2022-05-07T152121\\backtest_resu...</td>\n      <td>False</td>\n      <td>ENSUSDT</td>\n      <td>0.13880</td>\n      <td>0.00880</td>\n      <td>0.13000</td>\n      <td>100.000</td>\n      <td>100.000</td>\n      <td>0.9000</td>\n      <td>0.94020</td>\n      <td>14.884042</td>\n      <td>0.903903</td>\n      <td>0.181886</td>\n      <td>4.196542</td>\n      <td>0.305193</td>\n      <td>0.055238</td>\n    </tr>\n    <tr>\n      <th>22</th>\n      <td>\\ENSUSDT\\plots\\2022-05-07T203414\\backtest_resu...</td>\n      <td>False</td>\n      <td>ENSUSDT</td>\n      <td>0.24210</td>\n      <td>0.03010</td>\n      <td>0.21200</td>\n      <td>100.000</td>\n      <td>100.000</td>\n      <td>0.9046</td>\n      <td>0.94040</td>\n      <td>12.019458</td>\n      <td>0.664006</td>\n      <td>0.141741</td>\n      <td>24.206958</td>\n      <td>0.395489</td>\n      <td>0.083187</td>\n    </tr>\n    <tr>\n      <th>23</th>\n      <td>\\ENSUSDT\\plots\\2022-05-07T215214\\backtest_resu...</td>\n      <td>False</td>\n      <td>ENSUSDT</td>\n      <td>-2.64300</td>\n      <td>-2.89000</td>\n      <td>0.24700</td>\n      <td>5.943</td>\n      <td>100.000</td>\n      <td>0.9193</td>\n      <td>0.87140</td>\n      <td>130.310417</td>\n      <td>0.245095</td>\n      <td>0.059855</td>\n      <td>17.924292</td>\n      <td>0.344357</td>\n      <td>0.065024</td>\n    </tr>\n    <tr>\n      <th>24</th>\n      <td>\\FTMUSDT\\plots\\2022-05-07T094414\\backtest_resu...</td>\n      <td>False</td>\n      <td>FTMUSDT</td>\n      <td>-0.13422</td>\n      <td>-0.00822</td>\n      <td>-0.12600</td>\n      <td>100.000</td>\n      <td>35.490</td>\n      <td>0.8597</td>\n      <td>0.31720</td>\n      <td>26.263875</td>\n      <td>1.089540</td>\n      <td>0.147665</td>\n      <td>29.609708</td>\n      <td>0.772699</td>\n      <td>0.202592</td>\n    </tr>\n    <tr>\n      <th>25</th>\n      <td>\\FTMUSDT\\plots\\2022-05-07T174221\\backtest_resu...</td>\n      <td>False</td>\n      <td>FTMUSDT</td>\n      <td>0.07570</td>\n      <td>0.04120</td>\n      <td>0.03450</td>\n      <td>100.000</td>\n      <td>100.000</td>\n      <td>0.9215</td>\n      <td>0.91560</td>\n      <td>49.697917</td>\n      <td>1.344360</td>\n      <td>0.204583</td>\n      <td>22.834708</td>\n      <td>0.512726</td>\n      <td>0.089732</td>\n    </tr>\n    <tr>\n      <th>29</th>\n      <td>\\FTMUSDT\\plots\\2022-05-07T214628\\backtest_resu...</td>\n      <td>False</td>\n      <td>FTMUSDT</td>\n      <td>0.05060</td>\n      <td>0.12700</td>\n      <td>-0.07640</td>\n      <td>100.000</td>\n      <td>95.110</td>\n      <td>0.8869</td>\n      <td>0.58240</td>\n      <td>6.284708</td>\n      <td>0.778049</td>\n      <td>0.051267</td>\n      <td>25.894458</td>\n      <td>0.764870</td>\n      <td>0.185353</td>\n    </tr>\n    <tr>\n      <th>30</th>\n      <td>\\GALAUSDT\\plots\\2022-05-07T203228\\backtest_res...</td>\n      <td>False</td>\n      <td>GALAUSDT</td>\n      <td>0.00300</td>\n      <td>0.00154</td>\n      <td>0.00146</td>\n      <td>100.000</td>\n      <td>100.000</td>\n      <td>0.9569</td>\n      <td>0.85530</td>\n      <td>120.058333</td>\n      <td>2.776500</td>\n      <td>0.566289</td>\n      <td>170.997083</td>\n      <td>0.865062</td>\n      <td>0.241457</td>\n    </tr>\n    <tr>\n      <th>31</th>\n      <td>\\GALAUSDT\\plots\\2022-05-07T203326\\backtest_res...</td>\n      <td>False</td>\n      <td>GALAUSDT</td>\n      <td>0.00004</td>\n      <td>-0.00157</td>\n      <td>0.00161</td>\n      <td>100.000</td>\n      <td>100.000</td>\n      <td>0.9508</td>\n      <td>0.85550</td>\n      <td>14.219458</td>\n      <td>0.833204</td>\n      <td>0.070274</td>\n      <td>170.927917</td>\n      <td>0.863681</td>\n      <td>0.245510</td>\n    </tr>\n    <tr>\n      <th>32</th>\n      <td>\\GALAUSDT\\plots\\2022-05-07T215045\\backtest_res...</td>\n      <td>False</td>\n      <td>GALAUSDT</td>\n      <td>-2.38200</td>\n      <td>-0.40200</td>\n      <td>-1.98000</td>\n      <td>100.000</td>\n      <td>5.966</td>\n      <td>0.8893</td>\n      <td>0.07971</td>\n      <td>28.025708</td>\n      <td>0.995943</td>\n      <td>0.148257</td>\n      <td>160.957083</td>\n      <td>0.816891</td>\n      <td>0.197131</td>\n    </tr>\n    <tr>\n      <th>33</th>\n      <td>\\GMTUSDT\\plots\\2022-05-07T214754\\backtest_resu...</td>\n      <td>False</td>\n      <td>GMTUSDT</td>\n      <td>0.20260</td>\n      <td>0.17900</td>\n      <td>0.02360</td>\n      <td>100.000</td>\n      <td>100.000</td>\n      <td>0.9395</td>\n      <td>0.84100</td>\n      <td>7.352083</td>\n      <td>0.407919</td>\n      <td>0.046019</td>\n      <td>8.466667</td>\n      <td>0.769900</td>\n      <td>0.205532</td>\n    </tr>\n    <tr>\n      <th>34</th>\n      <td>\\GMTUSDT\\plots\\2022-05-07T215620\\backtest_resu...</td>\n      <td>False</td>\n      <td>GMTUSDT</td>\n      <td>0.17800</td>\n      <td>0.38000</td>\n      <td>-0.20200</td>\n      <td>100.000</td>\n      <td>100.000</td>\n      <td>0.9382</td>\n      <td>0.62670</td>\n      <td>6.593750</td>\n      <td>0.460715</td>\n      <td>0.056203</td>\n      <td>15.027083</td>\n      <td>0.613520</td>\n      <td>0.186689</td>\n    </tr>\n    <tr>\n      <th>35</th>\n      <td>\\KNCUSDT\\plots\\2022-05-07T205020\\backtest_resu...</td>\n      <td>False</td>\n      <td>KNCUSDT</td>\n      <td>-1.47797</td>\n      <td>-1.48000</td>\n      <td>0.00203</td>\n      <td>5.954</td>\n      <td>100.000</td>\n      <td>0.8944</td>\n      <td>0.97840</td>\n      <td>15.202083</td>\n      <td>0.547181</td>\n      <td>0.049908</td>\n      <td>55.938750</td>\n      <td>0.571460</td>\n      <td>0.127670</td>\n    </tr>\n    <tr>\n      <th>36</th>\n      <td>\\KNCUSDT\\plots\\2022-05-07T215456\\backtest_resu...</td>\n      <td>False</td>\n      <td>KNCUSDT</td>\n      <td>0.13200</td>\n      <td>0.08010</td>\n      <td>0.05190</td>\n      <td>100.000</td>\n      <td>100.000</td>\n      <td>0.9144</td>\n      <td>0.93500</td>\n      <td>15.750000</td>\n      <td>0.663173</td>\n      <td>0.069606</td>\n      <td>14.991667</td>\n      <td>0.238605</td>\n      <td>0.038745</td>\n    </tr>\n    <tr>\n      <th>37</th>\n      <td>\\LUNAUSDT\\plots\\2022-05-07T165944\\backtest_res...</td>\n      <td>False</td>\n      <td>LUNAUSDT</td>\n      <td>0.14497</td>\n      <td>0.14000</td>\n      <td>0.00497</td>\n      <td>100.000</td>\n      <td>70.220</td>\n      <td>0.8400</td>\n      <td>0.63960</td>\n      <td>23.239583</td>\n      <td>0.868705</td>\n      <td>0.125353</td>\n      <td>37.730542</td>\n      <td>0.631213</td>\n      <td>0.149923</td>\n    </tr>\n    <tr>\n      <th>40</th>\n      <td>\\LUNAUSDT\\plots\\2022-05-07T214203\\backtest_res...</td>\n      <td>False</td>\n      <td>LUNAUSDT</td>\n      <td>-3.62000</td>\n      <td>-1.81000</td>\n      <td>-1.81000</td>\n      <td>6.585</td>\n      <td>5.995</td>\n      <td>0.4415</td>\n      <td>0.07593</td>\n      <td>19.047208</td>\n      <td>0.644501</td>\n      <td>0.101905</td>\n      <td>105.088333</td>\n      <td>0.758047</td>\n      <td>0.181230</td>\n    </tr>\n    <tr>\n      <th>41</th>\n      <td>\\NEARUSDT\\plots\\2022-05-07T200043\\backtest_res...</td>\n      <td>False</td>\n      <td>NEARUSDT</td>\n      <td>0.06559</td>\n      <td>0.05930</td>\n      <td>0.00629</td>\n      <td>100.000</td>\n      <td>100.000</td>\n      <td>0.9466</td>\n      <td>0.94060</td>\n      <td>14.337500</td>\n      <td>1.019750</td>\n      <td>0.119662</td>\n      <td>29.392375</td>\n      <td>0.683073</td>\n      <td>0.130101</td>\n    </tr>\n    <tr>\n      <th>42</th>\n      <td>\\NEARUSDT\\plots\\2022-05-07T214941\\backtest_res...</td>\n      <td>False</td>\n      <td>NEARUSDT</td>\n      <td>0.16311</td>\n      <td>0.15500</td>\n      <td>0.00811</td>\n      <td>100.000</td>\n      <td>100.000</td>\n      <td>0.9189</td>\n      <td>0.82390</td>\n      <td>4.941667</td>\n      <td>0.633562</td>\n      <td>0.044253</td>\n      <td>13.115292</td>\n      <td>0.464745</td>\n      <td>0.101066</td>\n    </tr>\n    <tr>\n      <th>43</th>\n      <td>\\SANDUSDT\\plots\\2022-05-07T101741\\backtest_res...</td>\n      <td>False</td>\n      <td>SANDUSDT</td>\n      <td>0.09690</td>\n      <td>0.08620</td>\n      <td>0.01070</td>\n      <td>100.000</td>\n      <td>38.730</td>\n      <td>0.8860</td>\n      <td>0.36240</td>\n      <td>14.779875</td>\n      <td>0.702720</td>\n      <td>0.056318</td>\n      <td>40.350000</td>\n      <td>0.726073</td>\n      <td>0.169311</td>\n    </tr>\n    <tr>\n      <th>44</th>\n      <td>\\SANDUSDT\\plots\\2022-05-07T170200\\backtest_res...</td>\n      <td>False</td>\n      <td>SANDUSDT</td>\n      <td>-0.00232</td>\n      <td>0.00958</td>\n      <td>-0.01190</td>\n      <td>100.000</td>\n      <td>79.390</td>\n      <td>0.8749</td>\n      <td>0.45270</td>\n      <td>6.877792</td>\n      <td>0.729291</td>\n      <td>0.063198</td>\n      <td>307.350833</td>\n      <td>0.972587</td>\n      <td>0.165576</td>\n    </tr>\n    <tr>\n      <th>48</th>\n      <td>\\SANDUSDT\\plots\\2022-05-07T214327\\backtest_res...</td>\n      <td>False</td>\n      <td>SANDUSDT</td>\n      <td>-1.43840</td>\n      <td>-1.48000</td>\n      <td>0.04160</td>\n      <td>5.951</td>\n      <td>33.620</td>\n      <td>-366400.0000</td>\n      <td>0.31320</td>\n      <td>162.127917</td>\n      <td>2.972280</td>\n      <td>0.651628</td>\n      <td>95.350000</td>\n      <td>0.743396</td>\n      <td>0.158335</td>\n    </tr>\n    <tr>\n      <th>49</th>\n      <td>\\SOLUSDT\\plots\\2022-05-07T115510\\backtest_resu...</td>\n      <td>False</td>\n      <td>SOLUSDT</td>\n      <td>-1.28900</td>\n      <td>0.19100</td>\n      <td>-1.48000</td>\n      <td>100.000</td>\n      <td>5.939</td>\n      <td>0.7460</td>\n      <td>0.31310</td>\n      <td>18.984708</td>\n      <td>0.908642</td>\n      <td>0.133734</td>\n      <td>254.313750</td>\n      <td>0.617166</td>\n      <td>0.130658</td>\n    </tr>\n    <tr>\n      <th>50</th>\n      <td>\\SOLUSDT\\plots\\2022-05-07T153037\\backtest_resu...</td>\n      <td>False</td>\n      <td>SOLUSDT</td>\n      <td>-1.30400</td>\n      <td>0.17600</td>\n      <td>-1.48000</td>\n      <td>100.000</td>\n      <td>5.940</td>\n      <td>0.7471</td>\n      <td>0.50370</td>\n      <td>19.850000</td>\n      <td>0.905556</td>\n      <td>0.141433</td>\n      <td>252.687500</td>\n      <td>0.458711</td>\n      <td>0.082296</td>\n    </tr>\n    <tr>\n      <th>54</th>\n      <td>\\TRXUSDT\\plots\\2022-05-07T120526\\backtest_resu...</td>\n      <td>False</td>\n      <td>TRXUSDT</td>\n      <td>0.03423</td>\n      <td>0.02690</td>\n      <td>0.00733</td>\n      <td>100.000</td>\n      <td>100.000</td>\n      <td>0.9716</td>\n      <td>0.88850</td>\n      <td>47.191667</td>\n      <td>0.240741</td>\n      <td>0.046572</td>\n      <td>32.125000</td>\n      <td>0.354219</td>\n      <td>0.061786</td>\n    </tr>\n    <tr>\n      <th>55</th>\n      <td>\\TRXUSDT\\plots\\2022-05-07T153316\\backtest_resu...</td>\n      <td>False</td>\n      <td>TRXUSDT</td>\n      <td>0.01407</td>\n      <td>0.00973</td>\n      <td>0.00434</td>\n      <td>100.000</td>\n      <td>100.000</td>\n      <td>0.9844</td>\n      <td>0.98660</td>\n      <td>40.434042</td>\n      <td>0.275790</td>\n      <td>0.044398</td>\n      <td>35.996542</td>\n      <td>0.346961</td>\n      <td>0.053466</td>\n    </tr>\n    <tr>\n      <th>59</th>\n      <td>\\WAVESUSDT\\plots\\2022-05-07T204439\\backtest_re...</td>\n      <td>False</td>\n      <td>WAVESUSDT</td>\n      <td>0.01876</td>\n      <td>0.01350</td>\n      <td>0.00526</td>\n      <td>100.000</td>\n      <td>100.000</td>\n      <td>0.7819</td>\n      <td>0.81540</td>\n      <td>39.465958</td>\n      <td>3.630230</td>\n      <td>0.614739</td>\n      <td>10.395833</td>\n      <td>0.470393</td>\n      <td>0.078651</td>\n    </tr>\n    <tr>\n      <th>60</th>\n      <td>\\WAVESUSDT\\plots\\2022-05-07T215331\\backtest_re...</td>\n      <td>False</td>\n      <td>WAVESUSDT</td>\n      <td>0.14751</td>\n      <td>0.00251</td>\n      <td>0.14500</td>\n      <td>100.000</td>\n      <td>14.230</td>\n      <td>0.8732</td>\n      <td>0.16340</td>\n      <td>13.802083</td>\n      <td>0.872696</td>\n      <td>0.087081</td>\n      <td>77.715833</td>\n      <td>0.786886</td>\n      <td>0.181223</td>\n    </tr>\n    <tr>\n      <th>61</th>\n      <td>\\XRPUSDT\\plots\\2022-05-07T102305\\backtest_resu...</td>\n      <td>False</td>\n      <td>XRPUSDT</td>\n      <td>0.02515</td>\n      <td>0.03170</td>\n      <td>-0.00655</td>\n      <td>100.000</td>\n      <td>100.000</td>\n      <td>0.9418</td>\n      <td>0.77670</td>\n      <td>29.554875</td>\n      <td>0.377257</td>\n      <td>0.058584</td>\n      <td>61.601250</td>\n      <td>0.477048</td>\n      <td>0.113785</td>\n    </tr>\n    <tr>\n      <th>62</th>\n      <td>\\XRPUSDT\\plots\\2022-05-07T102516\\backtest_resu...</td>\n      <td>False</td>\n      <td>XRPUSDT</td>\n      <td>-0.02210</td>\n      <td>-0.03280</td>\n      <td>0.01070</td>\n      <td>100.000</td>\n      <td>100.000</td>\n      <td>0.9172</td>\n      <td>0.78050</td>\n      <td>25.038875</td>\n      <td>0.483478</td>\n      <td>0.047929</td>\n      <td>33.511125</td>\n      <td>0.490509</td>\n      <td>0.070264</td>\n    </tr>\n    <tr>\n      <th>63</th>\n      <td>\\XRPUSDT\\plots\\2022-05-07T152334\\backtest_resu...</td>\n      <td>False</td>\n      <td>XRPUSDT</td>\n      <td>0.01513</td>\n      <td>0.00536</td>\n      <td>0.00977</td>\n      <td>100.000</td>\n      <td>100.000</td>\n      <td>0.9546</td>\n      <td>0.94790</td>\n      <td>85.002917</td>\n      <td>0.596623</td>\n      <td>0.102911</td>\n      <td>27.393750</td>\n      <td>0.582678</td>\n      <td>0.111373</td>\n    </tr>\n    <tr>\n      <th>64</th>\n      <td>\\XRPUSDT\\plots\\2022-05-07T152616\\backtest_resu...</td>\n      <td>False</td>\n      <td>XRPUSDT</td>\n      <td>0.03090</td>\n      <td>0.01380</td>\n      <td>0.01710</td>\n      <td>100.000</td>\n      <td>100.000</td>\n      <td>0.9413</td>\n      <td>0.94780</td>\n      <td>73.737500</td>\n      <td>0.857247</td>\n      <td>0.167794</td>\n      <td>34.750000</td>\n      <td>0.586979</td>\n      <td>0.103187</td>\n    </tr>\n  </tbody>\n</table>\n</div>"
     },
     "execution_count": 40,
     "metadata": {},
     "output_type": "execute_result"
    }
   ],
   "source": [
    "df.drop_duplicates(\n",
    "    subset=['s', 'prod', 'tgl_%', 'tgs_%', 'adgl_%', 'adgs_%', 'adgt_%', 'bnkrl_%', 'bnkrs_%', 'ebrl', 'ebrs', 'long',\n",
    "            'short'], keep='first',\n",
    "    inplace=True)\n",
    "dx = df[['file', 'prod', 's', 'adgt_%', 'adgl_%', 'adgs_%', 'bnkrl_%', 'bnkrs_%', 'ebrl', 'ebrs', 'maxsl', 'pamaxl','pastdl',\n",
    "         'maxss', 'pamaxs','pastds' ]]\n",
    "dx"
   ]
  },
  {
   "cell_type": "code",
   "execution_count": 42,
   "metadata": {
    "pycharm": {
     "name": "#%%\n"
    }
   },
   "outputs": [
    {
     "data": {
      "text/plain": "                                                 file         s  adgl_%  \\\n6   \\ALGOUSDT\\plots\\2022-05-07T214805\\backtest_res...  ALGOUSDT  0.0601   \n8   \\APEUSDT\\plots\\2022-05-07T215554\\backtest_resu...   APEUSDT  0.1140   \n13  \\AXSUSDT\\plots\\2022-05-07T160614\\backtest_resu...   AXSUSDT  0.1040   \n16  \\AXSUSDT\\plots\\2022-05-07T214040\\backtest_resu...   AXSUSDT  0.0854   \n17  \\DARUSDT\\plots\\2022-05-07T214905\\backtest_resu...   DARUSDT  0.2190   \n18  \\DARUSDT\\plots\\2022-05-07T215643\\backtest_resu...   DARUSDT  0.3580   \n29  \\FTMUSDT\\plots\\2022-05-07T214628\\backtest_resu...   FTMUSDT  0.1270   \n33  \\GMTUSDT\\plots\\2022-05-07T214754\\backtest_resu...   GMTUSDT  0.1790   \n34  \\GMTUSDT\\plots\\2022-05-07T215620\\backtest_resu...   GMTUSDT  0.3800   \n36  \\KNCUSDT\\plots\\2022-05-07T215456\\backtest_resu...   KNCUSDT  0.0801   \n41  \\NEARUSDT\\plots\\2022-05-07T200043\\backtest_res...  NEARUSDT  0.0593   \n42  \\NEARUSDT\\plots\\2022-05-07T214941\\backtest_res...  NEARUSDT  0.1550   \n43  \\SANDUSDT\\plots\\2022-05-07T101741\\backtest_res...  SANDUSDT  0.0862   \n49  \\SOLUSDT\\plots\\2022-05-07T115510\\backtest_resu...   SOLUSDT  0.1910   \n50  \\SOLUSDT\\plots\\2022-05-07T153037\\backtest_resu...   SOLUSDT  0.1760   \n\n    bnkrl_%    ebrl      maxsl    pamaxl    pastdl  \n6     100.0  0.9316  16.115292  0.514621  0.035039  \n8     100.0  0.9158  10.126375  0.511342  0.106202  \n13    100.0  0.8538   8.571542  0.578457  0.095039  \n16    100.0  0.8360  15.695833  0.787773  0.151305  \n17    100.0  0.9903   2.056946  0.150389  0.033358  \n18    100.0  0.9740   1.818750  0.145421  0.030666  \n29    100.0  0.8869   6.284708  0.778049  0.051267  \n33    100.0  0.9395   7.352083  0.407919  0.046019  \n34    100.0  0.9382   6.593750  0.460715  0.056203  \n36    100.0  0.9144  15.750000  0.663173  0.069606  \n41    100.0  0.9466  14.337500  1.019750  0.119662  \n42    100.0  0.9189   4.941667  0.633562  0.044253  \n43    100.0  0.8860  14.779875  0.702720  0.056318  \n49    100.0  0.7460  18.984708  0.908642  0.133734  \n50    100.0  0.7471  19.850000  0.905556  0.141433  ",
      "text/html": "<div>\n<style scoped>\n    .dataframe tbody tr th:only-of-type {\n        vertical-align: middle;\n    }\n\n    .dataframe tbody tr th {\n        vertical-align: top;\n    }\n\n    .dataframe thead th {\n        text-align: right;\n    }\n</style>\n<table border=\"1\" class=\"dataframe\">\n  <thead>\n    <tr style=\"text-align: right;\">\n      <th></th>\n      <th>file</th>\n      <th>s</th>\n      <th>adgl_%</th>\n      <th>bnkrl_%</th>\n      <th>ebrl</th>\n      <th>maxsl</th>\n      <th>pamaxl</th>\n      <th>pastdl</th>\n    </tr>\n  </thead>\n  <tbody>\n    <tr>\n      <th>6</th>\n      <td>\\ALGOUSDT\\plots\\2022-05-07T214805\\backtest_res...</td>\n      <td>ALGOUSDT</td>\n      <td>0.0601</td>\n      <td>100.0</td>\n      <td>0.9316</td>\n      <td>16.115292</td>\n      <td>0.514621</td>\n      <td>0.035039</td>\n    </tr>\n    <tr>\n      <th>8</th>\n      <td>\\APEUSDT\\plots\\2022-05-07T215554\\backtest_resu...</td>\n      <td>APEUSDT</td>\n      <td>0.1140</td>\n      <td>100.0</td>\n      <td>0.9158</td>\n      <td>10.126375</td>\n      <td>0.511342</td>\n      <td>0.106202</td>\n    </tr>\n    <tr>\n      <th>13</th>\n      <td>\\AXSUSDT\\plots\\2022-05-07T160614\\backtest_resu...</td>\n      <td>AXSUSDT</td>\n      <td>0.1040</td>\n      <td>100.0</td>\n      <td>0.8538</td>\n      <td>8.571542</td>\n      <td>0.578457</td>\n      <td>0.095039</td>\n    </tr>\n    <tr>\n      <th>16</th>\n      <td>\\AXSUSDT\\plots\\2022-05-07T214040\\backtest_resu...</td>\n      <td>AXSUSDT</td>\n      <td>0.0854</td>\n      <td>100.0</td>\n      <td>0.8360</td>\n      <td>15.695833</td>\n      <td>0.787773</td>\n      <td>0.151305</td>\n    </tr>\n    <tr>\n      <th>17</th>\n      <td>\\DARUSDT\\plots\\2022-05-07T214905\\backtest_resu...</td>\n      <td>DARUSDT</td>\n      <td>0.2190</td>\n      <td>100.0</td>\n      <td>0.9903</td>\n      <td>2.056946</td>\n      <td>0.150389</td>\n      <td>0.033358</td>\n    </tr>\n    <tr>\n      <th>18</th>\n      <td>\\DARUSDT\\plots\\2022-05-07T215643\\backtest_resu...</td>\n      <td>DARUSDT</td>\n      <td>0.3580</td>\n      <td>100.0</td>\n      <td>0.9740</td>\n      <td>1.818750</td>\n      <td>0.145421</td>\n      <td>0.030666</td>\n    </tr>\n    <tr>\n      <th>29</th>\n      <td>\\FTMUSDT\\plots\\2022-05-07T214628\\backtest_resu...</td>\n      <td>FTMUSDT</td>\n      <td>0.1270</td>\n      <td>100.0</td>\n      <td>0.8869</td>\n      <td>6.284708</td>\n      <td>0.778049</td>\n      <td>0.051267</td>\n    </tr>\n    <tr>\n      <th>33</th>\n      <td>\\GMTUSDT\\plots\\2022-05-07T214754\\backtest_resu...</td>\n      <td>GMTUSDT</td>\n      <td>0.1790</td>\n      <td>100.0</td>\n      <td>0.9395</td>\n      <td>7.352083</td>\n      <td>0.407919</td>\n      <td>0.046019</td>\n    </tr>\n    <tr>\n      <th>34</th>\n      <td>\\GMTUSDT\\plots\\2022-05-07T215620\\backtest_resu...</td>\n      <td>GMTUSDT</td>\n      <td>0.3800</td>\n      <td>100.0</td>\n      <td>0.9382</td>\n      <td>6.593750</td>\n      <td>0.460715</td>\n      <td>0.056203</td>\n    </tr>\n    <tr>\n      <th>36</th>\n      <td>\\KNCUSDT\\plots\\2022-05-07T215456\\backtest_resu...</td>\n      <td>KNCUSDT</td>\n      <td>0.0801</td>\n      <td>100.0</td>\n      <td>0.9144</td>\n      <td>15.750000</td>\n      <td>0.663173</td>\n      <td>0.069606</td>\n    </tr>\n    <tr>\n      <th>41</th>\n      <td>\\NEARUSDT\\plots\\2022-05-07T200043\\backtest_res...</td>\n      <td>NEARUSDT</td>\n      <td>0.0593</td>\n      <td>100.0</td>\n      <td>0.9466</td>\n      <td>14.337500</td>\n      <td>1.019750</td>\n      <td>0.119662</td>\n    </tr>\n    <tr>\n      <th>42</th>\n      <td>\\NEARUSDT\\plots\\2022-05-07T214941\\backtest_res...</td>\n      <td>NEARUSDT</td>\n      <td>0.1550</td>\n      <td>100.0</td>\n      <td>0.9189</td>\n      <td>4.941667</td>\n      <td>0.633562</td>\n      <td>0.044253</td>\n    </tr>\n    <tr>\n      <th>43</th>\n      <td>\\SANDUSDT\\plots\\2022-05-07T101741\\backtest_res...</td>\n      <td>SANDUSDT</td>\n      <td>0.0862</td>\n      <td>100.0</td>\n      <td>0.8860</td>\n      <td>14.779875</td>\n      <td>0.702720</td>\n      <td>0.056318</td>\n    </tr>\n    <tr>\n      <th>49</th>\n      <td>\\SOLUSDT\\plots\\2022-05-07T115510\\backtest_resu...</td>\n      <td>SOLUSDT</td>\n      <td>0.1910</td>\n      <td>100.0</td>\n      <td>0.7460</td>\n      <td>18.984708</td>\n      <td>0.908642</td>\n      <td>0.133734</td>\n    </tr>\n    <tr>\n      <th>50</th>\n      <td>\\SOLUSDT\\plots\\2022-05-07T153037\\backtest_resu...</td>\n      <td>SOLUSDT</td>\n      <td>0.1760</td>\n      <td>100.0</td>\n      <td>0.7471</td>\n      <td>19.850000</td>\n      <td>0.905556</td>\n      <td>0.141433</td>\n    </tr>\n  </tbody>\n</table>\n</div>"
     },
     "execution_count": 42,
     "metadata": {},
     "output_type": "execute_result"
    }
   ],
   "source": [
    "dl_proposed = dx[\n",
    "    #(dx['lm'] == 'n') &\n",
    "    (dx['bnkrl_%'] == 100) &\n",
    "    (dx['ebrl'] > 0.7) &\n",
    "     (dx['adgl_%'] > 0.04) &\n",
    "    #(dx['pastdl'] < 0.1) &\n",
    "    (dx['maxsl'] < 20)\n",
    "    ]\n",
    "dl_proposed = dl_proposed[['file','s','adgl_%', 'bnkrl_%', 'ebrl',  'maxsl', 'pamaxl','pastdl' ]]\n",
    "dl_proposed"
   ]
  },
  {
   "cell_type": "code",
   "execution_count": 43,
   "outputs": [
    {
     "data": {
      "text/plain": "                                                 file        s  adgs_%  \\\n17  \\DARUSDT\\plots\\2022-05-07T214905\\backtest_resu...  DARUSDT  0.0890   \n18  \\DARUSDT\\plots\\2022-05-07T215643\\backtest_resu...  DARUSDT  0.8710   \n19  \\ENSUSDT\\plots\\2022-05-07T152121\\backtest_resu...  ENSUSDT  0.1300   \n23  \\ENSUSDT\\plots\\2022-05-07T215214\\backtest_resu...  ENSUSDT  0.2470   \n36  \\KNCUSDT\\plots\\2022-05-07T215456\\backtest_resu...  KNCUSDT  0.0519   \n\n    bnkrs_%    ebrs      maxss    pamaxs    pastds  \n17    100.0  0.9930   2.211113  0.214257  0.055038  \n18    100.0  0.9262   2.147221  0.263774  0.077600  \n19    100.0  0.9402   4.196542  0.305193  0.055238  \n23    100.0  0.8714  17.924292  0.344357  0.065024  \n36    100.0  0.9350  14.991667  0.238605  0.038745  ",
      "text/html": "<div>\n<style scoped>\n    .dataframe tbody tr th:only-of-type {\n        vertical-align: middle;\n    }\n\n    .dataframe tbody tr th {\n        vertical-align: top;\n    }\n\n    .dataframe thead th {\n        text-align: right;\n    }\n</style>\n<table border=\"1\" class=\"dataframe\">\n  <thead>\n    <tr style=\"text-align: right;\">\n      <th></th>\n      <th>file</th>\n      <th>s</th>\n      <th>adgs_%</th>\n      <th>bnkrs_%</th>\n      <th>ebrs</th>\n      <th>maxss</th>\n      <th>pamaxs</th>\n      <th>pastds</th>\n    </tr>\n  </thead>\n  <tbody>\n    <tr>\n      <th>17</th>\n      <td>\\DARUSDT\\plots\\2022-05-07T214905\\backtest_resu...</td>\n      <td>DARUSDT</td>\n      <td>0.0890</td>\n      <td>100.0</td>\n      <td>0.9930</td>\n      <td>2.211113</td>\n      <td>0.214257</td>\n      <td>0.055038</td>\n    </tr>\n    <tr>\n      <th>18</th>\n      <td>\\DARUSDT\\plots\\2022-05-07T215643\\backtest_resu...</td>\n      <td>DARUSDT</td>\n      <td>0.8710</td>\n      <td>100.0</td>\n      <td>0.9262</td>\n      <td>2.147221</td>\n      <td>0.263774</td>\n      <td>0.077600</td>\n    </tr>\n    <tr>\n      <th>19</th>\n      <td>\\ENSUSDT\\plots\\2022-05-07T152121\\backtest_resu...</td>\n      <td>ENSUSDT</td>\n      <td>0.1300</td>\n      <td>100.0</td>\n      <td>0.9402</td>\n      <td>4.196542</td>\n      <td>0.305193</td>\n      <td>0.055238</td>\n    </tr>\n    <tr>\n      <th>23</th>\n      <td>\\ENSUSDT\\plots\\2022-05-07T215214\\backtest_resu...</td>\n      <td>ENSUSDT</td>\n      <td>0.2470</td>\n      <td>100.0</td>\n      <td>0.8714</td>\n      <td>17.924292</td>\n      <td>0.344357</td>\n      <td>0.065024</td>\n    </tr>\n    <tr>\n      <th>36</th>\n      <td>\\KNCUSDT\\plots\\2022-05-07T215456\\backtest_resu...</td>\n      <td>KNCUSDT</td>\n      <td>0.0519</td>\n      <td>100.0</td>\n      <td>0.9350</td>\n      <td>14.991667</td>\n      <td>0.238605</td>\n      <td>0.038745</td>\n    </tr>\n  </tbody>\n</table>\n</div>"
     },
     "execution_count": 43,
     "metadata": {},
     "output_type": "execute_result"
    }
   ],
   "source": [
    "ds_proposed = dx[\n",
    "    #(dx['lm'] == 'n') &\n",
    "    (dx['bnkrs_%'] == 100) &\n",
    "    (dx['ebrs'] > 0.7) &\n",
    "     (dx['adgs_%'] > 0.04) &\n",
    "    #(dx['pastdl'] < 0.1) &\n",
    "    (dx['maxss'] < 20)\n",
    "    ]\n",
    "ds_proposed = ds_proposed[['file','s','adgs_%', 'bnkrs_%', 'ebrs',  'maxss', 'pamaxs','pastds' ]]\n",
    "ds_proposed"
   ],
   "metadata": {
    "collapsed": false,
    "pycharm": {
     "name": "#%%\n"
    }
   }
  },
  {
   "cell_type": "code",
   "execution_count": null,
   "outputs": [],
   "source": [],
   "metadata": {
    "collapsed": false,
    "pycharm": {
     "name": "#%%\n"
    }
   }
  }
 ],
 "metadata": {
  "kernelspec": {
   "display_name": "PyCharm (passivbot)",
   "language": "python",
   "name": "pycharm-997905a8"
  },
  "language_info": {
   "codemirror_mode": {
    "name": "ipython",
    "version": 3
   },
   "file_extension": ".py",
   "mimetype": "text/x-python",
   "name": "python",
   "nbconvert_exporter": "python",
   "pygments_lexer": "ipython3",
   "version": "3.8.12"
  }
 },
 "nbformat": 4,
 "nbformat_minor": 1
}