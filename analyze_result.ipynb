{
 "cells": [
  {
   "cell_type": "code",
   "execution_count": 6,
   "metadata": {},
   "outputs": [
    {
     "name": "stdout",
     "output_type": "stream",
     "text": [
      "The autoreload extension is already loaded. To reload it, use:\n",
      "  %reload_ext autoreload\n"
     ]
    }
   ],
   "source": [
    "%load_ext autoreload\n",
    "%autoreload 2"
   ]
  },
  {
   "cell_type": "code",
   "execution_count": 7,
   "metadata": {
    "pycharm": {
     "name": "#%%\n"
    }
   },
   "outputs": [],
   "source": [
    "import glob\n",
    "\n",
    "import pandas as pd"
   ]
  },
  {
   "cell_type": "code",
   "execution_count": 8,
   "metadata": {
    "pycharm": {
     "name": "#%%\n"
    }
   },
   "outputs": [
    {
     "name": "stderr",
     "output_type": "stream",
     "text": [
      "C:\\Users\\skhan\\AppData\\Local\\Temp/ipykernel_29512/3399278970.py:47: FutureWarning: The frame.append method is deprecated and will be removed from pandas in a future version. Use pandas.concat instead.\n",
      "  big_data = big_data.append(d, ignore_index=True)\n",
      "C:\\Users\\skhan\\AppData\\Local\\Temp/ipykernel_29512/3399278970.py:47: FutureWarning: The frame.append method is deprecated and will be removed from pandas in a future version. Use pandas.concat instead.\n",
      "  big_data = big_data.append(d, ignore_index=True)\n",
      "C:\\Users\\skhan\\AppData\\Local\\Temp/ipykernel_29512/3399278970.py:47: FutureWarning: The frame.append method is deprecated and will be removed from pandas in a future version. Use pandas.concat instead.\n",
      "  big_data = big_data.append(d, ignore_index=True)\n",
      "C:\\Users\\skhan\\AppData\\Local\\Temp/ipykernel_29512/3399278970.py:47: FutureWarning: The frame.append method is deprecated and will be removed from pandas in a future version. Use pandas.concat instead.\n",
      "  big_data = big_data.append(d, ignore_index=True)\n",
      "C:\\Users\\skhan\\AppData\\Local\\Temp/ipykernel_29512/3399278970.py:47: FutureWarning: The frame.append method is deprecated and will be removed from pandas in a future version. Use pandas.concat instead.\n",
      "  big_data = big_data.append(d, ignore_index=True)\n",
      "C:\\Users\\skhan\\AppData\\Local\\Temp/ipykernel_29512/3399278970.py:47: FutureWarning: The frame.append method is deprecated and will be removed from pandas in a future version. Use pandas.concat instead.\n",
      "  big_data = big_data.append(d, ignore_index=True)\n",
      "C:\\Users\\skhan\\AppData\\Local\\Temp/ipykernel_29512/3399278970.py:47: FutureWarning: The frame.append method is deprecated and will be removed from pandas in a future version. Use pandas.concat instead.\n",
      "  big_data = big_data.append(d, ignore_index=True)\n",
      "C:\\Users\\skhan\\AppData\\Local\\Temp/ipykernel_29512/3399278970.py:47: FutureWarning: The frame.append method is deprecated and will be removed from pandas in a future version. Use pandas.concat instead.\n",
      "  big_data = big_data.append(d, ignore_index=True)\n",
      "C:\\Users\\skhan\\AppData\\Local\\Temp/ipykernel_29512/3399278970.py:47: FutureWarning: The frame.append method is deprecated and will be removed from pandas in a future version. Use pandas.concat instead.\n",
      "  big_data = big_data.append(d, ignore_index=True)\n",
      "C:\\Users\\skhan\\AppData\\Local\\Temp/ipykernel_29512/3399278970.py:47: FutureWarning: The frame.append method is deprecated and will be removed from pandas in a future version. Use pandas.concat instead.\n",
      "  big_data = big_data.append(d, ignore_index=True)\n",
      "C:\\Users\\skhan\\AppData\\Local\\Temp/ipykernel_29512/3399278970.py:47: FutureWarning: The frame.append method is deprecated and will be removed from pandas in a future version. Use pandas.concat instead.\n",
      "  big_data = big_data.append(d, ignore_index=True)\n",
      "C:\\Users\\skhan\\AppData\\Local\\Temp/ipykernel_29512/3399278970.py:47: FutureWarning: The frame.append method is deprecated and will be removed from pandas in a future version. Use pandas.concat instead.\n",
      "  big_data = big_data.append(d, ignore_index=True)\n",
      "C:\\Users\\skhan\\AppData\\Local\\Temp/ipykernel_29512/3399278970.py:47: FutureWarning: The frame.append method is deprecated and will be removed from pandas in a future version. Use pandas.concat instead.\n",
      "  big_data = big_data.append(d, ignore_index=True)\n",
      "C:\\Users\\skhan\\AppData\\Local\\Temp/ipykernel_29512/3399278970.py:47: FutureWarning: The frame.append method is deprecated and will be removed from pandas in a future version. Use pandas.concat instead.\n",
      "  big_data = big_data.append(d, ignore_index=True)\n",
      "C:\\Users\\skhan\\AppData\\Local\\Temp/ipykernel_29512/3399278970.py:47: FutureWarning: The frame.append method is deprecated and will be removed from pandas in a future version. Use pandas.concat instead.\n",
      "  big_data = big_data.append(d, ignore_index=True)\n",
      "C:\\Users\\skhan\\AppData\\Local\\Temp/ipykernel_29512/3399278970.py:47: FutureWarning: The frame.append method is deprecated and will be removed from pandas in a future version. Use pandas.concat instead.\n",
      "  big_data = big_data.append(d, ignore_index=True)\n",
      "C:\\Users\\skhan\\AppData\\Local\\Temp/ipykernel_29512/3399278970.py:47: FutureWarning: The frame.append method is deprecated and will be removed from pandas in a future version. Use pandas.concat instead.\n",
      "  big_data = big_data.append(d, ignore_index=True)\n",
      "C:\\Users\\skhan\\AppData\\Local\\Temp/ipykernel_29512/3399278970.py:47: FutureWarning: The frame.append method is deprecated and will be removed from pandas in a future version. Use pandas.concat instead.\n",
      "  big_data = big_data.append(d, ignore_index=True)\n",
      "C:\\Users\\skhan\\AppData\\Local\\Temp/ipykernel_29512/3399278970.py:47: FutureWarning: The frame.append method is deprecated and will be removed from pandas in a future version. Use pandas.concat instead.\n",
      "  big_data = big_data.append(d, ignore_index=True)\n",
      "C:\\Users\\skhan\\AppData\\Local\\Temp/ipykernel_29512/3399278970.py:47: FutureWarning: The frame.append method is deprecated and will be removed from pandas in a future version. Use pandas.concat instead.\n",
      "  big_data = big_data.append(d, ignore_index=True)\n",
      "C:\\Users\\skhan\\AppData\\Local\\Temp/ipykernel_29512/3399278970.py:47: FutureWarning: The frame.append method is deprecated and will be removed from pandas in a future version. Use pandas.concat instead.\n",
      "  big_data = big_data.append(d, ignore_index=True)\n",
      "C:\\Users\\skhan\\AppData\\Local\\Temp/ipykernel_29512/3399278970.py:47: FutureWarning: The frame.append method is deprecated and will be removed from pandas in a future version. Use pandas.concat instead.\n",
      "  big_data = big_data.append(d, ignore_index=True)\n"
     ]
    },
    {
     "data": {
      "text/plain": "                                                 file    v        s  long  \\\n0   \\BCHUSDT\\plots\\2022-03-19T111042\\backtest_resu...  5.5  BCHUSDT  True   \n1   \\BCHUSDT\\plots\\2022-03-19T132719\\backtest_resu...  5.5  BCHUSDT  True   \n2   \\BCHUSDT\\plots\\2022-03-20T150757\\backtest_resu...  5.5  BCHUSDT  True   \n3   \\BCHUSDT\\plots\\2022-03-20T163708\\backtest_resu...  5.5  BCHUSDT  True   \n4   \\BCHUSDT\\plots\\2022-03-20T170143\\backtest_resu...  5.5  BCHUSDT  True   \n5   \\EOSUSDT\\plots\\2022-03-19T092741\\backtest_resu...  5.5  EOSUSDT  True   \n6   \\EOSUSDT\\plots\\2022-03-19T120225\\backtest_resu...  5.5  EOSUSDT  True   \n7   \\EOSUSDT\\plots\\2022-03-19T142038\\backtest_resu...  5.5  EOSUSDT  True   \n8   \\LTCUSDT\\plots\\2022-03-21T072615\\backtest_resu...  5.5  LTCUSDT  True   \n9   \\LTCUSDT\\plots\\2022-03-21T080736\\backtest_resu...  5.5  LTCUSDT  True   \n10  \\LTCUSDT\\plots\\2022-03-21T083105\\backtest_resu...  5.5  LTCUSDT  True   \n11  \\LTCUSDT\\plots\\2022-03-21T090630\\backtest_resu...  5.5  LTCUSDT  True   \n12  \\XRPUSDT\\plots\\2022-03-19T093421\\backtest_resu...  5.5  XRPUSDT  True   \n13  \\XRPUSDT\\plots\\2022-03-19T102437\\backtest_resu...  5.5  XRPUSDT  True   \n14  \\XRPUSDT\\plots\\2022-03-19T120649\\backtest_resu...  5.5  XRPUSDT  True   \n15  \\XRPUSDT\\plots\\2022-03-19T124422\\backtest_resu...  5.5  XRPUSDT  True   \n16  \\XRPUSDT\\plots\\2022-03-19T142454\\backtest_resu...  5.5  XRPUSDT  True   \n17  \\XTZUSDT\\plots\\2022-03-21T080320\\backtest_resu...  5.5  XTZUSDT  True   \n18  \\XTZUSDT\\plots\\2022-03-21T080423\\backtest_resu...  5.5  XTZUSDT  True   \n19  \\XTZUSDT\\plots\\2022-03-21T090241\\backtest_resu...  5.5  XTZUSDT  True   \n20  \\XTZUSDT\\plots\\2022-03-21T090337\\backtest_resu...  5.5  XTZUSDT  True   \n21  \\XTZUSDT\\plots\\2022-03-21T092843\\backtest_resu...  5.5  XTZUSDT  True   \n\n       tgl_%  adgl_%  bnkrl_%    ebrl  short     tgs_%  adgs_%  bnkrs_%  \\\n0  -4991.000  1.7200    100.0  0.9221   True  -2056.00  1.3600    100.0   \n1  -2870.000  1.4900    100.0  0.9597   True  -4800.00  1.5900    100.0   \n2  -4991.000  1.7200    100.0  0.9221   True  -2056.00  1.3600    100.0   \n3  -3855.000  1.6100    100.0  0.9225   True  -8168.00  1.8900    100.0   \n4  -3855.000  1.6100    100.0  0.9225   True  -8168.00  1.8900    100.0   \n5      3.458 -0.0243    100.0  0.9066   True     24.90  0.1060    100.0   \n6      8.059  0.0354    100.0  0.9837   True     20.56  0.0887    100.0   \n7     12.900  0.0565    100.0  0.9333   True     28.53  0.1220    100.0   \n8  -6618.000  1.7500    100.0  0.9292   True -10950.00  1.8900    100.0   \n9  -3618.000  1.5300    100.0  0.9624   True  -7269.00  1.6800    100.0   \n10 -6618.000  1.7500    100.0  0.9292   True -10950.00  1.8900    100.0   \n11 -3618.000  1.5300    100.0  0.9624   True  -7269.00  1.6800    100.0   \n12 -3386.000  1.3900    100.0  0.9214   True  -2858.00  1.2700    100.0   \n13  -125.200  0.2270    100.0  0.9232   True -12580.00  1.8200    100.0   \n14  -649.100  0.7240    100.0  0.9594   True   -354.30  0.4620    100.0   \n15  -773.500  0.7670    100.0  0.9611   True   -422.20  0.4330    100.0   \n16  -476.400  0.5920    100.0  0.9605   True   -279.10  0.3890    100.0   \n17    11.940  0.0527    100.0  0.9391   True     19.44  0.0852    100.0   \n18    24.550  0.1050    100.0  0.9387   True     17.58  0.0789    100.0   \n19    11.940  0.0527    100.0  0.9391   True     19.44  0.0852    100.0   \n20    24.550  0.1050    100.0  0.9387   True     17.58  0.0789    100.0   \n21    11.930  0.0524    100.0  0.9699   True     22.51  0.0951    100.0   \n\n      ebrs  \n0   0.9467  \n1   0.9580  \n2   0.9467  \n3   0.9470  \n4   0.9470  \n5   0.9437  \n6   0.9563  \n7   0.9408  \n8   0.8981  \n9   0.9458  \n10  0.8981  \n11  0.9458  \n12  0.9253  \n13  0.9259  \n14  0.8957  \n15  0.9439  \n16  0.9501  \n17  0.9350  \n18  0.9396  \n19  0.9350  \n20  0.9396  \n21  0.9584  ",
      "text/html": "<div>\n<style scoped>\n    .dataframe tbody tr th:only-of-type {\n        vertical-align: middle;\n    }\n\n    .dataframe tbody tr th {\n        vertical-align: top;\n    }\n\n    .dataframe thead th {\n        text-align: right;\n    }\n</style>\n<table border=\"1\" class=\"dataframe\">\n  <thead>\n    <tr style=\"text-align: right;\">\n      <th></th>\n      <th>file</th>\n      <th>v</th>\n      <th>s</th>\n      <th>long</th>\n      <th>tgl_%</th>\n      <th>adgl_%</th>\n      <th>bnkrl_%</th>\n      <th>ebrl</th>\n      <th>short</th>\n      <th>tgs_%</th>\n      <th>adgs_%</th>\n      <th>bnkrs_%</th>\n      <th>ebrs</th>\n    </tr>\n  </thead>\n  <tbody>\n    <tr>\n      <th>0</th>\n      <td>\\BCHUSDT\\plots\\2022-03-19T111042\\backtest_resu...</td>\n      <td>5.5</td>\n      <td>BCHUSDT</td>\n      <td>True</td>\n      <td>-4991.000</td>\n      <td>1.7200</td>\n      <td>100.0</td>\n      <td>0.9221</td>\n      <td>True</td>\n      <td>-2056.00</td>\n      <td>1.3600</td>\n      <td>100.0</td>\n      <td>0.9467</td>\n    </tr>\n    <tr>\n      <th>1</th>\n      <td>\\BCHUSDT\\plots\\2022-03-19T132719\\backtest_resu...</td>\n      <td>5.5</td>\n      <td>BCHUSDT</td>\n      <td>True</td>\n      <td>-2870.000</td>\n      <td>1.4900</td>\n      <td>100.0</td>\n      <td>0.9597</td>\n      <td>True</td>\n      <td>-4800.00</td>\n      <td>1.5900</td>\n      <td>100.0</td>\n      <td>0.9580</td>\n    </tr>\n    <tr>\n      <th>2</th>\n      <td>\\BCHUSDT\\plots\\2022-03-20T150757\\backtest_resu...</td>\n      <td>5.5</td>\n      <td>BCHUSDT</td>\n      <td>True</td>\n      <td>-4991.000</td>\n      <td>1.7200</td>\n      <td>100.0</td>\n      <td>0.9221</td>\n      <td>True</td>\n      <td>-2056.00</td>\n      <td>1.3600</td>\n      <td>100.0</td>\n      <td>0.9467</td>\n    </tr>\n    <tr>\n      <th>3</th>\n      <td>\\BCHUSDT\\plots\\2022-03-20T163708\\backtest_resu...</td>\n      <td>5.5</td>\n      <td>BCHUSDT</td>\n      <td>True</td>\n      <td>-3855.000</td>\n      <td>1.6100</td>\n      <td>100.0</td>\n      <td>0.9225</td>\n      <td>True</td>\n      <td>-8168.00</td>\n      <td>1.8900</td>\n      <td>100.0</td>\n      <td>0.9470</td>\n    </tr>\n    <tr>\n      <th>4</th>\n      <td>\\BCHUSDT\\plots\\2022-03-20T170143\\backtest_resu...</td>\n      <td>5.5</td>\n      <td>BCHUSDT</td>\n      <td>True</td>\n      <td>-3855.000</td>\n      <td>1.6100</td>\n      <td>100.0</td>\n      <td>0.9225</td>\n      <td>True</td>\n      <td>-8168.00</td>\n      <td>1.8900</td>\n      <td>100.0</td>\n      <td>0.9470</td>\n    </tr>\n    <tr>\n      <th>5</th>\n      <td>\\EOSUSDT\\plots\\2022-03-19T092741\\backtest_resu...</td>\n      <td>5.5</td>\n      <td>EOSUSDT</td>\n      <td>True</td>\n      <td>3.458</td>\n      <td>-0.0243</td>\n      <td>100.0</td>\n      <td>0.9066</td>\n      <td>True</td>\n      <td>24.90</td>\n      <td>0.1060</td>\n      <td>100.0</td>\n      <td>0.9437</td>\n    </tr>\n    <tr>\n      <th>6</th>\n      <td>\\EOSUSDT\\plots\\2022-03-19T120225\\backtest_resu...</td>\n      <td>5.5</td>\n      <td>EOSUSDT</td>\n      <td>True</td>\n      <td>8.059</td>\n      <td>0.0354</td>\n      <td>100.0</td>\n      <td>0.9837</td>\n      <td>True</td>\n      <td>20.56</td>\n      <td>0.0887</td>\n      <td>100.0</td>\n      <td>0.9563</td>\n    </tr>\n    <tr>\n      <th>7</th>\n      <td>\\EOSUSDT\\plots\\2022-03-19T142038\\backtest_resu...</td>\n      <td>5.5</td>\n      <td>EOSUSDT</td>\n      <td>True</td>\n      <td>12.900</td>\n      <td>0.0565</td>\n      <td>100.0</td>\n      <td>0.9333</td>\n      <td>True</td>\n      <td>28.53</td>\n      <td>0.1220</td>\n      <td>100.0</td>\n      <td>0.9408</td>\n    </tr>\n    <tr>\n      <th>8</th>\n      <td>\\LTCUSDT\\plots\\2022-03-21T072615\\backtest_resu...</td>\n      <td>5.5</td>\n      <td>LTCUSDT</td>\n      <td>True</td>\n      <td>-6618.000</td>\n      <td>1.7500</td>\n      <td>100.0</td>\n      <td>0.9292</td>\n      <td>True</td>\n      <td>-10950.00</td>\n      <td>1.8900</td>\n      <td>100.0</td>\n      <td>0.8981</td>\n    </tr>\n    <tr>\n      <th>9</th>\n      <td>\\LTCUSDT\\plots\\2022-03-21T080736\\backtest_resu...</td>\n      <td>5.5</td>\n      <td>LTCUSDT</td>\n      <td>True</td>\n      <td>-3618.000</td>\n      <td>1.5300</td>\n      <td>100.0</td>\n      <td>0.9624</td>\n      <td>True</td>\n      <td>-7269.00</td>\n      <td>1.6800</td>\n      <td>100.0</td>\n      <td>0.9458</td>\n    </tr>\n    <tr>\n      <th>10</th>\n      <td>\\LTCUSDT\\plots\\2022-03-21T083105\\backtest_resu...</td>\n      <td>5.5</td>\n      <td>LTCUSDT</td>\n      <td>True</td>\n      <td>-6618.000</td>\n      <td>1.7500</td>\n      <td>100.0</td>\n      <td>0.9292</td>\n      <td>True</td>\n      <td>-10950.00</td>\n      <td>1.8900</td>\n      <td>100.0</td>\n      <td>0.8981</td>\n    </tr>\n    <tr>\n      <th>11</th>\n      <td>\\LTCUSDT\\plots\\2022-03-21T090630\\backtest_resu...</td>\n      <td>5.5</td>\n      <td>LTCUSDT</td>\n      <td>True</td>\n      <td>-3618.000</td>\n      <td>1.5300</td>\n      <td>100.0</td>\n      <td>0.9624</td>\n      <td>True</td>\n      <td>-7269.00</td>\n      <td>1.6800</td>\n      <td>100.0</td>\n      <td>0.9458</td>\n    </tr>\n    <tr>\n      <th>12</th>\n      <td>\\XRPUSDT\\plots\\2022-03-19T093421\\backtest_resu...</td>\n      <td>5.5</td>\n      <td>XRPUSDT</td>\n      <td>True</td>\n      <td>-3386.000</td>\n      <td>1.3900</td>\n      <td>100.0</td>\n      <td>0.9214</td>\n      <td>True</td>\n      <td>-2858.00</td>\n      <td>1.2700</td>\n      <td>100.0</td>\n      <td>0.9253</td>\n    </tr>\n    <tr>\n      <th>13</th>\n      <td>\\XRPUSDT\\plots\\2022-03-19T102437\\backtest_resu...</td>\n      <td>5.5</td>\n      <td>XRPUSDT</td>\n      <td>True</td>\n      <td>-125.200</td>\n      <td>0.2270</td>\n      <td>100.0</td>\n      <td>0.9232</td>\n      <td>True</td>\n      <td>-12580.00</td>\n      <td>1.8200</td>\n      <td>100.0</td>\n      <td>0.9259</td>\n    </tr>\n    <tr>\n      <th>14</th>\n      <td>\\XRPUSDT\\plots\\2022-03-19T120649\\backtest_resu...</td>\n      <td>5.5</td>\n      <td>XRPUSDT</td>\n      <td>True</td>\n      <td>-649.100</td>\n      <td>0.7240</td>\n      <td>100.0</td>\n      <td>0.9594</td>\n      <td>True</td>\n      <td>-354.30</td>\n      <td>0.4620</td>\n      <td>100.0</td>\n      <td>0.8957</td>\n    </tr>\n    <tr>\n      <th>15</th>\n      <td>\\XRPUSDT\\plots\\2022-03-19T124422\\backtest_resu...</td>\n      <td>5.5</td>\n      <td>XRPUSDT</td>\n      <td>True</td>\n      <td>-773.500</td>\n      <td>0.7670</td>\n      <td>100.0</td>\n      <td>0.9611</td>\n      <td>True</td>\n      <td>-422.20</td>\n      <td>0.4330</td>\n      <td>100.0</td>\n      <td>0.9439</td>\n    </tr>\n    <tr>\n      <th>16</th>\n      <td>\\XRPUSDT\\plots\\2022-03-19T142454\\backtest_resu...</td>\n      <td>5.5</td>\n      <td>XRPUSDT</td>\n      <td>True</td>\n      <td>-476.400</td>\n      <td>0.5920</td>\n      <td>100.0</td>\n      <td>0.9605</td>\n      <td>True</td>\n      <td>-279.10</td>\n      <td>0.3890</td>\n      <td>100.0</td>\n      <td>0.9501</td>\n    </tr>\n    <tr>\n      <th>17</th>\n      <td>\\XTZUSDT\\plots\\2022-03-21T080320\\backtest_resu...</td>\n      <td>5.5</td>\n      <td>XTZUSDT</td>\n      <td>True</td>\n      <td>11.940</td>\n      <td>0.0527</td>\n      <td>100.0</td>\n      <td>0.9391</td>\n      <td>True</td>\n      <td>19.44</td>\n      <td>0.0852</td>\n      <td>100.0</td>\n      <td>0.9350</td>\n    </tr>\n    <tr>\n      <th>18</th>\n      <td>\\XTZUSDT\\plots\\2022-03-21T080423\\backtest_resu...</td>\n      <td>5.5</td>\n      <td>XTZUSDT</td>\n      <td>True</td>\n      <td>24.550</td>\n      <td>0.1050</td>\n      <td>100.0</td>\n      <td>0.9387</td>\n      <td>True</td>\n      <td>17.58</td>\n      <td>0.0789</td>\n      <td>100.0</td>\n      <td>0.9396</td>\n    </tr>\n    <tr>\n      <th>19</th>\n      <td>\\XTZUSDT\\plots\\2022-03-21T090241\\backtest_resu...</td>\n      <td>5.5</td>\n      <td>XTZUSDT</td>\n      <td>True</td>\n      <td>11.940</td>\n      <td>0.0527</td>\n      <td>100.0</td>\n      <td>0.9391</td>\n      <td>True</td>\n      <td>19.44</td>\n      <td>0.0852</td>\n      <td>100.0</td>\n      <td>0.9350</td>\n    </tr>\n    <tr>\n      <th>20</th>\n      <td>\\XTZUSDT\\plots\\2022-03-21T090337\\backtest_resu...</td>\n      <td>5.5</td>\n      <td>XTZUSDT</td>\n      <td>True</td>\n      <td>24.550</td>\n      <td>0.1050</td>\n      <td>100.0</td>\n      <td>0.9387</td>\n      <td>True</td>\n      <td>17.58</td>\n      <td>0.0789</td>\n      <td>100.0</td>\n      <td>0.9396</td>\n    </tr>\n    <tr>\n      <th>21</th>\n      <td>\\XTZUSDT\\plots\\2022-03-21T092843\\backtest_resu...</td>\n      <td>5.5</td>\n      <td>XTZUSDT</td>\n      <td>True</td>\n      <td>11.930</td>\n      <td>0.0524</td>\n      <td>100.0</td>\n      <td>0.9699</td>\n      <td>True</td>\n      <td>22.51</td>\n      <td>0.0951</td>\n      <td>100.0</td>\n      <td>0.9584</td>\n    </tr>\n  </tbody>\n</table>\n</div>"
     },
     "execution_count": 8,
     "metadata": {},
     "output_type": "execute_result"
    }
   ],
   "source": [
    "big_data = pd.DataFrame()\n",
    "files = glob.iglob('backtests/bybit/' + '**/backtest_result.txt', recursive=True)\n",
    "i = 0\n",
    "for filename in files:\n",
    "    #print(f'parsing : {filename}')\n",
    "    with open(filename, 'r') as file:\n",
    "        data = file.read().split('\\n')\n",
    "        d = {'file': filename.replace('backtests/bybit','')}\n",
    "        current_state = 'long'\n",
    "        for l in data:\n",
    "            l = l.split('|')\n",
    "            if len(l) == 4:\n",
    "                key = l[1].strip()\n",
    "                value = l[2].strip()\n",
    "\n",
    "                if key == 'Passivbot Version':\n",
    "                    d['v'] = value\n",
    "                if key == 'Symbol':\n",
    "                    d['s'] = value\n",
    "\n",
    "                if key == 'Long':\n",
    "                    current_state = 'long'\n",
    "                    d['long'] = bool(value) or False\n",
    "                if key == 'Short':\n",
    "                    current_state = 'short'\n",
    "                    d['short'] = bool(value) or False\n",
    "\n",
    "                if key == 'Total gain' and current_state == 'long':\n",
    "                    d['tgl_%'] = float(value.replace('%', '').strip())\n",
    "                if key == 'Average daily gain' and current_state == 'long':\n",
    "                    d['adgl_%'] = float(value.replace('%', '').strip())\n",
    "                if key == 'Closest bankruptcy' and current_state == 'long':\n",
    "                    d['bnkrl_%'] = float(value.replace('%', '').strip())\n",
    "                if key == 'Lowest equity/balance ratio' and current_state == 'long':\n",
    "                    d['ebrl'] = float(value.replace('%', '').strip())\n",
    "\n",
    "                if key == 'Total gain' and current_state == 'short':\n",
    "                    d['tgs_%'] = float(value.replace('%', '').strip())\n",
    "                if key == 'Average daily gain' and current_state == 'short':\n",
    "                    d['adgs_%'] = float(value.replace('%', '').strip())\n",
    "                if key == 'Closest bankruptcy' and current_state == 'short':\n",
    "                    d['bnkrs_%'] = float(value.replace('%', '').strip())\n",
    "                if key == 'Lowest equity/balance ratio' and current_state == 'short':\n",
    "                    d['ebrs'] = float(value.replace('%', '').strip())\n",
    "\n",
    "        #d['adgt_%'] = d['adgl_%']+d['adgs_%']\n",
    "        big_data = big_data.append(d, ignore_index=True)\n",
    "\n",
    "big_data"
   ]
  },
  {
   "cell_type": "markdown",
   "metadata": {},
   "source": [
    "Now filter the dataframe"
   ]
  },
  {
   "cell_type": "code",
   "execution_count": 9,
   "metadata": {
    "pycharm": {
     "name": "#%%\n"
    }
   },
   "outputs": [
    {
     "data": {
      "text/plain": "                                                 file    v        s  long  \\\n8   \\LTCUSDT\\plots\\2022-03-21T072615\\backtest_resu...  5.5  LTCUSDT  True   \n9   \\LTCUSDT\\plots\\2022-03-21T080736\\backtest_resu...  5.5  LTCUSDT  True   \n10  \\LTCUSDT\\plots\\2022-03-21T083105\\backtest_resu...  5.5  LTCUSDT  True   \n11  \\LTCUSDT\\plots\\2022-03-21T090630\\backtest_resu...  5.5  LTCUSDT  True   \n17  \\XTZUSDT\\plots\\2022-03-21T080320\\backtest_resu...  5.5  XTZUSDT  True   \n18  \\XTZUSDT\\plots\\2022-03-21T080423\\backtest_resu...  5.5  XTZUSDT  True   \n19  \\XTZUSDT\\plots\\2022-03-21T090241\\backtest_resu...  5.5  XTZUSDT  True   \n20  \\XTZUSDT\\plots\\2022-03-21T090337\\backtest_resu...  5.5  XTZUSDT  True   \n21  \\XTZUSDT\\plots\\2022-03-21T092843\\backtest_resu...  5.5  XTZUSDT  True   \n\n      tgl_%  adgl_%  bnkrl_%    ebrl  short     tgs_%  adgs_%  bnkrs_%  \\\n8  -6618.00  1.7500    100.0  0.9292   True -10950.00  1.8900    100.0   \n9  -3618.00  1.5300    100.0  0.9624   True  -7269.00  1.6800    100.0   \n10 -6618.00  1.7500    100.0  0.9292   True -10950.00  1.8900    100.0   \n11 -3618.00  1.5300    100.0  0.9624   True  -7269.00  1.6800    100.0   \n17    11.94  0.0527    100.0  0.9391   True     19.44  0.0852    100.0   \n18    24.55  0.1050    100.0  0.9387   True     17.58  0.0789    100.0   \n19    11.94  0.0527    100.0  0.9391   True     19.44  0.0852    100.0   \n20    24.55  0.1050    100.0  0.9387   True     17.58  0.0789    100.0   \n21    11.93  0.0524    100.0  0.9699   True     22.51  0.0951    100.0   \n\n      ebrs  adgt_%  \n8   0.8981  3.6400  \n9   0.9458  3.2100  \n10  0.8981  3.6400  \n11  0.9458  3.2100  \n17  0.9350  0.1379  \n18  0.9396  0.1839  \n19  0.9350  0.1379  \n20  0.9396  0.1839  \n21  0.9584  0.1475  ",
      "text/html": "<div>\n<style scoped>\n    .dataframe tbody tr th:only-of-type {\n        vertical-align: middle;\n    }\n\n    .dataframe tbody tr th {\n        vertical-align: top;\n    }\n\n    .dataframe thead th {\n        text-align: right;\n    }\n</style>\n<table border=\"1\" class=\"dataframe\">\n  <thead>\n    <tr style=\"text-align: right;\">\n      <th></th>\n      <th>file</th>\n      <th>v</th>\n      <th>s</th>\n      <th>long</th>\n      <th>tgl_%</th>\n      <th>adgl_%</th>\n      <th>bnkrl_%</th>\n      <th>ebrl</th>\n      <th>short</th>\n      <th>tgs_%</th>\n      <th>adgs_%</th>\n      <th>bnkrs_%</th>\n      <th>ebrs</th>\n      <th>adgt_%</th>\n    </tr>\n  </thead>\n  <tbody>\n    <tr>\n      <th>8</th>\n      <td>\\LTCUSDT\\plots\\2022-03-21T072615\\backtest_resu...</td>\n      <td>5.5</td>\n      <td>LTCUSDT</td>\n      <td>True</td>\n      <td>-6618.00</td>\n      <td>1.7500</td>\n      <td>100.0</td>\n      <td>0.9292</td>\n      <td>True</td>\n      <td>-10950.00</td>\n      <td>1.8900</td>\n      <td>100.0</td>\n      <td>0.8981</td>\n      <td>3.6400</td>\n    </tr>\n    <tr>\n      <th>9</th>\n      <td>\\LTCUSDT\\plots\\2022-03-21T080736\\backtest_resu...</td>\n      <td>5.5</td>\n      <td>LTCUSDT</td>\n      <td>True</td>\n      <td>-3618.00</td>\n      <td>1.5300</td>\n      <td>100.0</td>\n      <td>0.9624</td>\n      <td>True</td>\n      <td>-7269.00</td>\n      <td>1.6800</td>\n      <td>100.0</td>\n      <td>0.9458</td>\n      <td>3.2100</td>\n    </tr>\n    <tr>\n      <th>10</th>\n      <td>\\LTCUSDT\\plots\\2022-03-21T083105\\backtest_resu...</td>\n      <td>5.5</td>\n      <td>LTCUSDT</td>\n      <td>True</td>\n      <td>-6618.00</td>\n      <td>1.7500</td>\n      <td>100.0</td>\n      <td>0.9292</td>\n      <td>True</td>\n      <td>-10950.00</td>\n      <td>1.8900</td>\n      <td>100.0</td>\n      <td>0.8981</td>\n      <td>3.6400</td>\n    </tr>\n    <tr>\n      <th>11</th>\n      <td>\\LTCUSDT\\plots\\2022-03-21T090630\\backtest_resu...</td>\n      <td>5.5</td>\n      <td>LTCUSDT</td>\n      <td>True</td>\n      <td>-3618.00</td>\n      <td>1.5300</td>\n      <td>100.0</td>\n      <td>0.9624</td>\n      <td>True</td>\n      <td>-7269.00</td>\n      <td>1.6800</td>\n      <td>100.0</td>\n      <td>0.9458</td>\n      <td>3.2100</td>\n    </tr>\n    <tr>\n      <th>17</th>\n      <td>\\XTZUSDT\\plots\\2022-03-21T080320\\backtest_resu...</td>\n      <td>5.5</td>\n      <td>XTZUSDT</td>\n      <td>True</td>\n      <td>11.94</td>\n      <td>0.0527</td>\n      <td>100.0</td>\n      <td>0.9391</td>\n      <td>True</td>\n      <td>19.44</td>\n      <td>0.0852</td>\n      <td>100.0</td>\n      <td>0.9350</td>\n      <td>0.1379</td>\n    </tr>\n    <tr>\n      <th>18</th>\n      <td>\\XTZUSDT\\plots\\2022-03-21T080423\\backtest_resu...</td>\n      <td>5.5</td>\n      <td>XTZUSDT</td>\n      <td>True</td>\n      <td>24.55</td>\n      <td>0.1050</td>\n      <td>100.0</td>\n      <td>0.9387</td>\n      <td>True</td>\n      <td>17.58</td>\n      <td>0.0789</td>\n      <td>100.0</td>\n      <td>0.9396</td>\n      <td>0.1839</td>\n    </tr>\n    <tr>\n      <th>19</th>\n      <td>\\XTZUSDT\\plots\\2022-03-21T090241\\backtest_resu...</td>\n      <td>5.5</td>\n      <td>XTZUSDT</td>\n      <td>True</td>\n      <td>11.94</td>\n      <td>0.0527</td>\n      <td>100.0</td>\n      <td>0.9391</td>\n      <td>True</td>\n      <td>19.44</td>\n      <td>0.0852</td>\n      <td>100.0</td>\n      <td>0.9350</td>\n      <td>0.1379</td>\n    </tr>\n    <tr>\n      <th>20</th>\n      <td>\\XTZUSDT\\plots\\2022-03-21T090337\\backtest_resu...</td>\n      <td>5.5</td>\n      <td>XTZUSDT</td>\n      <td>True</td>\n      <td>24.55</td>\n      <td>0.1050</td>\n      <td>100.0</td>\n      <td>0.9387</td>\n      <td>True</td>\n      <td>17.58</td>\n      <td>0.0789</td>\n      <td>100.0</td>\n      <td>0.9396</td>\n      <td>0.1839</td>\n    </tr>\n    <tr>\n      <th>21</th>\n      <td>\\XTZUSDT\\plots\\2022-03-21T092843\\backtest_resu...</td>\n      <td>5.5</td>\n      <td>XTZUSDT</td>\n      <td>True</td>\n      <td>11.93</td>\n      <td>0.0524</td>\n      <td>100.0</td>\n      <td>0.9699</td>\n      <td>True</td>\n      <td>22.51</td>\n      <td>0.0951</td>\n      <td>100.0</td>\n      <td>0.9584</td>\n      <td>0.1475</td>\n    </tr>\n  </tbody>\n</table>\n</div>"
     },
     "execution_count": 9,
     "metadata": {},
     "output_type": "execute_result"
    }
   ],
   "source": [
    "allowed_symbols = [\"ETHUSDT\", \"XRPUSDT\", \"1000SHIBUSDT\", \"DOGEUSDT\", \"ADAUSDT\",\n",
    "                   \"BNBUSDT\", \"MATICUSDT\", \"DOTUSDT\", \"SANDUSDT\", \"FTMUSDT\",\n",
    "                   \"LTCUSDT\", \"LINKUSDT\", \"MANAUSDT\", \"ETCUSDT\", \"EOSUSDT\",\n",
    "                   \"ATOMUSDT\", \"FILUSDT\", \"ICPUSDT\", \"ALICEUSDT\", \"LRCUSDT\",\n",
    "                   \"BCHUSDT\", \"SUSHIUSDT\", \"XTZUSDT\", \"THETAUSDT\", \"CRVUSDT\",\n",
    "                   \"ALGOUSDT\", \"CHZUSDT\", \"TRXUSDT\", \"VETUSDT\", \"CHRUSDT\",\n",
    "                   \"ONEUSDT\", \"OMGUSDT\", \"XLMUSDT\", \"RUNEUSDT\", \"ENJUSDT\",\n",
    "                   \"CELRUSDT\", \"SXPUSDT\", \"1INCHUSDT\", \"SRMUSDT\", \"COTIUSDT\",\n",
    "                   \"ZECUSDT\", \"QTUMUSDT\", \"GRTUSDT\", \"DENTUSDT\", \"SFPUSDT\",\n",
    "                   \"STORJUSDT\", \"IOTAUSDT\", \"HOTUSDT\", \"NEOUSDT\", \"COMPUSDT\",\n",
    "                   \"LINAUSDT\", \"KAVAUSDT\", \"BATUSDT\", \"WAVESUSDT\", \"IOSTUSDT\",\n",
    "                   \"ALPHAUSDT\", \"RLCUSDT\", \"HBARUSDT\", \"DODOUSDT\", \"XMRUSDT\",\n",
    "                   \"SNXUSDT\", \"ANKRUSDT\", \"DASHUSDT\", \"REEFUSDT\", \"ZENUSDT\",\n",
    "                   \"CVCUSDT\", \"RENUSDT\", \"ICXUSDT\", \"RSRUSDT\", \"SKLUSDT\",\n",
    "                   \"NKNUSDT\", \"BELUSDT\", \"ONTUSDT\", \"OGNUSDT\", \"BLZUSDT\",\n",
    "                   \"MTLUSDT\", \"CTKUSDT\", \"RVNUSDT\", \"LITUSDT\", \"MKRUSDT\",\n",
    "                   \"OCEANUSDT\", \"ZILUSDT\", \"UNFIUSDT\", \"BANDUSDT\", \"YFIIUSDT\",\n",
    "                   \"TOMOUSDT\", \"TRBUSDT\", \"KNCUSDT\", \"STMXUSDT\", \"ZRXUSDT\",\n",
    "                   \"SCUSDT\", \"AKROUSDT\", \"XEMUSDT\", \"FLMUSDT\", \"BALUSDT\",\n",
    "                   \"BTSUSDT\", \"DGBUSDT\", \"DEFIUSDT\"]\n",
    "\n",
    "\n",
    "allowed_symbols = [\"LTC\",\"XTZ\"]\n",
    "allowed_symbols = [s + \"USDT\" for s in allowed_symbols]\n",
    "big_data['adgt_%'] = big_data['adgl_%'] + big_data['adgs_%']\n",
    "df = big_data[(big_data.s.isin(allowed_symbols))\n",
    "              & (big_data['long'] == True)\n",
    "              & (big_data['short'] == True)\n",
    "              & (big_data['adgt_%'] > 0.1)\n",
    "              & (big_data['bnkrl_%'] > 95.0)\n",
    "              & (big_data['bnkrs_%'] > 95.0)\n",
    "              & (big_data['ebrs'] > .85)\n",
    "              & (big_data['ebrl'] > .85)\n",
    "              & (big_data['v'] == '5.5')\n",
    "\n",
    "    # & (big_data['tg_%'] > 10)\n",
    "    # & (big_data['ebr'] > .85)\n",
    "              ]\n",
    "#df['total_adg'] = big_data['adgl_%'] + big_data['adgs_%']\n",
    "df"
   ]
  },
  {
   "cell_type": "code",
   "execution_count": 10,
   "metadata": {
    "pycharm": {
     "name": "#%%\n"
    }
   },
   "outputs": [
    {
     "name": "stderr",
     "output_type": "stream",
     "text": [
      "C:\\Users\\skhan\\AppData\\Local\\Temp/ipykernel_29512/2043545472.py:1: SettingWithCopyWarning: \n",
      "A value is trying to be set on a copy of a slice from a DataFrame\n",
      "\n",
      "See the caveats in the documentation: https://pandas.pydata.org/pandas-docs/stable/user_guide/indexing.html#returning-a-view-versus-a-copy\n",
      "  df.drop_duplicates(subset=['s', 'tgl_%','tgs_%','adgl_%','adgs_%','adgt_%', 'bnkrl_%', 'bnkrs_%', 'ebrl', 'ebrs', 'long', 'short'], keep='first',\n"
     ]
    },
    {
     "data": {
      "text/plain": "                                                 file        s  adgt_%  \\\n8   \\LTCUSDT\\plots\\2022-03-21T072615\\backtest_resu...  LTCUSDT  3.6400   \n9   \\LTCUSDT\\plots\\2022-03-21T080736\\backtest_resu...  LTCUSDT  3.2100   \n17  \\XTZUSDT\\plots\\2022-03-21T080320\\backtest_resu...  XTZUSDT  0.1379   \n18  \\XTZUSDT\\plots\\2022-03-21T080423\\backtest_resu...  XTZUSDT  0.1839   \n21  \\XTZUSDT\\plots\\2022-03-21T092843\\backtest_resu...  XTZUSDT  0.1475   \n\n    adgl_%  adgs_%  bnkrl_%  bnkrs_%    ebrl    ebrs  \n8   1.7500  1.8900    100.0    100.0  0.9292  0.8981  \n9   1.5300  1.6800    100.0    100.0  0.9624  0.9458  \n17  0.0527  0.0852    100.0    100.0  0.9391  0.9350  \n18  0.1050  0.0789    100.0    100.0  0.9387  0.9396  \n21  0.0524  0.0951    100.0    100.0  0.9699  0.9584  ",
      "text/html": "<div>\n<style scoped>\n    .dataframe tbody tr th:only-of-type {\n        vertical-align: middle;\n    }\n\n    .dataframe tbody tr th {\n        vertical-align: top;\n    }\n\n    .dataframe thead th {\n        text-align: right;\n    }\n</style>\n<table border=\"1\" class=\"dataframe\">\n  <thead>\n    <tr style=\"text-align: right;\">\n      <th></th>\n      <th>file</th>\n      <th>s</th>\n      <th>adgt_%</th>\n      <th>adgl_%</th>\n      <th>adgs_%</th>\n      <th>bnkrl_%</th>\n      <th>bnkrs_%</th>\n      <th>ebrl</th>\n      <th>ebrs</th>\n    </tr>\n  </thead>\n  <tbody>\n    <tr>\n      <th>8</th>\n      <td>\\LTCUSDT\\plots\\2022-03-21T072615\\backtest_resu...</td>\n      <td>LTCUSDT</td>\n      <td>3.6400</td>\n      <td>1.7500</td>\n      <td>1.8900</td>\n      <td>100.0</td>\n      <td>100.0</td>\n      <td>0.9292</td>\n      <td>0.8981</td>\n    </tr>\n    <tr>\n      <th>9</th>\n      <td>\\LTCUSDT\\plots\\2022-03-21T080736\\backtest_resu...</td>\n      <td>LTCUSDT</td>\n      <td>3.2100</td>\n      <td>1.5300</td>\n      <td>1.6800</td>\n      <td>100.0</td>\n      <td>100.0</td>\n      <td>0.9624</td>\n      <td>0.9458</td>\n    </tr>\n    <tr>\n      <th>17</th>\n      <td>\\XTZUSDT\\plots\\2022-03-21T080320\\backtest_resu...</td>\n      <td>XTZUSDT</td>\n      <td>0.1379</td>\n      <td>0.0527</td>\n      <td>0.0852</td>\n      <td>100.0</td>\n      <td>100.0</td>\n      <td>0.9391</td>\n      <td>0.9350</td>\n    </tr>\n    <tr>\n      <th>18</th>\n      <td>\\XTZUSDT\\plots\\2022-03-21T080423\\backtest_resu...</td>\n      <td>XTZUSDT</td>\n      <td>0.1839</td>\n      <td>0.1050</td>\n      <td>0.0789</td>\n      <td>100.0</td>\n      <td>100.0</td>\n      <td>0.9387</td>\n      <td>0.9396</td>\n    </tr>\n    <tr>\n      <th>21</th>\n      <td>\\XTZUSDT\\plots\\2022-03-21T092843\\backtest_resu...</td>\n      <td>XTZUSDT</td>\n      <td>0.1475</td>\n      <td>0.0524</td>\n      <td>0.0951</td>\n      <td>100.0</td>\n      <td>100.0</td>\n      <td>0.9699</td>\n      <td>0.9584</td>\n    </tr>\n  </tbody>\n</table>\n</div>"
     },
     "execution_count": 10,
     "metadata": {},
     "output_type": "execute_result"
    }
   ],
   "source": [
    "df.drop_duplicates(subset=['s', 'tgl_%','tgs_%','adgl_%','adgs_%','adgt_%', 'bnkrl_%', 'bnkrs_%', 'ebrl', 'ebrs', 'long', 'short'], keep='first',\n",
    "                   inplace=True)\n",
    "dx = df[['file','s','adgt_%','adgl_%','adgs_%','bnkrl_%', 'bnkrs_%','ebrl', 'ebrs']]\n",
    "dx"
   ]
  },
  {
   "cell_type": "code",
   "execution_count": 10,
   "metadata": {
    "pycharm": {
     "name": "#%%\n"
    }
   },
   "outputs": [],
   "source": []
  }
 ],
 "metadata": {
  "kernelspec": {
   "display_name": "PyCharm (passivbot)",
   "language": "python",
   "name": "pycharm-997905a8"
  },
  "language_info": {
   "codemirror_mode": {
    "name": "ipython",
    "version": 3
   },
   "file_extension": ".py",
   "mimetype": "text/x-python",
   "name": "python",
   "nbconvert_exporter": "python",
   "pygments_lexer": "ipython3",
   "version": "3.8.12"
  }
 },
 "nbformat": 4,
 "nbformat_minor": 1
}