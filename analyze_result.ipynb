{
 "cells": [
  {
   "cell_type": "code",
   "execution_count": 1,
   "metadata": {},
   "outputs": [],
   "source": [
    "%load_ext autoreload\n",
    "%autoreload 2"
   ]
  },
  {
   "cell_type": "code",
   "execution_count": 2,
   "metadata": {
    "pycharm": {
     "name": "#%%\n"
    }
   },
   "outputs": [],
   "source": [
    "import glob\n",
    "\n",
    "import pandas as pd"
   ]
  },
  {
   "cell_type": "code",
   "execution_count": 3,
   "metadata": {
    "pycharm": {
     "name": "#%%\n"
    }
   },
   "outputs": [
    {
     "name": "stderr",
     "output_type": "stream",
     "text": [
      "C:\\Users\\skhan\\AppData\\Local\\Temp/ipykernel_1014156/3399278970.py:47: FutureWarning: The frame.append method is deprecated and will be removed from pandas in a future version. Use pandas.concat instead.\n",
      "  big_data = big_data.append(d, ignore_index=True)\n",
      "C:\\Users\\skhan\\AppData\\Local\\Temp/ipykernel_1014156/3399278970.py:47: FutureWarning: The frame.append method is deprecated and will be removed from pandas in a future version. Use pandas.concat instead.\n",
      "  big_data = big_data.append(d, ignore_index=True)\n",
      "C:\\Users\\skhan\\AppData\\Local\\Temp/ipykernel_1014156/3399278970.py:47: FutureWarning: The frame.append method is deprecated and will be removed from pandas in a future version. Use pandas.concat instead.\n",
      "  big_data = big_data.append(d, ignore_index=True)\n",
      "C:\\Users\\skhan\\AppData\\Local\\Temp/ipykernel_1014156/3399278970.py:47: FutureWarning: The frame.append method is deprecated and will be removed from pandas in a future version. Use pandas.concat instead.\n",
      "  big_data = big_data.append(d, ignore_index=True)\n",
      "C:\\Users\\skhan\\AppData\\Local\\Temp/ipykernel_1014156/3399278970.py:47: FutureWarning: The frame.append method is deprecated and will be removed from pandas in a future version. Use pandas.concat instead.\n",
      "  big_data = big_data.append(d, ignore_index=True)\n",
      "C:\\Users\\skhan\\AppData\\Local\\Temp/ipykernel_1014156/3399278970.py:47: FutureWarning: The frame.append method is deprecated and will be removed from pandas in a future version. Use pandas.concat instead.\n",
      "  big_data = big_data.append(d, ignore_index=True)\n",
      "C:\\Users\\skhan\\AppData\\Local\\Temp/ipykernel_1014156/3399278970.py:47: FutureWarning: The frame.append method is deprecated and will be removed from pandas in a future version. Use pandas.concat instead.\n",
      "  big_data = big_data.append(d, ignore_index=True)\n",
      "C:\\Users\\skhan\\AppData\\Local\\Temp/ipykernel_1014156/3399278970.py:47: FutureWarning: The frame.append method is deprecated and will be removed from pandas in a future version. Use pandas.concat instead.\n",
      "  big_data = big_data.append(d, ignore_index=True)\n",
      "C:\\Users\\skhan\\AppData\\Local\\Temp/ipykernel_1014156/3399278970.py:47: FutureWarning: The frame.append method is deprecated and will be removed from pandas in a future version. Use pandas.concat instead.\n",
      "  big_data = big_data.append(d, ignore_index=True)\n",
      "C:\\Users\\skhan\\AppData\\Local\\Temp/ipykernel_1014156/3399278970.py:47: FutureWarning: The frame.append method is deprecated and will be removed from pandas in a future version. Use pandas.concat instead.\n",
      "  big_data = big_data.append(d, ignore_index=True)\n"
     ]
    },
    {
     "data": {
      "text/plain": "                                                file    v          s  long  \\\n0  \\ATOMUSDT\\plots\\2022-03-08T230945\\backtest_res...  5.5   ATOMUSDT  True   \n1  \\AXSUSDT\\plots\\2022-03-08T135416\\backtest_resu...  5.5    AXSUSDT  True   \n2  \\BNBUSDT\\plots\\2022-03-08T181744\\backtest_resu...  5.5    BNBUSDT  True   \n3  \\DOTUSDT\\plots\\2022-03-09T153345\\backtest_resu...  5.5    DOTUSDT  True   \n4  \\FTMUSDT\\plots\\2022-03-09T224354\\backtest_resu...  5.5    FTMUSDT  True   \n5  \\LINKUSDT\\plots\\2022-03-10T063226\\backtest_res...  5.5   LINKUSDT  True   \n6  \\MATICUSDT\\plots\\2022-03-09T154507\\backtest_re...  5.5  MATICUSDT  True   \n7  \\MATICUSDT\\plots\\2022-03-09T155533\\backtest_re...  5.5  MATICUSDT  True   \n8  \\SANDUSDT\\plots\\2022-03-09T072942\\backtest_res...  5.5   SANDUSDT  True   \n9  \\WAVESUSDT\\plots\\2022-03-09T074256\\backtest_re...  5.5  WAVESUSDT  True   \n\n    tgl_%  adgl_%  bnkrl_%    ebrl  short       tgs_%  adgs_%  bnkrs_%    ebrs  \n0 -1475.0   0.609    100.0  0.9639   True -1085.00000   0.552   100.00  0.9242  \n1 -3640.0   0.856    100.0  0.9581   True -3513.00000   1.070    91.25  0.8285  \n2  -828.2   1.150    100.0  0.9671   True  -621.70000   0.884   100.00  0.9626  \n3  -746.3   0.674    100.0  0.9590   True  -970.50000   0.795   100.00  0.9547  \n4 -1208.0   0.550    100.0  0.9487   True     0.05677   0.419    11.91  0.1188  \n5  -281.5   0.400    100.0  0.9597   True  -819.50000   0.634   100.00  0.9555  \n6  -571.4   0.443    100.0  0.9622   True -1299.00000   0.675   100.00  0.9491  \n7  -571.4   0.443    100.0  0.9622   True -1299.00000   0.675   100.00  0.9491  \n8 -1901.0   0.861    100.0  0.8925   True -1454.00000   0.764   100.00  0.8652  \n9  -667.2   0.388    100.0  0.9561   True  -785.40000   0.431   100.00  0.8946  ",
      "text/html": "<div>\n<style scoped>\n    .dataframe tbody tr th:only-of-type {\n        vertical-align: middle;\n    }\n\n    .dataframe tbody tr th {\n        vertical-align: top;\n    }\n\n    .dataframe thead th {\n        text-align: right;\n    }\n</style>\n<table border=\"1\" class=\"dataframe\">\n  <thead>\n    <tr style=\"text-align: right;\">\n      <th></th>\n      <th>file</th>\n      <th>v</th>\n      <th>s</th>\n      <th>long</th>\n      <th>tgl_%</th>\n      <th>adgl_%</th>\n      <th>bnkrl_%</th>\n      <th>ebrl</th>\n      <th>short</th>\n      <th>tgs_%</th>\n      <th>adgs_%</th>\n      <th>bnkrs_%</th>\n      <th>ebrs</th>\n    </tr>\n  </thead>\n  <tbody>\n    <tr>\n      <th>0</th>\n      <td>\\ATOMUSDT\\plots\\2022-03-08T230945\\backtest_res...</td>\n      <td>5.5</td>\n      <td>ATOMUSDT</td>\n      <td>True</td>\n      <td>-1475.0</td>\n      <td>0.609</td>\n      <td>100.0</td>\n      <td>0.9639</td>\n      <td>True</td>\n      <td>-1085.00000</td>\n      <td>0.552</td>\n      <td>100.00</td>\n      <td>0.9242</td>\n    </tr>\n    <tr>\n      <th>1</th>\n      <td>\\AXSUSDT\\plots\\2022-03-08T135416\\backtest_resu...</td>\n      <td>5.5</td>\n      <td>AXSUSDT</td>\n      <td>True</td>\n      <td>-3640.0</td>\n      <td>0.856</td>\n      <td>100.0</td>\n      <td>0.9581</td>\n      <td>True</td>\n      <td>-3513.00000</td>\n      <td>1.070</td>\n      <td>91.25</td>\n      <td>0.8285</td>\n    </tr>\n    <tr>\n      <th>2</th>\n      <td>\\BNBUSDT\\plots\\2022-03-08T181744\\backtest_resu...</td>\n      <td>5.5</td>\n      <td>BNBUSDT</td>\n      <td>True</td>\n      <td>-828.2</td>\n      <td>1.150</td>\n      <td>100.0</td>\n      <td>0.9671</td>\n      <td>True</td>\n      <td>-621.70000</td>\n      <td>0.884</td>\n      <td>100.00</td>\n      <td>0.9626</td>\n    </tr>\n    <tr>\n      <th>3</th>\n      <td>\\DOTUSDT\\plots\\2022-03-09T153345\\backtest_resu...</td>\n      <td>5.5</td>\n      <td>DOTUSDT</td>\n      <td>True</td>\n      <td>-746.3</td>\n      <td>0.674</td>\n      <td>100.0</td>\n      <td>0.9590</td>\n      <td>True</td>\n      <td>-970.50000</td>\n      <td>0.795</td>\n      <td>100.00</td>\n      <td>0.9547</td>\n    </tr>\n    <tr>\n      <th>4</th>\n      <td>\\FTMUSDT\\plots\\2022-03-09T224354\\backtest_resu...</td>\n      <td>5.5</td>\n      <td>FTMUSDT</td>\n      <td>True</td>\n      <td>-1208.0</td>\n      <td>0.550</td>\n      <td>100.0</td>\n      <td>0.9487</td>\n      <td>True</td>\n      <td>0.05677</td>\n      <td>0.419</td>\n      <td>11.91</td>\n      <td>0.1188</td>\n    </tr>\n    <tr>\n      <th>5</th>\n      <td>\\LINKUSDT\\plots\\2022-03-10T063226\\backtest_res...</td>\n      <td>5.5</td>\n      <td>LINKUSDT</td>\n      <td>True</td>\n      <td>-281.5</td>\n      <td>0.400</td>\n      <td>100.0</td>\n      <td>0.9597</td>\n      <td>True</td>\n      <td>-819.50000</td>\n      <td>0.634</td>\n      <td>100.00</td>\n      <td>0.9555</td>\n    </tr>\n    <tr>\n      <th>6</th>\n      <td>\\MATICUSDT\\plots\\2022-03-09T154507\\backtest_re...</td>\n      <td>5.5</td>\n      <td>MATICUSDT</td>\n      <td>True</td>\n      <td>-571.4</td>\n      <td>0.443</td>\n      <td>100.0</td>\n      <td>0.9622</td>\n      <td>True</td>\n      <td>-1299.00000</td>\n      <td>0.675</td>\n      <td>100.00</td>\n      <td>0.9491</td>\n    </tr>\n    <tr>\n      <th>7</th>\n      <td>\\MATICUSDT\\plots\\2022-03-09T155533\\backtest_re...</td>\n      <td>5.5</td>\n      <td>MATICUSDT</td>\n      <td>True</td>\n      <td>-571.4</td>\n      <td>0.443</td>\n      <td>100.0</td>\n      <td>0.9622</td>\n      <td>True</td>\n      <td>-1299.00000</td>\n      <td>0.675</td>\n      <td>100.00</td>\n      <td>0.9491</td>\n    </tr>\n    <tr>\n      <th>8</th>\n      <td>\\SANDUSDT\\plots\\2022-03-09T072942\\backtest_res...</td>\n      <td>5.5</td>\n      <td>SANDUSDT</td>\n      <td>True</td>\n      <td>-1901.0</td>\n      <td>0.861</td>\n      <td>100.0</td>\n      <td>0.8925</td>\n      <td>True</td>\n      <td>-1454.00000</td>\n      <td>0.764</td>\n      <td>100.00</td>\n      <td>0.8652</td>\n    </tr>\n    <tr>\n      <th>9</th>\n      <td>\\WAVESUSDT\\plots\\2022-03-09T074256\\backtest_re...</td>\n      <td>5.5</td>\n      <td>WAVESUSDT</td>\n      <td>True</td>\n      <td>-667.2</td>\n      <td>0.388</td>\n      <td>100.0</td>\n      <td>0.9561</td>\n      <td>True</td>\n      <td>-785.40000</td>\n      <td>0.431</td>\n      <td>100.00</td>\n      <td>0.8946</td>\n    </tr>\n  </tbody>\n</table>\n</div>"
     },
     "execution_count": 3,
     "metadata": {},
     "output_type": "execute_result"
    }
   ],
   "source": [
    "big_data = pd.DataFrame()\n",
    "files = glob.iglob('backtests/bybit/' + '**/backtest_result.txt', recursive=True)\n",
    "i = 0\n",
    "for filename in files:\n",
    "    #print(f'parsing : {filename}')\n",
    "    with open(filename, 'r') as file:\n",
    "        data = file.read().split('\\n')\n",
    "        d = {'file': filename.replace('backtests/bybit','')}\n",
    "        current_state = 'long'\n",
    "        for l in data:\n",
    "            l = l.split('|')\n",
    "            if len(l) == 4:\n",
    "                key = l[1].strip()\n",
    "                value = l[2].strip()\n",
    "\n",
    "                if key == 'Passivbot Version':\n",
    "                    d['v'] = value\n",
    "                if key == 'Symbol':\n",
    "                    d['s'] = value\n",
    "\n",
    "                if key == 'Long':\n",
    "                    current_state = 'long'\n",
    "                    d['long'] = bool(value) or False\n",
    "                if key == 'Short':\n",
    "                    current_state = 'short'\n",
    "                    d['short'] = bool(value) or False\n",
    "\n",
    "                if key == 'Total gain' and current_state == 'long':\n",
    "                    d['tgl_%'] = float(value.replace('%', '').strip())\n",
    "                if key == 'Average daily gain' and current_state == 'long':\n",
    "                    d['adgl_%'] = float(value.replace('%', '').strip())\n",
    "                if key == 'Closest bankruptcy' and current_state == 'long':\n",
    "                    d['bnkrl_%'] = float(value.replace('%', '').strip())\n",
    "                if key == 'Lowest equity/balance ratio' and current_state == 'long':\n",
    "                    d['ebrl'] = float(value.replace('%', '').strip())\n",
    "\n",
    "                if key == 'Total gain' and current_state == 'short':\n",
    "                    d['tgs_%'] = float(value.replace('%', '').strip())\n",
    "                if key == 'Average daily gain' and current_state == 'short':\n",
    "                    d['adgs_%'] = float(value.replace('%', '').strip())\n",
    "                if key == 'Closest bankruptcy' and current_state == 'short':\n",
    "                    d['bnkrs_%'] = float(value.replace('%', '').strip())\n",
    "                if key == 'Lowest equity/balance ratio' and current_state == 'short':\n",
    "                    d['ebrs'] = float(value.replace('%', '').strip())\n",
    "\n",
    "        #d['adgt_%'] = d['adgl_%']+d['adgs_%']\n",
    "        big_data = big_data.append(d, ignore_index=True)\n",
    "\n",
    "big_data"
   ]
  },
  {
   "cell_type": "markdown",
   "metadata": {},
   "source": [
    "Now filter the dataframe"
   ]
  },
  {
   "cell_type": "code",
   "execution_count": 4,
   "metadata": {
    "pycharm": {
     "name": "#%%\n"
    }
   },
   "outputs": [
    {
     "data": {
      "text/plain": "                                                file    v         s  long  \\\n5  \\LINKUSDT\\plots\\2022-03-10T063226\\backtest_res...  5.5  LINKUSDT  True   \n\n   tgl_%  adgl_%  bnkrl_%    ebrl  short  tgs_%  adgs_%  bnkrs_%    ebrs  \\\n5 -281.5     0.4    100.0  0.9597   True -819.5   0.634    100.0  0.9555   \n\n   adgt_%  \n5   1.034  ",
      "text/html": "<div>\n<style scoped>\n    .dataframe tbody tr th:only-of-type {\n        vertical-align: middle;\n    }\n\n    .dataframe tbody tr th {\n        vertical-align: top;\n    }\n\n    .dataframe thead th {\n        text-align: right;\n    }\n</style>\n<table border=\"1\" class=\"dataframe\">\n  <thead>\n    <tr style=\"text-align: right;\">\n      <th></th>\n      <th>file</th>\n      <th>v</th>\n      <th>s</th>\n      <th>long</th>\n      <th>tgl_%</th>\n      <th>adgl_%</th>\n      <th>bnkrl_%</th>\n      <th>ebrl</th>\n      <th>short</th>\n      <th>tgs_%</th>\n      <th>adgs_%</th>\n      <th>bnkrs_%</th>\n      <th>ebrs</th>\n      <th>adgt_%</th>\n    </tr>\n  </thead>\n  <tbody>\n    <tr>\n      <th>5</th>\n      <td>\\LINKUSDT\\plots\\2022-03-10T063226\\backtest_res...</td>\n      <td>5.5</td>\n      <td>LINKUSDT</td>\n      <td>True</td>\n      <td>-281.5</td>\n      <td>0.4</td>\n      <td>100.0</td>\n      <td>0.9597</td>\n      <td>True</td>\n      <td>-819.5</td>\n      <td>0.634</td>\n      <td>100.0</td>\n      <td>0.9555</td>\n      <td>1.034</td>\n    </tr>\n  </tbody>\n</table>\n</div>"
     },
     "execution_count": 4,
     "metadata": {},
     "output_type": "execute_result"
    }
   ],
   "source": [
    "allowed_symbols = [\"ETHUSDT\", \"XRPUSDT\", \"1000SHIBUSDT\", \"DOGEUSDT\", \"ADAUSDT\",\n",
    "                   \"BNBUSDT\", \"MATICUSDT\", \"DOTUSDT\", \"SANDUSDT\", \"FTMUSDT\",\n",
    "                   \"LTCUSDT\", \"LINKUSDT\", \"MANAUSDT\", \"ETCUSDT\", \"EOSUSDT\",\n",
    "                   \"ATOMUSDT\", \"FILUSDT\", \"ICPUSDT\", \"ALICEUSDT\", \"LRCUSDT\",\n",
    "                   \"BCHUSDT\", \"SUSHIUSDT\", \"XTZUSDT\", \"THETAUSDT\", \"CRVUSDT\",\n",
    "                   \"ALGOUSDT\", \"CHZUSDT\", \"TRXUSDT\", \"VETUSDT\", \"CHRUSDT\",\n",
    "                   \"ONEUSDT\", \"OMGUSDT\", \"XLMUSDT\", \"RUNEUSDT\", \"ENJUSDT\",\n",
    "                   \"CELRUSDT\", \"SXPUSDT\", \"1INCHUSDT\", \"SRMUSDT\", \"COTIUSDT\",\n",
    "                   \"ZECUSDT\", \"QTUMUSDT\", \"GRTUSDT\", \"DENTUSDT\", \"SFPUSDT\",\n",
    "                   \"STORJUSDT\", \"IOTAUSDT\", \"HOTUSDT\", \"NEOUSDT\", \"COMPUSDT\",\n",
    "                   \"LINAUSDT\", \"KAVAUSDT\", \"BATUSDT\", \"WAVESUSDT\", \"IOSTUSDT\",\n",
    "                   \"ALPHAUSDT\", \"RLCUSDT\", \"HBARUSDT\", \"DODOUSDT\", \"XMRUSDT\",\n",
    "                   \"SNXUSDT\", \"ANKRUSDT\", \"DASHUSDT\", \"REEFUSDT\", \"ZENUSDT\",\n",
    "                   \"CVCUSDT\", \"RENUSDT\", \"ICXUSDT\", \"RSRUSDT\", \"SKLUSDT\",\n",
    "                   \"NKNUSDT\", \"BELUSDT\", \"ONTUSDT\", \"OGNUSDT\", \"BLZUSDT\",\n",
    "                   \"MTLUSDT\", \"CTKUSDT\", \"RVNUSDT\", \"LITUSDT\", \"MKRUSDT\",\n",
    "                   \"OCEANUSDT\", \"ZILUSDT\", \"UNFIUSDT\", \"BANDUSDT\", \"YFIIUSDT\",\n",
    "                   \"TOMOUSDT\", \"TRBUSDT\", \"KNCUSDT\", \"STMXUSDT\", \"ZRXUSDT\",\n",
    "                   \"SCUSDT\", \"AKROUSDT\", \"XEMUSDT\", \"FLMUSDT\", \"BALUSDT\",\n",
    "                   \"BTSUSDT\", \"DGBUSDT\", \"DEFIUSDT\"]\n",
    "\n",
    "allowed_symbols = [\"LINKUSDT\"]\n",
    "big_data['adgt_%'] = big_data['adgl_%'] + big_data['adgs_%']\n",
    "df = big_data[(big_data.s.isin(allowed_symbols))\n",
    "              & (big_data['long'] == True)\n",
    "              & (big_data['short'] == True)\n",
    "              # & (big_data['adgt_%'] > 0.1)\n",
    "              # & (big_data['bnkrl_%'] > 95.0)\n",
    "              # & (big_data['bnkrs_%'] > 95.0)\n",
    "              # & (big_data['ebrs'] > .85)\n",
    "              # & (big_data['ebrl'] > .85)\n",
    "              & (big_data['v'] == '5.5')\n",
    "\n",
    "    # & (big_data['tg_%'] > 10)\n",
    "    # & (big_data['ebr'] > .85)\n",
    "              ]\n",
    "#df['total_adg'] = big_data['adgl_%'] + big_data['adgs_%']\n",
    "df"
   ]
  },
  {
   "cell_type": "code",
   "execution_count": 5,
   "metadata": {
    "pycharm": {
     "name": "#%%\n"
    }
   },
   "outputs": [
    {
     "name": "stderr",
     "output_type": "stream",
     "text": [
      "C:\\Users\\skhan\\AppData\\Local\\Temp/ipykernel_1014156/2043545472.py:1: SettingWithCopyWarning: \n",
      "A value is trying to be set on a copy of a slice from a DataFrame\n",
      "\n",
      "See the caveats in the documentation: https://pandas.pydata.org/pandas-docs/stable/user_guide/indexing.html#returning-a-view-versus-a-copy\n",
      "  df.drop_duplicates(subset=['s', 'tgl_%','tgs_%','adgl_%','adgs_%','adgt_%', 'bnkrl_%', 'bnkrs_%', 'ebrl', 'ebrs', 'long', 'short'], keep='first',\n"
     ]
    },
    {
     "data": {
      "text/plain": "                                                file         s  adgt_%  \\\n5  \\LINKUSDT\\plots\\2022-03-10T063226\\backtest_res...  LINKUSDT   1.034   \n\n   adgl_%  adgs_%  bnkrl_%  bnkrs_%    ebrl    ebrs  \n5     0.4   0.634    100.0    100.0  0.9597  0.9555  ",
      "text/html": "<div>\n<style scoped>\n    .dataframe tbody tr th:only-of-type {\n        vertical-align: middle;\n    }\n\n    .dataframe tbody tr th {\n        vertical-align: top;\n    }\n\n    .dataframe thead th {\n        text-align: right;\n    }\n</style>\n<table border=\"1\" class=\"dataframe\">\n  <thead>\n    <tr style=\"text-align: right;\">\n      <th></th>\n      <th>file</th>\n      <th>s</th>\n      <th>adgt_%</th>\n      <th>adgl_%</th>\n      <th>adgs_%</th>\n      <th>bnkrl_%</th>\n      <th>bnkrs_%</th>\n      <th>ebrl</th>\n      <th>ebrs</th>\n    </tr>\n  </thead>\n  <tbody>\n    <tr>\n      <th>5</th>\n      <td>\\LINKUSDT\\plots\\2022-03-10T063226\\backtest_res...</td>\n      <td>LINKUSDT</td>\n      <td>1.034</td>\n      <td>0.4</td>\n      <td>0.634</td>\n      <td>100.0</td>\n      <td>100.0</td>\n      <td>0.9597</td>\n      <td>0.9555</td>\n    </tr>\n  </tbody>\n</table>\n</div>"
     },
     "execution_count": 5,
     "metadata": {},
     "output_type": "execute_result"
    }
   ],
   "source": [
    "df.drop_duplicates(subset=['s', 'tgl_%','tgs_%','adgl_%','adgs_%','adgt_%', 'bnkrl_%', 'bnkrs_%', 'ebrl', 'ebrs', 'long', 'short'], keep='first',\n",
    "                   inplace=True)\n",
    "dx = df[['file','s','adgt_%','adgl_%','adgs_%','bnkrl_%', 'bnkrs_%','ebrl', 'ebrs']]\n",
    "dx"
   ]
  },
  {
   "cell_type": "code",
   "execution_count": 5,
   "metadata": {
    "pycharm": {
     "name": "#%%\n"
    }
   },
   "outputs": [],
   "source": []
  }
 ],
 "metadata": {
  "kernelspec": {
   "display_name": "PyCharm (passivbot)",
   "language": "python",
   "name": "pycharm-997905a8"
  },
  "language_info": {
   "codemirror_mode": {
    "name": "ipython",
    "version": 3
   },
   "file_extension": ".py",
   "mimetype": "text/x-python",
   "name": "python",
   "nbconvert_exporter": "python",
   "pygments_lexer": "ipython3",
   "version": "3.8.12"
  }
 },
 "nbformat": 4,
 "nbformat_minor": 1
}