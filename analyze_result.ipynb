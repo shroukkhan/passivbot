{
 "cells": [
  {
   "cell_type": "code",
   "execution_count": 1,
   "metadata": {
    "collapsed": true,
    "pycharm": {
     "name": "#%%\n"
    }
   },
   "outputs": [],
   "source": [
    "%load_ext autoreload\n",
    "%autoreload 2"
   ]
  },
  {
   "cell_type": "code",
   "execution_count": 2,
   "outputs": [],
   "source": [
    "import glob\n",
    "import json\n",
    "\n",
    "import pandas as pd"
   ],
   "metadata": {
    "collapsed": false,
    "pycharm": {
     "name": "#%%\n"
    }
   }
  },
  {
   "cell_type": "code",
   "execution_count": null,
   "outputs": [],
   "source": [
    "import os\n",
    "\n",
    "big_data = pd.DataFrame()\n",
    "## find current folder root\n",
    "root = os.getcwd()\n",
    "\n",
    "all_files = glob.iglob('downloaded_configs/passivbot_v5.8.0/configs' + '/**/result.txt', recursive=True)\n",
    "\n",
    "\n",
    "files = []\n",
    "for file in all_files:\n",
    "    if '\\\\old\\\\' not in file:\n",
    "        files.append(file)\n",
    "\n",
    "i = 0\n",
    "for filename in files:\n",
    "    #print(f'parsing : {filename}')\n",
    "    json_file = os.path.abspath(filename.replace('result.txt', '../config.json'))\n",
    "    with open(json_file) as f:\n",
    "        live_config = json.load(f)\n",
    "        config_type = live_config['config_name']\n",
    "\n",
    "    with open(filename, 'r') as file:\n",
    "        data = file.read().split('\\n')\n",
    "        d = {'file': filename}\n",
    "        current_state = 'long'\n",
    "        for l in data:\n",
    "            l = l.split('|')\n",
    "            if len(l) == 4:\n",
    "                key = l[1].strip()\n",
    "                value = l[2].strip()\n",
    "\n",
    "                if key == 'Symbol':\n",
    "                    d['s'] = value\n",
    "\n",
    "                if key == 'Long':\n",
    "                    current_state = 'long'\n",
    "                    d['long'] = bool(value) or False\n",
    "                if key == 'Short':\n",
    "                    current_state = 'short'\n",
    "                    d['short'] = bool(value) or False\n",
    "\n",
    "                if key == 'Total gain' and current_state == 'long':\n",
    "                    d['tgl_%'] = float(value.replace('%', '').strip())\n",
    "                if key == 'Average daily gain' and current_state == 'long':\n",
    "                    d['adgl_%'] = float(value.replace('%', '').strip())\n",
    "                if key == 'Closest bankruptcy' and current_state == 'long':\n",
    "                    d['bnkrl_%'] = float(value.replace('%', '').strip())\n",
    "                if key == 'Lowest equity/balance ratio' and current_state == 'long':\n",
    "                    d['ebrl'] = float(value.replace('%', '').strip())\n",
    "                if key == 'Max hours stuck' and current_state == 'long':\n",
    "                    d['maxsl'] = float(value.replace('%', '').strip()) / 24\n",
    "                if key == 'Price action distance max' and current_state == 'long':\n",
    "                    d['pamaxl'] = float(value.replace('%', '').strip())\n",
    "                if key == 'Price action distance std' and current_state == 'long':\n",
    "                    d['pastdl'] = float(value.strip())\n",
    "\n",
    "                if key == 'Total gain' and current_state == 'short':\n",
    "                    d['tgs_%'] = float(value.replace('%', '').strip())\n",
    "                if key == 'Average daily gain' and current_state == 'short':\n",
    "                    d['adgs_%'] = float(value.replace('%', '').strip())\n",
    "                if key == 'Closest bankruptcy' and current_state == 'short':\n",
    "                    d['bnkrs_%'] = float(value.replace('%', '').strip())\n",
    "                if key == 'Lowest equity/balance ratio' and current_state == 'short':\n",
    "                    d['ebrs'] = float(value.replace('%', '').strip())\n",
    "                if key == 'Max hours stuck' and current_state == 'short':\n",
    "                    d['maxss'] = float(value.replace('%', '').strip()) / 24\n",
    "                if key == 'Price action distance max' and current_state == 'short':\n",
    "                    d['pamaxs'] = float(value.replace('%', '').strip())\n",
    "                if key == 'Price action distance std' and current_state == 'short':\n",
    "                    d['pastds'] = float(value.strip())\n",
    "\n",
    "        big_data = big_data.append(d, ignore_index=True)\n",
    "big_data"
   ],
   "metadata": {
    "collapsed": false,
    "pycharm": {
     "name": "#%%\n"
    }
   }
  },
  {
   "cell_type": "code",
   "execution_count": null,
   "outputs": [],
   "source": [
    "allowed_symbols = [\n",
    "    \"ETHUSDT\", \"BCHUSDT\", \"XRPUSDT\", \"EOSUSDT\", \"LTCUSDT\", \"TRXUSDT\", \"ETCUSDT\", \"LINKUSDT\", \"XLMUSDT\", \"ADAUSDT\",\n",
    "    \"XMRUSDT\", \"DASHUSDT\", \"ZECUSDT\", \"XTZUSDT\", \"BNBUSDT\", \"ATOMUSDT\", \"NEOUSDT\", \"IOSTUSDT\", \"THETAUSDT\", \"ALGOUSDT\",\n",
    "    \"ZILUSDT\", \"KNCUSDT\", \"COMPUSDT\", \"OMGUSDT\", \"DOGEUSDT\", \"KAVAUSDT\", \"BANDUSDT\", \"RLCUSDT\", \"WAVESUSDT\", \"SNXUSDT\",\n",
    "    \"DOTUSDT\", \"CRVUSDT\", \"TRBUSDT\", \"RUNEUSDT\", \"SUSHIUSDT\", \"SRMUSDT\", \"EGLDUSDT\", \"FTMUSDT\", \"HNTUSDT\", \"RENUSDT\",\n",
    "    \"KSMUSDT\", \"NEARUSDT\", \"FILUSDT\", \"RSRUSDT\", \"MATICUSDT\", \"OCEANUSDT\", \"CVCUSDT\", \"GRTUSDT\", \"1INCHUSDT\", \"CHZUSDT\",\n",
    "    \"SANDUSDT\", \"BTSUSDT\", \"LITUSDT\", \"UNFIUSDT\", \"REEFUSDT\", \"MANAUSDT\", \"HBARUSDT\", \"ONEUSDT\", \"LINAUSDT\", \"STMXUSDT\",\n",
    "    \"DENTUSDT\", \"HOTUSDT\", \"MTLUSDT\", \"SCUSDT\", \"1000SHIBUSDT\"\n",
    "]\n",
    "#allowed_symbols = [s + \"USDT\" for s in allowed_symbols]\n",
    "big_data['adgt_%'] = big_data['adgl_%'] + big_data['adgs_%']\n",
    "df = big_data[(big_data.s.isin(allowed_symbols))\n",
    "    #& (big_data['long'] == True)\n",
    "    #& (big_data['adgl_%'] > 0.04)\n",
    "    #& (big_data['short'] == True)\n",
    "    #& (big_data['adgt_%'] > 0.1)\n",
    "    #& (big_data['bnkrl_%'] > 95.0)\n",
    "    #& (big_data['bnkrs_%'] > 95.0)\n",
    "    #& (big_data['ebrs'] > .85)\n",
    "    #& (big_data['ebrl'] > .8)\n",
    "    #& (big_data['v'] == '5.5')\n",
    "\n",
    "    # & (big_data['tg_%'] > 10)\n",
    "    # & (big_data['ebr'] > .85)\n",
    "]\n",
    "#df['total_adg'] = big_data['adgl_%'] + big_data['adgs_%']\n",
    "df.to_csv('5.8.csv')\n",
    "df"
   ],
   "metadata": {
    "collapsed": false,
    "pycharm": {
     "name": "#%%\n"
    }
   }
  },
  {
   "cell_type": "code",
   "execution_count": 5,
   "outputs": [
    {
     "name": "stderr",
     "output_type": "stream",
     "text": [
      "C:\\Users\\skhan\\AppData\\Local\\Temp\\ipykernel_4832\\994885060.py:1: SettingWithCopyWarning: \n",
      "A value is trying to be set on a copy of a slice from a DataFrame\n",
      "\n",
      "See the caveats in the documentation: https://pandas.pydata.org/pandas-docs/stable/user_guide/indexing.html#returning-a-view-versus-a-copy\n",
      "  df.drop_duplicates(\n"
     ]
    },
    {
     "data": {
      "text/plain": "                                                  file          s  adgt_%  \\\n0    downloaded_configs/passivbot_v5.8.0/configs\\ha...   ATOMUSDT     NaN   \n1    downloaded_configs/passivbot_v5.8.0/configs\\ha...    CHZUSDT     NaN   \n2    downloaded_configs/passivbot_v5.8.0/configs\\ha...   DOGEUSDT     NaN   \n3    downloaded_configs/passivbot_v5.8.0/configs\\ha...    DOTUSDT     NaN   \n5    downloaded_configs/passivbot_v5.8.0/configs\\ha...    EOSUSDT     NaN   \n..                                                 ...        ...     ...   \n538  downloaded_configs/passivbot_v5.8.0/configs\\pa...   HBARUSDT     NaN   \n539  downloaded_configs/passivbot_v5.8.0/configs\\pa...  MATICUSDT     NaN   \n540  downloaded_configs/passivbot_v5.8.0/configs\\pa...  SUSHIUSDT     NaN   \n541  downloaded_configs/passivbot_v5.8.0/configs\\pa...    XRPUSDT     NaN   \n542  downloaded_configs/passivbot_v5.8.0/configs\\pa...    XTZUSDT     NaN   \n\n     adgl_%  adgs_%  bnkrl_%  bnkrs_%    ebrl  ebrs      maxsl    pamaxl  \\\n0     0.129     NaN    99.74      NaN  0.3945   NaN   6.218750  1.535200   \n1     0.266     NaN    99.81      NaN  0.3294   NaN  37.304167  2.036520   \n2     0.424     NaN    99.99      NaN  0.5936   NaN   4.569458  0.684707   \n3     0.300     NaN    99.77      NaN  0.5217   NaN  11.056958  0.915960   \n5     0.173     NaN    99.98      NaN  0.6917   NaN  14.597917  0.445603   \n..      ...     ...      ...      ...     ...   ...        ...       ...   \n538   0.186     NaN    99.83      NaN  0.6671   NaN   9.752083  0.498154   \n539   0.261     NaN    99.85      NaN  0.7691   NaN   8.481958  0.299799   \n540   0.228     NaN    99.75      NaN  0.5204   NaN   2.986804  0.919427   \n541   0.223     NaN    99.86      NaN  0.7536   NaN   8.080542  0.326524   \n542   0.134     NaN    99.76      NaN  0.4813   NaN   7.336792  1.075320   \n\n       pastdl  maxss  pamaxs  pastds  \n0    0.030567    NaN     NaN     NaN  \n1    0.162400    NaN     NaN     NaN  \n2    0.010823    NaN     NaN     NaN  \n3    0.017572    NaN     NaN     NaN  \n5    0.013177    NaN     NaN     NaN  \n..        ...    ...     ...     ...  \n538  0.011753    NaN     NaN     NaN  \n539  0.012178    NaN     NaN     NaN  \n540  0.010983    NaN     NaN     NaN  \n541  0.009385    NaN     NaN     NaN  \n542  0.012374    NaN     NaN     NaN  \n\n[380 rows x 15 columns]",
      "text/html": "<div>\n<style scoped>\n    .dataframe tbody tr th:only-of-type {\n        vertical-align: middle;\n    }\n\n    .dataframe tbody tr th {\n        vertical-align: top;\n    }\n\n    .dataframe thead th {\n        text-align: right;\n    }\n</style>\n<table border=\"1\" class=\"dataframe\">\n  <thead>\n    <tr style=\"text-align: right;\">\n      <th></th>\n      <th>file</th>\n      <th>s</th>\n      <th>adgt_%</th>\n      <th>adgl_%</th>\n      <th>adgs_%</th>\n      <th>bnkrl_%</th>\n      <th>bnkrs_%</th>\n      <th>ebrl</th>\n      <th>ebrs</th>\n      <th>maxsl</th>\n      <th>pamaxl</th>\n      <th>pastdl</th>\n      <th>maxss</th>\n      <th>pamaxs</th>\n      <th>pastds</th>\n    </tr>\n  </thead>\n  <tbody>\n    <tr>\n      <th>0</th>\n      <td>downloaded_configs/passivbot_v5.8.0/configs\\ha...</td>\n      <td>ATOMUSDT</td>\n      <td>NaN</td>\n      <td>0.129</td>\n      <td>NaN</td>\n      <td>99.74</td>\n      <td>NaN</td>\n      <td>0.3945</td>\n      <td>NaN</td>\n      <td>6.218750</td>\n      <td>1.535200</td>\n      <td>0.030567</td>\n      <td>NaN</td>\n      <td>NaN</td>\n      <td>NaN</td>\n    </tr>\n    <tr>\n      <th>1</th>\n      <td>downloaded_configs/passivbot_v5.8.0/configs\\ha...</td>\n      <td>CHZUSDT</td>\n      <td>NaN</td>\n      <td>0.266</td>\n      <td>NaN</td>\n      <td>99.81</td>\n      <td>NaN</td>\n      <td>0.3294</td>\n      <td>NaN</td>\n      <td>37.304167</td>\n      <td>2.036520</td>\n      <td>0.162400</td>\n      <td>NaN</td>\n      <td>NaN</td>\n      <td>NaN</td>\n    </tr>\n    <tr>\n      <th>2</th>\n      <td>downloaded_configs/passivbot_v5.8.0/configs\\ha...</td>\n      <td>DOGEUSDT</td>\n      <td>NaN</td>\n      <td>0.424</td>\n      <td>NaN</td>\n      <td>99.99</td>\n      <td>NaN</td>\n      <td>0.5936</td>\n      <td>NaN</td>\n      <td>4.569458</td>\n      <td>0.684707</td>\n      <td>0.010823</td>\n      <td>NaN</td>\n      <td>NaN</td>\n      <td>NaN</td>\n    </tr>\n    <tr>\n      <th>3</th>\n      <td>downloaded_configs/passivbot_v5.8.0/configs\\ha...</td>\n      <td>DOTUSDT</td>\n      <td>NaN</td>\n      <td>0.300</td>\n      <td>NaN</td>\n      <td>99.77</td>\n      <td>NaN</td>\n      <td>0.5217</td>\n      <td>NaN</td>\n      <td>11.056958</td>\n      <td>0.915960</td>\n      <td>0.017572</td>\n      <td>NaN</td>\n      <td>NaN</td>\n      <td>NaN</td>\n    </tr>\n    <tr>\n      <th>5</th>\n      <td>downloaded_configs/passivbot_v5.8.0/configs\\ha...</td>\n      <td>EOSUSDT</td>\n      <td>NaN</td>\n      <td>0.173</td>\n      <td>NaN</td>\n      <td>99.98</td>\n      <td>NaN</td>\n      <td>0.6917</td>\n      <td>NaN</td>\n      <td>14.597917</td>\n      <td>0.445603</td>\n      <td>0.013177</td>\n      <td>NaN</td>\n      <td>NaN</td>\n      <td>NaN</td>\n    </tr>\n    <tr>\n      <th>...</th>\n      <td>...</td>\n      <td>...</td>\n      <td>...</td>\n      <td>...</td>\n      <td>...</td>\n      <td>...</td>\n      <td>...</td>\n      <td>...</td>\n      <td>...</td>\n      <td>...</td>\n      <td>...</td>\n      <td>...</td>\n      <td>...</td>\n      <td>...</td>\n      <td>...</td>\n    </tr>\n    <tr>\n      <th>538</th>\n      <td>downloaded_configs/passivbot_v5.8.0/configs\\pa...</td>\n      <td>HBARUSDT</td>\n      <td>NaN</td>\n      <td>0.186</td>\n      <td>NaN</td>\n      <td>99.83</td>\n      <td>NaN</td>\n      <td>0.6671</td>\n      <td>NaN</td>\n      <td>9.752083</td>\n      <td>0.498154</td>\n      <td>0.011753</td>\n      <td>NaN</td>\n      <td>NaN</td>\n      <td>NaN</td>\n    </tr>\n    <tr>\n      <th>539</th>\n      <td>downloaded_configs/passivbot_v5.8.0/configs\\pa...</td>\n      <td>MATICUSDT</td>\n      <td>NaN</td>\n      <td>0.261</td>\n      <td>NaN</td>\n      <td>99.85</td>\n      <td>NaN</td>\n      <td>0.7691</td>\n      <td>NaN</td>\n      <td>8.481958</td>\n      <td>0.299799</td>\n      <td>0.012178</td>\n      <td>NaN</td>\n      <td>NaN</td>\n      <td>NaN</td>\n    </tr>\n    <tr>\n      <th>540</th>\n      <td>downloaded_configs/passivbot_v5.8.0/configs\\pa...</td>\n      <td>SUSHIUSDT</td>\n      <td>NaN</td>\n      <td>0.228</td>\n      <td>NaN</td>\n      <td>99.75</td>\n      <td>NaN</td>\n      <td>0.5204</td>\n      <td>NaN</td>\n      <td>2.986804</td>\n      <td>0.919427</td>\n      <td>0.010983</td>\n      <td>NaN</td>\n      <td>NaN</td>\n      <td>NaN</td>\n    </tr>\n    <tr>\n      <th>541</th>\n      <td>downloaded_configs/passivbot_v5.8.0/configs\\pa...</td>\n      <td>XRPUSDT</td>\n      <td>NaN</td>\n      <td>0.223</td>\n      <td>NaN</td>\n      <td>99.86</td>\n      <td>NaN</td>\n      <td>0.7536</td>\n      <td>NaN</td>\n      <td>8.080542</td>\n      <td>0.326524</td>\n      <td>0.009385</td>\n      <td>NaN</td>\n      <td>NaN</td>\n      <td>NaN</td>\n    </tr>\n    <tr>\n      <th>542</th>\n      <td>downloaded_configs/passivbot_v5.8.0/configs\\pa...</td>\n      <td>XTZUSDT</td>\n      <td>NaN</td>\n      <td>0.134</td>\n      <td>NaN</td>\n      <td>99.76</td>\n      <td>NaN</td>\n      <td>0.4813</td>\n      <td>NaN</td>\n      <td>7.336792</td>\n      <td>1.075320</td>\n      <td>0.012374</td>\n      <td>NaN</td>\n      <td>NaN</td>\n      <td>NaN</td>\n    </tr>\n  </tbody>\n</table>\n<p>380 rows × 15 columns</p>\n</div>"
     },
     "execution_count": 5,
     "metadata": {},
     "output_type": "execute_result"
    }
   ],
   "source": [
    "df.drop_duplicates(\n",
    "    subset=['s',  'tgl_%', 'tgs_%', 'adgl_%', 'adgs_%', 'adgt_%', 'bnkrl_%', 'bnkrs_%', 'ebrl', 'ebrs', 'long',\n",
    "            'short'], keep='first',\n",
    "    inplace=True)\n",
    "dx = df[['file',  's', 'adgt_%', 'adgl_%', 'adgs_%', 'bnkrl_%', 'bnkrs_%', 'ebrl', 'ebrs', 'maxsl', 'pamaxl','pastdl',\n",
    "         'maxss', 'pamaxs','pastds' ]]\n",
    "dx"
   ],
   "metadata": {
    "collapsed": false,
    "pycharm": {
     "name": "#%%\n"
    }
   }
  },
  {
   "cell_type": "code",
   "execution_count": 7,
   "outputs": [
    {
     "data": {
      "text/plain": "                                                  file          s   adgt_%  \\\n35   downloaded_configs/passivbot_v5.8.0/configs\\ha...   HBARUSDT  0.07030   \n75   downloaded_configs/passivbot_v5.8.0/configs\\ha...   LINKUSDT  0.06760   \n77   downloaded_configs/passivbot_v5.8.0/configs\\ha...  MATICUSDT  0.14260   \n85   downloaded_configs/passivbot_v5.8.0/configs\\ha...  MATICUSDT  0.13820   \n87   downloaded_configs/passivbot_v5.8.0/configs\\ha...   ATOMUSDT  0.07170   \n93   downloaded_configs/passivbot_v5.8.0/configs\\ha...   HBARUSDT  0.10180   \n96   downloaded_configs/passivbot_v5.8.0/configs\\ha...  MATICUSDT  0.13930   \n100  downloaded_configs/passivbot_v5.8.0/configs\\ha...    XRPUSDT  0.06410   \n132  downloaded_configs/passivbot_v5.8.0/configs\\ot...  MATICUSDT  0.02318   \n133  downloaded_configs/passivbot_v5.8.0/configs\\ot...   ATOMUSDT  0.02500   \n139  downloaded_configs/passivbot_v5.8.0/configs\\ot...    EOSUSDT  0.01375   \n146  downloaded_configs/passivbot_v5.8.0/configs\\ot...  MATICUSDT  0.03220   \n149  downloaded_configs/passivbot_v5.8.0/configs\\ot...  MATICUSDT  0.02457   \n169  downloaded_configs/passivbot_v5.8.0/configs\\ot...   ATOMUSDT  0.02370   \n178  downloaded_configs/passivbot_v5.8.0/configs\\ot...  MATICUSDT  0.02315   \n196  downloaded_configs/passivbot_v5.8.0/configs\\pa...   ATOMUSDT  0.02580   \n199  downloaded_configs/passivbot_v5.8.0/configs\\pa...    DOTUSDT  0.01842   \n286  downloaded_configs/passivbot_v5.8.0/configs\\pa...    EOSUSDT  0.01733   \n287  downloaded_configs/passivbot_v5.8.0/configs\\pa...   HBARUSDT  0.05760   \n288  downloaded_configs/passivbot_v5.8.0/configs\\pa...  MATICUSDT  0.04300   \n289  downloaded_configs/passivbot_v5.8.0/configs\\pa...   ATOMUSDT  0.05270   \n293  downloaded_configs/passivbot_v5.8.0/configs\\pa...    DOTUSDT  0.04570   \n296  downloaded_configs/passivbot_v5.8.0/configs\\pa...    EOSUSDT  0.03540   \n298  downloaded_configs/passivbot_v5.8.0/configs\\pa...   LINKUSDT  0.05700   \n299  downloaded_configs/passivbot_v5.8.0/configs\\pa...  MATICUSDT  0.05170   \n300  downloaded_configs/passivbot_v5.8.0/configs\\pa...   NEARUSDT  0.04530   \n301  downloaded_configs/passivbot_v5.8.0/configs\\pa...   SANDUSDT  0.05920   \n304  downloaded_configs/passivbot_v5.8.0/configs\\pa...    XMRUSDT  0.03810   \n344  downloaded_configs/passivbot_v5.8.0/configs\\pa...    EOSUSDT  0.02550   \n349  downloaded_configs/passivbot_v5.8.0/configs\\pa...    EOSUSDT  0.02440   \n350  downloaded_configs/passivbot_v5.8.0/configs\\pa...  MATICUSDT  0.06000   \n351  downloaded_configs/passivbot_v5.8.0/configs\\pa...   SANDUSDT  0.07010   \n353  downloaded_configs/passivbot_v5.8.0/configs\\pa...   HBARUSDT  0.07510   \n354  downloaded_configs/passivbot_v5.8.0/configs\\pa...  MATICUSDT  0.06030   \n356  downloaded_configs/passivbot_v5.8.0/configs\\pa...   HBARUSDT  0.06670   \n357  downloaded_configs/passivbot_v5.8.0/configs\\pa...  MATICUSDT  0.04120   \n358  downloaded_configs/passivbot_v5.8.0/configs\\pa...   HBARUSDT  0.06670   \n491  downloaded_configs/passivbot_v5.8.0/configs\\pa...    CHZUSDT  0.04330   \n493  downloaded_configs/passivbot_v5.8.0/configs\\pa...    EOSUSDT  0.02760   \n494  downloaded_configs/passivbot_v5.8.0/configs\\pa...   HBARUSDT  0.05480   \n495  downloaded_configs/passivbot_v5.8.0/configs\\pa...  MATICUSDT  0.05700   \n501  downloaded_configs/passivbot_v5.8.0/configs\\pa...  MATICUSDT  0.12060   \n503  downloaded_configs/passivbot_v5.8.0/configs\\pa...    XRPUSDT  0.06950   \n509  downloaded_configs/passivbot_v5.8.0/configs\\pa...    EOSUSDT  0.05290   \n511  downloaded_configs/passivbot_v5.8.0/configs\\pa...   LINKUSDT  0.07030   \n513  downloaded_configs/passivbot_v5.8.0/configs\\pa...  MATICUSDT  0.11710   \n516  downloaded_configs/passivbot_v5.8.0/configs\\pa...    XRPUSDT  0.07310   \n518  downloaded_configs/passivbot_v5.8.0/configs\\pa...   ATOMUSDT  0.05840   \n524  downloaded_configs/passivbot_v5.8.0/configs\\pa...   HBARUSDT  0.12880   \n\n      adgl_%   adgs_%  bnkrl_%  bnkrs_%    ebrl    ebrs     maxsl    pamaxl  \\\n35   0.04080  0.02950    100.0    100.0  0.9468  0.9567  5.604875  0.292471   \n75   0.05180  0.01580    100.0    100.0  0.9329  0.9762  6.122917  0.365803   \n77   0.12000  0.02260    100.0    100.0  0.9043  0.9536  3.083333  0.618375   \n85   0.11500  0.02320    100.0    100.0  0.9030  0.9537  4.554167  0.631445   \n87   0.05500  0.01670    100.0    100.0  0.9120  0.9530  9.906250  0.542391   \n93   0.06520  0.03660    100.0    100.0  0.9004  0.9544  3.570137  0.660923   \n96   0.11600  0.02330    100.0    100.0  0.9367  0.9656  4.178458  0.338400   \n100  0.04640  0.01770    100.0    100.0  0.9414  0.9460  9.789583  0.305723   \n132  0.01480  0.00838    100.0    100.0  0.9807  0.9750  4.659708  0.281597   \n133  0.01280  0.01220    100.0    100.0  0.9517  0.9724  4.167375  0.939702   \n139  0.00547  0.00828    100.0    100.0  0.9835  0.9402  9.970125  0.281533   \n146  0.01700  0.01520    100.0    100.0  0.9885  0.9547  3.046529  0.177829   \n149  0.01690  0.00767    100.0    100.0  0.9801  0.9814  3.861804  0.411463   \n169  0.01080  0.01290    100.0    100.0  0.9811  0.9775  7.170125  0.402136   \n178  0.01460  0.00855    100.0    100.0  0.9823  0.9780  3.521529  0.317594   \n196  0.01320  0.01260    100.0    100.0  0.9567  0.9769  7.978458  0.729742   \n199  0.01200  0.00642    100.0    100.0  0.9570  0.9877  8.351375  0.762794   \n286  0.00643  0.01090    100.0    100.0  0.9668  0.9551  3.140971  0.495390   \n287  0.01870  0.03890    100.0    100.0  0.9610  0.9595  2.059029  0.637276   \n288  0.02830  0.01470    100.0    100.0  0.9777  0.9772  3.436804  0.284637   \n289  0.03480  0.01790    100.0    100.0  0.9519  0.9778  4.569458  0.917218   \n293  0.03360  0.01210    100.0    100.0  0.9436  0.9831  4.300708  1.274470   \n296  0.01800  0.01740    100.0    100.0  0.9644  0.9728  8.509042  0.548516   \n298  0.02760  0.02940    100.0    100.0  0.9700  0.9611  7.245125  0.419351   \n299  0.03370  0.01800    100.0    100.0  0.9780  0.9604  3.405554  0.281703   \n300  0.02540  0.01990    100.0    100.0  0.9649  0.9496  3.001387  0.537348   \n301  0.03890  0.02030    100.0    100.0  0.9511  0.9592  2.895138  0.954727   \n304  0.01900  0.01910    100.0    100.0  0.9546  0.9851  3.928471  0.812133   \n344  0.01230  0.01320    100.0    100.0  0.9669  0.9646  4.719458  0.491861   \n349  0.01190  0.01250    100.0    100.0  0.9676  0.9597  7.561125  0.471988   \n350  0.04920  0.01080    100.0    100.0  0.9781  0.9761  6.261125  0.279647   \n351  0.04760  0.02250    100.0    100.0  0.9494  0.9561  2.277779  1.020020   \n353  0.03780  0.03730    100.0    100.0  0.9512  0.9641  1.324304  0.949289   \n354  0.04830  0.01200    100.0    100.0  0.9599  0.9809  4.134721  0.663205   \n356  0.03220  0.03450    100.0    100.0  0.9522  0.9844  2.581946  0.914455   \n357  0.02660  0.01460    100.0    100.0  0.9823  0.9548  4.865958  0.215352   \n358  0.02640  0.04030    100.0    100.0  0.9620  0.9581  5.232625  0.611071   \n491  0.02830  0.01500    100.0    100.0  0.9508  0.9569  2.688196  0.966104   \n493  0.01060  0.01700    100.0    100.0  0.9705  0.9518  5.661792  0.415795   \n494  0.02200  0.03280    100.0    100.0  0.9609  0.9598  4.929875  0.641548   \n495  0.04670  0.01030    100.0    100.0  0.9799  0.9587  4.297917  0.250223   \n501  0.09800  0.02260    100.0    100.0  0.9358  0.9546  3.534721  0.344123   \n503  0.05250  0.01700    100.0    100.0  0.9417  0.9591  9.791667  0.303444   \n509  0.03540  0.01750    100.0    100.0  0.9305  0.9474  9.236125  0.384362   \n511  0.05050  0.01980    100.0    100.0  0.9255  0.9792  4.113887  0.423959   \n513  0.09270  0.02440    100.0    100.0  0.9483  0.9614  4.322917  0.259838   \n516  0.05520  0.01790    100.0    100.0  0.9387  0.9449  9.106250  0.323725   \n518  0.03530  0.02310    100.0    100.0  0.9497  0.9728  3.324304  0.250914   \n524  0.07500  0.05380    100.0    100.0  0.9023  0.9515  5.772208  0.640497   \n\n       pastdl     maxss    pamaxs    pastds  \n35   0.020113  6.254875  0.264259  0.019793  \n75   0.017020  6.031958  0.164406  0.014173  \n77   0.019128  5.791667  0.276874  0.015581  \n85   0.012852  5.102083  0.276613  0.017294  \n87   0.019779  8.981250  0.280822  0.019068  \n93   0.008968  4.074304  0.274874  0.011451  \n96   0.010511  4.292375  0.222335  0.014170  \n100  0.008553  5.250708  0.309627  0.010707  \n132  0.016793  5.259042  0.199938  0.019015  \n133  0.023376  4.456250  0.217075  0.019573  \n139  0.015222  7.606250  0.374076  0.029264  \n146  0.012893  3.390971  0.311411  0.026326  \n149  0.019230  4.201375  0.152695  0.017310  \n169  0.017256  7.862500  0.210050  0.026351  \n178  0.017168  2.138196  0.180516  0.017166  \n196  0.026962  6.379875  0.208324  0.028154  \n199  0.023482  8.375708  0.148159  0.022983  \n286  0.007484  3.377779  0.308393  0.012523  \n287  0.009845  3.847221  0.287946  0.014746  \n288  0.009717  3.329167  0.185198  0.014065  \n289  0.019965  6.585417  0.181193  0.017137  \n293  0.009835  5.234708  0.143103  0.016064  \n296  0.015927  7.911792  0.213167  0.018361  \n298  0.012593  7.972917  0.278608  0.029617  \n299  0.010978  9.068750  0.283494  0.026813  \n300  0.013872  9.556250  0.333567  0.022385  \n301  0.016415  7.048625  0.289321  0.024914  \n304  0.009362  8.497917  0.128725  0.014595  \n344  0.009879  6.090958  0.259891  0.012514  \n349  0.012910  5.719458  0.286848  0.015730  \n350  0.015553  4.772208  0.207647  0.021721  \n351  0.017146  6.667375  0.300637  0.027798  \n353  0.011756  3.648613  0.263321  0.016944  \n354  0.012595  5.259042  0.160076  0.012130  \n356  0.010953  2.337500  0.134310  0.007973  \n357  0.011245  5.259042  0.311068  0.021352  \n358  0.010723  1.905554  0.294938  0.013320  \n491  0.013056  2.597221  0.301135  0.013039  \n493  0.012126  5.738208  0.323487  0.017482  \n494  0.012339  4.309042  0.286355  0.010799  \n495  0.010979  4.747208  0.292266  0.029568  \n501  0.009527  4.047917  0.274453  0.015690  \n503  0.009319  3.814583  0.253789  0.008664  \n509  0.010325  6.215958  0.303643  0.013407  \n511  0.010666  5.515292  0.146795  0.011554  \n513  0.009202  5.904167  0.242945  0.013792  \n516  0.009951  6.441667  0.313927  0.009566  \n518  0.009951  3.318054  0.182261  0.010759  \n524  0.009953  4.806250  0.287523  0.012303  ",
      "text/html": "<div>\n<style scoped>\n    .dataframe tbody tr th:only-of-type {\n        vertical-align: middle;\n    }\n\n    .dataframe tbody tr th {\n        vertical-align: top;\n    }\n\n    .dataframe thead th {\n        text-align: right;\n    }\n</style>\n<table border=\"1\" class=\"dataframe\">\n  <thead>\n    <tr style=\"text-align: right;\">\n      <th></th>\n      <th>file</th>\n      <th>s</th>\n      <th>adgt_%</th>\n      <th>adgl_%</th>\n      <th>adgs_%</th>\n      <th>bnkrl_%</th>\n      <th>bnkrs_%</th>\n      <th>ebrl</th>\n      <th>ebrs</th>\n      <th>maxsl</th>\n      <th>pamaxl</th>\n      <th>pastdl</th>\n      <th>maxss</th>\n      <th>pamaxs</th>\n      <th>pastds</th>\n    </tr>\n  </thead>\n  <tbody>\n    <tr>\n      <th>35</th>\n      <td>downloaded_configs/passivbot_v5.8.0/configs\\ha...</td>\n      <td>HBARUSDT</td>\n      <td>0.07030</td>\n      <td>0.04080</td>\n      <td>0.02950</td>\n      <td>100.0</td>\n      <td>100.0</td>\n      <td>0.9468</td>\n      <td>0.9567</td>\n      <td>5.604875</td>\n      <td>0.292471</td>\n      <td>0.020113</td>\n      <td>6.254875</td>\n      <td>0.264259</td>\n      <td>0.019793</td>\n    </tr>\n    <tr>\n      <th>75</th>\n      <td>downloaded_configs/passivbot_v5.8.0/configs\\ha...</td>\n      <td>LINKUSDT</td>\n      <td>0.06760</td>\n      <td>0.05180</td>\n      <td>0.01580</td>\n      <td>100.0</td>\n      <td>100.0</td>\n      <td>0.9329</td>\n      <td>0.9762</td>\n      <td>6.122917</td>\n      <td>0.365803</td>\n      <td>0.017020</td>\n      <td>6.031958</td>\n      <td>0.164406</td>\n      <td>0.014173</td>\n    </tr>\n    <tr>\n      <th>77</th>\n      <td>downloaded_configs/passivbot_v5.8.0/configs\\ha...</td>\n      <td>MATICUSDT</td>\n      <td>0.14260</td>\n      <td>0.12000</td>\n      <td>0.02260</td>\n      <td>100.0</td>\n      <td>100.0</td>\n      <td>0.9043</td>\n      <td>0.9536</td>\n      <td>3.083333</td>\n      <td>0.618375</td>\n      <td>0.019128</td>\n      <td>5.791667</td>\n      <td>0.276874</td>\n      <td>0.015581</td>\n    </tr>\n    <tr>\n      <th>85</th>\n      <td>downloaded_configs/passivbot_v5.8.0/configs\\ha...</td>\n      <td>MATICUSDT</td>\n      <td>0.13820</td>\n      <td>0.11500</td>\n      <td>0.02320</td>\n      <td>100.0</td>\n      <td>100.0</td>\n      <td>0.9030</td>\n      <td>0.9537</td>\n      <td>4.554167</td>\n      <td>0.631445</td>\n      <td>0.012852</td>\n      <td>5.102083</td>\n      <td>0.276613</td>\n      <td>0.017294</td>\n    </tr>\n    <tr>\n      <th>87</th>\n      <td>downloaded_configs/passivbot_v5.8.0/configs\\ha...</td>\n      <td>ATOMUSDT</td>\n      <td>0.07170</td>\n      <td>0.05500</td>\n      <td>0.01670</td>\n      <td>100.0</td>\n      <td>100.0</td>\n      <td>0.9120</td>\n      <td>0.9530</td>\n      <td>9.906250</td>\n      <td>0.542391</td>\n      <td>0.019779</td>\n      <td>8.981250</td>\n      <td>0.280822</td>\n      <td>0.019068</td>\n    </tr>\n    <tr>\n      <th>93</th>\n      <td>downloaded_configs/passivbot_v5.8.0/configs\\ha...</td>\n      <td>HBARUSDT</td>\n      <td>0.10180</td>\n      <td>0.06520</td>\n      <td>0.03660</td>\n      <td>100.0</td>\n      <td>100.0</td>\n      <td>0.9004</td>\n      <td>0.9544</td>\n      <td>3.570137</td>\n      <td>0.660923</td>\n      <td>0.008968</td>\n      <td>4.074304</td>\n      <td>0.274874</td>\n      <td>0.011451</td>\n    </tr>\n    <tr>\n      <th>96</th>\n      <td>downloaded_configs/passivbot_v5.8.0/configs\\ha...</td>\n      <td>MATICUSDT</td>\n      <td>0.13930</td>\n      <td>0.11600</td>\n      <td>0.02330</td>\n      <td>100.0</td>\n      <td>100.0</td>\n      <td>0.9367</td>\n      <td>0.9656</td>\n      <td>4.178458</td>\n      <td>0.338400</td>\n      <td>0.010511</td>\n      <td>4.292375</td>\n      <td>0.222335</td>\n      <td>0.014170</td>\n    </tr>\n    <tr>\n      <th>100</th>\n      <td>downloaded_configs/passivbot_v5.8.0/configs\\ha...</td>\n      <td>XRPUSDT</td>\n      <td>0.06410</td>\n      <td>0.04640</td>\n      <td>0.01770</td>\n      <td>100.0</td>\n      <td>100.0</td>\n      <td>0.9414</td>\n      <td>0.9460</td>\n      <td>9.789583</td>\n      <td>0.305723</td>\n      <td>0.008553</td>\n      <td>5.250708</td>\n      <td>0.309627</td>\n      <td>0.010707</td>\n    </tr>\n    <tr>\n      <th>132</th>\n      <td>downloaded_configs/passivbot_v5.8.0/configs\\ot...</td>\n      <td>MATICUSDT</td>\n      <td>0.02318</td>\n      <td>0.01480</td>\n      <td>0.00838</td>\n      <td>100.0</td>\n      <td>100.0</td>\n      <td>0.9807</td>\n      <td>0.9750</td>\n      <td>4.659708</td>\n      <td>0.281597</td>\n      <td>0.016793</td>\n      <td>5.259042</td>\n      <td>0.199938</td>\n      <td>0.019015</td>\n    </tr>\n    <tr>\n      <th>133</th>\n      <td>downloaded_configs/passivbot_v5.8.0/configs\\ot...</td>\n      <td>ATOMUSDT</td>\n      <td>0.02500</td>\n      <td>0.01280</td>\n      <td>0.01220</td>\n      <td>100.0</td>\n      <td>100.0</td>\n      <td>0.9517</td>\n      <td>0.9724</td>\n      <td>4.167375</td>\n      <td>0.939702</td>\n      <td>0.023376</td>\n      <td>4.456250</td>\n      <td>0.217075</td>\n      <td>0.019573</td>\n    </tr>\n    <tr>\n      <th>139</th>\n      <td>downloaded_configs/passivbot_v5.8.0/configs\\ot...</td>\n      <td>EOSUSDT</td>\n      <td>0.01375</td>\n      <td>0.00547</td>\n      <td>0.00828</td>\n      <td>100.0</td>\n      <td>100.0</td>\n      <td>0.9835</td>\n      <td>0.9402</td>\n      <td>9.970125</td>\n      <td>0.281533</td>\n      <td>0.015222</td>\n      <td>7.606250</td>\n      <td>0.374076</td>\n      <td>0.029264</td>\n    </tr>\n    <tr>\n      <th>146</th>\n      <td>downloaded_configs/passivbot_v5.8.0/configs\\ot...</td>\n      <td>MATICUSDT</td>\n      <td>0.03220</td>\n      <td>0.01700</td>\n      <td>0.01520</td>\n      <td>100.0</td>\n      <td>100.0</td>\n      <td>0.9885</td>\n      <td>0.9547</td>\n      <td>3.046529</td>\n      <td>0.177829</td>\n      <td>0.012893</td>\n      <td>3.390971</td>\n      <td>0.311411</td>\n      <td>0.026326</td>\n    </tr>\n    <tr>\n      <th>149</th>\n      <td>downloaded_configs/passivbot_v5.8.0/configs\\ot...</td>\n      <td>MATICUSDT</td>\n      <td>0.02457</td>\n      <td>0.01690</td>\n      <td>0.00767</td>\n      <td>100.0</td>\n      <td>100.0</td>\n      <td>0.9801</td>\n      <td>0.9814</td>\n      <td>3.861804</td>\n      <td>0.411463</td>\n      <td>0.019230</td>\n      <td>4.201375</td>\n      <td>0.152695</td>\n      <td>0.017310</td>\n    </tr>\n    <tr>\n      <th>169</th>\n      <td>downloaded_configs/passivbot_v5.8.0/configs\\ot...</td>\n      <td>ATOMUSDT</td>\n      <td>0.02370</td>\n      <td>0.01080</td>\n      <td>0.01290</td>\n      <td>100.0</td>\n      <td>100.0</td>\n      <td>0.9811</td>\n      <td>0.9775</td>\n      <td>7.170125</td>\n      <td>0.402136</td>\n      <td>0.017256</td>\n      <td>7.862500</td>\n      <td>0.210050</td>\n      <td>0.026351</td>\n    </tr>\n    <tr>\n      <th>178</th>\n      <td>downloaded_configs/passivbot_v5.8.0/configs\\ot...</td>\n      <td>MATICUSDT</td>\n      <td>0.02315</td>\n      <td>0.01460</td>\n      <td>0.00855</td>\n      <td>100.0</td>\n      <td>100.0</td>\n      <td>0.9823</td>\n      <td>0.9780</td>\n      <td>3.521529</td>\n      <td>0.317594</td>\n      <td>0.017168</td>\n      <td>2.138196</td>\n      <td>0.180516</td>\n      <td>0.017166</td>\n    </tr>\n    <tr>\n      <th>196</th>\n      <td>downloaded_configs/passivbot_v5.8.0/configs\\pa...</td>\n      <td>ATOMUSDT</td>\n      <td>0.02580</td>\n      <td>0.01320</td>\n      <td>0.01260</td>\n      <td>100.0</td>\n      <td>100.0</td>\n      <td>0.9567</td>\n      <td>0.9769</td>\n      <td>7.978458</td>\n      <td>0.729742</td>\n      <td>0.026962</td>\n      <td>6.379875</td>\n      <td>0.208324</td>\n      <td>0.028154</td>\n    </tr>\n    <tr>\n      <th>199</th>\n      <td>downloaded_configs/passivbot_v5.8.0/configs\\pa...</td>\n      <td>DOTUSDT</td>\n      <td>0.01842</td>\n      <td>0.01200</td>\n      <td>0.00642</td>\n      <td>100.0</td>\n      <td>100.0</td>\n      <td>0.9570</td>\n      <td>0.9877</td>\n      <td>8.351375</td>\n      <td>0.762794</td>\n      <td>0.023482</td>\n      <td>8.375708</td>\n      <td>0.148159</td>\n      <td>0.022983</td>\n    </tr>\n    <tr>\n      <th>286</th>\n      <td>downloaded_configs/passivbot_v5.8.0/configs\\pa...</td>\n      <td>EOSUSDT</td>\n      <td>0.01733</td>\n      <td>0.00643</td>\n      <td>0.01090</td>\n      <td>100.0</td>\n      <td>100.0</td>\n      <td>0.9668</td>\n      <td>0.9551</td>\n      <td>3.140971</td>\n      <td>0.495390</td>\n      <td>0.007484</td>\n      <td>3.377779</td>\n      <td>0.308393</td>\n      <td>0.012523</td>\n    </tr>\n    <tr>\n      <th>287</th>\n      <td>downloaded_configs/passivbot_v5.8.0/configs\\pa...</td>\n      <td>HBARUSDT</td>\n      <td>0.05760</td>\n      <td>0.01870</td>\n      <td>0.03890</td>\n      <td>100.0</td>\n      <td>100.0</td>\n      <td>0.9610</td>\n      <td>0.9595</td>\n      <td>2.059029</td>\n      <td>0.637276</td>\n      <td>0.009845</td>\n      <td>3.847221</td>\n      <td>0.287946</td>\n      <td>0.014746</td>\n    </tr>\n    <tr>\n      <th>288</th>\n      <td>downloaded_configs/passivbot_v5.8.0/configs\\pa...</td>\n      <td>MATICUSDT</td>\n      <td>0.04300</td>\n      <td>0.02830</td>\n      <td>0.01470</td>\n      <td>100.0</td>\n      <td>100.0</td>\n      <td>0.9777</td>\n      <td>0.9772</td>\n      <td>3.436804</td>\n      <td>0.284637</td>\n      <td>0.009717</td>\n      <td>3.329167</td>\n      <td>0.185198</td>\n      <td>0.014065</td>\n    </tr>\n    <tr>\n      <th>289</th>\n      <td>downloaded_configs/passivbot_v5.8.0/configs\\pa...</td>\n      <td>ATOMUSDT</td>\n      <td>0.05270</td>\n      <td>0.03480</td>\n      <td>0.01790</td>\n      <td>100.0</td>\n      <td>100.0</td>\n      <td>0.9519</td>\n      <td>0.9778</td>\n      <td>4.569458</td>\n      <td>0.917218</td>\n      <td>0.019965</td>\n      <td>6.585417</td>\n      <td>0.181193</td>\n      <td>0.017137</td>\n    </tr>\n    <tr>\n      <th>293</th>\n      <td>downloaded_configs/passivbot_v5.8.0/configs\\pa...</td>\n      <td>DOTUSDT</td>\n      <td>0.04570</td>\n      <td>0.03360</td>\n      <td>0.01210</td>\n      <td>100.0</td>\n      <td>100.0</td>\n      <td>0.9436</td>\n      <td>0.9831</td>\n      <td>4.300708</td>\n      <td>1.274470</td>\n      <td>0.009835</td>\n      <td>5.234708</td>\n      <td>0.143103</td>\n      <td>0.016064</td>\n    </tr>\n    <tr>\n      <th>296</th>\n      <td>downloaded_configs/passivbot_v5.8.0/configs\\pa...</td>\n      <td>EOSUSDT</td>\n      <td>0.03540</td>\n      <td>0.01800</td>\n      <td>0.01740</td>\n      <td>100.0</td>\n      <td>100.0</td>\n      <td>0.9644</td>\n      <td>0.9728</td>\n      <td>8.509042</td>\n      <td>0.548516</td>\n      <td>0.015927</td>\n      <td>7.911792</td>\n      <td>0.213167</td>\n      <td>0.018361</td>\n    </tr>\n    <tr>\n      <th>298</th>\n      <td>downloaded_configs/passivbot_v5.8.0/configs\\pa...</td>\n      <td>LINKUSDT</td>\n      <td>0.05700</td>\n      <td>0.02760</td>\n      <td>0.02940</td>\n      <td>100.0</td>\n      <td>100.0</td>\n      <td>0.9700</td>\n      <td>0.9611</td>\n      <td>7.245125</td>\n      <td>0.419351</td>\n      <td>0.012593</td>\n      <td>7.972917</td>\n      <td>0.278608</td>\n      <td>0.029617</td>\n    </tr>\n    <tr>\n      <th>299</th>\n      <td>downloaded_configs/passivbot_v5.8.0/configs\\pa...</td>\n      <td>MATICUSDT</td>\n      <td>0.05170</td>\n      <td>0.03370</td>\n      <td>0.01800</td>\n      <td>100.0</td>\n      <td>100.0</td>\n      <td>0.9780</td>\n      <td>0.9604</td>\n      <td>3.405554</td>\n      <td>0.281703</td>\n      <td>0.010978</td>\n      <td>9.068750</td>\n      <td>0.283494</td>\n      <td>0.026813</td>\n    </tr>\n    <tr>\n      <th>300</th>\n      <td>downloaded_configs/passivbot_v5.8.0/configs\\pa...</td>\n      <td>NEARUSDT</td>\n      <td>0.04530</td>\n      <td>0.02540</td>\n      <td>0.01990</td>\n      <td>100.0</td>\n      <td>100.0</td>\n      <td>0.9649</td>\n      <td>0.9496</td>\n      <td>3.001387</td>\n      <td>0.537348</td>\n      <td>0.013872</td>\n      <td>9.556250</td>\n      <td>0.333567</td>\n      <td>0.022385</td>\n    </tr>\n    <tr>\n      <th>301</th>\n      <td>downloaded_configs/passivbot_v5.8.0/configs\\pa...</td>\n      <td>SANDUSDT</td>\n      <td>0.05920</td>\n      <td>0.03890</td>\n      <td>0.02030</td>\n      <td>100.0</td>\n      <td>100.0</td>\n      <td>0.9511</td>\n      <td>0.9592</td>\n      <td>2.895138</td>\n      <td>0.954727</td>\n      <td>0.016415</td>\n      <td>7.048625</td>\n      <td>0.289321</td>\n      <td>0.024914</td>\n    </tr>\n    <tr>\n      <th>304</th>\n      <td>downloaded_configs/passivbot_v5.8.0/configs\\pa...</td>\n      <td>XMRUSDT</td>\n      <td>0.03810</td>\n      <td>0.01900</td>\n      <td>0.01910</td>\n      <td>100.0</td>\n      <td>100.0</td>\n      <td>0.9546</td>\n      <td>0.9851</td>\n      <td>3.928471</td>\n      <td>0.812133</td>\n      <td>0.009362</td>\n      <td>8.497917</td>\n      <td>0.128725</td>\n      <td>0.014595</td>\n    </tr>\n    <tr>\n      <th>344</th>\n      <td>downloaded_configs/passivbot_v5.8.0/configs\\pa...</td>\n      <td>EOSUSDT</td>\n      <td>0.02550</td>\n      <td>0.01230</td>\n      <td>0.01320</td>\n      <td>100.0</td>\n      <td>100.0</td>\n      <td>0.9669</td>\n      <td>0.9646</td>\n      <td>4.719458</td>\n      <td>0.491861</td>\n      <td>0.009879</td>\n      <td>6.090958</td>\n      <td>0.259891</td>\n      <td>0.012514</td>\n    </tr>\n    <tr>\n      <th>349</th>\n      <td>downloaded_configs/passivbot_v5.8.0/configs\\pa...</td>\n      <td>EOSUSDT</td>\n      <td>0.02440</td>\n      <td>0.01190</td>\n      <td>0.01250</td>\n      <td>100.0</td>\n      <td>100.0</td>\n      <td>0.9676</td>\n      <td>0.9597</td>\n      <td>7.561125</td>\n      <td>0.471988</td>\n      <td>0.012910</td>\n      <td>5.719458</td>\n      <td>0.286848</td>\n      <td>0.015730</td>\n    </tr>\n    <tr>\n      <th>350</th>\n      <td>downloaded_configs/passivbot_v5.8.0/configs\\pa...</td>\n      <td>MATICUSDT</td>\n      <td>0.06000</td>\n      <td>0.04920</td>\n      <td>0.01080</td>\n      <td>100.0</td>\n      <td>100.0</td>\n      <td>0.9781</td>\n      <td>0.9761</td>\n      <td>6.261125</td>\n      <td>0.279647</td>\n      <td>0.015553</td>\n      <td>4.772208</td>\n      <td>0.207647</td>\n      <td>0.021721</td>\n    </tr>\n    <tr>\n      <th>351</th>\n      <td>downloaded_configs/passivbot_v5.8.0/configs\\pa...</td>\n      <td>SANDUSDT</td>\n      <td>0.07010</td>\n      <td>0.04760</td>\n      <td>0.02250</td>\n      <td>100.0</td>\n      <td>100.0</td>\n      <td>0.9494</td>\n      <td>0.9561</td>\n      <td>2.277779</td>\n      <td>1.020020</td>\n      <td>0.017146</td>\n      <td>6.667375</td>\n      <td>0.300637</td>\n      <td>0.027798</td>\n    </tr>\n    <tr>\n      <th>353</th>\n      <td>downloaded_configs/passivbot_v5.8.0/configs\\pa...</td>\n      <td>HBARUSDT</td>\n      <td>0.07510</td>\n      <td>0.03780</td>\n      <td>0.03730</td>\n      <td>100.0</td>\n      <td>100.0</td>\n      <td>0.9512</td>\n      <td>0.9641</td>\n      <td>1.324304</td>\n      <td>0.949289</td>\n      <td>0.011756</td>\n      <td>3.648613</td>\n      <td>0.263321</td>\n      <td>0.016944</td>\n    </tr>\n    <tr>\n      <th>354</th>\n      <td>downloaded_configs/passivbot_v5.8.0/configs\\pa...</td>\n      <td>MATICUSDT</td>\n      <td>0.06030</td>\n      <td>0.04830</td>\n      <td>0.01200</td>\n      <td>100.0</td>\n      <td>100.0</td>\n      <td>0.9599</td>\n      <td>0.9809</td>\n      <td>4.134721</td>\n      <td>0.663205</td>\n      <td>0.012595</td>\n      <td>5.259042</td>\n      <td>0.160076</td>\n      <td>0.012130</td>\n    </tr>\n    <tr>\n      <th>356</th>\n      <td>downloaded_configs/passivbot_v5.8.0/configs\\pa...</td>\n      <td>HBARUSDT</td>\n      <td>0.06670</td>\n      <td>0.03220</td>\n      <td>0.03450</td>\n      <td>100.0</td>\n      <td>100.0</td>\n      <td>0.9522</td>\n      <td>0.9844</td>\n      <td>2.581946</td>\n      <td>0.914455</td>\n      <td>0.010953</td>\n      <td>2.337500</td>\n      <td>0.134310</td>\n      <td>0.007973</td>\n    </tr>\n    <tr>\n      <th>357</th>\n      <td>downloaded_configs/passivbot_v5.8.0/configs\\pa...</td>\n      <td>MATICUSDT</td>\n      <td>0.04120</td>\n      <td>0.02660</td>\n      <td>0.01460</td>\n      <td>100.0</td>\n      <td>100.0</td>\n      <td>0.9823</td>\n      <td>0.9548</td>\n      <td>4.865958</td>\n      <td>0.215352</td>\n      <td>0.011245</td>\n      <td>5.259042</td>\n      <td>0.311068</td>\n      <td>0.021352</td>\n    </tr>\n    <tr>\n      <th>358</th>\n      <td>downloaded_configs/passivbot_v5.8.0/configs\\pa...</td>\n      <td>HBARUSDT</td>\n      <td>0.06670</td>\n      <td>0.02640</td>\n      <td>0.04030</td>\n      <td>100.0</td>\n      <td>100.0</td>\n      <td>0.9620</td>\n      <td>0.9581</td>\n      <td>5.232625</td>\n      <td>0.611071</td>\n      <td>0.010723</td>\n      <td>1.905554</td>\n      <td>0.294938</td>\n      <td>0.013320</td>\n    </tr>\n    <tr>\n      <th>491</th>\n      <td>downloaded_configs/passivbot_v5.8.0/configs\\pa...</td>\n      <td>CHZUSDT</td>\n      <td>0.04330</td>\n      <td>0.02830</td>\n      <td>0.01500</td>\n      <td>100.0</td>\n      <td>100.0</td>\n      <td>0.9508</td>\n      <td>0.9569</td>\n      <td>2.688196</td>\n      <td>0.966104</td>\n      <td>0.013056</td>\n      <td>2.597221</td>\n      <td>0.301135</td>\n      <td>0.013039</td>\n    </tr>\n    <tr>\n      <th>493</th>\n      <td>downloaded_configs/passivbot_v5.8.0/configs\\pa...</td>\n      <td>EOSUSDT</td>\n      <td>0.02760</td>\n      <td>0.01060</td>\n      <td>0.01700</td>\n      <td>100.0</td>\n      <td>100.0</td>\n      <td>0.9705</td>\n      <td>0.9518</td>\n      <td>5.661792</td>\n      <td>0.415795</td>\n      <td>0.012126</td>\n      <td>5.738208</td>\n      <td>0.323487</td>\n      <td>0.017482</td>\n    </tr>\n    <tr>\n      <th>494</th>\n      <td>downloaded_configs/passivbot_v5.8.0/configs\\pa...</td>\n      <td>HBARUSDT</td>\n      <td>0.05480</td>\n      <td>0.02200</td>\n      <td>0.03280</td>\n      <td>100.0</td>\n      <td>100.0</td>\n      <td>0.9609</td>\n      <td>0.9598</td>\n      <td>4.929875</td>\n      <td>0.641548</td>\n      <td>0.012339</td>\n      <td>4.309042</td>\n      <td>0.286355</td>\n      <td>0.010799</td>\n    </tr>\n    <tr>\n      <th>495</th>\n      <td>downloaded_configs/passivbot_v5.8.0/configs\\pa...</td>\n      <td>MATICUSDT</td>\n      <td>0.05700</td>\n      <td>0.04670</td>\n      <td>0.01030</td>\n      <td>100.0</td>\n      <td>100.0</td>\n      <td>0.9799</td>\n      <td>0.9587</td>\n      <td>4.297917</td>\n      <td>0.250223</td>\n      <td>0.010979</td>\n      <td>4.747208</td>\n      <td>0.292266</td>\n      <td>0.029568</td>\n    </tr>\n    <tr>\n      <th>501</th>\n      <td>downloaded_configs/passivbot_v5.8.0/configs\\pa...</td>\n      <td>MATICUSDT</td>\n      <td>0.12060</td>\n      <td>0.09800</td>\n      <td>0.02260</td>\n      <td>100.0</td>\n      <td>100.0</td>\n      <td>0.9358</td>\n      <td>0.9546</td>\n      <td>3.534721</td>\n      <td>0.344123</td>\n      <td>0.009527</td>\n      <td>4.047917</td>\n      <td>0.274453</td>\n      <td>0.015690</td>\n    </tr>\n    <tr>\n      <th>503</th>\n      <td>downloaded_configs/passivbot_v5.8.0/configs\\pa...</td>\n      <td>XRPUSDT</td>\n      <td>0.06950</td>\n      <td>0.05250</td>\n      <td>0.01700</td>\n      <td>100.0</td>\n      <td>100.0</td>\n      <td>0.9417</td>\n      <td>0.9591</td>\n      <td>9.791667</td>\n      <td>0.303444</td>\n      <td>0.009319</td>\n      <td>3.814583</td>\n      <td>0.253789</td>\n      <td>0.008664</td>\n    </tr>\n    <tr>\n      <th>509</th>\n      <td>downloaded_configs/passivbot_v5.8.0/configs\\pa...</td>\n      <td>EOSUSDT</td>\n      <td>0.05290</td>\n      <td>0.03540</td>\n      <td>0.01750</td>\n      <td>100.0</td>\n      <td>100.0</td>\n      <td>0.9305</td>\n      <td>0.9474</td>\n      <td>9.236125</td>\n      <td>0.384362</td>\n      <td>0.010325</td>\n      <td>6.215958</td>\n      <td>0.303643</td>\n      <td>0.013407</td>\n    </tr>\n    <tr>\n      <th>511</th>\n      <td>downloaded_configs/passivbot_v5.8.0/configs\\pa...</td>\n      <td>LINKUSDT</td>\n      <td>0.07030</td>\n      <td>0.05050</td>\n      <td>0.01980</td>\n      <td>100.0</td>\n      <td>100.0</td>\n      <td>0.9255</td>\n      <td>0.9792</td>\n      <td>4.113887</td>\n      <td>0.423959</td>\n      <td>0.010666</td>\n      <td>5.515292</td>\n      <td>0.146795</td>\n      <td>0.011554</td>\n    </tr>\n    <tr>\n      <th>513</th>\n      <td>downloaded_configs/passivbot_v5.8.0/configs\\pa...</td>\n      <td>MATICUSDT</td>\n      <td>0.11710</td>\n      <td>0.09270</td>\n      <td>0.02440</td>\n      <td>100.0</td>\n      <td>100.0</td>\n      <td>0.9483</td>\n      <td>0.9614</td>\n      <td>4.322917</td>\n      <td>0.259838</td>\n      <td>0.009202</td>\n      <td>5.904167</td>\n      <td>0.242945</td>\n      <td>0.013792</td>\n    </tr>\n    <tr>\n      <th>516</th>\n      <td>downloaded_configs/passivbot_v5.8.0/configs\\pa...</td>\n      <td>XRPUSDT</td>\n      <td>0.07310</td>\n      <td>0.05520</td>\n      <td>0.01790</td>\n      <td>100.0</td>\n      <td>100.0</td>\n      <td>0.9387</td>\n      <td>0.9449</td>\n      <td>9.106250</td>\n      <td>0.323725</td>\n      <td>0.009951</td>\n      <td>6.441667</td>\n      <td>0.313927</td>\n      <td>0.009566</td>\n    </tr>\n    <tr>\n      <th>518</th>\n      <td>downloaded_configs/passivbot_v5.8.0/configs\\pa...</td>\n      <td>ATOMUSDT</td>\n      <td>0.05840</td>\n      <td>0.03530</td>\n      <td>0.02310</td>\n      <td>100.0</td>\n      <td>100.0</td>\n      <td>0.9497</td>\n      <td>0.9728</td>\n      <td>3.324304</td>\n      <td>0.250914</td>\n      <td>0.009951</td>\n      <td>3.318054</td>\n      <td>0.182261</td>\n      <td>0.010759</td>\n    </tr>\n    <tr>\n      <th>524</th>\n      <td>downloaded_configs/passivbot_v5.8.0/configs\\pa...</td>\n      <td>HBARUSDT</td>\n      <td>0.12880</td>\n      <td>0.07500</td>\n      <td>0.05380</td>\n      <td>100.0</td>\n      <td>100.0</td>\n      <td>0.9023</td>\n      <td>0.9515</td>\n      <td>5.772208</td>\n      <td>0.640497</td>\n      <td>0.009953</td>\n      <td>4.806250</td>\n      <td>0.287523</td>\n      <td>0.012303</td>\n    </tr>\n  </tbody>\n</table>\n</div>"
     },
     "execution_count": 7,
     "metadata": {},
     "output_type": "execute_result"
    }
   ],
   "source": [
    "dl_proposed = dx[\n",
    "    #(dx['lm'] == 'n') &\n",
    "    (dx['bnkrl_%'] == 100) &\n",
    "    (dx['bnkrs_%'] == 100) &\n",
    "    (dx['ebrl'] > 0.9) &  #&\n",
    "    (dx['ebrs'] > 0.9) &  #&\n",
    "    # (dx['adgl_%'] > 0.04) \n",
    "    (dx['pastdl'] < 0.03) &\n",
    "    (dx['pastds'] < 0.03) &  #\n",
    "    (dx['maxsl'] < 10) &\n",
    "    (dx['maxss'] < 10) &\n",
    "    (dx['adgt_%'].notnull())\n",
    "    ]\n",
    "#dl_proposed = dl_proposed[['file','s','adgl_%', 'bnkrl_%', 'ebrl',  'maxsl', 'pamaxl','pastdl' ]]\n",
    "dl_proposed"
   ],
   "metadata": {
    "collapsed": false,
    "pycharm": {
     "name": "#%%\n"
    }
   }
  },
  {
   "cell_type": "code",
   "execution_count": 6,
   "outputs": [],
   "source": [],
   "metadata": {
    "collapsed": false,
    "pycharm": {
     "name": "#%%\n"
    }
   }
  }
 ],
 "metadata": {
  "kernelspec": {
   "display_name": "Python 3",
   "language": "python",
   "name": "python3"
  },
  "language_info": {
   "codemirror_mode": {
    "name": "ipython",
    "version": 2
   },
   "file_extension": ".py",
   "mimetype": "text/x-python",
   "name": "python",
   "nbconvert_exporter": "python",
   "pygments_lexer": "ipython2",
   "version": "2.7.6"
  }
 },
 "nbformat": 4,
 "nbformat_minor": 0
}