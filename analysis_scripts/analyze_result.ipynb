{
 "cells": [
  {
   "cell_type": "code",
   "execution_count": 13,
   "metadata": {
    "collapsed": true,
    "ExecuteTime": {
     "start_time": "2023-04-10T13:58:43.710503Z",
     "end_time": "2023-04-10T13:58:43.761503Z"
    }
   },
   "outputs": [
    {
     "name": "stdout",
     "output_type": "stream",
     "text": [
      "The autoreload extension is already loaded. To reload it, use:\n",
      "  %reload_ext autoreload\n"
     ]
    }
   ],
   "source": [
    "%load_ext autoreload\n",
    "%autoreload 2"
   ]
  },
  {
   "cell_type": "code",
   "execution_count": 14,
   "outputs": [],
   "source": [
    "import glob\n",
    "import json\n",
    "\n",
    "import pandas as pd"
   ],
   "metadata": {
    "collapsed": false,
    "ExecuteTime": {
     "start_time": "2023-04-10T13:58:43.760503Z",
     "end_time": "2023-04-10T13:58:43.807144Z"
    }
   }
  },
  {
   "cell_type": "code",
   "execution_count": 15,
   "outputs": [
    {
     "name": "stdout",
     "output_type": "stream",
     "text": [
      "['..\\\\downloaded_configs\\\\passivbot_v5.9.x\\\\configs/v5.9.3_clock_realistic/clock/toaster_longonly_01_safe\\\\ADAUSDT_20230217004157_5293c\\\\ADAUSDT\\\\result.txt', '..\\\\downloaded_configs\\\\passivbot_v5.9.x\\\\configs/v5.9.3_clock_realistic/clock/toaster_longonly_01_safe\\\\ALGOUSDT_20230217004157_5293c\\\\ALGOUSDT\\\\result.txt', '..\\\\downloaded_configs\\\\passivbot_v5.9.x\\\\configs/v5.9.3_clock_realistic/clock/toaster_longonly_01_safe\\\\ATOMUSDT_20230217004157_5293c\\\\ATOMUSDT\\\\result.txt', '..\\\\downloaded_configs\\\\passivbot_v5.9.x\\\\configs/v5.9.3_clock_realistic/clock/toaster_longonly_01_safe\\\\AVAXUSDT_20230217004157_5293c\\\\AVAXUSDT\\\\result.txt', '..\\\\downloaded_configs\\\\passivbot_v5.9.x\\\\configs/v5.9.3_clock_realistic/clock/toaster_longonly_01_safe\\\\BNBUSDT_20230217004157_5293c\\\\BNBUSDT\\\\result.txt', '..\\\\downloaded_configs\\\\passivbot_v5.9.x\\\\configs/v5.9.3_clock_realistic/clock/toaster_longonly_01_safe\\\\BTCUSDT_20230217004157_5293c\\\\BTCUSDT\\\\result.txt', '..\\\\downloaded_configs\\\\passivbot_v5.9.x\\\\configs/v5.9.3_clock_realistic/clock/toaster_longonly_01_safe\\\\COMPUSDT_20230217004157_5293c\\\\COMPUSDT\\\\result.txt', '..\\\\downloaded_configs\\\\passivbot_v5.9.x\\\\configs/v5.9.3_clock_realistic/clock/toaster_longonly_01_safe\\\\DOGEUSDT_20230217004157_5293c\\\\DOGEUSDT\\\\result.txt', '..\\\\downloaded_configs\\\\passivbot_v5.9.x\\\\configs/v5.9.3_clock_realistic/clock/toaster_longonly_01_safe\\\\DOTUSDT_20230217004157_5293c\\\\DOTUSDT\\\\result.txt', '..\\\\downloaded_configs\\\\passivbot_v5.9.x\\\\configs/v5.9.3_clock_realistic/clock/toaster_longonly_01_safe\\\\DYDXUSDT_20230217004157_5293c\\\\DYDXUSDT\\\\result.txt', '..\\\\downloaded_configs\\\\passivbot_v5.9.x\\\\configs/v5.9.3_clock_realistic/clock/toaster_longonly_01_safe\\\\EOSUSDT_20230217004157_5293c\\\\EOSUSDT\\\\result.txt', '..\\\\downloaded_configs\\\\passivbot_v5.9.x\\\\configs/v5.9.3_clock_realistic/clock/toaster_longonly_01_safe\\\\ETCUSDT_20230217004157_5293c\\\\ETCUSDT\\\\result.txt', '..\\\\downloaded_configs\\\\passivbot_v5.9.x\\\\configs/v5.9.3_clock_realistic/clock/toaster_longonly_01_safe\\\\ETHUSDT_20230217004157_5293c\\\\ETHUSDT\\\\result.txt', '..\\\\downloaded_configs\\\\passivbot_v5.9.x\\\\configs/v5.9.3_clock_realistic/clock/toaster_longonly_01_safe\\\\GALAUSDT_20230217004157_5293c\\\\GALAUSDT\\\\result.txt', '..\\\\downloaded_configs\\\\passivbot_v5.9.x\\\\configs/v5.9.3_clock_realistic/clock/toaster_longonly_01_safe\\\\GALUSDT_20230217004157_5293c\\\\GALUSDT\\\\result.txt', '..\\\\downloaded_configs\\\\passivbot_v5.9.x\\\\configs/v5.9.3_clock_realistic/clock/toaster_longonly_01_safe\\\\GMTUSDT_20230217004157_5293c\\\\GMTUSDT\\\\result.txt', '..\\\\downloaded_configs\\\\passivbot_v5.9.x\\\\configs/v5.9.3_clock_realistic/clock/toaster_longonly_01_safe\\\\HBARUSDT_20230217004157_5293c\\\\HBARUSDT\\\\result.txt', '..\\\\downloaded_configs\\\\passivbot_v5.9.x\\\\configs/v5.9.3_clock_realistic/clock/toaster_longonly_01_safe\\\\KSMUSDT_20230217004157_5293c\\\\KSMUSDT\\\\result.txt', '..\\\\downloaded_configs\\\\passivbot_v5.9.x\\\\configs/v5.9.3_clock_realistic/clock/toaster_longonly_01_safe\\\\LINKUSDT_20230217004157_5293c\\\\LINKUSDT\\\\result.txt', '..\\\\downloaded_configs\\\\passivbot_v5.9.x\\\\configs/v5.9.3_clock_realistic/clock/toaster_longonly_01_safe\\\\LTCUSDT_20230217004157_5293c\\\\LTCUSDT\\\\result.txt', '..\\\\downloaded_configs\\\\passivbot_v5.9.x\\\\configs/v5.9.3_clock_realistic/clock/toaster_longonly_01_safe\\\\MANAUSDT_20230217004157_5293c\\\\MANAUSDT\\\\result.txt', '..\\\\downloaded_configs\\\\passivbot_v5.9.x\\\\configs/v5.9.3_clock_realistic/clock/toaster_longonly_01_safe\\\\MATICUSDT_20230217004157_5293c\\\\MATICUSDT\\\\result.txt', '..\\\\downloaded_configs\\\\passivbot_v5.9.x\\\\configs/v5.9.3_clock_realistic/clock/toaster_longonly_01_safe\\\\NEARUSDT_20230217004157_5293c\\\\NEARUSDT\\\\result.txt', '..\\\\downloaded_configs\\\\passivbot_v5.9.x\\\\configs/v5.9.3_clock_realistic/clock/toaster_longonly_01_safe\\\\RUNEUSDT_20230217004157_5293c\\\\RUNEUSDT\\\\result.txt', '..\\\\downloaded_configs\\\\passivbot_v5.9.x\\\\configs/v5.9.3_clock_realistic/clock/toaster_longonly_01_safe\\\\SANDUSDT_20230217004157_5293c\\\\SANDUSDT\\\\result.txt', '..\\\\downloaded_configs\\\\passivbot_v5.9.x\\\\configs/v5.9.3_clock_realistic/clock/toaster_longonly_01_safe\\\\SUSHIUSDT_20230217004157_5293c\\\\SUSHIUSDT\\\\result.txt', '..\\\\downloaded_configs\\\\passivbot_v5.9.x\\\\configs/v5.9.3_clock_realistic/clock/toaster_longonly_01_safe\\\\TRXUSDT_20230217004157_5293c\\\\TRXUSDT\\\\result.txt', '..\\\\downloaded_configs\\\\passivbot_v5.9.x\\\\configs/v5.9.3_clock_realistic/clock/toaster_longonly_01_safe\\\\VETUSDT_20230217004157_5293c\\\\VETUSDT\\\\result.txt', '..\\\\downloaded_configs\\\\passivbot_v5.9.x\\\\configs/v5.9.3_clock_realistic/clock/toaster_longonly_01_safe\\\\XMRUSDT_20230217004157_5293c\\\\XMRUSDT\\\\result.txt', '..\\\\downloaded_configs\\\\passivbot_v5.9.x\\\\configs/v5.9.3_clock_realistic/clock/toaster_longonly_01_safe\\\\XRPUSDT_20230217004157_5293c\\\\XRPUSDT\\\\result.txt', '..\\\\downloaded_configs\\\\passivbot_v5.9.x\\\\configs/v5.9.3_clock_realistic/clock/toaster_longonly_01_safe\\\\XTZUSDT_20230217004157_5293c\\\\XTZUSDT\\\\result.txt']\n"
     ]
    },
    {
     "name": "stderr",
     "output_type": "stream",
     "text": [
      "C:\\Users\\skhan\\AppData\\Local\\Temp\\ipykernel_26444\\1351075178.py:75: FutureWarning: The frame.append method is deprecated and will be removed from pandas in a future version. Use pandas.concat instead.\n",
      "  big_data = big_data.append(d, ignore_index=True)\n",
      "C:\\Users\\skhan\\AppData\\Local\\Temp\\ipykernel_26444\\1351075178.py:75: FutureWarning: The frame.append method is deprecated and will be removed from pandas in a future version. Use pandas.concat instead.\n",
      "  big_data = big_data.append(d, ignore_index=True)\n",
      "C:\\Users\\skhan\\AppData\\Local\\Temp\\ipykernel_26444\\1351075178.py:75: FutureWarning: The frame.append method is deprecated and will be removed from pandas in a future version. Use pandas.concat instead.\n",
      "  big_data = big_data.append(d, ignore_index=True)\n",
      "C:\\Users\\skhan\\AppData\\Local\\Temp\\ipykernel_26444\\1351075178.py:75: FutureWarning: The frame.append method is deprecated and will be removed from pandas in a future version. Use pandas.concat instead.\n",
      "  big_data = big_data.append(d, ignore_index=True)\n",
      "C:\\Users\\skhan\\AppData\\Local\\Temp\\ipykernel_26444\\1351075178.py:75: FutureWarning: The frame.append method is deprecated and will be removed from pandas in a future version. Use pandas.concat instead.\n",
      "  big_data = big_data.append(d, ignore_index=True)\n",
      "C:\\Users\\skhan\\AppData\\Local\\Temp\\ipykernel_26444\\1351075178.py:75: FutureWarning: The frame.append method is deprecated and will be removed from pandas in a future version. Use pandas.concat instead.\n",
      "  big_data = big_data.append(d, ignore_index=True)\n",
      "C:\\Users\\skhan\\AppData\\Local\\Temp\\ipykernel_26444\\1351075178.py:75: FutureWarning: The frame.append method is deprecated and will be removed from pandas in a future version. Use pandas.concat instead.\n",
      "  big_data = big_data.append(d, ignore_index=True)\n",
      "C:\\Users\\skhan\\AppData\\Local\\Temp\\ipykernel_26444\\1351075178.py:75: FutureWarning: The frame.append method is deprecated and will be removed from pandas in a future version. Use pandas.concat instead.\n",
      "  big_data = big_data.append(d, ignore_index=True)\n",
      "C:\\Users\\skhan\\AppData\\Local\\Temp\\ipykernel_26444\\1351075178.py:75: FutureWarning: The frame.append method is deprecated and will be removed from pandas in a future version. Use pandas.concat instead.\n",
      "  big_data = big_data.append(d, ignore_index=True)\n",
      "C:\\Users\\skhan\\AppData\\Local\\Temp\\ipykernel_26444\\1351075178.py:75: FutureWarning: The frame.append method is deprecated and will be removed from pandas in a future version. Use pandas.concat instead.\n",
      "  big_data = big_data.append(d, ignore_index=True)\n",
      "C:\\Users\\skhan\\AppData\\Local\\Temp\\ipykernel_26444\\1351075178.py:75: FutureWarning: The frame.append method is deprecated and will be removed from pandas in a future version. Use pandas.concat instead.\n",
      "  big_data = big_data.append(d, ignore_index=True)\n",
      "C:\\Users\\skhan\\AppData\\Local\\Temp\\ipykernel_26444\\1351075178.py:75: FutureWarning: The frame.append method is deprecated and will be removed from pandas in a future version. Use pandas.concat instead.\n",
      "  big_data = big_data.append(d, ignore_index=True)\n",
      "C:\\Users\\skhan\\AppData\\Local\\Temp\\ipykernel_26444\\1351075178.py:75: FutureWarning: The frame.append method is deprecated and will be removed from pandas in a future version. Use pandas.concat instead.\n",
      "  big_data = big_data.append(d, ignore_index=True)\n",
      "C:\\Users\\skhan\\AppData\\Local\\Temp\\ipykernel_26444\\1351075178.py:75: FutureWarning: The frame.append method is deprecated and will be removed from pandas in a future version. Use pandas.concat instead.\n",
      "  big_data = big_data.append(d, ignore_index=True)\n",
      "C:\\Users\\skhan\\AppData\\Local\\Temp\\ipykernel_26444\\1351075178.py:75: FutureWarning: The frame.append method is deprecated and will be removed from pandas in a future version. Use pandas.concat instead.\n",
      "  big_data = big_data.append(d, ignore_index=True)\n",
      "C:\\Users\\skhan\\AppData\\Local\\Temp\\ipykernel_26444\\1351075178.py:75: FutureWarning: The frame.append method is deprecated and will be removed from pandas in a future version. Use pandas.concat instead.\n",
      "  big_data = big_data.append(d, ignore_index=True)\n",
      "C:\\Users\\skhan\\AppData\\Local\\Temp\\ipykernel_26444\\1351075178.py:75: FutureWarning: The frame.append method is deprecated and will be removed from pandas in a future version. Use pandas.concat instead.\n",
      "  big_data = big_data.append(d, ignore_index=True)\n",
      "C:\\Users\\skhan\\AppData\\Local\\Temp\\ipykernel_26444\\1351075178.py:75: FutureWarning: The frame.append method is deprecated and will be removed from pandas in a future version. Use pandas.concat instead.\n",
      "  big_data = big_data.append(d, ignore_index=True)\n",
      "C:\\Users\\skhan\\AppData\\Local\\Temp\\ipykernel_26444\\1351075178.py:75: FutureWarning: The frame.append method is deprecated and will be removed from pandas in a future version. Use pandas.concat instead.\n",
      "  big_data = big_data.append(d, ignore_index=True)\n",
      "C:\\Users\\skhan\\AppData\\Local\\Temp\\ipykernel_26444\\1351075178.py:75: FutureWarning: The frame.append method is deprecated and will be removed from pandas in a future version. Use pandas.concat instead.\n",
      "  big_data = big_data.append(d, ignore_index=True)\n",
      "C:\\Users\\skhan\\AppData\\Local\\Temp\\ipykernel_26444\\1351075178.py:75: FutureWarning: The frame.append method is deprecated and will be removed from pandas in a future version. Use pandas.concat instead.\n",
      "  big_data = big_data.append(d, ignore_index=True)\n",
      "C:\\Users\\skhan\\AppData\\Local\\Temp\\ipykernel_26444\\1351075178.py:75: FutureWarning: The frame.append method is deprecated and will be removed from pandas in a future version. Use pandas.concat instead.\n",
      "  big_data = big_data.append(d, ignore_index=True)\n",
      "C:\\Users\\skhan\\AppData\\Local\\Temp\\ipykernel_26444\\1351075178.py:75: FutureWarning: The frame.append method is deprecated and will be removed from pandas in a future version. Use pandas.concat instead.\n",
      "  big_data = big_data.append(d, ignore_index=True)\n",
      "C:\\Users\\skhan\\AppData\\Local\\Temp\\ipykernel_26444\\1351075178.py:75: FutureWarning: The frame.append method is deprecated and will be removed from pandas in a future version. Use pandas.concat instead.\n",
      "  big_data = big_data.append(d, ignore_index=True)\n",
      "C:\\Users\\skhan\\AppData\\Local\\Temp\\ipykernel_26444\\1351075178.py:75: FutureWarning: The frame.append method is deprecated and will be removed from pandas in a future version. Use pandas.concat instead.\n",
      "  big_data = big_data.append(d, ignore_index=True)\n",
      "C:\\Users\\skhan\\AppData\\Local\\Temp\\ipykernel_26444\\1351075178.py:75: FutureWarning: The frame.append method is deprecated and will be removed from pandas in a future version. Use pandas.concat instead.\n",
      "  big_data = big_data.append(d, ignore_index=True)\n",
      "C:\\Users\\skhan\\AppData\\Local\\Temp\\ipykernel_26444\\1351075178.py:75: FutureWarning: The frame.append method is deprecated and will be removed from pandas in a future version. Use pandas.concat instead.\n",
      "  big_data = big_data.append(d, ignore_index=True)\n",
      "C:\\Users\\skhan\\AppData\\Local\\Temp\\ipykernel_26444\\1351075178.py:75: FutureWarning: The frame.append method is deprecated and will be removed from pandas in a future version. Use pandas.concat instead.\n",
      "  big_data = big_data.append(d, ignore_index=True)\n",
      "C:\\Users\\skhan\\AppData\\Local\\Temp\\ipykernel_26444\\1351075178.py:75: FutureWarning: The frame.append method is deprecated and will be removed from pandas in a future version. Use pandas.concat instead.\n",
      "  big_data = big_data.append(d, ignore_index=True)\n",
      "C:\\Users\\skhan\\AppData\\Local\\Temp\\ipykernel_26444\\1351075178.py:75: FutureWarning: The frame.append method is deprecated and will be removed from pandas in a future version. Use pandas.concat instead.\n",
      "  big_data = big_data.append(d, ignore_index=True)\n",
      "C:\\Users\\skhan\\AppData\\Local\\Temp\\ipykernel_26444\\1351075178.py:75: FutureWarning: The frame.append method is deprecated and will be removed from pandas in a future version. Use pandas.concat instead.\n",
      "  big_data = big_data.append(d, ignore_index=True)\n"
     ]
    },
    {
     "data": {
      "text/plain": "                                                 file          s  long  \\\n0   downloaded_configs\\passivbot_v5.9.x\\configs/v5...    ADAUSDT  True   \n1   downloaded_configs\\passivbot_v5.9.x\\configs/v5...   ALGOUSDT  True   \n2   downloaded_configs\\passivbot_v5.9.x\\configs/v5...   ATOMUSDT  True   \n3   downloaded_configs\\passivbot_v5.9.x\\configs/v5...   AVAXUSDT  True   \n4   downloaded_configs\\passivbot_v5.9.x\\configs/v5...    BNBUSDT  True   \n5   downloaded_configs\\passivbot_v5.9.x\\configs/v5...    BTCUSDT  True   \n6   downloaded_configs\\passivbot_v5.9.x\\configs/v5...   COMPUSDT  True   \n7   downloaded_configs\\passivbot_v5.9.x\\configs/v5...   DOGEUSDT  True   \n8   downloaded_configs\\passivbot_v5.9.x\\configs/v5...    DOTUSDT  True   \n9   downloaded_configs\\passivbot_v5.9.x\\configs/v5...   DYDXUSDT  True   \n10  downloaded_configs\\passivbot_v5.9.x\\configs/v5...    EOSUSDT  True   \n11  downloaded_configs\\passivbot_v5.9.x\\configs/v5...    ETCUSDT  True   \n12  downloaded_configs\\passivbot_v5.9.x\\configs/v5...    ETHUSDT  True   \n13  downloaded_configs\\passivbot_v5.9.x\\configs/v5...   GALAUSDT  True   \n14  downloaded_configs\\passivbot_v5.9.x\\configs/v5...    GALUSDT  True   \n15  downloaded_configs\\passivbot_v5.9.x\\configs/v5...    GMTUSDT  True   \n16  downloaded_configs\\passivbot_v5.9.x\\configs/v5...   HBARUSDT  True   \n17  downloaded_configs\\passivbot_v5.9.x\\configs/v5...    KSMUSDT  True   \n18  downloaded_configs\\passivbot_v5.9.x\\configs/v5...   LINKUSDT  True   \n19  downloaded_configs\\passivbot_v5.9.x\\configs/v5...    LTCUSDT  True   \n20  downloaded_configs\\passivbot_v5.9.x\\configs/v5...   MANAUSDT  True   \n21  downloaded_configs\\passivbot_v5.9.x\\configs/v5...  MATICUSDT  True   \n22  downloaded_configs\\passivbot_v5.9.x\\configs/v5...   NEARUSDT  True   \n23  downloaded_configs\\passivbot_v5.9.x\\configs/v5...   RUNEUSDT  True   \n24  downloaded_configs\\passivbot_v5.9.x\\configs/v5...   SANDUSDT  True   \n25  downloaded_configs\\passivbot_v5.9.x\\configs/v5...  SUSHIUSDT  True   \n26  downloaded_configs\\passivbot_v5.9.x\\configs/v5...    TRXUSDT  True   \n27  downloaded_configs\\passivbot_v5.9.x\\configs/v5...    VETUSDT  True   \n28  downloaded_configs\\passivbot_v5.9.x\\configs/v5...    XMRUSDT  True   \n29  downloaded_configs\\passivbot_v5.9.x\\configs/v5...    XRPUSDT  True   \n30  downloaded_configs\\passivbot_v5.9.x\\configs/v5...    XTZUSDT  True   \n\n     tgl_%  adgl_%    pastdl    pamaxl  bnkrl_%    ebrl     maxsl  \n0   259.80  0.1130  0.012441  0.373502    100.0  0.9184  3.354167  \n1   222.60  0.1190  0.017795  0.469379    100.0  0.9042  2.462500  \n2   212.10  0.1020  0.024227  0.989021    100.0  0.8508  2.779863  \n3   168.10  0.1120  0.024155  0.372757    100.0  0.9188  3.810417  \n4   129.60  0.0746  0.007881  0.340036    100.0  0.9244  3.586113  \n5    80.96  0.0500  0.008509  0.237834    100.0  0.9427  6.844458  \n6   107.10  0.0751  0.015357  0.406771    100.0  0.9134  2.728471  \n7   666.40  0.2130  0.010982  0.414025    100.0  0.9122  0.401389  \n8   169.00  0.1080  0.019277  0.311392    100.0  0.9289  3.434721  \n9    67.02  0.0973  0.014824  0.217237    100.0  0.9296  3.200000  \n10  101.90  0.0614  0.008710  0.303589    100.0  0.9301  3.900696  \n11  173.40  0.0878  0.010746  0.533994    100.0  0.8954  1.672221  \n12  124.10  0.0691  0.014226  0.323470    100.0  0.9266  5.186125  \n13  103.10  0.1360  0.021600  0.416372    100.0  0.9118  2.893054  \n14   83.76  0.2100  0.011031  0.561366    100.0  0.8921  0.277778  \n15   55.52  0.1300  0.016328  0.127076    100.0  0.9662  2.803471  \n16  152.40  0.1310  0.016348  0.296631    100.0  0.9314  2.123613  \n17  133.70  0.0982  0.007836  0.167660    100.0  0.9202  3.367363  \n18  135.50  0.0750  0.008955  0.273855    100.0  0.9356  3.365279  \n19   82.50  0.0521  0.009370  0.188195    100.0  0.9532  3.636112  \n20  156.30  0.1330  0.019999  0.585214    100.0  0.8892  3.102083  \n21  315.60  0.1670  0.015278  0.356333    100.0  0.9212  1.635417  \n22  158.60  0.1100  0.028896  0.356587    100.0  0.9211  3.212500  \n23  159.30  0.1050  0.025296  0.393587    100.0  0.9153  1.436113  \n24  148.60  0.1200  0.024521  0.645494    100.0  0.8824  3.031250  \n25   52.65  0.0463  0.029166  1.262600    100.0  0.8326  1.077083  \n26  111.60  0.0656  0.013118  0.353598    100.0  0.9216  3.691667  \n27  270.70  0.1180  0.018824  0.727919    100.0  0.8736  2.420833  \n28   84.74  0.0543  0.013101  0.528580    100.0  0.8961  1.477779  \n29  277.00  0.1150  0.006068  0.220329    100.0  0.9458  0.258333  \n30  109.40  0.0657  0.013539  0.554531    100.0  0.8930  2.488888  ",
      "text/html": "<div>\n<style scoped>\n    .dataframe tbody tr th:only-of-type {\n        vertical-align: middle;\n    }\n\n    .dataframe tbody tr th {\n        vertical-align: top;\n    }\n\n    .dataframe thead th {\n        text-align: right;\n    }\n</style>\n<table border=\"1\" class=\"dataframe\">\n  <thead>\n    <tr style=\"text-align: right;\">\n      <th></th>\n      <th>file</th>\n      <th>s</th>\n      <th>long</th>\n      <th>tgl_%</th>\n      <th>adgl_%</th>\n      <th>pastdl</th>\n      <th>pamaxl</th>\n      <th>bnkrl_%</th>\n      <th>ebrl</th>\n      <th>maxsl</th>\n    </tr>\n  </thead>\n  <tbody>\n    <tr>\n      <th>0</th>\n      <td>downloaded_configs\\passivbot_v5.9.x\\configs/v5...</td>\n      <td>ADAUSDT</td>\n      <td>True</td>\n      <td>259.80</td>\n      <td>0.1130</td>\n      <td>0.012441</td>\n      <td>0.373502</td>\n      <td>100.0</td>\n      <td>0.9184</td>\n      <td>3.354167</td>\n    </tr>\n    <tr>\n      <th>1</th>\n      <td>downloaded_configs\\passivbot_v5.9.x\\configs/v5...</td>\n      <td>ALGOUSDT</td>\n      <td>True</td>\n      <td>222.60</td>\n      <td>0.1190</td>\n      <td>0.017795</td>\n      <td>0.469379</td>\n      <td>100.0</td>\n      <td>0.9042</td>\n      <td>2.462500</td>\n    </tr>\n    <tr>\n      <th>2</th>\n      <td>downloaded_configs\\passivbot_v5.9.x\\configs/v5...</td>\n      <td>ATOMUSDT</td>\n      <td>True</td>\n      <td>212.10</td>\n      <td>0.1020</td>\n      <td>0.024227</td>\n      <td>0.989021</td>\n      <td>100.0</td>\n      <td>0.8508</td>\n      <td>2.779863</td>\n    </tr>\n    <tr>\n      <th>3</th>\n      <td>downloaded_configs\\passivbot_v5.9.x\\configs/v5...</td>\n      <td>AVAXUSDT</td>\n      <td>True</td>\n      <td>168.10</td>\n      <td>0.1120</td>\n      <td>0.024155</td>\n      <td>0.372757</td>\n      <td>100.0</td>\n      <td>0.9188</td>\n      <td>3.810417</td>\n    </tr>\n    <tr>\n      <th>4</th>\n      <td>downloaded_configs\\passivbot_v5.9.x\\configs/v5...</td>\n      <td>BNBUSDT</td>\n      <td>True</td>\n      <td>129.60</td>\n      <td>0.0746</td>\n      <td>0.007881</td>\n      <td>0.340036</td>\n      <td>100.0</td>\n      <td>0.9244</td>\n      <td>3.586113</td>\n    </tr>\n    <tr>\n      <th>5</th>\n      <td>downloaded_configs\\passivbot_v5.9.x\\configs/v5...</td>\n      <td>BTCUSDT</td>\n      <td>True</td>\n      <td>80.96</td>\n      <td>0.0500</td>\n      <td>0.008509</td>\n      <td>0.237834</td>\n      <td>100.0</td>\n      <td>0.9427</td>\n      <td>6.844458</td>\n    </tr>\n    <tr>\n      <th>6</th>\n      <td>downloaded_configs\\passivbot_v5.9.x\\configs/v5...</td>\n      <td>COMPUSDT</td>\n      <td>True</td>\n      <td>107.10</td>\n      <td>0.0751</td>\n      <td>0.015357</td>\n      <td>0.406771</td>\n      <td>100.0</td>\n      <td>0.9134</td>\n      <td>2.728471</td>\n    </tr>\n    <tr>\n      <th>7</th>\n      <td>downloaded_configs\\passivbot_v5.9.x\\configs/v5...</td>\n      <td>DOGEUSDT</td>\n      <td>True</td>\n      <td>666.40</td>\n      <td>0.2130</td>\n      <td>0.010982</td>\n      <td>0.414025</td>\n      <td>100.0</td>\n      <td>0.9122</td>\n      <td>0.401389</td>\n    </tr>\n    <tr>\n      <th>8</th>\n      <td>downloaded_configs\\passivbot_v5.9.x\\configs/v5...</td>\n      <td>DOTUSDT</td>\n      <td>True</td>\n      <td>169.00</td>\n      <td>0.1080</td>\n      <td>0.019277</td>\n      <td>0.311392</td>\n      <td>100.0</td>\n      <td>0.9289</td>\n      <td>3.434721</td>\n    </tr>\n    <tr>\n      <th>9</th>\n      <td>downloaded_configs\\passivbot_v5.9.x\\configs/v5...</td>\n      <td>DYDXUSDT</td>\n      <td>True</td>\n      <td>67.02</td>\n      <td>0.0973</td>\n      <td>0.014824</td>\n      <td>0.217237</td>\n      <td>100.0</td>\n      <td>0.9296</td>\n      <td>3.200000</td>\n    </tr>\n    <tr>\n      <th>10</th>\n      <td>downloaded_configs\\passivbot_v5.9.x\\configs/v5...</td>\n      <td>EOSUSDT</td>\n      <td>True</td>\n      <td>101.90</td>\n      <td>0.0614</td>\n      <td>0.008710</td>\n      <td>0.303589</td>\n      <td>100.0</td>\n      <td>0.9301</td>\n      <td>3.900696</td>\n    </tr>\n    <tr>\n      <th>11</th>\n      <td>downloaded_configs\\passivbot_v5.9.x\\configs/v5...</td>\n      <td>ETCUSDT</td>\n      <td>True</td>\n      <td>173.40</td>\n      <td>0.0878</td>\n      <td>0.010746</td>\n      <td>0.533994</td>\n      <td>100.0</td>\n      <td>0.8954</td>\n      <td>1.672221</td>\n    </tr>\n    <tr>\n      <th>12</th>\n      <td>downloaded_configs\\passivbot_v5.9.x\\configs/v5...</td>\n      <td>ETHUSDT</td>\n      <td>True</td>\n      <td>124.10</td>\n      <td>0.0691</td>\n      <td>0.014226</td>\n      <td>0.323470</td>\n      <td>100.0</td>\n      <td>0.9266</td>\n      <td>5.186125</td>\n    </tr>\n    <tr>\n      <th>13</th>\n      <td>downloaded_configs\\passivbot_v5.9.x\\configs/v5...</td>\n      <td>GALAUSDT</td>\n      <td>True</td>\n      <td>103.10</td>\n      <td>0.1360</td>\n      <td>0.021600</td>\n      <td>0.416372</td>\n      <td>100.0</td>\n      <td>0.9118</td>\n      <td>2.893054</td>\n    </tr>\n    <tr>\n      <th>14</th>\n      <td>downloaded_configs\\passivbot_v5.9.x\\configs/v5...</td>\n      <td>GALUSDT</td>\n      <td>True</td>\n      <td>83.76</td>\n      <td>0.2100</td>\n      <td>0.011031</td>\n      <td>0.561366</td>\n      <td>100.0</td>\n      <td>0.8921</td>\n      <td>0.277778</td>\n    </tr>\n    <tr>\n      <th>15</th>\n      <td>downloaded_configs\\passivbot_v5.9.x\\configs/v5...</td>\n      <td>GMTUSDT</td>\n      <td>True</td>\n      <td>55.52</td>\n      <td>0.1300</td>\n      <td>0.016328</td>\n      <td>0.127076</td>\n      <td>100.0</td>\n      <td>0.9662</td>\n      <td>2.803471</td>\n    </tr>\n    <tr>\n      <th>16</th>\n      <td>downloaded_configs\\passivbot_v5.9.x\\configs/v5...</td>\n      <td>HBARUSDT</td>\n      <td>True</td>\n      <td>152.40</td>\n      <td>0.1310</td>\n      <td>0.016348</td>\n      <td>0.296631</td>\n      <td>100.0</td>\n      <td>0.9314</td>\n      <td>2.123613</td>\n    </tr>\n    <tr>\n      <th>17</th>\n      <td>downloaded_configs\\passivbot_v5.9.x\\configs/v5...</td>\n      <td>KSMUSDT</td>\n      <td>True</td>\n      <td>133.70</td>\n      <td>0.0982</td>\n      <td>0.007836</td>\n      <td>0.167660</td>\n      <td>100.0</td>\n      <td>0.9202</td>\n      <td>3.367363</td>\n    </tr>\n    <tr>\n      <th>18</th>\n      <td>downloaded_configs\\passivbot_v5.9.x\\configs/v5...</td>\n      <td>LINKUSDT</td>\n      <td>True</td>\n      <td>135.50</td>\n      <td>0.0750</td>\n      <td>0.008955</td>\n      <td>0.273855</td>\n      <td>100.0</td>\n      <td>0.9356</td>\n      <td>3.365279</td>\n    </tr>\n    <tr>\n      <th>19</th>\n      <td>downloaded_configs\\passivbot_v5.9.x\\configs/v5...</td>\n      <td>LTCUSDT</td>\n      <td>True</td>\n      <td>82.50</td>\n      <td>0.0521</td>\n      <td>0.009370</td>\n      <td>0.188195</td>\n      <td>100.0</td>\n      <td>0.9532</td>\n      <td>3.636112</td>\n    </tr>\n    <tr>\n      <th>20</th>\n      <td>downloaded_configs\\passivbot_v5.9.x\\configs/v5...</td>\n      <td>MANAUSDT</td>\n      <td>True</td>\n      <td>156.30</td>\n      <td>0.1330</td>\n      <td>0.019999</td>\n      <td>0.585214</td>\n      <td>100.0</td>\n      <td>0.8892</td>\n      <td>3.102083</td>\n    </tr>\n    <tr>\n      <th>21</th>\n      <td>downloaded_configs\\passivbot_v5.9.x\\configs/v5...</td>\n      <td>MATICUSDT</td>\n      <td>True</td>\n      <td>315.60</td>\n      <td>0.1670</td>\n      <td>0.015278</td>\n      <td>0.356333</td>\n      <td>100.0</td>\n      <td>0.9212</td>\n      <td>1.635417</td>\n    </tr>\n    <tr>\n      <th>22</th>\n      <td>downloaded_configs\\passivbot_v5.9.x\\configs/v5...</td>\n      <td>NEARUSDT</td>\n      <td>True</td>\n      <td>158.60</td>\n      <td>0.1100</td>\n      <td>0.028896</td>\n      <td>0.356587</td>\n      <td>100.0</td>\n      <td>0.9211</td>\n      <td>3.212500</td>\n    </tr>\n    <tr>\n      <th>23</th>\n      <td>downloaded_configs\\passivbot_v5.9.x\\configs/v5...</td>\n      <td>RUNEUSDT</td>\n      <td>True</td>\n      <td>159.30</td>\n      <td>0.1050</td>\n      <td>0.025296</td>\n      <td>0.393587</td>\n      <td>100.0</td>\n      <td>0.9153</td>\n      <td>1.436113</td>\n    </tr>\n    <tr>\n      <th>24</th>\n      <td>downloaded_configs\\passivbot_v5.9.x\\configs/v5...</td>\n      <td>SANDUSDT</td>\n      <td>True</td>\n      <td>148.60</td>\n      <td>0.1200</td>\n      <td>0.024521</td>\n      <td>0.645494</td>\n      <td>100.0</td>\n      <td>0.8824</td>\n      <td>3.031250</td>\n    </tr>\n    <tr>\n      <th>25</th>\n      <td>downloaded_configs\\passivbot_v5.9.x\\configs/v5...</td>\n      <td>SUSHIUSDT</td>\n      <td>True</td>\n      <td>52.65</td>\n      <td>0.0463</td>\n      <td>0.029166</td>\n      <td>1.262600</td>\n      <td>100.0</td>\n      <td>0.8326</td>\n      <td>1.077083</td>\n    </tr>\n    <tr>\n      <th>26</th>\n      <td>downloaded_configs\\passivbot_v5.9.x\\configs/v5...</td>\n      <td>TRXUSDT</td>\n      <td>True</td>\n      <td>111.60</td>\n      <td>0.0656</td>\n      <td>0.013118</td>\n      <td>0.353598</td>\n      <td>100.0</td>\n      <td>0.9216</td>\n      <td>3.691667</td>\n    </tr>\n    <tr>\n      <th>27</th>\n      <td>downloaded_configs\\passivbot_v5.9.x\\configs/v5...</td>\n      <td>VETUSDT</td>\n      <td>True</td>\n      <td>270.70</td>\n      <td>0.1180</td>\n      <td>0.018824</td>\n      <td>0.727919</td>\n      <td>100.0</td>\n      <td>0.8736</td>\n      <td>2.420833</td>\n    </tr>\n    <tr>\n      <th>28</th>\n      <td>downloaded_configs\\passivbot_v5.9.x\\configs/v5...</td>\n      <td>XMRUSDT</td>\n      <td>True</td>\n      <td>84.74</td>\n      <td>0.0543</td>\n      <td>0.013101</td>\n      <td>0.528580</td>\n      <td>100.0</td>\n      <td>0.8961</td>\n      <td>1.477779</td>\n    </tr>\n    <tr>\n      <th>29</th>\n      <td>downloaded_configs\\passivbot_v5.9.x\\configs/v5...</td>\n      <td>XRPUSDT</td>\n      <td>True</td>\n      <td>277.00</td>\n      <td>0.1150</td>\n      <td>0.006068</td>\n      <td>0.220329</td>\n      <td>100.0</td>\n      <td>0.9458</td>\n      <td>0.258333</td>\n    </tr>\n    <tr>\n      <th>30</th>\n      <td>downloaded_configs\\passivbot_v5.9.x\\configs/v5...</td>\n      <td>XTZUSDT</td>\n      <td>True</td>\n      <td>109.40</td>\n      <td>0.0657</td>\n      <td>0.013539</td>\n      <td>0.554531</td>\n      <td>100.0</td>\n      <td>0.8930</td>\n      <td>2.488888</td>\n    </tr>\n  </tbody>\n</table>\n</div>"
     },
     "execution_count": 15,
     "metadata": {},
     "output_type": "execute_result"
    }
   ],
   "source": [
    "import os\n",
    "\n",
    "big_data = pd.DataFrame()\n",
    "## find current folder root\n",
    "root = os.getcwd()\n",
    "\n",
    "all_files = glob.iglob(\n",
    "    r'..\\downloaded_configs\\passivbot_v5.9.x\\configs/v5.9.3_clock_realistic/clock/toaster_longonly_01_safe/' + '/**/result.txt',\n",
    "    recursive=True)\n",
    "\n",
    "files = []\n",
    "for file in all_files:\n",
    "    files.append(file)\n",
    "\n",
    "print(files)\n",
    "\n",
    "i = 0\n",
    "for filename in files:\n",
    "    #print(f'parsing : {filename}')\n",
    "    json_file = os.path.abspath(filename.replace('result.txt', '../config.json'))\n",
    "    with open(json_file) as f:\n",
    "        live_config = json.load(f)\n",
    "        config_type = live_config['config_name']\n",
    "\n",
    "    with open(filename, 'r') as file:\n",
    "        data = file.read().split('\\n')\n",
    "        d = {'file': filename.lstrip('..\\\\')}\n",
    "        current_state = 'long'\n",
    "        for l in data:\n",
    "            l = l.split('|')\n",
    "            if len(l) == 4:\n",
    "                key = l[1].strip()\n",
    "                value = l[2].strip()\n",
    "\n",
    "                if key == 'Symbol':\n",
    "                    d['s'] = value\n",
    "\n",
    "                if key == 'Long':\n",
    "                    current_state = 'long'\n",
    "                    d['long'] = bool(value) or False\n",
    "                if key == 'Short':\n",
    "                    current_state = 'short'\n",
    "                    d['short'] = bool(value) or False\n",
    "\n",
    "                if key == 'Total gain' and current_state == 'long':\n",
    "                    d['tgl_%'] = float(value.replace('%', '').strip())\n",
    "                if key == 'Average daily gain' and current_state == 'long':\n",
    "                    d['adgl_%'] = float(value.replace('%', '').strip())\n",
    "                if key == 'Closest bankruptcy' and current_state == 'long':\n",
    "                    d['bnkrl_%'] = float(value.replace('%', '').strip())\n",
    "                if key == 'Lowest equity/balance ratio' and current_state == 'long':\n",
    "                    d['ebrl'] = float(value.replace('%', '').strip())\n",
    "                if key == 'Max hours stuck' and current_state == 'long':\n",
    "                    d['maxsl'] = float(value.replace('%', '').strip()) / 24\n",
    "                if key == 'Price action distance max' and current_state == 'long':\n",
    "                    d['pamaxl'] = float(value.replace('%', '').strip())\n",
    "                if key == 'Price action distance std' and current_state == 'long':\n",
    "                    d['pastdl'] = float(value.strip())\n",
    "\n",
    "                if key == 'Total gain' and current_state == 'short':\n",
    "                    d['tgs_%'] = float(value.replace('%', '').strip())\n",
    "                if key == 'Average daily gain' and current_state == 'short':\n",
    "                    d['adgs_%'] = float(value.replace('%', '').strip())\n",
    "                if key == 'Closest bankruptcy' and current_state == 'short':\n",
    "                    d['bnkrs_%'] = float(value.replace('%', '').strip())\n",
    "                if key == 'Lowest equity/balance ratio' and current_state == 'short':\n",
    "                    d['ebrs'] = float(value.replace('%', '').strip())\n",
    "                if key == 'Max hours stuck' and current_state == 'short':\n",
    "                    d['maxss'] = float(value.replace('%', '').strip()) / 24\n",
    "                if key == 'Price action distance max' and current_state == 'short':\n",
    "                    d['pamaxs'] = float(value.replace('%', '').strip())\n",
    "                if key == 'Price action distance std' and current_state == 'short':\n",
    "                    d['pastds'] = float(value.strip())\n",
    "\n",
    "        big_data = big_data.append(d, ignore_index=True)\n",
    "big_data"
   ],
   "metadata": {
    "collapsed": false,
    "ExecuteTime": {
     "start_time": "2023-04-10T13:58:43.814145Z",
     "end_time": "2023-04-10T13:58:44.190125Z"
    }
   }
  },
  {
   "cell_type": "code",
   "execution_count": 16,
   "outputs": [
    {
     "data": {
      "text/plain": "                                                 file          s  long  \\\n0   downloaded_configs\\passivbot_v5.9.x\\configs/v5...    ADAUSDT  True   \n1   downloaded_configs\\passivbot_v5.9.x\\configs/v5...   ALGOUSDT  True   \n2   downloaded_configs\\passivbot_v5.9.x\\configs/v5...   ATOMUSDT  True   \n3   downloaded_configs\\passivbot_v5.9.x\\configs/v5...   AVAXUSDT  True   \n4   downloaded_configs\\passivbot_v5.9.x\\configs/v5...    BNBUSDT  True   \n5   downloaded_configs\\passivbot_v5.9.x\\configs/v5...    BTCUSDT  True   \n6   downloaded_configs\\passivbot_v5.9.x\\configs/v5...   COMPUSDT  True   \n7   downloaded_configs\\passivbot_v5.9.x\\configs/v5...   DOGEUSDT  True   \n8   downloaded_configs\\passivbot_v5.9.x\\configs/v5...    DOTUSDT  True   \n9   downloaded_configs\\passivbot_v5.9.x\\configs/v5...   DYDXUSDT  True   \n10  downloaded_configs\\passivbot_v5.9.x\\configs/v5...    EOSUSDT  True   \n11  downloaded_configs\\passivbot_v5.9.x\\configs/v5...    ETCUSDT  True   \n12  downloaded_configs\\passivbot_v5.9.x\\configs/v5...    ETHUSDT  True   \n13  downloaded_configs\\passivbot_v5.9.x\\configs/v5...   GALAUSDT  True   \n14  downloaded_configs\\passivbot_v5.9.x\\configs/v5...    GALUSDT  True   \n15  downloaded_configs\\passivbot_v5.9.x\\configs/v5...    GMTUSDT  True   \n16  downloaded_configs\\passivbot_v5.9.x\\configs/v5...   HBARUSDT  True   \n17  downloaded_configs\\passivbot_v5.9.x\\configs/v5...    KSMUSDT  True   \n18  downloaded_configs\\passivbot_v5.9.x\\configs/v5...   LINKUSDT  True   \n19  downloaded_configs\\passivbot_v5.9.x\\configs/v5...    LTCUSDT  True   \n20  downloaded_configs\\passivbot_v5.9.x\\configs/v5...   MANAUSDT  True   \n21  downloaded_configs\\passivbot_v5.9.x\\configs/v5...  MATICUSDT  True   \n22  downloaded_configs\\passivbot_v5.9.x\\configs/v5...   NEARUSDT  True   \n23  downloaded_configs\\passivbot_v5.9.x\\configs/v5...   RUNEUSDT  True   \n24  downloaded_configs\\passivbot_v5.9.x\\configs/v5...   SANDUSDT  True   \n25  downloaded_configs\\passivbot_v5.9.x\\configs/v5...  SUSHIUSDT  True   \n26  downloaded_configs\\passivbot_v5.9.x\\configs/v5...    TRXUSDT  True   \n27  downloaded_configs\\passivbot_v5.9.x\\configs/v5...    VETUSDT  True   \n28  downloaded_configs\\passivbot_v5.9.x\\configs/v5...    XMRUSDT  True   \n29  downloaded_configs\\passivbot_v5.9.x\\configs/v5...    XRPUSDT  True   \n30  downloaded_configs\\passivbot_v5.9.x\\configs/v5...    XTZUSDT  True   \n\n     tgl_%  adgl_%    pastdl    pamaxl  bnkrl_%    ebrl     maxsl  \n0   259.80  0.1130  0.012441  0.373502    100.0  0.9184  3.354167  \n1   222.60  0.1190  0.017795  0.469379    100.0  0.9042  2.462500  \n2   212.10  0.1020  0.024227  0.989021    100.0  0.8508  2.779863  \n3   168.10  0.1120  0.024155  0.372757    100.0  0.9188  3.810417  \n4   129.60  0.0746  0.007881  0.340036    100.0  0.9244  3.586113  \n5    80.96  0.0500  0.008509  0.237834    100.0  0.9427  6.844458  \n6   107.10  0.0751  0.015357  0.406771    100.0  0.9134  2.728471  \n7   666.40  0.2130  0.010982  0.414025    100.0  0.9122  0.401389  \n8   169.00  0.1080  0.019277  0.311392    100.0  0.9289  3.434721  \n9    67.02  0.0973  0.014824  0.217237    100.0  0.9296  3.200000  \n10  101.90  0.0614  0.008710  0.303589    100.0  0.9301  3.900696  \n11  173.40  0.0878  0.010746  0.533994    100.0  0.8954  1.672221  \n12  124.10  0.0691  0.014226  0.323470    100.0  0.9266  5.186125  \n13  103.10  0.1360  0.021600  0.416372    100.0  0.9118  2.893054  \n14   83.76  0.2100  0.011031  0.561366    100.0  0.8921  0.277778  \n15   55.52  0.1300  0.016328  0.127076    100.0  0.9662  2.803471  \n16  152.40  0.1310  0.016348  0.296631    100.0  0.9314  2.123613  \n17  133.70  0.0982  0.007836  0.167660    100.0  0.9202  3.367363  \n18  135.50  0.0750  0.008955  0.273855    100.0  0.9356  3.365279  \n19   82.50  0.0521  0.009370  0.188195    100.0  0.9532  3.636112  \n20  156.30  0.1330  0.019999  0.585214    100.0  0.8892  3.102083  \n21  315.60  0.1670  0.015278  0.356333    100.0  0.9212  1.635417  \n22  158.60  0.1100  0.028896  0.356587    100.0  0.9211  3.212500  \n23  159.30  0.1050  0.025296  0.393587    100.0  0.9153  1.436113  \n24  148.60  0.1200  0.024521  0.645494    100.0  0.8824  3.031250  \n25   52.65  0.0463  0.029166  1.262600    100.0  0.8326  1.077083  \n26  111.60  0.0656  0.013118  0.353598    100.0  0.9216  3.691667  \n27  270.70  0.1180  0.018824  0.727919    100.0  0.8736  2.420833  \n28   84.74  0.0543  0.013101  0.528580    100.0  0.8961  1.477779  \n29  277.00  0.1150  0.006068  0.220329    100.0  0.9458  0.258333  \n30  109.40  0.0657  0.013539  0.554531    100.0  0.8930  2.488888  ",
      "text/html": "<div>\n<style scoped>\n    .dataframe tbody tr th:only-of-type {\n        vertical-align: middle;\n    }\n\n    .dataframe tbody tr th {\n        vertical-align: top;\n    }\n\n    .dataframe thead th {\n        text-align: right;\n    }\n</style>\n<table border=\"1\" class=\"dataframe\">\n  <thead>\n    <tr style=\"text-align: right;\">\n      <th></th>\n      <th>file</th>\n      <th>s</th>\n      <th>long</th>\n      <th>tgl_%</th>\n      <th>adgl_%</th>\n      <th>pastdl</th>\n      <th>pamaxl</th>\n      <th>bnkrl_%</th>\n      <th>ebrl</th>\n      <th>maxsl</th>\n    </tr>\n  </thead>\n  <tbody>\n    <tr>\n      <th>0</th>\n      <td>downloaded_configs\\passivbot_v5.9.x\\configs/v5...</td>\n      <td>ADAUSDT</td>\n      <td>True</td>\n      <td>259.80</td>\n      <td>0.1130</td>\n      <td>0.012441</td>\n      <td>0.373502</td>\n      <td>100.0</td>\n      <td>0.9184</td>\n      <td>3.354167</td>\n    </tr>\n    <tr>\n      <th>1</th>\n      <td>downloaded_configs\\passivbot_v5.9.x\\configs/v5...</td>\n      <td>ALGOUSDT</td>\n      <td>True</td>\n      <td>222.60</td>\n      <td>0.1190</td>\n      <td>0.017795</td>\n      <td>0.469379</td>\n      <td>100.0</td>\n      <td>0.9042</td>\n      <td>2.462500</td>\n    </tr>\n    <tr>\n      <th>2</th>\n      <td>downloaded_configs\\passivbot_v5.9.x\\configs/v5...</td>\n      <td>ATOMUSDT</td>\n      <td>True</td>\n      <td>212.10</td>\n      <td>0.1020</td>\n      <td>0.024227</td>\n      <td>0.989021</td>\n      <td>100.0</td>\n      <td>0.8508</td>\n      <td>2.779863</td>\n    </tr>\n    <tr>\n      <th>3</th>\n      <td>downloaded_configs\\passivbot_v5.9.x\\configs/v5...</td>\n      <td>AVAXUSDT</td>\n      <td>True</td>\n      <td>168.10</td>\n      <td>0.1120</td>\n      <td>0.024155</td>\n      <td>0.372757</td>\n      <td>100.0</td>\n      <td>0.9188</td>\n      <td>3.810417</td>\n    </tr>\n    <tr>\n      <th>4</th>\n      <td>downloaded_configs\\passivbot_v5.9.x\\configs/v5...</td>\n      <td>BNBUSDT</td>\n      <td>True</td>\n      <td>129.60</td>\n      <td>0.0746</td>\n      <td>0.007881</td>\n      <td>0.340036</td>\n      <td>100.0</td>\n      <td>0.9244</td>\n      <td>3.586113</td>\n    </tr>\n    <tr>\n      <th>5</th>\n      <td>downloaded_configs\\passivbot_v5.9.x\\configs/v5...</td>\n      <td>BTCUSDT</td>\n      <td>True</td>\n      <td>80.96</td>\n      <td>0.0500</td>\n      <td>0.008509</td>\n      <td>0.237834</td>\n      <td>100.0</td>\n      <td>0.9427</td>\n      <td>6.844458</td>\n    </tr>\n    <tr>\n      <th>6</th>\n      <td>downloaded_configs\\passivbot_v5.9.x\\configs/v5...</td>\n      <td>COMPUSDT</td>\n      <td>True</td>\n      <td>107.10</td>\n      <td>0.0751</td>\n      <td>0.015357</td>\n      <td>0.406771</td>\n      <td>100.0</td>\n      <td>0.9134</td>\n      <td>2.728471</td>\n    </tr>\n    <tr>\n      <th>7</th>\n      <td>downloaded_configs\\passivbot_v5.9.x\\configs/v5...</td>\n      <td>DOGEUSDT</td>\n      <td>True</td>\n      <td>666.40</td>\n      <td>0.2130</td>\n      <td>0.010982</td>\n      <td>0.414025</td>\n      <td>100.0</td>\n      <td>0.9122</td>\n      <td>0.401389</td>\n    </tr>\n    <tr>\n      <th>8</th>\n      <td>downloaded_configs\\passivbot_v5.9.x\\configs/v5...</td>\n      <td>DOTUSDT</td>\n      <td>True</td>\n      <td>169.00</td>\n      <td>0.1080</td>\n      <td>0.019277</td>\n      <td>0.311392</td>\n      <td>100.0</td>\n      <td>0.9289</td>\n      <td>3.434721</td>\n    </tr>\n    <tr>\n      <th>9</th>\n      <td>downloaded_configs\\passivbot_v5.9.x\\configs/v5...</td>\n      <td>DYDXUSDT</td>\n      <td>True</td>\n      <td>67.02</td>\n      <td>0.0973</td>\n      <td>0.014824</td>\n      <td>0.217237</td>\n      <td>100.0</td>\n      <td>0.9296</td>\n      <td>3.200000</td>\n    </tr>\n    <tr>\n      <th>10</th>\n      <td>downloaded_configs\\passivbot_v5.9.x\\configs/v5...</td>\n      <td>EOSUSDT</td>\n      <td>True</td>\n      <td>101.90</td>\n      <td>0.0614</td>\n      <td>0.008710</td>\n      <td>0.303589</td>\n      <td>100.0</td>\n      <td>0.9301</td>\n      <td>3.900696</td>\n    </tr>\n    <tr>\n      <th>11</th>\n      <td>downloaded_configs\\passivbot_v5.9.x\\configs/v5...</td>\n      <td>ETCUSDT</td>\n      <td>True</td>\n      <td>173.40</td>\n      <td>0.0878</td>\n      <td>0.010746</td>\n      <td>0.533994</td>\n      <td>100.0</td>\n      <td>0.8954</td>\n      <td>1.672221</td>\n    </tr>\n    <tr>\n      <th>12</th>\n      <td>downloaded_configs\\passivbot_v5.9.x\\configs/v5...</td>\n      <td>ETHUSDT</td>\n      <td>True</td>\n      <td>124.10</td>\n      <td>0.0691</td>\n      <td>0.014226</td>\n      <td>0.323470</td>\n      <td>100.0</td>\n      <td>0.9266</td>\n      <td>5.186125</td>\n    </tr>\n    <tr>\n      <th>13</th>\n      <td>downloaded_configs\\passivbot_v5.9.x\\configs/v5...</td>\n      <td>GALAUSDT</td>\n      <td>True</td>\n      <td>103.10</td>\n      <td>0.1360</td>\n      <td>0.021600</td>\n      <td>0.416372</td>\n      <td>100.0</td>\n      <td>0.9118</td>\n      <td>2.893054</td>\n    </tr>\n    <tr>\n      <th>14</th>\n      <td>downloaded_configs\\passivbot_v5.9.x\\configs/v5...</td>\n      <td>GALUSDT</td>\n      <td>True</td>\n      <td>83.76</td>\n      <td>0.2100</td>\n      <td>0.011031</td>\n      <td>0.561366</td>\n      <td>100.0</td>\n      <td>0.8921</td>\n      <td>0.277778</td>\n    </tr>\n    <tr>\n      <th>15</th>\n      <td>downloaded_configs\\passivbot_v5.9.x\\configs/v5...</td>\n      <td>GMTUSDT</td>\n      <td>True</td>\n      <td>55.52</td>\n      <td>0.1300</td>\n      <td>0.016328</td>\n      <td>0.127076</td>\n      <td>100.0</td>\n      <td>0.9662</td>\n      <td>2.803471</td>\n    </tr>\n    <tr>\n      <th>16</th>\n      <td>downloaded_configs\\passivbot_v5.9.x\\configs/v5...</td>\n      <td>HBARUSDT</td>\n      <td>True</td>\n      <td>152.40</td>\n      <td>0.1310</td>\n      <td>0.016348</td>\n      <td>0.296631</td>\n      <td>100.0</td>\n      <td>0.9314</td>\n      <td>2.123613</td>\n    </tr>\n    <tr>\n      <th>17</th>\n      <td>downloaded_configs\\passivbot_v5.9.x\\configs/v5...</td>\n      <td>KSMUSDT</td>\n      <td>True</td>\n      <td>133.70</td>\n      <td>0.0982</td>\n      <td>0.007836</td>\n      <td>0.167660</td>\n      <td>100.0</td>\n      <td>0.9202</td>\n      <td>3.367363</td>\n    </tr>\n    <tr>\n      <th>18</th>\n      <td>downloaded_configs\\passivbot_v5.9.x\\configs/v5...</td>\n      <td>LINKUSDT</td>\n      <td>True</td>\n      <td>135.50</td>\n      <td>0.0750</td>\n      <td>0.008955</td>\n      <td>0.273855</td>\n      <td>100.0</td>\n      <td>0.9356</td>\n      <td>3.365279</td>\n    </tr>\n    <tr>\n      <th>19</th>\n      <td>downloaded_configs\\passivbot_v5.9.x\\configs/v5...</td>\n      <td>LTCUSDT</td>\n      <td>True</td>\n      <td>82.50</td>\n      <td>0.0521</td>\n      <td>0.009370</td>\n      <td>0.188195</td>\n      <td>100.0</td>\n      <td>0.9532</td>\n      <td>3.636112</td>\n    </tr>\n    <tr>\n      <th>20</th>\n      <td>downloaded_configs\\passivbot_v5.9.x\\configs/v5...</td>\n      <td>MANAUSDT</td>\n      <td>True</td>\n      <td>156.30</td>\n      <td>0.1330</td>\n      <td>0.019999</td>\n      <td>0.585214</td>\n      <td>100.0</td>\n      <td>0.8892</td>\n      <td>3.102083</td>\n    </tr>\n    <tr>\n      <th>21</th>\n      <td>downloaded_configs\\passivbot_v5.9.x\\configs/v5...</td>\n      <td>MATICUSDT</td>\n      <td>True</td>\n      <td>315.60</td>\n      <td>0.1670</td>\n      <td>0.015278</td>\n      <td>0.356333</td>\n      <td>100.0</td>\n      <td>0.9212</td>\n      <td>1.635417</td>\n    </tr>\n    <tr>\n      <th>22</th>\n      <td>downloaded_configs\\passivbot_v5.9.x\\configs/v5...</td>\n      <td>NEARUSDT</td>\n      <td>True</td>\n      <td>158.60</td>\n      <td>0.1100</td>\n      <td>0.028896</td>\n      <td>0.356587</td>\n      <td>100.0</td>\n      <td>0.9211</td>\n      <td>3.212500</td>\n    </tr>\n    <tr>\n      <th>23</th>\n      <td>downloaded_configs\\passivbot_v5.9.x\\configs/v5...</td>\n      <td>RUNEUSDT</td>\n      <td>True</td>\n      <td>159.30</td>\n      <td>0.1050</td>\n      <td>0.025296</td>\n      <td>0.393587</td>\n      <td>100.0</td>\n      <td>0.9153</td>\n      <td>1.436113</td>\n    </tr>\n    <tr>\n      <th>24</th>\n      <td>downloaded_configs\\passivbot_v5.9.x\\configs/v5...</td>\n      <td>SANDUSDT</td>\n      <td>True</td>\n      <td>148.60</td>\n      <td>0.1200</td>\n      <td>0.024521</td>\n      <td>0.645494</td>\n      <td>100.0</td>\n      <td>0.8824</td>\n      <td>3.031250</td>\n    </tr>\n    <tr>\n      <th>25</th>\n      <td>downloaded_configs\\passivbot_v5.9.x\\configs/v5...</td>\n      <td>SUSHIUSDT</td>\n      <td>True</td>\n      <td>52.65</td>\n      <td>0.0463</td>\n      <td>0.029166</td>\n      <td>1.262600</td>\n      <td>100.0</td>\n      <td>0.8326</td>\n      <td>1.077083</td>\n    </tr>\n    <tr>\n      <th>26</th>\n      <td>downloaded_configs\\passivbot_v5.9.x\\configs/v5...</td>\n      <td>TRXUSDT</td>\n      <td>True</td>\n      <td>111.60</td>\n      <td>0.0656</td>\n      <td>0.013118</td>\n      <td>0.353598</td>\n      <td>100.0</td>\n      <td>0.9216</td>\n      <td>3.691667</td>\n    </tr>\n    <tr>\n      <th>27</th>\n      <td>downloaded_configs\\passivbot_v5.9.x\\configs/v5...</td>\n      <td>VETUSDT</td>\n      <td>True</td>\n      <td>270.70</td>\n      <td>0.1180</td>\n      <td>0.018824</td>\n      <td>0.727919</td>\n      <td>100.0</td>\n      <td>0.8736</td>\n      <td>2.420833</td>\n    </tr>\n    <tr>\n      <th>28</th>\n      <td>downloaded_configs\\passivbot_v5.9.x\\configs/v5...</td>\n      <td>XMRUSDT</td>\n      <td>True</td>\n      <td>84.74</td>\n      <td>0.0543</td>\n      <td>0.013101</td>\n      <td>0.528580</td>\n      <td>100.0</td>\n      <td>0.8961</td>\n      <td>1.477779</td>\n    </tr>\n    <tr>\n      <th>29</th>\n      <td>downloaded_configs\\passivbot_v5.9.x\\configs/v5...</td>\n      <td>XRPUSDT</td>\n      <td>True</td>\n      <td>277.00</td>\n      <td>0.1150</td>\n      <td>0.006068</td>\n      <td>0.220329</td>\n      <td>100.0</td>\n      <td>0.9458</td>\n      <td>0.258333</td>\n    </tr>\n    <tr>\n      <th>30</th>\n      <td>downloaded_configs\\passivbot_v5.9.x\\configs/v5...</td>\n      <td>XTZUSDT</td>\n      <td>True</td>\n      <td>109.40</td>\n      <td>0.0657</td>\n      <td>0.013539</td>\n      <td>0.554531</td>\n      <td>100.0</td>\n      <td>0.8930</td>\n      <td>2.488888</td>\n    </tr>\n  </tbody>\n</table>\n</div>"
     },
     "execution_count": 16,
     "metadata": {},
     "output_type": "execute_result"
    }
   ],
   "source": [
    "big_data"
   ],
   "metadata": {
    "collapsed": false,
    "ExecuteTime": {
     "start_time": "2023-04-10T13:58:44.191125Z",
     "end_time": "2023-04-10T13:58:44.320123Z"
    }
   }
  },
  {
   "cell_type": "code",
   "execution_count": 17,
   "outputs": [
    {
     "data": {
      "text/plain": "                                                 file         s  long   tgl_%  \\\n0   downloaded_configs\\passivbot_v5.9.x\\configs/v5...   ADAUSDT  True  259.80   \n1   downloaded_configs\\passivbot_v5.9.x\\configs/v5...  ALGOUSDT  True  222.60   \n2   downloaded_configs\\passivbot_v5.9.x\\configs/v5...  AVAXUSDT  True  168.10   \n3   downloaded_configs\\passivbot_v5.9.x\\configs/v5...   BNBUSDT  True  129.60   \n4   downloaded_configs\\passivbot_v5.9.x\\configs/v5...   BTCUSDT  True   80.96   \n5   downloaded_configs\\passivbot_v5.9.x\\configs/v5...  COMPUSDT  True  107.10   \n6   downloaded_configs\\passivbot_v5.9.x\\configs/v5...   ETCUSDT  True  173.40   \n7   downloaded_configs\\passivbot_v5.9.x\\configs/v5...   ETHUSDT  True  124.10   \n8   downloaded_configs\\passivbot_v5.9.x\\configs/v5...  GALAUSDT  True  103.10   \n9   downloaded_configs\\passivbot_v5.9.x\\configs/v5...   GALUSDT  True   83.76   \n10  downloaded_configs\\passivbot_v5.9.x\\configs/v5...   GMTUSDT  True   55.52   \n11  downloaded_configs\\passivbot_v5.9.x\\configs/v5...   KSMUSDT  True  133.70   \n12  downloaded_configs\\passivbot_v5.9.x\\configs/v5...   LTCUSDT  True   82.50   \n13  downloaded_configs\\passivbot_v5.9.x\\configs/v5...  NEARUSDT  True  158.60   \n14  downloaded_configs\\passivbot_v5.9.x\\configs/v5...  RUNEUSDT  True  159.30   \n15  downloaded_configs\\passivbot_v5.9.x\\configs/v5...   TRXUSDT  True  111.60   \n16  downloaded_configs\\passivbot_v5.9.x\\configs/v5...   VETUSDT  True  270.70   \n17  downloaded_configs\\passivbot_v5.9.x\\configs/v5...   XMRUSDT  True   84.74   \n\n    adgl_%    pastdl    pamaxl  bnkrl_%    ebrl     maxsl  \n0   0.1130  0.012441  0.373502    100.0  0.9184  3.354167  \n1   0.1190  0.017795  0.469379    100.0  0.9042  2.462500  \n2   0.1120  0.024155  0.372757    100.0  0.9188  3.810417  \n3   0.0746  0.007881  0.340036    100.0  0.9244  3.586113  \n4   0.0500  0.008509  0.237834    100.0  0.9427  6.844458  \n5   0.0751  0.015357  0.406771    100.0  0.9134  2.728471  \n6   0.0878  0.010746  0.533994    100.0  0.8954  1.672221  \n7   0.0691  0.014226  0.323470    100.0  0.9266  5.186125  \n8   0.1360  0.021600  0.416372    100.0  0.9118  2.893054  \n9   0.2100  0.011031  0.561366    100.0  0.8921  0.277778  \n10  0.1300  0.016328  0.127076    100.0  0.9662  2.803471  \n11  0.0982  0.007836  0.167660    100.0  0.9202  3.367363  \n12  0.0521  0.009370  0.188195    100.0  0.9532  3.636112  \n13  0.1100  0.028896  0.356587    100.0  0.9211  3.212500  \n14  0.1050  0.025296  0.393587    100.0  0.9153  1.436113  \n15  0.0656  0.013118  0.353598    100.0  0.9216  3.691667  \n16  0.1180  0.018824  0.727919    100.0  0.8736  2.420833  \n17  0.0543  0.013101  0.528580    100.0  0.8961  1.477779  ",
      "text/html": "<div>\n<style scoped>\n    .dataframe tbody tr th:only-of-type {\n        vertical-align: middle;\n    }\n\n    .dataframe tbody tr th {\n        vertical-align: top;\n    }\n\n    .dataframe thead th {\n        text-align: right;\n    }\n</style>\n<table border=\"1\" class=\"dataframe\">\n  <thead>\n    <tr style=\"text-align: right;\">\n      <th></th>\n      <th>file</th>\n      <th>s</th>\n      <th>long</th>\n      <th>tgl_%</th>\n      <th>adgl_%</th>\n      <th>pastdl</th>\n      <th>pamaxl</th>\n      <th>bnkrl_%</th>\n      <th>ebrl</th>\n      <th>maxsl</th>\n    </tr>\n  </thead>\n  <tbody>\n    <tr>\n      <th>0</th>\n      <td>downloaded_configs\\passivbot_v5.9.x\\configs/v5...</td>\n      <td>ADAUSDT</td>\n      <td>True</td>\n      <td>259.80</td>\n      <td>0.1130</td>\n      <td>0.012441</td>\n      <td>0.373502</td>\n      <td>100.0</td>\n      <td>0.9184</td>\n      <td>3.354167</td>\n    </tr>\n    <tr>\n      <th>1</th>\n      <td>downloaded_configs\\passivbot_v5.9.x\\configs/v5...</td>\n      <td>ALGOUSDT</td>\n      <td>True</td>\n      <td>222.60</td>\n      <td>0.1190</td>\n      <td>0.017795</td>\n      <td>0.469379</td>\n      <td>100.0</td>\n      <td>0.9042</td>\n      <td>2.462500</td>\n    </tr>\n    <tr>\n      <th>2</th>\n      <td>downloaded_configs\\passivbot_v5.9.x\\configs/v5...</td>\n      <td>AVAXUSDT</td>\n      <td>True</td>\n      <td>168.10</td>\n      <td>0.1120</td>\n      <td>0.024155</td>\n      <td>0.372757</td>\n      <td>100.0</td>\n      <td>0.9188</td>\n      <td>3.810417</td>\n    </tr>\n    <tr>\n      <th>3</th>\n      <td>downloaded_configs\\passivbot_v5.9.x\\configs/v5...</td>\n      <td>BNBUSDT</td>\n      <td>True</td>\n      <td>129.60</td>\n      <td>0.0746</td>\n      <td>0.007881</td>\n      <td>0.340036</td>\n      <td>100.0</td>\n      <td>0.9244</td>\n      <td>3.586113</td>\n    </tr>\n    <tr>\n      <th>4</th>\n      <td>downloaded_configs\\passivbot_v5.9.x\\configs/v5...</td>\n      <td>BTCUSDT</td>\n      <td>True</td>\n      <td>80.96</td>\n      <td>0.0500</td>\n      <td>0.008509</td>\n      <td>0.237834</td>\n      <td>100.0</td>\n      <td>0.9427</td>\n      <td>6.844458</td>\n    </tr>\n    <tr>\n      <th>5</th>\n      <td>downloaded_configs\\passivbot_v5.9.x\\configs/v5...</td>\n      <td>COMPUSDT</td>\n      <td>True</td>\n      <td>107.10</td>\n      <td>0.0751</td>\n      <td>0.015357</td>\n      <td>0.406771</td>\n      <td>100.0</td>\n      <td>0.9134</td>\n      <td>2.728471</td>\n    </tr>\n    <tr>\n      <th>6</th>\n      <td>downloaded_configs\\passivbot_v5.9.x\\configs/v5...</td>\n      <td>ETCUSDT</td>\n      <td>True</td>\n      <td>173.40</td>\n      <td>0.0878</td>\n      <td>0.010746</td>\n      <td>0.533994</td>\n      <td>100.0</td>\n      <td>0.8954</td>\n      <td>1.672221</td>\n    </tr>\n    <tr>\n      <th>7</th>\n      <td>downloaded_configs\\passivbot_v5.9.x\\configs/v5...</td>\n      <td>ETHUSDT</td>\n      <td>True</td>\n      <td>124.10</td>\n      <td>0.0691</td>\n      <td>0.014226</td>\n      <td>0.323470</td>\n      <td>100.0</td>\n      <td>0.9266</td>\n      <td>5.186125</td>\n    </tr>\n    <tr>\n      <th>8</th>\n      <td>downloaded_configs\\passivbot_v5.9.x\\configs/v5...</td>\n      <td>GALAUSDT</td>\n      <td>True</td>\n      <td>103.10</td>\n      <td>0.1360</td>\n      <td>0.021600</td>\n      <td>0.416372</td>\n      <td>100.0</td>\n      <td>0.9118</td>\n      <td>2.893054</td>\n    </tr>\n    <tr>\n      <th>9</th>\n      <td>downloaded_configs\\passivbot_v5.9.x\\configs/v5...</td>\n      <td>GALUSDT</td>\n      <td>True</td>\n      <td>83.76</td>\n      <td>0.2100</td>\n      <td>0.011031</td>\n      <td>0.561366</td>\n      <td>100.0</td>\n      <td>0.8921</td>\n      <td>0.277778</td>\n    </tr>\n    <tr>\n      <th>10</th>\n      <td>downloaded_configs\\passivbot_v5.9.x\\configs/v5...</td>\n      <td>GMTUSDT</td>\n      <td>True</td>\n      <td>55.52</td>\n      <td>0.1300</td>\n      <td>0.016328</td>\n      <td>0.127076</td>\n      <td>100.0</td>\n      <td>0.9662</td>\n      <td>2.803471</td>\n    </tr>\n    <tr>\n      <th>11</th>\n      <td>downloaded_configs\\passivbot_v5.9.x\\configs/v5...</td>\n      <td>KSMUSDT</td>\n      <td>True</td>\n      <td>133.70</td>\n      <td>0.0982</td>\n      <td>0.007836</td>\n      <td>0.167660</td>\n      <td>100.0</td>\n      <td>0.9202</td>\n      <td>3.367363</td>\n    </tr>\n    <tr>\n      <th>12</th>\n      <td>downloaded_configs\\passivbot_v5.9.x\\configs/v5...</td>\n      <td>LTCUSDT</td>\n      <td>True</td>\n      <td>82.50</td>\n      <td>0.0521</td>\n      <td>0.009370</td>\n      <td>0.188195</td>\n      <td>100.0</td>\n      <td>0.9532</td>\n      <td>3.636112</td>\n    </tr>\n    <tr>\n      <th>13</th>\n      <td>downloaded_configs\\passivbot_v5.9.x\\configs/v5...</td>\n      <td>NEARUSDT</td>\n      <td>True</td>\n      <td>158.60</td>\n      <td>0.1100</td>\n      <td>0.028896</td>\n      <td>0.356587</td>\n      <td>100.0</td>\n      <td>0.9211</td>\n      <td>3.212500</td>\n    </tr>\n    <tr>\n      <th>14</th>\n      <td>downloaded_configs\\passivbot_v5.9.x\\configs/v5...</td>\n      <td>RUNEUSDT</td>\n      <td>True</td>\n      <td>159.30</td>\n      <td>0.1050</td>\n      <td>0.025296</td>\n      <td>0.393587</td>\n      <td>100.0</td>\n      <td>0.9153</td>\n      <td>1.436113</td>\n    </tr>\n    <tr>\n      <th>15</th>\n      <td>downloaded_configs\\passivbot_v5.9.x\\configs/v5...</td>\n      <td>TRXUSDT</td>\n      <td>True</td>\n      <td>111.60</td>\n      <td>0.0656</td>\n      <td>0.013118</td>\n      <td>0.353598</td>\n      <td>100.0</td>\n      <td>0.9216</td>\n      <td>3.691667</td>\n    </tr>\n    <tr>\n      <th>16</th>\n      <td>downloaded_configs\\passivbot_v5.9.x\\configs/v5...</td>\n      <td>VETUSDT</td>\n      <td>True</td>\n      <td>270.70</td>\n      <td>0.1180</td>\n      <td>0.018824</td>\n      <td>0.727919</td>\n      <td>100.0</td>\n      <td>0.8736</td>\n      <td>2.420833</td>\n    </tr>\n    <tr>\n      <th>17</th>\n      <td>downloaded_configs\\passivbot_v5.9.x\\configs/v5...</td>\n      <td>XMRUSDT</td>\n      <td>True</td>\n      <td>84.74</td>\n      <td>0.0543</td>\n      <td>0.013101</td>\n      <td>0.528580</td>\n      <td>100.0</td>\n      <td>0.8961</td>\n      <td>1.477779</td>\n    </tr>\n  </tbody>\n</table>\n</div>"
     },
     "execution_count": 17,
     "metadata": {},
     "output_type": "execute_result"
    }
   ],
   "source": [
    "v5_9_0 = ['OP', 'DYDX', 'XTZ', 'XRP', 'SUSHI', 'SAND', 'MATIC', 'MANA', 'LINK', 'HBAR', 'EOS', 'DOT', 'DOGE', 'CHZ', 'ATOM']\n",
    "v5_9_3 = ['ADA', 'ALGO', 'ATOM', 'AVAX', 'BNB', 'BTC', 'COMP', 'DOGE', 'DOT', 'DYDX', 'EOS', 'ETC', 'ETH', 'GALA', 'GAL', 'GMT', 'HBAR', 'KSM', 'LINK', 'LTC', 'MANA', 'MATIC', 'NEAR', 'RUNE', 'SAND', 'SUSHI', 'TRX', 'VET', 'XMR', 'XRP', 'XTZ']\n",
    "\n",
    "common_elements = [elem for elem in v5_9_0 if elem in v5_9_3]\n",
    "\n",
    "# Append USDT to each element in v5_9_0\n",
    "v5_9_0 = [s + 'USDT' for s in v5_9_0]\n",
    "\n",
    "dx = big_data[~big_data['s'].isin(v5_9_0)].reset_index(drop=True)\n",
    "\n",
    "dx"
   ],
   "metadata": {
    "collapsed": false,
    "ExecuteTime": {
     "start_time": "2023-04-10T13:58:44.270126Z",
     "end_time": "2023-04-10T13:58:44.329126Z"
    }
   }
  },
  {
   "cell_type": "code",
   "execution_count": 18,
   "outputs": [
    {
     "name": "stdout",
     "output_type": "stream",
     "text": [
      "['ADAUSDT', 'ALGOUSDT', 'AVAXUSDT', 'BNBUSDT', 'BTCUSDT', 'COMPUSDT', 'ETCUSDT', 'ETHUSDT', 'GALAUSDT', 'GALUSDT', 'GMTUSDT', 'KSMUSDT', 'LTCUSDT', 'NEARUSDT', 'RUNEUSDT', 'TRXUSDT', 'VETUSDT', 'XMRUSDT']\n",
      "Error: string indices must be integers\n"
     ]
    },
    {
     "data": {
      "text/plain": "                                                 file         s  long   tgl_%  \\\n0   downloaded_configs\\passivbot_v5.9.x\\configs/v5...   ADAUSDT  True  259.80   \n1   downloaded_configs\\passivbot_v5.9.x\\configs/v5...  ALGOUSDT  True  222.60   \n2   downloaded_configs\\passivbot_v5.9.x\\configs/v5...  AVAXUSDT  True  168.10   \n3   downloaded_configs\\passivbot_v5.9.x\\configs/v5...   BNBUSDT  True  129.60   \n4   downloaded_configs\\passivbot_v5.9.x\\configs/v5...   BTCUSDT  True   80.96   \n5   downloaded_configs\\passivbot_v5.9.x\\configs/v5...  COMPUSDT  True  107.10   \n6   downloaded_configs\\passivbot_v5.9.x\\configs/v5...   ETCUSDT  True  173.40   \n7   downloaded_configs\\passivbot_v5.9.x\\configs/v5...   ETHUSDT  True  124.10   \n8   downloaded_configs\\passivbot_v5.9.x\\configs/v5...  GALAUSDT  True  103.10   \n9   downloaded_configs\\passivbot_v5.9.x\\configs/v5...   GALUSDT  True   83.76   \n10  downloaded_configs\\passivbot_v5.9.x\\configs/v5...   GMTUSDT  True   55.52   \n11  downloaded_configs\\passivbot_v5.9.x\\configs/v5...   KSMUSDT  True  133.70   \n12  downloaded_configs\\passivbot_v5.9.x\\configs/v5...   LTCUSDT  True   82.50   \n13  downloaded_configs\\passivbot_v5.9.x\\configs/v5...  NEARUSDT  True  158.60   \n14  downloaded_configs\\passivbot_v5.9.x\\configs/v5...  RUNEUSDT  True  159.30   \n15  downloaded_configs\\passivbot_v5.9.x\\configs/v5...   TRXUSDT  True  111.60   \n16  downloaded_configs\\passivbot_v5.9.x\\configs/v5...   VETUSDT  True  270.70   \n17  downloaded_configs\\passivbot_v5.9.x\\configs/v5...   XMRUSDT  True   84.74   \n\n    adgl_%    pastdl    pamaxl  bnkrl_%    ebrl     maxsl  min_size_usdt  \n0   0.1130  0.012441  0.373502    100.0  0.9184  3.354167              0  \n1   0.1190  0.017795  0.469379    100.0  0.9042  2.462500              0  \n2   0.1120  0.024155  0.372757    100.0  0.9188  3.810417              0  \n3   0.0746  0.007881  0.340036    100.0  0.9244  3.586113              0  \n4   0.0500  0.008509  0.237834    100.0  0.9427  6.844458              0  \n5   0.0751  0.015357  0.406771    100.0  0.9134  2.728471              0  \n6   0.0878  0.010746  0.533994    100.0  0.8954  1.672221              0  \n7   0.0691  0.014226  0.323470    100.0  0.9266  5.186125              0  \n8   0.1360  0.021600  0.416372    100.0  0.9118  2.893054              0  \n9   0.2100  0.011031  0.561366    100.0  0.8921  0.277778              0  \n10  0.1300  0.016328  0.127076    100.0  0.9662  2.803471              0  \n11  0.0982  0.007836  0.167660    100.0  0.9202  3.367363              0  \n12  0.0521  0.009370  0.188195    100.0  0.9532  3.636112              0  \n13  0.1100  0.028896  0.356587    100.0  0.9211  3.212500              0  \n14  0.1050  0.025296  0.393587    100.0  0.9153  1.436113              0  \n15  0.0656  0.013118  0.353598    100.0  0.9216  3.691667              0  \n16  0.1180  0.018824  0.727919    100.0  0.8736  2.420833              0  \n17  0.0543  0.013101  0.528580    100.0  0.8961  1.477779              0  ",
      "text/html": "<div>\n<style scoped>\n    .dataframe tbody tr th:only-of-type {\n        vertical-align: middle;\n    }\n\n    .dataframe tbody tr th {\n        vertical-align: top;\n    }\n\n    .dataframe thead th {\n        text-align: right;\n    }\n</style>\n<table border=\"1\" class=\"dataframe\">\n  <thead>\n    <tr style=\"text-align: right;\">\n      <th></th>\n      <th>file</th>\n      <th>s</th>\n      <th>long</th>\n      <th>tgl_%</th>\n      <th>adgl_%</th>\n      <th>pastdl</th>\n      <th>pamaxl</th>\n      <th>bnkrl_%</th>\n      <th>ebrl</th>\n      <th>maxsl</th>\n      <th>min_size_usdt</th>\n    </tr>\n  </thead>\n  <tbody>\n    <tr>\n      <th>0</th>\n      <td>downloaded_configs\\passivbot_v5.9.x\\configs/v5...</td>\n      <td>ADAUSDT</td>\n      <td>True</td>\n      <td>259.80</td>\n      <td>0.1130</td>\n      <td>0.012441</td>\n      <td>0.373502</td>\n      <td>100.0</td>\n      <td>0.9184</td>\n      <td>3.354167</td>\n      <td>0</td>\n    </tr>\n    <tr>\n      <th>1</th>\n      <td>downloaded_configs\\passivbot_v5.9.x\\configs/v5...</td>\n      <td>ALGOUSDT</td>\n      <td>True</td>\n      <td>222.60</td>\n      <td>0.1190</td>\n      <td>0.017795</td>\n      <td>0.469379</td>\n      <td>100.0</td>\n      <td>0.9042</td>\n      <td>2.462500</td>\n      <td>0</td>\n    </tr>\n    <tr>\n      <th>2</th>\n      <td>downloaded_configs\\passivbot_v5.9.x\\configs/v5...</td>\n      <td>AVAXUSDT</td>\n      <td>True</td>\n      <td>168.10</td>\n      <td>0.1120</td>\n      <td>0.024155</td>\n      <td>0.372757</td>\n      <td>100.0</td>\n      <td>0.9188</td>\n      <td>3.810417</td>\n      <td>0</td>\n    </tr>\n    <tr>\n      <th>3</th>\n      <td>downloaded_configs\\passivbot_v5.9.x\\configs/v5...</td>\n      <td>BNBUSDT</td>\n      <td>True</td>\n      <td>129.60</td>\n      <td>0.0746</td>\n      <td>0.007881</td>\n      <td>0.340036</td>\n      <td>100.0</td>\n      <td>0.9244</td>\n      <td>3.586113</td>\n      <td>0</td>\n    </tr>\n    <tr>\n      <th>4</th>\n      <td>downloaded_configs\\passivbot_v5.9.x\\configs/v5...</td>\n      <td>BTCUSDT</td>\n      <td>True</td>\n      <td>80.96</td>\n      <td>0.0500</td>\n      <td>0.008509</td>\n      <td>0.237834</td>\n      <td>100.0</td>\n      <td>0.9427</td>\n      <td>6.844458</td>\n      <td>0</td>\n    </tr>\n    <tr>\n      <th>5</th>\n      <td>downloaded_configs\\passivbot_v5.9.x\\configs/v5...</td>\n      <td>COMPUSDT</td>\n      <td>True</td>\n      <td>107.10</td>\n      <td>0.0751</td>\n      <td>0.015357</td>\n      <td>0.406771</td>\n      <td>100.0</td>\n      <td>0.9134</td>\n      <td>2.728471</td>\n      <td>0</td>\n    </tr>\n    <tr>\n      <th>6</th>\n      <td>downloaded_configs\\passivbot_v5.9.x\\configs/v5...</td>\n      <td>ETCUSDT</td>\n      <td>True</td>\n      <td>173.40</td>\n      <td>0.0878</td>\n      <td>0.010746</td>\n      <td>0.533994</td>\n      <td>100.0</td>\n      <td>0.8954</td>\n      <td>1.672221</td>\n      <td>0</td>\n    </tr>\n    <tr>\n      <th>7</th>\n      <td>downloaded_configs\\passivbot_v5.9.x\\configs/v5...</td>\n      <td>ETHUSDT</td>\n      <td>True</td>\n      <td>124.10</td>\n      <td>0.0691</td>\n      <td>0.014226</td>\n      <td>0.323470</td>\n      <td>100.0</td>\n      <td>0.9266</td>\n      <td>5.186125</td>\n      <td>0</td>\n    </tr>\n    <tr>\n      <th>8</th>\n      <td>downloaded_configs\\passivbot_v5.9.x\\configs/v5...</td>\n      <td>GALAUSDT</td>\n      <td>True</td>\n      <td>103.10</td>\n      <td>0.1360</td>\n      <td>0.021600</td>\n      <td>0.416372</td>\n      <td>100.0</td>\n      <td>0.9118</td>\n      <td>2.893054</td>\n      <td>0</td>\n    </tr>\n    <tr>\n      <th>9</th>\n      <td>downloaded_configs\\passivbot_v5.9.x\\configs/v5...</td>\n      <td>GALUSDT</td>\n      <td>True</td>\n      <td>83.76</td>\n      <td>0.2100</td>\n      <td>0.011031</td>\n      <td>0.561366</td>\n      <td>100.0</td>\n      <td>0.8921</td>\n      <td>0.277778</td>\n      <td>0</td>\n    </tr>\n    <tr>\n      <th>10</th>\n      <td>downloaded_configs\\passivbot_v5.9.x\\configs/v5...</td>\n      <td>GMTUSDT</td>\n      <td>True</td>\n      <td>55.52</td>\n      <td>0.1300</td>\n      <td>0.016328</td>\n      <td>0.127076</td>\n      <td>100.0</td>\n      <td>0.9662</td>\n      <td>2.803471</td>\n      <td>0</td>\n    </tr>\n    <tr>\n      <th>11</th>\n      <td>downloaded_configs\\passivbot_v5.9.x\\configs/v5...</td>\n      <td>KSMUSDT</td>\n      <td>True</td>\n      <td>133.70</td>\n      <td>0.0982</td>\n      <td>0.007836</td>\n      <td>0.167660</td>\n      <td>100.0</td>\n      <td>0.9202</td>\n      <td>3.367363</td>\n      <td>0</td>\n    </tr>\n    <tr>\n      <th>12</th>\n      <td>downloaded_configs\\passivbot_v5.9.x\\configs/v5...</td>\n      <td>LTCUSDT</td>\n      <td>True</td>\n      <td>82.50</td>\n      <td>0.0521</td>\n      <td>0.009370</td>\n      <td>0.188195</td>\n      <td>100.0</td>\n      <td>0.9532</td>\n      <td>3.636112</td>\n      <td>0</td>\n    </tr>\n    <tr>\n      <th>13</th>\n      <td>downloaded_configs\\passivbot_v5.9.x\\configs/v5...</td>\n      <td>NEARUSDT</td>\n      <td>True</td>\n      <td>158.60</td>\n      <td>0.1100</td>\n      <td>0.028896</td>\n      <td>0.356587</td>\n      <td>100.0</td>\n      <td>0.9211</td>\n      <td>3.212500</td>\n      <td>0</td>\n    </tr>\n    <tr>\n      <th>14</th>\n      <td>downloaded_configs\\passivbot_v5.9.x\\configs/v5...</td>\n      <td>RUNEUSDT</td>\n      <td>True</td>\n      <td>159.30</td>\n      <td>0.1050</td>\n      <td>0.025296</td>\n      <td>0.393587</td>\n      <td>100.0</td>\n      <td>0.9153</td>\n      <td>1.436113</td>\n      <td>0</td>\n    </tr>\n    <tr>\n      <th>15</th>\n      <td>downloaded_configs\\passivbot_v5.9.x\\configs/v5...</td>\n      <td>TRXUSDT</td>\n      <td>True</td>\n      <td>111.60</td>\n      <td>0.0656</td>\n      <td>0.013118</td>\n      <td>0.353598</td>\n      <td>100.0</td>\n      <td>0.9216</td>\n      <td>3.691667</td>\n      <td>0</td>\n    </tr>\n    <tr>\n      <th>16</th>\n      <td>downloaded_configs\\passivbot_v5.9.x\\configs/v5...</td>\n      <td>VETUSDT</td>\n      <td>True</td>\n      <td>270.70</td>\n      <td>0.1180</td>\n      <td>0.018824</td>\n      <td>0.727919</td>\n      <td>100.0</td>\n      <td>0.8736</td>\n      <td>2.420833</td>\n      <td>0</td>\n    </tr>\n    <tr>\n      <th>17</th>\n      <td>downloaded_configs\\passivbot_v5.9.x\\configs/v5...</td>\n      <td>XMRUSDT</td>\n      <td>True</td>\n      <td>84.74</td>\n      <td>0.0543</td>\n      <td>0.013101</td>\n      <td>0.528580</td>\n      <td>100.0</td>\n      <td>0.8961</td>\n      <td>1.477779</td>\n      <td>0</td>\n    </tr>\n  </tbody>\n</table>\n</div>"
     },
     "execution_count": 18,
     "metadata": {},
     "output_type": "execute_result"
    }
   ],
   "source": [
    "import requests\n",
    "\n",
    "\n",
    "symbols = dx['s'].unique().tolist()\n",
    "print(symbols)\n",
    "symbols_with_min_notional = {}\n",
    "data_url = \"https://fapi.binance.com/fapi/v1/exchangeInfo\"\n",
    "data = requests.get(data_url).json()\n",
    "prices_url = \"https://fapi.binance.com/fapi/v1/ticker/price\"\n",
    "pricedata = requests.get(prices_url).json()\n",
    "\n",
    "# print(data)\n",
    "# print(pricedata)\n",
    "\n",
    "try:\n",
    "    for datas in data[\"symbols\"]:\n",
    "        if \"USDT\" in datas[\"pair\"]:\n",
    "            symbol = datas[\"pair\"]\n",
    "            #print(f'looking for {symbol} in {symbols}')\n",
    "            if symbol not in symbols:\n",
    "                continue\n",
    "            min_qty = float(datas[\"filters\"][1][\"minQty\"] )\n",
    "            min_notional_fixed =  float(datas[\"filters\"][5][\"notional\"])\n",
    "\n",
    "            for i in pricedata:\n",
    "                if i[\"symbol\"] == symbol:\n",
    "                    price = i[\"price\"]\n",
    "\n",
    "            min_notional_calc = min_qty * float(price)\n",
    "            print(f'{symbol.ljust(13)}\\t min_notional: ${min_notional_calc:.2f}\\t')\n",
    "\n",
    "            if min_notional_calc <= min_notional_fixed:\n",
    "                min_notional = min_notional_fixed\n",
    "            else:\n",
    "                min_notional = min_notional_calc\n",
    "\n",
    "\n",
    "            symbols_with_min_notional[symbol] = min_notional\n",
    "            # if iec >= min_notional:\n",
    "            #     list.append(f\"{symbol.ljust(13)}\\t min_notional: ${min_notional:.2f}\\t GRID OK\")\n",
    "            # else:\n",
    "            #     list.append(f\"{symbol.ljust(13)}\\t min_notional: ${min_notional:.2f}\\t GRID NOT OK\")\n",
    "\n",
    "except Exception as e:\n",
    "    print(f'Error: {e}')\n",
    "    pass\n",
    "\n",
    "\n",
    "\n",
    "# function to get minimum trade size\n",
    "def get_min_trade_size(coin):\n",
    "    return symbols_with_min_notional.get(coin, 0)\n",
    "\n",
    "dx['min_size_usdt'] = dx['s'].apply(lambda x: get_min_trade_size(x))\n",
    "\n",
    "dx\n",
    "\n",
    "# # Define the symbols for the futures market\n",
    "\n",
    "#\n",
    "# print(symbols)\n",
    "#\n",
    "# # Loop through the symbols and get the minimum quantity size in USDT for each\n",
    "# for symbol in symbols:\n",
    "#     min_qty_size = get_min_qty_size(symbol)\n",
    "#     print(symbol, min_qty_size)"
   ],
   "metadata": {
    "collapsed": false,
    "ExecuteTime": {
     "start_time": "2023-04-10T13:58:44.328123Z",
     "end_time": "2023-04-10T13:58:47.575749Z"
    }
   }
  },
  {
   "cell_type": "code",
   "execution_count": 23,
   "outputs": [
    {
     "data": {
      "text/plain": "                                                                                                                                                   file  \\\n0     downloaded_configs\\passivbot_v5.9.x\\configs/v5.9.3_clock_realistic/clock/toaster_longonly_01_safe\\ADAUSDT_20230217004157_5293c\\ADAUSDT\\result.txt   \n1   downloaded_configs\\passivbot_v5.9.x\\configs/v5.9.3_clock_realistic/clock/toaster_longonly_01_safe\\ALGOUSDT_20230217004157_5293c\\ALGOUSDT\\result.txt   \n2   downloaded_configs\\passivbot_v5.9.x\\configs/v5.9.3_clock_realistic/clock/toaster_longonly_01_safe\\AVAXUSDT_20230217004157_5293c\\AVAXUSDT\\result.txt   \n3     downloaded_configs\\passivbot_v5.9.x\\configs/v5.9.3_clock_realistic/clock/toaster_longonly_01_safe\\BNBUSDT_20230217004157_5293c\\BNBUSDT\\result.txt   \n4     downloaded_configs\\passivbot_v5.9.x\\configs/v5.9.3_clock_realistic/clock/toaster_longonly_01_safe\\BTCUSDT_20230217004157_5293c\\BTCUSDT\\result.txt   \n5   downloaded_configs\\passivbot_v5.9.x\\configs/v5.9.3_clock_realistic/clock/toaster_longonly_01_safe\\COMPUSDT_20230217004157_5293c\\COMPUSDT\\result.txt   \n7     downloaded_configs\\passivbot_v5.9.x\\configs/v5.9.3_clock_realistic/clock/toaster_longonly_01_safe\\ETHUSDT_20230217004157_5293c\\ETHUSDT\\result.txt   \n8   downloaded_configs\\passivbot_v5.9.x\\configs/v5.9.3_clock_realistic/clock/toaster_longonly_01_safe\\GALAUSDT_20230217004157_5293c\\GALAUSDT\\result.txt   \n10    downloaded_configs\\passivbot_v5.9.x\\configs/v5.9.3_clock_realistic/clock/toaster_longonly_01_safe\\GMTUSDT_20230217004157_5293c\\GMTUSDT\\result.txt   \n11    downloaded_configs\\passivbot_v5.9.x\\configs/v5.9.3_clock_realistic/clock/toaster_longonly_01_safe\\KSMUSDT_20230217004157_5293c\\KSMUSDT\\result.txt   \n12    downloaded_configs\\passivbot_v5.9.x\\configs/v5.9.3_clock_realistic/clock/toaster_longonly_01_safe\\LTCUSDT_20230217004157_5293c\\LTCUSDT\\result.txt   \n13  downloaded_configs\\passivbot_v5.9.x\\configs/v5.9.3_clock_realistic/clock/toaster_longonly_01_safe\\NEARUSDT_20230217004157_5293c\\NEARUSDT\\result.txt   \n14  downloaded_configs\\passivbot_v5.9.x\\configs/v5.9.3_clock_realistic/clock/toaster_longonly_01_safe\\RUNEUSDT_20230217004157_5293c\\RUNEUSDT\\result.txt   \n15    downloaded_configs\\passivbot_v5.9.x\\configs/v5.9.3_clock_realistic/clock/toaster_longonly_01_safe\\TRXUSDT_20230217004157_5293c\\TRXUSDT\\result.txt   \n\n           s  long   tgl_%  adgl_%    pastdl    pamaxl  bnkrl_%    ebrl  \\\n0    ADAUSDT  True  259.80  0.1130  0.012441  0.373502    100.0  0.9184   \n1   ALGOUSDT  True  222.60  0.1190  0.017795  0.469379    100.0  0.9042   \n2   AVAXUSDT  True  168.10  0.1120  0.024155  0.372757    100.0  0.9188   \n3    BNBUSDT  True  129.60  0.0746  0.007881  0.340036    100.0  0.9244   \n4    BTCUSDT  True   80.96  0.0500  0.008509  0.237834    100.0  0.9427   \n5   COMPUSDT  True  107.10  0.0751  0.015357  0.406771    100.0  0.9134   \n7    ETHUSDT  True  124.10  0.0691  0.014226  0.323470    100.0  0.9266   \n8   GALAUSDT  True  103.10  0.1360  0.021600  0.416372    100.0  0.9118   \n10   GMTUSDT  True   55.52  0.1300  0.016328  0.127076    100.0  0.9662   \n11   KSMUSDT  True  133.70  0.0982  0.007836  0.167660    100.0  0.9202   \n12   LTCUSDT  True   82.50  0.0521  0.009370  0.188195    100.0  0.9532   \n13  NEARUSDT  True  158.60  0.1100  0.028896  0.356587    100.0  0.9211   \n14  RUNEUSDT  True  159.30  0.1050  0.025296  0.393587    100.0  0.9153   \n15   TRXUSDT  True  111.60  0.0656  0.013118  0.353598    100.0  0.9216   \n\n       maxsl  min_size_usdt  \n0   3.354167              0  \n1   2.462500              0  \n2   3.810417              0  \n3   3.586113              0  \n4   6.844458              0  \n5   2.728471              0  \n7   5.186125              0  \n8   2.893054              0  \n10  2.803471              0  \n11  3.367363              0  \n12  3.636112              0  \n13  3.212500              0  \n14  1.436113              0  \n15  3.691667              0  ",
      "text/html": "<div>\n<style scoped>\n    .dataframe tbody tr th:only-of-type {\n        vertical-align: middle;\n    }\n\n    .dataframe tbody tr th {\n        vertical-align: top;\n    }\n\n    .dataframe thead th {\n        text-align: right;\n    }\n</style>\n<table border=\"1\" class=\"dataframe\">\n  <thead>\n    <tr style=\"text-align: right;\">\n      <th></th>\n      <th>file</th>\n      <th>s</th>\n      <th>long</th>\n      <th>tgl_%</th>\n      <th>adgl_%</th>\n      <th>pastdl</th>\n      <th>pamaxl</th>\n      <th>bnkrl_%</th>\n      <th>ebrl</th>\n      <th>maxsl</th>\n      <th>min_size_usdt</th>\n    </tr>\n  </thead>\n  <tbody>\n    <tr>\n      <th>0</th>\n      <td>downloaded_configs\\passivbot_v5.9.x\\configs/v5.9.3_clock_realistic/clock/toaster_longonly_01_safe\\ADAUSDT_20230217004157_5293c\\ADAUSDT\\result.txt</td>\n      <td>ADAUSDT</td>\n      <td>True</td>\n      <td>259.80</td>\n      <td>0.1130</td>\n      <td>0.012441</td>\n      <td>0.373502</td>\n      <td>100.0</td>\n      <td>0.9184</td>\n      <td>3.354167</td>\n      <td>0</td>\n    </tr>\n    <tr>\n      <th>1</th>\n      <td>downloaded_configs\\passivbot_v5.9.x\\configs/v5.9.3_clock_realistic/clock/toaster_longonly_01_safe\\ALGOUSDT_20230217004157_5293c\\ALGOUSDT\\result.txt</td>\n      <td>ALGOUSDT</td>\n      <td>True</td>\n      <td>222.60</td>\n      <td>0.1190</td>\n      <td>0.017795</td>\n      <td>0.469379</td>\n      <td>100.0</td>\n      <td>0.9042</td>\n      <td>2.462500</td>\n      <td>0</td>\n    </tr>\n    <tr>\n      <th>2</th>\n      <td>downloaded_configs\\passivbot_v5.9.x\\configs/v5.9.3_clock_realistic/clock/toaster_longonly_01_safe\\AVAXUSDT_20230217004157_5293c\\AVAXUSDT\\result.txt</td>\n      <td>AVAXUSDT</td>\n      <td>True</td>\n      <td>168.10</td>\n      <td>0.1120</td>\n      <td>0.024155</td>\n      <td>0.372757</td>\n      <td>100.0</td>\n      <td>0.9188</td>\n      <td>3.810417</td>\n      <td>0</td>\n    </tr>\n    <tr>\n      <th>3</th>\n      <td>downloaded_configs\\passivbot_v5.9.x\\configs/v5.9.3_clock_realistic/clock/toaster_longonly_01_safe\\BNBUSDT_20230217004157_5293c\\BNBUSDT\\result.txt</td>\n      <td>BNBUSDT</td>\n      <td>True</td>\n      <td>129.60</td>\n      <td>0.0746</td>\n      <td>0.007881</td>\n      <td>0.340036</td>\n      <td>100.0</td>\n      <td>0.9244</td>\n      <td>3.586113</td>\n      <td>0</td>\n    </tr>\n    <tr>\n      <th>4</th>\n      <td>downloaded_configs\\passivbot_v5.9.x\\configs/v5.9.3_clock_realistic/clock/toaster_longonly_01_safe\\BTCUSDT_20230217004157_5293c\\BTCUSDT\\result.txt</td>\n      <td>BTCUSDT</td>\n      <td>True</td>\n      <td>80.96</td>\n      <td>0.0500</td>\n      <td>0.008509</td>\n      <td>0.237834</td>\n      <td>100.0</td>\n      <td>0.9427</td>\n      <td>6.844458</td>\n      <td>0</td>\n    </tr>\n    <tr>\n      <th>5</th>\n      <td>downloaded_configs\\passivbot_v5.9.x\\configs/v5.9.3_clock_realistic/clock/toaster_longonly_01_safe\\COMPUSDT_20230217004157_5293c\\COMPUSDT\\result.txt</td>\n      <td>COMPUSDT</td>\n      <td>True</td>\n      <td>107.10</td>\n      <td>0.0751</td>\n      <td>0.015357</td>\n      <td>0.406771</td>\n      <td>100.0</td>\n      <td>0.9134</td>\n      <td>2.728471</td>\n      <td>0</td>\n    </tr>\n    <tr>\n      <th>7</th>\n      <td>downloaded_configs\\passivbot_v5.9.x\\configs/v5.9.3_clock_realistic/clock/toaster_longonly_01_safe\\ETHUSDT_20230217004157_5293c\\ETHUSDT\\result.txt</td>\n      <td>ETHUSDT</td>\n      <td>True</td>\n      <td>124.10</td>\n      <td>0.0691</td>\n      <td>0.014226</td>\n      <td>0.323470</td>\n      <td>100.0</td>\n      <td>0.9266</td>\n      <td>5.186125</td>\n      <td>0</td>\n    </tr>\n    <tr>\n      <th>8</th>\n      <td>downloaded_configs\\passivbot_v5.9.x\\configs/v5.9.3_clock_realistic/clock/toaster_longonly_01_safe\\GALAUSDT_20230217004157_5293c\\GALAUSDT\\result.txt</td>\n      <td>GALAUSDT</td>\n      <td>True</td>\n      <td>103.10</td>\n      <td>0.1360</td>\n      <td>0.021600</td>\n      <td>0.416372</td>\n      <td>100.0</td>\n      <td>0.9118</td>\n      <td>2.893054</td>\n      <td>0</td>\n    </tr>\n    <tr>\n      <th>10</th>\n      <td>downloaded_configs\\passivbot_v5.9.x\\configs/v5.9.3_clock_realistic/clock/toaster_longonly_01_safe\\GMTUSDT_20230217004157_5293c\\GMTUSDT\\result.txt</td>\n      <td>GMTUSDT</td>\n      <td>True</td>\n      <td>55.52</td>\n      <td>0.1300</td>\n      <td>0.016328</td>\n      <td>0.127076</td>\n      <td>100.0</td>\n      <td>0.9662</td>\n      <td>2.803471</td>\n      <td>0</td>\n    </tr>\n    <tr>\n      <th>11</th>\n      <td>downloaded_configs\\passivbot_v5.9.x\\configs/v5.9.3_clock_realistic/clock/toaster_longonly_01_safe\\KSMUSDT_20230217004157_5293c\\KSMUSDT\\result.txt</td>\n      <td>KSMUSDT</td>\n      <td>True</td>\n      <td>133.70</td>\n      <td>0.0982</td>\n      <td>0.007836</td>\n      <td>0.167660</td>\n      <td>100.0</td>\n      <td>0.9202</td>\n      <td>3.367363</td>\n      <td>0</td>\n    </tr>\n    <tr>\n      <th>12</th>\n      <td>downloaded_configs\\passivbot_v5.9.x\\configs/v5.9.3_clock_realistic/clock/toaster_longonly_01_safe\\LTCUSDT_20230217004157_5293c\\LTCUSDT\\result.txt</td>\n      <td>LTCUSDT</td>\n      <td>True</td>\n      <td>82.50</td>\n      <td>0.0521</td>\n      <td>0.009370</td>\n      <td>0.188195</td>\n      <td>100.0</td>\n      <td>0.9532</td>\n      <td>3.636112</td>\n      <td>0</td>\n    </tr>\n    <tr>\n      <th>13</th>\n      <td>downloaded_configs\\passivbot_v5.9.x\\configs/v5.9.3_clock_realistic/clock/toaster_longonly_01_safe\\NEARUSDT_20230217004157_5293c\\NEARUSDT\\result.txt</td>\n      <td>NEARUSDT</td>\n      <td>True</td>\n      <td>158.60</td>\n      <td>0.1100</td>\n      <td>0.028896</td>\n      <td>0.356587</td>\n      <td>100.0</td>\n      <td>0.9211</td>\n      <td>3.212500</td>\n      <td>0</td>\n    </tr>\n    <tr>\n      <th>14</th>\n      <td>downloaded_configs\\passivbot_v5.9.x\\configs/v5.9.3_clock_realistic/clock/toaster_longonly_01_safe\\RUNEUSDT_20230217004157_5293c\\RUNEUSDT\\result.txt</td>\n      <td>RUNEUSDT</td>\n      <td>True</td>\n      <td>159.30</td>\n      <td>0.1050</td>\n      <td>0.025296</td>\n      <td>0.393587</td>\n      <td>100.0</td>\n      <td>0.9153</td>\n      <td>1.436113</td>\n      <td>0</td>\n    </tr>\n    <tr>\n      <th>15</th>\n      <td>downloaded_configs\\passivbot_v5.9.x\\configs/v5.9.3_clock_realistic/clock/toaster_longonly_01_safe\\TRXUSDT_20230217004157_5293c\\TRXUSDT\\result.txt</td>\n      <td>TRXUSDT</td>\n      <td>True</td>\n      <td>111.60</td>\n      <td>0.0656</td>\n      <td>0.013118</td>\n      <td>0.353598</td>\n      <td>100.0</td>\n      <td>0.9216</td>\n      <td>3.691667</td>\n      <td>0</td>\n    </tr>\n  </tbody>\n</table>\n</div>"
     },
     "execution_count": 23,
     "metadata": {},
     "output_type": "execute_result"
    }
   ],
   "source": [
    "\n",
    "dl_proposed = dx[\n",
    "    (dx['min_size_usdt'] < 10) &\n",
    "    #(dx['lm'] == 'n') &\n",
    "    (dx['bnkrl_%'] == 100) &\n",
    "    #(dx['bnkrs_%'] == 100) &\n",
    "    (dx['ebrl'] > 0.9)  #&\n",
    "    # (dx['ebrs'] > 0.9) &  #&\n",
    "    # (dx['adgl_%'] > 0.04) \n",
    "    # (dx['pastdl'] < 0.03) &\n",
    "    # (dx['pastds'] < 0.03) &  #\n",
    "    # (dx['maxsl'] < 10) &\n",
    "    # (dx['maxss'] < 10) &\n",
    "    # (dx['adgt_%'].notnull()) &\n",
    "    # (dx['adgt_%'] > 0)\n",
    "    ]\n",
    "pd.set_option('display.max_colwidth', None)\n",
    "dl_proposed"
   ],
   "metadata": {
    "collapsed": false,
    "ExecuteTime": {
     "start_time": "2023-04-10T14:09:06.392451Z",
     "end_time": "2023-04-10T14:09:06.449625Z"
    }
   }
  },
  {
   "cell_type": "code",
   "execution_count": null,
   "outputs": [],
   "source": [
    "# existing_screens = ['TRX', 'XMR', 'ETC', 'LTC', 'ADA', 'KSM', 'BNB', 'ETH', 'XTZ', 'XRP', 'SUSHI', 'SAND', 'MATIC', 'MANA', 'LINK', 'HBAR', 'EOS', 'DOT', 'DOGE', 'CHZ', 'ATOM']\n",
    "#\n",
    "# existing_screens = [x + 'USDT' for x in existing_screens]\n",
    "# dl_proposed = dl_proposed[~dl_proposed['s'].isin(existing_screens)]\n",
    "#\n",
    "# dl_proposed"
   ],
   "metadata": {
    "collapsed": false
   }
  },
  {
   "cell_type": "code",
   "execution_count": null,
   "outputs": [],
   "source": [
    "# existing_screens = ['TRX', 'XMR', 'ETC', 'LTC', 'ADA', 'KSM', 'BNB', 'ETH', 'XTZ', 'XRP', 'SUSHI', 'SAND', 'MATIC', 'MANA', 'LINK', 'HBAR', 'EOS', 'DOT', 'DOGE', 'CHZ', 'ATOM', 'NEAR']\n",
    "#\n",
    "# existing_screens = [x + 'USDT' for x in existing_screens]\n",
    "# dl_proposed = dl_proposed[~dl_proposed['s'].isin(existing_screens)]\n",
    "#\n",
    "# dl_proposed"
   ],
   "metadata": {
    "collapsed": false
   }
  },
  {
   "cell_type": "code",
   "execution_count": null,
   "outputs": [],
   "source": [],
   "metadata": {
    "collapsed": false
   }
  }
 ],
 "metadata": {
  "kernelspec": {
   "display_name": "Python 3",
   "language": "python",
   "name": "python3"
  },
  "language_info": {
   "codemirror_mode": {
    "name": "ipython",
    "version": 2
   },
   "file_extension": ".py",
   "mimetype": "text/x-python",
   "name": "python",
   "nbconvert_exporter": "python",
   "pygments_lexer": "ipython2",
   "version": "2.7.6"
  }
 },
 "nbformat": 4,
 "nbformat_minor": 0
}
