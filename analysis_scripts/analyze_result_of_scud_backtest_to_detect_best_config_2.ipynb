{
 "cells": [
  {
   "cell_type": "code",
   "execution_count": 1,
   "metadata": {
    "collapsed": true,
    "ExecuteTime": {
     "end_time": "2024-04-06T19:09:05.803366300Z",
     "start_time": "2024-04-06T19:09:05.772367500Z"
    }
   },
   "outputs": [],
   "source": [
    "%load_ext autoreload\n",
    "%autoreload 2"
   ]
  },
  {
   "cell_type": "code",
   "execution_count": 2,
   "outputs": [],
   "source": [
    "\n",
    "import pandas as pd\n",
    "\n",
    "ROOT_PATH = 'C:/AgodaGit/passivbot'\n",
    "BACKTESTS_PATH = ROOT_PATH + '/backtests/binance'"
   ],
   "metadata": {
    "collapsed": false,
    "ExecuteTime": {
     "end_time": "2024-04-06T19:09:10.127381800Z",
     "start_time": "2024-04-06T19:09:07.933368900Z"
    }
   }
  },
  {
   "cell_type": "code",
   "execution_count": 3,
   "outputs": [
    {
     "data": {
      "text/plain": "          symbol  side   strategy  \\\n0      1INCHUSDT  long  recursive   \n1      1INCHUSDT  long  recursive   \n2      1INCHUSDT  long  recursive   \n3      1INCHUSDT  long  recursive   \n4      1INCHUSDT  long  recursive   \n...          ...   ...        ...   \n35577    XLMUSDT  long  recursive   \n35578    XLMUSDT  long  recursive   \n35579    XLMUSDT  long  recursive   \n35580    XLMUSDT  long  recursive   \n35581    XLMUSDT  long  recursive   \n\n                                                  source  \\\n0      https://github.com/donewiththedollar/passivbot...   \n1      https://github.com/donewiththedollar/passivbot...   \n2      https://github.com/donewiththedollar/passivbot...   \n3      https://github.com/donewiththedollar/passivbot...   \n4      https://github.com/donewiththedollar/passivbot...   \n...                                                  ...   \n35577  https://github.com/Sephral/myPbConfigs/blob/ma...   \n35578  https://github.com/Sephral/myPbConfigs/blob/ma...   \n35579  https://github.com/Sephral/myPbConfigs/blob/ma...   \n35580  https://github.com/Sephral/myPbConfigs/blob/ma...   \n35581  https://github.com/Sephral/myPbConfigs/blob/ma...   \n\n                             source_name  adg_per_exposure  \\\n0      flyingtoaster [donewiththedollar]            0.0913   \n1      flyingtoaster [donewiththedollar]            0.1211   \n2      flyingtoaster [donewiththedollar]            0.0761   \n3      flyingtoaster [donewiththedollar]            0.1153   \n4      flyingtoaster [donewiththedollar]            0.1330   \n...                                  ...               ...   \n35577                            Sephral            0.0802   \n35578                            Sephral            0.1137   \n35579                            Sephral            0.0936   \n35580                            Sephral            0.1195   \n35581                            Sephral            0.1179   \n\n       adg_weighted_per_exposure  eqbal_ratio_mean_of_10_worst  n_days  \\\n0                         0.0718                        0.7969  1191.8   \n1                         0.1065                        0.8161  1191.8   \n2                         0.0455                        0.6948  1191.8   \n3                         0.1649                        0.7137  1191.8   \n4                         0.1288                        0.7720  1191.8   \n...                          ...                           ...     ...   \n35577                     0.2098                        0.8871   508.0   \n35578                     0.3562                        0.8872   508.0   \n35579                     0.3523                        0.8169   508.0   \n35580                     0.3206                        0.8936   508.0   \n35581                     0.3452                        0.8883   508.0   \n\n       hrs_stuck_max  ...  balance_needed  take_profit  auto_unstuck  \\\n0              148.3  ...             980     forwards      disabled   \n1              150.2  ...             200    backwards       enabled   \n2              685.9  ...             340    backwards      disabled   \n3              109.3  ...             210    backwards       enabled   \n4              121.2  ...             290    backwards       enabled   \n...              ...  ...             ...          ...           ...   \n35577          518.7  ...              30    backwards       enabled   \n35578          188.0  ...              20    backwards       enabled   \n35579          180.2  ...              20    backwards       enabled   \n35580          152.2  ...              20    backwards       enabled   \n35581          164.3  ...              20    backwards       enabled   \n\n       sharpe_ratio quality_score quality_score3  exchange  \\\n0            0.1239         0.009          32.62   binance   \n1            0.1048         0.009          14.31   binance   \n2            0.0648         0.004        -306.79   binance   \n3            0.0707         0.018          -5.89   binance   \n4            0.0864         0.012          18.42   binance   \n...             ...           ...            ...       ...   \n35577        0.0882         0.011        -154.63     bybit   \n35578        0.0953         0.025           3.07     bybit   \n35579        0.0738         0.007         -16.20     bybit   \n35580        0.1074         0.037          20.12     bybit   \n35581        0.0998         0.031          12.64     bybit   \n\n                               confhash                            idhash  \\\n0      1ed6c42ec7e260e6fbb06d3665f45d21  77039279a9b70d65004725aa0848fea5   \n1      62bd6610b7ae555d8f85864f384fa597  6323baf107d7e58dc94383e2774c4299   \n2      c5253501911fdfa38910ffdbfdf8a909  97b1a2f9dba8b448fb46dfbe7dedec18   \n3      7771dc3af5c5aee5dcea969cd6cc1b8d  267292960a3a22bb4b7e4d067dd18244   \n4      801c0aac40d81f5ee1c52fb9f735395f  e60f0e7ccb9521994525af63af7907cd   \n...                                 ...                               ...   \n35577  0acbcae87e36e02d362c199445fa6431  82e305c707f48c840ade62cf0722a7e6   \n35578  2d6a277c73ab8e2d0e4deb689bc52ef3  6569a14bd962d7d9d1a02bd80daa7f76   \n35579  de3efbfc9aeeea1c2cf413f180ffab50  5f2ff5bdec0921669ece773426161702   \n35580  69eaca5cf6ff65685314d98cd602bd74  827d0352ad2e8f0543d26a4317fb071e   \n35581  c69c940b045077169c32f385f9e5bdf5  e9a766630cc462e74103475ce55dbe5d   \n\n      market  \n0       spot  \n1       spot  \n2       spot  \n3       spot  \n4       spot  \n...      ...  \n35577   spot  \n35578   spot  \n35579   spot  \n35580   spot  \n35581   spot  \n\n[35582 rows x 23 columns]",
      "text/html": "<div>\n<style scoped>\n    .dataframe tbody tr th:only-of-type {\n        vertical-align: middle;\n    }\n\n    .dataframe tbody tr th {\n        vertical-align: top;\n    }\n\n    .dataframe thead th {\n        text-align: right;\n    }\n</style>\n<table border=\"1\" class=\"dataframe\">\n  <thead>\n    <tr style=\"text-align: right;\">\n      <th></th>\n      <th>symbol</th>\n      <th>side</th>\n      <th>strategy</th>\n      <th>source</th>\n      <th>source_name</th>\n      <th>adg_per_exposure</th>\n      <th>adg_weighted_per_exposure</th>\n      <th>eqbal_ratio_mean_of_10_worst</th>\n      <th>n_days</th>\n      <th>hrs_stuck_max</th>\n      <th>...</th>\n      <th>balance_needed</th>\n      <th>take_profit</th>\n      <th>auto_unstuck</th>\n      <th>sharpe_ratio</th>\n      <th>quality_score</th>\n      <th>quality_score3</th>\n      <th>exchange</th>\n      <th>confhash</th>\n      <th>idhash</th>\n      <th>market</th>\n    </tr>\n  </thead>\n  <tbody>\n    <tr>\n      <th>0</th>\n      <td>1INCHUSDT</td>\n      <td>long</td>\n      <td>recursive</td>\n      <td>https://github.com/donewiththedollar/passivbot...</td>\n      <td>flyingtoaster [donewiththedollar]</td>\n      <td>0.0913</td>\n      <td>0.0718</td>\n      <td>0.7969</td>\n      <td>1191.8</td>\n      <td>148.3</td>\n      <td>...</td>\n      <td>980</td>\n      <td>forwards</td>\n      <td>disabled</td>\n      <td>0.1239</td>\n      <td>0.009</td>\n      <td>32.62</td>\n      <td>binance</td>\n      <td>1ed6c42ec7e260e6fbb06d3665f45d21</td>\n      <td>77039279a9b70d65004725aa0848fea5</td>\n      <td>spot</td>\n    </tr>\n    <tr>\n      <th>1</th>\n      <td>1INCHUSDT</td>\n      <td>long</td>\n      <td>recursive</td>\n      <td>https://github.com/donewiththedollar/passivbot...</td>\n      <td>flyingtoaster [donewiththedollar]</td>\n      <td>0.1211</td>\n      <td>0.1065</td>\n      <td>0.8161</td>\n      <td>1191.8</td>\n      <td>150.2</td>\n      <td>...</td>\n      <td>200</td>\n      <td>backwards</td>\n      <td>enabled</td>\n      <td>0.1048</td>\n      <td>0.009</td>\n      <td>14.31</td>\n      <td>binance</td>\n      <td>62bd6610b7ae555d8f85864f384fa597</td>\n      <td>6323baf107d7e58dc94383e2774c4299</td>\n      <td>spot</td>\n    </tr>\n    <tr>\n      <th>2</th>\n      <td>1INCHUSDT</td>\n      <td>long</td>\n      <td>recursive</td>\n      <td>https://github.com/donewiththedollar/passivbot...</td>\n      <td>flyingtoaster [donewiththedollar]</td>\n      <td>0.0761</td>\n      <td>0.0455</td>\n      <td>0.6948</td>\n      <td>1191.8</td>\n      <td>685.9</td>\n      <td>...</td>\n      <td>340</td>\n      <td>backwards</td>\n      <td>disabled</td>\n      <td>0.0648</td>\n      <td>0.004</td>\n      <td>-306.79</td>\n      <td>binance</td>\n      <td>c5253501911fdfa38910ffdbfdf8a909</td>\n      <td>97b1a2f9dba8b448fb46dfbe7dedec18</td>\n      <td>spot</td>\n    </tr>\n    <tr>\n      <th>3</th>\n      <td>1INCHUSDT</td>\n      <td>long</td>\n      <td>recursive</td>\n      <td>https://github.com/donewiththedollar/passivbot...</td>\n      <td>flyingtoaster [donewiththedollar]</td>\n      <td>0.1153</td>\n      <td>0.1649</td>\n      <td>0.7137</td>\n      <td>1191.8</td>\n      <td>109.3</td>\n      <td>...</td>\n      <td>210</td>\n      <td>backwards</td>\n      <td>enabled</td>\n      <td>0.0707</td>\n      <td>0.018</td>\n      <td>-5.89</td>\n      <td>binance</td>\n      <td>7771dc3af5c5aee5dcea969cd6cc1b8d</td>\n      <td>267292960a3a22bb4b7e4d067dd18244</td>\n      <td>spot</td>\n    </tr>\n    <tr>\n      <th>4</th>\n      <td>1INCHUSDT</td>\n      <td>long</td>\n      <td>recursive</td>\n      <td>https://github.com/donewiththedollar/passivbot...</td>\n      <td>flyingtoaster [donewiththedollar]</td>\n      <td>0.1330</td>\n      <td>0.1288</td>\n      <td>0.7720</td>\n      <td>1191.8</td>\n      <td>121.2</td>\n      <td>...</td>\n      <td>290</td>\n      <td>backwards</td>\n      <td>enabled</td>\n      <td>0.0864</td>\n      <td>0.012</td>\n      <td>18.42</td>\n      <td>binance</td>\n      <td>801c0aac40d81f5ee1c52fb9f735395f</td>\n      <td>e60f0e7ccb9521994525af63af7907cd</td>\n      <td>spot</td>\n    </tr>\n    <tr>\n      <th>...</th>\n      <td>...</td>\n      <td>...</td>\n      <td>...</td>\n      <td>...</td>\n      <td>...</td>\n      <td>...</td>\n      <td>...</td>\n      <td>...</td>\n      <td>...</td>\n      <td>...</td>\n      <td>...</td>\n      <td>...</td>\n      <td>...</td>\n      <td>...</td>\n      <td>...</td>\n      <td>...</td>\n      <td>...</td>\n      <td>...</td>\n      <td>...</td>\n      <td>...</td>\n      <td>...</td>\n    </tr>\n    <tr>\n      <th>35577</th>\n      <td>XLMUSDT</td>\n      <td>long</td>\n      <td>recursive</td>\n      <td>https://github.com/Sephral/myPbConfigs/blob/ma...</td>\n      <td>Sephral</td>\n      <td>0.0802</td>\n      <td>0.2098</td>\n      <td>0.8871</td>\n      <td>508.0</td>\n      <td>518.7</td>\n      <td>...</td>\n      <td>30</td>\n      <td>backwards</td>\n      <td>enabled</td>\n      <td>0.0882</td>\n      <td>0.011</td>\n      <td>-154.63</td>\n      <td>bybit</td>\n      <td>0acbcae87e36e02d362c199445fa6431</td>\n      <td>82e305c707f48c840ade62cf0722a7e6</td>\n      <td>spot</td>\n    </tr>\n    <tr>\n      <th>35578</th>\n      <td>XLMUSDT</td>\n      <td>long</td>\n      <td>recursive</td>\n      <td>https://github.com/Sephral/myPbConfigs/blob/ma...</td>\n      <td>Sephral</td>\n      <td>0.1137</td>\n      <td>0.3562</td>\n      <td>0.8872</td>\n      <td>508.0</td>\n      <td>188.0</td>\n      <td>...</td>\n      <td>20</td>\n      <td>backwards</td>\n      <td>enabled</td>\n      <td>0.0953</td>\n      <td>0.025</td>\n      <td>3.07</td>\n      <td>bybit</td>\n      <td>2d6a277c73ab8e2d0e4deb689bc52ef3</td>\n      <td>6569a14bd962d7d9d1a02bd80daa7f76</td>\n      <td>spot</td>\n    </tr>\n    <tr>\n      <th>35579</th>\n      <td>XLMUSDT</td>\n      <td>long</td>\n      <td>recursive</td>\n      <td>https://github.com/Sephral/myPbConfigs/blob/ma...</td>\n      <td>Sephral</td>\n      <td>0.0936</td>\n      <td>0.3523</td>\n      <td>0.8169</td>\n      <td>508.0</td>\n      <td>180.2</td>\n      <td>...</td>\n      <td>20</td>\n      <td>backwards</td>\n      <td>enabled</td>\n      <td>0.0738</td>\n      <td>0.007</td>\n      <td>-16.20</td>\n      <td>bybit</td>\n      <td>de3efbfc9aeeea1c2cf413f180ffab50</td>\n      <td>5f2ff5bdec0921669ece773426161702</td>\n      <td>spot</td>\n    </tr>\n    <tr>\n      <th>35580</th>\n      <td>XLMUSDT</td>\n      <td>long</td>\n      <td>recursive</td>\n      <td>https://github.com/Sephral/myPbConfigs/blob/ma...</td>\n      <td>Sephral</td>\n      <td>0.1195</td>\n      <td>0.3206</td>\n      <td>0.8936</td>\n      <td>508.0</td>\n      <td>152.2</td>\n      <td>...</td>\n      <td>20</td>\n      <td>backwards</td>\n      <td>enabled</td>\n      <td>0.1074</td>\n      <td>0.037</td>\n      <td>20.12</td>\n      <td>bybit</td>\n      <td>69eaca5cf6ff65685314d98cd602bd74</td>\n      <td>827d0352ad2e8f0543d26a4317fb071e</td>\n      <td>spot</td>\n    </tr>\n    <tr>\n      <th>35581</th>\n      <td>XLMUSDT</td>\n      <td>long</td>\n      <td>recursive</td>\n      <td>https://github.com/Sephral/myPbConfigs/blob/ma...</td>\n      <td>Sephral</td>\n      <td>0.1179</td>\n      <td>0.3452</td>\n      <td>0.8883</td>\n      <td>508.0</td>\n      <td>164.3</td>\n      <td>...</td>\n      <td>20</td>\n      <td>backwards</td>\n      <td>enabled</td>\n      <td>0.0998</td>\n      <td>0.031</td>\n      <td>12.64</td>\n      <td>bybit</td>\n      <td>c69c940b045077169c32f385f9e5bdf5</td>\n      <td>e9a766630cc462e74103475ce55dbe5d</td>\n      <td>spot</td>\n    </tr>\n  </tbody>\n</table>\n<p>35582 rows × 23 columns</p>\n</div>"
     },
     "execution_count": 3,
     "metadata": {},
     "output_type": "execute_result"
    }
   ],
   "source": [
    "# read ./analysis_scripts/pbconfig.scud.dedyn.io.data.json and create a dataframe\n",
    "\n",
    "#result_analysis = pd.read_json(ROOT_PATH + '/analysis_scripts/pbconfig.scud.dedyn.io.data.json')\n",
    "## USE FIDDLER TO CAPTURE THE JSON FILE from https://pbconfigdb.scud.dedyn.io/get_data\n",
    "result_analysis = pd.read_json(ROOT_PATH + '/analysis_scripts/pbconfigdb.scud.dedyn.io-20240407T011936-892.json')\n",
    "result_analysis\n"
   ],
   "metadata": {
    "collapsed": false,
    "ExecuteTime": {
     "end_time": "2024-04-06T19:09:11.688385300Z",
     "start_time": "2024-04-06T19:09:10.777382800Z"
    }
   }
  },
  {
   "cell_type": "code",
   "outputs": [
    {
     "name": "stdout",
     "output_type": "stream",
     "text": [
      "symbol                                                                  1INCHUSDT\n",
      "side                                                                         long\n",
      "strategy                                                                recursive\n",
      "source                          https://github.com/donewiththedollar/passivbot...\n",
      "source_name                                     flyingtoaster [donewiththedollar]\n",
      "adg_per_exposure                                                           0.0913\n",
      "adg_weighted_per_exposure                                                  0.0718\n",
      "eqbal_ratio_mean_of_10_worst                                               0.7969\n",
      "n_days                                                                     1191.8\n",
      "hrs_stuck_max                                                               148.3\n",
      "loss_profit_ratio                                                             0.0\n",
      "pa_distance_max                                                            0.2697\n",
      "net_pnl_plus_fees                                                         1968.04\n",
      "balance_needed                                                                980\n",
      "take_profit                                                              forwards\n",
      "auto_unstuck                                                             disabled\n",
      "sharpe_ratio                                                               0.1239\n",
      "quality_score                                                               0.009\n",
      "quality_score3                                                              32.62\n",
      "exchange                                                                  binance\n",
      "confhash                                         1ed6c42ec7e260e6fbb06d3665f45d21\n",
      "idhash                                           77039279a9b70d65004725aa0848fea5\n",
      "market                                                                       spot\n",
      "Name: 0, dtype: object\n"
     ]
    }
   ],
   "source": [
    "# print first row of result_analysis dataframe . each column should be a row in the output\n",
    "print(result_analysis.iloc[0])\n"
   ],
   "metadata": {
    "collapsed": false,
    "ExecuteTime": {
     "end_time": "2024-04-06T19:09:19.773156900Z",
     "start_time": "2024-04-06T19:09:19.701159800Z"
    }
   },
   "execution_count": 4
  },
  {
   "cell_type": "code",
   "execution_count": 5,
   "outputs": [
    {
     "ename": "KeyError",
     "evalue": "'adg_weighted'",
     "output_type": "error",
     "traceback": [
      "\u001B[1;31m---------------------------------------------------------------------------\u001B[0m",
      "\u001B[1;31mKeyError\u001B[0m                                  Traceback (most recent call last)",
      "File \u001B[1;32m~\\.virtualenvs\\passivbot\\lib\\site-packages\\pandas\\core\\indexes\\base.py:3621\u001B[0m, in \u001B[0;36mIndex.get_loc\u001B[1;34m(self, key, method, tolerance)\u001B[0m\n\u001B[0;32m   3620\u001B[0m \u001B[38;5;28;01mtry\u001B[39;00m:\n\u001B[1;32m-> 3621\u001B[0m     \u001B[38;5;28;01mreturn\u001B[39;00m \u001B[38;5;28;43mself\u001B[39;49m\u001B[38;5;241;43m.\u001B[39;49m\u001B[43m_engine\u001B[49m\u001B[38;5;241;43m.\u001B[39;49m\u001B[43mget_loc\u001B[49m\u001B[43m(\u001B[49m\u001B[43mcasted_key\u001B[49m\u001B[43m)\u001B[49m\n\u001B[0;32m   3622\u001B[0m \u001B[38;5;28;01mexcept\u001B[39;00m \u001B[38;5;167;01mKeyError\u001B[39;00m \u001B[38;5;28;01mas\u001B[39;00m err:\n",
      "File \u001B[1;32m~\\.virtualenvs\\passivbot\\lib\\site-packages\\pandas\\_libs\\index.pyx:136\u001B[0m, in \u001B[0;36mpandas._libs.index.IndexEngine.get_loc\u001B[1;34m()\u001B[0m\n",
      "File \u001B[1;32m~\\.virtualenvs\\passivbot\\lib\\site-packages\\pandas\\_libs\\index.pyx:163\u001B[0m, in \u001B[0;36mpandas._libs.index.IndexEngine.get_loc\u001B[1;34m()\u001B[0m\n",
      "File \u001B[1;32mpandas\\_libs\\hashtable_class_helper.pxi:5198\u001B[0m, in \u001B[0;36mpandas._libs.hashtable.PyObjectHashTable.get_item\u001B[1;34m()\u001B[0m\n",
      "File \u001B[1;32mpandas\\_libs\\hashtable_class_helper.pxi:5206\u001B[0m, in \u001B[0;36mpandas._libs.hashtable.PyObjectHashTable.get_item\u001B[1;34m()\u001B[0m\n",
      "\u001B[1;31mKeyError\u001B[0m: 'adg_weighted'",
      "\nThe above exception was the direct cause of the following exception:\n",
      "\u001B[1;31mKeyError\u001B[0m                                  Traceback (most recent call last)",
      "Cell \u001B[1;32mIn[5], line 9\u001B[0m\n\u001B[0;32m      4\u001B[0m result_analysis_short \u001B[38;5;241m=\u001B[39m result_analysis[result_analysis[\u001B[38;5;124m'\u001B[39m\u001B[38;5;124mside\u001B[39m\u001B[38;5;124m'\u001B[39m] \u001B[38;5;241m==\u001B[39m \u001B[38;5;124m'\u001B[39m\u001B[38;5;124mshort\u001B[39m\u001B[38;5;124m'\u001B[39m]\n\u001B[0;32m      6\u001B[0m starting_balance \u001B[38;5;241m=\u001B[39m \u001B[38;5;241m1000\u001B[39m\n\u001B[0;32m      8\u001B[0m result_analysis_long \u001B[38;5;241m=\u001B[39m result_analysis_long[\n\u001B[1;32m----> 9\u001B[0m     (\u001B[43mresult_analysis_long\u001B[49m\u001B[43m[\u001B[49m\u001B[38;5;124;43m'\u001B[39;49m\u001B[38;5;124;43madg_weighted\u001B[39;49m\u001B[38;5;124;43m'\u001B[39;49m\u001B[43m]\u001B[49m \u001B[38;5;241m>\u001B[39m \u001B[38;5;241m0\u001B[39m) \u001B[38;5;241m&\u001B[39m\n\u001B[0;32m     10\u001B[0m     (result_analysis_long[\u001B[38;5;124m'\u001B[39m\u001B[38;5;124madg_weighted_per_exposure\u001B[39m\u001B[38;5;124m'\u001B[39m] \u001B[38;5;241m>\u001B[39m \u001B[38;5;241m0\u001B[39m) \u001B[38;5;241m&\u001B[39m\n\u001B[0;32m     11\u001B[0m     (result_analysis_long[\u001B[38;5;124m'\u001B[39m\u001B[38;5;124mfinal_equity\u001B[39m\u001B[38;5;124m'\u001B[39m] \u001B[38;5;241m>\u001B[39m starting_balance) \u001B[38;5;241m&\u001B[39m\n\u001B[0;32m     12\u001B[0m     (result_analysis_long[\u001B[38;5;124m'\u001B[39m\u001B[38;5;124meqbal_ratio_min\u001B[39m\u001B[38;5;124m'\u001B[39m] \u001B[38;5;241m>\u001B[39m \u001B[38;5;241m0.8\u001B[39m) \u001B[38;5;241m&\u001B[39m\n\u001B[0;32m     13\u001B[0m     (result_analysis_long[\u001B[38;5;124m'\u001B[39m\u001B[38;5;124meqbal_ratio_mean_of_10_worst\u001B[39m\u001B[38;5;124m'\u001B[39m] \u001B[38;5;241m>\u001B[39m \u001B[38;5;241m0.8\u001B[39m)\n\u001B[0;32m     14\u001B[0m     ]\n\u001B[0;32m     16\u001B[0m \u001B[38;5;66;03m# do the same for result_analysis_short\u001B[39;00m\n\u001B[0;32m     18\u001B[0m result_analysis_short \u001B[38;5;241m=\u001B[39m result_analysis_short[\n\u001B[0;32m     19\u001B[0m     (result_analysis_short[\u001B[38;5;124m'\u001B[39m\u001B[38;5;124madg_weighted\u001B[39m\u001B[38;5;124m'\u001B[39m] \u001B[38;5;241m>\u001B[39m \u001B[38;5;241m0\u001B[39m) \u001B[38;5;241m&\u001B[39m\n\u001B[0;32m     20\u001B[0m     (result_analysis_short[\u001B[38;5;124m'\u001B[39m\u001B[38;5;124madg_weighted_per_exposure\u001B[39m\u001B[38;5;124m'\u001B[39m] \u001B[38;5;241m>\u001B[39m \u001B[38;5;241m0\u001B[39m) \u001B[38;5;241m&\u001B[39m\n\u001B[1;32m   (...)\u001B[0m\n\u001B[0;32m     23\u001B[0m     (result_analysis_short[\u001B[38;5;124m'\u001B[39m\u001B[38;5;124meqbal_ratio_mean_of_10_worst\u001B[39m\u001B[38;5;124m'\u001B[39m] \u001B[38;5;241m>\u001B[39m \u001B[38;5;241m0.8\u001B[39m)\n\u001B[0;32m     24\u001B[0m     ]\n",
      "File \u001B[1;32m~\\.virtualenvs\\passivbot\\lib\\site-packages\\pandas\\core\\frame.py:3506\u001B[0m, in \u001B[0;36mDataFrame.__getitem__\u001B[1;34m(self, key)\u001B[0m\n\u001B[0;32m   3504\u001B[0m \u001B[38;5;28;01mif\u001B[39;00m \u001B[38;5;28mself\u001B[39m\u001B[38;5;241m.\u001B[39mcolumns\u001B[38;5;241m.\u001B[39mnlevels \u001B[38;5;241m>\u001B[39m \u001B[38;5;241m1\u001B[39m:\n\u001B[0;32m   3505\u001B[0m     \u001B[38;5;28;01mreturn\u001B[39;00m \u001B[38;5;28mself\u001B[39m\u001B[38;5;241m.\u001B[39m_getitem_multilevel(key)\n\u001B[1;32m-> 3506\u001B[0m indexer \u001B[38;5;241m=\u001B[39m \u001B[38;5;28;43mself\u001B[39;49m\u001B[38;5;241;43m.\u001B[39;49m\u001B[43mcolumns\u001B[49m\u001B[38;5;241;43m.\u001B[39;49m\u001B[43mget_loc\u001B[49m\u001B[43m(\u001B[49m\u001B[43mkey\u001B[49m\u001B[43m)\u001B[49m\n\u001B[0;32m   3507\u001B[0m \u001B[38;5;28;01mif\u001B[39;00m is_integer(indexer):\n\u001B[0;32m   3508\u001B[0m     indexer \u001B[38;5;241m=\u001B[39m [indexer]\n",
      "File \u001B[1;32m~\\.virtualenvs\\passivbot\\lib\\site-packages\\pandas\\core\\indexes\\base.py:3623\u001B[0m, in \u001B[0;36mIndex.get_loc\u001B[1;34m(self, key, method, tolerance)\u001B[0m\n\u001B[0;32m   3621\u001B[0m     \u001B[38;5;28;01mreturn\u001B[39;00m \u001B[38;5;28mself\u001B[39m\u001B[38;5;241m.\u001B[39m_engine\u001B[38;5;241m.\u001B[39mget_loc(casted_key)\n\u001B[0;32m   3622\u001B[0m \u001B[38;5;28;01mexcept\u001B[39;00m \u001B[38;5;167;01mKeyError\u001B[39;00m \u001B[38;5;28;01mas\u001B[39;00m err:\n\u001B[1;32m-> 3623\u001B[0m     \u001B[38;5;28;01mraise\u001B[39;00m \u001B[38;5;167;01mKeyError\u001B[39;00m(key) \u001B[38;5;28;01mfrom\u001B[39;00m \u001B[38;5;21;01merr\u001B[39;00m\n\u001B[0;32m   3624\u001B[0m \u001B[38;5;28;01mexcept\u001B[39;00m \u001B[38;5;167;01mTypeError\u001B[39;00m:\n\u001B[0;32m   3625\u001B[0m     \u001B[38;5;66;03m# If we have a listlike key, _check_indexing_error will raise\u001B[39;00m\n\u001B[0;32m   3626\u001B[0m     \u001B[38;5;66;03m#  InvalidIndexError. Otherwise we fall through and re-raise\u001B[39;00m\n\u001B[0;32m   3627\u001B[0m     \u001B[38;5;66;03m#  the TypeError.\u001B[39;00m\n\u001B[0;32m   3628\u001B[0m     \u001B[38;5;28mself\u001B[39m\u001B[38;5;241m.\u001B[39m_check_indexing_error(key)\n",
      "\u001B[1;31mKeyError\u001B[0m: 'adg_weighted'"
     ]
    }
   ],
   "source": [
    "# create result_analysis_long by dropping all columns which has side = short\n",
    "result_analysis_long = result_analysis[result_analysis['side'] == 'long']\n",
    "# create result_analysis_short by dropping all columns which has side = long\n",
    "result_analysis_short = result_analysis[result_analysis['side'] == 'short']\n",
    "\n",
    "starting_balance = 250\n",
    "\n",
    "result_analysis_long = result_analysis_long[\n",
    "    (result_analysis_long['adg_weighted'] > 0) &\n",
    "    (result_analysis_long['adg_weighted_per_exposure'] > 0) &\n",
    "    (result_analysis_long['final_equity'] > starting_balance) &\n",
    "    (result_analysis_long['eqbal_ratio_min'] > 0.8) &\n",
    "    (result_analysis_long['eqbal_ratio_mean_of_10_worst'] > 0.8)\n",
    "    ]\n",
    "\n",
    "# do the same for result_analysis_short\n",
    "\n",
    "result_analysis_short = result_analysis_short[\n",
    "    (result_analysis_short['adg_weighted'] > 0) &\n",
    "    (result_analysis_short['adg_weighted_per_exposure'] > 0) &\n",
    "    (result_analysis_short['final_equity'] > starting_balance) &\n",
    "    (result_analysis_short['eqbal_ratio_min'] > 0.8) &\n",
    "    (result_analysis_short['eqbal_ratio_mean_of_10_worst'] > 0.8)\n",
    "    ]\n",
    "\n",
    "display(result_analysis_long, result_analysis_short)"
   ],
   "metadata": {
    "collapsed": false,
    "ExecuteTime": {
     "end_time": "2024-04-06T18:25:34.184871300Z",
     "start_time": "2024-04-06T18:25:33.499494600Z"
    }
   }
  },
  {
   "cell_type": "code",
   "execution_count": 5,
   "outputs": [
    {
     "name": "stdout",
     "output_type": "stream",
     "text": [
      "total number of long backtests :  90\n",
      "total number of short backtests :  15\n"
     ]
    }
   ],
   "source": [
    "# total number of long and short backtests\n",
    "print('total number of long backtests : ', len(result_analysis_long))\n",
    "print('total number of short backtests : ', len(result_analysis_short))\n"
   ],
   "metadata": {
    "collapsed": false,
    "ExecuteTime": {
     "end_time": "2023-10-12T13:52:24.373909500Z",
     "start_time": "2023-10-12T13:52:24.275908500Z"
    }
   }
  },
  {
   "cell_type": "code",
   "execution_count": 6,
   "outputs": [],
   "source": [
    "# download files from result_analysis_long['source'] and name it to be result_analysis_long['symbol'] + index + .json and put it in downloaded_configs/scud/longs folder\n",
    "\n",
    "import requests\n",
    "import os\n",
    "import json\n",
    "\n",
    "# loop through result_analysis_long and download the file\n",
    "for index, row in result_analysis_long.iterrows():\n",
    "    url = row['source']\n",
    "    symbol = row['symbol']\n",
    "    file_name = symbol + str(index) + '.json'\n",
    "    file_path = ROOT_PATH + '/downloaded_configs/scud/longs/' + file_name\n",
    "    if os.path.exists(file_path) or 'localhost' in url:\n",
    "        continue\n",
    "    # replace github.com with raw.githubusercontent.com and replace blob with empty string\n",
    "    url = url.replace('github.com', 'raw.githubusercontent.com').replace('blob/', '').replace('tree/', '')\n",
    "    print('downloading {} to {}'.format(url, file_path))\n",
    "    r = requests.get(url, allow_redirects=True)\n",
    "    print('downloading {} to {}'.format(url, file_path))\n",
    "    r = requests.get(url, allow_redirects=True)\n",
    "    open(file_path, 'wb').write(r.content)\n",
    "    print('downloaded {} to {}'.format(url, file_path))\n"
   ],
   "metadata": {
    "collapsed": false,
    "ExecuteTime": {
     "end_time": "2023-10-12T13:52:24.642908500Z",
     "start_time": "2023-10-12T13:52:24.325907600Z"
    }
   }
  },
  {
   "cell_type": "code",
   "execution_count": 7,
   "outputs": [],
   "source": [
    "# download files from result_analysis_short['source'] and name it to be result_analysis_short['symbol'] + index + .json and put it in downloaded_configs/scud/shorts folder\n",
    "\n",
    "for index, row in result_analysis_short.iterrows():\n",
    "    url = row['source']\n",
    "    symbol = row['symbol']\n",
    "    file_name = symbol + str(index) + '.json'\n",
    "    file_path = ROOT_PATH + '/downloaded_configs/scud/shorts/' + file_name\n",
    "    if os.path.exists(file_path) or 'localhost' in url:\n",
    "        continue\n",
    "    # replace github.com with raw.githubusercontent.com and replace blob with empty string\n",
    "    url = url.replace('github.com', 'raw.githubusercontent.com').replace('blob/', '').replace('tree/', '')\n",
    "    print('downloading {} to {}'.format(url, file_path))\n",
    "    r = requests.get(url, allow_redirects=True)\n",
    "    open(file_path, 'wb').write(r.content)\n",
    "    print('downloaded {} to {}'.format(url, file_path))"
   ],
   "metadata": {
    "collapsed": false,
    "ExecuteTime": {
     "end_time": "2023-10-12T13:52:24.646907600Z",
     "start_time": "2023-10-12T13:52:24.510908800Z"
    }
   }
  },
  {
   "cell_type": "code",
   "execution_count": 8,
   "outputs": [
    {
     "data": {
      "text/plain": "['RSRUSDT',\n 'RNDRUSDT',\n 'HBARUSDT',\n 'CRVUSDT',\n 'DYDXUSDT',\n 'XRPUSDT',\n 'GALAUSDT',\n 'ATOMUSDT',\n 'MATICUSDT',\n 'OPUSDT',\n 'NEARUSDT',\n 'XLMUSDT',\n 'DOGEUSDT']"
     },
     "metadata": {},
     "output_type": "display_data"
    },
    {
     "data": {
      "text/plain": "['ATOMUSDT',\n 'JASMYUSDT',\n 'ZENUSDT',\n 'SANDUSDT',\n 'RLCUSDT',\n 'GALUSDT',\n 'ENSUSDT']"
     },
     "metadata": {},
     "output_type": "display_data"
    }
   ],
   "source": [
    "import hjson\n",
    "\n",
    "# parse configs/forager/forager.hjson \n",
    "with open(ROOT_PATH + '/configs/forager/forager.hjson', 'r') as f:\n",
    "    forager_config = hjson.load(f)\n",
    "\n",
    "# extract symbols from forager_config['live_configs_map_long'] which is an orderedDict type\n",
    "long_symbols_live = [k for k in forager_config['live_configs_map_long'].keys()]\n",
    "\n",
    "# find which one of the long_symbols_live is in result_analysis_long['symbol']\n",
    "long_symbols_live = [s for s in long_symbols_live if s in result_analysis_long['symbol'].values]\n",
    "\n",
    "# extract symbols from forager_config['live_configs_map_short'] which is an orderedDict type\n",
    "short_symbols_live = [k for k in forager_config['live_configs_map_short'].keys()]\n",
    "\n",
    "# find which one of the short_symbols_live is in result_analysis_short['symbol']\n",
    "short_symbols_live = [s for s in short_symbols_live if s in result_analysis_short['symbol'].values]\n",
    "\n",
    "display( long_symbols_live, short_symbols_live)"
   ],
   "metadata": {
    "collapsed": false,
    "ExecuteTime": {
     "end_time": "2023-10-12T13:52:24.695910900Z",
     "start_time": "2023-10-12T13:52:24.554908100Z"
    }
   }
  },
  {
   "cell_type": "code",
   "execution_count": 9,
   "outputs": [],
   "source": [
    "'''\n",
    "iterate all files in downloaded_configs/scud/longs folder and generate a command like this:\n",
    "python backtest.py -s {symbol} C:\\AgodaGit\\passivbot\\downloaded_configs\\scud\\longs\\{file_name_json} -le y -se n -lw 0.1222 -sw 0.06667 \n",
    "'''\n",
    "import glob\n",
    "import re\n",
    "\n",
    "\n",
    "commands = []\n",
    "# longs\n",
    "long_files = glob.glob(ROOT_PATH + '/downloaded_configs/scud/longs/*.json')\n",
    "# normalize json_files by replacing all \\\\ with /\n",
    "long_files = [f.replace('\\\\', '/') for f in long_files]\n",
    "# iterate over the long_files and generate the command\n",
    "for f in long_files:\n",
    "    file_name = os.path.basename(f)\n",
    "    symbol = file_name.replace('.json', '')\n",
    "    # replace numbers after USDT with empty string\n",
    "    symbol = re.sub(r'\\d+$', '', symbol)\n",
    "    command = 'python backtest.py -s {} -le y -se n -lw 0.1222 -sw 0.06667 {}'.format(symbol, f)\n",
    "    commands.append(command)\n",
    "\n",
    "# shorts\n",
    "short_files = glob.glob(ROOT_PATH + '/downloaded_configs/scud/shorts/*.json')\n",
    "# normalize json_files by replacing all \\\\ with /\n",
    "short_files = [f.replace('\\\\', '/') for f in short_files]\n",
    "# iterate over the short_files and generate the command\n",
    "for f in short_files:\n",
    "    file_name = os.path.basename(f)\n",
    "    symbol = file_name.replace('.json', '')\n",
    "    # replace numbers after USDT with empty string\n",
    "    symbol = re.sub(r'\\d+$', '', symbol)\n",
    "    command = 'python backtest.py -s {} -le n -se y -lw 0.1222 -sw 0.06667 {}'.format(symbol, f)\n",
    "    commands.append(command)\n",
    "    \n",
    "# do the same for long_symbols_live and short_symbols_live , but add -bd backtests_live_config to the command and replace the file with C:\\AgodaGit\\passivbot\\configs\\live\\longs\\{symbol}.json\n",
    "for symbol in long_symbols_live:\n",
    "    f = ROOT_PATH + '/configs/live/longs/{}.json'.format(symbol)\n",
    "    command = 'python backtest.py -s {} -bd backtests_live_config -le y -se n -lw 0.1222 -sw 0.06667 {}'.format(symbol,f)\n",
    "    commands.append(command)\n",
    "\n",
    "for symbol in short_symbols_live:\n",
    "    f = ROOT_PATH + '/configs/live/shorts/{}.json'.format(symbol)\n",
    "    command = 'python backtest.py -s {} -bd backtests_live_config -le n -se y -lw 0.1222 -sw 0.06667 {}'.format(symbol, f)\n",
    "    commands.append(command)\n",
    "\n"
   ],
   "metadata": {
    "collapsed": false,
    "ExecuteTime": {
     "end_time": "2023-10-12T13:52:24.784665500Z",
     "start_time": "2023-10-12T13:52:24.616911600Z"
    }
   }
  },
  {
   "cell_type": "code",
   "execution_count": 10,
   "outputs": [
    {
     "name": "stdout",
     "output_type": "stream",
     "text": [
      "Commands are now written to files\n"
     ]
    }
   ],
   "source": [
    "# split commands array into 5 parts and write it into 5 different files at root folder, call them backtest_commands_scud_{index}.bat \n",
    "\n",
    "import math\n",
    "\n",
    "def chunks(lst, n):\n",
    "    \"\"\"Yield successive n-sized chunks from lst.\"\"\"\n",
    "    # https://stackoverflow.com/questions/312443/how-do-you-split-a-list-into-evenly-sized-chunks\n",
    "    for i in range(0, len(lst), n):\n",
    "        yield lst[i:i + n]\n",
    "\n",
    "commands_chunks = chunks(commands, math.ceil(len(commands) / 5))\n",
    "for index, commands_chunk in enumerate(commands_chunks):\n",
    "    with open(ROOT_PATH + '/backtest_commands_scud_{}.bat'.format(index), 'w') as f:\n",
    "        f.write('\\n'.join(commands_chunk))\n",
    "\n",
    "\n",
    "print('Commands are now written to files')"
   ],
   "metadata": {
    "collapsed": false,
    "ExecuteTime": {
     "end_time": "2023-10-12T13:52:24.801667400Z",
     "start_time": "2023-10-12T13:52:24.677908100Z"
    }
   }
  },
  {
   "cell_type": "code",
   "execution_count": 13,
   "outputs": [
    {
     "data": {
      "text/plain": "       Symbol  Passivbot mode  ADG n subdivisions  No. days  Starting balance  \\\n1     ADAUSDT  recursive_grid                10.0     130.0            1000.0   \n5    ALGOUSDT       neat_grid                10.0     130.0            1000.0   \n6    ALGOUSDT  recursive_grid                10.0     130.0            1000.0   \n7    ALGOUSDT           clock                10.0     130.0            1000.0   \n14   ATOMUSDT           clock                10.0     130.0            1000.0   \n..        ...             ...                 ...       ...               ...   \n235   RSRUSDT           clock                10.0     130.0            1000.0   \n237  SANDUSDT           clock                10.0     130.0            1000.0   \n239   XLMUSDT           clock                10.0     130.0            1000.0   \n241   XRPUSDT           clock                10.0     130.0            1000.0   \n243   ZENUSDT           clock                10.0     130.0            1000.0   \n\n    (L)Long  (L)ADG per exposure  (L)ADG weighted per exposure  \\\n1      True              0.04690                       0.02380   \n5      True             -0.12200                       0.03780   \n6      True             -0.04100                       0.09090   \n7      True              0.02910                      -0.00118   \n14     True              0.02420                      -0.13600   \n..      ...                  ...                           ...   \n235    True              0.00577                       0.03040   \n237     NaN                  NaN                           NaN   \n239    True              0.00417                      -0.08730   \n241    True              0.09480                       0.05010   \n243     NaN                  NaN                           NaN   \n\n     (L)Final balance  (L)Final equity  ...  (S)No. unstuck/EMA closes  \\\n1            1007.420         1007.400  ...                        NaN   \n5             980.989          980.393  ...                        NaN   \n6             993.552          993.518  ...                        NaN   \n7            1004.600         1004.600  ...                        NaN   \n14           1003.820         1004.010  ...                        NaN   \n..                ...              ...  ...                        ...   \n235          1000.910         1000.910  ...                        NaN   \n237               NaN              NaN  ...                      155.0   \n239          1000.660          997.814  ...                        NaN   \n241          1015.060         1015.060  ...                        NaN   \n243               NaN              NaN  ...                      150.0   \n\n     (S)No. normal closes  (S)Average n fills per day  (S)Mean hours stuck  \\\n1                     NaN                         NaN                  NaN   \n5                     NaN                         NaN                  NaN   \n6                     NaN                         NaN                  NaN   \n7                     NaN                         NaN                  NaN   \n14                    NaN                         NaN                  NaN   \n..                    ...                         ...                  ...   \n235                   NaN                         NaN                  NaN   \n237                 621.0                       10.50              2.26980   \n239                   NaN                         NaN                  NaN   \n241                   NaN                         NaN                  NaN   \n243                  45.0                        3.77              6.38189   \n\n     (S)Max hours stuck  (S)PNL sum  (S)Profit sum  (S)Loss sum  (S)Fee sum  \\\n1                   NaN         NaN            NaN          NaN         NaN   \n5                   NaN         NaN            NaN          NaN         NaN   \n6                   NaN         NaN            NaN          NaN         NaN   \n7                   NaN         NaN            NaN          NaN         NaN   \n14                  NaN         NaN            NaN          NaN         NaN   \n..                  ...         ...            ...          ...         ...   \n235                 NaN         NaN            NaN          NaN         NaN   \n237             41.4500      19.400          27.26       -7.862     -1.7630   \n239                 NaN         NaN            NaN          NaN         NaN   \n241                 NaN         NaN            NaN          NaN         NaN   \n243             44.8333       9.456          16.49       -7.031     -0.6243   \n\n     (S)Volume quote  \n1                NaN  \n5                NaN  \n6                NaN  \n7                NaN  \n14               NaN  \n..               ...  \n235              NaN  \n237         31300.70  \n239              NaN  \n241              NaN  \n243          9671.78  \n\n[122 rows x 79 columns]",
      "text/html": "<div>\n<style scoped>\n    .dataframe tbody tr th:only-of-type {\n        vertical-align: middle;\n    }\n\n    .dataframe tbody tr th {\n        vertical-align: top;\n    }\n\n    .dataframe thead th {\n        text-align: right;\n    }\n</style>\n<table border=\"1\" class=\"dataframe\">\n  <thead>\n    <tr style=\"text-align: right;\">\n      <th></th>\n      <th>Symbol</th>\n      <th>Passivbot mode</th>\n      <th>ADG n subdivisions</th>\n      <th>No. days</th>\n      <th>Starting balance</th>\n      <th>(L)Long</th>\n      <th>(L)ADG per exposure</th>\n      <th>(L)ADG weighted per exposure</th>\n      <th>(L)Final balance</th>\n      <th>(L)Final equity</th>\n      <th>...</th>\n      <th>(S)No. unstuck/EMA closes</th>\n      <th>(S)No. normal closes</th>\n      <th>(S)Average n fills per day</th>\n      <th>(S)Mean hours stuck</th>\n      <th>(S)Max hours stuck</th>\n      <th>(S)PNL sum</th>\n      <th>(S)Profit sum</th>\n      <th>(S)Loss sum</th>\n      <th>(S)Fee sum</th>\n      <th>(S)Volume quote</th>\n    </tr>\n  </thead>\n  <tbody>\n    <tr>\n      <th>1</th>\n      <td>ADAUSDT</td>\n      <td>recursive_grid</td>\n      <td>10.0</td>\n      <td>130.0</td>\n      <td>1000.0</td>\n      <td>True</td>\n      <td>0.04690</td>\n      <td>0.02380</td>\n      <td>1007.420</td>\n      <td>1007.400</td>\n      <td>...</td>\n      <td>NaN</td>\n      <td>NaN</td>\n      <td>NaN</td>\n      <td>NaN</td>\n      <td>NaN</td>\n      <td>NaN</td>\n      <td>NaN</td>\n      <td>NaN</td>\n      <td>NaN</td>\n      <td>NaN</td>\n    </tr>\n    <tr>\n      <th>5</th>\n      <td>ALGOUSDT</td>\n      <td>neat_grid</td>\n      <td>10.0</td>\n      <td>130.0</td>\n      <td>1000.0</td>\n      <td>True</td>\n      <td>-0.12200</td>\n      <td>0.03780</td>\n      <td>980.989</td>\n      <td>980.393</td>\n      <td>...</td>\n      <td>NaN</td>\n      <td>NaN</td>\n      <td>NaN</td>\n      <td>NaN</td>\n      <td>NaN</td>\n      <td>NaN</td>\n      <td>NaN</td>\n      <td>NaN</td>\n      <td>NaN</td>\n      <td>NaN</td>\n    </tr>\n    <tr>\n      <th>6</th>\n      <td>ALGOUSDT</td>\n      <td>recursive_grid</td>\n      <td>10.0</td>\n      <td>130.0</td>\n      <td>1000.0</td>\n      <td>True</td>\n      <td>-0.04100</td>\n      <td>0.09090</td>\n      <td>993.552</td>\n      <td>993.518</td>\n      <td>...</td>\n      <td>NaN</td>\n      <td>NaN</td>\n      <td>NaN</td>\n      <td>NaN</td>\n      <td>NaN</td>\n      <td>NaN</td>\n      <td>NaN</td>\n      <td>NaN</td>\n      <td>NaN</td>\n      <td>NaN</td>\n    </tr>\n    <tr>\n      <th>7</th>\n      <td>ALGOUSDT</td>\n      <td>clock</td>\n      <td>10.0</td>\n      <td>130.0</td>\n      <td>1000.0</td>\n      <td>True</td>\n      <td>0.02910</td>\n      <td>-0.00118</td>\n      <td>1004.600</td>\n      <td>1004.600</td>\n      <td>...</td>\n      <td>NaN</td>\n      <td>NaN</td>\n      <td>NaN</td>\n      <td>NaN</td>\n      <td>NaN</td>\n      <td>NaN</td>\n      <td>NaN</td>\n      <td>NaN</td>\n      <td>NaN</td>\n      <td>NaN</td>\n    </tr>\n    <tr>\n      <th>14</th>\n      <td>ATOMUSDT</td>\n      <td>clock</td>\n      <td>10.0</td>\n      <td>130.0</td>\n      <td>1000.0</td>\n      <td>True</td>\n      <td>0.02420</td>\n      <td>-0.13600</td>\n      <td>1003.820</td>\n      <td>1004.010</td>\n      <td>...</td>\n      <td>NaN</td>\n      <td>NaN</td>\n      <td>NaN</td>\n      <td>NaN</td>\n      <td>NaN</td>\n      <td>NaN</td>\n      <td>NaN</td>\n      <td>NaN</td>\n      <td>NaN</td>\n      <td>NaN</td>\n    </tr>\n    <tr>\n      <th>...</th>\n      <td>...</td>\n      <td>...</td>\n      <td>...</td>\n      <td>...</td>\n      <td>...</td>\n      <td>...</td>\n      <td>...</td>\n      <td>...</td>\n      <td>...</td>\n      <td>...</td>\n      <td>...</td>\n      <td>...</td>\n      <td>...</td>\n      <td>...</td>\n      <td>...</td>\n      <td>...</td>\n      <td>...</td>\n      <td>...</td>\n      <td>...</td>\n      <td>...</td>\n      <td>...</td>\n    </tr>\n    <tr>\n      <th>235</th>\n      <td>RSRUSDT</td>\n      <td>clock</td>\n      <td>10.0</td>\n      <td>130.0</td>\n      <td>1000.0</td>\n      <td>True</td>\n      <td>0.00577</td>\n      <td>0.03040</td>\n      <td>1000.910</td>\n      <td>1000.910</td>\n      <td>...</td>\n      <td>NaN</td>\n      <td>NaN</td>\n      <td>NaN</td>\n      <td>NaN</td>\n      <td>NaN</td>\n      <td>NaN</td>\n      <td>NaN</td>\n      <td>NaN</td>\n      <td>NaN</td>\n      <td>NaN</td>\n    </tr>\n    <tr>\n      <th>237</th>\n      <td>SANDUSDT</td>\n      <td>clock</td>\n      <td>10.0</td>\n      <td>130.0</td>\n      <td>1000.0</td>\n      <td>NaN</td>\n      <td>NaN</td>\n      <td>NaN</td>\n      <td>NaN</td>\n      <td>NaN</td>\n      <td>...</td>\n      <td>155.0</td>\n      <td>621.0</td>\n      <td>10.50</td>\n      <td>2.26980</td>\n      <td>41.4500</td>\n      <td>19.400</td>\n      <td>27.26</td>\n      <td>-7.862</td>\n      <td>-1.7630</td>\n      <td>31300.70</td>\n    </tr>\n    <tr>\n      <th>239</th>\n      <td>XLMUSDT</td>\n      <td>clock</td>\n      <td>10.0</td>\n      <td>130.0</td>\n      <td>1000.0</td>\n      <td>True</td>\n      <td>0.00417</td>\n      <td>-0.08730</td>\n      <td>1000.660</td>\n      <td>997.814</td>\n      <td>...</td>\n      <td>NaN</td>\n      <td>NaN</td>\n      <td>NaN</td>\n      <td>NaN</td>\n      <td>NaN</td>\n      <td>NaN</td>\n      <td>NaN</td>\n      <td>NaN</td>\n      <td>NaN</td>\n      <td>NaN</td>\n    </tr>\n    <tr>\n      <th>241</th>\n      <td>XRPUSDT</td>\n      <td>clock</td>\n      <td>10.0</td>\n      <td>130.0</td>\n      <td>1000.0</td>\n      <td>True</td>\n      <td>0.09480</td>\n      <td>0.05010</td>\n      <td>1015.060</td>\n      <td>1015.060</td>\n      <td>...</td>\n      <td>NaN</td>\n      <td>NaN</td>\n      <td>NaN</td>\n      <td>NaN</td>\n      <td>NaN</td>\n      <td>NaN</td>\n      <td>NaN</td>\n      <td>NaN</td>\n      <td>NaN</td>\n      <td>NaN</td>\n    </tr>\n    <tr>\n      <th>243</th>\n      <td>ZENUSDT</td>\n      <td>clock</td>\n      <td>10.0</td>\n      <td>130.0</td>\n      <td>1000.0</td>\n      <td>NaN</td>\n      <td>NaN</td>\n      <td>NaN</td>\n      <td>NaN</td>\n      <td>NaN</td>\n      <td>...</td>\n      <td>150.0</td>\n      <td>45.0</td>\n      <td>3.77</td>\n      <td>6.38189</td>\n      <td>44.8333</td>\n      <td>9.456</td>\n      <td>16.49</td>\n      <td>-7.031</td>\n      <td>-0.6243</td>\n      <td>9671.78</td>\n    </tr>\n  </tbody>\n</table>\n<p>122 rows × 79 columns</p>\n</div>"
     },
     "execution_count": 13,
     "metadata": {},
     "output_type": "execute_result"
    }
   ],
   "source": [
    "# iterate over the backtest configuration , find result.txt file and parse it and add it to a dataframe\n",
    "\n",
    "import pandas as pd\n",
    "import re\n",
    "import glob\n",
    "import os \n",
    "'''\n",
    "Result file looks like this:\n",
    "    +------------------------------------------+\n",
    "    |                 Summary                  |\n",
    "    +-----------------------------+------------+\n",
    "    | Metric                      | Value      |\n",
    "    +-----------------------------+------------+\n",
    "    | Exchange                    | bybit      |\n",
    "    | Market type                 | futures    |\n",
    "    | Symbol                      | ADAUSDT    |\n",
    "    | Passivbot mode              | emas       |\n",
    "    | No. days                    | 1100.0     |\n",
    "    +-----------------------------+------------+\n",
    "Write a parser function which takes in the path to result.txt file, reads it and then split the Metric and Value columns and put them in a dictionary and return it\n",
    "'''\n",
    "def parse_result_file(result_file):\n",
    "    with open(result_file, 'r') as file:\n",
    "\n",
    "        pattern = r'/v(\\d+\\.\\d+(?:\\.\\w+)?)/'\n",
    "        match = re.search(pattern, result_file)\n",
    "        if match:\n",
    "            version = match.group(1)\n",
    "        else:\n",
    "            version = None\n",
    "\n",
    "\n",
    "        data = file.read().split('\\n')\n",
    "        d = {'version':version}\n",
    "        current_state = None\n",
    "        for l in data:\n",
    "            l = l.split('|')\n",
    "            if len(l) == 4:\n",
    "                key = l[1].strip()\n",
    "                value = l[2].strip()\n",
    "                # dont add if key is empty string\n",
    "                if key == '':\n",
    "                    continue\n",
    "\n",
    "                if key == 'Long':\n",
    "                    current_state = 'L'\n",
    "                if key == 'Short':\n",
    "                    current_state = 'S'\n",
    "\n",
    "                # check if value can be converted to float and if so, convert it\n",
    "                try:\n",
    "                    value = value.replace('%', '').strip()\n",
    "                    value = float(value)\n",
    "                except:\n",
    "                    pass\n",
    "\n",
    "                # if current_state is not None, then add it to key with a prefix of (L) or (S)\n",
    "                if current_state is not None:\n",
    "                    key = f'({current_state}){key}'\n",
    "                d[key] = value\n",
    "    return d\n",
    "\n",
    "\n",
    "BACKTESTS_PATH = ROOT_PATH + '/backtests/binance'\n",
    "BACKTESTS_LIVE_PATH = ROOT_PATH + '/backtests_live_config/binance'\n",
    "# backtest configurations\n",
    "backtest_configurations = glob.glob(BACKTESTS_PATH + '/**/live_config.json', recursive=True)\n",
    "# do the same with BACKTESTS_LIVE_PATH and append it to backtest_configurations\n",
    "backtest_configurations += glob.glob(BACKTESTS_LIVE_PATH + '/**/live_config.json', recursive=True)\n",
    "# normalize json_files by replacing all \\\\ with /\n",
    "backtest_configurations = [f.replace('\\\\', '/') for f in backtest_configurations]\n",
    "\n",
    "\n",
    "result_analysis = pd.DataFrame()\n",
    "for backtest_config in backtest_configurations:\n",
    "    result_file = os.path.dirname(backtest_config) + '/backtest_result.txt'\n",
    "    if not os.path.exists(result_file):\n",
    "        continue\n",
    "    #print('result_file file : ', result_file )\n",
    "    result = parse_result_file(result_file)\n",
    "    result['file'] = backtest_config\n",
    "    if 'live_config' in result_file:\n",
    "        result['live'] = True\n",
    "    else:\n",
    "        result['live'] = False\n",
    "    # convert result to a pandas dataframe and append it to result_analysis dataframe\n",
    "    result = pd.DataFrame(result, index=[0])\n",
    "    result_analysis = pd.concat([result_analysis, result], ignore_index=True)\n",
    "\n",
    "result_analysis = result_analysis.drop(['version', 'Metric', 'Exchange', 'Market type'], axis=1)\n",
    "\n",
    "# drop columns where starting balance is 250 \n",
    "result_analysis = result_analysis[result_analysis['Starting balance'] != 250]\n",
    "\n",
    "result_analysis\n",
    "\n"
   ],
   "metadata": {
    "collapsed": false,
    "ExecuteTime": {
     "end_time": "2023-10-12T13:53:19.986209900Z",
     "start_time": "2023-10-12T13:53:18.951618100Z"
    }
   }
  },
  {
   "cell_type": "code",
   "execution_count": 23,
   "outputs": [
    {
     "name": "stderr",
     "output_type": "stream",
     "text": [
      "C:\\Users\\skhan\\AppData\\Local\\Temp\\ipykernel_11920\\3298460308.py:76: FutureWarning: The default value of regex will change from True to False in a future version.\n",
      "  result_analysis_long.columns = result_analysis_long.columns.str.replace(r'\\(S\\)|\\(L\\)', '')\n",
      "C:\\Users\\skhan\\AppData\\Local\\Temp\\ipykernel_11920\\3298460308.py:77: FutureWarning: The default value of regex will change from True to False in a future version.\n",
      "  result_analysis_short.columns = result_analysis_short.columns.str.replace(r'\\(S\\)|\\(L\\)', '')\n"
     ]
    },
    {
     "data": {
      "text/plain": "       Symbol  Passivbot mode  ADG n subdivisions  No. days  Starting balance  \\\n1     ADAUSDT  recursive_grid                10.0     130.0            1000.0   \n5    ALGOUSDT       neat_grid                10.0     130.0            1000.0   \n6    ALGOUSDT  recursive_grid                10.0     130.0            1000.0   \n7    ALGOUSDT           clock                10.0     130.0            1000.0   \n14   ATOMUSDT           clock                10.0     130.0            1000.0   \n..        ...             ...                 ...       ...               ...   \n235   RSRUSDT           clock                10.0     130.0            1000.0   \n237  SANDUSDT           clock                10.0     130.0            1000.0   \n239   XLMUSDT           clock                10.0     130.0            1000.0   \n241   XRPUSDT           clock                10.0     130.0            1000.0   \n243   ZENUSDT           clock                10.0     130.0            1000.0   \n\n     Long  ADG per exposure  ADG weighted per exposure  Final balance  \\\n1    True           0.04690                    0.02380       1007.420   \n5    True          -0.12200                    0.03780        980.989   \n6    True          -0.04100                    0.09090        993.552   \n7    True           0.02910                   -0.00118       1004.600   \n14   True           0.02420                   -0.13600       1003.820   \n..    ...               ...                        ...            ...   \n235  True           0.00577                    0.03040       1000.910   \n237   NaN               NaN                        NaN            NaN   \n239  True           0.00417                   -0.08730       1000.660   \n241  True           0.09480                    0.05010       1015.060   \n243   NaN               NaN                        NaN            NaN   \n\n     Final equity  ...  Average n fills per day  Mean hours stuck  \\\n1        1007.400  ...                     1.95          12.30170   \n5         980.393  ...                    17.20           1.34109   \n6         993.518  ...                     4.69           5.08074   \n7        1004.600  ...                     3.77           6.26144   \n14       1004.010  ...                    12.00           2.00499   \n..            ...  ...                      ...               ...   \n235      1000.910  ...                     4.89           4.83360   \n237           NaN  ...                      NaN               NaN   \n239       997.814  ...                     3.33           7.20709   \n241      1015.060  ...                     8.19           2.90087   \n243           NaN  ...                      NaN               NaN   \n\n     Max hours stuck  PNL sum  Profit sum  Loss sum  Fee sum  Volume quote  \\\n1           803.8500    8.019       8.019     0.000  -0.6041       5082.56   \n5           184.3330  -16.550      21.330   -37.880  -2.4630     220372.00   \n6           111.9170   -5.553      25.610   -31.160  -0.8944      28773.50   \n7           143.7000    5.151       8.102    -2.951  -0.5548       3028.60   \n14           20.3833    6.341      28.510   -22.170  -2.5230      36302.70   \n..               ...      ...         ...       ...      ...           ...   \n235          75.8500    2.140      16.210   -14.070  -1.2300       4327.36   \n237              NaN      NaN         NaN       NaN      NaN           NaN   \n239          53.8167    1.381      21.430   -20.050  -0.7235      25260.40   \n241          80.6333   17.260      33.930   -16.670  -2.2050      18451.20   \n243              NaN      NaN         NaN       NaN      NaN           NaN   \n\n                                                  file   live  \n1    C:/AgodaGit/passivbot/backtests/binance/ADAUSD...  False  \n5    C:/AgodaGit/passivbot/backtests/binance/ALGOUS...  False  \n6    C:/AgodaGit/passivbot/backtests/binance/ALGOUS...  False  \n7    C:/AgodaGit/passivbot/backtests/binance/ALGOUS...  False  \n14   C:/AgodaGit/passivbot/backtests/binance/ATOMUS...  False  \n..                                                 ...    ...  \n235  C:/AgodaGit/passivbot/backtests_live_config/bi...   True  \n237  C:/AgodaGit/passivbot/backtests_live_config/bi...   True  \n239  C:/AgodaGit/passivbot/backtests_live_config/bi...   True  \n241  C:/AgodaGit/passivbot/backtests_live_config/bi...   True  \n243  C:/AgodaGit/passivbot/backtests_live_config/bi...   True  \n\n[122 rows x 43 columns]",
      "text/html": "<div>\n<style scoped>\n    .dataframe tbody tr th:only-of-type {\n        vertical-align: middle;\n    }\n\n    .dataframe tbody tr th {\n        vertical-align: top;\n    }\n\n    .dataframe thead th {\n        text-align: right;\n    }\n</style>\n<table border=\"1\" class=\"dataframe\">\n  <thead>\n    <tr style=\"text-align: right;\">\n      <th></th>\n      <th>Symbol</th>\n      <th>Passivbot mode</th>\n      <th>ADG n subdivisions</th>\n      <th>No. days</th>\n      <th>Starting balance</th>\n      <th>Long</th>\n      <th>ADG per exposure</th>\n      <th>ADG weighted per exposure</th>\n      <th>Final balance</th>\n      <th>Final equity</th>\n      <th>...</th>\n      <th>Average n fills per day</th>\n      <th>Mean hours stuck</th>\n      <th>Max hours stuck</th>\n      <th>PNL sum</th>\n      <th>Profit sum</th>\n      <th>Loss sum</th>\n      <th>Fee sum</th>\n      <th>Volume quote</th>\n      <th>file</th>\n      <th>live</th>\n    </tr>\n  </thead>\n  <tbody>\n    <tr>\n      <th>1</th>\n      <td>ADAUSDT</td>\n      <td>recursive_grid</td>\n      <td>10.0</td>\n      <td>130.0</td>\n      <td>1000.0</td>\n      <td>True</td>\n      <td>0.04690</td>\n      <td>0.02380</td>\n      <td>1007.420</td>\n      <td>1007.400</td>\n      <td>...</td>\n      <td>1.95</td>\n      <td>12.30170</td>\n      <td>803.8500</td>\n      <td>8.019</td>\n      <td>8.019</td>\n      <td>0.000</td>\n      <td>-0.6041</td>\n      <td>5082.56</td>\n      <td>C:/AgodaGit/passivbot/backtests/binance/ADAUSD...</td>\n      <td>False</td>\n    </tr>\n    <tr>\n      <th>5</th>\n      <td>ALGOUSDT</td>\n      <td>neat_grid</td>\n      <td>10.0</td>\n      <td>130.0</td>\n      <td>1000.0</td>\n      <td>True</td>\n      <td>-0.12200</td>\n      <td>0.03780</td>\n      <td>980.989</td>\n      <td>980.393</td>\n      <td>...</td>\n      <td>17.20</td>\n      <td>1.34109</td>\n      <td>184.3330</td>\n      <td>-16.550</td>\n      <td>21.330</td>\n      <td>-37.880</td>\n      <td>-2.4630</td>\n      <td>220372.00</td>\n      <td>C:/AgodaGit/passivbot/backtests/binance/ALGOUS...</td>\n      <td>False</td>\n    </tr>\n    <tr>\n      <th>6</th>\n      <td>ALGOUSDT</td>\n      <td>recursive_grid</td>\n      <td>10.0</td>\n      <td>130.0</td>\n      <td>1000.0</td>\n      <td>True</td>\n      <td>-0.04100</td>\n      <td>0.09090</td>\n      <td>993.552</td>\n      <td>993.518</td>\n      <td>...</td>\n      <td>4.69</td>\n      <td>5.08074</td>\n      <td>111.9170</td>\n      <td>-5.553</td>\n      <td>25.610</td>\n      <td>-31.160</td>\n      <td>-0.8944</td>\n      <td>28773.50</td>\n      <td>C:/AgodaGit/passivbot/backtests/binance/ALGOUS...</td>\n      <td>False</td>\n    </tr>\n    <tr>\n      <th>7</th>\n      <td>ALGOUSDT</td>\n      <td>clock</td>\n      <td>10.0</td>\n      <td>130.0</td>\n      <td>1000.0</td>\n      <td>True</td>\n      <td>0.02910</td>\n      <td>-0.00118</td>\n      <td>1004.600</td>\n      <td>1004.600</td>\n      <td>...</td>\n      <td>3.77</td>\n      <td>6.26144</td>\n      <td>143.7000</td>\n      <td>5.151</td>\n      <td>8.102</td>\n      <td>-2.951</td>\n      <td>-0.5548</td>\n      <td>3028.60</td>\n      <td>C:/AgodaGit/passivbot/backtests/binance/ALGOUS...</td>\n      <td>False</td>\n    </tr>\n    <tr>\n      <th>14</th>\n      <td>ATOMUSDT</td>\n      <td>clock</td>\n      <td>10.0</td>\n      <td>130.0</td>\n      <td>1000.0</td>\n      <td>True</td>\n      <td>0.02420</td>\n      <td>-0.13600</td>\n      <td>1003.820</td>\n      <td>1004.010</td>\n      <td>...</td>\n      <td>12.00</td>\n      <td>2.00499</td>\n      <td>20.3833</td>\n      <td>6.341</td>\n      <td>28.510</td>\n      <td>-22.170</td>\n      <td>-2.5230</td>\n      <td>36302.70</td>\n      <td>C:/AgodaGit/passivbot/backtests/binance/ATOMUS...</td>\n      <td>False</td>\n    </tr>\n    <tr>\n      <th>...</th>\n      <td>...</td>\n      <td>...</td>\n      <td>...</td>\n      <td>...</td>\n      <td>...</td>\n      <td>...</td>\n      <td>...</td>\n      <td>...</td>\n      <td>...</td>\n      <td>...</td>\n      <td>...</td>\n      <td>...</td>\n      <td>...</td>\n      <td>...</td>\n      <td>...</td>\n      <td>...</td>\n      <td>...</td>\n      <td>...</td>\n      <td>...</td>\n      <td>...</td>\n      <td>...</td>\n    </tr>\n    <tr>\n      <th>235</th>\n      <td>RSRUSDT</td>\n      <td>clock</td>\n      <td>10.0</td>\n      <td>130.0</td>\n      <td>1000.0</td>\n      <td>True</td>\n      <td>0.00577</td>\n      <td>0.03040</td>\n      <td>1000.910</td>\n      <td>1000.910</td>\n      <td>...</td>\n      <td>4.89</td>\n      <td>4.83360</td>\n      <td>75.8500</td>\n      <td>2.140</td>\n      <td>16.210</td>\n      <td>-14.070</td>\n      <td>-1.2300</td>\n      <td>4327.36</td>\n      <td>C:/AgodaGit/passivbot/backtests_live_config/bi...</td>\n      <td>True</td>\n    </tr>\n    <tr>\n      <th>237</th>\n      <td>SANDUSDT</td>\n      <td>clock</td>\n      <td>10.0</td>\n      <td>130.0</td>\n      <td>1000.0</td>\n      <td>NaN</td>\n      <td>NaN</td>\n      <td>NaN</td>\n      <td>NaN</td>\n      <td>NaN</td>\n      <td>...</td>\n      <td>NaN</td>\n      <td>NaN</td>\n      <td>NaN</td>\n      <td>NaN</td>\n      <td>NaN</td>\n      <td>NaN</td>\n      <td>NaN</td>\n      <td>NaN</td>\n      <td>C:/AgodaGit/passivbot/backtests_live_config/bi...</td>\n      <td>True</td>\n    </tr>\n    <tr>\n      <th>239</th>\n      <td>XLMUSDT</td>\n      <td>clock</td>\n      <td>10.0</td>\n      <td>130.0</td>\n      <td>1000.0</td>\n      <td>True</td>\n      <td>0.00417</td>\n      <td>-0.08730</td>\n      <td>1000.660</td>\n      <td>997.814</td>\n      <td>...</td>\n      <td>3.33</td>\n      <td>7.20709</td>\n      <td>53.8167</td>\n      <td>1.381</td>\n      <td>21.430</td>\n      <td>-20.050</td>\n      <td>-0.7235</td>\n      <td>25260.40</td>\n      <td>C:/AgodaGit/passivbot/backtests_live_config/bi...</td>\n      <td>True</td>\n    </tr>\n    <tr>\n      <th>241</th>\n      <td>XRPUSDT</td>\n      <td>clock</td>\n      <td>10.0</td>\n      <td>130.0</td>\n      <td>1000.0</td>\n      <td>True</td>\n      <td>0.09480</td>\n      <td>0.05010</td>\n      <td>1015.060</td>\n      <td>1015.060</td>\n      <td>...</td>\n      <td>8.19</td>\n      <td>2.90087</td>\n      <td>80.6333</td>\n      <td>17.260</td>\n      <td>33.930</td>\n      <td>-16.670</td>\n      <td>-2.2050</td>\n      <td>18451.20</td>\n      <td>C:/AgodaGit/passivbot/backtests_live_config/bi...</td>\n      <td>True</td>\n    </tr>\n    <tr>\n      <th>243</th>\n      <td>ZENUSDT</td>\n      <td>clock</td>\n      <td>10.0</td>\n      <td>130.0</td>\n      <td>1000.0</td>\n      <td>NaN</td>\n      <td>NaN</td>\n      <td>NaN</td>\n      <td>NaN</td>\n      <td>NaN</td>\n      <td>...</td>\n      <td>NaN</td>\n      <td>NaN</td>\n      <td>NaN</td>\n      <td>NaN</td>\n      <td>NaN</td>\n      <td>NaN</td>\n      <td>NaN</td>\n      <td>NaN</td>\n      <td>C:/AgodaGit/passivbot/backtests_live_config/bi...</td>\n      <td>True</td>\n    </tr>\n  </tbody>\n</table>\n<p>122 rows × 43 columns</p>\n</div>"
     },
     "metadata": {},
     "output_type": "display_data"
    },
    {
     "data": {
      "text/plain": "       Symbol  Passivbot mode  ADG n subdivisions  No. days  Starting balance  \\\n1     ADAUSDT  recursive_grid                10.0     130.0            1000.0   \n5    ALGOUSDT       neat_grid                10.0     130.0            1000.0   \n6    ALGOUSDT  recursive_grid                10.0     130.0            1000.0   \n7    ALGOUSDT           clock                10.0     130.0            1000.0   \n14   ATOMUSDT           clock                10.0     130.0            1000.0   \n..        ...             ...                 ...       ...               ...   \n235   RSRUSDT           clock                10.0     130.0            1000.0   \n237  SANDUSDT           clock                10.0     130.0            1000.0   \n239   XLMUSDT           clock                10.0     130.0            1000.0   \n241   XRPUSDT           clock                10.0     130.0            1000.0   \n243   ZENUSDT           clock                10.0     130.0            1000.0   \n\n                                                  file   live Short  \\\n1    C:/AgodaGit/passivbot/backtests/binance/ADAUSD...  False   NaN   \n5    C:/AgodaGit/passivbot/backtests/binance/ALGOUS...  False   NaN   \n6    C:/AgodaGit/passivbot/backtests/binance/ALGOUS...  False   NaN   \n7    C:/AgodaGit/passivbot/backtests/binance/ALGOUS...  False   NaN   \n14   C:/AgodaGit/passivbot/backtests/binance/ATOMUS...  False   NaN   \n..                                                 ...    ...   ...   \n235  C:/AgodaGit/passivbot/backtests_live_config/bi...   True   NaN   \n237  C:/AgodaGit/passivbot/backtests_live_config/bi...   True  True   \n239  C:/AgodaGit/passivbot/backtests_live_config/bi...   True   NaN   \n241  C:/AgodaGit/passivbot/backtests_live_config/bi...   True   NaN   \n243  C:/AgodaGit/passivbot/backtests_live_config/bi...   True  True   \n\n     ADG per exposure  ADG weighted per exposure  ...  No. unstuck/EMA closes  \\\n1                 NaN                        NaN  ...                     NaN   \n5                 NaN                        NaN  ...                     NaN   \n6                 NaN                        NaN  ...                     NaN   \n7                 NaN                        NaN  ...                     NaN   \n14                NaN                        NaN  ...                     NaN   \n..                ...                        ...  ...                     ...   \n235               NaN                        NaN  ...                     NaN   \n237             0.203                      0.191  ...                   155.0   \n239               NaN                        NaN  ...                     NaN   \n241               NaN                        NaN  ...                     NaN   \n243             0.102                      0.118  ...                   150.0   \n\n     No. normal closes  Average n fills per day  Mean hours stuck  \\\n1                  NaN                      NaN               NaN   \n5                  NaN                      NaN               NaN   \n6                  NaN                      NaN               NaN   \n7                  NaN                      NaN               NaN   \n14                 NaN                      NaN               NaN   \n..                 ...                      ...               ...   \n235                NaN                      NaN               NaN   \n237              621.0                    10.50           2.26980   \n239                NaN                      NaN               NaN   \n241                NaN                      NaN               NaN   \n243               45.0                     3.77           6.38189   \n\n     Max hours stuck  PNL sum  Profit sum  Loss sum  Fee sum  Volume quote  \n1                NaN      NaN         NaN       NaN      NaN           NaN  \n5                NaN      NaN         NaN       NaN      NaN           NaN  \n6                NaN      NaN         NaN       NaN      NaN           NaN  \n7                NaN      NaN         NaN       NaN      NaN           NaN  \n14               NaN      NaN         NaN       NaN      NaN           NaN  \n..               ...      ...         ...       ...      ...           ...  \n235              NaN      NaN         NaN       NaN      NaN           NaN  \n237          41.4500   19.400       27.26    -7.862  -1.7630      31300.70  \n239              NaN      NaN         NaN       NaN      NaN           NaN  \n241              NaN      NaN         NaN       NaN      NaN           NaN  \n243          44.8333    9.456       16.49    -7.031  -0.6243       9671.78  \n\n[122 rows x 43 columns]",
      "text/html": "<div>\n<style scoped>\n    .dataframe tbody tr th:only-of-type {\n        vertical-align: middle;\n    }\n\n    .dataframe tbody tr th {\n        vertical-align: top;\n    }\n\n    .dataframe thead th {\n        text-align: right;\n    }\n</style>\n<table border=\"1\" class=\"dataframe\">\n  <thead>\n    <tr style=\"text-align: right;\">\n      <th></th>\n      <th>Symbol</th>\n      <th>Passivbot mode</th>\n      <th>ADG n subdivisions</th>\n      <th>No. days</th>\n      <th>Starting balance</th>\n      <th>file</th>\n      <th>live</th>\n      <th>Short</th>\n      <th>ADG per exposure</th>\n      <th>ADG weighted per exposure</th>\n      <th>...</th>\n      <th>No. unstuck/EMA closes</th>\n      <th>No. normal closes</th>\n      <th>Average n fills per day</th>\n      <th>Mean hours stuck</th>\n      <th>Max hours stuck</th>\n      <th>PNL sum</th>\n      <th>Profit sum</th>\n      <th>Loss sum</th>\n      <th>Fee sum</th>\n      <th>Volume quote</th>\n    </tr>\n  </thead>\n  <tbody>\n    <tr>\n      <th>1</th>\n      <td>ADAUSDT</td>\n      <td>recursive_grid</td>\n      <td>10.0</td>\n      <td>130.0</td>\n      <td>1000.0</td>\n      <td>C:/AgodaGit/passivbot/backtests/binance/ADAUSD...</td>\n      <td>False</td>\n      <td>NaN</td>\n      <td>NaN</td>\n      <td>NaN</td>\n      <td>...</td>\n      <td>NaN</td>\n      <td>NaN</td>\n      <td>NaN</td>\n      <td>NaN</td>\n      <td>NaN</td>\n      <td>NaN</td>\n      <td>NaN</td>\n      <td>NaN</td>\n      <td>NaN</td>\n      <td>NaN</td>\n    </tr>\n    <tr>\n      <th>5</th>\n      <td>ALGOUSDT</td>\n      <td>neat_grid</td>\n      <td>10.0</td>\n      <td>130.0</td>\n      <td>1000.0</td>\n      <td>C:/AgodaGit/passivbot/backtests/binance/ALGOUS...</td>\n      <td>False</td>\n      <td>NaN</td>\n      <td>NaN</td>\n      <td>NaN</td>\n      <td>...</td>\n      <td>NaN</td>\n      <td>NaN</td>\n      <td>NaN</td>\n      <td>NaN</td>\n      <td>NaN</td>\n      <td>NaN</td>\n      <td>NaN</td>\n      <td>NaN</td>\n      <td>NaN</td>\n      <td>NaN</td>\n    </tr>\n    <tr>\n      <th>6</th>\n      <td>ALGOUSDT</td>\n      <td>recursive_grid</td>\n      <td>10.0</td>\n      <td>130.0</td>\n      <td>1000.0</td>\n      <td>C:/AgodaGit/passivbot/backtests/binance/ALGOUS...</td>\n      <td>False</td>\n      <td>NaN</td>\n      <td>NaN</td>\n      <td>NaN</td>\n      <td>...</td>\n      <td>NaN</td>\n      <td>NaN</td>\n      <td>NaN</td>\n      <td>NaN</td>\n      <td>NaN</td>\n      <td>NaN</td>\n      <td>NaN</td>\n      <td>NaN</td>\n      <td>NaN</td>\n      <td>NaN</td>\n    </tr>\n    <tr>\n      <th>7</th>\n      <td>ALGOUSDT</td>\n      <td>clock</td>\n      <td>10.0</td>\n      <td>130.0</td>\n      <td>1000.0</td>\n      <td>C:/AgodaGit/passivbot/backtests/binance/ALGOUS...</td>\n      <td>False</td>\n      <td>NaN</td>\n      <td>NaN</td>\n      <td>NaN</td>\n      <td>...</td>\n      <td>NaN</td>\n      <td>NaN</td>\n      <td>NaN</td>\n      <td>NaN</td>\n      <td>NaN</td>\n      <td>NaN</td>\n      <td>NaN</td>\n      <td>NaN</td>\n      <td>NaN</td>\n      <td>NaN</td>\n    </tr>\n    <tr>\n      <th>14</th>\n      <td>ATOMUSDT</td>\n      <td>clock</td>\n      <td>10.0</td>\n      <td>130.0</td>\n      <td>1000.0</td>\n      <td>C:/AgodaGit/passivbot/backtests/binance/ATOMUS...</td>\n      <td>False</td>\n      <td>NaN</td>\n      <td>NaN</td>\n      <td>NaN</td>\n      <td>...</td>\n      <td>NaN</td>\n      <td>NaN</td>\n      <td>NaN</td>\n      <td>NaN</td>\n      <td>NaN</td>\n      <td>NaN</td>\n      <td>NaN</td>\n      <td>NaN</td>\n      <td>NaN</td>\n      <td>NaN</td>\n    </tr>\n    <tr>\n      <th>...</th>\n      <td>...</td>\n      <td>...</td>\n      <td>...</td>\n      <td>...</td>\n      <td>...</td>\n      <td>...</td>\n      <td>...</td>\n      <td>...</td>\n      <td>...</td>\n      <td>...</td>\n      <td>...</td>\n      <td>...</td>\n      <td>...</td>\n      <td>...</td>\n      <td>...</td>\n      <td>...</td>\n      <td>...</td>\n      <td>...</td>\n      <td>...</td>\n      <td>...</td>\n      <td>...</td>\n    </tr>\n    <tr>\n      <th>235</th>\n      <td>RSRUSDT</td>\n      <td>clock</td>\n      <td>10.0</td>\n      <td>130.0</td>\n      <td>1000.0</td>\n      <td>C:/AgodaGit/passivbot/backtests_live_config/bi...</td>\n      <td>True</td>\n      <td>NaN</td>\n      <td>NaN</td>\n      <td>NaN</td>\n      <td>...</td>\n      <td>NaN</td>\n      <td>NaN</td>\n      <td>NaN</td>\n      <td>NaN</td>\n      <td>NaN</td>\n      <td>NaN</td>\n      <td>NaN</td>\n      <td>NaN</td>\n      <td>NaN</td>\n      <td>NaN</td>\n    </tr>\n    <tr>\n      <th>237</th>\n      <td>SANDUSDT</td>\n      <td>clock</td>\n      <td>10.0</td>\n      <td>130.0</td>\n      <td>1000.0</td>\n      <td>C:/AgodaGit/passivbot/backtests_live_config/bi...</td>\n      <td>True</td>\n      <td>True</td>\n      <td>0.203</td>\n      <td>0.191</td>\n      <td>...</td>\n      <td>155.0</td>\n      <td>621.0</td>\n      <td>10.50</td>\n      <td>2.26980</td>\n      <td>41.4500</td>\n      <td>19.400</td>\n      <td>27.26</td>\n      <td>-7.862</td>\n      <td>-1.7630</td>\n      <td>31300.70</td>\n    </tr>\n    <tr>\n      <th>239</th>\n      <td>XLMUSDT</td>\n      <td>clock</td>\n      <td>10.0</td>\n      <td>130.0</td>\n      <td>1000.0</td>\n      <td>C:/AgodaGit/passivbot/backtests_live_config/bi...</td>\n      <td>True</td>\n      <td>NaN</td>\n      <td>NaN</td>\n      <td>NaN</td>\n      <td>...</td>\n      <td>NaN</td>\n      <td>NaN</td>\n      <td>NaN</td>\n      <td>NaN</td>\n      <td>NaN</td>\n      <td>NaN</td>\n      <td>NaN</td>\n      <td>NaN</td>\n      <td>NaN</td>\n      <td>NaN</td>\n    </tr>\n    <tr>\n      <th>241</th>\n      <td>XRPUSDT</td>\n      <td>clock</td>\n      <td>10.0</td>\n      <td>130.0</td>\n      <td>1000.0</td>\n      <td>C:/AgodaGit/passivbot/backtests_live_config/bi...</td>\n      <td>True</td>\n      <td>NaN</td>\n      <td>NaN</td>\n      <td>NaN</td>\n      <td>...</td>\n      <td>NaN</td>\n      <td>NaN</td>\n      <td>NaN</td>\n      <td>NaN</td>\n      <td>NaN</td>\n      <td>NaN</td>\n      <td>NaN</td>\n      <td>NaN</td>\n      <td>NaN</td>\n      <td>NaN</td>\n    </tr>\n    <tr>\n      <th>243</th>\n      <td>ZENUSDT</td>\n      <td>clock</td>\n      <td>10.0</td>\n      <td>130.0</td>\n      <td>1000.0</td>\n      <td>C:/AgodaGit/passivbot/backtests_live_config/bi...</td>\n      <td>True</td>\n      <td>True</td>\n      <td>0.102</td>\n      <td>0.118</td>\n      <td>...</td>\n      <td>150.0</td>\n      <td>45.0</td>\n      <td>3.77</td>\n      <td>6.38189</td>\n      <td>44.8333</td>\n      <td>9.456</td>\n      <td>16.49</td>\n      <td>-7.031</td>\n      <td>-0.6243</td>\n      <td>9671.78</td>\n    </tr>\n  </tbody>\n</table>\n<p>122 rows × 43 columns</p>\n</div>"
     },
     "metadata": {},
     "output_type": "display_data"
    }
   ],
   "source": [
    "def shorten_string(string):\n",
    "    # replace everything between parentheses\n",
    "    string = re.sub(r'\\([^)]*\\)', '', string)\n",
    "\n",
    "    # create a dictionary of key value to replace in string\n",
    "    replace_dict = {'ADG per exposure': 'adg_per_exp',\n",
    "                    'ADG weighted per exposure': 'adg_w_per_exp',\n",
    "                    'Average daily gain': 'adg',\n",
    "                    'Average daily gain weighted': 'adg_w',\n",
    "                    'Closest bankruptcy': 'bnkr',\n",
    "                    'Equity/balance ratio std': 'ebr_std',\n",
    "                    'Exposure ratios mean': 'exp_rat_mean',\n",
    "                    'Loss to profit ratio': 'l2p_r',\n",
    "                    'Lowest equity/balance ratio': 'l_ebr',\n",
    "                    'Max hours stuck': 'max_stuck',\n",
    "                    'Mean hours stuck': 'mean_stuck',\n",
    "                    'Mean of 10 worst eq/bal ratios': 'mean_10_ebr',\n",
    "                    'No. initial entries': 'n_init_ent',\n",
    "                    'No. normal closes': 'n_norm_close',\n",
    "                    'No. reentries': 'n_re_ent',\n",
    "                    'No. unstuck closes': 'n_unstk_close',\n",
    "                    'No. unstuck entries': 'n_unstk_ent',\n",
    "                    'Price action distance max': 'pa_d_max',\n",
    "                    'Price action distance mean': 'pa_d_mean',\n",
    "                    'Price action distance std': 'pa_d_std',\n",
    "                    'ADG n subdivisions': 'adg_n_subdiv',\n",
    "                    'Starting balance': 'start_bal',\n",
    "                    'Final balance': 'final_bal',\n",
    "                    'No. unstuck/EMA closes': 'n_unstk_ema_close',\n",
    "                    'Average n fills per day': 'avg_n_fills_per_day',\n",
    "                    'PNL sum': 'pnl_sum',\n",
    "                    'Profit sum': 'profit_sum',\n",
    "                    'Loss sum': 'loss_sum',\n",
    "                    'Fee sum': 'fee_sum',\n",
    "                    'Volume quote': 'vol_quote',\n",
    "                    'Exchange': 'exch',\n",
    "                    'No. days': 'n_days',\n",
    "                    'Passivbot mode': 'mode',\n",
    "                    'Symbol': 's',\n",
    "                    'file': 'f',\n",
    "                    'live': 'live',\n",
    "                    'min_notional': 'min_notion',\n",
    "                    'version': 'ver',\n",
    "                    'volume': 'vol'}\n",
    "\n",
    "    # find the longest key match in replace_dict and replace it with its value\n",
    "    for k in sorted(replace_dict, key=len, reverse=True):\n",
    "        string = string.replace(k, replace_dict[k])\n",
    "\n",
    "    return string\n",
    "\n",
    "\n",
    "'''\n",
    "call shorten_string function with the followings and print result:\n",
    " '(L)ADG per exposure'\n",
    " '(L)ADG weighted per exposure'\n",
    " '(L)Average daily gain'\n",
    " '(L)Average daily gain weighted'\n",
    "'''\n",
    "# print(shorten_string('(L)ADG per exposure'))\n",
    "# print(shorten_string('(L)ADG weighted per exposure'))\n",
    "# print(shorten_string('(L)Average daily gain'))\n",
    "# print(shorten_string('(L)Average daily gain weighted'))\n",
    "\n",
    "# filter now\n",
    "#result_analysis = big_data[(big_data.s.isin(allowed_symbols))\n",
    "#display(result_analysis.columns)\n",
    "\n",
    "# create result_analysis_long by dropping all columns which has (S) in it\n",
    "result_analysis_long = result_analysis[[c for c in result_analysis.columns if '(S)' not in c]]\n",
    "# create result_analysis_short by dropping all columns which has (L) in it\n",
    "result_analysis_short = result_analysis[[c for c in result_analysis.columns if '(L)' not in c]]\n",
    "\n",
    "\n",
    "# replace  (S) and (L) in all column names with empty string\n",
    "result_analysis_long.columns = result_analysis_long.columns.str.replace(r'\\(S\\)|\\(L\\)', '')\n",
    "result_analysis_short.columns = result_analysis_short.columns.str.replace(r'\\(S\\)|\\(L\\)', '')\n",
    "\n",
    "display(result_analysis_long, result_analysis_short)"
   ],
   "metadata": {
    "collapsed": false,
    "ExecuteTime": {
     "end_time": "2023-10-12T14:08:15.767898700Z",
     "start_time": "2023-10-12T14:08:15.648475800Z"
    }
   }
  },
  {
   "cell_type": "code",
   "execution_count": 32,
   "outputs": [
    {
     "data": {
      "text/plain": "        Symbol  Passivbot mode  ADG n subdivisions  No. days  \\\n206   ATOMUSDT           clock                10.0     130.0   \n207   ATOMUSDT           clock                10.0     130.0   \n209    CRVUSDT           clock                10.0     130.0   \n211   DOGEUSDT  recursive_grid                10.0     130.0   \n213   DYDXUSDT           clock                10.0     130.0   \n215    ENSUSDT           clock                10.0     130.0   \n217   GALAUSDT           clock                10.0     130.0   \n219    GALUSDT           clock                10.0     130.0   \n221   HBARUSDT           clock                10.0     130.0   \n223  JASMYUSDT           clock                10.0     130.0   \n225  MATICUSDT           clock                10.0     130.0   \n227   NEARUSDT           clock                10.0     130.0   \n229     OPUSDT           clock                10.0     130.0   \n231    RLCUSDT           clock                10.0     130.0   \n233   RNDRUSDT  recursive_grid                10.0     130.0   \n235    RSRUSDT           clock                10.0     130.0   \n237   SANDUSDT           clock                10.0     130.0   \n239    XLMUSDT           clock                10.0     130.0   \n241    XRPUSDT           clock                10.0     130.0   \n243    ZENUSDT           clock                10.0     130.0   \n\n     Starting balance  Long  ADG per exposure  ADG weighted per exposure  \\\n206            1000.0  True          -0.03200                     0.0951   \n207            1000.0   NaN               NaN                        NaN   \n209            1000.0  True           0.03400                    -0.0549   \n211            1000.0  True           0.18500                     0.0983   \n213            1000.0  True           0.05160                     0.0224   \n215            1000.0   NaN               NaN                        NaN   \n217            1000.0  True          -0.15600                    -0.3820   \n219            1000.0   NaN               NaN                        NaN   \n221            1000.0  True           0.10700                     0.0383   \n223            1000.0   NaN               NaN                        NaN   \n225            1000.0  True          -0.27600                     0.1730   \n227            1000.0  True          -0.18600                    -0.0783   \n229            1000.0  True           0.15700                     0.1420   \n231            1000.0   NaN               NaN                        NaN   \n233            1000.0  True           0.07210                     0.0483   \n235            1000.0  True           0.00577                     0.0304   \n237            1000.0   NaN               NaN                        NaN   \n239            1000.0  True           0.00417                    -0.0873   \n241            1000.0  True           0.09480                     0.0501   \n243            1000.0   NaN               NaN                        NaN   \n\n     Final balance  Final equity  ...  Average n fills per day  \\\n206        994.972       994.960  ...                    12.20   \n207            NaN           NaN  ...                      NaN   \n209       1005.370      1004.280  ...                     6.76   \n211       1029.580      1029.590  ...                     8.38   \n213       1008.170      1008.170  ...                     5.89   \n215            NaN           NaN  ...                      NaN   \n217        975.736       975.692  ...                    13.50   \n219            NaN           NaN  ...                      NaN   \n221       1017.040      1017.040  ...                     5.97   \n223            NaN           NaN  ...                      NaN   \n225        957.437       957.431  ...                     9.40   \n227        971.081       971.076  ...                     3.36   \n229       1025.120      1024.550  ...                     2.48   \n231            NaN           NaN  ...                      NaN   \n233       1011.420      1011.380  ...                    19.10   \n235       1000.910      1000.910  ...                     4.89   \n237            NaN           NaN  ...                      NaN   \n239       1000.660       997.814  ...                     3.33   \n241       1015.060      1015.060  ...                     8.19   \n243            NaN           NaN  ...                      NaN   \n\n     Mean hours stuck  Max hours stuck  PNL sum  Profit sum  Loss sum  \\\n206           1.96431         14.36670   -1.753       38.90   -40.660   \n207               NaN              NaN      NaN         NaN       NaN   \n209           3.54650         92.55000    6.683       20.94   -14.260   \n211           2.78336        130.48300   32.370       37.30    -4.925   \n213           4.01282        168.95000    9.258       15.24    -5.985   \n215               NaN              NaN      NaN         NaN       NaN   \n217           1.77331         26.58330  -21.860       18.87   -40.730   \n219               NaN              NaN      NaN         NaN       NaN   \n221           3.90035        118.65000   18.330       20.99    -2.667   \n223               NaN              NaN      NaN         NaN       NaN   \n225           2.55281          7.03333  -41.050       45.44   -86.490   \n227           7.12360         39.78330  -28.160       11.18   -39.350   \n229           9.46703         96.16670   25.690       31.51    -5.816   \n231               NaN              NaN      NaN         NaN       NaN   \n233           1.25258         43.73330   14.200       25.32   -11.120   \n235           4.83360         75.85000    2.140       16.21   -14.070   \n237               NaN              NaN      NaN         NaN       NaN   \n239           7.20709         53.81670    1.381       21.43   -20.050   \n241           2.90087         80.63330   17.260       33.93   -16.670   \n243               NaN              NaN      NaN         NaN       NaN   \n\n     Fee sum  Volume quote                                               file  \\\n206  -3.2750      41782.50  C:/AgodaGit/passivbot/backtests_live_config/bi...   \n207      NaN           NaN  C:/AgodaGit/passivbot/backtests_live_config/bi...   \n209  -1.3140      17013.80  C:/AgodaGit/passivbot/backtests_live_config/bi...   \n211  -2.7940      12037.20  C:/AgodaGit/passivbot/backtests_live_config/bi...   \n213  -1.0910       9546.67  C:/AgodaGit/passivbot/backtests_live_config/bi...   \n215      NaN           NaN  C:/AgodaGit/passivbot/backtests_live_config/bi...   \n217  -2.4010      32669.10  C:/AgodaGit/passivbot/backtests_live_config/bi...   \n219      NaN           NaN  C:/AgodaGit/passivbot/backtests_live_config/bi...   \n221  -1.2850       8318.09  C:/AgodaGit/passivbot/backtests_live_config/bi...   \n223      NaN           NaN  C:/AgodaGit/passivbot/backtests_live_config/bi...   \n225  -1.5180      96658.30  C:/AgodaGit/passivbot/backtests_live_config/bi...   \n227  -0.7548      29520.70  C:/AgodaGit/passivbot/backtests_live_config/bi...   \n229  -0.5759      10173.40  C:/AgodaGit/passivbot/backtests_live_config/bi...   \n231      NaN           NaN  C:/AgodaGit/passivbot/backtests_live_config/bi...   \n233  -2.7800      48273.70  C:/AgodaGit/passivbot/backtests_live_config/bi...   \n235  -1.2300       4327.36  C:/AgodaGit/passivbot/backtests_live_config/bi...   \n237      NaN           NaN  C:/AgodaGit/passivbot/backtests_live_config/bi...   \n239  -0.7235      25260.40  C:/AgodaGit/passivbot/backtests_live_config/bi...   \n241  -2.2050      18451.20  C:/AgodaGit/passivbot/backtests_live_config/bi...   \n243      NaN           NaN  C:/AgodaGit/passivbot/backtests_live_config/bi...   \n\n     live  \n206  True  \n207  True  \n209  True  \n211  True  \n213  True  \n215  True  \n217  True  \n219  True  \n221  True  \n223  True  \n225  True  \n227  True  \n229  True  \n231  True  \n233  True  \n235  True  \n237  True  \n239  True  \n241  True  \n243  True  \n\n[20 rows x 43 columns]",
      "text/html": "<div>\n<style scoped>\n    .dataframe tbody tr th:only-of-type {\n        vertical-align: middle;\n    }\n\n    .dataframe tbody tr th {\n        vertical-align: top;\n    }\n\n    .dataframe thead th {\n        text-align: right;\n    }\n</style>\n<table border=\"1\" class=\"dataframe\">\n  <thead>\n    <tr style=\"text-align: right;\">\n      <th></th>\n      <th>Symbol</th>\n      <th>Passivbot mode</th>\n      <th>ADG n subdivisions</th>\n      <th>No. days</th>\n      <th>Starting balance</th>\n      <th>Long</th>\n      <th>ADG per exposure</th>\n      <th>ADG weighted per exposure</th>\n      <th>Final balance</th>\n      <th>Final equity</th>\n      <th>...</th>\n      <th>Average n fills per day</th>\n      <th>Mean hours stuck</th>\n      <th>Max hours stuck</th>\n      <th>PNL sum</th>\n      <th>Profit sum</th>\n      <th>Loss sum</th>\n      <th>Fee sum</th>\n      <th>Volume quote</th>\n      <th>file</th>\n      <th>live</th>\n    </tr>\n  </thead>\n  <tbody>\n    <tr>\n      <th>206</th>\n      <td>ATOMUSDT</td>\n      <td>clock</td>\n      <td>10.0</td>\n      <td>130.0</td>\n      <td>1000.0</td>\n      <td>True</td>\n      <td>-0.03200</td>\n      <td>0.0951</td>\n      <td>994.972</td>\n      <td>994.960</td>\n      <td>...</td>\n      <td>12.20</td>\n      <td>1.96431</td>\n      <td>14.36670</td>\n      <td>-1.753</td>\n      <td>38.90</td>\n      <td>-40.660</td>\n      <td>-3.2750</td>\n      <td>41782.50</td>\n      <td>C:/AgodaGit/passivbot/backtests_live_config/bi...</td>\n      <td>True</td>\n    </tr>\n    <tr>\n      <th>207</th>\n      <td>ATOMUSDT</td>\n      <td>clock</td>\n      <td>10.0</td>\n      <td>130.0</td>\n      <td>1000.0</td>\n      <td>NaN</td>\n      <td>NaN</td>\n      <td>NaN</td>\n      <td>NaN</td>\n      <td>NaN</td>\n      <td>...</td>\n      <td>NaN</td>\n      <td>NaN</td>\n      <td>NaN</td>\n      <td>NaN</td>\n      <td>NaN</td>\n      <td>NaN</td>\n      <td>NaN</td>\n      <td>NaN</td>\n      <td>C:/AgodaGit/passivbot/backtests_live_config/bi...</td>\n      <td>True</td>\n    </tr>\n    <tr>\n      <th>209</th>\n      <td>CRVUSDT</td>\n      <td>clock</td>\n      <td>10.0</td>\n      <td>130.0</td>\n      <td>1000.0</td>\n      <td>True</td>\n      <td>0.03400</td>\n      <td>-0.0549</td>\n      <td>1005.370</td>\n      <td>1004.280</td>\n      <td>...</td>\n      <td>6.76</td>\n      <td>3.54650</td>\n      <td>92.55000</td>\n      <td>6.683</td>\n      <td>20.94</td>\n      <td>-14.260</td>\n      <td>-1.3140</td>\n      <td>17013.80</td>\n      <td>C:/AgodaGit/passivbot/backtests_live_config/bi...</td>\n      <td>True</td>\n    </tr>\n    <tr>\n      <th>211</th>\n      <td>DOGEUSDT</td>\n      <td>recursive_grid</td>\n      <td>10.0</td>\n      <td>130.0</td>\n      <td>1000.0</td>\n      <td>True</td>\n      <td>0.18500</td>\n      <td>0.0983</td>\n      <td>1029.580</td>\n      <td>1029.590</td>\n      <td>...</td>\n      <td>8.38</td>\n      <td>2.78336</td>\n      <td>130.48300</td>\n      <td>32.370</td>\n      <td>37.30</td>\n      <td>-4.925</td>\n      <td>-2.7940</td>\n      <td>12037.20</td>\n      <td>C:/AgodaGit/passivbot/backtests_live_config/bi...</td>\n      <td>True</td>\n    </tr>\n    <tr>\n      <th>213</th>\n      <td>DYDXUSDT</td>\n      <td>clock</td>\n      <td>10.0</td>\n      <td>130.0</td>\n      <td>1000.0</td>\n      <td>True</td>\n      <td>0.05160</td>\n      <td>0.0224</td>\n      <td>1008.170</td>\n      <td>1008.170</td>\n      <td>...</td>\n      <td>5.89</td>\n      <td>4.01282</td>\n      <td>168.95000</td>\n      <td>9.258</td>\n      <td>15.24</td>\n      <td>-5.985</td>\n      <td>-1.0910</td>\n      <td>9546.67</td>\n      <td>C:/AgodaGit/passivbot/backtests_live_config/bi...</td>\n      <td>True</td>\n    </tr>\n    <tr>\n      <th>215</th>\n      <td>ENSUSDT</td>\n      <td>clock</td>\n      <td>10.0</td>\n      <td>130.0</td>\n      <td>1000.0</td>\n      <td>NaN</td>\n      <td>NaN</td>\n      <td>NaN</td>\n      <td>NaN</td>\n      <td>NaN</td>\n      <td>...</td>\n      <td>NaN</td>\n      <td>NaN</td>\n      <td>NaN</td>\n      <td>NaN</td>\n      <td>NaN</td>\n      <td>NaN</td>\n      <td>NaN</td>\n      <td>NaN</td>\n      <td>C:/AgodaGit/passivbot/backtests_live_config/bi...</td>\n      <td>True</td>\n    </tr>\n    <tr>\n      <th>217</th>\n      <td>GALAUSDT</td>\n      <td>clock</td>\n      <td>10.0</td>\n      <td>130.0</td>\n      <td>1000.0</td>\n      <td>True</td>\n      <td>-0.15600</td>\n      <td>-0.3820</td>\n      <td>975.736</td>\n      <td>975.692</td>\n      <td>...</td>\n      <td>13.50</td>\n      <td>1.77331</td>\n      <td>26.58330</td>\n      <td>-21.860</td>\n      <td>18.87</td>\n      <td>-40.730</td>\n      <td>-2.4010</td>\n      <td>32669.10</td>\n      <td>C:/AgodaGit/passivbot/backtests_live_config/bi...</td>\n      <td>True</td>\n    </tr>\n    <tr>\n      <th>219</th>\n      <td>GALUSDT</td>\n      <td>clock</td>\n      <td>10.0</td>\n      <td>130.0</td>\n      <td>1000.0</td>\n      <td>NaN</td>\n      <td>NaN</td>\n      <td>NaN</td>\n      <td>NaN</td>\n      <td>NaN</td>\n      <td>...</td>\n      <td>NaN</td>\n      <td>NaN</td>\n      <td>NaN</td>\n      <td>NaN</td>\n      <td>NaN</td>\n      <td>NaN</td>\n      <td>NaN</td>\n      <td>NaN</td>\n      <td>C:/AgodaGit/passivbot/backtests_live_config/bi...</td>\n      <td>True</td>\n    </tr>\n    <tr>\n      <th>221</th>\n      <td>HBARUSDT</td>\n      <td>clock</td>\n      <td>10.0</td>\n      <td>130.0</td>\n      <td>1000.0</td>\n      <td>True</td>\n      <td>0.10700</td>\n      <td>0.0383</td>\n      <td>1017.040</td>\n      <td>1017.040</td>\n      <td>...</td>\n      <td>5.97</td>\n      <td>3.90035</td>\n      <td>118.65000</td>\n      <td>18.330</td>\n      <td>20.99</td>\n      <td>-2.667</td>\n      <td>-1.2850</td>\n      <td>8318.09</td>\n      <td>C:/AgodaGit/passivbot/backtests_live_config/bi...</td>\n      <td>True</td>\n    </tr>\n    <tr>\n      <th>223</th>\n      <td>JASMYUSDT</td>\n      <td>clock</td>\n      <td>10.0</td>\n      <td>130.0</td>\n      <td>1000.0</td>\n      <td>NaN</td>\n      <td>NaN</td>\n      <td>NaN</td>\n      <td>NaN</td>\n      <td>NaN</td>\n      <td>...</td>\n      <td>NaN</td>\n      <td>NaN</td>\n      <td>NaN</td>\n      <td>NaN</td>\n      <td>NaN</td>\n      <td>NaN</td>\n      <td>NaN</td>\n      <td>NaN</td>\n      <td>C:/AgodaGit/passivbot/backtests_live_config/bi...</td>\n      <td>True</td>\n    </tr>\n    <tr>\n      <th>225</th>\n      <td>MATICUSDT</td>\n      <td>clock</td>\n      <td>10.0</td>\n      <td>130.0</td>\n      <td>1000.0</td>\n      <td>True</td>\n      <td>-0.27600</td>\n      <td>0.1730</td>\n      <td>957.437</td>\n      <td>957.431</td>\n      <td>...</td>\n      <td>9.40</td>\n      <td>2.55281</td>\n      <td>7.03333</td>\n      <td>-41.050</td>\n      <td>45.44</td>\n      <td>-86.490</td>\n      <td>-1.5180</td>\n      <td>96658.30</td>\n      <td>C:/AgodaGit/passivbot/backtests_live_config/bi...</td>\n      <td>True</td>\n    </tr>\n    <tr>\n      <th>227</th>\n      <td>NEARUSDT</td>\n      <td>clock</td>\n      <td>10.0</td>\n      <td>130.0</td>\n      <td>1000.0</td>\n      <td>True</td>\n      <td>-0.18600</td>\n      <td>-0.0783</td>\n      <td>971.081</td>\n      <td>971.076</td>\n      <td>...</td>\n      <td>3.36</td>\n      <td>7.12360</td>\n      <td>39.78330</td>\n      <td>-28.160</td>\n      <td>11.18</td>\n      <td>-39.350</td>\n      <td>-0.7548</td>\n      <td>29520.70</td>\n      <td>C:/AgodaGit/passivbot/backtests_live_config/bi...</td>\n      <td>True</td>\n    </tr>\n    <tr>\n      <th>229</th>\n      <td>OPUSDT</td>\n      <td>clock</td>\n      <td>10.0</td>\n      <td>130.0</td>\n      <td>1000.0</td>\n      <td>True</td>\n      <td>0.15700</td>\n      <td>0.1420</td>\n      <td>1025.120</td>\n      <td>1024.550</td>\n      <td>...</td>\n      <td>2.48</td>\n      <td>9.46703</td>\n      <td>96.16670</td>\n      <td>25.690</td>\n      <td>31.51</td>\n      <td>-5.816</td>\n      <td>-0.5759</td>\n      <td>10173.40</td>\n      <td>C:/AgodaGit/passivbot/backtests_live_config/bi...</td>\n      <td>True</td>\n    </tr>\n    <tr>\n      <th>231</th>\n      <td>RLCUSDT</td>\n      <td>clock</td>\n      <td>10.0</td>\n      <td>130.0</td>\n      <td>1000.0</td>\n      <td>NaN</td>\n      <td>NaN</td>\n      <td>NaN</td>\n      <td>NaN</td>\n      <td>NaN</td>\n      <td>...</td>\n      <td>NaN</td>\n      <td>NaN</td>\n      <td>NaN</td>\n      <td>NaN</td>\n      <td>NaN</td>\n      <td>NaN</td>\n      <td>NaN</td>\n      <td>NaN</td>\n      <td>C:/AgodaGit/passivbot/backtests_live_config/bi...</td>\n      <td>True</td>\n    </tr>\n    <tr>\n      <th>233</th>\n      <td>RNDRUSDT</td>\n      <td>recursive_grid</td>\n      <td>10.0</td>\n      <td>130.0</td>\n      <td>1000.0</td>\n      <td>True</td>\n      <td>0.07210</td>\n      <td>0.0483</td>\n      <td>1011.420</td>\n      <td>1011.380</td>\n      <td>...</td>\n      <td>19.10</td>\n      <td>1.25258</td>\n      <td>43.73330</td>\n      <td>14.200</td>\n      <td>25.32</td>\n      <td>-11.120</td>\n      <td>-2.7800</td>\n      <td>48273.70</td>\n      <td>C:/AgodaGit/passivbot/backtests_live_config/bi...</td>\n      <td>True</td>\n    </tr>\n    <tr>\n      <th>235</th>\n      <td>RSRUSDT</td>\n      <td>clock</td>\n      <td>10.0</td>\n      <td>130.0</td>\n      <td>1000.0</td>\n      <td>True</td>\n      <td>0.00577</td>\n      <td>0.0304</td>\n      <td>1000.910</td>\n      <td>1000.910</td>\n      <td>...</td>\n      <td>4.89</td>\n      <td>4.83360</td>\n      <td>75.85000</td>\n      <td>2.140</td>\n      <td>16.21</td>\n      <td>-14.070</td>\n      <td>-1.2300</td>\n      <td>4327.36</td>\n      <td>C:/AgodaGit/passivbot/backtests_live_config/bi...</td>\n      <td>True</td>\n    </tr>\n    <tr>\n      <th>237</th>\n      <td>SANDUSDT</td>\n      <td>clock</td>\n      <td>10.0</td>\n      <td>130.0</td>\n      <td>1000.0</td>\n      <td>NaN</td>\n      <td>NaN</td>\n      <td>NaN</td>\n      <td>NaN</td>\n      <td>NaN</td>\n      <td>...</td>\n      <td>NaN</td>\n      <td>NaN</td>\n      <td>NaN</td>\n      <td>NaN</td>\n      <td>NaN</td>\n      <td>NaN</td>\n      <td>NaN</td>\n      <td>NaN</td>\n      <td>C:/AgodaGit/passivbot/backtests_live_config/bi...</td>\n      <td>True</td>\n    </tr>\n    <tr>\n      <th>239</th>\n      <td>XLMUSDT</td>\n      <td>clock</td>\n      <td>10.0</td>\n      <td>130.0</td>\n      <td>1000.0</td>\n      <td>True</td>\n      <td>0.00417</td>\n      <td>-0.0873</td>\n      <td>1000.660</td>\n      <td>997.814</td>\n      <td>...</td>\n      <td>3.33</td>\n      <td>7.20709</td>\n      <td>53.81670</td>\n      <td>1.381</td>\n      <td>21.43</td>\n      <td>-20.050</td>\n      <td>-0.7235</td>\n      <td>25260.40</td>\n      <td>C:/AgodaGit/passivbot/backtests_live_config/bi...</td>\n      <td>True</td>\n    </tr>\n    <tr>\n      <th>241</th>\n      <td>XRPUSDT</td>\n      <td>clock</td>\n      <td>10.0</td>\n      <td>130.0</td>\n      <td>1000.0</td>\n      <td>True</td>\n      <td>0.09480</td>\n      <td>0.0501</td>\n      <td>1015.060</td>\n      <td>1015.060</td>\n      <td>...</td>\n      <td>8.19</td>\n      <td>2.90087</td>\n      <td>80.63330</td>\n      <td>17.260</td>\n      <td>33.93</td>\n      <td>-16.670</td>\n      <td>-2.2050</td>\n      <td>18451.20</td>\n      <td>C:/AgodaGit/passivbot/backtests_live_config/bi...</td>\n      <td>True</td>\n    </tr>\n    <tr>\n      <th>243</th>\n      <td>ZENUSDT</td>\n      <td>clock</td>\n      <td>10.0</td>\n      <td>130.0</td>\n      <td>1000.0</td>\n      <td>NaN</td>\n      <td>NaN</td>\n      <td>NaN</td>\n      <td>NaN</td>\n      <td>NaN</td>\n      <td>...</td>\n      <td>NaN</td>\n      <td>NaN</td>\n      <td>NaN</td>\n      <td>NaN</td>\n      <td>NaN</td>\n      <td>NaN</td>\n      <td>NaN</td>\n      <td>NaN</td>\n      <td>C:/AgodaGit/passivbot/backtests_live_config/bi...</td>\n      <td>True</td>\n    </tr>\n  </tbody>\n</table>\n<p>20 rows × 43 columns</p>\n</div>"
     },
     "metadata": {},
     "output_type": "display_data"
    }
   ],
   "source": [
    "#result_analysis_long_live = result_analysis_long[result_analysis_long['live'] == True]\n",
    "result_analysis_long_filterd = result_analysis_long[(\n",
    "            (result_analysis_long['Average daily gain weighted'] > 0 ) &\n",
    "            (result_analysis_long['ADG weighted per exposure'] > 0 ) &\n",
    "            (result_analysis_long['Final balance'] >  result_analysis_long['Starting balance'] * 1.05) &\n",
    "            (result_analysis_long['Final equity'] >  result_analysis_long['Starting balance']) &\n",
    "            (result_analysis_long['Loss to profit ratio'] != 0 )\n",
    "    )]\n",
    "result_analysis_long_filterd\n",
    "#display(result_analysis_long_live, result_analysis_long_filterd)\n",
    "# # merge the two dataframes on their index\n",
    "# result_analysis_long_final = pd.merge(result_analysis_long_live, result_analysis_long_filterd, how='outer', left_index=True, right_index=True)\n",
    "# \n",
    "# # do the same for result_analysis_short and build result_analysis_short_final\n",
    "# result_analysis_short_live = result_analysis_short[result_analysis_short['live'] == True]\n",
    "# result_analysis_short_filterd = result_analysis_short[(\n",
    "#             (result_analysis_short['Average daily gain weighted'] > 0 ) &\n",
    "#             (result_analysis_short['ADG weighted per exposure'] > 0 ) &\n",
    "#             (result_analysis_short['Final balance'] >  result_analysis_short['Starting balance'] * 1.05) &\n",
    "#             (result_analysis_short['Final equity'] >  result_analysis_short['Starting balance']) &\n",
    "#             # (result_analysis_short['Lowest equity/balance ratio'] > 0.92 ) &\n",
    "#             # (result_analysis_short['Mean of 10 worst eq/bal ratios'] > 0.95 ) &\n",
    "#             (result_analysis_short['Loss to profit ratio'] != 0 )\n",
    "#     )]\n",
    "# # merge the two dataframes on their index\n",
    "# result_analysis_short_final = pd.merge(result_analysis_short_live, result_analysis_short_filterd, how='outer', left_index=True, right_index=True)\n",
    "# \n",
    "# \n",
    "# \n",
    "# result_analysis_long_final = result_analysis_long_final.rename(columns=shorten_string)\n",
    "# result_analysis_short_final = result_analysis_short_final.rename(columns=shorten_string)\n",
    "# \n",
    "# \n",
    "# # dump it in an excel for analysis\n",
    "# EXCEL_FILE_NAME = r'C:\\AgodaGit\\passivbot\\analysis_scripts\\backtest_result_scud.xlsx'\n",
    "# excel_writer = pd.ExcelWriter(EXCEL_FILE_NAME, engine='xlsxwriter')\n",
    "# result_analysis_long_final.to_excel(excel_writer, index=False, sheet_name='long')\n",
    "# result_analysis_short_final.to_excel(excel_writer, index=False, sheet_name='short')\n",
    "# excel_writer.save()\n",
    "# excel_writer.close()\n",
    "\n",
    "\n",
    "display(result_analysis_long_live)"
   ],
   "metadata": {
    "collapsed": false,
    "ExecuteTime": {
     "end_time": "2023-10-12T14:22:50.849495400Z",
     "start_time": "2023-10-12T14:22:50.786895800Z"
    }
   }
  }
 ],
 "metadata": {
  "kernelspec": {
   "display_name": "Python 3",
   "language": "python",
   "name": "python3"
  },
  "language_info": {
   "codemirror_mode": {
    "name": "ipython",
    "version": 2
   },
   "file_extension": ".py",
   "mimetype": "text/x-python",
   "name": "python",
   "nbconvert_exporter": "python",
   "pygments_lexer": "ipython2",
   "version": "2.7.6"
  }
 },
 "nbformat": 4,
 "nbformat_minor": 0
}
