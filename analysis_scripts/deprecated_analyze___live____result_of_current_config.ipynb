{
 "cells": [
  {
   "cell_type": "code",
   "execution_count": 1,
   "metadata": {
    "collapsed": true,
    "ExecuteTime": {
     "end_time": "2023-08-20T11:55:20.941726600Z",
     "start_time": "2023-08-20T11:55:20.902352100Z"
    }
   },
   "outputs": [],
   "source": [
    "%load_ext autoreload\n",
    "%autoreload 2"
   ]
  },
  {
   "cell_type": "markdown",
   "source": [
    "This script download the configuration from remote serverand tellss you the total wallet exposure"
   ],
   "metadata": {
    "collapsed": false
   }
  },
  {
   "cell_type": "code",
   "execution_count": 2,
   "outputs": [],
   "source": [
    "import json\n",
    "\n",
    "#function to read ../auth_config.json into a object and return it\n",
    "def get_config():\n",
    "    with open('../auth_config.json') as f:\n",
    "        data = json.load(f)\n",
    "    return data\n",
    "\n",
    "\n",
    "ssh_config = get_config()"
   ],
   "metadata": {
    "collapsed": false,
    "ExecuteTime": {
     "start_time": "2023-04-10T13:36:32.815529Z",
     "end_time": "2023-04-10T13:36:32.857524Z"
    }
   }
  },
  {
   "cell_type": "code",
   "execution_count": 3,
   "outputs": [
    {
     "data": {
      "text/plain": "    Unnamed: 0 symbol   direction long_mode short_mode  long_exposure  \\\n0            0    ETH        long         n          m           0.10   \n1            1    BNB        long         n          m           0.10   \n2            2    ADA        long         n          m           0.10   \n3            3    KSM        long         n          m           0.10   \n4            4    LTC        long         n          m           0.10   \n5            5    ETC        long         n          m           0.10   \n6            6    XMR        long         n          m           0.10   \n7            7    TRX        long         n          m           0.10   \n8            8   ALGO        long         n          m           0.10   \n9            9   COMP        long         n          m           0.10   \n10          10   RUNE        long         n          m           0.10   \n11          11   NEAR        long         n          m           0.10   \n12           0   ATOM  long_short         n          n           0.07   \n13           1    CHZ  long_short         n          n           0.07   \n14           2   DOGE  long_short         n         gs           0.07   \n15           3    DOT  long_short         n          n           0.07   \n16           4    EOS  long_short         n          n           0.07   \n17           5   HBAR  long_short         n          n           0.07   \n18           6   LINK  long_short         n          n           0.07   \n19           7   MANA  long_short         n          n           0.07   \n20           8  MATIC  long_short         n          n           0.07   \n21           9   SAND  long_short         n          n           0.07   \n22          10  SUSHI  long_short         n          n           0.07   \n23          11    XRP  long_short         n          n           0.07   \n24          12    XTZ  long_short         n          n           0.07   \n25          13   DYDX  long_short         n          n           0.07   \n26          14     OP  long_short         n          m           0.07   \n\n    short_exposure     account version  \n0             0.00  binance_01   5.9.3  \n1             0.00  binance_01   5.9.3  \n2             0.00  binance_01   5.9.3  \n3             0.00  binance_01   5.9.3  \n4             0.00  binance_01   5.9.3  \n5             0.00  binance_01   5.9.3  \n6             0.00  binance_01   5.9.3  \n7             0.00  binance_01   5.9.3  \n8             0.00  binance_01   5.9.3  \n9             0.00  binance_01   5.9.3  \n10            0.00  binance_01   5.9.3  \n11            0.00  binance_01   5.9.3  \n12            0.04  binance_01   5.9.0  \n13            0.04  binance_01   5.9.0  \n14            0.04  binance_01   5.9.0  \n15            0.04  binance_01   5.9.0  \n16            0.04  binance_01   5.9.0  \n17            0.04  binance_01   5.9.0  \n18            0.04  binance_01   5.9.0  \n19            0.04  binance_01   5.9.0  \n20            0.04  binance_01   5.9.0  \n21            0.04  binance_01   5.9.0  \n22            0.04  binance_01   5.9.0  \n23            0.04  binance_01   5.9.0  \n24            0.04  binance_01   5.9.0  \n25            0.04  binance_02   5.9.0  \n26            0.04  binance_03   5.9.0  ",
      "text/html": "<div>\n<style scoped>\n    .dataframe tbody tr th:only-of-type {\n        vertical-align: middle;\n    }\n\n    .dataframe tbody tr th {\n        vertical-align: top;\n    }\n\n    .dataframe thead th {\n        text-align: right;\n    }\n</style>\n<table border=\"1\" class=\"dataframe\">\n  <thead>\n    <tr style=\"text-align: right;\">\n      <th></th>\n      <th>Unnamed: 0</th>\n      <th>symbol</th>\n      <th>direction</th>\n      <th>long_mode</th>\n      <th>short_mode</th>\n      <th>long_exposure</th>\n      <th>short_exposure</th>\n      <th>account</th>\n      <th>version</th>\n    </tr>\n  </thead>\n  <tbody>\n    <tr>\n      <th>0</th>\n      <td>0</td>\n      <td>ETH</td>\n      <td>long</td>\n      <td>n</td>\n      <td>m</td>\n      <td>0.10</td>\n      <td>0.00</td>\n      <td>binance_01</td>\n      <td>5.9.3</td>\n    </tr>\n    <tr>\n      <th>1</th>\n      <td>1</td>\n      <td>BNB</td>\n      <td>long</td>\n      <td>n</td>\n      <td>m</td>\n      <td>0.10</td>\n      <td>0.00</td>\n      <td>binance_01</td>\n      <td>5.9.3</td>\n    </tr>\n    <tr>\n      <th>2</th>\n      <td>2</td>\n      <td>ADA</td>\n      <td>long</td>\n      <td>n</td>\n      <td>m</td>\n      <td>0.10</td>\n      <td>0.00</td>\n      <td>binance_01</td>\n      <td>5.9.3</td>\n    </tr>\n    <tr>\n      <th>3</th>\n      <td>3</td>\n      <td>KSM</td>\n      <td>long</td>\n      <td>n</td>\n      <td>m</td>\n      <td>0.10</td>\n      <td>0.00</td>\n      <td>binance_01</td>\n      <td>5.9.3</td>\n    </tr>\n    <tr>\n      <th>4</th>\n      <td>4</td>\n      <td>LTC</td>\n      <td>long</td>\n      <td>n</td>\n      <td>m</td>\n      <td>0.10</td>\n      <td>0.00</td>\n      <td>binance_01</td>\n      <td>5.9.3</td>\n    </tr>\n    <tr>\n      <th>5</th>\n      <td>5</td>\n      <td>ETC</td>\n      <td>long</td>\n      <td>n</td>\n      <td>m</td>\n      <td>0.10</td>\n      <td>0.00</td>\n      <td>binance_01</td>\n      <td>5.9.3</td>\n    </tr>\n    <tr>\n      <th>6</th>\n      <td>6</td>\n      <td>XMR</td>\n      <td>long</td>\n      <td>n</td>\n      <td>m</td>\n      <td>0.10</td>\n      <td>0.00</td>\n      <td>binance_01</td>\n      <td>5.9.3</td>\n    </tr>\n    <tr>\n      <th>7</th>\n      <td>7</td>\n      <td>TRX</td>\n      <td>long</td>\n      <td>n</td>\n      <td>m</td>\n      <td>0.10</td>\n      <td>0.00</td>\n      <td>binance_01</td>\n      <td>5.9.3</td>\n    </tr>\n    <tr>\n      <th>8</th>\n      <td>8</td>\n      <td>ALGO</td>\n      <td>long</td>\n      <td>n</td>\n      <td>m</td>\n      <td>0.10</td>\n      <td>0.00</td>\n      <td>binance_01</td>\n      <td>5.9.3</td>\n    </tr>\n    <tr>\n      <th>9</th>\n      <td>9</td>\n      <td>COMP</td>\n      <td>long</td>\n      <td>n</td>\n      <td>m</td>\n      <td>0.10</td>\n      <td>0.00</td>\n      <td>binance_01</td>\n      <td>5.9.3</td>\n    </tr>\n    <tr>\n      <th>10</th>\n      <td>10</td>\n      <td>RUNE</td>\n      <td>long</td>\n      <td>n</td>\n      <td>m</td>\n      <td>0.10</td>\n      <td>0.00</td>\n      <td>binance_01</td>\n      <td>5.9.3</td>\n    </tr>\n    <tr>\n      <th>11</th>\n      <td>11</td>\n      <td>NEAR</td>\n      <td>long</td>\n      <td>n</td>\n      <td>m</td>\n      <td>0.10</td>\n      <td>0.00</td>\n      <td>binance_01</td>\n      <td>5.9.3</td>\n    </tr>\n    <tr>\n      <th>12</th>\n      <td>0</td>\n      <td>ATOM</td>\n      <td>long_short</td>\n      <td>n</td>\n      <td>n</td>\n      <td>0.07</td>\n      <td>0.04</td>\n      <td>binance_01</td>\n      <td>5.9.0</td>\n    </tr>\n    <tr>\n      <th>13</th>\n      <td>1</td>\n      <td>CHZ</td>\n      <td>long_short</td>\n      <td>n</td>\n      <td>n</td>\n      <td>0.07</td>\n      <td>0.04</td>\n      <td>binance_01</td>\n      <td>5.9.0</td>\n    </tr>\n    <tr>\n      <th>14</th>\n      <td>2</td>\n      <td>DOGE</td>\n      <td>long_short</td>\n      <td>n</td>\n      <td>gs</td>\n      <td>0.07</td>\n      <td>0.04</td>\n      <td>binance_01</td>\n      <td>5.9.0</td>\n    </tr>\n    <tr>\n      <th>15</th>\n      <td>3</td>\n      <td>DOT</td>\n      <td>long_short</td>\n      <td>n</td>\n      <td>n</td>\n      <td>0.07</td>\n      <td>0.04</td>\n      <td>binance_01</td>\n      <td>5.9.0</td>\n    </tr>\n    <tr>\n      <th>16</th>\n      <td>4</td>\n      <td>EOS</td>\n      <td>long_short</td>\n      <td>n</td>\n      <td>n</td>\n      <td>0.07</td>\n      <td>0.04</td>\n      <td>binance_01</td>\n      <td>5.9.0</td>\n    </tr>\n    <tr>\n      <th>17</th>\n      <td>5</td>\n      <td>HBAR</td>\n      <td>long_short</td>\n      <td>n</td>\n      <td>n</td>\n      <td>0.07</td>\n      <td>0.04</td>\n      <td>binance_01</td>\n      <td>5.9.0</td>\n    </tr>\n    <tr>\n      <th>18</th>\n      <td>6</td>\n      <td>LINK</td>\n      <td>long_short</td>\n      <td>n</td>\n      <td>n</td>\n      <td>0.07</td>\n      <td>0.04</td>\n      <td>binance_01</td>\n      <td>5.9.0</td>\n    </tr>\n    <tr>\n      <th>19</th>\n      <td>7</td>\n      <td>MANA</td>\n      <td>long_short</td>\n      <td>n</td>\n      <td>n</td>\n      <td>0.07</td>\n      <td>0.04</td>\n      <td>binance_01</td>\n      <td>5.9.0</td>\n    </tr>\n    <tr>\n      <th>20</th>\n      <td>8</td>\n      <td>MATIC</td>\n      <td>long_short</td>\n      <td>n</td>\n      <td>n</td>\n      <td>0.07</td>\n      <td>0.04</td>\n      <td>binance_01</td>\n      <td>5.9.0</td>\n    </tr>\n    <tr>\n      <th>21</th>\n      <td>9</td>\n      <td>SAND</td>\n      <td>long_short</td>\n      <td>n</td>\n      <td>n</td>\n      <td>0.07</td>\n      <td>0.04</td>\n      <td>binance_01</td>\n      <td>5.9.0</td>\n    </tr>\n    <tr>\n      <th>22</th>\n      <td>10</td>\n      <td>SUSHI</td>\n      <td>long_short</td>\n      <td>n</td>\n      <td>n</td>\n      <td>0.07</td>\n      <td>0.04</td>\n      <td>binance_01</td>\n      <td>5.9.0</td>\n    </tr>\n    <tr>\n      <th>23</th>\n      <td>11</td>\n      <td>XRP</td>\n      <td>long_short</td>\n      <td>n</td>\n      <td>n</td>\n      <td>0.07</td>\n      <td>0.04</td>\n      <td>binance_01</td>\n      <td>5.9.0</td>\n    </tr>\n    <tr>\n      <th>24</th>\n      <td>12</td>\n      <td>XTZ</td>\n      <td>long_short</td>\n      <td>n</td>\n      <td>n</td>\n      <td>0.07</td>\n      <td>0.04</td>\n      <td>binance_01</td>\n      <td>5.9.0</td>\n    </tr>\n    <tr>\n      <th>25</th>\n      <td>13</td>\n      <td>DYDX</td>\n      <td>long_short</td>\n      <td>n</td>\n      <td>n</td>\n      <td>0.07</td>\n      <td>0.04</td>\n      <td>binance_02</td>\n      <td>5.9.0</td>\n    </tr>\n    <tr>\n      <th>26</th>\n      <td>14</td>\n      <td>OP</td>\n      <td>long_short</td>\n      <td>n</td>\n      <td>m</td>\n      <td>0.07</td>\n      <td>0.04</td>\n      <td>binance_03</td>\n      <td>5.9.0</td>\n    </tr>\n  </tbody>\n</table>\n</div>"
     },
     "execution_count": 3,
     "metadata": {},
     "output_type": "execute_result"
    }
   ],
   "source": [
    "import paramiko\n",
    "import pandas as pd\n",
    "\n",
    "def download_file_via_ssh(hostname, username, password, remote_path, local_path):\n",
    "    ssh = paramiko.SSHClient()\n",
    "    ssh.set_missing_host_key_policy(paramiko.AutoAddPolicy())\n",
    "    ssh.connect(hostname, username=username, password=password)\n",
    "    sftp = ssh.open_sftp()\n",
    "    sftp.get(remote_path, local_path)\n",
    "    sftp.close()\n",
    "    ssh.close()\n",
    "\n",
    "\n",
    "\n",
    "csv_files = {\n",
    "    '5.9.3.csv': '/root/passivbot_5.9.3/run_config.csv',\n",
    "    '5.9.0.csv': '/root/passivbot_5.9.0/run_config.csv',\n",
    "}\n",
    "\n",
    "# Create an empty DataFrame\n",
    "csv_data = pd.DataFrame()\n",
    "for csv_file in csv_files:\n",
    "    download_file_via_ssh(ssh_config['ip'], ssh_config['user'], ssh_config['password'],\n",
    "                          csv_files[csv_file], csv_file)\n",
    "    new_data = pd.read_csv(csv_file)\n",
    "    new_data['version'] = csv_file.replace('.csv', '')\n",
    "    csv_data = pd.concat([csv_data, new_data], ignore_index=True)\n",
    "\n",
    "csv_data"
   ],
   "metadata": {
    "collapsed": false,
    "ExecuteTime": {
     "start_time": "2023-04-10T13:36:32.861527Z",
     "end_time": "2023-04-10T13:36:35.732850Z"
    }
   }
  },
  {
   "cell_type": "code",
   "execution_count": 4,
   "outputs": [
    {
     "name": "stdout",
     "output_type": "stream",
     "text": [
      "long exposure: 2.2499999999999996, short exposure: 0.5199999999999999, total exposure: 2.7699999999999996)\n"
     ]
    }
   ],
   "source": [
    "total_long_exposure = csv_data[(csv_data['long_mode'] == 'n')]['long_exposure'].sum()\n",
    "total_short_exposure = csv_data[(csv_data['short_mode'] == 'n')]['short_exposure'].sum()\n",
    "\n",
    "exposure = total_short_exposure + total_long_exposure\n",
    "\n",
    "print(f'long exposure: {total_long_exposure}, short exposure: {total_short_exposure}, total exposure: {exposure})')\n",
    "\n"
   ],
   "metadata": {
    "collapsed": false,
    "ExecuteTime": {
     "start_time": "2023-04-10T13:36:35.727849Z",
     "end_time": "2023-04-10T13:36:35.870848Z"
    }
   }
  },
  {
   "cell_type": "code",
   "execution_count": 5,
   "outputs": [
    {
     "name": "stdout",
     "output_type": "stream",
     "text": [
      "long exposure 5.9.3: 1.2000000000000002, long exposure 5.9.0: 1.0500000000000005, short exposure 5.9.0: 0.5199999999999999)\n"
     ]
    }
   ],
   "source": [
    "total_long_exposure_version_5_9_3 = csv_data[(csv_data['long_mode'] == 'n') & (csv_data['version'] == '5.9.3')]['long_exposure'].sum()\n",
    "total_long_exposure_version_5_9_0 = csv_data[(csv_data['long_mode'] == 'n') & (csv_data['version'] == '5.9.0')]['long_exposure'].sum()\n",
    "total_short_exposure_version_5_9_0 = csv_data[(csv_data['short_mode'] == 'n') & (csv_data['version'] == '5.9.0')]['short_exposure'].sum()\n",
    "\n",
    "print(f'long exposure 5.9.3: {total_long_exposure_version_5_9_3}, long exposure 5.9.0: {total_long_exposure_version_5_9_0}, short exposure 5.9.0: {total_short_exposure_version_5_9_0})')\n",
    "\n"
   ],
   "metadata": {
    "collapsed": false,
    "ExecuteTime": {
     "start_time": "2023-04-10T13:36:35.790852Z",
     "end_time": "2023-04-10T13:36:35.891849Z"
    }
   }
  },
  {
   "cell_type": "code",
   "execution_count": 6,
   "outputs": [
    {
     "name": "stdout",
     "output_type": "stream",
     "text": [
      "coins: 27, longs:2.2499999999999996, shorts:0.5199999999999999 , ratio:0.23111111111111113\n"
     ]
    },
    {
     "data": {
      "text/plain": "5.157297576070141"
     },
     "execution_count": 6,
     "metadata": {},
     "output_type": "execute_result"
    }
   ],
   "source": [
    "total_wallet = 607\n",
    "margin = 7\n",
    "coins = csv_data.shape[0]\n",
    "longs = csv_data[(csv_data['long_mode'] == 'n')]['long_exposure'].sum()\n",
    "shorts = csv_data[(csv_data['short_mode'] == 'n')]['short_exposure'].sum()\n",
    "\n",
    "ratio = shorts/longs\n",
    "\n",
    "total_exposure = longs+shorts\n",
    "total_wallet_with_margin = total_wallet * margin\n",
    "per_entry = total_wallet_with_margin / total_exposure\n",
    "money_cost = total_wallet / total_exposure\n",
    "\n",
    "exposure = money_cost / margin\n",
    "\n",
    "xxx = (exposure / total_wallet) * 100\n",
    "\n",
    "print(f'coins: {coins}, longs:{longs}, shorts:{shorts} , ratio:{ratio}')\n",
    "xxx"
   ],
   "metadata": {
    "collapsed": false,
    "ExecuteTime": {
     "start_time": "2023-04-10T13:36:35.836850Z",
     "end_time": "2023-04-10T13:36:35.972848Z"
    }
   }
  },
  {
   "cell_type": "code",
   "execution_count": 7,
   "outputs": [
    {
     "data": {
      "text/plain": "array([], dtype=object)"
     },
     "execution_count": 7,
     "metadata": {},
     "output_type": "execute_result"
    }
   ],
   "source": [
    "# list symbols that are in both version in the csv_data DataFrame\n",
    "common_coins = csv_data[(csv_data['version'] == '5.9.3') & (csv_data['version'] == '5.9.0')]['symbol'].unique()\n",
    "common_coins"
   ],
   "metadata": {
    "collapsed": false,
    "ExecuteTime": {
     "start_time": "2023-04-10T13:36:35.895849Z",
     "end_time": "2023-04-10T13:36:35.973848Z"
    }
   }
  },
  {
   "cell_type": "code",
   "execution_count": 7,
   "outputs": [],
   "source": [],
   "metadata": {
    "collapsed": false,
    "ExecuteTime": {
     "start_time": "2023-04-10T13:36:35.941848Z",
     "end_time": "2023-04-10T13:36:35.973848Z"
    }
   }
  }
 ],
 "metadata": {
  "kernelspec": {
   "display_name": "Python 3",
   "language": "python",
   "name": "python3"
  },
  "language_info": {
   "codemirror_mode": {
    "name": "ipython",
    "version": 2
   },
   "file_extension": ".py",
   "mimetype": "text/x-python",
   "name": "python",
   "nbconvert_exporter": "python",
   "pygments_lexer": "ipython2",
   "version": "2.7.6"
  }
 },
 "nbformat": 4,
 "nbformat_minor": 0
}
