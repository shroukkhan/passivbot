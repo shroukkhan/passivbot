{
 "cells": [
  {
   "cell_type": "code",
   "execution_count": 1,
   "id": "initial_id",
   "metadata": {
    "collapsed": true,
    "ExecuteTime": {
     "end_time": "2023-08-24T18:17:49.396713800Z",
     "start_time": "2023-08-24T18:17:49.342711700Z"
    }
   },
   "outputs": [],
   "source": [
    "%load_ext autoreload\n",
    "%autoreload 2"
   ]
  },
  {
   "cell_type": "code",
   "execution_count": 5,
   "outputs": [
    {
     "data": {
      "text/plain": "OrderedDict([('CHZUSDT', 'configs/live/longs/CHZUSDT.json'),\n             ('RSRUSDT', 'configs/live/longs/RSRUSDT.json'),\n             ('RNDRUSDT', 'configs/live/longs/RNDRUSDT.json'),\n             ('HBARUSDT', 'configs/live/longs/HBARUSDT.json'),\n             ('ALPHAUSDT', 'configs/live/longs/ALPHAUSDT.json'),\n             ('CRVUSDT', 'configs/live/longs/CRVUSDT.json'),\n             ('ONEUSDT', 'configs/live/longs/ONEUSDT.json'),\n             ('DYDXUSDT', 'configs/live/longs/DYDXUSDT.json'),\n             ('EGLDUSDT', 'configs/live/longs/EGLDUSDT.json'),\n             ('XRPUSDT', 'configs/live/longs/XRPUSDT.json'),\n             ('ROSEUSDT', 'configs/live/longs/ROSEUSDT.json'),\n             ('AAVEUSDT', 'configs/live/longs/AAVEUSDT.json'),\n             ('ARUSDT', 'configs/live/longs/ARUSDT.json'),\n             ('KSMUSDT', 'configs/live/longs/KSMUSDT.json'),\n             ('FTMUSDT', 'configs/live/longs/FTMUSDT.json'),\n             ('GALAUSDT', 'configs/live/longs/GALAUSDT.json'),\n             ('BAKEUSDT', 'configs/live/longs/BAKEUSDT.json'),\n             ('FOOTBALLUSDT', 'configs/live/longs/FOOTBALLUSDT.json'),\n             ('ZILUSDT', 'configs/live/longs/ZILUSDT.json'),\n             ('ATOMUSDT', 'configs/live/longs/ATOMUSDT.json'),\n             ('ANTUSDT', 'configs/live/longs/ANTUSDT.json'),\n             ('GRTUSDT', 'configs/live/longs/GRTUSDT.json'),\n             ('ENJUSDT', 'configs/live/longs/ENJUSDT.json'),\n             ('1000SHIBUSDT', 'configs/live/longs/1000SHIBUSDT.json'),\n             ('BALUSDT', 'configs/live/longs/BALUSDT.json'),\n             ('LPTUSDT', 'configs/live/longs/LPTUSDT.json'),\n             ('ASTRUSDT', 'configs/live/longs/ASTRUSDT.json'),\n             ('MKRUSDT', 'configs/live/longs/MKRUSDT.json'),\n             ('DOTUSDT', 'configs/live/longs/DOTUSDT.json'),\n             ('TOMOUSDT', 'configs/live/longs/TOMOUSDT.json'),\n             ('ANKRUSDT', 'configs/live/longs/ANKRUSDT.json'),\n             ('MATICUSDT', 'configs/live/longs/MATICUSDT.json'),\n             ('KNCUSDT', 'configs/live/longs/KNCUSDT.json'),\n             ('RVNUSDT', 'configs/live/longs/RVNUSDT.json'),\n             ('TRUUSDT', 'configs/live/longs/TRUUSDT.json'),\n             ('IMXUSDT', 'configs/live/longs/IMXUSDT.json'),\n             ('BNBUSDT', 'configs/live/longs/BNBUSDT.json'),\n             ('ICPUSDT', 'configs/live/longs/ICPUSDT.json'),\n             ('OPUSDT', 'configs/live/longs/OPUSDT.json'),\n             ('1000XECUSDT', 'configs/live/longs/1000XECUSDT.json'),\n             ('FLOWUSDT', 'configs/live/longs/FLOWUSDT.json'),\n             ('FETUSDT', 'configs/live/longs/FETUSDT.json'),\n             ('SFPUSDT', 'configs/live/longs/SFPUSDT.json'),\n             ('API3USDT', 'configs/live/longs/API3USDT.json'),\n             ('MINAUSDT', 'configs/live/longs/MINAUSDT.json'),\n             ('TUSDT', 'configs/live/longs/TUSDT.json'),\n             ('CKBUSDT', 'configs/live/longs/CKBUSDT.json'),\n             ('NEARUSDT', 'configs/live/longs/NEARUSDT.json'),\n             ('OGNUSDT', 'configs/live/longs/OGNUSDT.json'),\n             ('MANAUSDT', 'configs/live/longs/MANAUSDT.json'),\n             ('XLMUSDT', 'configs/live/longs/XLMUSDT.json'),\n             ('NEOUSDT', 'configs/live/longs/NEOUSDT.json'),\n             ('AGIXUSDT', 'configs/live/longs/AGIXUSDT.json'),\n             ('DOGEUSDT', 'configs/live/longs/DOGEUSDT.json'),\n             ('DGBUSDT', 'configs/live/longs/DGBUSDT.json'),\n             ('LDOUSDT', 'configs/live/longs/LDOUSDT.json'),\n             ('QNTUSDT', 'configs/live/longs/QNTUSDT.json'),\n             ('OMGUSDT', 'configs/live/longs/OMGUSDT.json'),\n             ('PHBUSDT', 'configs/live/longs/PHBUSDT.json'),\n             ('COMPUSDT', 'configs/live/longs/COMPUSDT.json'),\n             ('HIGHUSDT', 'configs/live/longs/HIGHUSDT.json'),\n             ('ARPAUSDT', 'configs/live/longs/ARPAUSDT.json'),\n             ('KAVAUSDT', 'configs/live/longs/KAVAUSDT.json')])"
     },
     "execution_count": 5,
     "metadata": {},
     "output_type": "execute_result"
    }
   ],
   "source": [
    "# parse hjson C:\\AgodaGit\\passivbot\\configs\\forager\\forager.hjson\n",
    "\n",
    "import hjson\n",
    "file_path = r'C:\\AgodaGit\\passivbot\\configs\\forager\\forager.hjson'\n",
    "\n",
    "with open(file_path, 'r') as file:\n",
    "    hjson_data = file.read()\n",
    "\n",
    "parsed_data = hjson.loads(hjson_data)\n",
    "\n"
   ],
   "metadata": {
    "collapsed": false,
    "ExecuteTime": {
     "end_time": "2023-08-24T18:19:58.088957100Z",
     "start_time": "2023-08-24T18:19:58.051939700Z"
    }
   },
   "id": "41c17eb012d35c4"
  },
  {
   "cell_type": "code",
   "execution_count": 14,
   "outputs": [],
   "source": [
    "# get all parsed_data['live_configs_map_long'] keys\n",
    "long_keys = set(parsed_data['live_configs_map_long'].keys())\n",
    "\n",
    "\n",
    "# get all parsed_data['live_configs_map_short'] keys\n",
    "short_keys = set(parsed_data['live_configs_map_short'].keys())\n",
    "\n",
    "# merge long and short keys\n",
    "all_forager_symbols = long_keys.union(short_keys)\n"
   ],
   "metadata": {
    "collapsed": false,
    "ExecuteTime": {
     "end_time": "2023-08-24T18:25:48.079929600Z",
     "start_time": "2023-08-24T18:25:48.052930700Z"
    }
   },
   "id": "f7bc0692d1c20012"
  },
  {
   "cell_type": "code",
   "execution_count": 12,
   "outputs": [],
   "source": [
    "running_screens = '''\n",
    "        3288601.COMP_binance_v5_9_3_clock       (08/12/2023 11:13:10 AM)        (Detached)\n",
    "        3216086.AVAX_binance_v5_9_3_clock       (08/06/2023 02:34:52 AM)        (Detached)\n",
    "        3216056.TRX_binance_v5_9_3_clock        (08/06/2023 02:34:52 AM)        (Detached)\n",
    "        3216073.NEAR_binance_v5_9_3_clock       (08/06/2023 02:34:52 AM)        (Detached)\n",
    "        3216069.RUNE_binance_v5_9_3_clock       (08/06/2023 02:34:52 AM)        (Detached)\n",
    "        3216061.ALGO_binance_v5_9_3_clock       (08/06/2023 02:34:52 AM)        (Detached)\n",
    "        3216049.XMR_binance_v5_9_3_clock        (08/06/2023 02:34:52 AM)        (Detached)\n",
    "        3216039.ETC_binance_v5_9_3_clock        (08/06/2023 02:34:52 AM)        (Detached)\n",
    "        3216032.LTC_binance_v5_9_3_clock        (08/06/2023 02:34:52 AM)        (Detached)\n",
    "        3216022.KSM_binance_v5_9_3_clock        (08/06/2023 02:34:52 AM)        (Detached)\n",
    "        3216017.ADA_binance_v5_9_3_clock        (08/06/2023 02:34:52 AM)        (Detached)\n",
    "        3216008.BNB_binance_v5_9_3_clock        (08/06/2023 02:34:52 AM)        (Detached)\n",
    "        3215834.OP_binance_v5_9_0       (08/06/2023 02:30:21 AM)        (Detached)\n",
    "        3215830.DYDX_binance_v5_9_0     (08/06/2023 02:30:21 AM)        (Detached)\n",
    "        3215819.XRP_binance_v5_9_0      (08/06/2023 02:30:21 AM)        (Detached)\n",
    "        3215824.XTZ_binance_v5_9_0      (08/06/2023 02:30:21 AM)        (Detached)\n",
    "        3215810.SUSHI_binance_v5_9_0    (08/06/2023 02:30:21 AM)        (Detached)\n",
    "        3215805.SAND_binance_v5_9_0     (08/06/2023 02:30:21 AM)        (Detached)\n",
    "        3215801.MATIC_binance_v5_9_0    (08/06/2023 02:30:21 AM)        (Detached)\n",
    "        3215796.MANA_binance_v5_9_0     (08/06/2023 02:30:21 AM)        (Detached)\n",
    "        3215788.LINK_binance_v5_9_0     (08/06/2023 02:30:21 AM)        (Detached)\n",
    "        3215780.HBAR_binance_v5_9_0     (08/06/2023 02:30:21 AM)        (Detached)\n",
    "        3215771.EOS_binance_v5_9_0      (08/06/2023 02:30:21 AM)        (Detached)\n",
    "        3215764.DOT_binance_v5_9_0      (08/06/2023 02:30:21 AM)        (Detached)\n",
    "        3215757.DOGE_binance_v5_9_0     (08/06/2023 02:30:21 AM)        (Detached)\n",
    "        3215747.CHZ_binance_v5_9_0      (08/06/2023 02:30:21 AM)        (Detached)\n",
    "        3215741.ATOM_binance_v5_9_0     (08/06/2023 02:30:21 AM)        (Detached)\n",
    "'''\n",
    "\n",
    "# extract symbol from running_screens\n",
    "import re\n",
    "running_screens = running_screens.split('\\n')\n",
    "running_screens = [x for x in running_screens if x != '']\n",
    "running_screens = [re.findall(r'\\.(.*?)_', x)[0] for x in running_screens]\n",
    "all_screen_symbols = set(running_screens)\n",
    "\n",
    "# append USDT to each symbol\n",
    "all_screen_symbols = [x + 'USDT' for x in all_screen_symbols]\n"
   ],
   "metadata": {
    "collapsed": false,
    "ExecuteTime": {
     "end_time": "2023-08-24T18:25:03.322809500Z",
     "start_time": "2023-08-24T18:25:03.291814Z"
    }
   },
   "id": "7b23f760ef975cce"
  },
  {
   "cell_type": "code",
   "execution_count": 15,
   "outputs": [
    {
     "data": {
      "text/plain": "{'ADAUSDT',\n 'ALGOUSDT',\n 'AVAXUSDT',\n 'EOSUSDT',\n 'ETCUSDT',\n 'LINKUSDT',\n 'LTCUSDT',\n 'RUNEUSDT',\n 'TRXUSDT',\n 'XTZUSDT'}"
     },
     "execution_count": 15,
     "metadata": {},
     "output_type": "execute_result"
    }
   ],
   "source": [
    "# find all symbols which are in all_screen_symbols but not in all_forager_symbols\n",
    "only_screen_symbols = set(all_screen_symbols).difference(all_forager_symbols)\n",
    "\n",
    "only_screen_symbols"
   ],
   "metadata": {
    "collapsed": false,
    "ExecuteTime": {
     "end_time": "2023-08-24T18:25:50.965721800Z",
     "start_time": "2023-08-24T18:25:50.908724Z"
    }
   },
   "id": "ad12443a5501e409"
  },
  {
   "cell_type": "code",
   "execution_count": 20,
   "outputs": [],
   "source": [
    "import pandas as pd\n",
    "\n",
    "# create a list from only_screen_symbols by removing USDT and call it symbols_to_gs\n",
    "symbols_to_gs = [x.replace('USDT', '') for x in only_screen_symbols]\n",
    "\n",
    "# read C:\\AgodaGit\\passivbot\\configs\\live\\older_versions\\5_9_0\\__run_config.csv into df\n",
    "df59 = pd.read_csv(r'C:\\AgodaGit\\passivbot\\configs\\live\\older_versions\\5_9_0\\__run_config.csv')\n",
    "\n",
    "# remove all rows from df59 which are not in symbols_to_gs\n",
    "df59 = df59[df59['symbol'].isin(symbols_to_gs)]\n",
    "\n",
    "# now change long_mode , short_mode to gs\n",
    "df59['long_mode'] = 'gs'\n",
    "df59['short_mode'] = 'gs'\n",
    "\n",
    "df59.to_csv(r'C:\\AgodaGit\\passivbot\\configs\\live\\older_versions\\5_9_0\\__run_config_to_stop.csv', index=False)\n"
   ],
   "metadata": {
    "collapsed": false,
    "ExecuteTime": {
     "end_time": "2023-08-24T18:37:07.675048600Z",
     "start_time": "2023-08-24T18:37:07.628737Z"
    }
   },
   "id": "aa498d9b196e4a24"
  },
  {
   "cell_type": "code",
   "execution_count": 22,
   "outputs": [
    {
     "data": {
      "text/plain": "    Unnamed: 0 symbol direction long_mode short_mode  long_exposure  \\\n2            2    ADA      long        gs         gs           0.10   \n4            4    LTC      long        gs         gs           0.10   \n5            5    ETC      long        gs         gs           0.10   \n7            7    TRX      long        gs         gs           0.10   \n8            8   ALGO      long        gs         gs           0.10   \n10          10   RUNE      long        gs         gs           0.10   \n14          13   AVAX      long        gs         gs           0.11   \n\n    short_exposure     account  \n2                0  binance_01  \n4                0  binance_01  \n5                0  binance_01  \n7                0  binance_01  \n8                0  binance_01  \n10               0  binance_01  \n14               0  binance_01  ",
      "text/html": "<div>\n<style scoped>\n    .dataframe tbody tr th:only-of-type {\n        vertical-align: middle;\n    }\n\n    .dataframe tbody tr th {\n        vertical-align: top;\n    }\n\n    .dataframe thead th {\n        text-align: right;\n    }\n</style>\n<table border=\"1\" class=\"dataframe\">\n  <thead>\n    <tr style=\"text-align: right;\">\n      <th></th>\n      <th>Unnamed: 0</th>\n      <th>symbol</th>\n      <th>direction</th>\n      <th>long_mode</th>\n      <th>short_mode</th>\n      <th>long_exposure</th>\n      <th>short_exposure</th>\n      <th>account</th>\n    </tr>\n  </thead>\n  <tbody>\n    <tr>\n      <th>2</th>\n      <td>2</td>\n      <td>ADA</td>\n      <td>long</td>\n      <td>gs</td>\n      <td>gs</td>\n      <td>0.10</td>\n      <td>0</td>\n      <td>binance_01</td>\n    </tr>\n    <tr>\n      <th>4</th>\n      <td>4</td>\n      <td>LTC</td>\n      <td>long</td>\n      <td>gs</td>\n      <td>gs</td>\n      <td>0.10</td>\n      <td>0</td>\n      <td>binance_01</td>\n    </tr>\n    <tr>\n      <th>5</th>\n      <td>5</td>\n      <td>ETC</td>\n      <td>long</td>\n      <td>gs</td>\n      <td>gs</td>\n      <td>0.10</td>\n      <td>0</td>\n      <td>binance_01</td>\n    </tr>\n    <tr>\n      <th>7</th>\n      <td>7</td>\n      <td>TRX</td>\n      <td>long</td>\n      <td>gs</td>\n      <td>gs</td>\n      <td>0.10</td>\n      <td>0</td>\n      <td>binance_01</td>\n    </tr>\n    <tr>\n      <th>8</th>\n      <td>8</td>\n      <td>ALGO</td>\n      <td>long</td>\n      <td>gs</td>\n      <td>gs</td>\n      <td>0.10</td>\n      <td>0</td>\n      <td>binance_01</td>\n    </tr>\n    <tr>\n      <th>10</th>\n      <td>10</td>\n      <td>RUNE</td>\n      <td>long</td>\n      <td>gs</td>\n      <td>gs</td>\n      <td>0.10</td>\n      <td>0</td>\n      <td>binance_01</td>\n    </tr>\n    <tr>\n      <th>14</th>\n      <td>13</td>\n      <td>AVAX</td>\n      <td>long</td>\n      <td>gs</td>\n      <td>gs</td>\n      <td>0.11</td>\n      <td>0</td>\n      <td>binance_01</td>\n    </tr>\n  </tbody>\n</table>\n</div>"
     },
     "metadata": {},
     "output_type": "display_data"
    }
   ],
   "source": [
    "# do the same for 5_9_3\n",
    "# read C:\\AgodaGit\\passivbot\\configs\\live\\older_versions\\5_9_0\\__run_config.csv into df\n",
    "df593 = pd.read_csv(r'C:\\AgodaGit\\passivbot\\configs\\live\\older_versions\\5_9_3\\__run_config.csv')\n",
    "\n",
    "# remove all rows from df59 which are not in symbols_to_gs\n",
    "df593 = df593[df593['symbol'].isin(symbols_to_gs)]\n",
    "\n",
    "# now change long_mode , short_mode to gs\n",
    "df593['long_mode'] = 'gs'\n",
    "df593['short_mode'] = 'gs'\n",
    "\n",
    "display(df593)\n",
    "df593.to_csv(r'C:\\AgodaGit\\passivbot\\configs\\live\\older_versions\\5_9_3\\__run_config_to_stop.csv', index=False)"
   ],
   "metadata": {
    "collapsed": false,
    "ExecuteTime": {
     "end_time": "2023-08-24T18:38:22.843741800Z",
     "start_time": "2023-08-24T18:38:22.803743700Z"
    }
   },
   "id": "cd1d38c537d15d81"
  }
 ],
 "metadata": {
  "kernelspec": {
   "display_name": "Python 3",
   "language": "python",
   "name": "python3"
  },
  "language_info": {
   "codemirror_mode": {
    "name": "ipython",
    "version": 2
   },
   "file_extension": ".py",
   "mimetype": "text/x-python",
   "name": "python",
   "nbconvert_exporter": "python",
   "pygments_lexer": "ipython2",
   "version": "2.7.6"
  }
 },
 "nbformat": 4,
 "nbformat_minor": 5
}
