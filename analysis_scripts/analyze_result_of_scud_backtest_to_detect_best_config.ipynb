{
 "cells": [
  {
   "cell_type": "code",
   "execution_count": 1,
   "metadata": {
    "collapsed": true,
    "ExecuteTime": {
     "end_time": "2023-10-12T13:52:23.562158700Z",
     "start_time": "2023-10-12T13:52:23.466158500Z"
    }
   },
   "outputs": [],
   "source": [
    "%load_ext autoreload\n",
    "%autoreload 2"
   ]
  },
  {
   "cell_type": "code",
   "execution_count": 2,
   "outputs": [],
   "source": [
    "\n",
    "import pandas as pd\n",
    "\n",
    "ROOT_PATH = 'C:/AgodaGit/passivbot'\n",
    "BACKTESTS_PATH = ROOT_PATH + '/backtests/binance'"
   ],
   "metadata": {
    "collapsed": false,
    "ExecuteTime": {
     "end_time": "2023-10-12T13:52:24.070995300Z",
     "start_time": "2023-10-12T13:52:23.500160900Z"
    }
   }
  },
  {
   "cell_type": "code",
   "execution_count": 3,
   "outputs": [
    {
     "data": {
      "text/plain": "            symbol   side   strategy  \\\n0     1000SHIBUSDT   long  recursive   \n1     1000SHIBUSDT   long  recursive   \n2     1000SHIBUSDT   long  recursive   \n3         AAVEUSDT   long  recursive   \n4         AAVEUSDT   long  recursive   \n...            ...    ...        ...   \n1511       XRPUSDT   long       neat   \n1512       XRPUSDT   long       neat   \n1513       XRPUSDT   long       neat   \n1514       YFIUSDT   long       neat   \n1515       ZRXUSDT  short       neat   \n\n                                                 source  \\\n0     https://github.com/JohnKearney1/PassivBot-Conf...   \n1     https://github.com/JohnKearney1/PassivBot-Conf...   \n2     https://github.com/JohnKearney1/PassivBot-Conf...   \n3     https://github.com/donewiththedollar/passivbot...   \n4     https://github.com/donewiththedollar/passivbot...   \n...                                                 ...   \n1511  https://github.com/JohnKearney1/PassivBot-Conf...   \n1512  https://github.com/JohnKearney1/PassivBot-Conf...   \n1513  https://github.com/JohnKearney1/PassivBot-Conf...   \n1514  https://github.com/JohnKearney1/PassivBot-Conf...   \n1515  https://github.com/JohnKearney1/PassivBot-Conf...   \n\n                            source_name  \\\n0                enarjord [JohnKearney]   \n1                enarjord [JohnKearney]   \n2                enarjord [JohnKearney]   \n3     flyingtoaster [donewiththedollar]   \n4     flyingtoaster [donewiththedollar]   \n...                                 ...   \n1511             enarjord [JohnKearney]   \n1512             enarjord [JohnKearney]   \n1513             enarjord [JohnKearney]   \n1514             enarjord [JohnKearney]   \n1515             enarjord [JohnKearney]   \n\n                                            source_side     adg  \\\n0     https://github.com/JohnKearney1/PassivBot-Conf...  0.2874   \n1     https://github.com/JohnKearney1/PassivBot-Conf...  0.4250   \n2     https://github.com/JohnKearney1/PassivBot-Conf...  0.4462   \n3     https://github.com/donewiththedollar/passivbot...  0.2914   \n4     https://github.com/donewiththedollar/passivbot...  0.3708   \n...                                                 ...     ...   \n1511  https://github.com/JohnKearney1/PassivBot-Conf...  0.2957   \n1512  https://github.com/JohnKearney1/PassivBot-Conf...  0.2275   \n1513  https://github.com/JohnKearney1/PassivBot-Conf...  0.2888   \n1514  https://github.com/JohnKearney1/PassivBot-Conf...  0.2708   \n1515  https://github.com/JohnKearney1/PassivBot-Conf...  0.1902   \n\n      adg_per_exposure  adg_weighted  adg_weighted_per_exposure  ...  \\\n0               0.2874        0.1037                     0.1037  ...   \n1               0.4250        0.1602                     0.1602  ...   \n2               0.4462        0.1599                     0.1599  ...   \n3               0.2914        0.0678                     0.0678  ...   \n4               0.3708        0.0859                     0.0859  ...   \n...                ...           ...                        ...  ...   \n1511            0.2957        0.0843                     0.0843  ...   \n1512            0.2275        0.0487                     0.0487  ...   \n1513            0.2888        0.0595                     0.0595  ...   \n1514            0.2708        0.0581                     0.0581  ...   \n1515            0.1902        0.0673                     0.0673  ...   \n\n         slope      intercept  mse_norm  r_squared       sd      cv    sd_lr  \\\n0     0.036809  -59273.197087  0.007887   0.992113   804.00  45.46%   800.82   \n1     0.143915 -233914.821500  0.017875   0.982125  3159.43  66.56%  3131.06   \n2     0.166845 -271965.814487  0.066126   0.933874  3756.24  79.56%  3629.92   \n3     0.056522  -89943.752301  0.113548   0.886452  1615.17  49.16%  1520.71   \n4     0.153007 -246170.370636  0.047392   0.952608  4217.75  67.99%  4116.60   \n...        ...            ...       ...        ...      ...     ...      ...   \n1511  0.066570 -106555.305058  0.005052   0.994948  1821.10  56.86%  1816.49   \n1512  0.030480  -48525.948459  0.009954   0.990046   835.88  48.36%   831.71   \n1513  0.063831 -102109.534120  0.006010   0.993990  1747.02  55.75%  1741.77   \n1514  0.047835  -76025.366486  0.071101   0.928899  1354.31  47.62%  1305.28   \n1515  0.020107  -32086.316385  0.008582   0.991418   551.04  51.68%   548.67   \n\n       cv_lr  quality_score  quality_score2  \n0     45.28%       1.104610        1.570054  \n1     65.96%       4.305645        2.938896  \n2     76.89%       1.345226        0.630417  \n3     46.28%       0.069728        0.014703  \n4     66.35%       0.783695        0.216010  \n...      ...            ...             ...  \n1511  56.72%       2.614286        2.014091  \n1512  48.11%       0.268859        0.321808  \n1513  55.59%       1.452442        0.933007  \n1514  45.90%       0.078624        0.026304  \n1515  51.46%       0.237885        0.324733  \n\n[1516 rows x 53 columns]",
      "text/html": "<div>\n<style scoped>\n    .dataframe tbody tr th:only-of-type {\n        vertical-align: middle;\n    }\n\n    .dataframe tbody tr th {\n        vertical-align: top;\n    }\n\n    .dataframe thead th {\n        text-align: right;\n    }\n</style>\n<table border=\"1\" class=\"dataframe\">\n  <thead>\n    <tr style=\"text-align: right;\">\n      <th></th>\n      <th>symbol</th>\n      <th>side</th>\n      <th>strategy</th>\n      <th>source</th>\n      <th>source_name</th>\n      <th>source_side</th>\n      <th>adg</th>\n      <th>adg_per_exposure</th>\n      <th>adg_weighted</th>\n      <th>adg_weighted_per_exposure</th>\n      <th>...</th>\n      <th>slope</th>\n      <th>intercept</th>\n      <th>mse_norm</th>\n      <th>r_squared</th>\n      <th>sd</th>\n      <th>cv</th>\n      <th>sd_lr</th>\n      <th>cv_lr</th>\n      <th>quality_score</th>\n      <th>quality_score2</th>\n    </tr>\n  </thead>\n  <tbody>\n    <tr>\n      <th>0</th>\n      <td>1000SHIBUSDT</td>\n      <td>long</td>\n      <td>recursive</td>\n      <td>https://github.com/JohnKearney1/PassivBot-Conf...</td>\n      <td>enarjord [JohnKearney]</td>\n      <td>https://github.com/JohnKearney1/PassivBot-Conf...</td>\n      <td>0.2874</td>\n      <td>0.2874</td>\n      <td>0.1037</td>\n      <td>0.1037</td>\n      <td>...</td>\n      <td>0.036809</td>\n      <td>-59273.197087</td>\n      <td>0.007887</td>\n      <td>0.992113</td>\n      <td>804.00</td>\n      <td>45.46%</td>\n      <td>800.82</td>\n      <td>45.28%</td>\n      <td>1.104610</td>\n      <td>1.570054</td>\n    </tr>\n    <tr>\n      <th>1</th>\n      <td>1000SHIBUSDT</td>\n      <td>long</td>\n      <td>recursive</td>\n      <td>https://github.com/JohnKearney1/PassivBot-Conf...</td>\n      <td>enarjord [JohnKearney]</td>\n      <td>https://github.com/JohnKearney1/PassivBot-Conf...</td>\n      <td>0.4250</td>\n      <td>0.4250</td>\n      <td>0.1602</td>\n      <td>0.1602</td>\n      <td>...</td>\n      <td>0.143915</td>\n      <td>-233914.821500</td>\n      <td>0.017875</td>\n      <td>0.982125</td>\n      <td>3159.43</td>\n      <td>66.56%</td>\n      <td>3131.06</td>\n      <td>65.96%</td>\n      <td>4.305645</td>\n      <td>2.938896</td>\n    </tr>\n    <tr>\n      <th>2</th>\n      <td>1000SHIBUSDT</td>\n      <td>long</td>\n      <td>recursive</td>\n      <td>https://github.com/JohnKearney1/PassivBot-Conf...</td>\n      <td>enarjord [JohnKearney]</td>\n      <td>https://github.com/JohnKearney1/PassivBot-Conf...</td>\n      <td>0.4462</td>\n      <td>0.4462</td>\n      <td>0.1599</td>\n      <td>0.1599</td>\n      <td>...</td>\n      <td>0.166845</td>\n      <td>-271965.814487</td>\n      <td>0.066126</td>\n      <td>0.933874</td>\n      <td>3756.24</td>\n      <td>79.56%</td>\n      <td>3629.92</td>\n      <td>76.89%</td>\n      <td>1.345226</td>\n      <td>0.630417</td>\n    </tr>\n    <tr>\n      <th>3</th>\n      <td>AAVEUSDT</td>\n      <td>long</td>\n      <td>recursive</td>\n      <td>https://github.com/donewiththedollar/passivbot...</td>\n      <td>flyingtoaster [donewiththedollar]</td>\n      <td>https://github.com/donewiththedollar/passivbot...</td>\n      <td>0.2914</td>\n      <td>0.2914</td>\n      <td>0.0678</td>\n      <td>0.0678</td>\n      <td>...</td>\n      <td>0.056522</td>\n      <td>-89943.752301</td>\n      <td>0.113548</td>\n      <td>0.886452</td>\n      <td>1615.17</td>\n      <td>49.16%</td>\n      <td>1520.71</td>\n      <td>46.28%</td>\n      <td>0.069728</td>\n      <td>0.014703</td>\n    </tr>\n    <tr>\n      <th>4</th>\n      <td>AAVEUSDT</td>\n      <td>long</td>\n      <td>recursive</td>\n      <td>https://github.com/donewiththedollar/passivbot...</td>\n      <td>flyingtoaster [donewiththedollar]</td>\n      <td>https://github.com/donewiththedollar/passivbot...</td>\n      <td>0.3708</td>\n      <td>0.3708</td>\n      <td>0.0859</td>\n      <td>0.0859</td>\n      <td>...</td>\n      <td>0.153007</td>\n      <td>-246170.370636</td>\n      <td>0.047392</td>\n      <td>0.952608</td>\n      <td>4217.75</td>\n      <td>67.99%</td>\n      <td>4116.60</td>\n      <td>66.35%</td>\n      <td>0.783695</td>\n      <td>0.216010</td>\n    </tr>\n    <tr>\n      <th>...</th>\n      <td>...</td>\n      <td>...</td>\n      <td>...</td>\n      <td>...</td>\n      <td>...</td>\n      <td>...</td>\n      <td>...</td>\n      <td>...</td>\n      <td>...</td>\n      <td>...</td>\n      <td>...</td>\n      <td>...</td>\n      <td>...</td>\n      <td>...</td>\n      <td>...</td>\n      <td>...</td>\n      <td>...</td>\n      <td>...</td>\n      <td>...</td>\n      <td>...</td>\n      <td>...</td>\n    </tr>\n    <tr>\n      <th>1511</th>\n      <td>XRPUSDT</td>\n      <td>long</td>\n      <td>neat</td>\n      <td>https://github.com/JohnKearney1/PassivBot-Conf...</td>\n      <td>enarjord [JohnKearney]</td>\n      <td>https://github.com/JohnKearney1/PassivBot-Conf...</td>\n      <td>0.2957</td>\n      <td>0.2957</td>\n      <td>0.0843</td>\n      <td>0.0843</td>\n      <td>...</td>\n      <td>0.066570</td>\n      <td>-106555.305058</td>\n      <td>0.005052</td>\n      <td>0.994948</td>\n      <td>1821.10</td>\n      <td>56.86%</td>\n      <td>1816.49</td>\n      <td>56.72%</td>\n      <td>2.614286</td>\n      <td>2.014091</td>\n    </tr>\n    <tr>\n      <th>1512</th>\n      <td>XRPUSDT</td>\n      <td>long</td>\n      <td>neat</td>\n      <td>https://github.com/JohnKearney1/PassivBot-Conf...</td>\n      <td>enarjord [JohnKearney]</td>\n      <td>https://github.com/JohnKearney1/PassivBot-Conf...</td>\n      <td>0.2275</td>\n      <td>0.2275</td>\n      <td>0.0487</td>\n      <td>0.0487</td>\n      <td>...</td>\n      <td>0.030480</td>\n      <td>-48525.948459</td>\n      <td>0.009954</td>\n      <td>0.990046</td>\n      <td>835.88</td>\n      <td>48.36%</td>\n      <td>831.71</td>\n      <td>48.11%</td>\n      <td>0.268859</td>\n      <td>0.321808</td>\n    </tr>\n    <tr>\n      <th>1513</th>\n      <td>XRPUSDT</td>\n      <td>long</td>\n      <td>neat</td>\n      <td>https://github.com/JohnKearney1/PassivBot-Conf...</td>\n      <td>enarjord [JohnKearney]</td>\n      <td>https://github.com/JohnKearney1/PassivBot-Conf...</td>\n      <td>0.2888</td>\n      <td>0.2888</td>\n      <td>0.0595</td>\n      <td>0.0595</td>\n      <td>...</td>\n      <td>0.063831</td>\n      <td>-102109.534120</td>\n      <td>0.006010</td>\n      <td>0.993990</td>\n      <td>1747.02</td>\n      <td>55.75%</td>\n      <td>1741.77</td>\n      <td>55.59%</td>\n      <td>1.452442</td>\n      <td>0.933007</td>\n    </tr>\n    <tr>\n      <th>1514</th>\n      <td>YFIUSDT</td>\n      <td>long</td>\n      <td>neat</td>\n      <td>https://github.com/JohnKearney1/PassivBot-Conf...</td>\n      <td>enarjord [JohnKearney]</td>\n      <td>https://github.com/JohnKearney1/PassivBot-Conf...</td>\n      <td>0.2708</td>\n      <td>0.2708</td>\n      <td>0.0581</td>\n      <td>0.0581</td>\n      <td>...</td>\n      <td>0.047835</td>\n      <td>-76025.366486</td>\n      <td>0.071101</td>\n      <td>0.928899</td>\n      <td>1354.31</td>\n      <td>47.62%</td>\n      <td>1305.28</td>\n      <td>45.90%</td>\n      <td>0.078624</td>\n      <td>0.026304</td>\n    </tr>\n    <tr>\n      <th>1515</th>\n      <td>ZRXUSDT</td>\n      <td>short</td>\n      <td>neat</td>\n      <td>https://github.com/JohnKearney1/PassivBot-Conf...</td>\n      <td>enarjord [JohnKearney]</td>\n      <td>https://github.com/JohnKearney1/PassivBot-Conf...</td>\n      <td>0.1902</td>\n      <td>0.1902</td>\n      <td>0.0673</td>\n      <td>0.0673</td>\n      <td>...</td>\n      <td>0.020107</td>\n      <td>-32086.316385</td>\n      <td>0.008582</td>\n      <td>0.991418</td>\n      <td>551.04</td>\n      <td>51.68%</td>\n      <td>548.67</td>\n      <td>51.46%</td>\n      <td>0.237885</td>\n      <td>0.324733</td>\n    </tr>\n  </tbody>\n</table>\n<p>1516 rows × 53 columns</p>\n</div>"
     },
     "execution_count": 3,
     "metadata": {},
     "output_type": "execute_result"
    }
   ],
   "source": [
    "# read ./analysis_scripts/pbconfig.scud.dedyn.io.data.json and create a dataframe\n",
    "\n",
    "result_analysis = pd.read_json(ROOT_PATH + '/analysis_scripts/pbconfig.scud.dedyn.io.data.json')\n",
    "\n",
    "result_analysis\n"
   ],
   "metadata": {
    "collapsed": false,
    "ExecuteTime": {
     "end_time": "2023-10-12T13:52:24.207386200Z",
     "start_time": "2023-10-12T13:52:24.072993800Z"
    }
   }
  },
  {
   "cell_type": "code",
   "execution_count": 4,
   "outputs": [
    {
     "data": {
      "text/plain": "        symbol  side   strategy  \\\n20     ADAUSDT  long  recursive   \n41    ALGOUSDT  long  recursive   \n168   DOGEUSDT  long  recursive   \n277   GALAUSDT  long  recursive   \n278   GALAUSDT  long  recursive   \n...        ...   ...        ...   \n1503   XLMUSDT  long       neat   \n1508   XRPUSDT  long       neat   \n1510   XRPUSDT  long       neat   \n1511   XRPUSDT  long       neat   \n1512   XRPUSDT  long       neat   \n\n                                                 source  \\\n20    https://github.com/donewiththedollar/passivbot...   \n41    https://github.com/donewiththedollar/passivbot...   \n168   https://github.com/donewiththedollar/passivbot...   \n277   https://github.com/donewiththedollar/passivbot...   \n278   https://github.com/donewiththedollar/passivbot...   \n...                                                 ...   \n1503  https://github.com/donewiththedollar/passivbot...   \n1508  https://github.com/donewiththedollar/passivbot...   \n1510  https://github.com/donewiththedollar/passivbot...   \n1511  https://github.com/JohnKearney1/PassivBot-Conf...   \n1512  https://github.com/JohnKearney1/PassivBot-Conf...   \n\n                            source_name  \\\n20    flyingtoaster [donewiththedollar]   \n41    flyingtoaster [donewiththedollar]   \n168   flyingtoaster [donewiththedollar]   \n277   flyingtoaster [donewiththedollar]   \n278   flyingtoaster [donewiththedollar]   \n...                                 ...   \n1503  flyingtoaster [donewiththedollar]   \n1508  flyingtoaster [donewiththedollar]   \n1510  flyingtoaster [donewiththedollar]   \n1511             enarjord [JohnKearney]   \n1512             enarjord [JohnKearney]   \n\n                                            source_side     adg  \\\n20    https://github.com/donewiththedollar/passivbot...  0.2204   \n41    https://github.com/donewiththedollar/passivbot...  0.1935   \n168   https://github.com/donewiththedollar/passivbot...  0.2799   \n277   https://github.com/donewiththedollar/passivbot...  0.2678   \n278   https://github.com/donewiththedollar/passivbot...  0.2752   \n...                                                 ...     ...   \n1503  https://github.com/donewiththedollar/passivbot...  0.2387   \n1508  https://github.com/donewiththedollar/passivbot...  0.2347   \n1510  https://github.com/donewiththedollar/passivbot...  0.3794   \n1511  https://github.com/JohnKearney1/PassivBot-Conf...  0.2957   \n1512  https://github.com/JohnKearney1/PassivBot-Conf...  0.2275   \n\n      adg_per_exposure  adg_weighted  adg_weighted_per_exposure  ...  \\\n20              0.2204        0.0450                     0.0450  ...   \n41              0.1935        0.0510                     0.0510  ...   \n168             0.2799        0.0560                     0.0560  ...   \n277             0.2678        0.0861                     0.0861  ...   \n278             0.2752        0.1515                     0.1515  ...   \n...                ...           ...                        ...  ...   \n1503            0.2387        0.0706                     0.0706  ...   \n1508            0.2347        0.0792                     0.0792  ...   \n1510            0.3794        0.1096                     0.1096  ...   \n1511            0.2957        0.0843                     0.0843  ...   \n1512            0.2275        0.0487                     0.0487  ...   \n\n         slope      intercept  mse_norm  r_squared       sd      cv    sd_lr  \\\n20    0.029952  -47651.942641  0.065560   0.934440   845.45  48.82%   817.27   \n41    0.020157  -31949.903375  0.018892   0.981108   555.26  43.26%   549.99   \n168   0.059394  -95054.434059  0.015664   0.984336  1633.47  56.86%  1620.63   \n277   0.026954  -43826.954929  0.025761   0.974239   505.29  49.38%   498.73   \n278   0.026973  -43894.097975  0.043061   0.956939   510.20  51.62%   499.09   \n...        ...            ...       ...        ...      ...     ...      ...   \n1503  0.035191  -55807.951513  0.144832   0.855168  1038.39  46.90%   960.26   \n1508  0.032379  -51499.152994  0.020264   0.979736   892.63  47.30%   883.54   \n1510  0.166484 -266978.477850  0.009078   0.990922  4563.62  60.72%  4542.86   \n1511  0.066570 -106555.305058  0.005052   0.994948  1821.10  56.86%  1816.49   \n1512  0.030480  -48525.948459  0.009954   0.990046   835.88  48.36%   831.71   \n\n       cv_lr  quality_score  quality_score2  \n20    47.20%       0.033909    33908.984723  \n41    42.84%       0.082601        0.056353  \n168   56.41%       0.468391   468391.377239  \n277   48.74%       0.188080        0.054767  \n278   50.50%       0.199901        0.069410  \n...      ...            ...             ...  \n1503  43.37%       0.028000        0.036712  \n1508  46.82%       0.232687   232687.094838  \n1510  60.45%       6.045546        2.896081  \n1511  56.72%       2.614286        2.014091  \n1512  48.11%       0.268859        0.321808  \n\n[90 rows x 53 columns]",
      "text/html": "<div>\n<style scoped>\n    .dataframe tbody tr th:only-of-type {\n        vertical-align: middle;\n    }\n\n    .dataframe tbody tr th {\n        vertical-align: top;\n    }\n\n    .dataframe thead th {\n        text-align: right;\n    }\n</style>\n<table border=\"1\" class=\"dataframe\">\n  <thead>\n    <tr style=\"text-align: right;\">\n      <th></th>\n      <th>symbol</th>\n      <th>side</th>\n      <th>strategy</th>\n      <th>source</th>\n      <th>source_name</th>\n      <th>source_side</th>\n      <th>adg</th>\n      <th>adg_per_exposure</th>\n      <th>adg_weighted</th>\n      <th>adg_weighted_per_exposure</th>\n      <th>...</th>\n      <th>slope</th>\n      <th>intercept</th>\n      <th>mse_norm</th>\n      <th>r_squared</th>\n      <th>sd</th>\n      <th>cv</th>\n      <th>sd_lr</th>\n      <th>cv_lr</th>\n      <th>quality_score</th>\n      <th>quality_score2</th>\n    </tr>\n  </thead>\n  <tbody>\n    <tr>\n      <th>20</th>\n      <td>ADAUSDT</td>\n      <td>long</td>\n      <td>recursive</td>\n      <td>https://github.com/donewiththedollar/passivbot...</td>\n      <td>flyingtoaster [donewiththedollar]</td>\n      <td>https://github.com/donewiththedollar/passivbot...</td>\n      <td>0.2204</td>\n      <td>0.2204</td>\n      <td>0.0450</td>\n      <td>0.0450</td>\n      <td>...</td>\n      <td>0.029952</td>\n      <td>-47651.942641</td>\n      <td>0.065560</td>\n      <td>0.934440</td>\n      <td>845.45</td>\n      <td>48.82%</td>\n      <td>817.27</td>\n      <td>47.20%</td>\n      <td>0.033909</td>\n      <td>33908.984723</td>\n    </tr>\n    <tr>\n      <th>41</th>\n      <td>ALGOUSDT</td>\n      <td>long</td>\n      <td>recursive</td>\n      <td>https://github.com/donewiththedollar/passivbot...</td>\n      <td>flyingtoaster [donewiththedollar]</td>\n      <td>https://github.com/donewiththedollar/passivbot...</td>\n      <td>0.1935</td>\n      <td>0.1935</td>\n      <td>0.0510</td>\n      <td>0.0510</td>\n      <td>...</td>\n      <td>0.020157</td>\n      <td>-31949.903375</td>\n      <td>0.018892</td>\n      <td>0.981108</td>\n      <td>555.26</td>\n      <td>43.26%</td>\n      <td>549.99</td>\n      <td>42.84%</td>\n      <td>0.082601</td>\n      <td>0.056353</td>\n    </tr>\n    <tr>\n      <th>168</th>\n      <td>DOGEUSDT</td>\n      <td>long</td>\n      <td>recursive</td>\n      <td>https://github.com/donewiththedollar/passivbot...</td>\n      <td>flyingtoaster [donewiththedollar]</td>\n      <td>https://github.com/donewiththedollar/passivbot...</td>\n      <td>0.2799</td>\n      <td>0.2799</td>\n      <td>0.0560</td>\n      <td>0.0560</td>\n      <td>...</td>\n      <td>0.059394</td>\n      <td>-95054.434059</td>\n      <td>0.015664</td>\n      <td>0.984336</td>\n      <td>1633.47</td>\n      <td>56.86%</td>\n      <td>1620.63</td>\n      <td>56.41%</td>\n      <td>0.468391</td>\n      <td>468391.377239</td>\n    </tr>\n    <tr>\n      <th>277</th>\n      <td>GALAUSDT</td>\n      <td>long</td>\n      <td>recursive</td>\n      <td>https://github.com/donewiththedollar/passivbot...</td>\n      <td>flyingtoaster [donewiththedollar]</td>\n      <td>https://github.com/donewiththedollar/passivbot...</td>\n      <td>0.2678</td>\n      <td>0.2678</td>\n      <td>0.0861</td>\n      <td>0.0861</td>\n      <td>...</td>\n      <td>0.026954</td>\n      <td>-43826.954929</td>\n      <td>0.025761</td>\n      <td>0.974239</td>\n      <td>505.29</td>\n      <td>49.38%</td>\n      <td>498.73</td>\n      <td>48.74%</td>\n      <td>0.188080</td>\n      <td>0.054767</td>\n    </tr>\n    <tr>\n      <th>278</th>\n      <td>GALAUSDT</td>\n      <td>long</td>\n      <td>recursive</td>\n      <td>https://github.com/donewiththedollar/passivbot...</td>\n      <td>flyingtoaster [donewiththedollar]</td>\n      <td>https://github.com/donewiththedollar/passivbot...</td>\n      <td>0.2752</td>\n      <td>0.2752</td>\n      <td>0.1515</td>\n      <td>0.1515</td>\n      <td>...</td>\n      <td>0.026973</td>\n      <td>-43894.097975</td>\n      <td>0.043061</td>\n      <td>0.956939</td>\n      <td>510.20</td>\n      <td>51.62%</td>\n      <td>499.09</td>\n      <td>50.50%</td>\n      <td>0.199901</td>\n      <td>0.069410</td>\n    </tr>\n    <tr>\n      <th>...</th>\n      <td>...</td>\n      <td>...</td>\n      <td>...</td>\n      <td>...</td>\n      <td>...</td>\n      <td>...</td>\n      <td>...</td>\n      <td>...</td>\n      <td>...</td>\n      <td>...</td>\n      <td>...</td>\n      <td>...</td>\n      <td>...</td>\n      <td>...</td>\n      <td>...</td>\n      <td>...</td>\n      <td>...</td>\n      <td>...</td>\n      <td>...</td>\n      <td>...</td>\n      <td>...</td>\n    </tr>\n    <tr>\n      <th>1503</th>\n      <td>XLMUSDT</td>\n      <td>long</td>\n      <td>neat</td>\n      <td>https://github.com/donewiththedollar/passivbot...</td>\n      <td>flyingtoaster [donewiththedollar]</td>\n      <td>https://github.com/donewiththedollar/passivbot...</td>\n      <td>0.2387</td>\n      <td>0.2387</td>\n      <td>0.0706</td>\n      <td>0.0706</td>\n      <td>...</td>\n      <td>0.035191</td>\n      <td>-55807.951513</td>\n      <td>0.144832</td>\n      <td>0.855168</td>\n      <td>1038.39</td>\n      <td>46.90%</td>\n      <td>960.26</td>\n      <td>43.37%</td>\n      <td>0.028000</td>\n      <td>0.036712</td>\n    </tr>\n    <tr>\n      <th>1508</th>\n      <td>XRPUSDT</td>\n      <td>long</td>\n      <td>neat</td>\n      <td>https://github.com/donewiththedollar/passivbot...</td>\n      <td>flyingtoaster [donewiththedollar]</td>\n      <td>https://github.com/donewiththedollar/passivbot...</td>\n      <td>0.2347</td>\n      <td>0.2347</td>\n      <td>0.0792</td>\n      <td>0.0792</td>\n      <td>...</td>\n      <td>0.032379</td>\n      <td>-51499.152994</td>\n      <td>0.020264</td>\n      <td>0.979736</td>\n      <td>892.63</td>\n      <td>47.30%</td>\n      <td>883.54</td>\n      <td>46.82%</td>\n      <td>0.232687</td>\n      <td>232687.094838</td>\n    </tr>\n    <tr>\n      <th>1510</th>\n      <td>XRPUSDT</td>\n      <td>long</td>\n      <td>neat</td>\n      <td>https://github.com/donewiththedollar/passivbot...</td>\n      <td>flyingtoaster [donewiththedollar]</td>\n      <td>https://github.com/donewiththedollar/passivbot...</td>\n      <td>0.3794</td>\n      <td>0.3794</td>\n      <td>0.1096</td>\n      <td>0.1096</td>\n      <td>...</td>\n      <td>0.166484</td>\n      <td>-266978.477850</td>\n      <td>0.009078</td>\n      <td>0.990922</td>\n      <td>4563.62</td>\n      <td>60.72%</td>\n      <td>4542.86</td>\n      <td>60.45%</td>\n      <td>6.045546</td>\n      <td>2.896081</td>\n    </tr>\n    <tr>\n      <th>1511</th>\n      <td>XRPUSDT</td>\n      <td>long</td>\n      <td>neat</td>\n      <td>https://github.com/JohnKearney1/PassivBot-Conf...</td>\n      <td>enarjord [JohnKearney]</td>\n      <td>https://github.com/JohnKearney1/PassivBot-Conf...</td>\n      <td>0.2957</td>\n      <td>0.2957</td>\n      <td>0.0843</td>\n      <td>0.0843</td>\n      <td>...</td>\n      <td>0.066570</td>\n      <td>-106555.305058</td>\n      <td>0.005052</td>\n      <td>0.994948</td>\n      <td>1821.10</td>\n      <td>56.86%</td>\n      <td>1816.49</td>\n      <td>56.72%</td>\n      <td>2.614286</td>\n      <td>2.014091</td>\n    </tr>\n    <tr>\n      <th>1512</th>\n      <td>XRPUSDT</td>\n      <td>long</td>\n      <td>neat</td>\n      <td>https://github.com/JohnKearney1/PassivBot-Conf...</td>\n      <td>enarjord [JohnKearney]</td>\n      <td>https://github.com/JohnKearney1/PassivBot-Conf...</td>\n      <td>0.2275</td>\n      <td>0.2275</td>\n      <td>0.0487</td>\n      <td>0.0487</td>\n      <td>...</td>\n      <td>0.030480</td>\n      <td>-48525.948459</td>\n      <td>0.009954</td>\n      <td>0.990046</td>\n      <td>835.88</td>\n      <td>48.36%</td>\n      <td>831.71</td>\n      <td>48.11%</td>\n      <td>0.268859</td>\n      <td>0.321808</td>\n    </tr>\n  </tbody>\n</table>\n<p>90 rows × 53 columns</p>\n</div>"
     },
     "metadata": {},
     "output_type": "display_data"
    },
    {
     "data": {
      "text/plain": "         symbol   side   strategy  \\\n523    SANDUSDT  short  recursive   \n756    ATOMUSDT  short      clock   \n757    ATOMUSDT  short      clock   \n758    ATOMUSDT  short      clock   \n954     ENSUSDT  short      clock   \n999     GALUSDT  short      clock   \n1113    LITUSDT  short      clock   \n1114    LITUSDT  short      clock   \n1238    RLCUSDT  short      clock   \n1239    RLCUSDT  short      clock   \n1240    RLCUSDT  short      clock   \n1241    RLCUSDT  short      clock   \n1264    RSRUSDT  short      clock   \n1394    ZENUSDT  short      clock   \n1468  JASMYUSDT  short       neat   \n\n                                                 source  \\\n523   https://github.com/JohnKearney1/PassivBot-Conf...   \n756   https://github.com/JohnKearney1/PassivBot-Conf...   \n757   https://github.com/JohnKearney1/PassivBot-Conf...   \n758   https://github.com/JohnKearney1/PassivBot-Conf...   \n954   https://github.com/JohnKearney1/PassivBot-Conf...   \n999   https://github.com/JohnKearney1/PassivBot-Conf...   \n1113  https://github.com/JohnKearney1/PassivBot-Conf...   \n1114  https://github.com/JohnKearney1/PassivBot-Conf...   \n1238  https://github.com/JohnKearney1/PassivBot-Conf...   \n1239  https://github.com/JohnKearney1/PassivBot-Conf...   \n1240  https://github.com/JohnKearney1/PassivBot-Conf...   \n1241  https://github.com/JohnKearney1/PassivBot-Conf...   \n1264  https://github.com/JohnKearney1/PassivBot-Conf...   \n1394  https://github.com/JohnKearney1/PassivBot-Conf...   \n1468  https://github.com/JohnKearney1/PassivBot-Conf...   \n\n                 source_name  \\\n523   enarjord [JohnKearney]   \n756   enarjord [JohnKearney]   \n757   enarjord [JohnKearney]   \n758   enarjord [JohnKearney]   \n954   enarjord [JohnKearney]   \n999   enarjord [JohnKearney]   \n1113  enarjord [JohnKearney]   \n1114  enarjord [JohnKearney]   \n1238  enarjord [JohnKearney]   \n1239  enarjord [JohnKearney]   \n1240  enarjord [JohnKearney]   \n1241  enarjord [JohnKearney]   \n1264  enarjord [JohnKearney]   \n1394  enarjord [JohnKearney]   \n1468  enarjord [JohnKearney]   \n\n                                            source_side     adg  \\\n523   https://github.com/JohnKearney1/PassivBot-Conf...  0.2192   \n756   https://github.com/JohnKearney1/PassivBot-Conf...  0.2044   \n757   https://github.com/JohnKearney1/PassivBot-Conf...  0.2094   \n758   https://github.com/JohnKearney1/PassivBot-Conf...  0.2046   \n954   https://github.com/JohnKearney1/PassivBot-Conf...  0.3748   \n999   https://github.com/JohnKearney1/PassivBot-Conf...  0.3191   \n1113  https://github.com/JohnKearney1/PassivBot-Conf...  0.2442   \n1114  https://github.com/JohnKearney1/PassivBot-Conf...  0.2346   \n1238  https://github.com/JohnKearney1/PassivBot-Conf...  0.2176   \n1239  https://github.com/JohnKearney1/PassivBot-Conf...  0.2064   \n1240  https://github.com/JohnKearney1/PassivBot-Conf...  0.2375   \n1241  https://github.com/JohnKearney1/PassivBot-Conf...  0.2176   \n1264  https://github.com/JohnKearney1/PassivBot-Conf...  0.2205   \n1394  https://github.com/JohnKearney1/PassivBot-Conf...  0.2146   \n1468  https://github.com/JohnKearney1/PassivBot-Conf...  0.3835   \n\n      adg_per_exposure  adg_weighted  adg_weighted_per_exposure  ...  \\\n523             0.2192        0.0401                     0.0401  ...   \n756             0.2044        0.0567                     0.0567  ...   \n757             0.2094        0.0631                     0.0631  ...   \n758             0.2046        0.0578                     0.0578  ...   \n954             0.3748        0.2250                     0.2250  ...   \n999             0.3191        0.2320                     0.2320  ...   \n1113            0.2442        0.1672                     0.1672  ...   \n1114            0.2346        0.1793                     0.1793  ...   \n1238            0.2176        0.2133                     0.2133  ...   \n1239            0.2064        0.1180                     0.1180  ...   \n1240            0.2375        0.2295                     0.2295  ...   \n1241            0.2176        0.2133                     0.2133  ...   \n1264            0.2205        0.1294                     0.1294  ...   \n1394            0.2146        0.1102                     0.1102  ...   \n1468            0.3835        0.1292                     0.1292  ...   \n\n         slope     intercept  mse_norm  r_squared      sd      cv   sd_lr  \\\n523   0.022847 -36438.419280  0.023207   0.976793  563.72  41.88%  557.14   \n756   0.024699 -39528.745186  0.012340   0.987660  678.15  56.82%  673.95   \n757   0.026107 -41805.022272  0.013396   0.986604  717.20  57.87%  712.38   \n758   0.024693 -39518.789831  0.012217   0.987783  677.96  56.76%  673.80   \n954   0.049316 -80898.528918  0.039538   0.960462  839.54  63.70%  822.78   \n999   0.024413 -40149.079872  0.042095   0.957905  318.82  44.50%  312.04   \n1113  0.028173 -45530.980123  0.062079   0.937921  692.01  63.41%  670.19   \n1114  0.025014 -40384.702890  0.057035   0.942965  612.76  60.75%  595.02   \n1238  0.023360 -37462.681170  0.083756   0.916244  665.92  63.28%  637.42   \n1239  0.022828 -36542.407030  0.039904   0.960096  635.72  58.02%  622.91   \n1240  0.029376 -47217.734298  0.099546   0.900454  844.75  69.39%  801.60   \n1241  0.023360 -37462.939861  0.083759   0.916241  665.93  63.28%  637.43   \n1264  0.026591 -42603.296313  0.023951   0.976049  722.16  57.31%  713.46   \n1394  0.022534 -36039.219592  0.017217   0.982783  589.46  50.53%  584.36   \n1468  0.038561 -63461.428887  0.019447   0.980553  512.74  48.40%  507.73   \n\n       cv_lr  quality_score  quality_score2  \n523   41.39%       0.067585        0.065273  \n756   56.47%       0.183271        0.212008  \n757   57.48%       0.203309        0.235380  \n758   56.41%       0.189035        0.217373  \n954   62.43%       0.808274        1.622289  \n999   43.55%       0.329089        0.226227  \n1113  61.41%       0.139028        0.600565  \n1114  58.99%       0.139174        0.568349  \n1238  60.57%       0.094886        0.621520  \n1239  56.85%       0.107053        1.281231  \n1240  65.85%       0.115886        0.776830  \n1241  60.57%       0.094885        0.621524  \n1264  56.62%       0.247282        0.985376  \n1394  50.09%       0.243441        5.190086  \n1468  47.93%       0.770807        1.554896  \n\n[15 rows x 53 columns]",
      "text/html": "<div>\n<style scoped>\n    .dataframe tbody tr th:only-of-type {\n        vertical-align: middle;\n    }\n\n    .dataframe tbody tr th {\n        vertical-align: top;\n    }\n\n    .dataframe thead th {\n        text-align: right;\n    }\n</style>\n<table border=\"1\" class=\"dataframe\">\n  <thead>\n    <tr style=\"text-align: right;\">\n      <th></th>\n      <th>symbol</th>\n      <th>side</th>\n      <th>strategy</th>\n      <th>source</th>\n      <th>source_name</th>\n      <th>source_side</th>\n      <th>adg</th>\n      <th>adg_per_exposure</th>\n      <th>adg_weighted</th>\n      <th>adg_weighted_per_exposure</th>\n      <th>...</th>\n      <th>slope</th>\n      <th>intercept</th>\n      <th>mse_norm</th>\n      <th>r_squared</th>\n      <th>sd</th>\n      <th>cv</th>\n      <th>sd_lr</th>\n      <th>cv_lr</th>\n      <th>quality_score</th>\n      <th>quality_score2</th>\n    </tr>\n  </thead>\n  <tbody>\n    <tr>\n      <th>523</th>\n      <td>SANDUSDT</td>\n      <td>short</td>\n      <td>recursive</td>\n      <td>https://github.com/JohnKearney1/PassivBot-Conf...</td>\n      <td>enarjord [JohnKearney]</td>\n      <td>https://github.com/JohnKearney1/PassivBot-Conf...</td>\n      <td>0.2192</td>\n      <td>0.2192</td>\n      <td>0.0401</td>\n      <td>0.0401</td>\n      <td>...</td>\n      <td>0.022847</td>\n      <td>-36438.419280</td>\n      <td>0.023207</td>\n      <td>0.976793</td>\n      <td>563.72</td>\n      <td>41.88%</td>\n      <td>557.14</td>\n      <td>41.39%</td>\n      <td>0.067585</td>\n      <td>0.065273</td>\n    </tr>\n    <tr>\n      <th>756</th>\n      <td>ATOMUSDT</td>\n      <td>short</td>\n      <td>clock</td>\n      <td>https://github.com/JohnKearney1/PassivBot-Conf...</td>\n      <td>enarjord [JohnKearney]</td>\n      <td>https://github.com/JohnKearney1/PassivBot-Conf...</td>\n      <td>0.2044</td>\n      <td>0.2044</td>\n      <td>0.0567</td>\n      <td>0.0567</td>\n      <td>...</td>\n      <td>0.024699</td>\n      <td>-39528.745186</td>\n      <td>0.012340</td>\n      <td>0.987660</td>\n      <td>678.15</td>\n      <td>56.82%</td>\n      <td>673.95</td>\n      <td>56.47%</td>\n      <td>0.183271</td>\n      <td>0.212008</td>\n    </tr>\n    <tr>\n      <th>757</th>\n      <td>ATOMUSDT</td>\n      <td>short</td>\n      <td>clock</td>\n      <td>https://github.com/JohnKearney1/PassivBot-Conf...</td>\n      <td>enarjord [JohnKearney]</td>\n      <td>https://github.com/JohnKearney1/PassivBot-Conf...</td>\n      <td>0.2094</td>\n      <td>0.2094</td>\n      <td>0.0631</td>\n      <td>0.0631</td>\n      <td>...</td>\n      <td>0.026107</td>\n      <td>-41805.022272</td>\n      <td>0.013396</td>\n      <td>0.986604</td>\n      <td>717.20</td>\n      <td>57.87%</td>\n      <td>712.38</td>\n      <td>57.48%</td>\n      <td>0.203309</td>\n      <td>0.235380</td>\n    </tr>\n    <tr>\n      <th>758</th>\n      <td>ATOMUSDT</td>\n      <td>short</td>\n      <td>clock</td>\n      <td>https://github.com/JohnKearney1/PassivBot-Conf...</td>\n      <td>enarjord [JohnKearney]</td>\n      <td>https://github.com/JohnKearney1/PassivBot-Conf...</td>\n      <td>0.2046</td>\n      <td>0.2046</td>\n      <td>0.0578</td>\n      <td>0.0578</td>\n      <td>...</td>\n      <td>0.024693</td>\n      <td>-39518.789831</td>\n      <td>0.012217</td>\n      <td>0.987783</td>\n      <td>677.96</td>\n      <td>56.76%</td>\n      <td>673.80</td>\n      <td>56.41%</td>\n      <td>0.189035</td>\n      <td>0.217373</td>\n    </tr>\n    <tr>\n      <th>954</th>\n      <td>ENSUSDT</td>\n      <td>short</td>\n      <td>clock</td>\n      <td>https://github.com/JohnKearney1/PassivBot-Conf...</td>\n      <td>enarjord [JohnKearney]</td>\n      <td>https://github.com/JohnKearney1/PassivBot-Conf...</td>\n      <td>0.3748</td>\n      <td>0.3748</td>\n      <td>0.2250</td>\n      <td>0.2250</td>\n      <td>...</td>\n      <td>0.049316</td>\n      <td>-80898.528918</td>\n      <td>0.039538</td>\n      <td>0.960462</td>\n      <td>839.54</td>\n      <td>63.70%</td>\n      <td>822.78</td>\n      <td>62.43%</td>\n      <td>0.808274</td>\n      <td>1.622289</td>\n    </tr>\n    <tr>\n      <th>999</th>\n      <td>GALUSDT</td>\n      <td>short</td>\n      <td>clock</td>\n      <td>https://github.com/JohnKearney1/PassivBot-Conf...</td>\n      <td>enarjord [JohnKearney]</td>\n      <td>https://github.com/JohnKearney1/PassivBot-Conf...</td>\n      <td>0.3191</td>\n      <td>0.3191</td>\n      <td>0.2320</td>\n      <td>0.2320</td>\n      <td>...</td>\n      <td>0.024413</td>\n      <td>-40149.079872</td>\n      <td>0.042095</td>\n      <td>0.957905</td>\n      <td>318.82</td>\n      <td>44.50%</td>\n      <td>312.04</td>\n      <td>43.55%</td>\n      <td>0.329089</td>\n      <td>0.226227</td>\n    </tr>\n    <tr>\n      <th>1113</th>\n      <td>LITUSDT</td>\n      <td>short</td>\n      <td>clock</td>\n      <td>https://github.com/JohnKearney1/PassivBot-Conf...</td>\n      <td>enarjord [JohnKearney]</td>\n      <td>https://github.com/JohnKearney1/PassivBot-Conf...</td>\n      <td>0.2442</td>\n      <td>0.2442</td>\n      <td>0.1672</td>\n      <td>0.1672</td>\n      <td>...</td>\n      <td>0.028173</td>\n      <td>-45530.980123</td>\n      <td>0.062079</td>\n      <td>0.937921</td>\n      <td>692.01</td>\n      <td>63.41%</td>\n      <td>670.19</td>\n      <td>61.41%</td>\n      <td>0.139028</td>\n      <td>0.600565</td>\n    </tr>\n    <tr>\n      <th>1114</th>\n      <td>LITUSDT</td>\n      <td>short</td>\n      <td>clock</td>\n      <td>https://github.com/JohnKearney1/PassivBot-Conf...</td>\n      <td>enarjord [JohnKearney]</td>\n      <td>https://github.com/JohnKearney1/PassivBot-Conf...</td>\n      <td>0.2346</td>\n      <td>0.2346</td>\n      <td>0.1793</td>\n      <td>0.1793</td>\n      <td>...</td>\n      <td>0.025014</td>\n      <td>-40384.702890</td>\n      <td>0.057035</td>\n      <td>0.942965</td>\n      <td>612.76</td>\n      <td>60.75%</td>\n      <td>595.02</td>\n      <td>58.99%</td>\n      <td>0.139174</td>\n      <td>0.568349</td>\n    </tr>\n    <tr>\n      <th>1238</th>\n      <td>RLCUSDT</td>\n      <td>short</td>\n      <td>clock</td>\n      <td>https://github.com/JohnKearney1/PassivBot-Conf...</td>\n      <td>enarjord [JohnKearney]</td>\n      <td>https://github.com/JohnKearney1/PassivBot-Conf...</td>\n      <td>0.2176</td>\n      <td>0.2176</td>\n      <td>0.2133</td>\n      <td>0.2133</td>\n      <td>...</td>\n      <td>0.023360</td>\n      <td>-37462.681170</td>\n      <td>0.083756</td>\n      <td>0.916244</td>\n      <td>665.92</td>\n      <td>63.28%</td>\n      <td>637.42</td>\n      <td>60.57%</td>\n      <td>0.094886</td>\n      <td>0.621520</td>\n    </tr>\n    <tr>\n      <th>1239</th>\n      <td>RLCUSDT</td>\n      <td>short</td>\n      <td>clock</td>\n      <td>https://github.com/JohnKearney1/PassivBot-Conf...</td>\n      <td>enarjord [JohnKearney]</td>\n      <td>https://github.com/JohnKearney1/PassivBot-Conf...</td>\n      <td>0.2064</td>\n      <td>0.2064</td>\n      <td>0.1180</td>\n      <td>0.1180</td>\n      <td>...</td>\n      <td>0.022828</td>\n      <td>-36542.407030</td>\n      <td>0.039904</td>\n      <td>0.960096</td>\n      <td>635.72</td>\n      <td>58.02%</td>\n      <td>622.91</td>\n      <td>56.85%</td>\n      <td>0.107053</td>\n      <td>1.281231</td>\n    </tr>\n    <tr>\n      <th>1240</th>\n      <td>RLCUSDT</td>\n      <td>short</td>\n      <td>clock</td>\n      <td>https://github.com/JohnKearney1/PassivBot-Conf...</td>\n      <td>enarjord [JohnKearney]</td>\n      <td>https://github.com/JohnKearney1/PassivBot-Conf...</td>\n      <td>0.2375</td>\n      <td>0.2375</td>\n      <td>0.2295</td>\n      <td>0.2295</td>\n      <td>...</td>\n      <td>0.029376</td>\n      <td>-47217.734298</td>\n      <td>0.099546</td>\n      <td>0.900454</td>\n      <td>844.75</td>\n      <td>69.39%</td>\n      <td>801.60</td>\n      <td>65.85%</td>\n      <td>0.115886</td>\n      <td>0.776830</td>\n    </tr>\n    <tr>\n      <th>1241</th>\n      <td>RLCUSDT</td>\n      <td>short</td>\n      <td>clock</td>\n      <td>https://github.com/JohnKearney1/PassivBot-Conf...</td>\n      <td>enarjord [JohnKearney]</td>\n      <td>https://github.com/JohnKearney1/PassivBot-Conf...</td>\n      <td>0.2176</td>\n      <td>0.2176</td>\n      <td>0.2133</td>\n      <td>0.2133</td>\n      <td>...</td>\n      <td>0.023360</td>\n      <td>-37462.939861</td>\n      <td>0.083759</td>\n      <td>0.916241</td>\n      <td>665.93</td>\n      <td>63.28%</td>\n      <td>637.43</td>\n      <td>60.57%</td>\n      <td>0.094885</td>\n      <td>0.621524</td>\n    </tr>\n    <tr>\n      <th>1264</th>\n      <td>RSRUSDT</td>\n      <td>short</td>\n      <td>clock</td>\n      <td>https://github.com/JohnKearney1/PassivBot-Conf...</td>\n      <td>enarjord [JohnKearney]</td>\n      <td>https://github.com/JohnKearney1/PassivBot-Conf...</td>\n      <td>0.2205</td>\n      <td>0.2205</td>\n      <td>0.1294</td>\n      <td>0.1294</td>\n      <td>...</td>\n      <td>0.026591</td>\n      <td>-42603.296313</td>\n      <td>0.023951</td>\n      <td>0.976049</td>\n      <td>722.16</td>\n      <td>57.31%</td>\n      <td>713.46</td>\n      <td>56.62%</td>\n      <td>0.247282</td>\n      <td>0.985376</td>\n    </tr>\n    <tr>\n      <th>1394</th>\n      <td>ZENUSDT</td>\n      <td>short</td>\n      <td>clock</td>\n      <td>https://github.com/JohnKearney1/PassivBot-Conf...</td>\n      <td>enarjord [JohnKearney]</td>\n      <td>https://github.com/JohnKearney1/PassivBot-Conf...</td>\n      <td>0.2146</td>\n      <td>0.2146</td>\n      <td>0.1102</td>\n      <td>0.1102</td>\n      <td>...</td>\n      <td>0.022534</td>\n      <td>-36039.219592</td>\n      <td>0.017217</td>\n      <td>0.982783</td>\n      <td>589.46</td>\n      <td>50.53%</td>\n      <td>584.36</td>\n      <td>50.09%</td>\n      <td>0.243441</td>\n      <td>5.190086</td>\n    </tr>\n    <tr>\n      <th>1468</th>\n      <td>JASMYUSDT</td>\n      <td>short</td>\n      <td>neat</td>\n      <td>https://github.com/JohnKearney1/PassivBot-Conf...</td>\n      <td>enarjord [JohnKearney]</td>\n      <td>https://github.com/JohnKearney1/PassivBot-Conf...</td>\n      <td>0.3835</td>\n      <td>0.3835</td>\n      <td>0.1292</td>\n      <td>0.1292</td>\n      <td>...</td>\n      <td>0.038561</td>\n      <td>-63461.428887</td>\n      <td>0.019447</td>\n      <td>0.980553</td>\n      <td>512.74</td>\n      <td>48.40%</td>\n      <td>507.73</td>\n      <td>47.93%</td>\n      <td>0.770807</td>\n      <td>1.554896</td>\n    </tr>\n  </tbody>\n</table>\n<p>15 rows × 53 columns</p>\n</div>"
     },
     "metadata": {},
     "output_type": "display_data"
    }
   ],
   "source": [
    "# create result_analysis_long by dropping all columns which has side = short\n",
    "result_analysis_long = result_analysis[result_analysis['side'] == 'long']\n",
    "# create result_analysis_short by dropping all columns which has side = long\n",
    "result_analysis_short = result_analysis[result_analysis['side'] == 'short']\n",
    "\n",
    "starting_balance = 250\n",
    "\n",
    "result_analysis_long = result_analysis_long[\n",
    "    (result_analysis_long['adg_weighted'] > 0) &\n",
    "    (result_analysis_long['adg_weighted_per_exposure'] > 0) &\n",
    "    (result_analysis_long['final_equity'] > starting_balance) &\n",
    "    (result_analysis_long['eqbal_ratio_min'] > 0.8) &\n",
    "    (result_analysis_long['eqbal_ratio_mean_of_10_worst'] > 0.8)\n",
    "    ]\n",
    "\n",
    "# do the same for result_analysis_short\n",
    "\n",
    "result_analysis_short = result_analysis_short[\n",
    "    (result_analysis_short['adg_weighted'] > 0) &\n",
    "    (result_analysis_short['adg_weighted_per_exposure'] > 0) &\n",
    "    (result_analysis_short['final_equity'] > starting_balance) &\n",
    "    (result_analysis_short['eqbal_ratio_min'] > 0.8) &\n",
    "    (result_analysis_short['eqbal_ratio_mean_of_10_worst'] > 0.8)\n",
    "    ]\n",
    "\n",
    "display(result_analysis_long, result_analysis_short)"
   ],
   "metadata": {
    "collapsed": false,
    "ExecuteTime": {
     "end_time": "2023-10-12T13:52:24.362908400Z",
     "start_time": "2023-10-12T13:52:24.201388400Z"
    }
   }
  },
  {
   "cell_type": "code",
   "execution_count": 5,
   "outputs": [
    {
     "name": "stdout",
     "output_type": "stream",
     "text": [
      "total number of long backtests :  90\n",
      "total number of short backtests :  15\n"
     ]
    }
   ],
   "source": [
    "# total number of long and short backtests\n",
    "print('total number of long backtests : ', len(result_analysis_long))\n",
    "print('total number of short backtests : ', len(result_analysis_short))\n"
   ],
   "metadata": {
    "collapsed": false,
    "ExecuteTime": {
     "end_time": "2023-10-12T13:52:24.373909500Z",
     "start_time": "2023-10-12T13:52:24.275908500Z"
    }
   }
  },
  {
   "cell_type": "code",
   "execution_count": 6,
   "outputs": [],
   "source": [
    "# download files from result_analysis_long['source'] and name it to be result_analysis_long['symbol'] + index + .json and put it in downloaded_configs/scud/longs folder\n",
    "\n",
    "import requests\n",
    "import os\n",
    "import json\n",
    "\n",
    "# loop through result_analysis_long and download the file\n",
    "for index, row in result_analysis_long.iterrows():\n",
    "    url = row['source']\n",
    "    symbol = row['symbol']\n",
    "    file_name = symbol + str(index) + '.json'\n",
    "    file_path = ROOT_PATH + '/downloaded_configs/scud/longs/' + file_name\n",
    "    if os.path.exists(file_path) or 'localhost' in url:\n",
    "        continue\n",
    "    # replace github.com with raw.githubusercontent.com and replace blob with empty string\n",
    "    url = url.replace('github.com', 'raw.githubusercontent.com').replace('blob/', '').replace('tree/', '')\n",
    "    print('downloading {} to {}'.format(url, file_path))\n",
    "    r = requests.get(url, allow_redirects=True)\n",
    "    print('downloading {} to {}'.format(url, file_path))\n",
    "    r = requests.get(url, allow_redirects=True)\n",
    "    open(file_path, 'wb').write(r.content)\n",
    "    print('downloaded {} to {}'.format(url, file_path))\n"
   ],
   "metadata": {
    "collapsed": false,
    "ExecuteTime": {
     "end_time": "2023-10-12T13:52:24.642908500Z",
     "start_time": "2023-10-12T13:52:24.325907600Z"
    }
   }
  },
  {
   "cell_type": "code",
   "execution_count": 7,
   "outputs": [],
   "source": [
    "# download files from result_analysis_short['source'] and name it to be result_analysis_short['symbol'] + index + .json and put it in downloaded_configs/scud/shorts folder\n",
    "\n",
    "for index, row in result_analysis_short.iterrows():\n",
    "    url = row['source']\n",
    "    symbol = row['symbol']\n",
    "    file_name = symbol + str(index) + '.json'\n",
    "    file_path = ROOT_PATH + '/downloaded_configs/scud/shorts/' + file_name\n",
    "    if os.path.exists(file_path) or 'localhost' in url:\n",
    "        continue\n",
    "    # replace github.com with raw.githubusercontent.com and replace blob with empty string\n",
    "    url = url.replace('github.com', 'raw.githubusercontent.com').replace('blob/', '').replace('tree/', '')\n",
    "    print('downloading {} to {}'.format(url, file_path))\n",
    "    r = requests.get(url, allow_redirects=True)\n",
    "    open(file_path, 'wb').write(r.content)\n",
    "    print('downloaded {} to {}'.format(url, file_path))"
   ],
   "metadata": {
    "collapsed": false,
    "ExecuteTime": {
     "end_time": "2023-10-12T13:52:24.646907600Z",
     "start_time": "2023-10-12T13:52:24.510908800Z"
    }
   }
  },
  {
   "cell_type": "code",
   "execution_count": 8,
   "outputs": [
    {
     "data": {
      "text/plain": "['RSRUSDT',\n 'RNDRUSDT',\n 'HBARUSDT',\n 'CRVUSDT',\n 'DYDXUSDT',\n 'XRPUSDT',\n 'GALAUSDT',\n 'ATOMUSDT',\n 'MATICUSDT',\n 'OPUSDT',\n 'NEARUSDT',\n 'XLMUSDT',\n 'DOGEUSDT']"
     },
     "metadata": {},
     "output_type": "display_data"
    },
    {
     "data": {
      "text/plain": "['ATOMUSDT',\n 'JASMYUSDT',\n 'ZENUSDT',\n 'SANDUSDT',\n 'RLCUSDT',\n 'GALUSDT',\n 'ENSUSDT']"
     },
     "metadata": {},
     "output_type": "display_data"
    }
   ],
   "source": [
    "import hjson\n",
    "\n",
    "# parse configs/forager/forager.hjson \n",
    "with open(ROOT_PATH + '/configs/forager/forager.hjson', 'r') as f:\n",
    "    forager_config = hjson.load(f)\n",
    "\n",
    "# extract symbols from forager_config['live_configs_map_long'] which is an orderedDict type\n",
    "long_symbols_live = [k for k in forager_config['live_configs_map_long'].keys()]\n",
    "\n",
    "# find which one of the long_symbols_live is in result_analysis_long['symbol']\n",
    "long_symbols_live = [s for s in long_symbols_live if s in result_analysis_long['symbol'].values]\n",
    "\n",
    "# extract symbols from forager_config['live_configs_map_short'] which is an orderedDict type\n",
    "short_symbols_live = [k for k in forager_config['live_configs_map_short'].keys()]\n",
    "\n",
    "# find which one of the short_symbols_live is in result_analysis_short['symbol']\n",
    "short_symbols_live = [s for s in short_symbols_live if s in result_analysis_short['symbol'].values]\n",
    "\n",
    "display( long_symbols_live, short_symbols_live)"
   ],
   "metadata": {
    "collapsed": false,
    "ExecuteTime": {
     "end_time": "2023-10-12T13:52:24.695910900Z",
     "start_time": "2023-10-12T13:52:24.554908100Z"
    }
   }
  },
  {
   "cell_type": "code",
   "execution_count": 9,
   "outputs": [],
   "source": [
    "'''\n",
    "iterate all files in downloaded_configs/scud/longs folder and generate a command like this:\n",
    "python backtest.py -s {symbol} C:\\AgodaGit\\passivbot\\downloaded_configs\\scud\\longs\\{file_name_json} -le y -se n -lw 0.1222 -sw 0.06667 \n",
    "'''\n",
    "import glob\n",
    "import re\n",
    "\n",
    "\n",
    "commands = []\n",
    "# longs\n",
    "long_files = glob.glob(ROOT_PATH + '/downloaded_configs/scud/longs/*.json')\n",
    "# normalize json_files by replacing all \\\\ with /\n",
    "long_files = [f.replace('\\\\', '/') for f in long_files]\n",
    "# iterate over the long_files and generate the command\n",
    "for f in long_files:\n",
    "    file_name = os.path.basename(f)\n",
    "    symbol = file_name.replace('.json', '')\n",
    "    # replace numbers after USDT with empty string\n",
    "    symbol = re.sub(r'\\d+$', '', symbol)\n",
    "    command = 'python backtest.py -s {} -le y -se n -lw 0.1222 -sw 0.06667 {}'.format(symbol, f)\n",
    "    commands.append(command)\n",
    "\n",
    "# shorts\n",
    "short_files = glob.glob(ROOT_PATH + '/downloaded_configs/scud/shorts/*.json')\n",
    "# normalize json_files by replacing all \\\\ with /\n",
    "short_files = [f.replace('\\\\', '/') for f in short_files]\n",
    "# iterate over the short_files and generate the command\n",
    "for f in short_files:\n",
    "    file_name = os.path.basename(f)\n",
    "    symbol = file_name.replace('.json', '')\n",
    "    # replace numbers after USDT with empty string\n",
    "    symbol = re.sub(r'\\d+$', '', symbol)\n",
    "    command = 'python backtest.py -s {} -le n -se y -lw 0.1222 -sw 0.06667 {}'.format(symbol, f)\n",
    "    commands.append(command)\n",
    "    \n",
    "# do the same for long_symbols_live and short_symbols_live , but add -bd backtests_live_config to the command and replace the file with C:\\AgodaGit\\passivbot\\configs\\live\\longs\\{symbol}.json\n",
    "for symbol in long_symbols_live:\n",
    "    f = ROOT_PATH + '/configs/live/longs/{}.json'.format(symbol)\n",
    "    command = 'python backtest.py -s {} -bd backtests_live_config -le y -se n -lw 0.1222 -sw 0.06667 {}'.format(symbol,f)\n",
    "    commands.append(command)\n",
    "\n",
    "for symbol in short_symbols_live:\n",
    "    f = ROOT_PATH + '/configs/live/shorts/{}.json'.format(symbol)\n",
    "    command = 'python backtest.py -s {} -bd backtests_live_config -le n -se y -lw 0.1222 -sw 0.06667 {}'.format(symbol, f)\n",
    "    commands.append(command)\n",
    "\n"
   ],
   "metadata": {
    "collapsed": false,
    "ExecuteTime": {
     "end_time": "2023-10-12T13:52:24.784665500Z",
     "start_time": "2023-10-12T13:52:24.616911600Z"
    }
   }
  },
  {
   "cell_type": "code",
   "execution_count": 10,
   "outputs": [
    {
     "name": "stdout",
     "output_type": "stream",
     "text": [
      "Commands are now written to files\n"
     ]
    }
   ],
   "source": [
    "# split commands array into 5 parts and write it into 5 different files at root folder, call them backtest_commands_scud_{index}.bat \n",
    "\n",
    "import math\n",
    "\n",
    "def chunks(lst, n):\n",
    "    \"\"\"Yield successive n-sized chunks from lst.\"\"\"\n",
    "    # https://stackoverflow.com/questions/312443/how-do-you-split-a-list-into-evenly-sized-chunks\n",
    "    for i in range(0, len(lst), n):\n",
    "        yield lst[i:i + n]\n",
    "\n",
    "commands_chunks = chunks(commands, math.ceil(len(commands) / 5))\n",
    "for index, commands_chunk in enumerate(commands_chunks):\n",
    "    with open(ROOT_PATH + '/backtest_commands_scud_{}.bat'.format(index), 'w') as f:\n",
    "        f.write('\\n'.join(commands_chunk))\n",
    "\n",
    "\n",
    "print('Commands are now written to files')"
   ],
   "metadata": {
    "collapsed": false,
    "ExecuteTime": {
     "end_time": "2023-10-12T13:52:24.801667400Z",
     "start_time": "2023-10-12T13:52:24.677908100Z"
    }
   }
  },
  {
   "cell_type": "code",
   "execution_count": 13,
   "outputs": [
    {
     "data": {
      "text/plain": "       Symbol  Passivbot mode  ADG n subdivisions  No. days  Starting balance  \\\n1     ADAUSDT  recursive_grid                10.0     130.0            1000.0   \n5    ALGOUSDT       neat_grid                10.0     130.0            1000.0   \n6    ALGOUSDT  recursive_grid                10.0     130.0            1000.0   \n7    ALGOUSDT           clock                10.0     130.0            1000.0   \n14   ATOMUSDT           clock                10.0     130.0            1000.0   \n..        ...             ...                 ...       ...               ...   \n235   RSRUSDT           clock                10.0     130.0            1000.0   \n237  SANDUSDT           clock                10.0     130.0            1000.0   \n239   XLMUSDT           clock                10.0     130.0            1000.0   \n241   XRPUSDT           clock                10.0     130.0            1000.0   \n243   ZENUSDT           clock                10.0     130.0            1000.0   \n\n    (L)Long  (L)ADG per exposure  (L)ADG weighted per exposure  \\\n1      True              0.04690                       0.02380   \n5      True             -0.12200                       0.03780   \n6      True             -0.04100                       0.09090   \n7      True              0.02910                      -0.00118   \n14     True              0.02420                      -0.13600   \n..      ...                  ...                           ...   \n235    True              0.00577                       0.03040   \n237     NaN                  NaN                           NaN   \n239    True              0.00417                      -0.08730   \n241    True              0.09480                       0.05010   \n243     NaN                  NaN                           NaN   \n\n     (L)Final balance  (L)Final equity  ...  (S)No. unstuck/EMA closes  \\\n1            1007.420         1007.400  ...                        NaN   \n5             980.989          980.393  ...                        NaN   \n6             993.552          993.518  ...                        NaN   \n7            1004.600         1004.600  ...                        NaN   \n14           1003.820         1004.010  ...                        NaN   \n..                ...              ...  ...                        ...   \n235          1000.910         1000.910  ...                        NaN   \n237               NaN              NaN  ...                      155.0   \n239          1000.660          997.814  ...                        NaN   \n241          1015.060         1015.060  ...                        NaN   \n243               NaN              NaN  ...                      150.0   \n\n     (S)No. normal closes  (S)Average n fills per day  (S)Mean hours stuck  \\\n1                     NaN                         NaN                  NaN   \n5                     NaN                         NaN                  NaN   \n6                     NaN                         NaN                  NaN   \n7                     NaN                         NaN                  NaN   \n14                    NaN                         NaN                  NaN   \n..                    ...                         ...                  ...   \n235                   NaN                         NaN                  NaN   \n237                 621.0                       10.50              2.26980   \n239                   NaN                         NaN                  NaN   \n241                   NaN                         NaN                  NaN   \n243                  45.0                        3.77              6.38189   \n\n     (S)Max hours stuck  (S)PNL sum  (S)Profit sum  (S)Loss sum  (S)Fee sum  \\\n1                   NaN         NaN            NaN          NaN         NaN   \n5                   NaN         NaN            NaN          NaN         NaN   \n6                   NaN         NaN            NaN          NaN         NaN   \n7                   NaN         NaN            NaN          NaN         NaN   \n14                  NaN         NaN            NaN          NaN         NaN   \n..                  ...         ...            ...          ...         ...   \n235                 NaN         NaN            NaN          NaN         NaN   \n237             41.4500      19.400          27.26       -7.862     -1.7630   \n239                 NaN         NaN            NaN          NaN         NaN   \n241                 NaN         NaN            NaN          NaN         NaN   \n243             44.8333       9.456          16.49       -7.031     -0.6243   \n\n     (S)Volume quote  \n1                NaN  \n5                NaN  \n6                NaN  \n7                NaN  \n14               NaN  \n..               ...  \n235              NaN  \n237         31300.70  \n239              NaN  \n241              NaN  \n243          9671.78  \n\n[122 rows x 79 columns]",
      "text/html": "<div>\n<style scoped>\n    .dataframe tbody tr th:only-of-type {\n        vertical-align: middle;\n    }\n\n    .dataframe tbody tr th {\n        vertical-align: top;\n    }\n\n    .dataframe thead th {\n        text-align: right;\n    }\n</style>\n<table border=\"1\" class=\"dataframe\">\n  <thead>\n    <tr style=\"text-align: right;\">\n      <th></th>\n      <th>Symbol</th>\n      <th>Passivbot mode</th>\n      <th>ADG n subdivisions</th>\n      <th>No. days</th>\n      <th>Starting balance</th>\n      <th>(L)Long</th>\n      <th>(L)ADG per exposure</th>\n      <th>(L)ADG weighted per exposure</th>\n      <th>(L)Final balance</th>\n      <th>(L)Final equity</th>\n      <th>...</th>\n      <th>(S)No. unstuck/EMA closes</th>\n      <th>(S)No. normal closes</th>\n      <th>(S)Average n fills per day</th>\n      <th>(S)Mean hours stuck</th>\n      <th>(S)Max hours stuck</th>\n      <th>(S)PNL sum</th>\n      <th>(S)Profit sum</th>\n      <th>(S)Loss sum</th>\n      <th>(S)Fee sum</th>\n      <th>(S)Volume quote</th>\n    </tr>\n  </thead>\n  <tbody>\n    <tr>\n      <th>1</th>\n      <td>ADAUSDT</td>\n      <td>recursive_grid</td>\n      <td>10.0</td>\n      <td>130.0</td>\n      <td>1000.0</td>\n      <td>True</td>\n      <td>0.04690</td>\n      <td>0.02380</td>\n      <td>1007.420</td>\n      <td>1007.400</td>\n      <td>...</td>\n      <td>NaN</td>\n      <td>NaN</td>\n      <td>NaN</td>\n      <td>NaN</td>\n      <td>NaN</td>\n      <td>NaN</td>\n      <td>NaN</td>\n      <td>NaN</td>\n      <td>NaN</td>\n      <td>NaN</td>\n    </tr>\n    <tr>\n      <th>5</th>\n      <td>ALGOUSDT</td>\n      <td>neat_grid</td>\n      <td>10.0</td>\n      <td>130.0</td>\n      <td>1000.0</td>\n      <td>True</td>\n      <td>-0.12200</td>\n      <td>0.03780</td>\n      <td>980.989</td>\n      <td>980.393</td>\n      <td>...</td>\n      <td>NaN</td>\n      <td>NaN</td>\n      <td>NaN</td>\n      <td>NaN</td>\n      <td>NaN</td>\n      <td>NaN</td>\n      <td>NaN</td>\n      <td>NaN</td>\n      <td>NaN</td>\n      <td>NaN</td>\n    </tr>\n    <tr>\n      <th>6</th>\n      <td>ALGOUSDT</td>\n      <td>recursive_grid</td>\n      <td>10.0</td>\n      <td>130.0</td>\n      <td>1000.0</td>\n      <td>True</td>\n      <td>-0.04100</td>\n      <td>0.09090</td>\n      <td>993.552</td>\n      <td>993.518</td>\n      <td>...</td>\n      <td>NaN</td>\n      <td>NaN</td>\n      <td>NaN</td>\n      <td>NaN</td>\n      <td>NaN</td>\n      <td>NaN</td>\n      <td>NaN</td>\n      <td>NaN</td>\n      <td>NaN</td>\n      <td>NaN</td>\n    </tr>\n    <tr>\n      <th>7</th>\n      <td>ALGOUSDT</td>\n      <td>clock</td>\n      <td>10.0</td>\n      <td>130.0</td>\n      <td>1000.0</td>\n      <td>True</td>\n      <td>0.02910</td>\n      <td>-0.00118</td>\n      <td>1004.600</td>\n      <td>1004.600</td>\n      <td>...</td>\n      <td>NaN</td>\n      <td>NaN</td>\n      <td>NaN</td>\n      <td>NaN</td>\n      <td>NaN</td>\n      <td>NaN</td>\n      <td>NaN</td>\n      <td>NaN</td>\n      <td>NaN</td>\n      <td>NaN</td>\n    </tr>\n    <tr>\n      <th>14</th>\n      <td>ATOMUSDT</td>\n      <td>clock</td>\n      <td>10.0</td>\n      <td>130.0</td>\n      <td>1000.0</td>\n      <td>True</td>\n      <td>0.02420</td>\n      <td>-0.13600</td>\n      <td>1003.820</td>\n      <td>1004.010</td>\n      <td>...</td>\n      <td>NaN</td>\n      <td>NaN</td>\n      <td>NaN</td>\n      <td>NaN</td>\n      <td>NaN</td>\n      <td>NaN</td>\n      <td>NaN</td>\n      <td>NaN</td>\n      <td>NaN</td>\n      <td>NaN</td>\n    </tr>\n    <tr>\n      <th>...</th>\n      <td>...</td>\n      <td>...</td>\n      <td>...</td>\n      <td>...</td>\n      <td>...</td>\n      <td>...</td>\n      <td>...</td>\n      <td>...</td>\n      <td>...</td>\n      <td>...</td>\n      <td>...</td>\n      <td>...</td>\n      <td>...</td>\n      <td>...</td>\n      <td>...</td>\n      <td>...</td>\n      <td>...</td>\n      <td>...</td>\n      <td>...</td>\n      <td>...</td>\n      <td>...</td>\n    </tr>\n    <tr>\n      <th>235</th>\n      <td>RSRUSDT</td>\n      <td>clock</td>\n      <td>10.0</td>\n      <td>130.0</td>\n      <td>1000.0</td>\n      <td>True</td>\n      <td>0.00577</td>\n      <td>0.03040</td>\n      <td>1000.910</td>\n      <td>1000.910</td>\n      <td>...</td>\n      <td>NaN</td>\n      <td>NaN</td>\n      <td>NaN</td>\n      <td>NaN</td>\n      <td>NaN</td>\n      <td>NaN</td>\n      <td>NaN</td>\n      <td>NaN</td>\n      <td>NaN</td>\n      <td>NaN</td>\n    </tr>\n    <tr>\n      <th>237</th>\n      <td>SANDUSDT</td>\n      <td>clock</td>\n      <td>10.0</td>\n      <td>130.0</td>\n      <td>1000.0</td>\n      <td>NaN</td>\n      <td>NaN</td>\n      <td>NaN</td>\n      <td>NaN</td>\n      <td>NaN</td>\n      <td>...</td>\n      <td>155.0</td>\n      <td>621.0</td>\n      <td>10.50</td>\n      <td>2.26980</td>\n      <td>41.4500</td>\n      <td>19.400</td>\n      <td>27.26</td>\n      <td>-7.862</td>\n      <td>-1.7630</td>\n      <td>31300.70</td>\n    </tr>\n    <tr>\n      <th>239</th>\n      <td>XLMUSDT</td>\n      <td>clock</td>\n      <td>10.0</td>\n      <td>130.0</td>\n      <td>1000.0</td>\n      <td>True</td>\n      <td>0.00417</td>\n      <td>-0.08730</td>\n      <td>1000.660</td>\n      <td>997.814</td>\n      <td>...</td>\n      <td>NaN</td>\n      <td>NaN</td>\n      <td>NaN</td>\n      <td>NaN</td>\n      <td>NaN</td>\n      <td>NaN</td>\n      <td>NaN</td>\n      <td>NaN</td>\n      <td>NaN</td>\n      <td>NaN</td>\n    </tr>\n    <tr>\n      <th>241</th>\n      <td>XRPUSDT</td>\n      <td>clock</td>\n      <td>10.0</td>\n      <td>130.0</td>\n      <td>1000.0</td>\n      <td>True</td>\n      <td>0.09480</td>\n      <td>0.05010</td>\n      <td>1015.060</td>\n      <td>1015.060</td>\n      <td>...</td>\n      <td>NaN</td>\n      <td>NaN</td>\n      <td>NaN</td>\n      <td>NaN</td>\n      <td>NaN</td>\n      <td>NaN</td>\n      <td>NaN</td>\n      <td>NaN</td>\n      <td>NaN</td>\n      <td>NaN</td>\n    </tr>\n    <tr>\n      <th>243</th>\n      <td>ZENUSDT</td>\n      <td>clock</td>\n      <td>10.0</td>\n      <td>130.0</td>\n      <td>1000.0</td>\n      <td>NaN</td>\n      <td>NaN</td>\n      <td>NaN</td>\n      <td>NaN</td>\n      <td>NaN</td>\n      <td>...</td>\n      <td>150.0</td>\n      <td>45.0</td>\n      <td>3.77</td>\n      <td>6.38189</td>\n      <td>44.8333</td>\n      <td>9.456</td>\n      <td>16.49</td>\n      <td>-7.031</td>\n      <td>-0.6243</td>\n      <td>9671.78</td>\n    </tr>\n  </tbody>\n</table>\n<p>122 rows × 79 columns</p>\n</div>"
     },
     "execution_count": 13,
     "metadata": {},
     "output_type": "execute_result"
    }
   ],
   "source": [
    "# iterate over the backtest configuration , find result.txt file and parse it and add it to a dataframe\n",
    "\n",
    "import pandas as pd\n",
    "import re\n",
    "import glob\n",
    "import os \n",
    "'''\n",
    "Result file looks like this:\n",
    "    +------------------------------------------+\n",
    "    |                 Summary                  |\n",
    "    +-----------------------------+------------+\n",
    "    | Metric                      | Value      |\n",
    "    +-----------------------------+------------+\n",
    "    | Exchange                    | bybit      |\n",
    "    | Market type                 | futures    |\n",
    "    | Symbol                      | ADAUSDT    |\n",
    "    | Passivbot mode              | emas       |\n",
    "    | No. days                    | 1100.0     |\n",
    "    +-----------------------------+------------+\n",
    "Write a parser function which takes in the path to result.txt file, reads it and then split the Metric and Value columns and put them in a dictionary and return it\n",
    "'''\n",
    "def parse_result_file(result_file):\n",
    "    with open(result_file, 'r') as file:\n",
    "\n",
    "        pattern = r'/v(\\d+\\.\\d+(?:\\.\\w+)?)/'\n",
    "        match = re.search(pattern, result_file)\n",
    "        if match:\n",
    "            version = match.group(1)\n",
    "        else:\n",
    "            version = None\n",
    "\n",
    "\n",
    "        data = file.read().split('\\n')\n",
    "        d = {'version':version}\n",
    "        current_state = None\n",
    "        for l in data:\n",
    "            l = l.split('|')\n",
    "            if len(l) == 4:\n",
    "                key = l[1].strip()\n",
    "                value = l[2].strip()\n",
    "                # dont add if key is empty string\n",
    "                if key == '':\n",
    "                    continue\n",
    "\n",
    "                if key == 'Long':\n",
    "                    current_state = 'L'\n",
    "                if key == 'Short':\n",
    "                    current_state = 'S'\n",
    "\n",
    "                # check if value can be converted to float and if so, convert it\n",
    "                try:\n",
    "                    value = value.replace('%', '').strip()\n",
    "                    value = float(value)\n",
    "                except:\n",
    "                    pass\n",
    "\n",
    "                # if current_state is not None, then add it to key with a prefix of (L) or (S)\n",
    "                if current_state is not None:\n",
    "                    key = f'({current_state}){key}'\n",
    "                d[key] = value\n",
    "    return d\n",
    "\n",
    "\n",
    "BACKTESTS_PATH = ROOT_PATH + '/backtests/binance'\n",
    "BACKTESTS_LIVE_PATH = ROOT_PATH + '/backtests_live_config/binance'\n",
    "# backtest configurations\n",
    "backtest_configurations = glob.glob(BACKTESTS_PATH + '/**/live_config.json', recursive=True)\n",
    "# do the same with BACKTESTS_LIVE_PATH and append it to backtest_configurations\n",
    "backtest_configurations += glob.glob(BACKTESTS_LIVE_PATH + '/**/live_config.json', recursive=True)\n",
    "# normalize json_files by replacing all \\\\ with /\n",
    "backtest_configurations = [f.replace('\\\\', '/') for f in backtest_configurations]\n",
    "\n",
    "\n",
    "result_analysis = pd.DataFrame()\n",
    "for backtest_config in backtest_configurations:\n",
    "    result_file = os.path.dirname(backtest_config) + '/backtest_result.txt'\n",
    "    if not os.path.exists(result_file):\n",
    "        continue\n",
    "    #print('result_file file : ', result_file )\n",
    "    result = parse_result_file(result_file)\n",
    "    result['file'] = backtest_config\n",
    "    if 'live_config' in result_file:\n",
    "        result['live'] = True\n",
    "    else:\n",
    "        result['live'] = False\n",
    "    # convert result to a pandas dataframe and append it to result_analysis dataframe\n",
    "    result = pd.DataFrame(result, index=[0])\n",
    "    result_analysis = pd.concat([result_analysis, result], ignore_index=True)\n",
    "\n",
    "result_analysis = result_analysis.drop(['version', 'Metric', 'Exchange', 'Market type'], axis=1)\n",
    "\n",
    "# drop columns where starting balance is 250 \n",
    "result_analysis = result_analysis[result_analysis['Starting balance'] != 250]\n",
    "\n",
    "result_analysis\n",
    "\n"
   ],
   "metadata": {
    "collapsed": false,
    "ExecuteTime": {
     "end_time": "2023-10-12T13:53:19.986209900Z",
     "start_time": "2023-10-12T13:53:18.951618100Z"
    }
   }
  },
  {
   "cell_type": "code",
   "execution_count": 23,
   "outputs": [
    {
     "name": "stderr",
     "output_type": "stream",
     "text": [
      "C:\\Users\\skhan\\AppData\\Local\\Temp\\ipykernel_11920\\3298460308.py:76: FutureWarning: The default value of regex will change from True to False in a future version.\n",
      "  result_analysis_long.columns = result_analysis_long.columns.str.replace(r'\\(S\\)|\\(L\\)', '')\n",
      "C:\\Users\\skhan\\AppData\\Local\\Temp\\ipykernel_11920\\3298460308.py:77: FutureWarning: The default value of regex will change from True to False in a future version.\n",
      "  result_analysis_short.columns = result_analysis_short.columns.str.replace(r'\\(S\\)|\\(L\\)', '')\n"
     ]
    },
    {
     "data": {
      "text/plain": "       Symbol  Passivbot mode  ADG n subdivisions  No. days  Starting balance  \\\n1     ADAUSDT  recursive_grid                10.0     130.0            1000.0   \n5    ALGOUSDT       neat_grid                10.0     130.0            1000.0   \n6    ALGOUSDT  recursive_grid                10.0     130.0            1000.0   \n7    ALGOUSDT           clock                10.0     130.0            1000.0   \n14   ATOMUSDT           clock                10.0     130.0            1000.0   \n..        ...             ...                 ...       ...               ...   \n235   RSRUSDT           clock                10.0     130.0            1000.0   \n237  SANDUSDT           clock                10.0     130.0            1000.0   \n239   XLMUSDT           clock                10.0     130.0            1000.0   \n241   XRPUSDT           clock                10.0     130.0            1000.0   \n243   ZENUSDT           clock                10.0     130.0            1000.0   \n\n     Long  ADG per exposure  ADG weighted per exposure  Final balance  \\\n1    True           0.04690                    0.02380       1007.420   \n5    True          -0.12200                    0.03780        980.989   \n6    True          -0.04100                    0.09090        993.552   \n7    True           0.02910                   -0.00118       1004.600   \n14   True           0.02420                   -0.13600       1003.820   \n..    ...               ...                        ...            ...   \n235  True           0.00577                    0.03040       1000.910   \n237   NaN               NaN                        NaN            NaN   \n239  True           0.00417                   -0.08730       1000.660   \n241  True           0.09480                    0.05010       1015.060   \n243   NaN               NaN                        NaN            NaN   \n\n     Final equity  ...  Average n fills per day  Mean hours stuck  \\\n1        1007.400  ...                     1.95          12.30170   \n5         980.393  ...                    17.20           1.34109   \n6         993.518  ...                     4.69           5.08074   \n7        1004.600  ...                     3.77           6.26144   \n14       1004.010  ...                    12.00           2.00499   \n..            ...  ...                      ...               ...   \n235      1000.910  ...                     4.89           4.83360   \n237           NaN  ...                      NaN               NaN   \n239       997.814  ...                     3.33           7.20709   \n241      1015.060  ...                     8.19           2.90087   \n243           NaN  ...                      NaN               NaN   \n\n     Max hours stuck  PNL sum  Profit sum  Loss sum  Fee sum  Volume quote  \\\n1           803.8500    8.019       8.019     0.000  -0.6041       5082.56   \n5           184.3330  -16.550      21.330   -37.880  -2.4630     220372.00   \n6           111.9170   -5.553      25.610   -31.160  -0.8944      28773.50   \n7           143.7000    5.151       8.102    -2.951  -0.5548       3028.60   \n14           20.3833    6.341      28.510   -22.170  -2.5230      36302.70   \n..               ...      ...         ...       ...      ...           ...   \n235          75.8500    2.140      16.210   -14.070  -1.2300       4327.36   \n237              NaN      NaN         NaN       NaN      NaN           NaN   \n239          53.8167    1.381      21.430   -20.050  -0.7235      25260.40   \n241          80.6333   17.260      33.930   -16.670  -2.2050      18451.20   \n243              NaN      NaN         NaN       NaN      NaN           NaN   \n\n                                                  file   live  \n1    C:/AgodaGit/passivbot/backtests/binance/ADAUSD...  False  \n5    C:/AgodaGit/passivbot/backtests/binance/ALGOUS...  False  \n6    C:/AgodaGit/passivbot/backtests/binance/ALGOUS...  False  \n7    C:/AgodaGit/passivbot/backtests/binance/ALGOUS...  False  \n14   C:/AgodaGit/passivbot/backtests/binance/ATOMUS...  False  \n..                                                 ...    ...  \n235  C:/AgodaGit/passivbot/backtests_live_config/bi...   True  \n237  C:/AgodaGit/passivbot/backtests_live_config/bi...   True  \n239  C:/AgodaGit/passivbot/backtests_live_config/bi...   True  \n241  C:/AgodaGit/passivbot/backtests_live_config/bi...   True  \n243  C:/AgodaGit/passivbot/backtests_live_config/bi...   True  \n\n[122 rows x 43 columns]",
      "text/html": "<div>\n<style scoped>\n    .dataframe tbody tr th:only-of-type {\n        vertical-align: middle;\n    }\n\n    .dataframe tbody tr th {\n        vertical-align: top;\n    }\n\n    .dataframe thead th {\n        text-align: right;\n    }\n</style>\n<table border=\"1\" class=\"dataframe\">\n  <thead>\n    <tr style=\"text-align: right;\">\n      <th></th>\n      <th>Symbol</th>\n      <th>Passivbot mode</th>\n      <th>ADG n subdivisions</th>\n      <th>No. days</th>\n      <th>Starting balance</th>\n      <th>Long</th>\n      <th>ADG per exposure</th>\n      <th>ADG weighted per exposure</th>\n      <th>Final balance</th>\n      <th>Final equity</th>\n      <th>...</th>\n      <th>Average n fills per day</th>\n      <th>Mean hours stuck</th>\n      <th>Max hours stuck</th>\n      <th>PNL sum</th>\n      <th>Profit sum</th>\n      <th>Loss sum</th>\n      <th>Fee sum</th>\n      <th>Volume quote</th>\n      <th>file</th>\n      <th>live</th>\n    </tr>\n  </thead>\n  <tbody>\n    <tr>\n      <th>1</th>\n      <td>ADAUSDT</td>\n      <td>recursive_grid</td>\n      <td>10.0</td>\n      <td>130.0</td>\n      <td>1000.0</td>\n      <td>True</td>\n      <td>0.04690</td>\n      <td>0.02380</td>\n      <td>1007.420</td>\n      <td>1007.400</td>\n      <td>...</td>\n      <td>1.95</td>\n      <td>12.30170</td>\n      <td>803.8500</td>\n      <td>8.019</td>\n      <td>8.019</td>\n      <td>0.000</td>\n      <td>-0.6041</td>\n      <td>5082.56</td>\n      <td>C:/AgodaGit/passivbot/backtests/binance/ADAUSD...</td>\n      <td>False</td>\n    </tr>\n    <tr>\n      <th>5</th>\n      <td>ALGOUSDT</td>\n      <td>neat_grid</td>\n      <td>10.0</td>\n      <td>130.0</td>\n      <td>1000.0</td>\n      <td>True</td>\n      <td>-0.12200</td>\n      <td>0.03780</td>\n      <td>980.989</td>\n      <td>980.393</td>\n      <td>...</td>\n      <td>17.20</td>\n      <td>1.34109</td>\n      <td>184.3330</td>\n      <td>-16.550</td>\n      <td>21.330</td>\n      <td>-37.880</td>\n      <td>-2.4630</td>\n      <td>220372.00</td>\n      <td>C:/AgodaGit/passivbot/backtests/binance/ALGOUS...</td>\n      <td>False</td>\n    </tr>\n    <tr>\n      <th>6</th>\n      <td>ALGOUSDT</td>\n      <td>recursive_grid</td>\n      <td>10.0</td>\n      <td>130.0</td>\n      <td>1000.0</td>\n      <td>True</td>\n      <td>-0.04100</td>\n      <td>0.09090</td>\n      <td>993.552</td>\n      <td>993.518</td>\n      <td>...</td>\n      <td>4.69</td>\n      <td>5.08074</td>\n      <td>111.9170</td>\n      <td>-5.553</td>\n      <td>25.610</td>\n      <td>-31.160</td>\n      <td>-0.8944</td>\n      <td>28773.50</td>\n      <td>C:/AgodaGit/passivbot/backtests/binance/ALGOUS...</td>\n      <td>False</td>\n    </tr>\n    <tr>\n      <th>7</th>\n      <td>ALGOUSDT</td>\n      <td>clock</td>\n      <td>10.0</td>\n      <td>130.0</td>\n      <td>1000.0</td>\n      <td>True</td>\n      <td>0.02910</td>\n      <td>-0.00118</td>\n      <td>1004.600</td>\n      <td>1004.600</td>\n      <td>...</td>\n      <td>3.77</td>\n      <td>6.26144</td>\n      <td>143.7000</td>\n      <td>5.151</td>\n      <td>8.102</td>\n      <td>-2.951</td>\n      <td>-0.5548</td>\n      <td>3028.60</td>\n      <td>C:/AgodaGit/passivbot/backtests/binance/ALGOUS...</td>\n      <td>False</td>\n    </tr>\n    <tr>\n      <th>14</th>\n      <td>ATOMUSDT</td>\n      <td>clock</td>\n      <td>10.0</td>\n      <td>130.0</td>\n      <td>1000.0</td>\n      <td>True</td>\n      <td>0.02420</td>\n      <td>-0.13600</td>\n      <td>1003.820</td>\n      <td>1004.010</td>\n      <td>...</td>\n      <td>12.00</td>\n      <td>2.00499</td>\n      <td>20.3833</td>\n      <td>6.341</td>\n      <td>28.510</td>\n      <td>-22.170</td>\n      <td>-2.5230</td>\n      <td>36302.70</td>\n      <td>C:/AgodaGit/passivbot/backtests/binance/ATOMUS...</td>\n      <td>False</td>\n    </tr>\n    <tr>\n      <th>...</th>\n      <td>...</td>\n      <td>...</td>\n      <td>...</td>\n      <td>...</td>\n      <td>...</td>\n      <td>...</td>\n      <td>...</td>\n      <td>...</td>\n      <td>...</td>\n      <td>...</td>\n      <td>...</td>\n      <td>...</td>\n      <td>...</td>\n      <td>...</td>\n      <td>...</td>\n      <td>...</td>\n      <td>...</td>\n      <td>...</td>\n      <td>...</td>\n      <td>...</td>\n      <td>...</td>\n    </tr>\n    <tr>\n      <th>235</th>\n      <td>RSRUSDT</td>\n      <td>clock</td>\n      <td>10.0</td>\n      <td>130.0</td>\n      <td>1000.0</td>\n      <td>True</td>\n      <td>0.00577</td>\n      <td>0.03040</td>\n      <td>1000.910</td>\n      <td>1000.910</td>\n      <td>...</td>\n      <td>4.89</td>\n      <td>4.83360</td>\n      <td>75.8500</td>\n      <td>2.140</td>\n      <td>16.210</td>\n      <td>-14.070</td>\n      <td>-1.2300</td>\n      <td>4327.36</td>\n      <td>C:/AgodaGit/passivbot/backtests_live_config/bi...</td>\n      <td>True</td>\n    </tr>\n    <tr>\n      <th>237</th>\n      <td>SANDUSDT</td>\n      <td>clock</td>\n      <td>10.0</td>\n      <td>130.0</td>\n      <td>1000.0</td>\n      <td>NaN</td>\n      <td>NaN</td>\n      <td>NaN</td>\n      <td>NaN</td>\n      <td>NaN</td>\n      <td>...</td>\n      <td>NaN</td>\n      <td>NaN</td>\n      <td>NaN</td>\n      <td>NaN</td>\n      <td>NaN</td>\n      <td>NaN</td>\n      <td>NaN</td>\n      <td>NaN</td>\n      <td>C:/AgodaGit/passivbot/backtests_live_config/bi...</td>\n      <td>True</td>\n    </tr>\n    <tr>\n      <th>239</th>\n      <td>XLMUSDT</td>\n      <td>clock</td>\n      <td>10.0</td>\n      <td>130.0</td>\n      <td>1000.0</td>\n      <td>True</td>\n      <td>0.00417</td>\n      <td>-0.08730</td>\n      <td>1000.660</td>\n      <td>997.814</td>\n      <td>...</td>\n      <td>3.33</td>\n      <td>7.20709</td>\n      <td>53.8167</td>\n      <td>1.381</td>\n      <td>21.430</td>\n      <td>-20.050</td>\n      <td>-0.7235</td>\n      <td>25260.40</td>\n      <td>C:/AgodaGit/passivbot/backtests_live_config/bi...</td>\n      <td>True</td>\n    </tr>\n    <tr>\n      <th>241</th>\n      <td>XRPUSDT</td>\n      <td>clock</td>\n      <td>10.0</td>\n      <td>130.0</td>\n      <td>1000.0</td>\n      <td>True</td>\n      <td>0.09480</td>\n      <td>0.05010</td>\n      <td>1015.060</td>\n      <td>1015.060</td>\n      <td>...</td>\n      <td>8.19</td>\n      <td>2.90087</td>\n      <td>80.6333</td>\n      <td>17.260</td>\n      <td>33.930</td>\n      <td>-16.670</td>\n      <td>-2.2050</td>\n      <td>18451.20</td>\n      <td>C:/AgodaGit/passivbot/backtests_live_config/bi...</td>\n      <td>True</td>\n    </tr>\n    <tr>\n      <th>243</th>\n      <td>ZENUSDT</td>\n      <td>clock</td>\n      <td>10.0</td>\n      <td>130.0</td>\n      <td>1000.0</td>\n      <td>NaN</td>\n      <td>NaN</td>\n      <td>NaN</td>\n      <td>NaN</td>\n      <td>NaN</td>\n      <td>...</td>\n      <td>NaN</td>\n      <td>NaN</td>\n      <td>NaN</td>\n      <td>NaN</td>\n      <td>NaN</td>\n      <td>NaN</td>\n      <td>NaN</td>\n      <td>NaN</td>\n      <td>C:/AgodaGit/passivbot/backtests_live_config/bi...</td>\n      <td>True</td>\n    </tr>\n  </tbody>\n</table>\n<p>122 rows × 43 columns</p>\n</div>"
     },
     "metadata": {},
     "output_type": "display_data"
    },
    {
     "data": {
      "text/plain": "       Symbol  Passivbot mode  ADG n subdivisions  No. days  Starting balance  \\\n1     ADAUSDT  recursive_grid                10.0     130.0            1000.0   \n5    ALGOUSDT       neat_grid                10.0     130.0            1000.0   \n6    ALGOUSDT  recursive_grid                10.0     130.0            1000.0   \n7    ALGOUSDT           clock                10.0     130.0            1000.0   \n14   ATOMUSDT           clock                10.0     130.0            1000.0   \n..        ...             ...                 ...       ...               ...   \n235   RSRUSDT           clock                10.0     130.0            1000.0   \n237  SANDUSDT           clock                10.0     130.0            1000.0   \n239   XLMUSDT           clock                10.0     130.0            1000.0   \n241   XRPUSDT           clock                10.0     130.0            1000.0   \n243   ZENUSDT           clock                10.0     130.0            1000.0   \n\n                                                  file   live Short  \\\n1    C:/AgodaGit/passivbot/backtests/binance/ADAUSD...  False   NaN   \n5    C:/AgodaGit/passivbot/backtests/binance/ALGOUS...  False   NaN   \n6    C:/AgodaGit/passivbot/backtests/binance/ALGOUS...  False   NaN   \n7    C:/AgodaGit/passivbot/backtests/binance/ALGOUS...  False   NaN   \n14   C:/AgodaGit/passivbot/backtests/binance/ATOMUS...  False   NaN   \n..                                                 ...    ...   ...   \n235  C:/AgodaGit/passivbot/backtests_live_config/bi...   True   NaN   \n237  C:/AgodaGit/passivbot/backtests_live_config/bi...   True  True   \n239  C:/AgodaGit/passivbot/backtests_live_config/bi...   True   NaN   \n241  C:/AgodaGit/passivbot/backtests_live_config/bi...   True   NaN   \n243  C:/AgodaGit/passivbot/backtests_live_config/bi...   True  True   \n\n     ADG per exposure  ADG weighted per exposure  ...  No. unstuck/EMA closes  \\\n1                 NaN                        NaN  ...                     NaN   \n5                 NaN                        NaN  ...                     NaN   \n6                 NaN                        NaN  ...                     NaN   \n7                 NaN                        NaN  ...                     NaN   \n14                NaN                        NaN  ...                     NaN   \n..                ...                        ...  ...                     ...   \n235               NaN                        NaN  ...                     NaN   \n237             0.203                      0.191  ...                   155.0   \n239               NaN                        NaN  ...                     NaN   \n241               NaN                        NaN  ...                     NaN   \n243             0.102                      0.118  ...                   150.0   \n\n     No. normal closes  Average n fills per day  Mean hours stuck  \\\n1                  NaN                      NaN               NaN   \n5                  NaN                      NaN               NaN   \n6                  NaN                      NaN               NaN   \n7                  NaN                      NaN               NaN   \n14                 NaN                      NaN               NaN   \n..                 ...                      ...               ...   \n235                NaN                      NaN               NaN   \n237              621.0                    10.50           2.26980   \n239                NaN                      NaN               NaN   \n241                NaN                      NaN               NaN   \n243               45.0                     3.77           6.38189   \n\n     Max hours stuck  PNL sum  Profit sum  Loss sum  Fee sum  Volume quote  \n1                NaN      NaN         NaN       NaN      NaN           NaN  \n5                NaN      NaN         NaN       NaN      NaN           NaN  \n6                NaN      NaN         NaN       NaN      NaN           NaN  \n7                NaN      NaN         NaN       NaN      NaN           NaN  \n14               NaN      NaN         NaN       NaN      NaN           NaN  \n..               ...      ...         ...       ...      ...           ...  \n235              NaN      NaN         NaN       NaN      NaN           NaN  \n237          41.4500   19.400       27.26    -7.862  -1.7630      31300.70  \n239              NaN      NaN         NaN       NaN      NaN           NaN  \n241              NaN      NaN         NaN       NaN      NaN           NaN  \n243          44.8333    9.456       16.49    -7.031  -0.6243       9671.78  \n\n[122 rows x 43 columns]",
      "text/html": "<div>\n<style scoped>\n    .dataframe tbody tr th:only-of-type {\n        vertical-align: middle;\n    }\n\n    .dataframe tbody tr th {\n        vertical-align: top;\n    }\n\n    .dataframe thead th {\n        text-align: right;\n    }\n</style>\n<table border=\"1\" class=\"dataframe\">\n  <thead>\n    <tr style=\"text-align: right;\">\n      <th></th>\n      <th>Symbol</th>\n      <th>Passivbot mode</th>\n      <th>ADG n subdivisions</th>\n      <th>No. days</th>\n      <th>Starting balance</th>\n      <th>file</th>\n      <th>live</th>\n      <th>Short</th>\n      <th>ADG per exposure</th>\n      <th>ADG weighted per exposure</th>\n      <th>...</th>\n      <th>No. unstuck/EMA closes</th>\n      <th>No. normal closes</th>\n      <th>Average n fills per day</th>\n      <th>Mean hours stuck</th>\n      <th>Max hours stuck</th>\n      <th>PNL sum</th>\n      <th>Profit sum</th>\n      <th>Loss sum</th>\n      <th>Fee sum</th>\n      <th>Volume quote</th>\n    </tr>\n  </thead>\n  <tbody>\n    <tr>\n      <th>1</th>\n      <td>ADAUSDT</td>\n      <td>recursive_grid</td>\n      <td>10.0</td>\n      <td>130.0</td>\n      <td>1000.0</td>\n      <td>C:/AgodaGit/passivbot/backtests/binance/ADAUSD...</td>\n      <td>False</td>\n      <td>NaN</td>\n      <td>NaN</td>\n      <td>NaN</td>\n      <td>...</td>\n      <td>NaN</td>\n      <td>NaN</td>\n      <td>NaN</td>\n      <td>NaN</td>\n      <td>NaN</td>\n      <td>NaN</td>\n      <td>NaN</td>\n      <td>NaN</td>\n      <td>NaN</td>\n      <td>NaN</td>\n    </tr>\n    <tr>\n      <th>5</th>\n      <td>ALGOUSDT</td>\n      <td>neat_grid</td>\n      <td>10.0</td>\n      <td>130.0</td>\n      <td>1000.0</td>\n      <td>C:/AgodaGit/passivbot/backtests/binance/ALGOUS...</td>\n      <td>False</td>\n      <td>NaN</td>\n      <td>NaN</td>\n      <td>NaN</td>\n      <td>...</td>\n      <td>NaN</td>\n      <td>NaN</td>\n      <td>NaN</td>\n      <td>NaN</td>\n      <td>NaN</td>\n      <td>NaN</td>\n      <td>NaN</td>\n      <td>NaN</td>\n      <td>NaN</td>\n      <td>NaN</td>\n    </tr>\n    <tr>\n      <th>6</th>\n      <td>ALGOUSDT</td>\n      <td>recursive_grid</td>\n      <td>10.0</td>\n      <td>130.0</td>\n      <td>1000.0</td>\n      <td>C:/AgodaGit/passivbot/backtests/binance/ALGOUS...</td>\n      <td>False</td>\n      <td>NaN</td>\n      <td>NaN</td>\n      <td>NaN</td>\n      <td>...</td>\n      <td>NaN</td>\n      <td>NaN</td>\n      <td>NaN</td>\n      <td>NaN</td>\n      <td>NaN</td>\n      <td>NaN</td>\n      <td>NaN</td>\n      <td>NaN</td>\n      <td>NaN</td>\n      <td>NaN</td>\n    </tr>\n    <tr>\n      <th>7</th>\n      <td>ALGOUSDT</td>\n      <td>clock</td>\n      <td>10.0</td>\n      <td>130.0</td>\n      <td>1000.0</td>\n      <td>C:/AgodaGit/passivbot/backtests/binance/ALGOUS...</td>\n      <td>False</td>\n      <td>NaN</td>\n      <td>NaN</td>\n      <td>NaN</td>\n      <td>...</td>\n      <td>NaN</td>\n      <td>NaN</td>\n      <td>NaN</td>\n      <td>NaN</td>\n      <td>NaN</td>\n      <td>NaN</td>\n      <td>NaN</td>\n      <td>NaN</td>\n      <td>NaN</td>\n      <td>NaN</td>\n    </tr>\n    <tr>\n      <th>14</th>\n      <td>ATOMUSDT</td>\n      <td>clock</td>\n      <td>10.0</td>\n      <td>130.0</td>\n      <td>1000.0</td>\n      <td>C:/AgodaGit/passivbot/backtests/binance/ATOMUS...</td>\n      <td>False</td>\n      <td>NaN</td>\n      <td>NaN</td>\n      <td>NaN</td>\n      <td>...</td>\n      <td>NaN</td>\n      <td>NaN</td>\n      <td>NaN</td>\n      <td>NaN</td>\n      <td>NaN</td>\n      <td>NaN</td>\n      <td>NaN</td>\n      <td>NaN</td>\n      <td>NaN</td>\n      <td>NaN</td>\n    </tr>\n    <tr>\n      <th>...</th>\n      <td>...</td>\n      <td>...</td>\n      <td>...</td>\n      <td>...</td>\n      <td>...</td>\n      <td>...</td>\n      <td>...</td>\n      <td>...</td>\n      <td>...</td>\n      <td>...</td>\n      <td>...</td>\n      <td>...</td>\n      <td>...</td>\n      <td>...</td>\n      <td>...</td>\n      <td>...</td>\n      <td>...</td>\n      <td>...</td>\n      <td>...</td>\n      <td>...</td>\n      <td>...</td>\n    </tr>\n    <tr>\n      <th>235</th>\n      <td>RSRUSDT</td>\n      <td>clock</td>\n      <td>10.0</td>\n      <td>130.0</td>\n      <td>1000.0</td>\n      <td>C:/AgodaGit/passivbot/backtests_live_config/bi...</td>\n      <td>True</td>\n      <td>NaN</td>\n      <td>NaN</td>\n      <td>NaN</td>\n      <td>...</td>\n      <td>NaN</td>\n      <td>NaN</td>\n      <td>NaN</td>\n      <td>NaN</td>\n      <td>NaN</td>\n      <td>NaN</td>\n      <td>NaN</td>\n      <td>NaN</td>\n      <td>NaN</td>\n      <td>NaN</td>\n    </tr>\n    <tr>\n      <th>237</th>\n      <td>SANDUSDT</td>\n      <td>clock</td>\n      <td>10.0</td>\n      <td>130.0</td>\n      <td>1000.0</td>\n      <td>C:/AgodaGit/passivbot/backtests_live_config/bi...</td>\n      <td>True</td>\n      <td>True</td>\n      <td>0.203</td>\n      <td>0.191</td>\n      <td>...</td>\n      <td>155.0</td>\n      <td>621.0</td>\n      <td>10.50</td>\n      <td>2.26980</td>\n      <td>41.4500</td>\n      <td>19.400</td>\n      <td>27.26</td>\n      <td>-7.862</td>\n      <td>-1.7630</td>\n      <td>31300.70</td>\n    </tr>\n    <tr>\n      <th>239</th>\n      <td>XLMUSDT</td>\n      <td>clock</td>\n      <td>10.0</td>\n      <td>130.0</td>\n      <td>1000.0</td>\n      <td>C:/AgodaGit/passivbot/backtests_live_config/bi...</td>\n      <td>True</td>\n      <td>NaN</td>\n      <td>NaN</td>\n      <td>NaN</td>\n      <td>...</td>\n      <td>NaN</td>\n      <td>NaN</td>\n      <td>NaN</td>\n      <td>NaN</td>\n      <td>NaN</td>\n      <td>NaN</td>\n      <td>NaN</td>\n      <td>NaN</td>\n      <td>NaN</td>\n      <td>NaN</td>\n    </tr>\n    <tr>\n      <th>241</th>\n      <td>XRPUSDT</td>\n      <td>clock</td>\n      <td>10.0</td>\n      <td>130.0</td>\n      <td>1000.0</td>\n      <td>C:/AgodaGit/passivbot/backtests_live_config/bi...</td>\n      <td>True</td>\n      <td>NaN</td>\n      <td>NaN</td>\n      <td>NaN</td>\n      <td>...</td>\n      <td>NaN</td>\n      <td>NaN</td>\n      <td>NaN</td>\n      <td>NaN</td>\n      <td>NaN</td>\n      <td>NaN</td>\n      <td>NaN</td>\n      <td>NaN</td>\n      <td>NaN</td>\n      <td>NaN</td>\n    </tr>\n    <tr>\n      <th>243</th>\n      <td>ZENUSDT</td>\n      <td>clock</td>\n      <td>10.0</td>\n      <td>130.0</td>\n      <td>1000.0</td>\n      <td>C:/AgodaGit/passivbot/backtests_live_config/bi...</td>\n      <td>True</td>\n      <td>True</td>\n      <td>0.102</td>\n      <td>0.118</td>\n      <td>...</td>\n      <td>150.0</td>\n      <td>45.0</td>\n      <td>3.77</td>\n      <td>6.38189</td>\n      <td>44.8333</td>\n      <td>9.456</td>\n      <td>16.49</td>\n      <td>-7.031</td>\n      <td>-0.6243</td>\n      <td>9671.78</td>\n    </tr>\n  </tbody>\n</table>\n<p>122 rows × 43 columns</p>\n</div>"
     },
     "metadata": {},
     "output_type": "display_data"
    }
   ],
   "source": [
    "def shorten_string(string):\n",
    "    # replace everything between parentheses\n",
    "    string = re.sub(r'\\([^)]*\\)', '', string)\n",
    "\n",
    "    # create a dictionary of key value to replace in string\n",
    "    replace_dict = {'ADG per exposure': 'adg_per_exp',\n",
    "                    'ADG weighted per exposure': 'adg_w_per_exp',\n",
    "                    'Average daily gain': 'adg',\n",
    "                    'Average daily gain weighted': 'adg_w',\n",
    "                    'Closest bankruptcy': 'bnkr',\n",
    "                    'Equity/balance ratio std': 'ebr_std',\n",
    "                    'Exposure ratios mean': 'exp_rat_mean',\n",
    "                    'Loss to profit ratio': 'l2p_r',\n",
    "                    'Lowest equity/balance ratio': 'l_ebr',\n",
    "                    'Max hours stuck': 'max_stuck',\n",
    "                    'Mean hours stuck': 'mean_stuck',\n",
    "                    'Mean of 10 worst eq/bal ratios': 'mean_10_ebr',\n",
    "                    'No. initial entries': 'n_init_ent',\n",
    "                    'No. normal closes': 'n_norm_close',\n",
    "                    'No. reentries': 'n_re_ent',\n",
    "                    'No. unstuck closes': 'n_unstk_close',\n",
    "                    'No. unstuck entries': 'n_unstk_ent',\n",
    "                    'Price action distance max': 'pa_d_max',\n",
    "                    'Price action distance mean': 'pa_d_mean',\n",
    "                    'Price action distance std': 'pa_d_std',\n",
    "                    'ADG n subdivisions': 'adg_n_subdiv',\n",
    "                    'Starting balance': 'start_bal',\n",
    "                    'Final balance': 'final_bal',\n",
    "                    'No. unstuck/EMA closes': 'n_unstk_ema_close',\n",
    "                    'Average n fills per day': 'avg_n_fills_per_day',\n",
    "                    'PNL sum': 'pnl_sum',\n",
    "                    'Profit sum': 'profit_sum',\n",
    "                    'Loss sum': 'loss_sum',\n",
    "                    'Fee sum': 'fee_sum',\n",
    "                    'Volume quote': 'vol_quote',\n",
    "                    'Exchange': 'exch',\n",
    "                    'No. days': 'n_days',\n",
    "                    'Passivbot mode': 'mode',\n",
    "                    'Symbol': 's',\n",
    "                    'file': 'f',\n",
    "                    'live': 'live',\n",
    "                    'min_notional': 'min_notion',\n",
    "                    'version': 'ver',\n",
    "                    'volume': 'vol'}\n",
    "\n",
    "    # find the longest key match in replace_dict and replace it with its value\n",
    "    for k in sorted(replace_dict, key=len, reverse=True):\n",
    "        string = string.replace(k, replace_dict[k])\n",
    "\n",
    "    return string\n",
    "\n",
    "\n",
    "'''\n",
    "call shorten_string function with the followings and print result:\n",
    " '(L)ADG per exposure'\n",
    " '(L)ADG weighted per exposure'\n",
    " '(L)Average daily gain'\n",
    " '(L)Average daily gain weighted'\n",
    "'''\n",
    "# print(shorten_string('(L)ADG per exposure'))\n",
    "# print(shorten_string('(L)ADG weighted per exposure'))\n",
    "# print(shorten_string('(L)Average daily gain'))\n",
    "# print(shorten_string('(L)Average daily gain weighted'))\n",
    "\n",
    "# filter now\n",
    "#result_analysis = big_data[(big_data.s.isin(allowed_symbols))\n",
    "#display(result_analysis.columns)\n",
    "\n",
    "# create result_analysis_long by dropping all columns which has (S) in it\n",
    "result_analysis_long = result_analysis[[c for c in result_analysis.columns if '(S)' not in c]]\n",
    "# create result_analysis_short by dropping all columns which has (L) in it\n",
    "result_analysis_short = result_analysis[[c for c in result_analysis.columns if '(L)' not in c]]\n",
    "\n",
    "\n",
    "# replace  (S) and (L) in all column names with empty string\n",
    "result_analysis_long.columns = result_analysis_long.columns.str.replace(r'\\(S\\)|\\(L\\)', '')\n",
    "result_analysis_short.columns = result_analysis_short.columns.str.replace(r'\\(S\\)|\\(L\\)', '')\n",
    "\n",
    "display(result_analysis_long, result_analysis_short)"
   ],
   "metadata": {
    "collapsed": false,
    "ExecuteTime": {
     "end_time": "2023-10-12T14:08:15.767898700Z",
     "start_time": "2023-10-12T14:08:15.648475800Z"
    }
   }
  },
  {
   "cell_type": "code",
   "execution_count": 32,
   "outputs": [
    {
     "data": {
      "text/plain": "        Symbol  Passivbot mode  ADG n subdivisions  No. days  \\\n206   ATOMUSDT           clock                10.0     130.0   \n207   ATOMUSDT           clock                10.0     130.0   \n209    CRVUSDT           clock                10.0     130.0   \n211   DOGEUSDT  recursive_grid                10.0     130.0   \n213   DYDXUSDT           clock                10.0     130.0   \n215    ENSUSDT           clock                10.0     130.0   \n217   GALAUSDT           clock                10.0     130.0   \n219    GALUSDT           clock                10.0     130.0   \n221   HBARUSDT           clock                10.0     130.0   \n223  JASMYUSDT           clock                10.0     130.0   \n225  MATICUSDT           clock                10.0     130.0   \n227   NEARUSDT           clock                10.0     130.0   \n229     OPUSDT           clock                10.0     130.0   \n231    RLCUSDT           clock                10.0     130.0   \n233   RNDRUSDT  recursive_grid                10.0     130.0   \n235    RSRUSDT           clock                10.0     130.0   \n237   SANDUSDT           clock                10.0     130.0   \n239    XLMUSDT           clock                10.0     130.0   \n241    XRPUSDT           clock                10.0     130.0   \n243    ZENUSDT           clock                10.0     130.0   \n\n     Starting balance  Long  ADG per exposure  ADG weighted per exposure  \\\n206            1000.0  True          -0.03200                     0.0951   \n207            1000.0   NaN               NaN                        NaN   \n209            1000.0  True           0.03400                    -0.0549   \n211            1000.0  True           0.18500                     0.0983   \n213            1000.0  True           0.05160                     0.0224   \n215            1000.0   NaN               NaN                        NaN   \n217            1000.0  True          -0.15600                    -0.3820   \n219            1000.0   NaN               NaN                        NaN   \n221            1000.0  True           0.10700                     0.0383   \n223            1000.0   NaN               NaN                        NaN   \n225            1000.0  True          -0.27600                     0.1730   \n227            1000.0  True          -0.18600                    -0.0783   \n229            1000.0  True           0.15700                     0.1420   \n231            1000.0   NaN               NaN                        NaN   \n233            1000.0  True           0.07210                     0.0483   \n235            1000.0  True           0.00577                     0.0304   \n237            1000.0   NaN               NaN                        NaN   \n239            1000.0  True           0.00417                    -0.0873   \n241            1000.0  True           0.09480                     0.0501   \n243            1000.0   NaN               NaN                        NaN   \n\n     Final balance  Final equity  ...  Average n fills per day  \\\n206        994.972       994.960  ...                    12.20   \n207            NaN           NaN  ...                      NaN   \n209       1005.370      1004.280  ...                     6.76   \n211       1029.580      1029.590  ...                     8.38   \n213       1008.170      1008.170  ...                     5.89   \n215            NaN           NaN  ...                      NaN   \n217        975.736       975.692  ...                    13.50   \n219            NaN           NaN  ...                      NaN   \n221       1017.040      1017.040  ...                     5.97   \n223            NaN           NaN  ...                      NaN   \n225        957.437       957.431  ...                     9.40   \n227        971.081       971.076  ...                     3.36   \n229       1025.120      1024.550  ...                     2.48   \n231            NaN           NaN  ...                      NaN   \n233       1011.420      1011.380  ...                    19.10   \n235       1000.910      1000.910  ...                     4.89   \n237            NaN           NaN  ...                      NaN   \n239       1000.660       997.814  ...                     3.33   \n241       1015.060      1015.060  ...                     8.19   \n243            NaN           NaN  ...                      NaN   \n\n     Mean hours stuck  Max hours stuck  PNL sum  Profit sum  Loss sum  \\\n206           1.96431         14.36670   -1.753       38.90   -40.660   \n207               NaN              NaN      NaN         NaN       NaN   \n209           3.54650         92.55000    6.683       20.94   -14.260   \n211           2.78336        130.48300   32.370       37.30    -4.925   \n213           4.01282        168.95000    9.258       15.24    -5.985   \n215               NaN              NaN      NaN         NaN       NaN   \n217           1.77331         26.58330  -21.860       18.87   -40.730   \n219               NaN              NaN      NaN         NaN       NaN   \n221           3.90035        118.65000   18.330       20.99    -2.667   \n223               NaN              NaN      NaN         NaN       NaN   \n225           2.55281          7.03333  -41.050       45.44   -86.490   \n227           7.12360         39.78330  -28.160       11.18   -39.350   \n229           9.46703         96.16670   25.690       31.51    -5.816   \n231               NaN              NaN      NaN         NaN       NaN   \n233           1.25258         43.73330   14.200       25.32   -11.120   \n235           4.83360         75.85000    2.140       16.21   -14.070   \n237               NaN              NaN      NaN         NaN       NaN   \n239           7.20709         53.81670    1.381       21.43   -20.050   \n241           2.90087         80.63330   17.260       33.93   -16.670   \n243               NaN              NaN      NaN         NaN       NaN   \n\n     Fee sum  Volume quote                                               file  \\\n206  -3.2750      41782.50  C:/AgodaGit/passivbot/backtests_live_config/bi...   \n207      NaN           NaN  C:/AgodaGit/passivbot/backtests_live_config/bi...   \n209  -1.3140      17013.80  C:/AgodaGit/passivbot/backtests_live_config/bi...   \n211  -2.7940      12037.20  C:/AgodaGit/passivbot/backtests_live_config/bi...   \n213  -1.0910       9546.67  C:/AgodaGit/passivbot/backtests_live_config/bi...   \n215      NaN           NaN  C:/AgodaGit/passivbot/backtests_live_config/bi...   \n217  -2.4010      32669.10  C:/AgodaGit/passivbot/backtests_live_config/bi...   \n219      NaN           NaN  C:/AgodaGit/passivbot/backtests_live_config/bi...   \n221  -1.2850       8318.09  C:/AgodaGit/passivbot/backtests_live_config/bi...   \n223      NaN           NaN  C:/AgodaGit/passivbot/backtests_live_config/bi...   \n225  -1.5180      96658.30  C:/AgodaGit/passivbot/backtests_live_config/bi...   \n227  -0.7548      29520.70  C:/AgodaGit/passivbot/backtests_live_config/bi...   \n229  -0.5759      10173.40  C:/AgodaGit/passivbot/backtests_live_config/bi...   \n231      NaN           NaN  C:/AgodaGit/passivbot/backtests_live_config/bi...   \n233  -2.7800      48273.70  C:/AgodaGit/passivbot/backtests_live_config/bi...   \n235  -1.2300       4327.36  C:/AgodaGit/passivbot/backtests_live_config/bi...   \n237      NaN           NaN  C:/AgodaGit/passivbot/backtests_live_config/bi...   \n239  -0.7235      25260.40  C:/AgodaGit/passivbot/backtests_live_config/bi...   \n241  -2.2050      18451.20  C:/AgodaGit/passivbot/backtests_live_config/bi...   \n243      NaN           NaN  C:/AgodaGit/passivbot/backtests_live_config/bi...   \n\n     live  \n206  True  \n207  True  \n209  True  \n211  True  \n213  True  \n215  True  \n217  True  \n219  True  \n221  True  \n223  True  \n225  True  \n227  True  \n229  True  \n231  True  \n233  True  \n235  True  \n237  True  \n239  True  \n241  True  \n243  True  \n\n[20 rows x 43 columns]",
      "text/html": "<div>\n<style scoped>\n    .dataframe tbody tr th:only-of-type {\n        vertical-align: middle;\n    }\n\n    .dataframe tbody tr th {\n        vertical-align: top;\n    }\n\n    .dataframe thead th {\n        text-align: right;\n    }\n</style>\n<table border=\"1\" class=\"dataframe\">\n  <thead>\n    <tr style=\"text-align: right;\">\n      <th></th>\n      <th>Symbol</th>\n      <th>Passivbot mode</th>\n      <th>ADG n subdivisions</th>\n      <th>No. days</th>\n      <th>Starting balance</th>\n      <th>Long</th>\n      <th>ADG per exposure</th>\n      <th>ADG weighted per exposure</th>\n      <th>Final balance</th>\n      <th>Final equity</th>\n      <th>...</th>\n      <th>Average n fills per day</th>\n      <th>Mean hours stuck</th>\n      <th>Max hours stuck</th>\n      <th>PNL sum</th>\n      <th>Profit sum</th>\n      <th>Loss sum</th>\n      <th>Fee sum</th>\n      <th>Volume quote</th>\n      <th>file</th>\n      <th>live</th>\n    </tr>\n  </thead>\n  <tbody>\n    <tr>\n      <th>206</th>\n      <td>ATOMUSDT</td>\n      <td>clock</td>\n      <td>10.0</td>\n      <td>130.0</td>\n      <td>1000.0</td>\n      <td>True</td>\n      <td>-0.03200</td>\n      <td>0.0951</td>\n      <td>994.972</td>\n      <td>994.960</td>\n      <td>...</td>\n      <td>12.20</td>\n      <td>1.96431</td>\n      <td>14.36670</td>\n      <td>-1.753</td>\n      <td>38.90</td>\n      <td>-40.660</td>\n      <td>-3.2750</td>\n      <td>41782.50</td>\n      <td>C:/AgodaGit/passivbot/backtests_live_config/bi...</td>\n      <td>True</td>\n    </tr>\n    <tr>\n      <th>207</th>\n      <td>ATOMUSDT</td>\n      <td>clock</td>\n      <td>10.0</td>\n      <td>130.0</td>\n      <td>1000.0</td>\n      <td>NaN</td>\n      <td>NaN</td>\n      <td>NaN</td>\n      <td>NaN</td>\n      <td>NaN</td>\n      <td>...</td>\n      <td>NaN</td>\n      <td>NaN</td>\n      <td>NaN</td>\n      <td>NaN</td>\n      <td>NaN</td>\n      <td>NaN</td>\n      <td>NaN</td>\n      <td>NaN</td>\n      <td>C:/AgodaGit/passivbot/backtests_live_config/bi...</td>\n      <td>True</td>\n    </tr>\n    <tr>\n      <th>209</th>\n      <td>CRVUSDT</td>\n      <td>clock</td>\n      <td>10.0</td>\n      <td>130.0</td>\n      <td>1000.0</td>\n      <td>True</td>\n      <td>0.03400</td>\n      <td>-0.0549</td>\n      <td>1005.370</td>\n      <td>1004.280</td>\n      <td>...</td>\n      <td>6.76</td>\n      <td>3.54650</td>\n      <td>92.55000</td>\n      <td>6.683</td>\n      <td>20.94</td>\n      <td>-14.260</td>\n      <td>-1.3140</td>\n      <td>17013.80</td>\n      <td>C:/AgodaGit/passivbot/backtests_live_config/bi...</td>\n      <td>True</td>\n    </tr>\n    <tr>\n      <th>211</th>\n      <td>DOGEUSDT</td>\n      <td>recursive_grid</td>\n      <td>10.0</td>\n      <td>130.0</td>\n      <td>1000.0</td>\n      <td>True</td>\n      <td>0.18500</td>\n      <td>0.0983</td>\n      <td>1029.580</td>\n      <td>1029.590</td>\n      <td>...</td>\n      <td>8.38</td>\n      <td>2.78336</td>\n      <td>130.48300</td>\n      <td>32.370</td>\n      <td>37.30</td>\n      <td>-4.925</td>\n      <td>-2.7940</td>\n      <td>12037.20</td>\n      <td>C:/AgodaGit/passivbot/backtests_live_config/bi...</td>\n      <td>True</td>\n    </tr>\n    <tr>\n      <th>213</th>\n      <td>DYDXUSDT</td>\n      <td>clock</td>\n      <td>10.0</td>\n      <td>130.0</td>\n      <td>1000.0</td>\n      <td>True</td>\n      <td>0.05160</td>\n      <td>0.0224</td>\n      <td>1008.170</td>\n      <td>1008.170</td>\n      <td>...</td>\n      <td>5.89</td>\n      <td>4.01282</td>\n      <td>168.95000</td>\n      <td>9.258</td>\n      <td>15.24</td>\n      <td>-5.985</td>\n      <td>-1.0910</td>\n      <td>9546.67</td>\n      <td>C:/AgodaGit/passivbot/backtests_live_config/bi...</td>\n      <td>True</td>\n    </tr>\n    <tr>\n      <th>215</th>\n      <td>ENSUSDT</td>\n      <td>clock</td>\n      <td>10.0</td>\n      <td>130.0</td>\n      <td>1000.0</td>\n      <td>NaN</td>\n      <td>NaN</td>\n      <td>NaN</td>\n      <td>NaN</td>\n      <td>NaN</td>\n      <td>...</td>\n      <td>NaN</td>\n      <td>NaN</td>\n      <td>NaN</td>\n      <td>NaN</td>\n      <td>NaN</td>\n      <td>NaN</td>\n      <td>NaN</td>\n      <td>NaN</td>\n      <td>C:/AgodaGit/passivbot/backtests_live_config/bi...</td>\n      <td>True</td>\n    </tr>\n    <tr>\n      <th>217</th>\n      <td>GALAUSDT</td>\n      <td>clock</td>\n      <td>10.0</td>\n      <td>130.0</td>\n      <td>1000.0</td>\n      <td>True</td>\n      <td>-0.15600</td>\n      <td>-0.3820</td>\n      <td>975.736</td>\n      <td>975.692</td>\n      <td>...</td>\n      <td>13.50</td>\n      <td>1.77331</td>\n      <td>26.58330</td>\n      <td>-21.860</td>\n      <td>18.87</td>\n      <td>-40.730</td>\n      <td>-2.4010</td>\n      <td>32669.10</td>\n      <td>C:/AgodaGit/passivbot/backtests_live_config/bi...</td>\n      <td>True</td>\n    </tr>\n    <tr>\n      <th>219</th>\n      <td>GALUSDT</td>\n      <td>clock</td>\n      <td>10.0</td>\n      <td>130.0</td>\n      <td>1000.0</td>\n      <td>NaN</td>\n      <td>NaN</td>\n      <td>NaN</td>\n      <td>NaN</td>\n      <td>NaN</td>\n      <td>...</td>\n      <td>NaN</td>\n      <td>NaN</td>\n      <td>NaN</td>\n      <td>NaN</td>\n      <td>NaN</td>\n      <td>NaN</td>\n      <td>NaN</td>\n      <td>NaN</td>\n      <td>C:/AgodaGit/passivbot/backtests_live_config/bi...</td>\n      <td>True</td>\n    </tr>\n    <tr>\n      <th>221</th>\n      <td>HBARUSDT</td>\n      <td>clock</td>\n      <td>10.0</td>\n      <td>130.0</td>\n      <td>1000.0</td>\n      <td>True</td>\n      <td>0.10700</td>\n      <td>0.0383</td>\n      <td>1017.040</td>\n      <td>1017.040</td>\n      <td>...</td>\n      <td>5.97</td>\n      <td>3.90035</td>\n      <td>118.65000</td>\n      <td>18.330</td>\n      <td>20.99</td>\n      <td>-2.667</td>\n      <td>-1.2850</td>\n      <td>8318.09</td>\n      <td>C:/AgodaGit/passivbot/backtests_live_config/bi...</td>\n      <td>True</td>\n    </tr>\n    <tr>\n      <th>223</th>\n      <td>JASMYUSDT</td>\n      <td>clock</td>\n      <td>10.0</td>\n      <td>130.0</td>\n      <td>1000.0</td>\n      <td>NaN</td>\n      <td>NaN</td>\n      <td>NaN</td>\n      <td>NaN</td>\n      <td>NaN</td>\n      <td>...</td>\n      <td>NaN</td>\n      <td>NaN</td>\n      <td>NaN</td>\n      <td>NaN</td>\n      <td>NaN</td>\n      <td>NaN</td>\n      <td>NaN</td>\n      <td>NaN</td>\n      <td>C:/AgodaGit/passivbot/backtests_live_config/bi...</td>\n      <td>True</td>\n    </tr>\n    <tr>\n      <th>225</th>\n      <td>MATICUSDT</td>\n      <td>clock</td>\n      <td>10.0</td>\n      <td>130.0</td>\n      <td>1000.0</td>\n      <td>True</td>\n      <td>-0.27600</td>\n      <td>0.1730</td>\n      <td>957.437</td>\n      <td>957.431</td>\n      <td>...</td>\n      <td>9.40</td>\n      <td>2.55281</td>\n      <td>7.03333</td>\n      <td>-41.050</td>\n      <td>45.44</td>\n      <td>-86.490</td>\n      <td>-1.5180</td>\n      <td>96658.30</td>\n      <td>C:/AgodaGit/passivbot/backtests_live_config/bi...</td>\n      <td>True</td>\n    </tr>\n    <tr>\n      <th>227</th>\n      <td>NEARUSDT</td>\n      <td>clock</td>\n      <td>10.0</td>\n      <td>130.0</td>\n      <td>1000.0</td>\n      <td>True</td>\n      <td>-0.18600</td>\n      <td>-0.0783</td>\n      <td>971.081</td>\n      <td>971.076</td>\n      <td>...</td>\n      <td>3.36</td>\n      <td>7.12360</td>\n      <td>39.78330</td>\n      <td>-28.160</td>\n      <td>11.18</td>\n      <td>-39.350</td>\n      <td>-0.7548</td>\n      <td>29520.70</td>\n      <td>C:/AgodaGit/passivbot/backtests_live_config/bi...</td>\n      <td>True</td>\n    </tr>\n    <tr>\n      <th>229</th>\n      <td>OPUSDT</td>\n      <td>clock</td>\n      <td>10.0</td>\n      <td>130.0</td>\n      <td>1000.0</td>\n      <td>True</td>\n      <td>0.15700</td>\n      <td>0.1420</td>\n      <td>1025.120</td>\n      <td>1024.550</td>\n      <td>...</td>\n      <td>2.48</td>\n      <td>9.46703</td>\n      <td>96.16670</td>\n      <td>25.690</td>\n      <td>31.51</td>\n      <td>-5.816</td>\n      <td>-0.5759</td>\n      <td>10173.40</td>\n      <td>C:/AgodaGit/passivbot/backtests_live_config/bi...</td>\n      <td>True</td>\n    </tr>\n    <tr>\n      <th>231</th>\n      <td>RLCUSDT</td>\n      <td>clock</td>\n      <td>10.0</td>\n      <td>130.0</td>\n      <td>1000.0</td>\n      <td>NaN</td>\n      <td>NaN</td>\n      <td>NaN</td>\n      <td>NaN</td>\n      <td>NaN</td>\n      <td>...</td>\n      <td>NaN</td>\n      <td>NaN</td>\n      <td>NaN</td>\n      <td>NaN</td>\n      <td>NaN</td>\n      <td>NaN</td>\n      <td>NaN</td>\n      <td>NaN</td>\n      <td>C:/AgodaGit/passivbot/backtests_live_config/bi...</td>\n      <td>True</td>\n    </tr>\n    <tr>\n      <th>233</th>\n      <td>RNDRUSDT</td>\n      <td>recursive_grid</td>\n      <td>10.0</td>\n      <td>130.0</td>\n      <td>1000.0</td>\n      <td>True</td>\n      <td>0.07210</td>\n      <td>0.0483</td>\n      <td>1011.420</td>\n      <td>1011.380</td>\n      <td>...</td>\n      <td>19.10</td>\n      <td>1.25258</td>\n      <td>43.73330</td>\n      <td>14.200</td>\n      <td>25.32</td>\n      <td>-11.120</td>\n      <td>-2.7800</td>\n      <td>48273.70</td>\n      <td>C:/AgodaGit/passivbot/backtests_live_config/bi...</td>\n      <td>True</td>\n    </tr>\n    <tr>\n      <th>235</th>\n      <td>RSRUSDT</td>\n      <td>clock</td>\n      <td>10.0</td>\n      <td>130.0</td>\n      <td>1000.0</td>\n      <td>True</td>\n      <td>0.00577</td>\n      <td>0.0304</td>\n      <td>1000.910</td>\n      <td>1000.910</td>\n      <td>...</td>\n      <td>4.89</td>\n      <td>4.83360</td>\n      <td>75.85000</td>\n      <td>2.140</td>\n      <td>16.21</td>\n      <td>-14.070</td>\n      <td>-1.2300</td>\n      <td>4327.36</td>\n      <td>C:/AgodaGit/passivbot/backtests_live_config/bi...</td>\n      <td>True</td>\n    </tr>\n    <tr>\n      <th>237</th>\n      <td>SANDUSDT</td>\n      <td>clock</td>\n      <td>10.0</td>\n      <td>130.0</td>\n      <td>1000.0</td>\n      <td>NaN</td>\n      <td>NaN</td>\n      <td>NaN</td>\n      <td>NaN</td>\n      <td>NaN</td>\n      <td>...</td>\n      <td>NaN</td>\n      <td>NaN</td>\n      <td>NaN</td>\n      <td>NaN</td>\n      <td>NaN</td>\n      <td>NaN</td>\n      <td>NaN</td>\n      <td>NaN</td>\n      <td>C:/AgodaGit/passivbot/backtests_live_config/bi...</td>\n      <td>True</td>\n    </tr>\n    <tr>\n      <th>239</th>\n      <td>XLMUSDT</td>\n      <td>clock</td>\n      <td>10.0</td>\n      <td>130.0</td>\n      <td>1000.0</td>\n      <td>True</td>\n      <td>0.00417</td>\n      <td>-0.0873</td>\n      <td>1000.660</td>\n      <td>997.814</td>\n      <td>...</td>\n      <td>3.33</td>\n      <td>7.20709</td>\n      <td>53.81670</td>\n      <td>1.381</td>\n      <td>21.43</td>\n      <td>-20.050</td>\n      <td>-0.7235</td>\n      <td>25260.40</td>\n      <td>C:/AgodaGit/passivbot/backtests_live_config/bi...</td>\n      <td>True</td>\n    </tr>\n    <tr>\n      <th>241</th>\n      <td>XRPUSDT</td>\n      <td>clock</td>\n      <td>10.0</td>\n      <td>130.0</td>\n      <td>1000.0</td>\n      <td>True</td>\n      <td>0.09480</td>\n      <td>0.0501</td>\n      <td>1015.060</td>\n      <td>1015.060</td>\n      <td>...</td>\n      <td>8.19</td>\n      <td>2.90087</td>\n      <td>80.63330</td>\n      <td>17.260</td>\n      <td>33.93</td>\n      <td>-16.670</td>\n      <td>-2.2050</td>\n      <td>18451.20</td>\n      <td>C:/AgodaGit/passivbot/backtests_live_config/bi...</td>\n      <td>True</td>\n    </tr>\n    <tr>\n      <th>243</th>\n      <td>ZENUSDT</td>\n      <td>clock</td>\n      <td>10.0</td>\n      <td>130.0</td>\n      <td>1000.0</td>\n      <td>NaN</td>\n      <td>NaN</td>\n      <td>NaN</td>\n      <td>NaN</td>\n      <td>NaN</td>\n      <td>...</td>\n      <td>NaN</td>\n      <td>NaN</td>\n      <td>NaN</td>\n      <td>NaN</td>\n      <td>NaN</td>\n      <td>NaN</td>\n      <td>NaN</td>\n      <td>NaN</td>\n      <td>C:/AgodaGit/passivbot/backtests_live_config/bi...</td>\n      <td>True</td>\n    </tr>\n  </tbody>\n</table>\n<p>20 rows × 43 columns</p>\n</div>"
     },
     "metadata": {},
     "output_type": "display_data"
    }
   ],
   "source": [
    "#result_analysis_long_live = result_analysis_long[result_analysis_long['live'] == True]\n",
    "result_analysis_long_filterd = result_analysis_long[(\n",
    "            (result_analysis_long['Average daily gain weighted'] > 0 ) &\n",
    "            (result_analysis_long['ADG weighted per exposure'] > 0 ) &\n",
    "            (result_analysis_long['Final balance'] >  result_analysis_long['Starting balance'] * 1.05) &\n",
    "            (result_analysis_long['Final equity'] >  result_analysis_long['Starting balance']) &\n",
    "            (result_analysis_long['Loss to profit ratio'] != 0 )\n",
    "    )]\n",
    "result_analysis_long_filterd\n",
    "#display(result_analysis_long_live, result_analysis_long_filterd)\n",
    "# # merge the two dataframes on their index\n",
    "# result_analysis_long_final = pd.merge(result_analysis_long_live, result_analysis_long_filterd, how='outer', left_index=True, right_index=True)\n",
    "# \n",
    "# # do the same for result_analysis_short and build result_analysis_short_final\n",
    "# result_analysis_short_live = result_analysis_short[result_analysis_short['live'] == True]\n",
    "# result_analysis_short_filterd = result_analysis_short[(\n",
    "#             (result_analysis_short['Average daily gain weighted'] > 0 ) &\n",
    "#             (result_analysis_short['ADG weighted per exposure'] > 0 ) &\n",
    "#             (result_analysis_short['Final balance'] >  result_analysis_short['Starting balance'] * 1.05) &\n",
    "#             (result_analysis_short['Final equity'] >  result_analysis_short['Starting balance']) &\n",
    "#             # (result_analysis_short['Lowest equity/balance ratio'] > 0.92 ) &\n",
    "#             # (result_analysis_short['Mean of 10 worst eq/bal ratios'] > 0.95 ) &\n",
    "#             (result_analysis_short['Loss to profit ratio'] != 0 )\n",
    "#     )]\n",
    "# # merge the two dataframes on their index\n",
    "# result_analysis_short_final = pd.merge(result_analysis_short_live, result_analysis_short_filterd, how='outer', left_index=True, right_index=True)\n",
    "# \n",
    "# \n",
    "# \n",
    "# result_analysis_long_final = result_analysis_long_final.rename(columns=shorten_string)\n",
    "# result_analysis_short_final = result_analysis_short_final.rename(columns=shorten_string)\n",
    "# \n",
    "# \n",
    "# # dump it in an excel for analysis\n",
    "# EXCEL_FILE_NAME = r'C:\\AgodaGit\\passivbot\\analysis_scripts\\backtest_result_scud.xlsx'\n",
    "# excel_writer = pd.ExcelWriter(EXCEL_FILE_NAME, engine='xlsxwriter')\n",
    "# result_analysis_long_final.to_excel(excel_writer, index=False, sheet_name='long')\n",
    "# result_analysis_short_final.to_excel(excel_writer, index=False, sheet_name='short')\n",
    "# excel_writer.save()\n",
    "# excel_writer.close()\n",
    "\n",
    "\n",
    "display(result_analysis_long_live)"
   ],
   "metadata": {
    "collapsed": false,
    "ExecuteTime": {
     "end_time": "2023-10-12T14:22:50.849495400Z",
     "start_time": "2023-10-12T14:22:50.786895800Z"
    }
   }
  }
 ],
 "metadata": {
  "kernelspec": {
   "display_name": "Python 3",
   "language": "python",
   "name": "python3"
  },
  "language_info": {
   "codemirror_mode": {
    "name": "ipython",
    "version": 2
   },
   "file_extension": ".py",
   "mimetype": "text/x-python",
   "name": "python",
   "nbconvert_exporter": "python",
   "pygments_lexer": "ipython2",
   "version": "2.7.6"
  }
 },
 "nbformat": 4,
 "nbformat_minor": 0
}
