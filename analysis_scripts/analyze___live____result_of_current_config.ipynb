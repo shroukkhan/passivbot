{
 "cells": [
  {
   "cell_type": "code",
   "execution_count": 10,
   "metadata": {
    "collapsed": true,
    "pycharm": {
     "name": "#%%\n"
    }
   },
   "outputs": [
    {
     "name": "stdout",
     "output_type": "stream",
     "text": [
      "The autoreload extension is already loaded. To reload it, use:\n",
      "  %reload_ext autoreload\n"
     ]
    }
   ],
   "source": [
    "%load_ext autoreload\n",
    "%autoreload 2"
   ]
  },
  {
   "cell_type": "code",
   "execution_count": 1,
   "outputs": [],
   "source": [
    "import json\n",
    "\n",
    "#function to read ../auth_config.json into a object and return it\n",
    "def get_config():\n",
    "    with open('../auth_config.json') as f:\n",
    "        data = json.load(f)\n",
    "    return data\n",
    "\n",
    "\n",
    "ssh_config = get_config()"
   ],
   "metadata": {
    "collapsed": false,
    "pycharm": {
     "name": "#%%\n"
    }
   }
  },
  {
   "cell_type": "code",
   "execution_count": 2,
   "outputs": [
    {
     "data": {
      "text/plain": "    Unnamed: 0 symbol   direction long_mode short_mode  long_exposure  \\\n0            0    ETH        long         n          m           0.08   \n1            1    BNB        long         n          m           0.08   \n2            2    ADA        long         n          m           0.08   \n3            3    KSM        long         n          m           0.08   \n4            4    LTC        long         n          m           0.08   \n5            5    ETC        long         n          m           0.08   \n6            6    XMR        long         n          m           0.08   \n7            7    TRX        long         n          m           0.08   \n8            8   ALGO        long         n          m           0.08   \n9            9   COMP        long         n          m           0.08   \n10          10   RUNE        long         n          m           0.08   \n11          11   NEAR        long         n          m           0.08   \n12           0   ATOM  long_short         n          n           0.07   \n13           1    CHZ  long_short         n          n           0.07   \n14           2   DOGE  long_short         n         gs           0.07   \n15           3    DOT  long_short         n          n           0.07   \n16           4    EOS  long_short         n          n           0.07   \n17           5   HBAR  long_short         n          n           0.07   \n18           6   LINK  long_short         n          n           0.07   \n19           7   MANA  long_short         n          n           0.07   \n20           8  MATIC  long_short         n          n           0.07   \n21           9   SAND  long_short         n          n           0.07   \n22          10  SUSHI  long_short         n          n           0.07   \n23          11    XRP  long_short         n          n           0.07   \n24          12    XTZ  long_short         n          n           0.07   \n25          13   DYDX  long_short         n          n           0.07   \n26          14     OP  long_short         n          m           0.07   \n\n    short_exposure     account version  \n0             0.00  binance_01   5.9.3  \n1             0.00  binance_01   5.9.3  \n2             0.00  binance_01   5.9.3  \n3             0.00  binance_01   5.9.3  \n4             0.00  binance_01   5.9.3  \n5             0.00  binance_01   5.9.3  \n6             0.00  binance_01   5.9.3  \n7             0.00  binance_01   5.9.3  \n8             0.00  binance_01   5.9.3  \n9             0.00  binance_01   5.9.3  \n10            0.00  binance_01   5.9.3  \n11            0.00  binance_01   5.9.3  \n12            0.04  binance_01   5.9.0  \n13            0.04  binance_01   5.9.0  \n14            0.04  binance_01   5.9.0  \n15            0.04  binance_01   5.9.0  \n16            0.04  binance_01   5.9.0  \n17            0.04  binance_01   5.9.0  \n18            0.04  binance_01   5.9.0  \n19            0.04  binance_01   5.9.0  \n20            0.04  binance_01   5.9.0  \n21            0.04  binance_01   5.9.0  \n22            0.04  binance_01   5.9.0  \n23            0.04  binance_01   5.9.0  \n24            0.04  binance_01   5.9.0  \n25            0.04  binance_02   5.9.0  \n26            0.04  binance_03   5.9.0  ",
      "text/html": "<div>\n<style scoped>\n    .dataframe tbody tr th:only-of-type {\n        vertical-align: middle;\n    }\n\n    .dataframe tbody tr th {\n        vertical-align: top;\n    }\n\n    .dataframe thead th {\n        text-align: right;\n    }\n</style>\n<table border=\"1\" class=\"dataframe\">\n  <thead>\n    <tr style=\"text-align: right;\">\n      <th></th>\n      <th>Unnamed: 0</th>\n      <th>symbol</th>\n      <th>direction</th>\n      <th>long_mode</th>\n      <th>short_mode</th>\n      <th>long_exposure</th>\n      <th>short_exposure</th>\n      <th>account</th>\n      <th>version</th>\n    </tr>\n  </thead>\n  <tbody>\n    <tr>\n      <th>0</th>\n      <td>0</td>\n      <td>ETH</td>\n      <td>long</td>\n      <td>n</td>\n      <td>m</td>\n      <td>0.08</td>\n      <td>0.00</td>\n      <td>binance_01</td>\n      <td>5.9.3</td>\n    </tr>\n    <tr>\n      <th>1</th>\n      <td>1</td>\n      <td>BNB</td>\n      <td>long</td>\n      <td>n</td>\n      <td>m</td>\n      <td>0.08</td>\n      <td>0.00</td>\n      <td>binance_01</td>\n      <td>5.9.3</td>\n    </tr>\n    <tr>\n      <th>2</th>\n      <td>2</td>\n      <td>ADA</td>\n      <td>long</td>\n      <td>n</td>\n      <td>m</td>\n      <td>0.08</td>\n      <td>0.00</td>\n      <td>binance_01</td>\n      <td>5.9.3</td>\n    </tr>\n    <tr>\n      <th>3</th>\n      <td>3</td>\n      <td>KSM</td>\n      <td>long</td>\n      <td>n</td>\n      <td>m</td>\n      <td>0.08</td>\n      <td>0.00</td>\n      <td>binance_01</td>\n      <td>5.9.3</td>\n    </tr>\n    <tr>\n      <th>4</th>\n      <td>4</td>\n      <td>LTC</td>\n      <td>long</td>\n      <td>n</td>\n      <td>m</td>\n      <td>0.08</td>\n      <td>0.00</td>\n      <td>binance_01</td>\n      <td>5.9.3</td>\n    </tr>\n    <tr>\n      <th>5</th>\n      <td>5</td>\n      <td>ETC</td>\n      <td>long</td>\n      <td>n</td>\n      <td>m</td>\n      <td>0.08</td>\n      <td>0.00</td>\n      <td>binance_01</td>\n      <td>5.9.3</td>\n    </tr>\n    <tr>\n      <th>6</th>\n      <td>6</td>\n      <td>XMR</td>\n      <td>long</td>\n      <td>n</td>\n      <td>m</td>\n      <td>0.08</td>\n      <td>0.00</td>\n      <td>binance_01</td>\n      <td>5.9.3</td>\n    </tr>\n    <tr>\n      <th>7</th>\n      <td>7</td>\n      <td>TRX</td>\n      <td>long</td>\n      <td>n</td>\n      <td>m</td>\n      <td>0.08</td>\n      <td>0.00</td>\n      <td>binance_01</td>\n      <td>5.9.3</td>\n    </tr>\n    <tr>\n      <th>8</th>\n      <td>8</td>\n      <td>ALGO</td>\n      <td>long</td>\n      <td>n</td>\n      <td>m</td>\n      <td>0.08</td>\n      <td>0.00</td>\n      <td>binance_01</td>\n      <td>5.9.3</td>\n    </tr>\n    <tr>\n      <th>9</th>\n      <td>9</td>\n      <td>COMP</td>\n      <td>long</td>\n      <td>n</td>\n      <td>m</td>\n      <td>0.08</td>\n      <td>0.00</td>\n      <td>binance_01</td>\n      <td>5.9.3</td>\n    </tr>\n    <tr>\n      <th>10</th>\n      <td>10</td>\n      <td>RUNE</td>\n      <td>long</td>\n      <td>n</td>\n      <td>m</td>\n      <td>0.08</td>\n      <td>0.00</td>\n      <td>binance_01</td>\n      <td>5.9.3</td>\n    </tr>\n    <tr>\n      <th>11</th>\n      <td>11</td>\n      <td>NEAR</td>\n      <td>long</td>\n      <td>n</td>\n      <td>m</td>\n      <td>0.08</td>\n      <td>0.00</td>\n      <td>binance_01</td>\n      <td>5.9.3</td>\n    </tr>\n    <tr>\n      <th>12</th>\n      <td>0</td>\n      <td>ATOM</td>\n      <td>long_short</td>\n      <td>n</td>\n      <td>n</td>\n      <td>0.07</td>\n      <td>0.04</td>\n      <td>binance_01</td>\n      <td>5.9.0</td>\n    </tr>\n    <tr>\n      <th>13</th>\n      <td>1</td>\n      <td>CHZ</td>\n      <td>long_short</td>\n      <td>n</td>\n      <td>n</td>\n      <td>0.07</td>\n      <td>0.04</td>\n      <td>binance_01</td>\n      <td>5.9.0</td>\n    </tr>\n    <tr>\n      <th>14</th>\n      <td>2</td>\n      <td>DOGE</td>\n      <td>long_short</td>\n      <td>n</td>\n      <td>gs</td>\n      <td>0.07</td>\n      <td>0.04</td>\n      <td>binance_01</td>\n      <td>5.9.0</td>\n    </tr>\n    <tr>\n      <th>15</th>\n      <td>3</td>\n      <td>DOT</td>\n      <td>long_short</td>\n      <td>n</td>\n      <td>n</td>\n      <td>0.07</td>\n      <td>0.04</td>\n      <td>binance_01</td>\n      <td>5.9.0</td>\n    </tr>\n    <tr>\n      <th>16</th>\n      <td>4</td>\n      <td>EOS</td>\n      <td>long_short</td>\n      <td>n</td>\n      <td>n</td>\n      <td>0.07</td>\n      <td>0.04</td>\n      <td>binance_01</td>\n      <td>5.9.0</td>\n    </tr>\n    <tr>\n      <th>17</th>\n      <td>5</td>\n      <td>HBAR</td>\n      <td>long_short</td>\n      <td>n</td>\n      <td>n</td>\n      <td>0.07</td>\n      <td>0.04</td>\n      <td>binance_01</td>\n      <td>5.9.0</td>\n    </tr>\n    <tr>\n      <th>18</th>\n      <td>6</td>\n      <td>LINK</td>\n      <td>long_short</td>\n      <td>n</td>\n      <td>n</td>\n      <td>0.07</td>\n      <td>0.04</td>\n      <td>binance_01</td>\n      <td>5.9.0</td>\n    </tr>\n    <tr>\n      <th>19</th>\n      <td>7</td>\n      <td>MANA</td>\n      <td>long_short</td>\n      <td>n</td>\n      <td>n</td>\n      <td>0.07</td>\n      <td>0.04</td>\n      <td>binance_01</td>\n      <td>5.9.0</td>\n    </tr>\n    <tr>\n      <th>20</th>\n      <td>8</td>\n      <td>MATIC</td>\n      <td>long_short</td>\n      <td>n</td>\n      <td>n</td>\n      <td>0.07</td>\n      <td>0.04</td>\n      <td>binance_01</td>\n      <td>5.9.0</td>\n    </tr>\n    <tr>\n      <th>21</th>\n      <td>9</td>\n      <td>SAND</td>\n      <td>long_short</td>\n      <td>n</td>\n      <td>n</td>\n      <td>0.07</td>\n      <td>0.04</td>\n      <td>binance_01</td>\n      <td>5.9.0</td>\n    </tr>\n    <tr>\n      <th>22</th>\n      <td>10</td>\n      <td>SUSHI</td>\n      <td>long_short</td>\n      <td>n</td>\n      <td>n</td>\n      <td>0.07</td>\n      <td>0.04</td>\n      <td>binance_01</td>\n      <td>5.9.0</td>\n    </tr>\n    <tr>\n      <th>23</th>\n      <td>11</td>\n      <td>XRP</td>\n      <td>long_short</td>\n      <td>n</td>\n      <td>n</td>\n      <td>0.07</td>\n      <td>0.04</td>\n      <td>binance_01</td>\n      <td>5.9.0</td>\n    </tr>\n    <tr>\n      <th>24</th>\n      <td>12</td>\n      <td>XTZ</td>\n      <td>long_short</td>\n      <td>n</td>\n      <td>n</td>\n      <td>0.07</td>\n      <td>0.04</td>\n      <td>binance_01</td>\n      <td>5.9.0</td>\n    </tr>\n    <tr>\n      <th>25</th>\n      <td>13</td>\n      <td>DYDX</td>\n      <td>long_short</td>\n      <td>n</td>\n      <td>n</td>\n      <td>0.07</td>\n      <td>0.04</td>\n      <td>binance_02</td>\n      <td>5.9.0</td>\n    </tr>\n    <tr>\n      <th>26</th>\n      <td>14</td>\n      <td>OP</td>\n      <td>long_short</td>\n      <td>n</td>\n      <td>m</td>\n      <td>0.07</td>\n      <td>0.04</td>\n      <td>binance_03</td>\n      <td>5.9.0</td>\n    </tr>\n  </tbody>\n</table>\n</div>"
     },
     "execution_count": 2,
     "metadata": {},
     "output_type": "execute_result"
    }
   ],
   "source": [
    "import paramiko\n",
    "import pandas as pd\n",
    "\n",
    "def download_file_via_ssh(hostname, username, password, remote_path, local_path):\n",
    "    ssh = paramiko.SSHClient()\n",
    "    ssh.set_missing_host_key_policy(paramiko.AutoAddPolicy())\n",
    "    ssh.connect(hostname, username=username, password=password)\n",
    "    sftp = ssh.open_sftp()\n",
    "    sftp.get(remote_path, local_path)\n",
    "    sftp.close()\n",
    "    ssh.close()\n",
    "\n",
    "\n",
    "\n",
    "csv_files = {\n",
    "    '5.9.3.csv': '/root/passivbot_5.9.3/run_config.csv',\n",
    "    '5.9.0.csv': '/root/passivbot_5.9.0/run_config.csv',\n",
    "}\n",
    "\n",
    "# Create an empty DataFrame\n",
    "csv_data = pd.DataFrame()\n",
    "for csv_file in csv_files:\n",
    "    download_file_via_ssh(ssh_config['ip'], ssh_config['user'], ssh_config['password'],\n",
    "                          csv_files[csv_file], csv_file)\n",
    "    new_data = pd.read_csv(csv_file)\n",
    "    new_data['version'] = csv_file.replace('.csv', '')\n",
    "    csv_data = pd.concat([csv_data, new_data], ignore_index=True)\n",
    "\n",
    "csv_data"
   ],
   "metadata": {
    "collapsed": false,
    "pycharm": {
     "name": "#%%\n"
    }
   }
  },
  {
   "cell_type": "code",
   "execution_count": 5,
   "outputs": [
    {
     "name": "stdout",
     "output_type": "stream",
     "text": [
      "long exposure: 2.0100000000000002, short exposure: 0.5199999999999999, total exposure: 2.5300000000000002)\n"
     ]
    }
   ],
   "source": [
    "total_long_exposure = csv_data[(csv_data['long_mode'] == 'n')]['long_exposure'].sum()\n",
    "total_short_exposure = csv_data[(csv_data['short_mode'] == 'n')]['short_exposure'].sum()\n",
    "\n",
    "exposure = total_short_exposure + total_long_exposure\n",
    "\n",
    "print(f'long exposure: {total_long_exposure}, short exposure: {total_short_exposure}, total exposure: {exposure})')\n",
    "\n"
   ],
   "metadata": {
    "collapsed": false,
    "pycharm": {
     "name": "#%%\n"
    }
   }
  },
  {
   "cell_type": "code",
   "execution_count": 6,
   "outputs": [
    {
     "name": "stdout",
     "output_type": "stream",
     "text": [
      "long exposure 5.9.3: 0.9599999999999999, long exposure 5.9.0: 1.0500000000000005, short exposure 5.9.0: 0.5199999999999999)\n"
     ]
    }
   ],
   "source": [
    "total_long_exposure_version_5_9_3 = csv_data[(csv_data['long_mode'] == 'n') & (csv_data['version'] == '5.9.3')]['long_exposure'].sum()\n",
    "total_long_exposure_version_5_9_0 = csv_data[(csv_data['long_mode'] == 'n') & (csv_data['version'] == '5.9.0')]['long_exposure'].sum()\n",
    "total_short_exposure_version_5_9_0 = csv_data[(csv_data['short_mode'] == 'n') & (csv_data['version'] == '5.9.0')]['short_exposure'].sum()\n",
    "\n",
    "print(f'long exposure 5.9.3: {total_long_exposure_version_5_9_3}, long exposure 5.9.0: {total_long_exposure_version_5_9_0}, short exposure 5.9.0: {total_short_exposure_version_5_9_0})')\n",
    "\n"
   ],
   "metadata": {
    "collapsed": false,
    "pycharm": {
     "name": "#%%\n"
    }
   }
  },
  {
   "cell_type": "code",
   "execution_count": 16,
   "outputs": [
    {
     "ename": "KeyboardInterrupt",
     "evalue": "",
     "output_type": "error",
     "traceback": [
      "\u001B[1;31m---------------------------------------------------------------------------\u001B[0m",
      "\u001B[1;31mKeyboardInterrupt\u001B[0m                         Traceback (most recent call last)",
      "Cell \u001B[1;32mIn[16], line 7\u001B[0m\n\u001B[0;32m      4\u001B[0m longs \u001B[38;5;241m=\u001B[39m csv_data[(csv_data[\u001B[38;5;124m'\u001B[39m\u001B[38;5;124mlong_mode\u001B[39m\u001B[38;5;124m'\u001B[39m] \u001B[38;5;241m==\u001B[39m \u001B[38;5;124m'\u001B[39m\u001B[38;5;124mn\u001B[39m\u001B[38;5;124m'\u001B[39m)]\u001B[38;5;241m.\u001B[39mshape[\u001B[38;5;241m0\u001B[39m]\n\u001B[0;32m      5\u001B[0m shorts \u001B[38;5;241m=\u001B[39m csv_data[(csv_data[\u001B[38;5;124m'\u001B[39m\u001B[38;5;124mshort_mode\u001B[39m\u001B[38;5;124m'\u001B[39m] \u001B[38;5;241m==\u001B[39m \u001B[38;5;124m'\u001B[39m\u001B[38;5;124mn\u001B[39m\u001B[38;5;124m'\u001B[39m)]\u001B[38;5;241m.\u001B[39mshape[\u001B[38;5;241m0\u001B[39m]\n\u001B[1;32m----> 7\u001B[0m ratio \u001B[38;5;241m=\u001B[39m \u001B[43mshorts\u001B[49m\u001B[38;5;241m/\u001B[39mlongs\n\u001B[0;32m      9\u001B[0m total_exposure \u001B[38;5;241m=\u001B[39m longs\u001B[38;5;241m+\u001B[39mshorts\n\u001B[0;32m     10\u001B[0m total_wallet_with_margin \u001B[38;5;241m=\u001B[39m total_wallet \u001B[38;5;241m*\u001B[39m margin\n",
      "Cell \u001B[1;32mIn[16], line 7\u001B[0m\n\u001B[0;32m      4\u001B[0m longs \u001B[38;5;241m=\u001B[39m csv_data[(csv_data[\u001B[38;5;124m'\u001B[39m\u001B[38;5;124mlong_mode\u001B[39m\u001B[38;5;124m'\u001B[39m] \u001B[38;5;241m==\u001B[39m \u001B[38;5;124m'\u001B[39m\u001B[38;5;124mn\u001B[39m\u001B[38;5;124m'\u001B[39m)]\u001B[38;5;241m.\u001B[39mshape[\u001B[38;5;241m0\u001B[39m]\n\u001B[0;32m      5\u001B[0m shorts \u001B[38;5;241m=\u001B[39m csv_data[(csv_data[\u001B[38;5;124m'\u001B[39m\u001B[38;5;124mshort_mode\u001B[39m\u001B[38;5;124m'\u001B[39m] \u001B[38;5;241m==\u001B[39m \u001B[38;5;124m'\u001B[39m\u001B[38;5;124mn\u001B[39m\u001B[38;5;124m'\u001B[39m)]\u001B[38;5;241m.\u001B[39mshape[\u001B[38;5;241m0\u001B[39m]\n\u001B[1;32m----> 7\u001B[0m ratio \u001B[38;5;241m=\u001B[39m \u001B[43mshorts\u001B[49m\u001B[38;5;241m/\u001B[39mlongs\n\u001B[0;32m      9\u001B[0m total_exposure \u001B[38;5;241m=\u001B[39m longs\u001B[38;5;241m+\u001B[39mshorts\n\u001B[0;32m     10\u001B[0m total_wallet_with_margin \u001B[38;5;241m=\u001B[39m total_wallet \u001B[38;5;241m*\u001B[39m margin\n",
      "File \u001B[1;32m_pydevd_bundle\\pydevd_cython_win32_38_64.pyx:1179\u001B[0m, in \u001B[0;36m_pydevd_bundle.pydevd_cython_win32_38_64.SafeCallWrapper.__call__\u001B[1;34m()\u001B[0m\n",
      "File \u001B[1;32m_pydevd_bundle\\pydevd_cython_win32_38_64.pyx:620\u001B[0m, in \u001B[0;36m_pydevd_bundle.pydevd_cython_win32_38_64.PyDBFrame.trace_dispatch\u001B[1;34m()\u001B[0m\n",
      "File \u001B[1;32m_pydevd_bundle\\pydevd_cython_win32_38_64.pyx:929\u001B[0m, in \u001B[0;36m_pydevd_bundle.pydevd_cython_win32_38_64.PyDBFrame.trace_dispatch\u001B[1;34m()\u001B[0m\n",
      "File \u001B[1;32m_pydevd_bundle\\pydevd_cython_win32_38_64.pyx:920\u001B[0m, in \u001B[0;36m_pydevd_bundle.pydevd_cython_win32_38_64.PyDBFrame.trace_dispatch\u001B[1;34m()\u001B[0m\n",
      "File \u001B[1;32m_pydevd_bundle\\pydevd_cython_win32_38_64.pyx:317\u001B[0m, in \u001B[0;36m_pydevd_bundle.pydevd_cython_win32_38_64.PyDBFrame.do_wait_suspend\u001B[1;34m()\u001B[0m\n",
      "File \u001B[1;32m~\\AppData\\Local\\JetBrains\\Toolbox\\apps\\PyCharm-P\\ch-1\\221.6008.17\\plugins\\python\\helpers\\pydev\\pydevd.py:1155\u001B[0m, in \u001B[0;36mPyDB.do_wait_suspend\u001B[1;34m(self, thread, frame, event, arg, send_suspend_message, is_unhandled_exception)\u001B[0m\n\u001B[0;32m   1152\u001B[0m         from_this_thread\u001B[38;5;241m.\u001B[39mappend(frame_id)\n\u001B[0;32m   1154\u001B[0m \u001B[38;5;28;01mwith\u001B[39;00m \u001B[38;5;28mself\u001B[39m\u001B[38;5;241m.\u001B[39m_threads_suspended_single_notification\u001B[38;5;241m.\u001B[39mnotify_thread_suspended(thread_id, stop_reason):\n\u001B[1;32m-> 1155\u001B[0m     \u001B[38;5;28;43mself\u001B[39;49m\u001B[38;5;241;43m.\u001B[39;49m\u001B[43m_do_wait_suspend\u001B[49m\u001B[43m(\u001B[49m\u001B[43mthread\u001B[49m\u001B[43m,\u001B[49m\u001B[43m \u001B[49m\u001B[43mframe\u001B[49m\u001B[43m,\u001B[49m\u001B[43m \u001B[49m\u001B[43mevent\u001B[49m\u001B[43m,\u001B[49m\u001B[43m \u001B[49m\u001B[43marg\u001B[49m\u001B[43m,\u001B[49m\u001B[43m \u001B[49m\u001B[43msuspend_type\u001B[49m\u001B[43m,\u001B[49m\u001B[43m \u001B[49m\u001B[43mfrom_this_thread\u001B[49m\u001B[43m)\u001B[49m\n",
      "File \u001B[1;32m~\\AppData\\Local\\JetBrains\\Toolbox\\apps\\PyCharm-P\\ch-1\\221.6008.17\\plugins\\python\\helpers\\pydev\\pydevd.py:1170\u001B[0m, in \u001B[0;36mPyDB._do_wait_suspend\u001B[1;34m(self, thread, frame, event, arg, suspend_type, from_this_thread)\u001B[0m\n\u001B[0;32m   1167\u001B[0m             \u001B[38;5;28mself\u001B[39m\u001B[38;5;241m.\u001B[39m_call_mpl_hook()\n\u001B[0;32m   1169\u001B[0m         \u001B[38;5;28mself\u001B[39m\u001B[38;5;241m.\u001B[39mprocess_internal_commands()\n\u001B[1;32m-> 1170\u001B[0m         \u001B[43mtime\u001B[49m\u001B[38;5;241;43m.\u001B[39;49m\u001B[43msleep\u001B[49m\u001B[43m(\u001B[49m\u001B[38;5;241;43m0.01\u001B[39;49m\u001B[43m)\u001B[49m\n\u001B[0;32m   1172\u001B[0m \u001B[38;5;28mself\u001B[39m\u001B[38;5;241m.\u001B[39mcancel_async_evaluation(get_current_thread_id(thread), \u001B[38;5;28mstr\u001B[39m(\u001B[38;5;28mid\u001B[39m(frame)))\n\u001B[0;32m   1174\u001B[0m \u001B[38;5;66;03m# process any stepping instructions\u001B[39;00m\n",
      "\u001B[1;31mKeyboardInterrupt\u001B[0m: "
     ]
    }
   ],
   "source": [
    "total_wallet = 607\n",
    "margin = 7\n",
    "coins = csv_data.shape[0]\n",
    "longs = csv_data[(csv_data['long_mode'] == 'n')].shape[0]\n",
    "shorts = csv_data[(csv_data['short_mode'] == 'n')].shape[0]\n",
    "\n",
    "ratio = shorts/longs\n",
    "\n",
    "total_exposure = longs+shorts\n",
    "total_wallet_with_margin = total_wallet * margin\n",
    "per_entry = total_wallet_with_margin / total_exposure\n",
    "money_cost = total_wallet / total_exposure\n",
    "\n",
    "exposure = money_cost / margin\n",
    "\n",
    "xxx = (exposure / total_wallet) * 100\n",
    "\n",
    "print(f'coins: {coins}, longs:{longs}, shorts:{shorts} , ratio:{ratio}')\n",
    "xxx"
   ],
   "metadata": {
    "collapsed": false,
    "pycharm": {
     "name": "#%%\n"
    }
   }
  },
  {
   "cell_type": "code",
   "execution_count": 13,
   "outputs": [],
   "source": [],
   "metadata": {
    "collapsed": false,
    "pycharm": {
     "name": "#%%\n"
    }
   }
  }
 ],
 "metadata": {
  "kernelspec": {
   "display_name": "Python 3",
   "language": "python",
   "name": "python3"
  },
  "language_info": {
   "codemirror_mode": {
    "name": "ipython",
    "version": 2
   },
   "file_extension": ".py",
   "mimetype": "text/x-python",
   "name": "python",
   "nbconvert_exporter": "python",
   "pygments_lexer": "ipython2",
   "version": "2.7.6"
  }
 },
 "nbformat": 4,
 "nbformat_minor": 0
}