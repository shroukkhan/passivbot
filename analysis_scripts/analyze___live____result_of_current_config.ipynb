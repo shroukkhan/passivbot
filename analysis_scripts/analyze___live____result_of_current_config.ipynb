{
 "cells": [
  {
   "cell_type": "code",
   "execution_count": 1,
   "metadata": {
    "collapsed": true,
    "pycharm": {
     "name": "#%%\n"
    }
   },
   "outputs": [],
   "source": [
    "%load_ext autoreload\n",
    "%autoreload 2"
   ]
  },
  {
   "cell_type": "code",
   "execution_count": 3,
   "outputs": [],
   "source": [
    "import json\n",
    "\n",
    "#function to read ../auth_config.json into a object and return it\n",
    "def get_config():\n",
    "    with open('../auth_config.json') as f:\n",
    "        data = json.load(f)\n",
    "    return data\n",
    "\n",
    "\n",
    "ssh_config = get_config()"
   ],
   "metadata": {
    "collapsed": false,
    "pycharm": {
     "name": "#%%\n"
    }
   }
  },
  {
   "cell_type": "code",
   "execution_count": 8,
   "outputs": [
    {
     "data": {
      "text/plain": "    Unnamed: 0 symbol   direction long_mode short_mode  long_exposure  \\\n0            0    ETH        long         n          m           0.04   \n1            1    BNB        long         n          m           0.04   \n2            2    ADA        long         n          m           0.04   \n3            3    KSM        long         n          m           0.04   \n4            4    LTC        long         n          m           0.04   \n5            5    ETC        long         n          m           0.04   \n6            6    XMR        long         n          m           0.04   \n7            7    TRX        long         n          m           0.04   \n8            8   ALGO        long         n          m           0.04   \n9            9   COMP        long         n          m           0.04   \n10          10   RUNE        long         n          m           0.04   \n11          11   NEAR        long         n          m           0.04   \n12           0   ATOM  long_short         n          n           0.04   \n13           1    CHZ  long_short         n          n           0.04   \n14           2   DOGE  long_short         n          n           0.04   \n15           3    DOT  long_short         n          n           0.04   \n16           4    EOS  long_short         n          n           0.04   \n17           5   HBAR  long_short         n          n           0.04   \n18           6   LINK  long_short         n          n           0.04   \n19           7   MANA  long_short         n          n           0.04   \n20           8  MATIC  long_short         n          n           0.04   \n21           9   SAND  long_short         n          n           0.04   \n22          10  SUSHI  long_short         n          n           0.04   \n23          11    XRP  long_short         n          n           0.04   \n24          12    XTZ  long_short         n          n           0.04   \n\n    short_exposure     account version  Unnamed: 8 Unnamed: 9  \n0             0.00  binance_01   5.9.3         NaN        NaN  \n1             0.00  binance_01   5.9.3         NaN        NaN  \n2             0.00  binance_01   5.9.3         NaN        NaN  \n3             0.00  binance_01   5.9.3         NaN        NaN  \n4             0.00  binance_01   5.9.3         NaN        NaN  \n5             0.00  binance_01   5.9.3         NaN        NaN  \n6             0.00  binance_01   5.9.3         NaN        NaN  \n7             0.00  binance_01   5.9.3         NaN        NaN  \n8             0.00  binance_01   5.9.3         NaN        NaN  \n9             0.00  binance_01   5.9.3         NaN        NaN  \n10            0.00  binance_01   5.9.3         NaN        NaN  \n11            0.00  binance_01   5.9.3         NaN        NaN  \n12            0.03  binance_01   5.9.0         NaN        NaN  \n13            0.03  binance_01   5.9.0         NaN        NaN  \n14            0.03  binance_01   5.9.0         NaN        NaN  \n15            0.03  binance_01   5.9.0         NaN        NaN  \n16            0.03  binance_01   5.9.0         NaN        NaN  \n17            0.03  binance_01   5.9.0         NaN        NaN  \n18            0.03  binance_01   5.9.0         NaN        NaN  \n19            0.03  binance_01   5.9.0         NaN        NaN  \n20            0.03  binance_01   5.9.0         NaN        NaN  \n21            0.03  binance_01   5.9.0         NaN          x  \n22            0.03  binance_01   5.9.0         NaN        NaN  \n23            0.03  binance_01   5.9.0         NaN          x  \n24            0.03  binance_01   5.9.0         NaN        NaN  ",
      "text/html": "<div>\n<style scoped>\n    .dataframe tbody tr th:only-of-type {\n        vertical-align: middle;\n    }\n\n    .dataframe tbody tr th {\n        vertical-align: top;\n    }\n\n    .dataframe thead th {\n        text-align: right;\n    }\n</style>\n<table border=\"1\" class=\"dataframe\">\n  <thead>\n    <tr style=\"text-align: right;\">\n      <th></th>\n      <th>Unnamed: 0</th>\n      <th>symbol</th>\n      <th>direction</th>\n      <th>long_mode</th>\n      <th>short_mode</th>\n      <th>long_exposure</th>\n      <th>short_exposure</th>\n      <th>account</th>\n      <th>version</th>\n      <th>Unnamed: 8</th>\n      <th>Unnamed: 9</th>\n    </tr>\n  </thead>\n  <tbody>\n    <tr>\n      <th>0</th>\n      <td>0</td>\n      <td>ETH</td>\n      <td>long</td>\n      <td>n</td>\n      <td>m</td>\n      <td>0.04</td>\n      <td>0.00</td>\n      <td>binance_01</td>\n      <td>5.9.3</td>\n      <td>NaN</td>\n      <td>NaN</td>\n    </tr>\n    <tr>\n      <th>1</th>\n      <td>1</td>\n      <td>BNB</td>\n      <td>long</td>\n      <td>n</td>\n      <td>m</td>\n      <td>0.04</td>\n      <td>0.00</td>\n      <td>binance_01</td>\n      <td>5.9.3</td>\n      <td>NaN</td>\n      <td>NaN</td>\n    </tr>\n    <tr>\n      <th>2</th>\n      <td>2</td>\n      <td>ADA</td>\n      <td>long</td>\n      <td>n</td>\n      <td>m</td>\n      <td>0.04</td>\n      <td>0.00</td>\n      <td>binance_01</td>\n      <td>5.9.3</td>\n      <td>NaN</td>\n      <td>NaN</td>\n    </tr>\n    <tr>\n      <th>3</th>\n      <td>3</td>\n      <td>KSM</td>\n      <td>long</td>\n      <td>n</td>\n      <td>m</td>\n      <td>0.04</td>\n      <td>0.00</td>\n      <td>binance_01</td>\n      <td>5.9.3</td>\n      <td>NaN</td>\n      <td>NaN</td>\n    </tr>\n    <tr>\n      <th>4</th>\n      <td>4</td>\n      <td>LTC</td>\n      <td>long</td>\n      <td>n</td>\n      <td>m</td>\n      <td>0.04</td>\n      <td>0.00</td>\n      <td>binance_01</td>\n      <td>5.9.3</td>\n      <td>NaN</td>\n      <td>NaN</td>\n    </tr>\n    <tr>\n      <th>5</th>\n      <td>5</td>\n      <td>ETC</td>\n      <td>long</td>\n      <td>n</td>\n      <td>m</td>\n      <td>0.04</td>\n      <td>0.00</td>\n      <td>binance_01</td>\n      <td>5.9.3</td>\n      <td>NaN</td>\n      <td>NaN</td>\n    </tr>\n    <tr>\n      <th>6</th>\n      <td>6</td>\n      <td>XMR</td>\n      <td>long</td>\n      <td>n</td>\n      <td>m</td>\n      <td>0.04</td>\n      <td>0.00</td>\n      <td>binance_01</td>\n      <td>5.9.3</td>\n      <td>NaN</td>\n      <td>NaN</td>\n    </tr>\n    <tr>\n      <th>7</th>\n      <td>7</td>\n      <td>TRX</td>\n      <td>long</td>\n      <td>n</td>\n      <td>m</td>\n      <td>0.04</td>\n      <td>0.00</td>\n      <td>binance_01</td>\n      <td>5.9.3</td>\n      <td>NaN</td>\n      <td>NaN</td>\n    </tr>\n    <tr>\n      <th>8</th>\n      <td>8</td>\n      <td>ALGO</td>\n      <td>long</td>\n      <td>n</td>\n      <td>m</td>\n      <td>0.04</td>\n      <td>0.00</td>\n      <td>binance_01</td>\n      <td>5.9.3</td>\n      <td>NaN</td>\n      <td>NaN</td>\n    </tr>\n    <tr>\n      <th>9</th>\n      <td>9</td>\n      <td>COMP</td>\n      <td>long</td>\n      <td>n</td>\n      <td>m</td>\n      <td>0.04</td>\n      <td>0.00</td>\n      <td>binance_01</td>\n      <td>5.9.3</td>\n      <td>NaN</td>\n      <td>NaN</td>\n    </tr>\n    <tr>\n      <th>10</th>\n      <td>10</td>\n      <td>RUNE</td>\n      <td>long</td>\n      <td>n</td>\n      <td>m</td>\n      <td>0.04</td>\n      <td>0.00</td>\n      <td>binance_01</td>\n      <td>5.9.3</td>\n      <td>NaN</td>\n      <td>NaN</td>\n    </tr>\n    <tr>\n      <th>11</th>\n      <td>11</td>\n      <td>NEAR</td>\n      <td>long</td>\n      <td>n</td>\n      <td>m</td>\n      <td>0.04</td>\n      <td>0.00</td>\n      <td>binance_01</td>\n      <td>5.9.3</td>\n      <td>NaN</td>\n      <td>NaN</td>\n    </tr>\n    <tr>\n      <th>12</th>\n      <td>0</td>\n      <td>ATOM</td>\n      <td>long_short</td>\n      <td>n</td>\n      <td>n</td>\n      <td>0.04</td>\n      <td>0.03</td>\n      <td>binance_01</td>\n      <td>5.9.0</td>\n      <td>NaN</td>\n      <td>NaN</td>\n    </tr>\n    <tr>\n      <th>13</th>\n      <td>1</td>\n      <td>CHZ</td>\n      <td>long_short</td>\n      <td>n</td>\n      <td>n</td>\n      <td>0.04</td>\n      <td>0.03</td>\n      <td>binance_01</td>\n      <td>5.9.0</td>\n      <td>NaN</td>\n      <td>NaN</td>\n    </tr>\n    <tr>\n      <th>14</th>\n      <td>2</td>\n      <td>DOGE</td>\n      <td>long_short</td>\n      <td>n</td>\n      <td>n</td>\n      <td>0.04</td>\n      <td>0.03</td>\n      <td>binance_01</td>\n      <td>5.9.0</td>\n      <td>NaN</td>\n      <td>NaN</td>\n    </tr>\n    <tr>\n      <th>15</th>\n      <td>3</td>\n      <td>DOT</td>\n      <td>long_short</td>\n      <td>n</td>\n      <td>n</td>\n      <td>0.04</td>\n      <td>0.03</td>\n      <td>binance_01</td>\n      <td>5.9.0</td>\n      <td>NaN</td>\n      <td>NaN</td>\n    </tr>\n    <tr>\n      <th>16</th>\n      <td>4</td>\n      <td>EOS</td>\n      <td>long_short</td>\n      <td>n</td>\n      <td>n</td>\n      <td>0.04</td>\n      <td>0.03</td>\n      <td>binance_01</td>\n      <td>5.9.0</td>\n      <td>NaN</td>\n      <td>NaN</td>\n    </tr>\n    <tr>\n      <th>17</th>\n      <td>5</td>\n      <td>HBAR</td>\n      <td>long_short</td>\n      <td>n</td>\n      <td>n</td>\n      <td>0.04</td>\n      <td>0.03</td>\n      <td>binance_01</td>\n      <td>5.9.0</td>\n      <td>NaN</td>\n      <td>NaN</td>\n    </tr>\n    <tr>\n      <th>18</th>\n      <td>6</td>\n      <td>LINK</td>\n      <td>long_short</td>\n      <td>n</td>\n      <td>n</td>\n      <td>0.04</td>\n      <td>0.03</td>\n      <td>binance_01</td>\n      <td>5.9.0</td>\n      <td>NaN</td>\n      <td>NaN</td>\n    </tr>\n    <tr>\n      <th>19</th>\n      <td>7</td>\n      <td>MANA</td>\n      <td>long_short</td>\n      <td>n</td>\n      <td>n</td>\n      <td>0.04</td>\n      <td>0.03</td>\n      <td>binance_01</td>\n      <td>5.9.0</td>\n      <td>NaN</td>\n      <td>NaN</td>\n    </tr>\n    <tr>\n      <th>20</th>\n      <td>8</td>\n      <td>MATIC</td>\n      <td>long_short</td>\n      <td>n</td>\n      <td>n</td>\n      <td>0.04</td>\n      <td>0.03</td>\n      <td>binance_01</td>\n      <td>5.9.0</td>\n      <td>NaN</td>\n      <td>NaN</td>\n    </tr>\n    <tr>\n      <th>21</th>\n      <td>9</td>\n      <td>SAND</td>\n      <td>long_short</td>\n      <td>n</td>\n      <td>n</td>\n      <td>0.04</td>\n      <td>0.03</td>\n      <td>binance_01</td>\n      <td>5.9.0</td>\n      <td>NaN</td>\n      <td>x</td>\n    </tr>\n    <tr>\n      <th>22</th>\n      <td>10</td>\n      <td>SUSHI</td>\n      <td>long_short</td>\n      <td>n</td>\n      <td>n</td>\n      <td>0.04</td>\n      <td>0.03</td>\n      <td>binance_01</td>\n      <td>5.9.0</td>\n      <td>NaN</td>\n      <td>NaN</td>\n    </tr>\n    <tr>\n      <th>23</th>\n      <td>11</td>\n      <td>XRP</td>\n      <td>long_short</td>\n      <td>n</td>\n      <td>n</td>\n      <td>0.04</td>\n      <td>0.03</td>\n      <td>binance_01</td>\n      <td>5.9.0</td>\n      <td>NaN</td>\n      <td>x</td>\n    </tr>\n    <tr>\n      <th>24</th>\n      <td>12</td>\n      <td>XTZ</td>\n      <td>long_short</td>\n      <td>n</td>\n      <td>n</td>\n      <td>0.04</td>\n      <td>0.03</td>\n      <td>binance_01</td>\n      <td>5.9.0</td>\n      <td>NaN</td>\n      <td>NaN</td>\n    </tr>\n  </tbody>\n</table>\n</div>"
     },
     "execution_count": 8,
     "metadata": {},
     "output_type": "execute_result"
    }
   ],
   "source": [
    "import paramiko\n",
    "import pandas as pd\n",
    "\n",
    "def download_file_via_ssh(hostname, username, password, remote_path, local_path):\n",
    "    ssh = paramiko.SSHClient()\n",
    "    ssh.set_missing_host_key_policy(paramiko.AutoAddPolicy())\n",
    "    ssh.connect(hostname, username=username, password=password)\n",
    "    sftp = ssh.open_sftp()\n",
    "    sftp.get(remote_path, local_path)\n",
    "    sftp.close()\n",
    "    ssh.close()\n",
    "\n",
    "\n",
    "\n",
    "csv_files = {\n",
    "    '5.9.3.csv': '/root/passivbot_5.9.3/run_config.csv',\n",
    "    '5.9.0.csv': '/root/passivbot_5.9.0/run_config.csv',\n",
    "}\n",
    "\n",
    "# Create an empty DataFrame\n",
    "csv_data = pd.DataFrame()\n",
    "for csv_file in csv_files:\n",
    "    download_file_via_ssh(ssh_config['ip'], ssh_config['user'], ssh_config['password'],\n",
    "                          csv_files[csv_file], csv_file)\n",
    "    new_data = pd.read_csv(csv_file)\n",
    "    new_data['version'] = csv_file.replace('.csv', '')\n",
    "    csv_data = pd.concat([csv_data, new_data], ignore_index=True)\n",
    "\n",
    "csv_data"
   ],
   "metadata": {
    "collapsed": false,
    "pycharm": {
     "name": "#%%\n"
    }
   }
  },
  {
   "cell_type": "code",
   "execution_count": 9,
   "outputs": [
    {
     "name": "stdout",
     "output_type": "stream",
     "text": [
      "coins: 25, longs:25, shorts:13 , ratio:0.52\n"
     ]
    },
    {
     "data": {
      "text/plain": "0.37593984962406013"
     },
     "execution_count": 9,
     "metadata": {},
     "output_type": "execute_result"
    }
   ],
   "source": [
    "total_wallet = 607\n",
    "margin = 7\n",
    "coins = csv_data.shape[0]\n",
    "longs = csv_data[(csv_data['long_mode'] == 'n')].shape[0]\n",
    "shorts = csv_data[(csv_data['short_mode'] == 'n')].shape[0]\n",
    "\n",
    "ratio = shorts/longs\n",
    "\n",
    "total_exposure = longs+shorts\n",
    "total_wallet_with_margin = total_wallet * margin\n",
    "per_entry = total_wallet_with_margin / total_exposure\n",
    "money_cost = total_wallet / total_exposure\n",
    "\n",
    "exposure = money_cost / margin\n",
    "\n",
    "xxx = (exposure / total_wallet) * 100\n",
    "\n",
    "print(f'coins: {coins}, longs:{longs}, shorts:{shorts} , ratio:{ratio}')\n",
    "xxx"
   ],
   "metadata": {
    "collapsed": false,
    "pycharm": {
     "name": "#%%\n"
    }
   }
  },
  {
   "cell_type": "code",
   "execution_count": 24,
   "outputs": [],
   "source": [],
   "metadata": {
    "collapsed": false,
    "pycharm": {
     "name": "#%%\n"
    }
   }
  }
 ],
 "metadata": {
  "kernelspec": {
   "display_name": "Python 3",
   "language": "python",
   "name": "python3"
  },
  "language_info": {
   "codemirror_mode": {
    "name": "ipython",
    "version": 2
   },
   "file_extension": ".py",
   "mimetype": "text/x-python",
   "name": "python",
   "nbconvert_exporter": "python",
   "pygments_lexer": "ipython2",
   "version": "2.7.6"
  }
 },
 "nbformat": 4,
 "nbformat_minor": 0
}