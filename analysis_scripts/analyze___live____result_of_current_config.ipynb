{
 "cells": [
  {
   "cell_type": "code",
   "execution_count": 1,
   "metadata": {
    "collapsed": true,
    "pycharm": {
     "name": "#%%\n"
    }
   },
   "outputs": [],
   "source": [
    "%load_ext autoreload\n",
    "%autoreload 2"
   ]
  },
  {
   "cell_type": "code",
   "execution_count": 3,
   "outputs": [],
   "source": [
    "import json\n",
    "\n",
    "#function to read ../auth_config.json into a object and return it\n",
    "def get_config():\n",
    "    with open('../auth_config.json') as f:\n",
    "        data = json.load(f)\n",
    "    return data\n",
    "\n",
    "\n",
    "ssh_config = get_config()"
   ],
   "metadata": {
    "collapsed": false,
    "pycharm": {
     "name": "#%%\n"
    }
   }
  },
  {
   "cell_type": "code",
   "execution_count": 8,
   "outputs": [
    {
     "data": {
      "text/plain": "    Unnamed: 0 symbol   direction long_mode short_mode  long_exposure  \\\n0            0    ETH        long         n          m           0.04   \n1            1    BNB        long         n          m           0.04   \n2            2    ADA        long         n          m           0.04   \n3            3    KSM        long         n          m           0.04   \n4            4    LTC        long         n          m           0.04   \n5            5    ETC        long         n          m           0.04   \n6            6    XMR        long         n          m           0.04   \n7            7    TRX        long         n          m           0.04   \n8            8   ALGO        long         n          m           0.04   \n9            9   COMP        long         n          m           0.04   \n10          10   RUNE        long         n          m           0.04   \n11          11   NEAR        long         n          m           0.04   \n12           0   ATOM  long_short         n          n           0.04   \n13           1    CHZ  long_short         n          n           0.04   \n14           2   DOGE  long_short         n          n           0.04   \n15           3    DOT  long_short         n          n           0.04   \n16           4    EOS  long_short         n          n           0.04   \n17           5   HBAR  long_short         n          n           0.04   \n18           6   LINK  long_short         n          n           0.04   \n19           7   MANA  long_short         n          n           0.04   \n20           8  MATIC  long_short         n          n           0.04   \n21           9   SAND  long_short         n          n           0.04   \n22          10  SUSHI  long_short         n          n           0.04   \n23          11    XRP  long_short         n          n           0.04   \n24          12    XTZ  long_short         n          n           0.04   \n\n    short_exposure     account version  Unnamed: 8 Unnamed: 9  \n0             0.00  binance_01   5.9.3         NaN        NaN  \n1             0.00  binance_01   5.9.3         NaN        NaN  \n2             0.00  binance_01   5.9.3         NaN        NaN  \n3             0.00  binance_01   5.9.3         NaN        NaN  \n4             0.00  binance_01   5.9.3         NaN        NaN  \n5             0.00  binance_01   5.9.3         NaN        NaN  \n6             0.00  binance_01   5.9.3         NaN        NaN  \n7             0.00  binance_01   5.9.3         NaN        NaN  \n8             0.00  binance_01   5.9.3         NaN        NaN  \n9             0.00  binance_01   5.9.3         NaN        NaN  \n10            0.00  binance_01   5.9.3         NaN        NaN  \n11            0.00  binance_01   5.9.3         NaN        NaN  \n12            0.03  binance_01   5.9.0         NaN        NaN  \n13            0.03  binance_01   5.9.0         NaN        NaN  \n14            0.03  binance_01   5.9.0         NaN        NaN  \n15            0.03  binance_01   5.9.0         NaN        NaN  \n16            0.03  binance_01   5.9.0         NaN        NaN  \n17            0.03  binance_01   5.9.0         NaN        NaN  \n18            0.03  binance_01   5.9.0         NaN        NaN  \n19            0.03  binance_01   5.9.0         NaN        NaN  \n20            0.03  binance_01   5.9.0         NaN        NaN  \n21            0.03  binance_01   5.9.0         NaN          x  \n22            0.03  binance_01   5.9.0         NaN        NaN  \n23            0.03  binance_01   5.9.0         NaN          x  \n24            0.03  binance_01   5.9.0         NaN        NaN  ",
      "text/html": "<div>\n<style scoped>\n    .dataframe tbody tr th:only-of-type {\n        vertical-align: middle;\n    }\n\n    .dataframe tbody tr th {\n        vertical-align: top;\n    }\n\n    .dataframe thead th {\n        text-align: right;\n    }\n</style>\n<table border=\"1\" class=\"dataframe\">\n  <thead>\n    <tr style=\"text-align: right;\">\n      <th></th>\n      <th>Unnamed: 0</th>\n      <th>symbol</th>\n      <th>direction</th>\n      <th>long_mode</th>\n      <th>short_mode</th>\n      <th>long_exposure</th>\n      <th>short_exposure</th>\n      <th>account</th>\n      <th>version</th>\n      <th>Unnamed: 8</th>\n      <th>Unnamed: 9</th>\n    </tr>\n  </thead>\n  <tbody>\n    <tr>\n      <th>0</th>\n      <td>0</td>\n      <td>ETH</td>\n      <td>long</td>\n      <td>n</td>\n      <td>m</td>\n      <td>0.04</td>\n      <td>0.00</td>\n      <td>binance_01</td>\n      <td>5.9.3</td>\n      <td>NaN</td>\n      <td>NaN</td>\n    </tr>\n    <tr>\n      <th>1</th>\n      <td>1</td>\n      <td>BNB</td>\n      <td>long</td>\n      <td>n</td>\n      <td>m</td>\n      <td>0.04</td>\n      <td>0.00</td>\n      <td>binance_01</td>\n      <td>5.9.3</td>\n      <td>NaN</td>\n      <td>NaN</td>\n    </tr>\n    <tr>\n      <th>2</th>\n      <td>2</td>\n      <td>ADA</td>\n      <td>long</td>\n      <td>n</td>\n      <td>m</td>\n      <td>0.04</td>\n      <td>0.00</td>\n      <td>binance_01</td>\n      <td>5.9.3</td>\n      <td>NaN</td>\n      <td>NaN</td>\n    </tr>\n    <tr>\n      <th>3</th>\n      <td>3</td>\n      <td>KSM</td>\n      <td>long</td>\n      <td>n</td>\n      <td>m</td>\n      <td>0.04</td>\n      <td>0.00</td>\n      <td>binance_01</td>\n      <td>5.9.3</td>\n      <td>NaN</td>\n      <td>NaN</td>\n    </tr>\n    <tr>\n      <th>4</th>\n      <td>4</td>\n      <td>LTC</td>\n      <td>long</td>\n      <td>n</td>\n      <td>m</td>\n      <td>0.04</td>\n      <td>0.00</td>\n      <td>binance_01</td>\n      <td>5.9.3</td>\n      <td>NaN</td>\n      <td>NaN</td>\n    </tr>\n    <tr>\n      <th>5</th>\n      <td>5</td>\n      <td>ETC</td>\n      <td>long</td>\n      <td>n</td>\n      <td>m</td>\n      <td>0.04</td>\n      <td>0.00</td>\n      <td>binance_01</td>\n      <td>5.9.3</td>\n      <td>NaN</td>\n      <td>NaN</td>\n    </tr>\n    <tr>\n      <th>6</th>\n      <td>6</td>\n      <td>XMR</td>\n      <td>long</td>\n      <td>n</td>\n      <td>m</td>\n      <td>0.04</td>\n      <td>0.00</td>\n      <td>binance_01</td>\n      <td>5.9.3</td>\n      <td>NaN</td>\n      <td>NaN</td>\n    </tr>\n    <tr>\n      <th>7</th>\n      <td>7</td>\n      <td>TRX</td>\n      <td>long</td>\n      <td>n</td>\n      <td>m</td>\n      <td>0.04</td>\n      <td>0.00</td>\n      <td>binance_01</td>\n      <td>5.9.3</td>\n      <td>NaN</td>\n      <td>NaN</td>\n    </tr>\n    <tr>\n      <th>8</th>\n      <td>8</td>\n      <td>ALGO</td>\n      <td>long</td>\n      <td>n</td>\n      <td>m</td>\n      <td>0.04</td>\n      <td>0.00</td>\n      <td>binance_01</td>\n      <td>5.9.3</td>\n      <td>NaN</td>\n      <td>NaN</td>\n    </tr>\n    <tr>\n      <th>9</th>\n      <td>9</td>\n      <td>COMP</td>\n      <td>long</td>\n      <td>n</td>\n      <td>m</td>\n      <td>0.04</td>\n      <td>0.00</td>\n      <td>binance_01</td>\n      <td>5.9.3</td>\n      <td>NaN</td>\n      <td>NaN</td>\n    </tr>\n    <tr>\n      <th>10</th>\n      <td>10</td>\n      <td>RUNE</td>\n      <td>long</td>\n      <td>n</td>\n      <td>m</td>\n      <td>0.04</td>\n      <td>0.00</td>\n      <td>binance_01</td>\n      <td>5.9.3</td>\n      <td>NaN</td>\n      <td>NaN</td>\n    </tr>\n    <tr>\n      <th>11</th>\n      <td>11</td>\n      <td>NEAR</td>\n      <td>long</td>\n      <td>n</td>\n      <td>m</td>\n      <td>0.04</td>\n      <td>0.00</td>\n      <td>binance_01</td>\n      <td>5.9.3</td>\n      <td>NaN</td>\n      <td>NaN</td>\n    </tr>\n    <tr>\n      <th>12</th>\n      <td>0</td>\n      <td>ATOM</td>\n      <td>long_short</td>\n      <td>n</td>\n      <td>n</td>\n      <td>0.04</td>\n      <td>0.03</td>\n      <td>binance_01</td>\n      <td>5.9.0</td>\n      <td>NaN</td>\n      <td>NaN</td>\n    </tr>\n    <tr>\n      <th>13</th>\n      <td>1</td>\n      <td>CHZ</td>\n      <td>long_short</td>\n      <td>n</td>\n      <td>n</td>\n      <td>0.04</td>\n      <td>0.03</td>\n      <td>binance_01</td>\n      <td>5.9.0</td>\n      <td>NaN</td>\n      <td>NaN</td>\n    </tr>\n    <tr>\n      <th>14</th>\n      <td>2</td>\n      <td>DOGE</td>\n      <td>long_short</td>\n      <td>n</td>\n      <td>n</td>\n      <td>0.04</td>\n      <td>0.03</td>\n      <td>binance_01</td>\n      <td>5.9.0</td>\n      <td>NaN</td>\n      <td>NaN</td>\n    </tr>\n    <tr>\n      <th>15</th>\n      <td>3</td>\n      <td>DOT</td>\n      <td>long_short</td>\n      <td>n</td>\n      <td>n</td>\n      <td>0.04</td>\n      <td>0.03</td>\n      <td>binance_01</td>\n      <td>5.9.0</td>\n      <td>NaN</td>\n      <td>NaN</td>\n    </tr>\n    <tr>\n      <th>16</th>\n      <td>4</td>\n      <td>EOS</td>\n      <td>long_short</td>\n      <td>n</td>\n      <td>n</td>\n      <td>0.04</td>\n      <td>0.03</td>\n      <td>binance_01</td>\n      <td>5.9.0</td>\n      <td>NaN</td>\n      <td>NaN</td>\n    </tr>\n    <tr>\n      <th>17</th>\n      <td>5</td>\n      <td>HBAR</td>\n      <td>long_short</td>\n      <td>n</td>\n      <td>n</td>\n      <td>0.04</td>\n      <td>0.03</td>\n      <td>binance_01</td>\n      <td>5.9.0</td>\n      <td>NaN</td>\n      <td>NaN</td>\n    </tr>\n    <tr>\n      <th>18</th>\n      <td>6</td>\n      <td>LINK</td>\n      <td>long_short</td>\n      <td>n</td>\n      <td>n</td>\n      <td>0.04</td>\n      <td>0.03</td>\n      <td>binance_01</td>\n      <td>5.9.0</td>\n      <td>NaN</td>\n      <td>NaN</td>\n    </tr>\n    <tr>\n      <th>19</th>\n      <td>7</td>\n      <td>MANA</td>\n      <td>long_short</td>\n      <td>n</td>\n      <td>n</td>\n      <td>0.04</td>\n      <td>0.03</td>\n      <td>binance_01</td>\n      <td>5.9.0</td>\n      <td>NaN</td>\n      <td>NaN</td>\n    </tr>\n    <tr>\n      <th>20</th>\n      <td>8</td>\n      <td>MATIC</td>\n      <td>long_short</td>\n      <td>n</td>\n      <td>n</td>\n      <td>0.04</td>\n      <td>0.03</td>\n      <td>binance_01</td>\n      <td>5.9.0</td>\n      <td>NaN</td>\n      <td>NaN</td>\n    </tr>\n    <tr>\n      <th>21</th>\n      <td>9</td>\n      <td>SAND</td>\n      <td>long_short</td>\n      <td>n</td>\n      <td>n</td>\n      <td>0.04</td>\n      <td>0.03</td>\n      <td>binance_01</td>\n      <td>5.9.0</td>\n      <td>NaN</td>\n      <td>x</td>\n    </tr>\n    <tr>\n      <th>22</th>\n      <td>10</td>\n      <td>SUSHI</td>\n      <td>long_short</td>\n      <td>n</td>\n      <td>n</td>\n      <td>0.04</td>\n      <td>0.03</td>\n      <td>binance_01</td>\n      <td>5.9.0</td>\n      <td>NaN</td>\n      <td>NaN</td>\n    </tr>\n    <tr>\n      <th>23</th>\n      <td>11</td>\n      <td>XRP</td>\n      <td>long_short</td>\n      <td>n</td>\n      <td>n</td>\n      <td>0.04</td>\n      <td>0.03</td>\n      <td>binance_01</td>\n      <td>5.9.0</td>\n      <td>NaN</td>\n      <td>x</td>\n    </tr>\n    <tr>\n      <th>24</th>\n      <td>12</td>\n      <td>XTZ</td>\n      <td>long_short</td>\n      <td>n</td>\n      <td>n</td>\n      <td>0.04</td>\n      <td>0.03</td>\n      <td>binance_01</td>\n      <td>5.9.0</td>\n      <td>NaN</td>\n      <td>NaN</td>\n    </tr>\n  </tbody>\n</table>\n</div>"
     },
     "execution_count": 8,
     "metadata": {},
     "output_type": "execute_result"
    }
   ],
   "source": [
    "import paramiko\n",
    "import pandas as pd\n",
    "\n",
    "def download_file_via_ssh(hostname, username, password, remote_path, local_path):\n",
    "    ssh = paramiko.SSHClient()\n",
    "    ssh.set_missing_host_key_policy(paramiko.AutoAddPolicy())\n",
    "    ssh.connect(hostname, username=username, password=password)\n",
    "    sftp = ssh.open_sftp()\n",
    "    sftp.get(remote_path, local_path)\n",
    "    sftp.close()\n",
    "    ssh.close()\n",
    "\n",
    "\n",
    "\n",
    "csv_files = {\n",
    "    '5.9.3.csv': '/root/passivbot_5.9.3/run_config.csv',\n",
    "    '5.9.0.csv': '/root/passivbot_5.9.0/run_config.csv',\n",
    "}\n",
    "\n",
    "# Create an empty DataFrame\n",
    "csv_data = pd.DataFrame()\n",
    "for csv_file in csv_files:\n",
    "    download_file_via_ssh(ssh_config['ip'], ssh_config['user'], ssh_config['password'],\n",
    "                          csv_files[csv_file], csv_file)\n",
    "    new_data = pd.read_csv(csv_file)\n",
    "    new_data['version'] = csv_file.replace('.csv', '')\n",
    "    csv_data = pd.concat([csv_data, new_data], ignore_index=True)\n",
    "\n",
    "csv_data"
   ],
   "metadata": {
    "collapsed": false,
    "pycharm": {
     "name": "#%%\n"
    }
   }
  },
  {
   "cell_type": "code",
   "execution_count": 9,
   "outputs": [
    {
     "name": "stdout",
     "output_type": "stream",
     "text": [
      "coins: 25, longs:25, shorts:13 , ratio:0.52\n"
     ]
    },
    {
     "data": {
      "text/plain": "0.37593984962406013"
     },
     "execution_count": 9,
     "metadata": {},
     "output_type": "execute_result"
    }
   ],
   "source": [
    "total_wallet = 607\n",
    "margin = 7\n",
    "coins = csv_data.shape[0]\n",
    "longs = csv_data[(csv_data['long_mode'] == 'n')].shape[0]\n",
    "shorts = csv_data[(csv_data['short_mode'] == 'n')].shape[0]\n",
    "\n",
    "ratio = shorts/longs\n",
    "\n",
    "total_exposure = longs+shorts\n",
    "total_wallet_with_margin = total_wallet * margin\n",
    "per_entry = total_wallet_with_margin / total_exposure\n",
    "money_cost = total_wallet / total_exposure\n",
    "\n",
    "exposure = money_cost / margin\n",
    "\n",
    "xxx = (exposure / total_wallet) * 100\n",
    "\n",
    "print(f'coins: {coins}, longs:{longs}, shorts:{shorts} , ratio:{ratio}')\n",
    "xxx"
   ],
   "metadata": {
    "collapsed": false,
    "pycharm": {
     "name": "#%%\n"
    }
   }
  },
  {
   "cell_type": "code",
   "execution_count": 21,
   "outputs": [
    {
     "name": "stdout",
     "output_type": "stream",
     "text": [
      "Found config file for CHZUSDT\n",
      "Found config file for MATICUSDT\n",
      "Found config file for DOGEUSDT\n",
      "Found config file for EOSUSDT\n",
      "Found config file for LINKUSDT\n",
      "Found config file for XRPUSDT\n",
      "Found config file for ATOMUSDT\n",
      "Found config file for HBARUSDT\n"
     ]
    },
    {
     "name": "stderr",
     "output_type": "stream",
     "text": [
      "C:\\Users\\skhan\\AppData\\Local\\Temp\\ipykernel_18552\\639289630.py:111: FutureWarning: The frame.append method is deprecated and will be removed from pandas in a future version. Use pandas.concat instead.\n",
      "  big_data = big_data.append(d, ignore_index=True)\n",
      "C:\\Users\\skhan\\AppData\\Local\\Temp\\ipykernel_18552\\639289630.py:111: FutureWarning: The frame.append method is deprecated and will be removed from pandas in a future version. Use pandas.concat instead.\n",
      "  big_data = big_data.append(d, ignore_index=True)\n",
      "C:\\Users\\skhan\\AppData\\Local\\Temp\\ipykernel_18552\\639289630.py:111: FutureWarning: The frame.append method is deprecated and will be removed from pandas in a future version. Use pandas.concat instead.\n",
      "  big_data = big_data.append(d, ignore_index=True)\n",
      "C:\\Users\\skhan\\AppData\\Local\\Temp\\ipykernel_18552\\639289630.py:111: FutureWarning: The frame.append method is deprecated and will be removed from pandas in a future version. Use pandas.concat instead.\n",
      "  big_data = big_data.append(d, ignore_index=True)\n",
      "C:\\Users\\skhan\\AppData\\Local\\Temp\\ipykernel_18552\\639289630.py:111: FutureWarning: The frame.append method is deprecated and will be removed from pandas in a future version. Use pandas.concat instead.\n",
      "  big_data = big_data.append(d, ignore_index=True)\n",
      "C:\\Users\\skhan\\AppData\\Local\\Temp\\ipykernel_18552\\639289630.py:111: FutureWarning: The frame.append method is deprecated and will be removed from pandas in a future version. Use pandas.concat instead.\n",
      "  big_data = big_data.append(d, ignore_index=True)\n",
      "C:\\Users\\skhan\\AppData\\Local\\Temp\\ipykernel_18552\\639289630.py:111: FutureWarning: The frame.append method is deprecated and will be removed from pandas in a future version. Use pandas.concat instead.\n",
      "  big_data = big_data.append(d, ignore_index=True)\n",
      "C:\\Users\\skhan\\AppData\\Local\\Temp\\ipykernel_18552\\639289630.py:111: FutureWarning: The frame.append method is deprecated and will be removed from pandas in a future version. Use pandas.concat instead.\n",
      "  big_data = big_data.append(d, ignore_index=True)\n"
     ]
    },
    {
     "data": {
      "text/plain": "                                                file          s  long   tgl_%  \\\n0  passivbot_v5.8.0/configs/particle_swarm/neat/n...    CHZUSDT  True   16.84   \n1  passivbot_v5.8.0/configs/particle_swarm/recurs...  MATICUSDT  True  110.70   \n2  passivbot_v5.8.0/configs/particle_swarm/recurs...   DOGEUSDT  True   78.90   \n3  passivbot_v5.8.0/configs/particle_swarm/recurs...    EOSUSDT  True   44.94   \n4  passivbot_v5.8.0/configs/particle_swarm/recurs...   LINKUSDT  True   69.82   \n5  passivbot_v5.8.0/configs/particle_swarm/recurs...    XRPUSDT  True   78.78   \n6  passivbot_v5.8.0/configs/particle_swarm/recurs...   ATOMUSDT  True   43.89   \n7  passivbot_v5.8.0/configs/particle_swarm/recurs...   HBARUSDT  True   58.97   \n\n   adgl_%    pastdl    pamaxl  bnkrl_%    ebrl      maxsl  adgs_%  bnkrs_%  \\\n0  0.0227  0.010568  0.972791    100.0  0.9507   3.097221     NaN      NaN   \n1  0.0980  0.009527  0.344123    100.0  0.9358   3.534721  0.0226    100.0   \n2  0.0653  0.009553  0.444083    100.0  0.9230  14.734708  0.0308    100.0   \n3  0.0354  0.010325  0.384362    100.0  0.9305   9.236125  0.0175    100.0   \n4  0.0505  0.010666  0.423959    100.0  0.9255   4.113887  0.0198    100.0   \n5  0.0552  0.009951  0.323725    100.0  0.9387   9.106250  0.0179    100.0   \n6  0.0353  0.009951  0.250914    100.0  0.9497   3.324304  0.0231    100.0   \n7  0.0750  0.009953  0.640497    100.0  0.9023   5.772208  0.0538    100.0   \n\n     ebrs     maxss    pamaxs    pastds short  tgs_%  \n0     NaN       NaN       NaN       NaN   NaN    NaN  \n1  0.9546  4.047917  0.274453  0.015690  True  18.71  \n2  0.8412  9.754875  0.569193  0.038511  True  28.69  \n3  0.9474  6.215958  0.303643  0.013407  True  19.93  \n4  0.9792  5.515292  0.146795  0.011554  True  22.96  \n5  0.9449  6.441667  0.313927  0.009566  True  21.38  \n6  0.9728  3.318054  0.182261  0.010759  True  27.06  \n7  0.9515  4.806250  0.287523  0.012303  True  40.02  ",
      "text/html": "<div>\n<style scoped>\n    .dataframe tbody tr th:only-of-type {\n        vertical-align: middle;\n    }\n\n    .dataframe tbody tr th {\n        vertical-align: top;\n    }\n\n    .dataframe thead th {\n        text-align: right;\n    }\n</style>\n<table border=\"1\" class=\"dataframe\">\n  <thead>\n    <tr style=\"text-align: right;\">\n      <th></th>\n      <th>file</th>\n      <th>s</th>\n      <th>long</th>\n      <th>tgl_%</th>\n      <th>adgl_%</th>\n      <th>pastdl</th>\n      <th>pamaxl</th>\n      <th>bnkrl_%</th>\n      <th>ebrl</th>\n      <th>maxsl</th>\n      <th>adgs_%</th>\n      <th>bnkrs_%</th>\n      <th>ebrs</th>\n      <th>maxss</th>\n      <th>pamaxs</th>\n      <th>pastds</th>\n      <th>short</th>\n      <th>tgs_%</th>\n    </tr>\n  </thead>\n  <tbody>\n    <tr>\n      <th>0</th>\n      <td>passivbot_v5.8.0/configs/particle_swarm/neat/n...</td>\n      <td>CHZUSDT</td>\n      <td>True</td>\n      <td>16.84</td>\n      <td>0.0227</td>\n      <td>0.010568</td>\n      <td>0.972791</td>\n      <td>100.0</td>\n      <td>0.9507</td>\n      <td>3.097221</td>\n      <td>NaN</td>\n      <td>NaN</td>\n      <td>NaN</td>\n      <td>NaN</td>\n      <td>NaN</td>\n      <td>NaN</td>\n      <td>NaN</td>\n      <td>NaN</td>\n    </tr>\n    <tr>\n      <th>1</th>\n      <td>passivbot_v5.8.0/configs/particle_swarm/recurs...</td>\n      <td>MATICUSDT</td>\n      <td>True</td>\n      <td>110.70</td>\n      <td>0.0980</td>\n      <td>0.009527</td>\n      <td>0.344123</td>\n      <td>100.0</td>\n      <td>0.9358</td>\n      <td>3.534721</td>\n      <td>0.0226</td>\n      <td>100.0</td>\n      <td>0.9546</td>\n      <td>4.047917</td>\n      <td>0.274453</td>\n      <td>0.015690</td>\n      <td>True</td>\n      <td>18.71</td>\n    </tr>\n    <tr>\n      <th>2</th>\n      <td>passivbot_v5.8.0/configs/particle_swarm/recurs...</td>\n      <td>DOGEUSDT</td>\n      <td>True</td>\n      <td>78.90</td>\n      <td>0.0653</td>\n      <td>0.009553</td>\n      <td>0.444083</td>\n      <td>100.0</td>\n      <td>0.9230</td>\n      <td>14.734708</td>\n      <td>0.0308</td>\n      <td>100.0</td>\n      <td>0.8412</td>\n      <td>9.754875</td>\n      <td>0.569193</td>\n      <td>0.038511</td>\n      <td>True</td>\n      <td>28.69</td>\n    </tr>\n    <tr>\n      <th>3</th>\n      <td>passivbot_v5.8.0/configs/particle_swarm/recurs...</td>\n      <td>EOSUSDT</td>\n      <td>True</td>\n      <td>44.94</td>\n      <td>0.0354</td>\n      <td>0.010325</td>\n      <td>0.384362</td>\n      <td>100.0</td>\n      <td>0.9305</td>\n      <td>9.236125</td>\n      <td>0.0175</td>\n      <td>100.0</td>\n      <td>0.9474</td>\n      <td>6.215958</td>\n      <td>0.303643</td>\n      <td>0.013407</td>\n      <td>True</td>\n      <td>19.93</td>\n    </tr>\n    <tr>\n      <th>4</th>\n      <td>passivbot_v5.8.0/configs/particle_swarm/recurs...</td>\n      <td>LINKUSDT</td>\n      <td>True</td>\n      <td>69.82</td>\n      <td>0.0505</td>\n      <td>0.010666</td>\n      <td>0.423959</td>\n      <td>100.0</td>\n      <td>0.9255</td>\n      <td>4.113887</td>\n      <td>0.0198</td>\n      <td>100.0</td>\n      <td>0.9792</td>\n      <td>5.515292</td>\n      <td>0.146795</td>\n      <td>0.011554</td>\n      <td>True</td>\n      <td>22.96</td>\n    </tr>\n    <tr>\n      <th>5</th>\n      <td>passivbot_v5.8.0/configs/particle_swarm/recurs...</td>\n      <td>XRPUSDT</td>\n      <td>True</td>\n      <td>78.78</td>\n      <td>0.0552</td>\n      <td>0.009951</td>\n      <td>0.323725</td>\n      <td>100.0</td>\n      <td>0.9387</td>\n      <td>9.106250</td>\n      <td>0.0179</td>\n      <td>100.0</td>\n      <td>0.9449</td>\n      <td>6.441667</td>\n      <td>0.313927</td>\n      <td>0.009566</td>\n      <td>True</td>\n      <td>21.38</td>\n    </tr>\n    <tr>\n      <th>6</th>\n      <td>passivbot_v5.8.0/configs/particle_swarm/recurs...</td>\n      <td>ATOMUSDT</td>\n      <td>True</td>\n      <td>43.89</td>\n      <td>0.0353</td>\n      <td>0.009951</td>\n      <td>0.250914</td>\n      <td>100.0</td>\n      <td>0.9497</td>\n      <td>3.324304</td>\n      <td>0.0231</td>\n      <td>100.0</td>\n      <td>0.9728</td>\n      <td>3.318054</td>\n      <td>0.182261</td>\n      <td>0.010759</td>\n      <td>True</td>\n      <td>27.06</td>\n    </tr>\n    <tr>\n      <th>7</th>\n      <td>passivbot_v5.8.0/configs/particle_swarm/recurs...</td>\n      <td>HBARUSDT</td>\n      <td>True</td>\n      <td>58.97</td>\n      <td>0.0750</td>\n      <td>0.009953</td>\n      <td>0.640497</td>\n      <td>100.0</td>\n      <td>0.9023</td>\n      <td>5.772208</td>\n      <td>0.0538</td>\n      <td>100.0</td>\n      <td>0.9515</td>\n      <td>4.806250</td>\n      <td>0.287523</td>\n      <td>0.012303</td>\n      <td>True</td>\n      <td>40.02</td>\n    </tr>\n  </tbody>\n</table>\n</div>"
     },
     "execution_count": 21,
     "metadata": {},
     "output_type": "execute_result"
    }
   ],
   "source": [
    "import glob\n",
    "\n",
    "import os\n",
    "import pandas as pd\n",
    "\n",
    "\n",
    "\n",
    "\n",
    "\n",
    "def contained(a, b):\n",
    "    \"\"\" checks if dictionary a is fully contained in b \"\"\"\n",
    "    if not isinstance(a, dict):\n",
    "        return a == b\n",
    "    else:\n",
    "        return all(contained(v, b.get(k)) for k, v in a.items())\n",
    "\n",
    "\n",
    "big_data = pd.DataFrame()\n",
    "## find current folder root\n",
    "root = os.getcwd()\n",
    "\n",
    "## get all list of json files in cfgs_live folder and put it in a list\n",
    "json_files = glob.glob('C:\\\\AgodaGit\\\\passivbot' + '/cfgs_live/*.json')\n",
    "current_configs = {}\n",
    "for file in json_files:\n",
    "    with open(file) as f:\n",
    "        data = json.load(f)\n",
    "        # extract filename from f\n",
    "        currency = os.path.basename(file).replace('.json', '') + 'USDT'\n",
    "        current_configs[currency] = data\n",
    "\n",
    "json_files = glob.iglob('passivbot_v5.8.0/configs' + '/**/config.json', recursive=True)\n",
    "files = []\n",
    "for file in json_files:\n",
    "    with open(file) as f:\n",
    "        data = json.load(f)\n",
    "        x = file.replace(root, '').replace('\\\\', '/')\n",
    "\n",
    "        ## find the folder containing the config.json file\n",
    "        config_folder = file.replace('\\\\', '/').replace('/config.json', '')\n",
    "        ## find the result.txt file\n",
    "        result_txt = glob.iglob(config_folder + '/**/result.txt', recursive=True)\n",
    "        ## if result_txt list is not empty, get the first result\n",
    "        result_txt = next(result_txt, None)\n",
    "\n",
    "        if result_txt is not None:\n",
    "            result_file = result_txt.replace('\\\\', '/')\n",
    "            currency = result_txt.replace('\\\\', '/').replace('/result.txt', '').split('/')[-1]\n",
    "            if currency in current_configs:\n",
    "                current_config = current_configs[currency]\n",
    "                ## compare each property current_config json object with data json object recursively and see if they are equal\n",
    "                if contained(current_config, data):\n",
    "                    print('Found config file for ' + currency)\n",
    "                    files.append(result_file)\n",
    "\n",
    "i = 0\n",
    "for filename in files:\n",
    "    #print(f'parsing : {filename}')\n",
    "    json_file = os.path.abspath(filename.replace('result.txt', '../config.json'))\n",
    "    with open(json_file) as f:\n",
    "        live_config = json.load(f)\n",
    "        config_type = live_config['config_name']\n",
    "\n",
    "    with open(filename, 'r') as file:\n",
    "        data = file.read().split('\\n')\n",
    "        d = {'file': filename}\n",
    "        current_state = 'long'\n",
    "        for l in data:\n",
    "            l = l.split('|')\n",
    "            if len(l) == 4:\n",
    "                key = l[1].strip()\n",
    "                value = l[2].strip()\n",
    "\n",
    "                if key == 'Symbol':\n",
    "                    d['s'] = value\n",
    "\n",
    "                if key == 'Long':\n",
    "                    current_state = 'long'\n",
    "                    d['long'] = bool(value) or False\n",
    "                if key == 'Short':\n",
    "                    current_state = 'short'\n",
    "                    d['short'] = bool(value) or False\n",
    "\n",
    "                if key == 'Total gain' and current_state == 'long':\n",
    "                    d['tgl_%'] = float(value.replace('%', '').strip())\n",
    "                if key == 'Average daily gain' and current_state == 'long':\n",
    "                    d['adgl_%'] = float(value.replace('%', '').strip())\n",
    "                if key == 'Closest bankruptcy' and current_state == 'long':\n",
    "                    d['bnkrl_%'] = float(value.replace('%', '').strip())\n",
    "                if key == 'Lowest equity/balance ratio' and current_state == 'long':\n",
    "                    d['ebrl'] = float(value.replace('%', '').strip())\n",
    "                if key == 'Max hours stuck' and current_state == 'long':\n",
    "                    d['maxsl'] = float(value.replace('%', '').strip()) / 24\n",
    "                if key == 'Price action distance max' and current_state == 'long':\n",
    "                    d['pamaxl'] = float(value.replace('%', '').strip())\n",
    "                if key == 'Price action distance std' and current_state == 'long':\n",
    "                    d['pastdl'] = float(value.strip())\n",
    "\n",
    "                if key == 'Total gain' and current_state == 'short':\n",
    "                    d['tgs_%'] = float(value.replace('%', '').strip())\n",
    "                if key == 'Average daily gain' and current_state == 'short':\n",
    "                    d['adgs_%'] = float(value.replace('%', '').strip())\n",
    "                if key == 'Closest bankruptcy' and current_state == 'short':\n",
    "                    d['bnkrs_%'] = float(value.replace('%', '').strip())\n",
    "                if key == 'Lowest equity/balance ratio' and current_state == 'short':\n",
    "                    d['ebrs'] = float(value.replace('%', '').strip())\n",
    "                if key == 'Max hours stuck' and current_state == 'short':\n",
    "                    d['maxss'] = float(value.replace('%', '').strip()) / 24\n",
    "                if key == 'Price action distance max' and current_state == 'short':\n",
    "                    d['pamaxs'] = float(value.replace('%', '').strip())\n",
    "                if key == 'Price action distance std' and current_state == 'short':\n",
    "                    d['pastds'] = float(value.strip())\n",
    "\n",
    "        big_data = big_data.append(d, ignore_index=True)\n",
    "big_data"
   ],
   "metadata": {
    "collapsed": false,
    "pycharm": {
     "name": "#%%\n"
    }
   }
  },
  {
   "cell_type": "code",
   "execution_count": 22,
   "outputs": [
    {
     "data": {
      "text/plain": "                                                file          s  long   tgl_%  \\\n0  passivbot_v5.8.0/configs/particle_swarm/neat/n...    CHZUSDT  True   16.84   \n1  passivbot_v5.8.0/configs/particle_swarm/recurs...  MATICUSDT  True  110.70   \n2  passivbot_v5.8.0/configs/particle_swarm/recurs...   DOGEUSDT  True   78.90   \n3  passivbot_v5.8.0/configs/particle_swarm/recurs...    EOSUSDT  True   44.94   \n4  passivbot_v5.8.0/configs/particle_swarm/recurs...   LINKUSDT  True   69.82   \n5  passivbot_v5.8.0/configs/particle_swarm/recurs...    XRPUSDT  True   78.78   \n6  passivbot_v5.8.0/configs/particle_swarm/recurs...   ATOMUSDT  True   43.89   \n7  passivbot_v5.8.0/configs/particle_swarm/recurs...   HBARUSDT  True   58.97   \n\n   adgl_%    pastdl    pamaxl  bnkrl_%    ebrl      maxsl  adgs_%  bnkrs_%  \\\n0  0.0227  0.010568  0.972791    100.0  0.9507   3.097221     NaN      NaN   \n1  0.0980  0.009527  0.344123    100.0  0.9358   3.534721  0.0226    100.0   \n2  0.0653  0.009553  0.444083    100.0  0.9230  14.734708  0.0308    100.0   \n3  0.0354  0.010325  0.384362    100.0  0.9305   9.236125  0.0175    100.0   \n4  0.0505  0.010666  0.423959    100.0  0.9255   4.113887  0.0198    100.0   \n5  0.0552  0.009951  0.323725    100.0  0.9387   9.106250  0.0179    100.0   \n6  0.0353  0.009951  0.250914    100.0  0.9497   3.324304  0.0231    100.0   \n7  0.0750  0.009953  0.640497    100.0  0.9023   5.772208  0.0538    100.0   \n\n     ebrs     maxss    pamaxs    pastds short  tgs_%  adgt_%  \n0     NaN       NaN       NaN       NaN   NaN    NaN     NaN  \n1  0.9546  4.047917  0.274453  0.015690  True  18.71  0.1206  \n2  0.8412  9.754875  0.569193  0.038511  True  28.69  0.0961  \n3  0.9474  6.215958  0.303643  0.013407  True  19.93  0.0529  \n4  0.9792  5.515292  0.146795  0.011554  True  22.96  0.0703  \n5  0.9449  6.441667  0.313927  0.009566  True  21.38  0.0731  \n6  0.9728  3.318054  0.182261  0.010759  True  27.06  0.0584  \n7  0.9515  4.806250  0.287523  0.012303  True  40.02  0.1288  ",
      "text/html": "<div>\n<style scoped>\n    .dataframe tbody tr th:only-of-type {\n        vertical-align: middle;\n    }\n\n    .dataframe tbody tr th {\n        vertical-align: top;\n    }\n\n    .dataframe thead th {\n        text-align: right;\n    }\n</style>\n<table border=\"1\" class=\"dataframe\">\n  <thead>\n    <tr style=\"text-align: right;\">\n      <th></th>\n      <th>file</th>\n      <th>s</th>\n      <th>long</th>\n      <th>tgl_%</th>\n      <th>adgl_%</th>\n      <th>pastdl</th>\n      <th>pamaxl</th>\n      <th>bnkrl_%</th>\n      <th>ebrl</th>\n      <th>maxsl</th>\n      <th>adgs_%</th>\n      <th>bnkrs_%</th>\n      <th>ebrs</th>\n      <th>maxss</th>\n      <th>pamaxs</th>\n      <th>pastds</th>\n      <th>short</th>\n      <th>tgs_%</th>\n      <th>adgt_%</th>\n    </tr>\n  </thead>\n  <tbody>\n    <tr>\n      <th>0</th>\n      <td>passivbot_v5.8.0/configs/particle_swarm/neat/n...</td>\n      <td>CHZUSDT</td>\n      <td>True</td>\n      <td>16.84</td>\n      <td>0.0227</td>\n      <td>0.010568</td>\n      <td>0.972791</td>\n      <td>100.0</td>\n      <td>0.9507</td>\n      <td>3.097221</td>\n      <td>NaN</td>\n      <td>NaN</td>\n      <td>NaN</td>\n      <td>NaN</td>\n      <td>NaN</td>\n      <td>NaN</td>\n      <td>NaN</td>\n      <td>NaN</td>\n      <td>NaN</td>\n    </tr>\n    <tr>\n      <th>1</th>\n      <td>passivbot_v5.8.0/configs/particle_swarm/recurs...</td>\n      <td>MATICUSDT</td>\n      <td>True</td>\n      <td>110.70</td>\n      <td>0.0980</td>\n      <td>0.009527</td>\n      <td>0.344123</td>\n      <td>100.0</td>\n      <td>0.9358</td>\n      <td>3.534721</td>\n      <td>0.0226</td>\n      <td>100.0</td>\n      <td>0.9546</td>\n      <td>4.047917</td>\n      <td>0.274453</td>\n      <td>0.015690</td>\n      <td>True</td>\n      <td>18.71</td>\n      <td>0.1206</td>\n    </tr>\n    <tr>\n      <th>2</th>\n      <td>passivbot_v5.8.0/configs/particle_swarm/recurs...</td>\n      <td>DOGEUSDT</td>\n      <td>True</td>\n      <td>78.90</td>\n      <td>0.0653</td>\n      <td>0.009553</td>\n      <td>0.444083</td>\n      <td>100.0</td>\n      <td>0.9230</td>\n      <td>14.734708</td>\n      <td>0.0308</td>\n      <td>100.0</td>\n      <td>0.8412</td>\n      <td>9.754875</td>\n      <td>0.569193</td>\n      <td>0.038511</td>\n      <td>True</td>\n      <td>28.69</td>\n      <td>0.0961</td>\n    </tr>\n    <tr>\n      <th>3</th>\n      <td>passivbot_v5.8.0/configs/particle_swarm/recurs...</td>\n      <td>EOSUSDT</td>\n      <td>True</td>\n      <td>44.94</td>\n      <td>0.0354</td>\n      <td>0.010325</td>\n      <td>0.384362</td>\n      <td>100.0</td>\n      <td>0.9305</td>\n      <td>9.236125</td>\n      <td>0.0175</td>\n      <td>100.0</td>\n      <td>0.9474</td>\n      <td>6.215958</td>\n      <td>0.303643</td>\n      <td>0.013407</td>\n      <td>True</td>\n      <td>19.93</td>\n      <td>0.0529</td>\n    </tr>\n    <tr>\n      <th>4</th>\n      <td>passivbot_v5.8.0/configs/particle_swarm/recurs...</td>\n      <td>LINKUSDT</td>\n      <td>True</td>\n      <td>69.82</td>\n      <td>0.0505</td>\n      <td>0.010666</td>\n      <td>0.423959</td>\n      <td>100.0</td>\n      <td>0.9255</td>\n      <td>4.113887</td>\n      <td>0.0198</td>\n      <td>100.0</td>\n      <td>0.9792</td>\n      <td>5.515292</td>\n      <td>0.146795</td>\n      <td>0.011554</td>\n      <td>True</td>\n      <td>22.96</td>\n      <td>0.0703</td>\n    </tr>\n    <tr>\n      <th>5</th>\n      <td>passivbot_v5.8.0/configs/particle_swarm/recurs...</td>\n      <td>XRPUSDT</td>\n      <td>True</td>\n      <td>78.78</td>\n      <td>0.0552</td>\n      <td>0.009951</td>\n      <td>0.323725</td>\n      <td>100.0</td>\n      <td>0.9387</td>\n      <td>9.106250</td>\n      <td>0.0179</td>\n      <td>100.0</td>\n      <td>0.9449</td>\n      <td>6.441667</td>\n      <td>0.313927</td>\n      <td>0.009566</td>\n      <td>True</td>\n      <td>21.38</td>\n      <td>0.0731</td>\n    </tr>\n    <tr>\n      <th>6</th>\n      <td>passivbot_v5.8.0/configs/particle_swarm/recurs...</td>\n      <td>ATOMUSDT</td>\n      <td>True</td>\n      <td>43.89</td>\n      <td>0.0353</td>\n      <td>0.009951</td>\n      <td>0.250914</td>\n      <td>100.0</td>\n      <td>0.9497</td>\n      <td>3.324304</td>\n      <td>0.0231</td>\n      <td>100.0</td>\n      <td>0.9728</td>\n      <td>3.318054</td>\n      <td>0.182261</td>\n      <td>0.010759</td>\n      <td>True</td>\n      <td>27.06</td>\n      <td>0.0584</td>\n    </tr>\n    <tr>\n      <th>7</th>\n      <td>passivbot_v5.8.0/configs/particle_swarm/recurs...</td>\n      <td>HBARUSDT</td>\n      <td>True</td>\n      <td>58.97</td>\n      <td>0.0750</td>\n      <td>0.009953</td>\n      <td>0.640497</td>\n      <td>100.0</td>\n      <td>0.9023</td>\n      <td>5.772208</td>\n      <td>0.0538</td>\n      <td>100.0</td>\n      <td>0.9515</td>\n      <td>4.806250</td>\n      <td>0.287523</td>\n      <td>0.012303</td>\n      <td>True</td>\n      <td>40.02</td>\n      <td>0.1288</td>\n    </tr>\n  </tbody>\n</table>\n</div>"
     },
     "execution_count": 22,
     "metadata": {},
     "output_type": "execute_result"
    }
   ],
   "source": [
    "allowed_symbols = [\n",
    "    \"ETHUSDT\", \"BCHUSDT\", \"XRPUSDT\", \"EOSUSDT\", \"LTCUSDT\", \"TRXUSDT\", \"ETCUSDT\", \"LINKUSDT\", \"XLMUSDT\", \"ADAUSDT\",\n",
    "    \"XMRUSDT\", \"DASHUSDT\", \"ZECUSDT\", \"XTZUSDT\", \"BNBUSDT\", \"ATOMUSDT\", \"NEOUSDT\", \"IOSTUSDT\", \"THETAUSDT\", \"ALGOUSDT\",\n",
    "    \"ZILUSDT\", \"KNCUSDT\", \"COMPUSDT\", \"OMGUSDT\", \"DOGEUSDT\", \"KAVAUSDT\", \"BANDUSDT\", \"RLCUSDT\", \"WAVESUSDT\", \"SNXUSDT\",\n",
    "    \"DOTUSDT\", \"CRVUSDT\", \"TRBUSDT\", \"RUNEUSDT\", \"SUSHIUSDT\", \"SRMUSDT\", \"EGLDUSDT\", \"FTMUSDT\", \"HNTUSDT\", \"RENUSDT\",\n",
    "    \"KSMUSDT\", \"NEARUSDT\", \"FILUSDT\", \"RSRUSDT\", \"MATICUSDT\", \"OCEANUSDT\", \"CVCUSDT\", \"GRTUSDT\", \"1INCHUSDT\", \"CHZUSDT\",\n",
    "    \"SANDUSDT\", \"BTSUSDT\", \"LITUSDT\", \"UNFIUSDT\", \"REEFUSDT\", \"MANAUSDT\", \"HBARUSDT\", \"ONEUSDT\", \"LINAUSDT\", \"STMXUSDT\",\n",
    "    \"DENTUSDT\", \"HOTUSDT\", \"MTLUSDT\", \"SCUSDT\", \"1000SHIBUSDT\"\n",
    "]\n",
    "#allowed_symbols = [s + \"USDT\" for s in allowed_symbols]\n",
    "big_data['adgt_%'] = big_data['adgl_%'] + big_data['adgs_%']\n",
    "df = big_data[(big_data.s.isin(allowed_symbols))\n",
    "    #& (big_data['long'] == True)\n",
    "    #& (big_data['adgl_%'] > 0.04)\n",
    "    #& (big_data['short'] == True)\n",
    "    #& (big_data['adgt_%'] > 0.1)\n",
    "    #& (big_data['bnkrl_%'] > 95.0)\n",
    "    #& (big_data['bnkrs_%'] > 95.0)\n",
    "    #& (big_data['ebrs'] > .85)\n",
    "    #& (big_data['ebrl'] > .8)\n",
    "    #& (big_data['v'] == '5.5')\n",
    "\n",
    "    # & (big_data['tg_%'] > 10)\n",
    "    # & (big_data['ebr'] > .85)\n",
    "]\n",
    "#df['total_adg'] = big_data['adgl_%'] + big_data['adgs_%']\n",
    "df.to_csv('5.8.csv')\n",
    "df"
   ],
   "metadata": {
    "collapsed": false,
    "pycharm": {
     "name": "#%%\n"
    }
   }
  },
  {
   "cell_type": "code",
   "execution_count": 23,
   "outputs": [
    {
     "data": {
      "text/plain": "                                                file          s  adgt_%  \\\n0  passivbot_v5.8.0/configs/particle_swarm/neat/n...    CHZUSDT     NaN   \n1  passivbot_v5.8.0/configs/particle_swarm/recurs...  MATICUSDT  0.1206   \n2  passivbot_v5.8.0/configs/particle_swarm/recurs...   DOGEUSDT  0.0961   \n3  passivbot_v5.8.0/configs/particle_swarm/recurs...    EOSUSDT  0.0529   \n4  passivbot_v5.8.0/configs/particle_swarm/recurs...   LINKUSDT  0.0703   \n5  passivbot_v5.8.0/configs/particle_swarm/recurs...    XRPUSDT  0.0731   \n6  passivbot_v5.8.0/configs/particle_swarm/recurs...   ATOMUSDT  0.0584   \n7  passivbot_v5.8.0/configs/particle_swarm/recurs...   HBARUSDT  0.1288   \n\n   adgl_%  adgs_%  bnkrl_%  bnkrs_%    ebrl    ebrs      maxsl    pamaxl  \\\n0  0.0227     NaN    100.0      NaN  0.9507     NaN   3.097221  0.972791   \n1  0.0980  0.0226    100.0    100.0  0.9358  0.9546   3.534721  0.344123   \n2  0.0653  0.0308    100.0    100.0  0.9230  0.8412  14.734708  0.444083   \n3  0.0354  0.0175    100.0    100.0  0.9305  0.9474   9.236125  0.384362   \n4  0.0505  0.0198    100.0    100.0  0.9255  0.9792   4.113887  0.423959   \n5  0.0552  0.0179    100.0    100.0  0.9387  0.9449   9.106250  0.323725   \n6  0.0353  0.0231    100.0    100.0  0.9497  0.9728   3.324304  0.250914   \n7  0.0750  0.0538    100.0    100.0  0.9023  0.9515   5.772208  0.640497   \n\n     pastdl     maxss    pamaxs    pastds  \n0  0.010568       NaN       NaN       NaN  \n1  0.009527  4.047917  0.274453  0.015690  \n2  0.009553  9.754875  0.569193  0.038511  \n3  0.010325  6.215958  0.303643  0.013407  \n4  0.010666  5.515292  0.146795  0.011554  \n5  0.009951  6.441667  0.313927  0.009566  \n6  0.009951  3.318054  0.182261  0.010759  \n7  0.009953  4.806250  0.287523  0.012303  ",
      "text/html": "<div>\n<style scoped>\n    .dataframe tbody tr th:only-of-type {\n        vertical-align: middle;\n    }\n\n    .dataframe tbody tr th {\n        vertical-align: top;\n    }\n\n    .dataframe thead th {\n        text-align: right;\n    }\n</style>\n<table border=\"1\" class=\"dataframe\">\n  <thead>\n    <tr style=\"text-align: right;\">\n      <th></th>\n      <th>file</th>\n      <th>s</th>\n      <th>adgt_%</th>\n      <th>adgl_%</th>\n      <th>adgs_%</th>\n      <th>bnkrl_%</th>\n      <th>bnkrs_%</th>\n      <th>ebrl</th>\n      <th>ebrs</th>\n      <th>maxsl</th>\n      <th>pamaxl</th>\n      <th>pastdl</th>\n      <th>maxss</th>\n      <th>pamaxs</th>\n      <th>pastds</th>\n    </tr>\n  </thead>\n  <tbody>\n    <tr>\n      <th>0</th>\n      <td>passivbot_v5.8.0/configs/particle_swarm/neat/n...</td>\n      <td>CHZUSDT</td>\n      <td>NaN</td>\n      <td>0.0227</td>\n      <td>NaN</td>\n      <td>100.0</td>\n      <td>NaN</td>\n      <td>0.9507</td>\n      <td>NaN</td>\n      <td>3.097221</td>\n      <td>0.972791</td>\n      <td>0.010568</td>\n      <td>NaN</td>\n      <td>NaN</td>\n      <td>NaN</td>\n    </tr>\n    <tr>\n      <th>1</th>\n      <td>passivbot_v5.8.0/configs/particle_swarm/recurs...</td>\n      <td>MATICUSDT</td>\n      <td>0.1206</td>\n      <td>0.0980</td>\n      <td>0.0226</td>\n      <td>100.0</td>\n      <td>100.0</td>\n      <td>0.9358</td>\n      <td>0.9546</td>\n      <td>3.534721</td>\n      <td>0.344123</td>\n      <td>0.009527</td>\n      <td>4.047917</td>\n      <td>0.274453</td>\n      <td>0.015690</td>\n    </tr>\n    <tr>\n      <th>2</th>\n      <td>passivbot_v5.8.0/configs/particle_swarm/recurs...</td>\n      <td>DOGEUSDT</td>\n      <td>0.0961</td>\n      <td>0.0653</td>\n      <td>0.0308</td>\n      <td>100.0</td>\n      <td>100.0</td>\n      <td>0.9230</td>\n      <td>0.8412</td>\n      <td>14.734708</td>\n      <td>0.444083</td>\n      <td>0.009553</td>\n      <td>9.754875</td>\n      <td>0.569193</td>\n      <td>0.038511</td>\n    </tr>\n    <tr>\n      <th>3</th>\n      <td>passivbot_v5.8.0/configs/particle_swarm/recurs...</td>\n      <td>EOSUSDT</td>\n      <td>0.0529</td>\n      <td>0.0354</td>\n      <td>0.0175</td>\n      <td>100.0</td>\n      <td>100.0</td>\n      <td>0.9305</td>\n      <td>0.9474</td>\n      <td>9.236125</td>\n      <td>0.384362</td>\n      <td>0.010325</td>\n      <td>6.215958</td>\n      <td>0.303643</td>\n      <td>0.013407</td>\n    </tr>\n    <tr>\n      <th>4</th>\n      <td>passivbot_v5.8.0/configs/particle_swarm/recurs...</td>\n      <td>LINKUSDT</td>\n      <td>0.0703</td>\n      <td>0.0505</td>\n      <td>0.0198</td>\n      <td>100.0</td>\n      <td>100.0</td>\n      <td>0.9255</td>\n      <td>0.9792</td>\n      <td>4.113887</td>\n      <td>0.423959</td>\n      <td>0.010666</td>\n      <td>5.515292</td>\n      <td>0.146795</td>\n      <td>0.011554</td>\n    </tr>\n    <tr>\n      <th>5</th>\n      <td>passivbot_v5.8.0/configs/particle_swarm/recurs...</td>\n      <td>XRPUSDT</td>\n      <td>0.0731</td>\n      <td>0.0552</td>\n      <td>0.0179</td>\n      <td>100.0</td>\n      <td>100.0</td>\n      <td>0.9387</td>\n      <td>0.9449</td>\n      <td>9.106250</td>\n      <td>0.323725</td>\n      <td>0.009951</td>\n      <td>6.441667</td>\n      <td>0.313927</td>\n      <td>0.009566</td>\n    </tr>\n    <tr>\n      <th>6</th>\n      <td>passivbot_v5.8.0/configs/particle_swarm/recurs...</td>\n      <td>ATOMUSDT</td>\n      <td>0.0584</td>\n      <td>0.0353</td>\n      <td>0.0231</td>\n      <td>100.0</td>\n      <td>100.0</td>\n      <td>0.9497</td>\n      <td>0.9728</td>\n      <td>3.324304</td>\n      <td>0.250914</td>\n      <td>0.009951</td>\n      <td>3.318054</td>\n      <td>0.182261</td>\n      <td>0.010759</td>\n    </tr>\n    <tr>\n      <th>7</th>\n      <td>passivbot_v5.8.0/configs/particle_swarm/recurs...</td>\n      <td>HBARUSDT</td>\n      <td>0.1288</td>\n      <td>0.0750</td>\n      <td>0.0538</td>\n      <td>100.0</td>\n      <td>100.0</td>\n      <td>0.9023</td>\n      <td>0.9515</td>\n      <td>5.772208</td>\n      <td>0.640497</td>\n      <td>0.009953</td>\n      <td>4.806250</td>\n      <td>0.287523</td>\n      <td>0.012303</td>\n    </tr>\n  </tbody>\n</table>\n</div>"
     },
     "execution_count": 23,
     "metadata": {},
     "output_type": "execute_result"
    }
   ],
   "source": [
    "df.drop_duplicates(\n",
    "    subset=['s',  'tgl_%', 'tgs_%', 'adgl_%', 'adgs_%', 'adgt_%', 'bnkrl_%', 'bnkrs_%', 'ebrl', 'ebrs', 'long',\n",
    "            'short'], keep='first',\n",
    "    inplace=True)\n",
    "dx = df[['file',  's', 'adgt_%', 'adgl_%', 'adgs_%', 'bnkrl_%', 'bnkrs_%', 'ebrl', 'ebrs', 'maxsl', 'pamaxl','pastdl',\n",
    "         'maxss', 'pamaxs','pastds' ]]\n",
    "dx"
   ],
   "metadata": {
    "collapsed": false,
    "pycharm": {
     "name": "#%%\n"
    }
   }
  },
  {
   "cell_type": "code",
   "execution_count": 24,
   "outputs": [],
   "source": [],
   "metadata": {
    "collapsed": false,
    "pycharm": {
     "name": "#%%\n"
    }
   }
  }
 ],
 "metadata": {
  "kernelspec": {
   "display_name": "Python 3",
   "language": "python",
   "name": "python3"
  },
  "language_info": {
   "codemirror_mode": {
    "name": "ipython",
    "version": 2
   },
   "file_extension": ".py",
   "mimetype": "text/x-python",
   "name": "python",
   "nbconvert_exporter": "python",
   "pygments_lexer": "ipython2",
   "version": "2.7.6"
  }
 },
 "nbformat": 4,
 "nbformat_minor": 0
}