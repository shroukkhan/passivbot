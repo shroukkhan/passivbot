{
 "cells": [
  {
   "cell_type": "code",
   "execution_count": 2,
   "metadata": {
    "collapsed": true,
    "pycharm": {
     "name": "#%%\n"
    },
    "ExecuteTime": {
     "end_time": "2023-08-14T07:09:04.948332100Z",
     "start_time": "2023-08-14T07:09:04.613334700Z"
    }
   },
   "outputs": [
    {
     "name": "stdout",
     "output_type": "stream",
     "text": [
      "The autoreload extension is already loaded. To reload it, use:\n",
      "  %reload_ext autoreload\n"
     ]
    }
   ],
   "source": [
    "%load_ext autoreload\n",
    "%autoreload 2"
   ]
  },
  {
   "cell_type": "code",
   "execution_count": 4,
   "outputs": [],
   "source": [
    "# constants\n",
    "ROOT_PATH = 'C:/AgodaGit/passivbot' \n",
    "DOWNLOADED_CONFIG_PATH = ROOT_PATH + '/downloaded_configs/passivbot_v5.9.x'"
   ],
   "metadata": {
    "collapsed": false,
    "ExecuteTime": {
     "end_time": "2023-08-14T07:09:11.312393Z",
     "start_time": "2023-08-14T07:09:11.276390200Z"
    }
   }
  },
  {
   "cell_type": "code",
   "execution_count": 5,
   "outputs": [
    {
     "data": {
      "text/plain": "{'v5.9.0': {'live_configs': [{'file': 'C:/AgodaGit/passivbot/cfgs_bkup/5_9_0/ATOM.json',\n    'coin': 'ATOM'},\n   {'file': 'C:/AgodaGit/passivbot/cfgs_bkup/5_9_0/CHZ.json', 'coin': 'CHZ'},\n   {'file': 'C:/AgodaGit/passivbot/cfgs_bkup/5_9_0/DOGE.json', 'coin': 'DOGE'},\n   {'file': 'C:/AgodaGit/passivbot/cfgs_bkup/5_9_0/DOT.json', 'coin': 'DOT'},\n   {'file': 'C:/AgodaGit/passivbot/cfgs_bkup/5_9_0/DYDX.json', 'coin': 'DYDX'},\n   {'file': 'C:/AgodaGit/passivbot/cfgs_bkup/5_9_0/EOS.json', 'coin': 'EOS'},\n   {'file': 'C:/AgodaGit/passivbot/cfgs_bkup/5_9_0/HBAR.json', 'coin': 'HBAR'},\n   {'file': 'C:/AgodaGit/passivbot/cfgs_bkup/5_9_0/LINK.json', 'coin': 'LINK'},\n   {'file': 'C:/AgodaGit/passivbot/cfgs_bkup/5_9_0/MANA.json', 'coin': 'MANA'},\n   {'file': 'C:/AgodaGit/passivbot/cfgs_bkup/5_9_0/MATIC.json',\n    'coin': 'MATIC'},\n   {'file': 'C:/AgodaGit/passivbot/cfgs_bkup/5_9_0/OP.json', 'coin': 'OP'},\n   {'file': 'C:/AgodaGit/passivbot/cfgs_bkup/5_9_0/SAND.json', 'coin': 'SAND'},\n   {'file': 'C:/AgodaGit/passivbot/cfgs_bkup/5_9_0/SUSHI.json',\n    'coin': 'SUSHI'},\n   {'file': 'C:/AgodaGit/passivbot/cfgs_bkup/5_9_0/XRP.json', 'coin': 'XRP'},\n   {'file': 'C:/AgodaGit/passivbot/cfgs_bkup/5_9_0/XTZ.json', 'coin': 'XTZ'}]},\n 'v5.9.3': {'live_configs': [{'file': 'C:/AgodaGit/passivbot/cfgs_bkup/5_9_3/ADA.json',\n    'coin': 'ADA'},\n   {'file': 'C:/AgodaGit/passivbot/cfgs_bkup/5_9_3/ALGO.json', 'coin': 'ALGO'},\n   {'file': 'C:/AgodaGit/passivbot/cfgs_bkup/5_9_3/AVAX.json', 'coin': 'AVAX'},\n   {'file': 'C:/AgodaGit/passivbot/cfgs_bkup/5_9_3/BNB.json', 'coin': 'BNB'},\n   {'file': 'C:/AgodaGit/passivbot/cfgs_bkup/5_9_3/BTC.json', 'coin': 'BTC'},\n   {'file': 'C:/AgodaGit/passivbot/cfgs_bkup/5_9_3/COMP.json', 'coin': 'COMP'},\n   {'file': 'C:/AgodaGit/passivbot/cfgs_bkup/5_9_3/ETC.json', 'coin': 'ETC'},\n   {'file': 'C:/AgodaGit/passivbot/cfgs_bkup/5_9_3/ETH.json', 'coin': 'ETH'},\n   {'file': 'C:/AgodaGit/passivbot/cfgs_bkup/5_9_3/GALA.json', 'coin': 'GALA'},\n   {'file': 'C:/AgodaGit/passivbot/cfgs_bkup/5_9_3/GMT.json', 'coin': 'GMT'},\n   {'file': 'C:/AgodaGit/passivbot/cfgs_bkup/5_9_3/KSM.json', 'coin': 'KSM'},\n   {'file': 'C:/AgodaGit/passivbot/cfgs_bkup/5_9_3/LTC.json', 'coin': 'LTC'},\n   {'file': 'C:/AgodaGit/passivbot/cfgs_bkup/5_9_3/NEAR.json', 'coin': 'NEAR'},\n   {'file': 'C:/AgodaGit/passivbot/cfgs_bkup/5_9_3/RUNE.json', 'coin': 'RUNE'},\n   {'file': 'C:/AgodaGit/passivbot/cfgs_bkup/5_9_3/TRX.json', 'coin': 'TRX'},\n   {'file': 'C:/AgodaGit/passivbot/cfgs_bkup/5_9_3/XMR.json', 'coin': 'XMR'}]}}"
     },
     "execution_count": 5,
     "metadata": {},
     "output_type": "execute_result"
    }
   ],
   "source": [
    "\n",
    "import glob\n",
    "import os\n",
    "\n",
    "# list all json files in cfgs_bkup and its child folders\n",
    "live_configs = glob.glob(ROOT_PATH + '/cfgs_bkup/**/*.json', recursive=True)\n",
    "# normalize json_files by replacing all \\\\ with /\n",
    "live_configs = [f.replace('\\\\', '/') for f in live_configs]\n",
    "\n",
    "\n",
    "#group json_files by immediate parent folder\n",
    "config_by_version = {}\n",
    "for f in live_configs:\n",
    "    folder = os.path.dirname(f).split('/')[-1]\n",
    "    # folder looks like this : 5_9_0 or 5_9_3 or 5_9_4 etc. convert it to v5.9.0 or v.5.9.3 or v5.9.4\n",
    "    folder = 'v' + folder.replace('_', '.')\n",
    "    if folder not in config_by_version:\n",
    "        config_by_version[folder] = {'live_configs': [] }\n",
    "    config_by_version[folder]['live_configs'].append({\n",
    "        'file': f,\n",
    "        'coin': os.path.basename(f).replace('.json', '')\n",
    "    })\n",
    "\n",
    "config_by_version   \n"
   ],
   "metadata": {
    "collapsed": false,
    "ExecuteTime": {
     "end_time": "2023-08-14T07:09:13.120561Z",
     "start_time": "2023-08-14T07:09:13.071559400Z"
    }
   }
  },
  {
   "cell_type": "code",
   "execution_count": 6,
   "outputs": [],
   "source": [
    "# now find all config.json files in downloaded_configs/passivbot_v5.9.x folder\n",
    "downloaded_configs = glob.glob(DOWNLOADED_CONFIG_PATH + '/**/config.json', recursive=True)\n",
    "# normalize json_files by replacing all \\\\ with /\n",
    "downloaded_configs = [f.replace('\\\\', '/') for f in downloaded_configs]\n"
   ],
   "metadata": {
    "collapsed": false,
    "ExecuteTime": {
     "end_time": "2023-08-14T07:09:19.818750Z",
     "start_time": "2023-08-14T07:09:17.194336200Z"
    }
   }
  },
  {
   "cell_type": "code",
   "execution_count": 24,
   "outputs": [
    {
     "data": {
      "text/plain": "{'version': '5.9.5',\n 'Metric': 'Value',\n 'Exchange': 'bybit',\n 'Market type': 'futures',\n 'Symbol': 'RENUSDT',\n 'Passivbot mode': 'recursive_grid',\n 'ADG n subdivisions': 10.0,\n 'No. days': 560.0,\n 'Starting balance': 1000.0,\n '(L)Long': 'True',\n '(L)ADG per exposure': 0.0545,\n '(L)ADG weighted per exposure': 0.0796,\n '(L)Final balance': 1063.5,\n '(L)Final equity': 1063.5,\n '(L)Net PNL + fees': 63.5003,\n '(L)Net Total gain': 6.35,\n '(L)Average daily gain': 0.0109,\n '(L)Average daily gain weighted': 0.0159,\n '(L)Loss to profit ratio': 0.00014,\n '(L)Exposure ratios mean': 0.0084203,\n '(L)Price action distance mean': 0.0108677,\n '(L)Price action distance std': 0.00834529,\n '(L)Price action distance max': 0.0491622,\n '(L)Closest bankruptcy': 100.0,\n '(L)Lowest equity/balance ratio': 0.9737,\n '(L)Mean of 10 worst eq/bal ratios': 0.9921,\n '(L)Equity/balance ratio std': 0.0003235,\n '(L)No. fills': 17730.0,\n '(L)No. entries': 5623.0,\n '(L)No. closes': 12107.0,\n '(L)No. initial entries': 4623.0,\n '(L)No. reentries': 811.0,\n '(L)No. unstuck/EMA entries': 189.0,\n '(L)No. unstuck/EMA closes': 80.0,\n '(L)No. normal closes': 12027.0,\n '(L)Average n fills per day': 31.4,\n '(L)Mean hours stuck': 0.76333,\n '(L)Max hours stuck': 61.8,\n '(L)PNL sum': 65.44,\n '(L)Profit sum': 65.45,\n '(L)Loss sum': -0.009162,\n '(L)Fee sum': -1.938,\n '(L)Volume quote': 78135.1}"
     },
     "execution_count": 24,
     "metadata": {},
     "output_type": "execute_result"
    }
   ],
   "source": [
    "import re\n",
    "'''\n",
    "Result file looks like this:\n",
    "    +------------------------------------------+\n",
    "    |                 Summary                  |\n",
    "    +-----------------------------+------------+\n",
    "    | Metric                      | Value      |\n",
    "    +-----------------------------+------------+\n",
    "    | Exchange                    | bybit      |\n",
    "    | Market type                 | futures    |\n",
    "    | Symbol                      | ADAUSDT    |\n",
    "    | Passivbot mode              | emas       |\n",
    "    | No. days                    | 1100.0     |\n",
    "    +-----------------------------+------------+\n",
    "Write a parser function which takes in the path to result.txt file, reads it and then split the Metric and Value columns and put them in a dictionary and return it\n",
    "'''\n",
    "def parse_result_file(result_file):\n",
    "    with open(result_file, 'r') as file:\n",
    "\n",
    "        pattern = r'/v(\\d+\\.\\d+(?:\\.\\w+)?)/'\n",
    "        match = re.search(pattern, result_file)\n",
    "        if match:\n",
    "            version = match.group(1)\n",
    "        else:\n",
    "            version = None\n",
    "            \n",
    "        \n",
    "        data = file.read().split('\\n')\n",
    "        d = {'version':version}\n",
    "        current_state = None\n",
    "        for l in data:\n",
    "            l = l.split('|')\n",
    "            if len(l) == 4:\n",
    "                key = l[1].strip()\n",
    "                value = l[2].strip()\n",
    "                # dont add if key is empty string\n",
    "                if key == '':\n",
    "                    continue\n",
    "\n",
    "                if key == 'Long':\n",
    "                    current_state = 'L'\n",
    "                if key == 'Short':\n",
    "                    current_state = 'S'\n",
    "                \n",
    "                # check if value can be converted to float and if so, convert it\n",
    "                try:\n",
    "                    value = value.replace('%', '').strip()\n",
    "                    value = float(value)\n",
    "                except:\n",
    "                    pass\n",
    "                   \n",
    "                # if current_state is not None, then add it to key with a prefix of (L) or (S)\n",
    "                if current_state is not None:\n",
    "                    key = f'({current_state}){key}'\n",
    "                d[key] = value\n",
    "    return d\n",
    "\n",
    "# test it\n",
    "parse_result_file(r'C:/AgodaGit/passivbot/downloaded_configs/passivbot_v5.9.x/configs/v5.9.5/recursive/july_2023/recursive_july_03_auenabled_0.2WE/RENUSDT_20230714162727_dfc69/RENUSDT/result.txt')"
   ],
   "metadata": {
    "collapsed": false,
    "ExecuteTime": {
     "end_time": "2023-08-14T07:23:48.647562900Z",
     "start_time": "2023-08-14T07:23:48.579565100Z"
    }
   }
  },
  {
   "cell_type": "code",
   "execution_count": 15,
   "outputs": [
    {
     "data": {
      "text/plain": "{'v5.9.0': {'live_configs': [{'file': 'C:/AgodaGit/passivbot/cfgs_bkup/5_9_0/ATOM.json',\n    'coin': 'ATOM',\n    'downloaded_config': 'C:/AgodaGit/passivbot/downloaded_configs/passivbot_v5.9.x/configs/older_versions/v5.9.0/harmony/recursive/longshort/harmony_recurv_auenabled_longshort_0.25_0.12WE_bwtp_off/ATOMUSDT_20221222000537_d44da/config.json',\n    'result_file': 'C:/AgodaGit/passivbot/downloaded_configs/passivbot_v5.9.x/configs/older_versions/v5.9.0/harmony/recursive/longshort/harmony_recurv_auenabled_longshort_0.25_0.12WE_bwtp_off/ATOMUSDT_20221222000537_d44da/ATOMUSDT/result.txt',\n    'result': {'version': 'v5.9.0',\n     'Metric': 'Value',\n     'Exchange': 'binance',\n     'Market type': 'futures',\n     'Symbol': 'ATOMUSDT',\n     'No. days': 1019.49,\n     'Starting balance': 1500.0,\n     '(L)Long': 'True',\n     '(L)ADG realized per exposure': 0.271,\n     '(L)Final balance': 2995.62,\n     '(L)Final equity': 2995.63,\n     '(L)Net PNL + fees': 1495.62,\n     '(L)Total gain': 101.8,\n     '(L)Average daily gain': 0.0688,\n     '(L)Loss to profit ratio': 0.07101,\n     '(L)Price action distance mean': 0.011107,\n     '(L)Price action distance std': 0.0186193,\n     '(L)Price action distance max': 1.06004,\n     '(L)Closest bankruptcy': 100.0,\n     '(L)Lowest equity/balance ratio': 0.8712,\n     '(L)Equity/balance ratio std': 0.00368,\n     '(L)No. fills': 43093.0,\n     '(L)No. entries': 16225.0,\n     '(L)No. closes': 26868.0,\n     '(L)No. initial entries': 11398.0,\n     '(L)No. reentries': 4610.0,\n     '(L)No. unstuck entries': 217.0,\n     '(L)No. unstuck closes': 413.0,\n     '(L)No. normal closes': 26455.0,\n     '(L)Average n fills per day': 42.3,\n     '(L)Mean hours stuck': 1.40032,\n     '(L)Max hours stuck': 80.4667,\n     '(L)PNL sum': 1527.0,\n     '(L)Profit sum': 1643.0,\n     '(L)Loss sum': -116.7,\n     '(L)Fee sum': -31.07,\n     '(L)Biggest pos size': 224.2,\n     '(L)Biggest pos cost': 746.4,\n     '(L)Volume quote': 310727.0,\n     '(S)Short': 'True',\n     '(S)ADG realized per exposure': 0.193,\n     '(S)Final balance': 1899.1,\n     '(S)Final equity': 1898.73,\n     '(S)Net PNL + fees': 399.103,\n     '(S)Total gain': 27.51,\n     '(S)Average daily gain': 0.0233,\n     '(S)Loss to profit ratio': 0.03889,\n     '(S)Price action distance mean': 0.0155372,\n     '(S)Price action distance std': 0.0168414,\n     '(S)Price action distance max': 0.280098,\n     '(S)Closest bankruptcy': 100.0,\n     '(S)Lowest equity/balance ratio': 0.9529,\n     '(S)Equity/balance ratio std': 0.002235,\n     '(S)No. fills': 34606.0,\n     '(S)No. entries': 16420.0,\n     '(S)No. closes': 18186.0,\n     '(S)No. initial entries': 13908.0,\n     '(S)No. reentries': 2431.0,\n     '(S)No. unstuck entries': 81.0,\n     '(S)No. unstuck closes': 101.0,\n     '(S)No. normal closes': 18085.0,\n     '(S)Average n fills per day': 33.9,\n     '(S)Mean hours stuck': 2.45119,\n     '(S)Max hours stuck': 133.883,\n     '(S)PNL sum': 412.6,\n     '(S)Profit sum': 429.3,\n     '(S)Loss sum': -16.7,\n     '(S)Fee sum': -13.52,\n     '(S)Biggest pos size': 88.4,\n     '(S)Biggest pos cost': 228.7,\n     '(S)Volume quote': 135221.0}},\n   {'file': 'C:/AgodaGit/passivbot/cfgs_bkup/5_9_0/CHZ.json',\n    'coin': 'CHZ',\n    'downloaded_config': 'C:/AgodaGit/passivbot/downloaded_configs/passivbot_v5.9.x/configs/older_versions/v5.9.0/harmony/recursive/longshort/harmony_recurv_auenabled_longshort_0.25_0.12WE_bwtp_off/CHZUSDT_20221222000537_d44da/config.json',\n    'result_file': 'C:/AgodaGit/passivbot/downloaded_configs/passivbot_v5.9.x/configs/older_versions/v5.9.0/harmony/recursive/longshort/harmony_recurv_auenabled_longshort_0.25_0.12WE_bwtp_off/CHZUSDT_20221222000537_d44da/CHZUSDT/result.txt',\n    'result': {'version': 'v5.9.0',\n     'Metric': 'Value',\n     'Exchange': 'binance',\n     'Market type': 'futures',\n     'Symbol': 'CHZUSDT',\n     'No. days': 670.708,\n     'Starting balance': 1500.0,\n     '(L)Long': 'True',\n     '(L)ADG realized per exposure': 0.4,\n     '(L)Final balance': 2932.91,\n     '(L)Final equity': 2872.56,\n     '(L)Net PNL + fees': 1432.91,\n     '(L)Total gain': 96.65,\n     '(L)Average daily gain': 0.0982,\n     '(L)Loss to profit ratio': 0.07642,\n     '(L)Price action distance mean': 0.0110952,\n     '(L)Price action distance std': 0.0179945,\n     '(L)Price action distance max': 1.2799,\n     '(L)Closest bankruptcy': 100.0,\n     '(L)Lowest equity/balance ratio': 0.8595,\n     '(L)Equity/balance ratio std': 0.003377,\n     '(L)No. fills': 40589.0,\n     '(L)No. entries': 12106.0,\n     '(L)No. closes': 28483.0,\n     '(L)No. initial entries': 8419.0,\n     '(L)No. reentries': 2982.0,\n     '(L)No. unstuck entries': 705.0,\n     '(L)No. unstuck closes': 3102.0,\n     '(L)No. normal closes': 25381.0,\n     '(L)Average n fills per day': 60.5,\n     '(L)Mean hours stuck': 0.883236,\n     '(L)Max hours stuck': 74.5167,\n     '(L)PNL sum': 1450.0,\n     '(L)Profit sum': 1570.0,\n     '(L)Loss sum': -120.0,\n     '(L)Fee sum': -16.88,\n     '(L)Biggest pos size': 15444.0,\n     '(L)Biggest pos cost': 739.9,\n     '(L)Volume quote': 168791.0,\n     '(S)Short': 'True',\n     '(S)ADG realized per exposure': 0.304,\n     '(S)Final balance': 1915.35,\n     '(S)Final equity': 1915.35,\n     '(S)Net PNL + fees': 415.346,\n     '(S)Total gain': 28.44,\n     '(S)Average daily gain': 0.037,\n     '(S)Loss to profit ratio': 0.09569,\n     '(S)Price action distance mean': 0.011757,\n     '(S)Price action distance std': 0.0154876,\n     '(S)Price action distance max': 0.349507,\n     '(S)Closest bankruptcy': 100.0,\n     '(S)Lowest equity/balance ratio': 0.9355,\n     '(S)Equity/balance ratio std': 0.002122,\n     '(S)No. fills': 57933.0,\n     '(S)No. entries': 25214.0,\n     '(S)No. closes': 32719.0,\n     '(S)No. initial entries': 20958.0,\n     '(S)No. reentries': 3917.0,\n     '(S)No. unstuck entries': 339.0,\n     '(S)No. unstuck closes': 884.0,\n     '(S)No. normal closes': 31835.0,\n     '(S)Average n fills per day': 86.4,\n     '(S)Mean hours stuck': 0.816898,\n     '(S)Max hours stuck': 75.5833,\n     '(S)PNL sum': 426.7,\n     '(S)Profit sum': 471.8,\n     '(S)Loss sum': -45.15,\n     '(S)Fee sum': -11.32,\n     '(S)Biggest pos size': 6008.0,\n     '(S)Biggest pos cost': 230.4,\n     '(S)Volume quote': 113222.0}},\n   {'file': 'C:/AgodaGit/passivbot/cfgs_bkup/5_9_0/DOGE.json',\n    'coin': 'DOGE',\n    'downloaded_config': 'C:/AgodaGit/passivbot/downloaded_configs/passivbot_v5.9.x/configs/older_versions/v5.9.0/harmony/recursive/longshort/harmony_recurv_auenabled_longshort_0.25_0.12WE_bwtp_off/DOGEUSDT_20221222000537_d44da/config.json',\n    'result_file': 'C:/AgodaGit/passivbot/downloaded_configs/passivbot_v5.9.x/configs/older_versions/v5.9.0/harmony/recursive/longshort/harmony_recurv_auenabled_longshort_0.25_0.12WE_bwtp_off/DOGEUSDT_20221222000537_d44da/DOGEUSDT/result.txt',\n    'result': {'version': 'v5.9.0',\n     'Metric': 'Value',\n     'Exchange': 'binance',\n     'Market type': 'futures',\n     'Symbol': 'DOGEUSDT',\n     'No. days': 865.624,\n     'Starting balance': 1500.0,\n     '(L)Long': 'True',\n     '(L)ADG realized per exposure': 0.407,\n     '(L)Final balance': 3619.04,\n     '(L)Final equity': 3619.04,\n     '(L)Net PNL + fees': 2119.04,\n     '(L)Total gain': 144.3,\n     '(L)Average daily gain': 0.103,\n     '(L)Loss to profit ratio': 0.08163,\n     '(L)Price action distance mean': 0.00828203,\n     '(L)Price action distance std': 0.0134158,\n     '(L)Price action distance max': 0.755366,\n     '(L)Closest bankruptcy': 100.0,\n     '(L)Lowest equity/balance ratio': 0.8923,\n     '(L)Equity/balance ratio std': 0.002752,\n     '(L)No. fills': 76520.0,\n     '(L)No. entries': 31415.0,\n     '(L)No. closes': 45105.0,\n     '(L)No. initial entries': 22678.0,\n     '(L)No. reentries': 4880.0,\n     '(L)No. unstuck entries': 3857.0,\n     '(L)No. unstuck closes': 6711.0,\n     '(L)No. normal closes': 38394.0,\n     '(L)Average n fills per day': 88.4,\n     '(L)Mean hours stuck': 0.816916,\n     '(L)Max hours stuck': 106.583,\n     '(L)PNL sum': 2164.0,\n     '(L)Profit sum': 2357.0,\n     '(L)Loss sum': -192.4,\n     '(L)Fee sum': -45.15,\n     '(L)Biggest pos size': 123659.0,\n     '(L)Biggest pos cost': 911.5,\n     '(L)Volume quote': 451506.0,\n     '(S)Short': 'True',\n     '(S)ADG realized per exposure': -13.2,\n     '(S)Final balance': 0.0015,\n     '(S)Final equity': 0.299931,\n     '(S)Net PNL + fees': -1670.33,\n     '(S)Total gain': -111.3,\n     '(S)Average daily gain': -0.531,\n     '(S)Loss to profit ratio': 43.5,\n     '(S)Price action distance mean': 1.48062,\n     '(S)Price action distance std': 1.73075,\n     '(S)Price action distance max': 6.64978,\n     '(S)Closest bankruptcy': 0.2748,\n     '(S)Lowest equity/balance ratio': -241.0,\n     '(S)Equity/balance ratio std': 85.97,\n     '(S)No. fills': 22998.0,\n     '(S)No. entries': 3594.0,\n     '(S)No. closes': 19403.0,\n     '(S)No. initial entries': 1234.0,\n     '(S)No. reentries': 254.0,\n     '(S)No. unstuck entries': 2106.0,\n     '(S)No. unstuck closes': 17749.0,\n     '(S)No. normal closes': 1654.0,\n     '(S)Average n fills per day': 26.6,\n     '(S)Mean hours stuck': 6.51253,\n     '(S)Max hours stuck': 13954.8,\n     '(S)PNL sum': -1669.0,\n     '(S)Profit sum': 39.29,\n     '(S)Loss sum': -1709.0,\n     '(S)Fee sum': -0.8629,\n     '(S)Biggest pos size': 53616.0,\n     '(S)Biggest pos cost': 184.0,\n     '(S)Volume quote': 8628.52}},\n   {'file': 'C:/AgodaGit/passivbot/cfgs_bkup/5_9_0/DOT.json',\n    'coin': 'DOT',\n    'downloaded_config': 'C:/AgodaGit/passivbot/downloaded_configs/passivbot_v5.9.x/configs/older_versions/v5.9.0/harmony/recursive/longshort/harmony_recurv_auenabled_longshort_0.25_0.12WE_bwtp_off/DOTUSDT_20221222000537_d44da/config.json',\n    'result_file': 'C:/AgodaGit/passivbot/downloaded_configs/passivbot_v5.9.x/configs/older_versions/v5.9.0/harmony/recursive/longshort/harmony_recurv_auenabled_longshort_0.25_0.12WE_bwtp_off/DOTUSDT_20221222000537_d44da/DOTUSDT/result.txt',\n    'result': {'version': 'v5.9.0',\n     'Metric': 'Value',\n     'Exchange': 'binance',\n     'Market type': 'futures',\n     'Symbol': 'DOTUSDT',\n     'No. days': 822.708,\n     'Starting balance': 1500.0,\n     '(L)Long': 'True',\n     '(L)ADG realized per exposure': 0.331,\n     '(L)Final balance': 2962.35,\n     '(L)Final equity': 2962.37,\n     '(L)Net PNL + fees': 1462.35,\n     '(L)Total gain': 99.13,\n     '(L)Average daily gain': 0.0834,\n     '(L)Loss to profit ratio': 0.03264,\n     '(L)Price action distance mean': 0.0106453,\n     '(L)Price action distance std': 0.0127439,\n     '(L)Price action distance max': 0.859077,\n     '(L)Closest bankruptcy': 100.0,\n     '(L)Lowest equity/balance ratio': 0.8838,\n     '(L)Equity/balance ratio std': 0.002639,\n     '(L)No. fills': 36542.0,\n     '(L)No. entries': 12881.0,\n     '(L)No. closes': 23661.0,\n     '(L)No. initial entries': 9633.0,\n     '(L)No. reentries': 3112.0,\n     '(L)No. unstuck entries': 136.0,\n     '(L)No. unstuck closes': 265.0,\n     '(L)No. normal closes': 23396.0,\n     '(L)Average n fills per day': 44.4,\n     '(L)Mean hours stuck': 1.29018,\n     '(L)Max hours stuck': 88.6833,\n     '(L)PNL sum': 1487.0,\n     '(L)Profit sum': 1537.0,\n     '(L)Loss sum': -50.17,\n     '(L)Fee sum': -24.59,\n     '(L)Biggest pos size': 141.4,\n     '(L)Biggest pos cost': 740.2,\n     '(L)Volume quote': 245929.0,\n     '(S)Short': 'True',\n     '(S)ADG realized per exposure': 0.14,\n     '(S)Final balance': 1721.81,\n     '(S)Final equity': 1721.73,\n     '(S)Net PNL + fees': 221.81,\n     '(S)Total gain': 15.34,\n     '(S)Average daily gain': 0.0168,\n     '(S)Loss to profit ratio': 0.1075,\n     '(S)Price action distance mean': 0.0158296,\n     '(S)Price action distance std': 0.00992747,\n     '(S)Price action distance max': 0.11944,\n     '(S)Closest bankruptcy': 100.0,\n     '(S)Lowest equity/balance ratio': 0.9835,\n     '(S)Equity/balance ratio std': 0.0005482,\n     '(S)No. fills': 21942.0,\n     '(S)No. entries': 10974.0,\n     '(S)No. closes': 10968.0,\n     '(S)No. initial entries': 8568.0,\n     '(S)No. reentries': 2347.0,\n     '(S)No. unstuck entries': 59.0,\n     '(S)No. unstuck closes': 94.0,\n     '(S)No. normal closes': 10874.0,\n     '(S)Average n fills per day': 26.7,\n     '(S)Mean hours stuck': 3.29687,\n     '(S)Max hours stuck': 110.75,\n     '(S)PNL sum': 230.2,\n     '(S)Profit sum': 257.9,\n     '(S)Loss sum': -27.73,\n     '(S)Fee sum': -8.359,\n     '(S)Biggest pos size': 42.7,\n     '(S)Biggest pos cost': 205.3,\n     '(S)Volume quote': 83590.4}},\n   {'file': 'C:/AgodaGit/passivbot/cfgs_bkup/5_9_0/DYDX.json',\n    'coin': 'DYDX',\n    'downloaded_config': 'C:/AgodaGit/passivbot/downloaded_configs/passivbot_v5.9.x/configs/older_versions/v5.9.0/harmony/recursive/longshort/harmony_recurv_auenabled_longshort_0.25_0.12WE_bwtp_off/DYDXUSDT_20221222000537_d44da/config.json',\n    'result_file': 'C:/AgodaGit/passivbot/downloaded_configs/passivbot_v5.9.x/configs/older_versions/v5.9.0/harmony/recursive/longshort/harmony_recurv_auenabled_longshort_0.25_0.12WE_bwtp_off/DYDXUSDT_20221222000537_d44da/DYDXUSDT/result.txt',\n    'result': {'version': 'v5.9.0',\n     'Metric': 'Value',\n     'Exchange': 'binance',\n     'Market type': 'futures',\n     'Symbol': 'DYDXUSDT',\n     'No. days': 438.853,\n     'Starting balance': 1500.0,\n     '(L)Long': 'True',\n     '(L)ADG realized per exposure': 0.21,\n     '(L)Final balance': 1887.96,\n     '(L)Final equity': 1887.97,\n     '(L)Net PNL + fees': 387.96,\n     '(L)Total gain': 26.21,\n     '(L)Average daily gain': 0.0531,\n     '(L)Loss to profit ratio': 0.05205,\n     '(L)Price action distance mean': 0.0174835,\n     '(L)Price action distance std': 0.0206294,\n     '(L)Price action distance max': 0.285243,\n     '(L)Closest bankruptcy': 100.0,\n     '(L)Lowest equity/balance ratio': 0.9444,\n     '(L)Equity/balance ratio std': 0.004606,\n     '(L)No. fills': 8567.0,\n     '(L)No. entries': 3893.0,\n     '(L)No. closes': 4674.0,\n     '(L)No. initial entries': 2765.0,\n     '(L)No. reentries': 1065.0,\n     '(L)No. unstuck entries': 63.0,\n     '(L)No. unstuck closes': 69.0,\n     '(L)No. normal closes': 4605.0,\n     '(L)Average n fills per day': 19.5,\n     '(L)Mean hours stuck': 3.17148,\n     '(L)Max hours stuck': 137.65,\n     '(L)PNL sum': 393.1,\n     '(L)Profit sum': 414.7,\n     '(L)Loss sum': -21.59,\n     '(L)Fee sum': -5.176,\n     '(L)Biggest pos size': 388.9,\n     '(L)Biggest pos cost': 469.9,\n     '(L)Volume quote': 51762.6,\n     '(S)Short': 'True',\n     '(S)ADG realized per exposure': 0.456,\n     '(S)Final balance': 1906.81,\n     '(S)Final equity': 1906.77,\n     '(S)Net PNL + fees': 406.81,\n     '(S)Total gain': 27.87,\n     '(S)Average daily gain': 0.054,\n     '(S)Loss to profit ratio': 0.3967,\n     '(S)Price action distance mean': 0.0112387,\n     '(S)Price action distance std': 0.0166058,\n     '(S)Price action distance max': 0.245021,\n     '(S)Closest bankruptcy': 100.0,\n     '(S)Lowest equity/balance ratio': 0.961,\n     '(S)Equity/balance ratio std': 0.002335,\n     '(S)No. fills': 26420.0,\n     '(S)No. entries': 9612.0,\n     '(S)No. closes': 16808.0,\n     '(S)No. initial entries': 5671.0,\n     '(S)No. reentries': 2965.0,\n     '(S)No. unstuck entries': 976.0,\n     '(S)No. unstuck closes': 2895.0,\n     '(S)No. normal closes': 13913.0,\n     '(S)Average n fills per day': 60.2,\n     '(S)Mean hours stuck': 0.780647,\n     '(S)Max hours stuck': 80.2167,\n     '(S)PNL sum': 418.1,\n     '(S)Profit sum': 693.1,\n     '(S)Loss sum': -274.9,\n     '(S)Fee sum': -11.31,\n     '(S)Biggest pos size': 179.4,\n     '(S)Biggest pos cost': 230.0,\n     '(S)Volume quote': 113128.0}},\n   {'file': 'C:/AgodaGit/passivbot/cfgs_bkup/5_9_0/EOS.json',\n    'coin': 'EOS',\n    'downloaded_config': 'C:/AgodaGit/passivbot/downloaded_configs/passivbot_v5.9.x/configs/older_versions/v5.9.0/harmony/recursive/longshort/harmony_recurv_auenabled_longshort_0.25_0.12WE_bwtp_off/EOSUSDT_20221222000537_d44da/config.json',\n    'result_file': 'C:/AgodaGit/passivbot/downloaded_configs/passivbot_v5.9.x/configs/older_versions/v5.9.0/harmony/recursive/longshort/harmony_recurv_auenabled_longshort_0.25_0.12WE_bwtp_off/EOSUSDT_20221222000537_d44da/EOSUSDT/result.txt',\n    'result': {'version': 'v5.9.0',\n     'Metric': 'Value',\n     'Exchange': 'binance',\n     'Market type': 'futures',\n     'Symbol': 'EOSUSDT',\n     'No. days': 1049.67,\n     'Starting balance': 1500.0,\n     '(L)Long': 'True',\n     '(L)ADG realized per exposure': 0.103,\n     '(L)Final balance': 1963.37,\n     '(L)Final equity': 1963.39,\n     '(L)Net PNL + fees': 463.368,\n     '(L)Total gain': 32.04,\n     '(L)Average daily gain': 0.0274,\n     '(L)Loss to profit ratio': 0.5063,\n     '(L)Price action distance mean': 0.011956,\n     '(L)Price action distance std': 0.0271164,\n     '(L)Price action distance max': 1.30966,\n     '(L)Closest bankruptcy': 100.0,\n     '(L)Lowest equity/balance ratio': 0.8581,\n     '(L)Equity/balance ratio std': 0.005156,\n     '(L)No. fills': 51055.0,\n     '(L)No. entries': 15575.0,\n     '(L)No. closes': 35480.0,\n     '(L)No. initial entries': 11784.0,\n     '(L)No. reentries': 2866.0,\n     '(L)No. unstuck entries': 925.0,\n     '(L)No. unstuck closes': 3848.0,\n     '(L)No. normal closes': 31632.0,\n     '(L)Average n fills per day': 48.6,\n     '(L)Mean hours stuck': 1.0752,\n     '(L)Max hours stuck': 86.3,\n     '(L)PNL sum': 480.7,\n     '(L)Profit sum': 973.7,\n     '(L)Loss sum': -493.0,\n     '(L)Fee sum': -17.29,\n     '(L)Biggest pos size': 600.2,\n     '(L)Biggest pos cost': 488.7,\n     '(L)Volume quote': 172888.0,\n     '(S)Short': 'True',\n     '(S)ADG realized per exposure': 0.0204,\n     '(S)Final balance': 1539.09,\n     '(S)Final equity': 1538.89,\n     '(S)Net PNL + fees': 39.0883,\n     '(S)Total gain': 3.326,\n     '(S)Average daily gain': 0.0045,\n     '(S)Loss to profit ratio': 0.8501,\n     '(S)Price action distance mean': 0.0300087,\n     '(S)Price action distance std': 0.0692098,\n     '(S)Price action distance max': 0.572953,\n     '(S)Closest bankruptcy': 100.0,\n     '(S)Lowest equity/balance ratio': 0.8382,\n     '(S)Equity/balance ratio std': 0.01291,\n     '(S)No. fills': 42220.0,\n     '(S)No. entries': 19729.0,\n     '(S)No. closes': 22491.0,\n     '(S)No. initial entries': 16518.0,\n     '(S)No. reentries': 2776.0,\n     '(S)No. unstuck entries': 435.0,\n     '(S)No. unstuck closes': 1271.0,\n     '(S)No. normal closes': 21220.0,\n     '(S)Average n fills per day': 40.2,\n     '(S)Mean hours stuck': 1.83241,\n     '(S)Max hours stuck': 100.55,\n     '(S)PNL sum': 49.89,\n     '(S)Profit sum': 332.9,\n     '(S)Loss sum': -283.0,\n     '(S)Fee sum': -10.8,\n     '(S)Biggest pos size': 202.6,\n     '(S)Biggest pos cost': 196.1,\n     '(S)Volume quote': 108018.0}},\n   {'file': 'C:/AgodaGit/passivbot/cfgs_bkup/5_9_0/HBAR.json',\n    'coin': 'HBAR',\n    'downloaded_config': 'C:/AgodaGit/passivbot/downloaded_configs/passivbot_v5.9.x/configs/older_versions/v5.9.0/harmony/recursive/longshort/harmony_recurv_auenabled_longshort_0.25_0.12WE_bwtp_off/HBARUSDT_20221222000537_d44da/config.json',\n    'result_file': 'C:/AgodaGit/passivbot/downloaded_configs/passivbot_v5.9.x/configs/older_versions/v5.9.0/harmony/recursive/longshort/harmony_recurv_auenabled_longshort_0.25_0.12WE_bwtp_off/HBARUSDT_20221222000537_d44da/HBARUSDT/result.txt',\n    'result': {'version': 'v5.9.0',\n     'Metric': 'Value',\n     'Exchange': 'binance',\n     'Market type': 'futures',\n     'Symbol': 'HBARUSDT',\n     'No. days': 615.708,\n     'Starting balance': 1500.0,\n     '(L)Long': 'True',\n     '(L)ADG realized per exposure': 0.326,\n     '(L)Final balance': 2475.96,\n     '(L)Final equity': 2475.98,\n     '(L)Net PNL + fees': 975.957,\n     '(L)Total gain': 66.16,\n     '(L)Average daily gain': 0.0818,\n     '(L)Loss to profit ratio': 0.04233,\n     '(L)Price action distance mean': 0.00936215,\n     '(L)Price action distance std': 0.00925421,\n     '(L)Price action distance max': 0.666551,\n     '(L)Closest bankruptcy': 100.0,\n     '(L)Lowest equity/balance ratio': 0.8999,\n     '(L)Equity/balance ratio std': 0.001608,\n     '(L)No. fills': 42288.0,\n     '(L)No. entries': 12901.0,\n     '(L)No. closes': 29387.0,\n     '(L)No. initial entries': 9813.0,\n     '(L)No. reentries': 2546.0,\n     '(L)No. unstuck entries': 542.0,\n     '(L)No. unstuck closes': 1953.0,\n     '(L)No. normal closes': 27434.0,\n     '(L)Average n fills per day': 68.7,\n     '(L)Mean hours stuck': 0.720301,\n     '(L)Max hours stuck': 85.7667,\n     '(L)PNL sum': 992.4,\n     '(L)Profit sum': 1036.0,\n     '(L)Loss sum': -43.87,\n     '(L)Fee sum': -16.43,\n     '(L)Biggest pos size': 13186.0,\n     '(L)Biggest pos cost': 611.7,\n     '(L)Volume quote': 164251.0,\n     '(S)Short': 'True',\n     '(S)ADG realized per exposure': 0.3,\n     '(S)Final balance': 1872.7,\n     '(S)Final equity': 1872.57,\n     '(S)Net PNL + fees': 372.7,\n     '(S)Total gain': 25.69,\n     '(S)Average daily gain': 0.036,\n     '(S)Loss to profit ratio': 0.01142,\n     '(S)Price action distance mean': 0.00938884,\n     '(S)Price action distance std': 0.00924183,\n     '(S)Price action distance max': 0.275973,\n     '(S)Closest bankruptcy': 100.0,\n     '(S)Lowest equity/balance ratio': 0.9542,\n     '(S)Equity/balance ratio std': 0.001057,\n     '(S)No. fills': 45097.0,\n     '(S)No. entries': 21674.0,\n     '(S)No. closes': 23423.0,\n     '(S)No. initial entries': 18506.0,\n     '(S)No. reentries': 2981.0,\n     '(S)No. unstuck entries': 187.0,\n     '(S)No. unstuck closes': 197.0,\n     '(S)No. normal closes': 23226.0,\n     '(S)Average n fills per day': 73.2,\n     '(S)Mean hours stuck': 1.0469,\n     '(S)Max hours stuck': 80.3833,\n     '(S)PNL sum': 385.4,\n     '(S)Profit sum': 389.8,\n     '(S)Loss sum': -4.452,\n     '(S)Fee sum': -12.66,\n     '(S)Biggest pos size': 4315.0,\n     '(S)Biggest pos cost': 224.5,\n     '(S)Volume quote': 126551.0}},\n   {'file': 'C:/AgodaGit/passivbot/cfgs_bkup/5_9_0/LINK.json',\n    'coin': 'LINK',\n    'downloaded_config': 'C:/AgodaGit/passivbot/downloaded_configs/passivbot_v5.9.x/configs/older_versions/v5.9.0/harmony/recursive/longshort/harmony_recurv_auenabled_longshort_0.25_0.12WE_bwtp_off/LINKUSDT_20221222000537_d44da/config.json',\n    'result_file': 'C:/AgodaGit/passivbot/downloaded_configs/passivbot_v5.9.x/configs/older_versions/v5.9.0/harmony/recursive/longshort/harmony_recurv_auenabled_longshort_0.25_0.12WE_bwtp_off/LINKUSDT_20221222000537_d44da/LINKUSDT/result.txt',\n    'result': {'version': 'v5.9.0',\n     'Metric': 'Value',\n     'Exchange': 'binance',\n     'Market type': 'futures',\n     'Symbol': 'LINKUSDT',\n     'No. days': 1040.67,\n     'Starting balance': 1500.0,\n     '(L)Long': 'True',\n     '(L)ADG realized per exposure': 0.205,\n     '(L)Final balance': 2555.66,\n     '(L)Final equity': 2555.69,\n     '(L)Net PNL + fees': 1055.66,\n     '(L)Total gain': 71.17,\n     '(L)Average daily gain': 0.0518,\n     '(L)Loss to profit ratio': 0.09706,\n     '(L)Price action distance mean': 0.0156199,\n     '(L)Price action distance std': 0.0170197,\n     '(L)Price action distance max': 0.365803,\n     '(L)Closest bankruptcy': 100.0,\n     '(L)Lowest equity/balance ratio': 0.9329,\n     '(L)Equity/balance ratio std': 0.003272,\n     '(L)No. fills': 13220.0,\n     '(L)No. entries': 5990.0,\n     '(L)No. closes': 7230.0,\n     '(L)No. initial entries': 4131.0,\n     '(L)No. reentries': 1602.0,\n     '(L)No. unstuck entries': 257.0,\n     '(L)No. unstuck closes': 802.0,\n     '(L)No. normal closes': 6428.0,\n     '(L)Average n fills per day': 12.7,\n     '(L)Mean hours stuck': 5.10235,\n     '(L)Max hours stuck': 146.95,\n     '(L)PNL sum': 1068.0,\n     '(L)Profit sum': 1182.0,\n     '(L)Loss sum': -114.8,\n     '(L)Fee sum': -11.84,\n     '(L)Biggest pos size': 267.4,\n     '(L)Biggest pos cost': 631.1,\n     '(L)Volume quote': 118438.0,\n     '(S)Short': 'True',\n     '(S)ADG realized per exposure': 0.131,\n     '(S)Final balance': 1766.99,\n     '(S)Final equity': 1766.69,\n     '(S)Net PNL + fees': 266.987,\n     '(S)Total gain': 18.51,\n     '(S)Average daily gain': 0.0158,\n     '(S)Loss to profit ratio': 0.03148,\n     '(S)Price action distance mean': 0.0180687,\n     '(S)Price action distance std': 0.0141728,\n     '(S)Price action distance max': 0.164406,\n     '(S)Closest bankruptcy': 100.0,\n     '(S)Lowest equity/balance ratio': 0.9762,\n     '(S)Equity/balance ratio std': 0.001671,\n     '(S)No. fills': 42316.0,\n     '(S)No. entries': 20114.0,\n     '(S)No. closes': 22202.0,\n     '(S)No. initial entries': 17295.0,\n     '(S)No. reentries': 2775.0,\n     '(S)No. unstuck entries': 44.0,\n     '(S)No. unstuck closes': 55.0,\n     '(S)No. normal closes': 22147.0,\n     '(S)Average n fills per day': 40.7,\n     '(S)Mean hours stuck': 2.27323,\n     '(S)Max hours stuck': 144.767,\n     '(S)PNL sum': 277.6,\n     '(S)Profit sum': 286.6,\n     '(S)Loss sum': -9.024,\n     '(S)Fee sum': -10.61,\n     '(S)Biggest pos size': 101.2,\n     '(S)Biggest pos cost': 211.5,\n     '(S)Volume quote': 106146.0}},\n   {'file': 'C:/AgodaGit/passivbot/cfgs_bkup/5_9_0/MANA.json',\n    'coin': 'MANA',\n    'downloaded_config': 'C:/AgodaGit/passivbot/downloaded_configs/passivbot_v5.9.x/configs/older_versions/v5.9.0/harmony/recursive/longshort/harmony_recurv_auenabled_longshort_0.25_0.12WE_bwtp_off/MANAUSDT_20221222000537_d44da/config.json',\n    'result_file': 'C:/AgodaGit/passivbot/downloaded_configs/passivbot_v5.9.x/configs/older_versions/v5.9.0/harmony/recursive/longshort/harmony_recurv_auenabled_longshort_0.25_0.12WE_bwtp_off/MANAUSDT_20221222000537_d44da/MANAUSDT/result.txt',\n    'result': {'version': 'v5.9.0',\n     'Metric': 'Value',\n     'Exchange': 'binance',\n     'Market type': 'futures',\n     'Symbol': 'MANAUSDT',\n     'No. days': 617.708,\n     'Starting balance': 1500.0,\n     '(L)Long': 'True',\n     '(L)ADG realized per exposure': 0.44,\n     '(L)Final balance': 2959.54,\n     '(L)Final equity': 2959.55,\n     '(L)Net PNL + fees': 1459.54,\n     '(L)Total gain': 100.2,\n     '(L)Average daily gain': 0.109,\n     '(L)Loss to profit ratio': 0.03465,\n     '(L)Price action distance mean': 0.00934753,\n     '(L)Price action distance std': 0.0172884,\n     '(L)Price action distance max': 1.44738,\n     '(L)Closest bankruptcy': 100.0,\n     '(L)Lowest equity/balance ratio': 0.852,\n     '(L)Equity/balance ratio std': 0.003458,\n     '(L)No. fills': 95625.0,\n     '(L)No. entries': 39627.0,\n     '(L)No. closes': 55998.0,\n     '(L)No. initial entries': 35052.0,\n     '(L)No. reentries': 3580.0,\n     '(L)No. unstuck entries': 995.0,\n     '(L)No. unstuck closes': 1979.0,\n     '(L)No. normal closes': 54019.0,\n     '(L)Average n fills per day': 155.0,\n     '(L)Mean hours stuck': 0.531533,\n     '(L)Max hours stuck': 54.8833,\n     '(L)PNL sum': 1503.0,\n     '(L)Profit sum': 1557.0,\n     '(L)Loss sum': -53.94,\n     '(L)Fee sum': -43.19,\n     '(L)Biggest pos size': 1524.8,\n     '(L)Biggest pos cost': 735.5,\n     '(L)Volume quote': 431886.0,\n     '(S)Short': 'True',\n     '(S)ADG realized per exposure': 0.235,\n     '(S)Final balance': 1785.99,\n     '(S)Final equity': 1785.93,\n     '(S)Net PNL + fees': 285.993,\n     '(S)Total gain': 19.32,\n     '(S)Average daily gain': 0.0285,\n     '(S)Loss to profit ratio': 0.08837,\n     '(S)Price action distance mean': 0.016011,\n     '(S)Price action distance std': 0.0264968,\n     '(S)Price action distance max': 0.336111,\n     '(S)Closest bankruptcy': 100.0,\n     '(S)Lowest equity/balance ratio': 0.9391,\n     '(S)Equity/balance ratio std': 0.004043,\n     '(S)No. fills': 20129.0,\n     '(S)No. entries': 7591.0,\n     '(S)No. closes': 12538.0,\n     '(S)No. initial entries': 5804.0,\n     '(S)No. reentries': 1634.0,\n     '(S)No. unstuck entries': 153.0,\n     '(S)No. unstuck closes': 660.0,\n     '(S)No. normal closes': 11878.0,\n     '(S)Average n fills per day': 32.6,\n     '(S)Mean hours stuck': 1.70559,\n     '(S)Max hours stuck': 102.033,\n     '(S)PNL sum': 289.8,\n     '(S)Profit sum': 317.9,\n     '(S)Loss sum': -28.09,\n     '(S)Fee sum': -3.83,\n     '(S)Biggest pos size': 392.2,\n     '(S)Biggest pos cost': 214.1,\n     '(S)Volume quote': 38305.0}},\n   {'file': 'C:/AgodaGit/passivbot/cfgs_bkup/5_9_0/MATIC.json',\n    'coin': 'MATIC',\n    'downloaded_config': 'C:/AgodaGit/passivbot/downloaded_configs/passivbot_v5.9.x/configs/older_versions/v5.9.0/harmony/recursive/longshort/harmony_recurv_auenabled_longshort_0.25_0.12WE_bwtp_off/MATICUSDT_20221222000537_d44da/config.json',\n    'result_file': 'C:/AgodaGit/passivbot/downloaded_configs/passivbot_v5.9.x/configs/older_versions/v5.9.0/harmony/recursive/longshort/harmony_recurv_auenabled_longshort_0.25_0.12WE_bwtp_off/MATICUSDT_20221222000537_d44da/MATICUSDT/result.txt',\n    'result': {'version': 'v5.9.0',\n     'Metric': 'Value',\n     'Exchange': 'binance',\n     'Market type': 'futures',\n     'Symbol': 'MATICUSDT',\n     'No. days': 761.707,\n     'Starting balance': 1500.0,\n     '(L)Long': 'True',\n     '(L)ADG realized per exposure': 0.475,\n     '(L)Final balance': 3701.39,\n     '(L)Final equity': 3701.4,\n     '(L)Net PNL + fees': 2201.39,\n     '(L)Total gain': 150.1,\n     '(L)Average daily gain': 0.12,\n     '(L)Loss to profit ratio': 0.08397,\n     '(L)Price action distance mean': 0.0111223,\n     '(L)Price action distance std': 0.0191279,\n     '(L)Price action distance max': 0.618375,\n     '(L)Closest bankruptcy': 100.0,\n     '(L)Lowest equity/balance ratio': 0.9043,\n     '(L)Equity/balance ratio std': 0.004111,\n     '(L)No. fills': 84746.0,\n     '(L)No. entries': 32694.0,\n     '(L)No. closes': 52052.0,\n     '(L)No. initial entries': 27497.0,\n     '(L)No. reentries': 4332.0,\n     '(L)No. unstuck entries': 865.0,\n     '(L)No. unstuck closes': 2088.0,\n     '(L)No. normal closes': 49964.0,\n     '(L)Average n fills per day': 111.0,\n     '(L)Mean hours stuck': 0.617496,\n     '(L)Max hours stuck': 74.0,\n     '(L)PNL sum': 2252.0,\n     '(L)Profit sum': 2458.0,\n     '(L)Loss sum': -206.4,\n     '(L)Fee sum': -50.26,\n     '(L)Biggest pos size': 29168.0,\n     '(L)Biggest pos cost': 924.8,\n     '(L)Volume quote': 502643.0,\n     '(S)Short': 'True',\n     '(S)ADG realized per exposure': 0.185,\n     '(S)Final balance': 1776.6,\n     '(S)Final equity': 1776.59,\n     '(S)Net PNL + fees': 276.603,\n     '(S)Total gain': 18.8,\n     '(S)Average daily gain': 0.0226,\n     '(S)Loss to profit ratio': 0.0206,\n     '(S)Price action distance mean': 0.0169306,\n     '(S)Price action distance std': 0.0155812,\n     '(S)Price action distance max': 0.276874,\n     '(S)Closest bankruptcy': 100.0,\n     '(S)Lowest equity/balance ratio': 0.9536,\n     '(S)Equity/balance ratio std': 0.001958,\n     '(S)No. fills': 19825.0,\n     '(S)No. entries': 9993.0,\n     '(S)No. closes': 9832.0,\n     '(S)No. initial entries': 7133.0,\n     '(S)No. reentries': 2791.0,\n     '(S)No. unstuck entries': 69.0,\n     '(S)No. unstuck closes': 214.0,\n     '(S)No. normal closes': 9618.0,\n     '(S)Average n fills per day': 26.0,\n     '(S)Mean hours stuck': 2.47642,\n     '(S)Max hours stuck': 139.0,\n     '(S)PNL sum': 282.0,\n     '(S)Profit sum': 288.0,\n     '(S)Loss sum': -5.931,\n     '(S)Fee sum': -5.439,\n     '(S)Biggest pos size': 12111.0,\n     '(S)Biggest pos cost': 213.7,\n     '(S)Volume quote': 54393.1}},\n   {'file': 'C:/AgodaGit/passivbot/cfgs_bkup/5_9_0/OP.json',\n    'coin': 'OP',\n    'downloaded_config': 'C:/AgodaGit/passivbot/downloaded_configs/passivbot_v5.9.x/configs/older_versions/v5.9.0/harmony/recursive/longshort/harmony_recurv_auenabled_longshort_0.25_0.12WE_bwtp_off/OPUSDT_20221222000537_d44da/config.json',\n    'result_file': 'C:/AgodaGit/passivbot/downloaded_configs/passivbot_v5.9.x/configs/older_versions/v5.9.0/harmony/recursive/longshort/harmony_recurv_auenabled_longshort_0.25_0.12WE_bwtp_off/OPUSDT_20221222000537_d44da/OPUSDT/result.txt',\n    'result': {'version': 'v5.9.0',\n     'Metric': 'Value',\n     'Exchange': 'binance',\n     'Market type': 'futures',\n     'Symbol': 'OPUSDT',\n     'No. days': 123.415,\n     'Starting balance': 1500.0,\n     '(L)Long': 'True',\n     '(L)ADG realized per exposure': 0.568,\n     '(L)Final balance': 1608.94,\n     '(L)Final equity': 1607.4,\n     '(L)Net PNL + fees': 108.944,\n     '(L)Total gain': 7.501,\n     '(L)Average daily gain': 0.0564,\n     '(L)Loss to profit ratio': 0.0,\n     '(L)Price action distance mean': 0.0066348,\n     '(L)Price action distance std': 0.00928251,\n     '(L)Price action distance max': 0.12909,\n     '(L)Closest bankruptcy': 100.0,\n     '(L)Lowest equity/balance ratio': 0.9886,\n     '(L)Equity/balance ratio std': 0.0008042,\n     '(L)No. fills': 10091.0,\n     '(L)No. entries': 6320.0,\n     '(L)No. closes': 3771.0,\n     '(L)No. initial entries': 3365.0,\n     '(L)No. reentries': 2955.0,\n     '(L)No. unstuck entries': 0.0,\n     '(L)No. unstuck closes': 0.0,\n     '(L)No. normal closes': 3771.0,\n     '(L)Average n fills per day': 81.8,\n     '(L)Mean hours stuck': 0.552297,\n     '(L)Max hours stuck': 81.2833,\n     '(L)PNL sum': 112.5,\n     '(L)Profit sum': 112.5,\n     '(L)Loss sum': 0.0,\n     '(L)Fee sum': -3.566,\n     '(L)Biggest pos size': 364.6,\n     '(L)Biggest pos cost': 160.7,\n     '(L)Volume quote': 35657.3}},\n   {'file': 'C:/AgodaGit/passivbot/cfgs_bkup/5_9_0/SAND.json',\n    'coin': 'SAND',\n    'downloaded_config': 'C:/AgodaGit/passivbot/downloaded_configs/passivbot_v5.9.x/configs/older_versions/v5.9.0/harmony/recursive/longshort/harmony_recurv_auenabled_longshort_0.25_0.12WE_bwtp_off/SANDUSDT_20221222000537_d44da/config.json',\n    'result_file': 'C:/AgodaGit/passivbot/downloaded_configs/passivbot_v5.9.x/configs/older_versions/v5.9.0/harmony/recursive/longshort/harmony_recurv_auenabled_longshort_0.25_0.12WE_bwtp_off/SANDUSDT_20221222000537_d44da/SANDUSDT/result.txt',\n    'result': {'version': 'v5.9.0',\n     'Metric': 'Value',\n     'Exchange': 'binance',\n     'Market type': 'futures',\n     'Symbol': 'SANDUSDT',\n     'No. days': 666.708,\n     'Starting balance': 1500.0,\n     '(L)Long': 'True',\n     '(L)ADG realized per exposure': 0.265,\n     '(L)Final balance': 2332.61,\n     '(L)Final equity': 2332.63,\n     '(L)Net PNL + fees': 832.611,\n     '(L)Total gain': 56.41,\n     '(L)Average daily gain': 0.0667,\n     '(L)Loss to profit ratio': 0.08681,\n     '(L)Price action distance mean': 0.0125512,\n     '(L)Price action distance std': 0.013576,\n     '(L)Price action distance max': 0.629215,\n     '(L)Closest bankruptcy': 100.0,\n     '(L)Lowest equity/balance ratio': 0.9033,\n     '(L)Equity/balance ratio std': 0.002375,\n     '(L)No. fills': 28261.0,\n     '(L)No. entries': 12175.0,\n     '(L)No. closes': 16086.0,\n     '(L)No. initial entries': 8643.0,\n     '(L)No. reentries': 3362.0,\n     '(L)No. unstuck entries': 170.0,\n     '(L)No. unstuck closes': 478.0,\n     '(L)No. normal closes': 15608.0,\n     '(L)Average n fills per day': 42.4,\n     '(L)Mean hours stuck': 1.47379,\n     '(L)Max hours stuck': 99.8333,\n     '(L)PNL sum': 846.1,\n     '(L)Profit sum': 926.5,\n     '(L)Loss sum': -80.43,\n     '(L)Fee sum': -13.47,\n     '(L)Biggest pos size': 4693.0,\n     '(L)Biggest pos cost': 577.5,\n     '(L)Volume quote': 134704.0,\n     '(S)Short': 'True',\n     '(S)ADG realized per exposure': 0.163,\n     '(S)Final balance': 1709.25,\n     '(S)Final equity': 1709.23,\n     '(S)Net PNL + fees': 209.251,\n     '(S)Total gain': 14.84,\n     '(S)Average daily gain': 0.0225,\n     '(S)Loss to profit ratio': 0.4309,\n     '(S)Price action distance mean': 0.0562195,\n     '(S)Price action distance std': 0.10808,\n     '(S)Price action distance max': 0.655966,\n     '(S)Closest bankruptcy': 100.0,\n     '(S)Lowest equity/balance ratio': 0.767,\n     '(S)Equity/balance ratio std': 0.02388,\n     '(S)No. fills': 45437.0,\n     '(S)No. entries': 21955.0,\n     '(S)No. closes': 23482.0,\n     '(S)No. initial entries': 19021.0,\n     '(S)No. reentries': 2785.0,\n     '(S)No. unstuck entries': 149.0,\n     '(S)No. unstuck closes': 185.0,\n     '(S)No. normal closes': 23297.0,\n     '(S)Average n fills per day': 68.2,\n     '(S)Mean hours stuck': 1.32,\n     '(S)Max hours stuck': 302.733,\n     '(S)PNL sum': 222.6,\n     '(S)Profit sum': 391.1,\n     '(S)Loss sum': -168.5,\n     '(S)Fee sum': -13.36,\n     '(S)Biggest pos size': 1787.0,\n     '(S)Biggest pos cost': 213.6,\n     '(S)Volume quote': 133569.0}},\n   {'file': 'C:/AgodaGit/passivbot/cfgs_bkup/5_9_0/SUSHI.json',\n    'coin': 'SUSHI',\n    'downloaded_config': 'C:/AgodaGit/passivbot/downloaded_configs/passivbot_v5.9.x/configs/older_versions/v5.9.0/harmony/recursive/longshort/harmony_recurv_auenabled_longshort_0.25_0.12WE_bwtp_off/SUSHIUSDT_20221222000537_d44da/config.json',\n    'result_file': 'C:/AgodaGit/passivbot/downloaded_configs/passivbot_v5.9.x/configs/older_versions/v5.9.0/harmony/recursive/longshort/harmony_recurv_auenabled_longshort_0.25_0.12WE_bwtp_off/SUSHIUSDT_20221222000537_d44da/SUSHIUSDT/result.txt',\n    'result': {'version': 'v5.9.0',\n     'Metric': 'Value',\n     'Exchange': 'binance',\n     'Market type': 'futures',\n     'Symbol': 'SUSHIUSDT',\n     'No. days': 809.708,\n     'Starting balance': 1500.0,\n     '(L)Long': 'True',\n     '(L)ADG realized per exposure': 0.3,\n     '(L)Final balance': 2749.82,\n     '(L)Final equity': 2749.82,\n     '(L)Net PNL + fees': 1249.82,\n     '(L)Total gain': 86.14,\n     '(L)Average daily gain': 0.0765,\n     '(L)Loss to profit ratio': 0.09874,\n     '(L)Price action distance mean': 0.0102729,\n     '(L)Price action distance std': 0.0196182,\n     '(L)Price action distance max': 1.03772,\n     '(L)Closest bankruptcy': 100.0,\n     '(L)Lowest equity/balance ratio': 0.8725,\n     '(L)Equity/balance ratio std': 0.003761,\n     '(L)No. fills': 162334.0,\n     '(L)No. entries': 58914.0,\n     '(L)No. closes': 103420.0,\n     '(L)No. initial entries': 51469.0,\n     '(L)No. reentries': 6932.0,\n     '(L)No. unstuck entries': 513.0,\n     '(L)No. unstuck closes': 977.0,\n     '(L)No. normal closes': 102443.0,\n     '(L)Average n fills per day': 200.0,\n     '(L)Mean hours stuck': 0.355915,\n     '(L)Max hours stuck': 33.5667,\n     '(L)PNL sum': 1292.0,\n     '(L)Profit sum': 1434.0,\n     '(L)Loss sum': -141.6,\n     '(L)Fee sum': -42.34,\n     '(L)Biggest pos size': 796.9,\n     '(L)Biggest pos cost': 711.1,\n     '(L)Volume quote': 423405.0,\n     '(S)Short': 'True',\n     '(S)ADG realized per exposure': 0.294,\n     '(S)Final balance': 1996.21,\n     '(S)Final equity': 1995.81,\n     '(S)Net PNL + fees': 496.21,\n     '(S)Total gain': 34.05,\n     '(S)Average daily gain': 0.0359,\n     '(S)Loss to profit ratio': 0.03175,\n     '(S)Price action distance mean': 0.0143505,\n     '(S)Price action distance std': 0.0175431,\n     '(S)Price action distance max': 0.359026,\n     '(S)Closest bankruptcy': 100.0,\n     '(S)Lowest equity/balance ratio': 0.9327,\n     '(S)Equity/balance ratio std': 0.002497,\n     '(S)No. fills': 79439.0,\n     '(S)No. entries': 32126.0,\n     '(S)No. closes': 47313.0,\n     '(S)No. initial entries': 26996.0,\n     '(S)No. reentries': 4942.0,\n     '(S)No. unstuck entries': 188.0,\n     '(S)No. unstuck closes': 392.0,\n     '(S)No. normal closes': 46921.0,\n     '(S)Average n fills per day': 98.1,\n     '(S)Mean hours stuck': 0.621319,\n     '(S)Max hours stuck': 77.1,\n     '(S)PNL sum': 510.7,\n     '(S)Profit sum': 527.4,\n     '(S)Loss sum': -16.75,\n     '(S)Fee sum': -14.47,\n     '(S)Biggest pos size': 265.6,\n     '(S)Biggest pos cost': 239.5,\n     '(S)Volume quote': 144653.0}},\n   {'file': 'C:/AgodaGit/passivbot/cfgs_bkup/5_9_0/XRP.json',\n    'coin': 'XRP',\n    'downloaded_config': 'C:/AgodaGit/passivbot/downloaded_configs/passivbot_v5.9.x/configs/older_versions/v5.9.0/harmony/recursive/longshort/harmony_recurv_auenabled_longshort_0.25_0.12WE_bwtp_off/XRPUSDT_20221222000537_d44da/config.json',\n    'result_file': 'C:/AgodaGit/passivbot/downloaded_configs/passivbot_v5.9.x/configs/older_versions/v5.9.0/harmony/recursive/longshort/harmony_recurv_auenabled_longshort_0.25_0.12WE_bwtp_off/XRPUSDT_20221222000537_d44da/XRPUSDT/result.txt',\n    'result': {'version': 'v5.9.0',\n     'Metric': 'Value',\n     'Exchange': 'binance',\n     'Market type': 'futures',\n     'Symbol': 'XRPUSDT',\n     'No. days': 1051.65,\n     'Starting balance': 1500.0,\n     '(L)Long': 'True',\n     '(L)ADG realized per exposure': 0.193,\n     '(L)Final balance': 2490.12,\n     '(L)Final equity': 2490.14,\n     '(L)Net PNL + fees': 990.122,\n     '(L)Total gain': 66.83,\n     '(L)Average daily gain': 0.049,\n     '(L)Loss to profit ratio': 0.07049,\n     '(L)Price action distance mean': 0.0113798,\n     '(L)Price action distance std': 0.0158941,\n     '(L)Price action distance max': 0.705134,\n     '(L)Closest bankruptcy': 100.0,\n     '(L)Lowest equity/balance ratio': 0.8965,\n     '(L)Equity/balance ratio std': 0.003202,\n     '(L)No. fills': 25146.0,\n     '(L)No. entries': 10920.0,\n     '(L)No. closes': 14226.0,\n     '(L)No. initial entries': 7928.0,\n     '(L)No. reentries': 2729.0,\n     '(L)No. unstuck entries': 263.0,\n     '(L)No. unstuck closes': 773.0,\n     '(L)No. normal closes': 13453.0,\n     '(L)Average n fills per day': 23.9,\n     '(L)Mean hours stuck': 2.65541,\n     '(L)Max hours stuck': 195.067,\n     '(L)PNL sum': 1002.0,\n     '(L)Profit sum': 1078.0,\n     '(L)Loss sum': -76.03,\n     '(L)Fee sum': -12.32,\n     '(L)Biggest pos size': 2516.0,\n     '(L)Biggest pos cost': 617.1,\n     '(L)Volume quote': 123176.0,\n     '(S)Short': 'True',\n     '(S)ADG realized per exposure': 0.183,\n     '(S)Final balance': 1888.91,\n     '(S)Final equity': 1888.7,\n     '(S)Net PNL + fees': 388.915,\n     '(S)Total gain': 26.88,\n     '(S)Average daily gain': 0.0222,\n     '(S)Loss to profit ratio': 0.04751,\n     '(S)Price action distance mean': 0.0124304,\n     '(S)Price action distance std': 0.0186181,\n     '(S)Price action distance max': 0.255275,\n     '(S)Closest bankruptcy': 100.0,\n     '(S)Lowest equity/balance ratio': 0.9588,\n     '(S)Equity/balance ratio std': 0.002645,\n     '(S)No. fills': 60666.0,\n     '(S)No. entries': 27218.0,\n     '(S)No. closes': 33448.0,\n     '(S)No. initial entries': 21402.0,\n     '(S)No. reentries': 5584.0,\n     '(S)No. unstuck entries': 232.0,\n     '(S)No. unstuck closes': 402.0,\n     '(S)No. normal closes': 33046.0,\n     '(S)Average n fills per day': 57.7,\n     '(S)Mean hours stuck': 1.17711,\n     '(S)Max hours stuck': 105.8,\n     '(S)PNL sum': 403.3,\n     '(S)Profit sum': 423.4,\n     '(S)Loss sum': -20.11,\n     '(S)Fee sum': -14.34,\n     '(S)Biggest pos size': 1340.0,\n     '(S)Biggest pos cost': 226.5,\n     '(S)Volume quote': 143366.0}},\n   {'file': 'C:/AgodaGit/passivbot/cfgs_bkup/5_9_0/XTZ.json',\n    'coin': 'XTZ',\n    'downloaded_config': 'C:/AgodaGit/passivbot/downloaded_configs/passivbot_v5.9.x/configs/older_versions/v5.9.0/harmony/recursive/longshort/harmony_recurv_auenabled_longshort_0.25_0.12WE_bwtp_off/XTZUSDT_20221222000537_d44da/config.json',\n    'result_file': 'C:/AgodaGit/passivbot/downloaded_configs/passivbot_v5.9.x/configs/older_versions/v5.9.0/harmony/recursive/longshort/harmony_recurv_auenabled_longshort_0.25_0.12WE_bwtp_off/XTZUSDT_20221222000537_d44da/XTZUSDT/result.txt',\n    'result': {'version': 'v5.9.0',\n     'Metric': 'Value',\n     'Exchange': 'binance',\n     'Market type': 'futures',\n     'Symbol': 'XTZUSDT',\n     'No. days': 1020.67,\n     'Starting balance': 1500.0,\n     '(L)Long': 'True',\n     '(L)ADG realized per exposure': 0.217,\n     '(L)Final balance': 2607.48,\n     '(L)Final equity': 2607.49,\n     '(L)Net PNL + fees': 1107.48,\n     '(L)Total gain': 76.87,\n     '(L)Average daily gain': 0.0548,\n     '(L)Loss to profit ratio': 0.07483,\n     '(L)Price action distance mean': 0.00817884,\n     '(L)Price action distance std': 0.0137393,\n     '(L)Price action distance max': 1.25854,\n     '(L)Closest bankruptcy': 100.0,\n     '(L)Lowest equity/balance ratio': 0.8605,\n     '(L)Equity/balance ratio std': 0.002846,\n     '(L)No. fills': 184988.0,\n     '(L)No. entries': 70143.0,\n     '(L)No. closes': 114845.0,\n     '(L)No. initial entries': 60561.0,\n     '(L)No. reentries': 8898.0,\n     '(L)No. unstuck entries': 684.0,\n     '(L)No. unstuck closes': 1812.0,\n     '(L)No. normal closes': 113033.0,\n     '(L)Average n fills per day': 181.0,\n     '(L)Mean hours stuck': 0.397681,\n     '(L)Max hours stuck': 49.8833,\n     '(L)PNL sum': 1153.0,\n     '(L)Profit sum': 1246.0,\n     '(L)Loss sum': -93.26,\n     '(L)Fee sum': -45.54,\n     '(L)Biggest pos size': 653.7,\n     '(L)Biggest pos cost': 650.5,\n     '(L)Volume quote': 455429.0,\n     '(S)Short': 'True',\n     '(S)ADG realized per exposure': 0.173,\n     '(S)Final balance': 1854.16,\n     '(S)Final equity': 1854.07,\n     '(S)Net PNL + fees': 354.164,\n     '(S)Total gain': 24.1,\n     '(S)Average daily gain': 0.021,\n     '(S)Loss to profit ratio': 0.09338,\n     '(S)Price action distance mean': 0.0142523,\n     '(S)Price action distance std': 0.0129047,\n     '(S)Price action distance max': 0.293882,\n     '(S)Closest bankruptcy': 100.0,\n     '(S)Lowest equity/balance ratio': 0.95,\n     '(S)Equity/balance ratio std': 0.001494,\n     '(S)No. fills': 52472.0,\n     '(S)No. entries': 22439.0,\n     '(S)No. closes': 30033.0,\n     '(S)No. initial entries': 19195.0,\n     '(S)No. reentries': 3000.0,\n     '(S)No. unstuck entries': 244.0,\n     '(S)No. unstuck closes': 780.0,\n     '(S)No. normal closes': 29253.0,\n     '(S)Average n fills per day': 51.4,\n     '(S)Mean hours stuck': 1.26863,\n     '(S)Max hours stuck': 127.767,\n     '(S)PNL sum': 361.5,\n     '(S)Profit sum': 398.7,\n     '(S)Loss sum': -37.23,\n     '(S)Fee sum': -7.29,\n     '(S)Biggest pos size': 157.9,\n     '(S)Biggest pos cost': 222.0,\n     '(S)Volume quote': 72899.5}}]},\n 'v5.9.3': {'live_configs': [{'file': 'C:/AgodaGit/passivbot/cfgs_bkup/5_9_3/ADA.json',\n    'coin': 'ADA',\n    'downloaded_config': 'C:/AgodaGit/passivbot/downloaded_configs/passivbot_v5.9.x/configs/older_versions/v5.9.3_clock_realistic/clock/toaster_longonly_01_safe/ADAUSDT_20230217004157_5293c/config.json',\n    'result_file': 'C:/AgodaGit/passivbot/downloaded_configs/passivbot_v5.9.x/configs/older_versions/v5.9.3_clock_realistic/clock/toaster_longonly_01_safe/ADAUSDT_20230217004157_5293c/ADAUSDT/result.txt',\n    'result': {'version': 'v5.9.3',\n     'Metric': 'Value',\n     'Exchange': 'bybit',\n     'Market type': 'futures',\n     'Symbol': 'ADAUSDT',\n     'Passivbot mode': 'clock',\n     'No. days': 1100.0,\n     'Starting balance': 1000.0,\n     '(L)Long': 'True',\n     '(L)ADG realized per exposure': 0.378,\n     '(L)Final balance': 3516.74,\n     '(L)Final equity': 3516.74,\n     '(L)Net PNL + fees': 2516.74,\n     '(L)Total gain': 259.8,\n     '(L)Average daily gain': 0.113,\n     '(L)Loss to profit ratio': 0.179,\n     '(L)Price action distance mean': 0.00573849,\n     '(L)Price action distance std': 0.0124414,\n     '(L)Price action distance max': 0.373502,\n     '(L)Closest bankruptcy': 100.0,\n     '(L)Lowest equity/balance ratio': 0.9184,\n     '(L)Equity/balance ratio std': 0.001278,\n     '(L)No. fills': 17321.0,\n     '(L)No. entries': 10007.0,\n     '(L)No. closes': 7314.0,\n     '(L)No. initial entries': 0.0,\n     '(L)No. reentries': 0.0,\n     '(L)No. unstuck/EMA entries': 10007.0,\n     '(L)No. unstuck/EMA closes': 7207.0,\n     '(L)No. normal closes': 107.0,\n     '(L)Average n fills per day': 15.6,\n     '(L)Mean hours stuck': 1.53831,\n     '(L)Max hours stuck': 80.5,\n     '(L)PNL sum': 2598.0,\n     '(L)Profit sum': 3164.0,\n     '(L)Loss sum': -566.4,\n     '(L)Fee sum': -81.14,\n     '(L)Volume quote': 564484.0}},\n   {'file': 'C:/AgodaGit/passivbot/cfgs_bkup/5_9_3/ALGO.json',\n    'coin': 'ALGO',\n    'downloaded_config': 'C:/AgodaGit/passivbot/downloaded_configs/passivbot_v5.9.x/configs/older_versions/v5.9.3_clock_realistic/clock/toaster_longonly_01_safe/ALGOUSDT_20230217004157_5293c/config.json',\n    'result_file': 'C:/AgodaGit/passivbot/downloaded_configs/passivbot_v5.9.x/configs/older_versions/v5.9.3_clock_realistic/clock/toaster_longonly_01_safe/ALGOUSDT_20230217004157_5293c/ALGOUSDT/result.txt',\n    'result': {'version': 'v5.9.3',\n     'Metric': 'Value',\n     'Exchange': 'bybit',\n     'Market type': 'futures',\n     'Symbol': 'ALGOUSDT',\n     'Passivbot mode': 'clock',\n     'No. days': 970.0,\n     'Starting balance': 1000.0,\n     '(L)Long': 'True',\n     '(L)ADG realized per exposure': 0.397,\n     '(L)Final balance': 3184.06,\n     '(L)Final equity': 3184.06,\n     '(L)Net PNL + fees': 2184.06,\n     '(L)Total gain': 222.6,\n     '(L)Average daily gain': 0.119,\n     '(L)Loss to profit ratio': 0.1837,\n     '(L)Price action distance mean': 0.0100107,\n     '(L)Price action distance std': 0.0177952,\n     '(L)Price action distance max': 0.469379,\n     '(L)Closest bankruptcy': 100.0,\n     '(L)Lowest equity/balance ratio': 0.9042,\n     '(L)Equity/balance ratio std': 0.002925,\n     '(L)No. fills': 12885.0,\n     '(L)No. entries': 6197.0,\n     '(L)No. closes': 6688.0,\n     '(L)No. initial entries': 0.0,\n     '(L)No. reentries': 0.0,\n     '(L)No. unstuck/EMA entries': 6197.0,\n     '(L)No. unstuck/EMA closes': 6226.0,\n     '(L)No. normal closes': 462.0,\n     '(L)Average n fills per day': 13.2,\n     '(L)Mean hours stuck': 1.81249,\n     '(L)Max hours stuck': 59.1,\n     '(L)PNL sum': 2226.0,\n     '(L)Profit sum': 2727.0,\n     '(L)Loss sum': -501.0,\n     '(L)Fee sum': -42.25,\n     '(L)Volume quote': 620754.0}},\n   {'file': 'C:/AgodaGit/passivbot/cfgs_bkup/5_9_3/AVAX.json',\n    'coin': 'AVAX',\n    'downloaded_config': 'C:/AgodaGit/passivbot/downloaded_configs/passivbot_v5.9.x/configs/older_versions/v5.9.3_clock_realistic/clock/toaster_longonly_01_safe/AVAXUSDT_20230217004157_5293c/config.json',\n    'result_file': 'C:/AgodaGit/passivbot/downloaded_configs/passivbot_v5.9.x/configs/older_versions/v5.9.3_clock_realistic/clock/toaster_longonly_01_safe/AVAXUSDT_20230217004157_5293c/AVAXUSDT/result.txt',\n    'result': {'version': 'v5.9.3',\n     'Metric': 'Value',\n     'Exchange': 'bybit',\n     'Market type': 'futures',\n     'Symbol': 'AVAXUSDT',\n     'Passivbot mode': 'clock',\n     'No. days': 870.0,\n     'Starting balance': 1000.0,\n     '(L)Long': 'True',\n     '(L)ADG realized per exposure': 0.373,\n     '(L)Final balance': 2661.73,\n     '(L)Final equity': 2661.73,\n     '(L)Net PNL + fees': 1661.73,\n     '(L)Total gain': 168.1,\n     '(L)Average daily gain': 0.112,\n     '(L)Loss to profit ratio': 0.06672,\n     '(L)Price action distance mean': 0.0125766,\n     '(L)Price action distance std': 0.0241555,\n     '(L)Price action distance max': 0.372757,\n     '(L)Closest bankruptcy': 100.0,\n     '(L)Lowest equity/balance ratio': 0.9188,\n     '(L)Equity/balance ratio std': 0.004174,\n     '(L)No. fills': 16371.0,\n     '(L)No. entries': 6800.0,\n     '(L)No. closes': 9571.0,\n     '(L)No. initial entries': 0.0,\n     '(L)No. reentries': 0.0,\n     '(L)No. unstuck/EMA entries': 6800.0,\n     '(L)No. unstuck/EMA closes': 9251.0,\n     '(L)No. normal closes': 320.0,\n     '(L)Average n fills per day': 18.7,\n     '(L)Mean hours stuck': 1.28183,\n     '(L)Max hours stuck': 91.45,\n     '(L)PNL sum': 1681.0,\n     '(L)Profit sum': 1802.0,\n     '(L)Loss sum': -120.2,\n     '(L)Fee sum': -19.7,\n     '(L)Volume quote': 1090370.0}},\n   {'file': 'C:/AgodaGit/passivbot/cfgs_bkup/5_9_3/BNB.json',\n    'coin': 'BNB',\n    'downloaded_config': 'C:/AgodaGit/passivbot/downloaded_configs/passivbot_v5.9.x/configs/older_versions/v5.9.3_clock_realistic/clock/toaster_longonly_01_safe/BNBUSDT_20230217004157_5293c/config.json',\n    'result_file': 'C:/AgodaGit/passivbot/downloaded_configs/passivbot_v5.9.x/configs/older_versions/v5.9.3_clock_realistic/clock/toaster_longonly_01_safe/BNBUSDT_20230217004157_5293c/BNBUSDT/result.txt',\n    'result': {'version': 'v5.9.3',\n     'Metric': 'Value',\n     'Exchange': 'bybit',\n     'Market type': 'futures',\n     'Symbol': 'BNBUSDT',\n     'Passivbot mode': 'clock',\n     'No. days': 1100.0,\n     'Starting balance': 1000.0,\n     '(L)Long': 'True',\n     '(L)ADG realized per exposure': 0.249,\n     '(L)Final balance': 2271.09,\n     '(L)Final equity': 2271.11,\n     '(L)Net PNL + fees': 1271.09,\n     '(L)Total gain': 129.6,\n     '(L)Average daily gain': 0.0746,\n     '(L)Loss to profit ratio': 0.1874,\n     '(L)Price action distance mean': 0.00647178,\n     '(L)Price action distance std': 0.00788094,\n     '(L)Price action distance max': 0.340036,\n     '(L)Closest bankruptcy': 100.0,\n     '(L)Lowest equity/balance ratio': 0.9244,\n     '(L)Equity/balance ratio std': 0.001116,\n     '(L)No. fills': 9921.0,\n     '(L)No. entries': 5969.0,\n     '(L)No. closes': 3952.0,\n     '(L)No. initial entries': 0.0,\n     '(L)No. reentries': 0.0,\n     '(L)No. unstuck/EMA entries': 5969.0,\n     '(L)No. unstuck/EMA closes': 3663.0,\n     '(L)No. normal closes': 289.0,\n     '(L)Average n fills per day': 9.01,\n     '(L)Mean hours stuck': 2.66271,\n     '(L)Max hours stuck': 86.0667,\n     '(L)PNL sum': 1296.0,\n     '(L)Profit sum': 1595.0,\n     '(L)Loss sum': -298.9,\n     '(L)Fee sum': -25.3,\n     '(L)Volume quote': 259465.0}},\n   {'file': 'C:/AgodaGit/passivbot/cfgs_bkup/5_9_3/BTC.json',\n    'coin': 'BTC',\n    'downloaded_config': 'C:/AgodaGit/passivbot/downloaded_configs/passivbot_v5.9.x/configs/older_versions/v5.9.3_clock_realistic/clock/toaster_longonly_01_safe/BTCUSDT_20230217004157_5293c/config.json',\n    'result_file': 'C:/AgodaGit/passivbot/downloaded_configs/passivbot_v5.9.x/configs/older_versions/v5.9.3_clock_realistic/clock/toaster_longonly_01_safe/BTCUSDT_20230217004157_5293c/BTCUSDT/result.txt',\n    'result': {'version': 'v5.9.3',\n     'Metric': 'Value',\n     'Exchange': 'bybit',\n     'Market type': 'futures',\n     'Symbol': 'BTCUSDT',\n     'Passivbot mode': 'clock',\n     'No. days': 1100.0,\n     'Starting balance': 1000.0,\n     '(L)Long': 'True',\n     '(L)ADG realized per exposure': 0.167,\n     '(L)Final balance': 1768.97,\n     '(L)Final equity': 1768.97,\n     '(L)Net PNL + fees': 768.974,\n     '(L)Total gain': 80.96,\n     '(L)Average daily gain': 0.05,\n     '(L)Loss to profit ratio': 0.2455,\n     '(L)Price action distance mean': 0.00650828,\n     '(L)Price action distance std': 0.00850938,\n     '(L)Price action distance max': 0.237834,\n     '(L)Closest bankruptcy': 100.0,\n     '(L)Lowest equity/balance ratio': 0.9427,\n     '(L)Equity/balance ratio std': 0.0006893,\n     '(L)No. fills': 10613.0,\n     '(L)No. entries': 5659.0,\n     '(L)No. closes': 4954.0,\n     '(L)No. initial entries': 0.0,\n     '(L)No. reentries': 0.0,\n     '(L)No. unstuck/EMA entries': 5659.0,\n     '(L)No. unstuck/EMA closes': 4897.0,\n     '(L)No. normal closes': 57.0,\n     '(L)Average n fills per day': 9.3,\n     '(L)Mean hours stuck': 2.57576,\n     '(L)Max hours stuck': 164.267,\n     '(L)PNL sum': 809.6,\n     '(L)Profit sum': 1073.0,\n     '(L)Loss sum': -263.5,\n     '(L)Fee sum': -40.64,\n     '(L)Volume quote': 276543.0}},\n   {'file': 'C:/AgodaGit/passivbot/cfgs_bkup/5_9_3/COMP.json',\n    'coin': 'COMP',\n    'downloaded_config': 'C:/AgodaGit/passivbot/downloaded_configs/passivbot_v5.9.x/configs/older_versions/v5.9.3_clock_realistic/clock/toaster_longonly_01_safe/COMPUSDT_20230217004157_5293c/config.json',\n    'result_file': 'C:/AgodaGit/passivbot/downloaded_configs/passivbot_v5.9.x/configs/older_versions/v5.9.3_clock_realistic/clock/toaster_longonly_01_safe/COMPUSDT_20230217004157_5293c/COMPUSDT/result.txt',\n    'result': {'version': 'v5.9.3',\n     'Metric': 'Value',\n     'Exchange': 'bybit',\n     'Market type': 'futures',\n     'Symbol': 'COMPUSDT',\n     'Passivbot mode': 'clock',\n     'No. days': 960.0,\n     'Starting balance': 1000.0,\n     '(L)Long': 'True',\n     '(L)ADG realized per exposure': 0.25,\n     '(L)Final balance': 2054.64,\n     '(L)Final equity': 2054.64,\n     '(L)Net PNL + fees': 1054.64,\n     '(L)Total gain': 107.1,\n     '(L)Average daily gain': 0.0751,\n     '(L)Loss to profit ratio': 0.2439,\n     '(L)Price action distance mean': 0.0124996,\n     '(L)Price action distance std': 0.0153567,\n     '(L)Price action distance max': 0.406771,\n     '(L)Closest bankruptcy': 100.0,\n     '(L)Lowest equity/balance ratio': 0.9134,\n     '(L)Equity/balance ratio std': 0.002661,\n     '(L)No. fills': 6876.0,\n     '(L)No. entries': 3661.0,\n     '(L)No. closes': 3215.0,\n     '(L)No. initial entries': 0.0,\n     '(L)No. reentries': 0.0,\n     '(L)No. unstuck/EMA entries': 3661.0,\n     '(L)No. unstuck/EMA closes': 2311.0,\n     '(L)No. normal closes': 904.0,\n     '(L)Average n fills per day': 7.17,\n     '(L)Mean hours stuck': 3.34842,\n     '(L)Max hours stuck': 65.4833,\n     '(L)PNL sum': 1071.0,\n     '(L)Profit sum': 1417.0,\n     '(L)Loss sum': -345.7,\n     '(L)Fee sum': -16.81,\n     '(L)Volume quote': 350018.0}},\n   {'file': 'C:/AgodaGit/passivbot/cfgs_bkup/5_9_3/ETC.json',\n    'coin': 'ETC',\n    'downloaded_config': 'C:/AgodaGit/passivbot/downloaded_configs/passivbot_v5.9.x/configs/older_versions/v5.9.3_clock_realistic/clock/toaster_longonly_01_safe/ETCUSDT_20230217004157_5293c/config.json',\n    'result_file': 'C:/AgodaGit/passivbot/downloaded_configs/passivbot_v5.9.x/configs/older_versions/v5.9.3_clock_realistic/clock/toaster_longonly_01_safe/ETCUSDT_20230217004157_5293c/ETCUSDT/result.txt',\n    'result': {'version': 'v5.9.3',\n     'Metric': 'Value',\n     'Exchange': 'bybit',\n     'Market type': 'futures',\n     'Symbol': 'ETCUSDT',\n     'Passivbot mode': 'clock',\n     'No. days': 1100.0,\n     'Starting balance': 1000.0,\n     '(L)Long': 'True',\n     '(L)ADG realized per exposure': 0.293,\n     '(L)Final balance': 2686.35,\n     '(L)Final equity': 2686.35,\n     '(L)Net PNL + fees': 1686.35,\n     '(L)Total gain': 173.4,\n     '(L)Average daily gain': 0.0878,\n     '(L)Loss to profit ratio': 0.1298,\n     '(L)Price action distance mean': 0.00609432,\n     '(L)Price action distance std': 0.0107462,\n     '(L)Price action distance max': 0.533994,\n     '(L)Closest bankruptcy': 100.0,\n     '(L)Lowest equity/balance ratio': 0.8954,\n     '(L)Equity/balance ratio std': 0.001383,\n     '(L)No. fills': 17903.0,\n     '(L)No. entries': 10058.0,\n     '(L)No. closes': 7845.0,\n     '(L)No. initial entries': 0.0,\n     '(L)No. reentries': 0.0,\n     '(L)No. unstuck/EMA entries': 10058.0,\n     '(L)No. unstuck/EMA closes': 7716.0,\n     '(L)No. normal closes': 129.0,\n     '(L)Average n fills per day': 15.9,\n     '(L)Mean hours stuck': 1.50859,\n     '(L)Max hours stuck': 40.1333,\n     '(L)PNL sum': 1734.0,\n     '(L)Profit sum': 1992.0,\n     '(L)Loss sum': -258.7,\n     '(L)Fee sum': -47.33,\n     '(L)Volume quote': 340409.0}},\n   {'file': 'C:/AgodaGit/passivbot/cfgs_bkup/5_9_3/ETH.json',\n    'coin': 'ETH',\n    'downloaded_config': 'C:/AgodaGit/passivbot/downloaded_configs/passivbot_v5.9.x/configs/older_versions/v5.9.3_clock_realistic/clock/toaster_longonly_01_safe/ETHUSDT_20230217004157_5293c/config.json',\n    'result_file': 'C:/AgodaGit/passivbot/downloaded_configs/passivbot_v5.9.x/configs/older_versions/v5.9.3_clock_realistic/clock/toaster_longonly_01_safe/ETHUSDT_20230217004157_5293c/ETHUSDT/result.txt',\n    'result': {'version': 'v5.9.3',\n     'Metric': 'Value',\n     'Exchange': 'bybit',\n     'Market type': 'futures',\n     'Symbol': 'ETHUSDT',\n     'Passivbot mode': 'clock',\n     'No. days': 1100.0,\n     'Starting balance': 1000.0,\n     '(L)Long': 'True',\n     '(L)ADG realized per exposure': 0.23,\n     '(L)Final balance': 2200.3,\n     '(L)Final equity': 2200.3,\n     '(L)Net PNL + fees': 1200.3,\n     '(L)Total gain': 124.1,\n     '(L)Average daily gain': 0.0691,\n     '(L)Loss to profit ratio': 0.2187,\n     '(L)Price action distance mean': 0.00734187,\n     '(L)Price action distance std': 0.0142256,\n     '(L)Price action distance max': 0.32347,\n     '(L)Closest bankruptcy': 100.0,\n     '(L)Lowest equity/balance ratio': 0.9266,\n     '(L)Equity/balance ratio std': 0.001239,\n     '(L)No. fills': 8629.0,\n     '(L)No. entries': 4769.0,\n     '(L)No. closes': 3860.0,\n     '(L)No. initial entries': 0.0,\n     '(L)No. reentries': 0.0,\n     '(L)No. unstuck/EMA entries': 4769.0,\n     '(L)No. unstuck/EMA closes': 3836.0,\n     '(L)No. normal closes': 24.0,\n     '(L)Average n fills per day': 7.56,\n     '(L)Mean hours stuck': 3.16791,\n     '(L)Max hours stuck': 124.467,\n     '(L)PNL sum': 1241.0,\n     '(L)Profit sum': 1588.0,\n     '(L)Loss sum': -347.4,\n     '(L)Fee sum': -40.58,\n     '(L)Volume quote': 282460.0}},\n   {'file': 'C:/AgodaGit/passivbot/cfgs_bkup/5_9_3/GALA.json',\n    'coin': 'GALA',\n    'downloaded_config': 'C:/AgodaGit/passivbot/downloaded_configs/passivbot_v5.9.x/configs/older_versions/v5.9.3_clock_realistic/clock/toaster_longonly_01_safe/GALAUSDT_20230217004157_5293c/config.json',\n    'result_file': 'C:/AgodaGit/passivbot/downloaded_configs/passivbot_v5.9.x/configs/older_versions/v5.9.3_clock_realistic/clock/toaster_longonly_01_safe/GALAUSDT_20230217004157_5293c/GALAUSDT/result.txt',\n    'result': {'version': 'v5.9.3',\n     'Metric': 'Value',\n     'Exchange': 'bybit',\n     'Market type': 'futures',\n     'Symbol': 'GALAUSDT',\n     'Passivbot mode': 'clock',\n     'No. days': 510.0,\n     'Starting balance': 1000.0,\n     '(L)Long': 'True',\n     '(L)ADG realized per exposure': 0.452,\n     '(L)Final balance': 2008.57,\n     '(L)Final equity': 2008.57,\n     '(L)Net PNL + fees': 1008.57,\n     '(L)Total gain': 103.1,\n     '(L)Average daily gain': 0.136,\n     '(L)Loss to profit ratio': 0.201,\n     '(L)Price action distance mean': 0.0111384,\n     '(L)Price action distance std': 0.0215998,\n     '(L)Price action distance max': 0.416372,\n     '(L)Closest bankruptcy': 100.0,\n     '(L)Lowest equity/balance ratio': 0.9118,\n     '(L)Equity/balance ratio std': 0.003249,\n     '(L)No. fills': 4471.0,\n     '(L)No. entries': 2443.0,\n     '(L)No. closes': 2028.0,\n     '(L)No. initial entries': 0.0,\n     '(L)No. reentries': 0.0,\n     '(L)No. unstuck/EMA entries': 2443.0,\n     '(L)No. unstuck/EMA closes': 906.0,\n     '(L)No. normal closes': 1122.0,\n     '(L)Average n fills per day': 8.68,\n     '(L)Mean hours stuck': 2.76174,\n     '(L)Max hours stuck': 69.4333,\n     '(L)PNL sum': 1031.0,\n     '(L)Profit sum': 1290.0,\n     '(L)Loss sum': -259.3,\n     '(L)Fee sum': -22.3,\n     '(L)Volume quote': 345694.0}},\n   {'file': 'C:/AgodaGit/passivbot/cfgs_bkup/5_9_3/GMT.json',\n    'coin': 'GMT',\n    'downloaded_config': 'C:/AgodaGit/passivbot/downloaded_configs/passivbot_v5.9.x/configs/older_versions/v5.9.3_clock_realistic/clock/toaster_longonly_01_safe/GMTUSDT_20230217004157_5293c/config.json',\n    'result_file': 'C:/AgodaGit/passivbot/downloaded_configs/passivbot_v5.9.x/configs/older_versions/v5.9.3_clock_realistic/clock/toaster_longonly_01_safe/GMTUSDT_20230217004157_5293c/GMTUSDT/result.txt',\n    'result': {'version': 'v5.9.3',\n     'Metric': 'Value',\n     'Exchange': 'bybit',\n     'Market type': 'futures',\n     'Symbol': 'GMTUSDT',\n     'Passivbot mode': 'clock',\n     'No. days': 340.0,\n     'Starting balance': 1000.0,\n     '(L)Long': 'True',\n     '(L)ADG realized per exposure': 0.433,\n     '(L)Final balance': 1548.32,\n     '(L)Final equity': 1548.32,\n     '(L)Net PNL + fees': 548.316,\n     '(L)Total gain': 55.52,\n     '(L)Average daily gain': 0.13,\n     '(L)Loss to profit ratio': 0.1013,\n     '(L)Price action distance mean': 0.0135363,\n     '(L)Price action distance std': 0.0163282,\n     '(L)Price action distance max': 0.127076,\n     '(L)Closest bankruptcy': 100.0,\n     '(L)Lowest equity/balance ratio': 0.9662,\n     '(L)Equity/balance ratio std': 0.002866,\n     '(L)No. fills': 6464.0,\n     '(L)No. entries': 1671.0,\n     '(L)No. closes': 4793.0,\n     '(L)No. initial entries': 0.0,\n     '(L)No. reentries': 0.0,\n     '(L)No. unstuck/EMA entries': 1671.0,\n     '(L)No. unstuck/EMA closes': 4643.0,\n     '(L)No. normal closes': 150.0,\n     '(L)Average n fills per day': 19.2,\n     '(L)Mean hours stuck': 1.24933,\n     '(L)Max hours stuck': 67.2833,\n     '(L)PNL sum': 555.2,\n     '(L)Profit sum': 617.8,\n     '(L)Loss sum': -62.61,\n     '(L)Fee sum': -6.837,\n     '(L)Volume quote': 327899.0}},\n   {'file': 'C:/AgodaGit/passivbot/cfgs_bkup/5_9_3/KSM.json',\n    'coin': 'KSM',\n    'downloaded_config': 'C:/AgodaGit/passivbot/downloaded_configs/passivbot_v5.9.x/configs/older_versions/v5.9.3_clock_realistic/clock/toaster_longonly_01_safe/KSMUSDT_20230217004157_5293c/config.json',\n    'result_file': 'C:/AgodaGit/passivbot/downloaded_configs/passivbot_v5.9.x/configs/older_versions/v5.9.3_clock_realistic/clock/toaster_longonly_01_safe/KSMUSDT_20230217004157_5293c/KSMUSDT/result.txt',\n    'result': {'version': 'v5.9.3',\n     'Metric': 'Value',\n     'Exchange': 'bybit',\n     'Market type': 'futures',\n     'Symbol': 'KSMUSDT',\n     'Passivbot mode': 'clock',\n     'No. days': 850.0,\n     'Starting balance': 1000.0,\n     '(L)Long': 'True',\n     '(L)ADG realized per exposure': 0.327,\n     '(L)Final balance': 2311.24,\n     '(L)Final equity': 2311.24,\n     '(L)Net PNL + fees': 1311.24,\n     '(L)Total gain': 133.7,\n     '(L)Average daily gain': 0.0982,\n     '(L)Loss to profit ratio': 0.1819,\n     '(L)Price action distance mean': 0.00699738,\n     '(L)Price action distance std': 0.00783552,\n     '(L)Price action distance max': 0.16766,\n     '(L)Closest bankruptcy': 100.0,\n     '(L)Lowest equity/balance ratio': 0.9202,\n     '(L)Equity/balance ratio std': 0.001092,\n     '(L)No. fills': 12436.0,\n     '(L)No. entries': 8811.0,\n     '(L)No. closes': 3625.0,\n     '(L)No. initial entries': 0.0,\n     '(L)No. reentries': 0.0,\n     '(L)No. unstuck/EMA entries': 8811.0,\n     '(L)No. unstuck/EMA closes': 3359.0,\n     '(L)No. normal closes': 266.0,\n     '(L)Average n fills per day': 14.6,\n     '(L)Mean hours stuck': 1.64693,\n     '(L)Max hours stuck': 80.8167,\n     '(L)PNL sum': 1337.0,\n     '(L)Profit sum': 1634.0,\n     '(L)Loss sum': -297.1,\n     '(L)Fee sum': -25.28,\n     '(L)Volume quote': 505729.0}},\n   {'file': 'C:/AgodaGit/passivbot/cfgs_bkup/5_9_3/LTC.json',\n    'coin': 'LTC',\n    'downloaded_config': 'C:/AgodaGit/passivbot/downloaded_configs/passivbot_v5.9.x/configs/older_versions/v5.9.3_clock_realistic/clock/toaster_longonly_01_safe/LTCUSDT_20230217004157_5293c/config.json',\n    'result_file': 'C:/AgodaGit/passivbot/downloaded_configs/passivbot_v5.9.x/configs/older_versions/v5.9.3_clock_realistic/clock/toaster_longonly_01_safe/LTCUSDT_20230217004157_5293c/LTCUSDT/result.txt',\n    'result': {'version': 'v5.9.3',\n     'Metric': 'Value',\n     'Exchange': 'bybit',\n     'Market type': 'futures',\n     'Symbol': 'LTCUSDT',\n     'Passivbot mode': 'clock',\n     'No. days': 1100.0,\n     'Starting balance': 1000.0,\n     '(L)Long': 'True',\n     '(L)ADG realized per exposure': 0.174,\n     '(L)Final balance': 1803.39,\n     '(L)Final equity': 1803.39,\n     '(L)Net PNL + fees': 803.392,\n     '(L)Total gain': 82.5,\n     '(L)Average daily gain': 0.0521,\n     '(L)Loss to profit ratio': 0.1487,\n     '(L)Price action distance mean': 0.00880856,\n     '(L)Price action distance std': 0.00936965,\n     '(L)Price action distance max': 0.188195,\n     '(L)Closest bankruptcy': 100.0,\n     '(L)Lowest equity/balance ratio': 0.9532,\n     '(L)Equity/balance ratio std': 0.0004304,\n     '(L)No. fills': 11584.0,\n     '(L)No. entries': 6224.0,\n     '(L)No. closes': 5360.0,\n     '(L)No. initial entries': 0.0,\n     '(L)No. reentries': 0.0,\n     '(L)No. unstuck/EMA entries': 6224.0,\n     '(L)No. unstuck/EMA closes': 5192.0,\n     '(L)No. normal closes': 168.0,\n     '(L)Average n fills per day': 10.2,\n     '(L)Mean hours stuck': 2.34596,\n     '(L)Max hours stuck': 87.2667,\n     '(L)PNL sum': 825.0,\n     '(L)Profit sum': 969.1,\n     '(L)Loss sum': -144.1,\n     '(L)Fee sum': -21.6,\n     '(L)Volume quote': 164562.0}},\n   {'file': 'C:/AgodaGit/passivbot/cfgs_bkup/5_9_3/NEAR.json',\n    'coin': 'NEAR',\n    'downloaded_config': 'C:/AgodaGit/passivbot/downloaded_configs/passivbot_v5.9.x/configs/older_versions/v5.9.3_clock_realistic/clock/toaster_longonly_01_safe/NEARUSDT_20230217004157_5293c/config.json',\n    'result_file': 'C:/AgodaGit/passivbot/downloaded_configs/passivbot_v5.9.x/configs/older_versions/v5.9.3_clock_realistic/clock/toaster_longonly_01_safe/NEARUSDT_20230217004157_5293c/NEARUSDT/result.txt',\n    'result': {'version': 'v5.9.3',\n     'Metric': 'Value',\n     'Exchange': 'bybit',\n     'Market type': 'futures',\n     'Symbol': 'NEARUSDT',\n     'Passivbot mode': 'clock',\n     'No. days': 850.0,\n     'Starting balance': 1000.0,\n     '(L)Long': 'True',\n     '(L)ADG realized per exposure': 0.368,\n     '(L)Final balance': 2561.99,\n     '(L)Final equity': 2561.99,\n     '(L)Net PNL + fees': 1561.99,\n     '(L)Total gain': 158.6,\n     '(L)Average daily gain': 0.11,\n     '(L)Loss to profit ratio': 0.09922,\n     '(L)Price action distance mean': 0.0164179,\n     '(L)Price action distance std': 0.028896,\n     '(L)Price action distance max': 0.356587,\n     '(L)Closest bankruptcy': 100.0,\n     '(L)Lowest equity/balance ratio': 0.9211,\n     '(L)Equity/balance ratio std': 0.005497,\n     '(L)No. fills': 14580.0,\n     '(L)No. entries': 3942.0,\n     '(L)No. closes': 10638.0,\n     '(L)No. initial entries': 0.0,\n     '(L)No. reentries': 0.0,\n     '(L)No. unstuck/EMA entries': 3942.0,\n     '(L)No. unstuck/EMA closes': 9138.0,\n     '(L)No. normal closes': 1500.0,\n     '(L)Average n fills per day': 17.1,\n     '(L)Mean hours stuck': 1.40303,\n     '(L)Max hours stuck': 77.1,\n     '(L)PNL sum': 1586.0,\n     '(L)Profit sum': 1761.0,\n     '(L)Loss sum': -174.7,\n     '(L)Fee sum': -24.13,\n     '(L)Volume quote': 1024910.0}},\n   {'file': 'C:/AgodaGit/passivbot/cfgs_bkup/5_9_3/RUNE.json',\n    'coin': 'RUNE',\n    'downloaded_config': 'C:/AgodaGit/passivbot/downloaded_configs/passivbot_v5.9.x/configs/older_versions/v5.9.3_clock_realistic/clock/toaster_longonly_01_safe/RUNEUSDT_20230217004157_5293c/config.json',\n    'result_file': 'C:/AgodaGit/passivbot/downloaded_configs/passivbot_v5.9.x/configs/older_versions/v5.9.3_clock_realistic/clock/toaster_longonly_01_safe/RUNEUSDT_20230217004157_5293c/RUNEUSDT/result.txt',\n    'result': {'version': 'v5.9.3',\n     'Metric': 'Value',\n     'Exchange': 'bybit',\n     'Market type': 'futures',\n     'Symbol': 'RUNEUSDT',\n     'Passivbot mode': 'clock',\n     'No. days': 890.0,\n     'Starting balance': 1000.0,\n     '(L)Long': 'True',\n     '(L)ADG realized per exposure': 0.351,\n     '(L)Final balance': 2558.63,\n     '(L)Final equity': 2558.65,\n     '(L)Net PNL + fees': 1558.63,\n     '(L)Total gain': 159.3,\n     '(L)Average daily gain': 0.105,\n     '(L)Loss to profit ratio': 0.1693,\n     '(L)Price action distance mean': 0.0155803,\n     '(L)Price action distance std': 0.0252962,\n     '(L)Price action distance max': 0.393587,\n     '(L)Closest bankruptcy': 100.0,\n     '(L)Lowest equity/balance ratio': 0.9153,\n     '(L)Equity/balance ratio std': 0.006436,\n     '(L)No. fills': 27598.0,\n     '(L)No. entries': 13483.0,\n     '(L)No. closes': 14115.0,\n     '(L)No. initial entries': 0.0,\n     '(L)No. reentries': 0.0,\n     '(L)No. unstuck/EMA entries': 13483.0,\n     '(L)No. unstuck/EMA closes': 12474.0,\n     '(L)No. normal closes': 1641.0,\n     '(L)Average n fills per day': 30.9,\n     '(L)Mean hours stuck': 0.777148,\n     '(L)Max hours stuck': 34.4667,\n     '(L)PNL sum': 1593.0,\n     '(L)Profit sum': 1918.0,\n     '(L)Loss sum': -324.7,\n     '(L)Fee sum': -34.21,\n     '(L)Volume quote': 1078330.0}},\n   {'file': 'C:/AgodaGit/passivbot/cfgs_bkup/5_9_3/TRX.json',\n    'coin': 'TRX',\n    'downloaded_config': 'C:/AgodaGit/passivbot/downloaded_configs/passivbot_v5.9.x/configs/older_versions/v5.9.3_clock_realistic/clock/toaster_longonly_01_safe/TRXUSDT_20230217004157_5293c/config.json',\n    'result_file': 'C:/AgodaGit/passivbot/downloaded_configs/passivbot_v5.9.x/configs/older_versions/v5.9.3_clock_realistic/clock/toaster_longonly_01_safe/TRXUSDT_20230217004157_5293c/TRXUSDT/result.txt',\n    'result': {'version': 'v5.9.3',\n     'Metric': 'Value',\n     'Exchange': 'bybit',\n     'Market type': 'futures',\n     'Symbol': 'TRXUSDT',\n     'Passivbot mode': 'clock',\n     'No. days': 1100.0,\n     'Starting balance': 1000.0,\n     '(L)Long': 'True',\n     '(L)ADG realized per exposure': 0.219,\n     '(L)Final balance': 2092.55,\n     '(L)Final equity': 2092.58,\n     '(L)Net PNL + fees': 1092.55,\n     '(L)Total gain': 111.6,\n     '(L)Average daily gain': 0.0656,\n     '(L)Loss to profit ratio': 0.1854,\n     '(L)Price action distance mean': 0.011189,\n     '(L)Price action distance std': 0.013118,\n     '(L)Price action distance max': 0.353598,\n     '(L)Closest bankruptcy': 100.0,\n     '(L)Lowest equity/balance ratio': 0.9216,\n     '(L)Equity/balance ratio std': 0.003006,\n     '(L)No. fills': 14879.0,\n     '(L)No. entries': 7590.0,\n     '(L)No. closes': 7289.0,\n     '(L)No. initial entries': 0.0,\n     '(L)No. reentries': 0.0,\n     '(L)No. unstuck/EMA entries': 7590.0,\n     '(L)No. unstuck/EMA closes': 7080.0,\n     '(L)No. normal closes': 209.0,\n     '(L)Average n fills per day': 13.2,\n     '(L)Mean hours stuck': 1.81736,\n     '(L)Max hours stuck': 88.6,\n     '(L)PNL sum': 1116.0,\n     '(L)Profit sum': 1370.0,\n     '(L)Loss sum': -253.9,\n     '(L)Fee sum': -23.04,\n     '(L)Volume quote': 519808.0}},\n   {'file': 'C:/AgodaGit/passivbot/cfgs_bkup/5_9_3/XMR.json',\n    'coin': 'XMR',\n    'downloaded_config': 'C:/AgodaGit/passivbot/downloaded_configs/passivbot_v5.9.x/configs/older_versions/v5.9.3_clock_realistic/clock/toaster_longonly_01_safe/XMRUSDT_20230217004157_5293c/config.json',\n    'result_file': 'C:/AgodaGit/passivbot/downloaded_configs/passivbot_v5.9.x/configs/older_versions/v5.9.3_clock_realistic/clock/toaster_longonly_01_safe/XMRUSDT_20230217004157_5293c/XMRUSDT/result.txt',\n    'result': {'version': 'v5.9.3',\n     'Metric': 'Value',\n     'Exchange': 'bybit',\n     'Market type': 'futures',\n     'Symbol': 'XMRUSDT',\n     'Passivbot mode': 'clock',\n     'No. days': 1100.0,\n     'Starting balance': 1000.0,\n     '(L)Long': 'True',\n     '(L)ADG realized per exposure': 0.181,\n     '(L)Final balance': 1824.78,\n     '(L)Final equity': 1824.77,\n     '(L)Net PNL + fees': 824.78,\n     '(L)Total gain': 84.74,\n     '(L)Average daily gain': 0.0543,\n     '(L)Loss to profit ratio': 0.2361,\n     '(L)Price action distance mean': 0.0110279,\n     '(L)Price action distance std': 0.0131013,\n     '(L)Price action distance max': 0.52858,\n     '(L)Closest bankruptcy': 100.0,\n     '(L)Lowest equity/balance ratio': 0.8961,\n     '(L)Equity/balance ratio std': 0.002575,\n     '(L)No. fills': 15226.0,\n     '(L)No. entries': 8674.0,\n     '(L)No. closes': 6552.0,\n     '(L)No. initial entries': 0.0,\n     '(L)No. reentries': 0.0,\n     '(L)No. unstuck/EMA entries': 8674.0,\n     '(L)No. unstuck/EMA closes': 6432.0,\n     '(L)No. normal closes': 120.0,\n     '(L)Average n fills per day': 13.7,\n     '(L)Mean hours stuck': 1.74596,\n     '(L)Max hours stuck': 35.4667,\n     '(L)PNL sum': 847.4,\n     '(L)Profit sum': 1109.0,\n     '(L)Loss sum': -261.9,\n     '(L)Fee sum': -22.61,\n     '(L)Volume quote': 301085.0}}]}}"
     },
     "execution_count": 15,
     "metadata": {},
     "output_type": "execute_result"
    }
   ],
   "source": [
    "import json\n",
    "\n",
    "_l_config = set()\n",
    "# now iterate over config_by_version and find the downloaded config.json file for each live config\n",
    "for version in config_by_version:\n",
    "    for live_config in config_by_version[version]['live_configs']:\n",
    "        coin = live_config['coin']+'USDT'\n",
    "        file_content = json.load(open(live_config['file']))\n",
    "        # find the list of matches in downloaded config.json files for this coin where version must be in the path and coin must be in the path\n",
    "        matches = [f for f in downloaded_configs if version in f and coin in f]\n",
    "\n",
    "        match_found = None\n",
    "        #now find the exact match where the json.load of config.json is the exact same json as file_content\n",
    "        for match in matches:\n",
    "            if file_content == json.load(open(match)):\n",
    "                match_found = match\n",
    "                break\n",
    "        if match_found is None:\n",
    "            print(f'No match found for {coin} in {version}')\n",
    "        else:\n",
    "            _l_config.add(match_found)\n",
    "            live_config['downloaded_config'] = match_found\n",
    "            # find the backtest result file ( called result.txt ) for this downloaded config.json file. it is found in a subdirectory within the same folder as config.json\n",
    "            #print(glob.glob(os.path.dirname(match_found)))\n",
    "            result_file = glob.glob(os.path.dirname(match_found) + '/**/result.txt', recursive=True)\n",
    "            live_config['result_file'] = result_file[0].replace('\\\\', '/') if len(result_file) > 0 else None\n",
    "            live_config['result'] = parse_result_file(live_config['result_file']) if live_config['result_file'] is not None else None\n",
    "            live_config['result']['version'] = version\n",
    "            \n",
    "config_by_version   \n",
    "        "
   ],
   "metadata": {
    "collapsed": false,
    "ExecuteTime": {
     "end_time": "2023-08-14T07:17:25.708415Z",
     "start_time": "2023-08-14T07:17:25.338918700Z"
    }
   }
  },
  {
   "cell_type": "code",
   "execution_count": 25,
   "outputs": [
    {
     "data": {
      "text/plain": "     version Metric Exchange Market type    Symbol  No. days  \\\n0      5.9.0  Value  binance     futures  ATOMUSDT  1046.000   \n1      5.9.0  Value  binance     futures   CHZUSDT   705.708   \n2      5.9.0  Value  binance     futures  DOGEUSDT   900.625   \n3      5.9.0  Value  binance     futures   DOTUSDT   857.708   \n4      5.9.0  Value  binance     futures  DYDXUSDT   473.854   \n...      ...    ...      ...         ...       ...       ...   \n7723   5.9.5  Value    bybit     futures   XRPUSDT  1200.000   \n7724   5.9.5  Value    bybit     futures   XTZUSDT  1200.000   \n7725   5.9.5  Value    bybit     futures   ZECUSDT  1200.000   \n7726   5.9.5  Value    bybit     futures   ZILUSDT  1100.000   \n7727   5.9.5  Value    bybit     futures   ZRXUSDT  1100.000   \n\n      Starting balance (L)Long  (L)ADG realized per exposure  \\\n0               1500.0    True                        0.0954   \n1               1500.0    True                        0.2780   \n2               1500.0    True                        0.4130   \n3               1500.0    True                        0.2910   \n4               1500.0    True                        0.2640   \n...                ...     ...                           ...   \n7723            1000.0    True                           NaN   \n7724            1000.0    True                           NaN   \n7725            1000.0    True                           NaN   \n7726            1000.0    True                           NaN   \n7727            1000.0    True                           NaN   \n\n      (L)Final balance  ...  (L)ADG weighted per exposure  (L)Net Total gain  \\\n0              4068.83  ...                           NaN                NaN   \n1             10654.30  ...                           NaN                NaN   \n2             61566.10  ...                           NaN                NaN   \n3             18083.90  ...                           NaN                NaN   \n4              5223.55  ...                           NaN                NaN   \n...                ...  ...                           ...                ...   \n7723           3104.15  ...                        0.1590             210.40   \n7724           2016.18  ...                        0.0801             101.60   \n7725           1489.54  ...                        0.0766              48.95   \n7726           2212.15  ...                        0.1530             121.20   \n7727           2200.90  ...                        0.1670             120.10   \n\n      (L)Average daily gain weighted  (L)Mean of 10 worst eq/bal ratios  \\\n0                                NaN                                NaN   \n1                                NaN                                NaN   \n2                                NaN                                NaN   \n3                                NaN                                NaN   \n4                                NaN                                NaN   \n...                              ...                                ...   \n7723                          0.0476                             0.9269   \n7724                          0.0240                             0.9142   \n7725                          0.0230                             0.9140   \n7726                          0.0459                             0.9580   \n7727                          0.0501                             0.9474   \n\n      (L)Exposure ratios mean  (S)ADG per exposure  \\\n0                         NaN                  NaN   \n1                         NaN                  NaN   \n2                         NaN                  NaN   \n3                         NaN                  NaN   \n4                         NaN                  NaN   \n...                       ...                  ...   \n7723                      NaN                  NaN   \n7724                      NaN                  NaN   \n7725                      NaN                  NaN   \n7726                      NaN                  NaN   \n7727                      NaN                  NaN   \n\n      (S)ADG weighted per exposure  (S)Net Total gain  \\\n0                              NaN                NaN   \n1                              NaN                NaN   \n2                              NaN                NaN   \n3                              NaN                NaN   \n4                              NaN                NaN   \n...                            ...                ...   \n7723                           NaN                NaN   \n7724                           NaN                NaN   \n7725                           NaN                NaN   \n7726                           NaN                NaN   \n7727                           NaN                NaN   \n\n      (S)Average daily gain weighted  (S)Mean of 10 worst eq/bal ratios  \n0                                NaN                                NaN  \n1                                NaN                                NaN  \n2                                NaN                                NaN  \n3                                NaN                                NaN  \n4                                NaN                                NaN  \n...                              ...                                ...  \n7723                             NaN                                NaN  \n7724                             NaN                                NaN  \n7725                             NaN                                NaN  \n7726                             NaN                                NaN  \n7727                             NaN                                NaN  \n\n[7728 rows x 92 columns]",
      "text/html": "<div>\n<style scoped>\n    .dataframe tbody tr th:only-of-type {\n        vertical-align: middle;\n    }\n\n    .dataframe tbody tr th {\n        vertical-align: top;\n    }\n\n    .dataframe thead th {\n        text-align: right;\n    }\n</style>\n<table border=\"1\" class=\"dataframe\">\n  <thead>\n    <tr style=\"text-align: right;\">\n      <th></th>\n      <th>version</th>\n      <th>Metric</th>\n      <th>Exchange</th>\n      <th>Market type</th>\n      <th>Symbol</th>\n      <th>No. days</th>\n      <th>Starting balance</th>\n      <th>(L)Long</th>\n      <th>(L)ADG realized per exposure</th>\n      <th>(L)Final balance</th>\n      <th>...</th>\n      <th>(L)ADG weighted per exposure</th>\n      <th>(L)Net Total gain</th>\n      <th>(L)Average daily gain weighted</th>\n      <th>(L)Mean of 10 worst eq/bal ratios</th>\n      <th>(L)Exposure ratios mean</th>\n      <th>(S)ADG per exposure</th>\n      <th>(S)ADG weighted per exposure</th>\n      <th>(S)Net Total gain</th>\n      <th>(S)Average daily gain weighted</th>\n      <th>(S)Mean of 10 worst eq/bal ratios</th>\n    </tr>\n  </thead>\n  <tbody>\n    <tr>\n      <th>0</th>\n      <td>5.9.0</td>\n      <td>Value</td>\n      <td>binance</td>\n      <td>futures</td>\n      <td>ATOMUSDT</td>\n      <td>1046.000</td>\n      <td>1500.0</td>\n      <td>True</td>\n      <td>0.0954</td>\n      <td>4068.83</td>\n      <td>...</td>\n      <td>NaN</td>\n      <td>NaN</td>\n      <td>NaN</td>\n      <td>NaN</td>\n      <td>NaN</td>\n      <td>NaN</td>\n      <td>NaN</td>\n      <td>NaN</td>\n      <td>NaN</td>\n      <td>NaN</td>\n    </tr>\n    <tr>\n      <th>1</th>\n      <td>5.9.0</td>\n      <td>Value</td>\n      <td>binance</td>\n      <td>futures</td>\n      <td>CHZUSDT</td>\n      <td>705.708</td>\n      <td>1500.0</td>\n      <td>True</td>\n      <td>0.2780</td>\n      <td>10654.30</td>\n      <td>...</td>\n      <td>NaN</td>\n      <td>NaN</td>\n      <td>NaN</td>\n      <td>NaN</td>\n      <td>NaN</td>\n      <td>NaN</td>\n      <td>NaN</td>\n      <td>NaN</td>\n      <td>NaN</td>\n      <td>NaN</td>\n    </tr>\n    <tr>\n      <th>2</th>\n      <td>5.9.0</td>\n      <td>Value</td>\n      <td>binance</td>\n      <td>futures</td>\n      <td>DOGEUSDT</td>\n      <td>900.625</td>\n      <td>1500.0</td>\n      <td>True</td>\n      <td>0.4130</td>\n      <td>61566.10</td>\n      <td>...</td>\n      <td>NaN</td>\n      <td>NaN</td>\n      <td>NaN</td>\n      <td>NaN</td>\n      <td>NaN</td>\n      <td>NaN</td>\n      <td>NaN</td>\n      <td>NaN</td>\n      <td>NaN</td>\n      <td>NaN</td>\n    </tr>\n    <tr>\n      <th>3</th>\n      <td>5.9.0</td>\n      <td>Value</td>\n      <td>binance</td>\n      <td>futures</td>\n      <td>DOTUSDT</td>\n      <td>857.708</td>\n      <td>1500.0</td>\n      <td>True</td>\n      <td>0.2910</td>\n      <td>18083.90</td>\n      <td>...</td>\n      <td>NaN</td>\n      <td>NaN</td>\n      <td>NaN</td>\n      <td>NaN</td>\n      <td>NaN</td>\n      <td>NaN</td>\n      <td>NaN</td>\n      <td>NaN</td>\n      <td>NaN</td>\n      <td>NaN</td>\n    </tr>\n    <tr>\n      <th>4</th>\n      <td>5.9.0</td>\n      <td>Value</td>\n      <td>binance</td>\n      <td>futures</td>\n      <td>DYDXUSDT</td>\n      <td>473.854</td>\n      <td>1500.0</td>\n      <td>True</td>\n      <td>0.2640</td>\n      <td>5223.55</td>\n      <td>...</td>\n      <td>NaN</td>\n      <td>NaN</td>\n      <td>NaN</td>\n      <td>NaN</td>\n      <td>NaN</td>\n      <td>NaN</td>\n      <td>NaN</td>\n      <td>NaN</td>\n      <td>NaN</td>\n      <td>NaN</td>\n    </tr>\n    <tr>\n      <th>...</th>\n      <td>...</td>\n      <td>...</td>\n      <td>...</td>\n      <td>...</td>\n      <td>...</td>\n      <td>...</td>\n      <td>...</td>\n      <td>...</td>\n      <td>...</td>\n      <td>...</td>\n      <td>...</td>\n      <td>...</td>\n      <td>...</td>\n      <td>...</td>\n      <td>...</td>\n      <td>...</td>\n      <td>...</td>\n      <td>...</td>\n      <td>...</td>\n      <td>...</td>\n      <td>...</td>\n    </tr>\n    <tr>\n      <th>7723</th>\n      <td>5.9.5</td>\n      <td>Value</td>\n      <td>bybit</td>\n      <td>futures</td>\n      <td>XRPUSDT</td>\n      <td>1200.000</td>\n      <td>1000.0</td>\n      <td>True</td>\n      <td>NaN</td>\n      <td>3104.15</td>\n      <td>...</td>\n      <td>0.1590</td>\n      <td>210.40</td>\n      <td>0.0476</td>\n      <td>0.9269</td>\n      <td>NaN</td>\n      <td>NaN</td>\n      <td>NaN</td>\n      <td>NaN</td>\n      <td>NaN</td>\n      <td>NaN</td>\n    </tr>\n    <tr>\n      <th>7724</th>\n      <td>5.9.5</td>\n      <td>Value</td>\n      <td>bybit</td>\n      <td>futures</td>\n      <td>XTZUSDT</td>\n      <td>1200.000</td>\n      <td>1000.0</td>\n      <td>True</td>\n      <td>NaN</td>\n      <td>2016.18</td>\n      <td>...</td>\n      <td>0.0801</td>\n      <td>101.60</td>\n      <td>0.0240</td>\n      <td>0.9142</td>\n      <td>NaN</td>\n      <td>NaN</td>\n      <td>NaN</td>\n      <td>NaN</td>\n      <td>NaN</td>\n      <td>NaN</td>\n    </tr>\n    <tr>\n      <th>7725</th>\n      <td>5.9.5</td>\n      <td>Value</td>\n      <td>bybit</td>\n      <td>futures</td>\n      <td>ZECUSDT</td>\n      <td>1200.000</td>\n      <td>1000.0</td>\n      <td>True</td>\n      <td>NaN</td>\n      <td>1489.54</td>\n      <td>...</td>\n      <td>0.0766</td>\n      <td>48.95</td>\n      <td>0.0230</td>\n      <td>0.9140</td>\n      <td>NaN</td>\n      <td>NaN</td>\n      <td>NaN</td>\n      <td>NaN</td>\n      <td>NaN</td>\n      <td>NaN</td>\n    </tr>\n    <tr>\n      <th>7726</th>\n      <td>5.9.5</td>\n      <td>Value</td>\n      <td>bybit</td>\n      <td>futures</td>\n      <td>ZILUSDT</td>\n      <td>1100.000</td>\n      <td>1000.0</td>\n      <td>True</td>\n      <td>NaN</td>\n      <td>2212.15</td>\n      <td>...</td>\n      <td>0.1530</td>\n      <td>121.20</td>\n      <td>0.0459</td>\n      <td>0.9580</td>\n      <td>NaN</td>\n      <td>NaN</td>\n      <td>NaN</td>\n      <td>NaN</td>\n      <td>NaN</td>\n      <td>NaN</td>\n    </tr>\n    <tr>\n      <th>7727</th>\n      <td>5.9.5</td>\n      <td>Value</td>\n      <td>bybit</td>\n      <td>futures</td>\n      <td>ZRXUSDT</td>\n      <td>1100.000</td>\n      <td>1000.0</td>\n      <td>True</td>\n      <td>NaN</td>\n      <td>2200.90</td>\n      <td>...</td>\n      <td>0.1670</td>\n      <td>120.10</td>\n      <td>0.0501</td>\n      <td>0.9474</td>\n      <td>NaN</td>\n      <td>NaN</td>\n      <td>NaN</td>\n      <td>NaN</td>\n      <td>NaN</td>\n      <td>NaN</td>\n    </tr>\n  </tbody>\n</table>\n<p>7728 rows × 92 columns</p>\n</div>"
     },
     "execution_count": 25,
     "metadata": {},
     "output_type": "execute_result"
    }
   ],
   "source": [
    "# iterate over downloaded_configs, find result.txt file and parse it and add result to a pandas dataframe\n",
    "import pandas as pd\n",
    "result_analysis = pd.DataFrame()\n",
    "for downloaded_config in downloaded_configs:     \n",
    "    result_file = glob.glob(os.path.dirname(downloaded_config) + '/**/result.txt', recursive=True)\n",
    "    result_file = result_file[0].replace('\\\\', '/') if len(result_file) > 0 else None\n",
    "    if result_file is not None:\n",
    "        result = parse_result_file(result_file)\n",
    "        if result['version'] is None:\n",
    "            print(f'No version found for {result_file}')\n",
    "        result['file'] = downloaded_config\n",
    "        if downloaded_config not in _l_config:\n",
    "            result['live'] = False\n",
    "        else:\n",
    "            result['live'] = True\n",
    "        # convert result to a pandas dataframe and append it to result_analysis dataframe\n",
    "        result = pd.DataFrame(result, index=[0])\n",
    "        result_analysis = pd.concat([result_analysis, result], ignore_index=True)\n",
    "\n",
    "result_analysis"
   ],
   "metadata": {
    "collapsed": false,
    "ExecuteTime": {
     "end_time": "2023-08-14T07:24:21.273115800Z",
     "start_time": "2023-08-14T07:23:56.355010600Z"
    }
   }
  },
  {
   "cell_type": "code",
   "execution_count": 88,
   "outputs": [
    {
     "name": "stdout",
     "output_type": "stream",
     "text": [
      "'Metric',\n",
      "'Exchange',\n",
      "'Market type',\n",
      "'Symbol',\n",
      "'No. days',\n",
      "'Starting balance',\n",
      "'(L)Long',\n",
      "'(L)ADG realized per exposure',\n",
      "'(L)Final balance',\n",
      "'(L)Final equity',\n",
      "'(L)Net PNL + fees',\n",
      "'(L)Total gain',\n",
      "'(L)Average daily gain',\n",
      "'(L)Loss to profit ratio',\n",
      "'(L)Price action distance mean',\n",
      "'(L)Price action distance std',\n",
      "'(L)Price action distance max',\n",
      "'(L)Closest bankruptcy',\n",
      "'(L)Lowest equity/balance ratio',\n",
      "'(L)Equity/balance ratio std',\n",
      "'(L)No. fills',\n",
      "'(L)No. entries',\n",
      "'(L)No. closes',\n",
      "'(L)No. initial entries',\n",
      "'(L)No. reentries',\n",
      "'(L)No. unstuck entries',\n",
      "'(L)No. unstuck closes',\n",
      "'(L)No. normal closes',\n",
      "'(L)Average n fills per day',\n",
      "'(L)Mean hours stuck',\n",
      "'(L)Max hours stuck',\n",
      "'(L)PNL sum',\n",
      "'(L)Profit sum',\n",
      "'(L)Loss sum',\n",
      "'(L)Fee sum',\n",
      "'(L)Biggest pos size',\n",
      "'(L)Biggest pos cost',\n",
      "'(L)Volume quote',\n",
      "'file',\n",
      "'live',\n",
      "'(S)Short',\n",
      "'(S)ADG realized per exposure',\n",
      "'(S)Final balance',\n",
      "'(S)Final equity',\n",
      "'(S)Net PNL + fees',\n",
      "'(S)Total gain',\n",
      "'(S)Average daily gain',\n",
      "'(S)Loss to profit ratio',\n",
      "'(S)Price action distance mean',\n",
      "'(S)Price action distance std',\n",
      "'(S)Price action distance max',\n",
      "'(S)Closest bankruptcy',\n",
      "'(S)Lowest equity/balance ratio',\n",
      "'(S)Equity/balance ratio std',\n",
      "'(S)No. fills',\n",
      "'(S)No. entries',\n",
      "'(S)No. closes',\n",
      "'(S)No. initial entries',\n",
      "'(S)No. reentries',\n",
      "'(S)No. unstuck entries',\n",
      "'(S)No. unstuck closes',\n",
      "'(S)No. normal closes',\n",
      "'(S)Average n fills per day',\n",
      "'(S)Mean hours stuck',\n",
      "'(S)Max hours stuck',\n",
      "'(S)PNL sum',\n",
      "'(S)Profit sum',\n",
      "'(S)Loss sum',\n",
      "'(S)Fee sum',\n",
      "'(S)Biggest pos size',\n",
      "'(S)Biggest pos cost',\n",
      "'(S)Volume quote',\n",
      "'(L)DG mean std ratio',\n",
      "'(S)DG mean std ratio',\n",
      "'Passivbot mode',\n",
      "'(L)No. unstuck/EMA entries',\n",
      "'(L)No. unstuck/EMA closes',\n",
      "'(S)No. unstuck/EMA entries',\n",
      "'(S)No. unstuck/EMA closes',\n",
      "'ADG n subdivisions',\n",
      "'(L)ADG per exposure',\n",
      "'(L)ADG weighted per exposure',\n",
      "'(L)Net Total gain',\n",
      "'(L)Average daily gain weighted',\n",
      "'(L)Mean of 10 worst eq/bal ratios',\n",
      "'(L)Exposure ratios mean',\n",
      "'(S)ADG per exposure',\n",
      "'(S)ADG weighted per exposure',\n",
      "'(S)Net Total gain',\n",
      "'(S)Average daily gain weighted',\n",
      "'(S)Mean of 10 worst eq/bal ratios',\n"
     ]
    }
   ],
   "source": [
    "# list all columns in result_analysis, one column per line , wrapped in single quotes and separated by comma\n",
    "print('\\n'.join([f\"'{c}',\" for c in result_analysis.columns]))"
   ],
   "metadata": {
    "collapsed": false,
    "ExecuteTime": {
     "end_time": "2023-08-12T20:19:23.798245100Z",
     "start_time": "2023-08-12T20:19:23.736428900Z"
    }
   }
  },
  {
   "cell_type": "code",
   "execution_count": 28,
   "outputs": [
    {
     "name": "stdout",
     "output_type": "stream",
     "text": [
      "Minimum quantity for BTCUSDT: 0.001\n"
     ]
    }
   ],
   "source": [
    "import requests\n",
    "\n",
    "def get_minimum_qty(symbol):\n",
    "    api_url = f\"https://fapi.binance.com/fapi/v1/exchangeInfo\"\n",
    "    response = requests.get(api_url)\n",
    "\n",
    "    if response.status_code == 200:\n",
    "        data = response.json()\n",
    "        for symbol_info in data['symbols']:\n",
    "            if symbol_info['symbol'] == symbol:\n",
    "                return float(symbol_info['filters'][1]['stepSize'])\n",
    "        return None\n",
    "    else:\n",
    "        print(f\"Failed to fetch data. Status code: {response.status_code}\")\n",
    "        return None\n",
    "\n",
    "symbol = \"BTCUSDT\"  # Replace with the symbol you're interested in\n",
    "minimum_qty = get_minimum_qty(symbol)\n",
    "\n",
    "if minimum_qty is not None:\n",
    "    print(f\"Minimum quantity for {symbol}: {minimum_qty}\")\n",
    "else:\n",
    "    print(f\"Failed to get minimum quantity for {symbol}\")\n"
   ],
   "metadata": {
    "collapsed": false,
    "ExecuteTime": {
     "end_time": "2023-08-14T07:59:56.533159900Z",
     "start_time": "2023-08-14T07:59:55.796159200Z"
    }
   }
  },
  {
   "cell_type": "code",
   "execution_count": 26,
   "outputs": [
    {
     "data": {
      "text/plain": "         Symbol Exchange version  No. days  Passivbot mode   live (L)Long  \\\n0      ATOMUSDT  binance   5.9.0  1046.000             NaN  False    True   \n1       CHZUSDT  binance   5.9.0   705.708             NaN  False    True   \n2      DOGEUSDT  binance   5.9.0   900.625             NaN  False    True   \n3       DOTUSDT  binance   5.9.0   857.708             NaN  False    True   \n5       EOSUSDT  binance   5.9.0  1084.670             NaN  False    True   \n...         ...      ...     ...       ...             ...    ...     ...   \n7721  WAVESUSDT    bybit   5.9.5  1000.000  recursive_grid  False    True   \n7723    XRPUSDT    bybit   5.9.5  1200.000  recursive_grid  False    True   \n7724    XTZUSDT    bybit   5.9.5  1200.000  recursive_grid  False    True   \n7725    ZECUSDT    bybit   5.9.5  1200.000  recursive_grid  False    True   \n7726    ZILUSDT    bybit   5.9.5  1100.000  recursive_grid  False    True   \n\n      (L)ADG realized per exposure  (L)ADG weighted per exposure  \\\n0                           0.0954                           NaN   \n1                           0.2780                           NaN   \n2                           0.4130                           NaN   \n3                           0.2910                           NaN   \n5                           0.1670                           NaN   \n...                            ...                           ...   \n7721                           NaN                        0.1900   \n7723                           NaN                        0.1590   \n7724                           NaN                        0.0801   \n7725                           NaN                        0.0766   \n7726                           NaN                        0.1530   \n\n      (L)Average daily gain  ...  (S)No. initial entries  (S)No. reentries  \\\n0                    0.1290  ...                     NaN               NaN   \n1                    0.2660  ...                     NaN               NaN   \n2                    0.4240  ...                     NaN               NaN   \n3                    0.3000  ...                     NaN               NaN   \n5                    0.1730  ...                     NaN               NaN   \n...                     ...  ...                     ...               ...   \n7721                 0.0666  ...                     NaN               NaN   \n7723                 0.0920  ...                     NaN               NaN   \n7724                 0.0584  ...                     NaN               NaN   \n7725                 0.0332  ...                     NaN               NaN   \n7726                 0.0744  ...                     NaN               NaN   \n\n      (S)No. unstuck entries  (S)No. unstuck/EMA entries  \\\n0                        NaN                         NaN   \n1                        NaN                         NaN   \n2                        NaN                         NaN   \n3                        NaN                         NaN   \n5                        NaN                         NaN   \n...                      ...                         ...   \n7721                     NaN                         NaN   \n7723                     NaN                         NaN   \n7724                     NaN                         NaN   \n7725                     NaN                         NaN   \n7726                     NaN                         NaN   \n\n      (S)No. unstuck closes  (S)No. unstuck/EMA closes  (S)No. normal closes  \\\n0                       NaN                        NaN                   NaN   \n1                       NaN                        NaN                   NaN   \n2                       NaN                        NaN                   NaN   \n3                       NaN                        NaN                   NaN   \n5                       NaN                        NaN                   NaN   \n...                     ...                        ...                   ...   \n7721                    NaN                        NaN                   NaN   \n7723                    NaN                        NaN                   NaN   \n7724                    NaN                        NaN                   NaN   \n7725                    NaN                        NaN                   NaN   \n7726                    NaN                        NaN                   NaN   \n\n      (S)Mean hours stuck  (S)Max hours stuck  \\\n0                     NaN                 NaN   \n1                     NaN                 NaN   \n2                     NaN                 NaN   \n3                     NaN                 NaN   \n5                     NaN                 NaN   \n...                   ...                 ...   \n7721                  NaN                 NaN   \n7723                  NaN                 NaN   \n7724                  NaN                 NaN   \n7725                  NaN                 NaN   \n7726                  NaN                 NaN   \n\n                                                   file  \n0     C:/AgodaGit/passivbot/downloaded_configs/passi...  \n1     C:/AgodaGit/passivbot/downloaded_configs/passi...  \n2     C:/AgodaGit/passivbot/downloaded_configs/passi...  \n3     C:/AgodaGit/passivbot/downloaded_configs/passi...  \n5     C:/AgodaGit/passivbot/downloaded_configs/passi...  \n...                                                 ...  \n7721  C:/AgodaGit/passivbot/downloaded_configs/passi...  \n7723  C:/AgodaGit/passivbot/downloaded_configs/passi...  \n7724  C:/AgodaGit/passivbot/downloaded_configs/passi...  \n7725  C:/AgodaGit/passivbot/downloaded_configs/passi...  \n7726  C:/AgodaGit/passivbot/downloaded_configs/passi...  \n\n[4678 rows x 56 columns]",
      "text/html": "<div>\n<style scoped>\n    .dataframe tbody tr th:only-of-type {\n        vertical-align: middle;\n    }\n\n    .dataframe tbody tr th {\n        vertical-align: top;\n    }\n\n    .dataframe thead th {\n        text-align: right;\n    }\n</style>\n<table border=\"1\" class=\"dataframe\">\n  <thead>\n    <tr style=\"text-align: right;\">\n      <th></th>\n      <th>Symbol</th>\n      <th>Exchange</th>\n      <th>version</th>\n      <th>No. days</th>\n      <th>Passivbot mode</th>\n      <th>live</th>\n      <th>(L)Long</th>\n      <th>(L)ADG realized per exposure</th>\n      <th>(L)ADG weighted per exposure</th>\n      <th>(L)Average daily gain</th>\n      <th>...</th>\n      <th>(S)No. initial entries</th>\n      <th>(S)No. reentries</th>\n      <th>(S)No. unstuck entries</th>\n      <th>(S)No. unstuck/EMA entries</th>\n      <th>(S)No. unstuck closes</th>\n      <th>(S)No. unstuck/EMA closes</th>\n      <th>(S)No. normal closes</th>\n      <th>(S)Mean hours stuck</th>\n      <th>(S)Max hours stuck</th>\n      <th>file</th>\n    </tr>\n  </thead>\n  <tbody>\n    <tr>\n      <th>0</th>\n      <td>ATOMUSDT</td>\n      <td>binance</td>\n      <td>5.9.0</td>\n      <td>1046.000</td>\n      <td>NaN</td>\n      <td>False</td>\n      <td>True</td>\n      <td>0.0954</td>\n      <td>NaN</td>\n      <td>0.1290</td>\n      <td>...</td>\n      <td>NaN</td>\n      <td>NaN</td>\n      <td>NaN</td>\n      <td>NaN</td>\n      <td>NaN</td>\n      <td>NaN</td>\n      <td>NaN</td>\n      <td>NaN</td>\n      <td>NaN</td>\n      <td>C:/AgodaGit/passivbot/downloaded_configs/passi...</td>\n    </tr>\n    <tr>\n      <th>1</th>\n      <td>CHZUSDT</td>\n      <td>binance</td>\n      <td>5.9.0</td>\n      <td>705.708</td>\n      <td>NaN</td>\n      <td>False</td>\n      <td>True</td>\n      <td>0.2780</td>\n      <td>NaN</td>\n      <td>0.2660</td>\n      <td>...</td>\n      <td>NaN</td>\n      <td>NaN</td>\n      <td>NaN</td>\n      <td>NaN</td>\n      <td>NaN</td>\n      <td>NaN</td>\n      <td>NaN</td>\n      <td>NaN</td>\n      <td>NaN</td>\n      <td>C:/AgodaGit/passivbot/downloaded_configs/passi...</td>\n    </tr>\n    <tr>\n      <th>2</th>\n      <td>DOGEUSDT</td>\n      <td>binance</td>\n      <td>5.9.0</td>\n      <td>900.625</td>\n      <td>NaN</td>\n      <td>False</td>\n      <td>True</td>\n      <td>0.4130</td>\n      <td>NaN</td>\n      <td>0.4240</td>\n      <td>...</td>\n      <td>NaN</td>\n      <td>NaN</td>\n      <td>NaN</td>\n      <td>NaN</td>\n      <td>NaN</td>\n      <td>NaN</td>\n      <td>NaN</td>\n      <td>NaN</td>\n      <td>NaN</td>\n      <td>C:/AgodaGit/passivbot/downloaded_configs/passi...</td>\n    </tr>\n    <tr>\n      <th>3</th>\n      <td>DOTUSDT</td>\n      <td>binance</td>\n      <td>5.9.0</td>\n      <td>857.708</td>\n      <td>NaN</td>\n      <td>False</td>\n      <td>True</td>\n      <td>0.2910</td>\n      <td>NaN</td>\n      <td>0.3000</td>\n      <td>...</td>\n      <td>NaN</td>\n      <td>NaN</td>\n      <td>NaN</td>\n      <td>NaN</td>\n      <td>NaN</td>\n      <td>NaN</td>\n      <td>NaN</td>\n      <td>NaN</td>\n      <td>NaN</td>\n      <td>C:/AgodaGit/passivbot/downloaded_configs/passi...</td>\n    </tr>\n    <tr>\n      <th>5</th>\n      <td>EOSUSDT</td>\n      <td>binance</td>\n      <td>5.9.0</td>\n      <td>1084.670</td>\n      <td>NaN</td>\n      <td>False</td>\n      <td>True</td>\n      <td>0.1670</td>\n      <td>NaN</td>\n      <td>0.1730</td>\n      <td>...</td>\n      <td>NaN</td>\n      <td>NaN</td>\n      <td>NaN</td>\n      <td>NaN</td>\n      <td>NaN</td>\n      <td>NaN</td>\n      <td>NaN</td>\n      <td>NaN</td>\n      <td>NaN</td>\n      <td>C:/AgodaGit/passivbot/downloaded_configs/passi...</td>\n    </tr>\n    <tr>\n      <th>...</th>\n      <td>...</td>\n      <td>...</td>\n      <td>...</td>\n      <td>...</td>\n      <td>...</td>\n      <td>...</td>\n      <td>...</td>\n      <td>...</td>\n      <td>...</td>\n      <td>...</td>\n      <td>...</td>\n      <td>...</td>\n      <td>...</td>\n      <td>...</td>\n      <td>...</td>\n      <td>...</td>\n      <td>...</td>\n      <td>...</td>\n      <td>...</td>\n      <td>...</td>\n      <td>...</td>\n    </tr>\n    <tr>\n      <th>7721</th>\n      <td>WAVESUSDT</td>\n      <td>bybit</td>\n      <td>5.9.5</td>\n      <td>1000.000</td>\n      <td>recursive_grid</td>\n      <td>False</td>\n      <td>True</td>\n      <td>NaN</td>\n      <td>0.1900</td>\n      <td>0.0666</td>\n      <td>...</td>\n      <td>NaN</td>\n      <td>NaN</td>\n      <td>NaN</td>\n      <td>NaN</td>\n      <td>NaN</td>\n      <td>NaN</td>\n      <td>NaN</td>\n      <td>NaN</td>\n      <td>NaN</td>\n      <td>C:/AgodaGit/passivbot/downloaded_configs/passi...</td>\n    </tr>\n    <tr>\n      <th>7723</th>\n      <td>XRPUSDT</td>\n      <td>bybit</td>\n      <td>5.9.5</td>\n      <td>1200.000</td>\n      <td>recursive_grid</td>\n      <td>False</td>\n      <td>True</td>\n      <td>NaN</td>\n      <td>0.1590</td>\n      <td>0.0920</td>\n      <td>...</td>\n      <td>NaN</td>\n      <td>NaN</td>\n      <td>NaN</td>\n      <td>NaN</td>\n      <td>NaN</td>\n      <td>NaN</td>\n      <td>NaN</td>\n      <td>NaN</td>\n      <td>NaN</td>\n      <td>C:/AgodaGit/passivbot/downloaded_configs/passi...</td>\n    </tr>\n    <tr>\n      <th>7724</th>\n      <td>XTZUSDT</td>\n      <td>bybit</td>\n      <td>5.9.5</td>\n      <td>1200.000</td>\n      <td>recursive_grid</td>\n      <td>False</td>\n      <td>True</td>\n      <td>NaN</td>\n      <td>0.0801</td>\n      <td>0.0584</td>\n      <td>...</td>\n      <td>NaN</td>\n      <td>NaN</td>\n      <td>NaN</td>\n      <td>NaN</td>\n      <td>NaN</td>\n      <td>NaN</td>\n      <td>NaN</td>\n      <td>NaN</td>\n      <td>NaN</td>\n      <td>C:/AgodaGit/passivbot/downloaded_configs/passi...</td>\n    </tr>\n    <tr>\n      <th>7725</th>\n      <td>ZECUSDT</td>\n      <td>bybit</td>\n      <td>5.9.5</td>\n      <td>1200.000</td>\n      <td>recursive_grid</td>\n      <td>False</td>\n      <td>True</td>\n      <td>NaN</td>\n      <td>0.0766</td>\n      <td>0.0332</td>\n      <td>...</td>\n      <td>NaN</td>\n      <td>NaN</td>\n      <td>NaN</td>\n      <td>NaN</td>\n      <td>NaN</td>\n      <td>NaN</td>\n      <td>NaN</td>\n      <td>NaN</td>\n      <td>NaN</td>\n      <td>C:/AgodaGit/passivbot/downloaded_configs/passi...</td>\n    </tr>\n    <tr>\n      <th>7726</th>\n      <td>ZILUSDT</td>\n      <td>bybit</td>\n      <td>5.9.5</td>\n      <td>1100.000</td>\n      <td>recursive_grid</td>\n      <td>False</td>\n      <td>True</td>\n      <td>NaN</td>\n      <td>0.1530</td>\n      <td>0.0744</td>\n      <td>...</td>\n      <td>NaN</td>\n      <td>NaN</td>\n      <td>NaN</td>\n      <td>NaN</td>\n      <td>NaN</td>\n      <td>NaN</td>\n      <td>NaN</td>\n      <td>NaN</td>\n      <td>NaN</td>\n      <td>C:/AgodaGit/passivbot/downloaded_configs/passi...</td>\n    </tr>\n  </tbody>\n</table>\n<p>4678 rows × 56 columns</p>\n</div>"
     },
     "execution_count": 26,
     "metadata": {},
     "output_type": "execute_result"
    }
   ],
   "source": [
    "allowed_symbols = [\n",
    "    \"ETHUSDT\", \"BCHUSDT\", \"XRPUSDT\", \"EOSUSDT\", \"LTCUSDT\", \"TRXUSDT\", \"ETCUSDT\", \"LINKUSDT\", \"XLMUSDT\", \"ADAUSDT\",\n",
    "    \"XMRUSDT\", \"DASHUSDT\", \"ZECUSDT\", \"XTZUSDT\", \"BNBUSDT\", \"ATOMUSDT\", \"NEOUSDT\", \"IOSTUSDT\", \"THETAUSDT\", \"ALGOUSDT\",\n",
    "    \"ZILUSDT\", \"KNCUSDT\", \"COMPUSDT\", \"OMGUSDT\", \"DOGEUSDT\", \"KAVAUSDT\", \"BANDUSDT\", \"RLCUSDT\", \"WAVESUSDT\", \"SNXUSDT\",\n",
    "    \"DOTUSDT\", \"CRVUSDT\", \"TRBUSDT\", \"RUNEUSDT\", \"SUSHIUSDT\", \"SRMUSDT\", \"EGLDUSDT\", \"FTMUSDT\", \"HNTUSDT\", \"RENUSDT\",\n",
    "    \"KSMUSDT\", \"NEARUSDT\", \"FILUSDT\", \"RSRUSDT\", \"MATICUSDT\", \"OCEANUSDT\", \"CVCUSDT\", \"GRTUSDT\", \"1INCHUSDT\", \"CHZUSDT\",\n",
    "    \"SANDUSDT\", \"BTSUSDT\", \"LITUSDT\", \"UNFIUSDT\", \"REEFUSDT\", \"MANAUSDT\", \"HBARUSDT\", \"ONEUSDT\", \"LINAUSDT\", \"STMXUSDT\",\n",
    "    \"DENTUSDT\", \"HOTUSDT\", \"MTLUSDT\", \"SCUSDT\", \"1000SHIBUSDT\"\n",
    "]\n",
    "# drop rows from result_analysis where symbol is not in allowed_symbols\n",
    "result_analysis_filtered = result_analysis[result_analysis['Symbol'].isin(allowed_symbols)]\n",
    "\n",
    "result_analysis_filtered = result_analysis_filtered[[\n",
    "    'Symbol',\n",
    "    'Exchange',\n",
    "    'version',\n",
    "    'No. days',\n",
    "    'Passivbot mode',\n",
    "    'live',\n",
    "    \n",
    "    '(L)Long',\n",
    "    '(L)ADG realized per exposure',\n",
    "    '(L)ADG weighted per exposure',\n",
    "    '(L)Average daily gain',\n",
    "    '(L)Average daily gain weighted',\n",
    "    '(L)DG mean std ratio',\n",
    "    '(L)ADG per exposure',\n",
    "    '(L)Exposure ratios mean',\n",
    "    '(L)Loss to profit ratio',\n",
    "    '(L)Price action distance mean',\n",
    "    '(L)Price action distance std',\n",
    "    '(L)Price action distance max',\n",
    "    '(L)Closest bankruptcy',\n",
    "    '(L)Lowest equity/balance ratio',\n",
    "    '(L)Mean of 10 worst eq/bal ratios',\n",
    "    '(L)Equity/balance ratio std',\n",
    "    '(L)No. initial entries',\n",
    "    '(L)No. reentries',\n",
    "    '(L)No. unstuck entries',\n",
    "    '(L)No. unstuck/EMA entries',\n",
    "    '(L)No. unstuck closes',\n",
    "    '(L)No. unstuck/EMA closes',\n",
    "    '(L)No. normal closes',\n",
    "    '(L)Mean hours stuck',\n",
    "    '(L)Max hours stuck',\n",
    "\n",
    "\n",
    "\n",
    "    \n",
    "    '(S)Short',\n",
    "    '(S)ADG realized per exposure',\n",
    "    '(S)ADG weighted per exposure',\n",
    "    '(S)Average daily gain',\n",
    "    '(S)Average daily gain weighted',\n",
    "    '(S)DG mean std ratio',\n",
    "    '(S)ADG per exposure',\n",
    "    '(S)Loss to profit ratio',\n",
    "    '(S)Price action distance mean',\n",
    "    '(S)Price action distance std',\n",
    "    '(S)Price action distance max',\n",
    "    '(S)Closest bankruptcy',\n",
    "    '(S)Lowest equity/balance ratio',\n",
    "    '(S)Mean of 10 worst eq/bal ratios',\n",
    "    '(S)Equity/balance ratio std',\n",
    "    '(S)No. initial entries',\n",
    "    '(S)No. reentries',\n",
    "    '(S)No. unstuck entries',\n",
    "    '(S)No. unstuck/EMA entries',\n",
    "    '(S)No. unstuck closes',\n",
    "    '(S)No. unstuck/EMA closes',\n",
    "    '(S)No. normal closes',\n",
    "    '(S)Mean hours stuck',\n",
    "    '(S)Max hours stuck',\n",
    "\n",
    "    'file',\n",
    "\n",
    "]]\n",
    "\n",
    "result_analysis_filtered"
   ],
   "metadata": {
    "collapsed": false,
    "ExecuteTime": {
     "end_time": "2023-08-14T07:24:24.014388700Z",
     "start_time": "2023-08-14T07:24:23.952391300Z"
    }
   }
  },
  {
   "cell_type": "code",
   "execution_count": 27,
   "outputs": [],
   "source": [
    "# drop Metric column and move file column to the beginning\n",
    "result_analysis_filtered.to_csv(ROOT_PATH+'/analysis_scripts/result_analysis.csv')\n"
   ],
   "metadata": {
    "collapsed": false,
    "ExecuteTime": {
     "end_time": "2023-08-14T07:54:44.997654400Z",
     "start_time": "2023-08-14T07:54:44.823656300Z"
    }
   }
  },
  {
   "cell_type": "code",
   "execution_count": 21,
   "outputs": [
    {
     "name": "stdout",
     "output_type": "stream",
     "text": [
      "Found config file for CHZUSDT\n",
      "Found config file for MATICUSDT\n",
      "Found config file for DOGEUSDT\n",
      "Found config file for EOSUSDT\n",
      "Found config file for LINKUSDT\n",
      "Found config file for XRPUSDT\n",
      "Found config file for ATOMUSDT\n",
      "Found config file for HBARUSDT\n"
     ]
    },
    {
     "name": "stderr",
     "output_type": "stream",
     "text": [
      "C:\\Users\\skhan\\AppData\\Local\\Temp\\ipykernel_18552\\639289630.py:111: FutureWarning: The frame.append method is deprecated and will be removed from pandas in a future version. Use pandas.concat instead.\n",
      "  big_data = big_data.append(d, ignore_index=True)\n",
      "C:\\Users\\skhan\\AppData\\Local\\Temp\\ipykernel_18552\\639289630.py:111: FutureWarning: The frame.append method is deprecated and will be removed from pandas in a future version. Use pandas.concat instead.\n",
      "  big_data = big_data.append(d, ignore_index=True)\n",
      "C:\\Users\\skhan\\AppData\\Local\\Temp\\ipykernel_18552\\639289630.py:111: FutureWarning: The frame.append method is deprecated and will be removed from pandas in a future version. Use pandas.concat instead.\n",
      "  big_data = big_data.append(d, ignore_index=True)\n",
      "C:\\Users\\skhan\\AppData\\Local\\Temp\\ipykernel_18552\\639289630.py:111: FutureWarning: The frame.append method is deprecated and will be removed from pandas in a future version. Use pandas.concat instead.\n",
      "  big_data = big_data.append(d, ignore_index=True)\n",
      "C:\\Users\\skhan\\AppData\\Local\\Temp\\ipykernel_18552\\639289630.py:111: FutureWarning: The frame.append method is deprecated and will be removed from pandas in a future version. Use pandas.concat instead.\n",
      "  big_data = big_data.append(d, ignore_index=True)\n",
      "C:\\Users\\skhan\\AppData\\Local\\Temp\\ipykernel_18552\\639289630.py:111: FutureWarning: The frame.append method is deprecated and will be removed from pandas in a future version. Use pandas.concat instead.\n",
      "  big_data = big_data.append(d, ignore_index=True)\n",
      "C:\\Users\\skhan\\AppData\\Local\\Temp\\ipykernel_18552\\639289630.py:111: FutureWarning: The frame.append method is deprecated and will be removed from pandas in a future version. Use pandas.concat instead.\n",
      "  big_data = big_data.append(d, ignore_index=True)\n",
      "C:\\Users\\skhan\\AppData\\Local\\Temp\\ipykernel_18552\\639289630.py:111: FutureWarning: The frame.append method is deprecated and will be removed from pandas in a future version. Use pandas.concat instead.\n",
      "  big_data = big_data.append(d, ignore_index=True)\n"
     ]
    },
    {
     "data": {
      "text/plain": "                                                file          s  long   tgl_%  \\\n0  passivbot_v5.8.0/configs/particle_swarm/neat/n...    CHZUSDT  True   16.84   \n1  passivbot_v5.8.0/configs/particle_swarm/recurs...  MATICUSDT  True  110.70   \n2  passivbot_v5.8.0/configs/particle_swarm/recurs...   DOGEUSDT  True   78.90   \n3  passivbot_v5.8.0/configs/particle_swarm/recurs...    EOSUSDT  True   44.94   \n4  passivbot_v5.8.0/configs/particle_swarm/recurs...   LINKUSDT  True   69.82   \n5  passivbot_v5.8.0/configs/particle_swarm/recurs...    XRPUSDT  True   78.78   \n6  passivbot_v5.8.0/configs/particle_swarm/recurs...   ATOMUSDT  True   43.89   \n7  passivbot_v5.8.0/configs/particle_swarm/recurs...   HBARUSDT  True   58.97   \n\n   adgl_%    pastdl    pamaxl  bnkrl_%    ebrl      maxsl  adgs_%  bnkrs_%  \\\n0  0.0227  0.010568  0.972791    100.0  0.9507   3.097221     NaN      NaN   \n1  0.0980  0.009527  0.344123    100.0  0.9358   3.534721  0.0226    100.0   \n2  0.0653  0.009553  0.444083    100.0  0.9230  14.734708  0.0308    100.0   \n3  0.0354  0.010325  0.384362    100.0  0.9305   9.236125  0.0175    100.0   \n4  0.0505  0.010666  0.423959    100.0  0.9255   4.113887  0.0198    100.0   \n5  0.0552  0.009951  0.323725    100.0  0.9387   9.106250  0.0179    100.0   \n6  0.0353  0.009951  0.250914    100.0  0.9497   3.324304  0.0231    100.0   \n7  0.0750  0.009953  0.640497    100.0  0.9023   5.772208  0.0538    100.0   \n\n     ebrs     maxss    pamaxs    pastds short  tgs_%  \n0     NaN       NaN       NaN       NaN   NaN    NaN  \n1  0.9546  4.047917  0.274453  0.015690  True  18.71  \n2  0.8412  9.754875  0.569193  0.038511  True  28.69  \n3  0.9474  6.215958  0.303643  0.013407  True  19.93  \n4  0.9792  5.515292  0.146795  0.011554  True  22.96  \n5  0.9449  6.441667  0.313927  0.009566  True  21.38  \n6  0.9728  3.318054  0.182261  0.010759  True  27.06  \n7  0.9515  4.806250  0.287523  0.012303  True  40.02  ",
      "text/html": "<div>\n<style scoped>\n    .dataframe tbody tr th:only-of-type {\n        vertical-align: middle;\n    }\n\n    .dataframe tbody tr th {\n        vertical-align: top;\n    }\n\n    .dataframe thead th {\n        text-align: right;\n    }\n</style>\n<table border=\"1\" class=\"dataframe\">\n  <thead>\n    <tr style=\"text-align: right;\">\n      <th></th>\n      <th>file</th>\n      <th>s</th>\n      <th>long</th>\n      <th>tgl_%</th>\n      <th>adgl_%</th>\n      <th>pastdl</th>\n      <th>pamaxl</th>\n      <th>bnkrl_%</th>\n      <th>ebrl</th>\n      <th>maxsl</th>\n      <th>adgs_%</th>\n      <th>bnkrs_%</th>\n      <th>ebrs</th>\n      <th>maxss</th>\n      <th>pamaxs</th>\n      <th>pastds</th>\n      <th>short</th>\n      <th>tgs_%</th>\n    </tr>\n  </thead>\n  <tbody>\n    <tr>\n      <th>0</th>\n      <td>passivbot_v5.8.0/configs/particle_swarm/neat/n...</td>\n      <td>CHZUSDT</td>\n      <td>True</td>\n      <td>16.84</td>\n      <td>0.0227</td>\n      <td>0.010568</td>\n      <td>0.972791</td>\n      <td>100.0</td>\n      <td>0.9507</td>\n      <td>3.097221</td>\n      <td>NaN</td>\n      <td>NaN</td>\n      <td>NaN</td>\n      <td>NaN</td>\n      <td>NaN</td>\n      <td>NaN</td>\n      <td>NaN</td>\n      <td>NaN</td>\n    </tr>\n    <tr>\n      <th>1</th>\n      <td>passivbot_v5.8.0/configs/particle_swarm/recurs...</td>\n      <td>MATICUSDT</td>\n      <td>True</td>\n      <td>110.70</td>\n      <td>0.0980</td>\n      <td>0.009527</td>\n      <td>0.344123</td>\n      <td>100.0</td>\n      <td>0.9358</td>\n      <td>3.534721</td>\n      <td>0.0226</td>\n      <td>100.0</td>\n      <td>0.9546</td>\n      <td>4.047917</td>\n      <td>0.274453</td>\n      <td>0.015690</td>\n      <td>True</td>\n      <td>18.71</td>\n    </tr>\n    <tr>\n      <th>2</th>\n      <td>passivbot_v5.8.0/configs/particle_swarm/recurs...</td>\n      <td>DOGEUSDT</td>\n      <td>True</td>\n      <td>78.90</td>\n      <td>0.0653</td>\n      <td>0.009553</td>\n      <td>0.444083</td>\n      <td>100.0</td>\n      <td>0.9230</td>\n      <td>14.734708</td>\n      <td>0.0308</td>\n      <td>100.0</td>\n      <td>0.8412</td>\n      <td>9.754875</td>\n      <td>0.569193</td>\n      <td>0.038511</td>\n      <td>True</td>\n      <td>28.69</td>\n    </tr>\n    <tr>\n      <th>3</th>\n      <td>passivbot_v5.8.0/configs/particle_swarm/recurs...</td>\n      <td>EOSUSDT</td>\n      <td>True</td>\n      <td>44.94</td>\n      <td>0.0354</td>\n      <td>0.010325</td>\n      <td>0.384362</td>\n      <td>100.0</td>\n      <td>0.9305</td>\n      <td>9.236125</td>\n      <td>0.0175</td>\n      <td>100.0</td>\n      <td>0.9474</td>\n      <td>6.215958</td>\n      <td>0.303643</td>\n      <td>0.013407</td>\n      <td>True</td>\n      <td>19.93</td>\n    </tr>\n    <tr>\n      <th>4</th>\n      <td>passivbot_v5.8.0/configs/particle_swarm/recurs...</td>\n      <td>LINKUSDT</td>\n      <td>True</td>\n      <td>69.82</td>\n      <td>0.0505</td>\n      <td>0.010666</td>\n      <td>0.423959</td>\n      <td>100.0</td>\n      <td>0.9255</td>\n      <td>4.113887</td>\n      <td>0.0198</td>\n      <td>100.0</td>\n      <td>0.9792</td>\n      <td>5.515292</td>\n      <td>0.146795</td>\n      <td>0.011554</td>\n      <td>True</td>\n      <td>22.96</td>\n    </tr>\n    <tr>\n      <th>5</th>\n      <td>passivbot_v5.8.0/configs/particle_swarm/recurs...</td>\n      <td>XRPUSDT</td>\n      <td>True</td>\n      <td>78.78</td>\n      <td>0.0552</td>\n      <td>0.009951</td>\n      <td>0.323725</td>\n      <td>100.0</td>\n      <td>0.9387</td>\n      <td>9.106250</td>\n      <td>0.0179</td>\n      <td>100.0</td>\n      <td>0.9449</td>\n      <td>6.441667</td>\n      <td>0.313927</td>\n      <td>0.009566</td>\n      <td>True</td>\n      <td>21.38</td>\n    </tr>\n    <tr>\n      <th>6</th>\n      <td>passivbot_v5.8.0/configs/particle_swarm/recurs...</td>\n      <td>ATOMUSDT</td>\n      <td>True</td>\n      <td>43.89</td>\n      <td>0.0353</td>\n      <td>0.009951</td>\n      <td>0.250914</td>\n      <td>100.0</td>\n      <td>0.9497</td>\n      <td>3.324304</td>\n      <td>0.0231</td>\n      <td>100.0</td>\n      <td>0.9728</td>\n      <td>3.318054</td>\n      <td>0.182261</td>\n      <td>0.010759</td>\n      <td>True</td>\n      <td>27.06</td>\n    </tr>\n    <tr>\n      <th>7</th>\n      <td>passivbot_v5.8.0/configs/particle_swarm/recurs...</td>\n      <td>HBARUSDT</td>\n      <td>True</td>\n      <td>58.97</td>\n      <td>0.0750</td>\n      <td>0.009953</td>\n      <td>0.640497</td>\n      <td>100.0</td>\n      <td>0.9023</td>\n      <td>5.772208</td>\n      <td>0.0538</td>\n      <td>100.0</td>\n      <td>0.9515</td>\n      <td>4.806250</td>\n      <td>0.287523</td>\n      <td>0.012303</td>\n      <td>True</td>\n      <td>40.02</td>\n    </tr>\n  </tbody>\n</table>\n</div>"
     },
     "execution_count": 21,
     "metadata": {},
     "output_type": "execute_result"
    }
   ],
   "source": [
    "import glob\n",
    "import json\n",
    "import os\n",
    "import pandas as pd\n",
    "\n",
    "\n",
    "def contained(a, b):\n",
    "    \"\"\" checks if dictionary a is fully contained in b \"\"\"\n",
    "    if not isinstance(a, dict):\n",
    "        return a == b\n",
    "    else:\n",
    "        return all(contained(v, b.get(k)) for k, v in a.items())\n",
    "\n",
    "\n",
    "big_data = pd.DataFrame()\n",
    "## find current folder root\n",
    "root = os.getcwd()\n",
    "\n",
    "## get all list of json files in cfgs_live folder and put it in a list\n",
    "live_configs = glob.glob('C:\\\\AgodaGit\\\\passivbot' + '/cfgs_live/*.json')\n",
    "current_configs = {}\n",
    "for file in live_configs:\n",
    "    with open(file) as f:\n",
    "        data = json.load(f)\n",
    "        # extract filename from f\n",
    "        currency = os.path.basename(file).replace('.json', '') + 'USDT'\n",
    "        current_configs[currency] = data\n",
    "\n",
    "live_configs = glob.iglob('passivbot_v5.8.0/configs' + '/**/config.json', recursive=True)\n",
    "files = []\n",
    "for file in live_configs:\n",
    "    with open(file) as f:\n",
    "        data = json.load(f)\n",
    "        x = file.replace(root, '').replace('\\\\', '/')\n",
    "\n",
    "        ## find the folder containing the config.json file\n",
    "        config_folder = file.replace('\\\\', '/').replace('/config.json', '')\n",
    "        ## find the result.txt file\n",
    "        result_txt = glob.iglob(config_folder + '/**/result.txt', recursive=True)\n",
    "        ## if result_txt list is not empty, get the first result\n",
    "        result_txt = next(result_txt, None)\n",
    "\n",
    "        if result_txt is not None:\n",
    "            result_file = result_txt.replace('\\\\', '/')\n",
    "            currency = result_txt.replace('\\\\', '/').replace('/result.txt', '').split('/')[-1]\n",
    "            if currency in current_configs:\n",
    "                current_config = current_configs[currency]\n",
    "                ## compare each property current_config json object with data json object recursively and see if they are equal\n",
    "                if contained(current_config, data):\n",
    "                    print('Found config file for ' + currency)\n",
    "                    files.append(result_file)\n",
    "\n",
    "i = 0\n",
    "for filename in files:\n",
    "    #print(f'parsing : {filename}')\n",
    "    json_file = os.path.abspath(filename.replace('result.txt', '../config.json'))\n",
    "    with open(json_file) as f:\n",
    "        live_config = json.load(f)\n",
    "        config_type = live_config['config_name']\n",
    "\n",
    "    with open(filename, 'r') as file:\n",
    "        data = file.read().split('\\n')\n",
    "        d = {'file': filename}\n",
    "        current_state = 'long'\n",
    "        for l in data:\n",
    "            l = l.split('|')\n",
    "            if len(l) == 4:\n",
    "                key = l[1].strip()\n",
    "                value = l[2].strip()\n",
    "\n",
    "                if key == 'Symbol':\n",
    "                    d['s'] = value\n",
    "\n",
    "                if key == 'Long':\n",
    "                    current_state = 'long'\n",
    "                    d['long'] = bool(value) or False\n",
    "                if key == 'Short':\n",
    "                    current_state = 'short'\n",
    "                    d['short'] = bool(value) or False\n",
    "\n",
    "                if key == 'Total gain' and current_state == 'long':\n",
    "                    d['tgl_%'] = float(value.replace('%', '').strip())\n",
    "                if key == 'Average daily gain' and current_state == 'long':\n",
    "                    d['adgl_%'] = float(value.replace('%', '').strip())\n",
    "                if key == 'Closest bankruptcy' and current_state == 'long':\n",
    "                    d['bnkrl_%'] = float(value.replace('%', '').strip())\n",
    "                if key == 'Lowest equity/balance ratio' and current_state == 'long':\n",
    "                    d['ebrl'] = float(value.replace('%', '').strip())\n",
    "                if key == 'Max hours stuck' and current_state == 'long':\n",
    "                    d['maxsl'] = float(value.replace('%', '').strip()) / 24\n",
    "                if key == 'Price action distance max' and current_state == 'long':\n",
    "                    d['pamaxl'] = float(value.replace('%', '').strip())\n",
    "                if key == 'Price action distance std' and current_state == 'long':\n",
    "                    d['pastdl'] = float(value.strip())\n",
    "\n",
    "                if key == 'Total gain' and current_state == 'short':\n",
    "                    d['tgs_%'] = float(value.replace('%', '').strip())\n",
    "                if key == 'Average daily gain' and current_state == 'short':\n",
    "                    d['adgs_%'] = float(value.replace('%', '').strip())\n",
    "                if key == 'Closest bankruptcy' and current_state == 'short':\n",
    "                    d['bnkrs_%'] = float(value.replace('%', '').strip())\n",
    "                if key == 'Lowest equity/balance ratio' and current_state == 'short':\n",
    "                    d['ebrs'] = float(value.replace('%', '').strip())\n",
    "                if key == 'Max hours stuck' and current_state == 'short':\n",
    "                    d['maxss'] = float(value.replace('%', '').strip()) / 24\n",
    "                if key == 'Price action distance max' and current_state == 'short':\n",
    "                    d['pamaxs'] = float(value.replace('%', '').strip())\n",
    "                if key == 'Price action distance std' and current_state == 'short':\n",
    "                    d['pastds'] = float(value.strip())\n",
    "\n",
    "        big_data = big_data.append(d, ignore_index=True)\n",
    "big_data"
   ],
   "metadata": {
    "collapsed": false,
    "pycharm": {
     "name": "#%%\n"
    }
   }
  },
  {
   "cell_type": "code",
   "execution_count": 22,
   "outputs": [
    {
     "data": {
      "text/plain": "                                                file          s  long   tgl_%  \\\n0  passivbot_v5.8.0/configs/particle_swarm/neat/n...    CHZUSDT  True   16.84   \n1  passivbot_v5.8.0/configs/particle_swarm/recurs...  MATICUSDT  True  110.70   \n2  passivbot_v5.8.0/configs/particle_swarm/recurs...   DOGEUSDT  True   78.90   \n3  passivbot_v5.8.0/configs/particle_swarm/recurs...    EOSUSDT  True   44.94   \n4  passivbot_v5.8.0/configs/particle_swarm/recurs...   LINKUSDT  True   69.82   \n5  passivbot_v5.8.0/configs/particle_swarm/recurs...    XRPUSDT  True   78.78   \n6  passivbot_v5.8.0/configs/particle_swarm/recurs...   ATOMUSDT  True   43.89   \n7  passivbot_v5.8.0/configs/particle_swarm/recurs...   HBARUSDT  True   58.97   \n\n   adgl_%    pastdl    pamaxl  bnkrl_%    ebrl      maxsl  adgs_%  bnkrs_%  \\\n0  0.0227  0.010568  0.972791    100.0  0.9507   3.097221     NaN      NaN   \n1  0.0980  0.009527  0.344123    100.0  0.9358   3.534721  0.0226    100.0   \n2  0.0653  0.009553  0.444083    100.0  0.9230  14.734708  0.0308    100.0   \n3  0.0354  0.010325  0.384362    100.0  0.9305   9.236125  0.0175    100.0   \n4  0.0505  0.010666  0.423959    100.0  0.9255   4.113887  0.0198    100.0   \n5  0.0552  0.009951  0.323725    100.0  0.9387   9.106250  0.0179    100.0   \n6  0.0353  0.009951  0.250914    100.0  0.9497   3.324304  0.0231    100.0   \n7  0.0750  0.009953  0.640497    100.0  0.9023   5.772208  0.0538    100.0   \n\n     ebrs     maxss    pamaxs    pastds short  tgs_%  adgt_%  \n0     NaN       NaN       NaN       NaN   NaN    NaN     NaN  \n1  0.9546  4.047917  0.274453  0.015690  True  18.71  0.1206  \n2  0.8412  9.754875  0.569193  0.038511  True  28.69  0.0961  \n3  0.9474  6.215958  0.303643  0.013407  True  19.93  0.0529  \n4  0.9792  5.515292  0.146795  0.011554  True  22.96  0.0703  \n5  0.9449  6.441667  0.313927  0.009566  True  21.38  0.0731  \n6  0.9728  3.318054  0.182261  0.010759  True  27.06  0.0584  \n7  0.9515  4.806250  0.287523  0.012303  True  40.02  0.1288  ",
      "text/html": "<div>\n<style scoped>\n    .dataframe tbody tr th:only-of-type {\n        vertical-align: middle;\n    }\n\n    .dataframe tbody tr th {\n        vertical-align: top;\n    }\n\n    .dataframe thead th {\n        text-align: right;\n    }\n</style>\n<table border=\"1\" class=\"dataframe\">\n  <thead>\n    <tr style=\"text-align: right;\">\n      <th></th>\n      <th>file</th>\n      <th>s</th>\n      <th>long</th>\n      <th>tgl_%</th>\n      <th>adgl_%</th>\n      <th>pastdl</th>\n      <th>pamaxl</th>\n      <th>bnkrl_%</th>\n      <th>ebrl</th>\n      <th>maxsl</th>\n      <th>adgs_%</th>\n      <th>bnkrs_%</th>\n      <th>ebrs</th>\n      <th>maxss</th>\n      <th>pamaxs</th>\n      <th>pastds</th>\n      <th>short</th>\n      <th>tgs_%</th>\n      <th>adgt_%</th>\n    </tr>\n  </thead>\n  <tbody>\n    <tr>\n      <th>0</th>\n      <td>passivbot_v5.8.0/configs/particle_swarm/neat/n...</td>\n      <td>CHZUSDT</td>\n      <td>True</td>\n      <td>16.84</td>\n      <td>0.0227</td>\n      <td>0.010568</td>\n      <td>0.972791</td>\n      <td>100.0</td>\n      <td>0.9507</td>\n      <td>3.097221</td>\n      <td>NaN</td>\n      <td>NaN</td>\n      <td>NaN</td>\n      <td>NaN</td>\n      <td>NaN</td>\n      <td>NaN</td>\n      <td>NaN</td>\n      <td>NaN</td>\n      <td>NaN</td>\n    </tr>\n    <tr>\n      <th>1</th>\n      <td>passivbot_v5.8.0/configs/particle_swarm/recurs...</td>\n      <td>MATICUSDT</td>\n      <td>True</td>\n      <td>110.70</td>\n      <td>0.0980</td>\n      <td>0.009527</td>\n      <td>0.344123</td>\n      <td>100.0</td>\n      <td>0.9358</td>\n      <td>3.534721</td>\n      <td>0.0226</td>\n      <td>100.0</td>\n      <td>0.9546</td>\n      <td>4.047917</td>\n      <td>0.274453</td>\n      <td>0.015690</td>\n      <td>True</td>\n      <td>18.71</td>\n      <td>0.1206</td>\n    </tr>\n    <tr>\n      <th>2</th>\n      <td>passivbot_v5.8.0/configs/particle_swarm/recurs...</td>\n      <td>DOGEUSDT</td>\n      <td>True</td>\n      <td>78.90</td>\n      <td>0.0653</td>\n      <td>0.009553</td>\n      <td>0.444083</td>\n      <td>100.0</td>\n      <td>0.9230</td>\n      <td>14.734708</td>\n      <td>0.0308</td>\n      <td>100.0</td>\n      <td>0.8412</td>\n      <td>9.754875</td>\n      <td>0.569193</td>\n      <td>0.038511</td>\n      <td>True</td>\n      <td>28.69</td>\n      <td>0.0961</td>\n    </tr>\n    <tr>\n      <th>3</th>\n      <td>passivbot_v5.8.0/configs/particle_swarm/recurs...</td>\n      <td>EOSUSDT</td>\n      <td>True</td>\n      <td>44.94</td>\n      <td>0.0354</td>\n      <td>0.010325</td>\n      <td>0.384362</td>\n      <td>100.0</td>\n      <td>0.9305</td>\n      <td>9.236125</td>\n      <td>0.0175</td>\n      <td>100.0</td>\n      <td>0.9474</td>\n      <td>6.215958</td>\n      <td>0.303643</td>\n      <td>0.013407</td>\n      <td>True</td>\n      <td>19.93</td>\n      <td>0.0529</td>\n    </tr>\n    <tr>\n      <th>4</th>\n      <td>passivbot_v5.8.0/configs/particle_swarm/recurs...</td>\n      <td>LINKUSDT</td>\n      <td>True</td>\n      <td>69.82</td>\n      <td>0.0505</td>\n      <td>0.010666</td>\n      <td>0.423959</td>\n      <td>100.0</td>\n      <td>0.9255</td>\n      <td>4.113887</td>\n      <td>0.0198</td>\n      <td>100.0</td>\n      <td>0.9792</td>\n      <td>5.515292</td>\n      <td>0.146795</td>\n      <td>0.011554</td>\n      <td>True</td>\n      <td>22.96</td>\n      <td>0.0703</td>\n    </tr>\n    <tr>\n      <th>5</th>\n      <td>passivbot_v5.8.0/configs/particle_swarm/recurs...</td>\n      <td>XRPUSDT</td>\n      <td>True</td>\n      <td>78.78</td>\n      <td>0.0552</td>\n      <td>0.009951</td>\n      <td>0.323725</td>\n      <td>100.0</td>\n      <td>0.9387</td>\n      <td>9.106250</td>\n      <td>0.0179</td>\n      <td>100.0</td>\n      <td>0.9449</td>\n      <td>6.441667</td>\n      <td>0.313927</td>\n      <td>0.009566</td>\n      <td>True</td>\n      <td>21.38</td>\n      <td>0.0731</td>\n    </tr>\n    <tr>\n      <th>6</th>\n      <td>passivbot_v5.8.0/configs/particle_swarm/recurs...</td>\n      <td>ATOMUSDT</td>\n      <td>True</td>\n      <td>43.89</td>\n      <td>0.0353</td>\n      <td>0.009951</td>\n      <td>0.250914</td>\n      <td>100.0</td>\n      <td>0.9497</td>\n      <td>3.324304</td>\n      <td>0.0231</td>\n      <td>100.0</td>\n      <td>0.9728</td>\n      <td>3.318054</td>\n      <td>0.182261</td>\n      <td>0.010759</td>\n      <td>True</td>\n      <td>27.06</td>\n      <td>0.0584</td>\n    </tr>\n    <tr>\n      <th>7</th>\n      <td>passivbot_v5.8.0/configs/particle_swarm/recurs...</td>\n      <td>HBARUSDT</td>\n      <td>True</td>\n      <td>58.97</td>\n      <td>0.0750</td>\n      <td>0.009953</td>\n      <td>0.640497</td>\n      <td>100.0</td>\n      <td>0.9023</td>\n      <td>5.772208</td>\n      <td>0.0538</td>\n      <td>100.0</td>\n      <td>0.9515</td>\n      <td>4.806250</td>\n      <td>0.287523</td>\n      <td>0.012303</td>\n      <td>True</td>\n      <td>40.02</td>\n      <td>0.1288</td>\n    </tr>\n  </tbody>\n</table>\n</div>"
     },
     "execution_count": 22,
     "metadata": {},
     "output_type": "execute_result"
    }
   ],
   "source": [
    "allowed_symbols = [\n",
    "    \"ETHUSDT\", \"BCHUSDT\", \"XRPUSDT\", \"EOSUSDT\", \"LTCUSDT\", \"TRXUSDT\", \"ETCUSDT\", \"LINKUSDT\", \"XLMUSDT\", \"ADAUSDT\",\n",
    "    \"XMRUSDT\", \"DASHUSDT\", \"ZECUSDT\", \"XTZUSDT\", \"BNBUSDT\", \"ATOMUSDT\", \"NEOUSDT\", \"IOSTUSDT\", \"THETAUSDT\", \"ALGOUSDT\",\n",
    "    \"ZILUSDT\", \"KNCUSDT\", \"COMPUSDT\", \"OMGUSDT\", \"DOGEUSDT\", \"KAVAUSDT\", \"BANDUSDT\", \"RLCUSDT\", \"WAVESUSDT\", \"SNXUSDT\",\n",
    "    \"DOTUSDT\", \"CRVUSDT\", \"TRBUSDT\", \"RUNEUSDT\", \"SUSHIUSDT\", \"SRMUSDT\", \"EGLDUSDT\", \"FTMUSDT\", \"HNTUSDT\", \"RENUSDT\",\n",
    "    \"KSMUSDT\", \"NEARUSDT\", \"FILUSDT\", \"RSRUSDT\", \"MATICUSDT\", \"OCEANUSDT\", \"CVCUSDT\", \"GRTUSDT\", \"1INCHUSDT\", \"CHZUSDT\",\n",
    "    \"SANDUSDT\", \"BTSUSDT\", \"LITUSDT\", \"UNFIUSDT\", \"REEFUSDT\", \"MANAUSDT\", \"HBARUSDT\", \"ONEUSDT\", \"LINAUSDT\", \"STMXUSDT\",\n",
    "    \"DENTUSDT\", \"HOTUSDT\", \"MTLUSDT\", \"SCUSDT\", \"1000SHIBUSDT\"\n",
    "]\n",
    "#allowed_symbols = [s + \"USDT\" for s in allowed_symbols]\n",
    "big_data['adgt_%'] = big_data['adgl_%'] + big_data['adgs_%']\n",
    "result_analysis = big_data[(big_data.s.isin(allowed_symbols))\n",
    "    #& (big_data['long'] == True)\n",
    "    #& (big_data['adgl_%'] > 0.04)\n",
    "    #& (big_data['short'] == True)\n",
    "    #& (big_data['adgt_%'] > 0.1)\n",
    "    #& (big_data['bnkrl_%'] > 95.0)\n",
    "    #& (big_data['bnkrs_%'] > 95.0)\n",
    "    #& (big_data['ebrs'] > .85)\n",
    "    #& (big_data['ebrl'] > .8)\n",
    "    #& (big_data['v'] == '5.5')\n",
    "\n",
    "    # & (big_data['tg_%'] > 10)\n",
    "    # & (big_data['ebr'] > .85)\n",
    "]\n",
    "#df['total_adg'] = big_data['adgl_%'] + big_data['adgs_%']\n",
    "result_analysis.to_csv('5.8.csv')\n",
    "result_analysis"
   ],
   "metadata": {
    "collapsed": false,
    "pycharm": {
     "name": "#%%\n"
    }
   }
  },
  {
   "cell_type": "code",
   "execution_count": 23,
   "outputs": [
    {
     "data": {
      "text/plain": "                                                file          s  adgt_%  \\\n0  passivbot_v5.8.0/configs/particle_swarm/neat/n...    CHZUSDT     NaN   \n1  passivbot_v5.8.0/configs/particle_swarm/recurs...  MATICUSDT  0.1206   \n2  passivbot_v5.8.0/configs/particle_swarm/recurs...   DOGEUSDT  0.0961   \n3  passivbot_v5.8.0/configs/particle_swarm/recurs...    EOSUSDT  0.0529   \n4  passivbot_v5.8.0/configs/particle_swarm/recurs...   LINKUSDT  0.0703   \n5  passivbot_v5.8.0/configs/particle_swarm/recurs...    XRPUSDT  0.0731   \n6  passivbot_v5.8.0/configs/particle_swarm/recurs...   ATOMUSDT  0.0584   \n7  passivbot_v5.8.0/configs/particle_swarm/recurs...   HBARUSDT  0.1288   \n\n   adgl_%  adgs_%  bnkrl_%  bnkrs_%    ebrl    ebrs      maxsl    pamaxl  \\\n0  0.0227     NaN    100.0      NaN  0.9507     NaN   3.097221  0.972791   \n1  0.0980  0.0226    100.0    100.0  0.9358  0.9546   3.534721  0.344123   \n2  0.0653  0.0308    100.0    100.0  0.9230  0.8412  14.734708  0.444083   \n3  0.0354  0.0175    100.0    100.0  0.9305  0.9474   9.236125  0.384362   \n4  0.0505  0.0198    100.0    100.0  0.9255  0.9792   4.113887  0.423959   \n5  0.0552  0.0179    100.0    100.0  0.9387  0.9449   9.106250  0.323725   \n6  0.0353  0.0231    100.0    100.0  0.9497  0.9728   3.324304  0.250914   \n7  0.0750  0.0538    100.0    100.0  0.9023  0.9515   5.772208  0.640497   \n\n     pastdl     maxss    pamaxs    pastds  \n0  0.010568       NaN       NaN       NaN  \n1  0.009527  4.047917  0.274453  0.015690  \n2  0.009553  9.754875  0.569193  0.038511  \n3  0.010325  6.215958  0.303643  0.013407  \n4  0.010666  5.515292  0.146795  0.011554  \n5  0.009951  6.441667  0.313927  0.009566  \n6  0.009951  3.318054  0.182261  0.010759  \n7  0.009953  4.806250  0.287523  0.012303  ",
      "text/html": "<div>\n<style scoped>\n    .dataframe tbody tr th:only-of-type {\n        vertical-align: middle;\n    }\n\n    .dataframe tbody tr th {\n        vertical-align: top;\n    }\n\n    .dataframe thead th {\n        text-align: right;\n    }\n</style>\n<table border=\"1\" class=\"dataframe\">\n  <thead>\n    <tr style=\"text-align: right;\">\n      <th></th>\n      <th>file</th>\n      <th>s</th>\n      <th>adgt_%</th>\n      <th>adgl_%</th>\n      <th>adgs_%</th>\n      <th>bnkrl_%</th>\n      <th>bnkrs_%</th>\n      <th>ebrl</th>\n      <th>ebrs</th>\n      <th>maxsl</th>\n      <th>pamaxl</th>\n      <th>pastdl</th>\n      <th>maxss</th>\n      <th>pamaxs</th>\n      <th>pastds</th>\n    </tr>\n  </thead>\n  <tbody>\n    <tr>\n      <th>0</th>\n      <td>passivbot_v5.8.0/configs/particle_swarm/neat/n...</td>\n      <td>CHZUSDT</td>\n      <td>NaN</td>\n      <td>0.0227</td>\n      <td>NaN</td>\n      <td>100.0</td>\n      <td>NaN</td>\n      <td>0.9507</td>\n      <td>NaN</td>\n      <td>3.097221</td>\n      <td>0.972791</td>\n      <td>0.010568</td>\n      <td>NaN</td>\n      <td>NaN</td>\n      <td>NaN</td>\n    </tr>\n    <tr>\n      <th>1</th>\n      <td>passivbot_v5.8.0/configs/particle_swarm/recurs...</td>\n      <td>MATICUSDT</td>\n      <td>0.1206</td>\n      <td>0.0980</td>\n      <td>0.0226</td>\n      <td>100.0</td>\n      <td>100.0</td>\n      <td>0.9358</td>\n      <td>0.9546</td>\n      <td>3.534721</td>\n      <td>0.344123</td>\n      <td>0.009527</td>\n      <td>4.047917</td>\n      <td>0.274453</td>\n      <td>0.015690</td>\n    </tr>\n    <tr>\n      <th>2</th>\n      <td>passivbot_v5.8.0/configs/particle_swarm/recurs...</td>\n      <td>DOGEUSDT</td>\n      <td>0.0961</td>\n      <td>0.0653</td>\n      <td>0.0308</td>\n      <td>100.0</td>\n      <td>100.0</td>\n      <td>0.9230</td>\n      <td>0.8412</td>\n      <td>14.734708</td>\n      <td>0.444083</td>\n      <td>0.009553</td>\n      <td>9.754875</td>\n      <td>0.569193</td>\n      <td>0.038511</td>\n    </tr>\n    <tr>\n      <th>3</th>\n      <td>passivbot_v5.8.0/configs/particle_swarm/recurs...</td>\n      <td>EOSUSDT</td>\n      <td>0.0529</td>\n      <td>0.0354</td>\n      <td>0.0175</td>\n      <td>100.0</td>\n      <td>100.0</td>\n      <td>0.9305</td>\n      <td>0.9474</td>\n      <td>9.236125</td>\n      <td>0.384362</td>\n      <td>0.010325</td>\n      <td>6.215958</td>\n      <td>0.303643</td>\n      <td>0.013407</td>\n    </tr>\n    <tr>\n      <th>4</th>\n      <td>passivbot_v5.8.0/configs/particle_swarm/recurs...</td>\n      <td>LINKUSDT</td>\n      <td>0.0703</td>\n      <td>0.0505</td>\n      <td>0.0198</td>\n      <td>100.0</td>\n      <td>100.0</td>\n      <td>0.9255</td>\n      <td>0.9792</td>\n      <td>4.113887</td>\n      <td>0.423959</td>\n      <td>0.010666</td>\n      <td>5.515292</td>\n      <td>0.146795</td>\n      <td>0.011554</td>\n    </tr>\n    <tr>\n      <th>5</th>\n      <td>passivbot_v5.8.0/configs/particle_swarm/recurs...</td>\n      <td>XRPUSDT</td>\n      <td>0.0731</td>\n      <td>0.0552</td>\n      <td>0.0179</td>\n      <td>100.0</td>\n      <td>100.0</td>\n      <td>0.9387</td>\n      <td>0.9449</td>\n      <td>9.106250</td>\n      <td>0.323725</td>\n      <td>0.009951</td>\n      <td>6.441667</td>\n      <td>0.313927</td>\n      <td>0.009566</td>\n    </tr>\n    <tr>\n      <th>6</th>\n      <td>passivbot_v5.8.0/configs/particle_swarm/recurs...</td>\n      <td>ATOMUSDT</td>\n      <td>0.0584</td>\n      <td>0.0353</td>\n      <td>0.0231</td>\n      <td>100.0</td>\n      <td>100.0</td>\n      <td>0.9497</td>\n      <td>0.9728</td>\n      <td>3.324304</td>\n      <td>0.250914</td>\n      <td>0.009951</td>\n      <td>3.318054</td>\n      <td>0.182261</td>\n      <td>0.010759</td>\n    </tr>\n    <tr>\n      <th>7</th>\n      <td>passivbot_v5.8.0/configs/particle_swarm/recurs...</td>\n      <td>HBARUSDT</td>\n      <td>0.1288</td>\n      <td>0.0750</td>\n      <td>0.0538</td>\n      <td>100.0</td>\n      <td>100.0</td>\n      <td>0.9023</td>\n      <td>0.9515</td>\n      <td>5.772208</td>\n      <td>0.640497</td>\n      <td>0.009953</td>\n      <td>4.806250</td>\n      <td>0.287523</td>\n      <td>0.012303</td>\n    </tr>\n  </tbody>\n</table>\n</div>"
     },
     "execution_count": 23,
     "metadata": {},
     "output_type": "execute_result"
    }
   ],
   "source": [
    "result_analysis.drop_duplicates(\n",
    "    subset=['s',  'tgl_%', 'tgs_%', 'adgl_%', 'adgs_%', 'adgt_%', 'bnkrl_%', 'bnkrs_%', 'ebrl', 'ebrs', 'long',\n",
    "            'short'], keep='first',\n",
    "    inplace=True)\n",
    "dx = result_analysis[['file', 's', 'adgt_%', 'adgl_%', 'adgs_%', 'bnkrl_%', 'bnkrs_%', 'ebrl', 'ebrs', 'maxsl', 'pamaxl', 'pastdl',\n",
    "         'maxss', 'pamaxs','pastds']]\n",
    "dx"
   ],
   "metadata": {
    "collapsed": false,
    "pycharm": {
     "name": "#%%\n"
    }
   }
  },
  {
   "cell_type": "code",
   "execution_count": 24,
   "outputs": [],
   "source": [],
   "metadata": {
    "collapsed": false,
    "pycharm": {
     "name": "#%%\n"
    }
   }
  }
 ],
 "metadata": {
  "kernelspec": {
   "display_name": "Python 3",
   "language": "python",
   "name": "python3"
  },
  "language_info": {
   "codemirror_mode": {
    "name": "ipython",
    "version": 2
   },
   "file_extension": ".py",
   "mimetype": "text/x-python",
   "name": "python",
   "nbconvert_exporter": "python",
   "pygments_lexer": "ipython2",
   "version": "2.7.6"
  }
 },
 "nbformat": 4,
 "nbformat_minor": 0
}
