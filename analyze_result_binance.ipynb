{
 "cells": [
  {
   "cell_type": "code",
   "execution_count": 1,
   "metadata": {},
   "outputs": [],
   "source": [
    "%load_ext autoreload\n",
    "%autoreload 2"
   ]
  },
  {
   "cell_type": "code",
   "execution_count": 1,
   "outputs": [],
   "source": [],
   "metadata": {
    "collapsed": false,
    "pycharm": {
     "name": "#%%\n"
    }
   }
  },
  {
   "cell_type": "code",
   "execution_count": 2,
   "metadata": {
    "pycharm": {
     "name": "#%%\n"
    }
   },
   "outputs": [],
   "source": [
    "import glob\n",
    "\n",
    "import pandas as pd"
   ]
  },
  {
   "cell_type": "code",
   "execution_count": 3,
   "outputs": [],
   "source": [
    "## delete the folders not in live config ( extra crap )\n",
    "live_config_files = glob.glob('cfgs_live/*', recursive=True)\n",
    "allowed_symbols = []\n",
    "for f in live_config_files:\n",
    "    symbol = f.split('\\\\')[-1]\n",
    "    symbol = symbol.replace('.json', 'USDT')\n",
    "    allowed_symbols.append(symbol)\n"
   ],
   "metadata": {
    "collapsed": false,
    "pycharm": {
     "name": "#%%\n"
    }
   }
  },
  {
   "cell_type": "code",
   "execution_count": 4,
   "metadata": {
    "pycharm": {
     "name": "#%%\n"
    }
   },
   "outputs": [
    {
     "name": "stderr",
     "output_type": "stream",
     "text": [
      "C:\\Users\\skhan\\AppData\\Local\\Temp/ipykernel_308204/2803701148.py:47: FutureWarning: The frame.append method is deprecated and will be removed from pandas in a future version. Use pandas.concat instead.\n",
      "  big_data = big_data.append(d, ignore_index=True)\n",
      "C:\\Users\\skhan\\AppData\\Local\\Temp/ipykernel_308204/2803701148.py:47: FutureWarning: The frame.append method is deprecated and will be removed from pandas in a future version. Use pandas.concat instead.\n",
      "  big_data = big_data.append(d, ignore_index=True)\n",
      "C:\\Users\\skhan\\AppData\\Local\\Temp/ipykernel_308204/2803701148.py:47: FutureWarning: The frame.append method is deprecated and will be removed from pandas in a future version. Use pandas.concat instead.\n",
      "  big_data = big_data.append(d, ignore_index=True)\n",
      "C:\\Users\\skhan\\AppData\\Local\\Temp/ipykernel_308204/2803701148.py:47: FutureWarning: The frame.append method is deprecated and will be removed from pandas in a future version. Use pandas.concat instead.\n",
      "  big_data = big_data.append(d, ignore_index=True)\n",
      "C:\\Users\\skhan\\AppData\\Local\\Temp/ipykernel_308204/2803701148.py:47: FutureWarning: The frame.append method is deprecated and will be removed from pandas in a future version. Use pandas.concat instead.\n",
      "  big_data = big_data.append(d, ignore_index=True)\n",
      "C:\\Users\\skhan\\AppData\\Local\\Temp/ipykernel_308204/2803701148.py:47: FutureWarning: The frame.append method is deprecated and will be removed from pandas in a future version. Use pandas.concat instead.\n",
      "  big_data = big_data.append(d, ignore_index=True)\n",
      "C:\\Users\\skhan\\AppData\\Local\\Temp/ipykernel_308204/2803701148.py:47: FutureWarning: The frame.append method is deprecated and will be removed from pandas in a future version. Use pandas.concat instead.\n",
      "  big_data = big_data.append(d, ignore_index=True)\n",
      "C:\\Users\\skhan\\AppData\\Local\\Temp/ipykernel_308204/2803701148.py:47: FutureWarning: The frame.append method is deprecated and will be removed from pandas in a future version. Use pandas.concat instead.\n",
      "  big_data = big_data.append(d, ignore_index=True)\n",
      "C:\\Users\\skhan\\AppData\\Local\\Temp/ipykernel_308204/2803701148.py:47: FutureWarning: The frame.append method is deprecated and will be removed from pandas in a future version. Use pandas.concat instead.\n",
      "  big_data = big_data.append(d, ignore_index=True)\n",
      "C:\\Users\\skhan\\AppData\\Local\\Temp/ipykernel_308204/2803701148.py:47: FutureWarning: The frame.append method is deprecated and will be removed from pandas in a future version. Use pandas.concat instead.\n",
      "  big_data = big_data.append(d, ignore_index=True)\n",
      "C:\\Users\\skhan\\AppData\\Local\\Temp/ipykernel_308204/2803701148.py:47: FutureWarning: The frame.append method is deprecated and will be removed from pandas in a future version. Use pandas.concat instead.\n",
      "  big_data = big_data.append(d, ignore_index=True)\n",
      "C:\\Users\\skhan\\AppData\\Local\\Temp/ipykernel_308204/2803701148.py:47: FutureWarning: The frame.append method is deprecated and will be removed from pandas in a future version. Use pandas.concat instead.\n",
      "  big_data = big_data.append(d, ignore_index=True)\n",
      "C:\\Users\\skhan\\AppData\\Local\\Temp/ipykernel_308204/2803701148.py:47: FutureWarning: The frame.append method is deprecated and will be removed from pandas in a future version. Use pandas.concat instead.\n",
      "  big_data = big_data.append(d, ignore_index=True)\n",
      "C:\\Users\\skhan\\AppData\\Local\\Temp/ipykernel_308204/2803701148.py:47: FutureWarning: The frame.append method is deprecated and will be removed from pandas in a future version. Use pandas.concat instead.\n",
      "  big_data = big_data.append(d, ignore_index=True)\n",
      "C:\\Users\\skhan\\AppData\\Local\\Temp/ipykernel_308204/2803701148.py:47: FutureWarning: The frame.append method is deprecated and will be removed from pandas in a future version. Use pandas.concat instead.\n",
      "  big_data = big_data.append(d, ignore_index=True)\n",
      "C:\\Users\\skhan\\AppData\\Local\\Temp/ipykernel_308204/2803701148.py:47: FutureWarning: The frame.append method is deprecated and will be removed from pandas in a future version. Use pandas.concat instead.\n",
      "  big_data = big_data.append(d, ignore_index=True)\n",
      "C:\\Users\\skhan\\AppData\\Local\\Temp/ipykernel_308204/2803701148.py:47: FutureWarning: The frame.append method is deprecated and will be removed from pandas in a future version. Use pandas.concat instead.\n",
      "  big_data = big_data.append(d, ignore_index=True)\n",
      "C:\\Users\\skhan\\AppData\\Local\\Temp/ipykernel_308204/2803701148.py:47: FutureWarning: The frame.append method is deprecated and will be removed from pandas in a future version. Use pandas.concat instead.\n",
      "  big_data = big_data.append(d, ignore_index=True)\n",
      "C:\\Users\\skhan\\AppData\\Local\\Temp/ipykernel_308204/2803701148.py:47: FutureWarning: The frame.append method is deprecated and will be removed from pandas in a future version. Use pandas.concat instead.\n",
      "  big_data = big_data.append(d, ignore_index=True)\n",
      "C:\\Users\\skhan\\AppData\\Local\\Temp/ipykernel_308204/2803701148.py:47: FutureWarning: The frame.append method is deprecated and will be removed from pandas in a future version. Use pandas.concat instead.\n",
      "  big_data = big_data.append(d, ignore_index=True)\n",
      "C:\\Users\\skhan\\AppData\\Local\\Temp/ipykernel_308204/2803701148.py:47: FutureWarning: The frame.append method is deprecated and will be removed from pandas in a future version. Use pandas.concat instead.\n",
      "  big_data = big_data.append(d, ignore_index=True)\n",
      "C:\\Users\\skhan\\AppData\\Local\\Temp/ipykernel_308204/2803701148.py:47: FutureWarning: The frame.append method is deprecated and will be removed from pandas in a future version. Use pandas.concat instead.\n",
      "  big_data = big_data.append(d, ignore_index=True)\n",
      "C:\\Users\\skhan\\AppData\\Local\\Temp/ipykernel_308204/2803701148.py:47: FutureWarning: The frame.append method is deprecated and will be removed from pandas in a future version. Use pandas.concat instead.\n",
      "  big_data = big_data.append(d, ignore_index=True)\n",
      "C:\\Users\\skhan\\AppData\\Local\\Temp/ipykernel_308204/2803701148.py:47: FutureWarning: The frame.append method is deprecated and will be removed from pandas in a future version. Use pandas.concat instead.\n",
      "  big_data = big_data.append(d, ignore_index=True)\n",
      "C:\\Users\\skhan\\AppData\\Local\\Temp/ipykernel_308204/2803701148.py:47: FutureWarning: The frame.append method is deprecated and will be removed from pandas in a future version. Use pandas.concat instead.\n",
      "  big_data = big_data.append(d, ignore_index=True)\n",
      "C:\\Users\\skhan\\AppData\\Local\\Temp/ipykernel_308204/2803701148.py:47: FutureWarning: The frame.append method is deprecated and will be removed from pandas in a future version. Use pandas.concat instead.\n",
      "  big_data = big_data.append(d, ignore_index=True)\n",
      "C:\\Users\\skhan\\AppData\\Local\\Temp/ipykernel_308204/2803701148.py:47: FutureWarning: The frame.append method is deprecated and will be removed from pandas in a future version. Use pandas.concat instead.\n",
      "  big_data = big_data.append(d, ignore_index=True)\n",
      "C:\\Users\\skhan\\AppData\\Local\\Temp/ipykernel_308204/2803701148.py:47: FutureWarning: The frame.append method is deprecated and will be removed from pandas in a future version. Use pandas.concat instead.\n",
      "  big_data = big_data.append(d, ignore_index=True)\n",
      "C:\\Users\\skhan\\AppData\\Local\\Temp/ipykernel_308204/2803701148.py:47: FutureWarning: The frame.append method is deprecated and will be removed from pandas in a future version. Use pandas.concat instead.\n",
      "  big_data = big_data.append(d, ignore_index=True)\n",
      "C:\\Users\\skhan\\AppData\\Local\\Temp/ipykernel_308204/2803701148.py:47: FutureWarning: The frame.append method is deprecated and will be removed from pandas in a future version. Use pandas.concat instead.\n",
      "  big_data = big_data.append(d, ignore_index=True)\n",
      "C:\\Users\\skhan\\AppData\\Local\\Temp/ipykernel_308204/2803701148.py:47: FutureWarning: The frame.append method is deprecated and will be removed from pandas in a future version. Use pandas.concat instead.\n",
      "  big_data = big_data.append(d, ignore_index=True)\n",
      "C:\\Users\\skhan\\AppData\\Local\\Temp/ipykernel_308204/2803701148.py:47: FutureWarning: The frame.append method is deprecated and will be removed from pandas in a future version. Use pandas.concat instead.\n",
      "  big_data = big_data.append(d, ignore_index=True)\n",
      "C:\\Users\\skhan\\AppData\\Local\\Temp/ipykernel_308204/2803701148.py:47: FutureWarning: The frame.append method is deprecated and will be removed from pandas in a future version. Use pandas.concat instead.\n",
      "  big_data = big_data.append(d, ignore_index=True)\n",
      "C:\\Users\\skhan\\AppData\\Local\\Temp/ipykernel_308204/2803701148.py:47: FutureWarning: The frame.append method is deprecated and will be removed from pandas in a future version. Use pandas.concat instead.\n",
      "  big_data = big_data.append(d, ignore_index=True)\n",
      "C:\\Users\\skhan\\AppData\\Local\\Temp/ipykernel_308204/2803701148.py:47: FutureWarning: The frame.append method is deprecated and will be removed from pandas in a future version. Use pandas.concat instead.\n",
      "  big_data = big_data.append(d, ignore_index=True)\n",
      "C:\\Users\\skhan\\AppData\\Local\\Temp/ipykernel_308204/2803701148.py:47: FutureWarning: The frame.append method is deprecated and will be removed from pandas in a future version. Use pandas.concat instead.\n",
      "  big_data = big_data.append(d, ignore_index=True)\n",
      "C:\\Users\\skhan\\AppData\\Local\\Temp/ipykernel_308204/2803701148.py:47: FutureWarning: The frame.append method is deprecated and will be removed from pandas in a future version. Use pandas.concat instead.\n",
      "  big_data = big_data.append(d, ignore_index=True)\n",
      "C:\\Users\\skhan\\AppData\\Local\\Temp/ipykernel_308204/2803701148.py:47: FutureWarning: The frame.append method is deprecated and will be removed from pandas in a future version. Use pandas.concat instead.\n",
      "  big_data = big_data.append(d, ignore_index=True)\n",
      "C:\\Users\\skhan\\AppData\\Local\\Temp/ipykernel_308204/2803701148.py:47: FutureWarning: The frame.append method is deprecated and will be removed from pandas in a future version. Use pandas.concat instead.\n",
      "  big_data = big_data.append(d, ignore_index=True)\n",
      "C:\\Users\\skhan\\AppData\\Local\\Temp/ipykernel_308204/2803701148.py:47: FutureWarning: The frame.append method is deprecated and will be removed from pandas in a future version. Use pandas.concat instead.\n",
      "  big_data = big_data.append(d, ignore_index=True)\n",
      "C:\\Users\\skhan\\AppData\\Local\\Temp/ipykernel_308204/2803701148.py:47: FutureWarning: The frame.append method is deprecated and will be removed from pandas in a future version. Use pandas.concat instead.\n",
      "  big_data = big_data.append(d, ignore_index=True)\n",
      "C:\\Users\\skhan\\AppData\\Local\\Temp/ipykernel_308204/2803701148.py:47: FutureWarning: The frame.append method is deprecated and will be removed from pandas in a future version. Use pandas.concat instead.\n",
      "  big_data = big_data.append(d, ignore_index=True)\n",
      "C:\\Users\\skhan\\AppData\\Local\\Temp/ipykernel_308204/2803701148.py:47: FutureWarning: The frame.append method is deprecated and will be removed from pandas in a future version. Use pandas.concat instead.\n",
      "  big_data = big_data.append(d, ignore_index=True)\n",
      "C:\\Users\\skhan\\AppData\\Local\\Temp/ipykernel_308204/2803701148.py:47: FutureWarning: The frame.append method is deprecated and will be removed from pandas in a future version. Use pandas.concat instead.\n",
      "  big_data = big_data.append(d, ignore_index=True)\n",
      "C:\\Users\\skhan\\AppData\\Local\\Temp/ipykernel_308204/2803701148.py:47: FutureWarning: The frame.append method is deprecated and will be removed from pandas in a future version. Use pandas.concat instead.\n",
      "  big_data = big_data.append(d, ignore_index=True)\n",
      "C:\\Users\\skhan\\AppData\\Local\\Temp/ipykernel_308204/2803701148.py:47: FutureWarning: The frame.append method is deprecated and will be removed from pandas in a future version. Use pandas.concat instead.\n",
      "  big_data = big_data.append(d, ignore_index=True)\n",
      "C:\\Users\\skhan\\AppData\\Local\\Temp/ipykernel_308204/2803701148.py:47: FutureWarning: The frame.append method is deprecated and will be removed from pandas in a future version. Use pandas.concat instead.\n",
      "  big_data = big_data.append(d, ignore_index=True)\n",
      "C:\\Users\\skhan\\AppData\\Local\\Temp/ipykernel_308204/2803701148.py:47: FutureWarning: The frame.append method is deprecated and will be removed from pandas in a future version. Use pandas.concat instead.\n",
      "  big_data = big_data.append(d, ignore_index=True)\n",
      "C:\\Users\\skhan\\AppData\\Local\\Temp/ipykernel_308204/2803701148.py:47: FutureWarning: The frame.append method is deprecated and will be removed from pandas in a future version. Use pandas.concat instead.\n",
      "  big_data = big_data.append(d, ignore_index=True)\n",
      "C:\\Users\\skhan\\AppData\\Local\\Temp/ipykernel_308204/2803701148.py:47: FutureWarning: The frame.append method is deprecated and will be removed from pandas in a future version. Use pandas.concat instead.\n",
      "  big_data = big_data.append(d, ignore_index=True)\n",
      "C:\\Users\\skhan\\AppData\\Local\\Temp/ipykernel_308204/2803701148.py:47: FutureWarning: The frame.append method is deprecated and will be removed from pandas in a future version. Use pandas.concat instead.\n",
      "  big_data = big_data.append(d, ignore_index=True)\n",
      "C:\\Users\\skhan\\AppData\\Local\\Temp/ipykernel_308204/2803701148.py:47: FutureWarning: The frame.append method is deprecated and will be removed from pandas in a future version. Use pandas.concat instead.\n",
      "  big_data = big_data.append(d, ignore_index=True)\n",
      "C:\\Users\\skhan\\AppData\\Local\\Temp/ipykernel_308204/2803701148.py:47: FutureWarning: The frame.append method is deprecated and will be removed from pandas in a future version. Use pandas.concat instead.\n",
      "  big_data = big_data.append(d, ignore_index=True)\n",
      "C:\\Users\\skhan\\AppData\\Local\\Temp/ipykernel_308204/2803701148.py:47: FutureWarning: The frame.append method is deprecated and will be removed from pandas in a future version. Use pandas.concat instead.\n",
      "  big_data = big_data.append(d, ignore_index=True)\n",
      "C:\\Users\\skhan\\AppData\\Local\\Temp/ipykernel_308204/2803701148.py:47: FutureWarning: The frame.append method is deprecated and will be removed from pandas in a future version. Use pandas.concat instead.\n",
      "  big_data = big_data.append(d, ignore_index=True)\n",
      "C:\\Users\\skhan\\AppData\\Local\\Temp/ipykernel_308204/2803701148.py:47: FutureWarning: The frame.append method is deprecated and will be removed from pandas in a future version. Use pandas.concat instead.\n",
      "  big_data = big_data.append(d, ignore_index=True)\n",
      "C:\\Users\\skhan\\AppData\\Local\\Temp/ipykernel_308204/2803701148.py:47: FutureWarning: The frame.append method is deprecated and will be removed from pandas in a future version. Use pandas.concat instead.\n",
      "  big_data = big_data.append(d, ignore_index=True)\n",
      "C:\\Users\\skhan\\AppData\\Local\\Temp/ipykernel_308204/2803701148.py:47: FutureWarning: The frame.append method is deprecated and will be removed from pandas in a future version. Use pandas.concat instead.\n",
      "  big_data = big_data.append(d, ignore_index=True)\n",
      "C:\\Users\\skhan\\AppData\\Local\\Temp/ipykernel_308204/2803701148.py:47: FutureWarning: The frame.append method is deprecated and will be removed from pandas in a future version. Use pandas.concat instead.\n",
      "  big_data = big_data.append(d, ignore_index=True)\n",
      "C:\\Users\\skhan\\AppData\\Local\\Temp/ipykernel_308204/2803701148.py:47: FutureWarning: The frame.append method is deprecated and will be removed from pandas in a future version. Use pandas.concat instead.\n",
      "  big_data = big_data.append(d, ignore_index=True)\n",
      "C:\\Users\\skhan\\AppData\\Local\\Temp/ipykernel_308204/2803701148.py:47: FutureWarning: The frame.append method is deprecated and will be removed from pandas in a future version. Use pandas.concat instead.\n",
      "  big_data = big_data.append(d, ignore_index=True)\n",
      "C:\\Users\\skhan\\AppData\\Local\\Temp/ipykernel_308204/2803701148.py:47: FutureWarning: The frame.append method is deprecated and will be removed from pandas in a future version. Use pandas.concat instead.\n",
      "  big_data = big_data.append(d, ignore_index=True)\n",
      "C:\\Users\\skhan\\AppData\\Local\\Temp/ipykernel_308204/2803701148.py:47: FutureWarning: The frame.append method is deprecated and will be removed from pandas in a future version. Use pandas.concat instead.\n",
      "  big_data = big_data.append(d, ignore_index=True)\n",
      "C:\\Users\\skhan\\AppData\\Local\\Temp/ipykernel_308204/2803701148.py:47: FutureWarning: The frame.append method is deprecated and will be removed from pandas in a future version. Use pandas.concat instead.\n",
      "  big_data = big_data.append(d, ignore_index=True)\n",
      "C:\\Users\\skhan\\AppData\\Local\\Temp/ipykernel_308204/2803701148.py:47: FutureWarning: The frame.append method is deprecated and will be removed from pandas in a future version. Use pandas.concat instead.\n",
      "  big_data = big_data.append(d, ignore_index=True)\n",
      "C:\\Users\\skhan\\AppData\\Local\\Temp/ipykernel_308204/2803701148.py:47: FutureWarning: The frame.append method is deprecated and will be removed from pandas in a future version. Use pandas.concat instead.\n",
      "  big_data = big_data.append(d, ignore_index=True)\n",
      "C:\\Users\\skhan\\AppData\\Local\\Temp/ipykernel_308204/2803701148.py:47: FutureWarning: The frame.append method is deprecated and will be removed from pandas in a future version. Use pandas.concat instead.\n",
      "  big_data = big_data.append(d, ignore_index=True)\n",
      "C:\\Users\\skhan\\AppData\\Local\\Temp/ipykernel_308204/2803701148.py:47: FutureWarning: The frame.append method is deprecated and will be removed from pandas in a future version. Use pandas.concat instead.\n",
      "  big_data = big_data.append(d, ignore_index=True)\n",
      "C:\\Users\\skhan\\AppData\\Local\\Temp/ipykernel_308204/2803701148.py:47: FutureWarning: The frame.append method is deprecated and will be removed from pandas in a future version. Use pandas.concat instead.\n",
      "  big_data = big_data.append(d, ignore_index=True)\n",
      "C:\\Users\\skhan\\AppData\\Local\\Temp/ipykernel_308204/2803701148.py:47: FutureWarning: The frame.append method is deprecated and will be removed from pandas in a future version. Use pandas.concat instead.\n",
      "  big_data = big_data.append(d, ignore_index=True)\n",
      "C:\\Users\\skhan\\AppData\\Local\\Temp/ipykernel_308204/2803701148.py:47: FutureWarning: The frame.append method is deprecated and will be removed from pandas in a future version. Use pandas.concat instead.\n",
      "  big_data = big_data.append(d, ignore_index=True)\n",
      "C:\\Users\\skhan\\AppData\\Local\\Temp/ipykernel_308204/2803701148.py:47: FutureWarning: The frame.append method is deprecated and will be removed from pandas in a future version. Use pandas.concat instead.\n",
      "  big_data = big_data.append(d, ignore_index=True)\n",
      "C:\\Users\\skhan\\AppData\\Local\\Temp/ipykernel_308204/2803701148.py:47: FutureWarning: The frame.append method is deprecated and will be removed from pandas in a future version. Use pandas.concat instead.\n",
      "  big_data = big_data.append(d, ignore_index=True)\n",
      "C:\\Users\\skhan\\AppData\\Local\\Temp/ipykernel_308204/2803701148.py:47: FutureWarning: The frame.append method is deprecated and will be removed from pandas in a future version. Use pandas.concat instead.\n",
      "  big_data = big_data.append(d, ignore_index=True)\n",
      "C:\\Users\\skhan\\AppData\\Local\\Temp/ipykernel_308204/2803701148.py:47: FutureWarning: The frame.append method is deprecated and will be removed from pandas in a future version. Use pandas.concat instead.\n",
      "  big_data = big_data.append(d, ignore_index=True)\n",
      "C:\\Users\\skhan\\AppData\\Local\\Temp/ipykernel_308204/2803701148.py:47: FutureWarning: The frame.append method is deprecated and will be removed from pandas in a future version. Use pandas.concat instead.\n",
      "  big_data = big_data.append(d, ignore_index=True)\n",
      "C:\\Users\\skhan\\AppData\\Local\\Temp/ipykernel_308204/2803701148.py:47: FutureWarning: The frame.append method is deprecated and will be removed from pandas in a future version. Use pandas.concat instead.\n",
      "  big_data = big_data.append(d, ignore_index=True)\n",
      "C:\\Users\\skhan\\AppData\\Local\\Temp/ipykernel_308204/2803701148.py:47: FutureWarning: The frame.append method is deprecated and will be removed from pandas in a future version. Use pandas.concat instead.\n",
      "  big_data = big_data.append(d, ignore_index=True)\n",
      "C:\\Users\\skhan\\AppData\\Local\\Temp/ipykernel_308204/2803701148.py:47: FutureWarning: The frame.append method is deprecated and will be removed from pandas in a future version. Use pandas.concat instead.\n",
      "  big_data = big_data.append(d, ignore_index=True)\n",
      "C:\\Users\\skhan\\AppData\\Local\\Temp/ipykernel_308204/2803701148.py:47: FutureWarning: The frame.append method is deprecated and will be removed from pandas in a future version. Use pandas.concat instead.\n",
      "  big_data = big_data.append(d, ignore_index=True)\n",
      "C:\\Users\\skhan\\AppData\\Local\\Temp/ipykernel_308204/2803701148.py:47: FutureWarning: The frame.append method is deprecated and will be removed from pandas in a future version. Use pandas.concat instead.\n",
      "  big_data = big_data.append(d, ignore_index=True)\n",
      "C:\\Users\\skhan\\AppData\\Local\\Temp/ipykernel_308204/2803701148.py:47: FutureWarning: The frame.append method is deprecated and will be removed from pandas in a future version. Use pandas.concat instead.\n",
      "  big_data = big_data.append(d, ignore_index=True)\n",
      "C:\\Users\\skhan\\AppData\\Local\\Temp/ipykernel_308204/2803701148.py:47: FutureWarning: The frame.append method is deprecated and will be removed from pandas in a future version. Use pandas.concat instead.\n",
      "  big_data = big_data.append(d, ignore_index=True)\n",
      "C:\\Users\\skhan\\AppData\\Local\\Temp/ipykernel_308204/2803701148.py:47: FutureWarning: The frame.append method is deprecated and will be removed from pandas in a future version. Use pandas.concat instead.\n",
      "  big_data = big_data.append(d, ignore_index=True)\n",
      "C:\\Users\\skhan\\AppData\\Local\\Temp/ipykernel_308204/2803701148.py:47: FutureWarning: The frame.append method is deprecated and will be removed from pandas in a future version. Use pandas.concat instead.\n",
      "  big_data = big_data.append(d, ignore_index=True)\n",
      "C:\\Users\\skhan\\AppData\\Local\\Temp/ipykernel_308204/2803701148.py:47: FutureWarning: The frame.append method is deprecated and will be removed from pandas in a future version. Use pandas.concat instead.\n",
      "  big_data = big_data.append(d, ignore_index=True)\n",
      "C:\\Users\\skhan\\AppData\\Local\\Temp/ipykernel_308204/2803701148.py:47: FutureWarning: The frame.append method is deprecated and will be removed from pandas in a future version. Use pandas.concat instead.\n",
      "  big_data = big_data.append(d, ignore_index=True)\n",
      "C:\\Users\\skhan\\AppData\\Local\\Temp/ipykernel_308204/2803701148.py:47: FutureWarning: The frame.append method is deprecated and will be removed from pandas in a future version. Use pandas.concat instead.\n",
      "  big_data = big_data.append(d, ignore_index=True)\n",
      "C:\\Users\\skhan\\AppData\\Local\\Temp/ipykernel_308204/2803701148.py:47: FutureWarning: The frame.append method is deprecated and will be removed from pandas in a future version. Use pandas.concat instead.\n",
      "  big_data = big_data.append(d, ignore_index=True)\n",
      "C:\\Users\\skhan\\AppData\\Local\\Temp/ipykernel_308204/2803701148.py:47: FutureWarning: The frame.append method is deprecated and will be removed from pandas in a future version. Use pandas.concat instead.\n",
      "  big_data = big_data.append(d, ignore_index=True)\n",
      "C:\\Users\\skhan\\AppData\\Local\\Temp/ipykernel_308204/2803701148.py:47: FutureWarning: The frame.append method is deprecated and will be removed from pandas in a future version. Use pandas.concat instead.\n",
      "  big_data = big_data.append(d, ignore_index=True)\n",
      "C:\\Users\\skhan\\AppData\\Local\\Temp/ipykernel_308204/2803701148.py:47: FutureWarning: The frame.append method is deprecated and will be removed from pandas in a future version. Use pandas.concat instead.\n",
      "  big_data = big_data.append(d, ignore_index=True)\n",
      "C:\\Users\\skhan\\AppData\\Local\\Temp/ipykernel_308204/2803701148.py:47: FutureWarning: The frame.append method is deprecated and will be removed from pandas in a future version. Use pandas.concat instead.\n",
      "  big_data = big_data.append(d, ignore_index=True)\n",
      "C:\\Users\\skhan\\AppData\\Local\\Temp/ipykernel_308204/2803701148.py:47: FutureWarning: The frame.append method is deprecated and will be removed from pandas in a future version. Use pandas.concat instead.\n",
      "  big_data = big_data.append(d, ignore_index=True)\n",
      "C:\\Users\\skhan\\AppData\\Local\\Temp/ipykernel_308204/2803701148.py:47: FutureWarning: The frame.append method is deprecated and will be removed from pandas in a future version. Use pandas.concat instead.\n",
      "  big_data = big_data.append(d, ignore_index=True)\n",
      "C:\\Users\\skhan\\AppData\\Local\\Temp/ipykernel_308204/2803701148.py:47: FutureWarning: The frame.append method is deprecated and will be removed from pandas in a future version. Use pandas.concat instead.\n",
      "  big_data = big_data.append(d, ignore_index=True)\n",
      "C:\\Users\\skhan\\AppData\\Local\\Temp/ipykernel_308204/2803701148.py:47: FutureWarning: The frame.append method is deprecated and will be removed from pandas in a future version. Use pandas.concat instead.\n",
      "  big_data = big_data.append(d, ignore_index=True)\n",
      "C:\\Users\\skhan\\AppData\\Local\\Temp/ipykernel_308204/2803701148.py:47: FutureWarning: The frame.append method is deprecated and will be removed from pandas in a future version. Use pandas.concat instead.\n",
      "  big_data = big_data.append(d, ignore_index=True)\n",
      "C:\\Users\\skhan\\AppData\\Local\\Temp/ipykernel_308204/2803701148.py:47: FutureWarning: The frame.append method is deprecated and will be removed from pandas in a future version. Use pandas.concat instead.\n",
      "  big_data = big_data.append(d, ignore_index=True)\n",
      "C:\\Users\\skhan\\AppData\\Local\\Temp/ipykernel_308204/2803701148.py:47: FutureWarning: The frame.append method is deprecated and will be removed from pandas in a future version. Use pandas.concat instead.\n",
      "  big_data = big_data.append(d, ignore_index=True)\n",
      "C:\\Users\\skhan\\AppData\\Local\\Temp/ipykernel_308204/2803701148.py:47: FutureWarning: The frame.append method is deprecated and will be removed from pandas in a future version. Use pandas.concat instead.\n",
      "  big_data = big_data.append(d, ignore_index=True)\n",
      "C:\\Users\\skhan\\AppData\\Local\\Temp/ipykernel_308204/2803701148.py:47: FutureWarning: The frame.append method is deprecated and will be removed from pandas in a future version. Use pandas.concat instead.\n",
      "  big_data = big_data.append(d, ignore_index=True)\n",
      "C:\\Users\\skhan\\AppData\\Local\\Temp/ipykernel_308204/2803701148.py:47: FutureWarning: The frame.append method is deprecated and will be removed from pandas in a future version. Use pandas.concat instead.\n",
      "  big_data = big_data.append(d, ignore_index=True)\n",
      "C:\\Users\\skhan\\AppData\\Local\\Temp/ipykernel_308204/2803701148.py:47: FutureWarning: The frame.append method is deprecated and will be removed from pandas in a future version. Use pandas.concat instead.\n",
      "  big_data = big_data.append(d, ignore_index=True)\n",
      "C:\\Users\\skhan\\AppData\\Local\\Temp/ipykernel_308204/2803701148.py:47: FutureWarning: The frame.append method is deprecated and will be removed from pandas in a future version. Use pandas.concat instead.\n",
      "  big_data = big_data.append(d, ignore_index=True)\n",
      "C:\\Users\\skhan\\AppData\\Local\\Temp/ipykernel_308204/2803701148.py:47: FutureWarning: The frame.append method is deprecated and will be removed from pandas in a future version. Use pandas.concat instead.\n",
      "  big_data = big_data.append(d, ignore_index=True)\n",
      "C:\\Users\\skhan\\AppData\\Local\\Temp/ipykernel_308204/2803701148.py:47: FutureWarning: The frame.append method is deprecated and will be removed from pandas in a future version. Use pandas.concat instead.\n",
      "  big_data = big_data.append(d, ignore_index=True)\n",
      "C:\\Users\\skhan\\AppData\\Local\\Temp/ipykernel_308204/2803701148.py:47: FutureWarning: The frame.append method is deprecated and will be removed from pandas in a future version. Use pandas.concat instead.\n",
      "  big_data = big_data.append(d, ignore_index=True)\n",
      "C:\\Users\\skhan\\AppData\\Local\\Temp/ipykernel_308204/2803701148.py:47: FutureWarning: The frame.append method is deprecated and will be removed from pandas in a future version. Use pandas.concat instead.\n",
      "  big_data = big_data.append(d, ignore_index=True)\n",
      "C:\\Users\\skhan\\AppData\\Local\\Temp/ipykernel_308204/2803701148.py:47: FutureWarning: The frame.append method is deprecated and will be removed from pandas in a future version. Use pandas.concat instead.\n",
      "  big_data = big_data.append(d, ignore_index=True)\n",
      "C:\\Users\\skhan\\AppData\\Local\\Temp/ipykernel_308204/2803701148.py:47: FutureWarning: The frame.append method is deprecated and will be removed from pandas in a future version. Use pandas.concat instead.\n",
      "  big_data = big_data.append(d, ignore_index=True)\n"
     ]
    },
    {
     "data": {
      "text/plain": "                                                  file    v            s  \\\n0    \\1000XECUSDT\\plots\\2022-03-15T184506\\backtest_...  5.5  1000XECUSDT   \n1    \\1000XECUSDT\\plots\\2022-03-16T132802\\backtest_...  5.5  1000XECUSDT   \n2    \\1INCHUSDT\\plots\\2022-03-16T133853\\backtest_re...  5.5    1INCHUSDT   \n3    \\AAVEUSDT\\plots\\2022-03-14T073611\\backtest_res...  5.5     AAVEUSDT   \n4    \\ADAUSDT\\plots\\2022-03-16T140203\\backtest_resu...  5.5      ADAUSDT   \n..                                                 ...  ...          ...   \n106  \\XMRUSDT\\plots\\2022-03-17T010158\\backtest_resu...  5.5      XMRUSDT   \n107  \\XRPUSDT\\plots\\2022-03-17T012439\\backtest_resu...  5.5      XRPUSDT   \n108  \\ZENUSDT\\plots\\2022-03-17T013136\\backtest_resu...  5.5      ZENUSDT   \n109  \\ZILUSDT\\plots\\2022-03-17T013628\\backtest_resu...  5.5      ZILUSDT   \n110  \\ZRXUSDT\\plots\\2022-03-17T014113\\backtest_resu...  5.5      ZRXUSDT   \n\n     long   tgl_%   adgl_%  bnkrl_%    ebrl  short   tgs_%  adgs_%  bnkrs_%  \\\n0    True  13.140  0.06520  100.000  0.9340   True  29.910  0.1540    100.0   \n1    True  13.410  0.06740  100.000  0.9340   True  30.410  0.1440    100.0   \n2    True   2.589  0.00706  100.000  0.8369   True  26.760  0.0778    100.0   \n3    True -11.590 -0.05940  100.000  0.7649   True  54.850  0.2140    100.0   \n4    True  15.100  0.04030  100.000  0.9334   True   9.646  0.0328    100.0   \n..    ...     ...      ...      ...     ...    ...     ...     ...      ...   \n106  True  -5.669 -0.01580  100.000  0.8927   True  13.050  0.0365    100.0   \n107  True -59.890 -1.44000    5.992  0.6186   True  15.470  0.0497    100.0   \n108  True  13.990  0.03850  100.000  0.8480   True  31.140  0.0897    100.0   \n109  True  -9.182 -0.03070  100.000  0.8849   True  17.220  0.0519    100.0   \n110  True   7.663  0.02120  100.000  0.9001   True  10.930  0.0355    100.0   \n\n       ebrs  \n0    0.9526  \n1    0.9526  \n2    0.7473  \n3    0.7848  \n4    0.8184  \n..      ...  \n106  0.9039  \n107  0.8121  \n108  0.8627  \n109  0.8273  \n110  0.8478  \n\n[111 rows x 13 columns]",
      "text/html": "<div>\n<style scoped>\n    .dataframe tbody tr th:only-of-type {\n        vertical-align: middle;\n    }\n\n    .dataframe tbody tr th {\n        vertical-align: top;\n    }\n\n    .dataframe thead th {\n        text-align: right;\n    }\n</style>\n<table border=\"1\" class=\"dataframe\">\n  <thead>\n    <tr style=\"text-align: right;\">\n      <th></th>\n      <th>file</th>\n      <th>v</th>\n      <th>s</th>\n      <th>long</th>\n      <th>tgl_%</th>\n      <th>adgl_%</th>\n      <th>bnkrl_%</th>\n      <th>ebrl</th>\n      <th>short</th>\n      <th>tgs_%</th>\n      <th>adgs_%</th>\n      <th>bnkrs_%</th>\n      <th>ebrs</th>\n    </tr>\n  </thead>\n  <tbody>\n    <tr>\n      <th>0</th>\n      <td>\\1000XECUSDT\\plots\\2022-03-15T184506\\backtest_...</td>\n      <td>5.5</td>\n      <td>1000XECUSDT</td>\n      <td>True</td>\n      <td>13.140</td>\n      <td>0.06520</td>\n      <td>100.000</td>\n      <td>0.9340</td>\n      <td>True</td>\n      <td>29.910</td>\n      <td>0.1540</td>\n      <td>100.0</td>\n      <td>0.9526</td>\n    </tr>\n    <tr>\n      <th>1</th>\n      <td>\\1000XECUSDT\\plots\\2022-03-16T132802\\backtest_...</td>\n      <td>5.5</td>\n      <td>1000XECUSDT</td>\n      <td>True</td>\n      <td>13.410</td>\n      <td>0.06740</td>\n      <td>100.000</td>\n      <td>0.9340</td>\n      <td>True</td>\n      <td>30.410</td>\n      <td>0.1440</td>\n      <td>100.0</td>\n      <td>0.9526</td>\n    </tr>\n    <tr>\n      <th>2</th>\n      <td>\\1INCHUSDT\\plots\\2022-03-16T133853\\backtest_re...</td>\n      <td>5.5</td>\n      <td>1INCHUSDT</td>\n      <td>True</td>\n      <td>2.589</td>\n      <td>0.00706</td>\n      <td>100.000</td>\n      <td>0.8369</td>\n      <td>True</td>\n      <td>26.760</td>\n      <td>0.0778</td>\n      <td>100.0</td>\n      <td>0.7473</td>\n    </tr>\n    <tr>\n      <th>3</th>\n      <td>\\AAVEUSDT\\plots\\2022-03-14T073611\\backtest_res...</td>\n      <td>5.5</td>\n      <td>AAVEUSDT</td>\n      <td>True</td>\n      <td>-11.590</td>\n      <td>-0.05940</td>\n      <td>100.000</td>\n      <td>0.7649</td>\n      <td>True</td>\n      <td>54.850</td>\n      <td>0.2140</td>\n      <td>100.0</td>\n      <td>0.7848</td>\n    </tr>\n    <tr>\n      <th>4</th>\n      <td>\\ADAUSDT\\plots\\2022-03-16T140203\\backtest_resu...</td>\n      <td>5.5</td>\n      <td>ADAUSDT</td>\n      <td>True</td>\n      <td>15.100</td>\n      <td>0.04030</td>\n      <td>100.000</td>\n      <td>0.9334</td>\n      <td>True</td>\n      <td>9.646</td>\n      <td>0.0328</td>\n      <td>100.0</td>\n      <td>0.8184</td>\n    </tr>\n    <tr>\n      <th>...</th>\n      <td>...</td>\n      <td>...</td>\n      <td>...</td>\n      <td>...</td>\n      <td>...</td>\n      <td>...</td>\n      <td>...</td>\n      <td>...</td>\n      <td>...</td>\n      <td>...</td>\n      <td>...</td>\n      <td>...</td>\n      <td>...</td>\n    </tr>\n    <tr>\n      <th>106</th>\n      <td>\\XMRUSDT\\plots\\2022-03-17T010158\\backtest_resu...</td>\n      <td>5.5</td>\n      <td>XMRUSDT</td>\n      <td>True</td>\n      <td>-5.669</td>\n      <td>-0.01580</td>\n      <td>100.000</td>\n      <td>0.8927</td>\n      <td>True</td>\n      <td>13.050</td>\n      <td>0.0365</td>\n      <td>100.0</td>\n      <td>0.9039</td>\n    </tr>\n    <tr>\n      <th>107</th>\n      <td>\\XRPUSDT\\plots\\2022-03-17T012439\\backtest_resu...</td>\n      <td>5.5</td>\n      <td>XRPUSDT</td>\n      <td>True</td>\n      <td>-59.890</td>\n      <td>-1.44000</td>\n      <td>5.992</td>\n      <td>0.6186</td>\n      <td>True</td>\n      <td>15.470</td>\n      <td>0.0497</td>\n      <td>100.0</td>\n      <td>0.8121</td>\n    </tr>\n    <tr>\n      <th>108</th>\n      <td>\\ZENUSDT\\plots\\2022-03-17T013136\\backtest_resu...</td>\n      <td>5.5</td>\n      <td>ZENUSDT</td>\n      <td>True</td>\n      <td>13.990</td>\n      <td>0.03850</td>\n      <td>100.000</td>\n      <td>0.8480</td>\n      <td>True</td>\n      <td>31.140</td>\n      <td>0.0897</td>\n      <td>100.0</td>\n      <td>0.8627</td>\n    </tr>\n    <tr>\n      <th>109</th>\n      <td>\\ZILUSDT\\plots\\2022-03-17T013628\\backtest_resu...</td>\n      <td>5.5</td>\n      <td>ZILUSDT</td>\n      <td>True</td>\n      <td>-9.182</td>\n      <td>-0.03070</td>\n      <td>100.000</td>\n      <td>0.8849</td>\n      <td>True</td>\n      <td>17.220</td>\n      <td>0.0519</td>\n      <td>100.0</td>\n      <td>0.8273</td>\n    </tr>\n    <tr>\n      <th>110</th>\n      <td>\\ZRXUSDT\\plots\\2022-03-17T014113\\backtest_resu...</td>\n      <td>5.5</td>\n      <td>ZRXUSDT</td>\n      <td>True</td>\n      <td>7.663</td>\n      <td>0.02120</td>\n      <td>100.000</td>\n      <td>0.9001</td>\n      <td>True</td>\n      <td>10.930</td>\n      <td>0.0355</td>\n      <td>100.0</td>\n      <td>0.8478</td>\n    </tr>\n  </tbody>\n</table>\n<p>111 rows × 13 columns</p>\n</div>"
     },
     "execution_count": 4,
     "metadata": {},
     "output_type": "execute_result"
    }
   ],
   "source": [
    "big_data = pd.DataFrame()\n",
    "files = glob.iglob('backtests/binance/' + '**/backtest_result.txt', recursive=True)\n",
    "i = 0\n",
    "for filename in files:\n",
    "    #print(f'parsing : {filename}')\n",
    "    with open(filename, 'r') as file:\n",
    "        data = file.read().split('\\n')\n",
    "        d = {'file': filename.replace('backtests/binance','')}\n",
    "        current_state = 'long'\n",
    "        for l in data:\n",
    "            l = l.split('|')\n",
    "            if len(l) == 4:\n",
    "                key = l[1].strip()\n",
    "                value = l[2].strip()\n",
    "\n",
    "                if key == 'Passivbot Version':\n",
    "                    d['v'] = value\n",
    "                if key == 'Symbol':\n",
    "                    d['s'] = value\n",
    "\n",
    "                if key == 'Long':\n",
    "                    current_state = 'long'\n",
    "                    d['long'] = bool(value) or False\n",
    "                if key == 'Short':\n",
    "                    current_state = 'short'\n",
    "                    d['short'] = bool(value) or False\n",
    "\n",
    "                if key == 'Total gain' and current_state == 'long':\n",
    "                    d['tgl_%'] = float(value.replace('%', '').strip())\n",
    "                if key == 'Average daily gain' and current_state == 'long':\n",
    "                    d['adgl_%'] = float(value.replace('%', '').strip())\n",
    "                if key == 'Closest bankruptcy' and current_state == 'long':\n",
    "                    d['bnkrl_%'] = float(value.replace('%', '').strip())\n",
    "                if key == 'Lowest equity/balance ratio' and current_state == 'long':\n",
    "                    d['ebrl'] = float(value.replace('%', '').strip())\n",
    "\n",
    "                if key == 'Total gain' and current_state == 'short':\n",
    "                    d['tgs_%'] = float(value.replace('%', '').strip())\n",
    "                if key == 'Average daily gain' and current_state == 'short':\n",
    "                    d['adgs_%'] = float(value.replace('%', '').strip())\n",
    "                if key == 'Closest bankruptcy' and current_state == 'short':\n",
    "                    d['bnkrs_%'] = float(value.replace('%', '').strip())\n",
    "                if key == 'Lowest equity/balance ratio' and current_state == 'short':\n",
    "                    d['ebrs'] = float(value.replace('%', '').strip())\n",
    "\n",
    "        #d['adgt_%'] = d['adgl_%']+d['adgs_%']\n",
    "        big_data = big_data.append(d, ignore_index=True)\n",
    "\n",
    "big_data"
   ]
  },
  {
   "cell_type": "markdown",
   "metadata": {},
   "source": [
    "Now filter the dataframe"
   ]
  },
  {
   "cell_type": "code",
   "execution_count": 5,
   "metadata": {
    "pycharm": {
     "name": "#%%\n"
    }
   },
   "outputs": [
    {
     "data": {
      "text/plain": "                                                  file    v            s  \\\n0    \\1000XECUSDT\\plots\\2022-03-15T184506\\backtest_...  5.5  1000XECUSDT   \n1    \\1000XECUSDT\\plots\\2022-03-16T132802\\backtest_...  5.5  1000XECUSDT   \n2    \\1INCHUSDT\\plots\\2022-03-16T133853\\backtest_re...  5.5    1INCHUSDT   \n4    \\ADAUSDT\\plots\\2022-03-16T140203\\backtest_resu...  5.5      ADAUSDT   \n5    \\AKROUSDT\\plots\\2022-03-07T074200\\backtest_res...  5.5     AKROUSDT   \n..                                                 ...  ...          ...   \n106  \\XMRUSDT\\plots\\2022-03-17T010158\\backtest_resu...  5.5      XMRUSDT   \n107  \\XRPUSDT\\plots\\2022-03-17T012439\\backtest_resu...  5.5      XRPUSDT   \n108  \\ZENUSDT\\plots\\2022-03-17T013136\\backtest_resu...  5.5      ZENUSDT   \n109  \\ZILUSDT\\plots\\2022-03-17T013628\\backtest_resu...  5.5      ZILUSDT   \n110  \\ZRXUSDT\\plots\\2022-03-17T014113\\backtest_resu...  5.5      ZRXUSDT   \n\n     long   tgl_%   adgl_%  bnkrl_%    ebrl  short   tgs_%  adgs_%  bnkrs_%  \\\n0    True  13.140  0.06520  100.000  0.9340   True  29.910  0.1540    100.0   \n1    True  13.410  0.06740  100.000  0.9340   True  30.410  0.1440    100.0   \n2    True   2.589  0.00706  100.000  0.8369   True  26.760  0.0778    100.0   \n4    True  15.100  0.04030  100.000  0.9334   True   9.646  0.0328    100.0   \n5    True  17.780  0.07660  100.000  0.9507   True  19.350  0.0738    100.0   \n..    ...     ...      ...      ...     ...    ...     ...     ...      ...   \n106  True  -5.669 -0.01580  100.000  0.8927   True  13.050  0.0365    100.0   \n107  True -59.890 -1.44000    5.992  0.6186   True  15.470  0.0497    100.0   \n108  True  13.990  0.03850  100.000  0.8480   True  31.140  0.0897    100.0   \n109  True  -9.182 -0.03070  100.000  0.8849   True  17.220  0.0519    100.0   \n110  True   7.663  0.02120  100.000  0.9001   True  10.930  0.0355    100.0   \n\n       ebrs   adgt_%  \n0    0.9526  0.21920  \n1    0.9526  0.21140  \n2    0.7473  0.08486  \n4    0.8184  0.07310  \n5    0.9633  0.15040  \n..      ...      ...  \n106  0.9039  0.02070  \n107  0.8121 -1.39030  \n108  0.8627  0.12820  \n109  0.8273  0.02120  \n110  0.8478  0.05670  \n\n[104 rows x 14 columns]",
      "text/html": "<div>\n<style scoped>\n    .dataframe tbody tr th:only-of-type {\n        vertical-align: middle;\n    }\n\n    .dataframe tbody tr th {\n        vertical-align: top;\n    }\n\n    .dataframe thead th {\n        text-align: right;\n    }\n</style>\n<table border=\"1\" class=\"dataframe\">\n  <thead>\n    <tr style=\"text-align: right;\">\n      <th></th>\n      <th>file</th>\n      <th>v</th>\n      <th>s</th>\n      <th>long</th>\n      <th>tgl_%</th>\n      <th>adgl_%</th>\n      <th>bnkrl_%</th>\n      <th>ebrl</th>\n      <th>short</th>\n      <th>tgs_%</th>\n      <th>adgs_%</th>\n      <th>bnkrs_%</th>\n      <th>ebrs</th>\n      <th>adgt_%</th>\n    </tr>\n  </thead>\n  <tbody>\n    <tr>\n      <th>0</th>\n      <td>\\1000XECUSDT\\plots\\2022-03-15T184506\\backtest_...</td>\n      <td>5.5</td>\n      <td>1000XECUSDT</td>\n      <td>True</td>\n      <td>13.140</td>\n      <td>0.06520</td>\n      <td>100.000</td>\n      <td>0.9340</td>\n      <td>True</td>\n      <td>29.910</td>\n      <td>0.1540</td>\n      <td>100.0</td>\n      <td>0.9526</td>\n      <td>0.21920</td>\n    </tr>\n    <tr>\n      <th>1</th>\n      <td>\\1000XECUSDT\\plots\\2022-03-16T132802\\backtest_...</td>\n      <td>5.5</td>\n      <td>1000XECUSDT</td>\n      <td>True</td>\n      <td>13.410</td>\n      <td>0.06740</td>\n      <td>100.000</td>\n      <td>0.9340</td>\n      <td>True</td>\n      <td>30.410</td>\n      <td>0.1440</td>\n      <td>100.0</td>\n      <td>0.9526</td>\n      <td>0.21140</td>\n    </tr>\n    <tr>\n      <th>2</th>\n      <td>\\1INCHUSDT\\plots\\2022-03-16T133853\\backtest_re...</td>\n      <td>5.5</td>\n      <td>1INCHUSDT</td>\n      <td>True</td>\n      <td>2.589</td>\n      <td>0.00706</td>\n      <td>100.000</td>\n      <td>0.8369</td>\n      <td>True</td>\n      <td>26.760</td>\n      <td>0.0778</td>\n      <td>100.0</td>\n      <td>0.7473</td>\n      <td>0.08486</td>\n    </tr>\n    <tr>\n      <th>4</th>\n      <td>\\ADAUSDT\\plots\\2022-03-16T140203\\backtest_resu...</td>\n      <td>5.5</td>\n      <td>ADAUSDT</td>\n      <td>True</td>\n      <td>15.100</td>\n      <td>0.04030</td>\n      <td>100.000</td>\n      <td>0.9334</td>\n      <td>True</td>\n      <td>9.646</td>\n      <td>0.0328</td>\n      <td>100.0</td>\n      <td>0.8184</td>\n      <td>0.07310</td>\n    </tr>\n    <tr>\n      <th>5</th>\n      <td>\\AKROUSDT\\plots\\2022-03-07T074200\\backtest_res...</td>\n      <td>5.5</td>\n      <td>AKROUSDT</td>\n      <td>True</td>\n      <td>17.780</td>\n      <td>0.07660</td>\n      <td>100.000</td>\n      <td>0.9507</td>\n      <td>True</td>\n      <td>19.350</td>\n      <td>0.0738</td>\n      <td>100.0</td>\n      <td>0.9633</td>\n      <td>0.15040</td>\n    </tr>\n    <tr>\n      <th>...</th>\n      <td>...</td>\n      <td>...</td>\n      <td>...</td>\n      <td>...</td>\n      <td>...</td>\n      <td>...</td>\n      <td>...</td>\n      <td>...</td>\n      <td>...</td>\n      <td>...</td>\n      <td>...</td>\n      <td>...</td>\n      <td>...</td>\n      <td>...</td>\n    </tr>\n    <tr>\n      <th>106</th>\n      <td>\\XMRUSDT\\plots\\2022-03-17T010158\\backtest_resu...</td>\n      <td>5.5</td>\n      <td>XMRUSDT</td>\n      <td>True</td>\n      <td>-5.669</td>\n      <td>-0.01580</td>\n      <td>100.000</td>\n      <td>0.8927</td>\n      <td>True</td>\n      <td>13.050</td>\n      <td>0.0365</td>\n      <td>100.0</td>\n      <td>0.9039</td>\n      <td>0.02070</td>\n    </tr>\n    <tr>\n      <th>107</th>\n      <td>\\XRPUSDT\\plots\\2022-03-17T012439\\backtest_resu...</td>\n      <td>5.5</td>\n      <td>XRPUSDT</td>\n      <td>True</td>\n      <td>-59.890</td>\n      <td>-1.44000</td>\n      <td>5.992</td>\n      <td>0.6186</td>\n      <td>True</td>\n      <td>15.470</td>\n      <td>0.0497</td>\n      <td>100.0</td>\n      <td>0.8121</td>\n      <td>-1.39030</td>\n    </tr>\n    <tr>\n      <th>108</th>\n      <td>\\ZENUSDT\\plots\\2022-03-17T013136\\backtest_resu...</td>\n      <td>5.5</td>\n      <td>ZENUSDT</td>\n      <td>True</td>\n      <td>13.990</td>\n      <td>0.03850</td>\n      <td>100.000</td>\n      <td>0.8480</td>\n      <td>True</td>\n      <td>31.140</td>\n      <td>0.0897</td>\n      <td>100.0</td>\n      <td>0.8627</td>\n      <td>0.12820</td>\n    </tr>\n    <tr>\n      <th>109</th>\n      <td>\\ZILUSDT\\plots\\2022-03-17T013628\\backtest_resu...</td>\n      <td>5.5</td>\n      <td>ZILUSDT</td>\n      <td>True</td>\n      <td>-9.182</td>\n      <td>-0.03070</td>\n      <td>100.000</td>\n      <td>0.8849</td>\n      <td>True</td>\n      <td>17.220</td>\n      <td>0.0519</td>\n      <td>100.0</td>\n      <td>0.8273</td>\n      <td>0.02120</td>\n    </tr>\n    <tr>\n      <th>110</th>\n      <td>\\ZRXUSDT\\plots\\2022-03-17T014113\\backtest_resu...</td>\n      <td>5.5</td>\n      <td>ZRXUSDT</td>\n      <td>True</td>\n      <td>7.663</td>\n      <td>0.02120</td>\n      <td>100.000</td>\n      <td>0.9001</td>\n      <td>True</td>\n      <td>10.930</td>\n      <td>0.0355</td>\n      <td>100.0</td>\n      <td>0.8478</td>\n      <td>0.05670</td>\n    </tr>\n  </tbody>\n</table>\n<p>104 rows × 14 columns</p>\n</div>"
     },
     "execution_count": 5,
     "metadata": {},
     "output_type": "execute_result"
    }
   ],
   "source": [
    "big_data['adgt_%'] = big_data['adgl_%'] + big_data['adgs_%']\n",
    "df = big_data[(big_data.s.isin(allowed_symbols))\n",
    "              & (big_data['long'] == True)\n",
    "              & (big_data['short'] == True)\n",
    "              # & (big_data['adgt_%'] > 0.1)\n",
    "              # & (big_data['bnkrl_%'] > 95.0)\n",
    "              # & (big_data['bnkrs_%'] > 95.0)\n",
    "              # & (big_data['ebrs'] > .85)\n",
    "              # & (big_data['ebrl'] > .85)\n",
    "              & (big_data['v'] == '5.5')\n",
    "\n",
    "    # & (big_data['tg_%'] > 10)\n",
    "    # & (big_data['ebr'] > .85)\n",
    "              ]\n",
    "#df['total_adg'] = big_data['adgl_%'] + big_data['adgs_%']\n",
    "df"
   ]
  },
  {
   "cell_type": "code",
   "execution_count": 6,
   "metadata": {
    "pycharm": {
     "name": "#%%\n"
    }
   },
   "outputs": [
    {
     "name": "stderr",
     "output_type": "stream",
     "text": [
      "C:\\Users\\skhan\\AppData\\Local\\Temp/ipykernel_308204/2043545472.py:1: SettingWithCopyWarning: \n",
      "A value is trying to be set on a copy of a slice from a DataFrame\n",
      "\n",
      "See the caveats in the documentation: https://pandas.pydata.org/pandas-docs/stable/user_guide/indexing.html#returning-a-view-versus-a-copy\n",
      "  df.drop_duplicates(subset=['s', 'tgl_%','tgs_%','adgl_%','adgs_%','adgt_%', 'bnkrl_%', 'bnkrs_%', 'ebrl', 'ebrs', 'long', 'short'], keep='first',\n"
     ]
    },
    {
     "data": {
      "text/plain": "                                                  file            s   adgt_%  \\\n0    \\1000XECUSDT\\plots\\2022-03-15T184506\\backtest_...  1000XECUSDT  0.21920   \n1    \\1000XECUSDT\\plots\\2022-03-16T132802\\backtest_...  1000XECUSDT  0.21140   \n2    \\1INCHUSDT\\plots\\2022-03-16T133853\\backtest_re...    1INCHUSDT  0.08486   \n4    \\ADAUSDT\\plots\\2022-03-16T140203\\backtest_resu...      ADAUSDT  0.07310   \n5    \\AKROUSDT\\plots\\2022-03-07T074200\\backtest_res...     AKROUSDT  0.15040   \n..                                                 ...          ...      ...   \n106  \\XMRUSDT\\plots\\2022-03-17T010158\\backtest_resu...      XMRUSDT  0.02070   \n107  \\XRPUSDT\\plots\\2022-03-17T012439\\backtest_resu...      XRPUSDT -1.39030   \n108  \\ZENUSDT\\plots\\2022-03-17T013136\\backtest_resu...      ZENUSDT  0.12820   \n109  \\ZILUSDT\\plots\\2022-03-17T013628\\backtest_resu...      ZILUSDT  0.02120   \n110  \\ZRXUSDT\\plots\\2022-03-17T014113\\backtest_resu...      ZRXUSDT  0.05670   \n\n      adgl_%  adgs_%  bnkrl_%  bnkrs_%    ebrl    ebrs  \n0    0.06520  0.1540  100.000    100.0  0.9340  0.9526  \n1    0.06740  0.1440  100.000    100.0  0.9340  0.9526  \n2    0.00706  0.0778  100.000    100.0  0.8369  0.7473  \n4    0.04030  0.0328  100.000    100.0  0.9334  0.8184  \n5    0.07660  0.0738  100.000    100.0  0.9507  0.9633  \n..       ...     ...      ...      ...     ...     ...  \n106 -0.01580  0.0365  100.000    100.0  0.8927  0.9039  \n107 -1.44000  0.0497    5.992    100.0  0.6186  0.8121  \n108  0.03850  0.0897  100.000    100.0  0.8480  0.8627  \n109 -0.03070  0.0519  100.000    100.0  0.8849  0.8273  \n110  0.02120  0.0355  100.000    100.0  0.9001  0.8478  \n\n[101 rows x 9 columns]",
      "text/html": "<div>\n<style scoped>\n    .dataframe tbody tr th:only-of-type {\n        vertical-align: middle;\n    }\n\n    .dataframe tbody tr th {\n        vertical-align: top;\n    }\n\n    .dataframe thead th {\n        text-align: right;\n    }\n</style>\n<table border=\"1\" class=\"dataframe\">\n  <thead>\n    <tr style=\"text-align: right;\">\n      <th></th>\n      <th>file</th>\n      <th>s</th>\n      <th>adgt_%</th>\n      <th>adgl_%</th>\n      <th>adgs_%</th>\n      <th>bnkrl_%</th>\n      <th>bnkrs_%</th>\n      <th>ebrl</th>\n      <th>ebrs</th>\n    </tr>\n  </thead>\n  <tbody>\n    <tr>\n      <th>0</th>\n      <td>\\1000XECUSDT\\plots\\2022-03-15T184506\\backtest_...</td>\n      <td>1000XECUSDT</td>\n      <td>0.21920</td>\n      <td>0.06520</td>\n      <td>0.1540</td>\n      <td>100.000</td>\n      <td>100.0</td>\n      <td>0.9340</td>\n      <td>0.9526</td>\n    </tr>\n    <tr>\n      <th>1</th>\n      <td>\\1000XECUSDT\\plots\\2022-03-16T132802\\backtest_...</td>\n      <td>1000XECUSDT</td>\n      <td>0.21140</td>\n      <td>0.06740</td>\n      <td>0.1440</td>\n      <td>100.000</td>\n      <td>100.0</td>\n      <td>0.9340</td>\n      <td>0.9526</td>\n    </tr>\n    <tr>\n      <th>2</th>\n      <td>\\1INCHUSDT\\plots\\2022-03-16T133853\\backtest_re...</td>\n      <td>1INCHUSDT</td>\n      <td>0.08486</td>\n      <td>0.00706</td>\n      <td>0.0778</td>\n      <td>100.000</td>\n      <td>100.0</td>\n      <td>0.8369</td>\n      <td>0.7473</td>\n    </tr>\n    <tr>\n      <th>4</th>\n      <td>\\ADAUSDT\\plots\\2022-03-16T140203\\backtest_resu...</td>\n      <td>ADAUSDT</td>\n      <td>0.07310</td>\n      <td>0.04030</td>\n      <td>0.0328</td>\n      <td>100.000</td>\n      <td>100.0</td>\n      <td>0.9334</td>\n      <td>0.8184</td>\n    </tr>\n    <tr>\n      <th>5</th>\n      <td>\\AKROUSDT\\plots\\2022-03-07T074200\\backtest_res...</td>\n      <td>AKROUSDT</td>\n      <td>0.15040</td>\n      <td>0.07660</td>\n      <td>0.0738</td>\n      <td>100.000</td>\n      <td>100.0</td>\n      <td>0.9507</td>\n      <td>0.9633</td>\n    </tr>\n    <tr>\n      <th>...</th>\n      <td>...</td>\n      <td>...</td>\n      <td>...</td>\n      <td>...</td>\n      <td>...</td>\n      <td>...</td>\n      <td>...</td>\n      <td>...</td>\n      <td>...</td>\n    </tr>\n    <tr>\n      <th>106</th>\n      <td>\\XMRUSDT\\plots\\2022-03-17T010158\\backtest_resu...</td>\n      <td>XMRUSDT</td>\n      <td>0.02070</td>\n      <td>-0.01580</td>\n      <td>0.0365</td>\n      <td>100.000</td>\n      <td>100.0</td>\n      <td>0.8927</td>\n      <td>0.9039</td>\n    </tr>\n    <tr>\n      <th>107</th>\n      <td>\\XRPUSDT\\plots\\2022-03-17T012439\\backtest_resu...</td>\n      <td>XRPUSDT</td>\n      <td>-1.39030</td>\n      <td>-1.44000</td>\n      <td>0.0497</td>\n      <td>5.992</td>\n      <td>100.0</td>\n      <td>0.6186</td>\n      <td>0.8121</td>\n    </tr>\n    <tr>\n      <th>108</th>\n      <td>\\ZENUSDT\\plots\\2022-03-17T013136\\backtest_resu...</td>\n      <td>ZENUSDT</td>\n      <td>0.12820</td>\n      <td>0.03850</td>\n      <td>0.0897</td>\n      <td>100.000</td>\n      <td>100.0</td>\n      <td>0.8480</td>\n      <td>0.8627</td>\n    </tr>\n    <tr>\n      <th>109</th>\n      <td>\\ZILUSDT\\plots\\2022-03-17T013628\\backtest_resu...</td>\n      <td>ZILUSDT</td>\n      <td>0.02120</td>\n      <td>-0.03070</td>\n      <td>0.0519</td>\n      <td>100.000</td>\n      <td>100.0</td>\n      <td>0.8849</td>\n      <td>0.8273</td>\n    </tr>\n    <tr>\n      <th>110</th>\n      <td>\\ZRXUSDT\\plots\\2022-03-17T014113\\backtest_resu...</td>\n      <td>ZRXUSDT</td>\n      <td>0.05670</td>\n      <td>0.02120</td>\n      <td>0.0355</td>\n      <td>100.000</td>\n      <td>100.0</td>\n      <td>0.9001</td>\n      <td>0.8478</td>\n    </tr>\n  </tbody>\n</table>\n<p>101 rows × 9 columns</p>\n</div>"
     },
     "execution_count": 6,
     "metadata": {},
     "output_type": "execute_result"
    }
   ],
   "source": [
    "df.drop_duplicates(subset=['s', 'tgl_%','tgs_%','adgl_%','adgs_%','adgt_%', 'bnkrl_%', 'bnkrs_%', 'ebrl', 'ebrs', 'long', 'short'], keep='first',\n",
    "                   inplace=True)\n",
    "dx = df[['file','s','adgt_%','adgl_%','adgs_%','bnkrl_%', 'bnkrs_%','ebrl', 'ebrs']]\n",
    "dx"
   ]
  },
  {
   "cell_type": "code",
   "execution_count": 6,
   "metadata": {
    "pycharm": {
     "name": "#%%\n"
    }
   },
   "outputs": [],
   "source": []
  }
 ],
 "metadata": {
  "kernelspec": {
   "display_name": "PyCharm (passivbot)",
   "language": "python",
   "name": "pycharm-997905a8"
  },
  "language_info": {
   "codemirror_mode": {
    "name": "ipython",
    "version": 3
   },
   "file_extension": ".py",
   "mimetype": "text/x-python",
   "name": "python",
   "nbconvert_exporter": "python",
   "pygments_lexer": "ipython3",
   "version": "3.8.12"
  }
 },
 "nbformat": 4,
 "nbformat_minor": 1
}