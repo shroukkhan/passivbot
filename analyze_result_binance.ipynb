{
 "cells": [
  {
   "cell_type": "code",
   "execution_count": 14,
   "metadata": {},
   "outputs": [
    {
     "name": "stdout",
     "output_type": "stream",
     "text": [
      "The autoreload extension is already loaded. To reload it, use:\n",
      "  %reload_ext autoreload\n"
     ]
    }
   ],
   "source": [
    "\n",
    "%load_ext autoreload\n",
    "%autoreload 2"
   ]
  },
  {
   "cell_type": "code",
   "execution_count": 15,
   "metadata": {
    "pycharm": {
     "name": "#%%\n"
    }
   },
   "outputs": [],
   "source": [
    "import glob\n",
    "\n",
    "import pandas as pd"
   ]
  },
  {
   "cell_type": "code",
   "execution_count": 16,
   "outputs": [
    {
     "data": {
      "text/plain": "{'1000SHIBUSDT': 'cfgs_live\\\\1000SHIB.json',\n '1000XECUSDT': 'cfgs_live\\\\1000XEC.json',\n '1INCHUSDT': 'cfgs_live\\\\1INCH.json',\n 'ADAUSDT': 'cfgs_live\\\\ADA.json',\n 'AKROUSDT': 'cfgs_live\\\\AKRO.json',\n 'ALGOUSDT': 'cfgs_live\\\\ALGO.json',\n 'ALICEUSDT': 'cfgs_live\\\\ALICE.json',\n 'ALPHAUSDT': 'cfgs_live\\\\ALPHA.json',\n 'ANKRUSDT': 'cfgs_live\\\\ANKR.json',\n 'API3USDT': 'cfgs_live\\\\API3.json',\n 'ARUSDT': 'cfgs_live\\\\AR.json',\n 'ATOMUSDT': 'cfgs_live\\\\ATOM.json',\n 'BAKEUSDT': 'cfgs_live\\\\BAKE.json',\n 'BANDUSDT': 'cfgs_live\\\\BAND.json',\n 'BELUSDT': 'cfgs_live\\\\BEL.json',\n 'BLZUSDT': 'cfgs_live\\\\BLZ.json',\n 'BNBUSDT': 'cfgs_live\\\\BNB.json',\n 'BTSUSDT': 'cfgs_live\\\\BTS.json',\n 'C98USDT': 'cfgs_live\\\\C98.json',\n 'CHZUSDT': 'cfgs_live\\\\CHZ.json',\n 'COMPUSDT': 'cfgs_live\\\\COMP.json',\n 'COTIUSDT': 'cfgs_live\\\\COTI.json',\n 'CRVUSDT': 'cfgs_live\\\\CRV.json',\n 'DENTUSDT': 'cfgs_live\\\\DENT.json',\n 'DGBUSDT': 'cfgs_live\\\\DGB.json',\n 'DODOUSDT': 'cfgs_live\\\\DODO.json',\n 'DOGEUSDT': 'cfgs_live\\\\DOGE.json',\n 'DOTUSDT': 'cfgs_live\\\\DOT.json',\n 'DUSKUSDT': 'cfgs_live\\\\DUSK.json',\n 'DYDXUSDT': 'cfgs_live\\\\DYDX.json',\n 'ENJUSDT': 'cfgs_live\\\\ENJ.json',\n 'ETCUSDT': 'cfgs_live\\\\ETC.json',\n 'ETHUSDT': 'cfgs_live\\\\ETH.json',\n 'FLMUSDT': 'cfgs_live\\\\FLM.json',\n 'FLOWUSDT': 'cfgs_live\\\\FLOW.json',\n 'GRTUSDT': 'cfgs_live\\\\GRT.json',\n 'GTCUSDT': 'cfgs_live\\\\GTC.json',\n 'HBARUSDT': 'cfgs_live\\\\HBAR.json',\n 'HOTUSDT': 'cfgs_live\\\\HOT.json',\n 'ICPUSDT': 'cfgs_live\\\\ICP.json',\n 'ICXUSDT': 'cfgs_live\\\\ICX.json',\n 'IOSTUSDT': 'cfgs_live\\\\IOST.json',\n 'IOTAUSDT': 'cfgs_live\\\\IOTA.json',\n 'KAVAUSDT': 'cfgs_live\\\\KAVA.json',\n 'KLAYUSDT': 'cfgs_live\\\\KLAY.json',\n 'KNCUSDT': 'cfgs_live\\\\KNC.json',\n 'LINAUSDT': 'cfgs_live\\\\LINA.json',\n 'LINKUSDT': 'cfgs_live\\\\LINK.json',\n 'LITUSDT': 'cfgs_live\\\\LIT.json',\n 'LTCUSDT': 'cfgs_live\\\\LTC.json',\n 'MATICUSDT': 'cfgs_live\\\\MATIC.json',\n 'MKRUSDT': 'cfgs_live\\\\MKR.json',\n 'MTLUSDT': 'cfgs_live\\\\MTL.json',\n 'NEOUSDT': 'cfgs_live\\\\NEO.json',\n 'NKNUSDT': 'cfgs_live\\\\NKN.json',\n 'OCEANUSDT': 'cfgs_live\\\\OCEAN.json',\n 'OGNUSDT': 'cfgs_live\\\\OGN.json',\n 'OMGUSDT': 'cfgs_live\\\\OMG.json',\n 'ONEUSDT': 'cfgs_live\\\\ONE.json',\n 'ONTUSDT': 'cfgs_live\\\\ONT.json',\n 'QTUMUSDT': 'cfgs_live\\\\QTUM.json',\n 'REEFUSDT': 'cfgs_live\\\\REEF.json',\n 'RENUSDT': 'cfgs_live\\\\REN.json',\n 'RLCUSDT': 'cfgs_live\\\\RLC.json',\n 'ROSEUSDT': 'cfgs_live\\\\ROSE.json',\n 'RVNUSDT': 'cfgs_live\\\\RVN.json',\n 'SCUSDT': 'cfgs_live\\\\SC.json',\n 'SFPUSDT': 'cfgs_live\\\\SFP.json',\n 'SNXUSDT': 'cfgs_live\\\\SNX.json',\n 'STMXUSDT': 'cfgs_live\\\\STMX.json',\n 'SUSHIUSDT': 'cfgs_live\\\\SUSHI.json',\n 'SXPUSDT': 'cfgs_live\\\\SXP.json',\n 'TLMUSDT': 'cfgs_live\\\\TLM.json',\n 'TOMOUSDT': 'cfgs_live\\\\TOMO.json',\n 'TRBUSDT': 'cfgs_live\\\\TRB.json',\n 'UNFIUSDT': 'cfgs_live\\\\UNFI.json',\n 'VETUSDT': 'cfgs_live\\\\VET.json',\n 'WAVESUSDT': 'cfgs_live\\\\WAVES.json',\n 'XLMUSDT': 'cfgs_live\\\\XLM.json',\n 'XMRUSDT': 'cfgs_live\\\\XMR.json',\n 'XRPUSDT': 'cfgs_live\\\\XRP.json',\n 'ZECUSDT': 'cfgs_live\\\\ZEC.json',\n 'ZENUSDT': 'cfgs_live\\\\ZEN.json',\n 'ZILUSDT': 'cfgs_live\\\\ZIL.json',\n 'ZRXUSDT': 'cfgs_live\\\\ZRX.json'}"
     },
     "execution_count": 16,
     "metadata": {},
     "output_type": "execute_result"
    }
   ],
   "source": [
    "## delete the folders not in live config ( extra crap )\n",
    "live_config_files = glob.glob('cfgs_live/*', recursive=True)\n",
    "allowed_symbols = []\n",
    "symbol_files = {}\n",
    "for f in live_config_files:\n",
    "    symbol = f.split('\\\\')[-1]\n",
    "    symbol = symbol.replace('.json', 'USDT')\n",
    "    allowed_symbols.append(symbol)\n",
    "    symbol_files[symbol] = f\n",
    "symbol_files\n",
    "#allowed_symbols = [\"ALICEUSDT\",\"XRPUSDT\",\"HOTUSDT\"]"
   ],
   "metadata": {
    "collapsed": false,
    "pycharm": {
     "name": "#%%\n"
    }
   }
  },
  {
   "cell_type": "code",
   "execution_count": 17,
   "outputs": [],
   "source": [
    "# ## NOW copy result folders :)\n",
    "# import json\n",
    "# import shutil\n",
    "#\n",
    "# files = glob.iglob('backtests/binance/' + '**/live_config.json', recursive=True)\n",
    "#\n",
    "# for filename in files:\n",
    "#     with open(filename) as f:\n",
    "#         config = json.load(f)\n",
    "#     symbol = config['config_name'].split('_')[2]\n",
    "#\n",
    "#     if symbol not in symbol_files: continue\n",
    "#\n",
    "#     with open(symbol_files[symbol]) as f:\n",
    "#         production_config = json.load(f)\n",
    "#\n",
    "#     long_pc = production_config['long']\n",
    "#     long_c = config['long']\n",
    "#\n",
    "#     k_pc = long_pc.keys()\n",
    "#     k_c = long_c.keys()\n",
    "#\n",
    "#     if len(k_c) != len(k_c): continue\n",
    "#\n",
    "#     same = True\n",
    "#     for k in k_pc:\n",
    "#         if k not in k_c:\n",
    "#             same = False\n",
    "#             break\n",
    "#         v_pc = long_pc[k]\n",
    "#         v_c = long_c[k]\n",
    "#         #print(f'{k}={v_c},{v_pc}')\n",
    "#\n",
    "#     if not same: continue\n",
    "#\n",
    "#     print(f'{filename} is same as {symbol_files[symbol]}')\n",
    "#\n",
    "#     src = filename.replace('\\\\live_config.json', '')\n",
    "#     dst = f'backtests/binance_production/{symbol}'\n",
    "#     shutil.copytree(src=src, dst=dst, dirs_exist_ok=True)\n",
    "\n"
   ],
   "metadata": {
    "collapsed": false,
    "pycharm": {
     "name": "#%%\n"
    }
   }
  },
  {
   "cell_type": "code",
   "execution_count": 18,
   "metadata": {
    "pycharm": {
     "name": "#%%\n"
    }
   },
   "outputs": [
    {
     "name": "stderr",
     "output_type": "stream",
     "text": [
      "C:\\Users\\skhan\\AppData\\Local\\Temp/ipykernel_597172/2885255594.py:61: FutureWarning: The frame.append method is deprecated and will be removed from pandas in a future version. Use pandas.concat instead.\n",
      "  big_data = big_data.append(d, ignore_index=True)\n",
      "C:\\Users\\skhan\\AppData\\Local\\Temp/ipykernel_597172/2885255594.py:61: FutureWarning: The frame.append method is deprecated and will be removed from pandas in a future version. Use pandas.concat instead.\n",
      "  big_data = big_data.append(d, ignore_index=True)\n",
      "C:\\Users\\skhan\\AppData\\Local\\Temp/ipykernel_597172/2885255594.py:61: FutureWarning: The frame.append method is deprecated and will be removed from pandas in a future version. Use pandas.concat instead.\n",
      "  big_data = big_data.append(d, ignore_index=True)\n",
      "C:\\Users\\skhan\\AppData\\Local\\Temp/ipykernel_597172/2885255594.py:61: FutureWarning: The frame.append method is deprecated and will be removed from pandas in a future version. Use pandas.concat instead.\n",
      "  big_data = big_data.append(d, ignore_index=True)\n",
      "C:\\Users\\skhan\\AppData\\Local\\Temp/ipykernel_597172/2885255594.py:61: FutureWarning: The frame.append method is deprecated and will be removed from pandas in a future version. Use pandas.concat instead.\n",
      "  big_data = big_data.append(d, ignore_index=True)\n",
      "C:\\Users\\skhan\\AppData\\Local\\Temp/ipykernel_597172/2885255594.py:61: FutureWarning: The frame.append method is deprecated and will be removed from pandas in a future version. Use pandas.concat instead.\n",
      "  big_data = big_data.append(d, ignore_index=True)\n",
      "C:\\Users\\skhan\\AppData\\Local\\Temp/ipykernel_597172/2885255594.py:61: FutureWarning: The frame.append method is deprecated and will be removed from pandas in a future version. Use pandas.concat instead.\n",
      "  big_data = big_data.append(d, ignore_index=True)\n",
      "C:\\Users\\skhan\\AppData\\Local\\Temp/ipykernel_597172/2885255594.py:61: FutureWarning: The frame.append method is deprecated and will be removed from pandas in a future version. Use pandas.concat instead.\n",
      "  big_data = big_data.append(d, ignore_index=True)\n",
      "C:\\Users\\skhan\\AppData\\Local\\Temp/ipykernel_597172/2885255594.py:61: FutureWarning: The frame.append method is deprecated and will be removed from pandas in a future version. Use pandas.concat instead.\n",
      "  big_data = big_data.append(d, ignore_index=True)\n",
      "C:\\Users\\skhan\\AppData\\Local\\Temp/ipykernel_597172/2885255594.py:61: FutureWarning: The frame.append method is deprecated and will be removed from pandas in a future version. Use pandas.concat instead.\n",
      "  big_data = big_data.append(d, ignore_index=True)\n",
      "C:\\Users\\skhan\\AppData\\Local\\Temp/ipykernel_597172/2885255594.py:61: FutureWarning: The frame.append method is deprecated and will be removed from pandas in a future version. Use pandas.concat instead.\n",
      "  big_data = big_data.append(d, ignore_index=True)\n",
      "C:\\Users\\skhan\\AppData\\Local\\Temp/ipykernel_597172/2885255594.py:61: FutureWarning: The frame.append method is deprecated and will be removed from pandas in a future version. Use pandas.concat instead.\n",
      "  big_data = big_data.append(d, ignore_index=True)\n",
      "C:\\Users\\skhan\\AppData\\Local\\Temp/ipykernel_597172/2885255594.py:61: FutureWarning: The frame.append method is deprecated and will be removed from pandas in a future version. Use pandas.concat instead.\n",
      "  big_data = big_data.append(d, ignore_index=True)\n",
      "C:\\Users\\skhan\\AppData\\Local\\Temp/ipykernel_597172/2885255594.py:61: FutureWarning: The frame.append method is deprecated and will be removed from pandas in a future version. Use pandas.concat instead.\n",
      "  big_data = big_data.append(d, ignore_index=True)\n",
      "C:\\Users\\skhan\\AppData\\Local\\Temp/ipykernel_597172/2885255594.py:61: FutureWarning: The frame.append method is deprecated and will be removed from pandas in a future version. Use pandas.concat instead.\n",
      "  big_data = big_data.append(d, ignore_index=True)\n",
      "C:\\Users\\skhan\\AppData\\Local\\Temp/ipykernel_597172/2885255594.py:61: FutureWarning: The frame.append method is deprecated and will be removed from pandas in a future version. Use pandas.concat instead.\n",
      "  big_data = big_data.append(d, ignore_index=True)\n",
      "C:\\Users\\skhan\\AppData\\Local\\Temp/ipykernel_597172/2885255594.py:61: FutureWarning: The frame.append method is deprecated and will be removed from pandas in a future version. Use pandas.concat instead.\n",
      "  big_data = big_data.append(d, ignore_index=True)\n",
      "C:\\Users\\skhan\\AppData\\Local\\Temp/ipykernel_597172/2885255594.py:61: FutureWarning: The frame.append method is deprecated and will be removed from pandas in a future version. Use pandas.concat instead.\n",
      "  big_data = big_data.append(d, ignore_index=True)\n",
      "C:\\Users\\skhan\\AppData\\Local\\Temp/ipykernel_597172/2885255594.py:61: FutureWarning: The frame.append method is deprecated and will be removed from pandas in a future version. Use pandas.concat instead.\n",
      "  big_data = big_data.append(d, ignore_index=True)\n",
      "C:\\Users\\skhan\\AppData\\Local\\Temp/ipykernel_597172/2885255594.py:61: FutureWarning: The frame.append method is deprecated and will be removed from pandas in a future version. Use pandas.concat instead.\n",
      "  big_data = big_data.append(d, ignore_index=True)\n",
      "C:\\Users\\skhan\\AppData\\Local\\Temp/ipykernel_597172/2885255594.py:61: FutureWarning: The frame.append method is deprecated and will be removed from pandas in a future version. Use pandas.concat instead.\n",
      "  big_data = big_data.append(d, ignore_index=True)\n",
      "C:\\Users\\skhan\\AppData\\Local\\Temp/ipykernel_597172/2885255594.py:61: FutureWarning: The frame.append method is deprecated and will be removed from pandas in a future version. Use pandas.concat instead.\n",
      "  big_data = big_data.append(d, ignore_index=True)\n",
      "C:\\Users\\skhan\\AppData\\Local\\Temp/ipykernel_597172/2885255594.py:61: FutureWarning: The frame.append method is deprecated and will be removed from pandas in a future version. Use pandas.concat instead.\n",
      "  big_data = big_data.append(d, ignore_index=True)\n",
      "C:\\Users\\skhan\\AppData\\Local\\Temp/ipykernel_597172/2885255594.py:61: FutureWarning: The frame.append method is deprecated and will be removed from pandas in a future version. Use pandas.concat instead.\n",
      "  big_data = big_data.append(d, ignore_index=True)\n",
      "C:\\Users\\skhan\\AppData\\Local\\Temp/ipykernel_597172/2885255594.py:61: FutureWarning: The frame.append method is deprecated and will be removed from pandas in a future version. Use pandas.concat instead.\n",
      "  big_data = big_data.append(d, ignore_index=True)\n",
      "C:\\Users\\skhan\\AppData\\Local\\Temp/ipykernel_597172/2885255594.py:61: FutureWarning: The frame.append method is deprecated and will be removed from pandas in a future version. Use pandas.concat instead.\n",
      "  big_data = big_data.append(d, ignore_index=True)\n",
      "C:\\Users\\skhan\\AppData\\Local\\Temp/ipykernel_597172/2885255594.py:61: FutureWarning: The frame.append method is deprecated and will be removed from pandas in a future version. Use pandas.concat instead.\n",
      "  big_data = big_data.append(d, ignore_index=True)\n",
      "C:\\Users\\skhan\\AppData\\Local\\Temp/ipykernel_597172/2885255594.py:61: FutureWarning: The frame.append method is deprecated and will be removed from pandas in a future version. Use pandas.concat instead.\n",
      "  big_data = big_data.append(d, ignore_index=True)\n",
      "C:\\Users\\skhan\\AppData\\Local\\Temp/ipykernel_597172/2885255594.py:61: FutureWarning: The frame.append method is deprecated and will be removed from pandas in a future version. Use pandas.concat instead.\n",
      "  big_data = big_data.append(d, ignore_index=True)\n",
      "C:\\Users\\skhan\\AppData\\Local\\Temp/ipykernel_597172/2885255594.py:61: FutureWarning: The frame.append method is deprecated and will be removed from pandas in a future version. Use pandas.concat instead.\n",
      "  big_data = big_data.append(d, ignore_index=True)\n",
      "C:\\Users\\skhan\\AppData\\Local\\Temp/ipykernel_597172/2885255594.py:61: FutureWarning: The frame.append method is deprecated and will be removed from pandas in a future version. Use pandas.concat instead.\n",
      "  big_data = big_data.append(d, ignore_index=True)\n",
      "C:\\Users\\skhan\\AppData\\Local\\Temp/ipykernel_597172/2885255594.py:61: FutureWarning: The frame.append method is deprecated and will be removed from pandas in a future version. Use pandas.concat instead.\n",
      "  big_data = big_data.append(d, ignore_index=True)\n",
      "C:\\Users\\skhan\\AppData\\Local\\Temp/ipykernel_597172/2885255594.py:61: FutureWarning: The frame.append method is deprecated and will be removed from pandas in a future version. Use pandas.concat instead.\n",
      "  big_data = big_data.append(d, ignore_index=True)\n",
      "C:\\Users\\skhan\\AppData\\Local\\Temp/ipykernel_597172/2885255594.py:61: FutureWarning: The frame.append method is deprecated and will be removed from pandas in a future version. Use pandas.concat instead.\n",
      "  big_data = big_data.append(d, ignore_index=True)\n",
      "C:\\Users\\skhan\\AppData\\Local\\Temp/ipykernel_597172/2885255594.py:61: FutureWarning: The frame.append method is deprecated and will be removed from pandas in a future version. Use pandas.concat instead.\n",
      "  big_data = big_data.append(d, ignore_index=True)\n",
      "C:\\Users\\skhan\\AppData\\Local\\Temp/ipykernel_597172/2885255594.py:61: FutureWarning: The frame.append method is deprecated and will be removed from pandas in a future version. Use pandas.concat instead.\n",
      "  big_data = big_data.append(d, ignore_index=True)\n",
      "C:\\Users\\skhan\\AppData\\Local\\Temp/ipykernel_597172/2885255594.py:61: FutureWarning: The frame.append method is deprecated and will be removed from pandas in a future version. Use pandas.concat instead.\n",
      "  big_data = big_data.append(d, ignore_index=True)\n",
      "C:\\Users\\skhan\\AppData\\Local\\Temp/ipykernel_597172/2885255594.py:61: FutureWarning: The frame.append method is deprecated and will be removed from pandas in a future version. Use pandas.concat instead.\n",
      "  big_data = big_data.append(d, ignore_index=True)\n",
      "C:\\Users\\skhan\\AppData\\Local\\Temp/ipykernel_597172/2885255594.py:61: FutureWarning: The frame.append method is deprecated and will be removed from pandas in a future version. Use pandas.concat instead.\n",
      "  big_data = big_data.append(d, ignore_index=True)\n",
      "C:\\Users\\skhan\\AppData\\Local\\Temp/ipykernel_597172/2885255594.py:61: FutureWarning: The frame.append method is deprecated and will be removed from pandas in a future version. Use pandas.concat instead.\n",
      "  big_data = big_data.append(d, ignore_index=True)\n",
      "C:\\Users\\skhan\\AppData\\Local\\Temp/ipykernel_597172/2885255594.py:61: FutureWarning: The frame.append method is deprecated and will be removed from pandas in a future version. Use pandas.concat instead.\n",
      "  big_data = big_data.append(d, ignore_index=True)\n",
      "C:\\Users\\skhan\\AppData\\Local\\Temp/ipykernel_597172/2885255594.py:61: FutureWarning: The frame.append method is deprecated and will be removed from pandas in a future version. Use pandas.concat instead.\n",
      "  big_data = big_data.append(d, ignore_index=True)\n",
      "C:\\Users\\skhan\\AppData\\Local\\Temp/ipykernel_597172/2885255594.py:61: FutureWarning: The frame.append method is deprecated and will be removed from pandas in a future version. Use pandas.concat instead.\n",
      "  big_data = big_data.append(d, ignore_index=True)\n",
      "C:\\Users\\skhan\\AppData\\Local\\Temp/ipykernel_597172/2885255594.py:61: FutureWarning: The frame.append method is deprecated and will be removed from pandas in a future version. Use pandas.concat instead.\n",
      "  big_data = big_data.append(d, ignore_index=True)\n",
      "C:\\Users\\skhan\\AppData\\Local\\Temp/ipykernel_597172/2885255594.py:61: FutureWarning: The frame.append method is deprecated and will be removed from pandas in a future version. Use pandas.concat instead.\n",
      "  big_data = big_data.append(d, ignore_index=True)\n",
      "C:\\Users\\skhan\\AppData\\Local\\Temp/ipykernel_597172/2885255594.py:61: FutureWarning: The frame.append method is deprecated and will be removed from pandas in a future version. Use pandas.concat instead.\n",
      "  big_data = big_data.append(d, ignore_index=True)\n",
      "C:\\Users\\skhan\\AppData\\Local\\Temp/ipykernel_597172/2885255594.py:61: FutureWarning: The frame.append method is deprecated and will be removed from pandas in a future version. Use pandas.concat instead.\n",
      "  big_data = big_data.append(d, ignore_index=True)\n",
      "C:\\Users\\skhan\\AppData\\Local\\Temp/ipykernel_597172/2885255594.py:61: FutureWarning: The frame.append method is deprecated and will be removed from pandas in a future version. Use pandas.concat instead.\n",
      "  big_data = big_data.append(d, ignore_index=True)\n",
      "C:\\Users\\skhan\\AppData\\Local\\Temp/ipykernel_597172/2885255594.py:61: FutureWarning: The frame.append method is deprecated and will be removed from pandas in a future version. Use pandas.concat instead.\n",
      "  big_data = big_data.append(d, ignore_index=True)\n",
      "C:\\Users\\skhan\\AppData\\Local\\Temp/ipykernel_597172/2885255594.py:61: FutureWarning: The frame.append method is deprecated and will be removed from pandas in a future version. Use pandas.concat instead.\n",
      "  big_data = big_data.append(d, ignore_index=True)\n",
      "C:\\Users\\skhan\\AppData\\Local\\Temp/ipykernel_597172/2885255594.py:61: FutureWarning: The frame.append method is deprecated and will be removed from pandas in a future version. Use pandas.concat instead.\n",
      "  big_data = big_data.append(d, ignore_index=True)\n",
      "C:\\Users\\skhan\\AppData\\Local\\Temp/ipykernel_597172/2885255594.py:61: FutureWarning: The frame.append method is deprecated and will be removed from pandas in a future version. Use pandas.concat instead.\n",
      "  big_data = big_data.append(d, ignore_index=True)\n",
      "C:\\Users\\skhan\\AppData\\Local\\Temp/ipykernel_597172/2885255594.py:61: FutureWarning: The frame.append method is deprecated and will be removed from pandas in a future version. Use pandas.concat instead.\n",
      "  big_data = big_data.append(d, ignore_index=True)\n",
      "C:\\Users\\skhan\\AppData\\Local\\Temp/ipykernel_597172/2885255594.py:61: FutureWarning: The frame.append method is deprecated and will be removed from pandas in a future version. Use pandas.concat instead.\n",
      "  big_data = big_data.append(d, ignore_index=True)\n",
      "C:\\Users\\skhan\\AppData\\Local\\Temp/ipykernel_597172/2885255594.py:61: FutureWarning: The frame.append method is deprecated and will be removed from pandas in a future version. Use pandas.concat instead.\n",
      "  big_data = big_data.append(d, ignore_index=True)\n",
      "C:\\Users\\skhan\\AppData\\Local\\Temp/ipykernel_597172/2885255594.py:61: FutureWarning: The frame.append method is deprecated and will be removed from pandas in a future version. Use pandas.concat instead.\n",
      "  big_data = big_data.append(d, ignore_index=True)\n",
      "C:\\Users\\skhan\\AppData\\Local\\Temp/ipykernel_597172/2885255594.py:61: FutureWarning: The frame.append method is deprecated and will be removed from pandas in a future version. Use pandas.concat instead.\n",
      "  big_data = big_data.append(d, ignore_index=True)\n",
      "C:\\Users\\skhan\\AppData\\Local\\Temp/ipykernel_597172/2885255594.py:61: FutureWarning: The frame.append method is deprecated and will be removed from pandas in a future version. Use pandas.concat instead.\n",
      "  big_data = big_data.append(d, ignore_index=True)\n",
      "C:\\Users\\skhan\\AppData\\Local\\Temp/ipykernel_597172/2885255594.py:61: FutureWarning: The frame.append method is deprecated and will be removed from pandas in a future version. Use pandas.concat instead.\n",
      "  big_data = big_data.append(d, ignore_index=True)\n",
      "C:\\Users\\skhan\\AppData\\Local\\Temp/ipykernel_597172/2885255594.py:61: FutureWarning: The frame.append method is deprecated and will be removed from pandas in a future version. Use pandas.concat instead.\n",
      "  big_data = big_data.append(d, ignore_index=True)\n",
      "C:\\Users\\skhan\\AppData\\Local\\Temp/ipykernel_597172/2885255594.py:61: FutureWarning: The frame.append method is deprecated and will be removed from pandas in a future version. Use pandas.concat instead.\n",
      "  big_data = big_data.append(d, ignore_index=True)\n",
      "C:\\Users\\skhan\\AppData\\Local\\Temp/ipykernel_597172/2885255594.py:61: FutureWarning: The frame.append method is deprecated and will be removed from pandas in a future version. Use pandas.concat instead.\n",
      "  big_data = big_data.append(d, ignore_index=True)\n",
      "C:\\Users\\skhan\\AppData\\Local\\Temp/ipykernel_597172/2885255594.py:61: FutureWarning: The frame.append method is deprecated and will be removed from pandas in a future version. Use pandas.concat instead.\n",
      "  big_data = big_data.append(d, ignore_index=True)\n",
      "C:\\Users\\skhan\\AppData\\Local\\Temp/ipykernel_597172/2885255594.py:61: FutureWarning: The frame.append method is deprecated and will be removed from pandas in a future version. Use pandas.concat instead.\n",
      "  big_data = big_data.append(d, ignore_index=True)\n",
      "C:\\Users\\skhan\\AppData\\Local\\Temp/ipykernel_597172/2885255594.py:61: FutureWarning: The frame.append method is deprecated and will be removed from pandas in a future version. Use pandas.concat instead.\n",
      "  big_data = big_data.append(d, ignore_index=True)\n",
      "C:\\Users\\skhan\\AppData\\Local\\Temp/ipykernel_597172/2885255594.py:61: FutureWarning: The frame.append method is deprecated and will be removed from pandas in a future version. Use pandas.concat instead.\n",
      "  big_data = big_data.append(d, ignore_index=True)\n",
      "C:\\Users\\skhan\\AppData\\Local\\Temp/ipykernel_597172/2885255594.py:61: FutureWarning: The frame.append method is deprecated and will be removed from pandas in a future version. Use pandas.concat instead.\n",
      "  big_data = big_data.append(d, ignore_index=True)\n",
      "C:\\Users\\skhan\\AppData\\Local\\Temp/ipykernel_597172/2885255594.py:61: FutureWarning: The frame.append method is deprecated and will be removed from pandas in a future version. Use pandas.concat instead.\n",
      "  big_data = big_data.append(d, ignore_index=True)\n",
      "C:\\Users\\skhan\\AppData\\Local\\Temp/ipykernel_597172/2885255594.py:61: FutureWarning: The frame.append method is deprecated and will be removed from pandas in a future version. Use pandas.concat instead.\n",
      "  big_data = big_data.append(d, ignore_index=True)\n",
      "C:\\Users\\skhan\\AppData\\Local\\Temp/ipykernel_597172/2885255594.py:61: FutureWarning: The frame.append method is deprecated and will be removed from pandas in a future version. Use pandas.concat instead.\n",
      "  big_data = big_data.append(d, ignore_index=True)\n",
      "C:\\Users\\skhan\\AppData\\Local\\Temp/ipykernel_597172/2885255594.py:61: FutureWarning: The frame.append method is deprecated and will be removed from pandas in a future version. Use pandas.concat instead.\n",
      "  big_data = big_data.append(d, ignore_index=True)\n",
      "C:\\Users\\skhan\\AppData\\Local\\Temp/ipykernel_597172/2885255594.py:61: FutureWarning: The frame.append method is deprecated and will be removed from pandas in a future version. Use pandas.concat instead.\n",
      "  big_data = big_data.append(d, ignore_index=True)\n",
      "C:\\Users\\skhan\\AppData\\Local\\Temp/ipykernel_597172/2885255594.py:61: FutureWarning: The frame.append method is deprecated and will be removed from pandas in a future version. Use pandas.concat instead.\n",
      "  big_data = big_data.append(d, ignore_index=True)\n",
      "C:\\Users\\skhan\\AppData\\Local\\Temp/ipykernel_597172/2885255594.py:61: FutureWarning: The frame.append method is deprecated and will be removed from pandas in a future version. Use pandas.concat instead.\n",
      "  big_data = big_data.append(d, ignore_index=True)\n",
      "C:\\Users\\skhan\\AppData\\Local\\Temp/ipykernel_597172/2885255594.py:61: FutureWarning: The frame.append method is deprecated and will be removed from pandas in a future version. Use pandas.concat instead.\n",
      "  big_data = big_data.append(d, ignore_index=True)\n",
      "C:\\Users\\skhan\\AppData\\Local\\Temp/ipykernel_597172/2885255594.py:61: FutureWarning: The frame.append method is deprecated and will be removed from pandas in a future version. Use pandas.concat instead.\n",
      "  big_data = big_data.append(d, ignore_index=True)\n",
      "C:\\Users\\skhan\\AppData\\Local\\Temp/ipykernel_597172/2885255594.py:61: FutureWarning: The frame.append method is deprecated and will be removed from pandas in a future version. Use pandas.concat instead.\n",
      "  big_data = big_data.append(d, ignore_index=True)\n",
      "C:\\Users\\skhan\\AppData\\Local\\Temp/ipykernel_597172/2885255594.py:61: FutureWarning: The frame.append method is deprecated and will be removed from pandas in a future version. Use pandas.concat instead.\n",
      "  big_data = big_data.append(d, ignore_index=True)\n",
      "C:\\Users\\skhan\\AppData\\Local\\Temp/ipykernel_597172/2885255594.py:61: FutureWarning: The frame.append method is deprecated and will be removed from pandas in a future version. Use pandas.concat instead.\n",
      "  big_data = big_data.append(d, ignore_index=True)\n",
      "C:\\Users\\skhan\\AppData\\Local\\Temp/ipykernel_597172/2885255594.py:61: FutureWarning: The frame.append method is deprecated and will be removed from pandas in a future version. Use pandas.concat instead.\n",
      "  big_data = big_data.append(d, ignore_index=True)\n",
      "C:\\Users\\skhan\\AppData\\Local\\Temp/ipykernel_597172/2885255594.py:61: FutureWarning: The frame.append method is deprecated and will be removed from pandas in a future version. Use pandas.concat instead.\n",
      "  big_data = big_data.append(d, ignore_index=True)\n",
      "C:\\Users\\skhan\\AppData\\Local\\Temp/ipykernel_597172/2885255594.py:61: FutureWarning: The frame.append method is deprecated and will be removed from pandas in a future version. Use pandas.concat instead.\n",
      "  big_data = big_data.append(d, ignore_index=True)\n",
      "C:\\Users\\skhan\\AppData\\Local\\Temp/ipykernel_597172/2885255594.py:61: FutureWarning: The frame.append method is deprecated and will be removed from pandas in a future version. Use pandas.concat instead.\n",
      "  big_data = big_data.append(d, ignore_index=True)\n",
      "C:\\Users\\skhan\\AppData\\Local\\Temp/ipykernel_597172/2885255594.py:61: FutureWarning: The frame.append method is deprecated and will be removed from pandas in a future version. Use pandas.concat instead.\n",
      "  big_data = big_data.append(d, ignore_index=True)\n",
      "C:\\Users\\skhan\\AppData\\Local\\Temp/ipykernel_597172/2885255594.py:61: FutureWarning: The frame.append method is deprecated and will be removed from pandas in a future version. Use pandas.concat instead.\n",
      "  big_data = big_data.append(d, ignore_index=True)\n",
      "C:\\Users\\skhan\\AppData\\Local\\Temp/ipykernel_597172/2885255594.py:61: FutureWarning: The frame.append method is deprecated and will be removed from pandas in a future version. Use pandas.concat instead.\n",
      "  big_data = big_data.append(d, ignore_index=True)\n",
      "C:\\Users\\skhan\\AppData\\Local\\Temp/ipykernel_597172/2885255594.py:61: FutureWarning: The frame.append method is deprecated and will be removed from pandas in a future version. Use pandas.concat instead.\n",
      "  big_data = big_data.append(d, ignore_index=True)\n",
      "C:\\Users\\skhan\\AppData\\Local\\Temp/ipykernel_597172/2885255594.py:61: FutureWarning: The frame.append method is deprecated and will be removed from pandas in a future version. Use pandas.concat instead.\n",
      "  big_data = big_data.append(d, ignore_index=True)\n",
      "C:\\Users\\skhan\\AppData\\Local\\Temp/ipykernel_597172/2885255594.py:61: FutureWarning: The frame.append method is deprecated and will be removed from pandas in a future version. Use pandas.concat instead.\n",
      "  big_data = big_data.append(d, ignore_index=True)\n",
      "C:\\Users\\skhan\\AppData\\Local\\Temp/ipykernel_597172/2885255594.py:61: FutureWarning: The frame.append method is deprecated and will be removed from pandas in a future version. Use pandas.concat instead.\n",
      "  big_data = big_data.append(d, ignore_index=True)\n",
      "C:\\Users\\skhan\\AppData\\Local\\Temp/ipykernel_597172/2885255594.py:61: FutureWarning: The frame.append method is deprecated and will be removed from pandas in a future version. Use pandas.concat instead.\n",
      "  big_data = big_data.append(d, ignore_index=True)\n"
     ]
    },
    {
     "data": {
      "text/plain": "                                                 file    v             s  \\\n0   \\1000SHIBUSDT\\plots\\2022-04-03T194816\\backtest...  5.5  1000SHIBUSDT   \n1   \\1000SHIBUSDT\\plots\\2022-04-03T204145\\backtest...  5.5  1000SHIBUSDT   \n2   \\1000SHIBUSDT\\plots\\2022-04-06T180851\\backtest...  5.5  1000SHIBUSDT   \n3   \\1000XECUSDT\\plots\\2022-04-06T155612\\backtest_...  5.5   1000XECUSDT   \n4   \\1000XECUSDT\\plots\\2022-04-06T181135\\backtest_...  5.5   1000XECUSDT   \n..                                                ...  ...           ...   \n86  \\XRPUSDT\\plots\\2022-04-02T220532\\backtest_resu...  5.5       XRPUSDT   \n87  \\XRPUSDT\\plots\\2022-04-03T071614\\backtest_resu...  5.5       XRPUSDT   \n88  \\XRPUSDT\\plots\\2022-04-03T085436\\backtest_resu...  5.5       XRPUSDT   \n89  \\ZECUSDT\\plots\\2022-04-04T094221\\backtest_resu...  5.5       ZECUSDT   \n90  \\ZECUSDT\\plots\\2022-04-04T105513\\backtest_resu...  5.5       ZECUSDT   \n\n    long  tgl_%  adgl_%    pastdl    pamaxl  bnkrl_%    ebrl       maxsl  \\\n0   True  52.53  0.1780  0.066776  0.644511  100.000  0.8613   12.442375   \n1   True  26.73  0.0850  0.070106  0.830417  100.000  0.9153    6.572917   \n2   True  90.63  0.2460  0.065637  0.629854  100.000  0.7673   12.442375   \n3   True  16.60  0.0401  0.056577  0.843518  100.000  0.8579    5.065292   \n4   True  16.60  0.0401  0.056577  0.843518  100.000  0.8579    5.065292   \n..   ...    ...     ...       ...       ...      ...     ...         ...   \n86  True -47.15 -1.8800  0.013518  0.074892    5.986  0.9461  227.831250   \n87  True  17.80  0.0669  0.090390  1.012870  100.000  0.8298   27.885417   \n88  True  10.95  0.0362  0.070355  0.680261  100.000  0.9241   14.947208   \n89  True  35.22  0.1200  0.075640  0.590216  100.000  0.8795   15.332625   \n90  True  28.78  0.0950  0.075344  0.770541  100.000  0.9263    9.928458   \n\n    short   tgs_%   adgs_%    pastds    pamaxs  bnkrs_%     ebrs       maxss  \\\n0    True -96.020 -1.88000  0.146280  0.802360    5.447  0.10870  155.190833   \n1    True -95.820 -1.88000  0.148225  0.803949    5.404  0.09669  155.191667   \n2    True -91.820 -1.64000  0.124514  0.747041    5.959  0.08869  180.079167   \n3    True  49.790  0.20700  0.062401  0.371501  100.000  0.86990   21.804875   \n4    True  49.790  0.20700  0.062401  0.371501  100.000  0.86990   21.804875   \n..    ...     ...      ...       ...       ...      ...      ...         ...   \n86   True  11.690  0.02780  0.108543  0.423810  100.000  0.85110  118.224167   \n87   True  14.160  0.06280  0.086507  0.401661  100.000  0.85900   20.811125   \n88   True   7.518  0.03460  0.090093  0.407668  100.000  0.86150   34.021542   \n89   True  17.560  0.00283  0.108675  0.465718  100.000  0.70510   23.441667   \n90   True  18.230  0.02540  0.148103  0.660761  100.000  0.65240  114.903333   \n\n    prod  \n0    NaN  \n1    NaN  \n2   True  \n3   True  \n4   True  \n..   ...  \n86   NaN  \n87   NaN  \n88   NaN  \n89   NaN  \n90   NaN  \n\n[91 rows x 20 columns]",
      "text/html": "<div>\n<style scoped>\n    .dataframe tbody tr th:only-of-type {\n        vertical-align: middle;\n    }\n\n    .dataframe tbody tr th {\n        vertical-align: top;\n    }\n\n    .dataframe thead th {\n        text-align: right;\n    }\n</style>\n<table border=\"1\" class=\"dataframe\">\n  <thead>\n    <tr style=\"text-align: right;\">\n      <th></th>\n      <th>file</th>\n      <th>v</th>\n      <th>s</th>\n      <th>long</th>\n      <th>tgl_%</th>\n      <th>adgl_%</th>\n      <th>pastdl</th>\n      <th>pamaxl</th>\n      <th>bnkrl_%</th>\n      <th>ebrl</th>\n      <th>maxsl</th>\n      <th>short</th>\n      <th>tgs_%</th>\n      <th>adgs_%</th>\n      <th>pastds</th>\n      <th>pamaxs</th>\n      <th>bnkrs_%</th>\n      <th>ebrs</th>\n      <th>maxss</th>\n      <th>prod</th>\n    </tr>\n  </thead>\n  <tbody>\n    <tr>\n      <th>0</th>\n      <td>\\1000SHIBUSDT\\plots\\2022-04-03T194816\\backtest...</td>\n      <td>5.5</td>\n      <td>1000SHIBUSDT</td>\n      <td>True</td>\n      <td>52.53</td>\n      <td>0.1780</td>\n      <td>0.066776</td>\n      <td>0.644511</td>\n      <td>100.000</td>\n      <td>0.8613</td>\n      <td>12.442375</td>\n      <td>True</td>\n      <td>-96.020</td>\n      <td>-1.88000</td>\n      <td>0.146280</td>\n      <td>0.802360</td>\n      <td>5.447</td>\n      <td>0.10870</td>\n      <td>155.190833</td>\n      <td>NaN</td>\n    </tr>\n    <tr>\n      <th>1</th>\n      <td>\\1000SHIBUSDT\\plots\\2022-04-03T204145\\backtest...</td>\n      <td>5.5</td>\n      <td>1000SHIBUSDT</td>\n      <td>True</td>\n      <td>26.73</td>\n      <td>0.0850</td>\n      <td>0.070106</td>\n      <td>0.830417</td>\n      <td>100.000</td>\n      <td>0.9153</td>\n      <td>6.572917</td>\n      <td>True</td>\n      <td>-95.820</td>\n      <td>-1.88000</td>\n      <td>0.148225</td>\n      <td>0.803949</td>\n      <td>5.404</td>\n      <td>0.09669</td>\n      <td>155.191667</td>\n      <td>NaN</td>\n    </tr>\n    <tr>\n      <th>2</th>\n      <td>\\1000SHIBUSDT\\plots\\2022-04-06T180851\\backtest...</td>\n      <td>5.5</td>\n      <td>1000SHIBUSDT</td>\n      <td>True</td>\n      <td>90.63</td>\n      <td>0.2460</td>\n      <td>0.065637</td>\n      <td>0.629854</td>\n      <td>100.000</td>\n      <td>0.7673</td>\n      <td>12.442375</td>\n      <td>True</td>\n      <td>-91.820</td>\n      <td>-1.64000</td>\n      <td>0.124514</td>\n      <td>0.747041</td>\n      <td>5.959</td>\n      <td>0.08869</td>\n      <td>180.079167</td>\n      <td>True</td>\n    </tr>\n    <tr>\n      <th>3</th>\n      <td>\\1000XECUSDT\\plots\\2022-04-06T155612\\backtest_...</td>\n      <td>5.5</td>\n      <td>1000XECUSDT</td>\n      <td>True</td>\n      <td>16.60</td>\n      <td>0.0401</td>\n      <td>0.056577</td>\n      <td>0.843518</td>\n      <td>100.000</td>\n      <td>0.8579</td>\n      <td>5.065292</td>\n      <td>True</td>\n      <td>49.790</td>\n      <td>0.20700</td>\n      <td>0.062401</td>\n      <td>0.371501</td>\n      <td>100.000</td>\n      <td>0.86990</td>\n      <td>21.804875</td>\n      <td>True</td>\n    </tr>\n    <tr>\n      <th>4</th>\n      <td>\\1000XECUSDT\\plots\\2022-04-06T181135\\backtest_...</td>\n      <td>5.5</td>\n      <td>1000XECUSDT</td>\n      <td>True</td>\n      <td>16.60</td>\n      <td>0.0401</td>\n      <td>0.056577</td>\n      <td>0.843518</td>\n      <td>100.000</td>\n      <td>0.8579</td>\n      <td>5.065292</td>\n      <td>True</td>\n      <td>49.790</td>\n      <td>0.20700</td>\n      <td>0.062401</td>\n      <td>0.371501</td>\n      <td>100.000</td>\n      <td>0.86990</td>\n      <td>21.804875</td>\n      <td>True</td>\n    </tr>\n    <tr>\n      <th>...</th>\n      <td>...</td>\n      <td>...</td>\n      <td>...</td>\n      <td>...</td>\n      <td>...</td>\n      <td>...</td>\n      <td>...</td>\n      <td>...</td>\n      <td>...</td>\n      <td>...</td>\n      <td>...</td>\n      <td>...</td>\n      <td>...</td>\n      <td>...</td>\n      <td>...</td>\n      <td>...</td>\n      <td>...</td>\n      <td>...</td>\n      <td>...</td>\n      <td>...</td>\n    </tr>\n    <tr>\n      <th>86</th>\n      <td>\\XRPUSDT\\plots\\2022-04-02T220532\\backtest_resu...</td>\n      <td>5.5</td>\n      <td>XRPUSDT</td>\n      <td>True</td>\n      <td>-47.15</td>\n      <td>-1.8800</td>\n      <td>0.013518</td>\n      <td>0.074892</td>\n      <td>5.986</td>\n      <td>0.9461</td>\n      <td>227.831250</td>\n      <td>True</td>\n      <td>11.690</td>\n      <td>0.02780</td>\n      <td>0.108543</td>\n      <td>0.423810</td>\n      <td>100.000</td>\n      <td>0.85110</td>\n      <td>118.224167</td>\n      <td>NaN</td>\n    </tr>\n    <tr>\n      <th>87</th>\n      <td>\\XRPUSDT\\plots\\2022-04-03T071614\\backtest_resu...</td>\n      <td>5.5</td>\n      <td>XRPUSDT</td>\n      <td>True</td>\n      <td>17.80</td>\n      <td>0.0669</td>\n      <td>0.090390</td>\n      <td>1.012870</td>\n      <td>100.000</td>\n      <td>0.8298</td>\n      <td>27.885417</td>\n      <td>True</td>\n      <td>14.160</td>\n      <td>0.06280</td>\n      <td>0.086507</td>\n      <td>0.401661</td>\n      <td>100.000</td>\n      <td>0.85900</td>\n      <td>20.811125</td>\n      <td>NaN</td>\n    </tr>\n    <tr>\n      <th>88</th>\n      <td>\\XRPUSDT\\plots\\2022-04-03T085436\\backtest_resu...</td>\n      <td>5.5</td>\n      <td>XRPUSDT</td>\n      <td>True</td>\n      <td>10.95</td>\n      <td>0.0362</td>\n      <td>0.070355</td>\n      <td>0.680261</td>\n      <td>100.000</td>\n      <td>0.9241</td>\n      <td>14.947208</td>\n      <td>True</td>\n      <td>7.518</td>\n      <td>0.03460</td>\n      <td>0.090093</td>\n      <td>0.407668</td>\n      <td>100.000</td>\n      <td>0.86150</td>\n      <td>34.021542</td>\n      <td>NaN</td>\n    </tr>\n    <tr>\n      <th>89</th>\n      <td>\\ZECUSDT\\plots\\2022-04-04T094221\\backtest_resu...</td>\n      <td>5.5</td>\n      <td>ZECUSDT</td>\n      <td>True</td>\n      <td>35.22</td>\n      <td>0.1200</td>\n      <td>0.075640</td>\n      <td>0.590216</td>\n      <td>100.000</td>\n      <td>0.8795</td>\n      <td>15.332625</td>\n      <td>True</td>\n      <td>17.560</td>\n      <td>0.00283</td>\n      <td>0.108675</td>\n      <td>0.465718</td>\n      <td>100.000</td>\n      <td>0.70510</td>\n      <td>23.441667</td>\n      <td>NaN</td>\n    </tr>\n    <tr>\n      <th>90</th>\n      <td>\\ZECUSDT\\plots\\2022-04-04T105513\\backtest_resu...</td>\n      <td>5.5</td>\n      <td>ZECUSDT</td>\n      <td>True</td>\n      <td>28.78</td>\n      <td>0.0950</td>\n      <td>0.075344</td>\n      <td>0.770541</td>\n      <td>100.000</td>\n      <td>0.9263</td>\n      <td>9.928458</td>\n      <td>True</td>\n      <td>18.230</td>\n      <td>0.02540</td>\n      <td>0.148103</td>\n      <td>0.660761</td>\n      <td>100.000</td>\n      <td>0.65240</td>\n      <td>114.903333</td>\n      <td>NaN</td>\n    </tr>\n  </tbody>\n</table>\n<p>91 rows × 20 columns</p>\n</div>"
     },
     "execution_count": 18,
     "metadata": {},
     "output_type": "execute_result"
    }
   ],
   "source": [
    "big_data = pd.DataFrame()\n",
    "files = glob.iglob('backtests/binance/' + '**/backtest_result.txt', recursive=True)\n",
    "i = 0\n",
    "for filename in files:\n",
    "    #print(f'parsing : {filename}')\n",
    "    with open(filename, 'r') as file:\n",
    "        data = file.read().split('\\n')\n",
    "        d = {'file': filename.replace('backtests/binance','')}\n",
    "        current_state = 'long'\n",
    "        for l in data:\n",
    "            l = l.split('|')\n",
    "            if len(l) == 4:\n",
    "                key = l[1].strip()\n",
    "                value = l[2].strip()\n",
    "\n",
    "                if key == 'Passivbot Version':\n",
    "                    d['v'] = value\n",
    "                if key == 'Symbol':\n",
    "                    d['s'] = value\n",
    "                if key == 'Production Config':\n",
    "                    d['prod'] = value\n",
    "\n",
    "                if key == 'Long':\n",
    "                    current_state = 'long'\n",
    "                    d['long'] = bool(value) or False\n",
    "                if key == 'Short':\n",
    "                    current_state = 'short'\n",
    "                    d['short'] = bool(value) or False\n",
    "\n",
    "                if key == 'Total gain' and current_state == 'long':\n",
    "                    d['tgl_%'] = float(value.replace('%', '').strip())\n",
    "                if key == 'Average daily gain' and current_state == 'long':\n",
    "                    d['adgl_%'] = float(value.replace('%', '').strip())\n",
    "                if key == 'Closest bankruptcy' and current_state == 'long':\n",
    "                    d['bnkrl_%'] = float(value.replace('%', '').strip())\n",
    "                if key == 'Lowest equity/balance ratio' and current_state == 'long':\n",
    "                    d['ebrl'] = float(value.replace('%', '').strip())\n",
    "                if key == 'Max hours stuck' and current_state == 'long':\n",
    "                    d['maxsl'] = float(value.replace('%', '').strip())/24\n",
    "                if key == 'Price action distance max' and current_state == 'long':\n",
    "                    d['pamaxl'] = float(value.replace('%', '').strip())\n",
    "                if key == 'Price action distance std' and current_state == 'long':\n",
    "                    d['pastdl'] = float(value.strip())\n",
    "\n",
    "                if key == 'Total gain' and current_state == 'short':\n",
    "                    d['tgs_%'] = float(value.replace('%', '').strip())\n",
    "                if key == 'Average daily gain' and current_state == 'short':\n",
    "                    d['adgs_%'] = float(value.replace('%', '').strip())\n",
    "                if key == 'Closest bankruptcy' and current_state == 'short':\n",
    "                    d['bnkrs_%'] = float(value.replace('%', '').strip())\n",
    "                if key == 'Lowest equity/balance ratio' and current_state == 'short':\n",
    "                    d['ebrs'] = float(value.replace('%', '').strip())\n",
    "                if key == 'Max hours stuck' and current_state == 'short':\n",
    "                    d['maxss'] = float(value.replace('%', '').strip())/24\n",
    "                if key == 'Price action distance max' and current_state == 'short':\n",
    "                    d['pamaxs'] = float(value.replace('%', '').strip())\n",
    "                if key == 'Price action distance std' and current_state == 'short':\n",
    "                    d['pastds'] = float(value.strip())\n",
    "\n",
    "        #d['adgt_%'] = d['adgl_%']+d['adgs_%']\n",
    "        big_data = big_data.append(d, ignore_index=True)\n",
    "\n",
    "big_data"
   ]
  },
  {
   "cell_type": "markdown",
   "metadata": {},
   "source": [
    "Now filter the dataframe"
   ]
  },
  {
   "cell_type": "code",
   "execution_count": 22,
   "metadata": {
    "pycharm": {
     "name": "#%%\n"
    }
   },
   "outputs": [
    {
     "data": {
      "text/plain": "                                                 file    v             s  \\\n2   \\1000SHIBUSDT\\plots\\2022-04-06T180851\\backtest...  5.5  1000SHIBUSDT   \n3   \\1000XECUSDT\\plots\\2022-04-06T155612\\backtest_...  5.5   1000XECUSDT   \n4   \\1000XECUSDT\\plots\\2022-04-06T181135\\backtest_...  5.5   1000XECUSDT   \n5   \\1INCHUSDT\\plots\\2022-04-06T182507\\backtest_re...  5.5     1INCHUSDT   \n8   \\ADAUSDT\\plots\\2022-04-06T185658\\backtest_resu...  5.5       ADAUSDT   \n9   \\AKROUSDT\\plots\\2022-04-06T190136\\backtest_res...  5.5      AKROUSDT   \n10  \\ALGOUSDT\\plots\\2022-04-06T191700\\backtest_res...  5.5      ALGOUSDT   \n13  \\ALICEUSDT\\plots\\2022-04-06T192232\\backtest_re...  5.5     ALICEUSDT   \n14  \\ALPHAUSDT\\plots\\2022-04-06T193030\\backtest_re...  5.5     ALPHAUSDT   \n15  \\ANKRUSDT\\plots\\2022-04-06T193901\\backtest_res...  5.5      ANKRUSDT   \n18  \\API3USDT\\plots\\2022-04-06T194131\\backtest_res...  5.5      API3USDT   \n19  \\ARUSDT\\plots\\2022-04-06T194854\\backtest_resul...  5.5        ARUSDT   \n22  \\ATOMUSDT\\plots\\2022-04-06T202412\\backtest_res...  5.5      ATOMUSDT   \n23  \\BAKEUSDT\\plots\\2022-04-06T203421\\backtest_res...  5.5      BAKEUSDT   \n24  \\BANDUSDT\\plots\\2022-04-06T204423\\backtest_res...  5.5      BANDUSDT   \n27  \\BELUSDT\\plots\\2022-04-06T205217\\backtest_resu...  5.5       BELUSDT   \n28  \\BLZUSDT\\plots\\2022-04-06T210127\\backtest_resu...  5.5       BLZUSDT   \n31  \\BNBUSDT\\plots\\2022-04-06T213154\\backtest_resu...  5.5       BNBUSDT   \n32  \\BTSUSDT\\plots\\2022-04-06T213726\\backtest_resu...  5.5       BTSUSDT   \n33  \\C98USDT\\plots\\2022-04-06T214953\\backtest_resu...  5.5       C98USDT   \n36  \\CHZUSDT\\plots\\2022-04-06T220927\\backtest_resu...  5.5       CHZUSDT   \n37  \\COMPUSDT\\plots\\2022-04-06T222143\\backtest_res...  5.5      COMPUSDT   \n\n    long   tgl_%  adgl_%    pastdl    pamaxl  bnkrl_%    ebrl  ...  short  \\\n2   True  90.630  0.2460  0.065637  0.629854    100.0  0.7673  ...   True   \n3   True  16.600  0.0401  0.056577  0.843518    100.0  0.8579  ...   True   \n4   True  16.600  0.0401  0.056577  0.843518    100.0  0.8579  ...   True   \n5   True  31.400  0.0995  0.122606  0.977967    100.0  0.8157  ...   True   \n8   True  26.330  0.0809  0.051500  0.391366    100.0  0.8072  ...   True   \n9   True  47.390  0.1370  0.142222  0.894140    100.0  0.8899  ...   True   \n10  True  41.850  0.1240  0.146477  1.199200    100.0  0.8745  ...   True   \n13  True  39.150  0.1460  0.115535  0.871180    100.0  0.6956  ...   True   \n14  True  44.860  0.1370  0.129970  0.908498    100.0  0.8288  ...   True   \n15  True  53.830  0.1550  0.113913  0.804492    100.0  0.8945  ...   True   \n18  True  29.960  0.6330  0.049982  0.240547    100.0  0.9257  ...   True   \n19  True  35.210  0.1690  0.095697  0.620453    100.0  0.8108  ...   True   \n22  True  61.490  0.1760  0.081672  0.489647    100.0  0.9162  ...   True   \n23  True  10.340  0.0333  0.187168  0.872002    100.0  0.8466  ...   True   \n24  True  57.900  0.1650  0.097471  0.737210    100.0  0.8920  ...   True   \n27  True  92.720  0.2390  0.133577  0.853220    100.0  0.8880  ...   True   \n28  True  88.330  0.2320  0.143322  0.956030    100.0  0.9065  ...   True   \n31  True  41.020  0.1310  0.061534  0.485636    100.0  0.8968  ...   True   \n32  True  64.420  0.1740  0.138583  0.981370    100.0  0.8957  ...   True   \n33  True  46.810  0.1930  0.192289  1.004610    100.0  0.7588  ...   True   \n36  True  82.230  0.2110  0.057503  0.755754    100.0  0.8257  ...   True   \n37  True   4.012  0.0183  0.230823  1.166540    100.0  0.8413  ...   True   \n\n     tgs_%   adgs_%    pastds    pamaxs  bnkrs_%     ebrs       maxss  prod  \\\n2  -91.820 -1.64000  0.124514  0.747041    5.959  0.08869  180.079167  True   \n3   49.790  0.20700  0.062401  0.371501  100.000  0.86990   21.804875  True   \n4   49.790  0.20700  0.062401  0.371501  100.000  0.86990   21.804875  True   \n5   50.010  0.14600  0.125987  0.618075   36.400  0.40490   33.669458  True   \n8   36.560  0.09610  0.101922  0.519449   75.970  0.64290   39.211792  True   \n9   13.550  0.02550  0.107376  0.502734  100.000  0.67510   27.361792  True   \n10  13.980  0.06150  0.085239  0.473493   80.310  0.63150   34.506250  True   \n13 -39.480  0.31900  0.095136  0.656171   17.910  0.27460   14.859708  True   \n14 -64.760 -1.64000  0.120136  0.535231    5.908  0.44480   89.132500  True   \n15  -5.030  0.00333  0.095708  0.511382   90.080  0.64610   20.679167  True   \n18  18.310  0.34800  0.066013  0.287792  100.000  0.88560   13.779167  True   \n19  66.210  0.26500  0.128935  0.483819   44.440  0.48040   39.350708  True   \n22  20.120  0.12700  0.119612  0.577798   64.620  0.56390   35.834708  True   \n23   8.441  0.08700  0.102720  0.696792   58.890  0.45900   21.562500  True   \n24 -54.410 -1.64000  0.032914  0.148447    5.982  0.92420  264.240833  True   \n27  23.170  0.04670  0.107327  0.494336   79.750  0.61770   27.559042  True   \n28  31.390  0.06860  0.123883  0.497001  100.000  0.69860   27.455542  True   \n31  14.350  0.03100  0.124988  0.478025   70.870  0.67700   48.970833  True   \n32  39.010  0.08810  0.093844  0.439665  100.000  0.76470   30.752083  True   \n33  80.600  0.22800  0.095326  0.401430  100.000  0.84980   39.184042  True   \n36  16.880  0.08120  0.110610  0.526384   90.370  0.63720   27.648625  True   \n37  84.010  0.19100  0.079196  0.398611  100.000  0.83820   28.412500  True   \n\n     adgt_%  \n2  -1.39400  \n3   0.24710  \n4   0.24710  \n5   0.24550  \n8   0.17700  \n9   0.16250  \n10  0.18550  \n13  0.46500  \n14 -1.50300  \n15  0.15833  \n18  0.98100  \n19  0.43400  \n22  0.30300  \n23  0.12030  \n24 -1.47500  \n27  0.28570  \n28  0.30060  \n31  0.16200  \n32  0.26210  \n33  0.42100  \n36  0.29220  \n37  0.20930  \n\n[22 rows x 21 columns]",
      "text/html": "<div>\n<style scoped>\n    .dataframe tbody tr th:only-of-type {\n        vertical-align: middle;\n    }\n\n    .dataframe tbody tr th {\n        vertical-align: top;\n    }\n\n    .dataframe thead th {\n        text-align: right;\n    }\n</style>\n<table border=\"1\" class=\"dataframe\">\n  <thead>\n    <tr style=\"text-align: right;\">\n      <th></th>\n      <th>file</th>\n      <th>v</th>\n      <th>s</th>\n      <th>long</th>\n      <th>tgl_%</th>\n      <th>adgl_%</th>\n      <th>pastdl</th>\n      <th>pamaxl</th>\n      <th>bnkrl_%</th>\n      <th>ebrl</th>\n      <th>...</th>\n      <th>short</th>\n      <th>tgs_%</th>\n      <th>adgs_%</th>\n      <th>pastds</th>\n      <th>pamaxs</th>\n      <th>bnkrs_%</th>\n      <th>ebrs</th>\n      <th>maxss</th>\n      <th>prod</th>\n      <th>adgt_%</th>\n    </tr>\n  </thead>\n  <tbody>\n    <tr>\n      <th>2</th>\n      <td>\\1000SHIBUSDT\\plots\\2022-04-06T180851\\backtest...</td>\n      <td>5.5</td>\n      <td>1000SHIBUSDT</td>\n      <td>True</td>\n      <td>90.630</td>\n      <td>0.2460</td>\n      <td>0.065637</td>\n      <td>0.629854</td>\n      <td>100.0</td>\n      <td>0.7673</td>\n      <td>...</td>\n      <td>True</td>\n      <td>-91.820</td>\n      <td>-1.64000</td>\n      <td>0.124514</td>\n      <td>0.747041</td>\n      <td>5.959</td>\n      <td>0.08869</td>\n      <td>180.079167</td>\n      <td>True</td>\n      <td>-1.39400</td>\n    </tr>\n    <tr>\n      <th>3</th>\n      <td>\\1000XECUSDT\\plots\\2022-04-06T155612\\backtest_...</td>\n      <td>5.5</td>\n      <td>1000XECUSDT</td>\n      <td>True</td>\n      <td>16.600</td>\n      <td>0.0401</td>\n      <td>0.056577</td>\n      <td>0.843518</td>\n      <td>100.0</td>\n      <td>0.8579</td>\n      <td>...</td>\n      <td>True</td>\n      <td>49.790</td>\n      <td>0.20700</td>\n      <td>0.062401</td>\n      <td>0.371501</td>\n      <td>100.000</td>\n      <td>0.86990</td>\n      <td>21.804875</td>\n      <td>True</td>\n      <td>0.24710</td>\n    </tr>\n    <tr>\n      <th>4</th>\n      <td>\\1000XECUSDT\\plots\\2022-04-06T181135\\backtest_...</td>\n      <td>5.5</td>\n      <td>1000XECUSDT</td>\n      <td>True</td>\n      <td>16.600</td>\n      <td>0.0401</td>\n      <td>0.056577</td>\n      <td>0.843518</td>\n      <td>100.0</td>\n      <td>0.8579</td>\n      <td>...</td>\n      <td>True</td>\n      <td>49.790</td>\n      <td>0.20700</td>\n      <td>0.062401</td>\n      <td>0.371501</td>\n      <td>100.000</td>\n      <td>0.86990</td>\n      <td>21.804875</td>\n      <td>True</td>\n      <td>0.24710</td>\n    </tr>\n    <tr>\n      <th>5</th>\n      <td>\\1INCHUSDT\\plots\\2022-04-06T182507\\backtest_re...</td>\n      <td>5.5</td>\n      <td>1INCHUSDT</td>\n      <td>True</td>\n      <td>31.400</td>\n      <td>0.0995</td>\n      <td>0.122606</td>\n      <td>0.977967</td>\n      <td>100.0</td>\n      <td>0.8157</td>\n      <td>...</td>\n      <td>True</td>\n      <td>50.010</td>\n      <td>0.14600</td>\n      <td>0.125987</td>\n      <td>0.618075</td>\n      <td>36.400</td>\n      <td>0.40490</td>\n      <td>33.669458</td>\n      <td>True</td>\n      <td>0.24550</td>\n    </tr>\n    <tr>\n      <th>8</th>\n      <td>\\ADAUSDT\\plots\\2022-04-06T185658\\backtest_resu...</td>\n      <td>5.5</td>\n      <td>ADAUSDT</td>\n      <td>True</td>\n      <td>26.330</td>\n      <td>0.0809</td>\n      <td>0.051500</td>\n      <td>0.391366</td>\n      <td>100.0</td>\n      <td>0.8072</td>\n      <td>...</td>\n      <td>True</td>\n      <td>36.560</td>\n      <td>0.09610</td>\n      <td>0.101922</td>\n      <td>0.519449</td>\n      <td>75.970</td>\n      <td>0.64290</td>\n      <td>39.211792</td>\n      <td>True</td>\n      <td>0.17700</td>\n    </tr>\n    <tr>\n      <th>9</th>\n      <td>\\AKROUSDT\\plots\\2022-04-06T190136\\backtest_res...</td>\n      <td>5.5</td>\n      <td>AKROUSDT</td>\n      <td>True</td>\n      <td>47.390</td>\n      <td>0.1370</td>\n      <td>0.142222</td>\n      <td>0.894140</td>\n      <td>100.0</td>\n      <td>0.8899</td>\n      <td>...</td>\n      <td>True</td>\n      <td>13.550</td>\n      <td>0.02550</td>\n      <td>0.107376</td>\n      <td>0.502734</td>\n      <td>100.000</td>\n      <td>0.67510</td>\n      <td>27.361792</td>\n      <td>True</td>\n      <td>0.16250</td>\n    </tr>\n    <tr>\n      <th>10</th>\n      <td>\\ALGOUSDT\\plots\\2022-04-06T191700\\backtest_res...</td>\n      <td>5.5</td>\n      <td>ALGOUSDT</td>\n      <td>True</td>\n      <td>41.850</td>\n      <td>0.1240</td>\n      <td>0.146477</td>\n      <td>1.199200</td>\n      <td>100.0</td>\n      <td>0.8745</td>\n      <td>...</td>\n      <td>True</td>\n      <td>13.980</td>\n      <td>0.06150</td>\n      <td>0.085239</td>\n      <td>0.473493</td>\n      <td>80.310</td>\n      <td>0.63150</td>\n      <td>34.506250</td>\n      <td>True</td>\n      <td>0.18550</td>\n    </tr>\n    <tr>\n      <th>13</th>\n      <td>\\ALICEUSDT\\plots\\2022-04-06T192232\\backtest_re...</td>\n      <td>5.5</td>\n      <td>ALICEUSDT</td>\n      <td>True</td>\n      <td>39.150</td>\n      <td>0.1460</td>\n      <td>0.115535</td>\n      <td>0.871180</td>\n      <td>100.0</td>\n      <td>0.6956</td>\n      <td>...</td>\n      <td>True</td>\n      <td>-39.480</td>\n      <td>0.31900</td>\n      <td>0.095136</td>\n      <td>0.656171</td>\n      <td>17.910</td>\n      <td>0.27460</td>\n      <td>14.859708</td>\n      <td>True</td>\n      <td>0.46500</td>\n    </tr>\n    <tr>\n      <th>14</th>\n      <td>\\ALPHAUSDT\\plots\\2022-04-06T193030\\backtest_re...</td>\n      <td>5.5</td>\n      <td>ALPHAUSDT</td>\n      <td>True</td>\n      <td>44.860</td>\n      <td>0.1370</td>\n      <td>0.129970</td>\n      <td>0.908498</td>\n      <td>100.0</td>\n      <td>0.8288</td>\n      <td>...</td>\n      <td>True</td>\n      <td>-64.760</td>\n      <td>-1.64000</td>\n      <td>0.120136</td>\n      <td>0.535231</td>\n      <td>5.908</td>\n      <td>0.44480</td>\n      <td>89.132500</td>\n      <td>True</td>\n      <td>-1.50300</td>\n    </tr>\n    <tr>\n      <th>15</th>\n      <td>\\ANKRUSDT\\plots\\2022-04-06T193901\\backtest_res...</td>\n      <td>5.5</td>\n      <td>ANKRUSDT</td>\n      <td>True</td>\n      <td>53.830</td>\n      <td>0.1550</td>\n      <td>0.113913</td>\n      <td>0.804492</td>\n      <td>100.0</td>\n      <td>0.8945</td>\n      <td>...</td>\n      <td>True</td>\n      <td>-5.030</td>\n      <td>0.00333</td>\n      <td>0.095708</td>\n      <td>0.511382</td>\n      <td>90.080</td>\n      <td>0.64610</td>\n      <td>20.679167</td>\n      <td>True</td>\n      <td>0.15833</td>\n    </tr>\n    <tr>\n      <th>18</th>\n      <td>\\API3USDT\\plots\\2022-04-06T194131\\backtest_res...</td>\n      <td>5.5</td>\n      <td>API3USDT</td>\n      <td>True</td>\n      <td>29.960</td>\n      <td>0.6330</td>\n      <td>0.049982</td>\n      <td>0.240547</td>\n      <td>100.0</td>\n      <td>0.9257</td>\n      <td>...</td>\n      <td>True</td>\n      <td>18.310</td>\n      <td>0.34800</td>\n      <td>0.066013</td>\n      <td>0.287792</td>\n      <td>100.000</td>\n      <td>0.88560</td>\n      <td>13.779167</td>\n      <td>True</td>\n      <td>0.98100</td>\n    </tr>\n    <tr>\n      <th>19</th>\n      <td>\\ARUSDT\\plots\\2022-04-06T194854\\backtest_resul...</td>\n      <td>5.5</td>\n      <td>ARUSDT</td>\n      <td>True</td>\n      <td>35.210</td>\n      <td>0.1690</td>\n      <td>0.095697</td>\n      <td>0.620453</td>\n      <td>100.0</td>\n      <td>0.8108</td>\n      <td>...</td>\n      <td>True</td>\n      <td>66.210</td>\n      <td>0.26500</td>\n      <td>0.128935</td>\n      <td>0.483819</td>\n      <td>44.440</td>\n      <td>0.48040</td>\n      <td>39.350708</td>\n      <td>True</td>\n      <td>0.43400</td>\n    </tr>\n    <tr>\n      <th>22</th>\n      <td>\\ATOMUSDT\\plots\\2022-04-06T202412\\backtest_res...</td>\n      <td>5.5</td>\n      <td>ATOMUSDT</td>\n      <td>True</td>\n      <td>61.490</td>\n      <td>0.1760</td>\n      <td>0.081672</td>\n      <td>0.489647</td>\n      <td>100.0</td>\n      <td>0.9162</td>\n      <td>...</td>\n      <td>True</td>\n      <td>20.120</td>\n      <td>0.12700</td>\n      <td>0.119612</td>\n      <td>0.577798</td>\n      <td>64.620</td>\n      <td>0.56390</td>\n      <td>35.834708</td>\n      <td>True</td>\n      <td>0.30300</td>\n    </tr>\n    <tr>\n      <th>23</th>\n      <td>\\BAKEUSDT\\plots\\2022-04-06T203421\\backtest_res...</td>\n      <td>5.5</td>\n      <td>BAKEUSDT</td>\n      <td>True</td>\n      <td>10.340</td>\n      <td>0.0333</td>\n      <td>0.187168</td>\n      <td>0.872002</td>\n      <td>100.0</td>\n      <td>0.8466</td>\n      <td>...</td>\n      <td>True</td>\n      <td>8.441</td>\n      <td>0.08700</td>\n      <td>0.102720</td>\n      <td>0.696792</td>\n      <td>58.890</td>\n      <td>0.45900</td>\n      <td>21.562500</td>\n      <td>True</td>\n      <td>0.12030</td>\n    </tr>\n    <tr>\n      <th>24</th>\n      <td>\\BANDUSDT\\plots\\2022-04-06T204423\\backtest_res...</td>\n      <td>5.5</td>\n      <td>BANDUSDT</td>\n      <td>True</td>\n      <td>57.900</td>\n      <td>0.1650</td>\n      <td>0.097471</td>\n      <td>0.737210</td>\n      <td>100.0</td>\n      <td>0.8920</td>\n      <td>...</td>\n      <td>True</td>\n      <td>-54.410</td>\n      <td>-1.64000</td>\n      <td>0.032914</td>\n      <td>0.148447</td>\n      <td>5.982</td>\n      <td>0.92420</td>\n      <td>264.240833</td>\n      <td>True</td>\n      <td>-1.47500</td>\n    </tr>\n    <tr>\n      <th>27</th>\n      <td>\\BELUSDT\\plots\\2022-04-06T205217\\backtest_resu...</td>\n      <td>5.5</td>\n      <td>BELUSDT</td>\n      <td>True</td>\n      <td>92.720</td>\n      <td>0.2390</td>\n      <td>0.133577</td>\n      <td>0.853220</td>\n      <td>100.0</td>\n      <td>0.8880</td>\n      <td>...</td>\n      <td>True</td>\n      <td>23.170</td>\n      <td>0.04670</td>\n      <td>0.107327</td>\n      <td>0.494336</td>\n      <td>79.750</td>\n      <td>0.61770</td>\n      <td>27.559042</td>\n      <td>True</td>\n      <td>0.28570</td>\n    </tr>\n    <tr>\n      <th>28</th>\n      <td>\\BLZUSDT\\plots\\2022-04-06T210127\\backtest_resu...</td>\n      <td>5.5</td>\n      <td>BLZUSDT</td>\n      <td>True</td>\n      <td>88.330</td>\n      <td>0.2320</td>\n      <td>0.143322</td>\n      <td>0.956030</td>\n      <td>100.0</td>\n      <td>0.9065</td>\n      <td>...</td>\n      <td>True</td>\n      <td>31.390</td>\n      <td>0.06860</td>\n      <td>0.123883</td>\n      <td>0.497001</td>\n      <td>100.000</td>\n      <td>0.69860</td>\n      <td>27.455542</td>\n      <td>True</td>\n      <td>0.30060</td>\n    </tr>\n    <tr>\n      <th>31</th>\n      <td>\\BNBUSDT\\plots\\2022-04-06T213154\\backtest_resu...</td>\n      <td>5.5</td>\n      <td>BNBUSDT</td>\n      <td>True</td>\n      <td>41.020</td>\n      <td>0.1310</td>\n      <td>0.061534</td>\n      <td>0.485636</td>\n      <td>100.0</td>\n      <td>0.8968</td>\n      <td>...</td>\n      <td>True</td>\n      <td>14.350</td>\n      <td>0.03100</td>\n      <td>0.124988</td>\n      <td>0.478025</td>\n      <td>70.870</td>\n      <td>0.67700</td>\n      <td>48.970833</td>\n      <td>True</td>\n      <td>0.16200</td>\n    </tr>\n    <tr>\n      <th>32</th>\n      <td>\\BTSUSDT\\plots\\2022-04-06T213726\\backtest_resu...</td>\n      <td>5.5</td>\n      <td>BTSUSDT</td>\n      <td>True</td>\n      <td>64.420</td>\n      <td>0.1740</td>\n      <td>0.138583</td>\n      <td>0.981370</td>\n      <td>100.0</td>\n      <td>0.8957</td>\n      <td>...</td>\n      <td>True</td>\n      <td>39.010</td>\n      <td>0.08810</td>\n      <td>0.093844</td>\n      <td>0.439665</td>\n      <td>100.000</td>\n      <td>0.76470</td>\n      <td>30.752083</td>\n      <td>True</td>\n      <td>0.26210</td>\n    </tr>\n    <tr>\n      <th>33</th>\n      <td>\\C98USDT\\plots\\2022-04-06T214953\\backtest_resu...</td>\n      <td>5.5</td>\n      <td>C98USDT</td>\n      <td>True</td>\n      <td>46.810</td>\n      <td>0.1930</td>\n      <td>0.192289</td>\n      <td>1.004610</td>\n      <td>100.0</td>\n      <td>0.7588</td>\n      <td>...</td>\n      <td>True</td>\n      <td>80.600</td>\n      <td>0.22800</td>\n      <td>0.095326</td>\n      <td>0.401430</td>\n      <td>100.000</td>\n      <td>0.84980</td>\n      <td>39.184042</td>\n      <td>True</td>\n      <td>0.42100</td>\n    </tr>\n    <tr>\n      <th>36</th>\n      <td>\\CHZUSDT\\plots\\2022-04-06T220927\\backtest_resu...</td>\n      <td>5.5</td>\n      <td>CHZUSDT</td>\n      <td>True</td>\n      <td>82.230</td>\n      <td>0.2110</td>\n      <td>0.057503</td>\n      <td>0.755754</td>\n      <td>100.0</td>\n      <td>0.8257</td>\n      <td>...</td>\n      <td>True</td>\n      <td>16.880</td>\n      <td>0.08120</td>\n      <td>0.110610</td>\n      <td>0.526384</td>\n      <td>90.370</td>\n      <td>0.63720</td>\n      <td>27.648625</td>\n      <td>True</td>\n      <td>0.29220</td>\n    </tr>\n    <tr>\n      <th>37</th>\n      <td>\\COMPUSDT\\plots\\2022-04-06T222143\\backtest_res...</td>\n      <td>5.5</td>\n      <td>COMPUSDT</td>\n      <td>True</td>\n      <td>4.012</td>\n      <td>0.0183</td>\n      <td>0.230823</td>\n      <td>1.166540</td>\n      <td>100.0</td>\n      <td>0.8413</td>\n      <td>...</td>\n      <td>True</td>\n      <td>84.010</td>\n      <td>0.19100</td>\n      <td>0.079196</td>\n      <td>0.398611</td>\n      <td>100.000</td>\n      <td>0.83820</td>\n      <td>28.412500</td>\n      <td>True</td>\n      <td>0.20930</td>\n    </tr>\n  </tbody>\n</table>\n<p>22 rows × 21 columns</p>\n</div>"
     },
     "execution_count": 22,
     "metadata": {},
     "output_type": "execute_result"
    }
   ],
   "source": [
    "big_data['adgt_%'] = big_data['adgl_%'] + big_data['adgs_%']\n",
    "df = big_data[(big_data.s.isin(allowed_symbols))\n",
    "                & (big_data['prod'] == 'True')\n",
    "              # & (big_data['adgt_%'] > 0.1)\n",
    "              # & (big_data['adgl_%'] > 0.04)\n",
    "              # & (big_data['adgs_%'] > 0.04)\n",
    "              # & (big_data['bnkrl_%'] > 99.0)\n",
    "              # & (big_data['bnkrs_%'] > 99.0)\n",
    "              # & (big_data['ebrs'] > .9)\n",
    "              # #& (big_data['ebrl'] > .9)\n",
    "              # & (big_data['v'] == '5.5')\n",
    "\n",
    "    # & (big_data['tg_%'] > 10)\n",
    "    # & (big_data['ebr'] > .85)\n",
    "              ]\n",
    "#df['total_adg'] = big_data['adgl_%'] + big_data['adgs_%']\n",
    "df"
   ]
  },
  {
   "cell_type": "code",
   "execution_count": 23,
   "metadata": {
    "pycharm": {
     "name": "#%%\n"
    }
   },
   "outputs": [
    {
     "name": "stderr",
     "output_type": "stream",
     "text": [
      "C:\\Users\\skhan\\AppData\\Local\\Temp/ipykernel_597172/2052413415.py:1: SettingWithCopyWarning: \n",
      "A value is trying to be set on a copy of a slice from a DataFrame\n",
      "\n",
      "See the caveats in the documentation: https://pandas.pydata.org/pandas-docs/stable/user_guide/indexing.html#returning-a-view-versus-a-copy\n",
      "  df.drop_duplicates(\n"
     ]
    },
    {
     "data": {
      "text/plain": "                                                 file  prod             s  \\\n2   \\1000SHIBUSDT\\plots\\2022-04-06T180851\\backtest...  True  1000SHIBUSDT   \n3   \\1000XECUSDT\\plots\\2022-04-06T155612\\backtest_...  True   1000XECUSDT   \n5   \\1INCHUSDT\\plots\\2022-04-06T182507\\backtest_re...  True     1INCHUSDT   \n8   \\ADAUSDT\\plots\\2022-04-06T185658\\backtest_resu...  True       ADAUSDT   \n9   \\AKROUSDT\\plots\\2022-04-06T190136\\backtest_res...  True      AKROUSDT   \n10  \\ALGOUSDT\\plots\\2022-04-06T191700\\backtest_res...  True      ALGOUSDT   \n13  \\ALICEUSDT\\plots\\2022-04-06T192232\\backtest_re...  True     ALICEUSDT   \n14  \\ALPHAUSDT\\plots\\2022-04-06T193030\\backtest_re...  True     ALPHAUSDT   \n15  \\ANKRUSDT\\plots\\2022-04-06T193901\\backtest_res...  True      ANKRUSDT   \n18  \\API3USDT\\plots\\2022-04-06T194131\\backtest_res...  True      API3USDT   \n19  \\ARUSDT\\plots\\2022-04-06T194854\\backtest_resul...  True        ARUSDT   \n22  \\ATOMUSDT\\plots\\2022-04-06T202412\\backtest_res...  True      ATOMUSDT   \n23  \\BAKEUSDT\\plots\\2022-04-06T203421\\backtest_res...  True      BAKEUSDT   \n24  \\BANDUSDT\\plots\\2022-04-06T204423\\backtest_res...  True      BANDUSDT   \n27  \\BELUSDT\\plots\\2022-04-06T205217\\backtest_resu...  True       BELUSDT   \n28  \\BLZUSDT\\plots\\2022-04-06T210127\\backtest_resu...  True       BLZUSDT   \n31  \\BNBUSDT\\plots\\2022-04-06T213154\\backtest_resu...  True       BNBUSDT   \n32  \\BTSUSDT\\plots\\2022-04-06T213726\\backtest_resu...  True       BTSUSDT   \n33  \\C98USDT\\plots\\2022-04-06T214953\\backtest_resu...  True       C98USDT   \n36  \\CHZUSDT\\plots\\2022-04-06T220927\\backtest_resu...  True       CHZUSDT   \n37  \\COMPUSDT\\plots\\2022-04-06T222143\\backtest_res...  True      COMPUSDT   \n\n     adgt_%  adgl_%   adgs_%  bnkrl_%  bnkrs_%    ebrl     ebrs      maxsl  \\\n2  -1.39400  0.2460 -1.64000    100.0    5.959  0.7673  0.08869  12.442375   \n3   0.24710  0.0401  0.20700    100.0  100.000  0.8579  0.86990   5.065292   \n5   0.24550  0.0995  0.14600    100.0   36.400  0.8157  0.40490  15.230542   \n8   0.17700  0.0809  0.09610    100.0   75.970  0.8072  0.64290   6.515292   \n9   0.16250  0.1370  0.02550    100.0  100.000  0.8899  0.67510  16.145125   \n10  0.18550  0.1240  0.06150    100.0   80.310  0.8745  0.63150  22.408333   \n13  0.46500  0.1460  0.31900    100.0   17.910  0.6956  0.27460   9.826375   \n14 -1.50300  0.1370 -1.64000    100.0    5.908  0.8288  0.44480  11.129875   \n15  0.15833  0.1550  0.00333    100.0   90.080  0.8945  0.64610  13.108333   \n18  0.98100  0.6330  0.34800    100.0  100.000  0.9257  0.88560   3.054863   \n19  0.43400  0.1690  0.26500    100.0   44.440  0.8108  0.48040   7.692375   \n22  0.30300  0.1760  0.12700    100.0   64.620  0.9162  0.56390  16.588208   \n23  0.12030  0.0333  0.08700    100.0   58.890  0.8466  0.45900  20.007625   \n24 -1.47500  0.1650 -1.64000    100.0    5.982  0.8920  0.92420   6.270125   \n27  0.28570  0.2390  0.04670    100.0   79.750  0.8880  0.61770  12.553458   \n28  0.30060  0.2320  0.06860    100.0  100.000  0.9065  0.69860  13.984708   \n31  0.16200  0.1310  0.03100    100.0   70.870  0.8968  0.67700  26.788208   \n32  0.26210  0.1740  0.08810    100.0  100.000  0.8957  0.76470  20.911792   \n33  0.42100  0.1930  0.22800    100.0  100.000  0.7588  0.84980  21.904167   \n36  0.29220  0.2110  0.08120    100.0   90.370  0.8257  0.63720   9.910417   \n37  0.20930  0.0183  0.19100    100.0  100.000  0.8413  0.83820  43.453333   \n\n      pamaxl    pastdl       maxss    pamaxs    pastds  \n2   0.629854  0.065637  180.079167  0.747041  0.124514  \n3   0.843518  0.056577   21.804875  0.371501  0.062401  \n5   0.977967  0.122606   33.669458  0.618075  0.125987  \n8   0.391366  0.051500   39.211792  0.519449  0.101922  \n9   0.894140  0.142222   27.361792  0.502734  0.107376  \n10  1.199200  0.146477   34.506250  0.473493  0.085239  \n13  0.871180  0.115535   14.859708  0.656171  0.095136  \n14  0.908498  0.129970   89.132500  0.535231  0.120136  \n15  0.804492  0.113913   20.679167  0.511382  0.095708  \n18  0.240547  0.049982   13.779167  0.287792  0.066013  \n19  0.620453  0.095697   39.350708  0.483819  0.128935  \n22  0.489647  0.081672   35.834708  0.577798  0.119612  \n23  0.872002  0.187168   21.562500  0.696792  0.102720  \n24  0.737210  0.097471  264.240833  0.148447  0.032914  \n27  0.853220  0.133577   27.559042  0.494336  0.107327  \n28  0.956030  0.143322   27.455542  0.497001  0.123883  \n31  0.485636  0.061534   48.970833  0.478025  0.124988  \n32  0.981370  0.138583   30.752083  0.439665  0.093844  \n33  1.004610  0.192289   39.184042  0.401430  0.095326  \n36  0.755754  0.057503   27.648625  0.526384  0.110610  \n37  1.166540  0.230823   28.412500  0.398611  0.079196  ",
      "text/html": "<div>\n<style scoped>\n    .dataframe tbody tr th:only-of-type {\n        vertical-align: middle;\n    }\n\n    .dataframe tbody tr th {\n        vertical-align: top;\n    }\n\n    .dataframe thead th {\n        text-align: right;\n    }\n</style>\n<table border=\"1\" class=\"dataframe\">\n  <thead>\n    <tr style=\"text-align: right;\">\n      <th></th>\n      <th>file</th>\n      <th>prod</th>\n      <th>s</th>\n      <th>adgt_%</th>\n      <th>adgl_%</th>\n      <th>adgs_%</th>\n      <th>bnkrl_%</th>\n      <th>bnkrs_%</th>\n      <th>ebrl</th>\n      <th>ebrs</th>\n      <th>maxsl</th>\n      <th>pamaxl</th>\n      <th>pastdl</th>\n      <th>maxss</th>\n      <th>pamaxs</th>\n      <th>pastds</th>\n    </tr>\n  </thead>\n  <tbody>\n    <tr>\n      <th>2</th>\n      <td>\\1000SHIBUSDT\\plots\\2022-04-06T180851\\backtest...</td>\n      <td>True</td>\n      <td>1000SHIBUSDT</td>\n      <td>-1.39400</td>\n      <td>0.2460</td>\n      <td>-1.64000</td>\n      <td>100.0</td>\n      <td>5.959</td>\n      <td>0.7673</td>\n      <td>0.08869</td>\n      <td>12.442375</td>\n      <td>0.629854</td>\n      <td>0.065637</td>\n      <td>180.079167</td>\n      <td>0.747041</td>\n      <td>0.124514</td>\n    </tr>\n    <tr>\n      <th>3</th>\n      <td>\\1000XECUSDT\\plots\\2022-04-06T155612\\backtest_...</td>\n      <td>True</td>\n      <td>1000XECUSDT</td>\n      <td>0.24710</td>\n      <td>0.0401</td>\n      <td>0.20700</td>\n      <td>100.0</td>\n      <td>100.000</td>\n      <td>0.8579</td>\n      <td>0.86990</td>\n      <td>5.065292</td>\n      <td>0.843518</td>\n      <td>0.056577</td>\n      <td>21.804875</td>\n      <td>0.371501</td>\n      <td>0.062401</td>\n    </tr>\n    <tr>\n      <th>5</th>\n      <td>\\1INCHUSDT\\plots\\2022-04-06T182507\\backtest_re...</td>\n      <td>True</td>\n      <td>1INCHUSDT</td>\n      <td>0.24550</td>\n      <td>0.0995</td>\n      <td>0.14600</td>\n      <td>100.0</td>\n      <td>36.400</td>\n      <td>0.8157</td>\n      <td>0.40490</td>\n      <td>15.230542</td>\n      <td>0.977967</td>\n      <td>0.122606</td>\n      <td>33.669458</td>\n      <td>0.618075</td>\n      <td>0.125987</td>\n    </tr>\n    <tr>\n      <th>8</th>\n      <td>\\ADAUSDT\\plots\\2022-04-06T185658\\backtest_resu...</td>\n      <td>True</td>\n      <td>ADAUSDT</td>\n      <td>0.17700</td>\n      <td>0.0809</td>\n      <td>0.09610</td>\n      <td>100.0</td>\n      <td>75.970</td>\n      <td>0.8072</td>\n      <td>0.64290</td>\n      <td>6.515292</td>\n      <td>0.391366</td>\n      <td>0.051500</td>\n      <td>39.211792</td>\n      <td>0.519449</td>\n      <td>0.101922</td>\n    </tr>\n    <tr>\n      <th>9</th>\n      <td>\\AKROUSDT\\plots\\2022-04-06T190136\\backtest_res...</td>\n      <td>True</td>\n      <td>AKROUSDT</td>\n      <td>0.16250</td>\n      <td>0.1370</td>\n      <td>0.02550</td>\n      <td>100.0</td>\n      <td>100.000</td>\n      <td>0.8899</td>\n      <td>0.67510</td>\n      <td>16.145125</td>\n      <td>0.894140</td>\n      <td>0.142222</td>\n      <td>27.361792</td>\n      <td>0.502734</td>\n      <td>0.107376</td>\n    </tr>\n    <tr>\n      <th>10</th>\n      <td>\\ALGOUSDT\\plots\\2022-04-06T191700\\backtest_res...</td>\n      <td>True</td>\n      <td>ALGOUSDT</td>\n      <td>0.18550</td>\n      <td>0.1240</td>\n      <td>0.06150</td>\n      <td>100.0</td>\n      <td>80.310</td>\n      <td>0.8745</td>\n      <td>0.63150</td>\n      <td>22.408333</td>\n      <td>1.199200</td>\n      <td>0.146477</td>\n      <td>34.506250</td>\n      <td>0.473493</td>\n      <td>0.085239</td>\n    </tr>\n    <tr>\n      <th>13</th>\n      <td>\\ALICEUSDT\\plots\\2022-04-06T192232\\backtest_re...</td>\n      <td>True</td>\n      <td>ALICEUSDT</td>\n      <td>0.46500</td>\n      <td>0.1460</td>\n      <td>0.31900</td>\n      <td>100.0</td>\n      <td>17.910</td>\n      <td>0.6956</td>\n      <td>0.27460</td>\n      <td>9.826375</td>\n      <td>0.871180</td>\n      <td>0.115535</td>\n      <td>14.859708</td>\n      <td>0.656171</td>\n      <td>0.095136</td>\n    </tr>\n    <tr>\n      <th>14</th>\n      <td>\\ALPHAUSDT\\plots\\2022-04-06T193030\\backtest_re...</td>\n      <td>True</td>\n      <td>ALPHAUSDT</td>\n      <td>-1.50300</td>\n      <td>0.1370</td>\n      <td>-1.64000</td>\n      <td>100.0</td>\n      <td>5.908</td>\n      <td>0.8288</td>\n      <td>0.44480</td>\n      <td>11.129875</td>\n      <td>0.908498</td>\n      <td>0.129970</td>\n      <td>89.132500</td>\n      <td>0.535231</td>\n      <td>0.120136</td>\n    </tr>\n    <tr>\n      <th>15</th>\n      <td>\\ANKRUSDT\\plots\\2022-04-06T193901\\backtest_res...</td>\n      <td>True</td>\n      <td>ANKRUSDT</td>\n      <td>0.15833</td>\n      <td>0.1550</td>\n      <td>0.00333</td>\n      <td>100.0</td>\n      <td>90.080</td>\n      <td>0.8945</td>\n      <td>0.64610</td>\n      <td>13.108333</td>\n      <td>0.804492</td>\n      <td>0.113913</td>\n      <td>20.679167</td>\n      <td>0.511382</td>\n      <td>0.095708</td>\n    </tr>\n    <tr>\n      <th>18</th>\n      <td>\\API3USDT\\plots\\2022-04-06T194131\\backtest_res...</td>\n      <td>True</td>\n      <td>API3USDT</td>\n      <td>0.98100</td>\n      <td>0.6330</td>\n      <td>0.34800</td>\n      <td>100.0</td>\n      <td>100.000</td>\n      <td>0.9257</td>\n      <td>0.88560</td>\n      <td>3.054863</td>\n      <td>0.240547</td>\n      <td>0.049982</td>\n      <td>13.779167</td>\n      <td>0.287792</td>\n      <td>0.066013</td>\n    </tr>\n    <tr>\n      <th>19</th>\n      <td>\\ARUSDT\\plots\\2022-04-06T194854\\backtest_resul...</td>\n      <td>True</td>\n      <td>ARUSDT</td>\n      <td>0.43400</td>\n      <td>0.1690</td>\n      <td>0.26500</td>\n      <td>100.0</td>\n      <td>44.440</td>\n      <td>0.8108</td>\n      <td>0.48040</td>\n      <td>7.692375</td>\n      <td>0.620453</td>\n      <td>0.095697</td>\n      <td>39.350708</td>\n      <td>0.483819</td>\n      <td>0.128935</td>\n    </tr>\n    <tr>\n      <th>22</th>\n      <td>\\ATOMUSDT\\plots\\2022-04-06T202412\\backtest_res...</td>\n      <td>True</td>\n      <td>ATOMUSDT</td>\n      <td>0.30300</td>\n      <td>0.1760</td>\n      <td>0.12700</td>\n      <td>100.0</td>\n      <td>64.620</td>\n      <td>0.9162</td>\n      <td>0.56390</td>\n      <td>16.588208</td>\n      <td>0.489647</td>\n      <td>0.081672</td>\n      <td>35.834708</td>\n      <td>0.577798</td>\n      <td>0.119612</td>\n    </tr>\n    <tr>\n      <th>23</th>\n      <td>\\BAKEUSDT\\plots\\2022-04-06T203421\\backtest_res...</td>\n      <td>True</td>\n      <td>BAKEUSDT</td>\n      <td>0.12030</td>\n      <td>0.0333</td>\n      <td>0.08700</td>\n      <td>100.0</td>\n      <td>58.890</td>\n      <td>0.8466</td>\n      <td>0.45900</td>\n      <td>20.007625</td>\n      <td>0.872002</td>\n      <td>0.187168</td>\n      <td>21.562500</td>\n      <td>0.696792</td>\n      <td>0.102720</td>\n    </tr>\n    <tr>\n      <th>24</th>\n      <td>\\BANDUSDT\\plots\\2022-04-06T204423\\backtest_res...</td>\n      <td>True</td>\n      <td>BANDUSDT</td>\n      <td>-1.47500</td>\n      <td>0.1650</td>\n      <td>-1.64000</td>\n      <td>100.0</td>\n      <td>5.982</td>\n      <td>0.8920</td>\n      <td>0.92420</td>\n      <td>6.270125</td>\n      <td>0.737210</td>\n      <td>0.097471</td>\n      <td>264.240833</td>\n      <td>0.148447</td>\n      <td>0.032914</td>\n    </tr>\n    <tr>\n      <th>27</th>\n      <td>\\BELUSDT\\plots\\2022-04-06T205217\\backtest_resu...</td>\n      <td>True</td>\n      <td>BELUSDT</td>\n      <td>0.28570</td>\n      <td>0.2390</td>\n      <td>0.04670</td>\n      <td>100.0</td>\n      <td>79.750</td>\n      <td>0.8880</td>\n      <td>0.61770</td>\n      <td>12.553458</td>\n      <td>0.853220</td>\n      <td>0.133577</td>\n      <td>27.559042</td>\n      <td>0.494336</td>\n      <td>0.107327</td>\n    </tr>\n    <tr>\n      <th>28</th>\n      <td>\\BLZUSDT\\plots\\2022-04-06T210127\\backtest_resu...</td>\n      <td>True</td>\n      <td>BLZUSDT</td>\n      <td>0.30060</td>\n      <td>0.2320</td>\n      <td>0.06860</td>\n      <td>100.0</td>\n      <td>100.000</td>\n      <td>0.9065</td>\n      <td>0.69860</td>\n      <td>13.984708</td>\n      <td>0.956030</td>\n      <td>0.143322</td>\n      <td>27.455542</td>\n      <td>0.497001</td>\n      <td>0.123883</td>\n    </tr>\n    <tr>\n      <th>31</th>\n      <td>\\BNBUSDT\\plots\\2022-04-06T213154\\backtest_resu...</td>\n      <td>True</td>\n      <td>BNBUSDT</td>\n      <td>0.16200</td>\n      <td>0.1310</td>\n      <td>0.03100</td>\n      <td>100.0</td>\n      <td>70.870</td>\n      <td>0.8968</td>\n      <td>0.67700</td>\n      <td>26.788208</td>\n      <td>0.485636</td>\n      <td>0.061534</td>\n      <td>48.970833</td>\n      <td>0.478025</td>\n      <td>0.124988</td>\n    </tr>\n    <tr>\n      <th>32</th>\n      <td>\\BTSUSDT\\plots\\2022-04-06T213726\\backtest_resu...</td>\n      <td>True</td>\n      <td>BTSUSDT</td>\n      <td>0.26210</td>\n      <td>0.1740</td>\n      <td>0.08810</td>\n      <td>100.0</td>\n      <td>100.000</td>\n      <td>0.8957</td>\n      <td>0.76470</td>\n      <td>20.911792</td>\n      <td>0.981370</td>\n      <td>0.138583</td>\n      <td>30.752083</td>\n      <td>0.439665</td>\n      <td>0.093844</td>\n    </tr>\n    <tr>\n      <th>33</th>\n      <td>\\C98USDT\\plots\\2022-04-06T214953\\backtest_resu...</td>\n      <td>True</td>\n      <td>C98USDT</td>\n      <td>0.42100</td>\n      <td>0.1930</td>\n      <td>0.22800</td>\n      <td>100.0</td>\n      <td>100.000</td>\n      <td>0.7588</td>\n      <td>0.84980</td>\n      <td>21.904167</td>\n      <td>1.004610</td>\n      <td>0.192289</td>\n      <td>39.184042</td>\n      <td>0.401430</td>\n      <td>0.095326</td>\n    </tr>\n    <tr>\n      <th>36</th>\n      <td>\\CHZUSDT\\plots\\2022-04-06T220927\\backtest_resu...</td>\n      <td>True</td>\n      <td>CHZUSDT</td>\n      <td>0.29220</td>\n      <td>0.2110</td>\n      <td>0.08120</td>\n      <td>100.0</td>\n      <td>90.370</td>\n      <td>0.8257</td>\n      <td>0.63720</td>\n      <td>9.910417</td>\n      <td>0.755754</td>\n      <td>0.057503</td>\n      <td>27.648625</td>\n      <td>0.526384</td>\n      <td>0.110610</td>\n    </tr>\n    <tr>\n      <th>37</th>\n      <td>\\COMPUSDT\\plots\\2022-04-06T222143\\backtest_res...</td>\n      <td>True</td>\n      <td>COMPUSDT</td>\n      <td>0.20930</td>\n      <td>0.0183</td>\n      <td>0.19100</td>\n      <td>100.0</td>\n      <td>100.000</td>\n      <td>0.8413</td>\n      <td>0.83820</td>\n      <td>43.453333</td>\n      <td>1.166540</td>\n      <td>0.230823</td>\n      <td>28.412500</td>\n      <td>0.398611</td>\n      <td>0.079196</td>\n    </tr>\n  </tbody>\n</table>\n</div>"
     },
     "execution_count": 23,
     "metadata": {},
     "output_type": "execute_result"
    }
   ],
   "source": [
    "df.drop_duplicates(\n",
    "    subset=['s', 'prod', 'tgl_%', 'tgs_%', 'adgl_%', 'adgs_%', 'adgt_%', 'bnkrl_%', 'bnkrs_%', 'ebrl', 'ebrs', 'long',\n",
    "            'short'], keep='first',\n",
    "    inplace=True)\n",
    "dx = df[['file', 'prod', 's', 'adgt_%', 'adgl_%', 'adgs_%', 'bnkrl_%', 'bnkrs_%', 'ebrl', 'ebrs', 'maxsl', 'pamaxl','pastdl',\n",
    "         'maxss', 'pamaxs','pastds' ]]\n",
    "dx"
   ]
  },
  {
   "cell_type": "code",
   "execution_count": 20,
   "outputs": [],
   "source": [],
   "metadata": {
    "collapsed": false,
    "pycharm": {
     "name": "#%%\n"
    }
   }
  }
 ],
 "metadata": {
  "kernelspec": {
   "display_name": "PyCharm (passivbot)",
   "language": "python",
   "name": "pycharm-997905a8"
  },
  "language_info": {
   "codemirror_mode": {
    "name": "ipython",
    "version": 3
   },
   "file_extension": ".py",
   "mimetype": "text/x-python",
   "name": "python",
   "nbconvert_exporter": "python",
   "pygments_lexer": "ipython3",
   "version": "3.8.12"
  }
 },
 "nbformat": 4,
 "nbformat_minor": 1
}