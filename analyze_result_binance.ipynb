{
 "cells": [
  {
   "cell_type": "code",
   "execution_count": 1,
   "metadata": {},
   "outputs": [],
   "source": [
    "\n",
    "%load_ext autoreload\n",
    "%autoreload 2"
   ]
  },
  {
   "cell_type": "code",
   "execution_count": 2,
   "metadata": {
    "pycharm": {
     "name": "#%%\n"
    }
   },
   "outputs": [],
   "source": [
    "import glob\n",
    "\n",
    "import pandas as pd"
   ]
  },
  {
   "cell_type": "code",
   "execution_count": 3,
   "outputs": [
    {
     "data": {
      "text/plain": "{'1000XECUSDT': 'cfgs_live\\\\1000XEC.json',\n '100SHIBUSDT': 'cfgs_live\\\\100SHIB.json',\n '1INCHUSDT': 'cfgs_live\\\\1INCH.json',\n 'ADAUSDT': 'cfgs_live\\\\ADA.json',\n 'AKROUSDT': 'cfgs_live\\\\AKRO.json',\n 'ALGOUSDT': 'cfgs_live\\\\ALGO.json',\n 'ALICEUSDT': 'cfgs_live\\\\ALICE.json',\n 'ALPHAUSDT': 'cfgs_live\\\\ALPHA.json',\n 'ANKRUSDT': 'cfgs_live\\\\ANKR.json',\n 'API3USDT': 'cfgs_live\\\\API3.json',\n 'ARUSDT': 'cfgs_live\\\\AR.json',\n 'ATOMUSDT': 'cfgs_live\\\\ATOM.json',\n 'BAKEUSDT': 'cfgs_live\\\\BAKE.json',\n 'BANDUSDT': 'cfgs_live\\\\BAND.json',\n 'BELUSDT': 'cfgs_live\\\\BEL.json',\n 'BLZUSDT': 'cfgs_live\\\\BLZ.json',\n 'BNBUSDT': 'cfgs_live\\\\BNB.json',\n 'BTSUSDT': 'cfgs_live\\\\BTS.json',\n 'C98USDT': 'cfgs_live\\\\C98.json',\n 'CHZUSDT': 'cfgs_live\\\\CHZ.json',\n 'COMPUSDT': 'cfgs_live\\\\COMP.json',\n 'COTIUSDT': 'cfgs_live\\\\COTI.json',\n 'CRVUSDT': 'cfgs_live\\\\CRV.json',\n 'DENTUSDT': 'cfgs_live\\\\DENT.json',\n 'DGBUSDT': 'cfgs_live\\\\DGB.json',\n 'DODOUSDT': 'cfgs_live\\\\DODO.json',\n 'DOGEUSDT': 'cfgs_live\\\\DOGE.json',\n 'DOTUSDT': 'cfgs_live\\\\DOT.json',\n 'DUSKUSDT': 'cfgs_live\\\\DUSK.json',\n 'DYDXUSDT': 'cfgs_live\\\\DYDX.json',\n 'ENJUSDT': 'cfgs_live\\\\ENJ.json',\n 'ETCUSDT': 'cfgs_live\\\\ETC.json',\n 'ETHUSDT': 'cfgs_live\\\\ETH.json',\n 'FLMUSDT': 'cfgs_live\\\\FLM.json',\n 'FLOWUSDT': 'cfgs_live\\\\FLOW.json',\n 'GRTUSDT': 'cfgs_live\\\\GRT.json',\n 'GTCUSDT': 'cfgs_live\\\\GTC.json',\n 'HBARUSDT': 'cfgs_live\\\\HBAR.json',\n 'HOTUSDT': 'cfgs_live\\\\HOT.json',\n 'ICPUSDT': 'cfgs_live\\\\ICP.json',\n 'ICXUSDT': 'cfgs_live\\\\ICX.json',\n 'IOSTUSDT': 'cfgs_live\\\\IOST.json',\n 'IOTAUSDT': 'cfgs_live\\\\IOTA.json',\n 'KAVAUSDT': 'cfgs_live\\\\KAVA.json',\n 'KLAYUSDT': 'cfgs_live\\\\KLAY.json',\n 'KNCUSDT': 'cfgs_live\\\\KNC.json',\n 'LINAUSDT': 'cfgs_live\\\\LINA.json',\n 'LINKUSDT': 'cfgs_live\\\\LINK.json',\n 'LITUSDT': 'cfgs_live\\\\LIT.json',\n 'LTCUSDT': 'cfgs_live\\\\LTC.json',\n 'MATICUSDT': 'cfgs_live\\\\MATIC.json',\n 'MKRUSDT': 'cfgs_live\\\\MKR.json',\n 'MTLUSDT': 'cfgs_live\\\\MTL.json',\n 'NEOUSDT': 'cfgs_live\\\\NEO.json',\n 'NKNUSDT': 'cfgs_live\\\\NKN.json',\n 'OCEANUSDT': 'cfgs_live\\\\OCEAN.json',\n 'OGNUSDT': 'cfgs_live\\\\OGN.json',\n 'OMGUSDT': 'cfgs_live\\\\OMG.json',\n 'ONEUSDT': 'cfgs_live\\\\ONE.json',\n 'ONTUSDT': 'cfgs_live\\\\ONT.json',\n 'QTUMUSDT': 'cfgs_live\\\\QTUM.json',\n 'REEFUSDT': 'cfgs_live\\\\REEF.json',\n 'RENUSDT': 'cfgs_live\\\\REN.json',\n 'RLCUSDT': 'cfgs_live\\\\RLC.json',\n 'ROSEUSDT': 'cfgs_live\\\\ROSE.json',\n 'RVNUSDT': 'cfgs_live\\\\RVN.json',\n 'SCUSDT': 'cfgs_live\\\\SC.json',\n 'SFPUSDT': 'cfgs_live\\\\SFP.json',\n 'SNXUSDT': 'cfgs_live\\\\SNX.json',\n 'STMXUSDT': 'cfgs_live\\\\STMX.json',\n 'SUSHIUSDT': 'cfgs_live\\\\SUSHI.json',\n 'SXPUSDT': 'cfgs_live\\\\SXP.json',\n 'TLMUSDT': 'cfgs_live\\\\TLM.json',\n 'TOMOUSDT': 'cfgs_live\\\\TOMO.json',\n 'TRBUSDT': 'cfgs_live\\\\TRB.json',\n 'UNFIUSDT': 'cfgs_live\\\\UNFI.json',\n 'VETUSDT': 'cfgs_live\\\\VET.json',\n 'WAVESUSDT': 'cfgs_live\\\\WAVES.json',\n 'XLMUSDT': 'cfgs_live\\\\XLM.json',\n 'XMRUSDT': 'cfgs_live\\\\XMR.json',\n 'XRPUSDT': 'cfgs_live\\\\XRP.json',\n 'ZECUSDT': 'cfgs_live\\\\ZEC.json',\n 'ZENUSDT': 'cfgs_live\\\\ZEN.json',\n 'ZILUSDT': 'cfgs_live\\\\ZIL.json',\n 'ZRXUSDT': 'cfgs_live\\\\ZRX.json'}"
     },
     "execution_count": 3,
     "metadata": {},
     "output_type": "execute_result"
    }
   ],
   "source": [
    "## delete the folders not in live config ( extra crap )\n",
    "live_config_files = glob.glob('cfgs_live/*', recursive=True)\n",
    "allowed_symbols = []\n",
    "symbol_files = {}\n",
    "for f in live_config_files:\n",
    "    symbol = f.split('\\\\')[-1]\n",
    "    symbol = symbol.replace('.json', 'USDT')\n",
    "    allowed_symbols.append(symbol)\n",
    "    symbol_files[symbol] = f\n",
    "symbol_files\n",
    "#allowed_symbols = [\"ALICEUSDT\",\"XRPUSDT\",\"HOTUSDT\"]"
   ],
   "metadata": {
    "collapsed": false,
    "pycharm": {
     "name": "#%%\n"
    }
   }
  },
  {
   "cell_type": "code",
   "execution_count": 4,
   "outputs": [
    {
     "name": "stdout",
     "output_type": "stream",
     "text": [
      "backtests/binance\\ADAUSDT\\plots\\2022-04-03T202719\\live_config.json is same as cfgs_live\\ADA.json\n",
      "backtests/binance\\ALICEUSDT\\plots\\2022-04-05T084248\\live_config.json is same as cfgs_live\\ALICE.json\n",
      "backtests/binance\\API3USDT\\plots\\2022-04-05T085246\\live_config.json is same as cfgs_live\\API3.json\n",
      "backtests/binance\\ATOMUSDT\\plots\\2022-04-04T110127\\live_config.json is same as cfgs_live\\ATOM.json\n",
      "backtests/binance\\BNBUSDT\\plots\\2022-04-04T105245\\live_config.json is same as cfgs_live\\BNB.json\n",
      "backtests/binance\\CHZUSDT\\plots\\2022-04-03T203915\\live_config.json is same as cfgs_live\\CHZ.json\n",
      "backtests/binance\\CRVUSDT\\plots\\2022-04-06T005705\\live_config.json is same as cfgs_live\\CRV.json\n",
      "backtests/binance\\DOGEUSDT\\plots\\2022-04-04T230406\\live_config.json is same as cfgs_live\\DOGE.json\n",
      "backtests/binance\\DOTUSDT\\plots\\2022-04-03T085136\\live_config.json is same as cfgs_live\\DOT.json\n",
      "backtests/binance\\DYDXUSDT\\plots\\2022-04-06T005530\\live_config.json is same as cfgs_live\\DYDX.json\n",
      "backtests/binance\\ENJUSDT\\plots\\2022-04-06T002149\\live_config.json is same as cfgs_live\\ENJ.json\n",
      "backtests/binance\\ETHUSDT\\plots\\2022-04-02T210517\\live_config.json is same as cfgs_live\\ETH.json\n",
      "backtests/binance\\GRTUSDT\\plots\\2022-04-05T090611\\live_config.json is same as cfgs_live\\GRT.json\n",
      "backtests/binance\\ICXUSDT\\plots\\2022-04-05T091155\\live_config.json is same as cfgs_live\\ICX.json\n",
      "backtests/binance\\KNCUSDT\\plots\\2022-04-04T231319\\live_config.json is same as cfgs_live\\KNC.json\n",
      "backtests/binance\\LINKUSDT\\plots\\2022-04-04T225816\\live_config.json is same as cfgs_live\\LINK.json\n",
      "backtests/binance\\LTCUSDT\\plots\\2022-04-04T230844\\live_config.json is same as cfgs_live\\LTC.json\n",
      "backtests/binance\\MATICUSDT\\plots\\2022-04-04T232545\\live_config.json is same as cfgs_live\\MATIC.json\n",
      "backtests/binance\\RENUSDT\\plots\\2022-04-05T234522\\live_config.json is same as cfgs_live\\REN.json\n",
      "backtests/binance\\WAVESUSDT\\plots\\2022-04-03T085626\\live_config.json is same as cfgs_live\\WAVES.json\n",
      "backtests/binance\\XMRUSDT\\plots\\2022-04-04T104118\\live_config.json is same as cfgs_live\\XMR.json\n",
      "backtests/binance\\XRPUSDT\\plots\\2022-04-02T215823\\live_config.json is same as cfgs_live\\XRP.json\n",
      "backtests/binance\\XRPUSDT\\plots\\2022-04-03T071614\\live_config.json is same as cfgs_live\\XRP.json\n",
      "backtests/binance\\ZECUSDT\\plots\\2022-04-04T094221\\live_config.json is same as cfgs_live\\ZEC.json\n"
     ]
    }
   ],
   "source": [
    "## NOW copy result folders :)\n",
    "import json\n",
    "import shutil\n",
    "\n",
    "files = glob.iglob('backtests/binance/' + '**/live_config.json', recursive=True)\n",
    "\n",
    "for filename in files:\n",
    "    with open(filename) as f:\n",
    "        config = json.load(f)\n",
    "    symbol = config['config_name'].split('_')[2]\n",
    "\n",
    "    if symbol not in symbol_files: continue\n",
    "\n",
    "    with open(symbol_files[symbol]) as f:\n",
    "        production_config = json.load(f)\n",
    "\n",
    "    long_pc = production_config['long']\n",
    "    long_c = config['long']\n",
    "\n",
    "    k_pc = long_pc.keys()\n",
    "    k_c = long_c.keys()\n",
    "\n",
    "    if len(k_c) != len(k_c): continue\n",
    "\n",
    "    same = True\n",
    "    for k in k_pc:\n",
    "        if k not in k_c:\n",
    "            same = False\n",
    "            break\n",
    "        v_pc = long_pc[k]\n",
    "        v_c = long_c[k]\n",
    "        #print(f'{k}={v_c},{v_pc}')\n",
    "\n",
    "    if not same: continue\n",
    "\n",
    "    print(f'{filename} is same as {symbol_files[symbol]}')\n",
    "\n",
    "    src = filename.replace('\\\\live_config.json', '')\n",
    "    dst = f'backtests/binance_production/{symbol}'\n",
    "    shutil.copytree(src=src, dst=dst, dirs_exist_ok=True)\n",
    "\n"
   ],
   "metadata": {
    "collapsed": false,
    "pycharm": {
     "name": "#%%\n"
    }
   }
  },
  {
   "cell_type": "code",
   "execution_count": 5,
   "metadata": {
    "pycharm": {
     "name": "#%%\n"
    }
   },
   "outputs": [
    {
     "name": "stderr",
     "output_type": "stream",
     "text": [
      "C:\\Users\\skhan\\AppData\\Local\\Temp/ipykernel_614140/891417201.py:47: FutureWarning: The frame.append method is deprecated and will be removed from pandas in a future version. Use pandas.concat instead.\n",
      "  big_data = big_data.append(d, ignore_index=True)\n",
      "C:\\Users\\skhan\\AppData\\Local\\Temp/ipykernel_614140/891417201.py:47: FutureWarning: The frame.append method is deprecated and will be removed from pandas in a future version. Use pandas.concat instead.\n",
      "  big_data = big_data.append(d, ignore_index=True)\n",
      "C:\\Users\\skhan\\AppData\\Local\\Temp/ipykernel_614140/891417201.py:47: FutureWarning: The frame.append method is deprecated and will be removed from pandas in a future version. Use pandas.concat instead.\n",
      "  big_data = big_data.append(d, ignore_index=True)\n",
      "C:\\Users\\skhan\\AppData\\Local\\Temp/ipykernel_614140/891417201.py:47: FutureWarning: The frame.append method is deprecated and will be removed from pandas in a future version. Use pandas.concat instead.\n",
      "  big_data = big_data.append(d, ignore_index=True)\n",
      "C:\\Users\\skhan\\AppData\\Local\\Temp/ipykernel_614140/891417201.py:47: FutureWarning: The frame.append method is deprecated and will be removed from pandas in a future version. Use pandas.concat instead.\n",
      "  big_data = big_data.append(d, ignore_index=True)\n",
      "C:\\Users\\skhan\\AppData\\Local\\Temp/ipykernel_614140/891417201.py:47: FutureWarning: The frame.append method is deprecated and will be removed from pandas in a future version. Use pandas.concat instead.\n",
      "  big_data = big_data.append(d, ignore_index=True)\n",
      "C:\\Users\\skhan\\AppData\\Local\\Temp/ipykernel_614140/891417201.py:47: FutureWarning: The frame.append method is deprecated and will be removed from pandas in a future version. Use pandas.concat instead.\n",
      "  big_data = big_data.append(d, ignore_index=True)\n",
      "C:\\Users\\skhan\\AppData\\Local\\Temp/ipykernel_614140/891417201.py:47: FutureWarning: The frame.append method is deprecated and will be removed from pandas in a future version. Use pandas.concat instead.\n",
      "  big_data = big_data.append(d, ignore_index=True)\n",
      "C:\\Users\\skhan\\AppData\\Local\\Temp/ipykernel_614140/891417201.py:47: FutureWarning: The frame.append method is deprecated and will be removed from pandas in a future version. Use pandas.concat instead.\n",
      "  big_data = big_data.append(d, ignore_index=True)\n",
      "C:\\Users\\skhan\\AppData\\Local\\Temp/ipykernel_614140/891417201.py:47: FutureWarning: The frame.append method is deprecated and will be removed from pandas in a future version. Use pandas.concat instead.\n",
      "  big_data = big_data.append(d, ignore_index=True)\n",
      "C:\\Users\\skhan\\AppData\\Local\\Temp/ipykernel_614140/891417201.py:47: FutureWarning: The frame.append method is deprecated and will be removed from pandas in a future version. Use pandas.concat instead.\n",
      "  big_data = big_data.append(d, ignore_index=True)\n",
      "C:\\Users\\skhan\\AppData\\Local\\Temp/ipykernel_614140/891417201.py:47: FutureWarning: The frame.append method is deprecated and will be removed from pandas in a future version. Use pandas.concat instead.\n",
      "  big_data = big_data.append(d, ignore_index=True)\n",
      "C:\\Users\\skhan\\AppData\\Local\\Temp/ipykernel_614140/891417201.py:47: FutureWarning: The frame.append method is deprecated and will be removed from pandas in a future version. Use pandas.concat instead.\n",
      "  big_data = big_data.append(d, ignore_index=True)\n",
      "C:\\Users\\skhan\\AppData\\Local\\Temp/ipykernel_614140/891417201.py:47: FutureWarning: The frame.append method is deprecated and will be removed from pandas in a future version. Use pandas.concat instead.\n",
      "  big_data = big_data.append(d, ignore_index=True)\n",
      "C:\\Users\\skhan\\AppData\\Local\\Temp/ipykernel_614140/891417201.py:47: FutureWarning: The frame.append method is deprecated and will be removed from pandas in a future version. Use pandas.concat instead.\n",
      "  big_data = big_data.append(d, ignore_index=True)\n",
      "C:\\Users\\skhan\\AppData\\Local\\Temp/ipykernel_614140/891417201.py:47: FutureWarning: The frame.append method is deprecated and will be removed from pandas in a future version. Use pandas.concat instead.\n",
      "  big_data = big_data.append(d, ignore_index=True)\n",
      "C:\\Users\\skhan\\AppData\\Local\\Temp/ipykernel_614140/891417201.py:47: FutureWarning: The frame.append method is deprecated and will be removed from pandas in a future version. Use pandas.concat instead.\n",
      "  big_data = big_data.append(d, ignore_index=True)\n",
      "C:\\Users\\skhan\\AppData\\Local\\Temp/ipykernel_614140/891417201.py:47: FutureWarning: The frame.append method is deprecated and will be removed from pandas in a future version. Use pandas.concat instead.\n",
      "  big_data = big_data.append(d, ignore_index=True)\n",
      "C:\\Users\\skhan\\AppData\\Local\\Temp/ipykernel_614140/891417201.py:47: FutureWarning: The frame.append method is deprecated and will be removed from pandas in a future version. Use pandas.concat instead.\n",
      "  big_data = big_data.append(d, ignore_index=True)\n",
      "C:\\Users\\skhan\\AppData\\Local\\Temp/ipykernel_614140/891417201.py:47: FutureWarning: The frame.append method is deprecated and will be removed from pandas in a future version. Use pandas.concat instead.\n",
      "  big_data = big_data.append(d, ignore_index=True)\n",
      "C:\\Users\\skhan\\AppData\\Local\\Temp/ipykernel_614140/891417201.py:47: FutureWarning: The frame.append method is deprecated and will be removed from pandas in a future version. Use pandas.concat instead.\n",
      "  big_data = big_data.append(d, ignore_index=True)\n",
      "C:\\Users\\skhan\\AppData\\Local\\Temp/ipykernel_614140/891417201.py:47: FutureWarning: The frame.append method is deprecated and will be removed from pandas in a future version. Use pandas.concat instead.\n",
      "  big_data = big_data.append(d, ignore_index=True)\n",
      "C:\\Users\\skhan\\AppData\\Local\\Temp/ipykernel_614140/891417201.py:47: FutureWarning: The frame.append method is deprecated and will be removed from pandas in a future version. Use pandas.concat instead.\n",
      "  big_data = big_data.append(d, ignore_index=True)\n"
     ]
    },
    {
     "data": {
      "text/plain": "                              file    v          s  long  tgl_%  adgl_%  \\\n0     \\ADAUSDT\\backtest_result.txt  5.5    ADAUSDT  True  15.76  0.0502   \n1   \\ALICEUSDT\\backtest_result.txt  5.5  ALICEUSDT  True  21.72  0.0850   \n2    \\API3USDT\\backtest_result.txt  5.5   API3USDT  True  16.46  0.3490   \n3    \\ATOMUSDT\\backtest_result.txt  5.5   ATOMUSDT  True  37.01  0.1280   \n4     \\BNBUSDT\\backtest_result.txt  5.5    BNBUSDT  True  20.32  0.0738   \n5     \\CHZUSDT\\backtest_result.txt  5.5    CHZUSDT  True  39.34  0.1310   \n6     \\CRVUSDT\\backtest_result.txt  5.5    CRVUSDT  True  39.52  0.1360   \n7    \\DOGEUSDT\\backtest_result.txt  5.5   DOGEUSDT  True  27.02  0.0977   \n8     \\DOTUSDT\\backtest_result.txt  5.5    DOTUSDT  True  36.94  0.1290   \n9    \\DYDXUSDT\\backtest_result.txt  5.5   DYDXUSDT  True  31.13  0.1280   \n10    \\ENJUSDT\\backtest_result.txt  5.5    ENJUSDT  True  54.24  0.1780   \n11    \\ETHUSDT\\backtest_result.txt  5.5    ETHUSDT  True  25.43  0.0954   \n12    \\GRTUSDT\\backtest_result.txt  5.5    GRTUSDT  True  37.99  0.1350   \n13    \\ICXUSDT\\backtest_result.txt  5.5    ICXUSDT  True  24.65  0.0895   \n14    \\KNCUSDT\\backtest_result.txt  5.5    KNCUSDT  True  93.08  0.2720   \n15   \\LINKUSDT\\backtest_result.txt  5.5   LINKUSDT  True  26.42  0.0994   \n16    \\LTCUSDT\\backtest_result.txt  5.5    LTCUSDT  True  18.57  0.0625   \n17  \\MATICUSDT\\backtest_result.txt  5.5  MATICUSDT  True  34.58  0.1230   \n18    \\RENUSDT\\backtest_result.txt  5.5    RENUSDT  True  33.10  0.1300   \n19  \\WAVESUSDT\\backtest_result.txt  5.5  WAVESUSDT  True  31.44  0.1160   \n20    \\XMRUSDT\\backtest_result.txt  5.5    XMRUSDT  True  33.02  0.1180   \n21    \\XRPUSDT\\backtest_result.txt  5.5    XRPUSDT  True  17.80  0.0669   \n22    \\ZECUSDT\\backtest_result.txt  5.5    ZECUSDT  True  35.22  0.1200   \n\n    bnkrl_%    ebrl  short   tgs_%   adgs_%  bnkrs_%    ebrs  \n0     100.0  0.8776   True  37.180  0.11100   100.00  0.8613  \n1     100.0  0.8017   True   5.283  0.03270   100.00  0.7321  \n2     100.0  0.9537   True  18.290  0.46700   100.00  0.8913  \n3     100.0  0.9440   True  14.840  0.07030   100.00  0.7710  \n4     100.0  0.9283   True   9.426  0.02060   100.00  0.8129  \n5     100.0  0.8653   True  26.910  0.07480   100.00  0.7790  \n6     100.0  0.9182   True   0.000  0.10400    33.99  0.3125  \n7     100.0  0.8941   True  48.100  0.15600   100.00  0.8776  \n8     100.0  0.8642   True  24.320  0.06700   100.00  0.8015  \n9     100.0  0.9144   True  43.290  0.16700   100.00  0.7776  \n10    100.0  0.8706   True   2.184  0.04920    46.10  0.4428  \n11    100.0  0.8365   True  22.730  0.04810   100.00  0.8851  \n12    100.0  0.8854   True  44.980  0.16300   100.00  0.8091  \n13    100.0  0.8810   True  20.610  0.04450   100.00  0.8330  \n14    100.0  0.8958   True  29.830  0.09350   100.00  0.8532  \n15    100.0  0.8171   True  50.580  0.15800   100.00  0.8640  \n16    100.0  0.8919   True  27.430  0.08780   100.00  0.8324  \n17    100.0  0.9084   True  14.960  0.05370   100.00  0.8584  \n18    100.0  0.7967   True  -8.178 -0.08080   100.00  0.8137  \n19    100.0  0.8914   True -15.070 -0.14800    87.22  0.5464  \n20    100.0  0.8935   True  29.970  0.09620   100.00  0.9161  \n21    100.0  0.8298   True  14.160  0.06280   100.00  0.8590  \n22    100.0  0.8795   True  17.560  0.00283   100.00  0.7051  ",
      "text/html": "<div>\n<style scoped>\n    .dataframe tbody tr th:only-of-type {\n        vertical-align: middle;\n    }\n\n    .dataframe tbody tr th {\n        vertical-align: top;\n    }\n\n    .dataframe thead th {\n        text-align: right;\n    }\n</style>\n<table border=\"1\" class=\"dataframe\">\n  <thead>\n    <tr style=\"text-align: right;\">\n      <th></th>\n      <th>file</th>\n      <th>v</th>\n      <th>s</th>\n      <th>long</th>\n      <th>tgl_%</th>\n      <th>adgl_%</th>\n      <th>bnkrl_%</th>\n      <th>ebrl</th>\n      <th>short</th>\n      <th>tgs_%</th>\n      <th>adgs_%</th>\n      <th>bnkrs_%</th>\n      <th>ebrs</th>\n    </tr>\n  </thead>\n  <tbody>\n    <tr>\n      <th>0</th>\n      <td>\\ADAUSDT\\backtest_result.txt</td>\n      <td>5.5</td>\n      <td>ADAUSDT</td>\n      <td>True</td>\n      <td>15.76</td>\n      <td>0.0502</td>\n      <td>100.0</td>\n      <td>0.8776</td>\n      <td>True</td>\n      <td>37.180</td>\n      <td>0.11100</td>\n      <td>100.00</td>\n      <td>0.8613</td>\n    </tr>\n    <tr>\n      <th>1</th>\n      <td>\\ALICEUSDT\\backtest_result.txt</td>\n      <td>5.5</td>\n      <td>ALICEUSDT</td>\n      <td>True</td>\n      <td>21.72</td>\n      <td>0.0850</td>\n      <td>100.0</td>\n      <td>0.8017</td>\n      <td>True</td>\n      <td>5.283</td>\n      <td>0.03270</td>\n      <td>100.00</td>\n      <td>0.7321</td>\n    </tr>\n    <tr>\n      <th>2</th>\n      <td>\\API3USDT\\backtest_result.txt</td>\n      <td>5.5</td>\n      <td>API3USDT</td>\n      <td>True</td>\n      <td>16.46</td>\n      <td>0.3490</td>\n      <td>100.0</td>\n      <td>0.9537</td>\n      <td>True</td>\n      <td>18.290</td>\n      <td>0.46700</td>\n      <td>100.00</td>\n      <td>0.8913</td>\n    </tr>\n    <tr>\n      <th>3</th>\n      <td>\\ATOMUSDT\\backtest_result.txt</td>\n      <td>5.5</td>\n      <td>ATOMUSDT</td>\n      <td>True</td>\n      <td>37.01</td>\n      <td>0.1280</td>\n      <td>100.0</td>\n      <td>0.9440</td>\n      <td>True</td>\n      <td>14.840</td>\n      <td>0.07030</td>\n      <td>100.00</td>\n      <td>0.7710</td>\n    </tr>\n    <tr>\n      <th>4</th>\n      <td>\\BNBUSDT\\backtest_result.txt</td>\n      <td>5.5</td>\n      <td>BNBUSDT</td>\n      <td>True</td>\n      <td>20.32</td>\n      <td>0.0738</td>\n      <td>100.0</td>\n      <td>0.9283</td>\n      <td>True</td>\n      <td>9.426</td>\n      <td>0.02060</td>\n      <td>100.00</td>\n      <td>0.8129</td>\n    </tr>\n    <tr>\n      <th>5</th>\n      <td>\\CHZUSDT\\backtest_result.txt</td>\n      <td>5.5</td>\n      <td>CHZUSDT</td>\n      <td>True</td>\n      <td>39.34</td>\n      <td>0.1310</td>\n      <td>100.0</td>\n      <td>0.8653</td>\n      <td>True</td>\n      <td>26.910</td>\n      <td>0.07480</td>\n      <td>100.00</td>\n      <td>0.7790</td>\n    </tr>\n    <tr>\n      <th>6</th>\n      <td>\\CRVUSDT\\backtest_result.txt</td>\n      <td>5.5</td>\n      <td>CRVUSDT</td>\n      <td>True</td>\n      <td>39.52</td>\n      <td>0.1360</td>\n      <td>100.0</td>\n      <td>0.9182</td>\n      <td>True</td>\n      <td>0.000</td>\n      <td>0.10400</td>\n      <td>33.99</td>\n      <td>0.3125</td>\n    </tr>\n    <tr>\n      <th>7</th>\n      <td>\\DOGEUSDT\\backtest_result.txt</td>\n      <td>5.5</td>\n      <td>DOGEUSDT</td>\n      <td>True</td>\n      <td>27.02</td>\n      <td>0.0977</td>\n      <td>100.0</td>\n      <td>0.8941</td>\n      <td>True</td>\n      <td>48.100</td>\n      <td>0.15600</td>\n      <td>100.00</td>\n      <td>0.8776</td>\n    </tr>\n    <tr>\n      <th>8</th>\n      <td>\\DOTUSDT\\backtest_result.txt</td>\n      <td>5.5</td>\n      <td>DOTUSDT</td>\n      <td>True</td>\n      <td>36.94</td>\n      <td>0.1290</td>\n      <td>100.0</td>\n      <td>0.8642</td>\n      <td>True</td>\n      <td>24.320</td>\n      <td>0.06700</td>\n      <td>100.00</td>\n      <td>0.8015</td>\n    </tr>\n    <tr>\n      <th>9</th>\n      <td>\\DYDXUSDT\\backtest_result.txt</td>\n      <td>5.5</td>\n      <td>DYDXUSDT</td>\n      <td>True</td>\n      <td>31.13</td>\n      <td>0.1280</td>\n      <td>100.0</td>\n      <td>0.9144</td>\n      <td>True</td>\n      <td>43.290</td>\n      <td>0.16700</td>\n      <td>100.00</td>\n      <td>0.7776</td>\n    </tr>\n    <tr>\n      <th>10</th>\n      <td>\\ENJUSDT\\backtest_result.txt</td>\n      <td>5.5</td>\n      <td>ENJUSDT</td>\n      <td>True</td>\n      <td>54.24</td>\n      <td>0.1780</td>\n      <td>100.0</td>\n      <td>0.8706</td>\n      <td>True</td>\n      <td>2.184</td>\n      <td>0.04920</td>\n      <td>46.10</td>\n      <td>0.4428</td>\n    </tr>\n    <tr>\n      <th>11</th>\n      <td>\\ETHUSDT\\backtest_result.txt</td>\n      <td>5.5</td>\n      <td>ETHUSDT</td>\n      <td>True</td>\n      <td>25.43</td>\n      <td>0.0954</td>\n      <td>100.0</td>\n      <td>0.8365</td>\n      <td>True</td>\n      <td>22.730</td>\n      <td>0.04810</td>\n      <td>100.00</td>\n      <td>0.8851</td>\n    </tr>\n    <tr>\n      <th>12</th>\n      <td>\\GRTUSDT\\backtest_result.txt</td>\n      <td>5.5</td>\n      <td>GRTUSDT</td>\n      <td>True</td>\n      <td>37.99</td>\n      <td>0.1350</td>\n      <td>100.0</td>\n      <td>0.8854</td>\n      <td>True</td>\n      <td>44.980</td>\n      <td>0.16300</td>\n      <td>100.00</td>\n      <td>0.8091</td>\n    </tr>\n    <tr>\n      <th>13</th>\n      <td>\\ICXUSDT\\backtest_result.txt</td>\n      <td>5.5</td>\n      <td>ICXUSDT</td>\n      <td>True</td>\n      <td>24.65</td>\n      <td>0.0895</td>\n      <td>100.0</td>\n      <td>0.8810</td>\n      <td>True</td>\n      <td>20.610</td>\n      <td>0.04450</td>\n      <td>100.00</td>\n      <td>0.8330</td>\n    </tr>\n    <tr>\n      <th>14</th>\n      <td>\\KNCUSDT\\backtest_result.txt</td>\n      <td>5.5</td>\n      <td>KNCUSDT</td>\n      <td>True</td>\n      <td>93.08</td>\n      <td>0.2720</td>\n      <td>100.0</td>\n      <td>0.8958</td>\n      <td>True</td>\n      <td>29.830</td>\n      <td>0.09350</td>\n      <td>100.00</td>\n      <td>0.8532</td>\n    </tr>\n    <tr>\n      <th>15</th>\n      <td>\\LINKUSDT\\backtest_result.txt</td>\n      <td>5.5</td>\n      <td>LINKUSDT</td>\n      <td>True</td>\n      <td>26.42</td>\n      <td>0.0994</td>\n      <td>100.0</td>\n      <td>0.8171</td>\n      <td>True</td>\n      <td>50.580</td>\n      <td>0.15800</td>\n      <td>100.00</td>\n      <td>0.8640</td>\n    </tr>\n    <tr>\n      <th>16</th>\n      <td>\\LTCUSDT\\backtest_result.txt</td>\n      <td>5.5</td>\n      <td>LTCUSDT</td>\n      <td>True</td>\n      <td>18.57</td>\n      <td>0.0625</td>\n      <td>100.0</td>\n      <td>0.8919</td>\n      <td>True</td>\n      <td>27.430</td>\n      <td>0.08780</td>\n      <td>100.00</td>\n      <td>0.8324</td>\n    </tr>\n    <tr>\n      <th>17</th>\n      <td>\\MATICUSDT\\backtest_result.txt</td>\n      <td>5.5</td>\n      <td>MATICUSDT</td>\n      <td>True</td>\n      <td>34.58</td>\n      <td>0.1230</td>\n      <td>100.0</td>\n      <td>0.9084</td>\n      <td>True</td>\n      <td>14.960</td>\n      <td>0.05370</td>\n      <td>100.00</td>\n      <td>0.8584</td>\n    </tr>\n    <tr>\n      <th>18</th>\n      <td>\\RENUSDT\\backtest_result.txt</td>\n      <td>5.5</td>\n      <td>RENUSDT</td>\n      <td>True</td>\n      <td>33.10</td>\n      <td>0.1300</td>\n      <td>100.0</td>\n      <td>0.7967</td>\n      <td>True</td>\n      <td>-8.178</td>\n      <td>-0.08080</td>\n      <td>100.00</td>\n      <td>0.8137</td>\n    </tr>\n    <tr>\n      <th>19</th>\n      <td>\\WAVESUSDT\\backtest_result.txt</td>\n      <td>5.5</td>\n      <td>WAVESUSDT</td>\n      <td>True</td>\n      <td>31.44</td>\n      <td>0.1160</td>\n      <td>100.0</td>\n      <td>0.8914</td>\n      <td>True</td>\n      <td>-15.070</td>\n      <td>-0.14800</td>\n      <td>87.22</td>\n      <td>0.5464</td>\n    </tr>\n    <tr>\n      <th>20</th>\n      <td>\\XMRUSDT\\backtest_result.txt</td>\n      <td>5.5</td>\n      <td>XMRUSDT</td>\n      <td>True</td>\n      <td>33.02</td>\n      <td>0.1180</td>\n      <td>100.0</td>\n      <td>0.8935</td>\n      <td>True</td>\n      <td>29.970</td>\n      <td>0.09620</td>\n      <td>100.00</td>\n      <td>0.9161</td>\n    </tr>\n    <tr>\n      <th>21</th>\n      <td>\\XRPUSDT\\backtest_result.txt</td>\n      <td>5.5</td>\n      <td>XRPUSDT</td>\n      <td>True</td>\n      <td>17.80</td>\n      <td>0.0669</td>\n      <td>100.0</td>\n      <td>0.8298</td>\n      <td>True</td>\n      <td>14.160</td>\n      <td>0.06280</td>\n      <td>100.00</td>\n      <td>0.8590</td>\n    </tr>\n    <tr>\n      <th>22</th>\n      <td>\\ZECUSDT\\backtest_result.txt</td>\n      <td>5.5</td>\n      <td>ZECUSDT</td>\n      <td>True</td>\n      <td>35.22</td>\n      <td>0.1200</td>\n      <td>100.0</td>\n      <td>0.8795</td>\n      <td>True</td>\n      <td>17.560</td>\n      <td>0.00283</td>\n      <td>100.00</td>\n      <td>0.7051</td>\n    </tr>\n  </tbody>\n</table>\n</div>"
     },
     "execution_count": 5,
     "metadata": {},
     "output_type": "execute_result"
    }
   ],
   "source": [
    "big_data = pd.DataFrame()\n",
    "files = glob.iglob('backtests/binance_production/' + '**/backtest_result.txt', recursive=True)\n",
    "i = 0\n",
    "for filename in files:\n",
    "    #print(f'parsing : {filename}')\n",
    "    with open(filename, 'r') as file:\n",
    "        data = file.read().split('\\n')\n",
    "        d = {'file': filename.replace('backtests/binance_production','')}\n",
    "        current_state = 'long'\n",
    "        for l in data:\n",
    "            l = l.split('|')\n",
    "            if len(l) == 4:\n",
    "                key = l[1].strip()\n",
    "                value = l[2].strip()\n",
    "\n",
    "                if key == 'Passivbot Version':\n",
    "                    d['v'] = value\n",
    "                if key == 'Symbol':\n",
    "                    d['s'] = value\n",
    "\n",
    "                if key == 'Long':\n",
    "                    current_state = 'long'\n",
    "                    d['long'] = bool(value) or False\n",
    "                if key == 'Short':\n",
    "                    current_state = 'short'\n",
    "                    d['short'] = bool(value) or False\n",
    "\n",
    "                if key == 'Total gain' and current_state == 'long':\n",
    "                    d['tgl_%'] = float(value.replace('%', '').strip())\n",
    "                if key == 'Average daily gain' and current_state == 'long':\n",
    "                    d['adgl_%'] = float(value.replace('%', '').strip())\n",
    "                if key == 'Closest bankruptcy' and current_state == 'long':\n",
    "                    d['bnkrl_%'] = float(value.replace('%', '').strip())\n",
    "                if key == 'Lowest equity/balance ratio' and current_state == 'long':\n",
    "                    d['ebrl'] = float(value.replace('%', '').strip())\n",
    "\n",
    "                if key == 'Total gain' and current_state == 'short':\n",
    "                    d['tgs_%'] = float(value.replace('%', '').strip())\n",
    "                if key == 'Average daily gain' and current_state == 'short':\n",
    "                    d['adgs_%'] = float(value.replace('%', '').strip())\n",
    "                if key == 'Closest bankruptcy' and current_state == 'short':\n",
    "                    d['bnkrs_%'] = float(value.replace('%', '').strip())\n",
    "                if key == 'Lowest equity/balance ratio' and current_state == 'short':\n",
    "                    d['ebrs'] = float(value.replace('%', '').strip())\n",
    "\n",
    "        #d['adgt_%'] = d['adgl_%']+d['adgs_%']\n",
    "        big_data = big_data.append(d, ignore_index=True)\n",
    "\n",
    "big_data"
   ]
  },
  {
   "cell_type": "markdown",
   "metadata": {},
   "source": [
    "Now filter the dataframe"
   ]
  },
  {
   "cell_type": "code",
   "execution_count": 6,
   "metadata": {
    "pycharm": {
     "name": "#%%\n"
    }
   },
   "outputs": [
    {
     "data": {
      "text/plain": "                              file    v          s  long  tgl_%  adgl_%  \\\n0     \\ADAUSDT\\backtest_result.txt  5.5    ADAUSDT  True  15.76  0.0502   \n1   \\ALICEUSDT\\backtest_result.txt  5.5  ALICEUSDT  True  21.72  0.0850   \n2    \\API3USDT\\backtest_result.txt  5.5   API3USDT  True  16.46  0.3490   \n3    \\ATOMUSDT\\backtest_result.txt  5.5   ATOMUSDT  True  37.01  0.1280   \n4     \\BNBUSDT\\backtest_result.txt  5.5    BNBUSDT  True  20.32  0.0738   \n5     \\CHZUSDT\\backtest_result.txt  5.5    CHZUSDT  True  39.34  0.1310   \n6     \\CRVUSDT\\backtest_result.txt  5.5    CRVUSDT  True  39.52  0.1360   \n7    \\DOGEUSDT\\backtest_result.txt  5.5   DOGEUSDT  True  27.02  0.0977   \n8     \\DOTUSDT\\backtest_result.txt  5.5    DOTUSDT  True  36.94  0.1290   \n9    \\DYDXUSDT\\backtest_result.txt  5.5   DYDXUSDT  True  31.13  0.1280   \n10    \\ENJUSDT\\backtest_result.txt  5.5    ENJUSDT  True  54.24  0.1780   \n11    \\ETHUSDT\\backtest_result.txt  5.5    ETHUSDT  True  25.43  0.0954   \n12    \\GRTUSDT\\backtest_result.txt  5.5    GRTUSDT  True  37.99  0.1350   \n13    \\ICXUSDT\\backtest_result.txt  5.5    ICXUSDT  True  24.65  0.0895   \n14    \\KNCUSDT\\backtest_result.txt  5.5    KNCUSDT  True  93.08  0.2720   \n15   \\LINKUSDT\\backtest_result.txt  5.5   LINKUSDT  True  26.42  0.0994   \n16    \\LTCUSDT\\backtest_result.txt  5.5    LTCUSDT  True  18.57  0.0625   \n17  \\MATICUSDT\\backtest_result.txt  5.5  MATICUSDT  True  34.58  0.1230   \n18    \\RENUSDT\\backtest_result.txt  5.5    RENUSDT  True  33.10  0.1300   \n19  \\WAVESUSDT\\backtest_result.txt  5.5  WAVESUSDT  True  31.44  0.1160   \n20    \\XMRUSDT\\backtest_result.txt  5.5    XMRUSDT  True  33.02  0.1180   \n21    \\XRPUSDT\\backtest_result.txt  5.5    XRPUSDT  True  17.80  0.0669   \n22    \\ZECUSDT\\backtest_result.txt  5.5    ZECUSDT  True  35.22  0.1200   \n\n    bnkrl_%    ebrl  short   tgs_%   adgs_%  bnkrs_%    ebrs   adgt_%  \n0     100.0  0.8776   True  37.180  0.11100   100.00  0.8613  0.16120  \n1     100.0  0.8017   True   5.283  0.03270   100.00  0.7321  0.11770  \n2     100.0  0.9537   True  18.290  0.46700   100.00  0.8913  0.81600  \n3     100.0  0.9440   True  14.840  0.07030   100.00  0.7710  0.19830  \n4     100.0  0.9283   True   9.426  0.02060   100.00  0.8129  0.09440  \n5     100.0  0.8653   True  26.910  0.07480   100.00  0.7790  0.20580  \n6     100.0  0.9182   True   0.000  0.10400    33.99  0.3125  0.24000  \n7     100.0  0.8941   True  48.100  0.15600   100.00  0.8776  0.25370  \n8     100.0  0.8642   True  24.320  0.06700   100.00  0.8015  0.19600  \n9     100.0  0.9144   True  43.290  0.16700   100.00  0.7776  0.29500  \n10    100.0  0.8706   True   2.184  0.04920    46.10  0.4428  0.22720  \n11    100.0  0.8365   True  22.730  0.04810   100.00  0.8851  0.14350  \n12    100.0  0.8854   True  44.980  0.16300   100.00  0.8091  0.29800  \n13    100.0  0.8810   True  20.610  0.04450   100.00  0.8330  0.13400  \n14    100.0  0.8958   True  29.830  0.09350   100.00  0.8532  0.36550  \n15    100.0  0.8171   True  50.580  0.15800   100.00  0.8640  0.25740  \n16    100.0  0.8919   True  27.430  0.08780   100.00  0.8324  0.15030  \n17    100.0  0.9084   True  14.960  0.05370   100.00  0.8584  0.17670  \n18    100.0  0.7967   True  -8.178 -0.08080   100.00  0.8137  0.04920  \n19    100.0  0.8914   True -15.070 -0.14800    87.22  0.5464 -0.03200  \n20    100.0  0.8935   True  29.970  0.09620   100.00  0.9161  0.21420  \n21    100.0  0.8298   True  14.160  0.06280   100.00  0.8590  0.12970  \n22    100.0  0.8795   True  17.560  0.00283   100.00  0.7051  0.12283  ",
      "text/html": "<div>\n<style scoped>\n    .dataframe tbody tr th:only-of-type {\n        vertical-align: middle;\n    }\n\n    .dataframe tbody tr th {\n        vertical-align: top;\n    }\n\n    .dataframe thead th {\n        text-align: right;\n    }\n</style>\n<table border=\"1\" class=\"dataframe\">\n  <thead>\n    <tr style=\"text-align: right;\">\n      <th></th>\n      <th>file</th>\n      <th>v</th>\n      <th>s</th>\n      <th>long</th>\n      <th>tgl_%</th>\n      <th>adgl_%</th>\n      <th>bnkrl_%</th>\n      <th>ebrl</th>\n      <th>short</th>\n      <th>tgs_%</th>\n      <th>adgs_%</th>\n      <th>bnkrs_%</th>\n      <th>ebrs</th>\n      <th>adgt_%</th>\n    </tr>\n  </thead>\n  <tbody>\n    <tr>\n      <th>0</th>\n      <td>\\ADAUSDT\\backtest_result.txt</td>\n      <td>5.5</td>\n      <td>ADAUSDT</td>\n      <td>True</td>\n      <td>15.76</td>\n      <td>0.0502</td>\n      <td>100.0</td>\n      <td>0.8776</td>\n      <td>True</td>\n      <td>37.180</td>\n      <td>0.11100</td>\n      <td>100.00</td>\n      <td>0.8613</td>\n      <td>0.16120</td>\n    </tr>\n    <tr>\n      <th>1</th>\n      <td>\\ALICEUSDT\\backtest_result.txt</td>\n      <td>5.5</td>\n      <td>ALICEUSDT</td>\n      <td>True</td>\n      <td>21.72</td>\n      <td>0.0850</td>\n      <td>100.0</td>\n      <td>0.8017</td>\n      <td>True</td>\n      <td>5.283</td>\n      <td>0.03270</td>\n      <td>100.00</td>\n      <td>0.7321</td>\n      <td>0.11770</td>\n    </tr>\n    <tr>\n      <th>2</th>\n      <td>\\API3USDT\\backtest_result.txt</td>\n      <td>5.5</td>\n      <td>API3USDT</td>\n      <td>True</td>\n      <td>16.46</td>\n      <td>0.3490</td>\n      <td>100.0</td>\n      <td>0.9537</td>\n      <td>True</td>\n      <td>18.290</td>\n      <td>0.46700</td>\n      <td>100.00</td>\n      <td>0.8913</td>\n      <td>0.81600</td>\n    </tr>\n    <tr>\n      <th>3</th>\n      <td>\\ATOMUSDT\\backtest_result.txt</td>\n      <td>5.5</td>\n      <td>ATOMUSDT</td>\n      <td>True</td>\n      <td>37.01</td>\n      <td>0.1280</td>\n      <td>100.0</td>\n      <td>0.9440</td>\n      <td>True</td>\n      <td>14.840</td>\n      <td>0.07030</td>\n      <td>100.00</td>\n      <td>0.7710</td>\n      <td>0.19830</td>\n    </tr>\n    <tr>\n      <th>4</th>\n      <td>\\BNBUSDT\\backtest_result.txt</td>\n      <td>5.5</td>\n      <td>BNBUSDT</td>\n      <td>True</td>\n      <td>20.32</td>\n      <td>0.0738</td>\n      <td>100.0</td>\n      <td>0.9283</td>\n      <td>True</td>\n      <td>9.426</td>\n      <td>0.02060</td>\n      <td>100.00</td>\n      <td>0.8129</td>\n      <td>0.09440</td>\n    </tr>\n    <tr>\n      <th>5</th>\n      <td>\\CHZUSDT\\backtest_result.txt</td>\n      <td>5.5</td>\n      <td>CHZUSDT</td>\n      <td>True</td>\n      <td>39.34</td>\n      <td>0.1310</td>\n      <td>100.0</td>\n      <td>0.8653</td>\n      <td>True</td>\n      <td>26.910</td>\n      <td>0.07480</td>\n      <td>100.00</td>\n      <td>0.7790</td>\n      <td>0.20580</td>\n    </tr>\n    <tr>\n      <th>6</th>\n      <td>\\CRVUSDT\\backtest_result.txt</td>\n      <td>5.5</td>\n      <td>CRVUSDT</td>\n      <td>True</td>\n      <td>39.52</td>\n      <td>0.1360</td>\n      <td>100.0</td>\n      <td>0.9182</td>\n      <td>True</td>\n      <td>0.000</td>\n      <td>0.10400</td>\n      <td>33.99</td>\n      <td>0.3125</td>\n      <td>0.24000</td>\n    </tr>\n    <tr>\n      <th>7</th>\n      <td>\\DOGEUSDT\\backtest_result.txt</td>\n      <td>5.5</td>\n      <td>DOGEUSDT</td>\n      <td>True</td>\n      <td>27.02</td>\n      <td>0.0977</td>\n      <td>100.0</td>\n      <td>0.8941</td>\n      <td>True</td>\n      <td>48.100</td>\n      <td>0.15600</td>\n      <td>100.00</td>\n      <td>0.8776</td>\n      <td>0.25370</td>\n    </tr>\n    <tr>\n      <th>8</th>\n      <td>\\DOTUSDT\\backtest_result.txt</td>\n      <td>5.5</td>\n      <td>DOTUSDT</td>\n      <td>True</td>\n      <td>36.94</td>\n      <td>0.1290</td>\n      <td>100.0</td>\n      <td>0.8642</td>\n      <td>True</td>\n      <td>24.320</td>\n      <td>0.06700</td>\n      <td>100.00</td>\n      <td>0.8015</td>\n      <td>0.19600</td>\n    </tr>\n    <tr>\n      <th>9</th>\n      <td>\\DYDXUSDT\\backtest_result.txt</td>\n      <td>5.5</td>\n      <td>DYDXUSDT</td>\n      <td>True</td>\n      <td>31.13</td>\n      <td>0.1280</td>\n      <td>100.0</td>\n      <td>0.9144</td>\n      <td>True</td>\n      <td>43.290</td>\n      <td>0.16700</td>\n      <td>100.00</td>\n      <td>0.7776</td>\n      <td>0.29500</td>\n    </tr>\n    <tr>\n      <th>10</th>\n      <td>\\ENJUSDT\\backtest_result.txt</td>\n      <td>5.5</td>\n      <td>ENJUSDT</td>\n      <td>True</td>\n      <td>54.24</td>\n      <td>0.1780</td>\n      <td>100.0</td>\n      <td>0.8706</td>\n      <td>True</td>\n      <td>2.184</td>\n      <td>0.04920</td>\n      <td>46.10</td>\n      <td>0.4428</td>\n      <td>0.22720</td>\n    </tr>\n    <tr>\n      <th>11</th>\n      <td>\\ETHUSDT\\backtest_result.txt</td>\n      <td>5.5</td>\n      <td>ETHUSDT</td>\n      <td>True</td>\n      <td>25.43</td>\n      <td>0.0954</td>\n      <td>100.0</td>\n      <td>0.8365</td>\n      <td>True</td>\n      <td>22.730</td>\n      <td>0.04810</td>\n      <td>100.00</td>\n      <td>0.8851</td>\n      <td>0.14350</td>\n    </tr>\n    <tr>\n      <th>12</th>\n      <td>\\GRTUSDT\\backtest_result.txt</td>\n      <td>5.5</td>\n      <td>GRTUSDT</td>\n      <td>True</td>\n      <td>37.99</td>\n      <td>0.1350</td>\n      <td>100.0</td>\n      <td>0.8854</td>\n      <td>True</td>\n      <td>44.980</td>\n      <td>0.16300</td>\n      <td>100.00</td>\n      <td>0.8091</td>\n      <td>0.29800</td>\n    </tr>\n    <tr>\n      <th>13</th>\n      <td>\\ICXUSDT\\backtest_result.txt</td>\n      <td>5.5</td>\n      <td>ICXUSDT</td>\n      <td>True</td>\n      <td>24.65</td>\n      <td>0.0895</td>\n      <td>100.0</td>\n      <td>0.8810</td>\n      <td>True</td>\n      <td>20.610</td>\n      <td>0.04450</td>\n      <td>100.00</td>\n      <td>0.8330</td>\n      <td>0.13400</td>\n    </tr>\n    <tr>\n      <th>14</th>\n      <td>\\KNCUSDT\\backtest_result.txt</td>\n      <td>5.5</td>\n      <td>KNCUSDT</td>\n      <td>True</td>\n      <td>93.08</td>\n      <td>0.2720</td>\n      <td>100.0</td>\n      <td>0.8958</td>\n      <td>True</td>\n      <td>29.830</td>\n      <td>0.09350</td>\n      <td>100.00</td>\n      <td>0.8532</td>\n      <td>0.36550</td>\n    </tr>\n    <tr>\n      <th>15</th>\n      <td>\\LINKUSDT\\backtest_result.txt</td>\n      <td>5.5</td>\n      <td>LINKUSDT</td>\n      <td>True</td>\n      <td>26.42</td>\n      <td>0.0994</td>\n      <td>100.0</td>\n      <td>0.8171</td>\n      <td>True</td>\n      <td>50.580</td>\n      <td>0.15800</td>\n      <td>100.00</td>\n      <td>0.8640</td>\n      <td>0.25740</td>\n    </tr>\n    <tr>\n      <th>16</th>\n      <td>\\LTCUSDT\\backtest_result.txt</td>\n      <td>5.5</td>\n      <td>LTCUSDT</td>\n      <td>True</td>\n      <td>18.57</td>\n      <td>0.0625</td>\n      <td>100.0</td>\n      <td>0.8919</td>\n      <td>True</td>\n      <td>27.430</td>\n      <td>0.08780</td>\n      <td>100.00</td>\n      <td>0.8324</td>\n      <td>0.15030</td>\n    </tr>\n    <tr>\n      <th>17</th>\n      <td>\\MATICUSDT\\backtest_result.txt</td>\n      <td>5.5</td>\n      <td>MATICUSDT</td>\n      <td>True</td>\n      <td>34.58</td>\n      <td>0.1230</td>\n      <td>100.0</td>\n      <td>0.9084</td>\n      <td>True</td>\n      <td>14.960</td>\n      <td>0.05370</td>\n      <td>100.00</td>\n      <td>0.8584</td>\n      <td>0.17670</td>\n    </tr>\n    <tr>\n      <th>18</th>\n      <td>\\RENUSDT\\backtest_result.txt</td>\n      <td>5.5</td>\n      <td>RENUSDT</td>\n      <td>True</td>\n      <td>33.10</td>\n      <td>0.1300</td>\n      <td>100.0</td>\n      <td>0.7967</td>\n      <td>True</td>\n      <td>-8.178</td>\n      <td>-0.08080</td>\n      <td>100.00</td>\n      <td>0.8137</td>\n      <td>0.04920</td>\n    </tr>\n    <tr>\n      <th>19</th>\n      <td>\\WAVESUSDT\\backtest_result.txt</td>\n      <td>5.5</td>\n      <td>WAVESUSDT</td>\n      <td>True</td>\n      <td>31.44</td>\n      <td>0.1160</td>\n      <td>100.0</td>\n      <td>0.8914</td>\n      <td>True</td>\n      <td>-15.070</td>\n      <td>-0.14800</td>\n      <td>87.22</td>\n      <td>0.5464</td>\n      <td>-0.03200</td>\n    </tr>\n    <tr>\n      <th>20</th>\n      <td>\\XMRUSDT\\backtest_result.txt</td>\n      <td>5.5</td>\n      <td>XMRUSDT</td>\n      <td>True</td>\n      <td>33.02</td>\n      <td>0.1180</td>\n      <td>100.0</td>\n      <td>0.8935</td>\n      <td>True</td>\n      <td>29.970</td>\n      <td>0.09620</td>\n      <td>100.00</td>\n      <td>0.9161</td>\n      <td>0.21420</td>\n    </tr>\n    <tr>\n      <th>21</th>\n      <td>\\XRPUSDT\\backtest_result.txt</td>\n      <td>5.5</td>\n      <td>XRPUSDT</td>\n      <td>True</td>\n      <td>17.80</td>\n      <td>0.0669</td>\n      <td>100.0</td>\n      <td>0.8298</td>\n      <td>True</td>\n      <td>14.160</td>\n      <td>0.06280</td>\n      <td>100.00</td>\n      <td>0.8590</td>\n      <td>0.12970</td>\n    </tr>\n    <tr>\n      <th>22</th>\n      <td>\\ZECUSDT\\backtest_result.txt</td>\n      <td>5.5</td>\n      <td>ZECUSDT</td>\n      <td>True</td>\n      <td>35.22</td>\n      <td>0.1200</td>\n      <td>100.0</td>\n      <td>0.8795</td>\n      <td>True</td>\n      <td>17.560</td>\n      <td>0.00283</td>\n      <td>100.00</td>\n      <td>0.7051</td>\n      <td>0.12283</td>\n    </tr>\n  </tbody>\n</table>\n</div>"
     },
     "execution_count": 6,
     "metadata": {},
     "output_type": "execute_result"
    }
   ],
   "source": [
    "big_data['adgt_%'] = big_data['adgl_%'] + big_data['adgs_%']\n",
    "df = big_data[(big_data.s.isin(allowed_symbols))\n",
    "              # & (big_data['adgt_%'] > 0.1)\n",
    "              # & (big_data['adgl_%'] > 0.04)\n",
    "              # & (big_data['adgs_%'] > 0.04)\n",
    "              # & (big_data['bnkrl_%'] > 99.0)\n",
    "              # & (big_data['bnkrs_%'] > 99.0)\n",
    "              # & (big_data['ebrs'] > .9)\n",
    "              # #& (big_data['ebrl'] > .9)\n",
    "              # & (big_data['v'] == '5.5')\n",
    "\n",
    "    # & (big_data['tg_%'] > 10)\n",
    "    # & (big_data['ebr'] > .85)\n",
    "              ]\n",
    "#df['total_adg'] = big_data['adgl_%'] + big_data['adgs_%']\n",
    "df"
   ]
  },
  {
   "cell_type": "code",
   "execution_count": 7,
   "metadata": {
    "pycharm": {
     "name": "#%%\n"
    }
   },
   "outputs": [
    {
     "data": {
      "text/plain": "                              file          s   adgt_%  adgl_%   adgs_%  \\\n0     \\ADAUSDT\\backtest_result.txt    ADAUSDT  0.16120  0.0502  0.11100   \n1   \\ALICEUSDT\\backtest_result.txt  ALICEUSDT  0.11770  0.0850  0.03270   \n2    \\API3USDT\\backtest_result.txt   API3USDT  0.81600  0.3490  0.46700   \n3    \\ATOMUSDT\\backtest_result.txt   ATOMUSDT  0.19830  0.1280  0.07030   \n4     \\BNBUSDT\\backtest_result.txt    BNBUSDT  0.09440  0.0738  0.02060   \n5     \\CHZUSDT\\backtest_result.txt    CHZUSDT  0.20580  0.1310  0.07480   \n6     \\CRVUSDT\\backtest_result.txt    CRVUSDT  0.24000  0.1360  0.10400   \n7    \\DOGEUSDT\\backtest_result.txt   DOGEUSDT  0.25370  0.0977  0.15600   \n8     \\DOTUSDT\\backtest_result.txt    DOTUSDT  0.19600  0.1290  0.06700   \n9    \\DYDXUSDT\\backtest_result.txt   DYDXUSDT  0.29500  0.1280  0.16700   \n10    \\ENJUSDT\\backtest_result.txt    ENJUSDT  0.22720  0.1780  0.04920   \n11    \\ETHUSDT\\backtest_result.txt    ETHUSDT  0.14350  0.0954  0.04810   \n12    \\GRTUSDT\\backtest_result.txt    GRTUSDT  0.29800  0.1350  0.16300   \n13    \\ICXUSDT\\backtest_result.txt    ICXUSDT  0.13400  0.0895  0.04450   \n14    \\KNCUSDT\\backtest_result.txt    KNCUSDT  0.36550  0.2720  0.09350   \n15   \\LINKUSDT\\backtest_result.txt   LINKUSDT  0.25740  0.0994  0.15800   \n16    \\LTCUSDT\\backtest_result.txt    LTCUSDT  0.15030  0.0625  0.08780   \n17  \\MATICUSDT\\backtest_result.txt  MATICUSDT  0.17670  0.1230  0.05370   \n18    \\RENUSDT\\backtest_result.txt    RENUSDT  0.04920  0.1300 -0.08080   \n19  \\WAVESUSDT\\backtest_result.txt  WAVESUSDT -0.03200  0.1160 -0.14800   \n20    \\XMRUSDT\\backtest_result.txt    XMRUSDT  0.21420  0.1180  0.09620   \n21    \\XRPUSDT\\backtest_result.txt    XRPUSDT  0.12970  0.0669  0.06280   \n22    \\ZECUSDT\\backtest_result.txt    ZECUSDT  0.12283  0.1200  0.00283   \n\n    bnkrl_%  bnkrs_%    ebrl    ebrs  \n0     100.0   100.00  0.8776  0.8613  \n1     100.0   100.00  0.8017  0.7321  \n2     100.0   100.00  0.9537  0.8913  \n3     100.0   100.00  0.9440  0.7710  \n4     100.0   100.00  0.9283  0.8129  \n5     100.0   100.00  0.8653  0.7790  \n6     100.0    33.99  0.9182  0.3125  \n7     100.0   100.00  0.8941  0.8776  \n8     100.0   100.00  0.8642  0.8015  \n9     100.0   100.00  0.9144  0.7776  \n10    100.0    46.10  0.8706  0.4428  \n11    100.0   100.00  0.8365  0.8851  \n12    100.0   100.00  0.8854  0.8091  \n13    100.0   100.00  0.8810  0.8330  \n14    100.0   100.00  0.8958  0.8532  \n15    100.0   100.00  0.8171  0.8640  \n16    100.0   100.00  0.8919  0.8324  \n17    100.0   100.00  0.9084  0.8584  \n18    100.0   100.00  0.7967  0.8137  \n19    100.0    87.22  0.8914  0.5464  \n20    100.0   100.00  0.8935  0.9161  \n21    100.0   100.00  0.8298  0.8590  \n22    100.0   100.00  0.8795  0.7051  ",
      "text/html": "<div>\n<style scoped>\n    .dataframe tbody tr th:only-of-type {\n        vertical-align: middle;\n    }\n\n    .dataframe tbody tr th {\n        vertical-align: top;\n    }\n\n    .dataframe thead th {\n        text-align: right;\n    }\n</style>\n<table border=\"1\" class=\"dataframe\">\n  <thead>\n    <tr style=\"text-align: right;\">\n      <th></th>\n      <th>file</th>\n      <th>s</th>\n      <th>adgt_%</th>\n      <th>adgl_%</th>\n      <th>adgs_%</th>\n      <th>bnkrl_%</th>\n      <th>bnkrs_%</th>\n      <th>ebrl</th>\n      <th>ebrs</th>\n    </tr>\n  </thead>\n  <tbody>\n    <tr>\n      <th>0</th>\n      <td>\\ADAUSDT\\backtest_result.txt</td>\n      <td>ADAUSDT</td>\n      <td>0.16120</td>\n      <td>0.0502</td>\n      <td>0.11100</td>\n      <td>100.0</td>\n      <td>100.00</td>\n      <td>0.8776</td>\n      <td>0.8613</td>\n    </tr>\n    <tr>\n      <th>1</th>\n      <td>\\ALICEUSDT\\backtest_result.txt</td>\n      <td>ALICEUSDT</td>\n      <td>0.11770</td>\n      <td>0.0850</td>\n      <td>0.03270</td>\n      <td>100.0</td>\n      <td>100.00</td>\n      <td>0.8017</td>\n      <td>0.7321</td>\n    </tr>\n    <tr>\n      <th>2</th>\n      <td>\\API3USDT\\backtest_result.txt</td>\n      <td>API3USDT</td>\n      <td>0.81600</td>\n      <td>0.3490</td>\n      <td>0.46700</td>\n      <td>100.0</td>\n      <td>100.00</td>\n      <td>0.9537</td>\n      <td>0.8913</td>\n    </tr>\n    <tr>\n      <th>3</th>\n      <td>\\ATOMUSDT\\backtest_result.txt</td>\n      <td>ATOMUSDT</td>\n      <td>0.19830</td>\n      <td>0.1280</td>\n      <td>0.07030</td>\n      <td>100.0</td>\n      <td>100.00</td>\n      <td>0.9440</td>\n      <td>0.7710</td>\n    </tr>\n    <tr>\n      <th>4</th>\n      <td>\\BNBUSDT\\backtest_result.txt</td>\n      <td>BNBUSDT</td>\n      <td>0.09440</td>\n      <td>0.0738</td>\n      <td>0.02060</td>\n      <td>100.0</td>\n      <td>100.00</td>\n      <td>0.9283</td>\n      <td>0.8129</td>\n    </tr>\n    <tr>\n      <th>5</th>\n      <td>\\CHZUSDT\\backtest_result.txt</td>\n      <td>CHZUSDT</td>\n      <td>0.20580</td>\n      <td>0.1310</td>\n      <td>0.07480</td>\n      <td>100.0</td>\n      <td>100.00</td>\n      <td>0.8653</td>\n      <td>0.7790</td>\n    </tr>\n    <tr>\n      <th>6</th>\n      <td>\\CRVUSDT\\backtest_result.txt</td>\n      <td>CRVUSDT</td>\n      <td>0.24000</td>\n      <td>0.1360</td>\n      <td>0.10400</td>\n      <td>100.0</td>\n      <td>33.99</td>\n      <td>0.9182</td>\n      <td>0.3125</td>\n    </tr>\n    <tr>\n      <th>7</th>\n      <td>\\DOGEUSDT\\backtest_result.txt</td>\n      <td>DOGEUSDT</td>\n      <td>0.25370</td>\n      <td>0.0977</td>\n      <td>0.15600</td>\n      <td>100.0</td>\n      <td>100.00</td>\n      <td>0.8941</td>\n      <td>0.8776</td>\n    </tr>\n    <tr>\n      <th>8</th>\n      <td>\\DOTUSDT\\backtest_result.txt</td>\n      <td>DOTUSDT</td>\n      <td>0.19600</td>\n      <td>0.1290</td>\n      <td>0.06700</td>\n      <td>100.0</td>\n      <td>100.00</td>\n      <td>0.8642</td>\n      <td>0.8015</td>\n    </tr>\n    <tr>\n      <th>9</th>\n      <td>\\DYDXUSDT\\backtest_result.txt</td>\n      <td>DYDXUSDT</td>\n      <td>0.29500</td>\n      <td>0.1280</td>\n      <td>0.16700</td>\n      <td>100.0</td>\n      <td>100.00</td>\n      <td>0.9144</td>\n      <td>0.7776</td>\n    </tr>\n    <tr>\n      <th>10</th>\n      <td>\\ENJUSDT\\backtest_result.txt</td>\n      <td>ENJUSDT</td>\n      <td>0.22720</td>\n      <td>0.1780</td>\n      <td>0.04920</td>\n      <td>100.0</td>\n      <td>46.10</td>\n      <td>0.8706</td>\n      <td>0.4428</td>\n    </tr>\n    <tr>\n      <th>11</th>\n      <td>\\ETHUSDT\\backtest_result.txt</td>\n      <td>ETHUSDT</td>\n      <td>0.14350</td>\n      <td>0.0954</td>\n      <td>0.04810</td>\n      <td>100.0</td>\n      <td>100.00</td>\n      <td>0.8365</td>\n      <td>0.8851</td>\n    </tr>\n    <tr>\n      <th>12</th>\n      <td>\\GRTUSDT\\backtest_result.txt</td>\n      <td>GRTUSDT</td>\n      <td>0.29800</td>\n      <td>0.1350</td>\n      <td>0.16300</td>\n      <td>100.0</td>\n      <td>100.00</td>\n      <td>0.8854</td>\n      <td>0.8091</td>\n    </tr>\n    <tr>\n      <th>13</th>\n      <td>\\ICXUSDT\\backtest_result.txt</td>\n      <td>ICXUSDT</td>\n      <td>0.13400</td>\n      <td>0.0895</td>\n      <td>0.04450</td>\n      <td>100.0</td>\n      <td>100.00</td>\n      <td>0.8810</td>\n      <td>0.8330</td>\n    </tr>\n    <tr>\n      <th>14</th>\n      <td>\\KNCUSDT\\backtest_result.txt</td>\n      <td>KNCUSDT</td>\n      <td>0.36550</td>\n      <td>0.2720</td>\n      <td>0.09350</td>\n      <td>100.0</td>\n      <td>100.00</td>\n      <td>0.8958</td>\n      <td>0.8532</td>\n    </tr>\n    <tr>\n      <th>15</th>\n      <td>\\LINKUSDT\\backtest_result.txt</td>\n      <td>LINKUSDT</td>\n      <td>0.25740</td>\n      <td>0.0994</td>\n      <td>0.15800</td>\n      <td>100.0</td>\n      <td>100.00</td>\n      <td>0.8171</td>\n      <td>0.8640</td>\n    </tr>\n    <tr>\n      <th>16</th>\n      <td>\\LTCUSDT\\backtest_result.txt</td>\n      <td>LTCUSDT</td>\n      <td>0.15030</td>\n      <td>0.0625</td>\n      <td>0.08780</td>\n      <td>100.0</td>\n      <td>100.00</td>\n      <td>0.8919</td>\n      <td>0.8324</td>\n    </tr>\n    <tr>\n      <th>17</th>\n      <td>\\MATICUSDT\\backtest_result.txt</td>\n      <td>MATICUSDT</td>\n      <td>0.17670</td>\n      <td>0.1230</td>\n      <td>0.05370</td>\n      <td>100.0</td>\n      <td>100.00</td>\n      <td>0.9084</td>\n      <td>0.8584</td>\n    </tr>\n    <tr>\n      <th>18</th>\n      <td>\\RENUSDT\\backtest_result.txt</td>\n      <td>RENUSDT</td>\n      <td>0.04920</td>\n      <td>0.1300</td>\n      <td>-0.08080</td>\n      <td>100.0</td>\n      <td>100.00</td>\n      <td>0.7967</td>\n      <td>0.8137</td>\n    </tr>\n    <tr>\n      <th>19</th>\n      <td>\\WAVESUSDT\\backtest_result.txt</td>\n      <td>WAVESUSDT</td>\n      <td>-0.03200</td>\n      <td>0.1160</td>\n      <td>-0.14800</td>\n      <td>100.0</td>\n      <td>87.22</td>\n      <td>0.8914</td>\n      <td>0.5464</td>\n    </tr>\n    <tr>\n      <th>20</th>\n      <td>\\XMRUSDT\\backtest_result.txt</td>\n      <td>XMRUSDT</td>\n      <td>0.21420</td>\n      <td>0.1180</td>\n      <td>0.09620</td>\n      <td>100.0</td>\n      <td>100.00</td>\n      <td>0.8935</td>\n      <td>0.9161</td>\n    </tr>\n    <tr>\n      <th>21</th>\n      <td>\\XRPUSDT\\backtest_result.txt</td>\n      <td>XRPUSDT</td>\n      <td>0.12970</td>\n      <td>0.0669</td>\n      <td>0.06280</td>\n      <td>100.0</td>\n      <td>100.00</td>\n      <td>0.8298</td>\n      <td>0.8590</td>\n    </tr>\n    <tr>\n      <th>22</th>\n      <td>\\ZECUSDT\\backtest_result.txt</td>\n      <td>ZECUSDT</td>\n      <td>0.12283</td>\n      <td>0.1200</td>\n      <td>0.00283</td>\n      <td>100.0</td>\n      <td>100.00</td>\n      <td>0.8795</td>\n      <td>0.7051</td>\n    </tr>\n  </tbody>\n</table>\n</div>"
     },
     "execution_count": 7,
     "metadata": {},
     "output_type": "execute_result"
    }
   ],
   "source": [
    "df.drop_duplicates(subset=['s', 'tgl_%','tgs_%','adgl_%','adgs_%','adgt_%', 'bnkrl_%', 'bnkrs_%', 'ebrl', 'ebrs', 'long', 'short'], keep='first',\n",
    "                   inplace=True)\n",
    "dx = df[['file','s','adgt_%','adgl_%','adgs_%','bnkrl_%', 'bnkrs_%','ebrl', 'ebrs']]\n",
    "dx"
   ]
  },
  {
   "cell_type": "code",
   "execution_count": 7,
   "outputs": [],
   "source": [],
   "metadata": {
    "collapsed": false,
    "pycharm": {
     "name": "#%%\n"
    }
   }
  }
 ],
 "metadata": {
  "kernelspec": {
   "display_name": "PyCharm (passivbot)",
   "language": "python",
   "name": "pycharm-997905a8"
  },
  "language_info": {
   "codemirror_mode": {
    "name": "ipython",
    "version": 3
   },
   "file_extension": ".py",
   "mimetype": "text/x-python",
   "name": "python",
   "nbconvert_exporter": "python",
   "pygments_lexer": "ipython3",
   "version": "3.8.12"
  }
 },
 "nbformat": 4,
 "nbformat_minor": 1
}