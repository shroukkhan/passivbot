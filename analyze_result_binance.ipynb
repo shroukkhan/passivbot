{
 "cells": [
  {
   "cell_type": "code",
   "execution_count": 50,
   "metadata": {},
   "outputs": [
    {
     "name": "stdout",
     "output_type": "stream",
     "text": [
      "The autoreload extension is already loaded. To reload it, use:\n",
      "  %reload_ext autoreload\n"
     ]
    }
   ],
   "source": [
    "\n",
    "%load_ext autoreload\n",
    "%autoreload 2"
   ]
  },
  {
   "cell_type": "code",
   "execution_count": 51,
   "metadata": {
    "pycharm": {
     "name": "#%%\n"
    }
   },
   "outputs": [],
   "source": [
    "import glob\n",
    "\n",
    "import pandas as pd"
   ]
  },
  {
   "cell_type": "code",
   "execution_count": 52,
   "outputs": [
    {
     "data": {
      "text/plain": "{'1000SHIBUSDT': 'cfgs_live\\\\1000SHIB.json',\n '1000XECUSDT': 'cfgs_live\\\\1000XEC.json',\n '1INCHUSDT': 'cfgs_live\\\\1INCH.json',\n 'ADAUSDT': 'cfgs_live\\\\ADA.json',\n 'AKROUSDT': 'cfgs_live\\\\AKRO.json',\n 'ALGOUSDT': 'cfgs_live\\\\ALGO.json',\n 'ALICEUSDT': 'cfgs_live\\\\ALICE.json',\n 'ALPHAUSDT': 'cfgs_live\\\\ALPHA.json',\n 'ANKRUSDT': 'cfgs_live\\\\ANKR.json',\n 'API3USDT': 'cfgs_live\\\\API3.json',\n 'ARUSDT': 'cfgs_live\\\\AR.json',\n 'ATOMUSDT': 'cfgs_live\\\\ATOM.json',\n 'BAKEUSDT': 'cfgs_live\\\\BAKE.json',\n 'BANDUSDT': 'cfgs_live\\\\BAND.json',\n 'BELUSDT': 'cfgs_live\\\\BEL.json',\n 'BLZUSDT': 'cfgs_live\\\\BLZ.json',\n 'BNBUSDT': 'cfgs_live\\\\BNB.json',\n 'BTSUSDT': 'cfgs_live\\\\BTS.json',\n 'C98USDT': 'cfgs_live\\\\C98.json',\n 'CHZUSDT': 'cfgs_live\\\\CHZ.json',\n 'COMPUSDT': 'cfgs_live\\\\COMP.json',\n 'COTIUSDT': 'cfgs_live\\\\COTI.json',\n 'CRVUSDT': 'cfgs_live\\\\CRV.json',\n 'DENTUSDT': 'cfgs_live\\\\DENT.json',\n 'DGBUSDT': 'cfgs_live\\\\DGB.json',\n 'DODOUSDT': 'cfgs_live\\\\DODO.json',\n 'DOGEUSDT': 'cfgs_live\\\\DOGE.json',\n 'DOTUSDT': 'cfgs_live\\\\DOT.json',\n 'DUSKUSDT': 'cfgs_live\\\\DUSK.json',\n 'DYDXUSDT': 'cfgs_live\\\\DYDX.json',\n 'ENJUSDT': 'cfgs_live\\\\ENJ.json',\n 'ETCUSDT': 'cfgs_live\\\\ETC.json',\n 'ETHUSDT': 'cfgs_live\\\\ETH.json',\n 'FLMUSDT': 'cfgs_live\\\\FLM.json',\n 'FLOWUSDT': 'cfgs_live\\\\FLOW.json',\n 'GRTUSDT': 'cfgs_live\\\\GRT.json',\n 'GTCUSDT': 'cfgs_live\\\\GTC.json',\n 'HBARUSDT': 'cfgs_live\\\\HBAR.json',\n 'HOTUSDT': 'cfgs_live\\\\HOT.json',\n 'ICPUSDT': 'cfgs_live\\\\ICP.json',\n 'ICXUSDT': 'cfgs_live\\\\ICX.json',\n 'IOSTUSDT': 'cfgs_live\\\\IOST.json',\n 'IOTAUSDT': 'cfgs_live\\\\IOTA.json',\n 'KAVAUSDT': 'cfgs_live\\\\KAVA.json',\n 'KLAYUSDT': 'cfgs_live\\\\KLAY.json',\n 'KNCUSDT': 'cfgs_live\\\\KNC.json',\n 'LINAUSDT': 'cfgs_live\\\\LINA.json',\n 'LINKUSDT': 'cfgs_live\\\\LINK.json',\n 'LITUSDT': 'cfgs_live\\\\LIT.json',\n 'LTCUSDT': 'cfgs_live\\\\LTC.json',\n 'MATICUSDT': 'cfgs_live\\\\MATIC.json',\n 'MKRUSDT': 'cfgs_live\\\\MKR.json',\n 'MTLUSDT': 'cfgs_live\\\\MTL.json',\n 'NEOUSDT': 'cfgs_live\\\\NEO.json',\n 'NKNUSDT': 'cfgs_live\\\\NKN.json',\n 'OCEANUSDT': 'cfgs_live\\\\OCEAN.json',\n 'OGNUSDT': 'cfgs_live\\\\OGN.json',\n 'OMGUSDT': 'cfgs_live\\\\OMG.json',\n 'ONEUSDT': 'cfgs_live\\\\ONE.json',\n 'ONTUSDT': 'cfgs_live\\\\ONT.json',\n 'QTUMUSDT': 'cfgs_live\\\\QTUM.json',\n 'REEFUSDT': 'cfgs_live\\\\REEF.json',\n 'RENUSDT': 'cfgs_live\\\\REN.json',\n 'RLCUSDT': 'cfgs_live\\\\RLC.json',\n 'ROSEUSDT': 'cfgs_live\\\\ROSE.json',\n 'RVNUSDT': 'cfgs_live\\\\RVN.json',\n 'SCUSDT': 'cfgs_live\\\\SC.json',\n 'SFPUSDT': 'cfgs_live\\\\SFP.json',\n 'SNXUSDT': 'cfgs_live\\\\SNX.json',\n 'STMXUSDT': 'cfgs_live\\\\STMX.json',\n 'SUSHIUSDT': 'cfgs_live\\\\SUSHI.json',\n 'SXPUSDT': 'cfgs_live\\\\SXP.json',\n 'TLMUSDT': 'cfgs_live\\\\TLM.json',\n 'TOMOUSDT': 'cfgs_live\\\\TOMO.json',\n 'TRBUSDT': 'cfgs_live\\\\TRB.json',\n 'UNFIUSDT': 'cfgs_live\\\\UNFI.json',\n 'VETUSDT': 'cfgs_live\\\\VET.json',\n 'WAVESUSDT': 'cfgs_live\\\\WAVES.json',\n 'XLMUSDT': 'cfgs_live\\\\XLM.json',\n 'XMRUSDT': 'cfgs_live\\\\XMR.json',\n 'XRPUSDT': 'cfgs_live\\\\XRP.json',\n 'ZECUSDT': 'cfgs_live\\\\ZEC.json',\n 'ZENUSDT': 'cfgs_live\\\\ZEN.json',\n 'ZILUSDT': 'cfgs_live\\\\ZIL.json',\n 'ZRXUSDT': 'cfgs_live\\\\ZRX.json'}"
     },
     "execution_count": 52,
     "metadata": {},
     "output_type": "execute_result"
    }
   ],
   "source": [
    "## delete the folders not in live config ( extra crap )\n",
    "live_config_files = glob.glob('cfgs_live/*', recursive=True)\n",
    "allowed_symbols = []\n",
    "symbol_files = {}\n",
    "for f in live_config_files:\n",
    "    symbol = f.split('\\\\')[-1]\n",
    "    symbol = symbol.replace('.json', 'USDT')\n",
    "    allowed_symbols.append(symbol)\n",
    "    symbol_files[symbol] = f\n",
    "symbol_files\n",
    "#allowed_symbols = [\"ALICEUSDT\",\"XRPUSDT\",\"HOTUSDT\"]"
   ],
   "metadata": {
    "collapsed": false,
    "pycharm": {
     "name": "#%%\n"
    }
   }
  },
  {
   "cell_type": "code",
   "execution_count": 53,
   "outputs": [],
   "source": [
    "# ## NOW copy result folders :)\n",
    "# import json\n",
    "# import shutil\n",
    "#\n",
    "# files = glob.iglob('backtests/binance/' + '**/live_config.json', recursive=True)\n",
    "#\n",
    "# for filename in files:\n",
    "#     with open(filename) as f:\n",
    "#         config = json.load(f)\n",
    "#     symbol = config['config_name'].split('_')[2]\n",
    "#\n",
    "#     if symbol not in symbol_files: continue\n",
    "#\n",
    "#     with open(symbol_files[symbol]) as f:\n",
    "#         production_config = json.load(f)\n",
    "#\n",
    "#     long_pc = production_config['long']\n",
    "#     long_c = config['long']\n",
    "#\n",
    "#     k_pc = long_pc.keys()\n",
    "#     k_c = long_c.keys()\n",
    "#\n",
    "#     if len(k_c) != len(k_c): continue\n",
    "#\n",
    "#     same = True\n",
    "#     for k in k_pc:\n",
    "#         if k not in k_c:\n",
    "#             same = False\n",
    "#             break\n",
    "#         v_pc = long_pc[k]\n",
    "#         v_c = long_c[k]\n",
    "#         #print(f'{k}={v_c},{v_pc}')\n",
    "#\n",
    "#     if not same: continue\n",
    "#\n",
    "#     print(f'{filename} is same as {symbol_files[symbol]}')\n",
    "#\n",
    "#     src = filename.replace('\\\\live_config.json', '')\n",
    "#     dst = f'backtests/binance_production/{symbol}'\n",
    "#     shutil.copytree(src=src, dst=dst, dirs_exist_ok=True)\n",
    "\n"
   ],
   "metadata": {
    "collapsed": false,
    "pycharm": {
     "name": "#%%\n"
    }
   }
  },
  {
   "cell_type": "code",
   "execution_count": 54,
   "metadata": {
    "pycharm": {
     "name": "#%%\n"
    }
   },
   "outputs": [
    {
     "name": "stderr",
     "output_type": "stream",
     "text": [
      "C:\\Users\\skhan\\AppData\\Local\\Temp/ipykernel_605424/2885255594.py:61: FutureWarning: The frame.append method is deprecated and will be removed from pandas in a future version. Use pandas.concat instead.\n",
      "  big_data = big_data.append(d, ignore_index=True)\n",
      "C:\\Users\\skhan\\AppData\\Local\\Temp/ipykernel_605424/2885255594.py:61: FutureWarning: The frame.append method is deprecated and will be removed from pandas in a future version. Use pandas.concat instead.\n",
      "  big_data = big_data.append(d, ignore_index=True)\n",
      "C:\\Users\\skhan\\AppData\\Local\\Temp/ipykernel_605424/2885255594.py:61: FutureWarning: The frame.append method is deprecated and will be removed from pandas in a future version. Use pandas.concat instead.\n",
      "  big_data = big_data.append(d, ignore_index=True)\n",
      "C:\\Users\\skhan\\AppData\\Local\\Temp/ipykernel_605424/2885255594.py:61: FutureWarning: The frame.append method is deprecated and will be removed from pandas in a future version. Use pandas.concat instead.\n",
      "  big_data = big_data.append(d, ignore_index=True)\n",
      "C:\\Users\\skhan\\AppData\\Local\\Temp/ipykernel_605424/2885255594.py:61: FutureWarning: The frame.append method is deprecated and will be removed from pandas in a future version. Use pandas.concat instead.\n",
      "  big_data = big_data.append(d, ignore_index=True)\n",
      "C:\\Users\\skhan\\AppData\\Local\\Temp/ipykernel_605424/2885255594.py:61: FutureWarning: The frame.append method is deprecated and will be removed from pandas in a future version. Use pandas.concat instead.\n",
      "  big_data = big_data.append(d, ignore_index=True)\n",
      "C:\\Users\\skhan\\AppData\\Local\\Temp/ipykernel_605424/2885255594.py:61: FutureWarning: The frame.append method is deprecated and will be removed from pandas in a future version. Use pandas.concat instead.\n",
      "  big_data = big_data.append(d, ignore_index=True)\n",
      "C:\\Users\\skhan\\AppData\\Local\\Temp/ipykernel_605424/2885255594.py:61: FutureWarning: The frame.append method is deprecated and will be removed from pandas in a future version. Use pandas.concat instead.\n",
      "  big_data = big_data.append(d, ignore_index=True)\n",
      "C:\\Users\\skhan\\AppData\\Local\\Temp/ipykernel_605424/2885255594.py:61: FutureWarning: The frame.append method is deprecated and will be removed from pandas in a future version. Use pandas.concat instead.\n",
      "  big_data = big_data.append(d, ignore_index=True)\n",
      "C:\\Users\\skhan\\AppData\\Local\\Temp/ipykernel_605424/2885255594.py:61: FutureWarning: The frame.append method is deprecated and will be removed from pandas in a future version. Use pandas.concat instead.\n",
      "  big_data = big_data.append(d, ignore_index=True)\n",
      "C:\\Users\\skhan\\AppData\\Local\\Temp/ipykernel_605424/2885255594.py:61: FutureWarning: The frame.append method is deprecated and will be removed from pandas in a future version. Use pandas.concat instead.\n",
      "  big_data = big_data.append(d, ignore_index=True)\n",
      "C:\\Users\\skhan\\AppData\\Local\\Temp/ipykernel_605424/2885255594.py:61: FutureWarning: The frame.append method is deprecated and will be removed from pandas in a future version. Use pandas.concat instead.\n",
      "  big_data = big_data.append(d, ignore_index=True)\n",
      "C:\\Users\\skhan\\AppData\\Local\\Temp/ipykernel_605424/2885255594.py:61: FutureWarning: The frame.append method is deprecated and will be removed from pandas in a future version. Use pandas.concat instead.\n",
      "  big_data = big_data.append(d, ignore_index=True)\n",
      "C:\\Users\\skhan\\AppData\\Local\\Temp/ipykernel_605424/2885255594.py:61: FutureWarning: The frame.append method is deprecated and will be removed from pandas in a future version. Use pandas.concat instead.\n",
      "  big_data = big_data.append(d, ignore_index=True)\n",
      "C:\\Users\\skhan\\AppData\\Local\\Temp/ipykernel_605424/2885255594.py:61: FutureWarning: The frame.append method is deprecated and will be removed from pandas in a future version. Use pandas.concat instead.\n",
      "  big_data = big_data.append(d, ignore_index=True)\n",
      "C:\\Users\\skhan\\AppData\\Local\\Temp/ipykernel_605424/2885255594.py:61: FutureWarning: The frame.append method is deprecated and will be removed from pandas in a future version. Use pandas.concat instead.\n",
      "  big_data = big_data.append(d, ignore_index=True)\n",
      "C:\\Users\\skhan\\AppData\\Local\\Temp/ipykernel_605424/2885255594.py:61: FutureWarning: The frame.append method is deprecated and will be removed from pandas in a future version. Use pandas.concat instead.\n",
      "  big_data = big_data.append(d, ignore_index=True)\n",
      "C:\\Users\\skhan\\AppData\\Local\\Temp/ipykernel_605424/2885255594.py:61: FutureWarning: The frame.append method is deprecated and will be removed from pandas in a future version. Use pandas.concat instead.\n",
      "  big_data = big_data.append(d, ignore_index=True)\n",
      "C:\\Users\\skhan\\AppData\\Local\\Temp/ipykernel_605424/2885255594.py:61: FutureWarning: The frame.append method is deprecated and will be removed from pandas in a future version. Use pandas.concat instead.\n",
      "  big_data = big_data.append(d, ignore_index=True)\n",
      "C:\\Users\\skhan\\AppData\\Local\\Temp/ipykernel_605424/2885255594.py:61: FutureWarning: The frame.append method is deprecated and will be removed from pandas in a future version. Use pandas.concat instead.\n",
      "  big_data = big_data.append(d, ignore_index=True)\n",
      "C:\\Users\\skhan\\AppData\\Local\\Temp/ipykernel_605424/2885255594.py:61: FutureWarning: The frame.append method is deprecated and will be removed from pandas in a future version. Use pandas.concat instead.\n",
      "  big_data = big_data.append(d, ignore_index=True)\n",
      "C:\\Users\\skhan\\AppData\\Local\\Temp/ipykernel_605424/2885255594.py:61: FutureWarning: The frame.append method is deprecated and will be removed from pandas in a future version. Use pandas.concat instead.\n",
      "  big_data = big_data.append(d, ignore_index=True)\n",
      "C:\\Users\\skhan\\AppData\\Local\\Temp/ipykernel_605424/2885255594.py:61: FutureWarning: The frame.append method is deprecated and will be removed from pandas in a future version. Use pandas.concat instead.\n",
      "  big_data = big_data.append(d, ignore_index=True)\n",
      "C:\\Users\\skhan\\AppData\\Local\\Temp/ipykernel_605424/2885255594.py:61: FutureWarning: The frame.append method is deprecated and will be removed from pandas in a future version. Use pandas.concat instead.\n",
      "  big_data = big_data.append(d, ignore_index=True)\n",
      "C:\\Users\\skhan\\AppData\\Local\\Temp/ipykernel_605424/2885255594.py:61: FutureWarning: The frame.append method is deprecated and will be removed from pandas in a future version. Use pandas.concat instead.\n",
      "  big_data = big_data.append(d, ignore_index=True)\n",
      "C:\\Users\\skhan\\AppData\\Local\\Temp/ipykernel_605424/2885255594.py:61: FutureWarning: The frame.append method is deprecated and will be removed from pandas in a future version. Use pandas.concat instead.\n",
      "  big_data = big_data.append(d, ignore_index=True)\n",
      "C:\\Users\\skhan\\AppData\\Local\\Temp/ipykernel_605424/2885255594.py:61: FutureWarning: The frame.append method is deprecated and will be removed from pandas in a future version. Use pandas.concat instead.\n",
      "  big_data = big_data.append(d, ignore_index=True)\n",
      "C:\\Users\\skhan\\AppData\\Local\\Temp/ipykernel_605424/2885255594.py:61: FutureWarning: The frame.append method is deprecated and will be removed from pandas in a future version. Use pandas.concat instead.\n",
      "  big_data = big_data.append(d, ignore_index=True)\n",
      "C:\\Users\\skhan\\AppData\\Local\\Temp/ipykernel_605424/2885255594.py:61: FutureWarning: The frame.append method is deprecated and will be removed from pandas in a future version. Use pandas.concat instead.\n",
      "  big_data = big_data.append(d, ignore_index=True)\n",
      "C:\\Users\\skhan\\AppData\\Local\\Temp/ipykernel_605424/2885255594.py:61: FutureWarning: The frame.append method is deprecated and will be removed from pandas in a future version. Use pandas.concat instead.\n",
      "  big_data = big_data.append(d, ignore_index=True)\n",
      "C:\\Users\\skhan\\AppData\\Local\\Temp/ipykernel_605424/2885255594.py:61: FutureWarning: The frame.append method is deprecated and will be removed from pandas in a future version. Use pandas.concat instead.\n",
      "  big_data = big_data.append(d, ignore_index=True)\n",
      "C:\\Users\\skhan\\AppData\\Local\\Temp/ipykernel_605424/2885255594.py:61: FutureWarning: The frame.append method is deprecated and will be removed from pandas in a future version. Use pandas.concat instead.\n",
      "  big_data = big_data.append(d, ignore_index=True)\n",
      "C:\\Users\\skhan\\AppData\\Local\\Temp/ipykernel_605424/2885255594.py:61: FutureWarning: The frame.append method is deprecated and will be removed from pandas in a future version. Use pandas.concat instead.\n",
      "  big_data = big_data.append(d, ignore_index=True)\n",
      "C:\\Users\\skhan\\AppData\\Local\\Temp/ipykernel_605424/2885255594.py:61: FutureWarning: The frame.append method is deprecated and will be removed from pandas in a future version. Use pandas.concat instead.\n",
      "  big_data = big_data.append(d, ignore_index=True)\n",
      "C:\\Users\\skhan\\AppData\\Local\\Temp/ipykernel_605424/2885255594.py:61: FutureWarning: The frame.append method is deprecated and will be removed from pandas in a future version. Use pandas.concat instead.\n",
      "  big_data = big_data.append(d, ignore_index=True)\n",
      "C:\\Users\\skhan\\AppData\\Local\\Temp/ipykernel_605424/2885255594.py:61: FutureWarning: The frame.append method is deprecated and will be removed from pandas in a future version. Use pandas.concat instead.\n",
      "  big_data = big_data.append(d, ignore_index=True)\n",
      "C:\\Users\\skhan\\AppData\\Local\\Temp/ipykernel_605424/2885255594.py:61: FutureWarning: The frame.append method is deprecated and will be removed from pandas in a future version. Use pandas.concat instead.\n",
      "  big_data = big_data.append(d, ignore_index=True)\n",
      "C:\\Users\\skhan\\AppData\\Local\\Temp/ipykernel_605424/2885255594.py:61: FutureWarning: The frame.append method is deprecated and will be removed from pandas in a future version. Use pandas.concat instead.\n",
      "  big_data = big_data.append(d, ignore_index=True)\n",
      "C:\\Users\\skhan\\AppData\\Local\\Temp/ipykernel_605424/2885255594.py:61: FutureWarning: The frame.append method is deprecated and will be removed from pandas in a future version. Use pandas.concat instead.\n",
      "  big_data = big_data.append(d, ignore_index=True)\n",
      "C:\\Users\\skhan\\AppData\\Local\\Temp/ipykernel_605424/2885255594.py:61: FutureWarning: The frame.append method is deprecated and will be removed from pandas in a future version. Use pandas.concat instead.\n",
      "  big_data = big_data.append(d, ignore_index=True)\n",
      "C:\\Users\\skhan\\AppData\\Local\\Temp/ipykernel_605424/2885255594.py:61: FutureWarning: The frame.append method is deprecated and will be removed from pandas in a future version. Use pandas.concat instead.\n",
      "  big_data = big_data.append(d, ignore_index=True)\n",
      "C:\\Users\\skhan\\AppData\\Local\\Temp/ipykernel_605424/2885255594.py:61: FutureWarning: The frame.append method is deprecated and will be removed from pandas in a future version. Use pandas.concat instead.\n",
      "  big_data = big_data.append(d, ignore_index=True)\n",
      "C:\\Users\\skhan\\AppData\\Local\\Temp/ipykernel_605424/2885255594.py:61: FutureWarning: The frame.append method is deprecated and will be removed from pandas in a future version. Use pandas.concat instead.\n",
      "  big_data = big_data.append(d, ignore_index=True)\n",
      "C:\\Users\\skhan\\AppData\\Local\\Temp/ipykernel_605424/2885255594.py:61: FutureWarning: The frame.append method is deprecated and will be removed from pandas in a future version. Use pandas.concat instead.\n",
      "  big_data = big_data.append(d, ignore_index=True)\n",
      "C:\\Users\\skhan\\AppData\\Local\\Temp/ipykernel_605424/2885255594.py:61: FutureWarning: The frame.append method is deprecated and will be removed from pandas in a future version. Use pandas.concat instead.\n",
      "  big_data = big_data.append(d, ignore_index=True)\n",
      "C:\\Users\\skhan\\AppData\\Local\\Temp/ipykernel_605424/2885255594.py:61: FutureWarning: The frame.append method is deprecated and will be removed from pandas in a future version. Use pandas.concat instead.\n",
      "  big_data = big_data.append(d, ignore_index=True)\n",
      "C:\\Users\\skhan\\AppData\\Local\\Temp/ipykernel_605424/2885255594.py:61: FutureWarning: The frame.append method is deprecated and will be removed from pandas in a future version. Use pandas.concat instead.\n",
      "  big_data = big_data.append(d, ignore_index=True)\n",
      "C:\\Users\\skhan\\AppData\\Local\\Temp/ipykernel_605424/2885255594.py:61: FutureWarning: The frame.append method is deprecated and will be removed from pandas in a future version. Use pandas.concat instead.\n",
      "  big_data = big_data.append(d, ignore_index=True)\n",
      "C:\\Users\\skhan\\AppData\\Local\\Temp/ipykernel_605424/2885255594.py:61: FutureWarning: The frame.append method is deprecated and will be removed from pandas in a future version. Use pandas.concat instead.\n",
      "  big_data = big_data.append(d, ignore_index=True)\n",
      "C:\\Users\\skhan\\AppData\\Local\\Temp/ipykernel_605424/2885255594.py:61: FutureWarning: The frame.append method is deprecated and will be removed from pandas in a future version. Use pandas.concat instead.\n",
      "  big_data = big_data.append(d, ignore_index=True)\n",
      "C:\\Users\\skhan\\AppData\\Local\\Temp/ipykernel_605424/2885255594.py:61: FutureWarning: The frame.append method is deprecated and will be removed from pandas in a future version. Use pandas.concat instead.\n",
      "  big_data = big_data.append(d, ignore_index=True)\n",
      "C:\\Users\\skhan\\AppData\\Local\\Temp/ipykernel_605424/2885255594.py:61: FutureWarning: The frame.append method is deprecated and will be removed from pandas in a future version. Use pandas.concat instead.\n",
      "  big_data = big_data.append(d, ignore_index=True)\n",
      "C:\\Users\\skhan\\AppData\\Local\\Temp/ipykernel_605424/2885255594.py:61: FutureWarning: The frame.append method is deprecated and will be removed from pandas in a future version. Use pandas.concat instead.\n",
      "  big_data = big_data.append(d, ignore_index=True)\n",
      "C:\\Users\\skhan\\AppData\\Local\\Temp/ipykernel_605424/2885255594.py:61: FutureWarning: The frame.append method is deprecated and will be removed from pandas in a future version. Use pandas.concat instead.\n",
      "  big_data = big_data.append(d, ignore_index=True)\n",
      "C:\\Users\\skhan\\AppData\\Local\\Temp/ipykernel_605424/2885255594.py:61: FutureWarning: The frame.append method is deprecated and will be removed from pandas in a future version. Use pandas.concat instead.\n",
      "  big_data = big_data.append(d, ignore_index=True)\n",
      "C:\\Users\\skhan\\AppData\\Local\\Temp/ipykernel_605424/2885255594.py:61: FutureWarning: The frame.append method is deprecated and will be removed from pandas in a future version. Use pandas.concat instead.\n",
      "  big_data = big_data.append(d, ignore_index=True)\n",
      "C:\\Users\\skhan\\AppData\\Local\\Temp/ipykernel_605424/2885255594.py:61: FutureWarning: The frame.append method is deprecated and will be removed from pandas in a future version. Use pandas.concat instead.\n",
      "  big_data = big_data.append(d, ignore_index=True)\n",
      "C:\\Users\\skhan\\AppData\\Local\\Temp/ipykernel_605424/2885255594.py:61: FutureWarning: The frame.append method is deprecated and will be removed from pandas in a future version. Use pandas.concat instead.\n",
      "  big_data = big_data.append(d, ignore_index=True)\n",
      "C:\\Users\\skhan\\AppData\\Local\\Temp/ipykernel_605424/2885255594.py:61: FutureWarning: The frame.append method is deprecated and will be removed from pandas in a future version. Use pandas.concat instead.\n",
      "  big_data = big_data.append(d, ignore_index=True)\n",
      "C:\\Users\\skhan\\AppData\\Local\\Temp/ipykernel_605424/2885255594.py:61: FutureWarning: The frame.append method is deprecated and will be removed from pandas in a future version. Use pandas.concat instead.\n",
      "  big_data = big_data.append(d, ignore_index=True)\n",
      "C:\\Users\\skhan\\AppData\\Local\\Temp/ipykernel_605424/2885255594.py:61: FutureWarning: The frame.append method is deprecated and will be removed from pandas in a future version. Use pandas.concat instead.\n",
      "  big_data = big_data.append(d, ignore_index=True)\n",
      "C:\\Users\\skhan\\AppData\\Local\\Temp/ipykernel_605424/2885255594.py:61: FutureWarning: The frame.append method is deprecated and will be removed from pandas in a future version. Use pandas.concat instead.\n",
      "  big_data = big_data.append(d, ignore_index=True)\n",
      "C:\\Users\\skhan\\AppData\\Local\\Temp/ipykernel_605424/2885255594.py:61: FutureWarning: The frame.append method is deprecated and will be removed from pandas in a future version. Use pandas.concat instead.\n",
      "  big_data = big_data.append(d, ignore_index=True)\n",
      "C:\\Users\\skhan\\AppData\\Local\\Temp/ipykernel_605424/2885255594.py:61: FutureWarning: The frame.append method is deprecated and will be removed from pandas in a future version. Use pandas.concat instead.\n",
      "  big_data = big_data.append(d, ignore_index=True)\n",
      "C:\\Users\\skhan\\AppData\\Local\\Temp/ipykernel_605424/2885255594.py:61: FutureWarning: The frame.append method is deprecated and will be removed from pandas in a future version. Use pandas.concat instead.\n",
      "  big_data = big_data.append(d, ignore_index=True)\n",
      "C:\\Users\\skhan\\AppData\\Local\\Temp/ipykernel_605424/2885255594.py:61: FutureWarning: The frame.append method is deprecated and will be removed from pandas in a future version. Use pandas.concat instead.\n",
      "  big_data = big_data.append(d, ignore_index=True)\n",
      "C:\\Users\\skhan\\AppData\\Local\\Temp/ipykernel_605424/2885255594.py:61: FutureWarning: The frame.append method is deprecated and will be removed from pandas in a future version. Use pandas.concat instead.\n",
      "  big_data = big_data.append(d, ignore_index=True)\n",
      "C:\\Users\\skhan\\AppData\\Local\\Temp/ipykernel_605424/2885255594.py:61: FutureWarning: The frame.append method is deprecated and will be removed from pandas in a future version. Use pandas.concat instead.\n",
      "  big_data = big_data.append(d, ignore_index=True)\n",
      "C:\\Users\\skhan\\AppData\\Local\\Temp/ipykernel_605424/2885255594.py:61: FutureWarning: The frame.append method is deprecated and will be removed from pandas in a future version. Use pandas.concat instead.\n",
      "  big_data = big_data.append(d, ignore_index=True)\n",
      "C:\\Users\\skhan\\AppData\\Local\\Temp/ipykernel_605424/2885255594.py:61: FutureWarning: The frame.append method is deprecated and will be removed from pandas in a future version. Use pandas.concat instead.\n",
      "  big_data = big_data.append(d, ignore_index=True)\n",
      "C:\\Users\\skhan\\AppData\\Local\\Temp/ipykernel_605424/2885255594.py:61: FutureWarning: The frame.append method is deprecated and will be removed from pandas in a future version. Use pandas.concat instead.\n",
      "  big_data = big_data.append(d, ignore_index=True)\n",
      "C:\\Users\\skhan\\AppData\\Local\\Temp/ipykernel_605424/2885255594.py:61: FutureWarning: The frame.append method is deprecated and will be removed from pandas in a future version. Use pandas.concat instead.\n",
      "  big_data = big_data.append(d, ignore_index=True)\n",
      "C:\\Users\\skhan\\AppData\\Local\\Temp/ipykernel_605424/2885255594.py:61: FutureWarning: The frame.append method is deprecated and will be removed from pandas in a future version. Use pandas.concat instead.\n",
      "  big_data = big_data.append(d, ignore_index=True)\n",
      "C:\\Users\\skhan\\AppData\\Local\\Temp/ipykernel_605424/2885255594.py:61: FutureWarning: The frame.append method is deprecated and will be removed from pandas in a future version. Use pandas.concat instead.\n",
      "  big_data = big_data.append(d, ignore_index=True)\n",
      "C:\\Users\\skhan\\AppData\\Local\\Temp/ipykernel_605424/2885255594.py:61: FutureWarning: The frame.append method is deprecated and will be removed from pandas in a future version. Use pandas.concat instead.\n",
      "  big_data = big_data.append(d, ignore_index=True)\n",
      "C:\\Users\\skhan\\AppData\\Local\\Temp/ipykernel_605424/2885255594.py:61: FutureWarning: The frame.append method is deprecated and will be removed from pandas in a future version. Use pandas.concat instead.\n",
      "  big_data = big_data.append(d, ignore_index=True)\n",
      "C:\\Users\\skhan\\AppData\\Local\\Temp/ipykernel_605424/2885255594.py:61: FutureWarning: The frame.append method is deprecated and will be removed from pandas in a future version. Use pandas.concat instead.\n",
      "  big_data = big_data.append(d, ignore_index=True)\n",
      "C:\\Users\\skhan\\AppData\\Local\\Temp/ipykernel_605424/2885255594.py:61: FutureWarning: The frame.append method is deprecated and will be removed from pandas in a future version. Use pandas.concat instead.\n",
      "  big_data = big_data.append(d, ignore_index=True)\n",
      "C:\\Users\\skhan\\AppData\\Local\\Temp/ipykernel_605424/2885255594.py:61: FutureWarning: The frame.append method is deprecated and will be removed from pandas in a future version. Use pandas.concat instead.\n",
      "  big_data = big_data.append(d, ignore_index=True)\n",
      "C:\\Users\\skhan\\AppData\\Local\\Temp/ipykernel_605424/2885255594.py:61: FutureWarning: The frame.append method is deprecated and will be removed from pandas in a future version. Use pandas.concat instead.\n",
      "  big_data = big_data.append(d, ignore_index=True)\n",
      "C:\\Users\\skhan\\AppData\\Local\\Temp/ipykernel_605424/2885255594.py:61: FutureWarning: The frame.append method is deprecated and will be removed from pandas in a future version. Use pandas.concat instead.\n",
      "  big_data = big_data.append(d, ignore_index=True)\n",
      "C:\\Users\\skhan\\AppData\\Local\\Temp/ipykernel_605424/2885255594.py:61: FutureWarning: The frame.append method is deprecated and will be removed from pandas in a future version. Use pandas.concat instead.\n",
      "  big_data = big_data.append(d, ignore_index=True)\n",
      "C:\\Users\\skhan\\AppData\\Local\\Temp/ipykernel_605424/2885255594.py:61: FutureWarning: The frame.append method is deprecated and will be removed from pandas in a future version. Use pandas.concat instead.\n",
      "  big_data = big_data.append(d, ignore_index=True)\n",
      "C:\\Users\\skhan\\AppData\\Local\\Temp/ipykernel_605424/2885255594.py:61: FutureWarning: The frame.append method is deprecated and will be removed from pandas in a future version. Use pandas.concat instead.\n",
      "  big_data = big_data.append(d, ignore_index=True)\n",
      "C:\\Users\\skhan\\AppData\\Local\\Temp/ipykernel_605424/2885255594.py:61: FutureWarning: The frame.append method is deprecated and will be removed from pandas in a future version. Use pandas.concat instead.\n",
      "  big_data = big_data.append(d, ignore_index=True)\n",
      "C:\\Users\\skhan\\AppData\\Local\\Temp/ipykernel_605424/2885255594.py:61: FutureWarning: The frame.append method is deprecated and will be removed from pandas in a future version. Use pandas.concat instead.\n",
      "  big_data = big_data.append(d, ignore_index=True)\n",
      "C:\\Users\\skhan\\AppData\\Local\\Temp/ipykernel_605424/2885255594.py:61: FutureWarning: The frame.append method is deprecated and will be removed from pandas in a future version. Use pandas.concat instead.\n",
      "  big_data = big_data.append(d, ignore_index=True)\n",
      "C:\\Users\\skhan\\AppData\\Local\\Temp/ipykernel_605424/2885255594.py:61: FutureWarning: The frame.append method is deprecated and will be removed from pandas in a future version. Use pandas.concat instead.\n",
      "  big_data = big_data.append(d, ignore_index=True)\n",
      "C:\\Users\\skhan\\AppData\\Local\\Temp/ipykernel_605424/2885255594.py:61: FutureWarning: The frame.append method is deprecated and will be removed from pandas in a future version. Use pandas.concat instead.\n",
      "  big_data = big_data.append(d, ignore_index=True)\n",
      "C:\\Users\\skhan\\AppData\\Local\\Temp/ipykernel_605424/2885255594.py:61: FutureWarning: The frame.append method is deprecated and will be removed from pandas in a future version. Use pandas.concat instead.\n",
      "  big_data = big_data.append(d, ignore_index=True)\n",
      "C:\\Users\\skhan\\AppData\\Local\\Temp/ipykernel_605424/2885255594.py:61: FutureWarning: The frame.append method is deprecated and will be removed from pandas in a future version. Use pandas.concat instead.\n",
      "  big_data = big_data.append(d, ignore_index=True)\n",
      "C:\\Users\\skhan\\AppData\\Local\\Temp/ipykernel_605424/2885255594.py:61: FutureWarning: The frame.append method is deprecated and will be removed from pandas in a future version. Use pandas.concat instead.\n",
      "  big_data = big_data.append(d, ignore_index=True)\n",
      "C:\\Users\\skhan\\AppData\\Local\\Temp/ipykernel_605424/2885255594.py:61: FutureWarning: The frame.append method is deprecated and will be removed from pandas in a future version. Use pandas.concat instead.\n",
      "  big_data = big_data.append(d, ignore_index=True)\n",
      "C:\\Users\\skhan\\AppData\\Local\\Temp/ipykernel_605424/2885255594.py:61: FutureWarning: The frame.append method is deprecated and will be removed from pandas in a future version. Use pandas.concat instead.\n",
      "  big_data = big_data.append(d, ignore_index=True)\n",
      "C:\\Users\\skhan\\AppData\\Local\\Temp/ipykernel_605424/2885255594.py:61: FutureWarning: The frame.append method is deprecated and will be removed from pandas in a future version. Use pandas.concat instead.\n",
      "  big_data = big_data.append(d, ignore_index=True)\n",
      "C:\\Users\\skhan\\AppData\\Local\\Temp/ipykernel_605424/2885255594.py:61: FutureWarning: The frame.append method is deprecated and will be removed from pandas in a future version. Use pandas.concat instead.\n",
      "  big_data = big_data.append(d, ignore_index=True)\n",
      "C:\\Users\\skhan\\AppData\\Local\\Temp/ipykernel_605424/2885255594.py:61: FutureWarning: The frame.append method is deprecated and will be removed from pandas in a future version. Use pandas.concat instead.\n",
      "  big_data = big_data.append(d, ignore_index=True)\n",
      "C:\\Users\\skhan\\AppData\\Local\\Temp/ipykernel_605424/2885255594.py:61: FutureWarning: The frame.append method is deprecated and will be removed from pandas in a future version. Use pandas.concat instead.\n",
      "  big_data = big_data.append(d, ignore_index=True)\n",
      "C:\\Users\\skhan\\AppData\\Local\\Temp/ipykernel_605424/2885255594.py:61: FutureWarning: The frame.append method is deprecated and will be removed from pandas in a future version. Use pandas.concat instead.\n",
      "  big_data = big_data.append(d, ignore_index=True)\n",
      "C:\\Users\\skhan\\AppData\\Local\\Temp/ipykernel_605424/2885255594.py:61: FutureWarning: The frame.append method is deprecated and will be removed from pandas in a future version. Use pandas.concat instead.\n",
      "  big_data = big_data.append(d, ignore_index=True)\n",
      "C:\\Users\\skhan\\AppData\\Local\\Temp/ipykernel_605424/2885255594.py:61: FutureWarning: The frame.append method is deprecated and will be removed from pandas in a future version. Use pandas.concat instead.\n",
      "  big_data = big_data.append(d, ignore_index=True)\n",
      "C:\\Users\\skhan\\AppData\\Local\\Temp/ipykernel_605424/2885255594.py:61: FutureWarning: The frame.append method is deprecated and will be removed from pandas in a future version. Use pandas.concat instead.\n",
      "  big_data = big_data.append(d, ignore_index=True)\n",
      "C:\\Users\\skhan\\AppData\\Local\\Temp/ipykernel_605424/2885255594.py:61: FutureWarning: The frame.append method is deprecated and will be removed from pandas in a future version. Use pandas.concat instead.\n",
      "  big_data = big_data.append(d, ignore_index=True)\n",
      "C:\\Users\\skhan\\AppData\\Local\\Temp/ipykernel_605424/2885255594.py:61: FutureWarning: The frame.append method is deprecated and will be removed from pandas in a future version. Use pandas.concat instead.\n",
      "  big_data = big_data.append(d, ignore_index=True)\n",
      "C:\\Users\\skhan\\AppData\\Local\\Temp/ipykernel_605424/2885255594.py:61: FutureWarning: The frame.append method is deprecated and will be removed from pandas in a future version. Use pandas.concat instead.\n",
      "  big_data = big_data.append(d, ignore_index=True)\n",
      "C:\\Users\\skhan\\AppData\\Local\\Temp/ipykernel_605424/2885255594.py:61: FutureWarning: The frame.append method is deprecated and will be removed from pandas in a future version. Use pandas.concat instead.\n",
      "  big_data = big_data.append(d, ignore_index=True)\n",
      "C:\\Users\\skhan\\AppData\\Local\\Temp/ipykernel_605424/2885255594.py:61: FutureWarning: The frame.append method is deprecated and will be removed from pandas in a future version. Use pandas.concat instead.\n",
      "  big_data = big_data.append(d, ignore_index=True)\n",
      "C:\\Users\\skhan\\AppData\\Local\\Temp/ipykernel_605424/2885255594.py:61: FutureWarning: The frame.append method is deprecated and will be removed from pandas in a future version. Use pandas.concat instead.\n",
      "  big_data = big_data.append(d, ignore_index=True)\n",
      "C:\\Users\\skhan\\AppData\\Local\\Temp/ipykernel_605424/2885255594.py:61: FutureWarning: The frame.append method is deprecated and will be removed from pandas in a future version. Use pandas.concat instead.\n",
      "  big_data = big_data.append(d, ignore_index=True)\n",
      "C:\\Users\\skhan\\AppData\\Local\\Temp/ipykernel_605424/2885255594.py:61: FutureWarning: The frame.append method is deprecated and will be removed from pandas in a future version. Use pandas.concat instead.\n",
      "  big_data = big_data.append(d, ignore_index=True)\n",
      "C:\\Users\\skhan\\AppData\\Local\\Temp/ipykernel_605424/2885255594.py:61: FutureWarning: The frame.append method is deprecated and will be removed from pandas in a future version. Use pandas.concat instead.\n",
      "  big_data = big_data.append(d, ignore_index=True)\n",
      "C:\\Users\\skhan\\AppData\\Local\\Temp/ipykernel_605424/2885255594.py:61: FutureWarning: The frame.append method is deprecated and will be removed from pandas in a future version. Use pandas.concat instead.\n",
      "  big_data = big_data.append(d, ignore_index=True)\n",
      "C:\\Users\\skhan\\AppData\\Local\\Temp/ipykernel_605424/2885255594.py:61: FutureWarning: The frame.append method is deprecated and will be removed from pandas in a future version. Use pandas.concat instead.\n",
      "  big_data = big_data.append(d, ignore_index=True)\n",
      "C:\\Users\\skhan\\AppData\\Local\\Temp/ipykernel_605424/2885255594.py:61: FutureWarning: The frame.append method is deprecated and will be removed from pandas in a future version. Use pandas.concat instead.\n",
      "  big_data = big_data.append(d, ignore_index=True)\n",
      "C:\\Users\\skhan\\AppData\\Local\\Temp/ipykernel_605424/2885255594.py:61: FutureWarning: The frame.append method is deprecated and will be removed from pandas in a future version. Use pandas.concat instead.\n",
      "  big_data = big_data.append(d, ignore_index=True)\n",
      "C:\\Users\\skhan\\AppData\\Local\\Temp/ipykernel_605424/2885255594.py:61: FutureWarning: The frame.append method is deprecated and will be removed from pandas in a future version. Use pandas.concat instead.\n",
      "  big_data = big_data.append(d, ignore_index=True)\n",
      "C:\\Users\\skhan\\AppData\\Local\\Temp/ipykernel_605424/2885255594.py:61: FutureWarning: The frame.append method is deprecated and will be removed from pandas in a future version. Use pandas.concat instead.\n",
      "  big_data = big_data.append(d, ignore_index=True)\n",
      "C:\\Users\\skhan\\AppData\\Local\\Temp/ipykernel_605424/2885255594.py:61: FutureWarning: The frame.append method is deprecated and will be removed from pandas in a future version. Use pandas.concat instead.\n",
      "  big_data = big_data.append(d, ignore_index=True)\n",
      "C:\\Users\\skhan\\AppData\\Local\\Temp/ipykernel_605424/2885255594.py:61: FutureWarning: The frame.append method is deprecated and will be removed from pandas in a future version. Use pandas.concat instead.\n",
      "  big_data = big_data.append(d, ignore_index=True)\n",
      "C:\\Users\\skhan\\AppData\\Local\\Temp/ipykernel_605424/2885255594.py:61: FutureWarning: The frame.append method is deprecated and will be removed from pandas in a future version. Use pandas.concat instead.\n",
      "  big_data = big_data.append(d, ignore_index=True)\n",
      "C:\\Users\\skhan\\AppData\\Local\\Temp/ipykernel_605424/2885255594.py:61: FutureWarning: The frame.append method is deprecated and will be removed from pandas in a future version. Use pandas.concat instead.\n",
      "  big_data = big_data.append(d, ignore_index=True)\n",
      "C:\\Users\\skhan\\AppData\\Local\\Temp/ipykernel_605424/2885255594.py:61: FutureWarning: The frame.append method is deprecated and will be removed from pandas in a future version. Use pandas.concat instead.\n",
      "  big_data = big_data.append(d, ignore_index=True)\n",
      "C:\\Users\\skhan\\AppData\\Local\\Temp/ipykernel_605424/2885255594.py:61: FutureWarning: The frame.append method is deprecated and will be removed from pandas in a future version. Use pandas.concat instead.\n",
      "  big_data = big_data.append(d, ignore_index=True)\n",
      "C:\\Users\\skhan\\AppData\\Local\\Temp/ipykernel_605424/2885255594.py:61: FutureWarning: The frame.append method is deprecated and will be removed from pandas in a future version. Use pandas.concat instead.\n",
      "  big_data = big_data.append(d, ignore_index=True)\n",
      "C:\\Users\\skhan\\AppData\\Local\\Temp/ipykernel_605424/2885255594.py:61: FutureWarning: The frame.append method is deprecated and will be removed from pandas in a future version. Use pandas.concat instead.\n",
      "  big_data = big_data.append(d, ignore_index=True)\n",
      "C:\\Users\\skhan\\AppData\\Local\\Temp/ipykernel_605424/2885255594.py:61: FutureWarning: The frame.append method is deprecated and will be removed from pandas in a future version. Use pandas.concat instead.\n",
      "  big_data = big_data.append(d, ignore_index=True)\n",
      "C:\\Users\\skhan\\AppData\\Local\\Temp/ipykernel_605424/2885255594.py:61: FutureWarning: The frame.append method is deprecated and will be removed from pandas in a future version. Use pandas.concat instead.\n",
      "  big_data = big_data.append(d, ignore_index=True)\n",
      "C:\\Users\\skhan\\AppData\\Local\\Temp/ipykernel_605424/2885255594.py:61: FutureWarning: The frame.append method is deprecated and will be removed from pandas in a future version. Use pandas.concat instead.\n",
      "  big_data = big_data.append(d, ignore_index=True)\n",
      "C:\\Users\\skhan\\AppData\\Local\\Temp/ipykernel_605424/2885255594.py:61: FutureWarning: The frame.append method is deprecated and will be removed from pandas in a future version. Use pandas.concat instead.\n",
      "  big_data = big_data.append(d, ignore_index=True)\n",
      "C:\\Users\\skhan\\AppData\\Local\\Temp/ipykernel_605424/2885255594.py:61: FutureWarning: The frame.append method is deprecated and will be removed from pandas in a future version. Use pandas.concat instead.\n",
      "  big_data = big_data.append(d, ignore_index=True)\n",
      "C:\\Users\\skhan\\AppData\\Local\\Temp/ipykernel_605424/2885255594.py:61: FutureWarning: The frame.append method is deprecated and will be removed from pandas in a future version. Use pandas.concat instead.\n",
      "  big_data = big_data.append(d, ignore_index=True)\n",
      "C:\\Users\\skhan\\AppData\\Local\\Temp/ipykernel_605424/2885255594.py:61: FutureWarning: The frame.append method is deprecated and will be removed from pandas in a future version. Use pandas.concat instead.\n",
      "  big_data = big_data.append(d, ignore_index=True)\n",
      "C:\\Users\\skhan\\AppData\\Local\\Temp/ipykernel_605424/2885255594.py:61: FutureWarning: The frame.append method is deprecated and will be removed from pandas in a future version. Use pandas.concat instead.\n",
      "  big_data = big_data.append(d, ignore_index=True)\n",
      "C:\\Users\\skhan\\AppData\\Local\\Temp/ipykernel_605424/2885255594.py:61: FutureWarning: The frame.append method is deprecated and will be removed from pandas in a future version. Use pandas.concat instead.\n",
      "  big_data = big_data.append(d, ignore_index=True)\n",
      "C:\\Users\\skhan\\AppData\\Local\\Temp/ipykernel_605424/2885255594.py:61: FutureWarning: The frame.append method is deprecated and will be removed from pandas in a future version. Use pandas.concat instead.\n",
      "  big_data = big_data.append(d, ignore_index=True)\n",
      "C:\\Users\\skhan\\AppData\\Local\\Temp/ipykernel_605424/2885255594.py:61: FutureWarning: The frame.append method is deprecated and will be removed from pandas in a future version. Use pandas.concat instead.\n",
      "  big_data = big_data.append(d, ignore_index=True)\n",
      "C:\\Users\\skhan\\AppData\\Local\\Temp/ipykernel_605424/2885255594.py:61: FutureWarning: The frame.append method is deprecated and will be removed from pandas in a future version. Use pandas.concat instead.\n",
      "  big_data = big_data.append(d, ignore_index=True)\n",
      "C:\\Users\\skhan\\AppData\\Local\\Temp/ipykernel_605424/2885255594.py:61: FutureWarning: The frame.append method is deprecated and will be removed from pandas in a future version. Use pandas.concat instead.\n",
      "  big_data = big_data.append(d, ignore_index=True)\n",
      "C:\\Users\\skhan\\AppData\\Local\\Temp/ipykernel_605424/2885255594.py:61: FutureWarning: The frame.append method is deprecated and will be removed from pandas in a future version. Use pandas.concat instead.\n",
      "  big_data = big_data.append(d, ignore_index=True)\n",
      "C:\\Users\\skhan\\AppData\\Local\\Temp/ipykernel_605424/2885255594.py:61: FutureWarning: The frame.append method is deprecated and will be removed from pandas in a future version. Use pandas.concat instead.\n",
      "  big_data = big_data.append(d, ignore_index=True)\n",
      "C:\\Users\\skhan\\AppData\\Local\\Temp/ipykernel_605424/2885255594.py:61: FutureWarning: The frame.append method is deprecated and will be removed from pandas in a future version. Use pandas.concat instead.\n",
      "  big_data = big_data.append(d, ignore_index=True)\n",
      "C:\\Users\\skhan\\AppData\\Local\\Temp/ipykernel_605424/2885255594.py:61: FutureWarning: The frame.append method is deprecated and will be removed from pandas in a future version. Use pandas.concat instead.\n",
      "  big_data = big_data.append(d, ignore_index=True)\n",
      "C:\\Users\\skhan\\AppData\\Local\\Temp/ipykernel_605424/2885255594.py:61: FutureWarning: The frame.append method is deprecated and will be removed from pandas in a future version. Use pandas.concat instead.\n",
      "  big_data = big_data.append(d, ignore_index=True)\n",
      "C:\\Users\\skhan\\AppData\\Local\\Temp/ipykernel_605424/2885255594.py:61: FutureWarning: The frame.append method is deprecated and will be removed from pandas in a future version. Use pandas.concat instead.\n",
      "  big_data = big_data.append(d, ignore_index=True)\n",
      "C:\\Users\\skhan\\AppData\\Local\\Temp/ipykernel_605424/2885255594.py:61: FutureWarning: The frame.append method is deprecated and will be removed from pandas in a future version. Use pandas.concat instead.\n",
      "  big_data = big_data.append(d, ignore_index=True)\n",
      "C:\\Users\\skhan\\AppData\\Local\\Temp/ipykernel_605424/2885255594.py:61: FutureWarning: The frame.append method is deprecated and will be removed from pandas in a future version. Use pandas.concat instead.\n",
      "  big_data = big_data.append(d, ignore_index=True)\n",
      "C:\\Users\\skhan\\AppData\\Local\\Temp/ipykernel_605424/2885255594.py:61: FutureWarning: The frame.append method is deprecated and will be removed from pandas in a future version. Use pandas.concat instead.\n",
      "  big_data = big_data.append(d, ignore_index=True)\n",
      "C:\\Users\\skhan\\AppData\\Local\\Temp/ipykernel_605424/2885255594.py:61: FutureWarning: The frame.append method is deprecated and will be removed from pandas in a future version. Use pandas.concat instead.\n",
      "  big_data = big_data.append(d, ignore_index=True)\n",
      "C:\\Users\\skhan\\AppData\\Local\\Temp/ipykernel_605424/2885255594.py:61: FutureWarning: The frame.append method is deprecated and will be removed from pandas in a future version. Use pandas.concat instead.\n",
      "  big_data = big_data.append(d, ignore_index=True)\n",
      "C:\\Users\\skhan\\AppData\\Local\\Temp/ipykernel_605424/2885255594.py:61: FutureWarning: The frame.append method is deprecated and will be removed from pandas in a future version. Use pandas.concat instead.\n",
      "  big_data = big_data.append(d, ignore_index=True)\n",
      "C:\\Users\\skhan\\AppData\\Local\\Temp/ipykernel_605424/2885255594.py:61: FutureWarning: The frame.append method is deprecated and will be removed from pandas in a future version. Use pandas.concat instead.\n",
      "  big_data = big_data.append(d, ignore_index=True)\n",
      "C:\\Users\\skhan\\AppData\\Local\\Temp/ipykernel_605424/2885255594.py:61: FutureWarning: The frame.append method is deprecated and will be removed from pandas in a future version. Use pandas.concat instead.\n",
      "  big_data = big_data.append(d, ignore_index=True)\n",
      "C:\\Users\\skhan\\AppData\\Local\\Temp/ipykernel_605424/2885255594.py:61: FutureWarning: The frame.append method is deprecated and will be removed from pandas in a future version. Use pandas.concat instead.\n",
      "  big_data = big_data.append(d, ignore_index=True)\n",
      "C:\\Users\\skhan\\AppData\\Local\\Temp/ipykernel_605424/2885255594.py:61: FutureWarning: The frame.append method is deprecated and will be removed from pandas in a future version. Use pandas.concat instead.\n",
      "  big_data = big_data.append(d, ignore_index=True)\n",
      "C:\\Users\\skhan\\AppData\\Local\\Temp/ipykernel_605424/2885255594.py:61: FutureWarning: The frame.append method is deprecated and will be removed from pandas in a future version. Use pandas.concat instead.\n",
      "  big_data = big_data.append(d, ignore_index=True)\n"
     ]
    },
    {
     "data": {
      "text/plain": "                                                  file    v             s  \\\n0    \\1000SHIBUSDT\\plots\\2022-04-03T194816\\backtest...  5.5  1000SHIBUSDT   \n1    \\1000SHIBUSDT\\plots\\2022-04-03T204145\\backtest...  5.5  1000SHIBUSDT   \n2    \\1000SHIBUSDT\\plots\\2022-04-06T180851\\backtest...  5.5  1000SHIBUSDT   \n3    \\1000XECUSDT\\plots\\2022-04-06T155612\\backtest_...  5.5   1000XECUSDT   \n4    \\1000XECUSDT\\plots\\2022-04-06T181135\\backtest_...  5.5   1000XECUSDT   \n..                                                 ...  ...           ...   \n150  \\ZECUSDT\\plots\\2022-04-04T105513\\backtest_resu...  5.5       ZECUSDT   \n151  \\ZECUSDT\\plots\\2022-04-07T123050\\backtest_resu...  5.5       ZECUSDT   \n152  \\ZENUSDT\\plots\\2022-04-07T123822\\backtest_resu...  5.5       ZENUSDT   \n153  \\ZILUSDT\\plots\\2022-04-07T124653\\backtest_resu...  5.5       ZILUSDT   \n154  \\ZRXUSDT\\plots\\2022-04-07T125157\\backtest_resu...  5.5       ZRXUSDT   \n\n     long  tgl_%  adgl_%    pastdl    pamaxl  bnkrl_%    ebrl      maxsl  \\\n0    True  52.53  0.1780  0.066776  0.644511    100.0  0.8613  12.442375   \n1    True  26.73  0.0850  0.070106  0.830417    100.0  0.9153   6.572917   \n2    True  90.63  0.2460  0.065637  0.629854    100.0  0.7673  12.442375   \n3    True  16.60  0.0401  0.056577  0.843518    100.0  0.8579   5.065292   \n4    True  16.60  0.0401  0.056577  0.843518    100.0  0.8579   5.065292   \n..    ...    ...     ...       ...       ...      ...     ...        ...   \n150  True  28.78  0.0950  0.075344  0.770541    100.0  0.9263   9.928458   \n151  True  64.52  0.1770  0.074299  0.590802    100.0  0.8301  15.332625   \n152  True  71.30  0.2010  0.128784  0.968012    100.0  0.8159  14.339583   \n153  True  11.86  0.0150  0.213304  1.171540    100.0  0.8399  35.809042   \n154  True  57.37  0.1690  0.114260  0.708101    100.0  0.8835  22.423625   \n\n     short   tgs_%   adgs_%    pastds    pamaxs  bnkrs_%     ebrs       maxss  \\\n0     True -96.020 -1.88000  0.146280  0.802360    5.447  0.10870  155.190833   \n1     True -95.820 -1.88000  0.148225  0.803949    5.404  0.09669  155.191667   \n2     True -91.820 -1.64000  0.124514  0.747041    5.959  0.08869  180.079167   \n3     True  49.790  0.20700  0.062401  0.371501  100.000  0.86990   21.804875   \n4     True  49.790  0.20700  0.062401  0.371501  100.000  0.86990   21.804875   \n..     ...     ...      ...       ...       ...      ...      ...         ...   \n150   True  18.230  0.02540  0.148103  0.660761  100.000  0.65240  114.903333   \n151   True  -8.637  0.00538  0.138920  0.492966   88.210  0.65640   36.830542   \n152   True  20.720  0.10100  0.109054  0.420619   49.720  0.56430   39.212500   \n153   True -90.810 -1.64000  0.128495  0.776683    5.828  0.07862   33.732625   \n154   True  20.130  0.00183  0.141192  0.532109   93.390  0.63730   47.927917   \n\n     prod  \n0     NaN  \n1     NaN  \n2    True  \n3    True  \n4    True  \n..    ...  \n150   NaN  \n151  True  \n152  True  \n153  True  \n154  True  \n\n[155 rows x 20 columns]",
      "text/html": "<div>\n<style scoped>\n    .dataframe tbody tr th:only-of-type {\n        vertical-align: middle;\n    }\n\n    .dataframe tbody tr th {\n        vertical-align: top;\n    }\n\n    .dataframe thead th {\n        text-align: right;\n    }\n</style>\n<table border=\"1\" class=\"dataframe\">\n  <thead>\n    <tr style=\"text-align: right;\">\n      <th></th>\n      <th>file</th>\n      <th>v</th>\n      <th>s</th>\n      <th>long</th>\n      <th>tgl_%</th>\n      <th>adgl_%</th>\n      <th>pastdl</th>\n      <th>pamaxl</th>\n      <th>bnkrl_%</th>\n      <th>ebrl</th>\n      <th>maxsl</th>\n      <th>short</th>\n      <th>tgs_%</th>\n      <th>adgs_%</th>\n      <th>pastds</th>\n      <th>pamaxs</th>\n      <th>bnkrs_%</th>\n      <th>ebrs</th>\n      <th>maxss</th>\n      <th>prod</th>\n    </tr>\n  </thead>\n  <tbody>\n    <tr>\n      <th>0</th>\n      <td>\\1000SHIBUSDT\\plots\\2022-04-03T194816\\backtest...</td>\n      <td>5.5</td>\n      <td>1000SHIBUSDT</td>\n      <td>True</td>\n      <td>52.53</td>\n      <td>0.1780</td>\n      <td>0.066776</td>\n      <td>0.644511</td>\n      <td>100.0</td>\n      <td>0.8613</td>\n      <td>12.442375</td>\n      <td>True</td>\n      <td>-96.020</td>\n      <td>-1.88000</td>\n      <td>0.146280</td>\n      <td>0.802360</td>\n      <td>5.447</td>\n      <td>0.10870</td>\n      <td>155.190833</td>\n      <td>NaN</td>\n    </tr>\n    <tr>\n      <th>1</th>\n      <td>\\1000SHIBUSDT\\plots\\2022-04-03T204145\\backtest...</td>\n      <td>5.5</td>\n      <td>1000SHIBUSDT</td>\n      <td>True</td>\n      <td>26.73</td>\n      <td>0.0850</td>\n      <td>0.070106</td>\n      <td>0.830417</td>\n      <td>100.0</td>\n      <td>0.9153</td>\n      <td>6.572917</td>\n      <td>True</td>\n      <td>-95.820</td>\n      <td>-1.88000</td>\n      <td>0.148225</td>\n      <td>0.803949</td>\n      <td>5.404</td>\n      <td>0.09669</td>\n      <td>155.191667</td>\n      <td>NaN</td>\n    </tr>\n    <tr>\n      <th>2</th>\n      <td>\\1000SHIBUSDT\\plots\\2022-04-06T180851\\backtest...</td>\n      <td>5.5</td>\n      <td>1000SHIBUSDT</td>\n      <td>True</td>\n      <td>90.63</td>\n      <td>0.2460</td>\n      <td>0.065637</td>\n      <td>0.629854</td>\n      <td>100.0</td>\n      <td>0.7673</td>\n      <td>12.442375</td>\n      <td>True</td>\n      <td>-91.820</td>\n      <td>-1.64000</td>\n      <td>0.124514</td>\n      <td>0.747041</td>\n      <td>5.959</td>\n      <td>0.08869</td>\n      <td>180.079167</td>\n      <td>True</td>\n    </tr>\n    <tr>\n      <th>3</th>\n      <td>\\1000XECUSDT\\plots\\2022-04-06T155612\\backtest_...</td>\n      <td>5.5</td>\n      <td>1000XECUSDT</td>\n      <td>True</td>\n      <td>16.60</td>\n      <td>0.0401</td>\n      <td>0.056577</td>\n      <td>0.843518</td>\n      <td>100.0</td>\n      <td>0.8579</td>\n      <td>5.065292</td>\n      <td>True</td>\n      <td>49.790</td>\n      <td>0.20700</td>\n      <td>0.062401</td>\n      <td>0.371501</td>\n      <td>100.000</td>\n      <td>0.86990</td>\n      <td>21.804875</td>\n      <td>True</td>\n    </tr>\n    <tr>\n      <th>4</th>\n      <td>\\1000XECUSDT\\plots\\2022-04-06T181135\\backtest_...</td>\n      <td>5.5</td>\n      <td>1000XECUSDT</td>\n      <td>True</td>\n      <td>16.60</td>\n      <td>0.0401</td>\n      <td>0.056577</td>\n      <td>0.843518</td>\n      <td>100.0</td>\n      <td>0.8579</td>\n      <td>5.065292</td>\n      <td>True</td>\n      <td>49.790</td>\n      <td>0.20700</td>\n      <td>0.062401</td>\n      <td>0.371501</td>\n      <td>100.000</td>\n      <td>0.86990</td>\n      <td>21.804875</td>\n      <td>True</td>\n    </tr>\n    <tr>\n      <th>...</th>\n      <td>...</td>\n      <td>...</td>\n      <td>...</td>\n      <td>...</td>\n      <td>...</td>\n      <td>...</td>\n      <td>...</td>\n      <td>...</td>\n      <td>...</td>\n      <td>...</td>\n      <td>...</td>\n      <td>...</td>\n      <td>...</td>\n      <td>...</td>\n      <td>...</td>\n      <td>...</td>\n      <td>...</td>\n      <td>...</td>\n      <td>...</td>\n      <td>...</td>\n    </tr>\n    <tr>\n      <th>150</th>\n      <td>\\ZECUSDT\\plots\\2022-04-04T105513\\backtest_resu...</td>\n      <td>5.5</td>\n      <td>ZECUSDT</td>\n      <td>True</td>\n      <td>28.78</td>\n      <td>0.0950</td>\n      <td>0.075344</td>\n      <td>0.770541</td>\n      <td>100.0</td>\n      <td>0.9263</td>\n      <td>9.928458</td>\n      <td>True</td>\n      <td>18.230</td>\n      <td>0.02540</td>\n      <td>0.148103</td>\n      <td>0.660761</td>\n      <td>100.000</td>\n      <td>0.65240</td>\n      <td>114.903333</td>\n      <td>NaN</td>\n    </tr>\n    <tr>\n      <th>151</th>\n      <td>\\ZECUSDT\\plots\\2022-04-07T123050\\backtest_resu...</td>\n      <td>5.5</td>\n      <td>ZECUSDT</td>\n      <td>True</td>\n      <td>64.52</td>\n      <td>0.1770</td>\n      <td>0.074299</td>\n      <td>0.590802</td>\n      <td>100.0</td>\n      <td>0.8301</td>\n      <td>15.332625</td>\n      <td>True</td>\n      <td>-8.637</td>\n      <td>0.00538</td>\n      <td>0.138920</td>\n      <td>0.492966</td>\n      <td>88.210</td>\n      <td>0.65640</td>\n      <td>36.830542</td>\n      <td>True</td>\n    </tr>\n    <tr>\n      <th>152</th>\n      <td>\\ZENUSDT\\plots\\2022-04-07T123822\\backtest_resu...</td>\n      <td>5.5</td>\n      <td>ZENUSDT</td>\n      <td>True</td>\n      <td>71.30</td>\n      <td>0.2010</td>\n      <td>0.128784</td>\n      <td>0.968012</td>\n      <td>100.0</td>\n      <td>0.8159</td>\n      <td>14.339583</td>\n      <td>True</td>\n      <td>20.720</td>\n      <td>0.10100</td>\n      <td>0.109054</td>\n      <td>0.420619</td>\n      <td>49.720</td>\n      <td>0.56430</td>\n      <td>39.212500</td>\n      <td>True</td>\n    </tr>\n    <tr>\n      <th>153</th>\n      <td>\\ZILUSDT\\plots\\2022-04-07T124653\\backtest_resu...</td>\n      <td>5.5</td>\n      <td>ZILUSDT</td>\n      <td>True</td>\n      <td>11.86</td>\n      <td>0.0150</td>\n      <td>0.213304</td>\n      <td>1.171540</td>\n      <td>100.0</td>\n      <td>0.8399</td>\n      <td>35.809042</td>\n      <td>True</td>\n      <td>-90.810</td>\n      <td>-1.64000</td>\n      <td>0.128495</td>\n      <td>0.776683</td>\n      <td>5.828</td>\n      <td>0.07862</td>\n      <td>33.732625</td>\n      <td>True</td>\n    </tr>\n    <tr>\n      <th>154</th>\n      <td>\\ZRXUSDT\\plots\\2022-04-07T125157\\backtest_resu...</td>\n      <td>5.5</td>\n      <td>ZRXUSDT</td>\n      <td>True</td>\n      <td>57.37</td>\n      <td>0.1690</td>\n      <td>0.114260</td>\n      <td>0.708101</td>\n      <td>100.0</td>\n      <td>0.8835</td>\n      <td>22.423625</td>\n      <td>True</td>\n      <td>20.130</td>\n      <td>0.00183</td>\n      <td>0.141192</td>\n      <td>0.532109</td>\n      <td>93.390</td>\n      <td>0.63730</td>\n      <td>47.927917</td>\n      <td>True</td>\n    </tr>\n  </tbody>\n</table>\n<p>155 rows × 20 columns</p>\n</div>"
     },
     "execution_count": 54,
     "metadata": {},
     "output_type": "execute_result"
    }
   ],
   "source": [
    "big_data = pd.DataFrame()\n",
    "files = glob.iglob('backtests/binance/' + '**/backtest_result.txt', recursive=True)\n",
    "i = 0\n",
    "for filename in files:\n",
    "    #print(f'parsing : {filename}')\n",
    "    with open(filename, 'r') as file:\n",
    "        data = file.read().split('\\n')\n",
    "        d = {'file': filename.replace('backtests/binance','')}\n",
    "        current_state = 'long'\n",
    "        for l in data:\n",
    "            l = l.split('|')\n",
    "            if len(l) == 4:\n",
    "                key = l[1].strip()\n",
    "                value = l[2].strip()\n",
    "\n",
    "                if key == 'Passivbot Version':\n",
    "                    d['v'] = value\n",
    "                if key == 'Symbol':\n",
    "                    d['s'] = value\n",
    "                if key == 'Production Config':\n",
    "                    d['prod'] = value\n",
    "\n",
    "                if key == 'Long':\n",
    "                    current_state = 'long'\n",
    "                    d['long'] = bool(value) or False\n",
    "                if key == 'Short':\n",
    "                    current_state = 'short'\n",
    "                    d['short'] = bool(value) or False\n",
    "\n",
    "                if key == 'Total gain' and current_state == 'long':\n",
    "                    d['tgl_%'] = float(value.replace('%', '').strip())\n",
    "                if key == 'Average daily gain' and current_state == 'long':\n",
    "                    d['adgl_%'] = float(value.replace('%', '').strip())\n",
    "                if key == 'Closest bankruptcy' and current_state == 'long':\n",
    "                    d['bnkrl_%'] = float(value.replace('%', '').strip())\n",
    "                if key == 'Lowest equity/balance ratio' and current_state == 'long':\n",
    "                    d['ebrl'] = float(value.replace('%', '').strip())\n",
    "                if key == 'Max hours stuck' and current_state == 'long':\n",
    "                    d['maxsl'] = float(value.replace('%', '').strip())/24\n",
    "                if key == 'Price action distance max' and current_state == 'long':\n",
    "                    d['pamaxl'] = float(value.replace('%', '').strip())\n",
    "                if key == 'Price action distance std' and current_state == 'long':\n",
    "                    d['pastdl'] = float(value.strip())\n",
    "\n",
    "                if key == 'Total gain' and current_state == 'short':\n",
    "                    d['tgs_%'] = float(value.replace('%', '').strip())\n",
    "                if key == 'Average daily gain' and current_state == 'short':\n",
    "                    d['adgs_%'] = float(value.replace('%', '').strip())\n",
    "                if key == 'Closest bankruptcy' and current_state == 'short':\n",
    "                    d['bnkrs_%'] = float(value.replace('%', '').strip())\n",
    "                if key == 'Lowest equity/balance ratio' and current_state == 'short':\n",
    "                    d['ebrs'] = float(value.replace('%', '').strip())\n",
    "                if key == 'Max hours stuck' and current_state == 'short':\n",
    "                    d['maxss'] = float(value.replace('%', '').strip())/24\n",
    "                if key == 'Price action distance max' and current_state == 'short':\n",
    "                    d['pamaxs'] = float(value.replace('%', '').strip())\n",
    "                if key == 'Price action distance std' and current_state == 'short':\n",
    "                    d['pastds'] = float(value.strip())\n",
    "\n",
    "        #d['adgt_%'] = d['adgl_%']+d['adgs_%']\n",
    "        big_data = big_data.append(d, ignore_index=True)\n",
    "\n",
    "big_data"
   ]
  },
  {
   "cell_type": "markdown",
   "metadata": {},
   "source": [
    "Now filter the dataframe"
   ]
  },
  {
   "cell_type": "code",
   "execution_count": 55,
   "metadata": {
    "pycharm": {
     "name": "#%%\n"
    }
   },
   "outputs": [
    {
     "data": {
      "text/plain": "                                                  file    v             s  \\\n2    \\1000SHIBUSDT\\plots\\2022-04-06T180851\\backtest...  5.5  1000SHIBUSDT   \n3    \\1000XECUSDT\\plots\\2022-04-06T155612\\backtest_...  5.5   1000XECUSDT   \n4    \\1000XECUSDT\\plots\\2022-04-06T181135\\backtest_...  5.5   1000XECUSDT   \n5    \\1INCHUSDT\\plots\\2022-04-06T182507\\backtest_re...  5.5     1INCHUSDT   \n8    \\ADAUSDT\\plots\\2022-04-06T185658\\backtest_resu...  5.5       ADAUSDT   \n..                                                 ...  ...           ...   \n148  \\XRPUSDT\\plots\\2022-04-07T122119\\backtest_resu...  5.5       XRPUSDT   \n151  \\ZECUSDT\\plots\\2022-04-07T123050\\backtest_resu...  5.5       ZECUSDT   \n152  \\ZENUSDT\\plots\\2022-04-07T123822\\backtest_resu...  5.5       ZENUSDT   \n153  \\ZILUSDT\\plots\\2022-04-07T124653\\backtest_resu...  5.5       ZILUSDT   \n154  \\ZRXUSDT\\plots\\2022-04-07T125157\\backtest_resu...  5.5       ZRXUSDT   \n\n     long  tgl_%  adgl_%    pastdl    pamaxl  bnkrl_%    ebrl  ...  short  \\\n2    True  90.63  0.2460  0.065637  0.629854    100.0  0.7673  ...   True   \n3    True  16.60  0.0401  0.056577  0.843518    100.0  0.8579  ...   True   \n4    True  16.60  0.0401  0.056577  0.843518    100.0  0.8579  ...   True   \n5    True  31.40  0.0995  0.122606  0.977967    100.0  0.8157  ...   True   \n8    True  26.33  0.0809  0.051500  0.391366    100.0  0.8072  ...   True   \n..    ...    ...     ...       ...       ...      ...     ...  ...    ...   \n148  True  38.19  0.1210  0.065995  0.830946    100.0  0.7749  ...   True   \n151  True  64.52  0.1770  0.074299  0.590802    100.0  0.8301  ...   True   \n152  True  71.30  0.2010  0.128784  0.968012    100.0  0.8159  ...   True   \n153  True  11.86  0.0150  0.213304  1.171540    100.0  0.8399  ...   True   \n154  True  57.37  0.1690  0.114260  0.708101    100.0  0.8835  ...   True   \n\n       tgs_%   adgs_%    pastds    pamaxs  bnkrs_%     ebrs       maxss  prod  \\\n2   -91.8200 -1.64000  0.124514  0.747041    5.959  0.08869  180.079167  True   \n3    49.7900  0.20700  0.062401  0.371501  100.000  0.86990   21.804875  True   \n4    49.7900  0.20700  0.062401  0.371501  100.000  0.86990   21.804875  True   \n5    50.0100  0.14600  0.125987  0.618075   36.400  0.40490   33.669458  True   \n8    36.5600  0.09610  0.101922  0.519449   75.970  0.64290   39.211792  True   \n..       ...      ...       ...       ...      ...      ...         ...   ...   \n148   0.7041  0.02980  0.126403  0.578940   76.630  0.57020   34.033333  True   \n151  -8.6370  0.00538  0.138920  0.492966   88.210  0.65640   36.830542  True   \n152  20.7200  0.10100  0.109054  0.420619   49.720  0.56430   39.212500  True   \n153 -90.8100 -1.64000  0.128495  0.776683    5.828  0.07862   33.732625  True   \n154  20.1300  0.00183  0.141192  0.532109   93.390  0.63730   47.927917  True   \n\n      adgt_%  \n2   -1.39400  \n3    0.24710  \n4    0.24710  \n5    0.24550  \n8    0.17700  \n..       ...  \n148  0.15080  \n151  0.18238  \n152  0.30200  \n153 -1.62500  \n154  0.17083  \n\n[86 rows x 21 columns]",
      "text/html": "<div>\n<style scoped>\n    .dataframe tbody tr th:only-of-type {\n        vertical-align: middle;\n    }\n\n    .dataframe tbody tr th {\n        vertical-align: top;\n    }\n\n    .dataframe thead th {\n        text-align: right;\n    }\n</style>\n<table border=\"1\" class=\"dataframe\">\n  <thead>\n    <tr style=\"text-align: right;\">\n      <th></th>\n      <th>file</th>\n      <th>v</th>\n      <th>s</th>\n      <th>long</th>\n      <th>tgl_%</th>\n      <th>adgl_%</th>\n      <th>pastdl</th>\n      <th>pamaxl</th>\n      <th>bnkrl_%</th>\n      <th>ebrl</th>\n      <th>...</th>\n      <th>short</th>\n      <th>tgs_%</th>\n      <th>adgs_%</th>\n      <th>pastds</th>\n      <th>pamaxs</th>\n      <th>bnkrs_%</th>\n      <th>ebrs</th>\n      <th>maxss</th>\n      <th>prod</th>\n      <th>adgt_%</th>\n    </tr>\n  </thead>\n  <tbody>\n    <tr>\n      <th>2</th>\n      <td>\\1000SHIBUSDT\\plots\\2022-04-06T180851\\backtest...</td>\n      <td>5.5</td>\n      <td>1000SHIBUSDT</td>\n      <td>True</td>\n      <td>90.63</td>\n      <td>0.2460</td>\n      <td>0.065637</td>\n      <td>0.629854</td>\n      <td>100.0</td>\n      <td>0.7673</td>\n      <td>...</td>\n      <td>True</td>\n      <td>-91.8200</td>\n      <td>-1.64000</td>\n      <td>0.124514</td>\n      <td>0.747041</td>\n      <td>5.959</td>\n      <td>0.08869</td>\n      <td>180.079167</td>\n      <td>True</td>\n      <td>-1.39400</td>\n    </tr>\n    <tr>\n      <th>3</th>\n      <td>\\1000XECUSDT\\plots\\2022-04-06T155612\\backtest_...</td>\n      <td>5.5</td>\n      <td>1000XECUSDT</td>\n      <td>True</td>\n      <td>16.60</td>\n      <td>0.0401</td>\n      <td>0.056577</td>\n      <td>0.843518</td>\n      <td>100.0</td>\n      <td>0.8579</td>\n      <td>...</td>\n      <td>True</td>\n      <td>49.7900</td>\n      <td>0.20700</td>\n      <td>0.062401</td>\n      <td>0.371501</td>\n      <td>100.000</td>\n      <td>0.86990</td>\n      <td>21.804875</td>\n      <td>True</td>\n      <td>0.24710</td>\n    </tr>\n    <tr>\n      <th>4</th>\n      <td>\\1000XECUSDT\\plots\\2022-04-06T181135\\backtest_...</td>\n      <td>5.5</td>\n      <td>1000XECUSDT</td>\n      <td>True</td>\n      <td>16.60</td>\n      <td>0.0401</td>\n      <td>0.056577</td>\n      <td>0.843518</td>\n      <td>100.0</td>\n      <td>0.8579</td>\n      <td>...</td>\n      <td>True</td>\n      <td>49.7900</td>\n      <td>0.20700</td>\n      <td>0.062401</td>\n      <td>0.371501</td>\n      <td>100.000</td>\n      <td>0.86990</td>\n      <td>21.804875</td>\n      <td>True</td>\n      <td>0.24710</td>\n    </tr>\n    <tr>\n      <th>5</th>\n      <td>\\1INCHUSDT\\plots\\2022-04-06T182507\\backtest_re...</td>\n      <td>5.5</td>\n      <td>1INCHUSDT</td>\n      <td>True</td>\n      <td>31.40</td>\n      <td>0.0995</td>\n      <td>0.122606</td>\n      <td>0.977967</td>\n      <td>100.0</td>\n      <td>0.8157</td>\n      <td>...</td>\n      <td>True</td>\n      <td>50.0100</td>\n      <td>0.14600</td>\n      <td>0.125987</td>\n      <td>0.618075</td>\n      <td>36.400</td>\n      <td>0.40490</td>\n      <td>33.669458</td>\n      <td>True</td>\n      <td>0.24550</td>\n    </tr>\n    <tr>\n      <th>8</th>\n      <td>\\ADAUSDT\\plots\\2022-04-06T185658\\backtest_resu...</td>\n      <td>5.5</td>\n      <td>ADAUSDT</td>\n      <td>True</td>\n      <td>26.33</td>\n      <td>0.0809</td>\n      <td>0.051500</td>\n      <td>0.391366</td>\n      <td>100.0</td>\n      <td>0.8072</td>\n      <td>...</td>\n      <td>True</td>\n      <td>36.5600</td>\n      <td>0.09610</td>\n      <td>0.101922</td>\n      <td>0.519449</td>\n      <td>75.970</td>\n      <td>0.64290</td>\n      <td>39.211792</td>\n      <td>True</td>\n      <td>0.17700</td>\n    </tr>\n    <tr>\n      <th>...</th>\n      <td>...</td>\n      <td>...</td>\n      <td>...</td>\n      <td>...</td>\n      <td>...</td>\n      <td>...</td>\n      <td>...</td>\n      <td>...</td>\n      <td>...</td>\n      <td>...</td>\n      <td>...</td>\n      <td>...</td>\n      <td>...</td>\n      <td>...</td>\n      <td>...</td>\n      <td>...</td>\n      <td>...</td>\n      <td>...</td>\n      <td>...</td>\n      <td>...</td>\n      <td>...</td>\n    </tr>\n    <tr>\n      <th>148</th>\n      <td>\\XRPUSDT\\plots\\2022-04-07T122119\\backtest_resu...</td>\n      <td>5.5</td>\n      <td>XRPUSDT</td>\n      <td>True</td>\n      <td>38.19</td>\n      <td>0.1210</td>\n      <td>0.065995</td>\n      <td>0.830946</td>\n      <td>100.0</td>\n      <td>0.7749</td>\n      <td>...</td>\n      <td>True</td>\n      <td>0.7041</td>\n      <td>0.02980</td>\n      <td>0.126403</td>\n      <td>0.578940</td>\n      <td>76.630</td>\n      <td>0.57020</td>\n      <td>34.033333</td>\n      <td>True</td>\n      <td>0.15080</td>\n    </tr>\n    <tr>\n      <th>151</th>\n      <td>\\ZECUSDT\\plots\\2022-04-07T123050\\backtest_resu...</td>\n      <td>5.5</td>\n      <td>ZECUSDT</td>\n      <td>True</td>\n      <td>64.52</td>\n      <td>0.1770</td>\n      <td>0.074299</td>\n      <td>0.590802</td>\n      <td>100.0</td>\n      <td>0.8301</td>\n      <td>...</td>\n      <td>True</td>\n      <td>-8.6370</td>\n      <td>0.00538</td>\n      <td>0.138920</td>\n      <td>0.492966</td>\n      <td>88.210</td>\n      <td>0.65640</td>\n      <td>36.830542</td>\n      <td>True</td>\n      <td>0.18238</td>\n    </tr>\n    <tr>\n      <th>152</th>\n      <td>\\ZENUSDT\\plots\\2022-04-07T123822\\backtest_resu...</td>\n      <td>5.5</td>\n      <td>ZENUSDT</td>\n      <td>True</td>\n      <td>71.30</td>\n      <td>0.2010</td>\n      <td>0.128784</td>\n      <td>0.968012</td>\n      <td>100.0</td>\n      <td>0.8159</td>\n      <td>...</td>\n      <td>True</td>\n      <td>20.7200</td>\n      <td>0.10100</td>\n      <td>0.109054</td>\n      <td>0.420619</td>\n      <td>49.720</td>\n      <td>0.56430</td>\n      <td>39.212500</td>\n      <td>True</td>\n      <td>0.30200</td>\n    </tr>\n    <tr>\n      <th>153</th>\n      <td>\\ZILUSDT\\plots\\2022-04-07T124653\\backtest_resu...</td>\n      <td>5.5</td>\n      <td>ZILUSDT</td>\n      <td>True</td>\n      <td>11.86</td>\n      <td>0.0150</td>\n      <td>0.213304</td>\n      <td>1.171540</td>\n      <td>100.0</td>\n      <td>0.8399</td>\n      <td>...</td>\n      <td>True</td>\n      <td>-90.8100</td>\n      <td>-1.64000</td>\n      <td>0.128495</td>\n      <td>0.776683</td>\n      <td>5.828</td>\n      <td>0.07862</td>\n      <td>33.732625</td>\n      <td>True</td>\n      <td>-1.62500</td>\n    </tr>\n    <tr>\n      <th>154</th>\n      <td>\\ZRXUSDT\\plots\\2022-04-07T125157\\backtest_resu...</td>\n      <td>5.5</td>\n      <td>ZRXUSDT</td>\n      <td>True</td>\n      <td>57.37</td>\n      <td>0.1690</td>\n      <td>0.114260</td>\n      <td>0.708101</td>\n      <td>100.0</td>\n      <td>0.8835</td>\n      <td>...</td>\n      <td>True</td>\n      <td>20.1300</td>\n      <td>0.00183</td>\n      <td>0.141192</td>\n      <td>0.532109</td>\n      <td>93.390</td>\n      <td>0.63730</td>\n      <td>47.927917</td>\n      <td>True</td>\n      <td>0.17083</td>\n    </tr>\n  </tbody>\n</table>\n<p>86 rows × 21 columns</p>\n</div>"
     },
     "execution_count": 55,
     "metadata": {},
     "output_type": "execute_result"
    }
   ],
   "source": [
    "big_data['adgt_%'] = big_data['adgl_%'] + big_data['adgs_%']\n",
    "df = big_data[(big_data.s.isin(allowed_symbols))\n",
    "                & (big_data['prod'] == 'True')\n",
    "              # & (big_data['adgt_%'] > 0.1)\n",
    "              # & (big_data['adgl_%'] > 0.04)\n",
    "              # & (big_data['adgs_%'] > 0.04)\n",
    "              # & (big_data['bnkrl_%'] > 99.0)\n",
    "              # & (big_data['bnkrs_%'] > 99.0)\n",
    "              # & (big_data['ebrs'] > .9)\n",
    "              # #& (big_data['ebrl'] > .9)\n",
    "              # & (big_data['v'] == '5.5')\n",
    "\n",
    "    # & (big_data['tg_%'] > 10)\n",
    "    # & (big_data['ebr'] > .85)\n",
    "              ]\n",
    "#df['total_adg'] = big_data['adgl_%'] + big_data['adgs_%']\n",
    "df"
   ]
  },
  {
   "cell_type": "code",
   "execution_count": 56,
   "metadata": {
    "pycharm": {
     "name": "#%%\n"
    }
   },
   "outputs": [
    {
     "name": "stderr",
     "output_type": "stream",
     "text": [
      "C:\\Users\\skhan\\AppData\\Local\\Temp/ipykernel_605424/2052413415.py:1: SettingWithCopyWarning: \n",
      "A value is trying to be set on a copy of a slice from a DataFrame\n",
      "\n",
      "See the caveats in the documentation: https://pandas.pydata.org/pandas-docs/stable/user_guide/indexing.html#returning-a-view-versus-a-copy\n",
      "  df.drop_duplicates(\n"
     ]
    },
    {
     "data": {
      "text/plain": "                                                  file  prod             s  \\\n2    \\1000SHIBUSDT\\plots\\2022-04-06T180851\\backtest...  True  1000SHIBUSDT   \n3    \\1000XECUSDT\\plots\\2022-04-06T155612\\backtest_...  True   1000XECUSDT   \n5    \\1INCHUSDT\\plots\\2022-04-06T182507\\backtest_re...  True     1INCHUSDT   \n8    \\ADAUSDT\\plots\\2022-04-06T185658\\backtest_resu...  True       ADAUSDT   \n9    \\AKROUSDT\\plots\\2022-04-06T190136\\backtest_res...  True      AKROUSDT   \n..                                                 ...   ...           ...   \n148  \\XRPUSDT\\plots\\2022-04-07T122119\\backtest_resu...  True       XRPUSDT   \n151  \\ZECUSDT\\plots\\2022-04-07T123050\\backtest_resu...  True       ZECUSDT   \n152  \\ZENUSDT\\plots\\2022-04-07T123822\\backtest_resu...  True       ZENUSDT   \n153  \\ZILUSDT\\plots\\2022-04-07T124653\\backtest_resu...  True       ZILUSDT   \n154  \\ZRXUSDT\\plots\\2022-04-07T125157\\backtest_resu...  True       ZRXUSDT   \n\n      adgt_%  adgl_%   adgs_%  bnkrl_%  bnkrs_%    ebrl     ebrs      maxsl  \\\n2   -1.39400  0.2460 -1.64000    100.0    5.959  0.7673  0.08869  12.442375   \n3    0.24710  0.0401  0.20700    100.0  100.000  0.8579  0.86990   5.065292   \n5    0.24550  0.0995  0.14600    100.0   36.400  0.8157  0.40490  15.230542   \n8    0.17700  0.0809  0.09610    100.0   75.970  0.8072  0.64290   6.515292   \n9    0.16250  0.1370  0.02550    100.0  100.000  0.8899  0.67510  16.145125   \n..       ...     ...      ...      ...      ...     ...      ...        ...   \n148  0.15080  0.1210  0.02980    100.0   76.630  0.7749  0.57020  15.477083   \n151  0.18238  0.1770  0.00538    100.0   88.210  0.8301  0.65640  15.332625   \n152  0.30200  0.2010  0.10100    100.0   49.720  0.8159  0.56430  14.339583   \n153 -1.62500  0.0150 -1.64000    100.0    5.828  0.8399  0.07862  35.809042   \n154  0.17083  0.1690  0.00183    100.0   93.390  0.8835  0.63730  22.423625   \n\n       pamaxl    pastdl       maxss    pamaxs    pastds  \n2    0.629854  0.065637  180.079167  0.747041  0.124514  \n3    0.843518  0.056577   21.804875  0.371501  0.062401  \n5    0.977967  0.122606   33.669458  0.618075  0.125987  \n8    0.391366  0.051500   39.211792  0.519449  0.101922  \n9    0.894140  0.142222   27.361792  0.502734  0.107376  \n..        ...       ...         ...       ...       ...  \n148  0.830946  0.065995   34.033333  0.578940  0.126403  \n151  0.590802  0.074299   36.830542  0.492966  0.138920  \n152  0.968012  0.128784   39.212500  0.420619  0.109054  \n153  1.171540  0.213304   33.732625  0.776683  0.128495  \n154  0.708101  0.114260   47.927917  0.532109  0.141192  \n\n[85 rows x 16 columns]",
      "text/html": "<div>\n<style scoped>\n    .dataframe tbody tr th:only-of-type {\n        vertical-align: middle;\n    }\n\n    .dataframe tbody tr th {\n        vertical-align: top;\n    }\n\n    .dataframe thead th {\n        text-align: right;\n    }\n</style>\n<table border=\"1\" class=\"dataframe\">\n  <thead>\n    <tr style=\"text-align: right;\">\n      <th></th>\n      <th>file</th>\n      <th>prod</th>\n      <th>s</th>\n      <th>adgt_%</th>\n      <th>adgl_%</th>\n      <th>adgs_%</th>\n      <th>bnkrl_%</th>\n      <th>bnkrs_%</th>\n      <th>ebrl</th>\n      <th>ebrs</th>\n      <th>maxsl</th>\n      <th>pamaxl</th>\n      <th>pastdl</th>\n      <th>maxss</th>\n      <th>pamaxs</th>\n      <th>pastds</th>\n    </tr>\n  </thead>\n  <tbody>\n    <tr>\n      <th>2</th>\n      <td>\\1000SHIBUSDT\\plots\\2022-04-06T180851\\backtest...</td>\n      <td>True</td>\n      <td>1000SHIBUSDT</td>\n      <td>-1.39400</td>\n      <td>0.2460</td>\n      <td>-1.64000</td>\n      <td>100.0</td>\n      <td>5.959</td>\n      <td>0.7673</td>\n      <td>0.08869</td>\n      <td>12.442375</td>\n      <td>0.629854</td>\n      <td>0.065637</td>\n      <td>180.079167</td>\n      <td>0.747041</td>\n      <td>0.124514</td>\n    </tr>\n    <tr>\n      <th>3</th>\n      <td>\\1000XECUSDT\\plots\\2022-04-06T155612\\backtest_...</td>\n      <td>True</td>\n      <td>1000XECUSDT</td>\n      <td>0.24710</td>\n      <td>0.0401</td>\n      <td>0.20700</td>\n      <td>100.0</td>\n      <td>100.000</td>\n      <td>0.8579</td>\n      <td>0.86990</td>\n      <td>5.065292</td>\n      <td>0.843518</td>\n      <td>0.056577</td>\n      <td>21.804875</td>\n      <td>0.371501</td>\n      <td>0.062401</td>\n    </tr>\n    <tr>\n      <th>5</th>\n      <td>\\1INCHUSDT\\plots\\2022-04-06T182507\\backtest_re...</td>\n      <td>True</td>\n      <td>1INCHUSDT</td>\n      <td>0.24550</td>\n      <td>0.0995</td>\n      <td>0.14600</td>\n      <td>100.0</td>\n      <td>36.400</td>\n      <td>0.8157</td>\n      <td>0.40490</td>\n      <td>15.230542</td>\n      <td>0.977967</td>\n      <td>0.122606</td>\n      <td>33.669458</td>\n      <td>0.618075</td>\n      <td>0.125987</td>\n    </tr>\n    <tr>\n      <th>8</th>\n      <td>\\ADAUSDT\\plots\\2022-04-06T185658\\backtest_resu...</td>\n      <td>True</td>\n      <td>ADAUSDT</td>\n      <td>0.17700</td>\n      <td>0.0809</td>\n      <td>0.09610</td>\n      <td>100.0</td>\n      <td>75.970</td>\n      <td>0.8072</td>\n      <td>0.64290</td>\n      <td>6.515292</td>\n      <td>0.391366</td>\n      <td>0.051500</td>\n      <td>39.211792</td>\n      <td>0.519449</td>\n      <td>0.101922</td>\n    </tr>\n    <tr>\n      <th>9</th>\n      <td>\\AKROUSDT\\plots\\2022-04-06T190136\\backtest_res...</td>\n      <td>True</td>\n      <td>AKROUSDT</td>\n      <td>0.16250</td>\n      <td>0.1370</td>\n      <td>0.02550</td>\n      <td>100.0</td>\n      <td>100.000</td>\n      <td>0.8899</td>\n      <td>0.67510</td>\n      <td>16.145125</td>\n      <td>0.894140</td>\n      <td>0.142222</td>\n      <td>27.361792</td>\n      <td>0.502734</td>\n      <td>0.107376</td>\n    </tr>\n    <tr>\n      <th>...</th>\n      <td>...</td>\n      <td>...</td>\n      <td>...</td>\n      <td>...</td>\n      <td>...</td>\n      <td>...</td>\n      <td>...</td>\n      <td>...</td>\n      <td>...</td>\n      <td>...</td>\n      <td>...</td>\n      <td>...</td>\n      <td>...</td>\n      <td>...</td>\n      <td>...</td>\n      <td>...</td>\n    </tr>\n    <tr>\n      <th>148</th>\n      <td>\\XRPUSDT\\plots\\2022-04-07T122119\\backtest_resu...</td>\n      <td>True</td>\n      <td>XRPUSDT</td>\n      <td>0.15080</td>\n      <td>0.1210</td>\n      <td>0.02980</td>\n      <td>100.0</td>\n      <td>76.630</td>\n      <td>0.7749</td>\n      <td>0.57020</td>\n      <td>15.477083</td>\n      <td>0.830946</td>\n      <td>0.065995</td>\n      <td>34.033333</td>\n      <td>0.578940</td>\n      <td>0.126403</td>\n    </tr>\n    <tr>\n      <th>151</th>\n      <td>\\ZECUSDT\\plots\\2022-04-07T123050\\backtest_resu...</td>\n      <td>True</td>\n      <td>ZECUSDT</td>\n      <td>0.18238</td>\n      <td>0.1770</td>\n      <td>0.00538</td>\n      <td>100.0</td>\n      <td>88.210</td>\n      <td>0.8301</td>\n      <td>0.65640</td>\n      <td>15.332625</td>\n      <td>0.590802</td>\n      <td>0.074299</td>\n      <td>36.830542</td>\n      <td>0.492966</td>\n      <td>0.138920</td>\n    </tr>\n    <tr>\n      <th>152</th>\n      <td>\\ZENUSDT\\plots\\2022-04-07T123822\\backtest_resu...</td>\n      <td>True</td>\n      <td>ZENUSDT</td>\n      <td>0.30200</td>\n      <td>0.2010</td>\n      <td>0.10100</td>\n      <td>100.0</td>\n      <td>49.720</td>\n      <td>0.8159</td>\n      <td>0.56430</td>\n      <td>14.339583</td>\n      <td>0.968012</td>\n      <td>0.128784</td>\n      <td>39.212500</td>\n      <td>0.420619</td>\n      <td>0.109054</td>\n    </tr>\n    <tr>\n      <th>153</th>\n      <td>\\ZILUSDT\\plots\\2022-04-07T124653\\backtest_resu...</td>\n      <td>True</td>\n      <td>ZILUSDT</td>\n      <td>-1.62500</td>\n      <td>0.0150</td>\n      <td>-1.64000</td>\n      <td>100.0</td>\n      <td>5.828</td>\n      <td>0.8399</td>\n      <td>0.07862</td>\n      <td>35.809042</td>\n      <td>1.171540</td>\n      <td>0.213304</td>\n      <td>33.732625</td>\n      <td>0.776683</td>\n      <td>0.128495</td>\n    </tr>\n    <tr>\n      <th>154</th>\n      <td>\\ZRXUSDT\\plots\\2022-04-07T125157\\backtest_resu...</td>\n      <td>True</td>\n      <td>ZRXUSDT</td>\n      <td>0.17083</td>\n      <td>0.1690</td>\n      <td>0.00183</td>\n      <td>100.0</td>\n      <td>93.390</td>\n      <td>0.8835</td>\n      <td>0.63730</td>\n      <td>22.423625</td>\n      <td>0.708101</td>\n      <td>0.114260</td>\n      <td>47.927917</td>\n      <td>0.532109</td>\n      <td>0.141192</td>\n    </tr>\n  </tbody>\n</table>\n<p>85 rows × 16 columns</p>\n</div>"
     },
     "execution_count": 56,
     "metadata": {},
     "output_type": "execute_result"
    }
   ],
   "source": [
    "df.drop_duplicates(\n",
    "    subset=['s', 'prod', 'tgl_%', 'tgs_%', 'adgl_%', 'adgs_%', 'adgt_%', 'bnkrl_%', 'bnkrs_%', 'ebrl', 'ebrs', 'long',\n",
    "            'short'], keep='first',\n",
    "    inplace=True)\n",
    "dx = df[['file', 'prod', 's', 'adgt_%', 'adgl_%', 'adgs_%', 'bnkrl_%', 'bnkrs_%', 'ebrl', 'ebrs', 'maxsl', 'pamaxl','pastdl',\n",
    "         'maxss', 'pamaxs','pastds' ]]\n",
    "dx"
   ]
  },
  {
   "cell_type": "code",
   "execution_count": 66,
   "outputs": [
    {
     "data": {
      "text/plain": "                                                  file  prod            s  \\\n3    \\1000XECUSDT\\plots\\2022-04-06T155612\\backtest_...  True  1000XECUSDT   \n5    \\1INCHUSDT\\plots\\2022-04-06T182507\\backtest_re...  True    1INCHUSDT   \n8    \\ADAUSDT\\plots\\2022-04-06T185658\\backtest_resu...  True      ADAUSDT   \n9    \\AKROUSDT\\plots\\2022-04-06T190136\\backtest_res...  True     AKROUSDT   \n10   \\ALGOUSDT\\plots\\2022-04-06T191700\\backtest_res...  True     ALGOUSDT   \n..                                                 ...   ...          ...   \n142  \\XMRUSDT\\plots\\2022-04-07T120315\\backtest_resu...  True      XMRUSDT   \n148  \\XRPUSDT\\plots\\2022-04-07T122119\\backtest_resu...  True      XRPUSDT   \n151  \\ZECUSDT\\plots\\2022-04-07T123050\\backtest_resu...  True      ZECUSDT   \n152  \\ZENUSDT\\plots\\2022-04-07T123822\\backtest_resu...  True      ZENUSDT   \n154  \\ZRXUSDT\\plots\\2022-04-07T125157\\backtest_resu...  True      ZRXUSDT   \n\n      adgs_%  bnkrs_%    ebrs      maxss    pamaxs    pastds  \n3    0.20700   100.00  0.8699  21.804875  0.371501  0.062401  \n5    0.14600    36.40  0.4049  33.669458  0.618075  0.125987  \n8    0.09610    75.97  0.6429  39.211792  0.519449  0.101922  \n9    0.02550   100.00  0.6751  27.361792  0.502734  0.107376  \n10   0.06150    80.31  0.6315  34.506250  0.473493  0.085239  \n..       ...      ...     ...        ...       ...       ...  \n142  0.02270   100.00  0.7453  48.270833  0.441080  0.113953  \n148  0.02980    76.63  0.5702  34.033333  0.578940  0.126403  \n151  0.00538    88.21  0.6564  36.830542  0.492966  0.138920  \n152  0.10100    49.72  0.5643  39.212500  0.420619  0.109054  \n154  0.00183    93.39  0.6373  47.927917  0.532109  0.141192  \n\n[70 rows x 9 columns]",
      "text/html": "<div>\n<style scoped>\n    .dataframe tbody tr th:only-of-type {\n        vertical-align: middle;\n    }\n\n    .dataframe tbody tr th {\n        vertical-align: top;\n    }\n\n    .dataframe thead th {\n        text-align: right;\n    }\n</style>\n<table border=\"1\" class=\"dataframe\">\n  <thead>\n    <tr style=\"text-align: right;\">\n      <th></th>\n      <th>file</th>\n      <th>prod</th>\n      <th>s</th>\n      <th>adgs_%</th>\n      <th>bnkrs_%</th>\n      <th>ebrs</th>\n      <th>maxss</th>\n      <th>pamaxs</th>\n      <th>pastds</th>\n    </tr>\n  </thead>\n  <tbody>\n    <tr>\n      <th>3</th>\n      <td>\\1000XECUSDT\\plots\\2022-04-06T155612\\backtest_...</td>\n      <td>True</td>\n      <td>1000XECUSDT</td>\n      <td>0.20700</td>\n      <td>100.00</td>\n      <td>0.8699</td>\n      <td>21.804875</td>\n      <td>0.371501</td>\n      <td>0.062401</td>\n    </tr>\n    <tr>\n      <th>5</th>\n      <td>\\1INCHUSDT\\plots\\2022-04-06T182507\\backtest_re...</td>\n      <td>True</td>\n      <td>1INCHUSDT</td>\n      <td>0.14600</td>\n      <td>36.40</td>\n      <td>0.4049</td>\n      <td>33.669458</td>\n      <td>0.618075</td>\n      <td>0.125987</td>\n    </tr>\n    <tr>\n      <th>8</th>\n      <td>\\ADAUSDT\\plots\\2022-04-06T185658\\backtest_resu...</td>\n      <td>True</td>\n      <td>ADAUSDT</td>\n      <td>0.09610</td>\n      <td>75.97</td>\n      <td>0.6429</td>\n      <td>39.211792</td>\n      <td>0.519449</td>\n      <td>0.101922</td>\n    </tr>\n    <tr>\n      <th>9</th>\n      <td>\\AKROUSDT\\plots\\2022-04-06T190136\\backtest_res...</td>\n      <td>True</td>\n      <td>AKROUSDT</td>\n      <td>0.02550</td>\n      <td>100.00</td>\n      <td>0.6751</td>\n      <td>27.361792</td>\n      <td>0.502734</td>\n      <td>0.107376</td>\n    </tr>\n    <tr>\n      <th>10</th>\n      <td>\\ALGOUSDT\\plots\\2022-04-06T191700\\backtest_res...</td>\n      <td>True</td>\n      <td>ALGOUSDT</td>\n      <td>0.06150</td>\n      <td>80.31</td>\n      <td>0.6315</td>\n      <td>34.506250</td>\n      <td>0.473493</td>\n      <td>0.085239</td>\n    </tr>\n    <tr>\n      <th>...</th>\n      <td>...</td>\n      <td>...</td>\n      <td>...</td>\n      <td>...</td>\n      <td>...</td>\n      <td>...</td>\n      <td>...</td>\n      <td>...</td>\n      <td>...</td>\n    </tr>\n    <tr>\n      <th>142</th>\n      <td>\\XMRUSDT\\plots\\2022-04-07T120315\\backtest_resu...</td>\n      <td>True</td>\n      <td>XMRUSDT</td>\n      <td>0.02270</td>\n      <td>100.00</td>\n      <td>0.7453</td>\n      <td>48.270833</td>\n      <td>0.441080</td>\n      <td>0.113953</td>\n    </tr>\n    <tr>\n      <th>148</th>\n      <td>\\XRPUSDT\\plots\\2022-04-07T122119\\backtest_resu...</td>\n      <td>True</td>\n      <td>XRPUSDT</td>\n      <td>0.02980</td>\n      <td>76.63</td>\n      <td>0.5702</td>\n      <td>34.033333</td>\n      <td>0.578940</td>\n      <td>0.126403</td>\n    </tr>\n    <tr>\n      <th>151</th>\n      <td>\\ZECUSDT\\plots\\2022-04-07T123050\\backtest_resu...</td>\n      <td>True</td>\n      <td>ZECUSDT</td>\n      <td>0.00538</td>\n      <td>88.21</td>\n      <td>0.6564</td>\n      <td>36.830542</td>\n      <td>0.492966</td>\n      <td>0.138920</td>\n    </tr>\n    <tr>\n      <th>152</th>\n      <td>\\ZENUSDT\\plots\\2022-04-07T123822\\backtest_resu...</td>\n      <td>True</td>\n      <td>ZENUSDT</td>\n      <td>0.10100</td>\n      <td>49.72</td>\n      <td>0.5643</td>\n      <td>39.212500</td>\n      <td>0.420619</td>\n      <td>0.109054</td>\n    </tr>\n    <tr>\n      <th>154</th>\n      <td>\\ZRXUSDT\\plots\\2022-04-07T125157\\backtest_resu...</td>\n      <td>True</td>\n      <td>ZRXUSDT</td>\n      <td>0.00183</td>\n      <td>93.39</td>\n      <td>0.6373</td>\n      <td>47.927917</td>\n      <td>0.532109</td>\n      <td>0.141192</td>\n    </tr>\n  </tbody>\n</table>\n<p>70 rows × 9 columns</p>\n</div>"
     },
     "execution_count": 66,
     "metadata": {},
     "output_type": "execute_result"
    }
   ],
   "source": [
    "ds = dx[\n",
    "   (dx['adgs_%'] > 0.00)\n",
    "  #& (dx['bnkrs_%'] == 100.00)\n",
    "]\n",
    "ds = ds[['file', 'prod', 's', 'adgs_%', 'bnkrs_%','ebrs','maxss', 'pamaxs','pastds' ]]\n",
    "ds"
   ],
   "metadata": {
    "collapsed": false,
    "pycharm": {
     "name": "#%%\n"
    }
   }
  },
  {
   "cell_type": "code",
   "execution_count": 69,
   "outputs": [
    {
     "name": "stdout",
     "output_type": "stream",
     "text": [
      "['1000XECUSDT', '1INCHUSDT', 'ADAUSDT', 'AKROUSDT', 'ALGOUSDT', 'ALICEUSDT', 'ANKRUSDT', 'API3USDT', 'ARUSDT', 'ATOMUSDT', 'BAKEUSDT', 'BELUSDT', 'BLZUSDT', 'BNBUSDT', 'BTSUSDT', 'C98USDT', 'CHZUSDT', 'COMPUSDT', 'DENTUSDT', 'DGBUSDT', 'DODOUSDT', 'DOGEUSDT', 'DOTUSDT', 'DUSKUSDT', 'DYDXUSDT', 'ENJUSDT', 'ETCUSDT', 'ETHUSDT', 'FLMUSDT', 'FLOWUSDT', 'GRTUSDT', 'HBARUSDT', 'HOTUSDT', 'ICPUSDT', 'ICXUSDT', 'IOSTUSDT', 'IOTAUSDT', 'KAVAUSDT', 'KLAYUSDT', 'KNCUSDT', 'LINKUSDT', 'LITUSDT', 'LTCUSDT', 'MATICUSDT', 'MKRUSDT', 'MTLUSDT', 'NEOUSDT', 'OGNUSDT', 'OMGUSDT', 'ONTUSDT', 'QTUMUSDT', 'RLCUSDT', 'ROSEUSDT', 'RVNUSDT', 'SCUSDT', 'SNXUSDT', 'STMXUSDT', 'SUSHIUSDT', 'SXPUSDT', 'TLMUSDT', 'TOMOUSDT', 'TRBUSDT', 'UNFIUSDT', 'VETUSDT', 'XLMUSDT', 'XMRUSDT', 'XRPUSDT', 'ZECUSDT', 'ZENUSDT', 'ZRXUSDT']\n"
     ]
    },
    {
     "data": {
      "text/plain": "    Unnamed: 0 symbol   direction long_mode short_mode  long_exposure  \\\n0            0  ALICE        long         n          p          0.035   \n1            1   IOST        long         n          p          0.035   \n2            2    OMG        long         n          p          0.035   \n3            3   ATOM  long_short         n          n          0.035   \n4            4   KAVA        long         n          p          0.035   \n..         ...    ...         ...       ...        ...            ...   \n80          80  MATIC  long_short         n          n          0.035   \n81          81    LTC  long_short         n          n          0.035   \n82          82   LINK  long_short         n          n          0.035   \n83          83    GRT  long_short         n          n          0.035   \n84          84   DYDX  long_short         n          n          0.035   \n\n    short_exposure       usdt  \n0             0.00  ALICEUSDT  \n1             0.00   IOSTUSDT  \n2             0.00    OMGUSDT  \n3             0.02   ATOMUSDT  \n4             0.00   KAVAUSDT  \n..             ...        ...  \n80            0.02  MATICUSDT  \n81            0.02    LTCUSDT  \n82            0.02   LINKUSDT  \n83            0.02    GRTUSDT  \n84            0.02   DYDXUSDT  \n\n[70 rows x 8 columns]",
      "text/html": "<div>\n<style scoped>\n    .dataframe tbody tr th:only-of-type {\n        vertical-align: middle;\n    }\n\n    .dataframe tbody tr th {\n        vertical-align: top;\n    }\n\n    .dataframe thead th {\n        text-align: right;\n    }\n</style>\n<table border=\"1\" class=\"dataframe\">\n  <thead>\n    <tr style=\"text-align: right;\">\n      <th></th>\n      <th>Unnamed: 0</th>\n      <th>symbol</th>\n      <th>direction</th>\n      <th>long_mode</th>\n      <th>short_mode</th>\n      <th>long_exposure</th>\n      <th>short_exposure</th>\n      <th>usdt</th>\n    </tr>\n  </thead>\n  <tbody>\n    <tr>\n      <th>0</th>\n      <td>0</td>\n      <td>ALICE</td>\n      <td>long</td>\n      <td>n</td>\n      <td>p</td>\n      <td>0.035</td>\n      <td>0.00</td>\n      <td>ALICEUSDT</td>\n    </tr>\n    <tr>\n      <th>1</th>\n      <td>1</td>\n      <td>IOST</td>\n      <td>long</td>\n      <td>n</td>\n      <td>p</td>\n      <td>0.035</td>\n      <td>0.00</td>\n      <td>IOSTUSDT</td>\n    </tr>\n    <tr>\n      <th>2</th>\n      <td>2</td>\n      <td>OMG</td>\n      <td>long</td>\n      <td>n</td>\n      <td>p</td>\n      <td>0.035</td>\n      <td>0.00</td>\n      <td>OMGUSDT</td>\n    </tr>\n    <tr>\n      <th>3</th>\n      <td>3</td>\n      <td>ATOM</td>\n      <td>long_short</td>\n      <td>n</td>\n      <td>n</td>\n      <td>0.035</td>\n      <td>0.02</td>\n      <td>ATOMUSDT</td>\n    </tr>\n    <tr>\n      <th>4</th>\n      <td>4</td>\n      <td>KAVA</td>\n      <td>long</td>\n      <td>n</td>\n      <td>p</td>\n      <td>0.035</td>\n      <td>0.00</td>\n      <td>KAVAUSDT</td>\n    </tr>\n    <tr>\n      <th>...</th>\n      <td>...</td>\n      <td>...</td>\n      <td>...</td>\n      <td>...</td>\n      <td>...</td>\n      <td>...</td>\n      <td>...</td>\n      <td>...</td>\n    </tr>\n    <tr>\n      <th>80</th>\n      <td>80</td>\n      <td>MATIC</td>\n      <td>long_short</td>\n      <td>n</td>\n      <td>n</td>\n      <td>0.035</td>\n      <td>0.02</td>\n      <td>MATICUSDT</td>\n    </tr>\n    <tr>\n      <th>81</th>\n      <td>81</td>\n      <td>LTC</td>\n      <td>long_short</td>\n      <td>n</td>\n      <td>n</td>\n      <td>0.035</td>\n      <td>0.02</td>\n      <td>LTCUSDT</td>\n    </tr>\n    <tr>\n      <th>82</th>\n      <td>82</td>\n      <td>LINK</td>\n      <td>long_short</td>\n      <td>n</td>\n      <td>n</td>\n      <td>0.035</td>\n      <td>0.02</td>\n      <td>LINKUSDT</td>\n    </tr>\n    <tr>\n      <th>83</th>\n      <td>83</td>\n      <td>GRT</td>\n      <td>long_short</td>\n      <td>n</td>\n      <td>n</td>\n      <td>0.035</td>\n      <td>0.02</td>\n      <td>GRTUSDT</td>\n    </tr>\n    <tr>\n      <th>84</th>\n      <td>84</td>\n      <td>DYDX</td>\n      <td>long_short</td>\n      <td>n</td>\n      <td>n</td>\n      <td>0.035</td>\n      <td>0.02</td>\n      <td>DYDXUSDT</td>\n    </tr>\n  </tbody>\n</table>\n<p>70 rows × 8 columns</p>\n</div>"
     },
     "execution_count": 69,
     "metadata": {},
     "output_type": "execute_result"
    }
   ],
   "source": [
    "short_symbols = ds['s'].tolist()\n",
    "print(short_symbols)\n",
    "config = pd.read_csv('run_config.csv')\n",
    "config['usdt'] = config['symbol']+'USDT'\n",
    "config = config[(config.usdt.isin(short_symbols))]\n",
    "config"
   ],
   "metadata": {
    "collapsed": false,
    "pycharm": {
     "name": "#%%\n"
    }
   }
  },
  {
   "cell_type": "code",
   "execution_count": 62,
   "outputs": [
    {
     "data": {
      "text/plain": "['ATOMUSDT',\n 'ALGOUSDT',\n 'CHZUSDT',\n 'ICPUSDT',\n 'ETHUSDT',\n 'ADAUSDT',\n 'XMRUSDT',\n 'MATICUSDT',\n 'LTCUSDT']"
     },
     "execution_count": 62,
     "metadata": {},
     "output_type": "execute_result"
    }
   ],
   "source": [
    "## find the ones that are not supposed to be shorted!\n",
    "short_symbols = ds['s'].tolist()\n",
    "\n",
    "config = pd.read_csv('run_config.csv')\n",
    "config['usdt'] = config['symbol']+'USDT'\n",
    "config = config[(~config.usdt.isin(short_symbols)) & (config['short_mode'] == 'n')]\n",
    "## find the risky ones!\n",
    "not_supposed_to_be_shorted = config['usdt'].tolist()\n",
    "not_supposed_to_be_shorted"
   ],
   "metadata": {
    "collapsed": false,
    "pycharm": {
     "name": "#%%\n"
    }
   }
  },
  {
   "cell_type": "code",
   "execution_count": 64,
   "outputs": [
    {
     "data": {
      "text/plain": "                                                  file  prod          s  \\\n8    \\ADAUSDT\\plots\\2022-04-06T185658\\backtest_resu...  True    ADAUSDT   \n10   \\ALGOUSDT\\plots\\2022-04-06T191700\\backtest_res...  True   ALGOUSDT   \n22   \\ATOMUSDT\\plots\\2022-04-06T202412\\backtest_res...  True   ATOMUSDT   \n36   \\CHZUSDT\\plots\\2022-04-06T220927\\backtest_resu...  True    CHZUSDT   \n61   \\ETHUSDT\\plots\\2022-04-07T030239\\backtest_resu...  True    ETHUSDT   \n76   \\ICPUSDT\\plots\\2022-04-07T035310\\backtest_resu...  True    ICPUSDT   \n96   \\LTCUSDT\\plots\\2022-04-07T053709\\backtest_resu...  True    LTCUSDT   \n101  \\MATICUSDT\\plots\\2022-04-07T060521\\backtest_re...  True  MATICUSDT   \n142  \\XMRUSDT\\plots\\2022-04-07T120315\\backtest_resu...  True    XMRUSDT   \n\n     adgt_%  adgl_%  adgs_%  bnkrl_%  bnkrs_%    ebrl    ebrs      maxsl  \\\n8    0.1770  0.0809  0.0961    100.0    75.97  0.8072  0.6429   6.515292   \n10   0.1855  0.1240  0.0615    100.0    80.31  0.8745  0.6315  22.408333   \n22   0.3030  0.1760  0.1270    100.0    64.62  0.9162  0.5639  16.588208   \n36   0.2922  0.2110  0.0812    100.0    90.37  0.8257  0.6372   9.910417   \n61   0.1846  0.1640  0.0206    100.0   100.00  0.7670  0.7239  37.025708   \n76   0.2410  0.0930  0.1480    100.0    77.65  0.8746  0.5620   9.602083   \n96   0.1578  0.1040  0.0538    100.0    96.92  0.8395  0.6471   7.831958   \n101  0.2241  0.1740  0.0501    100.0    93.79  0.8240  0.6528  27.195125   \n142  0.1317  0.1090  0.0227    100.0   100.00  0.8318  0.7453  14.631958   \n\n       pamaxl    pastdl      maxss    pamaxs    pastds  \n8    0.391366  0.051500  39.211792  0.519449  0.101922  \n10   1.199200  0.146477  34.506250  0.473493  0.085239  \n22   0.489647  0.081672  35.834708  0.577798  0.119612  \n36   0.755754  0.057503  27.648625  0.526384  0.110610  \n61   0.613138  0.086090  27.666667  0.451289  0.107923  \n76   0.797218  0.084918  27.669458  0.611777  0.126236  \n96   0.419116  0.051873  48.451250  0.530287  0.126367  \n101  0.849123  0.132214  30.697917  0.500769  0.116346  \n142  0.477026  0.062808  48.270833  0.441080  0.113953  ",
      "text/html": "<div>\n<style scoped>\n    .dataframe tbody tr th:only-of-type {\n        vertical-align: middle;\n    }\n\n    .dataframe tbody tr th {\n        vertical-align: top;\n    }\n\n    .dataframe thead th {\n        text-align: right;\n    }\n</style>\n<table border=\"1\" class=\"dataframe\">\n  <thead>\n    <tr style=\"text-align: right;\">\n      <th></th>\n      <th>file</th>\n      <th>prod</th>\n      <th>s</th>\n      <th>adgt_%</th>\n      <th>adgl_%</th>\n      <th>adgs_%</th>\n      <th>bnkrl_%</th>\n      <th>bnkrs_%</th>\n      <th>ebrl</th>\n      <th>ebrs</th>\n      <th>maxsl</th>\n      <th>pamaxl</th>\n      <th>pastdl</th>\n      <th>maxss</th>\n      <th>pamaxs</th>\n      <th>pastds</th>\n    </tr>\n  </thead>\n  <tbody>\n    <tr>\n      <th>8</th>\n      <td>\\ADAUSDT\\plots\\2022-04-06T185658\\backtest_resu...</td>\n      <td>True</td>\n      <td>ADAUSDT</td>\n      <td>0.1770</td>\n      <td>0.0809</td>\n      <td>0.0961</td>\n      <td>100.0</td>\n      <td>75.97</td>\n      <td>0.8072</td>\n      <td>0.6429</td>\n      <td>6.515292</td>\n      <td>0.391366</td>\n      <td>0.051500</td>\n      <td>39.211792</td>\n      <td>0.519449</td>\n      <td>0.101922</td>\n    </tr>\n    <tr>\n      <th>10</th>\n      <td>\\ALGOUSDT\\plots\\2022-04-06T191700\\backtest_res...</td>\n      <td>True</td>\n      <td>ALGOUSDT</td>\n      <td>0.1855</td>\n      <td>0.1240</td>\n      <td>0.0615</td>\n      <td>100.0</td>\n      <td>80.31</td>\n      <td>0.8745</td>\n      <td>0.6315</td>\n      <td>22.408333</td>\n      <td>1.199200</td>\n      <td>0.146477</td>\n      <td>34.506250</td>\n      <td>0.473493</td>\n      <td>0.085239</td>\n    </tr>\n    <tr>\n      <th>22</th>\n      <td>\\ATOMUSDT\\plots\\2022-04-06T202412\\backtest_res...</td>\n      <td>True</td>\n      <td>ATOMUSDT</td>\n      <td>0.3030</td>\n      <td>0.1760</td>\n      <td>0.1270</td>\n      <td>100.0</td>\n      <td>64.62</td>\n      <td>0.9162</td>\n      <td>0.5639</td>\n      <td>16.588208</td>\n      <td>0.489647</td>\n      <td>0.081672</td>\n      <td>35.834708</td>\n      <td>0.577798</td>\n      <td>0.119612</td>\n    </tr>\n    <tr>\n      <th>36</th>\n      <td>\\CHZUSDT\\plots\\2022-04-06T220927\\backtest_resu...</td>\n      <td>True</td>\n      <td>CHZUSDT</td>\n      <td>0.2922</td>\n      <td>0.2110</td>\n      <td>0.0812</td>\n      <td>100.0</td>\n      <td>90.37</td>\n      <td>0.8257</td>\n      <td>0.6372</td>\n      <td>9.910417</td>\n      <td>0.755754</td>\n      <td>0.057503</td>\n      <td>27.648625</td>\n      <td>0.526384</td>\n      <td>0.110610</td>\n    </tr>\n    <tr>\n      <th>61</th>\n      <td>\\ETHUSDT\\plots\\2022-04-07T030239\\backtest_resu...</td>\n      <td>True</td>\n      <td>ETHUSDT</td>\n      <td>0.1846</td>\n      <td>0.1640</td>\n      <td>0.0206</td>\n      <td>100.0</td>\n      <td>100.00</td>\n      <td>0.7670</td>\n      <td>0.7239</td>\n      <td>37.025708</td>\n      <td>0.613138</td>\n      <td>0.086090</td>\n      <td>27.666667</td>\n      <td>0.451289</td>\n      <td>0.107923</td>\n    </tr>\n    <tr>\n      <th>76</th>\n      <td>\\ICPUSDT\\plots\\2022-04-07T035310\\backtest_resu...</td>\n      <td>True</td>\n      <td>ICPUSDT</td>\n      <td>0.2410</td>\n      <td>0.0930</td>\n      <td>0.1480</td>\n      <td>100.0</td>\n      <td>77.65</td>\n      <td>0.8746</td>\n      <td>0.5620</td>\n      <td>9.602083</td>\n      <td>0.797218</td>\n      <td>0.084918</td>\n      <td>27.669458</td>\n      <td>0.611777</td>\n      <td>0.126236</td>\n    </tr>\n    <tr>\n      <th>96</th>\n      <td>\\LTCUSDT\\plots\\2022-04-07T053709\\backtest_resu...</td>\n      <td>True</td>\n      <td>LTCUSDT</td>\n      <td>0.1578</td>\n      <td>0.1040</td>\n      <td>0.0538</td>\n      <td>100.0</td>\n      <td>96.92</td>\n      <td>0.8395</td>\n      <td>0.6471</td>\n      <td>7.831958</td>\n      <td>0.419116</td>\n      <td>0.051873</td>\n      <td>48.451250</td>\n      <td>0.530287</td>\n      <td>0.126367</td>\n    </tr>\n    <tr>\n      <th>101</th>\n      <td>\\MATICUSDT\\plots\\2022-04-07T060521\\backtest_re...</td>\n      <td>True</td>\n      <td>MATICUSDT</td>\n      <td>0.2241</td>\n      <td>0.1740</td>\n      <td>0.0501</td>\n      <td>100.0</td>\n      <td>93.79</td>\n      <td>0.8240</td>\n      <td>0.6528</td>\n      <td>27.195125</td>\n      <td>0.849123</td>\n      <td>0.132214</td>\n      <td>30.697917</td>\n      <td>0.500769</td>\n      <td>0.116346</td>\n    </tr>\n    <tr>\n      <th>142</th>\n      <td>\\XMRUSDT\\plots\\2022-04-07T120315\\backtest_resu...</td>\n      <td>True</td>\n      <td>XMRUSDT</td>\n      <td>0.1317</td>\n      <td>0.1090</td>\n      <td>0.0227</td>\n      <td>100.0</td>\n      <td>100.00</td>\n      <td>0.8318</td>\n      <td>0.7453</td>\n      <td>14.631958</td>\n      <td>0.477026</td>\n      <td>0.062808</td>\n      <td>48.270833</td>\n      <td>0.441080</td>\n      <td>0.113953</td>\n    </tr>\n  </tbody>\n</table>\n</div>"
     },
     "execution_count": 64,
     "metadata": {},
     "output_type": "execute_result"
    }
   ],
   "source": [
    "dx\n",
    "# ss = dx['s'].tolist()\n",
    "# ss\n",
    "ds_not_good = dx[(dx.s.isin(not_supposed_to_be_shorted))]\n",
    "#s_not_good\n",
    "#ds_not_good\n",
    "ds_not_good"
   ],
   "metadata": {
    "collapsed": false,
    "pycharm": {
     "name": "#%%\n"
    }
   }
  }
 ],
 "metadata": {
  "kernelspec": {
   "display_name": "PyCharm (passivbot)",
   "language": "python",
   "name": "pycharm-997905a8"
  },
  "language_info": {
   "codemirror_mode": {
    "name": "ipython",
    "version": 3
   },
   "file_extension": ".py",
   "mimetype": "text/x-python",
   "name": "python",
   "nbconvert_exporter": "python",
   "pygments_lexer": "ipython3",
   "version": "3.8.12"
  }
 },
 "nbformat": 4,
 "nbformat_minor": 1
}