{
 "cells": [
  {
   "cell_type": "code",
   "execution_count": 1,
   "metadata": {},
   "outputs": [],
   "source": [
    "\n",
    "%load_ext autoreload\n",
    "%autoreload 2"
   ]
  },
  {
   "cell_type": "code",
   "execution_count": 2,
   "metadata": {
    "pycharm": {
     "name": "#%%\n"
    }
   },
   "outputs": [],
   "source": [
    "import datetime\n",
    "import glob\n",
    "\n",
    "import pandas as pd"
   ]
  },
  {
   "cell_type": "code",
   "execution_count": 3,
   "outputs": [],
   "source": [
    "## delete the folders not in live config ( extra crap )\n",
    "live_config_files = glob.glob('cfgs_live/*', recursive=True)\n",
    "allowed_symbols = []\n",
    "symbol_files = {}\n",
    "for f in live_config_files:\n",
    "    symbol = f.split('\\\\')[-1]\n",
    "    symbol = symbol.replace('.json', 'USDT')\n",
    "    allowed_symbols.append(symbol)\n",
    "    symbol_files[symbol] = f\n",
    "\n",
    "# static_configs = {}\n",
    "# for symbol in symbol_files:\n",
    "#     file = symbol_files[symbol]\n",
    "#     with open(file) as f:\n",
    "#         data = json.load(f)\n",
    "#     config_name = data['config_name']\n",
    "#\n",
    "#     if 'static' in config_name:\n",
    "#         t = os.path.getmtime(file)\n",
    "#         modification_time = datetime.datetime.fromtimestamp(t)\n",
    "#         static_configs[symbol] = modification_time\n",
    "#\n",
    "# #print (static_configs)\n",
    "# old_configs_if_before = datetime.datetime(2022, 3, 31)\n",
    "# static_configs_new = [x for x in static_configs if static_configs[x] < old_configs_if_before]\n",
    "#\n",
    "# #print(static_configs_new)\n",
    "# x = ''\n",
    "# for c in static_configs_new:\n",
    "#     x += c+'\\n'\n",
    "# with open('next_batch_config','w') as f:\n",
    "#     f.write(x)\n",
    "#\n",
    "# #allowed_symbols = [\"ALICEUSDT\",\"XRPUSDT\",\"HOTUSDT\"]"
   ],
   "metadata": {
    "collapsed": false,
    "pycharm": {
     "name": "#%%\n"
    }
   }
  },
  {
   "cell_type": "code",
   "execution_count": 4,
   "outputs": [
    {
     "name": "stdout",
     "output_type": "stream",
     "text": [
      "backtests/binance\\1000SHIBUSDT\\plots\\2022-04-03T194816\\live_config.json is same as cfgs_live\\1000SHIB.json\n",
      "backtests/binance\\1000SHIBUSDT\\plots\\2022-04-06T180851\\live_config.json is same as cfgs_live\\1000SHIB.json\n",
      "backtests/binance\\1000XECUSDT\\plots\\2022-04-11T104928\\live_config.json is same as cfgs_live\\1000XEC.json\n",
      "backtests/binance\\1INCHUSDT\\plots\\2022-04-08T091942\\live_config.json is same as cfgs_live\\1INCH.json\n",
      "backtests/binance\\ADAUSDT\\plots\\2022-04-03T202719\\live_config.json is same as cfgs_live\\ADA.json\n",
      "backtests/binance\\ADAUSDT\\plots\\2022-04-06T185658\\live_config.json is same as cfgs_live\\ADA.json\n",
      "backtests/binance\\AKROUSDT\\plots\\2022-04-06T190136\\live_config.json is same as cfgs_live\\AKRO.json\n",
      "backtests/binance\\AKROUSDT\\plots\\2022-04-10T225650\\live_config.json is same as cfgs_live\\AKRO.json\n",
      "backtests/binance\\ALGOUSDT\\plots\\2022-04-08T070001\\live_config.json is same as cfgs_live\\ALGO.json\n",
      "backtests/binance\\ALICEUSDT\\plots\\2022-04-05T084248\\live_config.json is same as cfgs_live\\ALICE.json\n",
      "backtests/binance\\ALICEUSDT\\plots\\2022-04-06T192232\\live_config.json is same as cfgs_live\\ALICE.json\n",
      "backtests/binance\\ALPHAUSDT\\plots\\2022-04-11T105911\\live_config.json is same as cfgs_live\\ALPHA.json\n",
      "backtests/binance\\ANCUSDT\\plots\\2022-04-07T235929\\live_config.json is same as cfgs_live\\ANC.json\n",
      "backtests/binance\\ANKRUSDT\\plots\\2022-04-11T110732\\live_config.json is same as cfgs_live\\ANKR.json\n",
      "backtests/binance\\API3USDT\\plots\\2022-04-05T085246\\live_config.json is same as cfgs_live\\API3.json\n",
      "backtests/binance\\API3USDT\\plots\\2022-04-06T194131\\live_config.json is same as cfgs_live\\API3.json\n",
      "backtests/binance\\ARUSDT\\plots\\2022-04-07T230245\\live_config.json is same as cfgs_live\\AR.json\n",
      "backtests/binance\\ATOMUSDT\\plots\\2022-04-04T110127\\live_config.json is same as cfgs_live\\ATOM.json\n",
      "backtests/binance\\ATOMUSDT\\plots\\2022-04-06T202412\\live_config.json is same as cfgs_live\\ATOM.json\n",
      "backtests/binance\\BAKEUSDT\\plots\\2022-04-11T111733\\live_config.json is same as cfgs_live\\BAKE.json\n",
      "backtests/binance\\BANDUSDT\\plots\\2022-04-11T112732\\live_config.json is same as cfgs_live\\BAND.json\n",
      "backtests/binance\\BCHUSDT\\plots\\2022-04-08T084958\\live_config.json is same as cfgs_live\\BCH.json\n",
      "backtests/binance\\BELUSDT\\plots\\2022-04-11T113544\\live_config.json is same as cfgs_live\\BEL.json\n",
      "backtests/binance\\BLZUSDT\\plots\\2022-04-08T080738\\live_config.json is same as cfgs_live\\BLZ.json\n",
      "backtests/binance\\BNBUSDT\\plots\\2022-04-04T105245\\live_config.json is same as cfgs_live\\BNB.json\n",
      "backtests/binance\\BNBUSDT\\plots\\2022-04-06T213154\\live_config.json is same as cfgs_live\\BNB.json\n",
      "backtests/binance\\BTSUSDT\\plots\\2022-04-06T213726\\live_config.json is same as cfgs_live\\BTS.json\n",
      "backtests/binance\\C98USDT\\plots\\2022-04-11T115310\\live_config.json is same as cfgs_live\\C98.json\n",
      "backtests/binance\\CELRUSDT\\plots\\2022-04-08T071525\\live_config.json is same as cfgs_live\\CELR.json\n",
      "backtests/binance\\CHRUSDT\\plots\\2022-04-08T064125\\live_config.json is same as cfgs_live\\CHR.json\n",
      "backtests/binance\\CHZUSDT\\plots\\2022-04-03T203915\\live_config.json is same as cfgs_live\\CHZ.json\n",
      "backtests/binance\\CHZUSDT\\plots\\2022-04-06T220927\\live_config.json is same as cfgs_live\\CHZ.json\n",
      "backtests/binance\\COMPUSDT\\plots\\2022-04-06T222143\\live_config.json is same as cfgs_live\\COMP.json\n",
      "backtests/binance\\COTIUSDT\\plots\\2022-04-06T223955\\live_config.json is same as cfgs_live\\COTI.json\n",
      "backtests/binance\\CRVUSDT\\plots\\2022-04-06T005705\\live_config.json is same as cfgs_live\\CRV.json\n",
      "backtests/binance\\CRVUSDT\\plots\\2022-04-06T224500\\live_config.json is same as cfgs_live\\CRV.json\n",
      "backtests/binance\\DASHUSDT\\plots\\2022-04-08T092532\\live_config.json is same as cfgs_live\\DASH.json\n",
      "backtests/binance\\DENTUSDT\\plots\\2022-04-06T225348\\live_config.json is same as cfgs_live\\DENT.json\n",
      "backtests/binance\\DENTUSDT\\plots\\2022-04-10T095459\\live_config.json is same as cfgs_live\\DENT.json\n",
      "backtests/binance\\DGBUSDT\\plots\\2022-04-11T164039\\live_config.json is same as cfgs_live\\DGB.json\n",
      "backtests/binance\\DODOUSDT\\plots\\2022-04-06T230355\\live_config.json is same as cfgs_live\\DODO.json\n",
      "backtests/binance\\DODOUSDT\\plots\\2022-04-10T225446\\live_config.json is same as cfgs_live\\DODO.json\n",
      "backtests/binance\\DOGEUSDT\\plots\\2022-04-04T230406\\live_config.json is same as cfgs_live\\DOGE.json\n",
      "backtests/binance\\DOGEUSDT\\plots\\2022-04-06T233804\\live_config.json is same as cfgs_live\\DOGE.json\n",
      "backtests/binance\\DOTUSDT\\plots\\2022-04-03T085136\\live_config.json is same as cfgs_live\\DOT.json\n",
      "backtests/binance\\DOTUSDT\\plots\\2022-04-07T001024\\live_config.json is same as cfgs_live\\DOT.json\n",
      "backtests/binance\\DUSKUSDT\\plots\\2022-04-09T140544\\live_config.json is same as cfgs_live\\DUSK.json\n",
      "backtests/binance\\DYDXUSDT\\plots\\2022-04-06T005530\\live_config.json is same as cfgs_live\\DYDX.json\n",
      "backtests/binance\\DYDXUSDT\\plots\\2022-04-07T002431\\live_config.json is same as cfgs_live\\DYDX.json\n",
      "backtests/binance\\ENJUSDT\\plots\\2022-04-06T002149\\live_config.json is same as cfgs_live\\ENJ.json\n",
      "backtests/binance\\ENJUSDT\\plots\\2022-04-07T003037\\live_config.json is same as cfgs_live\\ENJ.json\n",
      "backtests/binance\\ENSUSDT\\plots\\2022-04-10T222000\\live_config.json is same as cfgs_live\\ENS.json\n",
      "backtests/binance\\EOSUSDT\\plots\\2022-04-08T083934\\live_config.json is same as cfgs_live\\EOS.json\n",
      "backtests/binance\\ETCUSDT\\plots\\2022-04-08T090649\\live_config.json is same as cfgs_live\\ETC.json\n",
      "backtests/binance\\ETHUSDT\\plots\\2022-04-02T210517\\live_config.json is same as cfgs_live\\ETH.json\n",
      "backtests/binance\\ETHUSDT\\plots\\2022-04-07T030239\\live_config.json is same as cfgs_live\\ETH.json\n",
      "backtests/binance\\FLMUSDT\\plots\\2022-04-11T164628\\live_config.json is same as cfgs_live\\FLM.json\n",
      "backtests/binance\\FLOWUSDT\\plots\\2022-04-11T164823\\live_config.json is same as cfgs_live\\FLOW.json\n",
      "backtests/binance\\GRTUSDT\\plots\\2022-04-05T090611\\live_config.json is same as cfgs_live\\GRT.json\n",
      "backtests/binance\\GRTUSDT\\plots\\2022-04-07T031424\\live_config.json is same as cfgs_live\\GRT.json\n",
      "backtests/binance\\GTCUSDT\\plots\\2022-04-09T153137\\live_config.json is same as cfgs_live\\GTC.json\n",
      "backtests/binance\\HBARUSDT\\plots\\2022-04-11T165825\\live_config.json is same as cfgs_live\\HBAR.json\n",
      "backtests/binance\\HOTUSDT\\plots\\2022-04-12T092206\\live_config.json is same as cfgs_live\\HOT.json\n",
      "backtests/binance\\ICPUSDT\\plots\\2022-04-07T225458\\live_config.json is same as cfgs_live\\ICP.json\n",
      "backtests/binance\\ICXUSDT\\plots\\2022-04-05T085024\\live_config.json is same as cfgs_live\\ICX.json\n",
      "backtests/binance\\ICXUSDT\\plots\\2022-04-12T093235\\live_config.json is same as cfgs_live\\ICX.json\n",
      "backtests/binance\\IOSTUSDT\\plots\\2022-04-12T094802\\live_config.json is same as cfgs_live\\IOST.json\n",
      "backtests/binance\\IOTAUSDT\\plots\\2022-04-12T095954\\live_config.json is same as cfgs_live\\IOTA.json\n",
      "backtests/binance\\KAVAUSDT\\plots\\2022-04-12T101351\\live_config.json is same as cfgs_live\\KAVA.json\n",
      "backtests/binance\\KLAYUSDT\\plots\\2022-04-12T101947\\live_config.json is same as cfgs_live\\KLAY.json\n",
      "backtests/binance\\KNCUSDT\\plots\\2022-04-04T231319\\live_config.json is same as cfgs_live\\KNC.json\n",
      "backtests/binance\\KNCUSDT\\plots\\2022-04-07T043746\\live_config.json is same as cfgs_live\\KNC.json\n",
      "backtests/binance\\LINAUSDT\\plots\\2022-04-12T102824\\live_config.json is same as cfgs_live\\LINA.json\n",
      "backtests/binance\\LINKUSDT\\plots\\2022-04-04T225816\\live_config.json is same as cfgs_live\\LINK.json\n",
      "backtests/binance\\LINKUSDT\\plots\\2022-04-07T050932\\live_config.json is same as cfgs_live\\LINK.json\n",
      "backtests/binance\\LITUSDT\\plots\\2022-04-12T103556\\live_config.json is same as cfgs_live\\LIT.json\n",
      "backtests/binance\\LTCUSDT\\plots\\2022-04-04T230844\\live_config.json is same as cfgs_live\\LTC.json\n",
      "backtests/binance\\LTCUSDT\\plots\\2022-04-07T053709\\live_config.json is same as cfgs_live\\LTC.json\n",
      "backtests/binance\\MATICUSDT\\plots\\2022-04-04T232545\\live_config.json is same as cfgs_live\\MATIC.json\n",
      "backtests/binance\\MATICUSDT\\plots\\2022-04-07T060521\\live_config.json is same as cfgs_live\\MATIC.json\n",
      "backtests/binance\\MKRUSDT\\plots\\2022-04-12T104514\\live_config.json is same as cfgs_live\\MKR.json\n",
      "backtests/binance\\MTLUSDT\\plots\\2022-04-12T105358\\live_config.json is same as cfgs_live\\MTL.json\n",
      "backtests/binance\\NEOUSDT\\plots\\2022-04-10T224943\\live_config.json is same as cfgs_live\\NEO.json\n",
      "backtests/binance\\NEOUSDT\\plots\\2022-04-12T105643\\live_config.json is same as cfgs_live\\NEO.json\n",
      "backtests/binance\\NKNUSDT\\plots\\2022-04-12T111151\\live_config.json is same as cfgs_live\\NKN.json\n",
      "backtests/binance\\OCEANUSDT\\plots\\2022-04-10T093545\\live_config.json is same as cfgs_live\\OCEAN.json\n",
      "backtests/binance\\OGNUSDT\\plots\\2022-04-12T112301\\live_config.json is same as cfgs_live\\OGN.json\n",
      "backtests/binance\\OMGUSDT\\plots\\2022-04-09T140231\\live_config.json is same as cfgs_live\\OMG.json\n",
      "backtests/binance\\ONEUSDT\\plots\\2022-04-07T073658\\live_config.json is same as cfgs_live\\ONE.json\n",
      "backtests/binance\\ONEUSDT\\plots\\2022-04-07T222054\\live_config.json is same as cfgs_live\\ONE.json\n",
      "backtests/binance\\ONEUSDT\\plots\\2022-04-07T223017\\live_config.json is same as cfgs_live\\ONE.json\n",
      "backtests/binance\\ONTUSDT\\plots\\2022-04-12T113118\\live_config.json is same as cfgs_live\\ONT.json\n",
      "backtests/binance\\QTUMUSDT\\plots\\2022-04-12T223409\\live_config.json is same as cfgs_live\\QTUM.json\n",
      "backtests/binance\\REEFUSDT\\plots\\2022-04-10T223941\\live_config.json is same as cfgs_live\\REEF.json\n",
      "backtests/binance\\REEFUSDT\\plots\\2022-04-12T223626\\live_config.json is same as cfgs_live\\REEF.json\n",
      "backtests/binance\\RENUSDT\\plots\\2022-04-05T234522\\live_config.json is same as cfgs_live\\REN.json\n",
      "backtests/binance\\RENUSDT\\plots\\2022-04-07T080642\\live_config.json is same as cfgs_live\\REN.json\n",
      "backtests/binance\\RLCUSDT\\plots\\2022-04-12T224616\\live_config.json is same as cfgs_live\\RLC.json\n",
      "backtests/binance\\ROSEUSDT\\plots\\2022-04-07T082223\\live_config.json is same as cfgs_live\\ROSE.json\n",
      "backtests/binance\\ROSEUSDT\\plots\\2022-04-10T095956\\live_config.json is same as cfgs_live\\ROSE.json\n",
      "backtests/binance\\RSRUSDT\\plots\\2022-04-09T225803\\live_config.json is same as cfgs_live\\RSR.json\n",
      "backtests/binance\\RVNUSDT\\plots\\2022-04-12T225331\\live_config.json is same as cfgs_live\\RVN.json\n",
      "backtests/binance\\SCUSDT\\plots\\2022-04-07T083542\\live_config.json is same as cfgs_live\\SC.json\n",
      "backtests/binance\\SFPUSDT\\plots\\2022-04-10T221414\\live_config.json is same as cfgs_live\\SFP.json\n",
      "backtests/binance\\SFPUSDT\\plots\\2022-04-12T230135\\live_config.json is same as cfgs_live\\SFP.json\n",
      "backtests/binance\\SNXUSDT\\plots\\2022-04-09T224605\\live_config.json is same as cfgs_live\\SNX.json\n",
      "backtests/binance\\STMXUSDT\\plots\\2022-04-12T230630\\live_config.json is same as cfgs_live\\STMX.json\n",
      "backtests/binance\\SUSHIUSDT\\plots\\2022-04-07T234901\\live_config.json is same as cfgs_live\\SUSHI.json\n",
      "backtests/binance\\SUSHIUSDT\\plots\\2022-04-08T093905\\live_config.json is same as cfgs_live\\SUSHI.json\n",
      "backtests/binance\\SXPUSDT\\plots\\2022-04-10T094654\\live_config.json is same as cfgs_live\\SXP.json\n",
      "backtests/binance\\THETAUSDT\\plots\\2022-04-08T091310\\live_config.json is same as cfgs_live\\THETA.json\n",
      "backtests/binance\\TLMUSDT\\plots\\2022-04-07T231034\\live_config.json is same as cfgs_live\\TLM.json\n",
      "backtests/binance\\TOMOUSDT\\plots\\2022-04-12T231358\\live_config.json is same as cfgs_live\\TOMO.json\n",
      "backtests/binance\\TRBUSDT\\plots\\2022-04-12T231910\\live_config.json is same as cfgs_live\\TRB.json\n",
      "backtests/binance\\TRXUSDT\\plots\\2022-04-07T233137\\live_config.json is same as cfgs_live\\TRX.json\n",
      "backtests/binance\\UNFIUSDT\\plots\\2022-04-12T232558\\live_config.json is same as cfgs_live\\UNFI.json\n",
      "backtests/binance\\VETUSDT\\plots\\2022-04-07T224125\\live_config.json is same as cfgs_live\\VET.json\n",
      "backtests/binance\\WAVESUSDT\\plots\\2022-04-03T072245\\live_config.json is same as cfgs_live\\WAVES.json\n",
      "backtests/binance\\WAVESUSDT\\plots\\2022-04-13T092629\\live_config.json is same as cfgs_live\\WAVES.json\n",
      "backtests/binance\\XLMUSDT\\plots\\2022-04-07T115327\\live_config.json is same as cfgs_live\\XLM.json\n",
      "backtests/binance\\XLMUSDT\\plots\\2022-04-08T092826\\live_config.json is same as cfgs_live\\XLM.json\n",
      "backtests/binance\\XLMUSDT\\plots\\2022-04-08T092946\\live_config.json is same as cfgs_live\\XLM.json\n",
      "backtests/binance\\XMRUSDT\\plots\\2022-04-04T104118\\live_config.json is same as cfgs_live\\XMR.json\n",
      "backtests/binance\\XMRUSDT\\plots\\2022-04-07T120315\\live_config.json is same as cfgs_live\\XMR.json\n",
      "backtests/binance\\XRPUSDT\\plots\\2022-04-02T215823\\live_config.json is same as cfgs_live\\XRP.json\n",
      "backtests/binance\\XRPUSDT\\plots\\2022-04-03T071614\\live_config.json is same as cfgs_live\\XRP.json\n",
      "backtests/binance\\XRPUSDT\\plots\\2022-04-07T122119\\live_config.json is same as cfgs_live\\XRP.json\n",
      "backtests/binance\\XTZUSDT\\plots\\2022-04-07T232204\\live_config.json is same as cfgs_live\\XTZ.json\n",
      "backtests/binance\\ZECUSDT\\plots\\2022-04-04T094221\\live_config.json is same as cfgs_live\\ZEC.json\n",
      "backtests/binance\\ZECUSDT\\plots\\2022-04-07T123050\\live_config.json is same as cfgs_live\\ZEC.json\n",
      "backtests/binance\\ZENUSDT\\plots\\2022-04-07T234033\\live_config.json is same as cfgs_live\\ZEN.json\n",
      "backtests/binance\\ZILUSDT\\plots\\2022-04-13T093427\\live_config.json is same as cfgs_live\\ZIL.json\n",
      "backtests/binance\\ZRXUSDT\\plots\\2022-04-13T093841\\live_config.json is same as cfgs_live\\ZRX.json\n"
     ]
    }
   ],
   "source": [
    "# ## NOW copy result folders :)\n",
    "# import json\n",
    "# import shutil\n",
    "#\n",
    "# files = glob.iglob('backtests/binance/' + '**/live_config.json', recursive=True)\n",
    "#\n",
    "# for filename in files:\n",
    "#     with open(filename) as f:\n",
    "#         config = json.load(f)\n",
    "#     symbol = config['config_name'].split('_')[2]\n",
    "#\n",
    "#     if symbol not in symbol_files: continue\n",
    "#\n",
    "#     with open(symbol_files[symbol]) as f:\n",
    "#         production_config = json.load(f)\n",
    "#\n",
    "#     long_pc = production_config['long']\n",
    "#     long_c = config['long']\n",
    "#\n",
    "#     k_pc = long_pc.keys()\n",
    "#     k_c = long_c.keys()\n",
    "#\n",
    "#     if len(k_c) != len(k_c): continue\n",
    "#\n",
    "#     same = True\n",
    "#     for k in k_pc:\n",
    "#         if k not in k_c:\n",
    "#             same = False\n",
    "#             break\n",
    "#         v_pc = long_pc[k]\n",
    "#         v_c = long_c[k]\n",
    "#         #print(f'{k}={v_c},{v_pc}')\n",
    "#\n",
    "#     if not same: continue\n",
    "#\n",
    "#     print(f'{filename} is same as {symbol_files[symbol]}')\n",
    "#\n",
    "#     src = filename.replace('\\\\live_config.json', '')\n",
    "#     dst = f'backtests/binance_production/{symbol}'\n",
    "#     shutil.copytree(src=src, dst=dst, dirs_exist_ok=True)\n",
    "\n"
   ],
   "metadata": {
    "collapsed": false,
    "pycharm": {
     "name": "#%%\n"
    }
   }
  },
  {
   "cell_type": "code",
   "execution_count": 4,
   "outputs": [
    {
     "data": {
      "text/plain": "{'ETHUSDT': {'vol': '5326', 'listed': '2022-03-21 08:00:00', 'notion': 5.0},\n 'BCHUSDT': {'vol': '0079', 'listed': '2019-09-25 08:00:00', 'notion': 5.0},\n 'XRPUSDT': {'vol': '0398', 'listed': '2019-09-25 08:00:00', 'notion': 5.0},\n 'EOSUSDT': {'vol': '0121', 'listed': '2019-09-25 08:00:00', 'notion': 5.0},\n 'LTCUSDT': {'vol': '0149', 'listed': '2019-09-25 08:00:00', 'notion': 5.0},\n 'TRXUSDT': {'vol': '0051', 'listed': '2019-09-25 08:00:00', 'notion': 5.0},\n 'ETCUSDT': {'vol': '0433', 'listed': '2019-09-25 08:00:00', 'notion': 5.0},\n 'LINKUSDT': {'vol': '0172', 'listed': '2019-09-25 08:00:00', 'notion': 5.0},\n 'XLMUSDT': {'vol': '0034', 'listed': '2019-09-25 08:00:00', 'notion': 5.0},\n 'ADAUSDT': {'vol': '0512', 'listed': '2019-09-25 08:00:00', 'notion': 5.0},\n 'XMRUSDT': {'vol': '0316', 'listed': '2019-09-25 08:00:00', 'notion': 5.0},\n 'DASHUSDT': {'vol': '0032', 'listed': '2019-09-25 08:00:00', 'notion': 5.0},\n 'ZECUSDT': {'vol': '0095', 'listed': '2019-09-25 08:00:00', 'notion': 5.0},\n 'XTZUSDT': {'vol': '0078', 'listed': '2019-09-25 08:00:00', 'notion': 5.0},\n 'BNBUSDT': {'vol': '0512', 'listed': '2019-09-25 08:00:00', 'notion': 5.0},\n 'ATOMUSDT': {'vol': '0244', 'listed': '2019-09-25 08:00:00', 'notion': 5.0},\n 'ONTUSDT': {'vol': '0017', 'listed': '2019-09-25 08:00:00', 'notion': 5.0},\n 'IOTAUSDT': {'vol': '0029', 'listed': '2019-09-25 08:00:00', 'notion': 5.0},\n 'VETUSDT': {'vol': '0113', 'listed': '2019-09-25 08:00:00', 'notion': 5.0},\n 'NEOUSDT': {'vol': '0023', 'listed': '2019-09-25 08:00:00', 'notion': 5.0},\n 'QTUMUSDT': {'vol': '0022', 'listed': '2019-09-25 08:00:00', 'notion': 5.0},\n 'IOSTUSDT': {'vol': '0250', 'listed': '2019-09-25 08:00:00', 'notion': 5.0},\n 'THETAUSDT': {'vol': '0109', 'listed': '2019-09-25 08:00:00', 'notion': 5.0},\n 'ALGOUSDT': {'vol': '0078', 'listed': '2019-09-25 08:00:00', 'notion': 5.0},\n 'ZILUSDT': {'vol': '0577', 'listed': '2019-09-25 08:00:00', 'notion': 5.0},\n 'KNCUSDT': {'vol': '0401', 'listed': '2019-09-25 08:00:00', 'notion': 5.0},\n 'ZRXUSDT': {'vol': '0033', 'listed': '2019-09-25 08:00:00', 'notion': 5.0},\n 'COMPUSDT': {'vol': '0096', 'listed': '2019-09-25 08:00:00', 'notion': 5.0},\n 'OMGUSDT': {'vol': '0038', 'listed': '2019-09-25 08:00:00', 'notion': 5.0},\n 'DOGEUSDT': {'vol': '0679', 'listed': '2019-09-25 08:00:00', 'notion': 5.0},\n 'SXPUSDT': {'vol': '0030', 'listed': '2019-09-25 08:00:00', 'notion': 5.0},\n 'KAVAUSDT': {'vol': '0067', 'listed': '2019-09-25 08:00:00', 'notion': 5.0},\n 'BANDUSDT': {'vol': '0028', 'listed': '2019-09-25 08:00:00', 'notion': 5.0},\n 'RLCUSDT': {'vol': '0051', 'listed': '2019-09-25 08:00:00', 'notion': 5.0},\n 'WAVESUSDT': {'vol': '0659', 'listed': '2019-09-25 08:00:00', 'notion': 5.0},\n 'MKRUSDT': {'vol': '0016', 'listed': '2019-09-25 08:00:00', 'notion': 5.0},\n 'SNXUSDT': {'vol': '0071', 'listed': '2019-09-25 08:00:00', 'notion': 5.0},\n 'DOTUSDT': {'vol': '0301', 'listed': '2019-09-25 08:00:00', 'notion': 5.0},\n 'CRVUSDT': {'vol': '0074', 'listed': '2019-09-25 08:00:00', 'notion': 5.0},\n 'TRBUSDT': {'vol': '0012', 'listed': '2019-09-25 08:00:00', 'notion': 5.0},\n 'SUSHIUSDT': {'vol': '0063', 'listed': '2019-09-25 08:00:00', 'notion': 5.0},\n 'ICXUSDT': {'vol': '0029', 'listed': '2019-09-25 08:00:00', 'notion': 5.0},\n 'BLZUSDT': {'vol': '0021', 'listed': '2019-09-25 08:00:00', 'notion': 5.0},\n 'ENJUSDT': {'vol': '0085', 'listed': '2019-09-25 08:00:00', 'notion': 5.0},\n 'FLMUSDT': {'vol': '0014', 'listed': '2019-09-25 08:00:00', 'notion': 5.0},\n 'TOMOUSDT': {'vol': '0016', 'listed': '2019-09-25 08:00:00', 'notion': 5.0},\n 'RENUSDT': {'vol': '0021', 'listed': '2019-09-25 08:00:00', 'notion': 5.0},\n 'RSRUSDT': {'vol': '0028', 'listed': '2019-09-25 08:00:00', 'notion': 5.0},\n 'MATICUSDT': {'vol': '0261', 'listed': '2019-09-25 08:00:00', 'notion': 5.0},\n 'OCEANUSDT': {'vol': '0013', 'listed': '2019-09-25 08:00:00', 'notion': 5.0},\n 'BELUSDT': {'vol': '0015', 'listed': '2019-09-25 08:00:00', 'notion': 5.0},\n 'ALPHAUSDT': {'vol': '0065', 'listed': '2019-09-25 08:00:00', 'notion': 5.0},\n 'ZENUSDT': {'vol': '0019', 'listed': '2019-09-25 08:00:00', 'notion': 5.0},\n 'GRTUSDT': {'vol': '0046', 'listed': '2020-12-18 07:00:00', 'notion': 5.0},\n '1INCHUSDT': {'vol': '0039', 'listed': '2020-12-25 07:00:00', 'notion': 5.0},\n 'AKROUSDT': {'vol': '0014', 'listed': '2021-01-18 07:00:00', 'notion': 5.0},\n 'CHZUSDT': {'vol': '0097', 'listed': '2021-01-21 07:00:00', 'notion': 5.0},\n 'ANKRUSDT': {'vol': '0175', 'listed': '2021-01-25 07:00:00', 'notion': 5.0},\n 'BTSUSDT': {'vol': '0009', 'listed': '2021-01-31 07:00:00', 'notion': 5.0},\n 'LITUSDT': {'vol': '0021', 'listed': '2021-02-17 07:00:00', 'notion': 5.0},\n 'UNFIUSDT': {'vol': '0015', 'listed': '2021-02-09 07:00:00', 'notion': 5.0},\n 'DODOUSDT': {'vol': '0043', 'listed': '2021-02-19 07:00:00', 'notion': 5.0},\n 'REEFUSDT': {'vol': '0041', 'listed': '2021-01-25 07:00:00', 'notion': 5.0},\n 'RVNUSDT': {'vol': '0014', 'listed': '2021-02-23 07:00:00', 'notion': 5.0},\n 'SFPUSDT': {'vol': '0015', 'listed': '2021-02-24 07:00:00', 'notion': 5.0},\n 'COTIUSDT': {'vol': '0067', 'listed': '2021-03-09 07:00:00', 'notion': 5.0},\n 'CHRUSDT': {'vol': '0047', 'listed': '2021-03-12 07:00:00', 'notion': 5.0},\n 'ALICEUSDT': {'vol': '0099', 'listed': '2021-03-15 07:00:00', 'notion': 5.0},\n 'HBARUSDT': {'vol': '0027', 'listed': '2021-03-17 07:00:00', 'notion': 5.0},\n 'ONEUSDT': {'vol': '0073', 'listed': '2021-03-17 07:00:00', 'notion': 5.0},\n 'LINAUSDT': {'vol': '0024', 'listed': '2021-03-17 07:00:00', 'notion': 5.0},\n 'STMXUSDT': {'vol': '0027', 'listed': '2021-03-17 07:00:00', 'notion': 5.0},\n 'DENTUSDT': {'vol': '0049', 'listed': '2021-03-23 07:00:00', 'notion': 5.0},\n 'CELRUSDT': {'vol': '0051', 'listed': '2021-03-29 07:00:00', 'notion': 5.0},\n 'HOTUSDT': {'vol': '0053', 'listed': '2021-03-30 07:00:00', 'notion': 5.0},\n 'MTLUSDT': {'vol': '1803', 'listed': '2021-03-31 07:00:00', 'notion': 5.0},\n 'OGNUSDT': {'vol': '0080', 'listed': '2021-03-31 07:00:00', 'notion': 5.0},\n 'NKNUSDT': {'vol': '0017', 'listed': '2021-04-08 07:00:00', 'notion': 5.0},\n 'SCUSDT': {'vol': '0018', 'listed': '2021-04-12 07:00:00', 'notion': 5.0},\n 'DGBUSDT': {'vol': '0012', 'listed': '2021-04-19 07:00:00', 'notion': 5.0},\n '1000SHIBUSDT': {'vol': '3817',\n  'listed': '2021-05-10 07:00:00',\n  'notion': 5.0},\n 'ICPUSDT': {'vol': '0077', 'listed': '2021-05-11 07:00:00', 'notion': 5.0},\n 'BAKEUSDT': {'vol': '0044', 'listed': '2021-05-18 07:00:00', 'notion': 5.0},\n 'GTCUSDT': {'vol': '0016', 'listed': '2021-03-15 07:00:00', 'notion': 5.0},\n 'TLMUSDT': {'vol': '0046', 'listed': '2021-07-15 07:00:00', 'notion': 5.0},\n 'C98USDT': {'vol': '0146', 'listed': '2021-08-23 07:00:00', 'notion': 5.0},\n 'DYDXUSDT': {'vol': '0071', 'listed': '2021-09-09 07:00:00', 'notion': 5.0},\n '1000XECUSDT': {'vol': '0027',\n  'listed': '2021-09-16 07:00:00',\n  'notion': 5.0},\n 'ARUSDT': {'vol': '0041', 'listed': '2021-09-28 07:00:00', 'notion': 5.0},\n 'KLAYUSDT': {'vol': '0013', 'listed': '2021-10-11 07:00:00', 'notion': 5.0},\n 'ENSUSDT': {'vol': '0025', 'listed': '2021-11-29 07:00:00', 'notion': 5.0},\n 'ROSEUSDT': {'vol': '0072', 'listed': '2021-12-31 07:00:00', 'notion': 5.0},\n 'DUSKUSDT': {'vol': '0066', 'listed': '2022-01-06 07:00:00', 'notion': 5.0},\n 'FLOWUSDT': {'vol': '0033', 'listed': '2022-02-09 07:00:00', 'notion': 5.0},\n 'API3USDT': {'vol': '0021', 'listed': '2022-02-21 07:00:00', 'notion': 5.0},\n 'ANCUSDT': {'vol': '0045', 'listed': '2022-03-07 07:00:00', 'notion': 5.0}}"
     },
     "execution_count": 4,
     "metadata": {},
     "output_type": "execute_result"
    }
   ],
   "source": [
    "import requests\n",
    "prices_url = \"https://fapi.binance.com/fapi/v1/ticker/price\"\n",
    "pricedata = requests.get(prices_url).json()\n",
    "volume_url = \"https://fapi.binance.com//fapi/v1/ticker/24hr\"\n",
    "volume_data = requests.get(volume_url).json()\n",
    "data_url = \"https://fapi.binance.com/fapi/v1/exchangeInfo\"\n",
    "data = requests.get(data_url).json()\n",
    "\n",
    "symbol_notional_volume = {}\n",
    "\n",
    "for datas in data[\"symbols\"]:\n",
    "    if \"USDT\" in datas[\"pair\"]:\n",
    "        ts = datas['onboardDate']\n",
    "        listed_on = datetime.datetime.utcfromtimestamp(ts / 1000).strftime(\n",
    "            '%Y-%m-%d %H:%M:%S')\n",
    "        symbol = datas[\"pair\"]\n",
    "\n",
    "        if symbol not in allowed_symbols:\n",
    "            continue\n",
    "\n",
    "        min_qty = float(datas[\"filters\"][1][\"minQty\"])\n",
    "        min_notional_fixed = float(datas[\"filters\"][5][\"notional\"])\n",
    "\n",
    "        price = 0\n",
    "        for i in pricedata:\n",
    "            if i[\"symbol\"] == symbol:\n",
    "                price = i[\"price\"]\n",
    "\n",
    "        for i in volume_data:\n",
    "            if i[\"symbol\"] == symbol:\n",
    "                volm = str((int(float(i[\"quoteVolume\"]) / 1000000))).zfill(4)\n",
    "\n",
    "        min_notional_calc = min_qty * float(price)\n",
    "\n",
    "        if min_notional_calc <= min_notional_fixed:\n",
    "            min_notional = min_notional_fixed\n",
    "        else:\n",
    "            min_notional = min_notional_calc\n",
    "\n",
    "        symbol_notional_volume[symbol] = {\n",
    "            \"vol\":volm,\n",
    "            \"listed\":listed_on,\n",
    "            \"notion\":min_notional\n",
    "        }\n",
    "\n",
    "symbol_notional_volume\n"
   ],
   "metadata": {
    "collapsed": false,
    "pycharm": {
     "name": "#%%\n"
    }
   }
  },
  {
   "cell_type": "code",
   "execution_count": 5,
   "outputs": [
    {
     "data": {
      "text/plain": "{'1000SHIBUSDT': {'lm': 'n', 'sm': 'p', 'le': 0.035, 'se': 0.0},\n '1000XECUSDT': {'lm': 'n', 'sm': 'n', 'le': 0.035, 'se': 0.02},\n '1INCHUSDT': {'lm': 'n', 'sm': 'p', 'le': 0.035, 'se': 0.0},\n 'ADAUSDT': {'lm': 'n', 'sm': 'n', 'le': 0.035, 'se': 0.02},\n 'AKROUSDT': {'lm': 'n', 'sm': 'p', 'le': 0.035, 'se': 0.0},\n 'ALGOUSDT': {'lm': 'n', 'sm': 'n', 'le': 0.035, 'se': 0.02},\n 'ALICEUSDT': {'lm': 'n', 'sm': 'p', 'le': 0.035, 'se': 0.0},\n 'ALPHAUSDT': {'lm': 'n', 'sm': 'p', 'le': 0.035, 'se': 0.0},\n 'ANCUSDT': {'lm': 'n', 'sm': 'n', 'le': 0.03, 'se': 0.02},\n 'ANKRUSDT': {'lm': 'n', 'sm': 'n', 'le': 0.035, 'se': 0.02},\n 'API3USDT': {'lm': 'n', 'sm': 'n', 'le': 0.035, 'se': 0.03},\n 'ARUSDT': {'lm': 'n', 'sm': 'p', 'le': 0.035, 'se': 0.0},\n 'ATOMUSDT': {'lm': 'n', 'sm': 'n', 'le': 0.035, 'se': 0.02},\n 'BAKEUSDT': {'lm': 'n', 'sm': 'p', 'le': 0.035, 'se': 0.0},\n 'BANDUSDT': {'lm': 'n', 'sm': 'p', 'le': 0.035, 'se': 0.0},\n 'BCHUSDT': {'lm': 'n', 'sm': 'p', 'le': 0.03, 'se': 0.0},\n 'BELUSDT': {'lm': 'n', 'sm': 'n', 'le': 0.035, 'se': 0.02},\n 'BLZUSDT': {'lm': 'n', 'sm': 'n', 'le': 0.035, 'se': 0.02},\n 'BNBUSDT': {'lm': 'n', 'sm': 'p', 'le': 0.035, 'se': 0.0},\n 'BTSUSDT': {'lm': 'n', 'sm': 'n', 'le': 0.035, 'se': 0.02},\n 'C98USDT': {'lm': 'n', 'sm': 'n', 'le': 0.035, 'se': 0.02},\n 'CELRUSDT': {'lm': 'n', 'sm': 'p', 'le': 0.03, 'se': 0.0},\n 'CHRUSDT': {'lm': 'n', 'sm': 'p', 'le': 0.03, 'se': 0.0},\n 'CHZUSDT': {'lm': 'n', 'sm': 'n', 'le': 0.035, 'se': 0.02},\n 'COMPUSDT': {'lm': 'n', 'sm': 'n', 'le': 0.035, 'se': 0.02},\n 'COTIUSDT': {'lm': 'n', 'sm': 'p', 'le': 0.035, 'se': 0.0},\n 'CRVUSDT': {'lm': 'n', 'sm': 'p', 'le': 0.035, 'se': 0.0},\n 'DASHUSDT': {'lm': 'n', 'sm': 'p', 'le': 0.03, 'se': 0.0},\n 'DENTUSDT': {'lm': 'gs', 'sm': 'p', 'le': 0.035, 'se': 0.0},\n 'DGBUSDT': {'lm': 'n', 'sm': 'p', 'le': 0.035, 'se': 0.0},\n 'DODOUSDT': {'lm': 'n', 'sm': 'n', 'le': 0.035, 'se': 0.02},\n 'DOGEUSDT': {'lm': 'n', 'sm': 'n', 'le': 0.035, 'se': 0.02},\n 'DOTUSDT': {'lm': 'n', 'sm': 'p', 'le': 0.035, 'se': 0.0},\n 'DUSKUSDT': {'lm': 'n', 'sm': 'n', 'le': 0.035, 'se': 0.02},\n 'DYDXUSDT': {'lm': 'n', 'sm': 'n', 'le': 0.035, 'se': 0.02},\n 'ENJUSDT': {'lm': 'n', 'sm': 'p', 'le': 0.035, 'se': 0.0},\n 'ENSUSDT': {'lm': 'n', 'sm': 'n', 'le': 0.03, 'se': 0.02},\n 'EOSUSDT': {'lm': 'n', 'sm': 'p', 'le': 0.03, 'se': 0.0},\n 'ETCUSDT': {'lm': 'n', 'sm': 'n', 'le': 0.035, 'se': 0.02},\n 'ETHUSDT': {'lm': 'n', 'sm': 'n', 'le': 0.035, 'se': 0.02},\n 'FLMUSDT': {'lm': 'n', 'sm': 'p', 'le': 0.035, 'se': 0.0},\n 'FLOWUSDT': {'lm': 'n', 'sm': 'n', 'le': 0.035, 'se': 0.02},\n 'GRTUSDT': {'lm': 'n', 'sm': 'n', 'le': 0.035, 'se': 0.02},\n 'GTCUSDT': {'lm': 'n', 'sm': 'p', 'le': 0.035, 'se': 0.0},\n 'HBARUSDT': {'lm': 'gs', 'sm': 'p', 'le': 0.035, 'se': 0.0},\n 'HOTUSDT': {'lm': 'n', 'sm': 'p', 'le': 0.035, 'se': 0.0},\n 'ICPUSDT': {'lm': 'n', 'sm': 't', 'le': 0.035, 'se': 0.0},\n 'ICXUSDT': {'lm': 'gs', 'sm': 'p', 'le': 0.035, 'se': 0.0},\n 'IOSTUSDT': {'lm': 'n', 'sm': 'p', 'le': 0.035, 'se': 0.0},\n 'IOTAUSDT': {'lm': 'n', 'sm': 'p', 'le': 0.035, 'se': 0.0},\n 'KAVAUSDT': {'lm': 'n', 'sm': 'p', 'le': 0.035, 'se': 0.0},\n 'KLAYUSDT': {'lm': 'n', 'sm': 'n', 'le': 0.035, 'se': 0.02},\n 'KNCUSDT': {'lm': 'n', 'sm': 'n', 'le': 0.035, 'se': 0.02},\n 'LINAUSDT': {'lm': 'n', 'sm': 'p', 'le': 0.035, 'se': 0.0},\n 'LINKUSDT': {'lm': 'n', 'sm': 'n', 'le': 0.035, 'se': 0.02},\n 'LITUSDT': {'lm': 'n', 'sm': 'p', 'le': 0.035, 'se': 0.0},\n 'LTCUSDT': {'lm': 'n', 'sm': 'n', 'le': 0.035, 'se': 0.02},\n 'MATICUSDT': {'lm': 'n', 'sm': 'n', 'le': 0.035, 'se': 0.02},\n 'MKRUSDT': {'lm': 'n', 'sm': 'n', 'le': 0.035, 'se': 0.02},\n 'MTLUSDT': {'lm': 'n', 'sm': 'p', 'le': 0.035, 'se': 0.0},\n 'NEOUSDT': {'lm': 'n', 'sm': 'n', 'le': 0.035, 'se': 0.02},\n 'NKNUSDT': {'lm': 'n', 'sm': 'p', 'le': 0.035, 'se': 0.0},\n 'OCEANUSDT': {'lm': 'n', 'sm': 'p', 'le': 0.035, 'se': 0.0},\n 'OGNUSDT': {'lm': 'n', 'sm': 'p', 'le': 0.035, 'se': 0.0},\n 'OMGUSDT': {'lm': 'n', 'sm': 'p', 'le': 0.035, 'se': 0.0},\n 'ONEUSDT': {'lm': 'n', 'sm': 'p', 'le': 0.035, 'se': 0.0},\n 'ONTUSDT': {'lm': 'n', 'sm': 'p', 'le': 0.035, 'se': 0.0},\n 'QTUMUSDT': {'lm': 'n', 'sm': 'p', 'le': 0.035, 'se': 0.0},\n 'REEFUSDT': {'lm': 'n', 'sm': 'p', 'le': 0.035, 'se': 0.0},\n 'RENUSDT': {'lm': 'n', 'sm': 'p', 'le': 0.035, 'se': 0.0},\n 'RLCUSDT': {'lm': 'n', 'sm': 'n', 'le': 0.035, 'se': 0.02},\n 'ROSEUSDT': {'lm': 'n', 'sm': 'n', 'le': 0.035, 'se': 0.02},\n 'RSRUSDT': {'lm': 'n', 'sm': 'p', 'le': 0.03, 'se': 0.0},\n 'RVNUSDT': {'lm': 'n', 'sm': 'p', 'le': 0.035, 'se': 0.0},\n 'SCUSDT': {'lm': 'gs', 'sm': 'p', 'le': 0.035, 'se': 0.0},\n 'SFPUSDT': {'lm': 'n', 'sm': 'p', 'le': 0.035, 'se': 0.0},\n 'SNXUSDT': {'lm': 'n', 'sm': 'p', 'le': 0.035, 'se': 0.02},\n 'STMXUSDT': {'lm': 'n', 'sm': 'p', 'le': 0.035, 'se': 0.0},\n 'STORUSDT': {'lm': 'n', 'sm': 'p', 'le': 0.03, 'se': 0.0},\n 'SUSHIUSDT': {'lm': 'n', 'sm': 'p', 'le': 0.035, 'se': 0.0},\n 'SXPUSDT': {'lm': 'n', 'sm': 'p', 'le': 0.035, 'se': 0.0},\n 'THETAUSDT': {'lm': 'n', 'sm': 'p', 'le': 0.03, 'se': 0.0},\n 'TLMUSDT': {'lm': 'n', 'sm': 'p', 'le': 0.035, 'se': 0.0},\n 'TOMOUSDT': {'lm': 'n', 'sm': 'n', 'le': 0.035, 'se': 0.02},\n 'TRBUSDT': {'lm': 'n', 'sm': 'p', 'le': 0.035, 'se': 0.0},\n 'TRXUSDT': {'lm': 'n', 'sm': 'p', 'le': 0.03, 'se': 0.0},\n 'UNFIUSDT': {'lm': 'n', 'sm': 'p', 'le': 0.035, 'se': 0.0},\n 'VETUSDT': {'lm': 'n', 'sm': 'p', 'le': 0.035, 'se': 0.0},\n 'WAVESUSDT': {'lm': 'n', 'sm': 'p', 'le': 0.035, 'se': 0.0},\n 'XLMUSDT': {'lm': 'n', 'sm': 'n', 'le': 0.035, 'se': 0.02},\n 'XMRUSDT': {'lm': 'n', 'sm': 'n', 'le': 0.035, 'se': 0.02},\n 'XRPUSDT': {'lm': 'n', 'sm': 'p', 'le': 0.035, 'se': 0.0},\n 'XTZUSDT': {'lm': 'n', 'sm': 'p', 'le': 0.03, 'se': 0.0},\n 'ZECUSDT': {'lm': 'n', 'sm': 'p', 'le': 0.035, 'se': 0.0},\n 'ZENUSDT': {'lm': 'n', 'sm': 'p', 'le': 0.035, 'se': 0.0},\n 'ZILUSDT': {'lm': 'n', 'sm': 'p', 'le': 0.035, 'se': 0.0},\n 'ZRXUSDT': {'lm': 'n', 'sm': 'p', 'le': 0.035, 'se': 0.0}}"
     },
     "execution_count": 5,
     "metadata": {},
     "output_type": "execute_result"
    }
   ],
   "source": [
    "## get current config\n",
    "current_config = pd.read_csv('run_config.csv')\n",
    "\n",
    "config_data = {}\n",
    "for symbol in allowed_symbols:\n",
    "    c = current_config.loc[current_config['symbol'] == symbol.replace('USDT','')]\n",
    "    config_data[symbol]={\n",
    "        'lm':c['long_mode'].values[0],\n",
    "        'sm':c['short_mode'].values[0],\n",
    "        'le':c['long_exposure'].values[0],\n",
    "        'se':c['short_exposure'].values[0],\n",
    "    }\n",
    "config_data"
   ],
   "metadata": {
    "collapsed": false,
    "pycharm": {
     "name": "#%%\n"
    }
   }
  },
  {
   "cell_type": "code",
   "execution_count": 12,
   "metadata": {
    "pycharm": {
     "name": "#%%\n"
    }
   },
   "outputs": [
    {
     "data": {
      "text/plain": "                                 file    v   prod             s  long  tgl_%  \\\n0   \\1000SHIBUSDT\\backtest_result.txt  5.5   True  1000SHIBUSDT  True  90.63   \n1    \\1000XECUSDT\\backtest_result.txt  5.5  False   1000XECUSDT  True  43.36   \n2      \\1INCHUSDT\\backtest_result.txt  5.5  False     1INCHUSDT  True  71.61   \n3        \\ADAUSDT\\backtest_result.txt  5.5   True       ADAUSDT  True  26.33   \n4       \\AKROUSDT\\backtest_result.txt  5.5  False      AKROUSDT  True  63.61   \n..                                ...  ...    ...           ...   ...    ...   \n91       \\XTZUSDT\\backtest_result.txt  5.5  False       XTZUSDT  True  48.20   \n92       \\ZECUSDT\\backtest_result.txt  5.5   True       ZECUSDT  True  64.52   \n93       \\ZENUSDT\\backtest_result.txt  5.5  False       ZENUSDT  True  61.20   \n94       \\ZILUSDT\\backtest_result.txt  5.5  False       ZILUSDT  True  24.10   \n95       \\ZRXUSDT\\backtest_result.txt  5.5  False       ZRXUSDT  True  77.36   \n\n    adgl_%    pastdl    pamaxl  bnkrl_%  ...  bnkrs_%     ebrs       maxss  \\\n0   0.2460  0.065637  0.629854   100.00  ...    5.959  0.08869  180.079167   \n1   0.1830  0.064167  0.648708   100.00  ...  100.000  0.75270   39.361125   \n2   0.1980  0.059845  0.592445   100.00  ...   44.480  0.44830   33.708333   \n3   0.0809  0.051500  0.391366   100.00  ...   75.970  0.64290   39.211792   \n4   0.1680  0.095610  0.746314   100.00  ...   91.780  0.63320   28.277792   \n..     ...       ...       ...      ...  ...      ...      ...         ...   \n91  0.1510  0.080333  0.555208   100.00  ...   99.530  0.72280   38.434042   \n92  0.1770  0.074299  0.590802   100.00  ...   88.210  0.65640   36.830542   \n93  0.1830  0.107443  0.877769    95.61  ...   18.190  0.22950   49.320833   \n94  0.0730  0.077813  0.534668   100.00  ...    5.950  0.07147   33.434708   \n95  0.2200  0.068540  0.476605   100.00  ...  100.000  0.72480   27.460417   \n\n     vol               listed  notion  lm  sm     le    se  \n0   3817  2021-05-10 07:00:00     5.0   n   p  0.035  0.00  \n1   0027  2021-09-16 07:00:00     5.0   n   n  0.035  0.02  \n2   0039  2020-12-25 07:00:00     5.0   n   p  0.035  0.00  \n3   0512  2019-09-25 08:00:00     5.0   n   n  0.035  0.02  \n4   0014  2021-01-18 07:00:00     5.0   n   p  0.035  0.00  \n..   ...                  ...     ...  ..  ..    ...   ...  \n91  0078  2019-09-25 08:00:00     5.0   n   p  0.030  0.00  \n92  0095  2019-09-25 08:00:00     5.0   n   p  0.035  0.00  \n93  0019  2019-09-25 08:00:00     5.0   n   p  0.035  0.00  \n94  0577  2019-09-25 08:00:00     5.0   n   p  0.035  0.00  \n95  0033  2019-09-25 08:00:00     5.0   n   p  0.035  0.00  \n\n[96 rows x 27 columns]",
      "text/html": "<div>\n<style scoped>\n    .dataframe tbody tr th:only-of-type {\n        vertical-align: middle;\n    }\n\n    .dataframe tbody tr th {\n        vertical-align: top;\n    }\n\n    .dataframe thead th {\n        text-align: right;\n    }\n</style>\n<table border=\"1\" class=\"dataframe\">\n  <thead>\n    <tr style=\"text-align: right;\">\n      <th></th>\n      <th>file</th>\n      <th>v</th>\n      <th>prod</th>\n      <th>s</th>\n      <th>long</th>\n      <th>tgl_%</th>\n      <th>adgl_%</th>\n      <th>pastdl</th>\n      <th>pamaxl</th>\n      <th>bnkrl_%</th>\n      <th>...</th>\n      <th>bnkrs_%</th>\n      <th>ebrs</th>\n      <th>maxss</th>\n      <th>vol</th>\n      <th>listed</th>\n      <th>notion</th>\n      <th>lm</th>\n      <th>sm</th>\n      <th>le</th>\n      <th>se</th>\n    </tr>\n  </thead>\n  <tbody>\n    <tr>\n      <th>0</th>\n      <td>\\1000SHIBUSDT\\backtest_result.txt</td>\n      <td>5.5</td>\n      <td>True</td>\n      <td>1000SHIBUSDT</td>\n      <td>True</td>\n      <td>90.63</td>\n      <td>0.2460</td>\n      <td>0.065637</td>\n      <td>0.629854</td>\n      <td>100.00</td>\n      <td>...</td>\n      <td>5.959</td>\n      <td>0.08869</td>\n      <td>180.079167</td>\n      <td>3817</td>\n      <td>2021-05-10 07:00:00</td>\n      <td>5.0</td>\n      <td>n</td>\n      <td>p</td>\n      <td>0.035</td>\n      <td>0.00</td>\n    </tr>\n    <tr>\n      <th>1</th>\n      <td>\\1000XECUSDT\\backtest_result.txt</td>\n      <td>5.5</td>\n      <td>False</td>\n      <td>1000XECUSDT</td>\n      <td>True</td>\n      <td>43.36</td>\n      <td>0.1830</td>\n      <td>0.064167</td>\n      <td>0.648708</td>\n      <td>100.00</td>\n      <td>...</td>\n      <td>100.000</td>\n      <td>0.75270</td>\n      <td>39.361125</td>\n      <td>0027</td>\n      <td>2021-09-16 07:00:00</td>\n      <td>5.0</td>\n      <td>n</td>\n      <td>n</td>\n      <td>0.035</td>\n      <td>0.02</td>\n    </tr>\n    <tr>\n      <th>2</th>\n      <td>\\1INCHUSDT\\backtest_result.txt</td>\n      <td>5.5</td>\n      <td>False</td>\n      <td>1INCHUSDT</td>\n      <td>True</td>\n      <td>71.61</td>\n      <td>0.1980</td>\n      <td>0.059845</td>\n      <td>0.592445</td>\n      <td>100.00</td>\n      <td>...</td>\n      <td>44.480</td>\n      <td>0.44830</td>\n      <td>33.708333</td>\n      <td>0039</td>\n      <td>2020-12-25 07:00:00</td>\n      <td>5.0</td>\n      <td>n</td>\n      <td>p</td>\n      <td>0.035</td>\n      <td>0.00</td>\n    </tr>\n    <tr>\n      <th>3</th>\n      <td>\\ADAUSDT\\backtest_result.txt</td>\n      <td>5.5</td>\n      <td>True</td>\n      <td>ADAUSDT</td>\n      <td>True</td>\n      <td>26.33</td>\n      <td>0.0809</td>\n      <td>0.051500</td>\n      <td>0.391366</td>\n      <td>100.00</td>\n      <td>...</td>\n      <td>75.970</td>\n      <td>0.64290</td>\n      <td>39.211792</td>\n      <td>0512</td>\n      <td>2019-09-25 08:00:00</td>\n      <td>5.0</td>\n      <td>n</td>\n      <td>n</td>\n      <td>0.035</td>\n      <td>0.02</td>\n    </tr>\n    <tr>\n      <th>4</th>\n      <td>\\AKROUSDT\\backtest_result.txt</td>\n      <td>5.5</td>\n      <td>False</td>\n      <td>AKROUSDT</td>\n      <td>True</td>\n      <td>63.61</td>\n      <td>0.1680</td>\n      <td>0.095610</td>\n      <td>0.746314</td>\n      <td>100.00</td>\n      <td>...</td>\n      <td>91.780</td>\n      <td>0.63320</td>\n      <td>28.277792</td>\n      <td>0014</td>\n      <td>2021-01-18 07:00:00</td>\n      <td>5.0</td>\n      <td>n</td>\n      <td>p</td>\n      <td>0.035</td>\n      <td>0.00</td>\n    </tr>\n    <tr>\n      <th>...</th>\n      <td>...</td>\n      <td>...</td>\n      <td>...</td>\n      <td>...</td>\n      <td>...</td>\n      <td>...</td>\n      <td>...</td>\n      <td>...</td>\n      <td>...</td>\n      <td>...</td>\n      <td>...</td>\n      <td>...</td>\n      <td>...</td>\n      <td>...</td>\n      <td>...</td>\n      <td>...</td>\n      <td>...</td>\n      <td>...</td>\n      <td>...</td>\n      <td>...</td>\n      <td>...</td>\n    </tr>\n    <tr>\n      <th>91</th>\n      <td>\\XTZUSDT\\backtest_result.txt</td>\n      <td>5.5</td>\n      <td>False</td>\n      <td>XTZUSDT</td>\n      <td>True</td>\n      <td>48.20</td>\n      <td>0.1510</td>\n      <td>0.080333</td>\n      <td>0.555208</td>\n      <td>100.00</td>\n      <td>...</td>\n      <td>99.530</td>\n      <td>0.72280</td>\n      <td>38.434042</td>\n      <td>0078</td>\n      <td>2019-09-25 08:00:00</td>\n      <td>5.0</td>\n      <td>n</td>\n      <td>p</td>\n      <td>0.030</td>\n      <td>0.00</td>\n    </tr>\n    <tr>\n      <th>92</th>\n      <td>\\ZECUSDT\\backtest_result.txt</td>\n      <td>5.5</td>\n      <td>True</td>\n      <td>ZECUSDT</td>\n      <td>True</td>\n      <td>64.52</td>\n      <td>0.1770</td>\n      <td>0.074299</td>\n      <td>0.590802</td>\n      <td>100.00</td>\n      <td>...</td>\n      <td>88.210</td>\n      <td>0.65640</td>\n      <td>36.830542</td>\n      <td>0095</td>\n      <td>2019-09-25 08:00:00</td>\n      <td>5.0</td>\n      <td>n</td>\n      <td>p</td>\n      <td>0.035</td>\n      <td>0.00</td>\n    </tr>\n    <tr>\n      <th>93</th>\n      <td>\\ZENUSDT\\backtest_result.txt</td>\n      <td>5.5</td>\n      <td>False</td>\n      <td>ZENUSDT</td>\n      <td>True</td>\n      <td>61.20</td>\n      <td>0.1830</td>\n      <td>0.107443</td>\n      <td>0.877769</td>\n      <td>95.61</td>\n      <td>...</td>\n      <td>18.190</td>\n      <td>0.22950</td>\n      <td>49.320833</td>\n      <td>0019</td>\n      <td>2019-09-25 08:00:00</td>\n      <td>5.0</td>\n      <td>n</td>\n      <td>p</td>\n      <td>0.035</td>\n      <td>0.00</td>\n    </tr>\n    <tr>\n      <th>94</th>\n      <td>\\ZILUSDT\\backtest_result.txt</td>\n      <td>5.5</td>\n      <td>False</td>\n      <td>ZILUSDT</td>\n      <td>True</td>\n      <td>24.10</td>\n      <td>0.0730</td>\n      <td>0.077813</td>\n      <td>0.534668</td>\n      <td>100.00</td>\n      <td>...</td>\n      <td>5.950</td>\n      <td>0.07147</td>\n      <td>33.434708</td>\n      <td>0577</td>\n      <td>2019-09-25 08:00:00</td>\n      <td>5.0</td>\n      <td>n</td>\n      <td>p</td>\n      <td>0.035</td>\n      <td>0.00</td>\n    </tr>\n    <tr>\n      <th>95</th>\n      <td>\\ZRXUSDT\\backtest_result.txt</td>\n      <td>5.5</td>\n      <td>False</td>\n      <td>ZRXUSDT</td>\n      <td>True</td>\n      <td>77.36</td>\n      <td>0.2200</td>\n      <td>0.068540</td>\n      <td>0.476605</td>\n      <td>100.00</td>\n      <td>...</td>\n      <td>100.000</td>\n      <td>0.72480</td>\n      <td>27.460417</td>\n      <td>0033</td>\n      <td>2019-09-25 08:00:00</td>\n      <td>5.0</td>\n      <td>n</td>\n      <td>p</td>\n      <td>0.035</td>\n      <td>0.00</td>\n    </tr>\n  </tbody>\n</table>\n<p>96 rows × 27 columns</p>\n</div>"
     },
     "execution_count": 12,
     "metadata": {},
     "output_type": "execute_result"
    }
   ],
   "source": [
    "import warnings\n",
    "\n",
    "warnings.filterwarnings(\"ignore\")\n",
    "\n",
    "big_data = pd.DataFrame()\n",
    "files = glob.iglob('backtests/binance_production/' + '**/backtest_result.txt', recursive=True)\n",
    "i = 0\n",
    "#print(symbol_notional_volume)\n",
    "for filename in files:\n",
    "    #print(f'parsing : {filename}')\n",
    "    with open(filename, 'r') as file:\n",
    "        data = file.read().split('\\n')\n",
    "        d = {'file': filename.replace('backtests/binance_production', '')}\n",
    "        current_state = 'long'\n",
    "        for l in data:\n",
    "            l = l.split('|')\n",
    "            if len(l) == 4:\n",
    "                key = l[1].strip()\n",
    "                value = l[2].strip()\n",
    "\n",
    "                if key == 'Passivbot Version':\n",
    "                    d['v'] = value\n",
    "                if key == 'Symbol':\n",
    "                    d['s'] = value\n",
    "                if key == 'Production Config':\n",
    "                    d['prod'] = value\n",
    "\n",
    "                if key == 'Long':\n",
    "                    current_state = 'long'\n",
    "                    d['long'] = bool(value) or False\n",
    "                if key == 'Short':\n",
    "                    current_state = 'short'\n",
    "                    d['short'] = bool(value) or False\n",
    "\n",
    "                if key == 'Total gain' and current_state == 'long':\n",
    "                    d['tgl_%'] = float(value.replace('%', '').strip())\n",
    "                if key == 'Average daily gain' and current_state == 'long':\n",
    "                    d['adgl_%'] = float(value.replace('%', '').strip())\n",
    "                if key == 'Closest bankruptcy' and current_state == 'long':\n",
    "                    d['bnkrl_%'] = float(value.replace('%', '').strip())\n",
    "                if key == 'Lowest equity/balance ratio' and current_state == 'long':\n",
    "                    d['ebrl'] = float(value.replace('%', '').strip())\n",
    "                if key == 'Max hours stuck' and current_state == 'long':\n",
    "                    d['maxsl'] = float(value.replace('%', '').strip()) / 24\n",
    "                if key == 'Price action distance max' and current_state == 'long':\n",
    "                    d['pamaxl'] = float(value.replace('%', '').strip())\n",
    "                if key == 'Price action distance std' and current_state == 'long':\n",
    "                    d['pastdl'] = float(value.strip())\n",
    "\n",
    "                if key == 'Total gain' and current_state == 'short':\n",
    "                    d['tgs_%'] = float(value.replace('%', '').strip())\n",
    "                if key == 'Average daily gain' and current_state == 'short':\n",
    "                    d['adgs_%'] = float(value.replace('%', '').strip())\n",
    "                if key == 'Closest bankruptcy' and current_state == 'short':\n",
    "                    d['bnkrs_%'] = float(value.replace('%', '').strip())\n",
    "                if key == 'Lowest equity/balance ratio' and current_state == 'short':\n",
    "                    d['ebrs'] = float(value.replace('%', '').strip())\n",
    "                if key == 'Max hours stuck' and current_state == 'short':\n",
    "                    d['maxss'] = float(value.replace('%', '').strip()) / 24\n",
    "                if key == 'Price action distance max' and current_state == 'short':\n",
    "                    d['pamaxs'] = float(value.replace('%', '').strip())\n",
    "                if key == 'Price action distance std' and current_state == 'short':\n",
    "                    d['pastds'] = float(value.strip())\n",
    "\n",
    "        # # symbol_notional_volume[symbol] = {\n",
    "        # #     \"vol\":volm,\n",
    "        # #     \"listed\":listed_on,\n",
    "        # #     \"notion\":min_notional\n",
    "        # # }\n",
    "        symbol = d['s']\n",
    "        d['vol'] = symbol_notional_volume[symbol]['vol']\n",
    "        d['listed'] = symbol_notional_volume[symbol]['listed']\n",
    "        d['notion'] = symbol_notional_volume[symbol]['notion']\n",
    "        # # config_data[symbol]={\n",
    "        # #     'lm':c['long_mode'].values[0],\n",
    "        # #     'sm':c['short_mode'].values[0],\n",
    "        # #     'le':c['long_exposure'].values[0],\n",
    "        # #     'se':c['short_exposure'].values[0],\n",
    "        # # }\n",
    "        d['lm'] = config_data[symbol]['lm']\n",
    "        d['sm'] = config_data[symbol]['sm']\n",
    "        d['le'] = config_data[symbol]['le']\n",
    "        d['se'] = config_data[symbol]['se']\n",
    "        # print(d)\n",
    "        big_data = big_data.append(d, ignore_index=True)\n",
    "\n",
    "big_data"
   ]
  },
  {
   "cell_type": "markdown",
   "metadata": {},
   "source": [
    "Now filter the dataframe"
   ]
  },
  {
   "cell_type": "code",
   "execution_count": null,
   "outputs": [],
   "source": [],
   "metadata": {
    "collapsed": false,
    "pycharm": {
     "name": "#%%\n"
    }
   }
  },
  {
   "cell_type": "code",
   "execution_count": 14,
   "metadata": {
    "pycharm": {
     "name": "#%%\n"
    }
   },
   "outputs": [
    {
     "data": {
      "text/plain": "                                 file    v   prod             s  long  tgl_%  \\\n0   \\1000SHIBUSDT\\backtest_result.txt  5.5   True  1000SHIBUSDT  True  90.63   \n1    \\1000XECUSDT\\backtest_result.txt  5.5  False   1000XECUSDT  True  43.36   \n2      \\1INCHUSDT\\backtest_result.txt  5.5  False     1INCHUSDT  True  71.61   \n3        \\ADAUSDT\\backtest_result.txt  5.5   True       ADAUSDT  True  26.33   \n4       \\AKROUSDT\\backtest_result.txt  5.5  False      AKROUSDT  True  63.61   \n..                                ...  ...    ...           ...   ...    ...   \n91       \\XTZUSDT\\backtest_result.txt  5.5  False       XTZUSDT  True  48.20   \n92       \\ZECUSDT\\backtest_result.txt  5.5   True       ZECUSDT  True  64.52   \n93       \\ZENUSDT\\backtest_result.txt  5.5  False       ZENUSDT  True  61.20   \n94       \\ZILUSDT\\backtest_result.txt  5.5  False       ZILUSDT  True  24.10   \n95       \\ZRXUSDT\\backtest_result.txt  5.5  False       ZRXUSDT  True  77.36   \n\n    adgl_%    pastdl    pamaxl  bnkrl_%  ...     ebrs       maxss   vol  \\\n0   0.2460  0.065637  0.629854   100.00  ...  0.08869  180.079167  3817   \n1   0.1830  0.064167  0.648708   100.00  ...  0.75270   39.361125  0027   \n2   0.1980  0.059845  0.592445   100.00  ...  0.44830   33.708333  0039   \n3   0.0809  0.051500  0.391366   100.00  ...  0.64290   39.211792  0512   \n4   0.1680  0.095610  0.746314   100.00  ...  0.63320   28.277792  0014   \n..     ...       ...       ...      ...  ...      ...         ...   ...   \n91  0.1510  0.080333  0.555208   100.00  ...  0.72280   38.434042  0078   \n92  0.1770  0.074299  0.590802   100.00  ...  0.65640   36.830542  0095   \n93  0.1830  0.107443  0.877769    95.61  ...  0.22950   49.320833  0019   \n94  0.0730  0.077813  0.534668   100.00  ...  0.07147   33.434708  0577   \n95  0.2200  0.068540  0.476605   100.00  ...  0.72480   27.460417  0033   \n\n                 listed  notion  lm  sm     le    se   adgt_%  \n0   2021-05-10 07:00:00     5.0   n   p  0.035  0.00 -1.39400  \n1   2021-09-16 07:00:00     5.0   n   n  0.035  0.02  0.35900  \n2   2020-12-25 07:00:00     5.0   n   p  0.035  0.00  0.37300  \n3   2019-09-25 08:00:00     5.0   n   n  0.035  0.02  0.17700  \n4   2021-01-18 07:00:00     5.0   n   p  0.035  0.00  0.19900  \n..                  ...     ...  ..  ..    ...   ...      ...  \n91  2019-09-25 08:00:00     5.0   n   p  0.030  0.00  0.18140  \n92  2019-09-25 08:00:00     5.0   n   p  0.035  0.00  0.18238  \n93  2019-09-25 08:00:00     5.0   n   p  0.035  0.00  0.51300  \n94  2019-09-25 08:00:00     5.0   n   p  0.035  0.00 -1.56700  \n95  2019-09-25 08:00:00     5.0   n   p  0.035  0.00  0.22280  \n\n[96 rows x 28 columns]",
      "text/html": "<div>\n<style scoped>\n    .dataframe tbody tr th:only-of-type {\n        vertical-align: middle;\n    }\n\n    .dataframe tbody tr th {\n        vertical-align: top;\n    }\n\n    .dataframe thead th {\n        text-align: right;\n    }\n</style>\n<table border=\"1\" class=\"dataframe\">\n  <thead>\n    <tr style=\"text-align: right;\">\n      <th></th>\n      <th>file</th>\n      <th>v</th>\n      <th>prod</th>\n      <th>s</th>\n      <th>long</th>\n      <th>tgl_%</th>\n      <th>adgl_%</th>\n      <th>pastdl</th>\n      <th>pamaxl</th>\n      <th>bnkrl_%</th>\n      <th>...</th>\n      <th>ebrs</th>\n      <th>maxss</th>\n      <th>vol</th>\n      <th>listed</th>\n      <th>notion</th>\n      <th>lm</th>\n      <th>sm</th>\n      <th>le</th>\n      <th>se</th>\n      <th>adgt_%</th>\n    </tr>\n  </thead>\n  <tbody>\n    <tr>\n      <th>0</th>\n      <td>\\1000SHIBUSDT\\backtest_result.txt</td>\n      <td>5.5</td>\n      <td>True</td>\n      <td>1000SHIBUSDT</td>\n      <td>True</td>\n      <td>90.63</td>\n      <td>0.2460</td>\n      <td>0.065637</td>\n      <td>0.629854</td>\n      <td>100.00</td>\n      <td>...</td>\n      <td>0.08869</td>\n      <td>180.079167</td>\n      <td>3817</td>\n      <td>2021-05-10 07:00:00</td>\n      <td>5.0</td>\n      <td>n</td>\n      <td>p</td>\n      <td>0.035</td>\n      <td>0.00</td>\n      <td>-1.39400</td>\n    </tr>\n    <tr>\n      <th>1</th>\n      <td>\\1000XECUSDT\\backtest_result.txt</td>\n      <td>5.5</td>\n      <td>False</td>\n      <td>1000XECUSDT</td>\n      <td>True</td>\n      <td>43.36</td>\n      <td>0.1830</td>\n      <td>0.064167</td>\n      <td>0.648708</td>\n      <td>100.00</td>\n      <td>...</td>\n      <td>0.75270</td>\n      <td>39.361125</td>\n      <td>0027</td>\n      <td>2021-09-16 07:00:00</td>\n      <td>5.0</td>\n      <td>n</td>\n      <td>n</td>\n      <td>0.035</td>\n      <td>0.02</td>\n      <td>0.35900</td>\n    </tr>\n    <tr>\n      <th>2</th>\n      <td>\\1INCHUSDT\\backtest_result.txt</td>\n      <td>5.5</td>\n      <td>False</td>\n      <td>1INCHUSDT</td>\n      <td>True</td>\n      <td>71.61</td>\n      <td>0.1980</td>\n      <td>0.059845</td>\n      <td>0.592445</td>\n      <td>100.00</td>\n      <td>...</td>\n      <td>0.44830</td>\n      <td>33.708333</td>\n      <td>0039</td>\n      <td>2020-12-25 07:00:00</td>\n      <td>5.0</td>\n      <td>n</td>\n      <td>p</td>\n      <td>0.035</td>\n      <td>0.00</td>\n      <td>0.37300</td>\n    </tr>\n    <tr>\n      <th>3</th>\n      <td>\\ADAUSDT\\backtest_result.txt</td>\n      <td>5.5</td>\n      <td>True</td>\n      <td>ADAUSDT</td>\n      <td>True</td>\n      <td>26.33</td>\n      <td>0.0809</td>\n      <td>0.051500</td>\n      <td>0.391366</td>\n      <td>100.00</td>\n      <td>...</td>\n      <td>0.64290</td>\n      <td>39.211792</td>\n      <td>0512</td>\n      <td>2019-09-25 08:00:00</td>\n      <td>5.0</td>\n      <td>n</td>\n      <td>n</td>\n      <td>0.035</td>\n      <td>0.02</td>\n      <td>0.17700</td>\n    </tr>\n    <tr>\n      <th>4</th>\n      <td>\\AKROUSDT\\backtest_result.txt</td>\n      <td>5.5</td>\n      <td>False</td>\n      <td>AKROUSDT</td>\n      <td>True</td>\n      <td>63.61</td>\n      <td>0.1680</td>\n      <td>0.095610</td>\n      <td>0.746314</td>\n      <td>100.00</td>\n      <td>...</td>\n      <td>0.63320</td>\n      <td>28.277792</td>\n      <td>0014</td>\n      <td>2021-01-18 07:00:00</td>\n      <td>5.0</td>\n      <td>n</td>\n      <td>p</td>\n      <td>0.035</td>\n      <td>0.00</td>\n      <td>0.19900</td>\n    </tr>\n    <tr>\n      <th>...</th>\n      <td>...</td>\n      <td>...</td>\n      <td>...</td>\n      <td>...</td>\n      <td>...</td>\n      <td>...</td>\n      <td>...</td>\n      <td>...</td>\n      <td>...</td>\n      <td>...</td>\n      <td>...</td>\n      <td>...</td>\n      <td>...</td>\n      <td>...</td>\n      <td>...</td>\n      <td>...</td>\n      <td>...</td>\n      <td>...</td>\n      <td>...</td>\n      <td>...</td>\n      <td>...</td>\n    </tr>\n    <tr>\n      <th>91</th>\n      <td>\\XTZUSDT\\backtest_result.txt</td>\n      <td>5.5</td>\n      <td>False</td>\n      <td>XTZUSDT</td>\n      <td>True</td>\n      <td>48.20</td>\n      <td>0.1510</td>\n      <td>0.080333</td>\n      <td>0.555208</td>\n      <td>100.00</td>\n      <td>...</td>\n      <td>0.72280</td>\n      <td>38.434042</td>\n      <td>0078</td>\n      <td>2019-09-25 08:00:00</td>\n      <td>5.0</td>\n      <td>n</td>\n      <td>p</td>\n      <td>0.030</td>\n      <td>0.00</td>\n      <td>0.18140</td>\n    </tr>\n    <tr>\n      <th>92</th>\n      <td>\\ZECUSDT\\backtest_result.txt</td>\n      <td>5.5</td>\n      <td>True</td>\n      <td>ZECUSDT</td>\n      <td>True</td>\n      <td>64.52</td>\n      <td>0.1770</td>\n      <td>0.074299</td>\n      <td>0.590802</td>\n      <td>100.00</td>\n      <td>...</td>\n      <td>0.65640</td>\n      <td>36.830542</td>\n      <td>0095</td>\n      <td>2019-09-25 08:00:00</td>\n      <td>5.0</td>\n      <td>n</td>\n      <td>p</td>\n      <td>0.035</td>\n      <td>0.00</td>\n      <td>0.18238</td>\n    </tr>\n    <tr>\n      <th>93</th>\n      <td>\\ZENUSDT\\backtest_result.txt</td>\n      <td>5.5</td>\n      <td>False</td>\n      <td>ZENUSDT</td>\n      <td>True</td>\n      <td>61.20</td>\n      <td>0.1830</td>\n      <td>0.107443</td>\n      <td>0.877769</td>\n      <td>95.61</td>\n      <td>...</td>\n      <td>0.22950</td>\n      <td>49.320833</td>\n      <td>0019</td>\n      <td>2019-09-25 08:00:00</td>\n      <td>5.0</td>\n      <td>n</td>\n      <td>p</td>\n      <td>0.035</td>\n      <td>0.00</td>\n      <td>0.51300</td>\n    </tr>\n    <tr>\n      <th>94</th>\n      <td>\\ZILUSDT\\backtest_result.txt</td>\n      <td>5.5</td>\n      <td>False</td>\n      <td>ZILUSDT</td>\n      <td>True</td>\n      <td>24.10</td>\n      <td>0.0730</td>\n      <td>0.077813</td>\n      <td>0.534668</td>\n      <td>100.00</td>\n      <td>...</td>\n      <td>0.07147</td>\n      <td>33.434708</td>\n      <td>0577</td>\n      <td>2019-09-25 08:00:00</td>\n      <td>5.0</td>\n      <td>n</td>\n      <td>p</td>\n      <td>0.035</td>\n      <td>0.00</td>\n      <td>-1.56700</td>\n    </tr>\n    <tr>\n      <th>95</th>\n      <td>\\ZRXUSDT\\backtest_result.txt</td>\n      <td>5.5</td>\n      <td>False</td>\n      <td>ZRXUSDT</td>\n      <td>True</td>\n      <td>77.36</td>\n      <td>0.2200</td>\n      <td>0.068540</td>\n      <td>0.476605</td>\n      <td>100.00</td>\n      <td>...</td>\n      <td>0.72480</td>\n      <td>27.460417</td>\n      <td>0033</td>\n      <td>2019-09-25 08:00:00</td>\n      <td>5.0</td>\n      <td>n</td>\n      <td>p</td>\n      <td>0.035</td>\n      <td>0.00</td>\n      <td>0.22280</td>\n    </tr>\n  </tbody>\n</table>\n<p>96 rows × 28 columns</p>\n</div>"
     },
     "execution_count": 14,
     "metadata": {},
     "output_type": "execute_result"
    }
   ],
   "source": [
    "#big_data['adgt_%'] = big_data['adgl_%'] + big_data['adgs_%'] if\n",
    "df = big_data[(big_data.s.isin(allowed_symbols)) ]\n",
    "df"
   ]
  },
  {
   "cell_type": "code",
   "execution_count": 16,
   "metadata": {
    "pycharm": {
     "name": "#%%\n"
    }
   },
   "outputs": [
    {
     "data": {
      "text/plain": "               s lm sm  notion     le    se   vol  adgl_%   adgs_%  bnkrl_%  \\\n0   1000SHIBUSDT  n  p     5.0  0.035  0.00  3817  0.2460 -1.64000   100.00   \n1    1000XECUSDT  n  n     5.0  0.035  0.02  0027  0.1830  0.17600   100.00   \n2      1INCHUSDT  n  p     5.0  0.035  0.00  0039  0.1980  0.17500   100.00   \n3        ADAUSDT  n  n     5.0  0.035  0.02  0512  0.0809  0.09610   100.00   \n4       AKROUSDT  n  p     5.0  0.035  0.00  0014  0.1680  0.03100   100.00   \n..           ... .. ..     ...    ...   ...   ...     ...      ...      ...   \n91       XTZUSDT  n  p     5.0  0.030  0.00  0078  0.1510  0.03040   100.00   \n92       ZECUSDT  n  p     5.0  0.035  0.00  0095  0.1770  0.00538   100.00   \n93       ZENUSDT  n  p     5.0  0.035  0.00  0019  0.1830  0.33000    95.61   \n94       ZILUSDT  n  p     5.0  0.035  0.00  0577  0.0730 -1.64000   100.00   \n95       ZRXUSDT  n  p     5.0  0.035  0.00  0033  0.2200  0.00280   100.00   \n\n    bnkrs_%    ebrl     ebrs      maxsl    pamaxl    pastdl       maxss  \\\n0     5.959  0.7673  0.08869  12.442375  0.629854  0.065637  180.079167   \n1   100.000  0.7694  0.75270  10.770125  0.648708  0.064167   39.361125   \n2    44.480  0.7476  0.44830   7.603458  0.592445  0.059845   33.708333   \n3    75.970  0.8072  0.64290   6.515292  0.391366  0.051500   39.211792   \n4    91.780  0.9070  0.63320   9.093750  0.746314  0.095610   28.277792   \n..      ...     ...      ...        ...       ...       ...         ...   \n91   99.530  0.8182  0.72280  16.641667  0.555208  0.080333   38.434042   \n92   88.210  0.8301  0.65640  15.332625  0.590802  0.074299   36.830542   \n93   18.190  0.7091  0.22950  11.806250  0.877769  0.107443   49.320833   \n94    5.950  0.7921  0.07147  13.360417  0.534668  0.077813   33.434708   \n95  100.000  0.8306  0.72480  22.183333  0.476605  0.068540   27.460417   \n\n      pamaxs    pastds  \n0   0.747041  0.124514  \n1   0.541715  0.086314  \n2   0.620962  0.125995  \n3   0.519449  0.101922  \n4   0.536115  0.115026  \n..       ...       ...  \n91  0.427126  0.107084  \n92  0.492966  0.138920  \n93  0.613587  0.140844  \n94  0.780698  0.125380  \n95  0.483188  0.116310  \n\n[96 rows x 19 columns]",
      "text/html": "<div>\n<style scoped>\n    .dataframe tbody tr th:only-of-type {\n        vertical-align: middle;\n    }\n\n    .dataframe tbody tr th {\n        vertical-align: top;\n    }\n\n    .dataframe thead th {\n        text-align: right;\n    }\n</style>\n<table border=\"1\" class=\"dataframe\">\n  <thead>\n    <tr style=\"text-align: right;\">\n      <th></th>\n      <th>s</th>\n      <th>lm</th>\n      <th>sm</th>\n      <th>notion</th>\n      <th>le</th>\n      <th>se</th>\n      <th>vol</th>\n      <th>adgl_%</th>\n      <th>adgs_%</th>\n      <th>bnkrl_%</th>\n      <th>bnkrs_%</th>\n      <th>ebrl</th>\n      <th>ebrs</th>\n      <th>maxsl</th>\n      <th>pamaxl</th>\n      <th>pastdl</th>\n      <th>maxss</th>\n      <th>pamaxs</th>\n      <th>pastds</th>\n    </tr>\n  </thead>\n  <tbody>\n    <tr>\n      <th>0</th>\n      <td>1000SHIBUSDT</td>\n      <td>n</td>\n      <td>p</td>\n      <td>5.0</td>\n      <td>0.035</td>\n      <td>0.00</td>\n      <td>3817</td>\n      <td>0.2460</td>\n      <td>-1.64000</td>\n      <td>100.00</td>\n      <td>5.959</td>\n      <td>0.7673</td>\n      <td>0.08869</td>\n      <td>12.442375</td>\n      <td>0.629854</td>\n      <td>0.065637</td>\n      <td>180.079167</td>\n      <td>0.747041</td>\n      <td>0.124514</td>\n    </tr>\n    <tr>\n      <th>1</th>\n      <td>1000XECUSDT</td>\n      <td>n</td>\n      <td>n</td>\n      <td>5.0</td>\n      <td>0.035</td>\n      <td>0.02</td>\n      <td>0027</td>\n      <td>0.1830</td>\n      <td>0.17600</td>\n      <td>100.00</td>\n      <td>100.000</td>\n      <td>0.7694</td>\n      <td>0.75270</td>\n      <td>10.770125</td>\n      <td>0.648708</td>\n      <td>0.064167</td>\n      <td>39.361125</td>\n      <td>0.541715</td>\n      <td>0.086314</td>\n    </tr>\n    <tr>\n      <th>2</th>\n      <td>1INCHUSDT</td>\n      <td>n</td>\n      <td>p</td>\n      <td>5.0</td>\n      <td>0.035</td>\n      <td>0.00</td>\n      <td>0039</td>\n      <td>0.1980</td>\n      <td>0.17500</td>\n      <td>100.00</td>\n      <td>44.480</td>\n      <td>0.7476</td>\n      <td>0.44830</td>\n      <td>7.603458</td>\n      <td>0.592445</td>\n      <td>0.059845</td>\n      <td>33.708333</td>\n      <td>0.620962</td>\n      <td>0.125995</td>\n    </tr>\n    <tr>\n      <th>3</th>\n      <td>ADAUSDT</td>\n      <td>n</td>\n      <td>n</td>\n      <td>5.0</td>\n      <td>0.035</td>\n      <td>0.02</td>\n      <td>0512</td>\n      <td>0.0809</td>\n      <td>0.09610</td>\n      <td>100.00</td>\n      <td>75.970</td>\n      <td>0.8072</td>\n      <td>0.64290</td>\n      <td>6.515292</td>\n      <td>0.391366</td>\n      <td>0.051500</td>\n      <td>39.211792</td>\n      <td>0.519449</td>\n      <td>0.101922</td>\n    </tr>\n    <tr>\n      <th>4</th>\n      <td>AKROUSDT</td>\n      <td>n</td>\n      <td>p</td>\n      <td>5.0</td>\n      <td>0.035</td>\n      <td>0.00</td>\n      <td>0014</td>\n      <td>0.1680</td>\n      <td>0.03100</td>\n      <td>100.00</td>\n      <td>91.780</td>\n      <td>0.9070</td>\n      <td>0.63320</td>\n      <td>9.093750</td>\n      <td>0.746314</td>\n      <td>0.095610</td>\n      <td>28.277792</td>\n      <td>0.536115</td>\n      <td>0.115026</td>\n    </tr>\n    <tr>\n      <th>...</th>\n      <td>...</td>\n      <td>...</td>\n      <td>...</td>\n      <td>...</td>\n      <td>...</td>\n      <td>...</td>\n      <td>...</td>\n      <td>...</td>\n      <td>...</td>\n      <td>...</td>\n      <td>...</td>\n      <td>...</td>\n      <td>...</td>\n      <td>...</td>\n      <td>...</td>\n      <td>...</td>\n      <td>...</td>\n      <td>...</td>\n      <td>...</td>\n    </tr>\n    <tr>\n      <th>91</th>\n      <td>XTZUSDT</td>\n      <td>n</td>\n      <td>p</td>\n      <td>5.0</td>\n      <td>0.030</td>\n      <td>0.00</td>\n      <td>0078</td>\n      <td>0.1510</td>\n      <td>0.03040</td>\n      <td>100.00</td>\n      <td>99.530</td>\n      <td>0.8182</td>\n      <td>0.72280</td>\n      <td>16.641667</td>\n      <td>0.555208</td>\n      <td>0.080333</td>\n      <td>38.434042</td>\n      <td>0.427126</td>\n      <td>0.107084</td>\n    </tr>\n    <tr>\n      <th>92</th>\n      <td>ZECUSDT</td>\n      <td>n</td>\n      <td>p</td>\n      <td>5.0</td>\n      <td>0.035</td>\n      <td>0.00</td>\n      <td>0095</td>\n      <td>0.1770</td>\n      <td>0.00538</td>\n      <td>100.00</td>\n      <td>88.210</td>\n      <td>0.8301</td>\n      <td>0.65640</td>\n      <td>15.332625</td>\n      <td>0.590802</td>\n      <td>0.074299</td>\n      <td>36.830542</td>\n      <td>0.492966</td>\n      <td>0.138920</td>\n    </tr>\n    <tr>\n      <th>93</th>\n      <td>ZENUSDT</td>\n      <td>n</td>\n      <td>p</td>\n      <td>5.0</td>\n      <td>0.035</td>\n      <td>0.00</td>\n      <td>0019</td>\n      <td>0.1830</td>\n      <td>0.33000</td>\n      <td>95.61</td>\n      <td>18.190</td>\n      <td>0.7091</td>\n      <td>0.22950</td>\n      <td>11.806250</td>\n      <td>0.877769</td>\n      <td>0.107443</td>\n      <td>49.320833</td>\n      <td>0.613587</td>\n      <td>0.140844</td>\n    </tr>\n    <tr>\n      <th>94</th>\n      <td>ZILUSDT</td>\n      <td>n</td>\n      <td>p</td>\n      <td>5.0</td>\n      <td>0.035</td>\n      <td>0.00</td>\n      <td>0577</td>\n      <td>0.0730</td>\n      <td>-1.64000</td>\n      <td>100.00</td>\n      <td>5.950</td>\n      <td>0.7921</td>\n      <td>0.07147</td>\n      <td>13.360417</td>\n      <td>0.534668</td>\n      <td>0.077813</td>\n      <td>33.434708</td>\n      <td>0.780698</td>\n      <td>0.125380</td>\n    </tr>\n    <tr>\n      <th>95</th>\n      <td>ZRXUSDT</td>\n      <td>n</td>\n      <td>p</td>\n      <td>5.0</td>\n      <td>0.035</td>\n      <td>0.00</td>\n      <td>0033</td>\n      <td>0.2200</td>\n      <td>0.00280</td>\n      <td>100.00</td>\n      <td>100.000</td>\n      <td>0.8306</td>\n      <td>0.72480</td>\n      <td>22.183333</td>\n      <td>0.476605</td>\n      <td>0.068540</td>\n      <td>27.460417</td>\n      <td>0.483188</td>\n      <td>0.116310</td>\n    </tr>\n  </tbody>\n</table>\n<p>96 rows × 19 columns</p>\n</div>"
     },
     "execution_count": 16,
     "metadata": {},
     "output_type": "execute_result"
    }
   ],
   "source": [
    "# df.drop_duplicates(\n",
    "#     subset=['s', 'prod', 'tgl_%', 'tgs_%', 'adgl_%', 'adgs_%', 'adgt_%', 'bnkrl_%', 'bnkrs_%', 'ebrl', 'ebrs', 'long',\n",
    "#             'short'], keep='first',\n",
    "#     inplace=True)\n",
    "dx = df[['s','lm','sm','notion','le','se','vol', 'adgl_%', 'adgs_%', 'bnkrl_%', 'bnkrs_%', 'ebrl', 'ebrs', 'maxsl', 'pamaxl','pastdl',\n",
    "         'maxss', 'pamaxs','pastds' ]]\n",
    "dx"
   ]
  },
  {
   "cell_type": "code",
   "execution_count": 17,
   "outputs": [
    {
     "data": {
      "text/plain": "              s lm sm  notion     le    se   vol  adgl_%  adgs_%  bnkrl_%  \\\n1   1000XECUSDT  n  n     5.0  0.035  0.02  0027  0.1830  0.1760    100.0   \n3       ADAUSDT  n  n     5.0  0.035  0.02  0512  0.0809  0.0961    100.0   \n5      ALGOUSDT  n  n     5.0  0.035  0.02  0078  0.1860  0.1400    100.0   \n8       ANCUSDT  n  n     5.0  0.030  0.02  0045  0.1140  0.6780    100.0   \n9      ANKRUSDT  n  n     5.0  0.035  0.02  0175  0.1690  0.0184    100.0   \n10     API3USDT  n  n     5.0  0.035  0.03  0021  0.6330  0.3480    100.0   \n12     ATOMUSDT  n  n     5.0  0.035  0.02  0244  0.1760  0.1270    100.0   \n16      BELUSDT  n  n     5.0  0.035  0.02  0015  0.3140  0.1060    100.0   \n17      BLZUSDT  n  n     5.0  0.035  0.02  0021  0.2540  0.0843    100.0   \n19      BTSUSDT  n  n     5.0  0.035  0.02  0009  0.1740  0.0881    100.0   \n20      C98USDT  n  n     5.0  0.035  0.02  0146  0.2750  0.2620    100.0   \n23      CHZUSDT  n  n     5.0  0.035  0.02  0097  0.2110  0.0812    100.0   \n24     COMPUSDT  n  n     5.0  0.035  0.02  0096  0.0183  0.1910    100.0   \n30     DODOUSDT  n  n     5.0  0.035  0.02  0043  0.1130  0.0871    100.0   \n31     DOGEUSDT  n  n     5.0  0.035  0.02  0679  0.1500  0.1270    100.0   \n33     DUSKUSDT  n  n     5.0  0.035  0.02  0066  0.2920  0.2260    100.0   \n34     DYDXUSDT  n  n     5.0  0.035  0.02  0071  0.2260  0.2450    100.0   \n36      ENSUSDT  n  n     5.0  0.030  0.02  0025  0.2920  0.3990    100.0   \n38      ETCUSDT  n  n     5.0  0.035  0.02  0433  0.0817  0.0697    100.0   \n39      ETHUSDT  n  n     5.0  0.035  0.02  5326  0.1640  0.0206    100.0   \n41     FLOWUSDT  n  n     5.0  0.035  0.02  0033  0.3810  0.0905    100.0   \n42      GRTUSDT  n  n     5.0  0.035  0.02  0046  0.2080  0.1040    100.0   \n51     KLAYUSDT  n  n     5.0  0.035  0.02  0013  0.1690  0.1930    100.0   \n52      KNCUSDT  n  n     5.0  0.035  0.02  0401  0.2930  0.0541    100.0   \n54     LINKUSDT  n  n     5.0  0.035  0.02  0172  0.1120  0.0700    100.0   \n56      LTCUSDT  n  n     5.0  0.035  0.02  0149  0.1040  0.0538    100.0   \n57    MATICUSDT  n  n     5.0  0.035  0.02  0261  0.1740  0.0501    100.0   \n58      MKRUSDT  n  n     5.0  0.035  0.02  0016  0.2060  0.1180    100.0   \n60      NEOUSDT  n  n     5.0  0.035  0.02  0023  0.1000  0.0712    100.0   \n70      RLCUSDT  n  n     5.0  0.035  0.02  0051  0.2090  0.0754    100.0   \n71     ROSEUSDT  n  n     5.0  0.035  0.02  0072  0.0443  0.2900    100.0   \n82     TOMOUSDT  n  n     5.0  0.035  0.02  0016  0.1770  0.1090    100.0   \n88      XLMUSDT  n  n     5.0  0.035  0.02  0034  0.0742  0.0731    100.0   \n89      XMRUSDT  n  n     5.0  0.035  0.02  0316  0.1090  0.0227    100.0   \n\n    bnkrs_%    ebrl    ebrs      maxsl    pamaxl    pastdl      maxss  \\\n1    100.00  0.7694  0.7527  10.770125  0.648708  0.064167  39.361125   \n3     75.97  0.8072  0.6429   6.515292  0.391366  0.051500  39.211792   \n5     88.80  0.8084  0.6390  17.899292  0.936239  0.103523  27.758333   \n8    100.00  0.9220  0.9457  12.086792  0.294680  0.084670  10.819458   \n9     95.05  0.8392  0.6541  12.125000  0.547022  0.088469  14.161125   \n10   100.00  0.9257  0.8856   3.054863  0.240547  0.049982  13.779167   \n12    64.62  0.9162  0.5639  16.588208  0.489647  0.081672  35.834708   \n16    92.08  0.8391  0.6465   9.887500  0.562763  0.098852  13.455542   \n17   100.00  0.8477  0.7014   7.234708  0.740899  0.082807  27.396542   \n19   100.00  0.8957  0.7647  20.911792  0.981370  0.138583  30.752083   \n20   100.00  0.7692  0.8572  22.890958  0.717987  0.120253  28.186125   \n23    90.37  0.8257  0.6372   9.910417  0.755754  0.057503  27.648625   \n24   100.00  0.8413  0.8382  43.453333  1.166540  0.230823  28.412500   \n30    95.71  0.8783  0.6773  11.776375  0.845622  0.125435  21.422917   \n31   100.00  0.8447  0.6884  12.488208  0.471256  0.052561  28.373625   \n33   100.00  0.7017  0.7995  17.735417  0.805989  0.166748  22.862500   \n34   100.00  0.8712  0.6498   9.306250  0.856376  0.116046  25.722917   \n36   100.00  0.7960  0.8914   5.934708  0.626274  0.092877   5.195833   \n38   100.00  0.7944  0.7101  14.593750  0.520064  0.066410  35.422208   \n39   100.00  0.7670  0.7239  37.025708  0.613138  0.086090  27.666667   \n41   100.00  0.8452  0.8292  17.456250  0.409990  0.080788  39.319458   \n42   100.00  0.8486  0.8198   8.436125  0.539447  0.073950  12.372917   \n51   100.00  0.8693  0.9425  13.027083  0.285355  0.037204  10.169458   \n52   100.00  0.8157  0.8057  13.227083  0.506912  0.059408  27.627083   \n54   100.00  0.7441  0.6630  21.675000  1.111790  0.133607  29.002792   \n56    96.92  0.8395  0.6471   7.831958  0.419116  0.051873  48.451250   \n57    93.79  0.8240  0.6528  27.195125  0.849123  0.132214  30.697917   \n58   100.00  0.8360  0.7861  11.804167  0.421126  0.065086  11.675708   \n60    98.00  0.8067  0.6469  10.880542  0.517019  0.066309  27.554167   \n70    81.77  0.8187  0.5827   9.266667  0.639571  0.067734  39.161125   \n71   100.00  0.8660  0.7847   4.119446  0.661353  0.079313  38.461792   \n82   100.00  0.7487  0.8224  19.836125  0.983126  0.120530  27.860417   \n88   100.00  0.8855  0.7223  12.128458  0.670054  0.081088  27.650708   \n89   100.00  0.8318  0.7453  14.631958  0.477026  0.062808  48.270833   \n\n      pamaxs    pastds  \n1   0.541715  0.086314  \n3   0.519449  0.101922  \n5   0.503807  0.092130  \n8   0.159975  0.037467  \n9   0.520499  0.063347  \n10  0.287792  0.066013  \n12  0.577798  0.119612  \n16  0.504318  0.080861  \n17  0.489913  0.120388  \n19  0.439665  0.093844  \n20  0.402502  0.095534  \n23  0.526384  0.110610  \n24  0.398611  0.079196  \n30  0.481957  0.103929  \n31  0.503842  0.085994  \n33  0.440883  0.102230  \n34  0.549251  0.142491  \n36  0.227052  0.049809  \n38  0.520800  0.119461  \n39  0.451289  0.107923  \n41  0.372590  0.090211  \n42  0.340588  0.064439  \n51  0.159413  0.028915  \n52  0.384589  0.094527  \n54  0.526571  0.114499  \n56  0.530287  0.126367  \n57  0.500769  0.116346  \n58  0.367970  0.051761  \n60  0.535774  0.115123  \n70  0.588060  0.135944  \n71  0.414484  0.100357  \n82  0.373540  0.083846  \n88  0.469460  0.094692  \n89  0.441080  0.113953  ",
      "text/html": "<div>\n<style scoped>\n    .dataframe tbody tr th:only-of-type {\n        vertical-align: middle;\n    }\n\n    .dataframe tbody tr th {\n        vertical-align: top;\n    }\n\n    .dataframe thead th {\n        text-align: right;\n    }\n</style>\n<table border=\"1\" class=\"dataframe\">\n  <thead>\n    <tr style=\"text-align: right;\">\n      <th></th>\n      <th>s</th>\n      <th>lm</th>\n      <th>sm</th>\n      <th>notion</th>\n      <th>le</th>\n      <th>se</th>\n      <th>vol</th>\n      <th>adgl_%</th>\n      <th>adgs_%</th>\n      <th>bnkrl_%</th>\n      <th>bnkrs_%</th>\n      <th>ebrl</th>\n      <th>ebrs</th>\n      <th>maxsl</th>\n      <th>pamaxl</th>\n      <th>pastdl</th>\n      <th>maxss</th>\n      <th>pamaxs</th>\n      <th>pastds</th>\n    </tr>\n  </thead>\n  <tbody>\n    <tr>\n      <th>1</th>\n      <td>1000XECUSDT</td>\n      <td>n</td>\n      <td>n</td>\n      <td>5.0</td>\n      <td>0.035</td>\n      <td>0.02</td>\n      <td>0027</td>\n      <td>0.1830</td>\n      <td>0.1760</td>\n      <td>100.0</td>\n      <td>100.00</td>\n      <td>0.7694</td>\n      <td>0.7527</td>\n      <td>10.770125</td>\n      <td>0.648708</td>\n      <td>0.064167</td>\n      <td>39.361125</td>\n      <td>0.541715</td>\n      <td>0.086314</td>\n    </tr>\n    <tr>\n      <th>3</th>\n      <td>ADAUSDT</td>\n      <td>n</td>\n      <td>n</td>\n      <td>5.0</td>\n      <td>0.035</td>\n      <td>0.02</td>\n      <td>0512</td>\n      <td>0.0809</td>\n      <td>0.0961</td>\n      <td>100.0</td>\n      <td>75.97</td>\n      <td>0.8072</td>\n      <td>0.6429</td>\n      <td>6.515292</td>\n      <td>0.391366</td>\n      <td>0.051500</td>\n      <td>39.211792</td>\n      <td>0.519449</td>\n      <td>0.101922</td>\n    </tr>\n    <tr>\n      <th>5</th>\n      <td>ALGOUSDT</td>\n      <td>n</td>\n      <td>n</td>\n      <td>5.0</td>\n      <td>0.035</td>\n      <td>0.02</td>\n      <td>0078</td>\n      <td>0.1860</td>\n      <td>0.1400</td>\n      <td>100.0</td>\n      <td>88.80</td>\n      <td>0.8084</td>\n      <td>0.6390</td>\n      <td>17.899292</td>\n      <td>0.936239</td>\n      <td>0.103523</td>\n      <td>27.758333</td>\n      <td>0.503807</td>\n      <td>0.092130</td>\n    </tr>\n    <tr>\n      <th>8</th>\n      <td>ANCUSDT</td>\n      <td>n</td>\n      <td>n</td>\n      <td>5.0</td>\n      <td>0.030</td>\n      <td>0.02</td>\n      <td>0045</td>\n      <td>0.1140</td>\n      <td>0.6780</td>\n      <td>100.0</td>\n      <td>100.00</td>\n      <td>0.9220</td>\n      <td>0.9457</td>\n      <td>12.086792</td>\n      <td>0.294680</td>\n      <td>0.084670</td>\n      <td>10.819458</td>\n      <td>0.159975</td>\n      <td>0.037467</td>\n    </tr>\n    <tr>\n      <th>9</th>\n      <td>ANKRUSDT</td>\n      <td>n</td>\n      <td>n</td>\n      <td>5.0</td>\n      <td>0.035</td>\n      <td>0.02</td>\n      <td>0175</td>\n      <td>0.1690</td>\n      <td>0.0184</td>\n      <td>100.0</td>\n      <td>95.05</td>\n      <td>0.8392</td>\n      <td>0.6541</td>\n      <td>12.125000</td>\n      <td>0.547022</td>\n      <td>0.088469</td>\n      <td>14.161125</td>\n      <td>0.520499</td>\n      <td>0.063347</td>\n    </tr>\n    <tr>\n      <th>10</th>\n      <td>API3USDT</td>\n      <td>n</td>\n      <td>n</td>\n      <td>5.0</td>\n      <td>0.035</td>\n      <td>0.03</td>\n      <td>0021</td>\n      <td>0.6330</td>\n      <td>0.3480</td>\n      <td>100.0</td>\n      <td>100.00</td>\n      <td>0.9257</td>\n      <td>0.8856</td>\n      <td>3.054863</td>\n      <td>0.240547</td>\n      <td>0.049982</td>\n      <td>13.779167</td>\n      <td>0.287792</td>\n      <td>0.066013</td>\n    </tr>\n    <tr>\n      <th>12</th>\n      <td>ATOMUSDT</td>\n      <td>n</td>\n      <td>n</td>\n      <td>5.0</td>\n      <td>0.035</td>\n      <td>0.02</td>\n      <td>0244</td>\n      <td>0.1760</td>\n      <td>0.1270</td>\n      <td>100.0</td>\n      <td>64.62</td>\n      <td>0.9162</td>\n      <td>0.5639</td>\n      <td>16.588208</td>\n      <td>0.489647</td>\n      <td>0.081672</td>\n      <td>35.834708</td>\n      <td>0.577798</td>\n      <td>0.119612</td>\n    </tr>\n    <tr>\n      <th>16</th>\n      <td>BELUSDT</td>\n      <td>n</td>\n      <td>n</td>\n      <td>5.0</td>\n      <td>0.035</td>\n      <td>0.02</td>\n      <td>0015</td>\n      <td>0.3140</td>\n      <td>0.1060</td>\n      <td>100.0</td>\n      <td>92.08</td>\n      <td>0.8391</td>\n      <td>0.6465</td>\n      <td>9.887500</td>\n      <td>0.562763</td>\n      <td>0.098852</td>\n      <td>13.455542</td>\n      <td>0.504318</td>\n      <td>0.080861</td>\n    </tr>\n    <tr>\n      <th>17</th>\n      <td>BLZUSDT</td>\n      <td>n</td>\n      <td>n</td>\n      <td>5.0</td>\n      <td>0.035</td>\n      <td>0.02</td>\n      <td>0021</td>\n      <td>0.2540</td>\n      <td>0.0843</td>\n      <td>100.0</td>\n      <td>100.00</td>\n      <td>0.8477</td>\n      <td>0.7014</td>\n      <td>7.234708</td>\n      <td>0.740899</td>\n      <td>0.082807</td>\n      <td>27.396542</td>\n      <td>0.489913</td>\n      <td>0.120388</td>\n    </tr>\n    <tr>\n      <th>19</th>\n      <td>BTSUSDT</td>\n      <td>n</td>\n      <td>n</td>\n      <td>5.0</td>\n      <td>0.035</td>\n      <td>0.02</td>\n      <td>0009</td>\n      <td>0.1740</td>\n      <td>0.0881</td>\n      <td>100.0</td>\n      <td>100.00</td>\n      <td>0.8957</td>\n      <td>0.7647</td>\n      <td>20.911792</td>\n      <td>0.981370</td>\n      <td>0.138583</td>\n      <td>30.752083</td>\n      <td>0.439665</td>\n      <td>0.093844</td>\n    </tr>\n    <tr>\n      <th>20</th>\n      <td>C98USDT</td>\n      <td>n</td>\n      <td>n</td>\n      <td>5.0</td>\n      <td>0.035</td>\n      <td>0.02</td>\n      <td>0146</td>\n      <td>0.2750</td>\n      <td>0.2620</td>\n      <td>100.0</td>\n      <td>100.00</td>\n      <td>0.7692</td>\n      <td>0.8572</td>\n      <td>22.890958</td>\n      <td>0.717987</td>\n      <td>0.120253</td>\n      <td>28.186125</td>\n      <td>0.402502</td>\n      <td>0.095534</td>\n    </tr>\n    <tr>\n      <th>23</th>\n      <td>CHZUSDT</td>\n      <td>n</td>\n      <td>n</td>\n      <td>5.0</td>\n      <td>0.035</td>\n      <td>0.02</td>\n      <td>0097</td>\n      <td>0.2110</td>\n      <td>0.0812</td>\n      <td>100.0</td>\n      <td>90.37</td>\n      <td>0.8257</td>\n      <td>0.6372</td>\n      <td>9.910417</td>\n      <td>0.755754</td>\n      <td>0.057503</td>\n      <td>27.648625</td>\n      <td>0.526384</td>\n      <td>0.110610</td>\n    </tr>\n    <tr>\n      <th>24</th>\n      <td>COMPUSDT</td>\n      <td>n</td>\n      <td>n</td>\n      <td>5.0</td>\n      <td>0.035</td>\n      <td>0.02</td>\n      <td>0096</td>\n      <td>0.0183</td>\n      <td>0.1910</td>\n      <td>100.0</td>\n      <td>100.00</td>\n      <td>0.8413</td>\n      <td>0.8382</td>\n      <td>43.453333</td>\n      <td>1.166540</td>\n      <td>0.230823</td>\n      <td>28.412500</td>\n      <td>0.398611</td>\n      <td>0.079196</td>\n    </tr>\n    <tr>\n      <th>30</th>\n      <td>DODOUSDT</td>\n      <td>n</td>\n      <td>n</td>\n      <td>5.0</td>\n      <td>0.035</td>\n      <td>0.02</td>\n      <td>0043</td>\n      <td>0.1130</td>\n      <td>0.0871</td>\n      <td>100.0</td>\n      <td>95.71</td>\n      <td>0.8783</td>\n      <td>0.6773</td>\n      <td>11.776375</td>\n      <td>0.845622</td>\n      <td>0.125435</td>\n      <td>21.422917</td>\n      <td>0.481957</td>\n      <td>0.103929</td>\n    </tr>\n    <tr>\n      <th>31</th>\n      <td>DOGEUSDT</td>\n      <td>n</td>\n      <td>n</td>\n      <td>5.0</td>\n      <td>0.035</td>\n      <td>0.02</td>\n      <td>0679</td>\n      <td>0.1500</td>\n      <td>0.1270</td>\n      <td>100.0</td>\n      <td>100.00</td>\n      <td>0.8447</td>\n      <td>0.6884</td>\n      <td>12.488208</td>\n      <td>0.471256</td>\n      <td>0.052561</td>\n      <td>28.373625</td>\n      <td>0.503842</td>\n      <td>0.085994</td>\n    </tr>\n    <tr>\n      <th>33</th>\n      <td>DUSKUSDT</td>\n      <td>n</td>\n      <td>n</td>\n      <td>5.0</td>\n      <td>0.035</td>\n      <td>0.02</td>\n      <td>0066</td>\n      <td>0.2920</td>\n      <td>0.2260</td>\n      <td>100.0</td>\n      <td>100.00</td>\n      <td>0.7017</td>\n      <td>0.7995</td>\n      <td>17.735417</td>\n      <td>0.805989</td>\n      <td>0.166748</td>\n      <td>22.862500</td>\n      <td>0.440883</td>\n      <td>0.102230</td>\n    </tr>\n    <tr>\n      <th>34</th>\n      <td>DYDXUSDT</td>\n      <td>n</td>\n      <td>n</td>\n      <td>5.0</td>\n      <td>0.035</td>\n      <td>0.02</td>\n      <td>0071</td>\n      <td>0.2260</td>\n      <td>0.2450</td>\n      <td>100.0</td>\n      <td>100.00</td>\n      <td>0.8712</td>\n      <td>0.6498</td>\n      <td>9.306250</td>\n      <td>0.856376</td>\n      <td>0.116046</td>\n      <td>25.722917</td>\n      <td>0.549251</td>\n      <td>0.142491</td>\n    </tr>\n    <tr>\n      <th>36</th>\n      <td>ENSUSDT</td>\n      <td>n</td>\n      <td>n</td>\n      <td>5.0</td>\n      <td>0.030</td>\n      <td>0.02</td>\n      <td>0025</td>\n      <td>0.2920</td>\n      <td>0.3990</td>\n      <td>100.0</td>\n      <td>100.00</td>\n      <td>0.7960</td>\n      <td>0.8914</td>\n      <td>5.934708</td>\n      <td>0.626274</td>\n      <td>0.092877</td>\n      <td>5.195833</td>\n      <td>0.227052</td>\n      <td>0.049809</td>\n    </tr>\n    <tr>\n      <th>38</th>\n      <td>ETCUSDT</td>\n      <td>n</td>\n      <td>n</td>\n      <td>5.0</td>\n      <td>0.035</td>\n      <td>0.02</td>\n      <td>0433</td>\n      <td>0.0817</td>\n      <td>0.0697</td>\n      <td>100.0</td>\n      <td>100.00</td>\n      <td>0.7944</td>\n      <td>0.7101</td>\n      <td>14.593750</td>\n      <td>0.520064</td>\n      <td>0.066410</td>\n      <td>35.422208</td>\n      <td>0.520800</td>\n      <td>0.119461</td>\n    </tr>\n    <tr>\n      <th>39</th>\n      <td>ETHUSDT</td>\n      <td>n</td>\n      <td>n</td>\n      <td>5.0</td>\n      <td>0.035</td>\n      <td>0.02</td>\n      <td>5326</td>\n      <td>0.1640</td>\n      <td>0.0206</td>\n      <td>100.0</td>\n      <td>100.00</td>\n      <td>0.7670</td>\n      <td>0.7239</td>\n      <td>37.025708</td>\n      <td>0.613138</td>\n      <td>0.086090</td>\n      <td>27.666667</td>\n      <td>0.451289</td>\n      <td>0.107923</td>\n    </tr>\n    <tr>\n      <th>41</th>\n      <td>FLOWUSDT</td>\n      <td>n</td>\n      <td>n</td>\n      <td>5.0</td>\n      <td>0.035</td>\n      <td>0.02</td>\n      <td>0033</td>\n      <td>0.3810</td>\n      <td>0.0905</td>\n      <td>100.0</td>\n      <td>100.00</td>\n      <td>0.8452</td>\n      <td>0.8292</td>\n      <td>17.456250</td>\n      <td>0.409990</td>\n      <td>0.080788</td>\n      <td>39.319458</td>\n      <td>0.372590</td>\n      <td>0.090211</td>\n    </tr>\n    <tr>\n      <th>42</th>\n      <td>GRTUSDT</td>\n      <td>n</td>\n      <td>n</td>\n      <td>5.0</td>\n      <td>0.035</td>\n      <td>0.02</td>\n      <td>0046</td>\n      <td>0.2080</td>\n      <td>0.1040</td>\n      <td>100.0</td>\n      <td>100.00</td>\n      <td>0.8486</td>\n      <td>0.8198</td>\n      <td>8.436125</td>\n      <td>0.539447</td>\n      <td>0.073950</td>\n      <td>12.372917</td>\n      <td>0.340588</td>\n      <td>0.064439</td>\n    </tr>\n    <tr>\n      <th>51</th>\n      <td>KLAYUSDT</td>\n      <td>n</td>\n      <td>n</td>\n      <td>5.0</td>\n      <td>0.035</td>\n      <td>0.02</td>\n      <td>0013</td>\n      <td>0.1690</td>\n      <td>0.1930</td>\n      <td>100.0</td>\n      <td>100.00</td>\n      <td>0.8693</td>\n      <td>0.9425</td>\n      <td>13.027083</td>\n      <td>0.285355</td>\n      <td>0.037204</td>\n      <td>10.169458</td>\n      <td>0.159413</td>\n      <td>0.028915</td>\n    </tr>\n    <tr>\n      <th>52</th>\n      <td>KNCUSDT</td>\n      <td>n</td>\n      <td>n</td>\n      <td>5.0</td>\n      <td>0.035</td>\n      <td>0.02</td>\n      <td>0401</td>\n      <td>0.2930</td>\n      <td>0.0541</td>\n      <td>100.0</td>\n      <td>100.00</td>\n      <td>0.8157</td>\n      <td>0.8057</td>\n      <td>13.227083</td>\n      <td>0.506912</td>\n      <td>0.059408</td>\n      <td>27.627083</td>\n      <td>0.384589</td>\n      <td>0.094527</td>\n    </tr>\n    <tr>\n      <th>54</th>\n      <td>LINKUSDT</td>\n      <td>n</td>\n      <td>n</td>\n      <td>5.0</td>\n      <td>0.035</td>\n      <td>0.02</td>\n      <td>0172</td>\n      <td>0.1120</td>\n      <td>0.0700</td>\n      <td>100.0</td>\n      <td>100.00</td>\n      <td>0.7441</td>\n      <td>0.6630</td>\n      <td>21.675000</td>\n      <td>1.111790</td>\n      <td>0.133607</td>\n      <td>29.002792</td>\n      <td>0.526571</td>\n      <td>0.114499</td>\n    </tr>\n    <tr>\n      <th>56</th>\n      <td>LTCUSDT</td>\n      <td>n</td>\n      <td>n</td>\n      <td>5.0</td>\n      <td>0.035</td>\n      <td>0.02</td>\n      <td>0149</td>\n      <td>0.1040</td>\n      <td>0.0538</td>\n      <td>100.0</td>\n      <td>96.92</td>\n      <td>0.8395</td>\n      <td>0.6471</td>\n      <td>7.831958</td>\n      <td>0.419116</td>\n      <td>0.051873</td>\n      <td>48.451250</td>\n      <td>0.530287</td>\n      <td>0.126367</td>\n    </tr>\n    <tr>\n      <th>57</th>\n      <td>MATICUSDT</td>\n      <td>n</td>\n      <td>n</td>\n      <td>5.0</td>\n      <td>0.035</td>\n      <td>0.02</td>\n      <td>0261</td>\n      <td>0.1740</td>\n      <td>0.0501</td>\n      <td>100.0</td>\n      <td>93.79</td>\n      <td>0.8240</td>\n      <td>0.6528</td>\n      <td>27.195125</td>\n      <td>0.849123</td>\n      <td>0.132214</td>\n      <td>30.697917</td>\n      <td>0.500769</td>\n      <td>0.116346</td>\n    </tr>\n    <tr>\n      <th>58</th>\n      <td>MKRUSDT</td>\n      <td>n</td>\n      <td>n</td>\n      <td>5.0</td>\n      <td>0.035</td>\n      <td>0.02</td>\n      <td>0016</td>\n      <td>0.2060</td>\n      <td>0.1180</td>\n      <td>100.0</td>\n      <td>100.00</td>\n      <td>0.8360</td>\n      <td>0.7861</td>\n      <td>11.804167</td>\n      <td>0.421126</td>\n      <td>0.065086</td>\n      <td>11.675708</td>\n      <td>0.367970</td>\n      <td>0.051761</td>\n    </tr>\n    <tr>\n      <th>60</th>\n      <td>NEOUSDT</td>\n      <td>n</td>\n      <td>n</td>\n      <td>5.0</td>\n      <td>0.035</td>\n      <td>0.02</td>\n      <td>0023</td>\n      <td>0.1000</td>\n      <td>0.0712</td>\n      <td>100.0</td>\n      <td>98.00</td>\n      <td>0.8067</td>\n      <td>0.6469</td>\n      <td>10.880542</td>\n      <td>0.517019</td>\n      <td>0.066309</td>\n      <td>27.554167</td>\n      <td>0.535774</td>\n      <td>0.115123</td>\n    </tr>\n    <tr>\n      <th>70</th>\n      <td>RLCUSDT</td>\n      <td>n</td>\n      <td>n</td>\n      <td>5.0</td>\n      <td>0.035</td>\n      <td>0.02</td>\n      <td>0051</td>\n      <td>0.2090</td>\n      <td>0.0754</td>\n      <td>100.0</td>\n      <td>81.77</td>\n      <td>0.8187</td>\n      <td>0.5827</td>\n      <td>9.266667</td>\n      <td>0.639571</td>\n      <td>0.067734</td>\n      <td>39.161125</td>\n      <td>0.588060</td>\n      <td>0.135944</td>\n    </tr>\n    <tr>\n      <th>71</th>\n      <td>ROSEUSDT</td>\n      <td>n</td>\n      <td>n</td>\n      <td>5.0</td>\n      <td>0.035</td>\n      <td>0.02</td>\n      <td>0072</td>\n      <td>0.0443</td>\n      <td>0.2900</td>\n      <td>100.0</td>\n      <td>100.00</td>\n      <td>0.8660</td>\n      <td>0.7847</td>\n      <td>4.119446</td>\n      <td>0.661353</td>\n      <td>0.079313</td>\n      <td>38.461792</td>\n      <td>0.414484</td>\n      <td>0.100357</td>\n    </tr>\n    <tr>\n      <th>82</th>\n      <td>TOMOUSDT</td>\n      <td>n</td>\n      <td>n</td>\n      <td>5.0</td>\n      <td>0.035</td>\n      <td>0.02</td>\n      <td>0016</td>\n      <td>0.1770</td>\n      <td>0.1090</td>\n      <td>100.0</td>\n      <td>100.00</td>\n      <td>0.7487</td>\n      <td>0.8224</td>\n      <td>19.836125</td>\n      <td>0.983126</td>\n      <td>0.120530</td>\n      <td>27.860417</td>\n      <td>0.373540</td>\n      <td>0.083846</td>\n    </tr>\n    <tr>\n      <th>88</th>\n      <td>XLMUSDT</td>\n      <td>n</td>\n      <td>n</td>\n      <td>5.0</td>\n      <td>0.035</td>\n      <td>0.02</td>\n      <td>0034</td>\n      <td>0.0742</td>\n      <td>0.0731</td>\n      <td>100.0</td>\n      <td>100.00</td>\n      <td>0.8855</td>\n      <td>0.7223</td>\n      <td>12.128458</td>\n      <td>0.670054</td>\n      <td>0.081088</td>\n      <td>27.650708</td>\n      <td>0.469460</td>\n      <td>0.094692</td>\n    </tr>\n    <tr>\n      <th>89</th>\n      <td>XMRUSDT</td>\n      <td>n</td>\n      <td>n</td>\n      <td>5.0</td>\n      <td>0.035</td>\n      <td>0.02</td>\n      <td>0316</td>\n      <td>0.1090</td>\n      <td>0.0227</td>\n      <td>100.0</td>\n      <td>100.00</td>\n      <td>0.8318</td>\n      <td>0.7453</td>\n      <td>14.631958</td>\n      <td>0.477026</td>\n      <td>0.062808</td>\n      <td>48.270833</td>\n      <td>0.441080</td>\n      <td>0.113953</td>\n    </tr>\n  </tbody>\n</table>\n</div>"
     },
     "execution_count": 17,
     "metadata": {},
     "output_type": "execute_result"
    }
   ],
   "source": [
    "ds = dx[(dx['sm'] == 'n') | (dx['sm'] == 'gs')]\n",
    "ds"
   ],
   "metadata": {
    "collapsed": false,
    "pycharm": {
     "name": "#%%\n"
    }
   }
  },
  {
   "cell_type": "code",
   "execution_count": 32,
   "outputs": [
    {
     "data": {
      "text/plain": "              s sm  notion     le    se   vol  adgs_%  bnkrs_%    ebrs  \\\n1   1000XECUSDT  n     5.0  0.035  0.02  0027  0.1760    100.0  0.7527   \n8       ANCUSDT  n     5.0  0.030  0.02  0045  0.6780    100.0  0.9457   \n10     API3USDT  n     5.0  0.035  0.03  0021  0.3480    100.0  0.8856   \n19      BTSUSDT  n     5.0  0.035  0.02  0009  0.0881    100.0  0.7647   \n20      C98USDT  n     5.0  0.035  0.02  0146  0.2620    100.0  0.8572   \n24     COMPUSDT  n     5.0  0.035  0.02  0096  0.1910    100.0  0.8382   \n31     DOGEUSDT  n     5.0  0.035  0.02  0679  0.1270    100.0  0.6884   \n36      ENSUSDT  n     5.0  0.030  0.02  0025  0.3990    100.0  0.8914   \n37      EOSUSDT  p     5.0  0.030  0.00  0121  0.0561    100.0  0.7360   \n41     FLOWUSDT  n     5.0  0.035  0.02  0033  0.0905    100.0  0.8292   \n42      GRTUSDT  n     5.0  0.035  0.02  0046  0.1040    100.0  0.8198   \n50     KAVAUSDT  p     5.0  0.035  0.00  0067  0.0816    100.0  0.7599   \n51     KLAYUSDT  n     5.0  0.035  0.02  0013  0.1930    100.0  0.9425   \n52      KNCUSDT  n     5.0  0.035  0.02  0401  0.0541    100.0  0.8057   \n58      MKRUSDT  n     5.0  0.035  0.02  0016  0.1180    100.0  0.7861   \n82     TOMOUSDT  n     5.0  0.035  0.02  0016  0.1090    100.0  0.8224   \n84      TRXUSDT  p     5.0  0.030  0.00  0051  0.0209    100.0  0.7523   \n88      XLMUSDT  n     5.0  0.035  0.02  0034  0.0731    100.0  0.7223   \n\n        maxss    pamaxs    pastds  \n1   39.361125  0.541715  0.086314  \n8   10.819458  0.159975  0.037467  \n10  13.779167  0.287792  0.066013  \n19  30.752083  0.439665  0.093844  \n20  28.186125  0.402502  0.095534  \n24  28.412500  0.398611  0.079196  \n31  28.373625  0.503842  0.085994  \n36   5.195833  0.227052  0.049809  \n37  39.181958  0.441473  0.085832  \n41  39.319458  0.372590  0.090211  \n42  12.372917  0.340588  0.064439  \n50  29.955542  0.450221  0.097441  \n51  10.169458  0.159413  0.028915  \n52  27.627083  0.384589  0.094527  \n58  11.675708  0.367970  0.051761  \n82  27.860417  0.373540  0.083846  \n84  35.348625  0.431200  0.083556  \n88  27.650708  0.469460  0.094692  ",
      "text/html": "<div>\n<style scoped>\n    .dataframe tbody tr th:only-of-type {\n        vertical-align: middle;\n    }\n\n    .dataframe tbody tr th {\n        vertical-align: top;\n    }\n\n    .dataframe thead th {\n        text-align: right;\n    }\n</style>\n<table border=\"1\" class=\"dataframe\">\n  <thead>\n    <tr style=\"text-align: right;\">\n      <th></th>\n      <th>s</th>\n      <th>sm</th>\n      <th>notion</th>\n      <th>le</th>\n      <th>se</th>\n      <th>vol</th>\n      <th>adgs_%</th>\n      <th>bnkrs_%</th>\n      <th>ebrs</th>\n      <th>maxss</th>\n      <th>pamaxs</th>\n      <th>pastds</th>\n    </tr>\n  </thead>\n  <tbody>\n    <tr>\n      <th>1</th>\n      <td>1000XECUSDT</td>\n      <td>n</td>\n      <td>5.0</td>\n      <td>0.035</td>\n      <td>0.02</td>\n      <td>0027</td>\n      <td>0.1760</td>\n      <td>100.0</td>\n      <td>0.7527</td>\n      <td>39.361125</td>\n      <td>0.541715</td>\n      <td>0.086314</td>\n    </tr>\n    <tr>\n      <th>8</th>\n      <td>ANCUSDT</td>\n      <td>n</td>\n      <td>5.0</td>\n      <td>0.030</td>\n      <td>0.02</td>\n      <td>0045</td>\n      <td>0.6780</td>\n      <td>100.0</td>\n      <td>0.9457</td>\n      <td>10.819458</td>\n      <td>0.159975</td>\n      <td>0.037467</td>\n    </tr>\n    <tr>\n      <th>10</th>\n      <td>API3USDT</td>\n      <td>n</td>\n      <td>5.0</td>\n      <td>0.035</td>\n      <td>0.03</td>\n      <td>0021</td>\n      <td>0.3480</td>\n      <td>100.0</td>\n      <td>0.8856</td>\n      <td>13.779167</td>\n      <td>0.287792</td>\n      <td>0.066013</td>\n    </tr>\n    <tr>\n      <th>19</th>\n      <td>BTSUSDT</td>\n      <td>n</td>\n      <td>5.0</td>\n      <td>0.035</td>\n      <td>0.02</td>\n      <td>0009</td>\n      <td>0.0881</td>\n      <td>100.0</td>\n      <td>0.7647</td>\n      <td>30.752083</td>\n      <td>0.439665</td>\n      <td>0.093844</td>\n    </tr>\n    <tr>\n      <th>20</th>\n      <td>C98USDT</td>\n      <td>n</td>\n      <td>5.0</td>\n      <td>0.035</td>\n      <td>0.02</td>\n      <td>0146</td>\n      <td>0.2620</td>\n      <td>100.0</td>\n      <td>0.8572</td>\n      <td>28.186125</td>\n      <td>0.402502</td>\n      <td>0.095534</td>\n    </tr>\n    <tr>\n      <th>24</th>\n      <td>COMPUSDT</td>\n      <td>n</td>\n      <td>5.0</td>\n      <td>0.035</td>\n      <td>0.02</td>\n      <td>0096</td>\n      <td>0.1910</td>\n      <td>100.0</td>\n      <td>0.8382</td>\n      <td>28.412500</td>\n      <td>0.398611</td>\n      <td>0.079196</td>\n    </tr>\n    <tr>\n      <th>31</th>\n      <td>DOGEUSDT</td>\n      <td>n</td>\n      <td>5.0</td>\n      <td>0.035</td>\n      <td>0.02</td>\n      <td>0679</td>\n      <td>0.1270</td>\n      <td>100.0</td>\n      <td>0.6884</td>\n      <td>28.373625</td>\n      <td>0.503842</td>\n      <td>0.085994</td>\n    </tr>\n    <tr>\n      <th>36</th>\n      <td>ENSUSDT</td>\n      <td>n</td>\n      <td>5.0</td>\n      <td>0.030</td>\n      <td>0.02</td>\n      <td>0025</td>\n      <td>0.3990</td>\n      <td>100.0</td>\n      <td>0.8914</td>\n      <td>5.195833</td>\n      <td>0.227052</td>\n      <td>0.049809</td>\n    </tr>\n    <tr>\n      <th>37</th>\n      <td>EOSUSDT</td>\n      <td>p</td>\n      <td>5.0</td>\n      <td>0.030</td>\n      <td>0.00</td>\n      <td>0121</td>\n      <td>0.0561</td>\n      <td>100.0</td>\n      <td>0.7360</td>\n      <td>39.181958</td>\n      <td>0.441473</td>\n      <td>0.085832</td>\n    </tr>\n    <tr>\n      <th>41</th>\n      <td>FLOWUSDT</td>\n      <td>n</td>\n      <td>5.0</td>\n      <td>0.035</td>\n      <td>0.02</td>\n      <td>0033</td>\n      <td>0.0905</td>\n      <td>100.0</td>\n      <td>0.8292</td>\n      <td>39.319458</td>\n      <td>0.372590</td>\n      <td>0.090211</td>\n    </tr>\n    <tr>\n      <th>42</th>\n      <td>GRTUSDT</td>\n      <td>n</td>\n      <td>5.0</td>\n      <td>0.035</td>\n      <td>0.02</td>\n      <td>0046</td>\n      <td>0.1040</td>\n      <td>100.0</td>\n      <td>0.8198</td>\n      <td>12.372917</td>\n      <td>0.340588</td>\n      <td>0.064439</td>\n    </tr>\n    <tr>\n      <th>50</th>\n      <td>KAVAUSDT</td>\n      <td>p</td>\n      <td>5.0</td>\n      <td>0.035</td>\n      <td>0.00</td>\n      <td>0067</td>\n      <td>0.0816</td>\n      <td>100.0</td>\n      <td>0.7599</td>\n      <td>29.955542</td>\n      <td>0.450221</td>\n      <td>0.097441</td>\n    </tr>\n    <tr>\n      <th>51</th>\n      <td>KLAYUSDT</td>\n      <td>n</td>\n      <td>5.0</td>\n      <td>0.035</td>\n      <td>0.02</td>\n      <td>0013</td>\n      <td>0.1930</td>\n      <td>100.0</td>\n      <td>0.9425</td>\n      <td>10.169458</td>\n      <td>0.159413</td>\n      <td>0.028915</td>\n    </tr>\n    <tr>\n      <th>52</th>\n      <td>KNCUSDT</td>\n      <td>n</td>\n      <td>5.0</td>\n      <td>0.035</td>\n      <td>0.02</td>\n      <td>0401</td>\n      <td>0.0541</td>\n      <td>100.0</td>\n      <td>0.8057</td>\n      <td>27.627083</td>\n      <td>0.384589</td>\n      <td>0.094527</td>\n    </tr>\n    <tr>\n      <th>58</th>\n      <td>MKRUSDT</td>\n      <td>n</td>\n      <td>5.0</td>\n      <td>0.035</td>\n      <td>0.02</td>\n      <td>0016</td>\n      <td>0.1180</td>\n      <td>100.0</td>\n      <td>0.7861</td>\n      <td>11.675708</td>\n      <td>0.367970</td>\n      <td>0.051761</td>\n    </tr>\n    <tr>\n      <th>82</th>\n      <td>TOMOUSDT</td>\n      <td>n</td>\n      <td>5.0</td>\n      <td>0.035</td>\n      <td>0.02</td>\n      <td>0016</td>\n      <td>0.1090</td>\n      <td>100.0</td>\n      <td>0.8224</td>\n      <td>27.860417</td>\n      <td>0.373540</td>\n      <td>0.083846</td>\n    </tr>\n    <tr>\n      <th>84</th>\n      <td>TRXUSDT</td>\n      <td>p</td>\n      <td>5.0</td>\n      <td>0.030</td>\n      <td>0.00</td>\n      <td>0051</td>\n      <td>0.0209</td>\n      <td>100.0</td>\n      <td>0.7523</td>\n      <td>35.348625</td>\n      <td>0.431200</td>\n      <td>0.083556</td>\n    </tr>\n    <tr>\n      <th>88</th>\n      <td>XLMUSDT</td>\n      <td>n</td>\n      <td>5.0</td>\n      <td>0.035</td>\n      <td>0.02</td>\n      <td>0034</td>\n      <td>0.0731</td>\n      <td>100.0</td>\n      <td>0.7223</td>\n      <td>27.650708</td>\n      <td>0.469460</td>\n      <td>0.094692</td>\n    </tr>\n  </tbody>\n</table>\n</div>"
     },
     "execution_count": 32,
     "metadata": {},
     "output_type": "execute_result"
    }
   ],
   "source": [
    "ds_proposed = dx[\n",
    "    #(dx['sm'] == 'n') &\n",
    "    (dx['bnkrs_%'] == 100) &\n",
    "    # (dx['ebrs'] > 0.7) &\n",
    "    (dx['pastds'] < 0.1)\n",
    "    #(dx['maxss'] < 35)\n",
    "    ]\n",
    "ds_proposed = ds_proposed[['s','sm','notion','le','se','vol', 'adgs_%', 'bnkrs_%',  'ebrs','maxss', 'pamaxs','pastds' ]]\n",
    "ds_proposed"
   ],
   "metadata": {
    "collapsed": false,
    "pycharm": {
     "name": "#%%\n"
    }
   }
  },
  {
   "cell_type": "markdown",
   "source": [
    "ds = dx[\n",
    "   (dx['adgs_%'] > 0.00)\n",
    "  #& (dx['bnkrs_%'] == 100.00)\n",
    "]\n",
    "ds = ds[['file', 'prod', 's', 'adgs_%', 'bnkrs_%','ebrs','maxss', 'pamaxs','pastds' ]]\n",
    "ds"
   ],
   "metadata": {
    "collapsed": false,
    "pycharm": {
     "name": "#%% md\n"
    }
   }
  },
  {
   "cell_type": "code",
   "execution_count": 69,
   "outputs": [
    {
     "name": "stdout",
     "output_type": "stream",
     "text": [
      "['1000XECUSDT', '1INCHUSDT', 'ADAUSDT', 'AKROUSDT', 'ALGOUSDT', 'ALICEUSDT', 'ANKRUSDT', 'API3USDT', 'ARUSDT', 'ATOMUSDT', 'BAKEUSDT', 'BELUSDT', 'BLZUSDT', 'BNBUSDT', 'BTSUSDT', 'C98USDT', 'CHZUSDT', 'COMPUSDT', 'DENTUSDT', 'DGBUSDT', 'DODOUSDT', 'DOGEUSDT', 'DOTUSDT', 'DUSKUSDT', 'DYDXUSDT', 'ENJUSDT', 'ETCUSDT', 'ETHUSDT', 'FLMUSDT', 'FLOWUSDT', 'GRTUSDT', 'HBARUSDT', 'HOTUSDT', 'ICPUSDT', 'ICXUSDT', 'IOSTUSDT', 'IOTAUSDT', 'KAVAUSDT', 'KLAYUSDT', 'KNCUSDT', 'LINKUSDT', 'LITUSDT', 'LTCUSDT', 'MATICUSDT', 'MKRUSDT', 'MTLUSDT', 'NEOUSDT', 'OGNUSDT', 'OMGUSDT', 'ONTUSDT', 'QTUMUSDT', 'RLCUSDT', 'ROSEUSDT', 'RVNUSDT', 'SCUSDT', 'SNXUSDT', 'STMXUSDT', 'SUSHIUSDT', 'SXPUSDT', 'TLMUSDT', 'TOMOUSDT', 'TRBUSDT', 'UNFIUSDT', 'VETUSDT', 'XLMUSDT', 'XMRUSDT', 'XRPUSDT', 'ZECUSDT', 'ZENUSDT', 'ZRXUSDT']\n"
     ]
    },
    {
     "data": {
      "text/plain": "    Unnamed: 0 symbol   direction long_mode short_mode  long_exposure  \\\n0            0  ALICE        long         n          p          0.035   \n1            1   IOST        long         n          p          0.035   \n2            2    OMG        long         n          p          0.035   \n3            3   ATOM  long_short         n          n          0.035   \n4            4   KAVA        long         n          p          0.035   \n..         ...    ...         ...       ...        ...            ...   \n80          80  MATIC  long_short         n          n          0.035   \n81          81    LTC  long_short         n          n          0.035   \n82          82   LINK  long_short         n          n          0.035   \n83          83    GRT  long_short         n          n          0.035   \n84          84   DYDX  long_short         n          n          0.035   \n\n    short_exposure       usdt  \n0             0.00  ALICEUSDT  \n1             0.00   IOSTUSDT  \n2             0.00    OMGUSDT  \n3             0.02   ATOMUSDT  \n4             0.00   KAVAUSDT  \n..             ...        ...  \n80            0.02  MATICUSDT  \n81            0.02    LTCUSDT  \n82            0.02   LINKUSDT  \n83            0.02    GRTUSDT  \n84            0.02   DYDXUSDT  \n\n[70 rows x 8 columns]",
      "text/html": "<div>\n<style scoped>\n    .dataframe tbody tr th:only-of-type {\n        vertical-align: middle;\n    }\n\n    .dataframe tbody tr th {\n        vertical-align: top;\n    }\n\n    .dataframe thead th {\n        text-align: right;\n    }\n</style>\n<table border=\"1\" class=\"dataframe\">\n  <thead>\n    <tr style=\"text-align: right;\">\n      <th></th>\n      <th>Unnamed: 0</th>\n      <th>symbol</th>\n      <th>direction</th>\n      <th>long_mode</th>\n      <th>short_mode</th>\n      <th>long_exposure</th>\n      <th>short_exposure</th>\n      <th>usdt</th>\n    </tr>\n  </thead>\n  <tbody>\n    <tr>\n      <th>0</th>\n      <td>0</td>\n      <td>ALICE</td>\n      <td>long</td>\n      <td>n</td>\n      <td>p</td>\n      <td>0.035</td>\n      <td>0.00</td>\n      <td>ALICEUSDT</td>\n    </tr>\n    <tr>\n      <th>1</th>\n      <td>1</td>\n      <td>IOST</td>\n      <td>long</td>\n      <td>n</td>\n      <td>p</td>\n      <td>0.035</td>\n      <td>0.00</td>\n      <td>IOSTUSDT</td>\n    </tr>\n    <tr>\n      <th>2</th>\n      <td>2</td>\n      <td>OMG</td>\n      <td>long</td>\n      <td>n</td>\n      <td>p</td>\n      <td>0.035</td>\n      <td>0.00</td>\n      <td>OMGUSDT</td>\n    </tr>\n    <tr>\n      <th>3</th>\n      <td>3</td>\n      <td>ATOM</td>\n      <td>long_short</td>\n      <td>n</td>\n      <td>n</td>\n      <td>0.035</td>\n      <td>0.02</td>\n      <td>ATOMUSDT</td>\n    </tr>\n    <tr>\n      <th>4</th>\n      <td>4</td>\n      <td>KAVA</td>\n      <td>long</td>\n      <td>n</td>\n      <td>p</td>\n      <td>0.035</td>\n      <td>0.00</td>\n      <td>KAVAUSDT</td>\n    </tr>\n    <tr>\n      <th>...</th>\n      <td>...</td>\n      <td>...</td>\n      <td>...</td>\n      <td>...</td>\n      <td>...</td>\n      <td>...</td>\n      <td>...</td>\n      <td>...</td>\n    </tr>\n    <tr>\n      <th>80</th>\n      <td>80</td>\n      <td>MATIC</td>\n      <td>long_short</td>\n      <td>n</td>\n      <td>n</td>\n      <td>0.035</td>\n      <td>0.02</td>\n      <td>MATICUSDT</td>\n    </tr>\n    <tr>\n      <th>81</th>\n      <td>81</td>\n      <td>LTC</td>\n      <td>long_short</td>\n      <td>n</td>\n      <td>n</td>\n      <td>0.035</td>\n      <td>0.02</td>\n      <td>LTCUSDT</td>\n    </tr>\n    <tr>\n      <th>82</th>\n      <td>82</td>\n      <td>LINK</td>\n      <td>long_short</td>\n      <td>n</td>\n      <td>n</td>\n      <td>0.035</td>\n      <td>0.02</td>\n      <td>LINKUSDT</td>\n    </tr>\n    <tr>\n      <th>83</th>\n      <td>83</td>\n      <td>GRT</td>\n      <td>long_short</td>\n      <td>n</td>\n      <td>n</td>\n      <td>0.035</td>\n      <td>0.02</td>\n      <td>GRTUSDT</td>\n    </tr>\n    <tr>\n      <th>84</th>\n      <td>84</td>\n      <td>DYDX</td>\n      <td>long_short</td>\n      <td>n</td>\n      <td>n</td>\n      <td>0.035</td>\n      <td>0.02</td>\n      <td>DYDXUSDT</td>\n    </tr>\n  </tbody>\n</table>\n<p>70 rows × 8 columns</p>\n</div>"
     },
     "execution_count": 69,
     "metadata": {},
     "output_type": "execute_result"
    }
   ],
   "source": [
    "short_symbols = ds['s'].tolist()\n",
    "print(short_symbols)\n",
    "config = pd.read_csv('run_config.csv')\n",
    "config['usdt'] = config['symbol']+'USDT'\n",
    "config = config[(config.usdt.isin(short_symbols))]\n",
    "config"
   ],
   "metadata": {
    "collapsed": false,
    "pycharm": {
     "name": "#%%\n"
    }
   }
  },
  {
   "cell_type": "markdown",
   "source": [
    "## find the ones that are not supposed to be shorted!\n",
    "short_symbols = ds['s'].tolist()\n",
    "\n",
    "config = pd.read_csv('run_config.csv')\n",
    "config['usdt'] = config['symbol']+'USDT'\n",
    "config = config[(~config.usdt.isin(short_symbols)) & (config['short_mode'] == 'n')]\n",
    "## find the risky ones!\n",
    "not_supposed_to_be_shorted = config['usdt'].tolist()\n",
    "not_supposed_to_be_shorted"
   ],
   "metadata": {
    "collapsed": false,
    "pycharm": {
     "name": "#%% md\n"
    }
   }
  },
  {
   "cell_type": "markdown",
   "source": [
    "dx\n",
    "# ss = dx['s'].tolist()\n",
    "# ss\n",
    "ds_not_good = dx[(dx.s.isin(not_supposed_to_be_shorted))]\n",
    "#s_not_good\n",
    "#ds_not_good\n",
    "ds_not_good"
   ],
   "metadata": {
    "collapsed": false,
    "pycharm": {
     "name": "#%% md\n"
    }
   }
  }
 ],
 "metadata": {
  "kernelspec": {
   "display_name": "PyCharm (passivbot)",
   "language": "python",
   "name": "pycharm-997905a8"
  },
  "language_info": {
   "codemirror_mode": {
    "name": "ipython",
    "version": 3
   },
   "file_extension": ".py",
   "mimetype": "text/x-python",
   "name": "python",
   "nbconvert_exporter": "python",
   "pygments_lexer": "ipython3",
   "version": "3.8.12"
  }
 },
 "nbformat": 4,
 "nbformat_minor": 1
}