{
 "cells": [
  {
   "cell_type": "code",
   "execution_count": 1,
   "metadata": {},
   "outputs": [],
   "source": [
    "\n",
    "%load_ext autoreload\n",
    "%autoreload 2"
   ]
  },
  {
   "cell_type": "code",
   "execution_count": 2,
   "metadata": {
    "pycharm": {
     "name": "#%%\n"
    }
   },
   "outputs": [],
   "source": [
    "import glob\n",
    "\n",
    "import pandas as pd"
   ]
  },
  {
   "cell_type": "code",
   "execution_count": 3,
   "outputs": [
    {
     "data": {
      "text/plain": "{'1000XECUSDT': 'cfgs_live\\\\1000XEC.json',\n '1INCHUSDT': 'cfgs_live\\\\1INCH.json',\n 'ADAUSDT': 'cfgs_live\\\\ADA.json',\n 'AKROUSDT': 'cfgs_live\\\\AKRO.json',\n 'ALGOUSDT': 'cfgs_live\\\\ALGO.json',\n 'ALICEUSDT': 'cfgs_live\\\\ALICE.json',\n 'ALPHAUSDT': 'cfgs_live\\\\ALPHA.json',\n 'ANKRUSDT': 'cfgs_live\\\\ANKR.json',\n 'API3USDT': 'cfgs_live\\\\API3.json',\n 'ARUSDT': 'cfgs_live\\\\AR.json',\n 'ATOMUSDT': 'cfgs_live\\\\ATOM.json',\n 'BAKEUSDT': 'cfgs_live\\\\BAKE.json',\n 'BANDUSDT': 'cfgs_live\\\\BAND.json',\n 'BELUSDT': 'cfgs_live\\\\BEL.json',\n 'BLZUSDT': 'cfgs_live\\\\BLZ.json',\n 'BTSUSDT': 'cfgs_live\\\\BTS.json',\n 'C98USDT': 'cfgs_live\\\\C98.json',\n 'CHZUSDT': 'cfgs_live\\\\CHZ.json',\n 'COMPUSDT': 'cfgs_live\\\\COMP.json',\n 'COTIUSDT': 'cfgs_live\\\\COTI.json',\n 'CRVUSDT': 'cfgs_live\\\\CRV.json',\n 'DENTUSDT': 'cfgs_live\\\\DENT.json',\n 'DGBUSDT': 'cfgs_live\\\\DGB.json',\n 'DODOUSDT': 'cfgs_live\\\\DODO.json',\n 'DOGEUSDT': 'cfgs_live\\\\DOGE.json',\n 'DUSKUSDT': 'cfgs_live\\\\DUSK.json',\n 'ENJUSDT': 'cfgs_live\\\\ENJ.json',\n 'ETCUSDT': 'cfgs_live\\\\ETC.json',\n 'FLMUSDT': 'cfgs_live\\\\FLM.json',\n 'FLOWUSDT': 'cfgs_live\\\\FLOW.json',\n 'GRTUSDT': 'cfgs_live\\\\GRT.json',\n 'GTCUSDT': 'cfgs_live\\\\GTC.json',\n 'HBARUSDT': 'cfgs_live\\\\HBAR.json',\n 'HOTUSDT': 'cfgs_live\\\\HOT.json',\n 'ICPUSDT': 'cfgs_live\\\\ICP.json',\n 'ICXUSDT': 'cfgs_live\\\\ICX.json',\n 'IOSTUSDT': 'cfgs_live\\\\IOST.json',\n 'IOTAUSDT': 'cfgs_live\\\\IOTA.json',\n 'KAVAUSDT': 'cfgs_live\\\\KAVA.json',\n 'KLAYUSDT': 'cfgs_live\\\\KLAY.json',\n 'KNCUSDT': 'cfgs_live\\\\KNC.json',\n 'LINAUSDT': 'cfgs_live\\\\LINA.json',\n 'LINKUSDT': 'cfgs_live\\\\LINK.json',\n 'LITUSDT': 'cfgs_live\\\\LIT.json',\n 'LTCUSDT': 'cfgs_live\\\\LTC.json',\n 'MATICUSDT': 'cfgs_live\\\\MATIC.json',\n 'MKRUSDT': 'cfgs_live\\\\MKR.json',\n 'MTLUSDT': 'cfgs_live\\\\MTL.json',\n 'NEOUSDT': 'cfgs_live\\\\NEO.json',\n 'NKNUSDT': 'cfgs_live\\\\NKN.json',\n 'OCEANUSDT': 'cfgs_live\\\\OCEAN.json',\n 'OGNUSDT': 'cfgs_live\\\\OGN.json',\n 'OMGUSDT': 'cfgs_live\\\\OMG.json',\n 'ONEUSDT': 'cfgs_live\\\\ONE.json',\n 'ONTUSDT': 'cfgs_live\\\\ONT.json',\n 'QTUMUSDT': 'cfgs_live\\\\QTUM.json',\n 'REEFUSDT': 'cfgs_live\\\\REEF.json',\n 'RENUSDT': 'cfgs_live\\\\REN.json',\n 'RLCUSDT': 'cfgs_live\\\\RLC.json',\n 'ROSEUSDT': 'cfgs_live\\\\ROSE.json',\n 'RVNUSDT': 'cfgs_live\\\\RVN.json',\n 'SCUSDT': 'cfgs_live\\\\SC.json',\n 'SFPUSDT': 'cfgs_live\\\\SFP.json',\n 'SNXUSDT': 'cfgs_live\\\\SNX.json',\n 'STMXUSDT': 'cfgs_live\\\\STMX.json',\n 'SUSHIUSDT': 'cfgs_live\\\\SUSHI.json',\n 'SXPUSDT': 'cfgs_live\\\\SXP.json',\n 'TLMUSDT': 'cfgs_live\\\\TLM.json',\n 'TOMOUSDT': 'cfgs_live\\\\TOMO.json',\n 'TRBUSDT': 'cfgs_live\\\\TRB.json',\n 'UNFIUSDT': 'cfgs_live\\\\UNFI.json',\n 'VETUSDT': 'cfgs_live\\\\VET.json',\n 'WAVESUSDT': 'cfgs_live\\\\WAVES.json',\n 'XLMUSDT': 'cfgs_live\\\\XLM.json',\n 'XMRUSDT': 'cfgs_live\\\\XMR.json',\n 'XRPUSDT': 'cfgs_live\\\\XRP.json',\n 'ZENUSDT': 'cfgs_live\\\\ZEN.json',\n 'ZILUSDT': 'cfgs_live\\\\ZIL.json',\n 'ZRXUSDT': 'cfgs_live\\\\ZRX.json'}"
     },
     "execution_count": 3,
     "metadata": {},
     "output_type": "execute_result"
    }
   ],
   "source": [
    "## delete the folders not in live config ( extra crap )\n",
    "live_config_files = glob.glob('cfgs_live/*', recursive=True)\n",
    "allowed_symbols = []\n",
    "symbol_files = {}\n",
    "for f in live_config_files:\n",
    "    symbol = f.split('\\\\')[-1]\n",
    "    symbol = symbol.replace('.json', 'USDT')\n",
    "    allowed_symbols.append(symbol)\n",
    "    symbol_files[symbol] = f\n",
    "symbol_files\n",
    "#allowed_symbols = [\"ALICEUSDT\",\"XRPUSDT\",\"HOTUSDT\"]"
   ],
   "metadata": {
    "collapsed": false,
    "pycharm": {
     "name": "#%%\n"
    }
   }
  },
  {
   "cell_type": "code",
   "execution_count": 4,
   "outputs": [],
   "source": [
    "# ## NOW copy result folders :)\n",
    "# import json\n",
    "# import shutil\n",
    "#\n",
    "# files = glob.iglob('backtests/binance/' + '**/live_config.json', recursive=True)\n",
    "#\n",
    "# for filename in files:\n",
    "#     with open(filename) as f:\n",
    "#         config = json.load(f)\n",
    "#     symbol = config['config_name'].split('_')[2]\n",
    "#\n",
    "#     if symbol not in symbol_files: continue\n",
    "#\n",
    "#     with open(symbol_files[symbol]) as f:\n",
    "#         production_config = json.load(f)\n",
    "#\n",
    "#     long_pc = production_config['long']\n",
    "#     long_c = config['long']\n",
    "#\n",
    "#     k_pc = long_pc.keys()\n",
    "#     k_c = long_c.keys()\n",
    "#\n",
    "#     if len(k_c) != len(k_c): continue\n",
    "#\n",
    "#     same = True\n",
    "#     for k in k_pc:\n",
    "#         if k not in k_c:\n",
    "#             same = False\n",
    "#             break\n",
    "#         v_pc = long_pc[k]\n",
    "#         v_c = long_c[k]\n",
    "#         #print(f'{k}={v_c},{v_pc}')\n",
    "#\n",
    "#     if not same: continue\n",
    "#\n",
    "#     print(f'{filename} is same as {symbol_files[symbol]}')\n",
    "#\n",
    "#     src = filename.replace('\\\\live_config.json', '')\n",
    "#     dst = f'backtests/binance_production/{symbol}'\n",
    "#     shutil.copytree(src=src, dst=dst, dirs_exist_ok=True)\n",
    "#\n"
   ],
   "metadata": {
    "collapsed": false,
    "pycharm": {
     "name": "#%%\n"
    }
   }
  },
  {
   "cell_type": "code",
   "execution_count": 5,
   "metadata": {
    "pycharm": {
     "name": "#%%\n"
    }
   },
   "outputs": [
    {
     "name": "stderr",
     "output_type": "stream",
     "text": [
      "C:\\Users\\skhan\\AppData\\Local\\Temp/ipykernel_284248/891417201.py:47: FutureWarning: The frame.append method is deprecated and will be removed from pandas in a future version. Use pandas.concat instead.\n",
      "  big_data = big_data.append(d, ignore_index=True)\n",
      "C:\\Users\\skhan\\AppData\\Local\\Temp/ipykernel_284248/891417201.py:47: FutureWarning: The frame.append method is deprecated and will be removed from pandas in a future version. Use pandas.concat instead.\n",
      "  big_data = big_data.append(d, ignore_index=True)\n",
      "C:\\Users\\skhan\\AppData\\Local\\Temp/ipykernel_284248/891417201.py:47: FutureWarning: The frame.append method is deprecated and will be removed from pandas in a future version. Use pandas.concat instead.\n",
      "  big_data = big_data.append(d, ignore_index=True)\n",
      "C:\\Users\\skhan\\AppData\\Local\\Temp/ipykernel_284248/891417201.py:47: FutureWarning: The frame.append method is deprecated and will be removed from pandas in a future version. Use pandas.concat instead.\n",
      "  big_data = big_data.append(d, ignore_index=True)\n",
      "C:\\Users\\skhan\\AppData\\Local\\Temp/ipykernel_284248/891417201.py:47: FutureWarning: The frame.append method is deprecated and will be removed from pandas in a future version. Use pandas.concat instead.\n",
      "  big_data = big_data.append(d, ignore_index=True)\n",
      "C:\\Users\\skhan\\AppData\\Local\\Temp/ipykernel_284248/891417201.py:47: FutureWarning: The frame.append method is deprecated and will be removed from pandas in a future version. Use pandas.concat instead.\n",
      "  big_data = big_data.append(d, ignore_index=True)\n",
      "C:\\Users\\skhan\\AppData\\Local\\Temp/ipykernel_284248/891417201.py:47: FutureWarning: The frame.append method is deprecated and will be removed from pandas in a future version. Use pandas.concat instead.\n",
      "  big_data = big_data.append(d, ignore_index=True)\n",
      "C:\\Users\\skhan\\AppData\\Local\\Temp/ipykernel_284248/891417201.py:47: FutureWarning: The frame.append method is deprecated and will be removed from pandas in a future version. Use pandas.concat instead.\n",
      "  big_data = big_data.append(d, ignore_index=True)\n",
      "C:\\Users\\skhan\\AppData\\Local\\Temp/ipykernel_284248/891417201.py:47: FutureWarning: The frame.append method is deprecated and will be removed from pandas in a future version. Use pandas.concat instead.\n",
      "  big_data = big_data.append(d, ignore_index=True)\n",
      "C:\\Users\\skhan\\AppData\\Local\\Temp/ipykernel_284248/891417201.py:47: FutureWarning: The frame.append method is deprecated and will be removed from pandas in a future version. Use pandas.concat instead.\n",
      "  big_data = big_data.append(d, ignore_index=True)\n",
      "C:\\Users\\skhan\\AppData\\Local\\Temp/ipykernel_284248/891417201.py:47: FutureWarning: The frame.append method is deprecated and will be removed from pandas in a future version. Use pandas.concat instead.\n",
      "  big_data = big_data.append(d, ignore_index=True)\n",
      "C:\\Users\\skhan\\AppData\\Local\\Temp/ipykernel_284248/891417201.py:47: FutureWarning: The frame.append method is deprecated and will be removed from pandas in a future version. Use pandas.concat instead.\n",
      "  big_data = big_data.append(d, ignore_index=True)\n",
      "C:\\Users\\skhan\\AppData\\Local\\Temp/ipykernel_284248/891417201.py:47: FutureWarning: The frame.append method is deprecated and will be removed from pandas in a future version. Use pandas.concat instead.\n",
      "  big_data = big_data.append(d, ignore_index=True)\n",
      "C:\\Users\\skhan\\AppData\\Local\\Temp/ipykernel_284248/891417201.py:47: FutureWarning: The frame.append method is deprecated and will be removed from pandas in a future version. Use pandas.concat instead.\n",
      "  big_data = big_data.append(d, ignore_index=True)\n",
      "C:\\Users\\skhan\\AppData\\Local\\Temp/ipykernel_284248/891417201.py:47: FutureWarning: The frame.append method is deprecated and will be removed from pandas in a future version. Use pandas.concat instead.\n",
      "  big_data = big_data.append(d, ignore_index=True)\n",
      "C:\\Users\\skhan\\AppData\\Local\\Temp/ipykernel_284248/891417201.py:47: FutureWarning: The frame.append method is deprecated and will be removed from pandas in a future version. Use pandas.concat instead.\n",
      "  big_data = big_data.append(d, ignore_index=True)\n",
      "C:\\Users\\skhan\\AppData\\Local\\Temp/ipykernel_284248/891417201.py:47: FutureWarning: The frame.append method is deprecated and will be removed from pandas in a future version. Use pandas.concat instead.\n",
      "  big_data = big_data.append(d, ignore_index=True)\n",
      "C:\\Users\\skhan\\AppData\\Local\\Temp/ipykernel_284248/891417201.py:47: FutureWarning: The frame.append method is deprecated and will be removed from pandas in a future version. Use pandas.concat instead.\n",
      "  big_data = big_data.append(d, ignore_index=True)\n",
      "C:\\Users\\skhan\\AppData\\Local\\Temp/ipykernel_284248/891417201.py:47: FutureWarning: The frame.append method is deprecated and will be removed from pandas in a future version. Use pandas.concat instead.\n",
      "  big_data = big_data.append(d, ignore_index=True)\n",
      "C:\\Users\\skhan\\AppData\\Local\\Temp/ipykernel_284248/891417201.py:47: FutureWarning: The frame.append method is deprecated and will be removed from pandas in a future version. Use pandas.concat instead.\n",
      "  big_data = big_data.append(d, ignore_index=True)\n",
      "C:\\Users\\skhan\\AppData\\Local\\Temp/ipykernel_284248/891417201.py:47: FutureWarning: The frame.append method is deprecated and will be removed from pandas in a future version. Use pandas.concat instead.\n",
      "  big_data = big_data.append(d, ignore_index=True)\n",
      "C:\\Users\\skhan\\AppData\\Local\\Temp/ipykernel_284248/891417201.py:47: FutureWarning: The frame.append method is deprecated and will be removed from pandas in a future version. Use pandas.concat instead.\n",
      "  big_data = big_data.append(d, ignore_index=True)\n",
      "C:\\Users\\skhan\\AppData\\Local\\Temp/ipykernel_284248/891417201.py:47: FutureWarning: The frame.append method is deprecated and will be removed from pandas in a future version. Use pandas.concat instead.\n",
      "  big_data = big_data.append(d, ignore_index=True)\n",
      "C:\\Users\\skhan\\AppData\\Local\\Temp/ipykernel_284248/891417201.py:47: FutureWarning: The frame.append method is deprecated and will be removed from pandas in a future version. Use pandas.concat instead.\n",
      "  big_data = big_data.append(d, ignore_index=True)\n",
      "C:\\Users\\skhan\\AppData\\Local\\Temp/ipykernel_284248/891417201.py:47: FutureWarning: The frame.append method is deprecated and will be removed from pandas in a future version. Use pandas.concat instead.\n",
      "  big_data = big_data.append(d, ignore_index=True)\n",
      "C:\\Users\\skhan\\AppData\\Local\\Temp/ipykernel_284248/891417201.py:47: FutureWarning: The frame.append method is deprecated and will be removed from pandas in a future version. Use pandas.concat instead.\n",
      "  big_data = big_data.append(d, ignore_index=True)\n",
      "C:\\Users\\skhan\\AppData\\Local\\Temp/ipykernel_284248/891417201.py:47: FutureWarning: The frame.append method is deprecated and will be removed from pandas in a future version. Use pandas.concat instead.\n",
      "  big_data = big_data.append(d, ignore_index=True)\n",
      "C:\\Users\\skhan\\AppData\\Local\\Temp/ipykernel_284248/891417201.py:47: FutureWarning: The frame.append method is deprecated and will be removed from pandas in a future version. Use pandas.concat instead.\n",
      "  big_data = big_data.append(d, ignore_index=True)\n",
      "C:\\Users\\skhan\\AppData\\Local\\Temp/ipykernel_284248/891417201.py:47: FutureWarning: The frame.append method is deprecated and will be removed from pandas in a future version. Use pandas.concat instead.\n",
      "  big_data = big_data.append(d, ignore_index=True)\n",
      "C:\\Users\\skhan\\AppData\\Local\\Temp/ipykernel_284248/891417201.py:47: FutureWarning: The frame.append method is deprecated and will be removed from pandas in a future version. Use pandas.concat instead.\n",
      "  big_data = big_data.append(d, ignore_index=True)\n",
      "C:\\Users\\skhan\\AppData\\Local\\Temp/ipykernel_284248/891417201.py:47: FutureWarning: The frame.append method is deprecated and will be removed from pandas in a future version. Use pandas.concat instead.\n",
      "  big_data = big_data.append(d, ignore_index=True)\n",
      "C:\\Users\\skhan\\AppData\\Local\\Temp/ipykernel_284248/891417201.py:47: FutureWarning: The frame.append method is deprecated and will be removed from pandas in a future version. Use pandas.concat instead.\n",
      "  big_data = big_data.append(d, ignore_index=True)\n",
      "C:\\Users\\skhan\\AppData\\Local\\Temp/ipykernel_284248/891417201.py:47: FutureWarning: The frame.append method is deprecated and will be removed from pandas in a future version. Use pandas.concat instead.\n",
      "  big_data = big_data.append(d, ignore_index=True)\n",
      "C:\\Users\\skhan\\AppData\\Local\\Temp/ipykernel_284248/891417201.py:47: FutureWarning: The frame.append method is deprecated and will be removed from pandas in a future version. Use pandas.concat instead.\n",
      "  big_data = big_data.append(d, ignore_index=True)\n",
      "C:\\Users\\skhan\\AppData\\Local\\Temp/ipykernel_284248/891417201.py:47: FutureWarning: The frame.append method is deprecated and will be removed from pandas in a future version. Use pandas.concat instead.\n",
      "  big_data = big_data.append(d, ignore_index=True)\n",
      "C:\\Users\\skhan\\AppData\\Local\\Temp/ipykernel_284248/891417201.py:47: FutureWarning: The frame.append method is deprecated and will be removed from pandas in a future version. Use pandas.concat instead.\n",
      "  big_data = big_data.append(d, ignore_index=True)\n",
      "C:\\Users\\skhan\\AppData\\Local\\Temp/ipykernel_284248/891417201.py:47: FutureWarning: The frame.append method is deprecated and will be removed from pandas in a future version. Use pandas.concat instead.\n",
      "  big_data = big_data.append(d, ignore_index=True)\n",
      "C:\\Users\\skhan\\AppData\\Local\\Temp/ipykernel_284248/891417201.py:47: FutureWarning: The frame.append method is deprecated and will be removed from pandas in a future version. Use pandas.concat instead.\n",
      "  big_data = big_data.append(d, ignore_index=True)\n",
      "C:\\Users\\skhan\\AppData\\Local\\Temp/ipykernel_284248/891417201.py:47: FutureWarning: The frame.append method is deprecated and will be removed from pandas in a future version. Use pandas.concat instead.\n",
      "  big_data = big_data.append(d, ignore_index=True)\n",
      "C:\\Users\\skhan\\AppData\\Local\\Temp/ipykernel_284248/891417201.py:47: FutureWarning: The frame.append method is deprecated and will be removed from pandas in a future version. Use pandas.concat instead.\n",
      "  big_data = big_data.append(d, ignore_index=True)\n",
      "C:\\Users\\skhan\\AppData\\Local\\Temp/ipykernel_284248/891417201.py:47: FutureWarning: The frame.append method is deprecated and will be removed from pandas in a future version. Use pandas.concat instead.\n",
      "  big_data = big_data.append(d, ignore_index=True)\n",
      "C:\\Users\\skhan\\AppData\\Local\\Temp/ipykernel_284248/891417201.py:47: FutureWarning: The frame.append method is deprecated and will be removed from pandas in a future version. Use pandas.concat instead.\n",
      "  big_data = big_data.append(d, ignore_index=True)\n",
      "C:\\Users\\skhan\\AppData\\Local\\Temp/ipykernel_284248/891417201.py:47: FutureWarning: The frame.append method is deprecated and will be removed from pandas in a future version. Use pandas.concat instead.\n",
      "  big_data = big_data.append(d, ignore_index=True)\n",
      "C:\\Users\\skhan\\AppData\\Local\\Temp/ipykernel_284248/891417201.py:47: FutureWarning: The frame.append method is deprecated and will be removed from pandas in a future version. Use pandas.concat instead.\n",
      "  big_data = big_data.append(d, ignore_index=True)\n",
      "C:\\Users\\skhan\\AppData\\Local\\Temp/ipykernel_284248/891417201.py:47: FutureWarning: The frame.append method is deprecated and will be removed from pandas in a future version. Use pandas.concat instead.\n",
      "  big_data = big_data.append(d, ignore_index=True)\n",
      "C:\\Users\\skhan\\AppData\\Local\\Temp/ipykernel_284248/891417201.py:47: FutureWarning: The frame.append method is deprecated and will be removed from pandas in a future version. Use pandas.concat instead.\n",
      "  big_data = big_data.append(d, ignore_index=True)\n",
      "C:\\Users\\skhan\\AppData\\Local\\Temp/ipykernel_284248/891417201.py:47: FutureWarning: The frame.append method is deprecated and will be removed from pandas in a future version. Use pandas.concat instead.\n",
      "  big_data = big_data.append(d, ignore_index=True)\n",
      "C:\\Users\\skhan\\AppData\\Local\\Temp/ipykernel_284248/891417201.py:47: FutureWarning: The frame.append method is deprecated and will be removed from pandas in a future version. Use pandas.concat instead.\n",
      "  big_data = big_data.append(d, ignore_index=True)\n",
      "C:\\Users\\skhan\\AppData\\Local\\Temp/ipykernel_284248/891417201.py:47: FutureWarning: The frame.append method is deprecated and will be removed from pandas in a future version. Use pandas.concat instead.\n",
      "  big_data = big_data.append(d, ignore_index=True)\n",
      "C:\\Users\\skhan\\AppData\\Local\\Temp/ipykernel_284248/891417201.py:47: FutureWarning: The frame.append method is deprecated and will be removed from pandas in a future version. Use pandas.concat instead.\n",
      "  big_data = big_data.append(d, ignore_index=True)\n",
      "C:\\Users\\skhan\\AppData\\Local\\Temp/ipykernel_284248/891417201.py:47: FutureWarning: The frame.append method is deprecated and will be removed from pandas in a future version. Use pandas.concat instead.\n",
      "  big_data = big_data.append(d, ignore_index=True)\n",
      "C:\\Users\\skhan\\AppData\\Local\\Temp/ipykernel_284248/891417201.py:47: FutureWarning: The frame.append method is deprecated and will be removed from pandas in a future version. Use pandas.concat instead.\n",
      "  big_data = big_data.append(d, ignore_index=True)\n",
      "C:\\Users\\skhan\\AppData\\Local\\Temp/ipykernel_284248/891417201.py:47: FutureWarning: The frame.append method is deprecated and will be removed from pandas in a future version. Use pandas.concat instead.\n",
      "  big_data = big_data.append(d, ignore_index=True)\n",
      "C:\\Users\\skhan\\AppData\\Local\\Temp/ipykernel_284248/891417201.py:47: FutureWarning: The frame.append method is deprecated and will be removed from pandas in a future version. Use pandas.concat instead.\n",
      "  big_data = big_data.append(d, ignore_index=True)\n",
      "C:\\Users\\skhan\\AppData\\Local\\Temp/ipykernel_284248/891417201.py:47: FutureWarning: The frame.append method is deprecated and will be removed from pandas in a future version. Use pandas.concat instead.\n",
      "  big_data = big_data.append(d, ignore_index=True)\n",
      "C:\\Users\\skhan\\AppData\\Local\\Temp/ipykernel_284248/891417201.py:47: FutureWarning: The frame.append method is deprecated and will be removed from pandas in a future version. Use pandas.concat instead.\n",
      "  big_data = big_data.append(d, ignore_index=True)\n",
      "C:\\Users\\skhan\\AppData\\Local\\Temp/ipykernel_284248/891417201.py:47: FutureWarning: The frame.append method is deprecated and will be removed from pandas in a future version. Use pandas.concat instead.\n",
      "  big_data = big_data.append(d, ignore_index=True)\n",
      "C:\\Users\\skhan\\AppData\\Local\\Temp/ipykernel_284248/891417201.py:47: FutureWarning: The frame.append method is deprecated and will be removed from pandas in a future version. Use pandas.concat instead.\n",
      "  big_data = big_data.append(d, ignore_index=True)\n",
      "C:\\Users\\skhan\\AppData\\Local\\Temp/ipykernel_284248/891417201.py:47: FutureWarning: The frame.append method is deprecated and will be removed from pandas in a future version. Use pandas.concat instead.\n",
      "  big_data = big_data.append(d, ignore_index=True)\n",
      "C:\\Users\\skhan\\AppData\\Local\\Temp/ipykernel_284248/891417201.py:47: FutureWarning: The frame.append method is deprecated and will be removed from pandas in a future version. Use pandas.concat instead.\n",
      "  big_data = big_data.append(d, ignore_index=True)\n",
      "C:\\Users\\skhan\\AppData\\Local\\Temp/ipykernel_284248/891417201.py:47: FutureWarning: The frame.append method is deprecated and will be removed from pandas in a future version. Use pandas.concat instead.\n",
      "  big_data = big_data.append(d, ignore_index=True)\n",
      "C:\\Users\\skhan\\AppData\\Local\\Temp/ipykernel_284248/891417201.py:47: FutureWarning: The frame.append method is deprecated and will be removed from pandas in a future version. Use pandas.concat instead.\n",
      "  big_data = big_data.append(d, ignore_index=True)\n",
      "C:\\Users\\skhan\\AppData\\Local\\Temp/ipykernel_284248/891417201.py:47: FutureWarning: The frame.append method is deprecated and will be removed from pandas in a future version. Use pandas.concat instead.\n",
      "  big_data = big_data.append(d, ignore_index=True)\n",
      "C:\\Users\\skhan\\AppData\\Local\\Temp/ipykernel_284248/891417201.py:47: FutureWarning: The frame.append method is deprecated and will be removed from pandas in a future version. Use pandas.concat instead.\n",
      "  big_data = big_data.append(d, ignore_index=True)\n",
      "C:\\Users\\skhan\\AppData\\Local\\Temp/ipykernel_284248/891417201.py:47: FutureWarning: The frame.append method is deprecated and will be removed from pandas in a future version. Use pandas.concat instead.\n",
      "  big_data = big_data.append(d, ignore_index=True)\n",
      "C:\\Users\\skhan\\AppData\\Local\\Temp/ipykernel_284248/891417201.py:47: FutureWarning: The frame.append method is deprecated and will be removed from pandas in a future version. Use pandas.concat instead.\n",
      "  big_data = big_data.append(d, ignore_index=True)\n",
      "C:\\Users\\skhan\\AppData\\Local\\Temp/ipykernel_284248/891417201.py:47: FutureWarning: The frame.append method is deprecated and will be removed from pandas in a future version. Use pandas.concat instead.\n",
      "  big_data = big_data.append(d, ignore_index=True)\n",
      "C:\\Users\\skhan\\AppData\\Local\\Temp/ipykernel_284248/891417201.py:47: FutureWarning: The frame.append method is deprecated and will be removed from pandas in a future version. Use pandas.concat instead.\n",
      "  big_data = big_data.append(d, ignore_index=True)\n",
      "C:\\Users\\skhan\\AppData\\Local\\Temp/ipykernel_284248/891417201.py:47: FutureWarning: The frame.append method is deprecated and will be removed from pandas in a future version. Use pandas.concat instead.\n",
      "  big_data = big_data.append(d, ignore_index=True)\n",
      "C:\\Users\\skhan\\AppData\\Local\\Temp/ipykernel_284248/891417201.py:47: FutureWarning: The frame.append method is deprecated and will be removed from pandas in a future version. Use pandas.concat instead.\n",
      "  big_data = big_data.append(d, ignore_index=True)\n",
      "C:\\Users\\skhan\\AppData\\Local\\Temp/ipykernel_284248/891417201.py:47: FutureWarning: The frame.append method is deprecated and will be removed from pandas in a future version. Use pandas.concat instead.\n",
      "  big_data = big_data.append(d, ignore_index=True)\n",
      "C:\\Users\\skhan\\AppData\\Local\\Temp/ipykernel_284248/891417201.py:47: FutureWarning: The frame.append method is deprecated and will be removed from pandas in a future version. Use pandas.concat instead.\n",
      "  big_data = big_data.append(d, ignore_index=True)\n",
      "C:\\Users\\skhan\\AppData\\Local\\Temp/ipykernel_284248/891417201.py:47: FutureWarning: The frame.append method is deprecated and will be removed from pandas in a future version. Use pandas.concat instead.\n",
      "  big_data = big_data.append(d, ignore_index=True)\n",
      "C:\\Users\\skhan\\AppData\\Local\\Temp/ipykernel_284248/891417201.py:47: FutureWarning: The frame.append method is deprecated and will be removed from pandas in a future version. Use pandas.concat instead.\n",
      "  big_data = big_data.append(d, ignore_index=True)\n",
      "C:\\Users\\skhan\\AppData\\Local\\Temp/ipykernel_284248/891417201.py:47: FutureWarning: The frame.append method is deprecated and will be removed from pandas in a future version. Use pandas.concat instead.\n",
      "  big_data = big_data.append(d, ignore_index=True)\n",
      "C:\\Users\\skhan\\AppData\\Local\\Temp/ipykernel_284248/891417201.py:47: FutureWarning: The frame.append method is deprecated and will be removed from pandas in a future version. Use pandas.concat instead.\n",
      "  big_data = big_data.append(d, ignore_index=True)\n",
      "C:\\Users\\skhan\\AppData\\Local\\Temp/ipykernel_284248/891417201.py:47: FutureWarning: The frame.append method is deprecated and will be removed from pandas in a future version. Use pandas.concat instead.\n",
      "  big_data = big_data.append(d, ignore_index=True)\n",
      "C:\\Users\\skhan\\AppData\\Local\\Temp/ipykernel_284248/891417201.py:47: FutureWarning: The frame.append method is deprecated and will be removed from pandas in a future version. Use pandas.concat instead.\n",
      "  big_data = big_data.append(d, ignore_index=True)\n",
      "C:\\Users\\skhan\\AppData\\Local\\Temp/ipykernel_284248/891417201.py:47: FutureWarning: The frame.append method is deprecated and will be removed from pandas in a future version. Use pandas.concat instead.\n",
      "  big_data = big_data.append(d, ignore_index=True)\n"
     ]
    },
    {
     "data": {
      "text/plain": "                                file    v            s  long   tgl_%  adgl_%  \\\n0   \\1000XECUSDT\\backtest_result.txt  5.5  1000XECUSDT  True   8.699  0.0210   \n1     \\1INCHUSDT\\backtest_result.txt  5.5    1INCHUSDT  True  15.600  0.0512   \n2       \\ADAUSDT\\backtest_result.txt  5.5      ADAUSDT  True  12.870  0.0248   \n3      \\AKROUSDT\\backtest_result.txt  5.5     AKROUSDT  True  22.200  0.0709   \n4      \\ALGOUSDT\\backtest_result.txt  5.5     ALGOUSDT  True  25.110  0.0811   \n..                               ...  ...          ...   ...     ...     ...   \n74      \\XMRUSDT\\backtest_result.txt  5.5      XMRUSDT  True   4.557  0.0178   \n75      \\XRPUSDT\\backtest_result.txt  5.5      XRPUSDT  True -50.600 -1.6800   \n76      \\ZENUSDT\\backtest_result.txt  5.5      ZENUSDT  True  41.930  0.1300   \n77      \\ZILUSDT\\backtest_result.txt  5.5      ZILUSDT  True   3.347  0.0125   \n78      \\ZRXUSDT\\backtest_result.txt  5.5      ZRXUSDT  True  26.020  0.0837   \n\n    bnkrl_%    ebrl  short   tgs_%  adgs_%  bnkrs_%    ebrs  \n0    100.00  0.9114   True  39.490  0.1260    100.0  0.8667  \n1    100.00  0.8765   True  30.010  0.0896    100.0  0.6393  \n2    100.00  0.8961   True  21.780  0.0495    100.0  0.7763  \n3    100.00  0.9258   True   8.130  0.0260    100.0  0.8021  \n4    100.00  0.9135   True   8.388  0.0203    100.0  0.7959  \n..      ...     ...    ...     ...     ...      ...     ...  \n74   100.00  0.8897   True  16.830  0.0344    100.0  0.8464  \n75     5.99  0.8771   True   3.811 -0.0122    100.0  0.6800  \n76   100.00  0.8677   True  12.430  0.0286    100.0  0.7565  \n77   100.00  0.8991   True  16.280 -0.0436    100.0  0.6366  \n78   100.00  0.9284   True  12.080  0.0227    100.0  0.7776  \n\n[79 rows x 13 columns]",
      "text/html": "<div>\n<style scoped>\n    .dataframe tbody tr th:only-of-type {\n        vertical-align: middle;\n    }\n\n    .dataframe tbody tr th {\n        vertical-align: top;\n    }\n\n    .dataframe thead th {\n        text-align: right;\n    }\n</style>\n<table border=\"1\" class=\"dataframe\">\n  <thead>\n    <tr style=\"text-align: right;\">\n      <th></th>\n      <th>file</th>\n      <th>v</th>\n      <th>s</th>\n      <th>long</th>\n      <th>tgl_%</th>\n      <th>adgl_%</th>\n      <th>bnkrl_%</th>\n      <th>ebrl</th>\n      <th>short</th>\n      <th>tgs_%</th>\n      <th>adgs_%</th>\n      <th>bnkrs_%</th>\n      <th>ebrs</th>\n    </tr>\n  </thead>\n  <tbody>\n    <tr>\n      <th>0</th>\n      <td>\\1000XECUSDT\\backtest_result.txt</td>\n      <td>5.5</td>\n      <td>1000XECUSDT</td>\n      <td>True</td>\n      <td>8.699</td>\n      <td>0.0210</td>\n      <td>100.00</td>\n      <td>0.9114</td>\n      <td>True</td>\n      <td>39.490</td>\n      <td>0.1260</td>\n      <td>100.0</td>\n      <td>0.8667</td>\n    </tr>\n    <tr>\n      <th>1</th>\n      <td>\\1INCHUSDT\\backtest_result.txt</td>\n      <td>5.5</td>\n      <td>1INCHUSDT</td>\n      <td>True</td>\n      <td>15.600</td>\n      <td>0.0512</td>\n      <td>100.00</td>\n      <td>0.8765</td>\n      <td>True</td>\n      <td>30.010</td>\n      <td>0.0896</td>\n      <td>100.0</td>\n      <td>0.6393</td>\n    </tr>\n    <tr>\n      <th>2</th>\n      <td>\\ADAUSDT\\backtest_result.txt</td>\n      <td>5.5</td>\n      <td>ADAUSDT</td>\n      <td>True</td>\n      <td>12.870</td>\n      <td>0.0248</td>\n      <td>100.00</td>\n      <td>0.8961</td>\n      <td>True</td>\n      <td>21.780</td>\n      <td>0.0495</td>\n      <td>100.0</td>\n      <td>0.7763</td>\n    </tr>\n    <tr>\n      <th>3</th>\n      <td>\\AKROUSDT\\backtest_result.txt</td>\n      <td>5.5</td>\n      <td>AKROUSDT</td>\n      <td>True</td>\n      <td>22.200</td>\n      <td>0.0709</td>\n      <td>100.00</td>\n      <td>0.9258</td>\n      <td>True</td>\n      <td>8.130</td>\n      <td>0.0260</td>\n      <td>100.0</td>\n      <td>0.8021</td>\n    </tr>\n    <tr>\n      <th>4</th>\n      <td>\\ALGOUSDT\\backtest_result.txt</td>\n      <td>5.5</td>\n      <td>ALGOUSDT</td>\n      <td>True</td>\n      <td>25.110</td>\n      <td>0.0811</td>\n      <td>100.00</td>\n      <td>0.9135</td>\n      <td>True</td>\n      <td>8.388</td>\n      <td>0.0203</td>\n      <td>100.0</td>\n      <td>0.7959</td>\n    </tr>\n    <tr>\n      <th>...</th>\n      <td>...</td>\n      <td>...</td>\n      <td>...</td>\n      <td>...</td>\n      <td>...</td>\n      <td>...</td>\n      <td>...</td>\n      <td>...</td>\n      <td>...</td>\n      <td>...</td>\n      <td>...</td>\n      <td>...</td>\n      <td>...</td>\n    </tr>\n    <tr>\n      <th>74</th>\n      <td>\\XMRUSDT\\backtest_result.txt</td>\n      <td>5.5</td>\n      <td>XMRUSDT</td>\n      <td>True</td>\n      <td>4.557</td>\n      <td>0.0178</td>\n      <td>100.00</td>\n      <td>0.8897</td>\n      <td>True</td>\n      <td>16.830</td>\n      <td>0.0344</td>\n      <td>100.0</td>\n      <td>0.8464</td>\n    </tr>\n    <tr>\n      <th>75</th>\n      <td>\\XRPUSDT\\backtest_result.txt</td>\n      <td>5.5</td>\n      <td>XRPUSDT</td>\n      <td>True</td>\n      <td>-50.600</td>\n      <td>-1.6800</td>\n      <td>5.99</td>\n      <td>0.8771</td>\n      <td>True</td>\n      <td>3.811</td>\n      <td>-0.0122</td>\n      <td>100.0</td>\n      <td>0.6800</td>\n    </tr>\n    <tr>\n      <th>76</th>\n      <td>\\ZENUSDT\\backtest_result.txt</td>\n      <td>5.5</td>\n      <td>ZENUSDT</td>\n      <td>True</td>\n      <td>41.930</td>\n      <td>0.1300</td>\n      <td>100.00</td>\n      <td>0.8677</td>\n      <td>True</td>\n      <td>12.430</td>\n      <td>0.0286</td>\n      <td>100.0</td>\n      <td>0.7565</td>\n    </tr>\n    <tr>\n      <th>77</th>\n      <td>\\ZILUSDT\\backtest_result.txt</td>\n      <td>5.5</td>\n      <td>ZILUSDT</td>\n      <td>True</td>\n      <td>3.347</td>\n      <td>0.0125</td>\n      <td>100.00</td>\n      <td>0.8991</td>\n      <td>True</td>\n      <td>16.280</td>\n      <td>-0.0436</td>\n      <td>100.0</td>\n      <td>0.6366</td>\n    </tr>\n    <tr>\n      <th>78</th>\n      <td>\\ZRXUSDT\\backtest_result.txt</td>\n      <td>5.5</td>\n      <td>ZRXUSDT</td>\n      <td>True</td>\n      <td>26.020</td>\n      <td>0.0837</td>\n      <td>100.00</td>\n      <td>0.9284</td>\n      <td>True</td>\n      <td>12.080</td>\n      <td>0.0227</td>\n      <td>100.0</td>\n      <td>0.7776</td>\n    </tr>\n  </tbody>\n</table>\n<p>79 rows × 13 columns</p>\n</div>"
     },
     "execution_count": 5,
     "metadata": {},
     "output_type": "execute_result"
    }
   ],
   "source": [
    "big_data = pd.DataFrame()\n",
    "files = glob.iglob('backtests/binance_production/' + '**/backtest_result.txt', recursive=True)\n",
    "i = 0\n",
    "for filename in files:\n",
    "    #print(f'parsing : {filename}')\n",
    "    with open(filename, 'r') as file:\n",
    "        data = file.read().split('\\n')\n",
    "        d = {'file': filename.replace('backtests/binance_production','')}\n",
    "        current_state = 'long'\n",
    "        for l in data:\n",
    "            l = l.split('|')\n",
    "            if len(l) == 4:\n",
    "                key = l[1].strip()\n",
    "                value = l[2].strip()\n",
    "\n",
    "                if key == 'Passivbot Version':\n",
    "                    d['v'] = value\n",
    "                if key == 'Symbol':\n",
    "                    d['s'] = value\n",
    "\n",
    "                if key == 'Long':\n",
    "                    current_state = 'long'\n",
    "                    d['long'] = bool(value) or False\n",
    "                if key == 'Short':\n",
    "                    current_state = 'short'\n",
    "                    d['short'] = bool(value) or False\n",
    "\n",
    "                if key == 'Total gain' and current_state == 'long':\n",
    "                    d['tgl_%'] = float(value.replace('%', '').strip())\n",
    "                if key == 'Average daily gain' and current_state == 'long':\n",
    "                    d['adgl_%'] = float(value.replace('%', '').strip())\n",
    "                if key == 'Closest bankruptcy' and current_state == 'long':\n",
    "                    d['bnkrl_%'] = float(value.replace('%', '').strip())\n",
    "                if key == 'Lowest equity/balance ratio' and current_state == 'long':\n",
    "                    d['ebrl'] = float(value.replace('%', '').strip())\n",
    "\n",
    "                if key == 'Total gain' and current_state == 'short':\n",
    "                    d['tgs_%'] = float(value.replace('%', '').strip())\n",
    "                if key == 'Average daily gain' and current_state == 'short':\n",
    "                    d['adgs_%'] = float(value.replace('%', '').strip())\n",
    "                if key == 'Closest bankruptcy' and current_state == 'short':\n",
    "                    d['bnkrs_%'] = float(value.replace('%', '').strip())\n",
    "                if key == 'Lowest equity/balance ratio' and current_state == 'short':\n",
    "                    d['ebrs'] = float(value.replace('%', '').strip())\n",
    "\n",
    "        #d['adgt_%'] = d['adgl_%']+d['adgs_%']\n",
    "        big_data = big_data.append(d, ignore_index=True)\n",
    "\n",
    "big_data"
   ]
  },
  {
   "cell_type": "markdown",
   "metadata": {},
   "source": [
    "Now filter the dataframe"
   ]
  },
  {
   "cell_type": "code",
   "execution_count": 6,
   "metadata": {
    "pycharm": {
     "name": "#%%\n"
    }
   },
   "outputs": [
    {
     "data": {
      "text/plain": "                                file    v            s  long   tgl_%  adgl_%  \\\n0   \\1000XECUSDT\\backtest_result.txt  5.5  1000XECUSDT  True   8.699  0.0210   \n1     \\1INCHUSDT\\backtest_result.txt  5.5    1INCHUSDT  True  15.600  0.0512   \n2       \\ADAUSDT\\backtest_result.txt  5.5      ADAUSDT  True  12.870  0.0248   \n3      \\AKROUSDT\\backtest_result.txt  5.5     AKROUSDT  True  22.200  0.0709   \n4      \\ALGOUSDT\\backtest_result.txt  5.5     ALGOUSDT  True  25.110  0.0811   \n..                               ...  ...          ...   ...     ...     ...   \n74      \\XMRUSDT\\backtest_result.txt  5.5      XMRUSDT  True   4.557  0.0178   \n75      \\XRPUSDT\\backtest_result.txt  5.5      XRPUSDT  True -50.600 -1.6800   \n76      \\ZENUSDT\\backtest_result.txt  5.5      ZENUSDT  True  41.930  0.1300   \n77      \\ZILUSDT\\backtest_result.txt  5.5      ZILUSDT  True   3.347  0.0125   \n78      \\ZRXUSDT\\backtest_result.txt  5.5      ZRXUSDT  True  26.020  0.0837   \n\n    bnkrl_%    ebrl  short   tgs_%  adgs_%  bnkrs_%    ebrs  adgt_%  \n0    100.00  0.9114   True  39.490  0.1260    100.0  0.8667  0.1470  \n1    100.00  0.8765   True  30.010  0.0896    100.0  0.6393  0.1408  \n2    100.00  0.8961   True  21.780  0.0495    100.0  0.7763  0.0743  \n3    100.00  0.9258   True   8.130  0.0260    100.0  0.8021  0.0969  \n4    100.00  0.9135   True   8.388  0.0203    100.0  0.7959  0.1014  \n..      ...     ...    ...     ...     ...      ...     ...     ...  \n74   100.00  0.8897   True  16.830  0.0344    100.0  0.8464  0.0522  \n75     5.99  0.8771   True   3.811 -0.0122    100.0  0.6800 -1.6922  \n76   100.00  0.8677   True  12.430  0.0286    100.0  0.7565  0.1586  \n77   100.00  0.8991   True  16.280 -0.0436    100.0  0.6366 -0.0311  \n78   100.00  0.9284   True  12.080  0.0227    100.0  0.7776  0.1064  \n\n[79 rows x 14 columns]",
      "text/html": "<div>\n<style scoped>\n    .dataframe tbody tr th:only-of-type {\n        vertical-align: middle;\n    }\n\n    .dataframe tbody tr th {\n        vertical-align: top;\n    }\n\n    .dataframe thead th {\n        text-align: right;\n    }\n</style>\n<table border=\"1\" class=\"dataframe\">\n  <thead>\n    <tr style=\"text-align: right;\">\n      <th></th>\n      <th>file</th>\n      <th>v</th>\n      <th>s</th>\n      <th>long</th>\n      <th>tgl_%</th>\n      <th>adgl_%</th>\n      <th>bnkrl_%</th>\n      <th>ebrl</th>\n      <th>short</th>\n      <th>tgs_%</th>\n      <th>adgs_%</th>\n      <th>bnkrs_%</th>\n      <th>ebrs</th>\n      <th>adgt_%</th>\n    </tr>\n  </thead>\n  <tbody>\n    <tr>\n      <th>0</th>\n      <td>\\1000XECUSDT\\backtest_result.txt</td>\n      <td>5.5</td>\n      <td>1000XECUSDT</td>\n      <td>True</td>\n      <td>8.699</td>\n      <td>0.0210</td>\n      <td>100.00</td>\n      <td>0.9114</td>\n      <td>True</td>\n      <td>39.490</td>\n      <td>0.1260</td>\n      <td>100.0</td>\n      <td>0.8667</td>\n      <td>0.1470</td>\n    </tr>\n    <tr>\n      <th>1</th>\n      <td>\\1INCHUSDT\\backtest_result.txt</td>\n      <td>5.5</td>\n      <td>1INCHUSDT</td>\n      <td>True</td>\n      <td>15.600</td>\n      <td>0.0512</td>\n      <td>100.00</td>\n      <td>0.8765</td>\n      <td>True</td>\n      <td>30.010</td>\n      <td>0.0896</td>\n      <td>100.0</td>\n      <td>0.6393</td>\n      <td>0.1408</td>\n    </tr>\n    <tr>\n      <th>2</th>\n      <td>\\ADAUSDT\\backtest_result.txt</td>\n      <td>5.5</td>\n      <td>ADAUSDT</td>\n      <td>True</td>\n      <td>12.870</td>\n      <td>0.0248</td>\n      <td>100.00</td>\n      <td>0.8961</td>\n      <td>True</td>\n      <td>21.780</td>\n      <td>0.0495</td>\n      <td>100.0</td>\n      <td>0.7763</td>\n      <td>0.0743</td>\n    </tr>\n    <tr>\n      <th>3</th>\n      <td>\\AKROUSDT\\backtest_result.txt</td>\n      <td>5.5</td>\n      <td>AKROUSDT</td>\n      <td>True</td>\n      <td>22.200</td>\n      <td>0.0709</td>\n      <td>100.00</td>\n      <td>0.9258</td>\n      <td>True</td>\n      <td>8.130</td>\n      <td>0.0260</td>\n      <td>100.0</td>\n      <td>0.8021</td>\n      <td>0.0969</td>\n    </tr>\n    <tr>\n      <th>4</th>\n      <td>\\ALGOUSDT\\backtest_result.txt</td>\n      <td>5.5</td>\n      <td>ALGOUSDT</td>\n      <td>True</td>\n      <td>25.110</td>\n      <td>0.0811</td>\n      <td>100.00</td>\n      <td>0.9135</td>\n      <td>True</td>\n      <td>8.388</td>\n      <td>0.0203</td>\n      <td>100.0</td>\n      <td>0.7959</td>\n      <td>0.1014</td>\n    </tr>\n    <tr>\n      <th>...</th>\n      <td>...</td>\n      <td>...</td>\n      <td>...</td>\n      <td>...</td>\n      <td>...</td>\n      <td>...</td>\n      <td>...</td>\n      <td>...</td>\n      <td>...</td>\n      <td>...</td>\n      <td>...</td>\n      <td>...</td>\n      <td>...</td>\n      <td>...</td>\n    </tr>\n    <tr>\n      <th>74</th>\n      <td>\\XMRUSDT\\backtest_result.txt</td>\n      <td>5.5</td>\n      <td>XMRUSDT</td>\n      <td>True</td>\n      <td>4.557</td>\n      <td>0.0178</td>\n      <td>100.00</td>\n      <td>0.8897</td>\n      <td>True</td>\n      <td>16.830</td>\n      <td>0.0344</td>\n      <td>100.0</td>\n      <td>0.8464</td>\n      <td>0.0522</td>\n    </tr>\n    <tr>\n      <th>75</th>\n      <td>\\XRPUSDT\\backtest_result.txt</td>\n      <td>5.5</td>\n      <td>XRPUSDT</td>\n      <td>True</td>\n      <td>-50.600</td>\n      <td>-1.6800</td>\n      <td>5.99</td>\n      <td>0.8771</td>\n      <td>True</td>\n      <td>3.811</td>\n      <td>-0.0122</td>\n      <td>100.0</td>\n      <td>0.6800</td>\n      <td>-1.6922</td>\n    </tr>\n    <tr>\n      <th>76</th>\n      <td>\\ZENUSDT\\backtest_result.txt</td>\n      <td>5.5</td>\n      <td>ZENUSDT</td>\n      <td>True</td>\n      <td>41.930</td>\n      <td>0.1300</td>\n      <td>100.00</td>\n      <td>0.8677</td>\n      <td>True</td>\n      <td>12.430</td>\n      <td>0.0286</td>\n      <td>100.0</td>\n      <td>0.7565</td>\n      <td>0.1586</td>\n    </tr>\n    <tr>\n      <th>77</th>\n      <td>\\ZILUSDT\\backtest_result.txt</td>\n      <td>5.5</td>\n      <td>ZILUSDT</td>\n      <td>True</td>\n      <td>3.347</td>\n      <td>0.0125</td>\n      <td>100.00</td>\n      <td>0.8991</td>\n      <td>True</td>\n      <td>16.280</td>\n      <td>-0.0436</td>\n      <td>100.0</td>\n      <td>0.6366</td>\n      <td>-0.0311</td>\n    </tr>\n    <tr>\n      <th>78</th>\n      <td>\\ZRXUSDT\\backtest_result.txt</td>\n      <td>5.5</td>\n      <td>ZRXUSDT</td>\n      <td>True</td>\n      <td>26.020</td>\n      <td>0.0837</td>\n      <td>100.00</td>\n      <td>0.9284</td>\n      <td>True</td>\n      <td>12.080</td>\n      <td>0.0227</td>\n      <td>100.0</td>\n      <td>0.7776</td>\n      <td>0.1064</td>\n    </tr>\n  </tbody>\n</table>\n<p>79 rows × 14 columns</p>\n</div>"
     },
     "execution_count": 6,
     "metadata": {},
     "output_type": "execute_result"
    }
   ],
   "source": [
    "big_data['adgt_%'] = big_data['adgl_%'] + big_data['adgs_%']\n",
    "df = big_data[(big_data.s.isin(allowed_symbols))\n",
    "              # & (big_data['adgt_%'] > 0.1)\n",
    "              # & (big_data['adgl_%'] > 0.04)\n",
    "              # & (big_data['adgs_%'] > 0.04)\n",
    "              # & (big_data['bnkrl_%'] > 99.0)\n",
    "              # & (big_data['bnkrs_%'] > 99.0)\n",
    "              # & (big_data['ebrs'] > .9)\n",
    "              # #& (big_data['ebrl'] > .9)\n",
    "              # & (big_data['v'] == '5.5')\n",
    "\n",
    "    # & (big_data['tg_%'] > 10)\n",
    "    # & (big_data['ebr'] > .85)\n",
    "              ]\n",
    "#df['total_adg'] = big_data['adgl_%'] + big_data['adgs_%']\n",
    "df"
   ]
  },
  {
   "cell_type": "code",
   "execution_count": 7,
   "metadata": {
    "pycharm": {
     "name": "#%%\n"
    }
   },
   "outputs": [
    {
     "data": {
      "text/plain": "                                file            s  adgt_%  adgl_%  adgs_%  \\\n0   \\1000XECUSDT\\backtest_result.txt  1000XECUSDT  0.1470  0.0210  0.1260   \n1     \\1INCHUSDT\\backtest_result.txt    1INCHUSDT  0.1408  0.0512  0.0896   \n2       \\ADAUSDT\\backtest_result.txt      ADAUSDT  0.0743  0.0248  0.0495   \n3      \\AKROUSDT\\backtest_result.txt     AKROUSDT  0.0969  0.0709  0.0260   \n4      \\ALGOUSDT\\backtest_result.txt     ALGOUSDT  0.1014  0.0811  0.0203   \n..                               ...          ...     ...     ...     ...   \n74      \\XMRUSDT\\backtest_result.txt      XMRUSDT  0.0522  0.0178  0.0344   \n75      \\XRPUSDT\\backtest_result.txt      XRPUSDT -1.6922 -1.6800 -0.0122   \n76      \\ZENUSDT\\backtest_result.txt      ZENUSDT  0.1586  0.1300  0.0286   \n77      \\ZILUSDT\\backtest_result.txt      ZILUSDT -0.0311  0.0125 -0.0436   \n78      \\ZRXUSDT\\backtest_result.txt      ZRXUSDT  0.1064  0.0837  0.0227   \n\n    bnkrl_%  bnkrs_%    ebrl    ebrs  \n0    100.00    100.0  0.9114  0.8667  \n1    100.00    100.0  0.8765  0.6393  \n2    100.00    100.0  0.8961  0.7763  \n3    100.00    100.0  0.9258  0.8021  \n4    100.00    100.0  0.9135  0.7959  \n..      ...      ...     ...     ...  \n74   100.00    100.0  0.8897  0.8464  \n75     5.99    100.0  0.8771  0.6800  \n76   100.00    100.0  0.8677  0.7565  \n77   100.00    100.0  0.8991  0.6366  \n78   100.00    100.0  0.9284  0.7776  \n\n[79 rows x 9 columns]",
      "text/html": "<div>\n<style scoped>\n    .dataframe tbody tr th:only-of-type {\n        vertical-align: middle;\n    }\n\n    .dataframe tbody tr th {\n        vertical-align: top;\n    }\n\n    .dataframe thead th {\n        text-align: right;\n    }\n</style>\n<table border=\"1\" class=\"dataframe\">\n  <thead>\n    <tr style=\"text-align: right;\">\n      <th></th>\n      <th>file</th>\n      <th>s</th>\n      <th>adgt_%</th>\n      <th>adgl_%</th>\n      <th>adgs_%</th>\n      <th>bnkrl_%</th>\n      <th>bnkrs_%</th>\n      <th>ebrl</th>\n      <th>ebrs</th>\n    </tr>\n  </thead>\n  <tbody>\n    <tr>\n      <th>0</th>\n      <td>\\1000XECUSDT\\backtest_result.txt</td>\n      <td>1000XECUSDT</td>\n      <td>0.1470</td>\n      <td>0.0210</td>\n      <td>0.1260</td>\n      <td>100.00</td>\n      <td>100.0</td>\n      <td>0.9114</td>\n      <td>0.8667</td>\n    </tr>\n    <tr>\n      <th>1</th>\n      <td>\\1INCHUSDT\\backtest_result.txt</td>\n      <td>1INCHUSDT</td>\n      <td>0.1408</td>\n      <td>0.0512</td>\n      <td>0.0896</td>\n      <td>100.00</td>\n      <td>100.0</td>\n      <td>0.8765</td>\n      <td>0.6393</td>\n    </tr>\n    <tr>\n      <th>2</th>\n      <td>\\ADAUSDT\\backtest_result.txt</td>\n      <td>ADAUSDT</td>\n      <td>0.0743</td>\n      <td>0.0248</td>\n      <td>0.0495</td>\n      <td>100.00</td>\n      <td>100.0</td>\n      <td>0.8961</td>\n      <td>0.7763</td>\n    </tr>\n    <tr>\n      <th>3</th>\n      <td>\\AKROUSDT\\backtest_result.txt</td>\n      <td>AKROUSDT</td>\n      <td>0.0969</td>\n      <td>0.0709</td>\n      <td>0.0260</td>\n      <td>100.00</td>\n      <td>100.0</td>\n      <td>0.9258</td>\n      <td>0.8021</td>\n    </tr>\n    <tr>\n      <th>4</th>\n      <td>\\ALGOUSDT\\backtest_result.txt</td>\n      <td>ALGOUSDT</td>\n      <td>0.1014</td>\n      <td>0.0811</td>\n      <td>0.0203</td>\n      <td>100.00</td>\n      <td>100.0</td>\n      <td>0.9135</td>\n      <td>0.7959</td>\n    </tr>\n    <tr>\n      <th>...</th>\n      <td>...</td>\n      <td>...</td>\n      <td>...</td>\n      <td>...</td>\n      <td>...</td>\n      <td>...</td>\n      <td>...</td>\n      <td>...</td>\n      <td>...</td>\n    </tr>\n    <tr>\n      <th>74</th>\n      <td>\\XMRUSDT\\backtest_result.txt</td>\n      <td>XMRUSDT</td>\n      <td>0.0522</td>\n      <td>0.0178</td>\n      <td>0.0344</td>\n      <td>100.00</td>\n      <td>100.0</td>\n      <td>0.8897</td>\n      <td>0.8464</td>\n    </tr>\n    <tr>\n      <th>75</th>\n      <td>\\XRPUSDT\\backtest_result.txt</td>\n      <td>XRPUSDT</td>\n      <td>-1.6922</td>\n      <td>-1.6800</td>\n      <td>-0.0122</td>\n      <td>5.99</td>\n      <td>100.0</td>\n      <td>0.8771</td>\n      <td>0.6800</td>\n    </tr>\n    <tr>\n      <th>76</th>\n      <td>\\ZENUSDT\\backtest_result.txt</td>\n      <td>ZENUSDT</td>\n      <td>0.1586</td>\n      <td>0.1300</td>\n      <td>0.0286</td>\n      <td>100.00</td>\n      <td>100.0</td>\n      <td>0.8677</td>\n      <td>0.7565</td>\n    </tr>\n    <tr>\n      <th>77</th>\n      <td>\\ZILUSDT\\backtest_result.txt</td>\n      <td>ZILUSDT</td>\n      <td>-0.0311</td>\n      <td>0.0125</td>\n      <td>-0.0436</td>\n      <td>100.00</td>\n      <td>100.0</td>\n      <td>0.8991</td>\n      <td>0.6366</td>\n    </tr>\n    <tr>\n      <th>78</th>\n      <td>\\ZRXUSDT\\backtest_result.txt</td>\n      <td>ZRXUSDT</td>\n      <td>0.1064</td>\n      <td>0.0837</td>\n      <td>0.0227</td>\n      <td>100.00</td>\n      <td>100.0</td>\n      <td>0.9284</td>\n      <td>0.7776</td>\n    </tr>\n  </tbody>\n</table>\n<p>79 rows × 9 columns</p>\n</div>"
     },
     "execution_count": 7,
     "metadata": {},
     "output_type": "execute_result"
    }
   ],
   "source": [
    "df.drop_duplicates(subset=['s', 'tgl_%','tgs_%','adgl_%','adgs_%','adgt_%', 'bnkrl_%', 'bnkrs_%', 'ebrl', 'ebrs', 'long', 'short'], keep='first',\n",
    "                   inplace=True)\n",
    "dx = df[['file','s','adgt_%','adgl_%','adgs_%','bnkrl_%', 'bnkrs_%','ebrl', 'ebrs']]\n",
    "dx"
   ]
  },
  {
   "cell_type": "code",
   "execution_count": 7,
   "outputs": [],
   "source": [],
   "metadata": {
    "collapsed": false,
    "pycharm": {
     "name": "#%%\n"
    }
   }
  }
 ],
 "metadata": {
  "kernelspec": {
   "display_name": "PyCharm (passivbot)",
   "language": "python",
   "name": "pycharm-997905a8"
  },
  "language_info": {
   "codemirror_mode": {
    "name": "ipython",
    "version": 3
   },
   "file_extension": ".py",
   "mimetype": "text/x-python",
   "name": "python",
   "nbconvert_exporter": "python",
   "pygments_lexer": "ipython3",
   "version": "3.8.12"
  }
 },
 "nbformat": 4,
 "nbformat_minor": 1
}