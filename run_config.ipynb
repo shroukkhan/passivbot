{
 "cells": [
  {
   "cell_type": "code",
   "execution_count": null,
   "metadata": {
    "collapsed": true
   },
   "outputs": [],
   "source": [
    "%load_ext autoreload\n",
    "%autoreload 2"
   ]
  },
  {
   "cell_type": "code",
   "execution_count": 4,
   "outputs": [
    {
     "data": {
      "text/plain": "['1000XECUSDT',\n '100SHIBUSDT',\n '1INCHUSDT',\n 'ADAUSDT',\n 'AKROUSDT',\n 'ALGOUSDT',\n 'ALICEUSDT',\n 'ALPHAUSDT',\n 'ANKRUSDT',\n 'API3USDT',\n 'ARUSDT',\n 'ATOMUSDT',\n 'BAKEUSDT',\n 'BANDUSDT',\n 'BELUSDT',\n 'BLZUSDT',\n 'BNBUSDT',\n 'BTSUSDT',\n 'C98USDT',\n 'CHZUSDT',\n 'COMPUSDT',\n 'COTIUSDT',\n 'CRVUSDT',\n 'DENTUSDT',\n 'DGBUSDT',\n 'DODOUSDT',\n 'DOGEUSDT',\n 'DOTUSDT',\n 'DUSKUSDT',\n 'DYDXUSDT',\n 'ENJUSDT',\n 'ETCUSDT',\n 'ETHUSDT',\n 'FLMUSDT',\n 'FLOWUSDT',\n 'GRTUSDT',\n 'GTCUSDT',\n 'HBARUSDT',\n 'HOTUSDT',\n 'ICPUSDT',\n 'ICXUSDT',\n 'IOSTUSDT',\n 'IOTAUSDT',\n 'KAVAUSDT',\n 'KLAYUSDT',\n 'KNCUSDT',\n 'LINAUSDT',\n 'LINKUSDT',\n 'LITUSDT',\n 'LTCUSDT',\n 'MATICUSDT',\n 'MKRUSDT',\n 'MTLUSDT',\n 'NEOUSDT',\n 'NKNUSDT',\n 'OCEANUSDT',\n 'OGNUSDT',\n 'OMGUSDT',\n 'ONEUSDT',\n 'ONTUSDT',\n 'QTUMUSDT',\n 'REEFUSDT',\n 'RENUSDT',\n 'RLCUSDT',\n 'ROSEUSDT',\n 'RVNUSDT',\n 'SCUSDT',\n 'SFPUSDT',\n 'SNXUSDT',\n 'STMXUSDT',\n 'SUSHIUSDT',\n 'SXPUSDT',\n 'TLMUSDT',\n 'TOMOUSDT',\n 'TRBUSDT',\n 'UNFIUSDT',\n 'VETUSDT',\n 'WAVESUSDT',\n 'XLMUSDT',\n 'XMRUSDT',\n 'XRPUSDT',\n 'ZECUSDT',\n 'ZENUSDT',\n 'ZILUSDT',\n 'ZRXUSDT']"
     },
     "execution_count": 4,
     "metadata": {},
     "output_type": "execute_result"
    }
   ],
   "source": [
    "import glob\n",
    "\n",
    "live_config_files = glob.glob('cfgs_live/*', recursive=True)\n",
    "symbols = []\n",
    "symbol_files = {}\n",
    "for f in live_config_files:\n",
    "    symbol = f.split('\\\\')[-1]\n",
    "    symbol = symbol.replace('.json', 'USDT')\n",
    "    symbols.append(symbol)\n",
    "    symbol_files[symbol] = f\n",
    "# symbol_files\n",
    "# symbols"
   ],
   "metadata": {
    "collapsed": false,
    "pycharm": {
     "name": "#%%\n"
    }
   }
  },
  {
   "cell_type": "code",
   "execution_count": 20,
   "outputs": [
    {
     "name": "stdout",
     "output_type": "stream",
     "text": [
      "common_in_both : []\n",
      "long_dups : []\n",
      "short_dups : []\n"
     ]
    }
   ],
   "source": [
    "start_files = ['start_long_only.sh', 'start_long_short.sh']\n",
    "long_symbols = []\n",
    "short_symbols = []\n",
    "for filename in start_files:\n",
    "    with open(filename, 'r') as file:\n",
    "        lines = file.read().split('\\n')\n",
    "        for l in lines:\n",
    "            if 'screen -dmS ' in l:\n",
    "                symbol = l.strip().split(\" \")[-1]\n",
    "                long_symbols.append(symbol) if filename == 'start_long_only.sh' else short_symbols.append(symbol)\n",
    "\n",
    "common_in_both = list(set(long_symbols).intersection(short_symbols))\n",
    "print(f'common_in_both : {common_in_both}')\n",
    "\n",
    "seen = set()\n",
    "long_dups = [x for x in long_symbols if x in seen or seen.add(x)]\n",
    "print(f'long_dups : {long_dups}')\n",
    "seen = set()\n",
    "short_dups = [x for x in short_symbols if x in seen or seen.add(x)]\n",
    "print(f'short_dups : {short_dups}')\n",
    "\n",
    "if len(long_symbols) + len(short_symbols) != len(symbols):\n",
    "    print(f'total: {len(symbols)}')\n",
    "    print(f'long: {len(long_symbols)}')\n",
    "    print(f'short: {len(short_symbols)}')\n",
    "    print('Lengths DONT MATCH!')\n",
    "else\n",
    "    print('No duplicate found')"
   ],
   "metadata": {
    "collapsed": false,
    "pycharm": {
     "name": "#%%\n"
    }
   }
  },
  {
   "cell_type": "code",
   "execution_count": 2,
   "outputs": [
    {
     "data": {
      "text/plain": "   symbol  direction  long_mode  long_exposure  short_mode  short_exposure\n0     NaN        NaN        NaN            NaN         NaN             NaN",
      "text/html": "<div>\n<style scoped>\n    .dataframe tbody tr th:only-of-type {\n        vertical-align: middle;\n    }\n\n    .dataframe tbody tr th {\n        vertical-align: top;\n    }\n\n    .dataframe thead th {\n        text-align: right;\n    }\n</style>\n<table border=\"1\" class=\"dataframe\">\n  <thead>\n    <tr style=\"text-align: right;\">\n      <th></th>\n      <th>symbol</th>\n      <th>direction</th>\n      <th>long_mode</th>\n      <th>long_exposure</th>\n      <th>short_mode</th>\n      <th>short_exposure</th>\n    </tr>\n  </thead>\n  <tbody>\n    <tr>\n      <th>0</th>\n      <td>NaN</td>\n      <td>NaN</td>\n      <td>NaN</td>\n      <td>NaN</td>\n      <td>NaN</td>\n      <td>NaN</td>\n    </tr>\n  </tbody>\n</table>\n</div>"
     },
     "execution_count": 2,
     "metadata": {},
     "output_type": "execute_result"
    }
   ],
   "source": [
    "import pandas as pd\n",
    "\n",
    "config = pd.read_csv('run_config.csv')\n",
    "\n",
    "\n",
    "\n",
    "\n",
    "config"
   ],
   "metadata": {
    "collapsed": false,
    "pycharm": {
     "name": "#%%\n"
    }
   }
  },
  {
   "cell_type": "code",
   "execution_count": null,
   "outputs": [],
   "source": [],
   "metadata": {
    "collapsed": false,
    "pycharm": {
     "name": "#%%\n"
    }
   }
  }
 ],
 "metadata": {
  "kernelspec": {
   "display_name": "Python 3",
   "language": "python",
   "name": "python3"
  },
  "language_info": {
   "codemirror_mode": {
    "name": "ipython",
    "version": 2
   },
   "file_extension": ".py",
   "mimetype": "text/x-python",
   "name": "python",
   "nbconvert_exporter": "python",
   "pygments_lexer": "ipython2",
   "version": "2.7.6"
  }
 },
 "nbformat": 4,
 "nbformat_minor": 0
}