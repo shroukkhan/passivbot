{
 "cells": [
  {
   "cell_type": "code",
   "execution_count": 35,
   "metadata": {
    "collapsed": true,
    "pycharm": {
     "name": "#%%\n"
    }
   },
   "outputs": [
    {
     "name": "stdout",
     "output_type": "stream",
     "text": [
      "The autoreload extension is already loaded. To reload it, use:\n",
      "  %reload_ext autoreload\n"
     ]
    }
   ],
   "source": [
    "%load_ext autoreload\n",
    "%autoreload 2"
   ]
  },
  {
   "cell_type": "code",
   "execution_count": 36,
   "outputs": [
    {
     "data": {
      "text/plain": "2"
     },
     "execution_count": 36,
     "metadata": {},
     "output_type": "execute_result"
    }
   ],
   "source": [
    "import glob\n",
    "\n",
    "live_config_files = glob.glob('cfgs_live/*', recursive=True)\n",
    "symbols = []\n",
    "symbol_files = {}\n",
    "for f in live_config_files:\n",
    "    symbol = f.split('\\\\')[-1]\n",
    "    symbol = symbol.replace('.json', 'USDT')\n",
    "    symbols.append(symbol)\n",
    "    symbol_files[symbol] = f\n",
    "# symbol_files\n",
    "len(symbols)"
   ],
   "metadata": {
    "collapsed": false,
    "pycharm": {
     "name": "#%%\n"
    }
   }
  },
  {
   "cell_type": "code",
   "execution_count": 36,
   "outputs": [],
   "source": [],
   "metadata": {
    "collapsed": false,
    "pycharm": {
     "name": "#%%\n"
    }
   }
  },
  {
   "cell_type": "code",
   "execution_count": 37,
   "outputs": [],
   "source": [
    "# start_files = ['start_long_only.sh', 'start_long_short.sh']\n",
    "# long_symbols = []\n",
    "# short_symbols = []\n",
    "# for filename in start_files:\n",
    "#     with open(filename, 'r') as file:\n",
    "#         lines = file.read().split('\\n')\n",
    "#         for l in lines:\n",
    "#             if 'screen -dmS ' in l:\n",
    "#                 symbol = l.strip().split(\" \")[-1]\n",
    "#                 long_symbols.append(symbol) if filename == 'start_long_only.sh' else short_symbols.append(symbol)\n",
    "#\n",
    "# common_in_both = list(set(long_symbols).intersection(short_symbols))\n",
    "# print(f'common_in_both : {common_in_both}')\n",
    "#\n",
    "# seen = set()\n",
    "# long_dups = [x for x in long_symbols if x in seen or seen.add(x)]\n",
    "# print(f'long_dups : {long_dups}')\n",
    "# seen = set()\n",
    "# short_dups = [x for x in short_symbols if x in seen or seen.add(x)]\n",
    "# print(f'short_dups : {short_dups}')\n",
    "#\n",
    "# print(f'total: {len(symbols)}')\n",
    "# print(f'long: {len(long_symbols)}')\n",
    "# print(f'short: {len(short_symbols)}')\n",
    "#\n",
    "# if len(long_symbols) + len(short_symbols) != len(symbols):\n",
    "#     print('Lengths DONT MATCH!')\n",
    "# else:\n",
    "#     print(f'No duplicate found')"
   ],
   "metadata": {
    "collapsed": false,
    "pycharm": {
     "name": "#%%\n"
    }
   }
  },
  {
   "cell_type": "code",
   "execution_count": 38,
   "outputs": [
    {
     "name": "stdout",
     "output_type": "stream",
     "text": [
      "short_exposure: 0.03, long_exposure:0.04, total:0.07\n"
     ]
    }
   ],
   "source": [
    "import pandas as pd\n",
    "config = pd.read_csv('run_config.csv')\n",
    "#shorts = config[(config['short_mode'] == 'p')]\n",
    "short_exposure = config.loc[config['short_mode'] == 'n', 'short_exposure'].sum()\n",
    "long_exposure = config.loc[config['long_mode'] == 'n', 'long_exposure'].sum()\n",
    "\n",
    "total = short_exposure + long_exposure\n",
    "print(f'short_exposure: {short_exposure}, long_exposure:{long_exposure}, total:{total}')"
   ],
   "metadata": {
    "collapsed": false,
    "pycharm": {
     "name": "#%%\n"
    }
   }
  },
  {
   "cell_type": "code",
   "execution_count": 39,
   "outputs": [
    {
     "data": {
      "text/plain": "   Unnamed: 0 symbol   direction long_mode short_mode  long_exposure  \\\n0           9    XMR  long_short         p          p           0.04   \n1          11   NEAR  long_short         n          n           0.04   \n\n   short_exposure     account  \n0            0.03  binance_01  \n1            0.03  binance_01  ",
      "text/html": "<div>\n<style scoped>\n    .dataframe tbody tr th:only-of-type {\n        vertical-align: middle;\n    }\n\n    .dataframe tbody tr th {\n        vertical-align: top;\n    }\n\n    .dataframe thead th {\n        text-align: right;\n    }\n</style>\n<table border=\"1\" class=\"dataframe\">\n  <thead>\n    <tr style=\"text-align: right;\">\n      <th></th>\n      <th>Unnamed: 0</th>\n      <th>symbol</th>\n      <th>direction</th>\n      <th>long_mode</th>\n      <th>short_mode</th>\n      <th>long_exposure</th>\n      <th>short_exposure</th>\n      <th>account</th>\n    </tr>\n  </thead>\n  <tbody>\n    <tr>\n      <th>0</th>\n      <td>9</td>\n      <td>XMR</td>\n      <td>long_short</td>\n      <td>p</td>\n      <td>p</td>\n      <td>0.04</td>\n      <td>0.03</td>\n      <td>binance_01</td>\n    </tr>\n    <tr>\n      <th>1</th>\n      <td>11</td>\n      <td>NEAR</td>\n      <td>long_short</td>\n      <td>n</td>\n      <td>n</td>\n      <td>0.04</td>\n      <td>0.03</td>\n      <td>binance_01</td>\n    </tr>\n  </tbody>\n</table>\n</div>"
     },
     "execution_count": 39,
     "metadata": {},
     "output_type": "execute_result"
    }
   ],
   "source": [
    "\n",
    "config = pd.read_csv('run_config.csv')\n",
    "#config.loc[config['short_mode'] == 'n', 'short_exposure'] = 0.025\n",
    "#config.loc[config['long_mode'] == 'n', 'long_exposure'] = 0.03\n",
    "#\n",
    "# short_exposure = config.loc[config['short_mode'] == 'n', 'short_exposure'].sum()\n",
    "# long_exposure = config.loc[config['long_mode'] == 'n', 'long_exposure'].sum()\n",
    "#\n",
    "# total = short_exposure + long_exposure\n",
    "# print(f'short_exposure: {short_exposure}, long_exposure:{long_exposure}, total:{total}')\n",
    "\n",
    "#config = pd.DataFrame()\n",
    "\n",
    "# for symbol in long_symbols:\n",
    "#     config = config.append({\n",
    "#         'symbol':symbol,\n",
    "#         'direction':'long',\n",
    "#         'long_mode':'n',\n",
    "#         'short_mode':'p',\n",
    "#         'long_exposure':0.035,\n",
    "#         'short_exposure':0.0\n",
    "#     }, ignore_index=True)\n",
    "#\n",
    "# for symbol in short_symbols:\n",
    "#     config = config.append({\n",
    "#         'symbol':symbol,\n",
    "#         'direction':'long_short',\n",
    "#         'long_mode':'n',\n",
    "#         'short_mode':'n',\n",
    "#         'long_exposure':0.035,\n",
    "#         'short_exposure':0.02\n",
    "#     }, ignore_index=True)\n",
    "#config.loc[config['short_mode'] == 'p', 'short_mode'] = 'm'\n",
    "#config.loc[config['long_mode'] == 'p', 'long_mode'] = 'm'\n",
    "#config.to_csv('run_config.csv')\n",
    "config"
   ],
   "metadata": {
    "collapsed": false,
    "pycharm": {
     "name": "#%%\n"
    }
   }
  },
  {
   "cell_type": "code",
   "execution_count": 40,
   "outputs": [
    {
     "data": {
      "text/plain": "   Unnamed: 0 symbol   direction long_mode short_mode  long_exposure  \\\n0           9    XMR  long_short         p          p           0.04   \n1          11   NEAR  long_short         n          n           0.04   \n\n   short_exposure     account  \n0            0.03  binance_01  \n1            0.03  binance_01  ",
      "text/html": "<div>\n<style scoped>\n    .dataframe tbody tr th:only-of-type {\n        vertical-align: middle;\n    }\n\n    .dataframe tbody tr th {\n        vertical-align: top;\n    }\n\n    .dataframe thead th {\n        text-align: right;\n    }\n</style>\n<table border=\"1\" class=\"dataframe\">\n  <thead>\n    <tr style=\"text-align: right;\">\n      <th></th>\n      <th>Unnamed: 0</th>\n      <th>symbol</th>\n      <th>direction</th>\n      <th>long_mode</th>\n      <th>short_mode</th>\n      <th>long_exposure</th>\n      <th>short_exposure</th>\n      <th>account</th>\n    </tr>\n  </thead>\n  <tbody>\n    <tr>\n      <th>0</th>\n      <td>9</td>\n      <td>XMR</td>\n      <td>long_short</td>\n      <td>p</td>\n      <td>p</td>\n      <td>0.04</td>\n      <td>0.03</td>\n      <td>binance_01</td>\n    </tr>\n    <tr>\n      <th>1</th>\n      <td>11</td>\n      <td>NEAR</td>\n      <td>long_short</td>\n      <td>n</td>\n      <td>n</td>\n      <td>0.04</td>\n      <td>0.03</td>\n      <td>binance_01</td>\n    </tr>\n  </tbody>\n</table>\n</div>"
     },
     "execution_count": 40,
     "metadata": {},
     "output_type": "execute_result"
    }
   ],
   "source": [
    "# #### DCA Helper\n",
    "# z_dca_long = pd.read_csv('0dca.csv')\n",
    "# z_dca_long = z_dca_long[(z_dca_long['Exposure'] >= 0.04)]\n",
    "#\n",
    "# z_dca_long_symbols = z_dca_long['symbol'].tolist()\n",
    "# z_dca_long_symbols = [w.replace('USDT','') for w in z_dca_long_symbols]\n",
    "# print(z_dca_long_symbols)\n",
    "# config.loc[config.symbol.isin(z_dca_long_symbols), 'long_mode'] = 'm'\n",
    "# #config.to_csv('run_config.csv')\n",
    "config"
   ],
   "metadata": {
    "collapsed": false,
    "pycharm": {
     "name": "#%%\n"
    }
   }
  },
  {
   "cell_type": "code",
   "execution_count": 41,
   "outputs": [
    {
     "name": "stdout",
     "output_type": "stream",
     "text": [
      "screen -X -S XMR_binance_v5_8 kill\n",
      "chmod +x cfgs_runtime/XMR.sh\n",
      "screen -dmS XMR_binance_v5_8 ./cfgs_runtime/XMR.sh XMR\n",
      "\n",
      "screen -X -S NEAR_binance_v5_8 kill\n",
      "chmod +x cfgs_runtime/NEAR.sh\n",
      "screen -dmS NEAR_binance_v5_8 ./cfgs_runtime/NEAR.sh NEAR\n"
     ]
    }
   ],
   "source": [
    "import os\n",
    "import shutil\n",
    "\n",
    "with open('run_template.sh') as f:\n",
    "    run_template = f.read()\n",
    "\n",
    "start_template = 'screen -X -S {symbol}_binance_v5_8 kill\\n' \\\n",
    "                 'chmod +x cfgs_runtime/{symbol}.sh\\n' \\\n",
    "                 'screen -dmS {symbol}_binance_v5_8 ./cfgs_runtime/{symbol}.sh {symbol}'\n",
    "start_commands =[]\n",
    "for index, row in config.iterrows():\n",
    "    dir = f'cfgs_runtime/'\n",
    "    run_command = f'-sm {row[\"short_mode\"]} -sw {row[\"short_exposure\"]} -lm {row[\"long_mode\"]} -lw {row[\"long_exposure\"]}'\n",
    "    full_run_command = run_template.format(command = run_command)\n",
    "    #print(full_run_command)\n",
    "    with open(f'{dir}/{row[\"symbol\"]}.sh','w') as writer:\n",
    "        writer.write(full_run_command)\n",
    "\n",
    "    start_commands.append(start_template.format(symbol = row[\"symbol\"]))\n",
    "\n",
    "full_start_command = \"\\n\\n\".join(map(str,start_commands))\n",
    "print(full_start_command)\n",
    "with open(f'start.sh','w') as writer:\n",
    "        writer.write(full_start_command)"
   ],
   "metadata": {
    "collapsed": false,
    "pycharm": {
     "name": "#%%\n"
    }
   }
  },
  {
   "cell_type": "markdown",
   "source": [],
   "metadata": {
    "collapsed": false,
    "pycharm": {
     "name": "#%% md\n"
    }
   }
  },
  {
   "cell_type": "code",
   "execution_count": 42,
   "outputs": [
    {
     "name": "stdout",
     "output_type": "stream",
     "text": [
      "coins: 2, longs:1, shorts:1 , ratio:1.0\n"
     ]
    },
    {
     "data": {
      "text/plain": "6.25"
     },
     "execution_count": 42,
     "metadata": {},
     "output_type": "execute_result"
    }
   ],
   "source": [
    "total_wallet = 574.30\n",
    "margin = 8\n",
    "coins = config.shape[0]\n",
    "longs = config[(config['long_mode'] == 'n')].shape[0]\n",
    "shorts = config[(config['short_mode'] == 'n')].shape[0]\n",
    "\n",
    "ratio = shorts/longs\n",
    "\n",
    "total_exposure = longs+shorts\n",
    "total_wallet_with_margin = total_wallet * margin\n",
    "per_entry = total_wallet_with_margin / total_exposure\n",
    "money_cost = total_wallet / total_exposure\n",
    "\n",
    "exposure = money_cost / margin\n",
    "\n",
    "xxx = (exposure / total_wallet) * 100\n",
    "\n",
    "print(f'coins: {coins}, longs:{longs}, shorts:{shorts} , ratio:{ratio}')\n",
    "xxx"
   ],
   "metadata": {
    "collapsed": false,
    "pycharm": {
     "name": "#%%\n"
    }
   }
  },
  {
   "cell_type": "code",
   "execution_count": 42,
   "outputs": [],
   "source": [
    "\n",
    "\n"
   ],
   "metadata": {
    "collapsed": false,
    "pycharm": {
     "name": "#%%\n"
    }
   }
  },
  {
   "cell_type": "code",
   "execution_count": 42,
   "outputs": [],
   "source": [],
   "metadata": {
    "collapsed": false,
    "pycharm": {
     "name": "#%%\n"
    }
   }
  }
 ],
 "metadata": {
  "kernelspec": {
   "display_name": "Python 3",
   "language": "python",
   "name": "python3"
  },
  "language_info": {
   "codemirror_mode": {
    "name": "ipython",
    "version": 2
   },
   "file_extension": ".py",
   "mimetype": "text/x-python",
   "name": "python",
   "nbconvert_exporter": "python",
   "pygments_lexer": "ipython2",
   "version": "2.7.6"
  }
 },
 "nbformat": 4,
 "nbformat_minor": 0
}