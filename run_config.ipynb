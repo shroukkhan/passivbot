{
 "cells": [
  {
   "cell_type": "code",
   "execution_count": 16,
   "metadata": {
    "collapsed": true,
    "ExecuteTime": {
     "end_time": "2023-08-24T18:48:43.123617900Z",
     "start_time": "2023-08-24T18:48:43.045049700Z"
    }
   },
   "outputs": [
    {
     "name": "stdout",
     "output_type": "stream",
     "text": [
      "The autoreload extension is already loaded. To reload it, use:\n",
      "  %reload_ext autoreload\n"
     ]
    }
   ],
   "source": [
    "%load_ext autoreload\n",
    "%autoreload 2"
   ]
  },
  {
   "cell_type": "code",
   "execution_count": 17,
   "outputs": [
    {
     "data": {
      "text/plain": "16"
     },
     "execution_count": 17,
     "metadata": {},
     "output_type": "execute_result"
    }
   ],
   "source": [
    "import glob\n",
    "\n",
    "live_config_files = glob.glob('cfgs_live/*', recursive=True)\n",
    "symbols = []\n",
    "symbol_files = {}\n",
    "for f in live_config_files:\n",
    "    symbol = f.split('\\\\')[-1]\n",
    "    symbol = symbol.replace('.json', 'USDT')\n",
    "    symbols.append(symbol)\n",
    "    symbol_files[symbol] = f\n",
    "# symbol_files\n",
    "len(symbols)"
   ],
   "metadata": {
    "collapsed": false,
    "ExecuteTime": {
     "end_time": "2023-08-24T18:48:43.151613600Z",
     "start_time": "2023-08-24T18:48:43.095613800Z"
    }
   }
  },
  {
   "cell_type": "code",
   "execution_count": 17,
   "outputs": [],
   "source": [],
   "metadata": {
    "collapsed": false,
    "ExecuteTime": {
     "end_time": "2023-08-24T18:48:43.184615300Z",
     "start_time": "2023-08-24T18:48:43.141617500Z"
    }
   }
  },
  {
   "cell_type": "code",
   "execution_count": 18,
   "outputs": [],
   "source": [
    "# start_files = ['start_long_only.sh', 'start_long_short.sh']\n",
    "# long_symbols = []\n",
    "# short_symbols = []\n",
    "# for filename in start_files:\n",
    "#     with open(filename, 'r') as file:\n",
    "#         lines = file.read().split('\\n')\n",
    "#         for l in lines:\n",
    "#             if 'screen -dmS ' in l:\n",
    "#                 symbol = l.strip().split(\" \")[-1]\n",
    "#                 long_symbols.append(symbol) if filename == 'start_long_only.sh' else short_symbols.append(symbol)\n",
    "#\n",
    "# common_in_both = list(set(long_symbols).intersection(short_symbols))\n",
    "# print(f'common_in_both : {common_in_both}')\n",
    "#\n",
    "# seen = set()\n",
    "# long_dups = [x for x in long_symbols if x in seen or seen.add(x)]\n",
    "# print(f'long_dups : {long_dups}')\n",
    "# seen = set()\n",
    "# short_dups = [x for x in short_symbols if x in seen or seen.add(x)]\n",
    "# print(f'short_dups : {short_dups}')\n",
    "#\n",
    "# print(f'total: {len(symbols)}')\n",
    "# print(f'long: {len(long_symbols)}')\n",
    "# print(f'short: {len(short_symbols)}')\n",
    "#\n",
    "# if len(long_symbols) + len(short_symbols) != len(symbols):\n",
    "#     print('Lengths DONT MATCH!')\n",
    "# else:\n",
    "#     print(f'No duplicate found')"
   ],
   "metadata": {
    "collapsed": false,
    "ExecuteTime": {
     "end_time": "2023-08-24T18:48:43.202617700Z",
     "start_time": "2023-08-24T18:48:43.157614400Z"
    }
   }
  },
  {
   "cell_type": "code",
   "execution_count": 19,
   "outputs": [
    {
     "name": "stdout",
     "output_type": "stream",
     "text": [
      "short_exposure: 0, long_exposure:0.0, total:0.0\n"
     ]
    }
   ],
   "source": [
    "import pandas as pd\n",
    "config = pd.read_csv('run_config.csv')\n",
    "#shorts = config[(config['short_mode'] == 'p')]\n",
    "short_exposure = config.loc[config['short_mode'] == 'n', 'short_exposure'].sum()\n",
    "long_exposure = config.loc[config['long_mode'] == 'n', 'long_exposure'].sum()\n",
    "\n",
    "total = short_exposure + long_exposure\n",
    "print(f'short_exposure: {short_exposure}, long_exposure:{long_exposure}, total:{total}')"
   ],
   "metadata": {
    "collapsed": false,
    "ExecuteTime": {
     "end_time": "2023-08-24T18:48:43.248615400Z",
     "start_time": "2023-08-24T18:48:43.204613700Z"
    }
   }
  },
  {
   "cell_type": "code",
   "execution_count": 20,
   "outputs": [
    {
     "data": {
      "text/plain": "   Unnamed: 0 symbol direction long_mode short_mode  long_exposure  \\\n0           2    ADA      long        gs         gs           0.10   \n1           4    LTC      long        gs         gs           0.10   \n2           5    ETC      long        gs         gs           0.10   \n3           7    TRX      long        gs         gs           0.10   \n4           8   ALGO      long        gs         gs           0.10   \n5          10   RUNE      long        gs         gs           0.10   \n6          13   AVAX      long        gs         gs           0.11   \n\n   short_exposure     account  \n0               0  binance_01  \n1               0  binance_01  \n2               0  binance_01  \n3               0  binance_01  \n4               0  binance_01  \n5               0  binance_01  \n6               0  binance_01  ",
      "text/html": "<div>\n<style scoped>\n    .dataframe tbody tr th:only-of-type {\n        vertical-align: middle;\n    }\n\n    .dataframe tbody tr th {\n        vertical-align: top;\n    }\n\n    .dataframe thead th {\n        text-align: right;\n    }\n</style>\n<table border=\"1\" class=\"dataframe\">\n  <thead>\n    <tr style=\"text-align: right;\">\n      <th></th>\n      <th>Unnamed: 0</th>\n      <th>symbol</th>\n      <th>direction</th>\n      <th>long_mode</th>\n      <th>short_mode</th>\n      <th>long_exposure</th>\n      <th>short_exposure</th>\n      <th>account</th>\n    </tr>\n  </thead>\n  <tbody>\n    <tr>\n      <th>0</th>\n      <td>2</td>\n      <td>ADA</td>\n      <td>long</td>\n      <td>gs</td>\n      <td>gs</td>\n      <td>0.10</td>\n      <td>0</td>\n      <td>binance_01</td>\n    </tr>\n    <tr>\n      <th>1</th>\n      <td>4</td>\n      <td>LTC</td>\n      <td>long</td>\n      <td>gs</td>\n      <td>gs</td>\n      <td>0.10</td>\n      <td>0</td>\n      <td>binance_01</td>\n    </tr>\n    <tr>\n      <th>2</th>\n      <td>5</td>\n      <td>ETC</td>\n      <td>long</td>\n      <td>gs</td>\n      <td>gs</td>\n      <td>0.10</td>\n      <td>0</td>\n      <td>binance_01</td>\n    </tr>\n    <tr>\n      <th>3</th>\n      <td>7</td>\n      <td>TRX</td>\n      <td>long</td>\n      <td>gs</td>\n      <td>gs</td>\n      <td>0.10</td>\n      <td>0</td>\n      <td>binance_01</td>\n    </tr>\n    <tr>\n      <th>4</th>\n      <td>8</td>\n      <td>ALGO</td>\n      <td>long</td>\n      <td>gs</td>\n      <td>gs</td>\n      <td>0.10</td>\n      <td>0</td>\n      <td>binance_01</td>\n    </tr>\n    <tr>\n      <th>5</th>\n      <td>10</td>\n      <td>RUNE</td>\n      <td>long</td>\n      <td>gs</td>\n      <td>gs</td>\n      <td>0.10</td>\n      <td>0</td>\n      <td>binance_01</td>\n    </tr>\n    <tr>\n      <th>6</th>\n      <td>13</td>\n      <td>AVAX</td>\n      <td>long</td>\n      <td>gs</td>\n      <td>gs</td>\n      <td>0.11</td>\n      <td>0</td>\n      <td>binance_01</td>\n    </tr>\n  </tbody>\n</table>\n</div>"
     },
     "execution_count": 20,
     "metadata": {},
     "output_type": "execute_result"
    }
   ],
   "source": [
    "\n",
    "config = pd.read_csv('run_config.csv')\n",
    "#config.loc[config['short_mode'] == 'n', 'short_exposure'] = 0.025\n",
    "#config.loc[config['long_mode'] == 'n', 'long_exposure'] = 0.03\n",
    "#\n",
    "# short_exposure = config.loc[config['short_mode'] == 'n', 'short_exposure'].sum()\n",
    "# long_exposure = config.loc[config['long_mode'] == 'n', 'long_exposure'].sum()\n",
    "#\n",
    "# total = short_exposure + long_exposure\n",
    "# print(f'short_exposure: {short_exposure}, long_exposure:{long_exposure}, total:{total}')\n",
    "\n",
    "#config = pd.DataFrame()\n",
    "\n",
    "# for symbol in long_symbols:\n",
    "#     config = config.append({\n",
    "#         'symbol':symbol,\n",
    "#         'direction':'long',\n",
    "#         'long_mode':'n',\n",
    "#         'short_mode':'p',\n",
    "#         'long_exposure':0.035,\n",
    "#         'short_exposure':0.0\n",
    "#     }, ignore_index=True)\n",
    "#\n",
    "# for symbol in short_symbols:\n",
    "#     config = config.append({\n",
    "#         'symbol':symbol,\n",
    "#         'direction':'long_short',\n",
    "#         'long_mode':'n',\n",
    "#         'short_mode':'n',\n",
    "#         'long_exposure':0.035,\n",
    "#         'short_exposure':0.02\n",
    "#     }, ignore_index=True)\n",
    "#config.loc[config['short_mode'] == 'p', 'short_mode'] = 'm'\n",
    "#config.loc[config['long_mode'] == 'p', 'long_mode'] = 'm'\n",
    "#config.to_csv('run_config.csv')\n",
    "config"
   ],
   "metadata": {
    "collapsed": false,
    "ExecuteTime": {
     "end_time": "2023-08-24T18:48:43.294616900Z",
     "start_time": "2023-08-24T18:48:43.249617200Z"
    }
   }
  },
  {
   "cell_type": "code",
   "execution_count": 21,
   "outputs": [
    {
     "data": {
      "text/plain": "   Unnamed: 0 symbol direction long_mode short_mode  long_exposure  \\\n0           2    ADA      long        gs         gs           0.10   \n1           4    LTC      long        gs         gs           0.10   \n2           5    ETC      long        gs         gs           0.10   \n3           7    TRX      long        gs         gs           0.10   \n4           8   ALGO      long        gs         gs           0.10   \n5          10   RUNE      long        gs         gs           0.10   \n6          13   AVAX      long        gs         gs           0.11   \n\n   short_exposure     account  \n0               0  binance_01  \n1               0  binance_01  \n2               0  binance_01  \n3               0  binance_01  \n4               0  binance_01  \n5               0  binance_01  \n6               0  binance_01  ",
      "text/html": "<div>\n<style scoped>\n    .dataframe tbody tr th:only-of-type {\n        vertical-align: middle;\n    }\n\n    .dataframe tbody tr th {\n        vertical-align: top;\n    }\n\n    .dataframe thead th {\n        text-align: right;\n    }\n</style>\n<table border=\"1\" class=\"dataframe\">\n  <thead>\n    <tr style=\"text-align: right;\">\n      <th></th>\n      <th>Unnamed: 0</th>\n      <th>symbol</th>\n      <th>direction</th>\n      <th>long_mode</th>\n      <th>short_mode</th>\n      <th>long_exposure</th>\n      <th>short_exposure</th>\n      <th>account</th>\n    </tr>\n  </thead>\n  <tbody>\n    <tr>\n      <th>0</th>\n      <td>2</td>\n      <td>ADA</td>\n      <td>long</td>\n      <td>gs</td>\n      <td>gs</td>\n      <td>0.10</td>\n      <td>0</td>\n      <td>binance_01</td>\n    </tr>\n    <tr>\n      <th>1</th>\n      <td>4</td>\n      <td>LTC</td>\n      <td>long</td>\n      <td>gs</td>\n      <td>gs</td>\n      <td>0.10</td>\n      <td>0</td>\n      <td>binance_01</td>\n    </tr>\n    <tr>\n      <th>2</th>\n      <td>5</td>\n      <td>ETC</td>\n      <td>long</td>\n      <td>gs</td>\n      <td>gs</td>\n      <td>0.10</td>\n      <td>0</td>\n      <td>binance_01</td>\n    </tr>\n    <tr>\n      <th>3</th>\n      <td>7</td>\n      <td>TRX</td>\n      <td>long</td>\n      <td>gs</td>\n      <td>gs</td>\n      <td>0.10</td>\n      <td>0</td>\n      <td>binance_01</td>\n    </tr>\n    <tr>\n      <th>4</th>\n      <td>8</td>\n      <td>ALGO</td>\n      <td>long</td>\n      <td>gs</td>\n      <td>gs</td>\n      <td>0.10</td>\n      <td>0</td>\n      <td>binance_01</td>\n    </tr>\n    <tr>\n      <th>5</th>\n      <td>10</td>\n      <td>RUNE</td>\n      <td>long</td>\n      <td>gs</td>\n      <td>gs</td>\n      <td>0.10</td>\n      <td>0</td>\n      <td>binance_01</td>\n    </tr>\n    <tr>\n      <th>6</th>\n      <td>13</td>\n      <td>AVAX</td>\n      <td>long</td>\n      <td>gs</td>\n      <td>gs</td>\n      <td>0.11</td>\n      <td>0</td>\n      <td>binance_01</td>\n    </tr>\n  </tbody>\n</table>\n</div>"
     },
     "execution_count": 21,
     "metadata": {},
     "output_type": "execute_result"
    }
   ],
   "source": [
    "# #### DCA Helper\n",
    "# z_dca_long = pd.read_csv('0dca.csv')\n",
    "# z_dca_long = z_dca_long[(z_dca_long['Exposure'] >= 0.04)]\n",
    "#\n",
    "# z_dca_long_symbols = z_dca_long['symbol'].tolist()\n",
    "# z_dca_long_symbols = [w.replace('USDT','') for w in z_dca_long_symbols]\n",
    "# print(z_dca_long_symbols)\n",
    "# config.loc[config.symbol.isin(z_dca_long_symbols), 'long_mode'] = 'm'\n",
    "# #config.to_csv('run_config.csv')\n",
    "config"
   ],
   "metadata": {
    "collapsed": false,
    "ExecuteTime": {
     "end_time": "2023-08-24T18:48:43.394615400Z",
     "start_time": "2023-08-24T18:48:43.295614400Z"
    }
   }
  },
  {
   "cell_type": "code",
   "execution_count": 22,
   "outputs": [
    {
     "name": "stdout",
     "output_type": "stream",
     "text": [
      "screen -X -S ADA_binance_v5_9_3_clock kill\n",
      "chmod +x cfgs_runtime/ADA.sh\n",
      "screen -dmS ADA_binance_v5_9_3_clock ./cfgs_runtime/ADA.sh ADA\n",
      "\n",
      "screen -X -S LTC_binance_v5_9_3_clock kill\n",
      "chmod +x cfgs_runtime/LTC.sh\n",
      "screen -dmS LTC_binance_v5_9_3_clock ./cfgs_runtime/LTC.sh LTC\n",
      "\n",
      "screen -X -S ETC_binance_v5_9_3_clock kill\n",
      "chmod +x cfgs_runtime/ETC.sh\n",
      "screen -dmS ETC_binance_v5_9_3_clock ./cfgs_runtime/ETC.sh ETC\n",
      "\n",
      "screen -X -S TRX_binance_v5_9_3_clock kill\n",
      "chmod +x cfgs_runtime/TRX.sh\n",
      "screen -dmS TRX_binance_v5_9_3_clock ./cfgs_runtime/TRX.sh TRX\n",
      "\n",
      "screen -X -S ALGO_binance_v5_9_3_clock kill\n",
      "chmod +x cfgs_runtime/ALGO.sh\n",
      "screen -dmS ALGO_binance_v5_9_3_clock ./cfgs_runtime/ALGO.sh ALGO\n",
      "\n",
      "screen -X -S RUNE_binance_v5_9_3_clock kill\n",
      "chmod +x cfgs_runtime/RUNE.sh\n",
      "screen -dmS RUNE_binance_v5_9_3_clock ./cfgs_runtime/RUNE.sh RUNE\n",
      "\n",
      "screen -X -S AVAX_binance_v5_9_3_clock kill\n",
      "chmod +x cfgs_runtime/AVAX.sh\n",
      "screen -dmS AVAX_binance_v5_9_3_clock ./cfgs_runtime/AVAX.sh AVAX\n"
     ]
    }
   ],
   "source": [
    "\n",
    "\n",
    "with open('run_template.sh') as f:\n",
    "    run_template = f.read()\n",
    "\n",
    "start_template = 'screen -X -S {symbol}_binance_v5_9_3_clock kill\\n' \\\n",
    "                 'chmod +x cfgs_runtime/{symbol}.sh\\n' \\\n",
    "                 'screen -dmS {symbol}_binance_v5_9_3_clock ./cfgs_runtime/{symbol}.sh {symbol}'\n",
    "start_commands =[]\n",
    "for index, row in config.iterrows():\n",
    "    dir = f'cfgs_runtime/'\n",
    "    run_command = f'-sm {row[\"short_mode\"]} -sw {row[\"short_exposure\"]} -lm {row[\"long_mode\"]} -lw {row[\"long_exposure\"]} '\n",
    "    full_run_command = run_template.format(command = run_command)\n",
    "    #print(full_run_command)\n",
    "    with open(f'{dir}/{row[\"symbol\"]}.sh','w') as writer:\n",
    "        writer.write(full_run_command)\n",
    "\n",
    "    start_commands.append(start_template.format(symbol = row[\"symbol\"]))\n",
    "\n",
    "full_start_command = \"\\n\\n\".join(map(str,start_commands))\n",
    "print(full_start_command)\n",
    "with open(f'start.sh','w') as writer:\n",
    "        writer.write(full_start_command)"
   ],
   "metadata": {
    "collapsed": false,
    "ExecuteTime": {
     "end_time": "2023-08-24T18:48:43.394615400Z",
     "start_time": "2023-08-24T18:48:43.341615600Z"
    }
   }
  },
  {
   "cell_type": "markdown",
   "source": [],
   "metadata": {
    "collapsed": false
   }
  },
  {
   "cell_type": "markdown",
   "source": [
    "## moved to analyze__live__result_of_current_config.ipynb"
   ],
   "metadata": {
    "collapsed": false
   }
  },
  {
   "cell_type": "code",
   "execution_count": 22,
   "outputs": [],
   "source": [
    "\n",
    "\n"
   ],
   "metadata": {
    "collapsed": false,
    "ExecuteTime": {
     "end_time": "2023-08-24T18:48:43.446613600Z",
     "start_time": "2023-08-24T18:48:43.387617400Z"
    }
   }
  },
  {
   "cell_type": "code",
   "execution_count": 22,
   "outputs": [],
   "source": [],
   "metadata": {
    "collapsed": false,
    "ExecuteTime": {
     "end_time": "2023-08-24T18:48:43.476613700Z",
     "start_time": "2023-08-24T18:48:43.403616600Z"
    }
   }
  }
 ],
 "metadata": {
  "kernelspec": {
   "display_name": "Python 3",
   "language": "python",
   "name": "python3"
  },
  "language_info": {
   "codemirror_mode": {
    "name": "ipython",
    "version": 2
   },
   "file_extension": ".py",
   "mimetype": "text/x-python",
   "name": "python",
   "nbconvert_exporter": "python",
   "pygments_lexer": "ipython2",
   "version": "2.7.6"
  }
 },
 "nbformat": 4,
 "nbformat_minor": 0
}
