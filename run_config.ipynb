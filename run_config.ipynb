{
 "cells": [
  {
   "cell_type": "code",
   "execution_count": 1,
   "metadata": {
    "collapsed": true,
    "pycharm": {
     "name": "#%%\n"
    },
    "ExecuteTime": {
     "end_time": "2023-08-24T18:44:09.725250200Z",
     "start_time": "2023-08-24T18:44:09.690248200Z"
    }
   },
   "outputs": [],
   "source": [
    "%load_ext autoreload\n",
    "%autoreload 2"
   ]
  },
  {
   "cell_type": "code",
   "execution_count": 2,
   "outputs": [
    {
     "data": {
      "text/plain": "15"
     },
     "execution_count": 2,
     "metadata": {},
     "output_type": "execute_result"
    }
   ],
   "source": [
    "import glob\n",
    "\n",
    "live_config_files = glob.glob('cfgs_live/*', recursive=True)\n",
    "symbols = []\n",
    "symbol_files = {}\n",
    "for f in live_config_files:\n",
    "    symbol = f.split('\\\\')[-1]\n",
    "    symbol = symbol.replace('.json', 'USDT')\n",
    "    symbols.append(symbol)\n",
    "    symbol_files[symbol] = f\n",
    "# symbol_files\n",
    "len(symbols)"
   ],
   "metadata": {
    "collapsed": false,
    "pycharm": {
     "name": "#%%\n"
    },
    "ExecuteTime": {
     "end_time": "2023-08-24T18:44:09.771249600Z",
     "start_time": "2023-08-24T18:44:09.727249300Z"
    }
   }
  },
  {
   "cell_type": "code",
   "execution_count": 2,
   "outputs": [],
   "source": [],
   "metadata": {
    "collapsed": false,
    "pycharm": {
     "name": "#%%\n"
    },
    "ExecuteTime": {
     "end_time": "2023-08-24T18:44:09.815248900Z",
     "start_time": "2023-08-24T18:44:09.772252400Z"
    }
   }
  },
  {
   "cell_type": "code",
   "execution_count": 3,
   "outputs": [],
   "source": [
    "# start_files = ['start_long_only.sh', 'start_long_short.sh']\n",
    "# long_symbols = []\n",
    "# short_symbols = []\n",
    "# for filename in start_files:\n",
    "#     with open(filename, 'r') as file:\n",
    "#         lines = file.read().split('\\n')\n",
    "#         for l in lines:\n",
    "#             if 'screen -dmS ' in l:\n",
    "#                 symbol = l.strip().split(\" \")[-1]\n",
    "#                 long_symbols.append(symbol) if filename == 'start_long_only.sh' else short_symbols.append(symbol)\n",
    "#\n",
    "# common_in_both = list(set(long_symbols).intersection(short_symbols))\n",
    "# print(f'common_in_both : {common_in_both}')\n",
    "#\n",
    "# seen = set()\n",
    "# long_dups = [x for x in long_symbols if x in seen or seen.add(x)]\n",
    "# print(f'long_dups : {long_dups}')\n",
    "# seen = set()\n",
    "# short_dups = [x for x in short_symbols if x in seen or seen.add(x)]\n",
    "# print(f'short_dups : {short_dups}')\n",
    "#\n",
    "# print(f'total: {len(symbols)}')\n",
    "# print(f'long: {len(long_symbols)}')\n",
    "# print(f'short: {len(short_symbols)}')\n",
    "#\n",
    "# if len(long_symbols) + len(short_symbols) != len(symbols):\n",
    "#     print('Lengths DONT MATCH!')\n",
    "# else:\n",
    "#     print(f'No duplicate found')"
   ],
   "metadata": {
    "collapsed": false,
    "pycharm": {
     "name": "#%%\n"
    },
    "ExecuteTime": {
     "end_time": "2023-08-24T18:44:09.819250800Z",
     "start_time": "2023-08-24T18:44:09.788249800Z"
    }
   }
  },
  {
   "cell_type": "code",
   "execution_count": 4,
   "outputs": [
    {
     "name": "stdout",
     "output_type": "stream",
     "text": [
      "short_exposure: 0.0, long_exposure:0.0, total:0.0\n"
     ]
    }
   ],
   "source": [
    "import pandas as pd\n",
    "config = pd.read_csv('run_config.csv')\n",
    "#shorts = config[(config['short_mode'] == 'p')]\n",
    "short_exposure = config.loc[config['short_mode'] == 'n', 'short_exposure'].sum()\n",
    "long_exposure = config.loc[config['long_mode'] == 'n', 'long_exposure'].sum()\n",
    "\n",
    "total = short_exposure + long_exposure\n",
    "print(f'short_exposure: {short_exposure}, long_exposure:{long_exposure}, total:{total}')"
   ],
   "metadata": {
    "collapsed": false,
    "pycharm": {
     "name": "#%%\n"
    },
    "ExecuteTime": {
     "end_time": "2023-08-24T18:44:10.177004200Z",
     "start_time": "2023-08-24T18:44:09.820250Z"
    }
   }
  },
  {
   "cell_type": "code",
   "execution_count": 5,
   "outputs": [
    {
     "data": {
      "text/plain": "   Unnamed: 0 symbol   direction long_mode short_mode  long_exposure  \\\n0           4    EOS  long_short        gs         gs           0.07   \n1           6   LINK  long_short        gs         gs           0.07   \n2          12    XTZ  long_short        gs         gs           0.07   \n\n   short_exposure     account  \n0            0.04  binance_01  \n1            0.04  binance_01  \n2            0.04  binance_01  ",
      "text/html": "<div>\n<style scoped>\n    .dataframe tbody tr th:only-of-type {\n        vertical-align: middle;\n    }\n\n    .dataframe tbody tr th {\n        vertical-align: top;\n    }\n\n    .dataframe thead th {\n        text-align: right;\n    }\n</style>\n<table border=\"1\" class=\"dataframe\">\n  <thead>\n    <tr style=\"text-align: right;\">\n      <th></th>\n      <th>Unnamed: 0</th>\n      <th>symbol</th>\n      <th>direction</th>\n      <th>long_mode</th>\n      <th>short_mode</th>\n      <th>long_exposure</th>\n      <th>short_exposure</th>\n      <th>account</th>\n    </tr>\n  </thead>\n  <tbody>\n    <tr>\n      <th>0</th>\n      <td>4</td>\n      <td>EOS</td>\n      <td>long_short</td>\n      <td>gs</td>\n      <td>gs</td>\n      <td>0.07</td>\n      <td>0.04</td>\n      <td>binance_01</td>\n    </tr>\n    <tr>\n      <th>1</th>\n      <td>6</td>\n      <td>LINK</td>\n      <td>long_short</td>\n      <td>gs</td>\n      <td>gs</td>\n      <td>0.07</td>\n      <td>0.04</td>\n      <td>binance_01</td>\n    </tr>\n    <tr>\n      <th>2</th>\n      <td>12</td>\n      <td>XTZ</td>\n      <td>long_short</td>\n      <td>gs</td>\n      <td>gs</td>\n      <td>0.07</td>\n      <td>0.04</td>\n      <td>binance_01</td>\n    </tr>\n  </tbody>\n</table>\n</div>"
     },
     "execution_count": 5,
     "metadata": {},
     "output_type": "execute_result"
    }
   ],
   "source": [
    "\n",
    "config = pd.read_csv('run_config.csv')\n",
    "#config.loc[config['short_mode'] == 'n', 'short_exposure'] = 0.025\n",
    "#config.loc[config['long_mode'] == 'n', 'long_exposure'] = 0.03\n",
    "#\n",
    "# short_exposure = config.loc[config['short_mode'] == 'n', 'short_exposure'].sum()\n",
    "# long_exposure = config.loc[config['long_mode'] == 'n', 'long_exposure'].sum()\n",
    "#\n",
    "# total = short_exposure + long_exposure\n",
    "# print(f'short_exposure: {short_exposure}, long_exposure:{long_exposure}, total:{total}')\n",
    "\n",
    "#config = pd.DataFrame()\n",
    "\n",
    "# for symbol in long_symbols:\n",
    "#     config = config.append({\n",
    "#         'symbol':symbol,\n",
    "#         'direction':'long',\n",
    "#         'long_mode':'n',\n",
    "#         'short_mode':'p',\n",
    "#         'long_exposure':0.035,\n",
    "#         'short_exposure':0.0\n",
    "#     }, ignore_index=True)\n",
    "#\n",
    "# for symbol in short_symbols:\n",
    "#     config = config.append({\n",
    "#         'symbol':symbol,\n",
    "#         'direction':'long_short',\n",
    "#         'long_mode':'n',\n",
    "#         'short_mode':'n',\n",
    "#         'long_exposure':0.035,\n",
    "#         'short_exposure':0.02\n",
    "#     }, ignore_index=True)\n",
    "#config.loc[config['short_mode'] == 'p', 'short_mode'] = 'm'\n",
    "#config.loc[config['long_mode'] == 'p', 'long_mode'] = 'm'\n",
    "#config.to_csv('run_config.csv')\n",
    "config"
   ],
   "metadata": {
    "collapsed": false,
    "pycharm": {
     "name": "#%%\n"
    },
    "ExecuteTime": {
     "end_time": "2023-08-24T18:44:10.238004500Z",
     "start_time": "2023-08-24T18:44:10.177004200Z"
    }
   }
  },
  {
   "cell_type": "code",
   "execution_count": 6,
   "outputs": [
    {
     "data": {
      "text/plain": "   Unnamed: 0 symbol   direction long_mode short_mode  long_exposure  \\\n0           4    EOS  long_short        gs         gs           0.07   \n1           6   LINK  long_short        gs         gs           0.07   \n2          12    XTZ  long_short        gs         gs           0.07   \n\n   short_exposure     account  \n0            0.04  binance_01  \n1            0.04  binance_01  \n2            0.04  binance_01  ",
      "text/html": "<div>\n<style scoped>\n    .dataframe tbody tr th:only-of-type {\n        vertical-align: middle;\n    }\n\n    .dataframe tbody tr th {\n        vertical-align: top;\n    }\n\n    .dataframe thead th {\n        text-align: right;\n    }\n</style>\n<table border=\"1\" class=\"dataframe\">\n  <thead>\n    <tr style=\"text-align: right;\">\n      <th></th>\n      <th>Unnamed: 0</th>\n      <th>symbol</th>\n      <th>direction</th>\n      <th>long_mode</th>\n      <th>short_mode</th>\n      <th>long_exposure</th>\n      <th>short_exposure</th>\n      <th>account</th>\n    </tr>\n  </thead>\n  <tbody>\n    <tr>\n      <th>0</th>\n      <td>4</td>\n      <td>EOS</td>\n      <td>long_short</td>\n      <td>gs</td>\n      <td>gs</td>\n      <td>0.07</td>\n      <td>0.04</td>\n      <td>binance_01</td>\n    </tr>\n    <tr>\n      <th>1</th>\n      <td>6</td>\n      <td>LINK</td>\n      <td>long_short</td>\n      <td>gs</td>\n      <td>gs</td>\n      <td>0.07</td>\n      <td>0.04</td>\n      <td>binance_01</td>\n    </tr>\n    <tr>\n      <th>2</th>\n      <td>12</td>\n      <td>XTZ</td>\n      <td>long_short</td>\n      <td>gs</td>\n      <td>gs</td>\n      <td>0.07</td>\n      <td>0.04</td>\n      <td>binance_01</td>\n    </tr>\n  </tbody>\n</table>\n</div>"
     },
     "execution_count": 6,
     "metadata": {},
     "output_type": "execute_result"
    }
   ],
   "source": [
    "# #### DCA Helper\n",
    "# z_dca_long = pd.read_csv('0dca.csv')\n",
    "# z_dca_long = z_dca_long[(z_dca_long['Exposure'] >= 0.04)]\n",
    "#\n",
    "# z_dca_long_symbols = z_dca_long['symbol'].tolist()\n",
    "# z_dca_long_symbols = [w.replace('USDT','') for w in z_dca_long_symbols]\n",
    "# print(z_dca_long_symbols)\n",
    "# config.loc[config.symbol.isin(z_dca_long_symbols), 'long_mode'] = 'm'\n",
    "# #config.to_csv('run_config.csv')\n",
    "config"
   ],
   "metadata": {
    "collapsed": false,
    "pycharm": {
     "name": "#%%\n"
    },
    "ExecuteTime": {
     "end_time": "2023-08-24T18:44:10.283002100Z",
     "start_time": "2023-08-24T18:44:10.223003300Z"
    }
   }
  },
  {
   "cell_type": "code",
   "execution_count": 7,
   "outputs": [
    {
     "name": "stdout",
     "output_type": "stream",
     "text": [
      "screen -X -S EOS_binance_v5_9_0 kill\n",
      "chmod +x cfgs_runtime/EOS.sh\n",
      "screen -dmS EOS_binance_v5_9_0 ./cfgs_runtime/EOS.sh EOS\n",
      "\n",
      "screen -X -S LINK_binance_v5_9_0 kill\n",
      "chmod +x cfgs_runtime/LINK.sh\n",
      "screen -dmS LINK_binance_v5_9_0 ./cfgs_runtime/LINK.sh LINK\n",
      "\n",
      "screen -X -S XTZ_binance_v5_9_0 kill\n",
      "chmod +x cfgs_runtime/XTZ.sh\n",
      "screen -dmS XTZ_binance_v5_9_0 ./cfgs_runtime/XTZ.sh XTZ\n"
     ]
    }
   ],
   "source": [
    "import os\n",
    "import shutil\n",
    "\n",
    "with open('run_template.sh') as f:\n",
    "    run_template = f.read()\n",
    "\n",
    "start_template = 'screen -X -S {symbol}_binance_v5_9_0 kill\\n' \\\n",
    "                 'chmod +x cfgs_runtime/{symbol}.sh\\n' \\\n",
    "                 'screen -dmS {symbol}_binance_v5_9_0 ./cfgs_runtime/{symbol}.sh {symbol}'\n",
    "start_commands =[]\n",
    "for index, row in config.iterrows():\n",
    "    dir = f'cfgs_runtime/'\n",
    "    run_command = f'-sm {row[\"short_mode\"]} -sw {row[\"short_exposure\"]} -lm {row[\"long_mode\"]} -lw {row[\"long_exposure\"]}'\n",
    "    full_run_command = run_template.format(command = run_command)\n",
    "    #print(full_run_command)\n",
    "    with open(f'{dir}/{row[\"symbol\"]}.sh','w') as writer:\n",
    "        writer.write(full_run_command)\n",
    "\n",
    "    start_commands.append(start_template.format(symbol = row[\"symbol\"]))\n",
    "\n",
    "full_start_command = \"\\n\\n\".join(map(str,start_commands))\n",
    "print(full_start_command)\n",
    "with open(f'start.sh','w') as writer:\n",
    "        writer.write(full_start_command)"
   ],
   "metadata": {
    "collapsed": false,
    "pycharm": {
     "name": "#%%\n"
    },
    "ExecuteTime": {
     "end_time": "2023-08-24T18:44:10.454002600Z",
     "start_time": "2023-08-24T18:44:10.272004700Z"
    }
   }
  },
  {
   "cell_type": "markdown",
   "source": [],
   "metadata": {
    "collapsed": false,
    "pycharm": {
     "name": "#%% md\n"
    }
   }
  },
  {
   "cell_type": "code",
   "execution_count": 8,
   "outputs": [
    {
     "ename": "ZeroDivisionError",
     "evalue": "division by zero",
     "output_type": "error",
     "traceback": [
      "\u001B[1;31m---------------------------------------------------------------------------\u001B[0m",
      "\u001B[1;31mZeroDivisionError\u001B[0m                         Traceback (most recent call last)",
      "Cell \u001B[1;32mIn[8], line 7\u001B[0m\n\u001B[0;32m      4\u001B[0m longs \u001B[38;5;241m=\u001B[39m config[(config[\u001B[38;5;124m'\u001B[39m\u001B[38;5;124mlong_mode\u001B[39m\u001B[38;5;124m'\u001B[39m] \u001B[38;5;241m==\u001B[39m \u001B[38;5;124m'\u001B[39m\u001B[38;5;124mn\u001B[39m\u001B[38;5;124m'\u001B[39m)]\u001B[38;5;241m.\u001B[39mshape[\u001B[38;5;241m0\u001B[39m]\n\u001B[0;32m      5\u001B[0m shorts \u001B[38;5;241m=\u001B[39m config[(config[\u001B[38;5;124m'\u001B[39m\u001B[38;5;124mshort_mode\u001B[39m\u001B[38;5;124m'\u001B[39m] \u001B[38;5;241m==\u001B[39m \u001B[38;5;124m'\u001B[39m\u001B[38;5;124mn\u001B[39m\u001B[38;5;124m'\u001B[39m)]\u001B[38;5;241m.\u001B[39mshape[\u001B[38;5;241m0\u001B[39m]\n\u001B[1;32m----> 7\u001B[0m ratio \u001B[38;5;241m=\u001B[39m \u001B[43mshorts\u001B[49m\u001B[38;5;241;43m/\u001B[39;49m\u001B[43mlongs\u001B[49m\n\u001B[0;32m      9\u001B[0m total_exposure \u001B[38;5;241m=\u001B[39m longs\u001B[38;5;241m+\u001B[39mshorts\n\u001B[0;32m     10\u001B[0m total_wallet_with_margin \u001B[38;5;241m=\u001B[39m total_wallet \u001B[38;5;241m*\u001B[39m margin\n",
      "\u001B[1;31mZeroDivisionError\u001B[0m: division by zero"
     ]
    }
   ],
   "source": [
    "total_wallet = 607\n",
    "margin = 7\n",
    "coins = config.shape[0]\n",
    "longs = config[(config['long_mode'] == 'n')].shape[0]\n",
    "shorts = config[(config['short_mode'] == 'n')].shape[0]\n",
    "\n",
    "ratio = shorts/longs\n",
    "\n",
    "total_exposure = longs+shorts\n",
    "total_wallet_with_margin = total_wallet * margin\n",
    "per_entry = total_wallet_with_margin / total_exposure\n",
    "money_cost = total_wallet / total_exposure\n",
    "\n",
    "exposure = money_cost / margin\n",
    "\n",
    "xxx = (exposure / total_wallet) * 100\n",
    "\n",
    "print(f'coins: {coins}, longs:{longs}, shorts:{shorts} , ratio:{ratio}')\n",
    "xxx"
   ],
   "metadata": {
    "collapsed": false,
    "pycharm": {
     "name": "#%%\n"
    },
    "ExecuteTime": {
     "end_time": "2023-08-24T18:44:10.489003600Z",
     "start_time": "2023-08-24T18:44:10.318006Z"
    }
   }
  },
  {
   "cell_type": "code",
   "execution_count": null,
   "outputs": [],
   "source": [
    "\n",
    "\n"
   ],
   "metadata": {
    "collapsed": false,
    "pycharm": {
     "name": "#%%\n"
    },
    "ExecuteTime": {
     "start_time": "2023-08-24T18:44:10.472004900Z"
    }
   }
  },
  {
   "cell_type": "code",
   "execution_count": null,
   "outputs": [],
   "source": [],
   "metadata": {
    "collapsed": false,
    "pycharm": {
     "name": "#%%\n"
    },
    "ExecuteTime": {
     "start_time": "2023-08-24T18:44:10.473003300Z"
    }
   }
  }
 ],
 "metadata": {
  "kernelspec": {
   "display_name": "Python 3",
   "language": "python",
   "name": "python3"
  },
  "language_info": {
   "codemirror_mode": {
    "name": "ipython",
    "version": 2
   },
   "file_extension": ".py",
   "mimetype": "text/x-python",
   "name": "python",
   "nbconvert_exporter": "python",
   "pygments_lexer": "ipython2",
   "version": "2.7.6"
  }
 },
 "nbformat": 4,
 "nbformat_minor": 0
}
