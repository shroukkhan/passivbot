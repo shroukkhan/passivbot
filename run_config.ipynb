{
 "cells": [
  {
   "cell_type": "code",
   "execution_count": 1,
   "metadata": {
    "collapsed": true,
    "ExecuteTime": {
     "end_time": "2023-08-12T11:10:49.426464600Z",
     "start_time": "2023-08-12T11:10:49.333465300Z"
    }
   },
   "outputs": [],
   "source": [
    "%load_ext autoreload\n",
    "%autoreload 2"
   ]
  },
  {
   "cell_type": "code",
   "execution_count": 2,
   "outputs": [
    {
     "data": {
      "text/plain": "16"
     },
     "execution_count": 2,
     "metadata": {},
     "output_type": "execute_result"
    }
   ],
   "source": [
    "import glob\n",
    "\n",
    "live_config_files = glob.glob('cfgs_live/*', recursive=True)\n",
    "symbols = []\n",
    "symbol_files = {}\n",
    "for f in live_config_files:\n",
    "    symbol = f.split('\\\\')[-1]\n",
    "    symbol = symbol.replace('.json', 'USDT')\n",
    "    symbols.append(symbol)\n",
    "    symbol_files[symbol] = f\n",
    "# symbol_files\n",
    "len(symbols)"
   ],
   "metadata": {
    "collapsed": false,
    "ExecuteTime": {
     "end_time": "2023-08-12T11:10:49.433465Z",
     "start_time": "2023-08-12T11:10:49.377464600Z"
    }
   }
  },
  {
   "cell_type": "code",
   "execution_count": 2,
   "outputs": [],
   "source": [],
   "metadata": {
    "collapsed": false,
    "ExecuteTime": {
     "end_time": "2023-08-12T11:10:49.460464500Z",
     "start_time": "2023-08-12T11:10:49.420464500Z"
    }
   }
  },
  {
   "cell_type": "code",
   "execution_count": 3,
   "outputs": [],
   "source": [
    "# start_files = ['start_long_only.sh', 'start_long_short.sh']\n",
    "# long_symbols = []\n",
    "# short_symbols = []\n",
    "# for filename in start_files:\n",
    "#     with open(filename, 'r') as file:\n",
    "#         lines = file.read().split('\\n')\n",
    "#         for l in lines:\n",
    "#             if 'screen -dmS ' in l:\n",
    "#                 symbol = l.strip().split(\" \")[-1]\n",
    "#                 long_symbols.append(symbol) if filename == 'start_long_only.sh' else short_symbols.append(symbol)\n",
    "#\n",
    "# common_in_both = list(set(long_symbols).intersection(short_symbols))\n",
    "# print(f'common_in_both : {common_in_both}')\n",
    "#\n",
    "# seen = set()\n",
    "# long_dups = [x for x in long_symbols if x in seen or seen.add(x)]\n",
    "# print(f'long_dups : {long_dups}')\n",
    "# seen = set()\n",
    "# short_dups = [x for x in short_symbols if x in seen or seen.add(x)]\n",
    "# print(f'short_dups : {short_dups}')\n",
    "#\n",
    "# print(f'total: {len(symbols)}')\n",
    "# print(f'long: {len(long_symbols)}')\n",
    "# print(f'short: {len(short_symbols)}')\n",
    "#\n",
    "# if len(long_symbols) + len(short_symbols) != len(symbols):\n",
    "#     print('Lengths DONT MATCH!')\n",
    "# else:\n",
    "#     print(f'No duplicate found')"
   ],
   "metadata": {
    "collapsed": false,
    "ExecuteTime": {
     "end_time": "2023-08-12T11:10:49.495466200Z",
     "start_time": "2023-08-12T11:10:49.436463900Z"
    }
   }
  },
  {
   "cell_type": "code",
   "execution_count": 4,
   "outputs": [
    {
     "name": "stdout",
     "output_type": "stream",
     "text": [
      "short_exposure: 0, long_exposure:1.2100000000000002, total:1.2100000000000002\n"
     ]
    }
   ],
   "source": [
    "import pandas as pd\n",
    "config = pd.read_csv('run_config.csv')\n",
    "#shorts = config[(config['short_mode'] == 'p')]\n",
    "short_exposure = config.loc[config['short_mode'] == 'n', 'short_exposure'].sum()\n",
    "long_exposure = config.loc[config['long_mode'] == 'n', 'long_exposure'].sum()\n",
    "\n",
    "total = short_exposure + long_exposure\n",
    "print(f'short_exposure: {short_exposure}, long_exposure:{long_exposure}, total:{total}')"
   ],
   "metadata": {
    "collapsed": false,
    "ExecuteTime": {
     "end_time": "2023-08-12T11:10:50.012121400Z",
     "start_time": "2023-08-12T11:10:49.468464600Z"
    }
   }
  },
  {
   "cell_type": "code",
   "execution_count": 5,
   "outputs": [
    {
     "data": {
      "text/plain": "    Unnamed: 0 symbol direction long_mode short_mode  long_exposure  \\\n0            0    ETH      long         m          m           0.10   \n1            1    BNB      long         n          m           0.10   \n2            2    ADA      long         n          m           0.10   \n3            3    KSM      long         n          m           0.10   \n4            4    LTC      long         n          m           0.10   \n5            5    ETC      long         n          m           0.10   \n6            6    XMR      long         n          m           0.10   \n7            7    TRX      long         n          m           0.10   \n8            8   ALGO      long         n          m           0.10   \n9            9   COMP      long         n          m           0.10   \n10          10   RUNE      long         n          m           0.10   \n11          11   NEAR      long         n          m           0.10   \n12          12   GALA      long         m          m           0.10   \n13          13    GMT      long         m          m           0.10   \n14          13   AVAX      long         n          m           0.11   \n15          14    BTC      long         m          m           0.12   \n\n    short_exposure     account  \n0                0  binance_01  \n1                0  binance_01  \n2                0  binance_01  \n3                0  binance_01  \n4                0  binance_01  \n5                0  binance_01  \n6                0  binance_01  \n7                0  binance_01  \n8                0  binance_01  \n9                0  binance_01  \n10               0  binance_01  \n11               0  binance_01  \n12               0  binance_01  \n13               0  binance_01  \n14               0  binance_01  \n15               0  binance_01  ",
      "text/html": "<div>\n<style scoped>\n    .dataframe tbody tr th:only-of-type {\n        vertical-align: middle;\n    }\n\n    .dataframe tbody tr th {\n        vertical-align: top;\n    }\n\n    .dataframe thead th {\n        text-align: right;\n    }\n</style>\n<table border=\"1\" class=\"dataframe\">\n  <thead>\n    <tr style=\"text-align: right;\">\n      <th></th>\n      <th>Unnamed: 0</th>\n      <th>symbol</th>\n      <th>direction</th>\n      <th>long_mode</th>\n      <th>short_mode</th>\n      <th>long_exposure</th>\n      <th>short_exposure</th>\n      <th>account</th>\n    </tr>\n  </thead>\n  <tbody>\n    <tr>\n      <th>0</th>\n      <td>0</td>\n      <td>ETH</td>\n      <td>long</td>\n      <td>m</td>\n      <td>m</td>\n      <td>0.10</td>\n      <td>0</td>\n      <td>binance_01</td>\n    </tr>\n    <tr>\n      <th>1</th>\n      <td>1</td>\n      <td>BNB</td>\n      <td>long</td>\n      <td>n</td>\n      <td>m</td>\n      <td>0.10</td>\n      <td>0</td>\n      <td>binance_01</td>\n    </tr>\n    <tr>\n      <th>2</th>\n      <td>2</td>\n      <td>ADA</td>\n      <td>long</td>\n      <td>n</td>\n      <td>m</td>\n      <td>0.10</td>\n      <td>0</td>\n      <td>binance_01</td>\n    </tr>\n    <tr>\n      <th>3</th>\n      <td>3</td>\n      <td>KSM</td>\n      <td>long</td>\n      <td>n</td>\n      <td>m</td>\n      <td>0.10</td>\n      <td>0</td>\n      <td>binance_01</td>\n    </tr>\n    <tr>\n      <th>4</th>\n      <td>4</td>\n      <td>LTC</td>\n      <td>long</td>\n      <td>n</td>\n      <td>m</td>\n      <td>0.10</td>\n      <td>0</td>\n      <td>binance_01</td>\n    </tr>\n    <tr>\n      <th>5</th>\n      <td>5</td>\n      <td>ETC</td>\n      <td>long</td>\n      <td>n</td>\n      <td>m</td>\n      <td>0.10</td>\n      <td>0</td>\n      <td>binance_01</td>\n    </tr>\n    <tr>\n      <th>6</th>\n      <td>6</td>\n      <td>XMR</td>\n      <td>long</td>\n      <td>n</td>\n      <td>m</td>\n      <td>0.10</td>\n      <td>0</td>\n      <td>binance_01</td>\n    </tr>\n    <tr>\n      <th>7</th>\n      <td>7</td>\n      <td>TRX</td>\n      <td>long</td>\n      <td>n</td>\n      <td>m</td>\n      <td>0.10</td>\n      <td>0</td>\n      <td>binance_01</td>\n    </tr>\n    <tr>\n      <th>8</th>\n      <td>8</td>\n      <td>ALGO</td>\n      <td>long</td>\n      <td>n</td>\n      <td>m</td>\n      <td>0.10</td>\n      <td>0</td>\n      <td>binance_01</td>\n    </tr>\n    <tr>\n      <th>9</th>\n      <td>9</td>\n      <td>COMP</td>\n      <td>long</td>\n      <td>n</td>\n      <td>m</td>\n      <td>0.10</td>\n      <td>0</td>\n      <td>binance_01</td>\n    </tr>\n    <tr>\n      <th>10</th>\n      <td>10</td>\n      <td>RUNE</td>\n      <td>long</td>\n      <td>n</td>\n      <td>m</td>\n      <td>0.10</td>\n      <td>0</td>\n      <td>binance_01</td>\n    </tr>\n    <tr>\n      <th>11</th>\n      <td>11</td>\n      <td>NEAR</td>\n      <td>long</td>\n      <td>n</td>\n      <td>m</td>\n      <td>0.10</td>\n      <td>0</td>\n      <td>binance_01</td>\n    </tr>\n    <tr>\n      <th>12</th>\n      <td>12</td>\n      <td>GALA</td>\n      <td>long</td>\n      <td>m</td>\n      <td>m</td>\n      <td>0.10</td>\n      <td>0</td>\n      <td>binance_01</td>\n    </tr>\n    <tr>\n      <th>13</th>\n      <td>13</td>\n      <td>GMT</td>\n      <td>long</td>\n      <td>m</td>\n      <td>m</td>\n      <td>0.10</td>\n      <td>0</td>\n      <td>binance_01</td>\n    </tr>\n    <tr>\n      <th>14</th>\n      <td>13</td>\n      <td>AVAX</td>\n      <td>long</td>\n      <td>n</td>\n      <td>m</td>\n      <td>0.11</td>\n      <td>0</td>\n      <td>binance_01</td>\n    </tr>\n    <tr>\n      <th>15</th>\n      <td>14</td>\n      <td>BTC</td>\n      <td>long</td>\n      <td>m</td>\n      <td>m</td>\n      <td>0.12</td>\n      <td>0</td>\n      <td>binance_01</td>\n    </tr>\n  </tbody>\n</table>\n</div>"
     },
     "execution_count": 5,
     "metadata": {},
     "output_type": "execute_result"
    }
   ],
   "source": [
    "\n",
    "config = pd.read_csv('run_config.csv')\n",
    "#config.loc[config['short_mode'] == 'n', 'short_exposure'] = 0.025\n",
    "#config.loc[config['long_mode'] == 'n', 'long_exposure'] = 0.03\n",
    "#\n",
    "# short_exposure = config.loc[config['short_mode'] == 'n', 'short_exposure'].sum()\n",
    "# long_exposure = config.loc[config['long_mode'] == 'n', 'long_exposure'].sum()\n",
    "#\n",
    "# total = short_exposure + long_exposure\n",
    "# print(f'short_exposure: {short_exposure}, long_exposure:{long_exposure}, total:{total}')\n",
    "\n",
    "#config = pd.DataFrame()\n",
    "\n",
    "# for symbol in long_symbols:\n",
    "#     config = config.append({\n",
    "#         'symbol':symbol,\n",
    "#         'direction':'long',\n",
    "#         'long_mode':'n',\n",
    "#         'short_mode':'p',\n",
    "#         'long_exposure':0.035,\n",
    "#         'short_exposure':0.0\n",
    "#     }, ignore_index=True)\n",
    "#\n",
    "# for symbol in short_symbols:\n",
    "#     config = config.append({\n",
    "#         'symbol':symbol,\n",
    "#         'direction':'long_short',\n",
    "#         'long_mode':'n',\n",
    "#         'short_mode':'n',\n",
    "#         'long_exposure':0.035,\n",
    "#         'short_exposure':0.02\n",
    "#     }, ignore_index=True)\n",
    "#config.loc[config['short_mode'] == 'p', 'short_mode'] = 'm'\n",
    "#config.loc[config['long_mode'] == 'p', 'long_mode'] = 'm'\n",
    "#config.to_csv('run_config.csv')\n",
    "config"
   ],
   "metadata": {
    "collapsed": false,
    "ExecuteTime": {
     "end_time": "2023-08-12T11:10:50.092139600Z",
     "start_time": "2023-08-12T11:10:50.009121500Z"
    }
   }
  },
  {
   "cell_type": "code",
   "execution_count": 6,
   "outputs": [
    {
     "data": {
      "text/plain": "    Unnamed: 0 symbol direction long_mode short_mode  long_exposure  \\\n0            0    ETH      long         m          m           0.10   \n1            1    BNB      long         n          m           0.10   \n2            2    ADA      long         n          m           0.10   \n3            3    KSM      long         n          m           0.10   \n4            4    LTC      long         n          m           0.10   \n5            5    ETC      long         n          m           0.10   \n6            6    XMR      long         n          m           0.10   \n7            7    TRX      long         n          m           0.10   \n8            8   ALGO      long         n          m           0.10   \n9            9   COMP      long         n          m           0.10   \n10          10   RUNE      long         n          m           0.10   \n11          11   NEAR      long         n          m           0.10   \n12          12   GALA      long         m          m           0.10   \n13          13    GMT      long         m          m           0.10   \n14          13   AVAX      long         n          m           0.11   \n15          14    BTC      long         m          m           0.12   \n\n    short_exposure     account  \n0                0  binance_01  \n1                0  binance_01  \n2                0  binance_01  \n3                0  binance_01  \n4                0  binance_01  \n5                0  binance_01  \n6                0  binance_01  \n7                0  binance_01  \n8                0  binance_01  \n9                0  binance_01  \n10               0  binance_01  \n11               0  binance_01  \n12               0  binance_01  \n13               0  binance_01  \n14               0  binance_01  \n15               0  binance_01  ",
      "text/html": "<div>\n<style scoped>\n    .dataframe tbody tr th:only-of-type {\n        vertical-align: middle;\n    }\n\n    .dataframe tbody tr th {\n        vertical-align: top;\n    }\n\n    .dataframe thead th {\n        text-align: right;\n    }\n</style>\n<table border=\"1\" class=\"dataframe\">\n  <thead>\n    <tr style=\"text-align: right;\">\n      <th></th>\n      <th>Unnamed: 0</th>\n      <th>symbol</th>\n      <th>direction</th>\n      <th>long_mode</th>\n      <th>short_mode</th>\n      <th>long_exposure</th>\n      <th>short_exposure</th>\n      <th>account</th>\n    </tr>\n  </thead>\n  <tbody>\n    <tr>\n      <th>0</th>\n      <td>0</td>\n      <td>ETH</td>\n      <td>long</td>\n      <td>m</td>\n      <td>m</td>\n      <td>0.10</td>\n      <td>0</td>\n      <td>binance_01</td>\n    </tr>\n    <tr>\n      <th>1</th>\n      <td>1</td>\n      <td>BNB</td>\n      <td>long</td>\n      <td>n</td>\n      <td>m</td>\n      <td>0.10</td>\n      <td>0</td>\n      <td>binance_01</td>\n    </tr>\n    <tr>\n      <th>2</th>\n      <td>2</td>\n      <td>ADA</td>\n      <td>long</td>\n      <td>n</td>\n      <td>m</td>\n      <td>0.10</td>\n      <td>0</td>\n      <td>binance_01</td>\n    </tr>\n    <tr>\n      <th>3</th>\n      <td>3</td>\n      <td>KSM</td>\n      <td>long</td>\n      <td>n</td>\n      <td>m</td>\n      <td>0.10</td>\n      <td>0</td>\n      <td>binance_01</td>\n    </tr>\n    <tr>\n      <th>4</th>\n      <td>4</td>\n      <td>LTC</td>\n      <td>long</td>\n      <td>n</td>\n      <td>m</td>\n      <td>0.10</td>\n      <td>0</td>\n      <td>binance_01</td>\n    </tr>\n    <tr>\n      <th>5</th>\n      <td>5</td>\n      <td>ETC</td>\n      <td>long</td>\n      <td>n</td>\n      <td>m</td>\n      <td>0.10</td>\n      <td>0</td>\n      <td>binance_01</td>\n    </tr>\n    <tr>\n      <th>6</th>\n      <td>6</td>\n      <td>XMR</td>\n      <td>long</td>\n      <td>n</td>\n      <td>m</td>\n      <td>0.10</td>\n      <td>0</td>\n      <td>binance_01</td>\n    </tr>\n    <tr>\n      <th>7</th>\n      <td>7</td>\n      <td>TRX</td>\n      <td>long</td>\n      <td>n</td>\n      <td>m</td>\n      <td>0.10</td>\n      <td>0</td>\n      <td>binance_01</td>\n    </tr>\n    <tr>\n      <th>8</th>\n      <td>8</td>\n      <td>ALGO</td>\n      <td>long</td>\n      <td>n</td>\n      <td>m</td>\n      <td>0.10</td>\n      <td>0</td>\n      <td>binance_01</td>\n    </tr>\n    <tr>\n      <th>9</th>\n      <td>9</td>\n      <td>COMP</td>\n      <td>long</td>\n      <td>n</td>\n      <td>m</td>\n      <td>0.10</td>\n      <td>0</td>\n      <td>binance_01</td>\n    </tr>\n    <tr>\n      <th>10</th>\n      <td>10</td>\n      <td>RUNE</td>\n      <td>long</td>\n      <td>n</td>\n      <td>m</td>\n      <td>0.10</td>\n      <td>0</td>\n      <td>binance_01</td>\n    </tr>\n    <tr>\n      <th>11</th>\n      <td>11</td>\n      <td>NEAR</td>\n      <td>long</td>\n      <td>n</td>\n      <td>m</td>\n      <td>0.10</td>\n      <td>0</td>\n      <td>binance_01</td>\n    </tr>\n    <tr>\n      <th>12</th>\n      <td>12</td>\n      <td>GALA</td>\n      <td>long</td>\n      <td>m</td>\n      <td>m</td>\n      <td>0.10</td>\n      <td>0</td>\n      <td>binance_01</td>\n    </tr>\n    <tr>\n      <th>13</th>\n      <td>13</td>\n      <td>GMT</td>\n      <td>long</td>\n      <td>m</td>\n      <td>m</td>\n      <td>0.10</td>\n      <td>0</td>\n      <td>binance_01</td>\n    </tr>\n    <tr>\n      <th>14</th>\n      <td>13</td>\n      <td>AVAX</td>\n      <td>long</td>\n      <td>n</td>\n      <td>m</td>\n      <td>0.11</td>\n      <td>0</td>\n      <td>binance_01</td>\n    </tr>\n    <tr>\n      <th>15</th>\n      <td>14</td>\n      <td>BTC</td>\n      <td>long</td>\n      <td>m</td>\n      <td>m</td>\n      <td>0.12</td>\n      <td>0</td>\n      <td>binance_01</td>\n    </tr>\n  </tbody>\n</table>\n</div>"
     },
     "execution_count": 6,
     "metadata": {},
     "output_type": "execute_result"
    }
   ],
   "source": [
    "# #### DCA Helper\n",
    "# z_dca_long = pd.read_csv('0dca.csv')\n",
    "# z_dca_long = z_dca_long[(z_dca_long['Exposure'] >= 0.04)]\n",
    "#\n",
    "# z_dca_long_symbols = z_dca_long['symbol'].tolist()\n",
    "# z_dca_long_symbols = [w.replace('USDT','') for w in z_dca_long_symbols]\n",
    "# print(z_dca_long_symbols)\n",
    "# config.loc[config.symbol.isin(z_dca_long_symbols), 'long_mode'] = 'm'\n",
    "# #config.to_csv('run_config.csv')\n",
    "config"
   ],
   "metadata": {
    "collapsed": false,
    "ExecuteTime": {
     "end_time": "2023-08-12T11:10:50.136137500Z",
     "start_time": "2023-08-12T11:10:50.070140400Z"
    }
   }
  },
  {
   "cell_type": "code",
   "execution_count": 7,
   "outputs": [
    {
     "name": "stdout",
     "output_type": "stream",
     "text": [
      "screen -X -S ETH_binance_v5_9_3_clock kill\n",
      "chmod +x cfgs_runtime/ETH.sh\n",
      "screen -dmS ETH_binance_v5_9_3_clock ./cfgs_runtime/ETH.sh ETH\n",
      "\n",
      "screen -X -S BNB_binance_v5_9_3_clock kill\n",
      "chmod +x cfgs_runtime/BNB.sh\n",
      "screen -dmS BNB_binance_v5_9_3_clock ./cfgs_runtime/BNB.sh BNB\n",
      "\n",
      "screen -X -S ADA_binance_v5_9_3_clock kill\n",
      "chmod +x cfgs_runtime/ADA.sh\n",
      "screen -dmS ADA_binance_v5_9_3_clock ./cfgs_runtime/ADA.sh ADA\n",
      "\n",
      "screen -X -S KSM_binance_v5_9_3_clock kill\n",
      "chmod +x cfgs_runtime/KSM.sh\n",
      "screen -dmS KSM_binance_v5_9_3_clock ./cfgs_runtime/KSM.sh KSM\n",
      "\n",
      "screen -X -S LTC_binance_v5_9_3_clock kill\n",
      "chmod +x cfgs_runtime/LTC.sh\n",
      "screen -dmS LTC_binance_v5_9_3_clock ./cfgs_runtime/LTC.sh LTC\n",
      "\n",
      "screen -X -S ETC_binance_v5_9_3_clock kill\n",
      "chmod +x cfgs_runtime/ETC.sh\n",
      "screen -dmS ETC_binance_v5_9_3_clock ./cfgs_runtime/ETC.sh ETC\n",
      "\n",
      "screen -X -S XMR_binance_v5_9_3_clock kill\n",
      "chmod +x cfgs_runtime/XMR.sh\n",
      "screen -dmS XMR_binance_v5_9_3_clock ./cfgs_runtime/XMR.sh XMR\n",
      "\n",
      "screen -X -S TRX_binance_v5_9_3_clock kill\n",
      "chmod +x cfgs_runtime/TRX.sh\n",
      "screen -dmS TRX_binance_v5_9_3_clock ./cfgs_runtime/TRX.sh TRX\n",
      "\n",
      "screen -X -S ALGO_binance_v5_9_3_clock kill\n",
      "chmod +x cfgs_runtime/ALGO.sh\n",
      "screen -dmS ALGO_binance_v5_9_3_clock ./cfgs_runtime/ALGO.sh ALGO\n",
      "\n",
      "screen -X -S COMP_binance_v5_9_3_clock kill\n",
      "chmod +x cfgs_runtime/COMP.sh\n",
      "screen -dmS COMP_binance_v5_9_3_clock ./cfgs_runtime/COMP.sh COMP\n",
      "\n",
      "screen -X -S RUNE_binance_v5_9_3_clock kill\n",
      "chmod +x cfgs_runtime/RUNE.sh\n",
      "screen -dmS RUNE_binance_v5_9_3_clock ./cfgs_runtime/RUNE.sh RUNE\n",
      "\n",
      "screen -X -S NEAR_binance_v5_9_3_clock kill\n",
      "chmod +x cfgs_runtime/NEAR.sh\n",
      "screen -dmS NEAR_binance_v5_9_3_clock ./cfgs_runtime/NEAR.sh NEAR\n",
      "\n",
      "screen -X -S GALA_binance_v5_9_3_clock kill\n",
      "chmod +x cfgs_runtime/GALA.sh\n",
      "screen -dmS GALA_binance_v5_9_3_clock ./cfgs_runtime/GALA.sh GALA\n",
      "\n",
      "screen -X -S GMT_binance_v5_9_3_clock kill\n",
      "chmod +x cfgs_runtime/GMT.sh\n",
      "screen -dmS GMT_binance_v5_9_3_clock ./cfgs_runtime/GMT.sh GMT\n",
      "\n",
      "screen -X -S AVAX_binance_v5_9_3_clock kill\n",
      "chmod +x cfgs_runtime/AVAX.sh\n",
      "screen -dmS AVAX_binance_v5_9_3_clock ./cfgs_runtime/AVAX.sh AVAX\n",
      "\n",
      "screen -X -S BTC_binance_v5_9_3_clock kill\n",
      "chmod +x cfgs_runtime/BTC.sh\n",
      "screen -dmS BTC_binance_v5_9_3_clock ./cfgs_runtime/BTC.sh BTC\n"
     ]
    }
   ],
   "source": [
    "\n",
    "\n",
    "with open('run_template.sh') as f:\n",
    "    run_template = f.read()\n",
    "\n",
    "start_template = 'screen -X -S {symbol}_binance_v5_9_3_clock kill\\n' \\\n",
    "                 'chmod +x cfgs_runtime/{symbol}.sh\\n' \\\n",
    "                 'screen -dmS {symbol}_binance_v5_9_3_clock ./cfgs_runtime/{symbol}.sh {symbol}'\n",
    "start_commands =[]\n",
    "for index, row in config.iterrows():\n",
    "    dir = f'cfgs_runtime/'\n",
    "    run_command = f'-sm {row[\"short_mode\"]} -sw {row[\"short_exposure\"]} -lm {row[\"long_mode\"]} -lw {row[\"long_exposure\"]} '\n",
    "    full_run_command = run_template.format(command = run_command)\n",
    "    #print(full_run_command)\n",
    "    with open(f'{dir}/{row[\"symbol\"]}.sh','w') as writer:\n",
    "        writer.write(full_run_command)\n",
    "\n",
    "    start_commands.append(start_template.format(symbol = row[\"symbol\"]))\n",
    "\n",
    "full_start_command = \"\\n\\n\".join(map(str,start_commands))\n",
    "print(full_start_command)\n",
    "with open(f'start.sh','w') as writer:\n",
    "        writer.write(full_start_command)"
   ],
   "metadata": {
    "collapsed": false,
    "ExecuteTime": {
     "end_time": "2023-08-12T11:10:50.334027200Z",
     "start_time": "2023-08-12T11:10:50.116137400Z"
    }
   }
  },
  {
   "cell_type": "markdown",
   "source": [],
   "metadata": {
    "collapsed": false
   }
  },
  {
   "cell_type": "markdown",
   "source": [
    "## moved to analyze__live__result_of_current_config.ipynb"
   ],
   "metadata": {
    "collapsed": false
   }
  },
  {
   "cell_type": "code",
   "execution_count": 7,
   "outputs": [],
   "source": [
    "\n",
    "\n"
   ],
   "metadata": {
    "collapsed": false,
    "ExecuteTime": {
     "end_time": "2023-08-12T11:10:50.334027200Z",
     "start_time": "2023-08-12T11:10:50.179026800Z"
    }
   }
  },
  {
   "cell_type": "code",
   "execution_count": 7,
   "outputs": [],
   "source": [],
   "metadata": {
    "collapsed": false,
    "ExecuteTime": {
     "end_time": "2023-08-12T11:10:50.334027200Z",
     "start_time": "2023-08-12T11:10:50.195030100Z"
    }
   }
  }
 ],
 "metadata": {
  "kernelspec": {
   "display_name": "Python 3",
   "language": "python",
   "name": "python3"
  },
  "language_info": {
   "codemirror_mode": {
    "name": "ipython",
    "version": 2
   },
   "file_extension": ".py",
   "mimetype": "text/x-python",
   "name": "python",
   "nbconvert_exporter": "python",
   "pygments_lexer": "ipython2",
   "version": "2.7.6"
  }
 },
 "nbformat": 4,
 "nbformat_minor": 0
}
