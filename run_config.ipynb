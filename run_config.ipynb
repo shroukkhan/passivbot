{
 "cells": [
  {
   "cell_type": "code",
   "execution_count": 1,
   "metadata": {
    "collapsed": true,
    "pycharm": {
     "name": "#%%\n"
    }
   },
   "outputs": [],
   "source": [
    "%load_ext autoreload\n",
    "%autoreload 2"
   ]
  },
  {
   "cell_type": "code",
   "execution_count": 2,
   "outputs": [
    {
     "data": {
      "text/plain": "13"
     },
     "execution_count": 2,
     "metadata": {},
     "output_type": "execute_result"
    }
   ],
   "source": [
    "import glob\n",
    "\n",
    "live_config_files = glob.glob('cfgs_live/*', recursive=True)\n",
    "symbols = []\n",
    "symbol_files = {}\n",
    "for f in live_config_files:\n",
    "    symbol = f.split('\\\\')[-1]\n",
    "    symbol = symbol.replace('.json', 'USDT')\n",
    "    symbols.append(symbol)\n",
    "    symbol_files[symbol] = f\n",
    "# symbol_files\n",
    "len(symbols)"
   ],
   "metadata": {
    "collapsed": false,
    "pycharm": {
     "name": "#%%\n"
    }
   }
  },
  {
   "cell_type": "code",
   "execution_count": 2,
   "outputs": [],
   "source": [],
   "metadata": {
    "collapsed": false,
    "pycharm": {
     "name": "#%%\n"
    }
   }
  },
  {
   "cell_type": "code",
   "execution_count": 3,
   "outputs": [],
   "source": [
    "# start_files = ['start_long_only.sh', 'start_long_short.sh']\n",
    "# long_symbols = []\n",
    "# short_symbols = []\n",
    "# for filename in start_files:\n",
    "#     with open(filename, 'r') as file:\n",
    "#         lines = file.read().split('\\n')\n",
    "#         for l in lines:\n",
    "#             if 'screen -dmS ' in l:\n",
    "#                 symbol = l.strip().split(\" \")[-1]\n",
    "#                 long_symbols.append(symbol) if filename == 'start_long_only.sh' else short_symbols.append(symbol)\n",
    "#\n",
    "# common_in_both = list(set(long_symbols).intersection(short_symbols))\n",
    "# print(f'common_in_both : {common_in_both}')\n",
    "#\n",
    "# seen = set()\n",
    "# long_dups = [x for x in long_symbols if x in seen or seen.add(x)]\n",
    "# print(f'long_dups : {long_dups}')\n",
    "# seen = set()\n",
    "# short_dups = [x for x in short_symbols if x in seen or seen.add(x)]\n",
    "# print(f'short_dups : {short_dups}')\n",
    "#\n",
    "# print(f'total: {len(symbols)}')\n",
    "# print(f'long: {len(long_symbols)}')\n",
    "# print(f'short: {len(short_symbols)}')\n",
    "#\n",
    "# if len(long_symbols) + len(short_symbols) != len(symbols):\n",
    "#     print('Lengths DONT MATCH!')\n",
    "# else:\n",
    "#     print(f'No duplicate found')"
   ],
   "metadata": {
    "collapsed": false,
    "pycharm": {
     "name": "#%%\n"
    }
   }
  },
  {
   "cell_type": "code",
   "execution_count": 4,
   "outputs": [
    {
     "name": "stdout",
     "output_type": "stream",
     "text": [
      "short_exposure: 0.3600000000000001, long_exposure:0.4799999999999999, total:0.8400000000000001\n"
     ]
    }
   ],
   "source": [
    "import pandas as pd\n",
    "config = pd.read_csv('run_config.csv')\n",
    "#shorts = config[(config['short_mode'] == 'p')]\n",
    "short_exposure = config.loc[config['short_mode'] == 'n', 'short_exposure'].sum()\n",
    "long_exposure = config.loc[config['long_mode'] == 'n', 'long_exposure'].sum()\n",
    "\n",
    "total = short_exposure + long_exposure\n",
    "print(f'short_exposure: {short_exposure}, long_exposure:{long_exposure}, total:{total}')"
   ],
   "metadata": {
    "collapsed": false,
    "pycharm": {
     "name": "#%%\n"
    }
   }
  },
  {
   "cell_type": "code",
   "execution_count": 5,
   "outputs": [
    {
     "data": {
      "text/plain": "    Unnamed: 0 symbol   direction long_mode short_mode  long_exposure  \\\n0            0   DOGE  long_short         n          n           0.04   \n1            1   HBAR  long_short         n          n           0.04   \n2            2   LINK  long_short         n          n           0.04   \n3            3  MATIC  long_short         n          n           0.04   \n4            4    XRP  long_short         n          n           0.04   \n5            5   ATOM  long_short         n          n           0.04   \n6            6    EOS  long_short         n          n           0.04   \n7            7    CHZ  long_short         n          n           0.04   \n8            8    DOT  long_short        tp         tp           0.04   \n9            9    XMR  long_short         n          n           0.04   \n10          10    XTZ  long_short         n          n           0.04   \n11          11   NEAR  long_short         n          n           0.04   \n12          12   SAND  long_short         n          n           0.04   \n\n    short_exposure     account  \n0             0.03  binance_01  \n1             0.03  binance_01  \n2             0.03  binance_01  \n3             0.03  binance_01  \n4             0.03  binance_01  \n5             0.03  binance_01  \n6             0.03  binance_01  \n7             0.03  binance_01  \n8             0.03  binance_01  \n9             0.03  binance_01  \n10            0.03  binance_01  \n11            0.03  binance_01  \n12            0.03  binance_01  ",
      "text/html": "<div>\n<style scoped>\n    .dataframe tbody tr th:only-of-type {\n        vertical-align: middle;\n    }\n\n    .dataframe tbody tr th {\n        vertical-align: top;\n    }\n\n    .dataframe thead th {\n        text-align: right;\n    }\n</style>\n<table border=\"1\" class=\"dataframe\">\n  <thead>\n    <tr style=\"text-align: right;\">\n      <th></th>\n      <th>Unnamed: 0</th>\n      <th>symbol</th>\n      <th>direction</th>\n      <th>long_mode</th>\n      <th>short_mode</th>\n      <th>long_exposure</th>\n      <th>short_exposure</th>\n      <th>account</th>\n    </tr>\n  </thead>\n  <tbody>\n    <tr>\n      <th>0</th>\n      <td>0</td>\n      <td>DOGE</td>\n      <td>long_short</td>\n      <td>n</td>\n      <td>n</td>\n      <td>0.04</td>\n      <td>0.03</td>\n      <td>binance_01</td>\n    </tr>\n    <tr>\n      <th>1</th>\n      <td>1</td>\n      <td>HBAR</td>\n      <td>long_short</td>\n      <td>n</td>\n      <td>n</td>\n      <td>0.04</td>\n      <td>0.03</td>\n      <td>binance_01</td>\n    </tr>\n    <tr>\n      <th>2</th>\n      <td>2</td>\n      <td>LINK</td>\n      <td>long_short</td>\n      <td>n</td>\n      <td>n</td>\n      <td>0.04</td>\n      <td>0.03</td>\n      <td>binance_01</td>\n    </tr>\n    <tr>\n      <th>3</th>\n      <td>3</td>\n      <td>MATIC</td>\n      <td>long_short</td>\n      <td>n</td>\n      <td>n</td>\n      <td>0.04</td>\n      <td>0.03</td>\n      <td>binance_01</td>\n    </tr>\n    <tr>\n      <th>4</th>\n      <td>4</td>\n      <td>XRP</td>\n      <td>long_short</td>\n      <td>n</td>\n      <td>n</td>\n      <td>0.04</td>\n      <td>0.03</td>\n      <td>binance_01</td>\n    </tr>\n    <tr>\n      <th>5</th>\n      <td>5</td>\n      <td>ATOM</td>\n      <td>long_short</td>\n      <td>n</td>\n      <td>n</td>\n      <td>0.04</td>\n      <td>0.03</td>\n      <td>binance_01</td>\n    </tr>\n    <tr>\n      <th>6</th>\n      <td>6</td>\n      <td>EOS</td>\n      <td>long_short</td>\n      <td>n</td>\n      <td>n</td>\n      <td>0.04</td>\n      <td>0.03</td>\n      <td>binance_01</td>\n    </tr>\n    <tr>\n      <th>7</th>\n      <td>7</td>\n      <td>CHZ</td>\n      <td>long_short</td>\n      <td>n</td>\n      <td>n</td>\n      <td>0.04</td>\n      <td>0.03</td>\n      <td>binance_01</td>\n    </tr>\n    <tr>\n      <th>8</th>\n      <td>8</td>\n      <td>DOT</td>\n      <td>long_short</td>\n      <td>tp</td>\n      <td>tp</td>\n      <td>0.04</td>\n      <td>0.03</td>\n      <td>binance_01</td>\n    </tr>\n    <tr>\n      <th>9</th>\n      <td>9</td>\n      <td>XMR</td>\n      <td>long_short</td>\n      <td>n</td>\n      <td>n</td>\n      <td>0.04</td>\n      <td>0.03</td>\n      <td>binance_01</td>\n    </tr>\n    <tr>\n      <th>10</th>\n      <td>10</td>\n      <td>XTZ</td>\n      <td>long_short</td>\n      <td>n</td>\n      <td>n</td>\n      <td>0.04</td>\n      <td>0.03</td>\n      <td>binance_01</td>\n    </tr>\n    <tr>\n      <th>11</th>\n      <td>11</td>\n      <td>NEAR</td>\n      <td>long_short</td>\n      <td>n</td>\n      <td>n</td>\n      <td>0.04</td>\n      <td>0.03</td>\n      <td>binance_01</td>\n    </tr>\n    <tr>\n      <th>12</th>\n      <td>12</td>\n      <td>SAND</td>\n      <td>long_short</td>\n      <td>n</td>\n      <td>n</td>\n      <td>0.04</td>\n      <td>0.03</td>\n      <td>binance_01</td>\n    </tr>\n  </tbody>\n</table>\n</div>"
     },
     "execution_count": 5,
     "metadata": {},
     "output_type": "execute_result"
    }
   ],
   "source": [
    "\n",
    "config = pd.read_csv('run_config.csv')\n",
    "#config.loc[config['short_mode'] == 'n', 'short_exposure'] = 0.025\n",
    "#config.loc[config['long_mode'] == 'n', 'long_exposure'] = 0.03\n",
    "#\n",
    "# short_exposure = config.loc[config['short_mode'] == 'n', 'short_exposure'].sum()\n",
    "# long_exposure = config.loc[config['long_mode'] == 'n', 'long_exposure'].sum()\n",
    "#\n",
    "# total = short_exposure + long_exposure\n",
    "# print(f'short_exposure: {short_exposure}, long_exposure:{long_exposure}, total:{total}')\n",
    "\n",
    "#config = pd.DataFrame()\n",
    "\n",
    "# for symbol in long_symbols:\n",
    "#     config = config.append({\n",
    "#         'symbol':symbol,\n",
    "#         'direction':'long',\n",
    "#         'long_mode':'n',\n",
    "#         'short_mode':'p',\n",
    "#         'long_exposure':0.035,\n",
    "#         'short_exposure':0.0\n",
    "#     }, ignore_index=True)\n",
    "#\n",
    "# for symbol in short_symbols:\n",
    "#     config = config.append({\n",
    "#         'symbol':symbol,\n",
    "#         'direction':'long_short',\n",
    "#         'long_mode':'n',\n",
    "#         'short_mode':'n',\n",
    "#         'long_exposure':0.035,\n",
    "#         'short_exposure':0.02\n",
    "#     }, ignore_index=True)\n",
    "#config.loc[config['short_mode'] == 'p', 'short_mode'] = 'm'\n",
    "#config.loc[config['long_mode'] == 'p', 'long_mode'] = 'm'\n",
    "#config.to_csv('run_config.csv')\n",
    "config"
   ],
   "metadata": {
    "collapsed": false,
    "pycharm": {
     "name": "#%%\n"
    }
   }
  },
  {
   "cell_type": "code",
   "execution_count": 6,
   "outputs": [
    {
     "data": {
      "text/plain": "    Unnamed: 0 symbol   direction long_mode short_mode  long_exposure  \\\n0            0   DOGE  long_short         n          n           0.04   \n1            1   HBAR  long_short         n          n           0.04   \n2            2   LINK  long_short         n          n           0.04   \n3            3  MATIC  long_short         n          n           0.04   \n4            4    XRP  long_short         n          n           0.04   \n5            5   ATOM  long_short         n          n           0.04   \n6            6    EOS  long_short         n          n           0.04   \n7            7    CHZ  long_short         n          n           0.04   \n8            8    DOT  long_short        tp         tp           0.04   \n9            9    XMR  long_short         n          n           0.04   \n10          10    XTZ  long_short         n          n           0.04   \n11          11   NEAR  long_short         n          n           0.04   \n12          12   SAND  long_short         n          n           0.04   \n\n    short_exposure     account  \n0             0.03  binance_01  \n1             0.03  binance_01  \n2             0.03  binance_01  \n3             0.03  binance_01  \n4             0.03  binance_01  \n5             0.03  binance_01  \n6             0.03  binance_01  \n7             0.03  binance_01  \n8             0.03  binance_01  \n9             0.03  binance_01  \n10            0.03  binance_01  \n11            0.03  binance_01  \n12            0.03  binance_01  ",
      "text/html": "<div>\n<style scoped>\n    .dataframe tbody tr th:only-of-type {\n        vertical-align: middle;\n    }\n\n    .dataframe tbody tr th {\n        vertical-align: top;\n    }\n\n    .dataframe thead th {\n        text-align: right;\n    }\n</style>\n<table border=\"1\" class=\"dataframe\">\n  <thead>\n    <tr style=\"text-align: right;\">\n      <th></th>\n      <th>Unnamed: 0</th>\n      <th>symbol</th>\n      <th>direction</th>\n      <th>long_mode</th>\n      <th>short_mode</th>\n      <th>long_exposure</th>\n      <th>short_exposure</th>\n      <th>account</th>\n    </tr>\n  </thead>\n  <tbody>\n    <tr>\n      <th>0</th>\n      <td>0</td>\n      <td>DOGE</td>\n      <td>long_short</td>\n      <td>n</td>\n      <td>n</td>\n      <td>0.04</td>\n      <td>0.03</td>\n      <td>binance_01</td>\n    </tr>\n    <tr>\n      <th>1</th>\n      <td>1</td>\n      <td>HBAR</td>\n      <td>long_short</td>\n      <td>n</td>\n      <td>n</td>\n      <td>0.04</td>\n      <td>0.03</td>\n      <td>binance_01</td>\n    </tr>\n    <tr>\n      <th>2</th>\n      <td>2</td>\n      <td>LINK</td>\n      <td>long_short</td>\n      <td>n</td>\n      <td>n</td>\n      <td>0.04</td>\n      <td>0.03</td>\n      <td>binance_01</td>\n    </tr>\n    <tr>\n      <th>3</th>\n      <td>3</td>\n      <td>MATIC</td>\n      <td>long_short</td>\n      <td>n</td>\n      <td>n</td>\n      <td>0.04</td>\n      <td>0.03</td>\n      <td>binance_01</td>\n    </tr>\n    <tr>\n      <th>4</th>\n      <td>4</td>\n      <td>XRP</td>\n      <td>long_short</td>\n      <td>n</td>\n      <td>n</td>\n      <td>0.04</td>\n      <td>0.03</td>\n      <td>binance_01</td>\n    </tr>\n    <tr>\n      <th>5</th>\n      <td>5</td>\n      <td>ATOM</td>\n      <td>long_short</td>\n      <td>n</td>\n      <td>n</td>\n      <td>0.04</td>\n      <td>0.03</td>\n      <td>binance_01</td>\n    </tr>\n    <tr>\n      <th>6</th>\n      <td>6</td>\n      <td>EOS</td>\n      <td>long_short</td>\n      <td>n</td>\n      <td>n</td>\n      <td>0.04</td>\n      <td>0.03</td>\n      <td>binance_01</td>\n    </tr>\n    <tr>\n      <th>7</th>\n      <td>7</td>\n      <td>CHZ</td>\n      <td>long_short</td>\n      <td>n</td>\n      <td>n</td>\n      <td>0.04</td>\n      <td>0.03</td>\n      <td>binance_01</td>\n    </tr>\n    <tr>\n      <th>8</th>\n      <td>8</td>\n      <td>DOT</td>\n      <td>long_short</td>\n      <td>tp</td>\n      <td>tp</td>\n      <td>0.04</td>\n      <td>0.03</td>\n      <td>binance_01</td>\n    </tr>\n    <tr>\n      <th>9</th>\n      <td>9</td>\n      <td>XMR</td>\n      <td>long_short</td>\n      <td>n</td>\n      <td>n</td>\n      <td>0.04</td>\n      <td>0.03</td>\n      <td>binance_01</td>\n    </tr>\n    <tr>\n      <th>10</th>\n      <td>10</td>\n      <td>XTZ</td>\n      <td>long_short</td>\n      <td>n</td>\n      <td>n</td>\n      <td>0.04</td>\n      <td>0.03</td>\n      <td>binance_01</td>\n    </tr>\n    <tr>\n      <th>11</th>\n      <td>11</td>\n      <td>NEAR</td>\n      <td>long_short</td>\n      <td>n</td>\n      <td>n</td>\n      <td>0.04</td>\n      <td>0.03</td>\n      <td>binance_01</td>\n    </tr>\n    <tr>\n      <th>12</th>\n      <td>12</td>\n      <td>SAND</td>\n      <td>long_short</td>\n      <td>n</td>\n      <td>n</td>\n      <td>0.04</td>\n      <td>0.03</td>\n      <td>binance_01</td>\n    </tr>\n  </tbody>\n</table>\n</div>"
     },
     "execution_count": 6,
     "metadata": {},
     "output_type": "execute_result"
    }
   ],
   "source": [
    "# #### DCA Helper\n",
    "# z_dca_long = pd.read_csv('0dca.csv')\n",
    "# z_dca_long = z_dca_long[(z_dca_long['Exposure'] >= 0.04)]\n",
    "#\n",
    "# z_dca_long_symbols = z_dca_long['symbol'].tolist()\n",
    "# z_dca_long_symbols = [w.replace('USDT','') for w in z_dca_long_symbols]\n",
    "# print(z_dca_long_symbols)\n",
    "# config.loc[config.symbol.isin(z_dca_long_symbols), 'long_mode'] = 'm'\n",
    "# #config.to_csv('run_config.csv')\n",
    "config"
   ],
   "metadata": {
    "collapsed": false,
    "pycharm": {
     "name": "#%%\n"
    }
   }
  },
  {
   "cell_type": "code",
   "execution_count": 7,
   "outputs": [
    {
     "name": "stdout",
     "output_type": "stream",
     "text": [
      "screen -X -S DOGE_binance kill\n",
      "chmod +x cfgs_runtime/DOGE.sh\n",
      "screen -dmS DOGE_binance ./cfgs_runtime/DOGE.sh DOGE\n",
      "\n",
      "screen -X -S HBAR_binance kill\n",
      "chmod +x cfgs_runtime/HBAR.sh\n",
      "screen -dmS HBAR_binance ./cfgs_runtime/HBAR.sh HBAR\n",
      "\n",
      "screen -X -S LINK_binance kill\n",
      "chmod +x cfgs_runtime/LINK.sh\n",
      "screen -dmS LINK_binance ./cfgs_runtime/LINK.sh LINK\n",
      "\n",
      "screen -X -S MATIC_binance kill\n",
      "chmod +x cfgs_runtime/MATIC.sh\n",
      "screen -dmS MATIC_binance ./cfgs_runtime/MATIC.sh MATIC\n",
      "\n",
      "screen -X -S XRP_binance kill\n",
      "chmod +x cfgs_runtime/XRP.sh\n",
      "screen -dmS XRP_binance ./cfgs_runtime/XRP.sh XRP\n",
      "\n",
      "screen -X -S ATOM_binance kill\n",
      "chmod +x cfgs_runtime/ATOM.sh\n",
      "screen -dmS ATOM_binance ./cfgs_runtime/ATOM.sh ATOM\n",
      "\n",
      "screen -X -S EOS_binance kill\n",
      "chmod +x cfgs_runtime/EOS.sh\n",
      "screen -dmS EOS_binance ./cfgs_runtime/EOS.sh EOS\n",
      "\n",
      "screen -X -S CHZ_binance kill\n",
      "chmod +x cfgs_runtime/CHZ.sh\n",
      "screen -dmS CHZ_binance ./cfgs_runtime/CHZ.sh CHZ\n",
      "\n",
      "screen -X -S DOT_binance kill\n",
      "chmod +x cfgs_runtime/DOT.sh\n",
      "screen -dmS DOT_binance ./cfgs_runtime/DOT.sh DOT\n",
      "\n",
      "screen -X -S XMR_binance kill\n",
      "chmod +x cfgs_runtime/XMR.sh\n",
      "screen -dmS XMR_binance ./cfgs_runtime/XMR.sh XMR\n",
      "\n",
      "screen -X -S XTZ_binance kill\n",
      "chmod +x cfgs_runtime/XTZ.sh\n",
      "screen -dmS XTZ_binance ./cfgs_runtime/XTZ.sh XTZ\n",
      "\n",
      "screen -X -S NEAR_binance kill\n",
      "chmod +x cfgs_runtime/NEAR.sh\n",
      "screen -dmS NEAR_binance ./cfgs_runtime/NEAR.sh NEAR\n",
      "\n",
      "screen -X -S SAND_binance kill\n",
      "chmod +x cfgs_runtime/SAND.sh\n",
      "screen -dmS SAND_binance ./cfgs_runtime/SAND.sh SAND\n"
     ]
    }
   ],
   "source": [
    "import os\n",
    "import shutil\n",
    "\n",
    "with open('run_template.sh') as f:\n",
    "    run_template = f.read()\n",
    "\n",
    "start_template = 'screen -X -S {symbol}_binance kill\\n' \\\n",
    "                 'chmod +x cfgs_runtime/{symbol}.sh\\n' \\\n",
    "                 'screen -dmS {symbol}_binance ./cfgs_runtime/{symbol}.sh {symbol}'\n",
    "start_commands =[]\n",
    "for index, row in config.iterrows():\n",
    "    dir = f'cfgs_runtime/'\n",
    "    run_command = f'-sm {row[\"short_mode\"]} -sw {row[\"short_exposure\"]} -lm {row[\"long_mode\"]} -lw {row[\"long_exposure\"]}'\n",
    "    full_run_command = run_template.format(command = run_command)\n",
    "    #print(full_run_command)\n",
    "    with open(f'{dir}/{row[\"symbol\"]}.sh','w') as writer:\n",
    "        writer.write(full_run_command)\n",
    "\n",
    "    start_commands.append(start_template.format(symbol = row[\"symbol\"]))\n",
    "\n",
    "full_start_command = \"\\n\\n\".join(map(str,start_commands))\n",
    "print(full_start_command)\n",
    "with open(f'start.sh','w') as writer:\n",
    "        writer.write(full_start_command)"
   ],
   "metadata": {
    "collapsed": false,
    "pycharm": {
     "name": "#%%\n"
    }
   }
  },
  {
   "cell_type": "markdown",
   "source": [],
   "metadata": {
    "collapsed": false,
    "pycharm": {
     "name": "#%% md\n"
    }
   }
  },
  {
   "cell_type": "code",
   "execution_count": 8,
   "outputs": [
    {
     "name": "stdout",
     "output_type": "stream",
     "text": [
      "coins: 13, longs:12, shorts:12 , ratio:1.0\n"
     ]
    },
    {
     "data": {
      "text/plain": "0.5208333333333333"
     },
     "execution_count": 8,
     "metadata": {},
     "output_type": "execute_result"
    }
   ],
   "source": [
    "total_wallet = 574.30\n",
    "margin = 8\n",
    "coins = config.shape[0]\n",
    "longs = config[(config['long_mode'] == 'n')].shape[0]\n",
    "shorts = config[(config['short_mode'] == 'n')].shape[0]\n",
    "\n",
    "ratio = shorts/longs\n",
    "\n",
    "total_exposure = longs+shorts\n",
    "total_wallet_with_margin = total_wallet * margin\n",
    "per_entry = total_wallet_with_margin / total_exposure\n",
    "money_cost = total_wallet / total_exposure\n",
    "\n",
    "exposure = money_cost / margin\n",
    "\n",
    "xxx = (exposure / total_wallet) * 100\n",
    "\n",
    "print(f'coins: {coins}, longs:{longs}, shorts:{shorts} , ratio:{ratio}')\n",
    "xxx"
   ],
   "metadata": {
    "collapsed": false,
    "pycharm": {
     "name": "#%%\n"
    }
   }
  },
  {
   "cell_type": "code",
   "execution_count": 8,
   "outputs": [],
   "source": [
    "\n",
    "\n"
   ],
   "metadata": {
    "collapsed": false,
    "pycharm": {
     "name": "#%%\n"
    }
   }
  },
  {
   "cell_type": "code",
   "execution_count": 8,
   "outputs": [],
   "source": [],
   "metadata": {
    "collapsed": false,
    "pycharm": {
     "name": "#%%\n"
    }
   }
  }
 ],
 "metadata": {
  "kernelspec": {
   "display_name": "Python 3",
   "language": "python",
   "name": "python3"
  },
  "language_info": {
   "codemirror_mode": {
    "name": "ipython",
    "version": 2
   },
   "file_extension": ".py",
   "mimetype": "text/x-python",
   "name": "python",
   "nbconvert_exporter": "python",
   "pygments_lexer": "ipython2",
   "version": "2.7.6"
  }
 },
 "nbformat": 4,
 "nbformat_minor": 0
}